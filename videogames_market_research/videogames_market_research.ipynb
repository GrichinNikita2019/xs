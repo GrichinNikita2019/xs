{
  "cells": [
    {
      "cell_type": "markdown",
      "metadata": {
        "id": "view-in-github",
        "colab_type": "text"
      },
      "source": [
        "<a href=\"https://colab.research.google.com/github/GrichinNikita2019/yandex_praktikum_da/blob/main/videogames_market_research/videogames_market_research.ipynb\" target=\"_parent\"><img src=\"https://colab.research.google.com/assets/colab-badge.svg\" alt=\"Open In Colab\"/></a>"
      ]
    },
    {
      "cell_type": "markdown",
      "metadata": {
        "id": "t04kHZ43qhfM"
      },
      "source": [
        "# Определение потенциально популярной игры\n",
        "\n",
        "Вы работаете в интернет-магазине «Стримчик», который продаёт по всему миру компьютерные игры. Из открытых источников доступны исторические данные о продажах игр, оценки пользователей и экспертов, жанры и платформы (например, Xbox или PlayStation). Вам нужно выявить определяющие успешность игры закономерности. Это позволит сделать ставку на потенциально популярный продукт и спланировать рекламные кампании.\n",
        "\n",
        "\n",
        "Перед вами данные до 2016 года. Представим, что сейчас декабрь 2016 г., и вы планируете кампанию на 2017-й. Нужно отработать принцип работы с данными. Неважно, прогнозируете ли вы продажи на 2017 год по данным 2016-го или же 2027-й — по данным 2026 года.\n",
        "В наборе данных попадается аббревиатура ESRB (Entertainment Software Rating Board) — это ассоциация, определяющая возрастной рейтинг компьютерных игр. ESRB оценивает игровой контент и присваивает ему подходящую возрастную категорию, например, «Для взрослых», «Для детей младшего возраста» или «Для подростков».\n",
        "\n",
        "\n",
        "**Задачей проекта является поиск ответов на следующие вопросы:**\n",
        "1. Сколько игр выпускалось в разные годы?\n",
        "2. Как менялись продажи по платформам?\n",
        "3. За какой характерный срок появляются новые и исчезают старые платформы? \n",
        "4. Какие платформы лидируют по продажам, растут или падают?\n",
        "5. Как влияют на продажи внутри одной популярной платформы отзывы пользователей и критиков?\n",
        "6. Что можно сказать о самых прибыльных жанрах? Выделяются ли жанры с высокими и низкими продажами?\n",
        "\n",
        "**План работы:**\n",
        "1. Шаг 1. Открыть файлы с данными и изучить общую информацию\n",
        "2. Шаг 2. Осуществить предобработку данных (заменить названия столбцов, обработать пропуски, заменить типы данных)\n",
        "3. Шаг 3. Ответить на вопросы, поставленные в задачах\n",
        "4. Шаг 4. Сформулировать общий вывод\n",
        "\n",
        "**Описание данных:**\n",
        "\n",
        "* Name — *название игры*\n",
        "* Platform — *платформа*\n",
        "* Year_of_Release — *год выпуска*\n",
        "* Genre — *жанр игры*\n",
        "* NA_sales — *продажи в Северной Америке (миллионы проданных копий)*\n",
        "* EU_sales — *продажи в Европе (миллионы проданных копий)*\n",
        "* JP_sales — *продажи в Японии (миллионы проданных копий)*\n",
        "* Other_sales — *продажи в других странах (миллионы проданных копий)*\n",
        "* Critic_Score — *оценка критиков (максимум 100)*\n",
        "* User_Score — *оценка пользователей (максимум 10)*\n",
        "* Rating — *рейтинг от организации ESRB (англ. Entertainment Software Rating Board). Эта ассоциация определяет рейтинг компьютерных игр и присваивает им подходящую возрастную категорию.*"
      ]
    },
    {
      "cell_type": "markdown",
      "metadata": {
        "id": "VTFlUUgjqhfU"
      },
      "source": [
        "## Изучение данных из файла"
      ]
    },
    {
      "cell_type": "code",
      "execution_count": null,
      "metadata": {
        "id": "k3MQmZbfqhfV"
      },
      "outputs": [],
      "source": [
        "import pandas as pd\n",
        "import numpy as np\n",
        "import matplotlib.pyplot as plt\n",
        "from scipy import stats as st\n",
        "import warnings\n",
        "import pylab"
      ]
    },
    {
      "cell_type": "code",
      "execution_count": null,
      "metadata": {
        "id": "QeS9TtfnqhfX"
      },
      "outputs": [],
      "source": [
        "pd.options.display.float_format = '{:,.2f}'.format\n",
        "pd.set_option('display.float_format', lambda x: '%.3f' % x)\n",
        "%matplotlib inline\n",
        "warnings.filterwarnings('ignore')"
      ]
    },
    {
      "cell_type": "code",
      "execution_count": null,
      "metadata": {
        "id": "a9GDugb8qhfY"
      },
      "outputs": [],
      "source": [
        "df = pd.read_csv('/datasets/games.csv')"
      ]
    },
    {
      "cell_type": "markdown",
      "metadata": {
        "id": "SHUltQqpqhfY"
      },
      "source": [
        "### Приведение заголовков к нижнему реестру"
      ]
    },
    {
      "cell_type": "code",
      "execution_count": null,
      "metadata": {
        "scrolled": true,
        "id": "t-9tdoRbqhfZ",
        "outputId": "526fbe6b-65ee-4155-9f45-a05bd9407116"
      },
      "outputs": [
        {
          "data": {
            "text/html": [
              "<div>\n",
              "<style scoped>\n",
              "    .dataframe tbody tr th:only-of-type {\n",
              "        vertical-align: middle;\n",
              "    }\n",
              "\n",
              "    .dataframe tbody tr th {\n",
              "        vertical-align: top;\n",
              "    }\n",
              "\n",
              "    .dataframe thead th {\n",
              "        text-align: right;\n",
              "    }\n",
              "</style>\n",
              "<table border=\"1\" class=\"dataframe\">\n",
              "  <thead>\n",
              "    <tr style=\"text-align: right;\">\n",
              "      <th></th>\n",
              "      <th>Name</th>\n",
              "      <th>Platform</th>\n",
              "      <th>Year_of_Release</th>\n",
              "      <th>Genre</th>\n",
              "      <th>NA_sales</th>\n",
              "      <th>EU_sales</th>\n",
              "      <th>JP_sales</th>\n",
              "      <th>Other_sales</th>\n",
              "      <th>Critic_Score</th>\n",
              "      <th>User_Score</th>\n",
              "      <th>Rating</th>\n",
              "    </tr>\n",
              "  </thead>\n",
              "  <tbody>\n",
              "    <tr>\n",
              "      <td>15167</td>\n",
              "      <td>SimCity Societies</td>\n",
              "      <td>PC</td>\n",
              "      <td>2007.000</td>\n",
              "      <td>Simulation</td>\n",
              "      <td>0.000</td>\n",
              "      <td>0.020</td>\n",
              "      <td>0.000</td>\n",
              "      <td>0.000</td>\n",
              "      <td>63.000</td>\n",
              "      <td>4.3</td>\n",
              "      <td>E10+</td>\n",
              "    </tr>\n",
              "    <tr>\n",
              "      <td>11883</td>\n",
              "      <td>Hearts of Iron III</td>\n",
              "      <td>PC</td>\n",
              "      <td>2009.000</td>\n",
              "      <td>Strategy</td>\n",
              "      <td>0.020</td>\n",
              "      <td>0.040</td>\n",
              "      <td>0.000</td>\n",
              "      <td>0.010</td>\n",
              "      <td>77.000</td>\n",
              "      <td>7.1</td>\n",
              "      <td>E10+</td>\n",
              "    </tr>\n",
              "    <tr>\n",
              "      <td>13080</td>\n",
              "      <td>Legend of Kay</td>\n",
              "      <td>WiiU</td>\n",
              "      <td>2015.000</td>\n",
              "      <td>Action</td>\n",
              "      <td>0.030</td>\n",
              "      <td>0.020</td>\n",
              "      <td>0.000</td>\n",
              "      <td>0.000</td>\n",
              "      <td>nan</td>\n",
              "      <td>NaN</td>\n",
              "      <td>NaN</td>\n",
              "    </tr>\n",
              "    <tr>\n",
              "      <td>2470</td>\n",
              "      <td>Sniper Elite V2</td>\n",
              "      <td>X360</td>\n",
              "      <td>2012.000</td>\n",
              "      <td>Shooter</td>\n",
              "      <td>0.460</td>\n",
              "      <td>0.280</td>\n",
              "      <td>0.020</td>\n",
              "      <td>0.070</td>\n",
              "      <td>67.000</td>\n",
              "      <td>6.8</td>\n",
              "      <td>M</td>\n",
              "    </tr>\n",
              "    <tr>\n",
              "      <td>7657</td>\n",
              "      <td>Taiko no Tatsujin: Go! Go! Godaime</td>\n",
              "      <td>PS2</td>\n",
              "      <td>2004.000</td>\n",
              "      <td>Misc</td>\n",
              "      <td>0.000</td>\n",
              "      <td>0.000</td>\n",
              "      <td>0.200</td>\n",
              "      <td>0.000</td>\n",
              "      <td>nan</td>\n",
              "      <td>NaN</td>\n",
              "      <td>NaN</td>\n",
              "    </tr>\n",
              "    <tr>\n",
              "      <td>15339</td>\n",
              "      <td>Sugoi Hebereke</td>\n",
              "      <td>SNES</td>\n",
              "      <td>1994.000</td>\n",
              "      <td>Fighting</td>\n",
              "      <td>0.000</td>\n",
              "      <td>0.000</td>\n",
              "      <td>0.020</td>\n",
              "      <td>0.000</td>\n",
              "      <td>nan</td>\n",
              "      <td>NaN</td>\n",
              "      <td>NaN</td>\n",
              "    </tr>\n",
              "    <tr>\n",
              "      <td>11003</td>\n",
              "      <td>Monopoly Collection</td>\n",
              "      <td>Wii</td>\n",
              "      <td>2011.000</td>\n",
              "      <td>Misc</td>\n",
              "      <td>0.020</td>\n",
              "      <td>0.070</td>\n",
              "      <td>0.000</td>\n",
              "      <td>0.010</td>\n",
              "      <td>nan</td>\n",
              "      <td>tbd</td>\n",
              "      <td>E</td>\n",
              "    </tr>\n",
              "    <tr>\n",
              "      <td>9618</td>\n",
              "      <td>Jurassic: The Hunted</td>\n",
              "      <td>X360</td>\n",
              "      <td>2009.000</td>\n",
              "      <td>Shooter</td>\n",
              "      <td>0.120</td>\n",
              "      <td>0.000</td>\n",
              "      <td>0.000</td>\n",
              "      <td>0.010</td>\n",
              "      <td>60.000</td>\n",
              "      <td>7.2</td>\n",
              "      <td>T</td>\n",
              "    </tr>\n",
              "    <tr>\n",
              "      <td>539</td>\n",
              "      <td>Mortal Kombat X</td>\n",
              "      <td>PS4</td>\n",
              "      <td>2015.000</td>\n",
              "      <td>Fighting</td>\n",
              "      <td>1.500</td>\n",
              "      <td>0.800</td>\n",
              "      <td>0.000</td>\n",
              "      <td>0.480</td>\n",
              "      <td>83.000</td>\n",
              "      <td>7.7</td>\n",
              "      <td>M</td>\n",
              "    </tr>\n",
              "    <tr>\n",
              "      <td>6833</td>\n",
              "      <td>Just Dance Kids 2</td>\n",
              "      <td>PS3</td>\n",
              "      <td>2011.000</td>\n",
              "      <td>Misc</td>\n",
              "      <td>0.100</td>\n",
              "      <td>0.100</td>\n",
              "      <td>0.000</td>\n",
              "      <td>0.040</td>\n",
              "      <td>nan</td>\n",
              "      <td>tbd</td>\n",
              "      <td>E</td>\n",
              "    </tr>\n",
              "  </tbody>\n",
              "</table>\n",
              "</div>"
            ],
            "text/plain": [
              "                                     Name Platform  Year_of_Release  \\\n",
              "15167                   SimCity Societies       PC         2007.000   \n",
              "11883                  Hearts of Iron III       PC         2009.000   \n",
              "13080                       Legend of Kay     WiiU         2015.000   \n",
              "2470                      Sniper Elite V2     X360         2012.000   \n",
              "7657   Taiko no Tatsujin: Go! Go! Godaime      PS2         2004.000   \n",
              "15339                      Sugoi Hebereke     SNES         1994.000   \n",
              "11003                 Monopoly Collection      Wii         2011.000   \n",
              "9618                 Jurassic: The Hunted     X360         2009.000   \n",
              "539                       Mortal Kombat X      PS4         2015.000   \n",
              "6833                    Just Dance Kids 2      PS3         2011.000   \n",
              "\n",
              "            Genre  NA_sales  EU_sales  JP_sales  Other_sales  Critic_Score  \\\n",
              "15167  Simulation     0.000     0.020     0.000        0.000        63.000   \n",
              "11883    Strategy     0.020     0.040     0.000        0.010        77.000   \n",
              "13080      Action     0.030     0.020     0.000        0.000           nan   \n",
              "2470      Shooter     0.460     0.280     0.020        0.070        67.000   \n",
              "7657         Misc     0.000     0.000     0.200        0.000           nan   \n",
              "15339    Fighting     0.000     0.000     0.020        0.000           nan   \n",
              "11003        Misc     0.020     0.070     0.000        0.010           nan   \n",
              "9618      Shooter     0.120     0.000     0.000        0.010        60.000   \n",
              "539      Fighting     1.500     0.800     0.000        0.480        83.000   \n",
              "6833         Misc     0.100     0.100     0.000        0.040           nan   \n",
              "\n",
              "      User_Score Rating  \n",
              "15167        4.3   E10+  \n",
              "11883        7.1   E10+  \n",
              "13080        NaN    NaN  \n",
              "2470         6.8      M  \n",
              "7657         NaN    NaN  \n",
              "15339        NaN    NaN  \n",
              "11003        tbd      E  \n",
              "9618         7.2      T  \n",
              "539          7.7      M  \n",
              "6833         tbd      E  "
            ]
          },
          "execution_count": 4,
          "metadata": {},
          "output_type": "execute_result"
        }
      ],
      "source": [
        "df.sample(10)"
      ]
    },
    {
      "cell_type": "markdown",
      "metadata": {
        "id": "leLw3sSAqhfb"
      },
      "source": [
        "Видим первую проблему: некрасивая запись названия столбцов, неканоничная. Приведем все в нижний реестр!"
      ]
    },
    {
      "cell_type": "code",
      "execution_count": null,
      "metadata": {
        "id": "MEF7Fx7wqhfc"
      },
      "outputs": [],
      "source": [
        "df.columns = df.columns.str.lower()"
      ]
    },
    {
      "cell_type": "code",
      "execution_count": null,
      "metadata": {
        "id": "G22DPmq4qhfc",
        "outputId": "f942fdbc-cf1d-4a14-d2ed-d52705945636"
      },
      "outputs": [
        {
          "data": {
            "text/html": [
              "<div>\n",
              "<style scoped>\n",
              "    .dataframe tbody tr th:only-of-type {\n",
              "        vertical-align: middle;\n",
              "    }\n",
              "\n",
              "    .dataframe tbody tr th {\n",
              "        vertical-align: top;\n",
              "    }\n",
              "\n",
              "    .dataframe thead th {\n",
              "        text-align: right;\n",
              "    }\n",
              "</style>\n",
              "<table border=\"1\" class=\"dataframe\">\n",
              "  <thead>\n",
              "    <tr style=\"text-align: right;\">\n",
              "      <th></th>\n",
              "      <th>name</th>\n",
              "      <th>platform</th>\n",
              "      <th>year_of_release</th>\n",
              "      <th>genre</th>\n",
              "      <th>na_sales</th>\n",
              "      <th>eu_sales</th>\n",
              "      <th>jp_sales</th>\n",
              "      <th>other_sales</th>\n",
              "      <th>critic_score</th>\n",
              "      <th>user_score</th>\n",
              "      <th>rating</th>\n",
              "    </tr>\n",
              "  </thead>\n",
              "  <tbody>\n",
              "    <tr>\n",
              "      <td>0</td>\n",
              "      <td>Wii Sports</td>\n",
              "      <td>Wii</td>\n",
              "      <td>2006.000</td>\n",
              "      <td>Sports</td>\n",
              "      <td>41.360</td>\n",
              "      <td>28.960</td>\n",
              "      <td>3.770</td>\n",
              "      <td>8.450</td>\n",
              "      <td>76.000</td>\n",
              "      <td>8</td>\n",
              "      <td>E</td>\n",
              "    </tr>\n",
              "    <tr>\n",
              "      <td>1</td>\n",
              "      <td>Super Mario Bros.</td>\n",
              "      <td>NES</td>\n",
              "      <td>1985.000</td>\n",
              "      <td>Platform</td>\n",
              "      <td>29.080</td>\n",
              "      <td>3.580</td>\n",
              "      <td>6.810</td>\n",
              "      <td>0.770</td>\n",
              "      <td>nan</td>\n",
              "      <td>NaN</td>\n",
              "      <td>NaN</td>\n",
              "    </tr>\n",
              "    <tr>\n",
              "      <td>2</td>\n",
              "      <td>Mario Kart Wii</td>\n",
              "      <td>Wii</td>\n",
              "      <td>2008.000</td>\n",
              "      <td>Racing</td>\n",
              "      <td>15.680</td>\n",
              "      <td>12.760</td>\n",
              "      <td>3.790</td>\n",
              "      <td>3.290</td>\n",
              "      <td>82.000</td>\n",
              "      <td>8.3</td>\n",
              "      <td>E</td>\n",
              "    </tr>\n",
              "    <tr>\n",
              "      <td>3</td>\n",
              "      <td>Wii Sports Resort</td>\n",
              "      <td>Wii</td>\n",
              "      <td>2009.000</td>\n",
              "      <td>Sports</td>\n",
              "      <td>15.610</td>\n",
              "      <td>10.930</td>\n",
              "      <td>3.280</td>\n",
              "      <td>2.950</td>\n",
              "      <td>80.000</td>\n",
              "      <td>8</td>\n",
              "      <td>E</td>\n",
              "    </tr>\n",
              "    <tr>\n",
              "      <td>4</td>\n",
              "      <td>Pokemon Red/Pokemon Blue</td>\n",
              "      <td>GB</td>\n",
              "      <td>1996.000</td>\n",
              "      <td>Role-Playing</td>\n",
              "      <td>11.270</td>\n",
              "      <td>8.890</td>\n",
              "      <td>10.220</td>\n",
              "      <td>1.000</td>\n",
              "      <td>nan</td>\n",
              "      <td>NaN</td>\n",
              "      <td>NaN</td>\n",
              "    </tr>\n",
              "    <tr>\n",
              "      <td>5</td>\n",
              "      <td>Tetris</td>\n",
              "      <td>GB</td>\n",
              "      <td>1989.000</td>\n",
              "      <td>Puzzle</td>\n",
              "      <td>23.200</td>\n",
              "      <td>2.260</td>\n",
              "      <td>4.220</td>\n",
              "      <td>0.580</td>\n",
              "      <td>nan</td>\n",
              "      <td>NaN</td>\n",
              "      <td>NaN</td>\n",
              "    </tr>\n",
              "    <tr>\n",
              "      <td>6</td>\n",
              "      <td>New Super Mario Bros.</td>\n",
              "      <td>DS</td>\n",
              "      <td>2006.000</td>\n",
              "      <td>Platform</td>\n",
              "      <td>11.280</td>\n",
              "      <td>9.140</td>\n",
              "      <td>6.500</td>\n",
              "      <td>2.880</td>\n",
              "      <td>89.000</td>\n",
              "      <td>8.5</td>\n",
              "      <td>E</td>\n",
              "    </tr>\n",
              "    <tr>\n",
              "      <td>7</td>\n",
              "      <td>Wii Play</td>\n",
              "      <td>Wii</td>\n",
              "      <td>2006.000</td>\n",
              "      <td>Misc</td>\n",
              "      <td>13.960</td>\n",
              "      <td>9.180</td>\n",
              "      <td>2.930</td>\n",
              "      <td>2.840</td>\n",
              "      <td>58.000</td>\n",
              "      <td>6.6</td>\n",
              "      <td>E</td>\n",
              "    </tr>\n",
              "    <tr>\n",
              "      <td>8</td>\n",
              "      <td>New Super Mario Bros. Wii</td>\n",
              "      <td>Wii</td>\n",
              "      <td>2009.000</td>\n",
              "      <td>Platform</td>\n",
              "      <td>14.440</td>\n",
              "      <td>6.940</td>\n",
              "      <td>4.700</td>\n",
              "      <td>2.240</td>\n",
              "      <td>87.000</td>\n",
              "      <td>8.4</td>\n",
              "      <td>E</td>\n",
              "    </tr>\n",
              "    <tr>\n",
              "      <td>9</td>\n",
              "      <td>Duck Hunt</td>\n",
              "      <td>NES</td>\n",
              "      <td>1984.000</td>\n",
              "      <td>Shooter</td>\n",
              "      <td>26.930</td>\n",
              "      <td>0.630</td>\n",
              "      <td>0.280</td>\n",
              "      <td>0.470</td>\n",
              "      <td>nan</td>\n",
              "      <td>NaN</td>\n",
              "      <td>NaN</td>\n",
              "    </tr>\n",
              "  </tbody>\n",
              "</table>\n",
              "</div>"
            ],
            "text/plain": [
              "                        name platform  year_of_release         genre  \\\n",
              "0                 Wii Sports      Wii         2006.000        Sports   \n",
              "1          Super Mario Bros.      NES         1985.000      Platform   \n",
              "2             Mario Kart Wii      Wii         2008.000        Racing   \n",
              "3          Wii Sports Resort      Wii         2009.000        Sports   \n",
              "4   Pokemon Red/Pokemon Blue       GB         1996.000  Role-Playing   \n",
              "5                     Tetris       GB         1989.000        Puzzle   \n",
              "6      New Super Mario Bros.       DS         2006.000      Platform   \n",
              "7                   Wii Play      Wii         2006.000          Misc   \n",
              "8  New Super Mario Bros. Wii      Wii         2009.000      Platform   \n",
              "9                  Duck Hunt      NES         1984.000       Shooter   \n",
              "\n",
              "   na_sales  eu_sales  jp_sales  other_sales  critic_score user_score rating  \n",
              "0    41.360    28.960     3.770        8.450        76.000          8      E  \n",
              "1    29.080     3.580     6.810        0.770           nan        NaN    NaN  \n",
              "2    15.680    12.760     3.790        3.290        82.000        8.3      E  \n",
              "3    15.610    10.930     3.280        2.950        80.000          8      E  \n",
              "4    11.270     8.890    10.220        1.000           nan        NaN    NaN  \n",
              "5    23.200     2.260     4.220        0.580           nan        NaN    NaN  \n",
              "6    11.280     9.140     6.500        2.880        89.000        8.5      E  \n",
              "7    13.960     9.180     2.930        2.840        58.000        6.6      E  \n",
              "8    14.440     6.940     4.700        2.240        87.000        8.4      E  \n",
              "9    26.930     0.630     0.280        0.470           nan        NaN    NaN  "
            ]
          },
          "execution_count": 6,
          "metadata": {},
          "output_type": "execute_result"
        }
      ],
      "source": [
        "df.head(10)"
      ]
    },
    {
      "cell_type": "markdown",
      "metadata": {
        "id": "NVkXk3Vfqhfd"
      },
      "source": [
        "Успех - теперь у нас красивые названия переменных! Продолжим дальше изучать данные."
      ]
    },
    {
      "cell_type": "code",
      "execution_count": null,
      "metadata": {
        "id": "F5gqxywYqhfd",
        "outputId": "d1effbbf-864c-426a-e4c7-3dda041b1459"
      },
      "outputs": [
        {
          "data": {
            "text/html": [
              "<div>\n",
              "<style scoped>\n",
              "    .dataframe tbody tr th:only-of-type {\n",
              "        vertical-align: middle;\n",
              "    }\n",
              "\n",
              "    .dataframe tbody tr th {\n",
              "        vertical-align: top;\n",
              "    }\n",
              "\n",
              "    .dataframe thead th {\n",
              "        text-align: right;\n",
              "    }\n",
              "</style>\n",
              "<table border=\"1\" class=\"dataframe\">\n",
              "  <thead>\n",
              "    <tr style=\"text-align: right;\">\n",
              "      <th></th>\n",
              "      <th>year_of_release</th>\n",
              "      <th>na_sales</th>\n",
              "      <th>eu_sales</th>\n",
              "      <th>jp_sales</th>\n",
              "      <th>other_sales</th>\n",
              "      <th>critic_score</th>\n",
              "    </tr>\n",
              "  </thead>\n",
              "  <tbody>\n",
              "    <tr>\n",
              "      <td>count</td>\n",
              "      <td>16446.000</td>\n",
              "      <td>16715.000</td>\n",
              "      <td>16715.000</td>\n",
              "      <td>16715.000</td>\n",
              "      <td>16715.000</td>\n",
              "      <td>8137.000</td>\n",
              "    </tr>\n",
              "    <tr>\n",
              "      <td>mean</td>\n",
              "      <td>2006.485</td>\n",
              "      <td>0.263</td>\n",
              "      <td>0.145</td>\n",
              "      <td>0.078</td>\n",
              "      <td>0.047</td>\n",
              "      <td>68.968</td>\n",
              "    </tr>\n",
              "    <tr>\n",
              "      <td>std</td>\n",
              "      <td>5.877</td>\n",
              "      <td>0.814</td>\n",
              "      <td>0.503</td>\n",
              "      <td>0.309</td>\n",
              "      <td>0.187</td>\n",
              "      <td>13.938</td>\n",
              "    </tr>\n",
              "    <tr>\n",
              "      <td>min</td>\n",
              "      <td>1980.000</td>\n",
              "      <td>0.000</td>\n",
              "      <td>0.000</td>\n",
              "      <td>0.000</td>\n",
              "      <td>0.000</td>\n",
              "      <td>13.000</td>\n",
              "    </tr>\n",
              "    <tr>\n",
              "      <td>25%</td>\n",
              "      <td>2003.000</td>\n",
              "      <td>0.000</td>\n",
              "      <td>0.000</td>\n",
              "      <td>0.000</td>\n",
              "      <td>0.000</td>\n",
              "      <td>60.000</td>\n",
              "    </tr>\n",
              "    <tr>\n",
              "      <td>50%</td>\n",
              "      <td>2007.000</td>\n",
              "      <td>0.080</td>\n",
              "      <td>0.020</td>\n",
              "      <td>0.000</td>\n",
              "      <td>0.010</td>\n",
              "      <td>71.000</td>\n",
              "    </tr>\n",
              "    <tr>\n",
              "      <td>75%</td>\n",
              "      <td>2010.000</td>\n",
              "      <td>0.240</td>\n",
              "      <td>0.110</td>\n",
              "      <td>0.040</td>\n",
              "      <td>0.030</td>\n",
              "      <td>79.000</td>\n",
              "    </tr>\n",
              "    <tr>\n",
              "      <td>max</td>\n",
              "      <td>2016.000</td>\n",
              "      <td>41.360</td>\n",
              "      <td>28.960</td>\n",
              "      <td>10.220</td>\n",
              "      <td>10.570</td>\n",
              "      <td>98.000</td>\n",
              "    </tr>\n",
              "  </tbody>\n",
              "</table>\n",
              "</div>"
            ],
            "text/plain": [
              "       year_of_release  na_sales  eu_sales  jp_sales  other_sales  \\\n",
              "count        16446.000 16715.000 16715.000 16715.000    16715.000   \n",
              "mean          2006.485     0.263     0.145     0.078        0.047   \n",
              "std              5.877     0.814     0.503     0.309        0.187   \n",
              "min           1980.000     0.000     0.000     0.000        0.000   \n",
              "25%           2003.000     0.000     0.000     0.000        0.000   \n",
              "50%           2007.000     0.080     0.020     0.000        0.010   \n",
              "75%           2010.000     0.240     0.110     0.040        0.030   \n",
              "max           2016.000    41.360    28.960    10.220       10.570   \n",
              "\n",
              "       critic_score  \n",
              "count      8137.000  \n",
              "mean         68.968  \n",
              "std          13.938  \n",
              "min          13.000  \n",
              "25%          60.000  \n",
              "50%          71.000  \n",
              "75%          79.000  \n",
              "max          98.000  "
            ]
          },
          "execution_count": 7,
          "metadata": {},
          "output_type": "execute_result"
        }
      ],
      "source": [
        "df.describe()"
      ]
    },
    {
      "cell_type": "code",
      "execution_count": null,
      "metadata": {
        "id": "ChGZ7510qhfe",
        "outputId": "3f8601cc-3b81-4e0a-ed9d-4242a045c0bb"
      },
      "outputs": [
        {
          "name": "stdout",
          "output_type": "stream",
          "text": [
            "<class 'pandas.core.frame.DataFrame'>\n",
            "RangeIndex: 16715 entries, 0 to 16714\n",
            "Data columns (total 11 columns):\n",
            "name               16713 non-null object\n",
            "platform           16715 non-null object\n",
            "year_of_release    16446 non-null float64\n",
            "genre              16713 non-null object\n",
            "na_sales           16715 non-null float64\n",
            "eu_sales           16715 non-null float64\n",
            "jp_sales           16715 non-null float64\n",
            "other_sales        16715 non-null float64\n",
            "critic_score       8137 non-null float64\n",
            "user_score         10014 non-null object\n",
            "rating             9949 non-null object\n",
            "dtypes: float64(6), object(5)\n",
            "memory usage: 1.4+ MB\n"
          ]
        }
      ],
      "source": [
        "df.info()"
      ]
    },
    {
      "cell_type": "markdown",
      "metadata": {
        "id": "TGubzjeEqhfe"
      },
      "source": [
        "Метод describe() по какой-то причине выводит лишь часть переменных. Видимо не все из них являются численными, что противоречит их описанию. Например,  user_score имеет тип данных object, хотя очевидно, что это численная переменная. Нужно будет привести данные к нужному типу. \n",
        "\n",
        "Но предварительно избавимся от пропусков в данных."
      ]
    },
    {
      "cell_type": "markdown",
      "metadata": {
        "id": "hEa_-OQcqhff"
      },
      "source": [
        "### Удаление пропусков в данных"
      ]
    },
    {
      "cell_type": "code",
      "execution_count": null,
      "metadata": {
        "scrolled": true,
        "id": "x2_omoYqqhff",
        "outputId": "f1103202-36ab-4b88-81ef-eb99703ee1d7"
      },
      "outputs": [
        {
          "data": {
            "text/html": [
              "<style  type=\"text/css\" >\n",
              "    #T_2188b286_ba57_11eb_af99_02420a390e2erow0_col0 {\n",
              "            background-color:  #3b4cc0;\n",
              "            color:  #f1f1f1;\n",
              "        }    #T_2188b286_ba57_11eb_af99_02420a390e2erow1_col0 {\n",
              "            background-color:  #3b4cc0;\n",
              "            color:  #f1f1f1;\n",
              "        }    #T_2188b286_ba57_11eb_af99_02420a390e2erow2_col0 {\n",
              "            background-color:  #445acc;\n",
              "            color:  #f1f1f1;\n",
              "        }    #T_2188b286_ba57_11eb_af99_02420a390e2erow3_col0 {\n",
              "            background-color:  #3b4cc0;\n",
              "            color:  #f1f1f1;\n",
              "        }    #T_2188b286_ba57_11eb_af99_02420a390e2erow4_col0 {\n",
              "            background-color:  #3b4cc0;\n",
              "            color:  #f1f1f1;\n",
              "        }    #T_2188b286_ba57_11eb_af99_02420a390e2erow5_col0 {\n",
              "            background-color:  #3b4cc0;\n",
              "            color:  #f1f1f1;\n",
              "        }    #T_2188b286_ba57_11eb_af99_02420a390e2erow6_col0 {\n",
              "            background-color:  #3b4cc0;\n",
              "            color:  #f1f1f1;\n",
              "        }    #T_2188b286_ba57_11eb_af99_02420a390e2erow7_col0 {\n",
              "            background-color:  #3b4cc0;\n",
              "            color:  #f1f1f1;\n",
              "        }    #T_2188b286_ba57_11eb_af99_02420a390e2erow8_col0 {\n",
              "            background-color:  #b40426;\n",
              "            color:  #f1f1f1;\n",
              "        }    #T_2188b286_ba57_11eb_af99_02420a390e2erow9_col0 {\n",
              "            background-color:  #f18d6f;\n",
              "            color:  #000000;\n",
              "        }    #T_2188b286_ba57_11eb_af99_02420a390e2erow10_col0 {\n",
              "            background-color:  #f08a6c;\n",
              "            color:  #000000;\n",
              "        }</style><table id=\"T_2188b286_ba57_11eb_af99_02420a390e2e\" ><thead>    <tr>        <th class=\"blank level0\" ></th>        <th class=\"col_heading level0 col0\" >0</th>    </tr></thead><tbody>\n",
              "                <tr>\n",
              "                        <th id=\"T_2188b286_ba57_11eb_af99_02420a390e2elevel0_row0\" class=\"row_heading level0 row0\" >name</th>\n",
              "                        <td id=\"T_2188b286_ba57_11eb_af99_02420a390e2erow0_col0\" class=\"data row0 col0\" >0.01</td>\n",
              "            </tr>\n",
              "            <tr>\n",
              "                        <th id=\"T_2188b286_ba57_11eb_af99_02420a390e2elevel0_row1\" class=\"row_heading level0 row1\" >platform</th>\n",
              "                        <td id=\"T_2188b286_ba57_11eb_af99_02420a390e2erow1_col0\" class=\"data row1 col0\" >0</td>\n",
              "            </tr>\n",
              "            <tr>\n",
              "                        <th id=\"T_2188b286_ba57_11eb_af99_02420a390e2elevel0_row2\" class=\"row_heading level0 row2\" >year_of_release</th>\n",
              "                        <td id=\"T_2188b286_ba57_11eb_af99_02420a390e2erow2_col0\" class=\"data row2 col0\" >1.61</td>\n",
              "            </tr>\n",
              "            <tr>\n",
              "                        <th id=\"T_2188b286_ba57_11eb_af99_02420a390e2elevel0_row3\" class=\"row_heading level0 row3\" >genre</th>\n",
              "                        <td id=\"T_2188b286_ba57_11eb_af99_02420a390e2erow3_col0\" class=\"data row3 col0\" >0.01</td>\n",
              "            </tr>\n",
              "            <tr>\n",
              "                        <th id=\"T_2188b286_ba57_11eb_af99_02420a390e2elevel0_row4\" class=\"row_heading level0 row4\" >na_sales</th>\n",
              "                        <td id=\"T_2188b286_ba57_11eb_af99_02420a390e2erow4_col0\" class=\"data row4 col0\" >0</td>\n",
              "            </tr>\n",
              "            <tr>\n",
              "                        <th id=\"T_2188b286_ba57_11eb_af99_02420a390e2elevel0_row5\" class=\"row_heading level0 row5\" >eu_sales</th>\n",
              "                        <td id=\"T_2188b286_ba57_11eb_af99_02420a390e2erow5_col0\" class=\"data row5 col0\" >0</td>\n",
              "            </tr>\n",
              "            <tr>\n",
              "                        <th id=\"T_2188b286_ba57_11eb_af99_02420a390e2elevel0_row6\" class=\"row_heading level0 row6\" >jp_sales</th>\n",
              "                        <td id=\"T_2188b286_ba57_11eb_af99_02420a390e2erow6_col0\" class=\"data row6 col0\" >0</td>\n",
              "            </tr>\n",
              "            <tr>\n",
              "                        <th id=\"T_2188b286_ba57_11eb_af99_02420a390e2elevel0_row7\" class=\"row_heading level0 row7\" >other_sales</th>\n",
              "                        <td id=\"T_2188b286_ba57_11eb_af99_02420a390e2erow7_col0\" class=\"data row7 col0\" >0</td>\n",
              "            </tr>\n",
              "            <tr>\n",
              "                        <th id=\"T_2188b286_ba57_11eb_af99_02420a390e2elevel0_row8\" class=\"row_heading level0 row8\" >critic_score</th>\n",
              "                        <td id=\"T_2188b286_ba57_11eb_af99_02420a390e2erow8_col0\" class=\"data row8 col0\" >51.32</td>\n",
              "            </tr>\n",
              "            <tr>\n",
              "                        <th id=\"T_2188b286_ba57_11eb_af99_02420a390e2elevel0_row9\" class=\"row_heading level0 row9\" >user_score</th>\n",
              "                        <td id=\"T_2188b286_ba57_11eb_af99_02420a390e2erow9_col0\" class=\"data row9 col0\" >40.09</td>\n",
              "            </tr>\n",
              "            <tr>\n",
              "                        <th id=\"T_2188b286_ba57_11eb_af99_02420a390e2elevel0_row10\" class=\"row_heading level0 row10\" >rating</th>\n",
              "                        <td id=\"T_2188b286_ba57_11eb_af99_02420a390e2erow10_col0\" class=\"data row10 col0\" >40.48</td>\n",
              "            </tr>\n",
              "    </tbody></table>"
            ],
            "text/plain": [
              "<pandas.io.formats.style.Styler at 0x7fab33ff02d0>"
            ]
          },
          "execution_count": 9,
          "metadata": {},
          "output_type": "execute_result"
        }
      ],
      "source": [
        "pd.DataFrame(round((df.isna().mean()*100),2)).style.background_gradient('coolwarm')"
      ]
    },
    {
      "cell_type": "markdown",
      "metadata": {
        "id": "tcxRlVylqhfg"
      },
      "source": [
        "Пропущенные значения наблюдаются в переменных:\n",
        "1. critic_score - 51.32%\n",
        "2. rating - 40.48%\n",
        "3. user_score - 40.09%\n",
        "4. year_of_release - 1.61%\n",
        "5. genre - 0.01%\n",
        "6. name - 0.01%\n",
        "\n",
        "Попробуем разобраться, что будем с ними делать!\n",
        "\n",
        "Начнем с переменной name."
      ]
    },
    {
      "cell_type": "code",
      "execution_count": null,
      "metadata": {
        "id": "_z1HnGz3qhfg",
        "outputId": "48062579-d6d5-4c73-e1ce-77dfdf4e51fb"
      },
      "outputs": [
        {
          "data": {
            "text/html": [
              "<div>\n",
              "<style scoped>\n",
              "    .dataframe tbody tr th:only-of-type {\n",
              "        vertical-align: middle;\n",
              "    }\n",
              "\n",
              "    .dataframe tbody tr th {\n",
              "        vertical-align: top;\n",
              "    }\n",
              "\n",
              "    .dataframe thead th {\n",
              "        text-align: right;\n",
              "    }\n",
              "</style>\n",
              "<table border=\"1\" class=\"dataframe\">\n",
              "  <thead>\n",
              "    <tr style=\"text-align: right;\">\n",
              "      <th></th>\n",
              "      <th>name</th>\n",
              "      <th>platform</th>\n",
              "      <th>year_of_release</th>\n",
              "      <th>genre</th>\n",
              "      <th>na_sales</th>\n",
              "      <th>eu_sales</th>\n",
              "      <th>jp_sales</th>\n",
              "      <th>other_sales</th>\n",
              "      <th>critic_score</th>\n",
              "      <th>user_score</th>\n",
              "      <th>rating</th>\n",
              "    </tr>\n",
              "  </thead>\n",
              "  <tbody>\n",
              "    <tr>\n",
              "      <td>659</td>\n",
              "      <td>NaN</td>\n",
              "      <td>GEN</td>\n",
              "      <td>1993.000</td>\n",
              "      <td>NaN</td>\n",
              "      <td>1.780</td>\n",
              "      <td>0.530</td>\n",
              "      <td>0.000</td>\n",
              "      <td>0.080</td>\n",
              "      <td>nan</td>\n",
              "      <td>NaN</td>\n",
              "      <td>NaN</td>\n",
              "    </tr>\n",
              "    <tr>\n",
              "      <td>14244</td>\n",
              "      <td>NaN</td>\n",
              "      <td>GEN</td>\n",
              "      <td>1993.000</td>\n",
              "      <td>NaN</td>\n",
              "      <td>0.000</td>\n",
              "      <td>0.000</td>\n",
              "      <td>0.030</td>\n",
              "      <td>0.000</td>\n",
              "      <td>nan</td>\n",
              "      <td>NaN</td>\n",
              "      <td>NaN</td>\n",
              "    </tr>\n",
              "  </tbody>\n",
              "</table>\n",
              "</div>"
            ],
            "text/plain": [
              "      name platform  year_of_release genre  na_sales  eu_sales  jp_sales  \\\n",
              "659    NaN      GEN         1993.000   NaN     1.780     0.530     0.000   \n",
              "14244  NaN      GEN         1993.000   NaN     0.000     0.000     0.030   \n",
              "\n",
              "       other_sales  critic_score user_score rating  \n",
              "659          0.080           nan        NaN    NaN  \n",
              "14244        0.000           nan        NaN    NaN  "
            ]
          },
          "execution_count": 10,
          "metadata": {},
          "output_type": "execute_result"
        }
      ],
      "source": [
        "df[df['name'].isnull()]"
      ]
    },
    {
      "cell_type": "markdown",
      "metadata": {
        "id": "OU21Gj8tqhfg"
      },
      "source": [
        "Пропущенные значения - это всего лишь 2 наблюдения.\n",
        "\n",
        "**Плохая новость** - у нас нет косвенных данных, по которым можно было бы догадаться о значении пропущенных значений, **хорошая новость** - именно в этих наблюдениях также находятся пропущенные значения по переменной genre. Поэтому удалим 2 эти строчки.\n",
        "\n",
        "Отряд не заметил потери бойца (всего-то два наблюдения!), зато убьем двух зайцев - избавимся от пропусков сразу в двух переменных."
      ]
    },
    {
      "cell_type": "code",
      "execution_count": null,
      "metadata": {
        "id": "6lCrRowlqhfh"
      },
      "outputs": [],
      "source": [
        "df.drop(df[df['name'].isnull()].index,inplace=True)"
      ]
    },
    {
      "cell_type": "code",
      "execution_count": null,
      "metadata": {
        "id": "K4Fs1i0jqhfh",
        "outputId": "ae91b37e-490c-4e32-d25f-1e21ab2ef30c"
      },
      "outputs": [
        {
          "data": {
            "text/html": [
              "<style  type=\"text/css\" >\n",
              "    #T_2191ce66_ba57_11eb_af99_02420a390e2erow0_col0 {\n",
              "            background-color:  #3b4cc0;\n",
              "            color:  #f1f1f1;\n",
              "        }    #T_2191ce66_ba57_11eb_af99_02420a390e2erow1_col0 {\n",
              "            background-color:  #3b4cc0;\n",
              "            color:  #f1f1f1;\n",
              "        }    #T_2191ce66_ba57_11eb_af99_02420a390e2erow2_col0 {\n",
              "            background-color:  #445acc;\n",
              "            color:  #f1f1f1;\n",
              "        }    #T_2191ce66_ba57_11eb_af99_02420a390e2erow3_col0 {\n",
              "            background-color:  #3b4cc0;\n",
              "            color:  #f1f1f1;\n",
              "        }    #T_2191ce66_ba57_11eb_af99_02420a390e2erow4_col0 {\n",
              "            background-color:  #3b4cc0;\n",
              "            color:  #f1f1f1;\n",
              "        }    #T_2191ce66_ba57_11eb_af99_02420a390e2erow5_col0 {\n",
              "            background-color:  #3b4cc0;\n",
              "            color:  #f1f1f1;\n",
              "        }    #T_2191ce66_ba57_11eb_af99_02420a390e2erow6_col0 {\n",
              "            background-color:  #3b4cc0;\n",
              "            color:  #f1f1f1;\n",
              "        }    #T_2191ce66_ba57_11eb_af99_02420a390e2erow7_col0 {\n",
              "            background-color:  #3b4cc0;\n",
              "            color:  #f1f1f1;\n",
              "        }    #T_2191ce66_ba57_11eb_af99_02420a390e2erow8_col0 {\n",
              "            background-color:  #b40426;\n",
              "            color:  #f1f1f1;\n",
              "        }    #T_2191ce66_ba57_11eb_af99_02420a390e2erow9_col0 {\n",
              "            background-color:  #f18d6f;\n",
              "            color:  #000000;\n",
              "        }    #T_2191ce66_ba57_11eb_af99_02420a390e2erow10_col0 {\n",
              "            background-color:  #f08a6c;\n",
              "            color:  #000000;\n",
              "        }</style><table id=\"T_2191ce66_ba57_11eb_af99_02420a390e2e\" ><thead>    <tr>        <th class=\"blank level0\" ></th>        <th class=\"col_heading level0 col0\" >0</th>    </tr></thead><tbody>\n",
              "                <tr>\n",
              "                        <th id=\"T_2191ce66_ba57_11eb_af99_02420a390e2elevel0_row0\" class=\"row_heading level0 row0\" >name</th>\n",
              "                        <td id=\"T_2191ce66_ba57_11eb_af99_02420a390e2erow0_col0\" class=\"data row0 col0\" >0</td>\n",
              "            </tr>\n",
              "            <tr>\n",
              "                        <th id=\"T_2191ce66_ba57_11eb_af99_02420a390e2elevel0_row1\" class=\"row_heading level0 row1\" >platform</th>\n",
              "                        <td id=\"T_2191ce66_ba57_11eb_af99_02420a390e2erow1_col0\" class=\"data row1 col0\" >0</td>\n",
              "            </tr>\n",
              "            <tr>\n",
              "                        <th id=\"T_2191ce66_ba57_11eb_af99_02420a390e2elevel0_row2\" class=\"row_heading level0 row2\" >year_of_release</th>\n",
              "                        <td id=\"T_2191ce66_ba57_11eb_af99_02420a390e2erow2_col0\" class=\"data row2 col0\" >1.61</td>\n",
              "            </tr>\n",
              "            <tr>\n",
              "                        <th id=\"T_2191ce66_ba57_11eb_af99_02420a390e2elevel0_row3\" class=\"row_heading level0 row3\" >genre</th>\n",
              "                        <td id=\"T_2191ce66_ba57_11eb_af99_02420a390e2erow3_col0\" class=\"data row3 col0\" >0</td>\n",
              "            </tr>\n",
              "            <tr>\n",
              "                        <th id=\"T_2191ce66_ba57_11eb_af99_02420a390e2elevel0_row4\" class=\"row_heading level0 row4\" >na_sales</th>\n",
              "                        <td id=\"T_2191ce66_ba57_11eb_af99_02420a390e2erow4_col0\" class=\"data row4 col0\" >0</td>\n",
              "            </tr>\n",
              "            <tr>\n",
              "                        <th id=\"T_2191ce66_ba57_11eb_af99_02420a390e2elevel0_row5\" class=\"row_heading level0 row5\" >eu_sales</th>\n",
              "                        <td id=\"T_2191ce66_ba57_11eb_af99_02420a390e2erow5_col0\" class=\"data row5 col0\" >0</td>\n",
              "            </tr>\n",
              "            <tr>\n",
              "                        <th id=\"T_2191ce66_ba57_11eb_af99_02420a390e2elevel0_row6\" class=\"row_heading level0 row6\" >jp_sales</th>\n",
              "                        <td id=\"T_2191ce66_ba57_11eb_af99_02420a390e2erow6_col0\" class=\"data row6 col0\" >0</td>\n",
              "            </tr>\n",
              "            <tr>\n",
              "                        <th id=\"T_2191ce66_ba57_11eb_af99_02420a390e2elevel0_row7\" class=\"row_heading level0 row7\" >other_sales</th>\n",
              "                        <td id=\"T_2191ce66_ba57_11eb_af99_02420a390e2erow7_col0\" class=\"data row7 col0\" >0</td>\n",
              "            </tr>\n",
              "            <tr>\n",
              "                        <th id=\"T_2191ce66_ba57_11eb_af99_02420a390e2elevel0_row8\" class=\"row_heading level0 row8\" >critic_score</th>\n",
              "                        <td id=\"T_2191ce66_ba57_11eb_af99_02420a390e2erow8_col0\" class=\"data row8 col0\" >51.31</td>\n",
              "            </tr>\n",
              "            <tr>\n",
              "                        <th id=\"T_2191ce66_ba57_11eb_af99_02420a390e2elevel0_row9\" class=\"row_heading level0 row9\" >user_score</th>\n",
              "                        <td id=\"T_2191ce66_ba57_11eb_af99_02420a390e2erow9_col0\" class=\"data row9 col0\" >40.08</td>\n",
              "            </tr>\n",
              "            <tr>\n",
              "                        <th id=\"T_2191ce66_ba57_11eb_af99_02420a390e2elevel0_row10\" class=\"row_heading level0 row10\" >rating</th>\n",
              "                        <td id=\"T_2191ce66_ba57_11eb_af99_02420a390e2erow10_col0\" class=\"data row10 col0\" >40.47</td>\n",
              "            </tr>\n",
              "    </tbody></table>"
            ],
            "text/plain": [
              "<pandas.io.formats.style.Styler at 0x7fab16116a50>"
            ]
          },
          "execution_count": 12,
          "metadata": {},
          "output_type": "execute_result"
        }
      ],
      "source": [
        "pd.DataFrame(round((df.isna().mean()*100),2)).style.background_gradient('coolwarm')"
      ]
    },
    {
      "cell_type": "markdown",
      "metadata": {
        "id": "kSYNnvwOqhfh"
      },
      "source": [
        "Получилось! В переменных name и genre больше нет пропущенных значений!\n",
        "\n",
        "Теперь пойдем изучать переменную year_of_release."
      ]
    },
    {
      "cell_type": "code",
      "execution_count": null,
      "metadata": {
        "id": "Y-0VumTNqhfh",
        "outputId": "96f2d8ac-1e81-4d0f-d8d0-5fa72b393089"
      },
      "outputs": [
        {
          "data": {
            "text/html": [
              "<div>\n",
              "<style scoped>\n",
              "    .dataframe tbody tr th:only-of-type {\n",
              "        vertical-align: middle;\n",
              "    }\n",
              "\n",
              "    .dataframe tbody tr th {\n",
              "        vertical-align: top;\n",
              "    }\n",
              "\n",
              "    .dataframe thead th {\n",
              "        text-align: right;\n",
              "    }\n",
              "</style>\n",
              "<table border=\"1\" class=\"dataframe\">\n",
              "  <thead>\n",
              "    <tr style=\"text-align: right;\">\n",
              "      <th></th>\n",
              "      <th>name</th>\n",
              "      <th>platform</th>\n",
              "      <th>year_of_release</th>\n",
              "      <th>genre</th>\n",
              "      <th>na_sales</th>\n",
              "      <th>eu_sales</th>\n",
              "      <th>jp_sales</th>\n",
              "      <th>other_sales</th>\n",
              "      <th>critic_score</th>\n",
              "      <th>user_score</th>\n",
              "      <th>rating</th>\n",
              "    </tr>\n",
              "  </thead>\n",
              "  <tbody>\n",
              "    <tr>\n",
              "      <td>183</td>\n",
              "      <td>Madden NFL 2004</td>\n",
              "      <td>PS2</td>\n",
              "      <td>nan</td>\n",
              "      <td>Sports</td>\n",
              "      <td>4.260</td>\n",
              "      <td>0.260</td>\n",
              "      <td>0.010</td>\n",
              "      <td>0.710</td>\n",
              "      <td>94.000</td>\n",
              "      <td>8.5</td>\n",
              "      <td>E</td>\n",
              "    </tr>\n",
              "    <tr>\n",
              "      <td>377</td>\n",
              "      <td>FIFA Soccer 2004</td>\n",
              "      <td>PS2</td>\n",
              "      <td>nan</td>\n",
              "      <td>Sports</td>\n",
              "      <td>0.590</td>\n",
              "      <td>2.360</td>\n",
              "      <td>0.040</td>\n",
              "      <td>0.510</td>\n",
              "      <td>84.000</td>\n",
              "      <td>6.4</td>\n",
              "      <td>E</td>\n",
              "    </tr>\n",
              "    <tr>\n",
              "      <td>456</td>\n",
              "      <td>LEGO Batman: The Videogame</td>\n",
              "      <td>Wii</td>\n",
              "      <td>nan</td>\n",
              "      <td>Action</td>\n",
              "      <td>1.800</td>\n",
              "      <td>0.970</td>\n",
              "      <td>0.000</td>\n",
              "      <td>0.290</td>\n",
              "      <td>74.000</td>\n",
              "      <td>7.9</td>\n",
              "      <td>E10+</td>\n",
              "    </tr>\n",
              "    <tr>\n",
              "      <td>475</td>\n",
              "      <td>wwe Smackdown vs. Raw 2006</td>\n",
              "      <td>PS2</td>\n",
              "      <td>nan</td>\n",
              "      <td>Fighting</td>\n",
              "      <td>1.570</td>\n",
              "      <td>1.020</td>\n",
              "      <td>0.000</td>\n",
              "      <td>0.410</td>\n",
              "      <td>nan</td>\n",
              "      <td>NaN</td>\n",
              "      <td>NaN</td>\n",
              "    </tr>\n",
              "    <tr>\n",
              "      <td>609</td>\n",
              "      <td>Space Invaders</td>\n",
              "      <td>2600</td>\n",
              "      <td>nan</td>\n",
              "      <td>Shooter</td>\n",
              "      <td>2.360</td>\n",
              "      <td>0.140</td>\n",
              "      <td>0.000</td>\n",
              "      <td>0.030</td>\n",
              "      <td>nan</td>\n",
              "      <td>NaN</td>\n",
              "      <td>NaN</td>\n",
              "    </tr>\n",
              "    <tr>\n",
              "      <td>...</td>\n",
              "      <td>...</td>\n",
              "      <td>...</td>\n",
              "      <td>...</td>\n",
              "      <td>...</td>\n",
              "      <td>...</td>\n",
              "      <td>...</td>\n",
              "      <td>...</td>\n",
              "      <td>...</td>\n",
              "      <td>...</td>\n",
              "      <td>...</td>\n",
              "      <td>...</td>\n",
              "    </tr>\n",
              "    <tr>\n",
              "      <td>16373</td>\n",
              "      <td>PDC World Championship Darts 2008</td>\n",
              "      <td>PSP</td>\n",
              "      <td>nan</td>\n",
              "      <td>Sports</td>\n",
              "      <td>0.010</td>\n",
              "      <td>0.000</td>\n",
              "      <td>0.000</td>\n",
              "      <td>0.000</td>\n",
              "      <td>43.000</td>\n",
              "      <td>tbd</td>\n",
              "      <td>E10+</td>\n",
              "    </tr>\n",
              "    <tr>\n",
              "      <td>16405</td>\n",
              "      <td>Freaky Flyers</td>\n",
              "      <td>GC</td>\n",
              "      <td>nan</td>\n",
              "      <td>Racing</td>\n",
              "      <td>0.010</td>\n",
              "      <td>0.000</td>\n",
              "      <td>0.000</td>\n",
              "      <td>0.000</td>\n",
              "      <td>69.000</td>\n",
              "      <td>6.5</td>\n",
              "      <td>T</td>\n",
              "    </tr>\n",
              "    <tr>\n",
              "      <td>16448</td>\n",
              "      <td>Inversion</td>\n",
              "      <td>PC</td>\n",
              "      <td>nan</td>\n",
              "      <td>Shooter</td>\n",
              "      <td>0.010</td>\n",
              "      <td>0.000</td>\n",
              "      <td>0.000</td>\n",
              "      <td>0.000</td>\n",
              "      <td>59.000</td>\n",
              "      <td>6.7</td>\n",
              "      <td>M</td>\n",
              "    </tr>\n",
              "    <tr>\n",
              "      <td>16458</td>\n",
              "      <td>Hakuouki: Shinsengumi Kitan</td>\n",
              "      <td>PS3</td>\n",
              "      <td>nan</td>\n",
              "      <td>Adventure</td>\n",
              "      <td>0.010</td>\n",
              "      <td>0.000</td>\n",
              "      <td>0.000</td>\n",
              "      <td>0.000</td>\n",
              "      <td>nan</td>\n",
              "      <td>NaN</td>\n",
              "      <td>NaN</td>\n",
              "    </tr>\n",
              "    <tr>\n",
              "      <td>16522</td>\n",
              "      <td>Virtua Quest</td>\n",
              "      <td>GC</td>\n",
              "      <td>nan</td>\n",
              "      <td>Role-Playing</td>\n",
              "      <td>0.010</td>\n",
              "      <td>0.000</td>\n",
              "      <td>0.000</td>\n",
              "      <td>0.000</td>\n",
              "      <td>55.000</td>\n",
              "      <td>5.5</td>\n",
              "      <td>T</td>\n",
              "    </tr>\n",
              "  </tbody>\n",
              "</table>\n",
              "<p>269 rows × 11 columns</p>\n",
              "</div>"
            ],
            "text/plain": [
              "                                    name platform  year_of_release  \\\n",
              "183                      Madden NFL 2004      PS2              nan   \n",
              "377                     FIFA Soccer 2004      PS2              nan   \n",
              "456           LEGO Batman: The Videogame      Wii              nan   \n",
              "475           wwe Smackdown vs. Raw 2006      PS2              nan   \n",
              "609                       Space Invaders     2600              nan   \n",
              "...                                  ...      ...              ...   \n",
              "16373  PDC World Championship Darts 2008      PSP              nan   \n",
              "16405                      Freaky Flyers       GC              nan   \n",
              "16448                          Inversion       PC              nan   \n",
              "16458        Hakuouki: Shinsengumi Kitan      PS3              nan   \n",
              "16522                       Virtua Quest       GC              nan   \n",
              "\n",
              "              genre  na_sales  eu_sales  jp_sales  other_sales  critic_score  \\\n",
              "183          Sports     4.260     0.260     0.010        0.710        94.000   \n",
              "377          Sports     0.590     2.360     0.040        0.510        84.000   \n",
              "456          Action     1.800     0.970     0.000        0.290        74.000   \n",
              "475        Fighting     1.570     1.020     0.000        0.410           nan   \n",
              "609         Shooter     2.360     0.140     0.000        0.030           nan   \n",
              "...             ...       ...       ...       ...          ...           ...   \n",
              "16373        Sports     0.010     0.000     0.000        0.000        43.000   \n",
              "16405        Racing     0.010     0.000     0.000        0.000        69.000   \n",
              "16448       Shooter     0.010     0.000     0.000        0.000        59.000   \n",
              "16458     Adventure     0.010     0.000     0.000        0.000           nan   \n",
              "16522  Role-Playing     0.010     0.000     0.000        0.000        55.000   \n",
              "\n",
              "      user_score rating  \n",
              "183          8.5      E  \n",
              "377          6.4      E  \n",
              "456          7.9   E10+  \n",
              "475          NaN    NaN  \n",
              "609          NaN    NaN  \n",
              "...          ...    ...  \n",
              "16373        tbd   E10+  \n",
              "16405        6.5      T  \n",
              "16448        6.7      M  \n",
              "16458        NaN    NaN  \n",
              "16522        5.5      T  \n",
              "\n",
              "[269 rows x 11 columns]"
            ]
          },
          "execution_count": 13,
          "metadata": {},
          "output_type": "execute_result"
        }
      ],
      "source": [
        "df[df['year_of_release'].isnull()]"
      ]
    },
    {
      "cell_type": "markdown",
      "metadata": {
        "id": "nmAM8fGJqhfi"
      },
      "source": [
        "На данном этапе видится 2 варианта работы с пропущенными значениями по данной переменной (year_of_release):\n",
        "1. Удалить данные, так как они составляют менее 2% от выборки;\n",
        "2. Попытаться предсказать год выпуска по косвенным данным. В нашем случае это могут быть данные по переменной platform, так как у каждой приставки есть срок жизни, и с высокой вероятностью игра была выпущена в его пределах."
      ]
    },
    {
      "cell_type": "code",
      "execution_count": null,
      "metadata": {
        "id": "dAkd6bHzqhfj",
        "outputId": "91ac6297-0c2d-482d-cd16-479f1d39398f"
      },
      "outputs": [
        {
          "data": {
            "text/plain": [
              "count   16444.000\n",
              "mean     2006.486\n",
              "std         5.876\n",
              "min      1980.000\n",
              "25%      2003.000\n",
              "50%      2007.000\n",
              "75%      2010.000\n",
              "max      2016.000\n",
              "Name: year_of_release, dtype: float64"
            ]
          },
          "execution_count": 14,
          "metadata": {},
          "output_type": "execute_result"
        }
      ],
      "source": [
        "df['year_of_release'].describe()"
      ]
    },
    {
      "cell_type": "markdown",
      "metadata": {
        "id": "c2N68qxfqhfj"
      },
      "source": [
        "Запомним наши квартили с процентилями."
      ]
    },
    {
      "cell_type": "code",
      "execution_count": null,
      "metadata": {
        "id": "1Xj5H5b0qhfk"
      },
      "outputs": [],
      "source": [
        "df['year_of_release'] = df['year_of_release'].fillna((df['platform'].map(df.groupby(\n",
        "'platform')['year_of_release'].median().to_dict())))"
      ]
    },
    {
      "cell_type": "code",
      "execution_count": null,
      "metadata": {
        "id": "FxzR27eLqhfk",
        "outputId": "1acc290b-618e-4637-f780-f1f945bb932c"
      },
      "outputs": [
        {
          "data": {
            "text/plain": [
              "count   16713.000\n",
              "mean     2006.475\n",
              "std         5.896\n",
              "min      1980.000\n",
              "25%      2003.000\n",
              "50%      2007.000\n",
              "75%      2010.000\n",
              "max      2016.000\n",
              "Name: year_of_release, dtype: float64"
            ]
          },
          "execution_count": 16,
          "metadata": {},
          "output_type": "execute_result"
        }
      ],
      "source": [
        "df['year_of_release'].describe()"
      ]
    },
    {
      "cell_type": "markdown",
      "metadata": {
        "id": "g_bzAWX4qhfk"
      },
      "source": [
        "Само распределение вроде бы не сломали (квартили да процентили остались теми же).\n",
        "\n",
        "А теперь по косвенным признакам посмотрим, насколько хорошо здесь применять этот метод."
      ]
    },
    {
      "cell_type": "code",
      "execution_count": null,
      "metadata": {
        "id": "Q0bJmVF6qhfl",
        "outputId": "2339d463-3175-4385-f1f2-77746c572b7f"
      },
      "outputs": [
        {
          "data": {
            "text/html": [
              "<div>\n",
              "<style scoped>\n",
              "    .dataframe tbody tr th:only-of-type {\n",
              "        vertical-align: middle;\n",
              "    }\n",
              "\n",
              "    .dataframe tbody tr th {\n",
              "        vertical-align: top;\n",
              "    }\n",
              "\n",
              "    .dataframe thead th {\n",
              "        text-align: right;\n",
              "    }\n",
              "</style>\n",
              "<table border=\"1\" class=\"dataframe\">\n",
              "  <thead>\n",
              "    <tr style=\"text-align: right;\">\n",
              "      <th></th>\n",
              "      <th>name</th>\n",
              "      <th>platform</th>\n",
              "      <th>year_of_release</th>\n",
              "      <th>genre</th>\n",
              "      <th>na_sales</th>\n",
              "      <th>eu_sales</th>\n",
              "      <th>jp_sales</th>\n",
              "      <th>other_sales</th>\n",
              "      <th>critic_score</th>\n",
              "      <th>user_score</th>\n",
              "      <th>rating</th>\n",
              "    </tr>\n",
              "  </thead>\n",
              "  <tbody>\n",
              "    <tr>\n",
              "      <td>183</td>\n",
              "      <td>Madden NFL 2004</td>\n",
              "      <td>PS2</td>\n",
              "      <td>2005.000</td>\n",
              "      <td>Sports</td>\n",
              "      <td>4.260</td>\n",
              "      <td>0.260</td>\n",
              "      <td>0.010</td>\n",
              "      <td>0.710</td>\n",
              "      <td>94.000</td>\n",
              "      <td>8.5</td>\n",
              "      <td>E</td>\n",
              "    </tr>\n",
              "    <tr>\n",
              "      <td>1881</td>\n",
              "      <td>Madden NFL 2004</td>\n",
              "      <td>XB</td>\n",
              "      <td>2003.000</td>\n",
              "      <td>Sports</td>\n",
              "      <td>1.020</td>\n",
              "      <td>0.020</td>\n",
              "      <td>0.000</td>\n",
              "      <td>0.050</td>\n",
              "      <td>92.000</td>\n",
              "      <td>8.3</td>\n",
              "      <td>E</td>\n",
              "    </tr>\n",
              "    <tr>\n",
              "      <td>3889</td>\n",
              "      <td>Madden NFL 2004</td>\n",
              "      <td>GC</td>\n",
              "      <td>2003.000</td>\n",
              "      <td>Sports</td>\n",
              "      <td>0.400</td>\n",
              "      <td>0.100</td>\n",
              "      <td>0.000</td>\n",
              "      <td>0.010</td>\n",
              "      <td>94.000</td>\n",
              "      <td>7.7</td>\n",
              "      <td>E</td>\n",
              "    </tr>\n",
              "    <tr>\n",
              "      <td>5708</td>\n",
              "      <td>Madden NFL 2004</td>\n",
              "      <td>GBA</td>\n",
              "      <td>2003.000</td>\n",
              "      <td>Sports</td>\n",
              "      <td>0.220</td>\n",
              "      <td>0.080</td>\n",
              "      <td>0.000</td>\n",
              "      <td>0.010</td>\n",
              "      <td>70.000</td>\n",
              "      <td>6.6</td>\n",
              "      <td>E</td>\n",
              "    </tr>\n",
              "  </tbody>\n",
              "</table>\n",
              "</div>"
            ],
            "text/plain": [
              "                 name platform  year_of_release   genre  na_sales  eu_sales  \\\n",
              "183   Madden NFL 2004      PS2         2005.000  Sports     4.260     0.260   \n",
              "1881  Madden NFL 2004       XB         2003.000  Sports     1.020     0.020   \n",
              "3889  Madden NFL 2004       GC         2003.000  Sports     0.400     0.100   \n",
              "5708  Madden NFL 2004      GBA         2003.000  Sports     0.220     0.080   \n",
              "\n",
              "      jp_sales  other_sales  critic_score user_score rating  \n",
              "183      0.010        0.710        94.000        8.5      E  \n",
              "1881     0.000        0.050        92.000        8.3      E  \n",
              "3889     0.000        0.010        94.000        7.7      E  \n",
              "5708     0.000        0.010        70.000        6.6      E  "
            ]
          },
          "execution_count": 17,
          "metadata": {},
          "output_type": "execute_result"
        }
      ],
      "source": [
        "df[df['name'] == 'Madden NFL 2004']"
      ]
    },
    {
      "cell_type": "code",
      "execution_count": null,
      "metadata": {
        "id": "i_jXrvZnqhfl",
        "outputId": "15a58ea5-dcec-4f54-a2d1-0351d82d9e2f"
      },
      "outputs": [
        {
          "data": {
            "text/html": [
              "<div>\n",
              "<style scoped>\n",
              "    .dataframe tbody tr th:only-of-type {\n",
              "        vertical-align: middle;\n",
              "    }\n",
              "\n",
              "    .dataframe tbody tr th {\n",
              "        vertical-align: top;\n",
              "    }\n",
              "\n",
              "    .dataframe thead th {\n",
              "        text-align: right;\n",
              "    }\n",
              "</style>\n",
              "<table border=\"1\" class=\"dataframe\">\n",
              "  <thead>\n",
              "    <tr style=\"text-align: right;\">\n",
              "      <th></th>\n",
              "      <th>name</th>\n",
              "      <th>platform</th>\n",
              "      <th>year_of_release</th>\n",
              "      <th>genre</th>\n",
              "      <th>na_sales</th>\n",
              "      <th>eu_sales</th>\n",
              "      <th>jp_sales</th>\n",
              "      <th>other_sales</th>\n",
              "      <th>critic_score</th>\n",
              "      <th>user_score</th>\n",
              "      <th>rating</th>\n",
              "    </tr>\n",
              "  </thead>\n",
              "  <tbody>\n",
              "    <tr>\n",
              "      <td>6917</td>\n",
              "      <td>PDC World Championship Darts 2008</td>\n",
              "      <td>Wii</td>\n",
              "      <td>2008.000</td>\n",
              "      <td>Sports</td>\n",
              "      <td>0.020</td>\n",
              "      <td>0.210</td>\n",
              "      <td>0.000</td>\n",
              "      <td>0.010</td>\n",
              "      <td>51.000</td>\n",
              "      <td>5.4</td>\n",
              "      <td>E10+</td>\n",
              "    </tr>\n",
              "    <tr>\n",
              "      <td>15953</td>\n",
              "      <td>PDC World Championship Darts 2008</td>\n",
              "      <td>DS</td>\n",
              "      <td>2008.000</td>\n",
              "      <td>Sports</td>\n",
              "      <td>0.010</td>\n",
              "      <td>0.000</td>\n",
              "      <td>0.000</td>\n",
              "      <td>0.000</td>\n",
              "      <td>nan</td>\n",
              "      <td>NaN</td>\n",
              "      <td>NaN</td>\n",
              "    </tr>\n",
              "    <tr>\n",
              "      <td>16373</td>\n",
              "      <td>PDC World Championship Darts 2008</td>\n",
              "      <td>PSP</td>\n",
              "      <td>2009.000</td>\n",
              "      <td>Sports</td>\n",
              "      <td>0.010</td>\n",
              "      <td>0.000</td>\n",
              "      <td>0.000</td>\n",
              "      <td>0.000</td>\n",
              "      <td>43.000</td>\n",
              "      <td>tbd</td>\n",
              "      <td>E10+</td>\n",
              "    </tr>\n",
              "  </tbody>\n",
              "</table>\n",
              "</div>"
            ],
            "text/plain": [
              "                                    name platform  year_of_release   genre  \\\n",
              "6917   PDC World Championship Darts 2008      Wii         2008.000  Sports   \n",
              "15953  PDC World Championship Darts 2008       DS         2008.000  Sports   \n",
              "16373  PDC World Championship Darts 2008      PSP         2009.000  Sports   \n",
              "\n",
              "       na_sales  eu_sales  jp_sales  other_sales  critic_score user_score  \\\n",
              "6917      0.020     0.210     0.000        0.010        51.000        5.4   \n",
              "15953     0.010     0.000     0.000        0.000           nan        NaN   \n",
              "16373     0.010     0.000     0.000        0.000        43.000        tbd   \n",
              "\n",
              "      rating  \n",
              "6917    E10+  \n",
              "15953    NaN  \n",
              "16373   E10+  "
            ]
          },
          "execution_count": 18,
          "metadata": {},
          "output_type": "execute_result"
        }
      ],
      "source": [
        "df[df['name'] == 'PDC World Championship Darts 2008']"
      ]
    },
    {
      "cell_type": "markdown",
      "metadata": {
        "id": "wII8ft1Iqhfl"
      },
      "source": [
        "Делаем тривиальное предположение, что \"Madden NFL 2004\" вышла в 2004 году.\n",
        "\n",
        "[Википедия](https://ru.wikipedia.org/wiki/Madden_NFL_2004) дает знать, что игра вышла 12 августа 2003, что логично, так как спортивные симуляторы выходят чаще всего к началу очередного года, чтобы уже 1 января 2021 можно было играть в FIFA 2021.\n",
        "\n",
        "Пропуск по игре был для платформы PS2. Промазали на 2 года. Такая ошибка может быть предположительно связана с тем, что у популярной приставки от Sony был более долгий срок жизни, из-за чего предсказанное значение сместилось вверх (на целых 2 года).\n",
        "\n",
        "Второй эксперимент: PDC World Championship Darts 2008 для PSP. Промахнулись всего на 1 год. \n",
        "\n",
        "Несмотря на небольшую неточность, считаю такую замену более успешным решением, чем просто удаление данных.\n",
        "\n",
        "Посмотрим, что у нас в целом с пропусками!"
      ]
    },
    {
      "cell_type": "code",
      "execution_count": null,
      "metadata": {
        "id": "oET5FBkvqhfm",
        "outputId": "909e5dbf-0962-4e79-f603-543da56ad58c"
      },
      "outputs": [
        {
          "data": {
            "text/html": [
              "<style  type=\"text/css\" >\n",
              "    #T_21a72d74_ba57_11eb_af99_02420a390e2erow0_col0 {\n",
              "            background-color:  #3b4cc0;\n",
              "            color:  #f1f1f1;\n",
              "        }    #T_21a72d74_ba57_11eb_af99_02420a390e2erow1_col0 {\n",
              "            background-color:  #3b4cc0;\n",
              "            color:  #f1f1f1;\n",
              "        }    #T_21a72d74_ba57_11eb_af99_02420a390e2erow2_col0 {\n",
              "            background-color:  #3b4cc0;\n",
              "            color:  #f1f1f1;\n",
              "        }    #T_21a72d74_ba57_11eb_af99_02420a390e2erow3_col0 {\n",
              "            background-color:  #3b4cc0;\n",
              "            color:  #f1f1f1;\n",
              "        }    #T_21a72d74_ba57_11eb_af99_02420a390e2erow4_col0 {\n",
              "            background-color:  #3b4cc0;\n",
              "            color:  #f1f1f1;\n",
              "        }    #T_21a72d74_ba57_11eb_af99_02420a390e2erow5_col0 {\n",
              "            background-color:  #3b4cc0;\n",
              "            color:  #f1f1f1;\n",
              "        }    #T_21a72d74_ba57_11eb_af99_02420a390e2erow6_col0 {\n",
              "            background-color:  #3b4cc0;\n",
              "            color:  #f1f1f1;\n",
              "        }    #T_21a72d74_ba57_11eb_af99_02420a390e2erow7_col0 {\n",
              "            background-color:  #3b4cc0;\n",
              "            color:  #f1f1f1;\n",
              "        }    #T_21a72d74_ba57_11eb_af99_02420a390e2erow8_col0 {\n",
              "            background-color:  #b40426;\n",
              "            color:  #f1f1f1;\n",
              "        }    #T_21a72d74_ba57_11eb_af99_02420a390e2erow9_col0 {\n",
              "            background-color:  #f18d6f;\n",
              "            color:  #000000;\n",
              "        }    #T_21a72d74_ba57_11eb_af99_02420a390e2erow10_col0 {\n",
              "            background-color:  #f08a6c;\n",
              "            color:  #000000;\n",
              "        }</style><table id=\"T_21a72d74_ba57_11eb_af99_02420a390e2e\" ><thead>    <tr>        <th class=\"blank level0\" ></th>        <th class=\"col_heading level0 col0\" >0</th>    </tr></thead><tbody>\n",
              "                <tr>\n",
              "                        <th id=\"T_21a72d74_ba57_11eb_af99_02420a390e2elevel0_row0\" class=\"row_heading level0 row0\" >name</th>\n",
              "                        <td id=\"T_21a72d74_ba57_11eb_af99_02420a390e2erow0_col0\" class=\"data row0 col0\" >0</td>\n",
              "            </tr>\n",
              "            <tr>\n",
              "                        <th id=\"T_21a72d74_ba57_11eb_af99_02420a390e2elevel0_row1\" class=\"row_heading level0 row1\" >platform</th>\n",
              "                        <td id=\"T_21a72d74_ba57_11eb_af99_02420a390e2erow1_col0\" class=\"data row1 col0\" >0</td>\n",
              "            </tr>\n",
              "            <tr>\n",
              "                        <th id=\"T_21a72d74_ba57_11eb_af99_02420a390e2elevel0_row2\" class=\"row_heading level0 row2\" >year_of_release</th>\n",
              "                        <td id=\"T_21a72d74_ba57_11eb_af99_02420a390e2erow2_col0\" class=\"data row2 col0\" >0</td>\n",
              "            </tr>\n",
              "            <tr>\n",
              "                        <th id=\"T_21a72d74_ba57_11eb_af99_02420a390e2elevel0_row3\" class=\"row_heading level0 row3\" >genre</th>\n",
              "                        <td id=\"T_21a72d74_ba57_11eb_af99_02420a390e2erow3_col0\" class=\"data row3 col0\" >0</td>\n",
              "            </tr>\n",
              "            <tr>\n",
              "                        <th id=\"T_21a72d74_ba57_11eb_af99_02420a390e2elevel0_row4\" class=\"row_heading level0 row4\" >na_sales</th>\n",
              "                        <td id=\"T_21a72d74_ba57_11eb_af99_02420a390e2erow4_col0\" class=\"data row4 col0\" >0</td>\n",
              "            </tr>\n",
              "            <tr>\n",
              "                        <th id=\"T_21a72d74_ba57_11eb_af99_02420a390e2elevel0_row5\" class=\"row_heading level0 row5\" >eu_sales</th>\n",
              "                        <td id=\"T_21a72d74_ba57_11eb_af99_02420a390e2erow5_col0\" class=\"data row5 col0\" >0</td>\n",
              "            </tr>\n",
              "            <tr>\n",
              "                        <th id=\"T_21a72d74_ba57_11eb_af99_02420a390e2elevel0_row6\" class=\"row_heading level0 row6\" >jp_sales</th>\n",
              "                        <td id=\"T_21a72d74_ba57_11eb_af99_02420a390e2erow6_col0\" class=\"data row6 col0\" >0</td>\n",
              "            </tr>\n",
              "            <tr>\n",
              "                        <th id=\"T_21a72d74_ba57_11eb_af99_02420a390e2elevel0_row7\" class=\"row_heading level0 row7\" >other_sales</th>\n",
              "                        <td id=\"T_21a72d74_ba57_11eb_af99_02420a390e2erow7_col0\" class=\"data row7 col0\" >0</td>\n",
              "            </tr>\n",
              "            <tr>\n",
              "                        <th id=\"T_21a72d74_ba57_11eb_af99_02420a390e2elevel0_row8\" class=\"row_heading level0 row8\" >critic_score</th>\n",
              "                        <td id=\"T_21a72d74_ba57_11eb_af99_02420a390e2erow8_col0\" class=\"data row8 col0\" >51.31</td>\n",
              "            </tr>\n",
              "            <tr>\n",
              "                        <th id=\"T_21a72d74_ba57_11eb_af99_02420a390e2elevel0_row9\" class=\"row_heading level0 row9\" >user_score</th>\n",
              "                        <td id=\"T_21a72d74_ba57_11eb_af99_02420a390e2erow9_col0\" class=\"data row9 col0\" >40.08</td>\n",
              "            </tr>\n",
              "            <tr>\n",
              "                        <th id=\"T_21a72d74_ba57_11eb_af99_02420a390e2elevel0_row10\" class=\"row_heading level0 row10\" >rating</th>\n",
              "                        <td id=\"T_21a72d74_ba57_11eb_af99_02420a390e2erow10_col0\" class=\"data row10 col0\" >40.47</td>\n",
              "            </tr>\n",
              "    </tbody></table>"
            ],
            "text/plain": [
              "<pandas.io.formats.style.Styler at 0x7fab16178310>"
            ]
          },
          "execution_count": 19,
          "metadata": {},
          "output_type": "execute_result"
        }
      ],
      "source": [
        "pd.DataFrame(round((df.isna().mean()*100),2)).style.background_gradient('coolwarm')"
      ]
    },
    {
      "cell_type": "markdown",
      "metadata": {
        "id": "dGYo0lVnqhfm"
      },
      "source": [
        "Становится все лучше и лучше!\n",
        "\n",
        "Теперь разберемся вот с этим моментом:\n",
        "\n",
        "*Обратите внимание на аббревиатуру 'tbd' в столбцах с рейтингом. Отдельно разберите это значение и опишите, как его обработать*"
      ]
    },
    {
      "cell_type": "code",
      "execution_count": null,
      "metadata": {
        "scrolled": true,
        "id": "HKzPGnZzqhfm",
        "outputId": "5836b603-7e7d-4fed-fa47-6afee032ddea"
      },
      "outputs": [
        {
          "data": {
            "text/plain": [
              "count     10014\n",
              "unique       96\n",
              "top         tbd\n",
              "freq       2424\n",
              "Name: user_score, dtype: object"
            ]
          },
          "execution_count": 20,
          "metadata": {},
          "output_type": "execute_result"
        }
      ],
      "source": [
        "df['user_score'].describe()"
      ]
    },
    {
      "cell_type": "code",
      "execution_count": null,
      "metadata": {
        "scrolled": true,
        "id": "yowkzd-Mqhfn",
        "outputId": "9de02969-7b5b-4bd6-f532-f0ce6309fe70"
      },
      "outputs": [
        {
          "data": {
            "text/plain": [
              "tbd    2424\n",
              "7.8     324\n",
              "8       290\n",
              "8.2     282\n",
              "8.3     254\n",
              "       ... \n",
              "0.2       2\n",
              "0.5       2\n",
              "1.3       2\n",
              "9.7       1\n",
              "0         1\n",
              "Name: user_score, Length: 96, dtype: int64"
            ]
          },
          "execution_count": 21,
          "metadata": {},
          "output_type": "execute_result"
        }
      ],
      "source": [
        "df['user_score'].value_counts()"
      ]
    },
    {
      "cell_type": "code",
      "execution_count": null,
      "metadata": {
        "id": "gYpnehavqhfn",
        "outputId": "6011cdf0-a3bd-4614-ca97-1f74b01a0bb0"
      },
      "outputs": [
        {
          "data": {
            "text/plain": [
              "E       3990\n",
              "T       2961\n",
              "M       1563\n",
              "E10+    1420\n",
              "EC         8\n",
              "RP         3\n",
              "K-A        3\n",
              "AO         1\n",
              "Name: rating, dtype: int64"
            ]
          },
          "execution_count": 22,
          "metadata": {},
          "output_type": "execute_result"
        }
      ],
      "source": [
        "df['rating'].value_counts()"
      ]
    },
    {
      "cell_type": "markdown",
      "metadata": {
        "id": "0xwqpc3nqhfn"
      },
      "source": [
        "Самое частотное значение переменной user_score это tbd, что расшифровывается как To be determined, то есть \"Будет определено\". Очень часто подобное сокращение можно встретить в анонсах компьютерных игр в графе \"Дата выхода\". Когда разработчик той или иной игры уже сообщил о том, что она готовится к выходу, но пока еще не может назвать точную дату, именно это сокращение и используется. Естественно, оно может применяться и в других случаях, но данный вариант является самым распространенным. В нашем случае это скорее отсутствие оценки на момент занесения игры в таблицу.\n",
        "\n",
        "Подробнее можно почитать в [статье](https://autogear.ru/article/171/345/tbd---chto-znachit-eto-sokraschenie/).\n",
        "\n",
        "Такое значение не получится заменить на какое-то адекватное на основании косвенных данных. По сути, в этой базе данных это игры, оставшиеся без оценки. При этом само наличие строчного значения в переменной препятствует манипуляциям с ней. Заменим эти значения на пропущенные (np.nan)!\n",
        "\n",
        "Похожая ситуация наблюдается и для переменной rating. Значение RP - «Rating Pending» или на нашем православном «Рейтинг ожидается». Следовательно на момент формирования БД это отсутствующее значение. Предлагается от него избавиться!"
      ]
    },
    {
      "cell_type": "code",
      "execution_count": null,
      "metadata": {
        "id": "8tuRk2Ylqhfn"
      },
      "outputs": [],
      "source": [
        "df['user_score'] = df['user_score'].replace('tbd', np.nan)"
      ]
    },
    {
      "cell_type": "code",
      "execution_count": null,
      "metadata": {
        "id": "h402JM_Tqhfo"
      },
      "outputs": [],
      "source": [
        "df = df.drop(df[df['rating'] == 'RP'].index)"
      ]
    },
    {
      "cell_type": "markdown",
      "metadata": {
        "id": "Ya927VG8qhfo"
      },
      "source": [
        "Для той же цели: облегчения манипуляций с числовыми переменными заменим пропуски невозможными (по смыслу) числовыми значениями. Предлагаем -1, так как отрицательного рейтинга у игр не существует, хотя некотрые из них этого заслуживают! Привет Warcraft III: Reforged.&#129326;\n",
        "\n",
        "В переменной rating есть пропущенные значения, так как скорее всего просто для игры не был определен рейтинг. Или, например, часть игр вышла до 1994 года, когда организации Entertainment Software Rating Board еще не существовало, поэтому игры просто не могли получить соответствующий рейтинг. Таким образом, предлагается заменить пустые значения на значение 'Not specified'."
      ]
    },
    {
      "cell_type": "code",
      "execution_count": null,
      "metadata": {
        "id": "kIEbtbq8qhfo"
      },
      "outputs": [],
      "source": [
        "df['critic_score'] = df['critic_score'].fillna(-1)\n",
        "df['user_score'] = df['user_score'].fillna(-1)\n",
        "df['rating'] = df['rating'].fillna('Not specified')"
      ]
    },
    {
      "cell_type": "markdown",
      "metadata": {
        "id": "2hBXZfEEqhfo"
      },
      "source": [
        "Посмотрим, что получилось у нас с нашими пропусками в результате всех манипуляций!"
      ]
    },
    {
      "cell_type": "code",
      "execution_count": null,
      "metadata": {
        "id": "QzXmxiZfqhfo",
        "outputId": "ae1530e9-16eb-4892-91be-ab04e46b406f"
      },
      "outputs": [
        {
          "data": {
            "text/html": [
              "<style  type=\"text/css\" >\n",
              "    #T_21bc9f56_ba57_11eb_af99_02420a390e2erow0_col0 {\n",
              "            background-color:  #3b4cc0;\n",
              "            color:  #f1f1f1;\n",
              "        }    #T_21bc9f56_ba57_11eb_af99_02420a390e2erow1_col0 {\n",
              "            background-color:  #3b4cc0;\n",
              "            color:  #f1f1f1;\n",
              "        }    #T_21bc9f56_ba57_11eb_af99_02420a390e2erow2_col0 {\n",
              "            background-color:  #3b4cc0;\n",
              "            color:  #f1f1f1;\n",
              "        }    #T_21bc9f56_ba57_11eb_af99_02420a390e2erow3_col0 {\n",
              "            background-color:  #3b4cc0;\n",
              "            color:  #f1f1f1;\n",
              "        }    #T_21bc9f56_ba57_11eb_af99_02420a390e2erow4_col0 {\n",
              "            background-color:  #3b4cc0;\n",
              "            color:  #f1f1f1;\n",
              "        }    #T_21bc9f56_ba57_11eb_af99_02420a390e2erow5_col0 {\n",
              "            background-color:  #3b4cc0;\n",
              "            color:  #f1f1f1;\n",
              "        }    #T_21bc9f56_ba57_11eb_af99_02420a390e2erow6_col0 {\n",
              "            background-color:  #3b4cc0;\n",
              "            color:  #f1f1f1;\n",
              "        }    #T_21bc9f56_ba57_11eb_af99_02420a390e2erow7_col0 {\n",
              "            background-color:  #3b4cc0;\n",
              "            color:  #f1f1f1;\n",
              "        }    #T_21bc9f56_ba57_11eb_af99_02420a390e2erow8_col0 {\n",
              "            background-color:  #3b4cc0;\n",
              "            color:  #f1f1f1;\n",
              "        }    #T_21bc9f56_ba57_11eb_af99_02420a390e2erow9_col0 {\n",
              "            background-color:  #3b4cc0;\n",
              "            color:  #f1f1f1;\n",
              "        }    #T_21bc9f56_ba57_11eb_af99_02420a390e2erow10_col0 {\n",
              "            background-color:  #3b4cc0;\n",
              "            color:  #f1f1f1;\n",
              "        }</style><table id=\"T_21bc9f56_ba57_11eb_af99_02420a390e2e\" ><thead>    <tr>        <th class=\"blank level0\" ></th>        <th class=\"col_heading level0 col0\" >0</th>    </tr></thead><tbody>\n",
              "                <tr>\n",
              "                        <th id=\"T_21bc9f56_ba57_11eb_af99_02420a390e2elevel0_row0\" class=\"row_heading level0 row0\" >name</th>\n",
              "                        <td id=\"T_21bc9f56_ba57_11eb_af99_02420a390e2erow0_col0\" class=\"data row0 col0\" >0</td>\n",
              "            </tr>\n",
              "            <tr>\n",
              "                        <th id=\"T_21bc9f56_ba57_11eb_af99_02420a390e2elevel0_row1\" class=\"row_heading level0 row1\" >platform</th>\n",
              "                        <td id=\"T_21bc9f56_ba57_11eb_af99_02420a390e2erow1_col0\" class=\"data row1 col0\" >0</td>\n",
              "            </tr>\n",
              "            <tr>\n",
              "                        <th id=\"T_21bc9f56_ba57_11eb_af99_02420a390e2elevel0_row2\" class=\"row_heading level0 row2\" >year_of_release</th>\n",
              "                        <td id=\"T_21bc9f56_ba57_11eb_af99_02420a390e2erow2_col0\" class=\"data row2 col0\" >0</td>\n",
              "            </tr>\n",
              "            <tr>\n",
              "                        <th id=\"T_21bc9f56_ba57_11eb_af99_02420a390e2elevel0_row3\" class=\"row_heading level0 row3\" >genre</th>\n",
              "                        <td id=\"T_21bc9f56_ba57_11eb_af99_02420a390e2erow3_col0\" class=\"data row3 col0\" >0</td>\n",
              "            </tr>\n",
              "            <tr>\n",
              "                        <th id=\"T_21bc9f56_ba57_11eb_af99_02420a390e2elevel0_row4\" class=\"row_heading level0 row4\" >na_sales</th>\n",
              "                        <td id=\"T_21bc9f56_ba57_11eb_af99_02420a390e2erow4_col0\" class=\"data row4 col0\" >0</td>\n",
              "            </tr>\n",
              "            <tr>\n",
              "                        <th id=\"T_21bc9f56_ba57_11eb_af99_02420a390e2elevel0_row5\" class=\"row_heading level0 row5\" >eu_sales</th>\n",
              "                        <td id=\"T_21bc9f56_ba57_11eb_af99_02420a390e2erow5_col0\" class=\"data row5 col0\" >0</td>\n",
              "            </tr>\n",
              "            <tr>\n",
              "                        <th id=\"T_21bc9f56_ba57_11eb_af99_02420a390e2elevel0_row6\" class=\"row_heading level0 row6\" >jp_sales</th>\n",
              "                        <td id=\"T_21bc9f56_ba57_11eb_af99_02420a390e2erow6_col0\" class=\"data row6 col0\" >0</td>\n",
              "            </tr>\n",
              "            <tr>\n",
              "                        <th id=\"T_21bc9f56_ba57_11eb_af99_02420a390e2elevel0_row7\" class=\"row_heading level0 row7\" >other_sales</th>\n",
              "                        <td id=\"T_21bc9f56_ba57_11eb_af99_02420a390e2erow7_col0\" class=\"data row7 col0\" >0</td>\n",
              "            </tr>\n",
              "            <tr>\n",
              "                        <th id=\"T_21bc9f56_ba57_11eb_af99_02420a390e2elevel0_row8\" class=\"row_heading level0 row8\" >critic_score</th>\n",
              "                        <td id=\"T_21bc9f56_ba57_11eb_af99_02420a390e2erow8_col0\" class=\"data row8 col0\" >0</td>\n",
              "            </tr>\n",
              "            <tr>\n",
              "                        <th id=\"T_21bc9f56_ba57_11eb_af99_02420a390e2elevel0_row9\" class=\"row_heading level0 row9\" >user_score</th>\n",
              "                        <td id=\"T_21bc9f56_ba57_11eb_af99_02420a390e2erow9_col0\" class=\"data row9 col0\" >0</td>\n",
              "            </tr>\n",
              "            <tr>\n",
              "                        <th id=\"T_21bc9f56_ba57_11eb_af99_02420a390e2elevel0_row10\" class=\"row_heading level0 row10\" >rating</th>\n",
              "                        <td id=\"T_21bc9f56_ba57_11eb_af99_02420a390e2erow10_col0\" class=\"data row10 col0\" >0</td>\n",
              "            </tr>\n",
              "    </tbody></table>"
            ],
            "text/plain": [
              "<pandas.io.formats.style.Styler at 0x7fab160ef790>"
            ]
          },
          "execution_count": 26,
          "metadata": {},
          "output_type": "execute_result"
        }
      ],
      "source": [
        "pd.DataFrame(round((df.isna().mean()*100),2)).style.background_gradient('coolwarm')"
      ]
    },
    {
      "cell_type": "markdown",
      "metadata": {
        "id": "xawcMgUsqhfp"
      },
      "source": [
        "Все красивенько, пропущенных значений больше нет! Идем дальше!"
      ]
    },
    {
      "cell_type": "markdown",
      "metadata": {
        "id": "oiJ0Vrnpqhfp"
      },
      "source": [
        "### Замена типов данных"
      ]
    },
    {
      "cell_type": "markdown",
      "metadata": {
        "id": "kCcgcQ7Pqhfp"
      },
      "source": [
        "Посмотрим, сколько памяти расходуется в настоящий момент с нашими типами данных."
      ]
    },
    {
      "cell_type": "code",
      "execution_count": null,
      "metadata": {
        "scrolled": true,
        "id": "ICGH01nBqhfp",
        "outputId": "f277f828-520c-4955-acf7-d6d226182ed9"
      },
      "outputs": [
        {
          "name": "stdout",
          "output_type": "stream",
          "text": [
            "<class 'pandas.core.frame.DataFrame'>\n",
            "Int64Index: 16710 entries, 0 to 16714\n",
            "Data columns (total 11 columns):\n",
            "name               16710 non-null object\n",
            "platform           16710 non-null object\n",
            "year_of_release    16710 non-null float64\n",
            "genre              16710 non-null object\n",
            "na_sales           16710 non-null float64\n",
            "eu_sales           16710 non-null float64\n",
            "jp_sales           16710 non-null float64\n",
            "other_sales        16710 non-null float64\n",
            "critic_score       16710 non-null float64\n",
            "user_score         16710 non-null object\n",
            "rating             16710 non-null object\n",
            "dtypes: float64(6), object(5)\n",
            "memory usage: 5.9 MB\n"
          ]
        }
      ],
      "source": [
        "df.info(memory_usage='deep')"
      ]
    },
    {
      "cell_type": "code",
      "execution_count": null,
      "metadata": {
        "scrolled": false,
        "id": "PMmwAHMsqhfp"
      },
      "outputs": [],
      "source": [
        "df['user_score'] = df['user_score'].astype('float16')\n",
        "df['year_of_release'] = df['year_of_release'].astype('int16')\n",
        "df['na_sales'] = df['na_sales'].astype('float32')\n",
        "df['eu_sales'] = df['eu_sales'].astype('float32')\n",
        "df['jp_sales'] = df['jp_sales'].astype('float32')\n",
        "df['other_sales'] = df['other_sales'].astype('float32')\n",
        "df['critic_score'] = df['critic_score'].astype('int8')\n",
        "df['user_score'] = df['user_score'].astype('int8')\n",
        "df['rating'] = df['rating'].astype('category')"
      ]
    },
    {
      "cell_type": "code",
      "execution_count": null,
      "metadata": {
        "id": "nbxQBj-Pqhfp",
        "outputId": "ec85ef88-3088-4400-c8be-a2442764c2c5"
      },
      "outputs": [
        {
          "name": "stdout",
          "output_type": "stream",
          "text": [
            "<class 'pandas.core.frame.DataFrame'>\n",
            "Int64Index: 16710 entries, 0 to 16714\n",
            "Data columns (total 11 columns):\n",
            "name               16710 non-null object\n",
            "platform           16710 non-null object\n",
            "year_of_release    16710 non-null int16\n",
            "genre              16710 non-null object\n",
            "na_sales           16710 non-null float32\n",
            "eu_sales           16710 non-null float32\n",
            "jp_sales           16710 non-null float32\n",
            "other_sales        16710 non-null float32\n",
            "critic_score       16710 non-null int8\n",
            "user_score         16710 non-null int8\n",
            "rating             16710 non-null category\n",
            "dtypes: category(1), float32(4), int16(1), int8(2), object(3)\n",
            "memory usage: 3.7 MB\n"
          ]
        }
      ],
      "source": [
        "df.info(memory_usage='deep')"
      ]
    },
    {
      "cell_type": "markdown",
      "metadata": {
        "id": "AaLdQdK_qhfq"
      },
      "source": [
        "Опустили количество используемой памяти с 5.1 MB до 3.2 MB. На самом деле можно было бы и лучше (до 1.5 MB), если не комментировать замену типов данных (на category) для переменных platform и genre, но тут личное - не люблю, как ведут себя переменные с этим типом данных, а именно продолжают отображать ключи даже при отсутствии значений. Поэтому оставим вот так"
      ]
    },
    {
      "cell_type": "markdown",
      "metadata": {
        "id": "inClnb4xqhfq"
      },
      "source": [
        "### Суммарные продажи во всех регионах"
      ]
    },
    {
      "cell_type": "markdown",
      "metadata": {
        "id": "9BTRBmGiqhfq"
      },
      "source": [
        "Необходимо посчитать суммарные продажи во всех регионах и записать их в отдельный столбец. Пускай этим столбцом будет total_sales!"
      ]
    },
    {
      "cell_type": "code",
      "execution_count": null,
      "metadata": {
        "id": "XP5Cb4pxqhfq"
      },
      "outputs": [],
      "source": [
        "df['total_sales'] = df['na_sales'] + df['eu_sales'] + df['jp_sales'] + df['other_sales']"
      ]
    },
    {
      "cell_type": "code",
      "execution_count": null,
      "metadata": {
        "scrolled": true,
        "id": "BP3hrDKzqhfq",
        "outputId": "13aae08d-344d-4647-e46e-e8f287e18b03"
      },
      "outputs": [
        {
          "data": {
            "text/html": [
              "<div>\n",
              "<style scoped>\n",
              "    .dataframe tbody tr th:only-of-type {\n",
              "        vertical-align: middle;\n",
              "    }\n",
              "\n",
              "    .dataframe tbody tr th {\n",
              "        vertical-align: top;\n",
              "    }\n",
              "\n",
              "    .dataframe thead th {\n",
              "        text-align: right;\n",
              "    }\n",
              "</style>\n",
              "<table border=\"1\" class=\"dataframe\">\n",
              "  <thead>\n",
              "    <tr style=\"text-align: right;\">\n",
              "      <th></th>\n",
              "      <th>na_sales</th>\n",
              "      <th>eu_sales</th>\n",
              "      <th>jp_sales</th>\n",
              "      <th>other_sales</th>\n",
              "      <th>total_sales</th>\n",
              "    </tr>\n",
              "  </thead>\n",
              "  <tbody>\n",
              "    <tr>\n",
              "      <td>count</td>\n",
              "      <td>16710.000</td>\n",
              "      <td>16710.000</td>\n",
              "      <td>16710.000</td>\n",
              "      <td>16710.000</td>\n",
              "      <td>16710.000</td>\n",
              "    </tr>\n",
              "    <tr>\n",
              "      <td>mean</td>\n",
              "      <td>0.263</td>\n",
              "      <td>0.145</td>\n",
              "      <td>0.078</td>\n",
              "      <td>0.047</td>\n",
              "      <td>0.533</td>\n",
              "    </tr>\n",
              "    <tr>\n",
              "      <td>std</td>\n",
              "      <td>0.814</td>\n",
              "      <td>0.503</td>\n",
              "      <td>0.309</td>\n",
              "      <td>0.187</td>\n",
              "      <td>1.548</td>\n",
              "    </tr>\n",
              "    <tr>\n",
              "      <td>min</td>\n",
              "      <td>0.000</td>\n",
              "      <td>0.000</td>\n",
              "      <td>0.000</td>\n",
              "      <td>0.000</td>\n",
              "      <td>0.000</td>\n",
              "    </tr>\n",
              "    <tr>\n",
              "      <td>25%</td>\n",
              "      <td>0.000</td>\n",
              "      <td>0.000</td>\n",
              "      <td>0.000</td>\n",
              "      <td>0.000</td>\n",
              "      <td>0.060</td>\n",
              "    </tr>\n",
              "    <tr>\n",
              "      <td>50%</td>\n",
              "      <td>0.080</td>\n",
              "      <td>0.020</td>\n",
              "      <td>0.000</td>\n",
              "      <td>0.010</td>\n",
              "      <td>0.170</td>\n",
              "    </tr>\n",
              "    <tr>\n",
              "      <td>75%</td>\n",
              "      <td>0.240</td>\n",
              "      <td>0.110</td>\n",
              "      <td>0.040</td>\n",
              "      <td>0.030</td>\n",
              "      <td>0.470</td>\n",
              "    </tr>\n",
              "    <tr>\n",
              "      <td>max</td>\n",
              "      <td>41.360</td>\n",
              "      <td>28.960</td>\n",
              "      <td>10.220</td>\n",
              "      <td>10.570</td>\n",
              "      <td>82.540</td>\n",
              "    </tr>\n",
              "  </tbody>\n",
              "</table>\n",
              "</div>"
            ],
            "text/plain": [
              "       na_sales  eu_sales  jp_sales  other_sales  total_sales\n",
              "count 16710.000 16710.000 16710.000    16710.000    16710.000\n",
              "mean      0.263     0.145     0.078        0.047        0.533\n",
              "std       0.814     0.503     0.309        0.187        1.548\n",
              "min       0.000     0.000     0.000        0.000        0.000\n",
              "25%       0.000     0.000     0.000        0.000        0.060\n",
              "50%       0.080     0.020     0.000        0.010        0.170\n",
              "75%       0.240     0.110     0.040        0.030        0.470\n",
              "max      41.360    28.960    10.220       10.570       82.540"
            ]
          },
          "execution_count": 31,
          "metadata": {},
          "output_type": "execute_result"
        }
      ],
      "source": [
        "df[['na_sales', 'eu_sales', 'jp_sales', 'other_sales', 'total_sales']].describe()"
      ]
    },
    {
      "cell_type": "markdown",
      "metadata": {
        "id": "hFetwh-Rqhfr"
      },
      "source": [
        "Кажется, что все адекватно посчитано. "
      ]
    },
    {
      "cell_type": "markdown",
      "metadata": {
        "id": "2Zqw3JDwqhfr"
      },
      "source": [
        "## Исследовательский анализ данных"
      ]
    },
    {
      "cell_type": "markdown",
      "metadata": {
        "id": "mUgVl0Vpqhfr"
      },
      "source": [
        "### Количество игр по годам"
      ]
    },
    {
      "cell_type": "markdown",
      "metadata": {
        "id": "EY35PgOuqhfr"
      },
      "source": [
        "Необходимо посмотреть, сколько игр выпускалось в разные годы. Важны ли данные за все периоды?"
      ]
    },
    {
      "cell_type": "code",
      "execution_count": null,
      "metadata": {
        "id": "ji0HqB1gqhfr",
        "outputId": "048a398d-1c09-4d18-c041-b1345f4635b5"
      },
      "outputs": [
        {
          "data": {
            "image/png": "[encoded data removed]",
            "text/plain": [
              "<Figure size 864x360 with 1 Axes>"
            ]
          },
          "metadata": {
            "needs_background": "light"
          },
          "output_type": "display_data"
        }
      ],
      "source": [
        "df.groupby('year_of_release')['name'].count()\\\n",
        "  .plot(figsize=(12,5))\n",
        "plt.title('Количество выпущенных игр в год')\n",
        "plt.xlabel('Год выхода')\n",
        "plt.ylabel('Количество игр (шт.)')\n",
        "plt.show()"
      ]
    },
    {
      "cell_type": "code",
      "execution_count": null,
      "metadata": {
        "id": "yeM1G5sdqhfs",
        "outputId": "dde0cb75-233d-484b-c838-c5bdc0b944c5"
      },
      "outputs": [
        {
          "data": {
            "text/html": [
              "<style  type=\"text/css\" >\n",
              "</style><table id=\"T_21fee9b0_ba57_11eb_af99_02420a390e2e\" ><thead>    <tr>        <th class=\"blank level0\" ></th>        <th class=\"col_heading level0 col0\" >name</th>    </tr>    <tr>        <th class=\"blank level1\" ></th>        <th class=\"col_heading level1 col0\" >count</th>    </tr>    <tr>        <th class=\"index_name level0\" >year_of_release</th>        <th class=\"blank\" ></th>    </tr></thead><tbody>\n",
              "                <tr>\n",
              "                        <th id=\"T_21fee9b0_ba57_11eb_af99_02420a390e2elevel0_row0\" class=\"row_heading level0 row0\" >1980</th>\n",
              "                        <td id=\"T_21fee9b0_ba57_11eb_af99_02420a390e2erow0_col0\" class=\"data row0 col0\" >9.00</td>\n",
              "            </tr>\n",
              "            <tr>\n",
              "                        <th id=\"T_21fee9b0_ba57_11eb_af99_02420a390e2elevel0_row1\" class=\"row_heading level0 row1\" >1981</th>\n",
              "                        <td id=\"T_21fee9b0_ba57_11eb_af99_02420a390e2erow1_col0\" class=\"data row1 col0\" >46.00</td>\n",
              "            </tr>\n",
              "            <tr>\n",
              "                        <th id=\"T_21fee9b0_ba57_11eb_af99_02420a390e2elevel0_row2\" class=\"row_heading level0 row2\" >1982</th>\n",
              "                        <td id=\"T_21fee9b0_ba57_11eb_af99_02420a390e2erow2_col0\" class=\"data row2 col0\" >53.00</td>\n",
              "            </tr>\n",
              "            <tr>\n",
              "                        <th id=\"T_21fee9b0_ba57_11eb_af99_02420a390e2elevel0_row3\" class=\"row_heading level0 row3\" >1983</th>\n",
              "                        <td id=\"T_21fee9b0_ba57_11eb_af99_02420a390e2erow3_col0\" class=\"data row3 col0\" >17.00</td>\n",
              "            </tr>\n",
              "            <tr>\n",
              "                        <th id=\"T_21fee9b0_ba57_11eb_af99_02420a390e2elevel0_row4\" class=\"row_heading level0 row4\" >1984</th>\n",
              "                        <td id=\"T_21fee9b0_ba57_11eb_af99_02420a390e2erow4_col0\" class=\"data row4 col0\" >14.00</td>\n",
              "            </tr>\n",
              "            <tr>\n",
              "                        <th id=\"T_21fee9b0_ba57_11eb_af99_02420a390e2elevel0_row5\" class=\"row_heading level0 row5\" >1985</th>\n",
              "                        <td id=\"T_21fee9b0_ba57_11eb_af99_02420a390e2erow5_col0\" class=\"data row5 col0\" >14.00</td>\n",
              "            </tr>\n",
              "            <tr>\n",
              "                        <th id=\"T_21fee9b0_ba57_11eb_af99_02420a390e2elevel0_row6\" class=\"row_heading level0 row6\" >1986</th>\n",
              "                        <td id=\"T_21fee9b0_ba57_11eb_af99_02420a390e2erow6_col0\" class=\"data row6 col0\" >21.00</td>\n",
              "            </tr>\n",
              "            <tr>\n",
              "                        <th id=\"T_21fee9b0_ba57_11eb_af99_02420a390e2elevel0_row7\" class=\"row_heading level0 row7\" >1987</th>\n",
              "                        <td id=\"T_21fee9b0_ba57_11eb_af99_02420a390e2erow7_col0\" class=\"data row7 col0\" >16.00</td>\n",
              "            </tr>\n",
              "            <tr>\n",
              "                        <th id=\"T_21fee9b0_ba57_11eb_af99_02420a390e2elevel0_row8\" class=\"row_heading level0 row8\" >1988</th>\n",
              "                        <td id=\"T_21fee9b0_ba57_11eb_af99_02420a390e2erow8_col0\" class=\"data row8 col0\" >15.00</td>\n",
              "            </tr>\n",
              "            <tr>\n",
              "                        <th id=\"T_21fee9b0_ba57_11eb_af99_02420a390e2elevel0_row9\" class=\"row_heading level0 row9\" >1989</th>\n",
              "                        <td id=\"T_21fee9b0_ba57_11eb_af99_02420a390e2erow9_col0\" class=\"data row9 col0\" >17.00</td>\n",
              "            </tr>\n",
              "            <tr>\n",
              "                        <th id=\"T_21fee9b0_ba57_11eb_af99_02420a390e2elevel0_row10\" class=\"row_heading level0 row10\" >1990</th>\n",
              "                        <td id=\"T_21fee9b0_ba57_11eb_af99_02420a390e2erow10_col0\" class=\"data row10 col0\" >16.00</td>\n",
              "            </tr>\n",
              "            <tr>\n",
              "                        <th id=\"T_21fee9b0_ba57_11eb_af99_02420a390e2elevel0_row11\" class=\"row_heading level0 row11\" >1991</th>\n",
              "                        <td id=\"T_21fee9b0_ba57_11eb_af99_02420a390e2erow11_col0\" class=\"data row11 col0\" >41.00</td>\n",
              "            </tr>\n",
              "            <tr>\n",
              "                        <th id=\"T_21fee9b0_ba57_11eb_af99_02420a390e2elevel0_row12\" class=\"row_heading level0 row12\" >1992</th>\n",
              "                        <td id=\"T_21fee9b0_ba57_11eb_af99_02420a390e2erow12_col0\" class=\"data row12 col0\" >43.00</td>\n",
              "            </tr>\n",
              "            <tr>\n",
              "                        <th id=\"T_21fee9b0_ba57_11eb_af99_02420a390e2elevel0_row13\" class=\"row_heading level0 row13\" >1993</th>\n",
              "                        <td id=\"T_21fee9b0_ba57_11eb_af99_02420a390e2erow13_col0\" class=\"data row13 col0\" >60.00</td>\n",
              "            </tr>\n",
              "            <tr>\n",
              "                        <th id=\"T_21fee9b0_ba57_11eb_af99_02420a390e2elevel0_row14\" class=\"row_heading level0 row14\" >1994</th>\n",
              "                        <td id=\"T_21fee9b0_ba57_11eb_af99_02420a390e2erow14_col0\" class=\"data row14 col0\" >121.00</td>\n",
              "            </tr>\n",
              "            <tr>\n",
              "                        <th id=\"T_21fee9b0_ba57_11eb_af99_02420a390e2elevel0_row15\" class=\"row_heading level0 row15\" >1995</th>\n",
              "                        <td id=\"T_21fee9b0_ba57_11eb_af99_02420a390e2erow15_col0\" class=\"data row15 col0\" >219.00</td>\n",
              "            </tr>\n",
              "            <tr>\n",
              "                        <th id=\"T_21fee9b0_ba57_11eb_af99_02420a390e2elevel0_row16\" class=\"row_heading level0 row16\" >1996</th>\n",
              "                        <td id=\"T_21fee9b0_ba57_11eb_af99_02420a390e2erow16_col0\" class=\"data row16 col0\" >263.00</td>\n",
              "            </tr>\n",
              "            <tr>\n",
              "                        <th id=\"T_21fee9b0_ba57_11eb_af99_02420a390e2elevel0_row17\" class=\"row_heading level0 row17\" >1997</th>\n",
              "                        <td id=\"T_21fee9b0_ba57_11eb_af99_02420a390e2erow17_col0\" class=\"data row17 col0\" >290.00</td>\n",
              "            </tr>\n",
              "            <tr>\n",
              "                        <th id=\"T_21fee9b0_ba57_11eb_af99_02420a390e2elevel0_row18\" class=\"row_heading level0 row18\" >1998</th>\n",
              "                        <td id=\"T_21fee9b0_ba57_11eb_af99_02420a390e2erow18_col0\" class=\"data row18 col0\" >386.00</td>\n",
              "            </tr>\n",
              "            <tr>\n",
              "                        <th id=\"T_21fee9b0_ba57_11eb_af99_02420a390e2elevel0_row19\" class=\"row_heading level0 row19\" >1999</th>\n",
              "                        <td id=\"T_21fee9b0_ba57_11eb_af99_02420a390e2erow19_col0\" class=\"data row19 col0\" >341.00</td>\n",
              "            </tr>\n",
              "            <tr>\n",
              "                        <th id=\"T_21fee9b0_ba57_11eb_af99_02420a390e2elevel0_row20\" class=\"row_heading level0 row20\" >2000</th>\n",
              "                        <td id=\"T_21fee9b0_ba57_11eb_af99_02420a390e2erow20_col0\" class=\"data row20 col0\" >350.00</td>\n",
              "            </tr>\n",
              "            <tr>\n",
              "                        <th id=\"T_21fee9b0_ba57_11eb_af99_02420a390e2elevel0_row21\" class=\"row_heading level0 row21\" >2001</th>\n",
              "                        <td id=\"T_21fee9b0_ba57_11eb_af99_02420a390e2erow21_col0\" class=\"data row21 col0\" >482.00</td>\n",
              "            </tr>\n",
              "            <tr>\n",
              "                        <th id=\"T_21fee9b0_ba57_11eb_af99_02420a390e2elevel0_row22\" class=\"row_heading level0 row22\" >2002</th>\n",
              "                        <td id=\"T_21fee9b0_ba57_11eb_af99_02420a390e2erow22_col0\" class=\"data row22 col0\" >829.00</td>\n",
              "            </tr>\n",
              "            <tr>\n",
              "                        <th id=\"T_21fee9b0_ba57_11eb_af99_02420a390e2elevel0_row23\" class=\"row_heading level0 row23\" >2003</th>\n",
              "                        <td id=\"T_21fee9b0_ba57_11eb_af99_02420a390e2erow23_col0\" class=\"data row23 col0\" >800.00</td>\n",
              "            </tr>\n",
              "            <tr>\n",
              "                        <th id=\"T_21fee9b0_ba57_11eb_af99_02420a390e2elevel0_row24\" class=\"row_heading level0 row24\" >2004</th>\n",
              "                        <td id=\"T_21fee9b0_ba57_11eb_af99_02420a390e2erow24_col0\" class=\"data row24 col0\" >783.00</td>\n",
              "            </tr>\n",
              "            <tr>\n",
              "                        <th id=\"T_21fee9b0_ba57_11eb_af99_02420a390e2elevel0_row25\" class=\"row_heading level0 row25\" >2005</th>\n",
              "                        <td id=\"T_21fee9b0_ba57_11eb_af99_02420a390e2erow25_col0\" class=\"data row25 col0\" >973.00</td>\n",
              "            </tr>\n",
              "            <tr>\n",
              "                        <th id=\"T_21fee9b0_ba57_11eb_af99_02420a390e2elevel0_row26\" class=\"row_heading level0 row26\" >2006</th>\n",
              "                        <td id=\"T_21fee9b0_ba57_11eb_af99_02420a390e2erow26_col0\" class=\"data row26 col0\" >1006.00</td>\n",
              "            </tr>\n",
              "            <tr>\n",
              "                        <th id=\"T_21fee9b0_ba57_11eb_af99_02420a390e2elevel0_row27\" class=\"row_heading level0 row27\" >2007</th>\n",
              "                        <td id=\"T_21fee9b0_ba57_11eb_af99_02420a390e2erow27_col0\" class=\"data row27 col0\" >1197.00</td>\n",
              "            </tr>\n",
              "            <tr>\n",
              "                        <th id=\"T_21fee9b0_ba57_11eb_af99_02420a390e2elevel0_row28\" class=\"row_heading level0 row28\" >2008</th>\n",
              "                        <td id=\"T_21fee9b0_ba57_11eb_af99_02420a390e2erow28_col0\" class=\"data row28 col0\" >1457.00</td>\n",
              "            </tr>\n",
              "            <tr>\n",
              "                        <th id=\"T_21fee9b0_ba57_11eb_af99_02420a390e2elevel0_row29\" class=\"row_heading level0 row29\" >2009</th>\n",
              "                        <td id=\"T_21fee9b0_ba57_11eb_af99_02420a390e2erow29_col0\" class=\"data row29 col0\" >1476.00</td>\n",
              "            </tr>\n",
              "            <tr>\n",
              "                        <th id=\"T_21fee9b0_ba57_11eb_af99_02420a390e2elevel0_row30\" class=\"row_heading level0 row30\" >2010</th>\n",
              "                        <td id=\"T_21fee9b0_ba57_11eb_af99_02420a390e2erow30_col0\" class=\"data row30 col0\" >1300.00</td>\n",
              "            </tr>\n",
              "            <tr>\n",
              "                        <th id=\"T_21fee9b0_ba57_11eb_af99_02420a390e2elevel0_row31\" class=\"row_heading level0 row31\" >2011</th>\n",
              "                        <td id=\"T_21fee9b0_ba57_11eb_af99_02420a390e2erow31_col0\" class=\"data row31 col0\" >1160.00</td>\n",
              "            </tr>\n",
              "            <tr>\n",
              "                        <th id=\"T_21fee9b0_ba57_11eb_af99_02420a390e2elevel0_row32\" class=\"row_heading level0 row32\" >2012</th>\n",
              "                        <td id=\"T_21fee9b0_ba57_11eb_af99_02420a390e2erow32_col0\" class=\"data row32 col0\" >653.00</td>\n",
              "            </tr>\n",
              "            <tr>\n",
              "                        <th id=\"T_21fee9b0_ba57_11eb_af99_02420a390e2elevel0_row33\" class=\"row_heading level0 row33\" >2013</th>\n",
              "                        <td id=\"T_21fee9b0_ba57_11eb_af99_02420a390e2erow33_col0\" class=\"data row33 col0\" >552.00</td>\n",
              "            </tr>\n",
              "            <tr>\n",
              "                        <th id=\"T_21fee9b0_ba57_11eb_af99_02420a390e2elevel0_row34\" class=\"row_heading level0 row34\" >2014</th>\n",
              "                        <td id=\"T_21fee9b0_ba57_11eb_af99_02420a390e2erow34_col0\" class=\"data row34 col0\" >582.00</td>\n",
              "            </tr>\n",
              "            <tr>\n",
              "                        <th id=\"T_21fee9b0_ba57_11eb_af99_02420a390e2elevel0_row35\" class=\"row_heading level0 row35\" >2015</th>\n",
              "                        <td id=\"T_21fee9b0_ba57_11eb_af99_02420a390e2erow35_col0\" class=\"data row35 col0\" >606.00</td>\n",
              "            </tr>\n",
              "            <tr>\n",
              "                        <th id=\"T_21fee9b0_ba57_11eb_af99_02420a390e2elevel0_row36\" class=\"row_heading level0 row36\" >2016</th>\n",
              "                        <td id=\"T_21fee9b0_ba57_11eb_af99_02420a390e2erow36_col0\" class=\"data row36 col0\" >502.00</td>\n",
              "            </tr>\n",
              "    </tbody></table>"
            ],
            "text/plain": [
              "<pandas.io.formats.style.Styler at 0x7fab16130090>"
            ]
          },
          "execution_count": 33,
          "metadata": {},
          "output_type": "execute_result"
        }
      ],
      "source": [
        "df.groupby('year_of_release')\\\n",
        "  .agg({'name':['count']})\\\n",
        "  .style.format(\"{:.2f}\")"
      ]
    },
    {
      "cell_type": "markdown",
      "metadata": {
        "id": "OE_Du-d5qhfs"
      },
      "source": [
        "Как видно из графика и таблицы, число игр до 1995 года на порядок ниже, чем в последующие годы. Сравнивать данные по годам при столь разном количестве наблюдений было бы некорректно, поэтому на данном этапе предлагается избавиться от данных за 1995 год и ранее. А дальше посмотрим!"
      ]
    },
    {
      "cell_type": "code",
      "execution_count": null,
      "metadata": {
        "id": "2dgpZgXYqhfs"
      },
      "outputs": [],
      "source": [
        "df = df[df['year_of_release'] > 1995]"
      ]
    },
    {
      "cell_type": "markdown",
      "metadata": {
        "id": "IacEf-aRqhfs"
      },
      "source": [
        "### Срок жизни платформ"
      ]
    },
    {
      "cell_type": "markdown",
      "metadata": {
        "id": "idCl_CsOqhfs"
      },
      "source": [
        "Необходимо также посмотреть, как менялись продажи по платформам. Выбрать платформы с наибольшими суммарными продажами и построить распределение по годам. За какой характерный срок появляются новые и исчезают старые платформы?"
      ]
    },
    {
      "cell_type": "markdown",
      "metadata": {
        "id": "wMcsj5FNqhft"
      },
      "source": [
        "**ТОП-10** платформ по продажам выглядит следующим образом:"
      ]
    },
    {
      "cell_type": "code",
      "execution_count": null,
      "metadata": {
        "id": "5CbVDwQ3qhft",
        "outputId": "bc07cd38-f5df-4187-b504-090045a618ab"
      },
      "outputs": [
        {
          "data": {
            "text/plain": [
              "platform\n",
              "PS2    1255.770\n",
              "X360    971.420\n",
              "PS3     939.650\n",
              "Wii     907.510\n",
              "DS      806.100\n",
              "PS      688.870\n",
              "GBA     317.850\n",
              "PS4     314.140\n",
              "PSP     294.050\n",
              "3DS     259.000\n",
              "Name: total_sales, dtype: float32"
            ]
          },
          "execution_count": 35,
          "metadata": {},
          "output_type": "execute_result"
        }
      ],
      "source": [
        "df.groupby('platform')['total_sales'].sum().sort_values(ascending=False).head(10)"
      ]
    },
    {
      "cell_type": "markdown",
      "metadata": {
        "id": "xUTaWnzUqhft"
      },
      "source": [
        "**ТОП-10** получается слишком неоднородным: у 6 позиции (DS) суммарные продажи на 656.980 млн копий, а у 7 (PS4) уже в 2 раза меньше - 314 млн копий.\n",
        "\n",
        "Поэтому разумнее будет взять рейтинг **ТОП-6**."
      ]
    },
    {
      "cell_type": "markdown",
      "metadata": {
        "id": "wT9oTSzIqhft"
      },
      "source": [
        "Сохраним **ТОП-6** значений в списке!"
      ]
    },
    {
      "cell_type": "code",
      "execution_count": null,
      "metadata": {
        "id": "aRA4UBqpqhft"
      },
      "outputs": [],
      "source": [
        "games_top_6 = df.groupby('platform')['total_sales'].sum().sort_values(ascending=False).head(6).index.to_list()"
      ]
    },
    {
      "cell_type": "code",
      "execution_count": null,
      "metadata": {
        "id": "Mo2f82Kzqhft",
        "outputId": "3b02f037-2931-4ba8-e064-684e80512660"
      },
      "outputs": [
        {
          "data": {
            "text/plain": [
              "['PS2', 'X360', 'PS3', 'Wii', 'DS', 'PS']"
            ]
          },
          "execution_count": 37,
          "metadata": {},
          "output_type": "execute_result"
        }
      ],
      "source": [
        "games_top_6"
      ]
    },
    {
      "cell_type": "code",
      "execution_count": null,
      "metadata": {
        "scrolled": false,
        "id": "I8zLBSeXqhfu"
      },
      "outputs": [],
      "source": [
        "df_games_top_6 = df.query('platform in @games_top_6').groupby('platform')['year_of_release'].agg({'platform': ['min', 'max']})\n",
        "df_games_top_6.columns = df_games_top_6.columns.droplevel(0)\n",
        "df_games_top_6['range'] = df_games_top_6['max'] - df_games_top_6['min']"
      ]
    },
    {
      "cell_type": "code",
      "execution_count": null,
      "metadata": {
        "id": "EAi2TdtSqhfu",
        "outputId": "63a233b6-74ab-4d59-83c5-2bfe6f77fbbd"
      },
      "outputs": [
        {
          "data": {
            "text/html": [
              "<div>\n",
              "<style scoped>\n",
              "    .dataframe tbody tr th:only-of-type {\n",
              "        vertical-align: middle;\n",
              "    }\n",
              "\n",
              "    .dataframe tbody tr th {\n",
              "        vertical-align: top;\n",
              "    }\n",
              "\n",
              "    .dataframe thead th {\n",
              "        text-align: right;\n",
              "    }\n",
              "</style>\n",
              "<table border=\"1\" class=\"dataframe\">\n",
              "  <thead>\n",
              "    <tr style=\"text-align: right;\">\n",
              "      <th></th>\n",
              "      <th>min</th>\n",
              "      <th>max</th>\n",
              "      <th>range</th>\n",
              "    </tr>\n",
              "    <tr>\n",
              "      <th>platform</th>\n",
              "      <th></th>\n",
              "      <th></th>\n",
              "      <th></th>\n",
              "    </tr>\n",
              "  </thead>\n",
              "  <tbody>\n",
              "    <tr>\n",
              "      <td>PS2</td>\n",
              "      <td>2000</td>\n",
              "      <td>2011</td>\n",
              "      <td>11</td>\n",
              "    </tr>\n",
              "    <tr>\n",
              "      <td>X360</td>\n",
              "      <td>2005</td>\n",
              "      <td>2016</td>\n",
              "      <td>11</td>\n",
              "    </tr>\n",
              "    <tr>\n",
              "      <td>PS3</td>\n",
              "      <td>2006</td>\n",
              "      <td>2016</td>\n",
              "      <td>10</td>\n",
              "    </tr>\n",
              "    <tr>\n",
              "      <td>Wii</td>\n",
              "      <td>2006</td>\n",
              "      <td>2016</td>\n",
              "      <td>10</td>\n",
              "    </tr>\n",
              "    <tr>\n",
              "      <td>DS</td>\n",
              "      <td>2004</td>\n",
              "      <td>2013</td>\n",
              "      <td>9</td>\n",
              "    </tr>\n",
              "    <tr>\n",
              "      <td>PS</td>\n",
              "      <td>1996</td>\n",
              "      <td>2003</td>\n",
              "      <td>7</td>\n",
              "    </tr>\n",
              "  </tbody>\n",
              "</table>\n",
              "</div>"
            ],
            "text/plain": [
              "           min   max  range\n",
              "platform                   \n",
              "PS2       2000  2011     11\n",
              "X360      2005  2016     11\n",
              "PS3       2006  2016     10\n",
              "Wii       2006  2016     10\n",
              "DS        2004  2013      9\n",
              "PS        1996  2003      7"
            ]
          },
          "execution_count": 39,
          "metadata": {},
          "output_type": "execute_result"
        }
      ],
      "source": [
        "df_games_top_6.sort_values('range', ascending=False)"
      ]
    },
    {
      "cell_type": "code",
      "execution_count": null,
      "metadata": {
        "id": "u0p6_9CGqhfu",
        "outputId": "1d37cb2a-6f9d-4499-e962-a5b8c937f15d"
      },
      "outputs": [
        {
          "data": {
            "text/plain": [
              "9.666666666666666"
            ]
          },
          "execution_count": 40,
          "metadata": {},
          "output_type": "execute_result"
        }
      ],
      "source": [
        "df_games_top_6['range'].mean()"
      ]
    },
    {
      "cell_type": "markdown",
      "metadata": {
        "id": "nuP2r1ebqhfu"
      },
      "source": [
        "Видно, что на таких популярных приставках, как PS2, PSP, X360 игры продолжали выходить на протяжении 11 лет. На других приставках чуть меньше. У PS4 по данным всего три года, но это лишь по той причине, что она не так давно вышла (на момент формирования БД).\n",
        "\n",
        "Среднее количество лет существования приставки: 9.5 лет. Округлим до 10 лет.\n",
        "\n",
        "**Актуальный период, таким образом, выберем следующим образом:**\n",
        "\n",
        "1. Определим самые популярные платформы за 2016 год;\n",
        "2. Посмотрим, в каком году вышли данные платформы\n",
        "3. Этот год возьмем за начало интервала"
      ]
    },
    {
      "cell_type": "markdown",
      "metadata": {
        "id": "IqC84Mg_qhfv"
      },
      "source": [
        "### Потенциально прибыльные платформы"
      ]
    },
    {
      "cell_type": "markdown",
      "metadata": {
        "id": "CKzFF0AWqhfv"
      },
      "source": [
        "Необходимо определить, какие платформы лидируют по продажам, растут или падают? Нужно выбрать несколько потенциально прибыльных платформ."
      ]
    },
    {
      "cell_type": "code",
      "execution_count": null,
      "metadata": {
        "id": "CEiOM2euqhfv",
        "outputId": "716fb8c7-b9c3-4b4b-a805-436a180732eb"
      },
      "outputs": [
        {
          "data": {
            "image/png": "[encoded data removed]",
            "text/plain": [
              "<Figure size 864x360 with 1 Axes>"
            ]
          },
          "metadata": {
            "needs_background": "light"
          },
          "output_type": "display_data"
        }
      ],
      "source": [
        "pd.pivot_table(df, values='total_sales',\n",
        "               index='year_of_release',\n",
        "               columns=['platform'],\n",
        "               aggfunc=np.sum).plot(figsize=(12,5),style='.-')\n",
        "plt.title('Суммарные продажи за год')\n",
        "plt.xlabel('Год')\n",
        "plt.ylabel('Продажи (млн.)')\n",
        "plt.legend (loc='center left')\n",
        "\n",
        "plt.show()"
      ]
    },
    {
      "cell_type": "markdown",
      "metadata": {
        "id": "UA31lPN6qhfv"
      },
      "source": [
        "Лидером продаж на 2016 год является PS4, следом идут XOne и 3DS. И на 4 месте PC. \n",
        "\n",
        "Также может показаться словно с 2015 года количество продаж по всем платформам начинает снижаться, из чего можно сделать вывод, что рынок игр в целом начинает просидать. Однако вероятнее всего то, что за 2016 год просто данные представлены предоставлены не в полном объеме, о чем есть предупреждение в описании проекта:\n",
        "\n",
        "\"*Данные за 2016 год могут быть неполными*\"\n",
        "\n",
        "PS4, XOne, 3DS - лидеры актуального периода. Не так давно появились (на момент формирования БД) и когда-то уйдут на покой с выходом нового поколения. Наиболее стабильная из лидеров в плане продаж платформа - PC. "
      ]
    },
    {
      "cell_type": "code",
      "execution_count": null,
      "metadata": {
        "id": "OD6ZzqRbqhfv",
        "outputId": "c02da75b-8bef-4b33-bf27-ec50a55a35ff"
      },
      "outputs": [
        {
          "data": {
            "text/html": [
              "<div>\n",
              "<style scoped>\n",
              "    .dataframe tbody tr th:only-of-type {\n",
              "        vertical-align: middle;\n",
              "    }\n",
              "\n",
              "    .dataframe tbody tr th {\n",
              "        vertical-align: top;\n",
              "    }\n",
              "\n",
              "    .dataframe thead tr th {\n",
              "        text-align: left;\n",
              "    }\n",
              "\n",
              "    .dataframe thead tr:last-of-type th {\n",
              "        text-align: right;\n",
              "    }\n",
              "</style>\n",
              "<table border=\"1\" class=\"dataframe\">\n",
              "  <thead>\n",
              "    <tr>\n",
              "      <th></th>\n",
              "      <th colspan=\"2\" halign=\"left\">platform</th>\n",
              "    </tr>\n",
              "    <tr>\n",
              "      <th></th>\n",
              "      <th>min</th>\n",
              "      <th>max</th>\n",
              "    </tr>\n",
              "    <tr>\n",
              "      <th>platform</th>\n",
              "      <th></th>\n",
              "      <th></th>\n",
              "    </tr>\n",
              "  </thead>\n",
              "  <tbody>\n",
              "    <tr>\n",
              "      <td>3DS</td>\n",
              "      <td>2011</td>\n",
              "      <td>2016</td>\n",
              "    </tr>\n",
              "    <tr>\n",
              "      <td>PS4</td>\n",
              "      <td>2013</td>\n",
              "      <td>2016</td>\n",
              "    </tr>\n",
              "    <tr>\n",
              "      <td>XOne</td>\n",
              "      <td>2013</td>\n",
              "      <td>2016</td>\n",
              "    </tr>\n",
              "  </tbody>\n",
              "</table>\n",
              "</div>"
            ],
            "text/plain": [
              "         platform      \n",
              "              min   max\n",
              "platform               \n",
              "3DS          2011  2016\n",
              "PS4          2013  2016\n",
              "XOne         2013  2016"
            ]
          },
          "execution_count": 42,
          "metadata": {},
          "output_type": "execute_result"
        }
      ],
      "source": [
        "df.query('platform == \"PS4\" or platform == \"XOne\" or platform == \"3DS\"').groupby('platform')['year_of_release'].agg({'platform': ['min', 'max']})"
      ]
    },
    {
      "cell_type": "markdown",
      "metadata": {
        "id": "OkNmeXnPqhfv"
      },
      "source": [
        "Встает выбор, что взять 2011 или 2013? Наверное лучше выбрать 2013, потому что на момент 2011 года еще продолжают доминировать консоли старого поколения (PS3 и XBox360), тогда как с 2013 года они начинают резко терять популярность и уступать место новому поколению. Думаю, остановимся на том, что **актуальный период: 2013-2016 годы**."
      ]
    },
    {
      "cell_type": "code",
      "execution_count": null,
      "metadata": {
        "id": "fOfZtJNYqhfw"
      },
      "outputs": [],
      "source": [
        "df = df[df['year_of_release'] > 2013]"
      ]
    },
    {
      "cell_type": "markdown",
      "metadata": {
        "id": "bgdHUMxWqhfw"
      },
      "source": [
        "### Глобальные продажи игр в разбивке по платформам"
      ]
    },
    {
      "cell_type": "markdown",
      "metadata": {
        "id": "qnKLPmcuqhfw"
      },
      "source": [
        "Необходимо построить график «ящик с усами» по глобальным продажам игр в разбивке по платформам. Описать результат."
      ]
    },
    {
      "cell_type": "code",
      "execution_count": null,
      "metadata": {
        "id": "KGrsHmjoqhfw",
        "outputId": "de3227f6-793b-4eb0-b433-786740efb2b2"
      },
      "outputs": [
        {
          "data": {
            "image/png": "[encoded data removed]",
            "text/plain": [
              "<Figure size 936x648 with 1 Axes>"
            ]
          },
          "metadata": {
            "needs_background": "light"
          },
          "output_type": "display_data"
        }
      ],
      "source": [
        "df.boxplot(by='platform',column='total_sales', figsize=(13,9), notch=True, sym=\"o\",vert=False, widths = 0.5, patch_artist = True)\n",
        "plt.title('Суммарные продажи за весь период')\n",
        "plt.xlabel('Продажи')\n",
        "plt.ylabel('Платформы')\n",
        "plt.xlim((0,1))\n",
        "plt.show()"
      ]
    },
    {
      "cell_type": "code",
      "execution_count": null,
      "metadata": {
        "id": "z5IWshVEqhfw",
        "outputId": "526c262d-e89a-4ea4-a8dd-0f16778c29ef"
      },
      "outputs": [
        {
          "data": {
            "text/html": [
              "<div>\n",
              "<style scoped>\n",
              "    .dataframe tbody tr th:only-of-type {\n",
              "        vertical-align: middle;\n",
              "    }\n",
              "\n",
              "    .dataframe tbody tr th {\n",
              "        vertical-align: top;\n",
              "    }\n",
              "\n",
              "    .dataframe thead th {\n",
              "        text-align: right;\n",
              "    }\n",
              "</style>\n",
              "<table border=\"1\" class=\"dataframe\">\n",
              "  <thead>\n",
              "    <tr style=\"text-align: right;\">\n",
              "      <th></th>\n",
              "      <th>count</th>\n",
              "      <th>mean</th>\n",
              "      <th>std</th>\n",
              "      <th>min</th>\n",
              "      <th>25%</th>\n",
              "      <th>50%</th>\n",
              "      <th>75%</th>\n",
              "      <th>max</th>\n",
              "    </tr>\n",
              "    <tr>\n",
              "      <th>platform</th>\n",
              "      <th></th>\n",
              "      <th></th>\n",
              "      <th></th>\n",
              "      <th></th>\n",
              "      <th></th>\n",
              "      <th></th>\n",
              "      <th></th>\n",
              "      <th></th>\n",
              "    </tr>\n",
              "  </thead>\n",
              "  <tbody>\n",
              "    <tr>\n",
              "      <td>PS4</td>\n",
              "      <td>376.000</td>\n",
              "      <td>0.766</td>\n",
              "      <td>1.615</td>\n",
              "      <td>0.010</td>\n",
              "      <td>0.057</td>\n",
              "      <td>0.185</td>\n",
              "      <td>0.690</td>\n",
              "      <td>14.630</td>\n",
              "    </tr>\n",
              "    <tr>\n",
              "      <td>XOne</td>\n",
              "      <td>228.000</td>\n",
              "      <td>0.616</td>\n",
              "      <td>1.047</td>\n",
              "      <td>0.010</td>\n",
              "      <td>0.050</td>\n",
              "      <td>0.205</td>\n",
              "      <td>0.633</td>\n",
              "      <td>7.390</td>\n",
              "    </tr>\n",
              "    <tr>\n",
              "      <td>WiiU</td>\n",
              "      <td>73.000</td>\n",
              "      <td>0.589</td>\n",
              "      <td>1.161</td>\n",
              "      <td>0.010</td>\n",
              "      <td>0.050</td>\n",
              "      <td>0.190</td>\n",
              "      <td>0.570</td>\n",
              "      <td>7.090</td>\n",
              "    </tr>\n",
              "    <tr>\n",
              "      <td>Wii</td>\n",
              "      <td>11.000</td>\n",
              "      <td>0.461</td>\n",
              "      <td>0.625</td>\n",
              "      <td>0.010</td>\n",
              "      <td>0.035</td>\n",
              "      <td>0.180</td>\n",
              "      <td>0.755</td>\n",
              "      <td>2.010</td>\n",
              "    </tr>\n",
              "    <tr>\n",
              "      <td>X360</td>\n",
              "      <td>111.000</td>\n",
              "      <td>0.434</td>\n",
              "      <td>0.629</td>\n",
              "      <td>0.010</td>\n",
              "      <td>0.070</td>\n",
              "      <td>0.180</td>\n",
              "      <td>0.505</td>\n",
              "      <td>4.280</td>\n",
              "    </tr>\n",
              "    <tr>\n",
              "      <td>3DS</td>\n",
              "      <td>212.000</td>\n",
              "      <td>0.409</td>\n",
              "      <td>1.188</td>\n",
              "      <td>0.010</td>\n",
              "      <td>0.030</td>\n",
              "      <td>0.090</td>\n",
              "      <td>0.250</td>\n",
              "      <td>11.680</td>\n",
              "    </tr>\n",
              "    <tr>\n",
              "      <td>PS3</td>\n",
              "      <td>219.000</td>\n",
              "      <td>0.311</td>\n",
              "      <td>0.633</td>\n",
              "      <td>0.010</td>\n",
              "      <td>0.040</td>\n",
              "      <td>0.110</td>\n",
              "      <td>0.325</td>\n",
              "      <td>5.270</td>\n",
              "    </tr>\n",
              "    <tr>\n",
              "      <td>PC</td>\n",
              "      <td>151.000</td>\n",
              "      <td>0.179</td>\n",
              "      <td>0.329</td>\n",
              "      <td>0.010</td>\n",
              "      <td>0.020</td>\n",
              "      <td>0.060</td>\n",
              "      <td>0.200</td>\n",
              "      <td>3.050</td>\n",
              "    </tr>\n",
              "    <tr>\n",
              "      <td>PSV</td>\n",
              "      <td>296.000</td>\n",
              "      <td>0.077</td>\n",
              "      <td>0.142</td>\n",
              "      <td>0.010</td>\n",
              "      <td>0.020</td>\n",
              "      <td>0.040</td>\n",
              "      <td>0.090</td>\n",
              "      <td>1.960</td>\n",
              "    </tr>\n",
              "    <tr>\n",
              "      <td>PSP</td>\n",
              "      <td>13.000</td>\n",
              "      <td>0.028</td>\n",
              "      <td>0.028</td>\n",
              "      <td>0.010</td>\n",
              "      <td>0.010</td>\n",
              "      <td>0.020</td>\n",
              "      <td>0.020</td>\n",
              "      <td>0.090</td>\n",
              "    </tr>\n",
              "  </tbody>\n",
              "</table>\n",
              "</div>"
            ],
            "text/plain": [
              "           count  mean   std   min   25%   50%   75%    max\n",
              "platform                                                   \n",
              "PS4      376.000 0.766 1.615 0.010 0.057 0.185 0.690 14.630\n",
              "XOne     228.000 0.616 1.047 0.010 0.050 0.205 0.633  7.390\n",
              "WiiU      73.000 0.589 1.161 0.010 0.050 0.190 0.570  7.090\n",
              "Wii       11.000 0.461 0.625 0.010 0.035 0.180 0.755  2.010\n",
              "X360     111.000 0.434 0.629 0.010 0.070 0.180 0.505  4.280\n",
              "3DS      212.000 0.409 1.188 0.010 0.030 0.090 0.250 11.680\n",
              "PS3      219.000 0.311 0.633 0.010 0.040 0.110 0.325  5.270\n",
              "PC       151.000 0.179 0.329 0.010 0.020 0.060 0.200  3.050\n",
              "PSV      296.000 0.077 0.142 0.010 0.020 0.040 0.090  1.960\n",
              "PSP       13.000 0.028 0.028 0.010 0.010 0.020 0.020  0.090"
            ]
          },
          "execution_count": 45,
          "metadata": {},
          "output_type": "execute_result"
        }
      ],
      "source": [
        "df.groupby('platform')['total_sales'].describe().sort_values('mean', ascending=False)"
      ]
    },
    {
      "cell_type": "code",
      "execution_count": null,
      "metadata": {
        "id": "Rn-VYChrqhfw",
        "outputId": "2246ae55-5766-4cbd-e60b-2040d4bf6954"
      },
      "outputs": [
        {
          "data": {
            "text/html": [
              "<div>\n",
              "<style scoped>\n",
              "    .dataframe tbody tr th:only-of-type {\n",
              "        vertical-align: middle;\n",
              "    }\n",
              "\n",
              "    .dataframe tbody tr th {\n",
              "        vertical-align: top;\n",
              "    }\n",
              "\n",
              "    .dataframe thead th {\n",
              "        text-align: right;\n",
              "    }\n",
              "</style>\n",
              "<table border=\"1\" class=\"dataframe\">\n",
              "  <thead>\n",
              "    <tr style=\"text-align: right;\">\n",
              "      <th></th>\n",
              "      <th>count</th>\n",
              "      <th>mean</th>\n",
              "      <th>std</th>\n",
              "      <th>min</th>\n",
              "      <th>25%</th>\n",
              "      <th>50%</th>\n",
              "      <th>75%</th>\n",
              "      <th>max</th>\n",
              "    </tr>\n",
              "    <tr>\n",
              "      <th>platform</th>\n",
              "      <th></th>\n",
              "      <th></th>\n",
              "      <th></th>\n",
              "      <th></th>\n",
              "      <th></th>\n",
              "      <th></th>\n",
              "      <th></th>\n",
              "      <th></th>\n",
              "    </tr>\n",
              "  </thead>\n",
              "  <tbody>\n",
              "    <tr>\n",
              "      <td>XOne</td>\n",
              "      <td>228.000</td>\n",
              "      <td>0.616</td>\n",
              "      <td>1.047</td>\n",
              "      <td>0.010</td>\n",
              "      <td>0.050</td>\n",
              "      <td>0.205</td>\n",
              "      <td>0.633</td>\n",
              "      <td>7.390</td>\n",
              "    </tr>\n",
              "    <tr>\n",
              "      <td>WiiU</td>\n",
              "      <td>73.000</td>\n",
              "      <td>0.589</td>\n",
              "      <td>1.161</td>\n",
              "      <td>0.010</td>\n",
              "      <td>0.050</td>\n",
              "      <td>0.190</td>\n",
              "      <td>0.570</td>\n",
              "      <td>7.090</td>\n",
              "    </tr>\n",
              "    <tr>\n",
              "      <td>PS4</td>\n",
              "      <td>376.000</td>\n",
              "      <td>0.766</td>\n",
              "      <td>1.615</td>\n",
              "      <td>0.010</td>\n",
              "      <td>0.057</td>\n",
              "      <td>0.185</td>\n",
              "      <td>0.690</td>\n",
              "      <td>14.630</td>\n",
              "    </tr>\n",
              "    <tr>\n",
              "      <td>Wii</td>\n",
              "      <td>11.000</td>\n",
              "      <td>0.461</td>\n",
              "      <td>0.625</td>\n",
              "      <td>0.010</td>\n",
              "      <td>0.035</td>\n",
              "      <td>0.180</td>\n",
              "      <td>0.755</td>\n",
              "      <td>2.010</td>\n",
              "    </tr>\n",
              "    <tr>\n",
              "      <td>X360</td>\n",
              "      <td>111.000</td>\n",
              "      <td>0.434</td>\n",
              "      <td>0.629</td>\n",
              "      <td>0.010</td>\n",
              "      <td>0.070</td>\n",
              "      <td>0.180</td>\n",
              "      <td>0.505</td>\n",
              "      <td>4.280</td>\n",
              "    </tr>\n",
              "    <tr>\n",
              "      <td>PS3</td>\n",
              "      <td>219.000</td>\n",
              "      <td>0.311</td>\n",
              "      <td>0.633</td>\n",
              "      <td>0.010</td>\n",
              "      <td>0.040</td>\n",
              "      <td>0.110</td>\n",
              "      <td>0.325</td>\n",
              "      <td>5.270</td>\n",
              "    </tr>\n",
              "    <tr>\n",
              "      <td>3DS</td>\n",
              "      <td>212.000</td>\n",
              "      <td>0.409</td>\n",
              "      <td>1.188</td>\n",
              "      <td>0.010</td>\n",
              "      <td>0.030</td>\n",
              "      <td>0.090</td>\n",
              "      <td>0.250</td>\n",
              "      <td>11.680</td>\n",
              "    </tr>\n",
              "    <tr>\n",
              "      <td>PC</td>\n",
              "      <td>151.000</td>\n",
              "      <td>0.179</td>\n",
              "      <td>0.329</td>\n",
              "      <td>0.010</td>\n",
              "      <td>0.020</td>\n",
              "      <td>0.060</td>\n",
              "      <td>0.200</td>\n",
              "      <td>3.050</td>\n",
              "    </tr>\n",
              "    <tr>\n",
              "      <td>PSV</td>\n",
              "      <td>296.000</td>\n",
              "      <td>0.077</td>\n",
              "      <td>0.142</td>\n",
              "      <td>0.010</td>\n",
              "      <td>0.020</td>\n",
              "      <td>0.040</td>\n",
              "      <td>0.090</td>\n",
              "      <td>1.960</td>\n",
              "    </tr>\n",
              "    <tr>\n",
              "      <td>PSP</td>\n",
              "      <td>13.000</td>\n",
              "      <td>0.028</td>\n",
              "      <td>0.028</td>\n",
              "      <td>0.010</td>\n",
              "      <td>0.010</td>\n",
              "      <td>0.020</td>\n",
              "      <td>0.020</td>\n",
              "      <td>0.090</td>\n",
              "    </tr>\n",
              "  </tbody>\n",
              "</table>\n",
              "</div>"
            ],
            "text/plain": [
              "           count  mean   std   min   25%   50%   75%    max\n",
              "platform                                                   \n",
              "XOne     228.000 0.616 1.047 0.010 0.050 0.205 0.633  7.390\n",
              "WiiU      73.000 0.589 1.161 0.010 0.050 0.190 0.570  7.090\n",
              "PS4      376.000 0.766 1.615 0.010 0.057 0.185 0.690 14.630\n",
              "Wii       11.000 0.461 0.625 0.010 0.035 0.180 0.755  2.010\n",
              "X360     111.000 0.434 0.629 0.010 0.070 0.180 0.505  4.280\n",
              "PS3      219.000 0.311 0.633 0.010 0.040 0.110 0.325  5.270\n",
              "3DS      212.000 0.409 1.188 0.010 0.030 0.090 0.250 11.680\n",
              "PC       151.000 0.179 0.329 0.010 0.020 0.060 0.200  3.050\n",
              "PSV      296.000 0.077 0.142 0.010 0.020 0.040 0.090  1.960\n",
              "PSP       13.000 0.028 0.028 0.010 0.010 0.020 0.020  0.090"
            ]
          },
          "execution_count": 46,
          "metadata": {},
          "output_type": "execute_result"
        }
      ],
      "source": [
        "df.groupby('platform')['total_sales'].describe().sort_values('50%', ascending=False)"
      ]
    },
    {
      "cell_type": "markdown",
      "metadata": {
        "id": "s-RLcIY6qhfx"
      },
      "source": [
        "Медиана по топовым платформам варьируется от 0.020 (PSP) до 0.205 (XOne) млн проданных копий.\n",
        "\n",
        "Наибольшее среднее значение по количеству проданных копий на платформах у **PS4 и XOne**, что в очередной раз подтверждает наши выводы относительно того, что эти платформы **самые успешные в рассматриваемый период**."
      ]
    },
    {
      "cell_type": "markdown",
      "metadata": {
        "id": "dQmEdCdaqhfx"
      },
      "source": [
        "### Влияние отзывов пользователей и критиков на продажи внутри одной платформы"
      ]
    },
    {
      "cell_type": "markdown",
      "metadata": {
        "id": "iveQuXTLqhfx"
      },
      "source": [
        "Необходимо посмотреть, как влияют на продажи внутри одной популярной платформы отзывы пользователей и критиков. Построить диаграмму рассеяния и посчитать корреляцию между отзывами и продажами.\n",
        "\n",
        "Как мы выяснили, к самым топовым платформам рассматриваемого периода у нас относятся PS4 и XOne. Предлагаю выбрать одну из них. Как сонибой выберу PS4."
      ]
    },
    {
      "cell_type": "code",
      "execution_count": null,
      "metadata": {
        "id": "jdF3djdbqhfx"
      },
      "outputs": [],
      "source": [
        "df_ps4 = df.query('platform == \"PS4\" and critic_score != \"-1\" and user_score != \"-1\"')"
      ]
    },
    {
      "cell_type": "code",
      "execution_count": null,
      "metadata": {
        "id": "j4exEqEeqhfx",
        "outputId": "fb5a7f9c-26bc-47e5-d7e6-f4169197cd9a"
      },
      "outputs": [
        {
          "data": {
            "text/plain": [
              "0.4019028771227368"
            ]
          },
          "execution_count": 48,
          "metadata": {},
          "output_type": "execute_result"
        }
      ],
      "source": [
        "df_ps4['critic_score'].corr(df_ps4['total_sales'])"
      ]
    },
    {
      "cell_type": "markdown",
      "metadata": {
        "id": "Yygr4l39qhfx"
      },
      "source": [
        "**Наблюдается сильная положительаня связь между оценкой критиков и количеством продаж игр** (коэффициент корреляции Пирсона: 0.4019028771227368). Посмотрим на нее глазами!"
      ]
    },
    {
      "cell_type": "code",
      "execution_count": null,
      "metadata": {
        "id": "BBVO-roHqhfx",
        "outputId": "e95f1b01-880c-412a-f957-df4f6c9bbce0"
      },
      "outputs": [
        {
          "data": {
            "image/png": "[encoded data removed]",
            "text/plain": [
              "<Figure size 936x648 with 1 Axes>"
            ]
          },
          "metadata": {
            "needs_background": "light"
          },
          "output_type": "display_data"
        }
      ],
      "source": [
        "df_ps4.plot(x='critic_score',\n",
        "            y='total_sales',\n",
        "            kind='scatter',\n",
        "            alpha=0.5,\n",
        "            figsize=(13,9));\n",
        "plt.title('Зависимость между оценкой критиков и продажами игр')\n",
        "plt.xlabel('Оценка критиков (баллы)')\n",
        "plt.ylabel('Продажи (млн)')\n",
        "plt.show()"
      ]
    },
    {
      "cell_type": "markdown",
      "metadata": {
        "id": "fvHQY6tTqhfy"
      },
      "source": [
        "Видно, что игры с более высокой оценкой критиков лучше продаются. Что точно:\n",
        "\n",
        "- **современном мире агенты влияния и разного рода тренд-сеттеры (критики, блогеры, издания, стримеры и далее до бесконечности) оказывают существенное влияние на популярность контента, на лояльность к нему. Ознакомление с оценкой \"специалиста\" или \"эксперта\" является стандартной процедурой перед принятием решения о покупке продукта. Это особенно актуально еще и потому, что игровые-критики чаще всего получают доступ к игре намного раньше остальных пользователей, из-за чего продолжительное время есть возможность опереться только на их мнение. Поэтому для обеспечения хороших продаж девелоперам обязательно нужно ориентироваться на оценки критиков**\n",
        "\n",
        "Но интересно, что влияет больше: оценка критиков или пользователей? Сейчас высним!"
      ]
    },
    {
      "cell_type": "code",
      "execution_count": null,
      "metadata": {
        "id": "XE4MsJNuqhfy",
        "outputId": "5d798fec-59e9-428c-f0f7-e50e916507b1"
      },
      "outputs": [
        {
          "data": {
            "text/plain": [
              "-0.03084430551378796"
            ]
          },
          "execution_count": 50,
          "metadata": {},
          "output_type": "execute_result"
        }
      ],
      "source": [
        "df_ps4['user_score'].corr(df_ps4['total_sales'])"
      ]
    },
    {
      "cell_type": "markdown",
      "metadata": {
        "id": "HdfcSnUNqhfy"
      },
      "source": [
        "**Не наблюдается связи между оценкой пользователей и количеством продаж игр** (коэффициент корреляции Пирсона: -0.03084430551378796). Тоже посмотрим на это!"
      ]
    },
    {
      "cell_type": "code",
      "execution_count": null,
      "metadata": {
        "id": "avgFZLAaqhfy",
        "outputId": "baf72709-0b1d-4883-e47d-6150e0778d3a"
      },
      "outputs": [
        {
          "data": {
            "image/png": "[encoded data removed]",
            "text/plain": [
              "<Figure size 936x648 with 1 Axes>"
            ]
          },
          "metadata": {
            "needs_background": "light"
          },
          "output_type": "display_data"
        }
      ],
      "source": [
        "df_ps4.plot(x='user_score',\n",
        "            y='total_sales',\n",
        "            kind='scatter',\n",
        "            alpha=0.5,\n",
        "            figsize=(13,9));\n",
        "plt.title('Зависимость между оценкой пользователей и продажами игр')\n",
        "plt.xlabel('Оценка пользователей (баллы)')\n",
        "plt.ylabel('Продажи (млн)')\n",
        "plt.show()"
      ]
    },
    {
      "cell_type": "markdown",
      "metadata": {
        "id": "txgio5Ojqhfy"
      },
      "source": [
        "Корреляция отсутствует, что может быть объяснено следующим:\n",
        "\n",
        "- в значительной мере успех игры определяется продажами на релизе\n",
        "- на релизе пользователи чаще всего принимают решение о покупке исходя из собственных ожиданий, на основе впечатлений от трейлеров, рекламной кампании и маркетинговой стратегии в целом, от оценок критиков (о чем говорили чуть выше) и т.д.\n",
        "- после покупки игрок уже сам ставит оценку игре, и иногда она может быть не самой высокой, но высокие продажи уже есть.\n",
        "- далеко за примерами ходить не нужно - Cyberpunk 2077: Оценки пользователей на сайте Metacritic спустя день после выхода игры: для PC — 6,2 из 10, для PS4 — 2,0 из 10, для Xbox One — 2,5 из 10. Подробнее можно почитать [тут](https://www.igromania.ru/news/100703/Igroki_zanizhayut_reyting_Cyberpunk_2077_na_Metacritic.html). При этом Cyberpunk 2077 стал самым крупным в истории видеоигр с точки зрения цифровых доходов и проданных цифровых лицензий — более 10,2 миллионов на всех платформах. Подробнее можно почитать [тут](https://www.overclockers.ua/news/games/2021-01-23/128459/#:~:text=Cyberpunk%202077%20%E2%80%94%20%D1%81%D0%B0%D0%BC%D0%B0%D1%8F%20%D0%BF%D1%80%D0%BE%D0%B4%D0%B0%D0%B2%D0%B0%D0%B5%D0%BC%D0%B0%D1%8F%20%D0%B8%D0%B3%D1%80%D0%B0%20%D0%BF%D0%BE%20%D1%87%D0%B8%D1%81%D0%BB%D1%83%20%D1%86%D0%B8%D1%84%D1%80%D0%BE%D0%B2%D1%8B%D1%85%20%D0%BA%D0%BE%D0%BF%D0%B8%D0%B9%20%D0%BD%D0%B0%20%D0%BC%D0%BE%D0%BC%D0%B5%D0%BD%D1%82%20%D1%80%D0%B5%D0%BB%D0%B8%D0%B7%D0%B0,-23.01.2021%20%7C%2008&text=%D0%9A%D0%B0%D0%BA%20%D0%BF%D0%BE%D0%BA%D0%B0%D0%B7%D1%8B%D0%B2%D0%B0%D0%B5%D1%82%20%D0%BE%D1%82%D1%87%D0%B5%D1%82%20%D0%B0%D0%BD%D0%B0%D0%BB%D0%B8%D1%82%D0%B8%D1%87%D0%B5%D1%81%D0%BA%D0%BE%D0%B9%20%D0%BA%D0%BE%D0%BC%D0%BF%D0%B0%D0%BD%D0%B8%D0%B8,2%20%D0%BC%D0%B8%D0%BB%D0%BB%D0%B8%D0%BE%D0%BD%D0%BE%D0%B2%20%D0%BD%D0%B0%20%D0%B2%D1%81%D0%B5%D1%85%20%D0%BF%D0%BB%D0%B0%D1%82%D1%84%D0%BE%D1%80%D0%BC%D0%B0%D1%85.).\n",
        "- но это лишь яркий пример, а есть тренд, состоящий в том, что иногда кассу делают не хорошие игроделы, а хорошие маркетологи (и ничего плохого в этом нет, если что)."
      ]
    },
    {
      "cell_type": "markdown",
      "metadata": {
        "id": "bIiyf3Koqhfz"
      },
      "source": [
        "### Влияние отзывов пользователей и критиков на продажи внутри других платформ"
      ]
    },
    {
      "cell_type": "markdown",
      "metadata": {
        "id": "AP_1vBCYqhfz"
      },
      "source": [
        "Теперь попробуем соотнести эти выводы с продажами игр на других платформах.\n",
        "\n",
        "Возьмем топ платформ, что у нас есть без отрицательных значений в переменных с оценками критиков и пользователей (critic_score, and user_score)!"
      ]
    },
    {
      "cell_type": "code",
      "execution_count": null,
      "metadata": {
        "id": "RLclttRjqhfz"
      },
      "outputs": [],
      "source": [
        "df_notnun_score = df.query('critic_score != \"-1\" and user_score != \"-1\"')"
      ]
    },
    {
      "cell_type": "code",
      "execution_count": null,
      "metadata": {
        "id": "J29bCk9zqhfz"
      },
      "outputs": [],
      "source": [
        "top_positive = df_notnun_score['platform'].value_counts().index.to_list()"
      ]
    },
    {
      "cell_type": "markdown",
      "metadata": {
        "id": "Si5JS7x-qhfz"
      },
      "source": [
        "Вручную сметреть корреляции для каждой платформы было бы очень тягомотно, поэтому напишем функции, которые будет смотреть корреляции по любому датафрейму и списку платформ, а главное оставлять всю эту инфу в удобных табличках!"
      ]
    },
    {
      "cell_type": "code",
      "execution_count": null,
      "metadata": {
        "id": "mANXPFnNqhfz"
      },
      "outputs": [],
      "source": [
        "def corr_critic(df, platform):\n",
        "    platforms = []\n",
        "    corr_critic_data = []\n",
        "    names = ['Влияние оценки критиков на продажи']\n",
        "    \n",
        "    for i in platform:\n",
        "        critic = df[df['platform'] == i]['critic_score'].corr(df[df['platform'] == i]['total_sales'])\n",
        "        corr_critic_data.append(critic)\n",
        "        platforms.append(i)\n",
        "        df_corr_critic = pd.DataFrame(corr_critic_data, platforms, names)\n",
        "        \n",
        "    return df_corr_critic"
      ]
    },
    {
      "cell_type": "code",
      "execution_count": null,
      "metadata": {
        "id": "ROtQxwO8qhf0"
      },
      "outputs": [],
      "source": [
        "def corr_user(df, platform):\n",
        "    platforms = []\n",
        "    corr_user_data = []\n",
        "    names = ['Влияние оценки пользователей на продажи']\n",
        "    \n",
        "    for i in platform:\n",
        "        user = df[df['platform'] == i]['user_score'].corr(df[df['platform'] == i]['total_sales'])\n",
        "        corr_user_data.append(user)\n",
        "        platforms.append(i)\n",
        "        df_corr_user = pd.DataFrame(corr_user_data, platforms, names)\n",
        "        \n",
        "    return df_corr_user"
      ]
    },
    {
      "cell_type": "code",
      "execution_count": null,
      "metadata": {
        "id": "_HrVj3l8qhf0"
      },
      "outputs": [],
      "source": [
        "corr_critic = corr_critic(df_notnun_score,top_positive)\n",
        "corr_user = corr_user(df_notnun_score,top_positive)\n",
        "corr_total = corr_critic.join(corr_user)"
      ]
    },
    {
      "cell_type": "code",
      "execution_count": null,
      "metadata": {
        "id": "3Wmu7Qp5qhf0",
        "outputId": "f9834a2e-06d3-41ef-bdc0-34e04cd48f4d"
      },
      "outputs": [
        {
          "data": {
            "text/html": [
              "<div>\n",
              "<style scoped>\n",
              "    .dataframe tbody tr th:only-of-type {\n",
              "        vertical-align: middle;\n",
              "    }\n",
              "\n",
              "    .dataframe tbody tr th {\n",
              "        vertical-align: top;\n",
              "    }\n",
              "\n",
              "    .dataframe thead th {\n",
              "        text-align: right;\n",
              "    }\n",
              "</style>\n",
              "<table border=\"1\" class=\"dataframe\">\n",
              "  <thead>\n",
              "    <tr style=\"text-align: right;\">\n",
              "      <th></th>\n",
              "      <th>Влияние оценки критиков на продажи</th>\n",
              "      <th>Влияние оценки пользователей на продажи</th>\n",
              "    </tr>\n",
              "  </thead>\n",
              "  <tbody>\n",
              "    <tr>\n",
              "      <td>X360</td>\n",
              "      <td>0.526</td>\n",
              "      <td>0.332</td>\n",
              "    </tr>\n",
              "    <tr>\n",
              "      <td>PS3</td>\n",
              "      <td>0.447</td>\n",
              "      <td>0.170</td>\n",
              "    </tr>\n",
              "    <tr>\n",
              "      <td>XOne</td>\n",
              "      <td>0.422</td>\n",
              "      <td>-0.104</td>\n",
              "    </tr>\n",
              "    <tr>\n",
              "      <td>PS4</td>\n",
              "      <td>0.402</td>\n",
              "      <td>-0.031</td>\n",
              "    </tr>\n",
              "    <tr>\n",
              "      <td>WiiU</td>\n",
              "      <td>0.376</td>\n",
              "      <td>0.404</td>\n",
              "    </tr>\n",
              "    <tr>\n",
              "      <td>3DS</td>\n",
              "      <td>0.285</td>\n",
              "      <td>0.239</td>\n",
              "    </tr>\n",
              "    <tr>\n",
              "      <td>PC</td>\n",
              "      <td>0.172</td>\n",
              "      <td>-0.112</td>\n",
              "    </tr>\n",
              "    <tr>\n",
              "      <td>PSV</td>\n",
              "      <td>0.052</td>\n",
              "      <td>0.001</td>\n",
              "    </tr>\n",
              "  </tbody>\n",
              "</table>\n",
              "</div>"
            ],
            "text/plain": [
              "      Влияние оценки критиков на продажи  \\\n",
              "X360                               0.526   \n",
              "PS3                                0.447   \n",
              "XOne                               0.422   \n",
              "PS4                                0.402   \n",
              "WiiU                               0.376   \n",
              "3DS                                0.285   \n",
              "PC                                 0.172   \n",
              "PSV                                0.052   \n",
              "\n",
              "      Влияние оценки пользователей на продажи  \n",
              "X360                                    0.332  \n",
              "PS3                                     0.170  \n",
              "XOne                                   -0.104  \n",
              "PS4                                    -0.031  \n",
              "WiiU                                    0.404  \n",
              "3DS                                     0.239  \n",
              "PC                                     -0.112  \n",
              "PSV                                     0.001  "
            ]
          },
          "execution_count": 57,
          "metadata": {},
          "output_type": "execute_result"
        }
      ],
      "source": [
        "corr_total.sort_values('Влияние оценки критиков на продажи',ascending=False)"
      ]
    },
    {
      "cell_type": "markdown",
      "metadata": {
        "id": "fw77F6H9qhf0"
      },
      "source": [
        "- Оценки критиков на всех рассматриваемых платформах коррелируют с продажами: на платфрмах X360, PS3 и XOne эта связь особенно сильная, на PC и PSV слабее, но общая тенденция сохраняется.\n",
        "\n",
        "\n",
        "- С другой стороны, корреляция между продажами и оценкой пользователей сильно варьируются от одной платформы к другой.\n",
        "\n",
        "Таким образом, можно заключить, что **выводы, сделанные относительно корреляции на платформе PS3, справедливы и для остальных рассматриваемых платформ.**"
      ]
    },
    {
      "cell_type": "markdown",
      "metadata": {
        "id": "ioD8PveMqhf0"
      },
      "source": [
        "### Распределение игр по жанрам"
      ]
    },
    {
      "cell_type": "markdown",
      "metadata": {
        "id": "TnSUi_1Bqhf0"
      },
      "source": [
        "Необходимо посмотреть на общее распределение игр по жанрам. Что можно сказать о самых прибыльных жанрах? Выделяются ли жанры с высокими и низкими продажами?"
      ]
    },
    {
      "cell_type": "code",
      "execution_count": null,
      "metadata": {
        "id": "WZ7Vjk5jqhf1",
        "outputId": "9a1b2735-2508-480a-bc1b-dd5be3343366"
      },
      "outputs": [
        {
          "data": {
            "image/png": "[encoded data removed]",
            "text/plain": [
              "<Figure size 936x648 with 1 Axes>"
            ]
          },
          "metadata": {
            "needs_background": "light"
          },
          "output_type": "display_data"
        }
      ],
      "source": [
        "x_1 = df.groupby('genre').agg({'total_sales':'sum'}).sort_values(by='total_sales', ascending=False).head(len(df['genre'].value_counts())).index.to_list()\n",
        "y_1 = df.groupby('genre').agg({'total_sales':'sum'}).sort_values(by='total_sales', ascending=False)['total_sales'].head(len(df['genre'].value_counts())).to_list()\n",
        "\n",
        "fig = plt.figure(figsize=(13,9))\n",
        "ax1 = fig.add_subplot(2,1,1)\n",
        "\n",
        "ax1.title.set_text('Глобальные продажи по жанрам (млн)')\n",
        "\n",
        "ax1.title.set_color('black')\n",
        "\n",
        "ax1.title.set_size(13)\n",
        "\n",
        "ax1.set_xlabel('Жанр')\n",
        "ax1.set_ylabel('Проданные копии (млн)')\n",
        "\n",
        "fig.tight_layout()\n",
        "\n",
        "ax1.bar(x_1, y_1)\n",
        "\n",
        "plt.xticks(rotation=90)\n",
        "plt.show()"
      ]
    },
    {
      "cell_type": "markdown",
      "metadata": {
        "id": "b9_sb2k1qhf1"
      },
      "source": [
        "- Первую позицию (с большим отрывом) по количеству проданных копий занимает жанр Action.\n",
        "- Далее по популярности нос в нос идут два жанра: Sports и Shooter. \n",
        "- В третью по популярности группу можно выделить жанры Role-Playing и Misc\n",
        "- Наименее популярные жанры из списка рассматриваемых: Strategy и Puzzle"
      ]
    },
    {
      "cell_type": "code",
      "execution_count": null,
      "metadata": {
        "scrolled": false,
        "id": "dL6cFhsZqhf1"
      },
      "outputs": [],
      "source": [
        "pivot = df.groupby('genre').agg({'total_sales':['count', 'sum','median']})\n",
        "pivot = pivot.droplevel(0, axis=1)"
      ]
    },
    {
      "cell_type": "code",
      "execution_count": null,
      "metadata": {
        "id": "ZNYpdcydqhf1",
        "outputId": "4f840672-ca36-47f1-c751-0a0b47231b55"
      },
      "outputs": [
        {
          "data": {
            "text/html": [
              "<div>\n",
              "<style scoped>\n",
              "    .dataframe tbody tr th:only-of-type {\n",
              "        vertical-align: middle;\n",
              "    }\n",
              "\n",
              "    .dataframe tbody tr th {\n",
              "        vertical-align: top;\n",
              "    }\n",
              "\n",
              "    .dataframe thead th {\n",
              "        text-align: right;\n",
              "    }\n",
              "</style>\n",
              "<table border=\"1\" class=\"dataframe\">\n",
              "  <thead>\n",
              "    <tr style=\"text-align: right;\">\n",
              "      <th></th>\n",
              "      <th>count</th>\n",
              "      <th>sum</th>\n",
              "      <th>median</th>\n",
              "    </tr>\n",
              "    <tr>\n",
              "      <th>genre</th>\n",
              "      <th></th>\n",
              "      <th></th>\n",
              "      <th></th>\n",
              "    </tr>\n",
              "  </thead>\n",
              "  <tbody>\n",
              "    <tr>\n",
              "      <td>Shooter</td>\n",
              "      <td>128</td>\n",
              "      <td>170.940</td>\n",
              "      <td>0.515</td>\n",
              "    </tr>\n",
              "    <tr>\n",
              "      <td>Sports</td>\n",
              "      <td>161</td>\n",
              "      <td>109.480</td>\n",
              "      <td>0.180</td>\n",
              "    </tr>\n",
              "    <tr>\n",
              "      <td>Platform</td>\n",
              "      <td>38</td>\n",
              "      <td>18.090</td>\n",
              "      <td>0.140</td>\n",
              "    </tr>\n",
              "    <tr>\n",
              "      <td>Fighting</td>\n",
              "      <td>60</td>\n",
              "      <td>28.220</td>\n",
              "      <td>0.125</td>\n",
              "    </tr>\n",
              "    <tr>\n",
              "      <td>Role-Playing</td>\n",
              "      <td>222</td>\n",
              "      <td>101.700</td>\n",
              "      <td>0.110</td>\n",
              "    </tr>\n",
              "    <tr>\n",
              "      <td>Simulation</td>\n",
              "      <td>44</td>\n",
              "      <td>13.130</td>\n",
              "      <td>0.100</td>\n",
              "    </tr>\n",
              "    <tr>\n",
              "      <td>Misc</td>\n",
              "      <td>113</td>\n",
              "      <td>37.550</td>\n",
              "      <td>0.090</td>\n",
              "    </tr>\n",
              "    <tr>\n",
              "      <td>Action</td>\n",
              "      <td>619</td>\n",
              "      <td>199.360</td>\n",
              "      <td>0.090</td>\n",
              "    </tr>\n",
              "    <tr>\n",
              "      <td>Racing</td>\n",
              "      <td>69</td>\n",
              "      <td>27.520</td>\n",
              "      <td>0.090</td>\n",
              "    </tr>\n",
              "    <tr>\n",
              "      <td>Strategy</td>\n",
              "      <td>37</td>\n",
              "      <td>3.960</td>\n",
              "      <td>0.060</td>\n",
              "    </tr>\n",
              "    <tr>\n",
              "      <td>Puzzle</td>\n",
              "      <td>14</td>\n",
              "      <td>2.210</td>\n",
              "      <td>0.045</td>\n",
              "    </tr>\n",
              "    <tr>\n",
              "      <td>Adventure</td>\n",
              "      <td>185</td>\n",
              "      <td>17.550</td>\n",
              "      <td>0.030</td>\n",
              "    </tr>\n",
              "  </tbody>\n",
              "</table>\n",
              "</div>"
            ],
            "text/plain": [
              "              count     sum  median\n",
              "genre                              \n",
              "Shooter         128 170.940   0.515\n",
              "Sports          161 109.480   0.180\n",
              "Platform         38  18.090   0.140\n",
              "Fighting         60  28.220   0.125\n",
              "Role-Playing    222 101.700   0.110\n",
              "Simulation       44  13.130   0.100\n",
              "Misc            113  37.550   0.090\n",
              "Action          619 199.360   0.090\n",
              "Racing           69  27.520   0.090\n",
              "Strategy         37   3.960   0.060\n",
              "Puzzle           14   2.210   0.045\n",
              "Adventure       185  17.550   0.030"
            ]
          },
          "execution_count": 60,
          "metadata": {},
          "output_type": "execute_result"
        }
      ],
      "source": [
        "pivot.sort_values('median', ascending=False)"
      ]
    },
    {
      "cell_type": "markdown",
      "metadata": {
        "id": "iP00Xg0Kqhf1"
      },
      "source": [
        "Действительно видно, что количество игр в разных категориях очень сильно отличается, поэтому лучше посмотреть по медиане.\n",
        "\n",
        "Обычно лучше продаются игры следующих жанров (топ-5): \n",
        "1. Shooter (0.515 - с огромным отрывом)\n",
        "2. Sports (0.180)\n",
        "3. Platform (0.140)\n",
        "4. Fighting (0.125)\n",
        "5. Role-Playing (0.110)"
      ]
    },
    {
      "cell_type": "markdown",
      "metadata": {
        "id": "4_X-Poe-qhf2"
      },
      "source": [
        "## Портрет пользователя каждого региона"
      ]
    },
    {
      "cell_type": "markdown",
      "metadata": {
        "id": "BCPXpxNcqhf2"
      },
      "source": [
        "Определите для пользователя каждого региона (NA, EU, JP):\n",
        "- Самые популярные платформы (топ-5). Опишите различия в долях продаж.\n",
        "- Самые популярные жанры (топ-5). Поясните разницу.\n",
        "- Влияет ли рейтинг ESRB на продажи в отдельном регионе?"
      ]
    },
    {
      "cell_type": "markdown",
      "metadata": {
        "id": "qF2Q_oLnqhf2"
      },
      "source": [
        "### Самые популярные платформы (топ-5)"
      ]
    },
    {
      "cell_type": "code",
      "execution_count": null,
      "metadata": {
        "id": "IUv3rjCAqhf2",
        "outputId": "0dd2e27f-3659-4570-bad8-0e0c0bb12556"
      },
      "outputs": [
        {
          "data": {
            "image/png": "[encoded data removed]",
            "text/plain": [
              "<Figure size 936x648 with 3 Axes>"
            ]
          },
          "metadata": {
            "needs_background": "light"
          },
          "output_type": "display_data"
        }
      ],
      "source": [
        "x_1 = df.groupby('platform').agg({'na_sales':'sum'}).sort_values(by='na_sales', ascending=False).head(5).index.to_list()\n",
        "y_1 = df.groupby('platform').agg({'na_sales':'sum'}).sort_values(by='na_sales', ascending=False)['na_sales'].head(5).to_list()\n",
        "\n",
        "x_2 = df.groupby('platform').agg({'eu_sales':'sum'}).sort_values(by='eu_sales', ascending=False).head(5).index.to_list()\n",
        "y_2 = df.groupby('platform').agg({'eu_sales':'sum'}).sort_values(by='eu_sales', ascending=False)['eu_sales'].head(5).to_list()\n",
        "\n",
        "x_3 = df.groupby('platform').agg({'jp_sales':'sum'}).sort_values(by='jp_sales', ascending=False).head(5).index.to_list()\n",
        "y_3 = df.groupby('platform').agg({'jp_sales':'sum'}).sort_values(by='jp_sales', ascending=False)['jp_sales'].head(5).to_list()\n",
        "\n",
        "fig = plt.figure(figsize=(13,9))\n",
        "ax1 = fig.add_subplot(2,3,1)\n",
        "ax2 = fig.add_subplot(2,3,2)\n",
        "ax3 = fig.add_subplot(2,3,3)\n",
        "\n",
        "ax1.title.set_text('Продажи в Cеверной Америке (млн)')\n",
        "ax2.title.set_text('Продажи в Европе (млн)')\n",
        "ax3.title.set_text('Продажи в Японии(млн)')\n",
        "\n",
        "ax1.title.set_color('black')\n",
        "ax2.title.set_color('black')\n",
        "ax3.title.set_color('black')\n",
        "\n",
        "ax1.title.set_size(13)\n",
        "ax2.title.set_size(13)\n",
        "ax3.title.set_size(13)\n",
        "\n",
        "ax1.set_xlabel('Платформа')\n",
        "ax1.set_ylabel('Проданные копии (млн)')\n",
        "ax2.set_xlabel('Платформа')\n",
        "ax2.set_ylabel('Проданные копии (млн)')\n",
        "ax3.set_xlabel('Платформа')\n",
        "ax3.set_ylabel('Проданные копии (млн)')\n",
        "\n",
        "fig.tight_layout()\n",
        "\n",
        "ax1.bar(x_1, y_1)\n",
        "ax2.bar(x_2, y_2)\n",
        "ax3.bar(x_3, y_3)\n",
        "\n",
        "plt.show()"
      ]
    },
    {
      "cell_type": "code",
      "execution_count": null,
      "metadata": {
        "scrolled": true,
        "id": "uJxH2Rgiqhf3",
        "outputId": "045f8459-6341-4fec-fa07-5ce206d001e2"
      },
      "outputs": [
        {
          "name": "stdout",
          "output_type": "stream",
          "text": [
            "Продажи в Cеверной Америке\n"
          ]
        },
        {
          "data": {
            "text/html": [
              "<div>\n",
              "<style scoped>\n",
              "    .dataframe tbody tr th:only-of-type {\n",
              "        vertical-align: middle;\n",
              "    }\n",
              "\n",
              "    .dataframe tbody tr th {\n",
              "        vertical-align: top;\n",
              "    }\n",
              "\n",
              "    .dataframe thead th {\n",
              "        text-align: right;\n",
              "    }\n",
              "</style>\n",
              "<table border=\"1\" class=\"dataframe\">\n",
              "  <thead>\n",
              "    <tr style=\"text-align: right;\">\n",
              "      <th></th>\n",
              "      <th>na_sales</th>\n",
              "    </tr>\n",
              "    <tr>\n",
              "      <th>platform</th>\n",
              "      <th></th>\n",
              "    </tr>\n",
              "  </thead>\n",
              "  <tbody>\n",
              "    <tr>\n",
              "      <td>PS4</td>\n",
              "      <td>98.610</td>\n",
              "    </tr>\n",
              "    <tr>\n",
              "      <td>XOne</td>\n",
              "      <td>81.270</td>\n",
              "    </tr>\n",
              "    <tr>\n",
              "      <td>X360</td>\n",
              "      <td>28.300</td>\n",
              "    </tr>\n",
              "    <tr>\n",
              "      <td>3DS</td>\n",
              "      <td>22.640</td>\n",
              "    </tr>\n",
              "    <tr>\n",
              "      <td>PS3</td>\n",
              "      <td>22.050</td>\n",
              "    </tr>\n",
              "  </tbody>\n",
              "</table>\n",
              "</div>"
            ],
            "text/plain": [
              "          na_sales\n",
              "platform          \n",
              "PS4         98.610\n",
              "XOne        81.270\n",
              "X360        28.300\n",
              "3DS         22.640\n",
              "PS3         22.050"
            ]
          },
          "metadata": {},
          "output_type": "display_data"
        },
        {
          "name": "stdout",
          "output_type": "stream",
          "text": [
            "Продажи в Европе\n"
          ]
        },
        {
          "data": {
            "text/html": [
              "<div>\n",
              "<style scoped>\n",
              "    .dataframe tbody tr th:only-of-type {\n",
              "        vertical-align: middle;\n",
              "    }\n",
              "\n",
              "    .dataframe tbody tr th {\n",
              "        vertical-align: top;\n",
              "    }\n",
              "\n",
              "    .dataframe thead th {\n",
              "        text-align: right;\n",
              "    }\n",
              "</style>\n",
              "<table border=\"1\" class=\"dataframe\">\n",
              "  <thead>\n",
              "    <tr style=\"text-align: right;\">\n",
              "      <th></th>\n",
              "      <th>eu_sales</th>\n",
              "    </tr>\n",
              "    <tr>\n",
              "      <th>platform</th>\n",
              "      <th></th>\n",
              "    </tr>\n",
              "  </thead>\n",
              "  <tbody>\n",
              "    <tr>\n",
              "      <td>PS4</td>\n",
              "      <td>130.040</td>\n",
              "    </tr>\n",
              "    <tr>\n",
              "      <td>XOne</td>\n",
              "      <td>46.250</td>\n",
              "    </tr>\n",
              "    <tr>\n",
              "      <td>PS3</td>\n",
              "      <td>25.540</td>\n",
              "    </tr>\n",
              "    <tr>\n",
              "      <td>PC</td>\n",
              "      <td>17.970</td>\n",
              "    </tr>\n",
              "    <tr>\n",
              "      <td>3DS</td>\n",
              "      <td>16.120</td>\n",
              "    </tr>\n",
              "  </tbody>\n",
              "</table>\n",
              "</div>"
            ],
            "text/plain": [
              "          eu_sales\n",
              "platform          \n",
              "PS4        130.040\n",
              "XOne        46.250\n",
              "PS3         25.540\n",
              "PC          17.970\n",
              "3DS         16.120"
            ]
          },
          "metadata": {},
          "output_type": "display_data"
        },
        {
          "name": "stdout",
          "output_type": "stream",
          "text": [
            "Продажи в Японии\n"
          ]
        },
        {
          "data": {
            "text/html": [
              "<div>\n",
              "<style scoped>\n",
              "    .dataframe tbody tr th:only-of-type {\n",
              "        vertical-align: middle;\n",
              "    }\n",
              "\n",
              "    .dataframe tbody tr th {\n",
              "        vertical-align: top;\n",
              "    }\n",
              "\n",
              "    .dataframe thead th {\n",
              "        text-align: right;\n",
              "    }\n",
              "</style>\n",
              "<table border=\"1\" class=\"dataframe\">\n",
              "  <thead>\n",
              "    <tr style=\"text-align: right;\">\n",
              "      <th></th>\n",
              "      <th>jp_sales</th>\n",
              "    </tr>\n",
              "    <tr>\n",
              "      <th>platform</th>\n",
              "      <th></th>\n",
              "    </tr>\n",
              "  </thead>\n",
              "  <tbody>\n",
              "    <tr>\n",
              "      <td>3DS</td>\n",
              "      <td>44.240</td>\n",
              "    </tr>\n",
              "    <tr>\n",
              "      <td>PS4</td>\n",
              "      <td>15.020</td>\n",
              "    </tr>\n",
              "    <tr>\n",
              "      <td>PSV</td>\n",
              "      <td>14.610</td>\n",
              "    </tr>\n",
              "    <tr>\n",
              "      <td>PS3</td>\n",
              "      <td>11.220</td>\n",
              "    </tr>\n",
              "    <tr>\n",
              "      <td>WiiU</td>\n",
              "      <td>7.310</td>\n",
              "    </tr>\n",
              "  </tbody>\n",
              "</table>\n",
              "</div>"
            ],
            "text/plain": [
              "          jp_sales\n",
              "platform          \n",
              "3DS         44.240\n",
              "PS4         15.020\n",
              "PSV         14.610\n",
              "PS3         11.220\n",
              "WiiU         7.310"
            ]
          },
          "metadata": {},
          "output_type": "display_data"
        }
      ],
      "source": [
        "print('Продажи в Cеверной Америке')\n",
        "display(df.groupby('platform').agg({'na_sales':'sum'}).sort_values(by='na_sales', ascending=False).head(5))\n",
        "print('Продажи в Европе')\n",
        "display(df.groupby('platform').agg({'eu_sales':'sum'}).sort_values(by='eu_sales', ascending=False).head(5))\n",
        "print('Продажи в Японии')\n",
        "display(df.groupby('platform').agg({'jp_sales':'sum'}).sort_values(by='jp_sales', ascending=False).head(5))"
      ]
    },
    {
      "cell_type": "markdown",
      "metadata": {
        "id": "IDUzmd7Jqhf3"
      },
      "source": [
        "Можно заключить, что:\n",
        "1. Такие платформы как PS4, PS3 и DS популярны во всех рассматриваемых регионах (что называется мировая слава!). \n",
        "2. В Северной Америке и Европе ключевую роль играют PS4 и XOne, тогда как в Японии из-за специфики рынка американская консоль вообще не представлена в топ-5.\n",
        "3. Также из-за специфики японского рынка консоль 3DS, котрая в других рассматриваемых регионах закрывает списки топ-5 популярных платформ, в Японии занимает 1 позицию в рейтинге."
      ]
    },
    {
      "cell_type": "markdown",
      "metadata": {
        "id": "FWghBQUUqhf3"
      },
      "source": [
        "### Самые популярные жанры (топ-5)"
      ]
    },
    {
      "cell_type": "code",
      "execution_count": null,
      "metadata": {
        "id": "IDEpkt_jqhf3",
        "outputId": "2f8e9639-b6d8-4d94-db7a-e8f95b211755"
      },
      "outputs": [
        {
          "data": {
            "image/png": "[encoded data removed]",
            "text/plain": [
              "<Figure size 936x648 with 3 Axes>"
            ]
          },
          "metadata": {
            "needs_background": "light"
          },
          "output_type": "display_data"
        }
      ],
      "source": [
        "x_1 = df.groupby('genre').agg({'na_sales':'sum'}).sort_values(by='na_sales', ascending=False).head(5).index.to_list()\n",
        "y_1 = df.groupby('genre').agg({'na_sales':'sum'}).sort_values(by='na_sales', ascending=False)['na_sales'].head(5).to_list()\n",
        "\n",
        "x_2 = df.groupby('genre').agg({'eu_sales':'sum'}).sort_values(by='eu_sales', ascending=False).head(5).index.to_list()\n",
        "y_2 = df.groupby('genre').agg({'eu_sales':'sum'}).sort_values(by='eu_sales', ascending=False)['eu_sales'].head(5).to_list()\n",
        "\n",
        "x_3 = df.groupby('genre').agg({'jp_sales':'sum'}).sort_values(by='jp_sales', ascending=False).head(5).index.to_list()\n",
        "y_3 = df.groupby('genre').agg({'jp_sales':'sum'}).sort_values(by='jp_sales', ascending=False)['jp_sales'].head(5).to_list()\n",
        "\n",
        "fig = plt.figure(figsize=(13,9))\n",
        "ax1 = fig.add_subplot(2,3,1)\n",
        "ax2 = fig.add_subplot(2,3,2)\n",
        "ax3 = fig.add_subplot(2,3,3)\n",
        "\n",
        "ax1.title.set_text('Продажи в Cеверной Америке (млн)')\n",
        "ax2.title.set_text('Продажи в Европе (млн)')\n",
        "ax3.title.set_text('Продажи в Японии(млн)')\n",
        "\n",
        "ax1.title.set_color('black')\n",
        "ax2.title.set_color('black')\n",
        "ax3.title.set_color('black')\n",
        "\n",
        "ax1.title.set_size(13)\n",
        "ax2.title.set_size(13)\n",
        "ax3.title.set_size(13)\n",
        "\n",
        "ax1.set_xlabel('Жанр')\n",
        "ax1.set_ylabel('Проданные копии (млн)')\n",
        "ax2.set_xlabel('Жанр')\n",
        "ax2.set_ylabel('Проданные копии (млн)')\n",
        "ax3.set_xlabel('Жанр')\n",
        "ax3.set_ylabel('Проданные копии (млн)')\n",
        "\n",
        "fig.tight_layout()\n",
        "\n",
        "ax1.bar(x_1, y_1)\n",
        "ax2.bar(x_2, y_2)\n",
        "ax3.bar(x_3, y_3)\n",
        "\n",
        "plt.show()"
      ]
    },
    {
      "cell_type": "code",
      "execution_count": null,
      "metadata": {
        "id": "DYTKLOt5qhf4",
        "outputId": "f9f3be3d-5d90-4be1-e259-af9135b8d874"
      },
      "outputs": [
        {
          "name": "stdout",
          "output_type": "stream",
          "text": [
            "Продажи в Cеверной Америке\n"
          ]
        },
        {
          "data": {
            "text/html": [
              "<div>\n",
              "<style scoped>\n",
              "    .dataframe tbody tr th:only-of-type {\n",
              "        vertical-align: middle;\n",
              "    }\n",
              "\n",
              "    .dataframe tbody tr th {\n",
              "        vertical-align: top;\n",
              "    }\n",
              "\n",
              "    .dataframe thead th {\n",
              "        text-align: right;\n",
              "    }\n",
              "</style>\n",
              "<table border=\"1\" class=\"dataframe\">\n",
              "  <thead>\n",
              "    <tr style=\"text-align: right;\">\n",
              "      <th></th>\n",
              "      <th>na_sales</th>\n",
              "    </tr>\n",
              "    <tr>\n",
              "      <th>genre</th>\n",
              "      <th></th>\n",
              "    </tr>\n",
              "  </thead>\n",
              "  <tbody>\n",
              "    <tr>\n",
              "      <td>Shooter</td>\n",
              "      <td>79.020</td>\n",
              "    </tr>\n",
              "    <tr>\n",
              "      <td>Action</td>\n",
              "      <td>72.530</td>\n",
              "    </tr>\n",
              "    <tr>\n",
              "      <td>Sports</td>\n",
              "      <td>46.130</td>\n",
              "    </tr>\n",
              "    <tr>\n",
              "      <td>Role-Playing</td>\n",
              "      <td>33.580</td>\n",
              "    </tr>\n",
              "    <tr>\n",
              "      <td>Misc</td>\n",
              "      <td>15.050</td>\n",
              "    </tr>\n",
              "  </tbody>\n",
              "</table>\n",
              "</div>"
            ],
            "text/plain": [
              "              na_sales\n",
              "genre                 \n",
              "Shooter         79.020\n",
              "Action          72.530\n",
              "Sports          46.130\n",
              "Role-Playing    33.580\n",
              "Misc            15.050"
            ]
          },
          "metadata": {},
          "output_type": "display_data"
        },
        {
          "name": "stdout",
          "output_type": "stream",
          "text": [
            "Продажи в Европе\n"
          ]
        },
        {
          "data": {
            "text/html": [
              "<div>\n",
              "<style scoped>\n",
              "    .dataframe tbody tr th:only-of-type {\n",
              "        vertical-align: middle;\n",
              "    }\n",
              "\n",
              "    .dataframe tbody tr th {\n",
              "        vertical-align: top;\n",
              "    }\n",
              "\n",
              "    .dataframe thead th {\n",
              "        text-align: right;\n",
              "    }\n",
              "</style>\n",
              "<table border=\"1\" class=\"dataframe\">\n",
              "  <thead>\n",
              "    <tr style=\"text-align: right;\">\n",
              "      <th></th>\n",
              "      <th>eu_sales</th>\n",
              "    </tr>\n",
              "    <tr>\n",
              "      <th>genre</th>\n",
              "      <th></th>\n",
              "    </tr>\n",
              "  </thead>\n",
              "  <tbody>\n",
              "    <tr>\n",
              "      <td>Action</td>\n",
              "      <td>74.680</td>\n",
              "    </tr>\n",
              "    <tr>\n",
              "      <td>Shooter</td>\n",
              "      <td>65.520</td>\n",
              "    </tr>\n",
              "    <tr>\n",
              "      <td>Sports</td>\n",
              "      <td>45.730</td>\n",
              "    </tr>\n",
              "    <tr>\n",
              "      <td>Role-Playing</td>\n",
              "      <td>28.220</td>\n",
              "    </tr>\n",
              "    <tr>\n",
              "      <td>Racing</td>\n",
              "      <td>14.130</td>\n",
              "    </tr>\n",
              "  </tbody>\n",
              "</table>\n",
              "</div>"
            ],
            "text/plain": [
              "              eu_sales\n",
              "genre                 \n",
              "Action          74.680\n",
              "Shooter         65.520\n",
              "Sports          45.730\n",
              "Role-Playing    28.220\n",
              "Racing          14.130"
            ]
          },
          "metadata": {},
          "output_type": "display_data"
        },
        {
          "name": "stdout",
          "output_type": "stream",
          "text": [
            "Продажи в Японии\n"
          ]
        },
        {
          "data": {
            "text/html": [
              "<div>\n",
              "<style scoped>\n",
              "    .dataframe tbody tr th:only-of-type {\n",
              "        vertical-align: middle;\n",
              "    }\n",
              "\n",
              "    .dataframe tbody tr th {\n",
              "        vertical-align: top;\n",
              "    }\n",
              "\n",
              "    .dataframe thead th {\n",
              "        text-align: right;\n",
              "    }\n",
              "</style>\n",
              "<table border=\"1\" class=\"dataframe\">\n",
              "  <thead>\n",
              "    <tr style=\"text-align: right;\">\n",
              "      <th></th>\n",
              "      <th>jp_sales</th>\n",
              "    </tr>\n",
              "    <tr>\n",
              "      <th>genre</th>\n",
              "      <th></th>\n",
              "    </tr>\n",
              "  </thead>\n",
              "  <tbody>\n",
              "    <tr>\n",
              "      <td>Role-Playing</td>\n",
              "      <td>31.230</td>\n",
              "    </tr>\n",
              "    <tr>\n",
              "      <td>Action</td>\n",
              "      <td>29.580</td>\n",
              "    </tr>\n",
              "    <tr>\n",
              "      <td>Fighting</td>\n",
              "      <td>6.370</td>\n",
              "    </tr>\n",
              "    <tr>\n",
              "      <td>Misc</td>\n",
              "      <td>5.610</td>\n",
              "    </tr>\n",
              "    <tr>\n",
              "      <td>Shooter</td>\n",
              "      <td>4.870</td>\n",
              "    </tr>\n",
              "  </tbody>\n",
              "</table>\n",
              "</div>"
            ],
            "text/plain": [
              "              jp_sales\n",
              "genre                 \n",
              "Role-Playing    31.230\n",
              "Action          29.580\n",
              "Fighting         6.370\n",
              "Misc             5.610\n",
              "Shooter          4.870"
            ]
          },
          "metadata": {},
          "output_type": "display_data"
        }
      ],
      "source": [
        "print('Продажи в Cеверной Америке')\n",
        "display(df.groupby('genre').agg({'na_sales':'sum'}).sort_values(by='na_sales', ascending=False).head(5))\n",
        "print('Продажи в Европе')\n",
        "display(df.groupby('genre').agg({'eu_sales':'sum'}).sort_values(by='eu_sales', ascending=False).head(5))\n",
        "print('Продажи в Японии')\n",
        "display(df.groupby('genre').agg({'jp_sales':'sum'}).sort_values(by='jp_sales', ascending=False).head(5))"
      ]
    },
    {
      "cell_type": "markdown",
      "metadata": {
        "id": "9BxRqbwmqhf4"
      },
      "source": [
        "Можно заключить, что:\n",
        "\n",
        "1. Наиболее популярными жанрами (по суммарным продажам) во всех рассматриваемых регионах являются: Action, Shooter, Sports и Misc.\n",
        "2. В Японии опять же из-за специфики рынка первую позицию рейтинга занимает жанр Role-Playing, что неудивительно для родины таких игр, как Final Fantasy, Dragon Quest и Persona."
      ]
    },
    {
      "cell_type": "markdown",
      "metadata": {
        "id": "jN5ndbscqhf4"
      },
      "source": [
        "### Влияние рейтинга ESRB на продажи в регионах"
      ]
    },
    {
      "cell_type": "code",
      "execution_count": null,
      "metadata": {
        "id": "ya3LGFftqhf5",
        "outputId": "f1bec541-d0e6-4512-efdc-8d6933c78b41"
      },
      "outputs": [
        {
          "data": {
            "text/plain": [
              "Not specified    749\n",
              "T                272\n",
              "M                265\n",
              "E                219\n",
              "E10+             185\n",
              "K-A                0\n",
              "EC                 0\n",
              "AO                 0\n",
              "Name: rating, dtype: int64"
            ]
          },
          "execution_count": 65,
          "metadata": {},
          "output_type": "execute_result"
        }
      ],
      "source": [
        "df['rating'].value_counts()"
      ]
    },
    {
      "cell_type": "markdown",
      "metadata": {
        "id": "iAp9UVu6qhf5"
      },
      "source": [
        "Для удобства интерпретации заменим аббревиатуры рейтингов на их описания. Подробнее про классификацию рейтингов Entertainment Software Rating Board можно почитать [здесь](https://ru.wikipedia.org/wiki/Entertainment_Software_Rating_Board#%D0%9A%D1%80%D0%B0%D1%82%D0%BA%D0%B8%D0%B5_%D0%BE%D0%BF%D0%B8%D1%81%D0%B0%D0%BD%D0%B8%D1%8F)."
      ]
    },
    {
      "cell_type": "code",
      "execution_count": null,
      "metadata": {
        "id": "seD8YKIsqhf5"
      },
      "outputs": [],
      "source": [
        "new_rating_dict = {'T': 'От 13 лет', 'E': 'От 6 лет', 'M': 'От 17 лет', 'E10+': 'От 10 лет', 'Not specified': 'БР'}"
      ]
    },
    {
      "cell_type": "code",
      "execution_count": null,
      "metadata": {
        "scrolled": true,
        "id": "VtWxSlZdqhf5"
      },
      "outputs": [],
      "source": [
        "df['new_rating'] = df[df['rating'].notnull()]['rating'].map(new_rating_dict)"
      ]
    },
    {
      "cell_type": "code",
      "execution_count": null,
      "metadata": {
        "id": "dWhCrBYTqhf6",
        "outputId": "fd5db4d5-947f-40e2-b54a-9f1192c5c662"
      },
      "outputs": [
        {
          "data": {
            "text/plain": [
              "БР           749\n",
              "От 13 лет    272\n",
              "От 17 лет    265\n",
              "От 6 лет     219\n",
              "От 10 лет    185\n",
              "Name: new_rating, dtype: int64"
            ]
          },
          "execution_count": 68,
          "metadata": {},
          "output_type": "execute_result"
        }
      ],
      "source": [
        "df['new_rating'].value_counts()"
      ]
    },
    {
      "cell_type": "code",
      "execution_count": null,
      "metadata": {
        "id": "chuX67Q7qhf6",
        "outputId": "3eced423-b512-48e7-e387-b74d89ba8c3b"
      },
      "outputs": [
        {
          "data": {
            "image/png": "[encoded data removed]",
            "text/plain": [
              "<Figure size 1080x648 with 3 Axes>"
            ]
          },
          "metadata": {
            "needs_background": "light"
          },
          "output_type": "display_data"
        }
      ],
      "source": [
        "x_1 = df.groupby('new_rating').agg({'na_sales':'sum'}).sort_values(by='na_sales', ascending=False).head(5).index.to_list()\n",
        "y_1 = df.groupby('new_rating').agg({'na_sales':'sum'}).sort_values(by='na_sales', ascending=False)['na_sales'].head(5).to_list()\n",
        "\n",
        "x_2 = df.groupby('new_rating').agg({'eu_sales':'sum'}).sort_values(by='eu_sales', ascending=False).head(5).index.to_list()\n",
        "y_2 = df.groupby('new_rating').agg({'eu_sales':'sum'}).sort_values(by='eu_sales', ascending=False)['eu_sales'].head(5).to_list()\n",
        "\n",
        "x_3 = df.groupby('new_rating').agg({'jp_sales':'sum'}).sort_values(by='jp_sales', ascending=False).head(5).index.to_list()\n",
        "y_3 = df.groupby('new_rating').agg({'jp_sales':'sum'}).sort_values(by='jp_sales', ascending=False)['jp_sales'].head(5).to_list()\n",
        "\n",
        "fig = plt.figure(figsize=(15,9))\n",
        "ax1 = fig.add_subplot(2,3,1)\n",
        "ax2 = fig.add_subplot(2,3,2)\n",
        "ax3 = fig.add_subplot(2,3,3)\n",
        "\n",
        "ax1.title.set_text('Продажи в Cеверной Америке (млн)')\n",
        "ax2.title.set_text('Продажи в Европе (млн)')\n",
        "ax3.title.set_text('Продажи в Японии(млн)')\n",
        "\n",
        "ax1.title.set_color('black')\n",
        "ax2.title.set_color('black')\n",
        "ax3.title.set_color('black')\n",
        "\n",
        "ax1.title.set_size(13)\n",
        "ax2.title.set_size(13)\n",
        "ax3.title.set_size(13)\n",
        "\n",
        "ax1.set_xlabel('Рейтинг ESRB')\n",
        "ax1.set_ylabel('Проданные копии (млн)')\n",
        "ax2.set_xlabel('Рейтинг ESRB')\n",
        "ax2.set_ylabel('Проданные копии (млн)')\n",
        "ax3.set_xlabel('Рейтинг ESRB')\n",
        "ax3.set_ylabel('Проданные копии (млн)')\n",
        "\n",
        "fig.tight_layout()\n",
        "\n",
        "ax1.bar(x_1, y_1)\n",
        "ax2.bar(x_2, y_2)\n",
        "ax3.bar(x_3, y_3)\n",
        "\n",
        "plt.show()"
      ]
    },
    {
      "cell_type": "code",
      "execution_count": null,
      "metadata": {
        "id": "Zzcqwn6pqhf7",
        "outputId": "00834c75-3806-43bb-e963-456f0e162309"
      },
      "outputs": [
        {
          "name": "stdout",
          "output_type": "stream",
          "text": [
            "Продажи в Cеверной Америке\n"
          ]
        },
        {
          "data": {
            "text/html": [
              "<div>\n",
              "<style scoped>\n",
              "    .dataframe tbody tr th:only-of-type {\n",
              "        vertical-align: middle;\n",
              "    }\n",
              "\n",
              "    .dataframe tbody tr th {\n",
              "        vertical-align: top;\n",
              "    }\n",
              "\n",
              "    .dataframe thead th {\n",
              "        text-align: right;\n",
              "    }\n",
              "</style>\n",
              "<table border=\"1\" class=\"dataframe\">\n",
              "  <thead>\n",
              "    <tr style=\"text-align: right;\">\n",
              "      <th></th>\n",
              "      <th>na_sales</th>\n",
              "    </tr>\n",
              "    <tr>\n",
              "      <th>new_rating</th>\n",
              "      <th></th>\n",
              "    </tr>\n",
              "  </thead>\n",
              "  <tbody>\n",
              "    <tr>\n",
              "      <td>От 17 лет</td>\n",
              "      <td>96.420</td>\n",
              "    </tr>\n",
              "    <tr>\n",
              "      <td>БР</td>\n",
              "      <td>64.720</td>\n",
              "    </tr>\n",
              "    <tr>\n",
              "      <td>От 6 лет</td>\n",
              "      <td>50.740</td>\n",
              "    </tr>\n",
              "    <tr>\n",
              "      <td>От 13 лет</td>\n",
              "      <td>39.060</td>\n",
              "    </tr>\n",
              "    <tr>\n",
              "      <td>От 10 лет</td>\n",
              "      <td>33.230</td>\n",
              "    </tr>\n",
              "  </tbody>\n",
              "</table>\n",
              "</div>"
            ],
            "text/plain": [
              "            na_sales\n",
              "new_rating          \n",
              "От 17 лет     96.420\n",
              "БР            64.720\n",
              "От 6 лет      50.740\n",
              "От 13 лет     39.060\n",
              "От 10 лет     33.230"
            ]
          },
          "metadata": {},
          "output_type": "display_data"
        },
        {
          "name": "stdout",
          "output_type": "stream",
          "text": [
            "Продажи в Европе\n"
          ]
        },
        {
          "data": {
            "text/html": [
              "<div>\n",
              "<style scoped>\n",
              "    .dataframe tbody tr th:only-of-type {\n",
              "        vertical-align: middle;\n",
              "    }\n",
              "\n",
              "    .dataframe tbody tr th {\n",
              "        vertical-align: top;\n",
              "    }\n",
              "\n",
              "    .dataframe thead th {\n",
              "        text-align: right;\n",
              "    }\n",
              "</style>\n",
              "<table border=\"1\" class=\"dataframe\">\n",
              "  <thead>\n",
              "    <tr style=\"text-align: right;\">\n",
              "      <th></th>\n",
              "      <th>eu_sales</th>\n",
              "    </tr>\n",
              "    <tr>\n",
              "      <th>new_rating</th>\n",
              "      <th></th>\n",
              "    </tr>\n",
              "  </thead>\n",
              "  <tbody>\n",
              "    <tr>\n",
              "      <td>От 17 лет</td>\n",
              "      <td>93.440</td>\n",
              "    </tr>\n",
              "    <tr>\n",
              "      <td>БР</td>\n",
              "      <td>58.950</td>\n",
              "    </tr>\n",
              "    <tr>\n",
              "      <td>От 6 лет</td>\n",
              "      <td>58.060</td>\n",
              "    </tr>\n",
              "    <tr>\n",
              "      <td>От 13 лет</td>\n",
              "      <td>34.120</td>\n",
              "    </tr>\n",
              "    <tr>\n",
              "      <td>От 10 лет</td>\n",
              "      <td>26.160</td>\n",
              "    </tr>\n",
              "  </tbody>\n",
              "</table>\n",
              "</div>"
            ],
            "text/plain": [
              "            eu_sales\n",
              "new_rating          \n",
              "От 17 лет     93.440\n",
              "БР            58.950\n",
              "От 6 лет      58.060\n",
              "От 13 лет     34.120\n",
              "От 10 лет     26.160"
            ]
          },
          "metadata": {},
          "output_type": "display_data"
        },
        {
          "name": "stdout",
          "output_type": "stream",
          "text": [
            "Продажи в Японии\n"
          ]
        },
        {
          "data": {
            "text/html": [
              "<div>\n",
              "<style scoped>\n",
              "    .dataframe tbody tr th:only-of-type {\n",
              "        vertical-align: middle;\n",
              "    }\n",
              "\n",
              "    .dataframe tbody tr th {\n",
              "        vertical-align: top;\n",
              "    }\n",
              "\n",
              "    .dataframe thead th {\n",
              "        text-align: right;\n",
              "    }\n",
              "</style>\n",
              "<table border=\"1\" class=\"dataframe\">\n",
              "  <thead>\n",
              "    <tr style=\"text-align: right;\">\n",
              "      <th></th>\n",
              "      <th>jp_sales</th>\n",
              "    </tr>\n",
              "    <tr>\n",
              "      <th>new_rating</th>\n",
              "      <th></th>\n",
              "    </tr>\n",
              "  </thead>\n",
              "  <tbody>\n",
              "    <tr>\n",
              "      <td>БР</td>\n",
              "      <td>56.900</td>\n",
              "    </tr>\n",
              "    <tr>\n",
              "      <td>От 13 лет</td>\n",
              "      <td>14.850</td>\n",
              "    </tr>\n",
              "    <tr>\n",
              "      <td>От 6 лет</td>\n",
              "      <td>8.940</td>\n",
              "    </tr>\n",
              "    <tr>\n",
              "      <td>От 17 лет</td>\n",
              "      <td>8.010</td>\n",
              "    </tr>\n",
              "    <tr>\n",
              "      <td>От 10 лет</td>\n",
              "      <td>4.460</td>\n",
              "    </tr>\n",
              "  </tbody>\n",
              "</table>\n",
              "</div>"
            ],
            "text/plain": [
              "            jp_sales\n",
              "new_rating          \n",
              "БР            56.900\n",
              "От 13 лет     14.850\n",
              "От 6 лет       8.940\n",
              "От 17 лет      8.010\n",
              "От 10 лет      4.460"
            ]
          },
          "metadata": {},
          "output_type": "display_data"
        }
      ],
      "source": [
        "print('Продажи в Cеверной Америке')\n",
        "display(df.groupby('new_rating').agg({'na_sales':'sum'}).sort_values(by='na_sales', ascending=False).head(5))\n",
        "print('Продажи в Европе')\n",
        "display(df.groupby('new_rating').agg({'eu_sales':'sum'}).sort_values(by='eu_sales', ascending=False).head(5))\n",
        "print('Продажи в Японии')\n",
        "display(df.groupby('new_rating').agg({'jp_sales':'sum'}).sort_values(by='jp_sales', ascending=False).head(5))"
      ]
    },
    {
      "cell_type": "markdown",
      "metadata": {
        "id": "pNBSVw8Uqhf7"
      },
      "source": [
        "Для Северной Америки и Европы картина выглядит приблизительно одинаково:\n",
        "\n",
        "1. В Северной Америке и Европе наибольшая доля продаж приходится на игры от 17 лет и игры без рейтинга.\n",
        "2. Наименьшая доля продаж во всех регионах приходится на игры категории \"От 10 лет\"\n",
        "3. В Японии, в отличие от других рассматриваемых регионов, наибольшая доля продаж приходится на игры без рейтинга и игры с рейтингом от 13 лет."
      ]
    },
    {
      "cell_type": "markdown",
      "metadata": {
        "id": "hvok5YYAqhf7"
      },
      "source": [
        "## Проверка статистических гипотез"
      ]
    },
    {
      "cell_type": "markdown",
      "metadata": {
        "id": "0VxQhWaOqhf7"
      },
      "source": [
        "Необходимо проверить следующие статистические гиптезы:\n",
        "\n",
        "- Средние пользовательские рейтинги платформ Xbox One и PC одинаковые;\n",
        "- Средние пользовательские рейтинги жанров Action (англ. «действие», экшен-игры) и Sports (англ. «спортивные соревнования») разные."
      ]
    },
    {
      "cell_type": "markdown",
      "metadata": {
        "id": "Hl9Ib7j4qhf7"
      },
      "source": [
        "### Удаление выбросов"
      ]
    },
    {
      "cell_type": "markdown",
      "metadata": {
        "id": "75XesOLkqhf7"
      },
      "source": [
        "Напишем функцию, которая будет удалять экстримальные изначения из нашей выборки. Это нужно для того, чтобы выбросы не смазывали результаты применения тестов."
      ]
    },
    {
      "cell_type": "code",
      "execution_count": null,
      "metadata": {
        "id": "cvdnquPdqhf8"
      },
      "outputs": [],
      "source": [
        "def delete_outliers(df, column):\n",
        "    q1 = df[column].quantile(0.25)                 \n",
        "    q3 = df[column].quantile(0.75)\n",
        "    iqr = q3 - q1\n",
        "    iqr_test = (df[column] >= (q1 - 1.5 * iqr)) & (df[column] <= (q3 + 1.5 * iqr))\n",
        "    return df.loc[iqr_test]"
      ]
    },
    {
      "cell_type": "markdown",
      "metadata": {
        "id": "y6c2_ugOqhf8"
      },
      "source": [
        "### Средние пользовательские рейтинги платформ Xbox One и PC одинаковые?"
      ]
    },
    {
      "cell_type": "code",
      "execution_count": null,
      "metadata": {
        "id": "OoS26rqlqhf8"
      },
      "outputs": [],
      "source": [
        "alpha = 0.05"
      ]
    },
    {
      "cell_type": "code",
      "execution_count": null,
      "metadata": {
        "id": "ECHyOpA8qhf8"
      },
      "outputs": [],
      "source": [
        "xbox = df.query('platform == \"XOne\" and user_score != \"-1\"')\n",
        "pc = df.query('platform == \"PC\" and user_score != \"-1\"')"
      ]
    },
    {
      "cell_type": "code",
      "execution_count": null,
      "metadata": {
        "id": "ZNkQRGm8qhf8"
      },
      "outputs": [],
      "source": [
        "xbox = delete_outliers(xbox, 'user_score')\n",
        "xbox = xbox['user_score']\n",
        "\n",
        "pc = delete_outliers(pc, 'user_score')\n",
        "pc = pc['user_score']"
      ]
    },
    {
      "cell_type": "markdown",
      "metadata": {
        "id": "KAoudHtAqhf8"
      },
      "source": [
        "Одно из условий применения теста Стьюдента: дисперсии подгрупп долны быть однородными. Для этого применяется критерий Левена.\n",
        "\n",
        "Если **(p Levene) > 0.05**, то дисперсии подгрупп гомогенны."
      ]
    },
    {
      "cell_type": "code",
      "execution_count": null,
      "metadata": {
        "id": "y1u7Ogzmqhf9"
      },
      "outputs": [],
      "source": [
        "platform_levene = st.levene(xbox, pc)"
      ]
    },
    {
      "cell_type": "code",
      "execution_count": null,
      "metadata": {
        "id": "qo1xCMQjqhf9",
        "outputId": "ed94dd4d-1f27-46f8-b8d4-196ca350ba59"
      },
      "outputs": [
        {
          "name": "stdout",
          "output_type": "stream",
          "text": [
            "p-значение: 0.01125673819831583\n",
            "Отвергаем нулевую гипотезу о равенстве дисперсий: дисперсии не равны\n"
          ]
        }
      ],
      "source": [
        "print('p-значение:', platform_levene.pvalue)\n",
        "\n",
        "if (platform_levene.pvalue < alpha):\n",
        "    print(\"Отвергаем нулевую гипотезу о равенстве дисперсий: дисперсии не равны\")\n",
        "else:\n",
        "    print(\"Не получилось отвергнуть нулевую гипотезу: дисперсии возможно равны\")"
      ]
    },
    {
      "cell_type": "markdown",
      "metadata": {
        "id": "m1h0romwqhf9"
      },
      "source": [
        "**Гипотеза о равенстве средних двух генеральных совокупностей (для независимых выборок):**\n",
        "\n",
        "H0 = средние по пользовательской оценке для игр платформ \"XOne\" и \"PC\" равны (нет отличий)\n",
        "\n",
        "H1 =  средние по пользовательской оценке для игр платформ \"XOne\" и \"PC\" не равны (возможно есть отличия)\n",
        "\n",
        "Так как мы показали, что дисперсии не равны, установим параметр equal_var=False"
      ]
    },
    {
      "cell_type": "code",
      "execution_count": null,
      "metadata": {
        "id": "vee2WGLhqhf9"
      },
      "outputs": [],
      "source": [
        "results = st.ttest_ind(xbox, pc, equal_var=False)"
      ]
    },
    {
      "cell_type": "code",
      "execution_count": null,
      "metadata": {
        "id": "v932dHKJqhf9",
        "outputId": "f6bea0f3-9d44-41ef-a448-f2fc83886b2c"
      },
      "outputs": [
        {
          "name": "stdout",
          "output_type": "stream",
          "text": [
            "p-значение: 0.06995363731477473\n",
            "Не получилось отвергнуть нулевую гипотезу: возможно нет разницы между платформами\n"
          ]
        }
      ],
      "source": [
        "print('p-значение:', results.pvalue)\n",
        "\n",
        "if (results.pvalue < alpha):\n",
        "    print(\"Отвергаем нулевую гипотезу: есть разница между платформами\")\n",
        "else:\n",
        "    print(\"Не получилось отвергнуть нулевую гипотезу: возможно нет разницы между платформами\")"
      ]
    },
    {
      "cell_type": "markdown",
      "metadata": {
        "id": "yrBxX-EUqhf-"
      },
      "source": [
        "Судя по результатам теста, особой разницы в оценке пользователей по платформам \"XOne\" и \"PC\" определить не удалось. Но все равно предлагаю чуть внимательнее посмотреть на данные!"
      ]
    },
    {
      "cell_type": "code",
      "execution_count": null,
      "metadata": {
        "id": "Mur2RFIPqhf-",
        "outputId": "a7e55feb-b0f2-4540-b655-fd24be976957"
      },
      "outputs": [
        {
          "data": {
            "text/html": [
              "<style  type=\"text/css\" >\n",
              "</style><table id=\"T_2504884a_ba57_11eb_af99_02420a390e2e\" ><thead>    <tr>        <th class=\"blank level0\" ></th>        <th class=\"col_heading level0 col0\" colspan=5>user_score</th>    </tr>    <tr>        <th class=\"blank level1\" ></th>        <th class=\"col_heading level1 col0\" >count</th>        <th class=\"col_heading level1 col1\" >median</th>        <th class=\"col_heading level1 col2\" >mean</th>        <th class=\"col_heading level1 col3\" >var</th>        <th class=\"col_heading level1 col4\" >std</th>    </tr>    <tr>        <th class=\"index_name level0\" >platform</th>        <th class=\"blank\" ></th>        <th class=\"blank\" ></th>        <th class=\"blank\" ></th>        <th class=\"blank\" ></th>        <th class=\"blank\" ></th>    </tr></thead><tbody>\n",
              "                <tr>\n",
              "                        <th id=\"T_2504884a_ba57_11eb_af99_02420a390e2elevel0_row0\" class=\"row_heading level0 row0\" >PC</th>\n",
              "                        <td id=\"T_2504884a_ba57_11eb_af99_02420a390e2erow0_col0\" class=\"data row0 col0\" >122.00</td>\n",
              "                        <td id=\"T_2504884a_ba57_11eb_af99_02420a390e2erow0_col1\" class=\"data row0 col1\" >6.00</td>\n",
              "                        <td id=\"T_2504884a_ba57_11eb_af99_02420a390e2erow0_col2\" class=\"data row0 col2\" >5.82</td>\n",
              "                        <td id=\"T_2504884a_ba57_11eb_af99_02420a390e2erow0_col3\" class=\"data row0 col3\" >2.94</td>\n",
              "                        <td id=\"T_2504884a_ba57_11eb_af99_02420a390e2erow0_col4\" class=\"data row0 col4\" >1.72</td>\n",
              "            </tr>\n",
              "            <tr>\n",
              "                        <th id=\"T_2504884a_ba57_11eb_af99_02420a390e2elevel0_row1\" class=\"row_heading level0 row1\" >XOne</th>\n",
              "                        <td id=\"T_2504884a_ba57_11eb_af99_02420a390e2erow1_col0\" class=\"data row1 col0\" >165.00</td>\n",
              "                        <td id=\"T_2504884a_ba57_11eb_af99_02420a390e2erow1_col1\" class=\"data row1 col1\" >6.00</td>\n",
              "                        <td id=\"T_2504884a_ba57_11eb_af99_02420a390e2erow1_col2\" class=\"data row1 col2\" >6.19</td>\n",
              "                        <td id=\"T_2504884a_ba57_11eb_af99_02420a390e2erow1_col3\" class=\"data row1 col3\" >1.85</td>\n",
              "                        <td id=\"T_2504884a_ba57_11eb_af99_02420a390e2erow1_col4\" class=\"data row1 col4\" >1.36</td>\n",
              "            </tr>\n",
              "    </tbody></table>"
            ],
            "text/plain": [
              "<pandas.io.formats.style.Styler at 0x7fab7c9c5190>"
            ]
          },
          "execution_count": 79,
          "metadata": {},
          "output_type": "execute_result"
        }
      ],
      "source": [
        "df.query('(platform == \"XOne\" or platform == \"PC\") and user_score != \"-1\"').groupby('platform')\\\n",
        "  .agg({'user_score':['count','median','mean','var','std']})\\\n",
        "  .style.format(\"{:.2f}\")"
      ]
    },
    {
      "cell_type": "markdown",
      "metadata": {
        "id": "pPeXlY1Qqhf-"
      },
      "source": [
        "Да, медианные оценки отличаются лишь на 1 пункт, а средние практически равны.\n",
        "\n",
        "**Не выявлено значимых отличий в пользовательских оценках игр между платформами PC и XOne**"
      ]
    },
    {
      "cell_type": "markdown",
      "metadata": {
        "id": "Q0sZlabQqhf_"
      },
      "source": [
        "### Средние пользовательские рейтинги жанров Action и Sports разные?"
      ]
    },
    {
      "cell_type": "code",
      "execution_count": null,
      "metadata": {
        "id": "8BCjxdrJqhf_"
      },
      "outputs": [],
      "source": [
        "action = df.query('genre == \"Action\" and user_score != \"-1\"')\n",
        "sports = df.query('genre == \"Sports\" and user_score != \"-1\"')"
      ]
    },
    {
      "cell_type": "code",
      "execution_count": null,
      "metadata": {
        "id": "MftciEn9qhf_"
      },
      "outputs": [],
      "source": [
        "action = delete_outliers(action, 'user_score')\n",
        "action = action['user_score']\n",
        "\n",
        "sports = delete_outliers(sports, 'user_score')\n",
        "sports = sports['user_score']"
      ]
    },
    {
      "cell_type": "code",
      "execution_count": null,
      "metadata": {
        "id": "lyC_oMdPqhf_"
      },
      "outputs": [],
      "source": [
        "genre_levene = st.levene(action, sports)"
      ]
    },
    {
      "cell_type": "code",
      "execution_count": null,
      "metadata": {
        "id": "MhCmquyOqhf_",
        "outputId": "d1bfe8a4-2e54-4550-ada6-b298f2197e75"
      },
      "outputs": [
        {
          "name": "stdout",
          "output_type": "stream",
          "text": [
            "p-значение: 6.499275512486714e-15\n",
            "Отвергаем нулевую гипотезу о равенстве дисперсий: дисперсии не равны\n"
          ]
        }
      ],
      "source": [
        "print('p-значение:', genre_levene.pvalue)\n",
        "\n",
        "if (genre_levene.pvalue < alpha):\n",
        "    print(\"Отвергаем нулевую гипотезу о равенстве дисперсий: дисперсии не равны\")\n",
        "else:\n",
        "    print(\"Не получилось отвергнуть нулевую гипотезу: дисперсии возможно равны\")"
      ]
    },
    {
      "cell_type": "markdown",
      "metadata": {
        "id": "KubsNRrmqhgA"
      },
      "source": [
        "**Гипотеза о равенстве средних двух генеральных совокупностей (для независимых выборок):**\n",
        "\n",
        "H0 = средние по пользовательской оценке для игр жанров \"Action\" и \"Sports\" равны (нет отличий)\n",
        "\n",
        "H1 =  средние по пользовательской оценке для игр жанров \"Action\" и \"Sports\" не равны (возможно есть отличия)\n",
        "\n",
        "Так как мы показали, что дисперсии неоднородны, установим параметр equal_var=False"
      ]
    },
    {
      "cell_type": "code",
      "execution_count": null,
      "metadata": {
        "id": "gv0abrOKqhgA"
      },
      "outputs": [],
      "source": [
        "results = st.ttest_ind(action, sports, equal_var=False)"
      ]
    },
    {
      "cell_type": "code",
      "execution_count": null,
      "metadata": {
        "id": "GPOwJQZKqhgA",
        "outputId": "b9a981fb-3c76-441a-bfc7-d2f40d24c6c5"
      },
      "outputs": [
        {
          "name": "stdout",
          "output_type": "stream",
          "text": [
            "p-значение: 3.6282085687782744e-19\n",
            "Отвергаем нулевую гипотезу: есть разница между жанрами\n"
          ]
        }
      ],
      "source": [
        "print('p-значение:', results.pvalue)\n",
        "\n",
        "if (results.pvalue < alpha):\n",
        "    print(\"Отвергаем нулевую гипотезу: есть разница между жанрами\")\n",
        "else:\n",
        "    print(\"Не получилось отвергнуть нулевую гипотезу: возможно нет разницы между жанрами\")"
      ]
    },
    {
      "cell_type": "markdown",
      "metadata": {
        "id": "pqs3yTI1qhgA"
      },
      "source": [
        "Разница не случайна, есть значимые различия между выборками, посмотрим на них подробнее!"
      ]
    },
    {
      "cell_type": "code",
      "execution_count": null,
      "metadata": {
        "id": "AGOG3WJ1qhgA",
        "outputId": "f64e10be-65e6-4fc4-b97b-bc5c525fcad7"
      },
      "outputs": [
        {
          "data": {
            "text/html": [
              "<style  type=\"text/css\" >\n",
              "</style><table id=\"T_25154b1c_ba57_11eb_af99_02420a390e2e\" ><thead>    <tr>        <th class=\"blank level0\" ></th>        <th class=\"col_heading level0 col0\" colspan=5>user_score</th>    </tr>    <tr>        <th class=\"blank level1\" ></th>        <th class=\"col_heading level1 col0\" >count</th>        <th class=\"col_heading level1 col1\" >median</th>        <th class=\"col_heading level1 col2\" >mean</th>        <th class=\"col_heading level1 col3\" >var</th>        <th class=\"col_heading level1 col4\" >std</th>    </tr>    <tr>        <th class=\"index_name level0\" >genre</th>        <th class=\"blank\" ></th>        <th class=\"blank\" ></th>        <th class=\"blank\" ></th>        <th class=\"blank\" ></th>        <th class=\"blank\" ></th>    </tr></thead><tbody>\n",
              "                <tr>\n",
              "                        <th id=\"T_25154b1c_ba57_11eb_af99_02420a390e2elevel0_row0\" class=\"row_heading level0 row0\" >Action</th>\n",
              "                        <td id=\"T_25154b1c_ba57_11eb_af99_02420a390e2erow0_col0\" class=\"data row0 col0\" >297.00</td>\n",
              "                        <td id=\"T_25154b1c_ba57_11eb_af99_02420a390e2erow0_col1\" class=\"data row0 col1\" >7.00</td>\n",
              "                        <td id=\"T_25154b1c_ba57_11eb_af99_02420a390e2erow0_col2\" class=\"data row0 col2\" >6.29</td>\n",
              "                        <td id=\"T_25154b1c_ba57_11eb_af99_02420a390e2erow0_col3\" class=\"data row0 col3\" >1.94</td>\n",
              "                        <td id=\"T_25154b1c_ba57_11eb_af99_02420a390e2erow0_col4\" class=\"data row0 col4\" >1.39</td>\n",
              "            </tr>\n",
              "            <tr>\n",
              "                        <th id=\"T_25154b1c_ba57_11eb_af99_02420a390e2elevel0_row1\" class=\"row_heading level0 row1\" >Sports</th>\n",
              "                        <td id=\"T_25154b1c_ba57_11eb_af99_02420a390e2erow1_col0\" class=\"data row1 col0\" >127.00</td>\n",
              "                        <td id=\"T_25154b1c_ba57_11eb_af99_02420a390e2erow1_col1\" class=\"data row1 col1\" >5.00</td>\n",
              "                        <td id=\"T_25154b1c_ba57_11eb_af99_02420a390e2erow1_col2\" class=\"data row1 col2\" >4.83</td>\n",
              "                        <td id=\"T_25154b1c_ba57_11eb_af99_02420a390e2erow1_col3\" class=\"data row1 col3\" >3.47</td>\n",
              "                        <td id=\"T_25154b1c_ba57_11eb_af99_02420a390e2erow1_col4\" class=\"data row1 col4\" >1.86</td>\n",
              "            </tr>\n",
              "    </tbody></table>"
            ],
            "text/plain": [
              "<pandas.io.formats.style.Styler at 0x7fab7ce78f50>"
            ]
          },
          "execution_count": 86,
          "metadata": {},
          "output_type": "execute_result"
        }
      ],
      "source": [
        "df.query('(genre == \"Action\" or genre == \"Sports\") and user_score != \"-1\"').groupby('genre')\\\n",
        "  .agg({'user_score':['count','median','mean','var','std']})\\\n",
        "  .style.format(\"{:.2f}\")"
      ]
    },
    {
      "cell_type": "markdown",
      "metadata": {
        "id": "Gt87JhlpqhgB"
      },
      "source": [
        "**Выявлены значимые отличия в пользовательских оценках игр между жанрами Action и Sports: Пользовательские оценки для игр жанра Action в среднем выше, чем пользовательские оценки жанра Sports.**\n",
        "\n"
      ]
    },
    {
      "cell_type": "markdown",
      "metadata": {
        "id": "8ImZQmVcqhgB"
      },
      "source": [
        "## Общий вывод"
      ]
    },
    {
      "cell_type": "markdown",
      "metadata": {
        "id": "GIBUOYodqhgB"
      },
      "source": [
        "**Основные выводы:**\n",
        "1. Срок жизни игровой платформы оставляет в среднем **около 10 лет**;\n",
        "\n",
        "2. Лидером продаж на 2016 год является приставка **PS4**, следом идут **XOne** и **3DS**. И на 4 месте **PC**. Следовательно для создания потенциально популярной игры **рекомендуется разрабатывать ее сразу для всех обозначенных платформ**. \n",
        "\n",
        "3. **PS4 и XOne можно назвать самыми успешными консолями**. Поэтому, если нет бюджета делать потенциально популярную игру сразу для всех платформ, можно сосредоточиться на платформах Sony и Microsoft.\n",
        "4. **Наблюдается сильная положительаня связь между оценкой критиков и количеством продаж игр** (коэффициент корреляции Пирсона: 0.4019028771227368).Видно, что игры с более высокой оценкой критиков лучше продаются. В современном мире агенты влияния и разного рода тренд-сеттеры оказывают существенное влияние на популярность контента, на лояльность к нему. **Поэтому для обеспечения хороших продаж девелоперам обязательно нужно ориентироваться на оценки критиков, а отделу маркетинга трудиться не меньше, чем разработчикам**\n",
        "5. С другой стороны, корреляция между продажами и оценкой пользователей сильно варьируются от одной платформы к другой. Корреляция может отсутствовать по следующим причинам: (а) успех игры определяется продажами на релизе, (б) на релизе пользователи чаще всего принимают решение о покупке исходя из различных факторов (собственных ожиданий,впечатлений от трейлеров, рекламной кампании и т.д.), (в) после покупки игрок уже сам ставит оценку игре, и иногда она может быть не самой высокой, но высокие продажи уже есть. Что также усиливает позицию относительно намерения **рекмендовать вкладывать бюджет в рекламу и маркетинг: выше Brand Lift - выше продажи на релизе**\n",
        "6. По суммпе продаж: наиболее популярный жанр - Action. Далее по популярности нос в нос идут два жанра: Sports и Shooter. В третью по популярности группу можно выделить жанры Role-Playing и Misc. С другой стороны, обычно лучше продаются игры следующих жанров: Shooter (0.515 - с огромным отрывом), Sports (0.180), Platform (0.140), Fighting (0.125) и Role-Playing (0.110). Соответственно для создания потенциально популярной игры **следует делать ее в одном из обозначенных жанров: Shooter, Sports, Platform, Fighting или Role-Playing**.\n",
        "7. Такие платформы как PS4, PS3 и DS популярны во всех рассматриваемых регионах. В Северной Америке и Европе ключевую роль играют PS4 и XOne, тогда как в Японии из-за специфики рынка американская консоль вообще не представлена в топ-5.Также из-за специфики японского рынка консоль 3DS, котрая в других рассматриваемых регионах закрывает списки топ-5 популярных платформ, в Японии занимает 1 позицию в рейтинге. Соответственно при **разработке стратегии следует учитывать специфику региональных рынков: при стратегии максимизации охвата стоит выпускать игру на одной из следующих платформ: актуальный Play Station или актуальный XBox. При ориентации на японский рынок рекомендуется также подумать о приставках от компании Nintendo**.\n",
        "8. Наиболее популярными жанрами (по суммарным продажам) во всех рассматриваемых регионах являются: Action, Shooter, Sports и Misc. В Японии опять же из-за специфики рынка первую позицию рейтинга занимает жанр Role-Playing. Поэтому опять же при **разработке стратегии следует учитывать специфику региональных рынков: при стратегии максимизации охвата стоит разрабатывать игру в одном из жанров: Action, Shooter, Sports и Misc. При ориентации на японский рынок рекомендуется также подумать о разработке игры в жанре Role-Playing**\n",
        "9. В Северной Америке и Европе наибольшая доля продаж приходится на игры от 17 лет и игры без рейтинга. Наименьшая доля продаж во всех регионах приходится на игры категории \"От 10 лет\". В Японии, в отличие от других рассматриваемых регионов, наибольшая доля продаж приходится на игры без рейтинга и игры с рейтингом от 13 лет.\n",
        "10. **Не выявлено значимых отличий в пользовательских оценках игр между платформами PC и XOne**\n",
        "11. **Выявлены значимые отличия в пользовательских оценках игр между жанрами Action и Sports: Пользовательские оценки для игр жанра Action в среднем выше, чем пользовательские оценки жанра Sports. Что еще раз подтверждает вывод о том, что стоит делать игру именно в жанре Action**."
      ]
    }
  ],
  "metadata": {
    "kernelspec": {
      "display_name": "Python 3",
      "language": "python",
      "name": "python3"
    },
    "language_info": {
      "codemirror_mode": {
        "name": "ipython",
        "version": 3
      },
      "file_extension": ".py",
      "mimetype": "text/x-python",
      "name": "python",
      "nbconvert_exporter": "python",
      "pygments_lexer": "ipython3",
      "version": "3.7.8"
    },
    "toc": {
      "base_numbering": 1,
      "nav_menu": {},
      "number_sections": true,
      "sideBar": true,
      "skip_h1_title": true,
      "title_cell": "Table of Contents",
      "title_sidebar": "Contents",
      "toc_cell": false,
      "toc_position": {},
      "toc_section_display": true,
      "toc_window_display": false
    },
    "colab": {
      "name": "videogames_market_research.ipynb",
      "provenance": [],
      "include_colab_link": true
    }
  },
  "nbformat": 4,
  "nbformat_minor": 0
}