{
  "cells": [
    {
      "cell_type": "markdown",
      "metadata": {
        "id": "view-in-github",
        "colab_type": "text"
      },
      "source": [
        "<a href=\"https://colab.research.google.com/github/GrichinNikita2019/yandex_praktikum_da/blob/main/hypothesis_and_ab_testing/hypothesis_and_ab_testing.ipynb\" target=\"_parent\"><img src=\"https://colab.research.google.com/assets/colab-badge.svg\" alt=\"Open In Colab\"/></a>"
      ]
    },
    {
      "cell_type": "markdown",
      "metadata": {
        "id": "VZcFOJHQvuLP"
      },
      "source": [
        "# Приоритизация гипотез и анализ A/B-теста\n",
        "\n",
        "Цель проекта: Приоритизировать гипотезы, запустить A/B-тест и проанализировать результаты.\n",
        "\n",
        "\n",
        "**Задачи первой части проекта (приоритизация гипотез)**:\n",
        "* Применить фреймворк ICE для приоритизации гипотез. Отсортировать их по убыванию приоритета,\n",
        "* Применить фреймворк RICE для приоритизации гипотез. Отсортировать их по убыванию приоритета,\n",
        "* Указать, как изменилась приоритизация гипотез при применении RICE вместо ICE. Объяснить, почему так произошло.\n",
        "\n",
        "\n",
        "**Задачи второй части проекта (анализ A/B-теста)**:\n",
        "* Построить график кумулятивной выручки по группам. Сделайтт выводы и предположения,\n",
        "* Построить график кумулятивного среднего чека по группам. Сделать выводы и предположения,\n",
        "* Пострить график относительного изменения кумулятивного среднего чека группы B к группе A. Сделать выводы и предположения,\n",
        "* Построить график кумулятивной конверсии по группам. Сделать выводы и предположения,\n",
        "* Построить график относительного изменения кумулятивной конверсии группы B к группе A. Сделать выводы и предположения,\n",
        "* Построить точечный график количества заказов по пользователям. Сделать выводы и предположения.\n",
        "* Посчитать 95-й и 99-й перцентили количества заказов на пользователя. Выберите границу для определения аномальных пользователей.\n",
        "* Построить точечный график стоимостей заказов. Сделать выводы и предположения.\n",
        "* Посчитайте 95-й и 99-й перцентили стоимости заказов. Выберите границу для определения аномальных заказов.\n",
        "* Посчитайте статистическую значимость различий в конверсии между группами по «сырым» данным. Сделать выводы и предположения.\n",
        "* Посчитайте статистическую значимость различий в среднем чеке заказа между группами по «сырым» данным. Сделать выводы и предположения.\n",
        "* Посчитайте статистическую значимость различий в конверсии между группами по «очищенным» данным. Сделать выводы и предположения.\n",
        "* Посчитайте статистическую значимость различий в среднем чеке заказа между группами по «очищенным» данным. Сделать выводы и предположения.\n",
        "* Принять решение по результатам теста и объяснить его. Варианты решений: 1. Остановить тест, зафиксировать победу одной из групп. 2. Остановить тест, зафиксировать отсутствие различий между группами. 3. Продолжить тест.\n",
        "\n",
        "**План работы:**\n",
        "1. Шаг 1. Загрузить данные и подготовить их к анализу,\n",
        "2. Шаг 2. Приоритизировать гипотезы,\n",
        "3. Шаг 3. Проанализировать результаты A/B-тест.\n",
        "\n",
        "**Описание данных:**\n",
        "\n",
        "В вашем распоряжении три датасета.\n",
        "\n",
        "**Для первой части проекта:**\n",
        "\n",
        "- /datasets/hypothesis.csv\n",
        "\n",
        "**Для второй части проекта:**\n",
        "\n",
        "- /datasets/orders.csv\n",
        "- /datasets/visitors.csv\n",
        "\n",
        "\n",
        "**Структура hypothesis.csv:**\n",
        "\n",
        "\n",
        "* Hypothesis — *краткое описание гипотезы*\n",
        "* Reach — *охват пользователей по 10-балльной шкале*\n",
        "* Impact — *влияние на пользователей по 10-балльной шкале*\n",
        "* Confidence — *уверенность в гипотезе по 10-балльной шкале*\n",
        "* Efforts — *затраты ресурсов на проверку гипотезы по 10-балльной шкале*\n",
        "\n",
        "*Чем больше значение Efforts, тем дороже проверка гипотезы*\n",
        "\n",
        "\n",
        "**Структура orders.csv:**\n",
        "\n",
        "\n",
        "* transactionId — *идентификатор заказа*\n",
        "* visitorId — *идентификатор пользователя, совершившего заказ*\n",
        "* date — *дата, когда был совершён заказ*\n",
        "* revenue — *выручка заказа*\n",
        "* group — *группа A/B-теста, в которую попал заказ*\n",
        "\n",
        "**Структура visitors.csv:**\n",
        "\n",
        "\n",
        "* date — *дата*\n",
        "* group — *группа A/B-теста*\n",
        "* visitors — *количество пользователей в указанную дату в указанной группе A/B-теста*"
      ]
    },
    {
      "cell_type": "markdown",
      "metadata": {
        "id": "jV3kW0W9vuLV"
      },
      "source": [
        "## Изучение данных из файла"
      ]
    },
    {
      "cell_type": "markdown",
      "metadata": {
        "id": "CGIjrdkGvuLW"
      },
      "source": [
        "### Импорт библиотек, настройка отображения данных и загрузка данных"
      ]
    },
    {
      "cell_type": "code",
      "execution_count": null,
      "metadata": {
        "id": "-zvOSxbKvuLW"
      },
      "outputs": [],
      "source": [
        "import pandas as pd\n",
        "import numpy as np\n",
        "import matplotlib.pyplot as plt\n",
        "from scipy import stats as st\n",
        "import warnings\n",
        "import pylab\n",
        "import seaborn as sns\n",
        "import math as mth"
      ]
    },
    {
      "cell_type": "code",
      "execution_count": null,
      "metadata": {
        "id": "kJ_7KCa0vuLY"
      },
      "outputs": [],
      "source": [
        "pd.options.display.float_format = '{:,.2f}'.format\n",
        "pd.set_option('display.float_format', lambda x: '%.3f' % x)\n",
        "%matplotlib inline"
      ]
    },
    {
      "cell_type": "code",
      "execution_count": null,
      "metadata": {
        "id": "GF19VC2vvuLY"
      },
      "outputs": [],
      "source": [
        "hypothesis = pd.read_csv('/datasets/hypothesis.csv')\n",
        "orders = pd.read_csv('/datasets/orders.csv')\n",
        "visitors = pd.read_csv('/datasets/visitors.csv')"
      ]
    },
    {
      "cell_type": "markdown",
      "metadata": {
        "id": "D52cZnFfvuLZ"
      },
      "source": [
        "### Изучение таблицы hypothesis"
      ]
    },
    {
      "cell_type": "code",
      "execution_count": null,
      "metadata": {
        "scrolled": false,
        "id": "tzXVUlmsvuLZ",
        "outputId": "5bc9307b-f990-4d65-f398-b66816d82aca"
      },
      "outputs": [
        {
          "data": {
            "text/html": [
              "<div>\n",
              "<style scoped>\n",
              "    .dataframe tbody tr th:only-of-type {\n",
              "        vertical-align: middle;\n",
              "    }\n",
              "\n",
              "    .dataframe tbody tr th {\n",
              "        vertical-align: top;\n",
              "    }\n",
              "\n",
              "    .dataframe thead th {\n",
              "        text-align: right;\n",
              "    }\n",
              "</style>\n",
              "<table border=\"1\" class=\"dataframe\">\n",
              "  <thead>\n",
              "    <tr style=\"text-align: right;\">\n",
              "      <th></th>\n",
              "      <th>Hypothesis</th>\n",
              "      <th>Reach</th>\n",
              "      <th>Impact</th>\n",
              "      <th>Confidence</th>\n",
              "      <th>Efforts</th>\n",
              "    </tr>\n",
              "  </thead>\n",
              "  <tbody>\n",
              "    <tr>\n",
              "      <td>0</td>\n",
              "      <td>Добавить два новых канала привлечения трафика,...</td>\n",
              "      <td>3</td>\n",
              "      <td>10</td>\n",
              "      <td>8</td>\n",
              "      <td>6</td>\n",
              "    </tr>\n",
              "    <tr>\n",
              "      <td>1</td>\n",
              "      <td>Запустить собственную службу доставки, что сок...</td>\n",
              "      <td>2</td>\n",
              "      <td>5</td>\n",
              "      <td>4</td>\n",
              "      <td>10</td>\n",
              "    </tr>\n",
              "    <tr>\n",
              "      <td>2</td>\n",
              "      <td>Добавить блоки рекомендаций товаров на сайт ин...</td>\n",
              "      <td>8</td>\n",
              "      <td>3</td>\n",
              "      <td>7</td>\n",
              "      <td>3</td>\n",
              "    </tr>\n",
              "    <tr>\n",
              "      <td>3</td>\n",
              "      <td>Изменить структура категорий, что увеличит кон...</td>\n",
              "      <td>8</td>\n",
              "      <td>3</td>\n",
              "      <td>3</td>\n",
              "      <td>8</td>\n",
              "    </tr>\n",
              "    <tr>\n",
              "      <td>4</td>\n",
              "      <td>Изменить цвет фона главной страницы, чтобы уве...</td>\n",
              "      <td>3</td>\n",
              "      <td>1</td>\n",
              "      <td>1</td>\n",
              "      <td>1</td>\n",
              "    </tr>\n",
              "    <tr>\n",
              "      <td>5</td>\n",
              "      <td>Добавить страницу отзывов клиентов о магазине,...</td>\n",
              "      <td>3</td>\n",
              "      <td>2</td>\n",
              "      <td>2</td>\n",
              "      <td>3</td>\n",
              "    </tr>\n",
              "    <tr>\n",
              "      <td>6</td>\n",
              "      <td>Показать на главной странице баннеры с актуаль...</td>\n",
              "      <td>5</td>\n",
              "      <td>3</td>\n",
              "      <td>8</td>\n",
              "      <td>3</td>\n",
              "    </tr>\n",
              "    <tr>\n",
              "      <td>7</td>\n",
              "      <td>Добавить форму подписки на все основные страни...</td>\n",
              "      <td>10</td>\n",
              "      <td>7</td>\n",
              "      <td>8</td>\n",
              "      <td>5</td>\n",
              "    </tr>\n",
              "    <tr>\n",
              "      <td>8</td>\n",
              "      <td>Запустить акцию, дающую скидку на товар в день...</td>\n",
              "      <td>1</td>\n",
              "      <td>9</td>\n",
              "      <td>9</td>\n",
              "      <td>5</td>\n",
              "    </tr>\n",
              "  </tbody>\n",
              "</table>\n",
              "</div>"
            ],
            "text/plain": [
              "                                          Hypothesis  Reach  Impact  \\\n",
              "0  Добавить два новых канала привлечения трафика,...      3      10   \n",
              "1  Запустить собственную службу доставки, что сок...      2       5   \n",
              "2  Добавить блоки рекомендаций товаров на сайт ин...      8       3   \n",
              "3  Изменить структура категорий, что увеличит кон...      8       3   \n",
              "4  Изменить цвет фона главной страницы, чтобы уве...      3       1   \n",
              "5  Добавить страницу отзывов клиентов о магазине,...      3       2   \n",
              "6  Показать на главной странице баннеры с актуаль...      5       3   \n",
              "7  Добавить форму подписки на все основные страни...     10       7   \n",
              "8  Запустить акцию, дающую скидку на товар в день...      1       9   \n",
              "\n",
              "   Confidence  Efforts  \n",
              "0           8        6  \n",
              "1           4       10  \n",
              "2           7        3  \n",
              "3           3        8  \n",
              "4           1        1  \n",
              "5           2        3  \n",
              "6           8        3  \n",
              "7           8        5  \n",
              "8           9        5  "
            ]
          },
          "execution_count": 4,
          "metadata": {},
          "output_type": "execute_result"
        }
      ],
      "source": [
        "hypothesis"
      ]
    },
    {
      "cell_type": "code",
      "execution_count": null,
      "metadata": {
        "id": "ni1QCcr1vuLb",
        "outputId": "f3d42239-7afe-4cb7-c934-1667008e3346"
      },
      "outputs": [
        {
          "name": "stdout",
          "output_type": "stream",
          "text": [
            "<class 'pandas.core.frame.DataFrame'>\n",
            "RangeIndex: 9 entries, 0 to 8\n",
            "Data columns (total 5 columns):\n",
            "Hypothesis    9 non-null object\n",
            "Reach         9 non-null int64\n",
            "Impact        9 non-null int64\n",
            "Confidence    9 non-null int64\n",
            "Efforts       9 non-null int64\n",
            "dtypes: int64(4), object(1)\n",
            "memory usage: 488.0+ bytes\n"
          ]
        }
      ],
      "source": [
        "hypothesis.info()"
      ]
    },
    {
      "cell_type": "code",
      "execution_count": null,
      "metadata": {
        "id": "0EB2sLxovuLc",
        "outputId": "3fad5a23-2a51-41dc-de26-d6b28a61a0a6"
      },
      "outputs": [
        {
          "data": {
            "text/plain": [
              "0"
            ]
          },
          "execution_count": 6,
          "metadata": {},
          "output_type": "execute_result"
        }
      ],
      "source": [
        "hypothesis.duplicated().sum()"
      ]
    },
    {
      "cell_type": "code",
      "execution_count": null,
      "metadata": {
        "id": "FCt-G-FHvuLc",
        "outputId": "ebb2e287-274b-4b93-e285-aa64afae7b4d"
      },
      "outputs": [
        {
          "data": {
            "text/html": [
              "<style  type=\"text/css\" >\n",
              "    #T_0f375c70_2d86_11ec_9212_02420a398595row0_col0 {\n",
              "            background-color:  #3b4cc0;\n",
              "            color:  #f1f1f1;\n",
              "        }    #T_0f375c70_2d86_11ec_9212_02420a398595row1_col0 {\n",
              "            background-color:  #3b4cc0;\n",
              "            color:  #f1f1f1;\n",
              "        }    #T_0f375c70_2d86_11ec_9212_02420a398595row2_col0 {\n",
              "            background-color:  #3b4cc0;\n",
              "            color:  #f1f1f1;\n",
              "        }    #T_0f375c70_2d86_11ec_9212_02420a398595row3_col0 {\n",
              "            background-color:  #3b4cc0;\n",
              "            color:  #f1f1f1;\n",
              "        }    #T_0f375c70_2d86_11ec_9212_02420a398595row4_col0 {\n",
              "            background-color:  #3b4cc0;\n",
              "            color:  #f1f1f1;\n",
              "        }</style><table id=\"T_0f375c70_2d86_11ec_9212_02420a398595\" ><thead>    <tr>        <th class=\"blank level0\" ></th>        <th class=\"col_heading level0 col0\" >share_of_missing_values</th>    </tr></thead><tbody>\n",
              "                <tr>\n",
              "                        <th id=\"T_0f375c70_2d86_11ec_9212_02420a398595level0_row0\" class=\"row_heading level0 row0\" >Hypothesis</th>\n",
              "                        <td id=\"T_0f375c70_2d86_11ec_9212_02420a398595row0_col0\" class=\"data row0 col0\" >0</td>\n",
              "            </tr>\n",
              "            <tr>\n",
              "                        <th id=\"T_0f375c70_2d86_11ec_9212_02420a398595level0_row1\" class=\"row_heading level0 row1\" >Reach</th>\n",
              "                        <td id=\"T_0f375c70_2d86_11ec_9212_02420a398595row1_col0\" class=\"data row1 col0\" >0</td>\n",
              "            </tr>\n",
              "            <tr>\n",
              "                        <th id=\"T_0f375c70_2d86_11ec_9212_02420a398595level0_row2\" class=\"row_heading level0 row2\" >Impact</th>\n",
              "                        <td id=\"T_0f375c70_2d86_11ec_9212_02420a398595row2_col0\" class=\"data row2 col0\" >0</td>\n",
              "            </tr>\n",
              "            <tr>\n",
              "                        <th id=\"T_0f375c70_2d86_11ec_9212_02420a398595level0_row3\" class=\"row_heading level0 row3\" >Confidence</th>\n",
              "                        <td id=\"T_0f375c70_2d86_11ec_9212_02420a398595row3_col0\" class=\"data row3 col0\" >0</td>\n",
              "            </tr>\n",
              "            <tr>\n",
              "                        <th id=\"T_0f375c70_2d86_11ec_9212_02420a398595level0_row4\" class=\"row_heading level0 row4\" >Efforts</th>\n",
              "                        <td id=\"T_0f375c70_2d86_11ec_9212_02420a398595row4_col0\" class=\"data row4 col0\" >0</td>\n",
              "            </tr>\n",
              "    </tbody></table>"
            ],
            "text/plain": [
              "<pandas.io.formats.style.Styler at 0x7f2d1f537710>"
            ]
          },
          "execution_count": 7,
          "metadata": {},
          "output_type": "execute_result"
        }
      ],
      "source": [
        "pd.DataFrame(round((hypothesis.isna().mean()*100),2),\n",
        "             columns = ['share_of_missing_values']) \\\n",
        "            .style.background_gradient('coolwarm')"
      ]
    },
    {
      "cell_type": "markdown",
      "metadata": {
        "id": "HNVb-zYZvuLd"
      },
      "source": [
        "В данном наборе данных нет существенных недостатков: отсутствуют пропущенные значения, дубликаты, типы данных установлены адекватно. Один недостаток - использование в заголовках символов одновременно в верхнем и нижнем регистре. Поправим недостаток."
      ]
    },
    {
      "cell_type": "code",
      "execution_count": null,
      "metadata": {
        "id": "iy5FIq02vuLe"
      },
      "outputs": [],
      "source": [
        "hypothesis.columns = hypothesis.columns \\\n",
        "                               .str \\\n",
        "                               .lower()"
      ]
    },
    {
      "cell_type": "code",
      "execution_count": null,
      "metadata": {
        "id": "ACPlcVpjvuLe",
        "outputId": "113a0425-4fc9-46a5-a60a-6a89de691767"
      },
      "outputs": [
        {
          "data": {
            "text/html": [
              "<div>\n",
              "<style scoped>\n",
              "    .dataframe tbody tr th:only-of-type {\n",
              "        vertical-align: middle;\n",
              "    }\n",
              "\n",
              "    .dataframe tbody tr th {\n",
              "        vertical-align: top;\n",
              "    }\n",
              "\n",
              "    .dataframe thead th {\n",
              "        text-align: right;\n",
              "    }\n",
              "</style>\n",
              "<table border=\"1\" class=\"dataframe\">\n",
              "  <thead>\n",
              "    <tr style=\"text-align: right;\">\n",
              "      <th></th>\n",
              "      <th>hypothesis</th>\n",
              "      <th>reach</th>\n",
              "      <th>impact</th>\n",
              "      <th>confidence</th>\n",
              "      <th>efforts</th>\n",
              "    </tr>\n",
              "  </thead>\n",
              "  <tbody>\n",
              "    <tr>\n",
              "      <td>0</td>\n",
              "      <td>Добавить два новых канала привлечения трафика,...</td>\n",
              "      <td>3</td>\n",
              "      <td>10</td>\n",
              "      <td>8</td>\n",
              "      <td>6</td>\n",
              "    </tr>\n",
              "    <tr>\n",
              "      <td>1</td>\n",
              "      <td>Запустить собственную службу доставки, что сок...</td>\n",
              "      <td>2</td>\n",
              "      <td>5</td>\n",
              "      <td>4</td>\n",
              "      <td>10</td>\n",
              "    </tr>\n",
              "    <tr>\n",
              "      <td>2</td>\n",
              "      <td>Добавить блоки рекомендаций товаров на сайт ин...</td>\n",
              "      <td>8</td>\n",
              "      <td>3</td>\n",
              "      <td>7</td>\n",
              "      <td>3</td>\n",
              "    </tr>\n",
              "    <tr>\n",
              "      <td>3</td>\n",
              "      <td>Изменить структура категорий, что увеличит кон...</td>\n",
              "      <td>8</td>\n",
              "      <td>3</td>\n",
              "      <td>3</td>\n",
              "      <td>8</td>\n",
              "    </tr>\n",
              "    <tr>\n",
              "      <td>4</td>\n",
              "      <td>Изменить цвет фона главной страницы, чтобы уве...</td>\n",
              "      <td>3</td>\n",
              "      <td>1</td>\n",
              "      <td>1</td>\n",
              "      <td>1</td>\n",
              "    </tr>\n",
              "    <tr>\n",
              "      <td>5</td>\n",
              "      <td>Добавить страницу отзывов клиентов о магазине,...</td>\n",
              "      <td>3</td>\n",
              "      <td>2</td>\n",
              "      <td>2</td>\n",
              "      <td>3</td>\n",
              "    </tr>\n",
              "    <tr>\n",
              "      <td>6</td>\n",
              "      <td>Показать на главной странице баннеры с актуаль...</td>\n",
              "      <td>5</td>\n",
              "      <td>3</td>\n",
              "      <td>8</td>\n",
              "      <td>3</td>\n",
              "    </tr>\n",
              "    <tr>\n",
              "      <td>7</td>\n",
              "      <td>Добавить форму подписки на все основные страни...</td>\n",
              "      <td>10</td>\n",
              "      <td>7</td>\n",
              "      <td>8</td>\n",
              "      <td>5</td>\n",
              "    </tr>\n",
              "    <tr>\n",
              "      <td>8</td>\n",
              "      <td>Запустить акцию, дающую скидку на товар в день...</td>\n",
              "      <td>1</td>\n",
              "      <td>9</td>\n",
              "      <td>9</td>\n",
              "      <td>5</td>\n",
              "    </tr>\n",
              "  </tbody>\n",
              "</table>\n",
              "</div>"
            ],
            "text/plain": [
              "                                          hypothesis  reach  impact  \\\n",
              "0  Добавить два новых канала привлечения трафика,...      3      10   \n",
              "1  Запустить собственную службу доставки, что сок...      2       5   \n",
              "2  Добавить блоки рекомендаций товаров на сайт ин...      8       3   \n",
              "3  Изменить структура категорий, что увеличит кон...      8       3   \n",
              "4  Изменить цвет фона главной страницы, чтобы уве...      3       1   \n",
              "5  Добавить страницу отзывов клиентов о магазине,...      3       2   \n",
              "6  Показать на главной странице баннеры с актуаль...      5       3   \n",
              "7  Добавить форму подписки на все основные страни...     10       7   \n",
              "8  Запустить акцию, дающую скидку на товар в день...      1       9   \n",
              "\n",
              "   confidence  efforts  \n",
              "0           8        6  \n",
              "1           4       10  \n",
              "2           7        3  \n",
              "3           3        8  \n",
              "4           1        1  \n",
              "5           2        3  \n",
              "6           8        3  \n",
              "7           8        5  \n",
              "8           9        5  "
            ]
          },
          "execution_count": 9,
          "metadata": {},
          "output_type": "execute_result"
        }
      ],
      "source": [
        "hypothesis"
      ]
    },
    {
      "cell_type": "markdown",
      "metadata": {
        "id": "Ti_Z1QVuvuLf"
      },
      "source": [
        "Другое дело! Идем к таблице orders."
      ]
    },
    {
      "cell_type": "markdown",
      "metadata": {
        "id": "cMtoRraAvuLf"
      },
      "source": [
        "### Изучение таблицы orders"
      ]
    },
    {
      "cell_type": "code",
      "execution_count": null,
      "metadata": {
        "scrolled": true,
        "id": "-yyVLV82vuLg",
        "outputId": "fc362f31-bcc6-4299-98da-e0bae1403f36"
      },
      "outputs": [
        {
          "data": {
            "text/html": [
              "<div>\n",
              "<style scoped>\n",
              "    .dataframe tbody tr th:only-of-type {\n",
              "        vertical-align: middle;\n",
              "    }\n",
              "\n",
              "    .dataframe tbody tr th {\n",
              "        vertical-align: top;\n",
              "    }\n",
              "\n",
              "    .dataframe thead th {\n",
              "        text-align: right;\n",
              "    }\n",
              "</style>\n",
              "<table border=\"1\" class=\"dataframe\">\n",
              "  <thead>\n",
              "    <tr style=\"text-align: right;\">\n",
              "      <th></th>\n",
              "      <th>transactionId</th>\n",
              "      <th>visitorId</th>\n",
              "      <th>date</th>\n",
              "      <th>revenue</th>\n",
              "      <th>group</th>\n",
              "    </tr>\n",
              "  </thead>\n",
              "  <tbody>\n",
              "    <tr>\n",
              "      <td>0</td>\n",
              "      <td>3667963787</td>\n",
              "      <td>3312258926</td>\n",
              "      <td>2019-08-15</td>\n",
              "      <td>1650</td>\n",
              "      <td>B</td>\n",
              "    </tr>\n",
              "    <tr>\n",
              "      <td>1</td>\n",
              "      <td>2804400009</td>\n",
              "      <td>3642806036</td>\n",
              "      <td>2019-08-15</td>\n",
              "      <td>730</td>\n",
              "      <td>B</td>\n",
              "    </tr>\n",
              "    <tr>\n",
              "      <td>2</td>\n",
              "      <td>2961555356</td>\n",
              "      <td>4069496402</td>\n",
              "      <td>2019-08-15</td>\n",
              "      <td>400</td>\n",
              "      <td>A</td>\n",
              "    </tr>\n",
              "    <tr>\n",
              "      <td>3</td>\n",
              "      <td>3797467345</td>\n",
              "      <td>1196621759</td>\n",
              "      <td>2019-08-15</td>\n",
              "      <td>9759</td>\n",
              "      <td>B</td>\n",
              "    </tr>\n",
              "    <tr>\n",
              "      <td>4</td>\n",
              "      <td>2282983706</td>\n",
              "      <td>2322279887</td>\n",
              "      <td>2019-08-15</td>\n",
              "      <td>2308</td>\n",
              "      <td>B</td>\n",
              "    </tr>\n",
              "  </tbody>\n",
              "</table>\n",
              "</div>"
            ],
            "text/plain": [
              "   transactionId   visitorId        date  revenue group\n",
              "0     3667963787  3312258926  2019-08-15     1650     B\n",
              "1     2804400009  3642806036  2019-08-15      730     B\n",
              "2     2961555356  4069496402  2019-08-15      400     A\n",
              "3     3797467345  1196621759  2019-08-15     9759     B\n",
              "4     2282983706  2322279887  2019-08-15     2308     B"
            ]
          },
          "execution_count": 10,
          "metadata": {},
          "output_type": "execute_result"
        }
      ],
      "source": [
        "orders.head()"
      ]
    },
    {
      "cell_type": "code",
      "execution_count": null,
      "metadata": {
        "id": "ZCYdMPTBvuLh",
        "outputId": "48660e32-7f46-4de0-812c-2a408112a3bf"
      },
      "outputs": [
        {
          "name": "stdout",
          "output_type": "stream",
          "text": [
            "<class 'pandas.core.frame.DataFrame'>\n",
            "RangeIndex: 1197 entries, 0 to 1196\n",
            "Data columns (total 5 columns):\n",
            "transactionId    1197 non-null int64\n",
            "visitorId        1197 non-null int64\n",
            "date             1197 non-null object\n",
            "revenue          1197 non-null int64\n",
            "group            1197 non-null object\n",
            "dtypes: int64(3), object(2)\n",
            "memory usage: 46.9+ KB\n"
          ]
        }
      ],
      "source": [
        "orders.info()"
      ]
    },
    {
      "cell_type": "markdown",
      "metadata": {
        "id": "LzWrgAxOvuLh"
      },
      "source": [
        "Переменную date необходимо привести к формату даты.\n",
        "\n",
        "Переменные transactionId и visitorId рекомендуется привести к типу object.\n",
        "\n",
        "Остальные переменные не нуждаются в преобразовании типов данных."
      ]
    },
    {
      "cell_type": "code",
      "execution_count": null,
      "metadata": {
        "id": "s0QSV6LdvuLi"
      },
      "outputs": [],
      "source": [
        "orders['date'] = orders['date'].astype('datetime64')\n",
        "orders['transactionId'] = orders['transactionId'].astype('object')\n",
        "orders['visitorId'] = orders['visitorId'].astype('object')"
      ]
    },
    {
      "cell_type": "code",
      "execution_count": null,
      "metadata": {
        "id": "Hkl59y2vvuLi",
        "outputId": "f05fc937-7845-40c9-83d6-f83908200710"
      },
      "outputs": [
        {
          "name": "stdout",
          "output_type": "stream",
          "text": [
            "<class 'pandas.core.frame.DataFrame'>\n",
            "RangeIndex: 1197 entries, 0 to 1196\n",
            "Data columns (total 5 columns):\n",
            "transactionId    1197 non-null object\n",
            "visitorId        1197 non-null object\n",
            "date             1197 non-null datetime64[ns]\n",
            "revenue          1197 non-null int64\n",
            "group            1197 non-null object\n",
            "dtypes: datetime64[ns](1), int64(1), object(3)\n",
            "memory usage: 46.9+ KB\n"
          ]
        }
      ],
      "source": [
        "orders.info()"
      ]
    },
    {
      "cell_type": "markdown",
      "metadata": {
        "id": "WFUV-Y53vuLi"
      },
      "source": [
        "Теперь у всех переменных датафрейма подходящий тип данных."
      ]
    },
    {
      "cell_type": "code",
      "execution_count": null,
      "metadata": {
        "id": "HBUDoK_TvuLj",
        "outputId": "74e6e513-fda2-4cef-bc77-d303abf65c88"
      },
      "outputs": [
        {
          "data": {
            "text/plain": [
              "0"
            ]
          },
          "execution_count": 14,
          "metadata": {},
          "output_type": "execute_result"
        }
      ],
      "source": [
        "orders.duplicated().sum()"
      ]
    },
    {
      "cell_type": "markdown",
      "metadata": {
        "id": "534fXAwDvuLj"
      },
      "source": [
        "Дубликаты данных отсутствуют."
      ]
    },
    {
      "cell_type": "code",
      "execution_count": null,
      "metadata": {
        "id": "vJ2rHuA9vuLj",
        "outputId": "a5db5bf4-7065-4ddf-e85c-b09580f24829"
      },
      "outputs": [
        {
          "data": {
            "text/html": [
              "<style  type=\"text/css\" >\n",
              "    #T_0f50d484_2d86_11ec_9212_02420a398595row0_col0 {\n",
              "            background-color:  #3b4cc0;\n",
              "            color:  #f1f1f1;\n",
              "        }    #T_0f50d484_2d86_11ec_9212_02420a398595row1_col0 {\n",
              "            background-color:  #3b4cc0;\n",
              "            color:  #f1f1f1;\n",
              "        }    #T_0f50d484_2d86_11ec_9212_02420a398595row2_col0 {\n",
              "            background-color:  #3b4cc0;\n",
              "            color:  #f1f1f1;\n",
              "        }    #T_0f50d484_2d86_11ec_9212_02420a398595row3_col0 {\n",
              "            background-color:  #3b4cc0;\n",
              "            color:  #f1f1f1;\n",
              "        }    #T_0f50d484_2d86_11ec_9212_02420a398595row4_col0 {\n",
              "            background-color:  #3b4cc0;\n",
              "            color:  #f1f1f1;\n",
              "        }</style><table id=\"T_0f50d484_2d86_11ec_9212_02420a398595\" ><thead>    <tr>        <th class=\"blank level0\" ></th>        <th class=\"col_heading level0 col0\" >share_of_missing_values</th>    </tr></thead><tbody>\n",
              "                <tr>\n",
              "                        <th id=\"T_0f50d484_2d86_11ec_9212_02420a398595level0_row0\" class=\"row_heading level0 row0\" >transactionId</th>\n",
              "                        <td id=\"T_0f50d484_2d86_11ec_9212_02420a398595row0_col0\" class=\"data row0 col0\" >0</td>\n",
              "            </tr>\n",
              "            <tr>\n",
              "                        <th id=\"T_0f50d484_2d86_11ec_9212_02420a398595level0_row1\" class=\"row_heading level0 row1\" >visitorId</th>\n",
              "                        <td id=\"T_0f50d484_2d86_11ec_9212_02420a398595row1_col0\" class=\"data row1 col0\" >0</td>\n",
              "            </tr>\n",
              "            <tr>\n",
              "                        <th id=\"T_0f50d484_2d86_11ec_9212_02420a398595level0_row2\" class=\"row_heading level0 row2\" >date</th>\n",
              "                        <td id=\"T_0f50d484_2d86_11ec_9212_02420a398595row2_col0\" class=\"data row2 col0\" >0</td>\n",
              "            </tr>\n",
              "            <tr>\n",
              "                        <th id=\"T_0f50d484_2d86_11ec_9212_02420a398595level0_row3\" class=\"row_heading level0 row3\" >revenue</th>\n",
              "                        <td id=\"T_0f50d484_2d86_11ec_9212_02420a398595row3_col0\" class=\"data row3 col0\" >0</td>\n",
              "            </tr>\n",
              "            <tr>\n",
              "                        <th id=\"T_0f50d484_2d86_11ec_9212_02420a398595level0_row4\" class=\"row_heading level0 row4\" >group</th>\n",
              "                        <td id=\"T_0f50d484_2d86_11ec_9212_02420a398595row4_col0\" class=\"data row4 col0\" >0</td>\n",
              "            </tr>\n",
              "    </tbody></table>"
            ],
            "text/plain": [
              "<pandas.io.formats.style.Styler at 0x7f2d1f1c9c90>"
            ]
          },
          "execution_count": 15,
          "metadata": {},
          "output_type": "execute_result"
        }
      ],
      "source": [
        "pd.DataFrame(round((orders.isna().mean()*100),2),\n",
        "             columns = ['share_of_missing_values']) \\\n",
        "            .style.background_gradient('coolwarm')"
      ]
    },
    {
      "cell_type": "markdown",
      "metadata": {
        "id": "oMtJevB0vuLk"
      },
      "source": [
        "Пропусков в данных также нет. Один недостаток: сочетание верхнего и нижнего регистов в названиях переменных. Поправим."
      ]
    },
    {
      "cell_type": "code",
      "execution_count": null,
      "metadata": {
        "id": "i-lTWchnvuLk"
      },
      "outputs": [],
      "source": [
        "orders.columns = orders.columns \\\n",
        "                       .str \\\n",
        "                       .lower()"
      ]
    },
    {
      "cell_type": "code",
      "execution_count": null,
      "metadata": {
        "id": "P3hTFJDkvuLk",
        "outputId": "43001cea-9e30-4916-92fb-61f860661223"
      },
      "outputs": [
        {
          "data": {
            "text/html": [
              "<div>\n",
              "<style scoped>\n",
              "    .dataframe tbody tr th:only-of-type {\n",
              "        vertical-align: middle;\n",
              "    }\n",
              "\n",
              "    .dataframe tbody tr th {\n",
              "        vertical-align: top;\n",
              "    }\n",
              "\n",
              "    .dataframe thead th {\n",
              "        text-align: right;\n",
              "    }\n",
              "</style>\n",
              "<table border=\"1\" class=\"dataframe\">\n",
              "  <thead>\n",
              "    <tr style=\"text-align: right;\">\n",
              "      <th></th>\n",
              "      <th>transactionid</th>\n",
              "      <th>visitorid</th>\n",
              "      <th>date</th>\n",
              "      <th>revenue</th>\n",
              "      <th>group</th>\n",
              "    </tr>\n",
              "  </thead>\n",
              "  <tbody>\n",
              "    <tr>\n",
              "      <td>0</td>\n",
              "      <td>3667963787</td>\n",
              "      <td>3312258926</td>\n",
              "      <td>2019-08-15</td>\n",
              "      <td>1650</td>\n",
              "      <td>B</td>\n",
              "    </tr>\n",
              "    <tr>\n",
              "      <td>1</td>\n",
              "      <td>2804400009</td>\n",
              "      <td>3642806036</td>\n",
              "      <td>2019-08-15</td>\n",
              "      <td>730</td>\n",
              "      <td>B</td>\n",
              "    </tr>\n",
              "    <tr>\n",
              "      <td>2</td>\n",
              "      <td>2961555356</td>\n",
              "      <td>4069496402</td>\n",
              "      <td>2019-08-15</td>\n",
              "      <td>400</td>\n",
              "      <td>A</td>\n",
              "    </tr>\n",
              "    <tr>\n",
              "      <td>3</td>\n",
              "      <td>3797467345</td>\n",
              "      <td>1196621759</td>\n",
              "      <td>2019-08-15</td>\n",
              "      <td>9759</td>\n",
              "      <td>B</td>\n",
              "    </tr>\n",
              "    <tr>\n",
              "      <td>4</td>\n",
              "      <td>2282983706</td>\n",
              "      <td>2322279887</td>\n",
              "      <td>2019-08-15</td>\n",
              "      <td>2308</td>\n",
              "      <td>B</td>\n",
              "    </tr>\n",
              "  </tbody>\n",
              "</table>\n",
              "</div>"
            ],
            "text/plain": [
              "  transactionid   visitorid       date  revenue group\n",
              "0    3667963787  3312258926 2019-08-15     1650     B\n",
              "1    2804400009  3642806036 2019-08-15      730     B\n",
              "2    2961555356  4069496402 2019-08-15      400     A\n",
              "3    3797467345  1196621759 2019-08-15     9759     B\n",
              "4    2282983706  2322279887 2019-08-15     2308     B"
            ]
          },
          "execution_count": 17,
          "metadata": {},
          "output_type": "execute_result"
        }
      ],
      "source": [
        "orders.head()"
      ]
    },
    {
      "cell_type": "markdown",
      "metadata": {
        "id": "gR7HMC48vuLk"
      },
      "source": [
        "Красота. Переходим к таблице visitors."
      ]
    },
    {
      "cell_type": "markdown",
      "metadata": {
        "id": "JcUyQf4BvuLl"
      },
      "source": [
        "### Изучение таблицы visitors"
      ]
    },
    {
      "cell_type": "code",
      "execution_count": null,
      "metadata": {
        "id": "1PTXlJtXvuLl",
        "outputId": "d389d5f0-c974-4bb0-8e55-a5fa90dc3f40"
      },
      "outputs": [
        {
          "data": {
            "text/html": [
              "<div>\n",
              "<style scoped>\n",
              "    .dataframe tbody tr th:only-of-type {\n",
              "        vertical-align: middle;\n",
              "    }\n",
              "\n",
              "    .dataframe tbody tr th {\n",
              "        vertical-align: top;\n",
              "    }\n",
              "\n",
              "    .dataframe thead th {\n",
              "        text-align: right;\n",
              "    }\n",
              "</style>\n",
              "<table border=\"1\" class=\"dataframe\">\n",
              "  <thead>\n",
              "    <tr style=\"text-align: right;\">\n",
              "      <th></th>\n",
              "      <th>date</th>\n",
              "      <th>group</th>\n",
              "      <th>visitors</th>\n",
              "    </tr>\n",
              "  </thead>\n",
              "  <tbody>\n",
              "    <tr>\n",
              "      <td>0</td>\n",
              "      <td>2019-08-01</td>\n",
              "      <td>A</td>\n",
              "      <td>719</td>\n",
              "    </tr>\n",
              "    <tr>\n",
              "      <td>1</td>\n",
              "      <td>2019-08-02</td>\n",
              "      <td>A</td>\n",
              "      <td>619</td>\n",
              "    </tr>\n",
              "    <tr>\n",
              "      <td>2</td>\n",
              "      <td>2019-08-03</td>\n",
              "      <td>A</td>\n",
              "      <td>507</td>\n",
              "    </tr>\n",
              "    <tr>\n",
              "      <td>3</td>\n",
              "      <td>2019-08-04</td>\n",
              "      <td>A</td>\n",
              "      <td>717</td>\n",
              "    </tr>\n",
              "    <tr>\n",
              "      <td>4</td>\n",
              "      <td>2019-08-05</td>\n",
              "      <td>A</td>\n",
              "      <td>756</td>\n",
              "    </tr>\n",
              "  </tbody>\n",
              "</table>\n",
              "</div>"
            ],
            "text/plain": [
              "         date group  visitors\n",
              "0  2019-08-01     A       719\n",
              "1  2019-08-02     A       619\n",
              "2  2019-08-03     A       507\n",
              "3  2019-08-04     A       717\n",
              "4  2019-08-05     A       756"
            ]
          },
          "execution_count": 18,
          "metadata": {},
          "output_type": "execute_result"
        }
      ],
      "source": [
        "visitors.head()"
      ]
    },
    {
      "cell_type": "code",
      "execution_count": null,
      "metadata": {
        "id": "shFn34OVvuLl",
        "outputId": "d5f7317a-c827-4421-eba9-8ac4d40b9dda"
      },
      "outputs": [
        {
          "name": "stdout",
          "output_type": "stream",
          "text": [
            "<class 'pandas.core.frame.DataFrame'>\n",
            "RangeIndex: 62 entries, 0 to 61\n",
            "Data columns (total 3 columns):\n",
            "date        62 non-null object\n",
            "group       62 non-null object\n",
            "visitors    62 non-null int64\n",
            "dtypes: int64(1), object(2)\n",
            "memory usage: 1.6+ KB\n"
          ]
        }
      ],
      "source": [
        "visitors.info()"
      ]
    },
    {
      "cell_type": "code",
      "execution_count": null,
      "metadata": {
        "id": "bSmr6ojuvuLl",
        "outputId": "7753a85e-73b3-4552-c749-c78c4a9abf64"
      },
      "outputs": [
        {
          "data": {
            "text/plain": [
              "0"
            ]
          },
          "execution_count": 20,
          "metadata": {},
          "output_type": "execute_result"
        }
      ],
      "source": [
        "visitors.duplicated().sum()"
      ]
    },
    {
      "cell_type": "code",
      "execution_count": null,
      "metadata": {
        "id": "Udow1KQCvuLl",
        "outputId": "51dd0e98-1e8b-4629-ae82-30a1e42b7036"
      },
      "outputs": [
        {
          "data": {
            "text/html": [
              "<style  type=\"text/css\" >\n",
              "    #T_0f69787c_2d86_11ec_9212_02420a398595row0_col0 {\n",
              "            background-color:  #3b4cc0;\n",
              "            color:  #f1f1f1;\n",
              "        }    #T_0f69787c_2d86_11ec_9212_02420a398595row1_col0 {\n",
              "            background-color:  #3b4cc0;\n",
              "            color:  #f1f1f1;\n",
              "        }    #T_0f69787c_2d86_11ec_9212_02420a398595row2_col0 {\n",
              "            background-color:  #3b4cc0;\n",
              "            color:  #f1f1f1;\n",
              "        }</style><table id=\"T_0f69787c_2d86_11ec_9212_02420a398595\" ><thead>    <tr>        <th class=\"blank level0\" ></th>        <th class=\"col_heading level0 col0\" >share_of_missing_values</th>    </tr></thead><tbody>\n",
              "                <tr>\n",
              "                        <th id=\"T_0f69787c_2d86_11ec_9212_02420a398595level0_row0\" class=\"row_heading level0 row0\" >date</th>\n",
              "                        <td id=\"T_0f69787c_2d86_11ec_9212_02420a398595row0_col0\" class=\"data row0 col0\" >0</td>\n",
              "            </tr>\n",
              "            <tr>\n",
              "                        <th id=\"T_0f69787c_2d86_11ec_9212_02420a398595level0_row1\" class=\"row_heading level0 row1\" >group</th>\n",
              "                        <td id=\"T_0f69787c_2d86_11ec_9212_02420a398595row1_col0\" class=\"data row1 col0\" >0</td>\n",
              "            </tr>\n",
              "            <tr>\n",
              "                        <th id=\"T_0f69787c_2d86_11ec_9212_02420a398595level0_row2\" class=\"row_heading level0 row2\" >visitors</th>\n",
              "                        <td id=\"T_0f69787c_2d86_11ec_9212_02420a398595row2_col0\" class=\"data row2 col0\" >0</td>\n",
              "            </tr>\n",
              "    </tbody></table>"
            ],
            "text/plain": [
              "<pandas.io.formats.style.Styler at 0x7f2d1f10d550>"
            ]
          },
          "execution_count": 21,
          "metadata": {},
          "output_type": "execute_result"
        }
      ],
      "source": [
        "pd.DataFrame(round((visitors.isna().mean()*100),2),\n",
        "             columns = ['share_of_missing_values']) \\\n",
        "            .style.background_gradient('coolwarm')"
      ]
    },
    {
      "cell_type": "markdown",
      "metadata": {
        "id": "8spaAlMLvuLm"
      },
      "source": [
        "В таблице visitors недостатков не выявлено. "
      ]
    },
    {
      "cell_type": "markdown",
      "metadata": {
        "id": "P_i_r40DvuLm"
      },
      "source": [
        "**Общие выводы по разделу:**\n",
        "\n",
        "1. На этапе предобработки был обнаружен ряд недостатков, которые были исправлены:\n",
        "- Заголовки содержали одновременно символы верхнего и нижнего регистра;\n",
        "- Использовались неподходящие типы данных для переменных с датой и временем. Также был заменен тип данных для переменных, содержащих ID (transactionId, visitorId)\n",
        "2. В остальном в предоставленных данных не наблюдается заметных недостатков: пропуски данных и дубликаты отсутствуют.\n",
        "3. Данные достаточно чистые, поэтому можно переходить к рассчетам и анализу."
      ]
    },
    {
      "cell_type": "markdown",
      "metadata": {
        "id": "yxWppWKZvuLm"
      },
      "source": [
        "## Приоритизация гипотез"
      ]
    },
    {
      "cell_type": "markdown",
      "metadata": {
        "id": "iCgrD70MvuLm"
      },
      "source": [
        "### Фреймворк ICE"
      ]
    },
    {
      "cell_type": "markdown",
      "metadata": {
        "id": "JdmQkrm6vuLm"
      },
      "source": [
        "**Задача:**\n",
        "\n",
        "Применить фреймворк ICE для приоритизации гипотез. Отсортировать их по убыванию приоритета."
      ]
    },
    {
      "cell_type": "code",
      "execution_count": null,
      "metadata": {
        "id": "laAGAF5nvuLm"
      },
      "outputs": [],
      "source": [
        "hypothesis['ice'] = hypothesis['impact'] * hypothesis['confidence'] / hypothesis['efforts']"
      ]
    },
    {
      "cell_type": "code",
      "execution_count": null,
      "metadata": {
        "id": "NCJxb4EOvuLn",
        "outputId": "2df282f0-42d4-4586-cb6c-8d9073d6bbab"
      },
      "outputs": [
        {
          "data": {
            "text/html": [
              "<div>\n",
              "<style scoped>\n",
              "    .dataframe tbody tr th:only-of-type {\n",
              "        vertical-align: middle;\n",
              "    }\n",
              "\n",
              "    .dataframe tbody tr th {\n",
              "        vertical-align: top;\n",
              "    }\n",
              "\n",
              "    .dataframe thead th {\n",
              "        text-align: right;\n",
              "    }\n",
              "</style>\n",
              "<table border=\"1\" class=\"dataframe\">\n",
              "  <thead>\n",
              "    <tr style=\"text-align: right;\">\n",
              "      <th></th>\n",
              "      <th>hypothesis</th>\n",
              "      <th>reach</th>\n",
              "      <th>impact</th>\n",
              "      <th>confidence</th>\n",
              "      <th>efforts</th>\n",
              "      <th>ice</th>\n",
              "    </tr>\n",
              "  </thead>\n",
              "  <tbody>\n",
              "    <tr>\n",
              "      <td>8</td>\n",
              "      <td>Запустить акцию, дающую скидку на товар в день...</td>\n",
              "      <td>1</td>\n",
              "      <td>9</td>\n",
              "      <td>9</td>\n",
              "      <td>5</td>\n",
              "      <td>16.200</td>\n",
              "    </tr>\n",
              "    <tr>\n",
              "      <td>0</td>\n",
              "      <td>Добавить два новых канала привлечения трафика,...</td>\n",
              "      <td>3</td>\n",
              "      <td>10</td>\n",
              "      <td>8</td>\n",
              "      <td>6</td>\n",
              "      <td>13.333</td>\n",
              "    </tr>\n",
              "    <tr>\n",
              "      <td>7</td>\n",
              "      <td>Добавить форму подписки на все основные страни...</td>\n",
              "      <td>10</td>\n",
              "      <td>7</td>\n",
              "      <td>8</td>\n",
              "      <td>5</td>\n",
              "      <td>11.200</td>\n",
              "    </tr>\n",
              "    <tr>\n",
              "      <td>6</td>\n",
              "      <td>Показать на главной странице баннеры с актуаль...</td>\n",
              "      <td>5</td>\n",
              "      <td>3</td>\n",
              "      <td>8</td>\n",
              "      <td>3</td>\n",
              "      <td>8.000</td>\n",
              "    </tr>\n",
              "    <tr>\n",
              "      <td>2</td>\n",
              "      <td>Добавить блоки рекомендаций товаров на сайт ин...</td>\n",
              "      <td>8</td>\n",
              "      <td>3</td>\n",
              "      <td>7</td>\n",
              "      <td>3</td>\n",
              "      <td>7.000</td>\n",
              "    </tr>\n",
              "    <tr>\n",
              "      <td>1</td>\n",
              "      <td>Запустить собственную службу доставки, что сок...</td>\n",
              "      <td>2</td>\n",
              "      <td>5</td>\n",
              "      <td>4</td>\n",
              "      <td>10</td>\n",
              "      <td>2.000</td>\n",
              "    </tr>\n",
              "    <tr>\n",
              "      <td>5</td>\n",
              "      <td>Добавить страницу отзывов клиентов о магазине,...</td>\n",
              "      <td>3</td>\n",
              "      <td>2</td>\n",
              "      <td>2</td>\n",
              "      <td>3</td>\n",
              "      <td>1.333</td>\n",
              "    </tr>\n",
              "    <tr>\n",
              "      <td>3</td>\n",
              "      <td>Изменить структура категорий, что увеличит кон...</td>\n",
              "      <td>8</td>\n",
              "      <td>3</td>\n",
              "      <td>3</td>\n",
              "      <td>8</td>\n",
              "      <td>1.125</td>\n",
              "    </tr>\n",
              "    <tr>\n",
              "      <td>4</td>\n",
              "      <td>Изменить цвет фона главной страницы, чтобы уве...</td>\n",
              "      <td>3</td>\n",
              "      <td>1</td>\n",
              "      <td>1</td>\n",
              "      <td>1</td>\n",
              "      <td>1.000</td>\n",
              "    </tr>\n",
              "  </tbody>\n",
              "</table>\n",
              "</div>"
            ],
            "text/plain": [
              "                                          hypothesis  reach  impact  \\\n",
              "8  Запустить акцию, дающую скидку на товар в день...      1       9   \n",
              "0  Добавить два новых канала привлечения трафика,...      3      10   \n",
              "7  Добавить форму подписки на все основные страни...     10       7   \n",
              "6  Показать на главной странице баннеры с актуаль...      5       3   \n",
              "2  Добавить блоки рекомендаций товаров на сайт ин...      8       3   \n",
              "1  Запустить собственную службу доставки, что сок...      2       5   \n",
              "5  Добавить страницу отзывов клиентов о магазине,...      3       2   \n",
              "3  Изменить структура категорий, что увеличит кон...      8       3   \n",
              "4  Изменить цвет фона главной страницы, чтобы уве...      3       1   \n",
              "\n",
              "   confidence  efforts    ice  \n",
              "8           9        5 16.200  \n",
              "0           8        6 13.333  \n",
              "7           8        5 11.200  \n",
              "6           8        3  8.000  \n",
              "2           7        3  7.000  \n",
              "1           4       10  2.000  \n",
              "5           2        3  1.333  \n",
              "3           3        8  1.125  \n",
              "4           1        1  1.000  "
            ]
          },
          "execution_count": 23,
          "metadata": {},
          "output_type": "execute_result"
        }
      ],
      "source": [
        "hypothesis.sort_values(by='ice', ascending=False)"
      ]
    },
    {
      "cell_type": "code",
      "execution_count": null,
      "metadata": {
        "id": "ah7378prvuLn",
        "outputId": "38ea24b3-8c09-4e12-dc11-98bed3bfe462"
      },
      "outputs": [
        {
          "data": {
            "image/png": "[encoded data removed]",
            "text/plain": [
              "<Figure size 720x720 with 1 Axes>"
            ]
          },
          "metadata": {
            "needs_background": "light"
          },
          "output_type": "display_data"
        }
      ],
      "source": [
        "ax = hypothesis[['hypothesis', 'ice']].set_index('hypothesis') \\\n",
        "                                      .sort_values('ice', ascending=True) \\\n",
        "                                      .plot(kind='barh', figsize=(10,10))\n",
        "ax.set_xlabel('Приоритетность')\n",
        "ax.set_ylabel('Гипотезы')\n",
        "ax.set_title('Фреймворк ICE')\n",
        "plt.show()"
      ]
    },
    {
      "cell_type": "markdown",
      "metadata": {
        "id": "jqWPaaV3vuLn"
      },
      "source": [
        "**Выводы по фреймворку ICE:**\n",
        "\n",
        "1. Наиболее приоритетная для проверки гипотеза: \"*Запустить акцию, дающую скидку на товар в день рождения*\".\n",
        "2. Также высоким приоритетом обладают гипотезы: \"*Добавить два новых канала привлечения трафика,что позволит привлекать на 30% больше пользователей*\" и \"*Добавить форму подписки на все основные страницы, чтобы собрать базу клиентов для email-рассылок*\".\n",
        "3. Наименее приоритетные гипотезы: \"*Добавить страницу отзывов клиентов о магазине, что позволит увеличить количество заказов*\", \"*Изменить структура категорий, что увеличит конверсию, т.к. пользователи быстрее найдут нужный товар*\" и \"*Изменить цвет фона главной страницы, чтобы увеличить вовлеченность пользователей*\"."
      ]
    },
    {
      "cell_type": "markdown",
      "metadata": {
        "id": "igkG9kTnvuLn"
      },
      "source": [
        "### Фреймворк RICE"
      ]
    },
    {
      "cell_type": "markdown",
      "metadata": {
        "id": "S3NuQ7FnvuLn"
      },
      "source": [
        "**Задача:**\n",
        "\n",
        "Применить фреймворк RICE для приоритизации гипотез. Отсортировать их по убыванию приоритета."
      ]
    },
    {
      "cell_type": "code",
      "execution_count": null,
      "metadata": {
        "id": "dlxYy00pvuLo"
      },
      "outputs": [],
      "source": [
        "hypothesis['rice'] = hypothesis['reach'] * hypothesis['impact'] * hypothesis['confidence'] / hypothesis['efforts']"
      ]
    },
    {
      "cell_type": "code",
      "execution_count": null,
      "metadata": {
        "id": "ZhnaFwi0vuLo",
        "outputId": "472685bb-81f4-4c63-af48-f64f0e431853"
      },
      "outputs": [
        {
          "data": {
            "text/html": [
              "<div>\n",
              "<style scoped>\n",
              "    .dataframe tbody tr th:only-of-type {\n",
              "        vertical-align: middle;\n",
              "    }\n",
              "\n",
              "    .dataframe tbody tr th {\n",
              "        vertical-align: top;\n",
              "    }\n",
              "\n",
              "    .dataframe thead th {\n",
              "        text-align: right;\n",
              "    }\n",
              "</style>\n",
              "<table border=\"1\" class=\"dataframe\">\n",
              "  <thead>\n",
              "    <tr style=\"text-align: right;\">\n",
              "      <th></th>\n",
              "      <th>hypothesis</th>\n",
              "      <th>reach</th>\n",
              "      <th>impact</th>\n",
              "      <th>confidence</th>\n",
              "      <th>efforts</th>\n",
              "      <th>ice</th>\n",
              "      <th>rice</th>\n",
              "    </tr>\n",
              "  </thead>\n",
              "  <tbody>\n",
              "    <tr>\n",
              "      <td>7</td>\n",
              "      <td>Добавить форму подписки на все основные страни...</td>\n",
              "      <td>10</td>\n",
              "      <td>7</td>\n",
              "      <td>8</td>\n",
              "      <td>5</td>\n",
              "      <td>11.200</td>\n",
              "      <td>112.000</td>\n",
              "    </tr>\n",
              "    <tr>\n",
              "      <td>2</td>\n",
              "      <td>Добавить блоки рекомендаций товаров на сайт ин...</td>\n",
              "      <td>8</td>\n",
              "      <td>3</td>\n",
              "      <td>7</td>\n",
              "      <td>3</td>\n",
              "      <td>7.000</td>\n",
              "      <td>56.000</td>\n",
              "    </tr>\n",
              "    <tr>\n",
              "      <td>0</td>\n",
              "      <td>Добавить два новых канала привлечения трафика,...</td>\n",
              "      <td>3</td>\n",
              "      <td>10</td>\n",
              "      <td>8</td>\n",
              "      <td>6</td>\n",
              "      <td>13.333</td>\n",
              "      <td>40.000</td>\n",
              "    </tr>\n",
              "    <tr>\n",
              "      <td>6</td>\n",
              "      <td>Показать на главной странице баннеры с актуаль...</td>\n",
              "      <td>5</td>\n",
              "      <td>3</td>\n",
              "      <td>8</td>\n",
              "      <td>3</td>\n",
              "      <td>8.000</td>\n",
              "      <td>40.000</td>\n",
              "    </tr>\n",
              "    <tr>\n",
              "      <td>8</td>\n",
              "      <td>Запустить акцию, дающую скидку на товар в день...</td>\n",
              "      <td>1</td>\n",
              "      <td>9</td>\n",
              "      <td>9</td>\n",
              "      <td>5</td>\n",
              "      <td>16.200</td>\n",
              "      <td>16.200</td>\n",
              "    </tr>\n",
              "    <tr>\n",
              "      <td>3</td>\n",
              "      <td>Изменить структура категорий, что увеличит кон...</td>\n",
              "      <td>8</td>\n",
              "      <td>3</td>\n",
              "      <td>3</td>\n",
              "      <td>8</td>\n",
              "      <td>1.125</td>\n",
              "      <td>9.000</td>\n",
              "    </tr>\n",
              "    <tr>\n",
              "      <td>1</td>\n",
              "      <td>Запустить собственную службу доставки, что сок...</td>\n",
              "      <td>2</td>\n",
              "      <td>5</td>\n",
              "      <td>4</td>\n",
              "      <td>10</td>\n",
              "      <td>2.000</td>\n",
              "      <td>4.000</td>\n",
              "    </tr>\n",
              "    <tr>\n",
              "      <td>5</td>\n",
              "      <td>Добавить страницу отзывов клиентов о магазине,...</td>\n",
              "      <td>3</td>\n",
              "      <td>2</td>\n",
              "      <td>2</td>\n",
              "      <td>3</td>\n",
              "      <td>1.333</td>\n",
              "      <td>4.000</td>\n",
              "    </tr>\n",
              "    <tr>\n",
              "      <td>4</td>\n",
              "      <td>Изменить цвет фона главной страницы, чтобы уве...</td>\n",
              "      <td>3</td>\n",
              "      <td>1</td>\n",
              "      <td>1</td>\n",
              "      <td>1</td>\n",
              "      <td>1.000</td>\n",
              "      <td>3.000</td>\n",
              "    </tr>\n",
              "  </tbody>\n",
              "</table>\n",
              "</div>"
            ],
            "text/plain": [
              "                                          hypothesis  reach  impact  \\\n",
              "7  Добавить форму подписки на все основные страни...     10       7   \n",
              "2  Добавить блоки рекомендаций товаров на сайт ин...      8       3   \n",
              "0  Добавить два новых канала привлечения трафика,...      3      10   \n",
              "6  Показать на главной странице баннеры с актуаль...      5       3   \n",
              "8  Запустить акцию, дающую скидку на товар в день...      1       9   \n",
              "3  Изменить структура категорий, что увеличит кон...      8       3   \n",
              "1  Запустить собственную службу доставки, что сок...      2       5   \n",
              "5  Добавить страницу отзывов клиентов о магазине,...      3       2   \n",
              "4  Изменить цвет фона главной страницы, чтобы уве...      3       1   \n",
              "\n",
              "   confidence  efforts    ice    rice  \n",
              "7           8        5 11.200 112.000  \n",
              "2           7        3  7.000  56.000  \n",
              "0           8        6 13.333  40.000  \n",
              "6           8        3  8.000  40.000  \n",
              "8           9        5 16.200  16.200  \n",
              "3           3        8  1.125   9.000  \n",
              "1           4       10  2.000   4.000  \n",
              "5           2        3  1.333   4.000  \n",
              "4           1        1  1.000   3.000  "
            ]
          },
          "execution_count": 26,
          "metadata": {},
          "output_type": "execute_result"
        }
      ],
      "source": [
        "hypothesis.sort_values('rice', ascending=False)"
      ]
    },
    {
      "cell_type": "code",
      "execution_count": null,
      "metadata": {
        "id": "poDGb1vlvuLo",
        "outputId": "93965001-4c02-4f14-f405-e74e4910e649"
      },
      "outputs": [
        {
          "data": {
            "image/png": "[encoded data removed]",
            "text/plain": [
              "<Figure size 720x720 with 1 Axes>"
            ]
          },
          "metadata": {
            "needs_background": "light"
          },
          "output_type": "display_data"
        }
      ],
      "source": [
        "ax = hypothesis[['hypothesis', 'rice']].set_index('hypothesis') \\\n",
        "                                       .sort_values('rice', ascending=True) \\\n",
        "                                       .plot(kind='barh', figsize=(10,10))\n",
        "ax.set_xlabel('Приоритетность')\n",
        "ax.set_ylabel('Гипотезs')\n",
        "ax.set_title('Фреймворк RICE')\n",
        "plt.show()"
      ]
    },
    {
      "cell_type": "markdown",
      "metadata": {
        "id": "yPDcrD5wvuLo"
      },
      "source": [
        "**Выводы по фреймворку RICE:**\n",
        "1. При применении фреймворка RICE наши гипотезы поменяли порядок приоритетности. \n",
        "2. С большим разрывом от остальных гипотез наиболее приоритетная для проверки гипотеза: \"*Добавить форму подписки на все основные страницы, чтобы собрать базу клиентов для email-рассылок*\". Эта же гипотеза входила и в топ-3 гипотезы по оценке фреймворка ICE, так что относительно данной гипотезы с уверенностью можно делать вывод о том, что на ее реализации следует сосредоточиться."
      ]
    },
    {
      "cell_type": "markdown",
      "metadata": {
        "id": "Y-zvssnSvuLo"
      },
      "source": [
        "### Отличия ICE и RICE"
      ]
    },
    {
      "cell_type": "markdown",
      "metadata": {
        "id": "qfBZcsq6vuLo"
      },
      "source": [
        "**Задача:**\n",
        "\n",
        "Указать, как изменилась приоритизация гипотез при применении RICE вместо ICE. Объяснить, почему так произошло."
      ]
    },
    {
      "cell_type": "code",
      "execution_count": null,
      "metadata": {
        "id": "Cq_fdMTKvuLp",
        "outputId": "b1927439-efb4-411a-f4f7-f43a138a9e65"
      },
      "outputs": [
        {
          "data": {
            "text/html": [
              "<div>\n",
              "<style scoped>\n",
              "    .dataframe tbody tr th:only-of-type {\n",
              "        vertical-align: middle;\n",
              "    }\n",
              "\n",
              "    .dataframe tbody tr th {\n",
              "        vertical-align: top;\n",
              "    }\n",
              "\n",
              "    .dataframe thead th {\n",
              "        text-align: right;\n",
              "    }\n",
              "</style>\n",
              "<table border=\"1\" class=\"dataframe\">\n",
              "  <thead>\n",
              "    <tr style=\"text-align: right;\">\n",
              "      <th></th>\n",
              "      <th>ice</th>\n",
              "      <th>rice</th>\n",
              "    </tr>\n",
              "  </thead>\n",
              "  <tbody>\n",
              "    <tr>\n",
              "      <td>0</td>\n",
              "      <td>Запустить акцию, дающую скидку на товар в день...</td>\n",
              "      <td>Добавить форму подписки на все основные страни...</td>\n",
              "    </tr>\n",
              "    <tr>\n",
              "      <td>1</td>\n",
              "      <td>Добавить два новых канала привлечения трафика,...</td>\n",
              "      <td>Добавить блоки рекомендаций товаров на сайт ин...</td>\n",
              "    </tr>\n",
              "    <tr>\n",
              "      <td>2</td>\n",
              "      <td>Добавить форму подписки на все основные страни...</td>\n",
              "      <td>Добавить два новых канала привлечения трафика,...</td>\n",
              "    </tr>\n",
              "    <tr>\n",
              "      <td>3</td>\n",
              "      <td>Показать на главной странице баннеры с актуаль...</td>\n",
              "      <td>Показать на главной странице баннеры с актуаль...</td>\n",
              "    </tr>\n",
              "    <tr>\n",
              "      <td>4</td>\n",
              "      <td>Добавить блоки рекомендаций товаров на сайт ин...</td>\n",
              "      <td>Запустить акцию, дающую скидку на товар в день...</td>\n",
              "    </tr>\n",
              "    <tr>\n",
              "      <td>5</td>\n",
              "      <td>Запустить собственную службу доставки, что сок...</td>\n",
              "      <td>Изменить структура категорий, что увеличит кон...</td>\n",
              "    </tr>\n",
              "    <tr>\n",
              "      <td>6</td>\n",
              "      <td>Добавить страницу отзывов клиентов о магазине,...</td>\n",
              "      <td>Запустить собственную службу доставки, что сок...</td>\n",
              "    </tr>\n",
              "    <tr>\n",
              "      <td>7</td>\n",
              "      <td>Изменить структура категорий, что увеличит кон...</td>\n",
              "      <td>Добавить страницу отзывов клиентов о магазине,...</td>\n",
              "    </tr>\n",
              "    <tr>\n",
              "      <td>8</td>\n",
              "      <td>Изменить цвет фона главной страницы, чтобы уве...</td>\n",
              "      <td>Изменить цвет фона главной страницы, чтобы уве...</td>\n",
              "    </tr>\n",
              "  </tbody>\n",
              "</table>\n",
              "</div>"
            ],
            "text/plain": [
              "                                                 ice  \\\n",
              "0  Запустить акцию, дающую скидку на товар в день...   \n",
              "1  Добавить два новых канала привлечения трафика,...   \n",
              "2  Добавить форму подписки на все основные страни...   \n",
              "3  Показать на главной странице баннеры с актуаль...   \n",
              "4  Добавить блоки рекомендаций товаров на сайт ин...   \n",
              "5  Запустить собственную службу доставки, что сок...   \n",
              "6  Добавить страницу отзывов клиентов о магазине,...   \n",
              "7  Изменить структура категорий, что увеличит кон...   \n",
              "8  Изменить цвет фона главной страницы, чтобы уве...   \n",
              "\n",
              "                                                rice  \n",
              "0  Добавить форму подписки на все основные страни...  \n",
              "1  Добавить блоки рекомендаций товаров на сайт ин...  \n",
              "2  Добавить два новых канала привлечения трафика,...  \n",
              "3  Показать на главной странице баннеры с актуаль...  \n",
              "4  Запустить акцию, дающую скидку на товар в день...  \n",
              "5  Изменить структура категорий, что увеличит кон...  \n",
              "6  Запустить собственную службу доставки, что сок...  \n",
              "7  Добавить страницу отзывов клиентов о магазине,...  \n",
              "8  Изменить цвет фона главной страницы, чтобы уве...  "
            ]
          },
          "execution_count": 28,
          "metadata": {},
          "output_type": "execute_result"
        }
      ],
      "source": [
        "frameworks = pd.DataFrame()\n",
        "\n",
        "ice_list = list(hypothesis.sort_values(by='ice', ascending=False)['hypothesis'])\n",
        "rice_list = list(hypothesis.sort_values(by='rice', ascending=False)['hypothesis'])\n",
        "\n",
        "frameworks['ice'] = ice_list\n",
        "frameworks['rice'] = rice_list\n",
        "\n",
        "frameworks"
      ]
    },
    {
      "cell_type": "markdown",
      "metadata": {
        "id": "TsWVZn6-vuLp"
      },
      "source": [
        "Отличия в приоритизации продиктованы тем, что фреймворк RICE более чувствителен к охвату аудитории, а именно учитывает количество пользователей, которых затронет реализация гипотезы.\n",
        "\n",
        "Поэтому для бизнеса, который ориентируется на больший объем аудитории, более адекватная приоритизация осуществляется по фреймворку RICE. Bнтернет-магазин относится именно к такому типа бизнеса, поэтому для нас наболее приоритетна реализация следующих гипотез (топ-4):\n",
        "\n",
        "1. Добавить форму подписки на все основные страницы, чтобы собрать базу клиентов для email-рассылок,\n",
        "2. Добавить блоки рекомендаций товаров на сайт интернет-магазина,\n",
        "3. Показать на главной странице баннеры с актуальными акциями и распродажами,\n",
        "4. Добавить два новых канала привлечения трафика."
      ]
    },
    {
      "cell_type": "markdown",
      "metadata": {
        "id": "1WpHPMl2vuLp"
      },
      "source": [
        "## Анализ A/B-теста"
      ]
    },
    {
      "cell_type": "markdown",
      "metadata": {
        "id": "3WXepfBbvuLp"
      },
      "source": [
        "### Кумулятивная выручка по группам"
      ]
    },
    {
      "cell_type": "markdown",
      "metadata": {
        "id": "xg2EtWZ8vuLp"
      },
      "source": [
        "**Задача:**\n",
        "\n",
        "Построить график кумулятивной выручки по группам. Сделать выводы и предположения."
      ]
    },
    {
      "cell_type": "code",
      "execution_count": null,
      "metadata": {
        "id": "VytfTGsvvuLp"
      },
      "outputs": [],
      "source": [
        "orders_grouped = orders.groupby(['date','group'], as_index=False) \\\n",
        "                       .agg({'transactionid':'nunique','visitorid':'nunique','revenue':'sum'})\\\n",
        "                       .rename(columns={'transactionid':'purchases','visitorid':'buyers'})"
      ]
    },
    {
      "cell_type": "code",
      "execution_count": null,
      "metadata": {
        "id": "cs8VZoUTvuLq"
      },
      "outputs": [],
      "source": [
        "orders_grouped['copy_of_group'] = orders_grouped['group']"
      ]
    },
    {
      "cell_type": "code",
      "execution_count": null,
      "metadata": {
        "id": "mYZ5hKiMvuLq"
      },
      "outputs": [],
      "source": [
        "orders_grouped = orders_grouped.set_index(['date','group'])"
      ]
    },
    {
      "cell_type": "code",
      "execution_count": null,
      "metadata": {
        "id": "E5nAAc7svuLq"
      },
      "outputs": [],
      "source": [
        "cumulative_data = orders_grouped.sort_values(['date','group']) \\\n",
        "                              .groupby('copy_of_group') \\\n",
        "                              .cumsum() \\\n",
        "                              .reset_index()"
      ]
    },
    {
      "cell_type": "code",
      "execution_count": null,
      "metadata": {
        "scrolled": false,
        "id": "14TtLjVMvuLq",
        "outputId": "73d837e9-8e2f-4b97-b99f-ee70f314e2da"
      },
      "outputs": [
        {
          "data": {
            "image/png": "[encoded data removed]",
            "text/plain": [
              "<Figure size 864x360 with 1 Axes>"
            ]
          },
          "metadata": {
            "needs_background": "light"
          },
          "output_type": "display_data"
        }
      ],
      "source": [
        "cumulative_revenue_a = cumulative_data[cumulative_data['group']=='A'][['date','revenue', 'purchases']]\n",
        "cumulative_revenue_b = cumulative_data[cumulative_data['group']=='B'][['date','revenue', 'purchases']]\n",
        "\n",
        "plt.figure(figsize=(12,5))\n",
        "\n",
        "plt.plot(cumulative_revenue_a['date'], cumulative_revenue_a['revenue'], label='A')\n",
        "plt.plot(cumulative_revenue_b['date'], cumulative_revenue_b['revenue'], label='B')\n",
        "                                                                      \n",
        "plt.title('График кумулятивной выручки по группам')\n",
        "plt.ylabel(\"Выручка\")\n",
        "plt.xlabel(\"Дата\")\n",
        "plt.xticks(rotation=45)\n",
        "plt.legend()\n",
        "plt.show()"
      ]
    },
    {
      "cell_type": "markdown",
      "metadata": {
        "id": "_P6oLPrKvuLq"
      },
      "source": [
        "**Выводы относительно графика кумулятивной выручки:**\n",
        "\n",
        "1. Вплоть до 17 августа куммулятивные значения выручки в обеих группах были приблизительно равны, иногда вперед выходила группа А, иногда - В.\n",
        "2. После в группе В произошел резкий скачек значения, после которого, однако, значения продолжили накапливаться параллельно друг относительно друга, что наводит на мысль о том, что на ситуацию повлиял выброс/выбросы в группе В."
      ]
    },
    {
      "cell_type": "markdown",
      "metadata": {
        "id": "64MC5cIZvuLr"
      },
      "source": [
        "### Кумулятивный средний чек по группам по группам"
      ]
    },
    {
      "cell_type": "markdown",
      "metadata": {
        "id": "y1y_28-CvuLr"
      },
      "source": [
        "**Задача:**\n",
        "\n",
        "Построить график кумулятивного среднего чека по группам. Сделать выводы и предположения."
      ]
    },
    {
      "cell_type": "code",
      "execution_count": null,
      "metadata": {
        "id": "gvwFRBhFvuLr"
      },
      "outputs": [],
      "source": [
        "visitors_cumsum = visitors.groupby(['date','group'], as_index=False) \\\n",
        "                          .agg({'visitors':'sum'}) \\\n",
        "                          .sort_values(['date','group'])"
      ]
    },
    {
      "cell_type": "code",
      "execution_count": null,
      "metadata": {
        "id": "mA8oopKPvuLr"
      },
      "outputs": [],
      "source": [
        "visitors_cumsum['copy_of_group'] = visitors_cumsum['group']"
      ]
    },
    {
      "cell_type": "code",
      "execution_count": null,
      "metadata": {
        "id": "BPW37dU5vuLr"
      },
      "outputs": [],
      "source": [
        "visitors_cumsum = visitors_cumsum.set_index(['date','group']) \\\n",
        "                                 .groupby('copy_of_group') \\\n",
        "                                 .cumsum() \\\n",
        "                                 .reset_index()"
      ]
    },
    {
      "cell_type": "code",
      "execution_count": null,
      "metadata": {
        "id": "AoxF-UiZvuLr"
      },
      "outputs": [],
      "source": [
        "cumulative_data = cumulative_data.join(visitors_cumsum[['visitors']])"
      ]
    },
    {
      "cell_type": "code",
      "execution_count": null,
      "metadata": {
        "id": "V1OnYEs4vuLr"
      },
      "outputs": [],
      "source": [
        "cumulative_data['average_check'] = cumulative_data['revenue'] / cumulative_data['purchases']"
      ]
    },
    {
      "cell_type": "code",
      "execution_count": null,
      "metadata": {
        "id": "Ph9GLefBvuLs",
        "outputId": "bda67d2e-fe56-4e16-8a6b-a2ea55041846"
      },
      "outputs": [
        {
          "data": {
            "image/png": "[encoded data removed]",
            "text/plain": [
              "<Figure size 864x360 with 1 Axes>"
            ]
          },
          "metadata": {
            "needs_background": "light"
          },
          "output_type": "display_data"
        }
      ],
      "source": [
        "cummulative_average_check_a = cumulative_data[cumulative_data['group']=='A'][['date', 'average_check']]\n",
        "cummulative_average_check_b = cumulative_data[cumulative_data['group']=='B'][['date', 'average_check']]\n",
        "\n",
        "plt.figure(figsize=(12,5))\n",
        "\n",
        "plt.plot(cummulative_average_check_a['date'], cummulative_average_check_a['average_check'], label='A')\n",
        "plt.plot(cummulative_average_check_b['date'], cummulative_average_check_b['average_check'], label='B')\n",
        "\n",
        "plt.title('График кумулятивного среднего чека по группам')\n",
        "plt.ylabel(\"Размер среднего чека\")\n",
        "plt.xlabel(\"Дата\")\n",
        "plt.xticks(rotation=45)\n",
        "plt.legend()\n",
        "plt.show()"
      ]
    },
    {
      "cell_type": "markdown",
      "metadata": {
        "id": "T1lvbyIdvuLs"
      },
      "source": [
        "**Выводы относительно графика кумулятивного среднего чека:**\n",
        "\n",
        "1. Ситуация относительно среднего чека обстоит приблизительно также как и с общим объемом выручки, то есть до 17 августа средний чек в обеих группах колеблется, тогда как после 17 августа средний чек в группе В резко вырывается вперед.\n",
        "2. Однако далее кривая среднего чека по группе В медленно спускается вниз, что еще раз дает намек на то, что 17 августа был зафиксирован выброс."
      ]
    },
    {
      "cell_type": "markdown",
      "metadata": {
        "id": "0J7wptaYvuLs"
      },
      "source": [
        "### Относительное изменение кумулятивного среднего чека группы В к группе А"
      ]
    },
    {
      "cell_type": "markdown",
      "metadata": {
        "id": "0kV_9FKCvuLs"
      },
      "source": [
        "**Задача:**\n",
        "\n",
        "Построить график относительного изменения кумулятивного среднего чека группы B к группе A. Сделать выводы и предположения."
      ]
    },
    {
      "cell_type": "code",
      "execution_count": null,
      "metadata": {
        "scrolled": false,
        "id": "Z9mfEb5hvuLs",
        "outputId": "abce557c-a939-4f2d-f06b-d92b7f897429"
      },
      "outputs": [
        {
          "data": {
            "image/png": "[encoded data removed]",
            "text/plain": [
              "<Figure size 864x360 with 1 Axes>"
            ]
          },
          "metadata": {
            "needs_background": "light"
          },
          "output_type": "display_data"
        }
      ],
      "source": [
        "merged_сumulative_average_check = cummulative_average_check_a[['date', 'average_check']].merge(cummulative_average_check_b[['date', 'average_check']], \n",
        "                                            left_on='date',\n",
        "                                            right_on='date',\n",
        "                                            how='left',\n",
        "                                            suffixes=['_A', '_B'])\n",
        "\n",
        "plt.figure(figsize=(12,5))\n",
        "\n",
        "plt.plot(merged_сumulative_average_check['date'], merged_сumulative_average_check['average_check_B'] / merged_сumulative_average_check['average_check_A']-1)\n",
        "\n",
        "plt.title('График относительного изменения кумулятивного среднего чека группы B к группе A')\n",
        "plt.axhline(y=0, color='red', linestyle='-')\n",
        "plt.xticks(rotation=45)\n",
        "plt.xlabel(\"Дата\")\n",
        "plt.show()"
      ]
    },
    {
      "cell_type": "markdown",
      "metadata": {
        "id": "tvvlld7PvuLt"
      },
      "source": [
        "Вывод относительно графика:\n",
        "\n",
        "- Как уже отмечалось ранее, до 17 августа B была нестабильна относительно А, после 17 произошел резкий скачок, после которога кривая стабилизировалась в своем медленном снижении."
      ]
    },
    {
      "cell_type": "markdown",
      "metadata": {
        "id": "07R9YotNvuLt"
      },
      "source": [
        "### Кумулятивная конверсия по группам"
      ]
    },
    {
      "cell_type": "markdown",
      "metadata": {
        "id": "GfCd_n_RvuLt"
      },
      "source": [
        "**Задача:**\n",
        "\n",
        "Построить график кумулятивной конверсии по группам. Сделать выводы и предположения."
      ]
    },
    {
      "cell_type": "code",
      "execution_count": null,
      "metadata": {
        "id": "O6l3w4clvuLt"
      },
      "outputs": [],
      "source": [
        "cumulative_data['cr'] = cumulative_data['purchases'] / cumulative_data['visitors']"
      ]
    },
    {
      "cell_type": "code",
      "execution_count": null,
      "metadata": {
        "id": "Dkb6KIaCvuLt",
        "outputId": "e34c44cb-9c84-4434-ca52-4b01855d1033"
      },
      "outputs": [
        {
          "data": {
            "image/png": "[encoded data removed]",
            "text/plain": [
              "<Figure size 864x360 with 1 Axes>"
            ]
          },
          "metadata": {
            "needs_background": "light"
          },
          "output_type": "display_data"
        }
      ],
      "source": [
        "cummulative_cr_a = cumulative_data[cumulative_data['group']=='A'][['date', 'cr']]\n",
        "cummulative_cr_b = cumulative_data[cumulative_data['group']=='B'][['date', 'cr']]\n",
        "\n",
        "plt.figure(figsize=(12,5))\n",
        "\n",
        "plt.plot(cummulative_cr_a['date'], cummulative_cr_a['cr'], label='A')\n",
        "plt.plot(cummulative_cr_b['date'], cummulative_cr_b['cr'], label='B')\n",
        "\n",
        "plt.title('График кумулятивной конверсии по группам')\n",
        "plt.ylabel(\"Уровень конверсии\")\n",
        "plt.xlabel(\"Дата\")\n",
        "plt.xticks(rotation=45)\n",
        "plt.legend()\n",
        "plt.show()"
      ]
    },
    {
      "cell_type": "markdown",
      "metadata": {
        "id": "5q2bcyL5vuLt"
      },
      "source": [
        "**Выводы относительно графика кумулятивной конверсии:**\n",
        "\n",
        "1. Стабилизировались значения ориентировочно первые 4-5 дней теста.\n",
        "2. С 5 августа группа B начала вырываться вперед, и стабильно продержалась в лидирующей позиции до конца теста.\n",
        "3. В совокупности с тем, что на всех предыдущих графиках группа B также показывала более высокие результаты под конец теста, группа B пока выглядит предпочтительнее. Однако выручку и средний чек предварительно стоит посмотреть без учета возможных выбросов."
      ]
    },
    {
      "cell_type": "markdown",
      "metadata": {
        "id": "Bl8cCCDDvuLu"
      },
      "source": [
        "### Относительное изменение кумулятивной конверсии группы В к группе А"
      ]
    },
    {
      "cell_type": "markdown",
      "metadata": {
        "id": "5tWJ5cZbvuLu"
      },
      "source": [
        "**Задача:**\n",
        "\n",
        "Построть график относительного изменения кумулятивной конверсии группы B к группе A. Сделать выводы и предположения."
      ]
    },
    {
      "cell_type": "code",
      "execution_count": null,
      "metadata": {
        "id": "cWRsbTBHvuLu",
        "outputId": "b2f0dcb3-af4e-4865-a87f-64486bf25121"
      },
      "outputs": [
        {
          "data": {
            "image/png": "[encoded data removed]",
            "text/plain": [
              "<Figure size 864x360 with 1 Axes>"
            ]
          },
          "metadata": {
            "needs_background": "light"
          },
          "output_type": "display_data"
        }
      ],
      "source": [
        "merged_сumulative_cr = cummulative_cr_a[['date', 'cr']].merge(cummulative_cr_b[['date', 'cr']], \n",
        "                                            left_on='date',\n",
        "                                            right_on='date',\n",
        "                                            how='left',\n",
        "                                            suffixes=['_A', '_B'])\n",
        "\n",
        "plt.figure(figsize=(12,5))\n",
        "\n",
        "plt.plot(merged_сumulative_cr['date'], merged_сumulative_cr['cr_B'] / merged_сumulative_cr['cr_A']-1)\n",
        "plt.title('График относительного изменения кумулятивной конверсии группы B к группе A')\n",
        "plt.axhline(y=0, color='red', linestyle='-')\n",
        "plt.xticks(rotation=45)\n",
        "plt.xlabel(\"Дата\")\n",
        "plt.show()"
      ]
    },
    {
      "cell_type": "markdown",
      "metadata": {
        "id": "8RLltol2vuLu"
      },
      "source": [
        "Вывод относительно графика:\n",
        "\n",
        "- На протяжении большей части теста группа В показывает более высокие результаты по куммулятивной конверсии. Показательно то, что и к концу теста кривая В демонстирует тенденцию к росту относительно А. **Это еще раз дает стимул к тому, чтобы признать группу В более эффективной**."
      ]
    },
    {
      "cell_type": "markdown",
      "metadata": {
        "id": "7_7TDd9GvuLu"
      },
      "source": [
        "### Количество заказов по пользователям"
      ]
    },
    {
      "cell_type": "markdown",
      "metadata": {
        "id": "uUIbOJRRvuLv"
      },
      "source": [
        "**Задача:**\n",
        "\n",
        "Построить точечный график количества заказов по пользователям. Сделать выводы и предположения."
      ]
    },
    {
      "cell_type": "code",
      "execution_count": null,
      "metadata": {
        "id": "LSO41BbBvuLv"
      },
      "outputs": [],
      "source": [
        "orders_by_user = orders.groupby('visitorid', as_index=False) \\\n",
        "                       .agg({'transactionid':'nunique'}) \\\n",
        "                       .rename(columns={'transactionid':'orders'})"
      ]
    },
    {
      "cell_type": "code",
      "execution_count": null,
      "metadata": {
        "id": "mFjyLqyavuLv",
        "outputId": "969bf774-b378-4221-f64a-54c11fe4c532"
      },
      "outputs": [
        {
          "data": {
            "text/plain": [
              "1     937\n",
              "2      64\n",
              "3      17\n",
              "5       6\n",
              "4       3\n",
              "11      2\n",
              "9       1\n",
              "8       1\n",
              "Name: orders, dtype: int64"
            ]
          },
          "execution_count": 45,
          "metadata": {},
          "output_type": "execute_result"
        }
      ],
      "source": [
        "orders_by_user['orders'].value_counts()"
      ]
    },
    {
      "cell_type": "code",
      "execution_count": null,
      "metadata": {
        "id": "KVnVFhldvuLv",
        "outputId": "67818712-ce85-445b-ae0b-875b369d6ed5"
      },
      "outputs": [
        {
          "data": {
            "image/png": "[encoded data removed]",
            "text/plain": [
              "<Figure size 864x360 with 1 Axes>"
            ]
          },
          "metadata": {
            "needs_background": "light"
          },
          "output_type": "display_data"
        }
      ],
      "source": [
        "x_values = pd.Series(range(0,len(orders_by_user['orders'])))\n",
        "\n",
        "plt.figure(figsize=(12,5))\n",
        "\n",
        "plt.title('Количество заказов по пользователям')\n",
        "plt.ylabel(\"Число заказов\")\n",
        "plt.xlabel(\"Пользователи\")\n",
        "plt.scatter(x_values, orders_by_user['orders'], color='blue')\n",
        "plt.show()"
      ]
    },
    {
      "cell_type": "markdown",
      "metadata": {
        "id": "gaHt9zZLvuLv"
      },
      "source": [
        "**Вывод относительно графика количества заказов по пользователям:**\n",
        "\n",
        "1. Большая часть аудитории совершает 1 заказ (937 пользователей). \n",
        "2. Несколько реже, но довольно распространено оформление 2 заказов (64 пользователя) и 3 заказов (17 пользователей).\n",
        "3. Другое количество заказов встречается значительно реже, и претендует на роль выбросов. В особенности 11 заказов которые осуществили только 2 пользователя. Возможно эти выбросы и вывели вперед группу B. Изучим далее."
      ]
    },
    {
      "cell_type": "markdown",
      "metadata": {
        "id": "p8VLmdUhvuLv"
      },
      "source": [
        "### 95-й и 99-й перцентили количества заказов на пользователя"
      ]
    },
    {
      "cell_type": "markdown",
      "metadata": {
        "id": "RqkCyh4uvuLv"
      },
      "source": [
        "**Задача:**\n",
        "\n",
        "Посчитать 95-й и 99-й перцентили количества заказов на пользователя. Выбрать границу для определения аномальных пользователей."
      ]
    },
    {
      "cell_type": "code",
      "execution_count": null,
      "metadata": {
        "id": "f4rlwGTTvuLw",
        "outputId": "a9a440c2-fa11-43e0-eb9f-ca255ba75b9e"
      },
      "outputs": [
        {
          "data": {
            "text/plain": [
              "array([2., 4.])"
            ]
          },
          "execution_count": 47,
          "metadata": {},
          "output_type": "execute_result"
        }
      ],
      "source": [
        "np.percentile(orders_by_user['orders'], [95, 99])"
      ]
    },
    {
      "cell_type": "markdown",
      "metadata": {
        "id": "ZK-5zb0GvuLw"
      },
      "source": [
        "- 95 поцентиль равен 2\n",
        "- 99 процентиль равен 4\n",
        "\n",
        "Как отмечалось выше, существенное количество людей осуществляет 2 заказа, да и 3 встречаются не слишком редко, поэтому **предлагаем за границу для определения аномальных пользователей взять 99 процентиль, то есть 4 заказа**."
      ]
    },
    {
      "cell_type": "markdown",
      "metadata": {
        "id": "gNuMYqtWvuLw"
      },
      "source": [
        "### Точечный график стоимостей заказов"
      ]
    },
    {
      "cell_type": "markdown",
      "metadata": {
        "id": "JAwLXoy2vuLw"
      },
      "source": [
        "**Задача:**\n",
        "\n",
        "Построить точечный график стоимостей заказов. Сделать выводы и предположения."
      ]
    },
    {
      "cell_type": "code",
      "execution_count": null,
      "metadata": {
        "id": "t1AaEF3rvuLw",
        "outputId": "a5830d2f-6332-4a4c-c8ab-ed9d2dab8df0"
      },
      "outputs": [
        {
          "data": {
            "image/png": "[encoded data removed]",
            "text/plain": [
              "<Figure size 864x360 with 1 Axes>"
            ]
          },
          "metadata": {
            "needs_background": "light"
          },
          "output_type": "display_data"
        }
      ],
      "source": [
        "x_values = pd.Series(range(0,len(orders['revenue'])))\n",
        "plt.figure(figsize=(12,5))\n",
        "plt.scatter(x_values, orders['revenue'], color='blue')\n",
        "\n",
        "plt.title('Точечный график стоимостей заказов')\n",
        "plt.ylabel(\"Стоимость заказа\")\n",
        "plt.xlabel(\"Пользователи\")\n",
        "plt.show()"
      ]
    },
    {
      "cell_type": "markdown",
      "metadata": {
        "id": "laYznkARvuLx"
      },
      "source": [
        "**Выводы относительно графика:**\n",
        "\n",
        "1. Ожидаемо большинство заказов с низкой стоимостью.\n",
        "2. На графике заметны 2 выброса: 1 - самый большой в районе 400-го пользователя, 2 - в правой части графика около 1200-го пользователя. Если именно эти пользователи попали в группу В, они могли существенно завысить результаты группы В. Проверим это далее."
      ]
    },
    {
      "cell_type": "markdown",
      "metadata": {
        "id": "hlPVTfVWvuLx"
      },
      "source": [
        "### 95-й и 99-й перцентили стоимости заказов"
      ]
    },
    {
      "cell_type": "markdown",
      "metadata": {
        "id": "AdV_kFhMvuLx"
      },
      "source": [
        "**Задача:**\n",
        "\n",
        "Посчитать 95-й и 99-й перцентили стоимости заказов. Выбрать границу для определения аномальных заказов."
      ]
    },
    {
      "cell_type": "code",
      "execution_count": null,
      "metadata": {
        "id": "iBtsVqRLvuLx",
        "outputId": "bbe19cea-67fc-4a4c-d0fc-b2bea8db5d79"
      },
      "outputs": [
        {
          "data": {
            "text/plain": [
              "array([28000. , 58233.2])"
            ]
          },
          "execution_count": 49,
          "metadata": {},
          "output_type": "execute_result"
        }
      ],
      "source": [
        "np.percentile(orders['revenue'], [95, 99])"
      ]
    },
    {
      "cell_type": "markdown",
      "metadata": {
        "id": "9t-Z_VmGvuLy"
      },
      "source": [
        "Также предлагаем взять 99 процентиль для определения аномальных заказов, то есть 58233.2."
      ]
    },
    {
      "cell_type": "markdown",
      "metadata": {
        "id": "o287gD2KvuLy"
      },
      "source": [
        "### Статистическая значимость различий в конверсии между группами по «сырым» данным"
      ]
    },
    {
      "cell_type": "markdown",
      "metadata": {
        "id": "hHXWsjSUvuLy"
      },
      "source": [
        "**Задача:**\n",
        "\n",
        "Посчитать статистическую значимость различий в конверсии между группами по «сырым» данным. Сделать выводы и предположения."
      ]
    },
    {
      "cell_type": "code",
      "execution_count": null,
      "metadata": {
        "id": "cCTyF8bsvuLy"
      },
      "outputs": [],
      "source": [
        "conversion = orders.groupby('group') \\\n",
        "                   .agg({'transactionid':'count'}) \\\n",
        "                   .rename(columns={'transactionid':'orders'})\\\n",
        "                   .join((visitors.groupby('group') \\\n",
        "                   .agg({'visitors':'sum'}))) \\\n",
        "                   .reset_index()\n",
        "\n",
        "conversion['conversion'] = conversion['orders'] / conversion['visitors']"
      ]
    },
    {
      "cell_type": "code",
      "execution_count": null,
      "metadata": {
        "scrolled": true,
        "id": "j0n1VSgSvuLy",
        "outputId": "b31a9a41-c186-49f0-ede7-6b4d692ebea6"
      },
      "outputs": [
        {
          "data": {
            "text/html": [
              "<div>\n",
              "<style scoped>\n",
              "    .dataframe tbody tr th:only-of-type {\n",
              "        vertical-align: middle;\n",
              "    }\n",
              "\n",
              "    .dataframe tbody tr th {\n",
              "        vertical-align: top;\n",
              "    }\n",
              "\n",
              "    .dataframe thead th {\n",
              "        text-align: right;\n",
              "    }\n",
              "</style>\n",
              "<table border=\"1\" class=\"dataframe\">\n",
              "  <thead>\n",
              "    <tr style=\"text-align: right;\">\n",
              "      <th></th>\n",
              "      <th>group</th>\n",
              "      <th>orders</th>\n",
              "      <th>visitors</th>\n",
              "      <th>conversion</th>\n",
              "    </tr>\n",
              "  </thead>\n",
              "  <tbody>\n",
              "    <tr>\n",
              "      <td>0</td>\n",
              "      <td>A</td>\n",
              "      <td>557</td>\n",
              "      <td>18736</td>\n",
              "      <td>0.030</td>\n",
              "    </tr>\n",
              "    <tr>\n",
              "      <td>1</td>\n",
              "      <td>B</td>\n",
              "      <td>640</td>\n",
              "      <td>18916</td>\n",
              "      <td>0.034</td>\n",
              "    </tr>\n",
              "  </tbody>\n",
              "</table>\n",
              "</div>"
            ],
            "text/plain": [
              "  group  orders  visitors  conversion\n",
              "0     A     557     18736       0.030\n",
              "1     B     640     18916       0.034"
            ]
          },
          "execution_count": 51,
          "metadata": {},
          "output_type": "execute_result"
        }
      ],
      "source": [
        "conversion"
      ]
    },
    {
      "cell_type": "markdown",
      "metadata": {
        "id": "MF4SzojIvuLz"
      },
      "source": [
        "Из представленной таблицы видно, что общее число посетителей примерно равно, то есть группы по этому критерию подходят для сравнения.\n",
        "\n",
        "Уже из таблицы видно, что CR немного отличается, но посмотрим на уровень статистической значимости:\n",
        "\n",
        "- Будем использовать Z-критерием для разности двух долей\n",
        "- H0: Конверсия в группе A РАВНА конверсии в группе B\n",
        "- H1: Конверсия в группе A НЕ РАВНА конверсии в группе B"
      ]
    },
    {
      "cell_type": "code",
      "execution_count": null,
      "metadata": {
        "id": "Z1gN4M5svuLz",
        "outputId": "ed06ffd4-46ac-4f71-9bc0-313cb633d8fa"
      },
      "outputs": [
        {
          "name": "stdout",
          "output_type": "stream",
          "text": [
            "p-значение:  0.02320723394441848\n",
            "Отвергаем нулевую гипотезу, то есть конверсия в группе A НЕ РАВНА конверсии в группе B\n"
          ]
        }
      ],
      "source": [
        "alpha=0.05\n",
        "purchases = np.array(conversion['orders'])\n",
        "leads = np.array(conversion['visitors'])\n",
        "p1 = purchases[0] / leads[0]\n",
        "p2 = purchases[1] / leads[1]\n",
        "combined = (purchases[0] + purchases[1]) / (leads[0] + leads[1])\n",
        "difference = p1-p2\n",
        "z_value = difference / mth.sqrt(combined * (1 - combined) * (1 / leads[0] + 1 / leads[1]))\n",
        "distr = st.norm(0,1)\n",
        "p_value = (1 - distr.cdf(abs(z_value))) * 2\n",
        "print('p-значение: ', p_value)\n",
        "if (p_value < alpha):\n",
        "    print(\"Отвергаем нулевую гипотезу, то есть конверсия в группе A НЕ РАВНА конверсии в группе B\")\n",
        "else:\n",
        "    print(\"Не получилось отвергнуть нулевую гипотезу, то есть не получается сделать вывод о неравенстве конверсии в группе A и конверсии в группе B\")"
      ]
    },
    {
      "cell_type": "markdown",
      "metadata": {
        "id": "Sp7qcv-4vuLz"
      },
      "source": [
        "**Основной вывод:**\n",
        "\n",
        "CR в группе B значимо выше, чем CR в группе A."
      ]
    },
    {
      "cell_type": "markdown",
      "metadata": {
        "id": "iM3CIotgvuLz"
      },
      "source": [
        "### Статистическая значимость различий в среднем чеке заказа между группами по «сырым» данным"
      ]
    },
    {
      "cell_type": "markdown",
      "metadata": {
        "id": "YeqLz57_vuLz"
      },
      "source": [
        "**Задача:**\n",
        "\n",
        "Посчитать статистическую значимость различий в среднем чеке заказа между группами по «сырым» данным. Сделать выводы и предположения."
      ]
    },
    {
      "cell_type": "markdown",
      "metadata": {
        "id": "aPToWXb1vuL0"
      },
      "source": [
        "Будем использовать критерий Манна-Уитни\n",
        "- H0: Средний чек группы A не отличается от среднего чека группы B\n",
        "- H1: Средний чек группы A отличается от среднего чека группы B"
      ]
    },
    {
      "cell_type": "code",
      "execution_count": null,
      "metadata": {
        "id": "xq4sIGBgvuL0",
        "outputId": "6ef6876a-0933-4472-cdbf-1ac34e758681"
      },
      "outputs": [
        {
          "name": "stdout",
          "output_type": "stream",
          "text": [
            "p-значение:  0.3646454927716229\n",
            "Не получилось отвергнуть H0, то есть не получается сделать вывод о различии значений среднего чека между группами\n"
          ]
        }
      ],
      "source": [
        "alpha = 0.05\n",
        "results = st.mannwhitneyu(orders[orders['group']=='A']['revenue'], orders[orders['group']=='B']['revenue'])\n",
        "pvalue = results.pvalue\n",
        "print('p-значение: ', pvalue)\n",
        "if (pvalue < alpha):\n",
        "    print(\"Отвергаем H0, то есть средний чек группы A отличается от среднего чека группы B\")\n",
        "else:\n",
        "    print(\"Не получилось отвергнуть H0, то есть не получается сделать вывод о различии значений среднего чека между группами\")"
      ]
    },
    {
      "cell_type": "code",
      "execution_count": null,
      "metadata": {
        "id": "gEQAb2WIvuL0",
        "outputId": "09d32a08-d8eb-4ae3-a358-5a6f4899367a"
      },
      "outputs": [
        {
          "data": {
            "text/html": [
              "<div>\n",
              "<style scoped>\n",
              "    .dataframe tbody tr th:only-of-type {\n",
              "        vertical-align: middle;\n",
              "    }\n",
              "\n",
              "    .dataframe tbody tr th {\n",
              "        vertical-align: top;\n",
              "    }\n",
              "\n",
              "    .dataframe thead th {\n",
              "        text-align: right;\n",
              "    }\n",
              "</style>\n",
              "<table border=\"1\" class=\"dataframe\">\n",
              "  <thead>\n",
              "    <tr style=\"text-align: right;\">\n",
              "      <th></th>\n",
              "      <th>revenue</th>\n",
              "    </tr>\n",
              "    <tr>\n",
              "      <th>group</th>\n",
              "      <th></th>\n",
              "    </tr>\n",
              "  </thead>\n",
              "  <tbody>\n",
              "    <tr>\n",
              "      <td>A</td>\n",
              "      <td>7333.578</td>\n",
              "    </tr>\n",
              "    <tr>\n",
              "      <td>B</td>\n",
              "      <td>9230.875</td>\n",
              "    </tr>\n",
              "  </tbody>\n",
              "</table>\n",
              "</div>"
            ],
            "text/plain": [
              "       revenue\n",
              "group         \n",
              "A     7333.578\n",
              "B     9230.875"
            ]
          },
          "execution_count": 54,
          "metadata": {},
          "output_type": "execute_result"
        }
      ],
      "source": [
        "orders.groupby(by=\"group\") \\\n",
        "      .mean()"
      ]
    },
    {
      "cell_type": "markdown",
      "metadata": {
        "id": "S2VX0rsjvuL0"
      },
      "source": [
        "**Основной вывод:**\n",
        "\n",
        "1. Несмотря на то, что в абсолютных числах средний чек отличается довольно весомо (7333.578 в группе А, 9230.875 в группе B), в категориях статистической значимости существенных отличий нет. Однако эти выводы сделаны на основании сырых данных. Посмотрим, будет ли что-то отличаться, если убрать из вычислений выбросы."
      ]
    },
    {
      "cell_type": "markdown",
      "metadata": {
        "id": "DBloSSfSvuL0"
      },
      "source": [
        "### Статистическая значимость различий в конверсии между группами по «очищенным» данным"
      ]
    },
    {
      "cell_type": "markdown",
      "metadata": {
        "id": "u0XrujAGvuL0"
      },
      "source": [
        "**Задача:**\n",
        "\n",
        "Посчитать статистическую значимость различий в конверсии между группами по «очищенным» данным. Сделать выводы и предположения."
      ]
    },
    {
      "cell_type": "markdown",
      "metadata": {
        "id": "JrF4XQoHvuL1"
      },
      "source": [
        "Удалим выбросы."
      ]
    },
    {
      "cell_type": "code",
      "execution_count": null,
      "metadata": {
        "id": "zXdFbJyQvuL1"
      },
      "outputs": [],
      "source": [
        "extreme_values = orders_by_user[orders_by_user['orders'] >= 4]['visitorid'].to_list()"
      ]
    },
    {
      "cell_type": "code",
      "execution_count": null,
      "metadata": {
        "id": "cIvJwNOdvuL1"
      },
      "outputs": [],
      "source": [
        "orders_clear = orders[~orders['visitorid'].isin(extreme_values)]\n",
        "conversion_clear = orders_clear.groupby('group') \\\n",
        "                               .agg({'transactionid':'count'}) \\\n",
        "                               .rename(columns={'transactionid':'orders'})\\\n",
        "                               .join((visitors.groupby('group') \\\n",
        "                               .agg({'visitors':'sum'}))) \\\n",
        "                               .reset_index()"
      ]
    },
    {
      "cell_type": "code",
      "execution_count": null,
      "metadata": {
        "id": "jk_gq7mCvuL1"
      },
      "outputs": [],
      "source": [
        "conversion_clear['conversion'] = conversion_clear['orders'] / conversion_clear['visitors']"
      ]
    },
    {
      "cell_type": "code",
      "execution_count": null,
      "metadata": {
        "id": "1UgaCC6tvuL1",
        "outputId": "9cae58c7-5c55-428b-aedb-6302aaccac2a"
      },
      "outputs": [
        {
          "data": {
            "text/html": [
              "<div>\n",
              "<style scoped>\n",
              "    .dataframe tbody tr th:only-of-type {\n",
              "        vertical-align: middle;\n",
              "    }\n",
              "\n",
              "    .dataframe tbody tr th {\n",
              "        vertical-align: top;\n",
              "    }\n",
              "\n",
              "    .dataframe thead th {\n",
              "        text-align: right;\n",
              "    }\n",
              "</style>\n",
              "<table border=\"1\" class=\"dataframe\">\n",
              "  <thead>\n",
              "    <tr style=\"text-align: right;\">\n",
              "      <th></th>\n",
              "      <th>group</th>\n",
              "      <th>orders</th>\n",
              "      <th>visitors</th>\n",
              "      <th>conversion</th>\n",
              "    </tr>\n",
              "  </thead>\n",
              "  <tbody>\n",
              "    <tr>\n",
              "      <td>0</td>\n",
              "      <td>A</td>\n",
              "      <td>517</td>\n",
              "      <td>18736</td>\n",
              "      <td>0.028</td>\n",
              "    </tr>\n",
              "    <tr>\n",
              "      <td>1</td>\n",
              "      <td>B</td>\n",
              "      <td>599</td>\n",
              "      <td>18916</td>\n",
              "      <td>0.032</td>\n",
              "    </tr>\n",
              "  </tbody>\n",
              "</table>\n",
              "</div>"
            ],
            "text/plain": [
              "  group  orders  visitors  conversion\n",
              "0     A     517     18736       0.028\n",
              "1     B     599     18916       0.032"
            ]
          },
          "execution_count": 58,
          "metadata": {},
          "output_type": "execute_result"
        }
      ],
      "source": [
        "conversion_clear"
      ]
    },
    {
      "cell_type": "markdown",
      "metadata": {
        "id": "OUqD9iudvuL1"
      },
      "source": [
        "При удалении выбросов разница между группами на первый взгляд осталась прежней, то есть отличие в 4 тысячных: 0.028 в группе А против 0.032 в группе В. Но проверим стастистически.\n",
        "\n",
        "\n",
        "Будем пользоваться Z-критерием для разности двух долей.\n",
        "- H0: Конверсия в группе A РАВНА конверсии в группе B\n",
        "- H1: Конверсия в группе A НЕ РАВНА конверсии в группе B"
      ]
    },
    {
      "cell_type": "code",
      "execution_count": null,
      "metadata": {
        "id": "kAHPoHihvuL1",
        "outputId": "99773d6e-beb8-4f64-fccc-d9a19e1dad9d"
      },
      "outputs": [
        {
          "name": "stdout",
          "output_type": "stream",
          "text": [
            "p-значение:  0.019821291468021807\n",
            "Отвергаем нулевую гипотезу, то есть конверсия в группе A НЕ РАВНА конверсии в группе B\n"
          ]
        }
      ],
      "source": [
        "alpha=0.05\n",
        "purchases = np.array(conversion_clear['orders'])\n",
        "leads = np.array(conversion_clear['visitors'])\n",
        "p1 = purchases[0] / leads[0]\n",
        "p2 = purchases[1] / leads[1]\n",
        "combined = (purchases[0] + purchases[1]) / (leads[0] + leads[1])\n",
        "difference = p1-p2\n",
        "z_value = difference / mth.sqrt(combined * (1 - combined) * (1 / leads[0] + 1 / leads[1]))\n",
        "distr = st.norm(0,1)\n",
        "p_value = (1 - distr.cdf(abs(z_value))) * 2\n",
        "print('p-значение: ', p_value)\n",
        "if (p_value < alpha):\n",
        "    print(\"Отвергаем нулевую гипотезу, то есть конверсия в группе A НЕ РАВНА конверсии в группе B\")\n",
        "else:\n",
        "    print(\"Не получилось отвергнуть нулевую гипотезу, то есть не получается сделать вывод о неравенстве конверсии в группе A и конверсии в группе B\")"
      ]
    },
    {
      "cell_type": "markdown",
      "metadata": {
        "id": "_F5y_7UDvuL2"
      },
      "source": [
        "**Основной вывод:**\n",
        "\n",
        "При очистке данных резульатат теста не поменялся: CR в группе B значимо выше, чем CR в группе A."
      ]
    },
    {
      "cell_type": "markdown",
      "metadata": {
        "id": "iwshmATFvuL2"
      },
      "source": [
        "### Статистическая значимость различий в среднем чеке заказа между группами по «очищенным» данным"
      ]
    },
    {
      "cell_type": "markdown",
      "metadata": {
        "id": "Ksh_0abTvuL2"
      },
      "source": [
        "**Задача:**\n",
        "\n",
        "Посчитать статистическую значимость различий в среднем чеке заказа между группами по «очищенным» данным. Сделать выводы и предположения."
      ]
    },
    {
      "cell_type": "code",
      "execution_count": null,
      "metadata": {
        "id": "nh-TRbyzvuL2"
      },
      "outputs": [],
      "source": [
        "orders_clear = orders.query('revenue <= 58233.2')"
      ]
    },
    {
      "cell_type": "markdown",
      "metadata": {
        "id": "ghATNj62vuL2"
      },
      "source": [
        "А теперь повторим все то же самое, что и в прошлый раз."
      ]
    },
    {
      "cell_type": "code",
      "execution_count": null,
      "metadata": {
        "id": "5WwNg7devuL2",
        "outputId": "7171a5d8-02e3-4514-af98-f280386b868c"
      },
      "outputs": [
        {
          "name": "stdout",
          "output_type": "stream",
          "text": [
            "p-значение:  0.31043134834237274\n",
            "Не получилось отвергнуть нулевую гипотезу, то есть не получается сделать вывод о неравенстве конверсии в группе A и конверсии в группе B\n"
          ]
        }
      ],
      "source": [
        "alpha = 0.05\n",
        "results = st.mannwhitneyu(orders_clear[orders_clear['group']=='A']['revenue'], orders_clear[orders_clear['group']=='B']['revenue'])\n",
        "pvalue = results.pvalue\n",
        "print('p-значение: ', pvalue)\n",
        "if (pvalue < alpha):\n",
        "    print(\"Отвергаем H0, то есть средний чек группы A отличается от среднего чека группы B\")\n",
        "else:\n",
        "    print(\"Не получилось отвергнуть нулевую гипотезу, то есть не получается сделать вывод о неравенстве конверсии в группе A и конверсии в группе B\")"
      ]
    },
    {
      "cell_type": "code",
      "execution_count": null,
      "metadata": {
        "id": "SfFGjVbevuL3",
        "outputId": "f05bbe85-b993-4839-f73e-3362bdb27ed2"
      },
      "outputs": [
        {
          "data": {
            "text/html": [
              "<div>\n",
              "<style scoped>\n",
              "    .dataframe tbody tr th:only-of-type {\n",
              "        vertical-align: middle;\n",
              "    }\n",
              "\n",
              "    .dataframe tbody tr th {\n",
              "        vertical-align: top;\n",
              "    }\n",
              "\n",
              "    .dataframe thead th {\n",
              "        text-align: right;\n",
              "    }\n",
              "</style>\n",
              "<table border=\"1\" class=\"dataframe\">\n",
              "  <thead>\n",
              "    <tr style=\"text-align: right;\">\n",
              "      <th></th>\n",
              "      <th>revenue</th>\n",
              "    </tr>\n",
              "    <tr>\n",
              "      <th>group</th>\n",
              "      <th></th>\n",
              "    </tr>\n",
              "  </thead>\n",
              "  <tbody>\n",
              "    <tr>\n",
              "      <td>A</td>\n",
              "      <td>7333.578</td>\n",
              "    </tr>\n",
              "    <tr>\n",
              "      <td>B</td>\n",
              "      <td>9230.875</td>\n",
              "    </tr>\n",
              "  </tbody>\n",
              "</table>\n",
              "</div>"
            ],
            "text/plain": [
              "       revenue\n",
              "group         \n",
              "A     7333.578\n",
              "B     9230.875"
            ]
          },
          "execution_count": 62,
          "metadata": {},
          "output_type": "execute_result"
        }
      ],
      "source": [
        "orders.groupby(by=\"group\") \\\n",
        "      .mean()"
      ]
    },
    {
      "cell_type": "markdown",
      "metadata": {
        "id": "N9EIEy82vuL3"
      },
      "source": [
        "<div style=\"border-radius: 15px; box-shadow: 4px 4px 4px; border: solid orange 2px; padding: 20px\"> <b>Что можно улучшить</b><br>\n",
        "Полагаю, что в строке выше должна быть таблица <code>orders_clear</code></div> <br>"
      ]
    },
    {
      "cell_type": "markdown",
      "metadata": {
        "id": "jms6yk2gvuL3"
      },
      "source": [
        "**Основной вывод:**\n",
        "\n",
        "- Даже после очистки данных не наблюдается статистически значимого отличия между средними чеками."
      ]
    },
    {
      "cell_type": "markdown",
      "metadata": {
        "id": "jdK1L8nFvuL3"
      },
      "source": [
        "### Результаты теста"
      ]
    },
    {
      "cell_type": "markdown",
      "metadata": {
        "id": "BAN1nq4VvuL3"
      },
      "source": [
        "**Задача:**\n",
        "\n",
        "Принять решение по результатам теста и объяснить его."
      ]
    },
    {
      "cell_type": "markdown",
      "metadata": {
        "id": "sRXjBYvXvuL4"
      },
      "source": [
        "***Так как группы А и В равномерно распределены, тест проводился достаточное количество времени для анализа изменений в онлайн-магазине, а куммулятивные графики вышли на плато, то тест можно останавливать.***\n",
        "\n",
        "***По его результатам можно заключить, что CR в группе B статистически значимо выше, чем CR в группе A.\n",
        "Тогда как по среднему чеку отличия между группами отсутствуют.***\n",
        "\n",
        "***Поэтому, если в приоритете стоит оптимизация CR, то изменения, которые тестировались в данном тесте, стоит вносить. Тогда как на среднем чеке изменения не скажутся, и стоит тестировать другие гипотезы.***"
      ]
    }
  ],
  "metadata": {
    "ExecuteTimeLog": [
      {
        "duration": 1461,
        "start_time": "2021-10-12T17:43:31.788Z"
      },
      {
        "duration": 5,
        "start_time": "2021-10-12T17:43:44.490Z"
      },
      {
        "duration": 66,
        "start_time": "2021-10-12T17:43:58.620Z"
      },
      {
        "duration": 17,
        "start_time": "2021-10-12T17:44:14.546Z"
      },
      {
        "duration": 19,
        "start_time": "2021-10-12T17:44:35.615Z"
      },
      {
        "duration": 14,
        "start_time": "2021-10-12T17:44:51.963Z"
      },
      {
        "duration": 9,
        "start_time": "2021-10-12T17:45:16.264Z"
      },
      {
        "duration": 8,
        "start_time": "2021-10-12T17:45:32.793Z"
      },
      {
        "duration": 16,
        "start_time": "2021-10-12T17:46:10.655Z"
      },
      {
        "duration": 14,
        "start_time": "2021-10-12T17:47:23.803Z"
      },
      {
        "duration": 14,
        "start_time": "2021-10-12T17:47:37.138Z"
      },
      {
        "duration": 764,
        "start_time": "2021-10-12T17:48:40.338Z"
      },
      {
        "duration": 6,
        "start_time": "2021-10-12T17:49:48.554Z"
      },
      {
        "duration": 15,
        "start_time": "2021-10-12T17:49:55.399Z"
      },
      {
        "duration": 713,
        "start_time": "2021-10-12T17:50:06.418Z"
      },
      {
        "duration": 14,
        "start_time": "2021-10-12T17:52:30.225Z"
      },
      {
        "duration": 11,
        "start_time": "2021-10-12T17:52:38.858Z"
      },
      {
        "duration": 6,
        "start_time": "2021-10-12T17:53:02.911Z"
      },
      {
        "duration": 37,
        "start_time": "2021-10-12T17:53:38.910Z"
      },
      {
        "duration": 34,
        "start_time": "2021-10-12T17:53:48.424Z"
      },
      {
        "duration": 7,
        "start_time": "2021-10-12T17:53:56.439Z"
      },
      {
        "duration": 7,
        "start_time": "2021-10-12T17:54:05.055Z"
      },
      {
        "duration": 14,
        "start_time": "2021-10-12T17:54:11.564Z"
      },
      {
        "duration": 396,
        "start_time": "2021-10-12T17:54:42.553Z"
      },
      {
        "duration": 304,
        "start_time": "2021-10-12T17:55:17.394Z"
      },
      {
        "duration": 608,
        "start_time": "2021-10-12T17:55:53.716Z"
      },
      {
        "duration": 582,
        "start_time": "2021-10-12T17:56:48.938Z"
      },
      {
        "duration": 706,
        "start_time": "2021-10-12T17:57:59.700Z"
      },
      {
        "duration": 626,
        "start_time": "2021-10-12T17:58:31.267Z"
      },
      {
        "duration": 682,
        "start_time": "2021-10-12T17:59:36.177Z"
      },
      {
        "duration": 10,
        "start_time": "2021-10-12T18:00:36.049Z"
      },
      {
        "duration": 9,
        "start_time": "2021-10-12T18:00:44.622Z"
      },
      {
        "duration": 701,
        "start_time": "2021-10-12T18:01:00.886Z"
      },
      {
        "duration": 8,
        "start_time": "2021-10-12T18:02:18.592Z"
      },
      {
        "duration": 6,
        "start_time": "2021-10-12T18:02:37.352Z"
      },
      {
        "duration": 8,
        "start_time": "2021-10-12T18:02:50.617Z"
      },
      {
        "duration": 6,
        "start_time": "2021-10-12T18:04:55.442Z"
      },
      {
        "duration": 646,
        "start_time": "2021-10-12T18:05:40.515Z"
      },
      {
        "duration": 9,
        "start_time": "2021-10-12T18:06:32.117Z"
      },
      {
        "duration": 6,
        "start_time": "2021-10-12T18:07:00.839Z"
      },
      {
        "duration": 6,
        "start_time": "2021-10-12T18:07:15.452Z"
      },
      {
        "duration": 6,
        "start_time": "2021-10-12T18:07:28.356Z"
      },
      {
        "duration": 17,
        "start_time": "2021-10-12T18:08:45.795Z"
      },
      {
        "duration": 10,
        "start_time": "2021-10-12T18:08:58.018Z"
      },
      {
        "duration": 12,
        "start_time": "2021-10-12T18:09:17.410Z"
      },
      {
        "duration": 12,
        "start_time": "2021-10-12T18:09:36.206Z"
      },
      {
        "duration": 12,
        "start_time": "2021-10-12T18:11:45.999Z"
      },
      {
        "duration": 8,
        "start_time": "2021-10-12T18:12:02.912Z"
      },
      {
        "duration": 9,
        "start_time": "2021-10-12T18:12:15.123Z"
      },
      {
        "duration": 112,
        "start_time": "2021-10-12T18:12:30.576Z"
      },
      {
        "duration": 16,
        "start_time": "2021-10-12T18:13:20.960Z"
      },
      {
        "duration": 10,
        "start_time": "2021-10-12T18:13:38.203Z"
      },
      {
        "duration": 93,
        "start_time": "2021-10-12T18:13:52.018Z"
      },
      {
        "duration": 8,
        "start_time": "2021-10-12T18:14:23.202Z"
      },
      {
        "duration": 11,
        "start_time": "2021-10-12T18:14:34.634Z"
      },
      {
        "duration": 8,
        "start_time": "2021-10-12T18:14:45.128Z"
      },
      {
        "duration": 9,
        "start_time": "2021-10-12T18:14:55.851Z"
      },
      {
        "duration": 89,
        "start_time": "2021-10-12T18:15:18.872Z"
      },
      {
        "duration": 73,
        "start_time": "2021-10-13T17:16:11.482Z"
      },
      {
        "duration": 1154,
        "start_time": "2021-10-13T17:38:03.132Z"
      },
      {
        "duration": 11,
        "start_time": "2021-10-13T17:38:18.515Z"
      },
      {
        "duration": 304,
        "start_time": "2021-10-13T17:40:45.793Z"
      },
      {
        "duration": 240,
        "start_time": "2021-10-13T17:41:05.115Z"
      },
      {
        "duration": 63,
        "start_time": "2021-10-13T17:41:09.415Z"
      },
      {
        "duration": 11,
        "start_time": "2021-10-13T17:41:12.152Z"
      },
      {
        "duration": 7,
        "start_time": "2021-10-13T17:41:13.312Z"
      },
      {
        "duration": 527,
        "start_time": "2021-10-13T17:42:08.960Z"
      },
      {
        "duration": 6,
        "start_time": "2021-10-13T17:42:55.584Z"
      },
      {
        "duration": 4,
        "start_time": "2021-10-13T17:46:30.733Z"
      },
      {
        "duration": 8,
        "start_time": "2021-10-13T17:46:40.634Z"
      },
      {
        "duration": 8,
        "start_time": "2021-10-13T17:49:39.844Z"
      },
      {
        "duration": 7,
        "start_time": "2021-10-13T17:50:02.703Z"
      },
      {
        "duration": 8,
        "start_time": "2021-10-13T17:53:24.866Z"
      },
      {
        "duration": 8,
        "start_time": "2021-10-13T17:53:31.585Z"
      },
      {
        "duration": 1165,
        "start_time": "2021-10-13T17:54:05.534Z"
      },
      {
        "duration": 7,
        "start_time": "2021-10-13T17:54:06.701Z"
      },
      {
        "duration": 62,
        "start_time": "2021-10-13T17:54:06.710Z"
      },
      {
        "duration": 11,
        "start_time": "2021-10-13T17:54:06.774Z"
      },
      {
        "duration": 8,
        "start_time": "2021-10-13T17:54:06.787Z"
      },
      {
        "duration": 10,
        "start_time": "2021-10-13T17:54:06.796Z"
      },
      {
        "duration": 465,
        "start_time": "2021-10-13T17:54:06.808Z"
      },
      {
        "duration": 3,
        "start_time": "2021-10-13T17:54:07.276Z"
      },
      {
        "duration": 10,
        "start_time": "2021-10-13T17:54:07.281Z"
      },
      {
        "duration": 11,
        "start_time": "2021-10-13T17:54:07.293Z"
      },
      {
        "duration": 11,
        "start_time": "2021-10-13T17:54:07.306Z"
      },
      {
        "duration": 8,
        "start_time": "2021-10-13T17:54:07.319Z"
      },
      {
        "duration": 19,
        "start_time": "2021-10-13T17:54:07.328Z"
      },
      {
        "duration": 12,
        "start_time": "2021-10-13T17:54:07.349Z"
      },
      {
        "duration": 13,
        "start_time": "2021-10-13T17:54:07.362Z"
      },
      {
        "duration": 6130,
        "start_time": "2021-10-13T17:54:07.377Z"
      },
      {
        "duration": -22316,
        "start_time": "2021-10-13T17:54:35.826Z"
      },
      {
        "duration": -22318,
        "start_time": "2021-10-13T17:54:35.830Z"
      },
      {
        "duration": -22321,
        "start_time": "2021-10-13T17:54:35.834Z"
      },
      {
        "duration": -22325,
        "start_time": "2021-10-13T17:54:35.839Z"
      },
      {
        "duration": -22328,
        "start_time": "2021-10-13T17:54:35.843Z"
      },
      {
        "duration": -22329,
        "start_time": "2021-10-13T17:54:35.845Z"
      },
      {
        "duration": -22331,
        "start_time": "2021-10-13T17:54:35.848Z"
      },
      {
        "duration": -22332,
        "start_time": "2021-10-13T17:54:35.850Z"
      },
      {
        "duration": -22335,
        "start_time": "2021-10-13T17:54:35.854Z"
      },
      {
        "duration": -22338,
        "start_time": "2021-10-13T17:54:35.858Z"
      },
      {
        "duration": -22339,
        "start_time": "2021-10-13T17:54:35.860Z"
      },
      {
        "duration": -22341,
        "start_time": "2021-10-13T17:54:35.863Z"
      },
      {
        "duration": -22350,
        "start_time": "2021-10-13T17:54:35.873Z"
      },
      {
        "duration": -22352,
        "start_time": "2021-10-13T17:54:35.876Z"
      },
      {
        "duration": -22353,
        "start_time": "2021-10-13T17:54:35.878Z"
      },
      {
        "duration": -22354,
        "start_time": "2021-10-13T17:54:35.880Z"
      },
      {
        "duration": -22356,
        "start_time": "2021-10-13T17:54:35.883Z"
      },
      {
        "duration": -22358,
        "start_time": "2021-10-13T17:54:35.886Z"
      },
      {
        "duration": -22362,
        "start_time": "2021-10-13T17:54:35.891Z"
      },
      {
        "duration": -22363,
        "start_time": "2021-10-13T17:54:35.893Z"
      },
      {
        "duration": -22364,
        "start_time": "2021-10-13T17:54:35.895Z"
      },
      {
        "duration": -22366,
        "start_time": "2021-10-13T17:54:35.897Z"
      },
      {
        "duration": -22368,
        "start_time": "2021-10-13T17:54:35.900Z"
      },
      {
        "duration": -22369,
        "start_time": "2021-10-13T17:54:35.902Z"
      },
      {
        "duration": -22372,
        "start_time": "2021-10-13T17:54:35.906Z"
      },
      {
        "duration": -22373,
        "start_time": "2021-10-13T17:54:35.908Z"
      },
      {
        "duration": -22376,
        "start_time": "2021-10-13T17:54:35.911Z"
      },
      {
        "duration": -22378,
        "start_time": "2021-10-13T17:54:35.914Z"
      },
      {
        "duration": -22379,
        "start_time": "2021-10-13T17:54:35.916Z"
      },
      {
        "duration": -22381,
        "start_time": "2021-10-13T17:54:35.918Z"
      },
      {
        "duration": -22383,
        "start_time": "2021-10-13T17:54:35.921Z"
      },
      {
        "duration": -22384,
        "start_time": "2021-10-13T17:54:35.923Z"
      },
      {
        "duration": -22386,
        "start_time": "2021-10-13T17:54:35.926Z"
      },
      {
        "duration": -22387,
        "start_time": "2021-10-13T17:54:35.928Z"
      },
      {
        "duration": -22388,
        "start_time": "2021-10-13T17:54:35.930Z"
      },
      {
        "duration": -22389,
        "start_time": "2021-10-13T17:54:35.932Z"
      },
      {
        "duration": -22391,
        "start_time": "2021-10-13T17:54:35.935Z"
      },
      {
        "duration": -22392,
        "start_time": "2021-10-13T17:54:35.937Z"
      },
      {
        "duration": -22394,
        "start_time": "2021-10-13T17:54:35.939Z"
      },
      {
        "duration": -22395,
        "start_time": "2021-10-13T17:54:35.941Z"
      },
      {
        "duration": -22397,
        "start_time": "2021-10-13T17:54:35.944Z"
      },
      {
        "duration": 7,
        "start_time": "2021-10-13T17:56:00.003Z"
      },
      {
        "duration": 12,
        "start_time": "2021-10-13T17:56:45.722Z"
      },
      {
        "duration": 3,
        "start_time": "2021-10-13T17:57:56.527Z"
      },
      {
        "duration": 9,
        "start_time": "2021-10-13T17:58:12.609Z"
      },
      {
        "duration": 7,
        "start_time": "2021-10-13T17:59:30.792Z"
      },
      {
        "duration": 6,
        "start_time": "2021-10-13T17:59:45.923Z"
      },
      {
        "duration": 6,
        "start_time": "2021-10-13T18:00:13.877Z"
      },
      {
        "duration": 13,
        "start_time": "2021-10-13T18:00:32.221Z"
      },
      {
        "duration": 4,
        "start_time": "2021-10-13T18:06:22.791Z"
      },
      {
        "duration": 10,
        "start_time": "2021-10-13T18:07:00.935Z"
      },
      {
        "duration": 294,
        "start_time": "2021-10-13T18:08:14.690Z"
      },
      {
        "duration": 336,
        "start_time": "2021-10-13T18:08:39.116Z"
      },
      {
        "duration": 330,
        "start_time": "2021-10-13T18:08:44.788Z"
      },
      {
        "duration": 509,
        "start_time": "2021-10-13T18:08:48.745Z"
      },
      {
        "duration": 383,
        "start_time": "2021-10-13T18:08:55.207Z"
      },
      {
        "duration": 390,
        "start_time": "2021-10-13T18:08:59.300Z"
      },
      {
        "duration": 503,
        "start_time": "2021-10-13T18:11:28.664Z"
      },
      {
        "duration": 4,
        "start_time": "2021-10-13T18:20:50.076Z"
      },
      {
        "duration": 285,
        "start_time": "2021-10-13T18:20:57.189Z"
      },
      {
        "duration": 9,
        "start_time": "2021-10-13T18:21:02.506Z"
      },
      {
        "duration": 265,
        "start_time": "2021-10-13T18:23:13.192Z"
      },
      {
        "duration": 481,
        "start_time": "2021-10-13T18:23:28.332Z"
      },
      {
        "duration": 5,
        "start_time": "2021-10-13T18:33:37.354Z"
      },
      {
        "duration": 6,
        "start_time": "2021-10-13T18:33:42.388Z"
      },
      {
        "duration": 7,
        "start_time": "2021-10-13T18:34:03.812Z"
      },
      {
        "duration": 6,
        "start_time": "2021-10-13T18:34:04.526Z"
      },
      {
        "duration": 257,
        "start_time": "2021-10-13T18:35:45.419Z"
      },
      {
        "duration": 630,
        "start_time": "2021-10-13T18:37:06.965Z"
      },
      {
        "duration": 12,
        "start_time": "2021-10-13T18:37:14.626Z"
      },
      {
        "duration": 7,
        "start_time": "2021-10-13T18:37:15.038Z"
      },
      {
        "duration": 644,
        "start_time": "2021-10-13T18:37:43.331Z"
      },
      {
        "duration": 13,
        "start_time": "2021-10-13T18:39:45.565Z"
      },
      {
        "duration": 10,
        "start_time": "2021-10-13T18:41:58.784Z"
      },
      {
        "duration": 9,
        "start_time": "2021-10-13T18:54:42.476Z"
      },
      {
        "duration": 8,
        "start_time": "2021-10-13T18:54:45.935Z"
      },
      {
        "duration": 85,
        "start_time": "2021-10-13T18:56:06.189Z"
      },
      {
        "duration": 275,
        "start_time": "2021-10-13T18:56:12.857Z"
      },
      {
        "duration": 8,
        "start_time": "2021-10-13T18:57:03.920Z"
      },
      {
        "duration": 9,
        "start_time": "2021-10-13T18:57:54.064Z"
      },
      {
        "duration": 9,
        "start_time": "2021-10-13T19:01:59.321Z"
      },
      {
        "duration": 1088,
        "start_time": "2021-10-13T19:05:18.657Z"
      },
      {
        "duration": 6,
        "start_time": "2021-10-13T19:05:19.747Z"
      },
      {
        "duration": 79,
        "start_time": "2021-10-13T19:05:19.755Z"
      },
      {
        "duration": 10,
        "start_time": "2021-10-13T19:05:19.836Z"
      },
      {
        "duration": 7,
        "start_time": "2021-10-13T19:05:19.848Z"
      },
      {
        "duration": 13,
        "start_time": "2021-10-13T19:05:19.857Z"
      },
      {
        "duration": 694,
        "start_time": "2021-10-13T19:05:19.872Z"
      },
      {
        "duration": 3,
        "start_time": "2021-10-13T19:05:20.568Z"
      },
      {
        "duration": 14,
        "start_time": "2021-10-13T19:05:20.573Z"
      },
      {
        "duration": 9,
        "start_time": "2021-10-13T19:05:20.588Z"
      },
      {
        "duration": 8,
        "start_time": "2021-10-13T19:05:20.598Z"
      },
      {
        "duration": 13,
        "start_time": "2021-10-13T19:05:20.608Z"
      },
      {
        "duration": 21,
        "start_time": "2021-10-13T19:05:20.623Z"
      },
      {
        "duration": 8,
        "start_time": "2021-10-13T19:05:20.646Z"
      },
      {
        "duration": 15,
        "start_time": "2021-10-13T19:05:20.655Z"
      },
      {
        "duration": 11,
        "start_time": "2021-10-13T19:05:20.671Z"
      },
      {
        "duration": 23,
        "start_time": "2021-10-13T19:05:20.684Z"
      },
      {
        "duration": 13,
        "start_time": "2021-10-13T19:05:20.708Z"
      },
      {
        "duration": 8,
        "start_time": "2021-10-13T19:05:20.722Z"
      },
      {
        "duration": 9,
        "start_time": "2021-10-13T19:05:20.732Z"
      },
      {
        "duration": 24,
        "start_time": "2021-10-13T19:05:20.743Z"
      },
      {
        "duration": 19,
        "start_time": "2021-10-13T19:05:20.768Z"
      },
      {
        "duration": 14,
        "start_time": "2021-10-13T19:05:20.791Z"
      },
      {
        "duration": 381,
        "start_time": "2021-10-13T19:05:20.807Z"
      },
      {
        "duration": 4,
        "start_time": "2021-10-13T19:05:21.190Z"
      },
      {
        "duration": 18,
        "start_time": "2021-10-13T19:05:21.195Z"
      },
      {
        "duration": 365,
        "start_time": "2021-10-13T19:05:21.215Z"
      },
      {
        "duration": 13,
        "start_time": "2021-10-13T19:05:21.581Z"
      },
      {
        "duration": 16,
        "start_time": "2021-10-13T19:05:21.596Z"
      },
      {
        "duration": 7,
        "start_time": "2021-10-13T19:05:21.614Z"
      },
      {
        "duration": 31,
        "start_time": "2021-10-13T19:05:21.623Z"
      },
      {
        "duration": 19,
        "start_time": "2021-10-13T19:05:21.656Z"
      },
      {
        "duration": 14,
        "start_time": "2021-10-13T19:05:21.677Z"
      },
      {
        "duration": 4,
        "start_time": "2021-10-13T19:05:21.693Z"
      },
      {
        "duration": 6,
        "start_time": "2021-10-13T19:05:21.699Z"
      },
      {
        "duration": 12,
        "start_time": "2021-10-13T19:05:21.706Z"
      },
      {
        "duration": 202,
        "start_time": "2021-10-13T19:05:21.745Z"
      },
      {
        "duration": 197,
        "start_time": "2021-10-13T19:05:21.949Z"
      },
      {
        "duration": 458,
        "start_time": "2021-10-13T19:05:22.148Z"
      },
      {
        "duration": 212,
        "start_time": "2021-10-13T19:05:22.607Z"
      },
      {
        "duration": 311,
        "start_time": "2021-10-13T19:05:22.821Z"
      },
      {
        "duration": 15,
        "start_time": "2021-10-13T19:05:23.133Z"
      },
      {
        "duration": 8,
        "start_time": "2021-10-13T19:05:23.150Z"
      },
      {
        "duration": 253,
        "start_time": "2021-10-13T19:05:23.159Z"
      },
      {
        "duration": 6,
        "start_time": "2021-10-13T19:05:23.414Z"
      },
      {
        "duration": 23,
        "start_time": "2021-10-13T19:05:23.422Z"
      },
      {
        "duration": 8,
        "start_time": "2021-10-13T19:05:23.447Z"
      },
      {
        "duration": 23,
        "start_time": "2021-10-13T19:05:23.457Z"
      },
      {
        "duration": 295,
        "start_time": "2021-10-13T19:05:23.482Z"
      },
      {
        "duration": 5,
        "start_time": "2021-10-13T19:05:23.779Z"
      },
      {
        "duration": 26,
        "start_time": "2021-10-13T19:05:23.785Z"
      },
      {
        "duration": 15,
        "start_time": "2021-10-13T19:05:23.812Z"
      },
      {
        "duration": 26,
        "start_time": "2021-10-13T19:05:23.829Z"
      },
      {
        "duration": 22,
        "start_time": "2021-10-13T19:05:23.857Z"
      },
      {
        "duration": 368,
        "start_time": "2021-10-13T19:05:23.881Z"
      },
      {
        "duration": -22279,
        "start_time": "2021-10-13T19:05:46.529Z"
      },
      {
        "duration": -22281,
        "start_time": "2021-10-13T19:05:46.532Z"
      },
      {
        "duration": -22283,
        "start_time": "2021-10-13T19:05:46.535Z"
      },
      {
        "duration": -22283,
        "start_time": "2021-10-13T19:05:46.537Z"
      },
      {
        "duration": -22286,
        "start_time": "2021-10-13T19:05:46.540Z"
      },
      {
        "duration": -22298,
        "start_time": "2021-10-13T19:05:46.553Z"
      },
      {
        "duration": -22300,
        "start_time": "2021-10-13T19:05:46.556Z"
      },
      {
        "duration": -22302,
        "start_time": "2021-10-13T19:05:46.559Z"
      },
      {
        "duration": -22312,
        "start_time": "2021-10-13T19:05:46.570Z"
      },
      {
        "duration": 16,
        "start_time": "2021-10-13T19:05:51.459Z"
      },
      {
        "duration": 1101,
        "start_time": "2021-10-13T19:07:42.090Z"
      },
      {
        "duration": 8,
        "start_time": "2021-10-13T19:07:43.193Z"
      },
      {
        "duration": 62,
        "start_time": "2021-10-13T19:07:43.206Z"
      },
      {
        "duration": 9,
        "start_time": "2021-10-13T19:07:43.270Z"
      },
      {
        "duration": 17,
        "start_time": "2021-10-13T19:07:43.281Z"
      },
      {
        "duration": 15,
        "start_time": "2021-10-13T19:07:43.300Z"
      },
      {
        "duration": 619,
        "start_time": "2021-10-13T19:07:43.318Z"
      },
      {
        "duration": 3,
        "start_time": "2021-10-13T19:07:43.940Z"
      },
      {
        "duration": 12,
        "start_time": "2021-10-13T19:07:43.944Z"
      },
      {
        "duration": 9,
        "start_time": "2021-10-13T19:07:43.958Z"
      },
      {
        "duration": 10,
        "start_time": "2021-10-13T19:07:43.968Z"
      },
      {
        "duration": 10,
        "start_time": "2021-10-13T19:07:43.980Z"
      },
      {
        "duration": 15,
        "start_time": "2021-10-13T19:07:43.991Z"
      },
      {
        "duration": 10,
        "start_time": "2021-10-13T19:07:44.008Z"
      },
      {
        "duration": 25,
        "start_time": "2021-10-13T19:07:44.019Z"
      },
      {
        "duration": 4,
        "start_time": "2021-10-13T19:07:44.046Z"
      },
      {
        "duration": 10,
        "start_time": "2021-10-13T19:07:44.051Z"
      },
      {
        "duration": 8,
        "start_time": "2021-10-13T19:07:44.063Z"
      },
      {
        "duration": 12,
        "start_time": "2021-10-13T19:07:44.072Z"
      },
      {
        "duration": 8,
        "start_time": "2021-10-13T19:07:44.086Z"
      },
      {
        "duration": 11,
        "start_time": "2021-10-13T19:07:44.095Z"
      },
      {
        "duration": 4,
        "start_time": "2021-10-13T19:07:44.110Z"
      },
      {
        "duration": 34,
        "start_time": "2021-10-13T19:07:44.116Z"
      },
      {
        "duration": 396,
        "start_time": "2021-10-13T19:07:44.152Z"
      },
      {
        "duration": 4,
        "start_time": "2021-10-13T19:07:44.549Z"
      },
      {
        "duration": 21,
        "start_time": "2021-10-13T19:07:44.555Z"
      },
      {
        "duration": 380,
        "start_time": "2021-10-13T19:07:44.578Z"
      },
      {
        "duration": 12,
        "start_time": "2021-10-13T19:07:44.960Z"
      },
      {
        "duration": 10,
        "start_time": "2021-10-13T19:07:44.973Z"
      },
      {
        "duration": 7,
        "start_time": "2021-10-13T19:07:44.985Z"
      },
      {
        "duration": 12,
        "start_time": "2021-10-13T19:07:44.994Z"
      },
      {
        "duration": 37,
        "start_time": "2021-10-13T19:07:45.008Z"
      },
      {
        "duration": 20,
        "start_time": "2021-10-13T19:07:45.047Z"
      },
      {
        "duration": 17,
        "start_time": "2021-10-13T19:07:45.069Z"
      },
      {
        "duration": 8,
        "start_time": "2021-10-13T19:07:45.088Z"
      },
      {
        "duration": 7,
        "start_time": "2021-10-13T19:07:45.098Z"
      },
      {
        "duration": 18,
        "start_time": "2021-10-13T19:07:45.107Z"
      },
      {
        "duration": 212,
        "start_time": "2021-10-13T19:07:45.145Z"
      },
      {
        "duration": 203,
        "start_time": "2021-10-13T19:07:45.359Z"
      },
      {
        "duration": 439,
        "start_time": "2021-10-13T19:07:45.564Z"
      },
      {
        "duration": 210,
        "start_time": "2021-10-13T19:07:46.004Z"
      },
      {
        "duration": 317,
        "start_time": "2021-10-13T19:07:46.216Z"
      },
      {
        "duration": 14,
        "start_time": "2021-10-13T19:07:46.534Z"
      },
      {
        "duration": 7,
        "start_time": "2021-10-13T19:07:46.550Z"
      },
      {
        "duration": 262,
        "start_time": "2021-10-13T19:07:46.558Z"
      },
      {
        "duration": 5,
        "start_time": "2021-10-13T19:07:46.821Z"
      },
      {
        "duration": 17,
        "start_time": "2021-10-13T19:07:46.828Z"
      },
      {
        "duration": 5,
        "start_time": "2021-10-13T19:07:46.846Z"
      },
      {
        "duration": 4,
        "start_time": "2021-10-13T19:07:46.852Z"
      },
      {
        "duration": 271,
        "start_time": "2021-10-13T19:07:46.858Z"
      },
      {
        "duration": 16,
        "start_time": "2021-10-13T19:07:47.131Z"
      },
      {
        "duration": 13,
        "start_time": "2021-10-13T19:07:47.148Z"
      },
      {
        "duration": 4,
        "start_time": "2021-10-13T19:07:47.163Z"
      },
      {
        "duration": 13,
        "start_time": "2021-10-13T19:07:47.169Z"
      },
      {
        "duration": 16,
        "start_time": "2021-10-13T19:07:47.184Z"
      },
      {
        "duration": 356,
        "start_time": "2021-10-13T19:07:47.202Z"
      },
      {
        "duration": -22289,
        "start_time": "2021-10-13T19:08:09.849Z"
      },
      {
        "duration": -22291,
        "start_time": "2021-10-13T19:08:09.852Z"
      },
      {
        "duration": -22293,
        "start_time": "2021-10-13T19:08:09.855Z"
      },
      {
        "duration": -22296,
        "start_time": "2021-10-13T19:08:09.859Z"
      },
      {
        "duration": -22299,
        "start_time": "2021-10-13T19:08:09.863Z"
      },
      {
        "duration": -22302,
        "start_time": "2021-10-13T19:08:09.867Z"
      },
      {
        "duration": -22305,
        "start_time": "2021-10-13T19:08:09.870Z"
      },
      {
        "duration": -22307,
        "start_time": "2021-10-13T19:08:09.873Z"
      },
      {
        "duration": -22308,
        "start_time": "2021-10-13T19:08:09.875Z"
      },
      {
        "duration": 1109,
        "start_time": "2021-10-13T19:13:27.680Z"
      },
      {
        "duration": 6,
        "start_time": "2021-10-13T19:13:28.791Z"
      },
      {
        "duration": 61,
        "start_time": "2021-10-13T19:13:28.801Z"
      },
      {
        "duration": 10,
        "start_time": "2021-10-13T19:13:28.864Z"
      },
      {
        "duration": 8,
        "start_time": "2021-10-13T19:13:28.875Z"
      },
      {
        "duration": 9,
        "start_time": "2021-10-13T19:13:28.884Z"
      },
      {
        "duration": 598,
        "start_time": "2021-10-13T19:13:28.895Z"
      },
      {
        "duration": 4,
        "start_time": "2021-10-13T19:13:29.495Z"
      },
      {
        "duration": 12,
        "start_time": "2021-10-13T19:13:29.501Z"
      },
      {
        "duration": 11,
        "start_time": "2021-10-13T19:13:29.515Z"
      },
      {
        "duration": 20,
        "start_time": "2021-10-13T19:13:29.528Z"
      },
      {
        "duration": 8,
        "start_time": "2021-10-13T19:13:29.550Z"
      },
      {
        "duration": 9,
        "start_time": "2021-10-13T19:13:29.560Z"
      },
      {
        "duration": 9,
        "start_time": "2021-10-13T19:13:29.571Z"
      },
      {
        "duration": 13,
        "start_time": "2021-10-13T19:13:29.581Z"
      },
      {
        "duration": 4,
        "start_time": "2021-10-13T19:13:29.596Z"
      },
      {
        "duration": 11,
        "start_time": "2021-10-13T19:13:29.601Z"
      },
      {
        "duration": 6,
        "start_time": "2021-10-13T19:13:29.645Z"
      },
      {
        "duration": 7,
        "start_time": "2021-10-13T19:13:29.653Z"
      },
      {
        "duration": 7,
        "start_time": "2021-10-13T19:13:29.662Z"
      },
      {
        "duration": 11,
        "start_time": "2021-10-13T19:13:29.671Z"
      },
      {
        "duration": 4,
        "start_time": "2021-10-13T19:13:29.686Z"
      },
      {
        "duration": 11,
        "start_time": "2021-10-13T19:13:29.693Z"
      },
      {
        "duration": 429,
        "start_time": "2021-10-13T19:13:29.706Z"
      },
      {
        "duration": 7,
        "start_time": "2021-10-13T19:13:30.137Z"
      },
      {
        "duration": 39,
        "start_time": "2021-10-13T19:13:30.146Z"
      },
      {
        "duration": 377,
        "start_time": "2021-10-13T19:13:30.187Z"
      },
      {
        "duration": 14,
        "start_time": "2021-10-13T19:13:30.566Z"
      },
      {
        "duration": 13,
        "start_time": "2021-10-13T19:13:30.581Z"
      },
      {
        "duration": 17,
        "start_time": "2021-10-13T19:13:30.596Z"
      },
      {
        "duration": 19,
        "start_time": "2021-10-13T19:13:30.614Z"
      },
      {
        "duration": 9,
        "start_time": "2021-10-13T19:13:30.635Z"
      },
      {
        "duration": 21,
        "start_time": "2021-10-13T19:13:30.646Z"
      },
      {
        "duration": 23,
        "start_time": "2021-10-13T19:13:30.669Z"
      },
      {
        "duration": 29,
        "start_time": "2021-10-13T19:13:30.694Z"
      },
      {
        "duration": 8,
        "start_time": "2021-10-13T19:13:30.725Z"
      },
      {
        "duration": 18,
        "start_time": "2021-10-13T19:13:30.734Z"
      },
      {
        "duration": 37,
        "start_time": "2021-10-13T19:13:30.753Z"
      },
      {
        "duration": 206,
        "start_time": "2021-10-13T19:13:30.791Z"
      },
      {
        "duration": 198,
        "start_time": "2021-10-13T19:13:30.999Z"
      },
      {
        "duration": 403,
        "start_time": "2021-10-13T19:13:31.198Z"
      },
      {
        "duration": 204,
        "start_time": "2021-10-13T19:13:31.603Z"
      },
      {
        "duration": 323,
        "start_time": "2021-10-13T19:13:31.809Z"
      },
      {
        "duration": 12,
        "start_time": "2021-10-13T19:13:32.133Z"
      },
      {
        "duration": 15,
        "start_time": "2021-10-13T19:13:32.147Z"
      },
      {
        "duration": 264,
        "start_time": "2021-10-13T19:13:32.164Z"
      },
      {
        "duration": 6,
        "start_time": "2021-10-13T19:13:32.430Z"
      },
      {
        "duration": 7,
        "start_time": "2021-10-13T19:13:32.445Z"
      },
      {
        "duration": 7,
        "start_time": "2021-10-13T19:13:32.453Z"
      },
      {
        "duration": 4,
        "start_time": "2021-10-13T19:13:32.462Z"
      },
      {
        "duration": 282,
        "start_time": "2021-10-13T19:13:32.468Z"
      },
      {
        "duration": 6,
        "start_time": "2021-10-13T19:13:32.752Z"
      },
      {
        "duration": 10,
        "start_time": "2021-10-13T19:13:32.760Z"
      },
      {
        "duration": 5,
        "start_time": "2021-10-13T19:13:32.772Z"
      },
      {
        "duration": 10,
        "start_time": "2021-10-13T19:13:32.779Z"
      },
      {
        "duration": 7,
        "start_time": "2021-10-13T19:13:32.790Z"
      },
      {
        "duration": 337,
        "start_time": "2021-10-13T19:13:32.799Z"
      },
      {
        "duration": -22281,
        "start_time": "2021-10-13T19:13:55.419Z"
      },
      {
        "duration": -22283,
        "start_time": "2021-10-13T19:13:55.423Z"
      },
      {
        "duration": -22285,
        "start_time": "2021-10-13T19:13:55.426Z"
      },
      {
        "duration": -22286,
        "start_time": "2021-10-13T19:13:55.429Z"
      },
      {
        "duration": -22290,
        "start_time": "2021-10-13T19:13:55.434Z"
      },
      {
        "duration": -22292,
        "start_time": "2021-10-13T19:13:55.437Z"
      },
      {
        "duration": -22292,
        "start_time": "2021-10-13T19:13:55.439Z"
      },
      {
        "duration": -22294,
        "start_time": "2021-10-13T19:13:55.442Z"
      },
      {
        "duration": -22296,
        "start_time": "2021-10-13T19:13:55.445Z"
      },
      {
        "duration": 1491,
        "start_time": "2021-10-14T17:15:34.643Z"
      },
      {
        "duration": 9,
        "start_time": "2021-10-14T17:15:36.136Z"
      },
      {
        "duration": 61,
        "start_time": "2021-10-14T17:15:36.148Z"
      },
      {
        "duration": 23,
        "start_time": "2021-10-14T17:15:36.212Z"
      },
      {
        "duration": 12,
        "start_time": "2021-10-14T17:15:36.238Z"
      },
      {
        "duration": 13,
        "start_time": "2021-10-14T17:15:36.253Z"
      },
      {
        "duration": 968,
        "start_time": "2021-10-14T17:15:36.269Z"
      },
      {
        "duration": 4,
        "start_time": "2021-10-14T17:15:37.240Z"
      },
      {
        "duration": 12,
        "start_time": "2021-10-14T17:15:37.262Z"
      },
      {
        "duration": 12,
        "start_time": "2021-10-14T17:15:37.276Z"
      },
      {
        "duration": 9,
        "start_time": "2021-10-14T17:15:37.290Z"
      },
      {
        "duration": 10,
        "start_time": "2021-10-14T17:15:37.301Z"
      },
      {
        "duration": 48,
        "start_time": "2021-10-14T17:15:37.314Z"
      },
      {
        "duration": 10,
        "start_time": "2021-10-14T17:15:37.364Z"
      },
      {
        "duration": 20,
        "start_time": "2021-10-14T17:15:37.376Z"
      },
      {
        "duration": 8,
        "start_time": "2021-10-14T17:15:37.398Z"
      },
      {
        "duration": 15,
        "start_time": "2021-10-14T17:15:37.408Z"
      },
      {
        "duration": 46,
        "start_time": "2021-10-14T17:15:37.426Z"
      },
      {
        "duration": 11,
        "start_time": "2021-10-14T17:15:37.475Z"
      },
      {
        "duration": 10,
        "start_time": "2021-10-14T17:15:37.489Z"
      },
      {
        "duration": 18,
        "start_time": "2021-10-14T17:15:37.502Z"
      },
      {
        "duration": 7,
        "start_time": "2021-10-14T17:15:37.563Z"
      },
      {
        "duration": 18,
        "start_time": "2021-10-14T17:15:37.579Z"
      },
      {
        "duration": 661,
        "start_time": "2021-10-14T17:15:37.601Z"
      },
      {
        "duration": 6,
        "start_time": "2021-10-14T17:15:38.264Z"
      },
      {
        "duration": 25,
        "start_time": "2021-10-14T17:15:38.272Z"
      },
      {
        "duration": 612,
        "start_time": "2021-10-14T17:15:38.299Z"
      },
      {
        "duration": 18,
        "start_time": "2021-10-14T17:15:38.913Z"
      },
      {
        "duration": 30,
        "start_time": "2021-10-14T17:15:38.933Z"
      },
      {
        "duration": 12,
        "start_time": "2021-10-14T17:15:38.966Z"
      },
      {
        "duration": 20,
        "start_time": "2021-10-14T17:15:38.980Z"
      },
      {
        "duration": 5,
        "start_time": "2021-10-14T17:15:39.002Z"
      },
      {
        "duration": 56,
        "start_time": "2021-10-14T17:15:39.009Z"
      },
      {
        "duration": 20,
        "start_time": "2021-10-14T17:15:39.068Z"
      },
      {
        "duration": 29,
        "start_time": "2021-10-14T17:15:39.091Z"
      },
      {
        "duration": 24,
        "start_time": "2021-10-14T17:15:39.122Z"
      },
      {
        "duration": 20,
        "start_time": "2021-10-14T17:15:39.149Z"
      },
      {
        "duration": 25,
        "start_time": "2021-10-14T17:15:39.171Z"
      },
      {
        "duration": 346,
        "start_time": "2021-10-14T17:15:39.198Z"
      },
      {
        "duration": 369,
        "start_time": "2021-10-14T17:15:39.546Z"
      },
      {
        "duration": 623,
        "start_time": "2021-10-14T17:15:39.918Z"
      },
      {
        "duration": 371,
        "start_time": "2021-10-14T17:15:40.544Z"
      },
      {
        "duration": 455,
        "start_time": "2021-10-14T17:15:40.918Z"
      },
      {
        "duration": 12,
        "start_time": "2021-10-14T17:15:41.376Z"
      },
      {
        "duration": 31,
        "start_time": "2021-10-14T17:15:41.391Z"
      },
      {
        "duration": 385,
        "start_time": "2021-10-14T17:15:41.425Z"
      },
      {
        "duration": 7,
        "start_time": "2021-10-14T17:15:41.813Z"
      },
      {
        "duration": 33,
        "start_time": "2021-10-14T17:15:41.822Z"
      },
      {
        "duration": 31,
        "start_time": "2021-10-14T17:15:41.857Z"
      },
      {
        "duration": 20,
        "start_time": "2021-10-14T17:15:41.891Z"
      },
      {
        "duration": 422,
        "start_time": "2021-10-14T17:15:41.914Z"
      },
      {
        "duration": 8,
        "start_time": "2021-10-14T17:15:42.339Z"
      },
      {
        "duration": 23,
        "start_time": "2021-10-14T17:15:42.349Z"
      },
      {
        "duration": 18,
        "start_time": "2021-10-14T17:15:42.375Z"
      },
      {
        "duration": 39,
        "start_time": "2021-10-14T17:15:42.395Z"
      },
      {
        "duration": 31,
        "start_time": "2021-10-14T17:15:42.437Z"
      },
      {
        "duration": 446,
        "start_time": "2021-10-14T17:15:42.470Z"
      },
      {
        "duration": -24319,
        "start_time": "2021-10-14T17:16:07.238Z"
      },
      {
        "duration": -24326,
        "start_time": "2021-10-14T17:16:07.246Z"
      },
      {
        "duration": -24330,
        "start_time": "2021-10-14T17:16:07.252Z"
      },
      {
        "duration": -24336,
        "start_time": "2021-10-14T17:16:07.259Z"
      },
      {
        "duration": -24345,
        "start_time": "2021-10-14T17:16:07.269Z"
      },
      {
        "duration": -24350,
        "start_time": "2021-10-14T17:16:07.275Z"
      },
      {
        "duration": -24358,
        "start_time": "2021-10-14T17:16:07.285Z"
      },
      {
        "duration": -24369,
        "start_time": "2021-10-14T17:16:07.297Z"
      },
      {
        "duration": -24375,
        "start_time": "2021-10-14T17:16:07.304Z"
      },
      {
        "duration": 1503,
        "start_time": "2021-10-14T17:16:09.659Z"
      },
      {
        "duration": 9,
        "start_time": "2021-10-14T17:16:11.164Z"
      },
      {
        "duration": 63,
        "start_time": "2021-10-14T17:16:11.176Z"
      },
      {
        "duration": 17,
        "start_time": "2021-10-14T17:16:11.241Z"
      },
      {
        "duration": 17,
        "start_time": "2021-10-14T17:16:11.261Z"
      },
      {
        "duration": 19,
        "start_time": "2021-10-14T17:16:11.281Z"
      },
      {
        "duration": 672,
        "start_time": "2021-10-14T17:16:11.302Z"
      },
      {
        "duration": 4,
        "start_time": "2021-10-14T17:16:11.980Z"
      },
      {
        "duration": 15,
        "start_time": "2021-10-14T17:16:11.989Z"
      },
      {
        "duration": 16,
        "start_time": "2021-10-14T17:16:12.007Z"
      },
      {
        "duration": 41,
        "start_time": "2021-10-14T17:16:12.026Z"
      },
      {
        "duration": 11,
        "start_time": "2021-10-14T17:16:12.070Z"
      },
      {
        "duration": 12,
        "start_time": "2021-10-14T17:16:12.083Z"
      },
      {
        "duration": 12,
        "start_time": "2021-10-14T17:16:12.098Z"
      },
      {
        "duration": 52,
        "start_time": "2021-10-14T17:16:12.112Z"
      },
      {
        "duration": 4,
        "start_time": "2021-10-14T17:16:12.166Z"
      },
      {
        "duration": 34,
        "start_time": "2021-10-14T17:16:12.172Z"
      },
      {
        "duration": 16,
        "start_time": "2021-10-14T17:16:12.208Z"
      },
      {
        "duration": 20,
        "start_time": "2021-10-14T17:16:12.226Z"
      },
      {
        "duration": 17,
        "start_time": "2021-10-14T17:16:12.249Z"
      },
      {
        "duration": 24,
        "start_time": "2021-10-14T17:16:12.269Z"
      },
      {
        "duration": 12,
        "start_time": "2021-10-14T17:16:12.296Z"
      },
      {
        "duration": 14,
        "start_time": "2021-10-14T17:16:12.313Z"
      },
      {
        "duration": 683,
        "start_time": "2021-10-14T17:16:12.331Z"
      },
      {
        "duration": 6,
        "start_time": "2021-10-14T17:16:13.016Z"
      },
      {
        "duration": 37,
        "start_time": "2021-10-14T17:16:13.024Z"
      },
      {
        "duration": 644,
        "start_time": "2021-10-14T17:16:13.064Z"
      },
      {
        "duration": 18,
        "start_time": "2021-10-14T17:16:13.710Z"
      },
      {
        "duration": 34,
        "start_time": "2021-10-14T17:16:13.731Z"
      },
      {
        "duration": 15,
        "start_time": "2021-10-14T17:16:13.767Z"
      },
      {
        "duration": 18,
        "start_time": "2021-10-14T17:16:13.784Z"
      },
      {
        "duration": 414,
        "start_time": "2021-10-14T17:16:13.805Z"
      },
      {
        "duration": -24113,
        "start_time": "2021-10-14T17:16:38.335Z"
      },
      {
        "duration": -24126,
        "start_time": "2021-10-14T17:16:38.349Z"
      },
      {
        "duration": -24137,
        "start_time": "2021-10-14T17:16:38.361Z"
      },
      {
        "duration": -24143,
        "start_time": "2021-10-14T17:16:38.368Z"
      },
      {
        "duration": -24154,
        "start_time": "2021-10-14T17:16:38.380Z"
      },
      {
        "duration": -24169,
        "start_time": "2021-10-14T17:16:38.397Z"
      },
      {
        "duration": -24184,
        "start_time": "2021-10-14T17:16:38.413Z"
      },
      {
        "duration": -24198,
        "start_time": "2021-10-14T17:16:38.428Z"
      },
      {
        "duration": -24204,
        "start_time": "2021-10-14T17:16:38.435Z"
      },
      {
        "duration": -24214,
        "start_time": "2021-10-14T17:16:38.447Z"
      },
      {
        "duration": -24227,
        "start_time": "2021-10-14T17:16:38.461Z"
      },
      {
        "duration": -24233,
        "start_time": "2021-10-14T17:16:38.468Z"
      },
      {
        "duration": -24242,
        "start_time": "2021-10-14T17:16:38.479Z"
      },
      {
        "duration": -24247,
        "start_time": "2021-10-14T17:16:38.485Z"
      },
      {
        "duration": -24250,
        "start_time": "2021-10-14T17:16:38.489Z"
      },
      {
        "duration": -24251,
        "start_time": "2021-10-14T17:16:38.492Z"
      },
      {
        "duration": -24253,
        "start_time": "2021-10-14T17:16:38.495Z"
      },
      {
        "duration": -24258,
        "start_time": "2021-10-14T17:16:38.501Z"
      },
      {
        "duration": -24260,
        "start_time": "2021-10-14T17:16:38.505Z"
      },
      {
        "duration": -24262,
        "start_time": "2021-10-14T17:16:38.508Z"
      },
      {
        "duration": -24264,
        "start_time": "2021-10-14T17:16:38.511Z"
      },
      {
        "duration": -24269,
        "start_time": "2021-10-14T17:16:38.518Z"
      },
      {
        "duration": -24272,
        "start_time": "2021-10-14T17:16:38.522Z"
      },
      {
        "duration": -24275,
        "start_time": "2021-10-14T17:16:38.526Z"
      },
      {
        "duration": -24276,
        "start_time": "2021-10-14T17:16:38.529Z"
      },
      {
        "duration": -24280,
        "start_time": "2021-10-14T17:16:38.534Z"
      },
      {
        "duration": -24282,
        "start_time": "2021-10-14T17:16:38.538Z"
      },
      {
        "duration": -24284,
        "start_time": "2021-10-14T17:16:38.541Z"
      },
      {
        "duration": -24285,
        "start_time": "2021-10-14T17:16:38.547Z"
      },
      {
        "duration": -24291,
        "start_time": "2021-10-14T17:16:38.554Z"
      },
      {
        "duration": -24295,
        "start_time": "2021-10-14T17:16:38.559Z"
      },
      {
        "duration": -24299,
        "start_time": "2021-10-14T17:16:38.565Z"
      },
      {
        "duration": -24301,
        "start_time": "2021-10-14T17:16:38.568Z"
      },
      {
        "duration": -24303,
        "start_time": "2021-10-14T17:16:38.571Z"
      },
      {
        "duration": 15,
        "start_time": "2021-10-14T17:20:50.366Z"
      },
      {
        "duration": 5,
        "start_time": "2021-10-14T17:21:37.906Z"
      },
      {
        "duration": 19,
        "start_time": "2021-10-14T17:21:42.537Z"
      },
      {
        "duration": 8,
        "start_time": "2021-10-14T17:22:51.527Z"
      },
      {
        "duration": 21,
        "start_time": "2021-10-14T17:22:58.854Z"
      },
      {
        "duration": 1437,
        "start_time": "2021-10-14T17:24:25.897Z"
      },
      {
        "duration": 9,
        "start_time": "2021-10-14T17:24:27.337Z"
      },
      {
        "duration": 56,
        "start_time": "2021-10-14T17:24:27.349Z"
      },
      {
        "duration": 15,
        "start_time": "2021-10-14T17:24:27.408Z"
      },
      {
        "duration": 10,
        "start_time": "2021-10-14T17:24:27.425Z"
      },
      {
        "duration": 9,
        "start_time": "2021-10-14T17:24:27.437Z"
      },
      {
        "duration": 652,
        "start_time": "2021-10-14T17:24:27.449Z"
      },
      {
        "duration": 5,
        "start_time": "2021-10-14T17:24:28.105Z"
      },
      {
        "duration": 14,
        "start_time": "2021-10-14T17:24:28.113Z"
      },
      {
        "duration": 38,
        "start_time": "2021-10-14T17:24:28.129Z"
      },
      {
        "duration": 11,
        "start_time": "2021-10-14T17:24:28.170Z"
      },
      {
        "duration": 11,
        "start_time": "2021-10-14T17:24:28.183Z"
      },
      {
        "duration": 13,
        "start_time": "2021-10-14T17:24:28.196Z"
      },
      {
        "duration": 10,
        "start_time": "2021-10-14T17:24:28.212Z"
      },
      {
        "duration": 54,
        "start_time": "2021-10-14T17:24:28.224Z"
      },
      {
        "duration": 5,
        "start_time": "2021-10-14T17:24:28.280Z"
      },
      {
        "duration": 15,
        "start_time": "2021-10-14T17:24:28.287Z"
      },
      {
        "duration": 12,
        "start_time": "2021-10-14T17:24:28.305Z"
      },
      {
        "duration": 44,
        "start_time": "2021-10-14T17:24:28.319Z"
      },
      {
        "duration": 10,
        "start_time": "2021-10-14T17:24:28.366Z"
      },
      {
        "duration": 23,
        "start_time": "2021-10-14T17:24:28.378Z"
      },
      {
        "duration": 7,
        "start_time": "2021-10-14T17:24:28.404Z"
      },
      {
        "duration": 46,
        "start_time": "2021-10-14T17:24:28.417Z"
      },
      {
        "duration": 642,
        "start_time": "2021-10-14T17:24:28.467Z"
      },
      {
        "duration": 5,
        "start_time": "2021-10-14T17:24:29.112Z"
      },
      {
        "duration": 25,
        "start_time": "2021-10-14T17:24:29.120Z"
      },
      {
        "duration": 622,
        "start_time": "2021-10-14T17:24:29.162Z"
      },
      {
        "duration": 16,
        "start_time": "2021-10-14T17:24:29.787Z"
      },
      {
        "duration": 13,
        "start_time": "2021-10-14T17:24:29.806Z"
      },
      {
        "duration": 42,
        "start_time": "2021-10-14T17:24:29.821Z"
      },
      {
        "duration": 18,
        "start_time": "2021-10-14T17:24:29.866Z"
      },
      {
        "duration": 15,
        "start_time": "2021-10-14T17:24:29.887Z"
      },
      {
        "duration": 7,
        "start_time": "2021-10-14T17:24:29.904Z"
      },
      {
        "duration": 58,
        "start_time": "2021-10-14T17:24:29.913Z"
      },
      {
        "duration": 8,
        "start_time": "2021-10-14T17:24:29.974Z"
      },
      {
        "duration": 24,
        "start_time": "2021-10-14T17:24:29.984Z"
      },
      {
        "duration": 431,
        "start_time": "2021-10-14T17:24:30.011Z"
      },
      {
        "duration": -24213,
        "start_time": "2021-10-14T17:24:54.657Z"
      },
      {
        "duration": -24217,
        "start_time": "2021-10-14T17:24:54.663Z"
      },
      {
        "duration": -24220,
        "start_time": "2021-10-14T17:24:54.668Z"
      },
      {
        "duration": -24222,
        "start_time": "2021-10-14T17:24:54.671Z"
      },
      {
        "duration": -24235,
        "start_time": "2021-10-14T17:24:54.686Z"
      },
      {
        "duration": -24238,
        "start_time": "2021-10-14T17:24:54.690Z"
      },
      {
        "duration": -24241,
        "start_time": "2021-10-14T17:24:54.695Z"
      },
      {
        "duration": -24244,
        "start_time": "2021-10-14T17:24:54.699Z"
      },
      {
        "duration": -24245,
        "start_time": "2021-10-14T17:24:54.702Z"
      },
      {
        "duration": -24247,
        "start_time": "2021-10-14T17:24:54.705Z"
      },
      {
        "duration": -24253,
        "start_time": "2021-10-14T17:24:54.712Z"
      },
      {
        "duration": -24255,
        "start_time": "2021-10-14T17:24:54.716Z"
      },
      {
        "duration": -24257,
        "start_time": "2021-10-14T17:24:54.719Z"
      },
      {
        "duration": -24258,
        "start_time": "2021-10-14T17:24:54.722Z"
      },
      {
        "duration": -24263,
        "start_time": "2021-10-14T17:24:54.728Z"
      },
      {
        "duration": -24289,
        "start_time": "2021-10-14T17:24:54.755Z"
      },
      {
        "duration": -24291,
        "start_time": "2021-10-14T17:24:54.759Z"
      },
      {
        "duration": -24305,
        "start_time": "2021-10-14T17:24:54.774Z"
      },
      {
        "duration": -24310,
        "start_time": "2021-10-14T17:24:54.780Z"
      },
      {
        "duration": -24324,
        "start_time": "2021-10-14T17:24:54.796Z"
      },
      {
        "duration": -24334,
        "start_time": "2021-10-14T17:24:54.807Z"
      },
      {
        "duration": -24348,
        "start_time": "2021-10-14T17:24:54.822Z"
      },
      {
        "duration": -24354,
        "start_time": "2021-10-14T17:24:54.829Z"
      },
      {
        "duration": -24367,
        "start_time": "2021-10-14T17:24:54.844Z"
      },
      {
        "duration": -24381,
        "start_time": "2021-10-14T17:24:54.859Z"
      },
      {
        "duration": -24395,
        "start_time": "2021-10-14T17:24:54.874Z"
      },
      {
        "duration": -24399,
        "start_time": "2021-10-14T17:24:54.880Z"
      },
      {
        "duration": -24412,
        "start_time": "2021-10-14T17:24:54.894Z"
      },
      {
        "duration": -24415,
        "start_time": "2021-10-14T17:24:54.899Z"
      },
      {
        "duration": -24418,
        "start_time": "2021-10-14T17:24:54.904Z"
      },
      {
        "duration": -24422,
        "start_time": "2021-10-14T17:24:54.909Z"
      },
      {
        "duration": -24427,
        "start_time": "2021-10-14T17:24:54.915Z"
      },
      {
        "duration": 1448,
        "start_time": "2021-10-14T17:25:14.495Z"
      },
      {
        "duration": 15,
        "start_time": "2021-10-14T17:25:15.947Z"
      },
      {
        "duration": 54,
        "start_time": "2021-10-14T17:25:15.965Z"
      },
      {
        "duration": 15,
        "start_time": "2021-10-14T17:25:16.022Z"
      },
      {
        "duration": 8,
        "start_time": "2021-10-14T17:25:16.040Z"
      },
      {
        "duration": 10,
        "start_time": "2021-10-14T17:25:16.050Z"
      },
      {
        "duration": 703,
        "start_time": "2021-10-14T17:25:16.064Z"
      },
      {
        "duration": 4,
        "start_time": "2021-10-14T17:25:16.771Z"
      },
      {
        "duration": 14,
        "start_time": "2021-10-14T17:25:16.778Z"
      },
      {
        "duration": 13,
        "start_time": "2021-10-14T17:25:16.794Z"
      },
      {
        "duration": 11,
        "start_time": "2021-10-14T17:25:16.809Z"
      },
      {
        "duration": 42,
        "start_time": "2021-10-14T17:25:16.823Z"
      },
      {
        "duration": 11,
        "start_time": "2021-10-14T17:25:16.868Z"
      },
      {
        "duration": 13,
        "start_time": "2021-10-14T17:25:16.881Z"
      },
      {
        "duration": 20,
        "start_time": "2021-10-14T17:25:16.897Z"
      },
      {
        "duration": 4,
        "start_time": "2021-10-14T17:25:16.919Z"
      },
      {
        "duration": 43,
        "start_time": "2021-10-14T17:25:16.926Z"
      },
      {
        "duration": 11,
        "start_time": "2021-10-14T17:25:16.972Z"
      },
      {
        "duration": 10,
        "start_time": "2021-10-14T17:25:16.986Z"
      },
      {
        "duration": 10,
        "start_time": "2021-10-14T17:25:16.998Z"
      },
      {
        "duration": 56,
        "start_time": "2021-10-14T17:25:17.010Z"
      },
      {
        "duration": 6,
        "start_time": "2021-10-14T17:25:17.073Z"
      },
      {
        "duration": 16,
        "start_time": "2021-10-14T17:25:17.082Z"
      },
      {
        "duration": 657,
        "start_time": "2021-10-14T17:25:17.100Z"
      },
      {
        "duration": 6,
        "start_time": "2021-10-14T17:25:17.762Z"
      },
      {
        "duration": 19,
        "start_time": "2021-10-14T17:25:17.770Z"
      },
      {
        "duration": 662,
        "start_time": "2021-10-14T17:25:17.792Z"
      },
      {
        "duration": 23,
        "start_time": "2021-10-14T17:25:18.456Z"
      },
      {
        "duration": 14,
        "start_time": "2021-10-14T17:25:18.481Z"
      },
      {
        "duration": 13,
        "start_time": "2021-10-14T17:25:18.498Z"
      },
      {
        "duration": 51,
        "start_time": "2021-10-14T17:25:18.513Z"
      },
      {
        "duration": 17,
        "start_time": "2021-10-14T17:25:18.566Z"
      },
      {
        "duration": 7,
        "start_time": "2021-10-14T17:25:18.585Z"
      },
      {
        "duration": 26,
        "start_time": "2021-10-14T17:25:18.595Z"
      },
      {
        "duration": 39,
        "start_time": "2021-10-14T17:25:18.623Z"
      },
      {
        "duration": 22,
        "start_time": "2021-10-14T17:25:18.664Z"
      },
      {
        "duration": 437,
        "start_time": "2021-10-14T17:25:18.688Z"
      },
      {
        "duration": -24115,
        "start_time": "2021-10-14T17:25:43.243Z"
      },
      {
        "duration": -24129,
        "start_time": "2021-10-14T17:25:43.258Z"
      },
      {
        "duration": -24142,
        "start_time": "2021-10-14T17:25:43.273Z"
      },
      {
        "duration": -24153,
        "start_time": "2021-10-14T17:25:43.285Z"
      },
      {
        "duration": -24166,
        "start_time": "2021-10-14T17:25:43.300Z"
      },
      {
        "duration": -24172,
        "start_time": "2021-10-14T17:25:43.307Z"
      },
      {
        "duration": -24175,
        "start_time": "2021-10-14T17:25:43.311Z"
      },
      {
        "duration": -24176,
        "start_time": "2021-10-14T17:25:43.314Z"
      },
      {
        "duration": -24180,
        "start_time": "2021-10-14T17:25:43.319Z"
      },
      {
        "duration": -24184,
        "start_time": "2021-10-14T17:25:43.325Z"
      },
      {
        "duration": -24187,
        "start_time": "2021-10-14T17:25:43.329Z"
      },
      {
        "duration": -24189,
        "start_time": "2021-10-14T17:25:43.333Z"
      },
      {
        "duration": -24195,
        "start_time": "2021-10-14T17:25:43.340Z"
      },
      {
        "duration": -24198,
        "start_time": "2021-10-14T17:25:43.344Z"
      },
      {
        "duration": -24200,
        "start_time": "2021-10-14T17:25:43.348Z"
      },
      {
        "duration": -24202,
        "start_time": "2021-10-14T17:25:43.351Z"
      },
      {
        "duration": -24206,
        "start_time": "2021-10-14T17:25:43.357Z"
      },
      {
        "duration": -24208,
        "start_time": "2021-10-14T17:25:43.360Z"
      },
      {
        "duration": -24211,
        "start_time": "2021-10-14T17:25:43.364Z"
      },
      {
        "duration": -24212,
        "start_time": "2021-10-14T17:25:43.367Z"
      },
      {
        "duration": -24215,
        "start_time": "2021-10-14T17:25:43.372Z"
      },
      {
        "duration": -24217,
        "start_time": "2021-10-14T17:25:43.375Z"
      },
      {
        "duration": -24220,
        "start_time": "2021-10-14T17:25:43.379Z"
      },
      {
        "duration": -24221,
        "start_time": "2021-10-14T17:25:43.382Z"
      },
      {
        "duration": -24223,
        "start_time": "2021-10-14T17:25:43.385Z"
      },
      {
        "duration": -24225,
        "start_time": "2021-10-14T17:25:43.389Z"
      },
      {
        "duration": -24227,
        "start_time": "2021-10-14T17:25:43.392Z"
      },
      {
        "duration": -24229,
        "start_time": "2021-10-14T17:25:43.395Z"
      },
      {
        "duration": -24230,
        "start_time": "2021-10-14T17:25:43.398Z"
      },
      {
        "duration": -24243,
        "start_time": "2021-10-14T17:25:43.412Z"
      },
      {
        "duration": -24246,
        "start_time": "2021-10-14T17:25:43.416Z"
      },
      {
        "duration": -24250,
        "start_time": "2021-10-14T17:25:43.421Z"
      },
      {
        "duration": 266,
        "start_time": "2021-10-14T17:26:23.462Z"
      },
      {
        "duration": 18,
        "start_time": "2021-10-14T17:26:33.515Z"
      },
      {
        "duration": 17,
        "start_time": "2021-10-14T17:32:15.521Z"
      },
      {
        "duration": 14,
        "start_time": "2021-10-14T17:33:26.605Z"
      },
      {
        "duration": 21,
        "start_time": "2021-10-14T17:33:32.758Z"
      },
      {
        "duration": 5,
        "start_time": "2021-10-14T17:34:13.414Z"
      },
      {
        "duration": 311,
        "start_time": "2021-10-14T17:34:57.828Z"
      },
      {
        "duration": 14,
        "start_time": "2021-10-14T17:35:06.571Z"
      },
      {
        "duration": 16,
        "start_time": "2021-10-14T17:35:19.347Z"
      },
      {
        "duration": 8,
        "start_time": "2021-10-14T17:36:53.114Z"
      },
      {
        "duration": 6,
        "start_time": "2021-10-14T17:37:02.138Z"
      },
      {
        "duration": 19,
        "start_time": "2021-10-14T17:37:07.645Z"
      },
      {
        "duration": 112,
        "start_time": "2021-10-14T17:37:56.757Z"
      },
      {
        "duration": 142,
        "start_time": "2021-10-14T17:38:00.971Z"
      },
      {
        "duration": 16,
        "start_time": "2021-10-14T17:39:04.060Z"
      },
      {
        "duration": 23,
        "start_time": "2021-10-14T17:41:51.116Z"
      },
      {
        "duration": 16,
        "start_time": "2021-10-14T17:41:56.056Z"
      },
      {
        "duration": 94,
        "start_time": "2021-10-14T17:45:32.797Z"
      },
      {
        "duration": 421,
        "start_time": "2021-10-14T17:45:53.251Z"
      },
      {
        "duration": 710,
        "start_time": "2021-10-14T17:48:14.023Z"
      },
      {
        "duration": 351,
        "start_time": "2021-10-14T17:48:24.657Z"
      },
      {
        "duration": 486,
        "start_time": "2021-10-14T17:49:37.125Z"
      },
      {
        "duration": 352,
        "start_time": "2021-10-14T17:50:18.246Z"
      },
      {
        "duration": 424,
        "start_time": "2021-10-14T17:50:30.293Z"
      },
      {
        "duration": 7434,
        "start_time": "2021-10-14T18:01:53.461Z"
      },
      {
        "duration": 1501,
        "start_time": "2021-10-14T18:02:05.149Z"
      },
      {
        "duration": 14,
        "start_time": "2021-10-14T18:02:06.652Z"
      },
      {
        "duration": 54,
        "start_time": "2021-10-14T18:02:06.670Z"
      },
      {
        "duration": 19,
        "start_time": "2021-10-14T18:02:06.727Z"
      },
      {
        "duration": 12,
        "start_time": "2021-10-14T18:02:06.748Z"
      },
      {
        "duration": 9,
        "start_time": "2021-10-14T18:02:06.763Z"
      },
      {
        "duration": 1003,
        "start_time": "2021-10-14T18:02:06.774Z"
      },
      {
        "duration": 5,
        "start_time": "2021-10-14T18:02:07.782Z"
      },
      {
        "duration": 15,
        "start_time": "2021-10-14T18:02:07.790Z"
      },
      {
        "duration": 14,
        "start_time": "2021-10-14T18:02:07.808Z"
      },
      {
        "duration": 38,
        "start_time": "2021-10-14T18:02:07.824Z"
      },
      {
        "duration": 11,
        "start_time": "2021-10-14T18:02:07.864Z"
      },
      {
        "duration": 10,
        "start_time": "2021-10-14T18:02:07.878Z"
      },
      {
        "duration": 12,
        "start_time": "2021-10-14T18:02:07.890Z"
      },
      {
        "duration": 59,
        "start_time": "2021-10-14T18:02:07.905Z"
      },
      {
        "duration": 4,
        "start_time": "2021-10-14T18:02:07.967Z"
      },
      {
        "duration": 15,
        "start_time": "2021-10-14T18:02:07.973Z"
      },
      {
        "duration": 11,
        "start_time": "2021-10-14T18:02:07.991Z"
      },
      {
        "duration": 8,
        "start_time": "2021-10-14T18:02:08.004Z"
      },
      {
        "duration": 48,
        "start_time": "2021-10-14T18:02:08.015Z"
      },
      {
        "duration": 20,
        "start_time": "2021-10-14T18:02:08.066Z"
      },
      {
        "duration": 7,
        "start_time": "2021-10-14T18:02:08.089Z"
      },
      {
        "duration": 16,
        "start_time": "2021-10-14T18:02:08.102Z"
      },
      {
        "duration": 673,
        "start_time": "2021-10-14T18:02:08.122Z"
      },
      {
        "duration": 6,
        "start_time": "2021-10-14T18:02:08.797Z"
      },
      {
        "duration": 18,
        "start_time": "2021-10-14T18:02:08.805Z"
      },
      {
        "duration": 642,
        "start_time": "2021-10-14T18:02:08.826Z"
      },
      {
        "duration": 17,
        "start_time": "2021-10-14T18:02:09.470Z"
      },
      {
        "duration": 19,
        "start_time": "2021-10-14T18:02:09.489Z"
      },
      {
        "duration": 4,
        "start_time": "2021-10-14T18:02:09.511Z"
      },
      {
        "duration": 9,
        "start_time": "2021-10-14T18:02:09.518Z"
      },
      {
        "duration": 15,
        "start_time": "2021-10-14T18:02:09.562Z"
      },
      {
        "duration": 421,
        "start_time": "2021-10-14T18:02:09.580Z"
      },
      {
        "duration": 16,
        "start_time": "2021-10-14T18:02:10.004Z"
      },
      {
        "duration": 8,
        "start_time": "2021-10-14T18:02:10.023Z"
      },
      {
        "duration": 37,
        "start_time": "2021-10-14T18:02:10.033Z"
      },
      {
        "duration": 514,
        "start_time": "2021-10-14T18:02:10.073Z"
      },
      {
        "duration": -24063,
        "start_time": "2021-10-14T18:02:34.653Z"
      },
      {
        "duration": -24066,
        "start_time": "2021-10-14T18:02:34.657Z"
      },
      {
        "duration": -24070,
        "start_time": "2021-10-14T18:02:34.663Z"
      },
      {
        "duration": -24072,
        "start_time": "2021-10-14T18:02:34.667Z"
      },
      {
        "duration": -24074,
        "start_time": "2021-10-14T18:02:34.670Z"
      },
      {
        "duration": -24075,
        "start_time": "2021-10-14T18:02:34.672Z"
      },
      {
        "duration": -24084,
        "start_time": "2021-10-14T18:02:34.683Z"
      },
      {
        "duration": -24085,
        "start_time": "2021-10-14T18:02:34.686Z"
      },
      {
        "duration": -24087,
        "start_time": "2021-10-14T18:02:34.690Z"
      },
      {
        "duration": -24088,
        "start_time": "2021-10-14T18:02:34.692Z"
      },
      {
        "duration": -24091,
        "start_time": "2021-10-14T18:02:34.697Z"
      },
      {
        "duration": -24093,
        "start_time": "2021-10-14T18:02:34.700Z"
      },
      {
        "duration": -24094,
        "start_time": "2021-10-14T18:02:34.703Z"
      },
      {
        "duration": -24096,
        "start_time": "2021-10-14T18:02:34.706Z"
      },
      {
        "duration": -24098,
        "start_time": "2021-10-14T18:02:34.709Z"
      },
      {
        "duration": -24100,
        "start_time": "2021-10-14T18:02:34.713Z"
      },
      {
        "duration": -24111,
        "start_time": "2021-10-14T18:02:34.725Z"
      },
      {
        "duration": -24116,
        "start_time": "2021-10-14T18:02:34.731Z"
      },
      {
        "duration": -24118,
        "start_time": "2021-10-14T18:02:34.735Z"
      },
      {
        "duration": -24121,
        "start_time": "2021-10-14T18:02:34.740Z"
      },
      {
        "duration": -24124,
        "start_time": "2021-10-14T18:02:34.746Z"
      },
      {
        "duration": -24128,
        "start_time": "2021-10-14T18:02:34.751Z"
      },
      {
        "duration": -24130,
        "start_time": "2021-10-14T18:02:34.755Z"
      },
      {
        "duration": -24133,
        "start_time": "2021-10-14T18:02:34.759Z"
      },
      {
        "duration": -24136,
        "start_time": "2021-10-14T18:02:34.764Z"
      },
      {
        "duration": -24105,
        "start_time": "2021-10-14T18:02:34.767Z"
      },
      {
        "duration": -24106,
        "start_time": "2021-10-14T18:02:34.770Z"
      },
      {
        "duration": -24107,
        "start_time": "2021-10-14T18:02:34.773Z"
      },
      {
        "duration": -24109,
        "start_time": "2021-10-14T18:02:34.777Z"
      },
      {
        "duration": 8,
        "start_time": "2021-10-14T18:02:46.723Z"
      },
      {
        "duration": 7787,
        "start_time": "2021-10-14T18:02:48.351Z"
      },
      {
        "duration": 7482,
        "start_time": "2021-10-14T18:03:16.551Z"
      },
      {
        "duration": 1504,
        "start_time": "2021-10-14T18:03:51.718Z"
      },
      {
        "duration": 10,
        "start_time": "2021-10-14T18:03:53.225Z"
      },
      {
        "duration": 56,
        "start_time": "2021-10-14T18:03:53.261Z"
      },
      {
        "duration": 16,
        "start_time": "2021-10-14T18:03:53.319Z"
      },
      {
        "duration": 9,
        "start_time": "2021-10-14T18:03:53.337Z"
      },
      {
        "duration": 13,
        "start_time": "2021-10-14T18:03:53.349Z"
      },
      {
        "duration": 687,
        "start_time": "2021-10-14T18:03:53.366Z"
      },
      {
        "duration": 5,
        "start_time": "2021-10-14T18:03:54.064Z"
      },
      {
        "duration": 16,
        "start_time": "2021-10-14T18:03:54.071Z"
      },
      {
        "duration": 15,
        "start_time": "2021-10-14T18:03:54.090Z"
      },
      {
        "duration": 17,
        "start_time": "2021-10-14T18:03:54.107Z"
      },
      {
        "duration": 45,
        "start_time": "2021-10-14T18:03:54.127Z"
      },
      {
        "duration": 26,
        "start_time": "2021-10-14T18:03:54.175Z"
      },
      {
        "duration": 11,
        "start_time": "2021-10-14T18:03:54.204Z"
      },
      {
        "duration": 45,
        "start_time": "2021-10-14T18:03:54.218Z"
      },
      {
        "duration": 5,
        "start_time": "2021-10-14T18:03:54.266Z"
      },
      {
        "duration": 27,
        "start_time": "2021-10-14T18:03:54.274Z"
      },
      {
        "duration": 13,
        "start_time": "2021-10-14T18:03:54.303Z"
      },
      {
        "duration": 10,
        "start_time": "2021-10-14T18:03:54.318Z"
      },
      {
        "duration": 34,
        "start_time": "2021-10-14T18:03:54.330Z"
      },
      {
        "duration": 30,
        "start_time": "2021-10-14T18:03:54.367Z"
      },
      {
        "duration": 7,
        "start_time": "2021-10-14T18:03:54.405Z"
      },
      {
        "duration": 16,
        "start_time": "2021-10-14T18:03:54.417Z"
      },
      {
        "duration": 653,
        "start_time": "2021-10-14T18:03:54.463Z"
      },
      {
        "duration": 8,
        "start_time": "2021-10-14T18:03:55.118Z"
      },
      {
        "duration": 40,
        "start_time": "2021-10-14T18:03:55.129Z"
      },
      {
        "duration": 628,
        "start_time": "2021-10-14T18:03:55.172Z"
      },
      {
        "duration": 20,
        "start_time": "2021-10-14T18:03:55.803Z"
      },
      {
        "duration": 45,
        "start_time": "2021-10-14T18:03:55.826Z"
      },
      {
        "duration": 6,
        "start_time": "2021-10-14T18:03:55.874Z"
      },
      {
        "duration": 19,
        "start_time": "2021-10-14T18:03:55.883Z"
      },
      {
        "duration": 20,
        "start_time": "2021-10-14T18:03:55.905Z"
      },
      {
        "duration": 434,
        "start_time": "2021-10-14T18:03:55.927Z"
      },
      {
        "duration": 15,
        "start_time": "2021-10-14T18:03:56.364Z"
      },
      {
        "duration": 16,
        "start_time": "2021-10-14T18:03:56.381Z"
      },
      {
        "duration": 20,
        "start_time": "2021-10-14T18:03:56.399Z"
      },
      {
        "duration": 9,
        "start_time": "2021-10-14T18:03:56.422Z"
      },
      {
        "duration": 7634,
        "start_time": "2021-10-14T18:03:56.433Z"
      },
      {
        "duration": -24093,
        "start_time": "2021-10-14T18:04:28.163Z"
      },
      {
        "duration": -24098,
        "start_time": "2021-10-14T18:04:28.169Z"
      },
      {
        "duration": -24105,
        "start_time": "2021-10-14T18:04:28.178Z"
      },
      {
        "duration": -24107,
        "start_time": "2021-10-14T18:04:28.181Z"
      },
      {
        "duration": -24108,
        "start_time": "2021-10-14T18:04:28.184Z"
      },
      {
        "duration": -24114,
        "start_time": "2021-10-14T18:04:28.192Z"
      },
      {
        "duration": -24116,
        "start_time": "2021-10-14T18:04:28.195Z"
      },
      {
        "duration": -24120,
        "start_time": "2021-10-14T18:04:28.201Z"
      },
      {
        "duration": -24124,
        "start_time": "2021-10-14T18:04:28.206Z"
      },
      {
        "duration": -24129,
        "start_time": "2021-10-14T18:04:28.213Z"
      },
      {
        "duration": -24133,
        "start_time": "2021-10-14T18:04:28.218Z"
      },
      {
        "duration": -24137,
        "start_time": "2021-10-14T18:04:28.224Z"
      },
      {
        "duration": -24141,
        "start_time": "2021-10-14T18:04:28.230Z"
      },
      {
        "duration": -24144,
        "start_time": "2021-10-14T18:04:28.234Z"
      },
      {
        "duration": -24145,
        "start_time": "2021-10-14T18:04:28.237Z"
      },
      {
        "duration": -24148,
        "start_time": "2021-10-14T18:04:28.242Z"
      },
      {
        "duration": -24150,
        "start_time": "2021-10-14T18:04:28.245Z"
      },
      {
        "duration": -24160,
        "start_time": "2021-10-14T18:04:28.257Z"
      },
      {
        "duration": -24162,
        "start_time": "2021-10-14T18:04:28.260Z"
      },
      {
        "duration": -24163,
        "start_time": "2021-10-14T18:04:28.263Z"
      },
      {
        "duration": -24164,
        "start_time": "2021-10-14T18:04:28.265Z"
      },
      {
        "duration": -24166,
        "start_time": "2021-10-14T18:04:28.268Z"
      },
      {
        "duration": -24166,
        "start_time": "2021-10-14T18:04:28.270Z"
      },
      {
        "duration": -24171,
        "start_time": "2021-10-14T18:04:28.276Z"
      },
      {
        "duration": -24117,
        "start_time": "2021-10-14T18:04:28.279Z"
      },
      {
        "duration": -24118,
        "start_time": "2021-10-14T18:04:28.281Z"
      },
      {
        "duration": -24119,
        "start_time": "2021-10-14T18:04:28.284Z"
      },
      {
        "duration": -24121,
        "start_time": "2021-10-14T18:04:28.287Z"
      },
      {
        "duration": 19,
        "start_time": "2021-10-14T18:04:21.421Z"
      },
      {
        "duration": 7,
        "start_time": "2021-10-14T18:04:36.262Z"
      },
      {
        "duration": 22,
        "start_time": "2021-10-14T18:04:46.445Z"
      },
      {
        "duration": 329,
        "start_time": "2021-10-14T18:11:28.539Z"
      },
      {
        "duration": 495,
        "start_time": "2021-10-14T18:12:05.069Z"
      },
      {
        "duration": 393,
        "start_time": "2021-10-14T18:12:27.791Z"
      },
      {
        "duration": 403,
        "start_time": "2021-10-14T18:12:56.884Z"
      },
      {
        "duration": 425,
        "start_time": "2021-10-14T18:13:19.866Z"
      },
      {
        "duration": 478,
        "start_time": "2021-10-14T18:23:14.289Z"
      },
      {
        "duration": 434,
        "start_time": "2021-10-14T18:23:59.176Z"
      },
      {
        "duration": 522,
        "start_time": "2021-10-14T18:24:18.514Z"
      },
      {
        "duration": 5,
        "start_time": "2021-10-14T18:30:05.858Z"
      },
      {
        "duration": 5,
        "start_time": "2021-10-14T18:30:22.405Z"
      },
      {
        "duration": 7075,
        "start_time": "2021-10-14T18:32:45.921Z"
      },
      {
        "duration": 366,
        "start_time": "2021-10-14T18:33:34.586Z"
      },
      {
        "duration": 465,
        "start_time": "2021-10-14T18:33:50.161Z"
      },
      {
        "duration": 490,
        "start_time": "2021-10-14T18:34:12.336Z"
      },
      {
        "duration": 353,
        "start_time": "2021-10-14T18:51:23.338Z"
      },
      {
        "duration": 469,
        "start_time": "2021-10-14T18:51:43.745Z"
      },
      {
        "duration": 595,
        "start_time": "2021-10-14T18:52:16.812Z"
      },
      {
        "duration": 520,
        "start_time": "2021-10-14T18:52:35.431Z"
      },
      {
        "duration": 12,
        "start_time": "2021-10-14T18:57:46.084Z"
      },
      {
        "duration": 12,
        "start_time": "2021-10-14T18:58:00.646Z"
      },
      {
        "duration": 345,
        "start_time": "2021-10-14T18:58:48.462Z"
      },
      {
        "duration": 378,
        "start_time": "2021-10-14T18:58:56.274Z"
      },
      {
        "duration": 404,
        "start_time": "2021-10-14T18:59:44.698Z"
      },
      {
        "duration": 13,
        "start_time": "2021-10-14T19:00:48.203Z"
      },
      {
        "duration": 12,
        "start_time": "2021-10-14T19:01:04.977Z"
      },
      {
        "duration": 11,
        "start_time": "2021-10-14T19:01:43.101Z"
      },
      {
        "duration": 440,
        "start_time": "2021-10-14T19:02:57.563Z"
      },
      {
        "duration": 9,
        "start_time": "2021-10-14T19:06:24.423Z"
      },
      {
        "duration": 8,
        "start_time": "2021-10-14T19:06:37.985Z"
      },
      {
        "duration": 8,
        "start_time": "2021-10-14T19:06:47.214Z"
      },
      {
        "duration": 6,
        "start_time": "2021-10-14T19:14:52.802Z"
      },
      {
        "duration": 9,
        "start_time": "2021-10-14T19:15:12.674Z"
      },
      {
        "duration": 7,
        "start_time": "2021-10-14T19:15:56.656Z"
      },
      {
        "duration": 6,
        "start_time": "2021-10-14T19:16:19.819Z"
      },
      {
        "duration": 8,
        "start_time": "2021-10-14T19:16:24.585Z"
      },
      {
        "duration": 393,
        "start_time": "2021-10-14T19:22:02.857Z"
      },
      {
        "duration": 1521,
        "start_time": "2021-10-14T19:23:08.528Z"
      },
      {
        "duration": 9,
        "start_time": "2021-10-14T19:23:10.052Z"
      },
      {
        "duration": 83,
        "start_time": "2021-10-14T19:23:10.064Z"
      },
      {
        "duration": 16,
        "start_time": "2021-10-14T19:23:10.150Z"
      },
      {
        "duration": 9,
        "start_time": "2021-10-14T19:23:10.169Z"
      },
      {
        "duration": 14,
        "start_time": "2021-10-14T19:23:10.180Z"
      },
      {
        "duration": 693,
        "start_time": "2021-10-14T19:23:10.197Z"
      },
      {
        "duration": 4,
        "start_time": "2021-10-14T19:23:10.894Z"
      },
      {
        "duration": 18,
        "start_time": "2021-10-14T19:23:10.901Z"
      },
      {
        "duration": 14,
        "start_time": "2021-10-14T19:23:10.921Z"
      },
      {
        "duration": 31,
        "start_time": "2021-10-14T19:23:10.938Z"
      },
      {
        "duration": 12,
        "start_time": "2021-10-14T19:23:10.972Z"
      },
      {
        "duration": 11,
        "start_time": "2021-10-14T19:23:10.987Z"
      },
      {
        "duration": 12,
        "start_time": "2021-10-14T19:23:11.001Z"
      },
      {
        "duration": 55,
        "start_time": "2021-10-14T19:23:11.017Z"
      },
      {
        "duration": 6,
        "start_time": "2021-10-14T19:23:11.075Z"
      },
      {
        "duration": 17,
        "start_time": "2021-10-14T19:23:11.084Z"
      },
      {
        "duration": 13,
        "start_time": "2021-10-14T19:23:11.104Z"
      },
      {
        "duration": 8,
        "start_time": "2021-10-14T19:23:11.120Z"
      },
      {
        "duration": 37,
        "start_time": "2021-10-14T19:23:11.130Z"
      },
      {
        "duration": 18,
        "start_time": "2021-10-14T19:23:11.170Z"
      },
      {
        "duration": 6,
        "start_time": "2021-10-14T19:23:11.191Z"
      },
      {
        "duration": 58,
        "start_time": "2021-10-14T19:23:11.204Z"
      },
      {
        "duration": 666,
        "start_time": "2021-10-14T19:23:11.266Z"
      },
      {
        "duration": 6,
        "start_time": "2021-10-14T19:23:11.935Z"
      },
      {
        "duration": 32,
        "start_time": "2021-10-14T19:23:11.943Z"
      },
      {
        "duration": 645,
        "start_time": "2021-10-14T19:23:11.977Z"
      },
      {
        "duration": 17,
        "start_time": "2021-10-14T19:23:12.624Z"
      },
      {
        "duration": 21,
        "start_time": "2021-10-14T19:23:12.662Z"
      },
      {
        "duration": 8,
        "start_time": "2021-10-14T19:23:12.685Z"
      },
      {
        "duration": 11,
        "start_time": "2021-10-14T19:23:12.696Z"
      },
      {
        "duration": 17,
        "start_time": "2021-10-14T19:23:12.710Z"
      },
      {
        "duration": 474,
        "start_time": "2021-10-14T19:23:12.730Z"
      },
      {
        "duration": 16,
        "start_time": "2021-10-14T19:23:13.207Z"
      },
      {
        "duration": 7,
        "start_time": "2021-10-14T19:23:13.226Z"
      },
      {
        "duration": 38,
        "start_time": "2021-10-14T19:23:13.236Z"
      },
      {
        "duration": 12,
        "start_time": "2021-10-14T19:23:13.277Z"
      },
      {
        "duration": 21,
        "start_time": "2021-10-14T19:23:13.291Z"
      },
      {
        "duration": 464,
        "start_time": "2021-10-14T19:23:13.314Z"
      },
      {
        "duration": 727,
        "start_time": "2021-10-14T19:23:13.780Z"
      },
      {
        "duration": 7,
        "start_time": "2021-10-14T19:23:14.510Z"
      },
      {
        "duration": 462,
        "start_time": "2021-10-14T19:23:14.520Z"
      },
      {
        "duration": 504,
        "start_time": "2021-10-14T19:23:14.985Z"
      },
      {
        "duration": 13,
        "start_time": "2021-10-14T19:23:15.492Z"
      },
      {
        "duration": 12,
        "start_time": "2021-10-14T19:23:15.508Z"
      },
      {
        "duration": 550,
        "start_time": "2021-10-14T19:23:15.523Z"
      },
      {
        "duration": 7,
        "start_time": "2021-10-14T19:23:16.075Z"
      },
      {
        "duration": 4,
        "start_time": "2021-10-14T19:23:16.085Z"
      },
      {
        "duration": 392,
        "start_time": "2021-10-14T19:23:16.092Z"
      },
      {
        "duration": 9,
        "start_time": "2021-10-14T19:23:16.487Z"
      },
      {
        "duration": 16,
        "start_time": "2021-10-14T19:23:16.499Z"
      },
      {
        "duration": 16,
        "start_time": "2021-10-14T19:23:16.518Z"
      },
      {
        "duration": 37,
        "start_time": "2021-10-14T19:23:16.536Z"
      },
      {
        "duration": 30,
        "start_time": "2021-10-14T19:23:16.576Z"
      },
      {
        "duration": 460,
        "start_time": "2021-10-14T19:23:16.609Z"
      },
      {
        "duration": -24033,
        "start_time": "2021-10-14T19:23:41.105Z"
      },
      {
        "duration": -24046,
        "start_time": "2021-10-14T19:23:41.119Z"
      },
      {
        "duration": -24050,
        "start_time": "2021-10-14T19:23:41.125Z"
      },
      {
        "duration": -24053,
        "start_time": "2021-10-14T19:23:41.130Z"
      },
      {
        "duration": -24056,
        "start_time": "2021-10-14T19:23:41.134Z"
      },
      {
        "duration": -24058,
        "start_time": "2021-10-14T19:23:41.138Z"
      },
      {
        "duration": -24062,
        "start_time": "2021-10-14T19:23:41.143Z"
      },
      {
        "duration": -24064,
        "start_time": "2021-10-14T19:23:41.147Z"
      },
      {
        "duration": -24066,
        "start_time": "2021-10-14T19:23:41.150Z"
      },
      {
        "duration": 481,
        "start_time": "2021-10-14T19:23:46.615Z"
      },
      {
        "duration": 404,
        "start_time": "2021-10-14T19:24:08.863Z"
      },
      {
        "duration": 699,
        "start_time": "2021-10-14T19:24:21.582Z"
      },
      {
        "duration": 490,
        "start_time": "2021-10-14T19:24:31.335Z"
      },
      {
        "duration": 495,
        "start_time": "2021-10-14T19:25:00.848Z"
      },
      {
        "duration": 571,
        "start_time": "2021-10-14T19:25:27.383Z"
      },
      {
        "duration": 12,
        "start_time": "2021-10-14T19:31:05.366Z"
      },
      {
        "duration": 26,
        "start_time": "2021-10-14T19:31:15.630Z"
      },
      {
        "duration": 8,
        "start_time": "2021-10-14T19:31:32.167Z"
      },
      {
        "duration": 18,
        "start_time": "2021-10-14T19:35:41.751Z"
      },
      {
        "duration": 12,
        "start_time": "2021-10-14T19:35:42.851Z"
      },
      {
        "duration": 316,
        "start_time": "2021-10-14T19:40:00.314Z"
      },
      {
        "duration": 316,
        "start_time": "2021-10-14T19:41:45.958Z"
      },
      {
        "duration": 5,
        "start_time": "2021-10-14T19:42:11.707Z"
      },
      {
        "duration": 10,
        "start_time": "2021-10-14T19:42:24.011Z"
      },
      {
        "duration": 13,
        "start_time": "2021-10-14T19:53:53.368Z"
      },
      {
        "duration": 19,
        "start_time": "2021-10-14T19:54:13.087Z"
      },
      {
        "duration": 21,
        "start_time": "2021-10-14T19:58:00.519Z"
      },
      {
        "duration": 16,
        "start_time": "2021-10-14T19:58:51.654Z"
      },
      {
        "duration": 15,
        "start_time": "2021-10-14T19:58:56.496Z"
      },
      {
        "duration": 449,
        "start_time": "2021-10-14T19:59:32.195Z"
      },
      {
        "duration": 329,
        "start_time": "2021-10-14T20:00:49.586Z"
      },
      {
        "duration": 18,
        "start_time": "2021-10-14T20:01:57.863Z"
      },
      {
        "duration": 17,
        "start_time": "2021-10-14T20:01:59.361Z"
      },
      {
        "duration": 335,
        "start_time": "2021-10-14T20:02:03.113Z"
      },
      {
        "duration": 24,
        "start_time": "2021-10-14T20:02:18.352Z"
      },
      {
        "duration": 298,
        "start_time": "2021-10-14T20:02:24.143Z"
      },
      {
        "duration": 20,
        "start_time": "2021-10-14T20:04:26.394Z"
      },
      {
        "duration": 10,
        "start_time": "2021-10-14T20:04:43.129Z"
      },
      {
        "duration": 9,
        "start_time": "2021-10-14T20:04:43.999Z"
      },
      {
        "duration": 135,
        "start_time": "2021-10-14T20:05:19.022Z"
      },
      {
        "duration": 15,
        "start_time": "2021-10-14T20:05:32.694Z"
      },
      {
        "duration": 13,
        "start_time": "2021-10-14T20:09:13.533Z"
      },
      {
        "duration": 288,
        "start_time": "2021-10-14T20:13:56.334Z"
      },
      {
        "duration": 6,
        "start_time": "2021-10-14T20:14:05.752Z"
      },
      {
        "duration": 6,
        "start_time": "2021-10-14T20:14:12.985Z"
      },
      {
        "duration": 18,
        "start_time": "2021-10-14T20:16:23.661Z"
      },
      {
        "duration": 10,
        "start_time": "2021-10-14T20:16:30.065Z"
      },
      {
        "duration": 6,
        "start_time": "2021-10-14T20:18:52.184Z"
      },
      {
        "duration": 10,
        "start_time": "2021-10-14T20:18:58.046Z"
      },
      {
        "duration": 296,
        "start_time": "2021-10-14T20:22:45.715Z"
      },
      {
        "duration": 10,
        "start_time": "2021-10-14T20:22:55.138Z"
      },
      {
        "duration": 8,
        "start_time": "2021-10-14T20:25:24.846Z"
      },
      {
        "duration": 15,
        "start_time": "2021-10-14T20:26:51.194Z"
      },
      {
        "duration": 12,
        "start_time": "2021-10-14T20:27:14.966Z"
      },
      {
        "duration": 1556,
        "start_time": "2021-10-14T20:35:20.769Z"
      },
      {
        "duration": 9,
        "start_time": "2021-10-14T20:35:22.328Z"
      },
      {
        "duration": 81,
        "start_time": "2021-10-14T20:35:22.340Z"
      },
      {
        "duration": 22,
        "start_time": "2021-10-14T20:35:22.425Z"
      },
      {
        "duration": 9,
        "start_time": "2021-10-14T20:35:22.450Z"
      },
      {
        "duration": 9,
        "start_time": "2021-10-14T20:35:22.461Z"
      },
      {
        "duration": 836,
        "start_time": "2021-10-14T20:35:22.473Z"
      },
      {
        "duration": 5,
        "start_time": "2021-10-14T20:35:23.313Z"
      },
      {
        "duration": 14,
        "start_time": "2021-10-14T20:35:23.321Z"
      },
      {
        "duration": 30,
        "start_time": "2021-10-14T20:35:23.338Z"
      },
      {
        "duration": 12,
        "start_time": "2021-10-14T20:35:23.371Z"
      },
      {
        "duration": 11,
        "start_time": "2021-10-14T20:35:23.385Z"
      },
      {
        "duration": 12,
        "start_time": "2021-10-14T20:35:23.399Z"
      },
      {
        "duration": 15,
        "start_time": "2021-10-14T20:35:23.413Z"
      },
      {
        "duration": 21,
        "start_time": "2021-10-14T20:35:23.463Z"
      },
      {
        "duration": 5,
        "start_time": "2021-10-14T20:35:23.486Z"
      },
      {
        "duration": 15,
        "start_time": "2021-10-14T20:35:23.493Z"
      },
      {
        "duration": 11,
        "start_time": "2021-10-14T20:35:23.511Z"
      },
      {
        "duration": 45,
        "start_time": "2021-10-14T20:35:23.524Z"
      },
      {
        "duration": 12,
        "start_time": "2021-10-14T20:35:23.572Z"
      },
      {
        "duration": 16,
        "start_time": "2021-10-14T20:35:23.586Z"
      },
      {
        "duration": 6,
        "start_time": "2021-10-14T20:35:23.605Z"
      },
      {
        "duration": 47,
        "start_time": "2021-10-14T20:35:23.617Z"
      },
      {
        "duration": 638,
        "start_time": "2021-10-14T20:35:23.668Z"
      },
      {
        "duration": 6,
        "start_time": "2021-10-14T20:35:24.308Z"
      },
      {
        "duration": 19,
        "start_time": "2021-10-14T20:35:24.316Z"
      },
      {
        "duration": 637,
        "start_time": "2021-10-14T20:35:24.337Z"
      },
      {
        "duration": 16,
        "start_time": "2021-10-14T20:35:24.977Z"
      },
      {
        "duration": 24,
        "start_time": "2021-10-14T20:35:24.995Z"
      },
      {
        "duration": 4,
        "start_time": "2021-10-14T20:35:25.022Z"
      },
      {
        "duration": 38,
        "start_time": "2021-10-14T20:35:25.028Z"
      },
      {
        "duration": 22,
        "start_time": "2021-10-14T20:35:25.068Z"
      },
      {
        "duration": 456,
        "start_time": "2021-10-14T20:35:25.092Z"
      },
      {
        "duration": 26,
        "start_time": "2021-10-14T20:35:25.551Z"
      },
      {
        "duration": 9,
        "start_time": "2021-10-14T20:35:25.579Z"
      },
      {
        "duration": 16,
        "start_time": "2021-10-14T20:35:25.590Z"
      },
      {
        "duration": 10,
        "start_time": "2021-10-14T20:35:25.608Z"
      },
      {
        "duration": 7,
        "start_time": "2021-10-14T20:35:25.620Z"
      },
      {
        "duration": 466,
        "start_time": "2021-10-14T20:35:25.629Z"
      },
      {
        "duration": 649,
        "start_time": "2021-10-14T20:35:26.097Z"
      },
      {
        "duration": 5,
        "start_time": "2021-10-14T20:35:26.748Z"
      },
      {
        "duration": 466,
        "start_time": "2021-10-14T20:35:26.755Z"
      },
      {
        "duration": 584,
        "start_time": "2021-10-14T20:35:27.223Z"
      },
      {
        "duration": 12,
        "start_time": "2021-10-14T20:35:27.809Z"
      },
      {
        "duration": 10,
        "start_time": "2021-10-14T20:35:27.824Z"
      },
      {
        "duration": 513,
        "start_time": "2021-10-14T20:35:27.837Z"
      },
      {
        "duration": 12,
        "start_time": "2021-10-14T20:35:28.353Z"
      },
      {
        "duration": 481,
        "start_time": "2021-10-14T20:35:28.368Z"
      },
      {
        "duration": 10,
        "start_time": "2021-10-14T20:35:28.852Z"
      },
      {
        "duration": 17,
        "start_time": "2021-10-14T20:35:28.864Z"
      },
      {
        "duration": 17,
        "start_time": "2021-10-14T20:35:28.883Z"
      },
      {
        "duration": 11,
        "start_time": "2021-10-14T20:35:28.903Z"
      },
      {
        "duration": 48,
        "start_time": "2021-10-14T20:35:28.918Z"
      },
      {
        "duration": 14,
        "start_time": "2021-10-14T20:35:28.969Z"
      },
      {
        "duration": 30,
        "start_time": "2021-10-14T20:35:28.986Z"
      },
      {
        "duration": 17,
        "start_time": "2021-10-14T20:35:29.019Z"
      },
      {
        "duration": 23,
        "start_time": "2021-10-14T20:35:29.040Z"
      },
      {
        "duration": 14,
        "start_time": "2021-10-14T20:35:29.065Z"
      },
      {
        "duration": 11,
        "start_time": "2021-10-14T20:35:29.082Z"
      },
      {
        "duration": 9,
        "start_time": "2021-10-14T20:35:29.096Z"
      },
      {
        "duration": 20,
        "start_time": "2021-10-14T20:35:29.107Z"
      },
      {
        "duration": 39,
        "start_time": "2021-10-14T20:35:29.130Z"
      },
      {
        "duration": 1592,
        "start_time": "2021-10-15T07:02:57.795Z"
      },
      {
        "duration": 14,
        "start_time": "2021-10-15T07:02:59.390Z"
      },
      {
        "duration": 87,
        "start_time": "2021-10-15T07:02:59.407Z"
      },
      {
        "duration": 24,
        "start_time": "2021-10-15T07:02:59.498Z"
      },
      {
        "duration": 21,
        "start_time": "2021-10-15T07:02:59.525Z"
      },
      {
        "duration": 26,
        "start_time": "2021-10-15T07:02:59.549Z"
      },
      {
        "duration": 55010,
        "start_time": "2021-10-15T07:02:59.577Z"
      },
      {
        "duration": 9,
        "start_time": "2021-10-15T07:03:54.591Z"
      },
      {
        "duration": 19,
        "start_time": "2021-10-15T07:03:54.603Z"
      },
      {
        "duration": 13,
        "start_time": "2021-10-15T07:03:54.624Z"
      },
      {
        "duration": 9,
        "start_time": "2021-10-15T07:03:54.640Z"
      },
      {
        "duration": 12,
        "start_time": "2021-10-15T07:03:54.652Z"
      },
      {
        "duration": 11,
        "start_time": "2021-10-15T07:03:54.700Z"
      },
      {
        "duration": 14,
        "start_time": "2021-10-15T07:03:54.713Z"
      },
      {
        "duration": 22,
        "start_time": "2021-10-15T07:03:54.729Z"
      },
      {
        "duration": 5,
        "start_time": "2021-10-15T07:03:54.754Z"
      },
      {
        "duration": 50,
        "start_time": "2021-10-15T07:03:54.762Z"
      },
      {
        "duration": 12,
        "start_time": "2021-10-15T07:03:54.814Z"
      },
      {
        "duration": 11,
        "start_time": "2021-10-15T07:03:54.829Z"
      },
      {
        "duration": 11,
        "start_time": "2021-10-15T07:03:54.843Z"
      },
      {
        "duration": 56,
        "start_time": "2021-10-15T07:03:54.857Z"
      },
      {
        "duration": 15,
        "start_time": "2021-10-15T07:03:54.915Z"
      },
      {
        "duration": 15,
        "start_time": "2021-10-15T07:03:54.936Z"
      },
      {
        "duration": 657,
        "start_time": "2021-10-15T07:03:54.954Z"
      },
      {
        "duration": 6,
        "start_time": "2021-10-15T07:03:55.614Z"
      },
      {
        "duration": 18,
        "start_time": "2021-10-15T07:03:55.623Z"
      },
      {
        "duration": 638,
        "start_time": "2021-10-15T07:03:55.644Z"
      },
      {
        "duration": 28,
        "start_time": "2021-10-15T07:03:56.285Z"
      },
      {
        "duration": 18,
        "start_time": "2021-10-15T07:03:56.316Z"
      },
      {
        "duration": 4,
        "start_time": "2021-10-15T07:03:56.337Z"
      },
      {
        "duration": 11,
        "start_time": "2021-10-15T07:03:56.343Z"
      },
      {
        "duration": 45,
        "start_time": "2021-10-15T07:03:56.356Z"
      },
      {
        "duration": 428,
        "start_time": "2021-10-15T07:03:56.403Z"
      },
      {
        "duration": 14,
        "start_time": "2021-10-15T07:03:56.834Z"
      },
      {
        "duration": 8,
        "start_time": "2021-10-15T07:03:56.850Z"
      },
      {
        "duration": 16,
        "start_time": "2021-10-15T07:03:56.860Z"
      },
      {
        "duration": 6,
        "start_time": "2021-10-15T07:03:56.900Z"
      },
      {
        "duration": 7,
        "start_time": "2021-10-15T07:03:56.909Z"
      },
      {
        "duration": 422,
        "start_time": "2021-10-15T07:03:56.918Z"
      },
      {
        "duration": 695,
        "start_time": "2021-10-15T07:03:57.342Z"
      },
      {
        "duration": 5,
        "start_time": "2021-10-15T07:03:58.039Z"
      },
      {
        "duration": 435,
        "start_time": "2021-10-15T07:03:58.047Z"
      },
      {
        "duration": 532,
        "start_time": "2021-10-15T07:03:58.485Z"
      },
      {
        "duration": 11,
        "start_time": "2021-10-15T07:03:59.020Z"
      },
      {
        "duration": 9,
        "start_time": "2021-10-15T07:03:59.034Z"
      },
      {
        "duration": 496,
        "start_time": "2021-10-15T07:03:59.046Z"
      },
      {
        "duration": 7,
        "start_time": "2021-10-15T07:03:59.544Z"
      },
      {
        "duration": 515,
        "start_time": "2021-10-15T07:03:59.554Z"
      },
      {
        "duration": 7,
        "start_time": "2021-10-15T07:04:00.072Z"
      },
      {
        "duration": 30,
        "start_time": "2021-10-15T07:04:00.081Z"
      },
      {
        "duration": 22,
        "start_time": "2021-10-15T07:04:00.114Z"
      },
      {
        "duration": 19,
        "start_time": "2021-10-15T07:04:00.139Z"
      },
      {
        "duration": 14,
        "start_time": "2021-10-15T07:04:00.161Z"
      },
      {
        "duration": 29,
        "start_time": "2021-10-15T07:04:00.178Z"
      },
      {
        "duration": 5,
        "start_time": "2021-10-15T07:04:00.210Z"
      },
      {
        "duration": 28,
        "start_time": "2021-10-15T07:04:00.217Z"
      },
      {
        "duration": 11,
        "start_time": "2021-10-15T07:04:00.248Z"
      },
      {
        "duration": 17,
        "start_time": "2021-10-15T07:04:00.261Z"
      },
      {
        "duration": 25,
        "start_time": "2021-10-15T07:04:00.281Z"
      },
      {
        "duration": 22,
        "start_time": "2021-10-15T07:04:00.309Z"
      },
      {
        "duration": 19,
        "start_time": "2021-10-15T07:04:00.333Z"
      },
      {
        "duration": 20,
        "start_time": "2021-10-15T07:04:00.354Z"
      }
    ],
    "kernelspec": {
      "display_name": "Python 3 (ipykernel)",
      "language": "python",
      "name": "python3"
    },
    "language_info": {
      "codemirror_mode": {
        "name": "ipython",
        "version": 3
      },
      "file_extension": ".py",
      "mimetype": "text/x-python",
      "name": "python",
      "nbconvert_exporter": "python",
      "pygments_lexer": "ipython3",
      "version": "3.9.7"
    },
    "toc": {
      "base_numbering": 1,
      "nav_menu": {},
      "number_sections": true,
      "sideBar": true,
      "skip_h1_title": true,
      "title_cell": "Table of Contents",
      "title_sidebar": "Contents",
      "toc_cell": false,
      "toc_position": {},
      "toc_section_display": true,
      "toc_window_display": false
    },
    "colab": {
      "name": "hypothesis_and_ab_testing.ipynb",
      "provenance": [],
      "include_colab_link": true
    }
  },
  "nbformat": 4,
  "nbformat_minor": 0
}