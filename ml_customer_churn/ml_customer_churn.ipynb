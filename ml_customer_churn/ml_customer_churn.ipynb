{
  "cells": [
    {
      "cell_type": "markdown",
      "metadata": {
        "id": "view-in-github",
        "colab_type": "text"
      },
      "source": [
        "<a href=\"https://colab.research.google.com/github/GrichinNikita2019/yandex_praktikum_da/blob/main/ml_customer_churn/ml_customer_churn.ipynb\" target=\"_parent\"><img src=\"https://colab.research.google.com/assets/colab-badge.svg\" alt=\"Open In Colab\"/></a>"
      ]
    },
    {
      "cell_type": "markdown",
      "metadata": {
        "id": "IuoEC-Ig3GBI"
      },
      "source": [
        "# Анализ взаимодействия с клиентами в сети фитнес-центров «Культурист-датасаентист»\n",
        "\n",
        "**Задачи проекта**:\n",
        "* Научиться прогнозировать вероятность оттока (на уровне следующего месяца) для каждого клиента,\n",
        "* Сформировать типичные портреты клиентов: выделить несколько наиболее ярких групп и охарактеризовать их основные свойства,\n",
        "* Проанализировать основные признаки, наиболее сильно влияющие на отток,\n",
        "* Сформулировать основные выводы и разработать рекомендации по повышению качества работы с клиентами:\n",
        "    1. Выделить целевые группы клиентов;\n",
        "    2. Предложить меры по снижению оттока;\n",
        "    3. Определить другие особенности взаимодействия с клиентами.\n",
        "\n",
        "**План работы:**\n",
        "1. Шаг 1. Загрузить данные и подготовить их к анализу,\n",
        "2. Шаг 2. Провести исследовательский анализ данных (EDA),\n",
        "3. Шаг 3. Построить модель прогнозирования оттока клиентов,\n",
        "4. Шаг 4. Сделать кластеризацию клиентов,\n",
        "5. Шаг 5. Сформулировать выводы и сделать базовые рекомендации по работе с клиентами.\n",
        "\n",
        "**Описание данных:**\n",
        "\n",
        "В нашем распоряжении датасет gym_churn.\n",
        "\n",
        "**Структура данных:**\n",
        "\n",
        "* Churn — *факт оттока в текущем месяце*\n",
        "* Текущие поля в датасете:*\n",
        "    * gender — *пол*\n",
        "    * Near_Location — *проживание или работа в районе, где находится фитнес-центр*\n",
        "    * Partner — *сотрудник компании-партнёра клуба (сотрудничество с компаниями, чьи сотрудники могут получать скидки на абонемент — в таком случае фитнес-центр хранит информацию о работодателе клиента)*\n",
        "    * Promo_friends — *факт первоначальной записи в рамках акции «приведи друга» (использовал промо-код от знакомого при оплате первого абонемента)*\n",
        "    * Phone — *наличие контактного телефона*\n",
        "    * Age — *возраст*\n",
        "    * Lifetime — *время с момента первого обращения в фитнес-центр (в месяцах)*\n",
        "* Информация на основе журнала посещений, покупок и информация о текущем статусе абонемента клиента:*\n",
        "    * Contract_period — *длительность текущего действующего абонемента (месяц, 3 месяца, 6 месяцев, год)*\n",
        "    * Month_to_end_contract — *срок до окончания текущего действующего абонемента (в месяцах)*\n",
        "    * Group_visits — *факт посещения групповых занятий*\n",
        "    * Avg_class_frequency_total — *средняя частота посещений в неделю за все время с начала действия абонемента*\n",
        "    * Avg_class_frequency_current_month — *средняя частота посещений в неделю за предыдущий месяц*\n",
        "    * Avg_additional_charges_total — *суммарная выручка от других услуг фитнес-центра: кафе, спорт-товары, косметический и массажный салон*"
      ]
    },
    {
      "cell_type": "markdown",
      "metadata": {
        "id": "fwcSqMg23GBN"
      },
      "source": [
        "## Изучение данных из файла"
      ]
    },
    {
      "cell_type": "markdown",
      "metadata": {
        "id": "OnwthYvr3GBO"
      },
      "source": [
        "### Импорт библиотек, настройка отображения данных и загрузка данных"
      ]
    },
    {
      "cell_type": "code",
      "execution_count": null,
      "metadata": {
        "id": "531HoBUd3GBP"
      },
      "outputs": [],
      "source": [
        "import pandas as pd\n",
        "import matplotlib.pyplot as plt\n",
        "import seaborn as sns\n",
        "from pandas.plotting import register_matplotlib_converters\n",
        "\n",
        "from sklearn.model_selection import train_test_split\n",
        "from sklearn.preprocessing import StandardScaler\n",
        "from sklearn.metrics import accuracy_score, precision_score, recall_score, f1_score, roc_auc_score\n",
        "from sklearn.linear_model import LogisticRegression\n",
        "from sklearn.ensemble import RandomForestClassifier\n",
        "from sklearn.cluster import KMeans\n",
        "from sklearn.metrics import silhouette_score\n",
        "from scipy.cluster.hierarchy import dendrogram, linkage\n",
        "import warnings"
      ]
    },
    {
      "cell_type": "code",
      "execution_count": null,
      "metadata": {
        "id": "cnMYUaCU3GBR"
      },
      "outputs": [],
      "source": [
        "pd.options.display.float_format = '{:,.2f}'.format\n",
        "pd.set_option('display.float_format', lambda x: '%.3f' % x)\n",
        "%matplotlib inline\n",
        "plt.style.use('dark_background')\n",
        "register_matplotlib_converters()\n",
        "warnings.filterwarnings('ignore')"
      ]
    },
    {
      "cell_type": "code",
      "execution_count": null,
      "metadata": {
        "id": "ZrI6QWXz3GBR"
      },
      "outputs": [],
      "source": [
        "df = pd.read_csv('/datasets/gym_churn.csv')"
      ]
    },
    {
      "cell_type": "markdown",
      "metadata": {
        "id": "d8a7GoC-3GBS"
      },
      "source": [
        "### Изучение таблицу gym_churn"
      ]
    },
    {
      "cell_type": "code",
      "execution_count": null,
      "metadata": {
        "id": "GncPgtq43GBT",
        "outputId": "3ddabb87-c5a1-412b-9a68-24847add4a89"
      },
      "outputs": [
        {
          "data": {
            "text/html": [
              "<div>\n",
              "<style scoped>\n",
              "    .dataframe tbody tr th:only-of-type {\n",
              "        vertical-align: middle;\n",
              "    }\n",
              "\n",
              "    .dataframe tbody tr th {\n",
              "        vertical-align: top;\n",
              "    }\n",
              "\n",
              "    .dataframe thead th {\n",
              "        text-align: right;\n",
              "    }\n",
              "</style>\n",
              "<table border=\"1\" class=\"dataframe\">\n",
              "  <thead>\n",
              "    <tr style=\"text-align: right;\">\n",
              "      <th></th>\n",
              "      <th>gender</th>\n",
              "      <th>Near_Location</th>\n",
              "      <th>Partner</th>\n",
              "      <th>Promo_friends</th>\n",
              "      <th>Phone</th>\n",
              "      <th>Contract_period</th>\n",
              "      <th>Group_visits</th>\n",
              "      <th>Age</th>\n",
              "      <th>Avg_additional_charges_total</th>\n",
              "      <th>Month_to_end_contract</th>\n",
              "      <th>Lifetime</th>\n",
              "      <th>Avg_class_frequency_total</th>\n",
              "      <th>Avg_class_frequency_current_month</th>\n",
              "      <th>Churn</th>\n",
              "    </tr>\n",
              "  </thead>\n",
              "  <tbody>\n",
              "    <tr>\n",
              "      <td>0</td>\n",
              "      <td>1</td>\n",
              "      <td>1</td>\n",
              "      <td>1</td>\n",
              "      <td>1</td>\n",
              "      <td>0</td>\n",
              "      <td>6</td>\n",
              "      <td>1</td>\n",
              "      <td>29</td>\n",
              "      <td>14.227</td>\n",
              "      <td>5.000</td>\n",
              "      <td>3</td>\n",
              "      <td>0.020</td>\n",
              "      <td>0.000</td>\n",
              "      <td>0</td>\n",
              "    </tr>\n",
              "    <tr>\n",
              "      <td>1</td>\n",
              "      <td>0</td>\n",
              "      <td>1</td>\n",
              "      <td>0</td>\n",
              "      <td>0</td>\n",
              "      <td>1</td>\n",
              "      <td>12</td>\n",
              "      <td>1</td>\n",
              "      <td>31</td>\n",
              "      <td>113.203</td>\n",
              "      <td>12.000</td>\n",
              "      <td>7</td>\n",
              "      <td>1.923</td>\n",
              "      <td>1.910</td>\n",
              "      <td>0</td>\n",
              "    </tr>\n",
              "    <tr>\n",
              "      <td>2</td>\n",
              "      <td>0</td>\n",
              "      <td>1</td>\n",
              "      <td>1</td>\n",
              "      <td>0</td>\n",
              "      <td>1</td>\n",
              "      <td>1</td>\n",
              "      <td>0</td>\n",
              "      <td>28</td>\n",
              "      <td>129.448</td>\n",
              "      <td>1.000</td>\n",
              "      <td>2</td>\n",
              "      <td>1.859</td>\n",
              "      <td>1.737</td>\n",
              "      <td>0</td>\n",
              "    </tr>\n",
              "    <tr>\n",
              "      <td>3</td>\n",
              "      <td>0</td>\n",
              "      <td>1</td>\n",
              "      <td>1</td>\n",
              "      <td>1</td>\n",
              "      <td>1</td>\n",
              "      <td>12</td>\n",
              "      <td>1</td>\n",
              "      <td>33</td>\n",
              "      <td>62.670</td>\n",
              "      <td>12.000</td>\n",
              "      <td>2</td>\n",
              "      <td>3.206</td>\n",
              "      <td>3.357</td>\n",
              "      <td>0</td>\n",
              "    </tr>\n",
              "    <tr>\n",
              "      <td>4</td>\n",
              "      <td>1</td>\n",
              "      <td>1</td>\n",
              "      <td>1</td>\n",
              "      <td>1</td>\n",
              "      <td>1</td>\n",
              "      <td>1</td>\n",
              "      <td>0</td>\n",
              "      <td>26</td>\n",
              "      <td>198.362</td>\n",
              "      <td>1.000</td>\n",
              "      <td>3</td>\n",
              "      <td>1.114</td>\n",
              "      <td>1.120</td>\n",
              "      <td>0</td>\n",
              "    </tr>\n",
              "  </tbody>\n",
              "</table>\n",
              "</div>"
            ],
            "text/plain": [
              "   gender  Near_Location  Partner  Promo_friends  Phone  Contract_period  \\\n",
              "0       1              1        1              1      0                6   \n",
              "1       0              1        0              0      1               12   \n",
              "2       0              1        1              0      1                1   \n",
              "3       0              1        1              1      1               12   \n",
              "4       1              1        1              1      1                1   \n",
              "\n",
              "   Group_visits  Age  Avg_additional_charges_total  Month_to_end_contract  \\\n",
              "0             1   29                        14.227                  5.000   \n",
              "1             1   31                       113.203                 12.000   \n",
              "2             0   28                       129.448                  1.000   \n",
              "3             1   33                        62.670                 12.000   \n",
              "4             0   26                       198.362                  1.000   \n",
              "\n",
              "   Lifetime  Avg_class_frequency_total  Avg_class_frequency_current_month  \\\n",
              "0         3                      0.020                              0.000   \n",
              "1         7                      1.923                              1.910   \n",
              "2         2                      1.859                              1.737   \n",
              "3         2                      3.206                              3.357   \n",
              "4         3                      1.114                              1.120   \n",
              "\n",
              "   Churn  \n",
              "0      0  \n",
              "1      0  \n",
              "2      0  \n",
              "3      0  \n",
              "4      0  "
            ]
          },
          "execution_count": 4,
          "metadata": {},
          "output_type": "execute_result"
        }
      ],
      "source": [
        "df.head()"
      ]
    },
    {
      "cell_type": "markdown",
      "metadata": {
        "id": "P9torfXk3GBU"
      },
      "source": [
        "Сразу виден один недостаток - использование в заголовках символов одновременно в верхнем и нижнем регистре. Поправим."
      ]
    },
    {
      "cell_type": "code",
      "execution_count": null,
      "metadata": {
        "id": "xi3XTHLr3GBV"
      },
      "outputs": [],
      "source": [
        "df.columns = df.columns \\\n",
        "               .str \\\n",
        "               .lower()"
      ]
    },
    {
      "cell_type": "code",
      "execution_count": null,
      "metadata": {
        "scrolled": true,
        "id": "jJlb67Jw3GBW",
        "outputId": "f9c6fab6-214c-4c80-b1d8-79a6c67e75e4"
      },
      "outputs": [
        {
          "data": {
            "text/plain": [
              "Index(['gender', 'near_location', 'partner', 'promo_friends', 'phone',\n",
              "       'contract_period', 'group_visits', 'age',\n",
              "       'avg_additional_charges_total', 'month_to_end_contract', 'lifetime',\n",
              "       'avg_class_frequency_total', 'avg_class_frequency_current_month',\n",
              "       'churn'],\n",
              "      dtype='object')"
            ]
          },
          "execution_count": 6,
          "metadata": {},
          "output_type": "execute_result"
        }
      ],
      "source": [
        "df.columns"
      ]
    },
    {
      "cell_type": "markdown",
      "metadata": {
        "id": "HJGsGVZ83GBW"
      },
      "source": [
        "Другое дело - теперь у нас красивые названия переменных."
      ]
    },
    {
      "cell_type": "code",
      "execution_count": null,
      "metadata": {
        "scrolled": true,
        "id": "PNxcbOr03GBX",
        "outputId": "64d4bb9c-4470-4606-ab9c-c6a635ccd729"
      },
      "outputs": [
        {
          "name": "stdout",
          "output_type": "stream",
          "text": [
            "<class 'pandas.core.frame.DataFrame'>\n",
            "RangeIndex: 4000 entries, 0 to 3999\n",
            "Data columns (total 14 columns):\n",
            "gender                               4000 non-null int64\n",
            "near_location                        4000 non-null int64\n",
            "partner                              4000 non-null int64\n",
            "promo_friends                        4000 non-null int64\n",
            "phone                                4000 non-null int64\n",
            "contract_period                      4000 non-null int64\n",
            "group_visits                         4000 non-null int64\n",
            "age                                  4000 non-null int64\n",
            "avg_additional_charges_total         4000 non-null float64\n",
            "month_to_end_contract                4000 non-null float64\n",
            "lifetime                             4000 non-null int64\n",
            "avg_class_frequency_total            4000 non-null float64\n",
            "avg_class_frequency_current_month    4000 non-null float64\n",
            "churn                                4000 non-null int64\n",
            "dtypes: float64(4), int64(10)\n",
            "memory usage: 437.6 KB\n"
          ]
        }
      ],
      "source": [
        "df.info(memory_usage='deep')"
      ]
    },
    {
      "cell_type": "markdown",
      "metadata": {
        "id": "QYleXuD33GBX"
      },
      "source": [
        "Типы данных для переменных подобраны адекватно их содержанию. Количество используемой памяти также достаточно мало (memory usage: 437.6 KB), поэтому данные не нуждаются в оптимизации.\n",
        "\n",
        "Теперь проверим данные на наличие пропусков."
      ]
    },
    {
      "cell_type": "code",
      "execution_count": null,
      "metadata": {
        "id": "kLCMKUJS3GBX",
        "outputId": "1a3efc5c-4136-4c0c-f2d1-443f54c4310c"
      },
      "outputs": [
        {
          "data": {
            "text/html": [
              "<style  type=\"text/css\" >\n",
              "    #T_7036605a_8648_11ec_b6b6_02420a39a361row0_col0 {\n",
              "            background-color:  #3b4cc0;\n",
              "            color:  #f1f1f1;\n",
              "        }    #T_7036605a_8648_11ec_b6b6_02420a39a361row1_col0 {\n",
              "            background-color:  #3b4cc0;\n",
              "            color:  #f1f1f1;\n",
              "        }    #T_7036605a_8648_11ec_b6b6_02420a39a361row2_col0 {\n",
              "            background-color:  #3b4cc0;\n",
              "            color:  #f1f1f1;\n",
              "        }    #T_7036605a_8648_11ec_b6b6_02420a39a361row3_col0 {\n",
              "            background-color:  #3b4cc0;\n",
              "            color:  #f1f1f1;\n",
              "        }    #T_7036605a_8648_11ec_b6b6_02420a39a361row4_col0 {\n",
              "            background-color:  #3b4cc0;\n",
              "            color:  #f1f1f1;\n",
              "        }    #T_7036605a_8648_11ec_b6b6_02420a39a361row5_col0 {\n",
              "            background-color:  #3b4cc0;\n",
              "            color:  #f1f1f1;\n",
              "        }    #T_7036605a_8648_11ec_b6b6_02420a39a361row6_col0 {\n",
              "            background-color:  #3b4cc0;\n",
              "            color:  #f1f1f1;\n",
              "        }    #T_7036605a_8648_11ec_b6b6_02420a39a361row7_col0 {\n",
              "            background-color:  #3b4cc0;\n",
              "            color:  #f1f1f1;\n",
              "        }    #T_7036605a_8648_11ec_b6b6_02420a39a361row8_col0 {\n",
              "            background-color:  #3b4cc0;\n",
              "            color:  #f1f1f1;\n",
              "        }    #T_7036605a_8648_11ec_b6b6_02420a39a361row9_col0 {\n",
              "            background-color:  #3b4cc0;\n",
              "            color:  #f1f1f1;\n",
              "        }    #T_7036605a_8648_11ec_b6b6_02420a39a361row10_col0 {\n",
              "            background-color:  #3b4cc0;\n",
              "            color:  #f1f1f1;\n",
              "        }    #T_7036605a_8648_11ec_b6b6_02420a39a361row11_col0 {\n",
              "            background-color:  #3b4cc0;\n",
              "            color:  #f1f1f1;\n",
              "        }    #T_7036605a_8648_11ec_b6b6_02420a39a361row12_col0 {\n",
              "            background-color:  #3b4cc0;\n",
              "            color:  #f1f1f1;\n",
              "        }    #T_7036605a_8648_11ec_b6b6_02420a39a361row13_col0 {\n",
              "            background-color:  #3b4cc0;\n",
              "            color:  #f1f1f1;\n",
              "        }</style><table id=\"T_7036605a_8648_11ec_b6b6_02420a39a361\" ><thead>    <tr>        <th class=\"blank level0\" ></th>        <th class=\"col_heading level0 col0\" >share_of_missing_values</th>    </tr></thead><tbody>\n",
              "                <tr>\n",
              "                        <th id=\"T_7036605a_8648_11ec_b6b6_02420a39a361level0_row0\" class=\"row_heading level0 row0\" >gender</th>\n",
              "                        <td id=\"T_7036605a_8648_11ec_b6b6_02420a39a361row0_col0\" class=\"data row0 col0\" >0</td>\n",
              "            </tr>\n",
              "            <tr>\n",
              "                        <th id=\"T_7036605a_8648_11ec_b6b6_02420a39a361level0_row1\" class=\"row_heading level0 row1\" >near_location</th>\n",
              "                        <td id=\"T_7036605a_8648_11ec_b6b6_02420a39a361row1_col0\" class=\"data row1 col0\" >0</td>\n",
              "            </tr>\n",
              "            <tr>\n",
              "                        <th id=\"T_7036605a_8648_11ec_b6b6_02420a39a361level0_row2\" class=\"row_heading level0 row2\" >partner</th>\n",
              "                        <td id=\"T_7036605a_8648_11ec_b6b6_02420a39a361row2_col0\" class=\"data row2 col0\" >0</td>\n",
              "            </tr>\n",
              "            <tr>\n",
              "                        <th id=\"T_7036605a_8648_11ec_b6b6_02420a39a361level0_row3\" class=\"row_heading level0 row3\" >promo_friends</th>\n",
              "                        <td id=\"T_7036605a_8648_11ec_b6b6_02420a39a361row3_col0\" class=\"data row3 col0\" >0</td>\n",
              "            </tr>\n",
              "            <tr>\n",
              "                        <th id=\"T_7036605a_8648_11ec_b6b6_02420a39a361level0_row4\" class=\"row_heading level0 row4\" >phone</th>\n",
              "                        <td id=\"T_7036605a_8648_11ec_b6b6_02420a39a361row4_col0\" class=\"data row4 col0\" >0</td>\n",
              "            </tr>\n",
              "            <tr>\n",
              "                        <th id=\"T_7036605a_8648_11ec_b6b6_02420a39a361level0_row5\" class=\"row_heading level0 row5\" >contract_period</th>\n",
              "                        <td id=\"T_7036605a_8648_11ec_b6b6_02420a39a361row5_col0\" class=\"data row5 col0\" >0</td>\n",
              "            </tr>\n",
              "            <tr>\n",
              "                        <th id=\"T_7036605a_8648_11ec_b6b6_02420a39a361level0_row6\" class=\"row_heading level0 row6\" >group_visits</th>\n",
              "                        <td id=\"T_7036605a_8648_11ec_b6b6_02420a39a361row6_col0\" class=\"data row6 col0\" >0</td>\n",
              "            </tr>\n",
              "            <tr>\n",
              "                        <th id=\"T_7036605a_8648_11ec_b6b6_02420a39a361level0_row7\" class=\"row_heading level0 row7\" >age</th>\n",
              "                        <td id=\"T_7036605a_8648_11ec_b6b6_02420a39a361row7_col0\" class=\"data row7 col0\" >0</td>\n",
              "            </tr>\n",
              "            <tr>\n",
              "                        <th id=\"T_7036605a_8648_11ec_b6b6_02420a39a361level0_row8\" class=\"row_heading level0 row8\" >avg_additional_charges_total</th>\n",
              "                        <td id=\"T_7036605a_8648_11ec_b6b6_02420a39a361row8_col0\" class=\"data row8 col0\" >0</td>\n",
              "            </tr>\n",
              "            <tr>\n",
              "                        <th id=\"T_7036605a_8648_11ec_b6b6_02420a39a361level0_row9\" class=\"row_heading level0 row9\" >month_to_end_contract</th>\n",
              "                        <td id=\"T_7036605a_8648_11ec_b6b6_02420a39a361row9_col0\" class=\"data row9 col0\" >0</td>\n",
              "            </tr>\n",
              "            <tr>\n",
              "                        <th id=\"T_7036605a_8648_11ec_b6b6_02420a39a361level0_row10\" class=\"row_heading level0 row10\" >lifetime</th>\n",
              "                        <td id=\"T_7036605a_8648_11ec_b6b6_02420a39a361row10_col0\" class=\"data row10 col0\" >0</td>\n",
              "            </tr>\n",
              "            <tr>\n",
              "                        <th id=\"T_7036605a_8648_11ec_b6b6_02420a39a361level0_row11\" class=\"row_heading level0 row11\" >avg_class_frequency_total</th>\n",
              "                        <td id=\"T_7036605a_8648_11ec_b6b6_02420a39a361row11_col0\" class=\"data row11 col0\" >0</td>\n",
              "            </tr>\n",
              "            <tr>\n",
              "                        <th id=\"T_7036605a_8648_11ec_b6b6_02420a39a361level0_row12\" class=\"row_heading level0 row12\" >avg_class_frequency_current_month</th>\n",
              "                        <td id=\"T_7036605a_8648_11ec_b6b6_02420a39a361row12_col0\" class=\"data row12 col0\" >0</td>\n",
              "            </tr>\n",
              "            <tr>\n",
              "                        <th id=\"T_7036605a_8648_11ec_b6b6_02420a39a361level0_row13\" class=\"row_heading level0 row13\" >churn</th>\n",
              "                        <td id=\"T_7036605a_8648_11ec_b6b6_02420a39a361row13_col0\" class=\"data row13 col0\" >0</td>\n",
              "            </tr>\n",
              "    </tbody></table>"
            ],
            "text/plain": [
              "<pandas.io.formats.style.Styler at 0x7f3c85fe3750>"
            ]
          },
          "execution_count": 8,
          "metadata": {},
          "output_type": "execute_result"
        }
      ],
      "source": [
        "pd.DataFrame(round((df.isna().mean()*100),2),\n",
        "             columns = ['share_of_missing_values']) \\\n",
        "            .style.background_gradient('coolwarm')"
      ]
    },
    {
      "cell_type": "markdown",
      "metadata": {
        "id": "NLw5Z6JB3GBY"
      },
      "source": [
        "Ура, в данных нет пропусков! Теперь проверим данные на дубликаты."
      ]
    },
    {
      "cell_type": "code",
      "execution_count": null,
      "metadata": {
        "id": "iYvtI5H43GBY",
        "outputId": "e3509486-3d97-460e-ecf1-5ef6cfee2abf"
      },
      "outputs": [
        {
          "data": {
            "text/plain": [
              "0"
            ]
          },
          "execution_count": 9,
          "metadata": {},
          "output_type": "execute_result"
        }
      ],
      "source": [
        "df.duplicated().sum()"
      ]
    },
    {
      "cell_type": "markdown",
      "metadata": {
        "id": "sEKO9yR33GBZ"
      },
      "source": [
        "Дубликаты в данных также отсутствуют.\n",
        "\n",
        "**Можно сделать вывод:**\n",
        "\n",
        "В данном наборе данных нет существенных недостатков: отсутствуют пропущенные значения, дубликаты, типы данных установлены адекватно."
      ]
    },
    {
      "cell_type": "markdown",
      "metadata": {
        "id": "F88WPnwg3GBZ"
      },
      "source": [
        "**Общие выводы по разделу:**\n",
        "\n",
        "1. На этапе предобработки был обнаружен недостаток, который был исправлен:\n",
        "- Заголовки содержали одновременно символы верхнего и нижнего регистра;\n",
        "2. В остальном в предоставленных данных не наблюдается заметных недостатков: пропуски данных и дубликаты отсутствуют."
      ]
    },
    {
      "cell_type": "markdown",
      "metadata": {
        "id": "TV9DxZuo3GBZ"
      },
      "source": [
        "## Исследовательский анализ данных (EDA)"
      ]
    },
    {
      "cell_type": "markdown",
      "metadata": {
        "id": "RmmNvKLB3GBa"
      },
      "source": [
        "### Общий взгляд на признаки"
      ]
    },
    {
      "cell_type": "markdown",
      "metadata": {
        "id": "TC5nomcR3GBa"
      },
      "source": [
        "**Задача:**\n",
        "\n",
        "Посмотрите на датасет: есть ли в нем отсутствующие признаки, изучите средние значения и стандартные отклонения (пригодится метод describe());"
      ]
    },
    {
      "cell_type": "code",
      "execution_count": null,
      "metadata": {
        "id": "qwieSnqU3GBa",
        "outputId": "221d0656-556e-459c-9261-bdf06011fa18"
      },
      "outputs": [
        {
          "data": {
            "text/html": [
              "<div>\n",
              "<style scoped>\n",
              "    .dataframe tbody tr th:only-of-type {\n",
              "        vertical-align: middle;\n",
              "    }\n",
              "\n",
              "    .dataframe tbody tr th {\n",
              "        vertical-align: top;\n",
              "    }\n",
              "\n",
              "    .dataframe thead th {\n",
              "        text-align: right;\n",
              "    }\n",
              "</style>\n",
              "<table border=\"1\" class=\"dataframe\">\n",
              "  <thead>\n",
              "    <tr style=\"text-align: right;\">\n",
              "      <th></th>\n",
              "      <th>gender</th>\n",
              "      <th>near_location</th>\n",
              "      <th>partner</th>\n",
              "      <th>promo_friends</th>\n",
              "      <th>phone</th>\n",
              "      <th>contract_period</th>\n",
              "      <th>group_visits</th>\n",
              "      <th>age</th>\n",
              "      <th>avg_additional_charges_total</th>\n",
              "      <th>month_to_end_contract</th>\n",
              "      <th>lifetime</th>\n",
              "      <th>avg_class_frequency_total</th>\n",
              "      <th>avg_class_frequency_current_month</th>\n",
              "      <th>churn</th>\n",
              "    </tr>\n",
              "  </thead>\n",
              "  <tbody>\n",
              "    <tr>\n",
              "      <td>count</td>\n",
              "      <td>4000.000</td>\n",
              "      <td>4000.000</td>\n",
              "      <td>4000.000</td>\n",
              "      <td>4000.000</td>\n",
              "      <td>4000.000</td>\n",
              "      <td>4000.000</td>\n",
              "      <td>4000.000</td>\n",
              "      <td>4000.000</td>\n",
              "      <td>4000.000</td>\n",
              "      <td>4000.000</td>\n",
              "      <td>4000.000</td>\n",
              "      <td>4000.000</td>\n",
              "      <td>4000.000</td>\n",
              "      <td>4000.000</td>\n",
              "    </tr>\n",
              "    <tr>\n",
              "      <td>mean</td>\n",
              "      <td>0.510</td>\n",
              "      <td>0.845</td>\n",
              "      <td>0.487</td>\n",
              "      <td>0.308</td>\n",
              "      <td>0.903</td>\n",
              "      <td>4.681</td>\n",
              "      <td>0.412</td>\n",
              "      <td>29.184</td>\n",
              "      <td>146.944</td>\n",
              "      <td>4.323</td>\n",
              "      <td>3.725</td>\n",
              "      <td>1.879</td>\n",
              "      <td>1.767</td>\n",
              "      <td>0.265</td>\n",
              "    </tr>\n",
              "    <tr>\n",
              "      <td>std</td>\n",
              "      <td>0.500</td>\n",
              "      <td>0.362</td>\n",
              "      <td>0.500</td>\n",
              "      <td>0.462</td>\n",
              "      <td>0.295</td>\n",
              "      <td>4.550</td>\n",
              "      <td>0.492</td>\n",
              "      <td>3.258</td>\n",
              "      <td>96.356</td>\n",
              "      <td>4.191</td>\n",
              "      <td>3.749</td>\n",
              "      <td>0.972</td>\n",
              "      <td>1.053</td>\n",
              "      <td>0.442</td>\n",
              "    </tr>\n",
              "    <tr>\n",
              "      <td>min</td>\n",
              "      <td>0.000</td>\n",
              "      <td>0.000</td>\n",
              "      <td>0.000</td>\n",
              "      <td>0.000</td>\n",
              "      <td>0.000</td>\n",
              "      <td>1.000</td>\n",
              "      <td>0.000</td>\n",
              "      <td>18.000</td>\n",
              "      <td>0.148</td>\n",
              "      <td>1.000</td>\n",
              "      <td>0.000</td>\n",
              "      <td>0.000</td>\n",
              "      <td>0.000</td>\n",
              "      <td>0.000</td>\n",
              "    </tr>\n",
              "    <tr>\n",
              "      <td>25%</td>\n",
              "      <td>0.000</td>\n",
              "      <td>1.000</td>\n",
              "      <td>0.000</td>\n",
              "      <td>0.000</td>\n",
              "      <td>1.000</td>\n",
              "      <td>1.000</td>\n",
              "      <td>0.000</td>\n",
              "      <td>27.000</td>\n",
              "      <td>68.869</td>\n",
              "      <td>1.000</td>\n",
              "      <td>1.000</td>\n",
              "      <td>1.181</td>\n",
              "      <td>0.963</td>\n",
              "      <td>0.000</td>\n",
              "    </tr>\n",
              "    <tr>\n",
              "      <td>50%</td>\n",
              "      <td>1.000</td>\n",
              "      <td>1.000</td>\n",
              "      <td>0.000</td>\n",
              "      <td>0.000</td>\n",
              "      <td>1.000</td>\n",
              "      <td>1.000</td>\n",
              "      <td>0.000</td>\n",
              "      <td>29.000</td>\n",
              "      <td>136.220</td>\n",
              "      <td>1.000</td>\n",
              "      <td>3.000</td>\n",
              "      <td>1.833</td>\n",
              "      <td>1.720</td>\n",
              "      <td>0.000</td>\n",
              "    </tr>\n",
              "    <tr>\n",
              "      <td>75%</td>\n",
              "      <td>1.000</td>\n",
              "      <td>1.000</td>\n",
              "      <td>1.000</td>\n",
              "      <td>1.000</td>\n",
              "      <td>1.000</td>\n",
              "      <td>6.000</td>\n",
              "      <td>1.000</td>\n",
              "      <td>31.000</td>\n",
              "      <td>210.950</td>\n",
              "      <td>6.000</td>\n",
              "      <td>5.000</td>\n",
              "      <td>2.536</td>\n",
              "      <td>2.510</td>\n",
              "      <td>1.000</td>\n",
              "    </tr>\n",
              "    <tr>\n",
              "      <td>max</td>\n",
              "      <td>1.000</td>\n",
              "      <td>1.000</td>\n",
              "      <td>1.000</td>\n",
              "      <td>1.000</td>\n",
              "      <td>1.000</td>\n",
              "      <td>12.000</td>\n",
              "      <td>1.000</td>\n",
              "      <td>41.000</td>\n",
              "      <td>552.591</td>\n",
              "      <td>12.000</td>\n",
              "      <td>31.000</td>\n",
              "      <td>6.024</td>\n",
              "      <td>6.147</td>\n",
              "      <td>1.000</td>\n",
              "    </tr>\n",
              "  </tbody>\n",
              "</table>\n",
              "</div>"
            ],
            "text/plain": [
              "        gender  near_location  partner  promo_friends    phone  \\\n",
              "count 4000.000       4000.000 4000.000       4000.000 4000.000   \n",
              "mean     0.510          0.845    0.487          0.308    0.903   \n",
              "std      0.500          0.362    0.500          0.462    0.295   \n",
              "min      0.000          0.000    0.000          0.000    0.000   \n",
              "25%      0.000          1.000    0.000          0.000    1.000   \n",
              "50%      1.000          1.000    0.000          0.000    1.000   \n",
              "75%      1.000          1.000    1.000          1.000    1.000   \n",
              "max      1.000          1.000    1.000          1.000    1.000   \n",
              "\n",
              "       contract_period  group_visits      age  avg_additional_charges_total  \\\n",
              "count         4000.000      4000.000 4000.000                      4000.000   \n",
              "mean             4.681         0.412   29.184                       146.944   \n",
              "std              4.550         0.492    3.258                        96.356   \n",
              "min              1.000         0.000   18.000                         0.148   \n",
              "25%              1.000         0.000   27.000                        68.869   \n",
              "50%              1.000         0.000   29.000                       136.220   \n",
              "75%              6.000         1.000   31.000                       210.950   \n",
              "max             12.000         1.000   41.000                       552.591   \n",
              "\n",
              "       month_to_end_contract  lifetime  avg_class_frequency_total  \\\n",
              "count               4000.000  4000.000                   4000.000   \n",
              "mean                   4.323     3.725                      1.879   \n",
              "std                    4.191     3.749                      0.972   \n",
              "min                    1.000     0.000                      0.000   \n",
              "25%                    1.000     1.000                      1.181   \n",
              "50%                    1.000     3.000                      1.833   \n",
              "75%                    6.000     5.000                      2.536   \n",
              "max                   12.000    31.000                      6.024   \n",
              "\n",
              "       avg_class_frequency_current_month    churn  \n",
              "count                           4000.000 4000.000  \n",
              "mean                               1.767    0.265  \n",
              "std                                1.053    0.442  \n",
              "min                                0.000    0.000  \n",
              "25%                                0.963    0.000  \n",
              "50%                                1.720    0.000  \n",
              "75%                                2.510    1.000  \n",
              "max                                6.147    1.000  "
            ]
          },
          "execution_count": 10,
          "metadata": {},
          "output_type": "execute_result"
        }
      ],
      "source": [
        "df.describe()"
      ]
    },
    {
      "cell_type": "markdown",
      "metadata": {
        "id": "4_xJN9z53GBb"
      },
      "source": [
        "По графику можно заключить:\n",
        "1. **gender**: По полу группы делятся пополам. На данном этапе нет предположений, кто более склонен к оттоку.\n",
        "2. **near_location**: Большинство (85%) людей проживают или работают в районе, где находится фитнес-центр. Можно выдвинуть гипотезу, что такие люди будут менее склонны к оттоку, так как для них посещение представляет меньше логистических трудностей.\n",
        "3. **partner**: Почти половина выборки (49%) ходят в клуб по \"партнерке\". Предположительно данная аудитория будет менее склонна к оттоку, так как у данной аудитории может быть выше лояльность к рассматриваемому центру за счет скидок, бонусов и т.д.\n",
        "4. **promo_friends**: По приглашению друга в зал ходит треть аудитории (30%). Вероятнее всего для этих людей будет менее характерна тенденция к оттоку, так как коллективное посещение дает дополнительную мотивацию к продолжению тренировок.\n",
        "5. **phone**: Контактный телефон оставило подавляющее большинство посетителей центра (90%). Оставившие  гипотетически менее склонны к оттоку, так как с ними будет возможно связаться при первых признаках исчезновения.\n",
        "6. **contract_period**: Средняя длительность текущего абонемента составляет 4,5 месяца. Чем больше период контракта, тем больше шанс, что человек не попадет в отток, так как он заплатил больше денег и, вероятно, имеет более серьезные и долгосрочные планы.\n",
        "7. **group_visits** - Групповые занятия посещают чуть менее половины посетителей (41%). Посещающие такие занятие вероятно менее склонны к оттоку (логика аналогична переменной promo_friends).\n",
        "8. **age**: Средний возраст в выборке составляет 29 лет. На данном этапе нет предположений, какая возрастная категория более склонна к оттоку.\n",
        "9. **avg_additional_charges_total**: Средняя суммарная выручка от других услуг фитнес-центра составлет 146.944. Гипотеза: у людей с большими значениями данного показателя будет меньшая вероятность попасть в группу оттока.\n",
        "10. **month_to_end_contract**: Среднее время в месяцах до окончания контракта составляет 4.323. Вероятнее всего люди, у которых осталось меньше времени до окончания контракта, будут больше попадать в отток, так как \"к последним занятиям можно относиться менее серьезно\"\n",
        "11. **lifetime**: Среднее значение составлет 3.725. Относительно гипотезы логика та же, что и с предыдущей переменной.\n",
        "12. **avg_class_frequency_total**: Средняя частота посещений составляет 1.879. Вероятнее всего, чем она выше, тем меньше вероятность попасть в группу оттока\n",
        "13. **avg_class_frequency_current_month**: Средняя частота посещений в текущий месяц составляет 1.767. Гипотеза аналогична предыдущей."
      ]
    },
    {
      "cell_type": "markdown",
      "metadata": {
        "id": "NgLWkq6G3GBc"
      },
      "source": [
        "### Средние значения признаков в двух группах — тех, кто ушел в отток и тех, кто остался"
      ]
    },
    {
      "cell_type": "markdown",
      "metadata": {
        "id": "lok8ehuN3GBc"
      },
      "source": [
        "**Задача:**\n",
        "\n",
        "Посмотрите на средние значения признаков в двух группах — тех, кто ушел в отток и тех, кто остался (воспользуйтесь методом groupby());"
      ]
    },
    {
      "cell_type": "code",
      "execution_count": null,
      "metadata": {
        "scrolled": true,
        "id": "ywOXEnH53GBc",
        "outputId": "bfa8c84b-7707-401d-a102-c26784c33878"
      },
      "outputs": [
        {
          "data": {
            "text/html": [
              "<div>\n",
              "<style scoped>\n",
              "    .dataframe tbody tr th:only-of-type {\n",
              "        vertical-align: middle;\n",
              "    }\n",
              "\n",
              "    .dataframe tbody tr th {\n",
              "        vertical-align: top;\n",
              "    }\n",
              "\n",
              "    .dataframe thead th {\n",
              "        text-align: right;\n",
              "    }\n",
              "</style>\n",
              "<table border=\"1\" class=\"dataframe\">\n",
              "  <thead>\n",
              "    <tr style=\"text-align: right;\">\n",
              "      <th>churn</th>\n",
              "      <th>0</th>\n",
              "      <th>1</th>\n",
              "    </tr>\n",
              "  </thead>\n",
              "  <tbody>\n",
              "    <tr>\n",
              "      <td>gender</td>\n",
              "      <td>0.510</td>\n",
              "      <td>0.511</td>\n",
              "    </tr>\n",
              "    <tr>\n",
              "      <td>near_location</td>\n",
              "      <td>0.873</td>\n",
              "      <td>0.768</td>\n",
              "    </tr>\n",
              "    <tr>\n",
              "      <td>partner</td>\n",
              "      <td>0.534</td>\n",
              "      <td>0.355</td>\n",
              "    </tr>\n",
              "    <tr>\n",
              "      <td>promo_friends</td>\n",
              "      <td>0.354</td>\n",
              "      <td>0.184</td>\n",
              "    </tr>\n",
              "    <tr>\n",
              "      <td>phone</td>\n",
              "      <td>0.904</td>\n",
              "      <td>0.903</td>\n",
              "    </tr>\n",
              "    <tr>\n",
              "      <td>contract_period</td>\n",
              "      <td>5.747</td>\n",
              "      <td>1.729</td>\n",
              "    </tr>\n",
              "    <tr>\n",
              "      <td>group_visits</td>\n",
              "      <td>0.464</td>\n",
              "      <td>0.269</td>\n",
              "    </tr>\n",
              "    <tr>\n",
              "      <td>age</td>\n",
              "      <td>29.977</td>\n",
              "      <td>26.990</td>\n",
              "    </tr>\n",
              "    <tr>\n",
              "      <td>avg_additional_charges_total</td>\n",
              "      <td>158.446</td>\n",
              "      <td>115.083</td>\n",
              "    </tr>\n",
              "    <tr>\n",
              "      <td>month_to_end_contract</td>\n",
              "      <td>5.283</td>\n",
              "      <td>1.663</td>\n",
              "    </tr>\n",
              "    <tr>\n",
              "      <td>lifetime</td>\n",
              "      <td>4.712</td>\n",
              "      <td>0.991</td>\n",
              "    </tr>\n",
              "    <tr>\n",
              "      <td>avg_class_frequency_total</td>\n",
              "      <td>2.025</td>\n",
              "      <td>1.475</td>\n",
              "    </tr>\n",
              "    <tr>\n",
              "      <td>avg_class_frequency_current_month</td>\n",
              "      <td>2.028</td>\n",
              "      <td>1.045</td>\n",
              "    </tr>\n",
              "  </tbody>\n",
              "</table>\n",
              "</div>"
            ],
            "text/plain": [
              "churn                                   0       1\n",
              "gender                              0.510   0.511\n",
              "near_location                       0.873   0.768\n",
              "partner                             0.534   0.355\n",
              "promo_friends                       0.354   0.184\n",
              "phone                               0.904   0.903\n",
              "contract_period                     5.747   1.729\n",
              "group_visits                        0.464   0.269\n",
              "age                                29.977  26.990\n",
              "avg_additional_charges_total      158.446 115.083\n",
              "month_to_end_contract               5.283   1.663\n",
              "lifetime                            4.712   0.991\n",
              "avg_class_frequency_total           2.025   1.475\n",
              "avg_class_frequency_current_month   2.028   1.045"
            ]
          },
          "execution_count": 11,
          "metadata": {},
          "output_type": "execute_result"
        }
      ],
      "source": [
        "df.groupby('churn') \\\n",
        "  .mean() \\\n",
        "  .T"
      ]
    },
    {
      "cell_type": "markdown",
      "metadata": {
        "id": "K1zIls_c3GBd"
      },
      "source": [
        "**Задача:**\n",
        "\n",
        "Постройте столбчатые гистограммы и распределения признаков для тех, кто ушёл (отток) и тех, кто остался (не попали в отток);"
      ]
    },
    {
      "cell_type": "markdown",
      "metadata": {
        "id": "EflIZvOd3GBd"
      },
      "source": [
        "Для категориальных переменных с бинарными значениями построим столбчатые диаграммы."
      ]
    },
    {
      "cell_type": "code",
      "execution_count": null,
      "metadata": {
        "id": "IQwtrduY3GBd",
        "outputId": "0b157b53-1709-419b-d162-e59403ae6710"
      },
      "outputs": [
        {
          "data": {
            "image/png": "[encoded data removed]",
            "text/plain": [
              "<Figure size 864x360 with 1 Axes>"
            ]
          },
          "metadata": {},
          "output_type": "display_data"
        },
        {
          "data": {
            "image/png": "[encoded data removed]",
            "text/plain": [
              "<Figure size 864x360 with 1 Axes>"
            ]
          },
          "metadata": {},
          "output_type": "display_data"
        },
        {
          "data": {
            "image/png": "[encoded data removed]",
            "text/plain": [
              "<Figure size 864x360 with 1 Axes>"
            ]
          },
          "metadata": {},
          "output_type": "display_data"
        },
        {
          "data": {
            "image/png": "[encoded data removed]",
            "text/plain": [
              "<Figure size 864x360 with 1 Axes>"
            ]
          },
          "metadata": {},
          "output_type": "display_data"
        },
        {
          "data": {
            "image/png": "[encoded data removed]",
            "text/plain": [
              "<Figure size 864x360 with 1 Axes>"
            ]
          },
          "metadata": {},
          "output_type": "display_data"
        },
        {
          "data": {
            "image/png": "[encoded data removed]",
            "text/plain": [
              "<Figure size 864x360 with 1 Axes>"
            ]
          },
          "metadata": {},
          "output_type": "display_data"
        },
        {
          "data": {
            "image/png": "[encoded data removed]",
            "text/plain": [
              "<Figure size 864x360 with 1 Axes>"
            ]
          },
          "metadata": {},
          "output_type": "display_data"
        }
      ],
      "source": [
        "binary = ['gender', 'near_location', 'partner', 'promo_friends', 'phone','contract_period','group_visits']\n",
        "for column in binary:\n",
        "    plt.figure(figsize=(12,5))\n",
        "    sns.countplot(x = df[column], hue='churn', data=df)\n",
        "    plt.title(f\"Распределение значений для переменной \" + str(column))\n",
        "    plt.ylabel(\"Количество наблюдений\")\n",
        "    plt.show()"
      ]
    },
    {
      "cell_type": "markdown",
      "metadata": {
        "id": "VDAFIccp3GBe"
      },
      "source": [
        "А теперь отдельно для переменных с интервальными переменными построим ящики с усами."
      ]
    },
    {
      "cell_type": "code",
      "execution_count": null,
      "metadata": {
        "id": "XzKdp3ar3GBe",
        "outputId": "3ad33859-9417-46ec-e92e-15be95c6456f"
      },
      "outputs": [
        {
          "data": {
            "image/png": "[encoded data removed]",
            "text/plain": [
              "<Figure size 864x360 with 1 Axes>"
            ]
          },
          "metadata": {},
          "output_type": "display_data"
        },
        {
          "data": {
            "image/png": "[encoded data removed]",
            "text/plain": [
              "<Figure size 864x360 with 1 Axes>"
            ]
          },
          "metadata": {},
          "output_type": "display_data"
        },
        {
          "data": {
            "image/png": "[encoded data removed]",
            "text/plain": [
              "<Figure size 864x360 with 1 Axes>"
            ]
          },
          "metadata": {},
          "output_type": "display_data"
        },
        {
          "data": {
            "image/png": "[encoded data removed]",
            "text/plain": [
              "<Figure size 864x360 with 1 Axes>"
            ]
          },
          "metadata": {},
          "output_type": "display_data"
        },
        {
          "data": {
            "image/png": "[encoded data removed]",
            "text/plain": [
              "<Figure size 864x360 with 1 Axes>"
            ]
          },
          "metadata": {},
          "output_type": "display_data"
        },
        {
          "data": {
            "image/png": "[encoded data removed]",
            "text/plain": [
              "<Figure size 864x360 with 1 Axes>"
            ]
          },
          "metadata": {},
          "output_type": "display_data"
        }
      ],
      "source": [
        "bp = ['month_to_end_contract', 'age', 'avg_additional_charges_total', 'lifetime', 'avg_class_frequency_total', 'avg_class_frequency_current_month']\n",
        "for column in bp:\n",
        "    plt.figure(figsize=(12,5))\n",
        "    sns.boxplot(x = 'churn', y = df[column], data = df)\n",
        "    plt.title(f\"Распределение значений для переменной \" + str(column))\n",
        "    plt.show()"
      ]
    },
    {
      "cell_type": "markdown",
      "metadata": {
        "id": "OMKJxcfK3GBe"
      },
      "source": [
        "**Можно заключить, что**:\n",
        "\n",
        "1. Большинство гипотез, выдвинутых в предыдущем разделе, выглядят правдоподобно\n",
        "2. Практически нет отличия в показателях по переменным gender и phone. Скорее всего они будут наименее важны для дальнейшего построения модели."
      ]
    },
    {
      "cell_type": "markdown",
      "metadata": {
        "id": "I3PjPKg13GBe"
      },
      "source": [
        "**Задача:**\n",
        "\n",
        "Постройте матрицу корреляций и отобразите её.;"
      ]
    },
    {
      "cell_type": "code",
      "execution_count": null,
      "metadata": {
        "id": "kPHWogs13GBf",
        "outputId": "26d25d35-5777-409b-c949-d46a7b62fd9e"
      },
      "outputs": [
        {
          "data": {
            "image/png": "[encoded data removed]",
            "text/plain": [
              "<Figure size 1080x864 with 2 Axes>"
            ]
          },
          "metadata": {},
          "output_type": "display_data"
        }
      ],
      "source": [
        "cm = df.corr()\n",
        "plt.figure(figsize = (15, 12))\n",
        "plt.title('Матрица корреляции признаков')\n",
        "ax = sns.heatmap(cm,annot=True, square=True,fmt='.2%',linewidths=1)\n",
        "plt.show()"
      ]
    },
    {
      "cell_type": "markdown",
      "metadata": {
        "id": "Vs34z-G23GBf"
      },
      "source": [
        "По матрице корреляции можно сделать следующие выводы:\n",
        "1. Как и писали ранее, признаки phone и gender никак не коррелируют с переменной churn, поэтому их предсказательная сила скорее всего будет минимальна для нашей модели.\n",
        "2. Есть признаки, корреляция между которыми выражена сильно (более 80%):\n",
        "    * contract_period - month_to_end_contract (97,3%)\n",
        "    * avg_class_frequency_current_month и avg_class_frequency_total (95,27%)\n",
        "    \n",
        "**Так как логистическая регрессия относится к категории линейных моделей, последнюю проблему необходимо решить**: в данном случае, поскольку переменные отображают приблизительно одно и то же, оставим по одной переменной из каждой пары (те, у которых большая корреляция с целевой переменной, то есть contract_period и avg_class_frequency_current_month). Сделаем это сейчас."
      ]
    },
    {
      "cell_type": "code",
      "execution_count": null,
      "metadata": {
        "id": "rdGQPooB3GBf"
      },
      "outputs": [],
      "source": [
        "df = df.drop(['avg_class_frequency_total','month_to_end_contract'], axis = 1)"
      ]
    },
    {
      "cell_type": "markdown",
      "metadata": {
        "id": "7FmP6P4w3GBg"
      },
      "source": [
        "## Модель прогнозирования оттока клиентов"
      ]
    },
    {
      "cell_type": "markdown",
      "metadata": {
        "id": "AvfIPbCD3GBg"
      },
      "source": [
        "#### Разбиение данных"
      ]
    },
    {
      "cell_type": "code",
      "execution_count": null,
      "metadata": {
        "id": "MhjZ3BRK3GBg"
      },
      "outputs": [],
      "source": [
        "X = df.drop('churn', axis = 1)\n",
        "y = df['churn']"
      ]
    },
    {
      "cell_type": "code",
      "execution_count": null,
      "metadata": {
        "id": "9AKhu3Mj3GBg"
      },
      "outputs": [],
      "source": [
        "X_train, X_test, y_train, y_test = train_test_split(X, y, test_size=0.2,stratify=y, random_state=0)"
      ]
    },
    {
      "cell_type": "markdown",
      "metadata": {
        "id": "ahn27RBm3GBg"
      },
      "source": [
        "Так как логистическая регрессия это линейная модель, а наши переменные имеют разную размерность, данные перед обучением необходимо стандартизировать."
      ]
    },
    {
      "cell_type": "code",
      "execution_count": null,
      "metadata": {
        "id": "5zBTQO703GBh"
      },
      "outputs": [],
      "source": [
        "scaler = StandardScaler()\n",
        "scaler.fit(X_train)\n",
        "\n",
        "X_train_st = scaler.transform(X_train)\n",
        "X_test_st = scaler.transform(X_test)"
      ]
    },
    {
      "cell_type": "code",
      "execution_count": null,
      "metadata": {
        "id": "TI2ZYqQQ3GBh",
        "outputId": "f06d6992-2f7b-4189-da6d-1cf807973db3"
      },
      "outputs": [
        {
          "data": {
            "text/plain": [
              "LogisticRegression(C=1.0, class_weight=None, dual=False, fit_intercept=True,\n",
              "                   intercept_scaling=1, l1_ratio=None, max_iter=100,\n",
              "                   multi_class='warn', n_jobs=None, penalty='l2',\n",
              "                   random_state=0, solver='liblinear', tol=0.0001, verbose=0,\n",
              "                   warm_start=False)"
            ]
          },
          "execution_count": 19,
          "metadata": {},
          "output_type": "execute_result"
        }
      ],
      "source": [
        "lg_model = LogisticRegression(solver='liblinear', random_state=0)\n",
        "lg_model.fit(X_train_st, y_train)"
      ]
    },
    {
      "cell_type": "code",
      "execution_count": null,
      "metadata": {
        "id": "fdMwQkmC3GBh"
      },
      "outputs": [],
      "source": [
        "lg_predictions = lg_model.predict(X_test_st)\n",
        "lg_probabilities = lg_model.predict_proba(X_test_st)[:,1]"
      ]
    },
    {
      "cell_type": "code",
      "execution_count": null,
      "metadata": {
        "scrolled": false,
        "id": "GfmtVEV13GBh",
        "outputId": "85d94a80-a6a4-4fec-a9a3-7601b17cc8b2"
      },
      "outputs": [
        {
          "name": "stdout",
          "output_type": "stream",
          "text": [
            "Метрики для модели логистической регрессии\n",
            "Accuracy: 0.92\n",
            "Precision: 0.85\n",
            "Recall: 0.84\n",
            "F1: 0.84\n",
            "ROC_AUC: 0.89\n"
          ]
        }
      ],
      "source": [
        "print('Метрики для модели логистической регрессии')\n",
        "print('Accuracy: {:.2f}'.format(accuracy_score(y_test, lg_predictions)))\n",
        "print('Precision: {:.2f}'.format(precision_score(y_test, lg_predictions)))\n",
        "print('Recall: {:.2f}'.format(recall_score(y_test, lg_predictions)))\n",
        "print('F1: {:.2f}'.format(f1_score(y_test, lg_predictions)))\n",
        "print('ROC_AUC: {:.2f}'.format(roc_auc_score(y_test, lg_predictions)))"
      ]
    },
    {
      "cell_type": "markdown",
      "metadata": {
        "id": "hSAz7nFh3GBi"
      },
      "source": [
        "Неплохие результаты. Доля верных ответов 90% при ROC_AUC 88%. Сравним с лесом. Лес в отличие от регрессии не нуждается в стандартизации, поэтому будем передавать нестандартизированные данные."
      ]
    },
    {
      "cell_type": "code",
      "execution_count": null,
      "metadata": {
        "scrolled": true,
        "id": "_PTBNfaq3GBi",
        "outputId": "9b925a32-2a19-4107-b477-b2e9c0bbf255"
      },
      "outputs": [
        {
          "data": {
            "text/plain": [
              "RandomForestClassifier(bootstrap=True, class_weight=None, criterion='gini',\n",
              "                       max_depth=None, max_features='auto', max_leaf_nodes=None,\n",
              "                       min_impurity_decrease=0.0, min_impurity_split=None,\n",
              "                       min_samples_leaf=1, min_samples_split=2,\n",
              "                       min_weight_fraction_leaf=0.0, n_estimators=10,\n",
              "                       n_jobs=None, oob_score=False, random_state=0, verbose=0,\n",
              "                       warm_start=False)"
            ]
          },
          "execution_count": 22,
          "metadata": {},
          "output_type": "execute_result"
        }
      ],
      "source": [
        "rf_model = RandomForestClassifier(random_state = 0)\n",
        "rf_model.fit(X_train, y_train)"
      ]
    },
    {
      "cell_type": "code",
      "execution_count": null,
      "metadata": {
        "id": "1JCIikmS3GBi"
      },
      "outputs": [],
      "source": [
        "rf_predictions = rf_model.predict(X_test)\n",
        "rf_probabilities = rf_model.predict_proba(X_test)[:,1]"
      ]
    },
    {
      "cell_type": "code",
      "execution_count": null,
      "metadata": {
        "id": "KdHXCyTY3GBi",
        "outputId": "bfed20eb-3328-4ccf-da14-f421e9afe257"
      },
      "outputs": [
        {
          "name": "stdout",
          "output_type": "stream",
          "text": [
            "Метрики для модели случайного леса\n",
            "Accuracy: 0.89\n",
            "Precision: 0.84\n",
            "Recall: 0.73\n",
            "F1: 0.78\n",
            "ROC_AUC: 0.84\n"
          ]
        }
      ],
      "source": [
        "print('Метрики для модели случайного леса')\n",
        "print('Accuracy: {:.2f}'.format(accuracy_score(y_test, rf_predictions)))\n",
        "print('Precision: {:.2f}'.format(precision_score(y_test, rf_predictions)))\n",
        "print('Recall: {:.2f}'.format(recall_score(y_test, rf_predictions)))\n",
        "print('F1: {:.2f}'.format(f1_score(y_test, rf_predictions)))\n",
        "print('ROC_AUC: {:.2f}'.format(roc_auc_score(y_test, rf_predictions)))"
      ]
    },
    {
      "cell_type": "markdown",
      "metadata": {
        "id": "QpeGfDyi3GBi"
      },
      "source": [
        "Бейслайны для обоих моделей готовы и по большинству метрик логистическая регрессия показывает более высокие результаты, однако для леса есть возможность попробовать подобрать параметры, чем и предлагаем заняться!"
      ]
    },
    {
      "cell_type": "code",
      "execution_count": null,
      "metadata": {
        "id": "2tT_3e6H3GBj"
      },
      "outputs": [],
      "source": [
        "def best_metrics_random_forest(X_train, X_test, y_train, y_test, cw=None):\n",
        "    \"\"\"\n",
        "    input: X_train, X_test, y_train, y_test - обучающие и валидационные выборки признаков и целевого признака\n",
        "            cw - параметр class_weight для модели случайного леса\n",
        "    output: None\n",
        "    description: функция обучает модель решающего дерева RandomForestClassifier с различными сочетаниями гиперпараметров;\n",
        "                 метрики качества модели: f1 и roc_auc;\n",
        "                 функция выводит наилучшие значения метрик и значения гиперпараметров наилучшей модели.\n",
        "    \"\"\"\n",
        "    # в параметрах best_params_f1 и best_f1 будем хранить наилучшие параметры для модели и наивысшую f1 метрику соответственно\n",
        "    best_params_f1 = []\n",
        "    best_f1 = 0\n",
        "    # аналогично для roc_auc метрики.\n",
        "    best_params_roc_auc = []\n",
        "    best_roc_auc = 0.5\n",
        "    # проходим в циклах по всем выбранным гиперпараметрам\n",
        "    for n_estimators in range(10,200,10):\n",
        "        for max_depth in range(10,17,2):\n",
        "            for min_samples_split in range(2,5):\n",
        "                for min_samples_leaf in range(1,4):\n",
        "                    # инициация модели с текущими гиперпараметрами\n",
        "                    model_rf_clf = RandomForestClassifier(random_state=0,\n",
        "                                                          n_estimators=n_estimators,\n",
        "                                                          max_depth=max_depth,\n",
        "                                                          min_samples_split=min_samples_split,\n",
        "                                                          min_samples_leaf=min_samples_leaf)\n",
        "                    # обучение модели на тренировочной выборке\n",
        "                    model_rf_clf.fit(X_train, y_train)\n",
        "                    # поиск предсказаний модели на валидационной выбоке\n",
        "                    predictions = model_rf_clf.predict(X_test)\n",
        "\n",
        "                    # вычисление f1 модели методом f1_score\n",
        "                    f1 = f1_score(y_test, predictions)\n",
        "                    # если текущее значение метрики f1 выше предыдущего лучшего значения, \n",
        "                    # сохраняем параметры модели и текущую метрику f1\n",
        "                    if f1 > best_f1:\n",
        "                        best_params_f1 = [n_estimators, max_depth, min_samples_split, min_samples_leaf]\n",
        "                        best_f1 = f1\n",
        "                    # аналогично для метрики roc_auc\n",
        "                    roc_auc = roc_auc_score(y_test, predictions)\n",
        "                    if roc_auc > best_roc_auc:\n",
        "                        best_params_roc_auc = [n_estimators, max_depth, min_samples_split, min_samples_leaf]\n",
        "                        best_roc_auc = roc_auc\n",
        "\n",
        "    # вывод наилучшей метрики f1 и параметров модели.\n",
        "    print('''Наилучшая метрика f1: {}\n",
        "    Парамтеры модели:\n",
        "       n_estimators = {}\n",
        "       max_depth = {}\n",
        "       min_samples_split = {}\n",
        "       min_samples_leaf = {} \\n'''.format(round(best_f1, 3),\n",
        "                                 best_params_f1[0],\n",
        "                                 best_params_f1[1],\n",
        "                                 best_params_f1[2],\n",
        "                                 best_params_f1[3]\n",
        "                                ))\n",
        "\n",
        "    # вывод наилучшей метрики roc_auc и параметров модели.\n",
        "    print('''Наилучшая метрика roc_auc: {}\n",
        "    Парамтеры модели:\n",
        "       n_estimators = {}\n",
        "       max_depth = {}\n",
        "       min_samples_split = {}\n",
        "       min_samples_leaf = {} '''.format(round(best_roc_auc, 3),\n",
        "                                 best_params_roc_auc[0],\n",
        "                                 best_params_roc_auc[1],\n",
        "                                 best_params_roc_auc[2],\n",
        "                                 best_params_roc_auc[3]\n",
        "                                ))"
      ]
    },
    {
      "cell_type": "code",
      "execution_count": null,
      "metadata": {
        "scrolled": false,
        "id": "ULkbnOlh3GBj",
        "outputId": "f57812c5-8fce-46dc-a9d9-a8547c6cdfa7"
      },
      "outputs": [
        {
          "name": "stdout",
          "output_type": "stream",
          "text": [
            "Наилучшая метрика f1: 0.845\n",
            "    Парамтеры модели:\n",
            "       n_estimators = 150\n",
            "       max_depth = 16\n",
            "       min_samples_split = 4\n",
            "       min_samples_leaf = 1 \n",
            "\n",
            "Наилучшая метрика roc_auc: 0.89\n",
            "    Парамтеры модели:\n",
            "       n_estimators = 150\n",
            "       max_depth = 16\n",
            "       min_samples_split = 4\n",
            "       min_samples_leaf = 1 \n"
          ]
        }
      ],
      "source": [
        "best_metrics_random_forest(X_train, X_test, y_train, y_test)"
      ]
    },
    {
      "cell_type": "markdown",
      "metadata": {
        "id": "vk-rY7WT3GBj"
      },
      "source": [
        "Попробуем использовать данные гиперпараметры."
      ]
    },
    {
      "cell_type": "code",
      "execution_count": null,
      "metadata": {
        "id": "i5-ocuOD3GBk",
        "outputId": "9ced3e31-7e19-4afe-e964-782397e8f9fb"
      },
      "outputs": [
        {
          "data": {
            "text/plain": [
              "RandomForestClassifier(bootstrap=True, class_weight=None, criterion='gini',\n",
              "                       max_depth=16, max_features='auto', max_leaf_nodes=None,\n",
              "                       min_impurity_decrease=0.0, min_impurity_split=None,\n",
              "                       min_samples_leaf=1, min_samples_split=4,\n",
              "                       min_weight_fraction_leaf=0.0, n_estimators=150,\n",
              "                       n_jobs=None, oob_score=False, random_state=0, verbose=0,\n",
              "                       warm_start=False)"
            ]
          },
          "execution_count": 27,
          "metadata": {},
          "output_type": "execute_result"
        }
      ],
      "source": [
        "rf_model = RandomForestClassifier(random_state = 0, n_estimators = 150, max_depth = 16, min_samples_split = 4, min_samples_leaf = 1)\n",
        "rf_model.fit(X_train, y_train)"
      ]
    },
    {
      "cell_type": "code",
      "execution_count": null,
      "metadata": {
        "id": "vKjxvMpA3GBk"
      },
      "outputs": [],
      "source": [
        "rf_predictions = rf_model.predict(X_test)\n",
        "rf_probabilities = rf_model.predict_proba(X_test)[:,1]"
      ]
    },
    {
      "cell_type": "code",
      "execution_count": null,
      "metadata": {
        "id": "RqcCqBZI3GBk",
        "outputId": "25a58125-e5a9-4826-9c75-3aff5ee5e9eb"
      },
      "outputs": [
        {
          "name": "stdout",
          "output_type": "stream",
          "text": [
            "Метрики для модели случайного леса\n",
            "Accuracy: 0.92\n",
            "Precision: 0.87\n",
            "Recall: 0.83\n",
            "F1: 0.85\n",
            "ROC_AUC: 0.89\n"
          ]
        }
      ],
      "source": [
        "print('Метрики для модели случайного леса')\n",
        "print('Accuracy: {:.2f}'.format(accuracy_score(y_test, rf_predictions)))\n",
        "print('Precision: {:.2f}'.format(precision_score(y_test, rf_predictions)))\n",
        "print('Recall: {:.2f}'.format(recall_score(y_test, rf_predictions)))\n",
        "print('F1: {:.2f}'.format(f1_score(y_test, rf_predictions)))\n",
        "print('ROC_AUC: {:.2f}'.format(roc_auc_score(y_test, rf_predictions)))"
      ]
    },
    {
      "cell_type": "markdown",
      "metadata": {
        "id": "rrwsct-13GBk"
      },
      "source": [
        "Бинго, удалось поднять значения всех метрик, теперь эффективность моделей приблизительно равнозначна, однако логистическая регрессия все еще на несколько десятых лучше по ROC_AUC, поэтому она предпочтительнее.\n",
        "\n",
        "Напоследок также посмотрим на вклад переменных в предсказательную силу нашей модели."
      ]
    },
    {
      "cell_type": "code",
      "execution_count": null,
      "metadata": {
        "id": "kMOv7Ooc3GBl",
        "outputId": "289c2b5b-8553-433e-a29f-0f66f6d5443a"
      },
      "outputs": [
        {
          "data": {
            "text/html": [
              "<div>\n",
              "<style scoped>\n",
              "    .dataframe tbody tr th:only-of-type {\n",
              "        vertical-align: middle;\n",
              "    }\n",
              "\n",
              "    .dataframe tbody tr th {\n",
              "        vertical-align: top;\n",
              "    }\n",
              "\n",
              "    .dataframe thead th {\n",
              "        text-align: right;\n",
              "    }\n",
              "</style>\n",
              "<table border=\"1\" class=\"dataframe\">\n",
              "  <thead>\n",
              "    <tr style=\"text-align: right;\">\n",
              "      <th></th>\n",
              "      <th>feature</th>\n",
              "      <th>importances</th>\n",
              "    </tr>\n",
              "  </thead>\n",
              "  <tbody>\n",
              "    <tr>\n",
              "      <td>9</td>\n",
              "      <td>lifetime</td>\n",
              "      <td>0.337</td>\n",
              "    </tr>\n",
              "    <tr>\n",
              "      <td>10</td>\n",
              "      <td>avg_class_frequency_current_month</td>\n",
              "      <td>0.209</td>\n",
              "    </tr>\n",
              "    <tr>\n",
              "      <td>7</td>\n",
              "      <td>age</td>\n",
              "      <td>0.147</td>\n",
              "    </tr>\n",
              "    <tr>\n",
              "      <td>5</td>\n",
              "      <td>contract_period</td>\n",
              "      <td>0.120</td>\n",
              "    </tr>\n",
              "    <tr>\n",
              "      <td>8</td>\n",
              "      <td>avg_additional_charges_total</td>\n",
              "      <td>0.110</td>\n",
              "    </tr>\n",
              "    <tr>\n",
              "      <td>6</td>\n",
              "      <td>group_visits</td>\n",
              "      <td>0.019</td>\n",
              "    </tr>\n",
              "    <tr>\n",
              "      <td>2</td>\n",
              "      <td>partner</td>\n",
              "      <td>0.014</td>\n",
              "    </tr>\n",
              "    <tr>\n",
              "      <td>0</td>\n",
              "      <td>gender</td>\n",
              "      <td>0.013</td>\n",
              "    </tr>\n",
              "    <tr>\n",
              "      <td>3</td>\n",
              "      <td>promo_friends</td>\n",
              "      <td>0.012</td>\n",
              "    </tr>\n",
              "    <tr>\n",
              "      <td>1</td>\n",
              "      <td>near_location</td>\n",
              "      <td>0.011</td>\n",
              "    </tr>\n",
              "    <tr>\n",
              "      <td>4</td>\n",
              "      <td>phone</td>\n",
              "      <td>0.008</td>\n",
              "    </tr>\n",
              "  </tbody>\n",
              "</table>\n",
              "</div>"
            ],
            "text/plain": [
              "                              feature  importances\n",
              "9                            lifetime        0.337\n",
              "10  avg_class_frequency_current_month        0.209\n",
              "7                                 age        0.147\n",
              "5                     contract_period        0.120\n",
              "8        avg_additional_charges_total        0.110\n",
              "6                        group_visits        0.019\n",
              "2                             partner        0.014\n",
              "0                              gender        0.013\n",
              "3                       promo_friends        0.012\n",
              "1                       near_location        0.011\n",
              "4                               phone        0.008"
            ]
          },
          "execution_count": 30,
          "metadata": {},
          "output_type": "execute_result"
        }
      ],
      "source": [
        "pd.DataFrame({\"feature\": df.iloc[:, :-1].columns,\n",
        "             \"importances\": rf_model.feature_importances_}).sort_values(by=\"importances\", ascending=False)"
      ]
    },
    {
      "cell_type": "markdown",
      "metadata": {
        "id": "U5HKqiiA3GBl"
      },
      "source": [
        "Наиболее важные для модели признаки:\n",
        "1. lifetime\n",
        "2. avg_class_frequency_current_month\n",
        "3. age\n",
        "4. contract_period\n",
        "5. avg_additional_charges_total\n",
        "\n",
        "Это те показатели, над которыми стоит работать фитнес-центру. Например, частоту посещения можно пытаться повышать за счет геймификации процессов. Например, давать бонусы за регулярное частое посещение, которые в дальнейшем можно тратить на дополнительные услуги.\n",
        "\n",
        "Можно продвигать более долгие варианты контракта за счет скидок и промо."
      ]
    },
    {
      "cell_type": "markdown",
      "metadata": {
        "id": "OHk8dEtw3GBl"
      },
      "source": [
        "## Кластеризация клиентов"
      ]
    },
    {
      "cell_type": "markdown",
      "metadata": {
        "id": "4egSFbY53GBl"
      },
      "source": [
        "**Задача:**\n",
        "\n",
        "Стандартизируйте данные;"
      ]
    },
    {
      "cell_type": "code",
      "execution_count": null,
      "metadata": {
        "id": "3Gfb1IYg3GBl"
      },
      "outputs": [],
      "source": [
        "sc = StandardScaler()\n",
        "x_sc = sc.fit_transform(df)"
      ]
    },
    {
      "cell_type": "markdown",
      "metadata": {
        "id": "1_Yo_t6E3GBm"
      },
      "source": [
        "Готово"
      ]
    },
    {
      "cell_type": "markdown",
      "metadata": {
        "id": "aKA3Vc4G3GBm"
      },
      "source": [
        "**Задача:**\n",
        "\n",
        "Постройте матрицу расстояний функцией linkage() на стандартизованной матрице признаков и нарисуйте дендрограмму. Внимание: отрисовка дендрограммы может занять время! На основании полученного графика предположите, какое количество кластеров можно выделить.;"
      ]
    },
    {
      "cell_type": "code",
      "execution_count": null,
      "metadata": {
        "id": "erhrX1Kw3GBm"
      },
      "outputs": [],
      "source": [
        "linked = linkage(x_sc, method = 'ward') "
      ]
    },
    {
      "cell_type": "code",
      "execution_count": null,
      "metadata": {
        "id": "GCRXM98I3GBm",
        "outputId": "10bda69e-6043-4eca-da04-c65f4e637343"
      },
      "outputs": [
        {
          "data": {
            "image/png": "[encoded data removed]",
            "text/plain": [
              "<Figure size 1080x720 with 1 Axes>"
            ]
          },
          "metadata": {},
          "output_type": "display_data"
        }
      ],
      "source": [
        "plt.figure(figsize=(15, 10))  \n",
        "dendrogram(linked, orientation='top')\n",
        "plt.show() "
      ]
    },
    {
      "cell_type": "markdown",
      "metadata": {
        "id": "_l5ut83C3GBm"
      },
      "source": [
        "Наиболее удачное количество кластеров на дендограмме: 5"
      ]
    },
    {
      "cell_type": "markdown",
      "metadata": {
        "id": "lXPHor5I3GBm"
      },
      "source": [
        "**Задача:**\n",
        "\n",
        "Обучите модель кластеризации на основании алгоритма K-Means и спрогнозируйте кластеры клиентов. Договоримся за число кластеров принять n=5, чтобы ваши результаты можно было сравнивать с результатами остальных студентов. Однако, конечно, в жизни никто не скажет вам правильный ответ, и решение остаётся за вами (на основании изучения графика из предыдущего пункта)."
      ]
    },
    {
      "cell_type": "code",
      "execution_count": null,
      "metadata": {
        "id": "tEgnMsEV3GBn"
      },
      "outputs": [],
      "source": [
        "km = KMeans(n_clusters = 5,random_state = 0)"
      ]
    },
    {
      "cell_type": "code",
      "execution_count": null,
      "metadata": {
        "id": "RzXKTdV_3GBn"
      },
      "outputs": [],
      "source": [
        "labels = km.fit_predict(x_sc)"
      ]
    },
    {
      "cell_type": "code",
      "execution_count": null,
      "metadata": {
        "id": "XX4xFcyf3GBn"
      },
      "outputs": [],
      "source": [
        "df['cluster_km'] = labels"
      ]
    },
    {
      "cell_type": "code",
      "execution_count": null,
      "metadata": {
        "id": "dFFovpW73GBn",
        "outputId": "bdd92f93-9e2a-4371-d269-ae7b35c22f66"
      },
      "outputs": [
        {
          "name": "stdout",
          "output_type": "stream",
          "text": [
            "Silhouette_score: 0.16\n"
          ]
        }
      ],
      "source": [
        "print('Silhouette_score: {:.2f}'.format(silhouette_score(x_sc, labels)))"
      ]
    },
    {
      "cell_type": "markdown",
      "metadata": {
        "id": "dbxA3aBq3GBn"
      },
      "source": [
        "Не самое высокое значение параметра, но и не самое низкое."
      ]
    },
    {
      "cell_type": "code",
      "execution_count": null,
      "metadata": {
        "id": "EYOjYh_q3GBn",
        "outputId": "7d2eceb3-c0fb-45b5-8444-746ad336e12b"
      },
      "outputs": [
        {
          "data": {
            "text/plain": [
              "1    1290\n",
              "3    1037\n",
              "4     730\n",
              "0     557\n",
              "2     386\n",
              "Name: cluster_km, dtype: int64"
            ]
          },
          "execution_count": 38,
          "metadata": {},
          "output_type": "execute_result"
        }
      ],
      "source": [
        "df['cluster_km'].value_counts()"
      ]
    },
    {
      "cell_type": "markdown",
      "metadata": {
        "id": "f233T5Tu3GBo"
      },
      "source": [
        "Наблюдения разбились по кластерам не совсем равномерно, но их наполненность достаточна для сравнения."
      ]
    },
    {
      "cell_type": "code",
      "execution_count": null,
      "metadata": {
        "id": "RmOb269y3GBo",
        "outputId": "4a0eccf0-7292-4035-b6c7-aabc1f8de9a4"
      },
      "outputs": [
        {
          "data": {
            "text/html": [
              "<div>\n",
              "<style scoped>\n",
              "    .dataframe tbody tr th:only-of-type {\n",
              "        vertical-align: middle;\n",
              "    }\n",
              "\n",
              "    .dataframe tbody tr th {\n",
              "        vertical-align: top;\n",
              "    }\n",
              "\n",
              "    .dataframe thead th {\n",
              "        text-align: right;\n",
              "    }\n",
              "</style>\n",
              "<table border=\"1\" class=\"dataframe\">\n",
              "  <thead>\n",
              "    <tr style=\"text-align: right;\">\n",
              "      <th></th>\n",
              "      <th>gender</th>\n",
              "      <th>near_location</th>\n",
              "      <th>partner</th>\n",
              "      <th>promo_friends</th>\n",
              "      <th>phone</th>\n",
              "      <th>contract_period</th>\n",
              "      <th>group_visits</th>\n",
              "      <th>age</th>\n",
              "      <th>avg_additional_charges_total</th>\n",
              "      <th>lifetime</th>\n",
              "      <th>avg_class_frequency_current_month</th>\n",
              "      <th>churn</th>\n",
              "    </tr>\n",
              "    <tr>\n",
              "      <th>cluster_km</th>\n",
              "      <th></th>\n",
              "      <th></th>\n",
              "      <th></th>\n",
              "      <th></th>\n",
              "      <th></th>\n",
              "      <th></th>\n",
              "      <th></th>\n",
              "      <th></th>\n",
              "      <th></th>\n",
              "      <th></th>\n",
              "      <th></th>\n",
              "      <th></th>\n",
              "    </tr>\n",
              "  </thead>\n",
              "  <tbody>\n",
              "    <tr>\n",
              "      <td>0</td>\n",
              "      <td>0.501</td>\n",
              "      <td>0.000</td>\n",
              "      <td>0.487</td>\n",
              "      <td>0.074</td>\n",
              "      <td>1.000</td>\n",
              "      <td>2.989</td>\n",
              "      <td>0.237</td>\n",
              "      <td>28.700</td>\n",
              "      <td>137.061</td>\n",
              "      <td>2.987</td>\n",
              "      <td>1.594</td>\n",
              "      <td>0.404</td>\n",
              "    </tr>\n",
              "    <tr>\n",
              "      <td>1</td>\n",
              "      <td>0.516</td>\n",
              "      <td>0.999</td>\n",
              "      <td>0.216</td>\n",
              "      <td>0.055</td>\n",
              "      <td>1.000</td>\n",
              "      <td>3.871</td>\n",
              "      <td>0.460</td>\n",
              "      <td>30.053</td>\n",
              "      <td>160.909</td>\n",
              "      <td>4.747</td>\n",
              "      <td>2.050</td>\n",
              "      <td>0.002</td>\n",
              "    </tr>\n",
              "    <tr>\n",
              "      <td>2</td>\n",
              "      <td>0.523</td>\n",
              "      <td>0.863</td>\n",
              "      <td>0.472</td>\n",
              "      <td>0.306</td>\n",
              "      <td>0.000</td>\n",
              "      <td>4.777</td>\n",
              "      <td>0.427</td>\n",
              "      <td>29.298</td>\n",
              "      <td>144.208</td>\n",
              "      <td>3.940</td>\n",
              "      <td>1.724</td>\n",
              "      <td>0.267</td>\n",
              "    </tr>\n",
              "    <tr>\n",
              "      <td>3</td>\n",
              "      <td>0.501</td>\n",
              "      <td>0.992</td>\n",
              "      <td>0.936</td>\n",
              "      <td>0.810</td>\n",
              "      <td>1.000</td>\n",
              "      <td>8.633</td>\n",
              "      <td>0.527</td>\n",
              "      <td>29.927</td>\n",
              "      <td>158.816</td>\n",
              "      <td>4.702</td>\n",
              "      <td>2.031</td>\n",
              "      <td>0.006</td>\n",
              "    </tr>\n",
              "    <tr>\n",
              "      <td>4</td>\n",
              "      <td>0.514</td>\n",
              "      <td>1.000</td>\n",
              "      <td>0.336</td>\n",
              "      <td>0.225</td>\n",
              "      <td>1.000</td>\n",
              "      <td>1.740</td>\n",
              "      <td>0.290</td>\n",
              "      <td>26.903</td>\n",
              "      <td>114.387</td>\n",
              "      <td>0.978</td>\n",
              "      <td>1.046</td>\n",
              "      <td>0.993</td>\n",
              "    </tr>\n",
              "  </tbody>\n",
              "</table>\n",
              "</div>"
            ],
            "text/plain": [
              "            gender  near_location  partner  promo_friends  phone  \\\n",
              "cluster_km                                                         \n",
              "0            0.501          0.000    0.487          0.074  1.000   \n",
              "1            0.516          0.999    0.216          0.055  1.000   \n",
              "2            0.523          0.863    0.472          0.306  0.000   \n",
              "3            0.501          0.992    0.936          0.810  1.000   \n",
              "4            0.514          1.000    0.336          0.225  1.000   \n",
              "\n",
              "            contract_period  group_visits    age  \\\n",
              "cluster_km                                         \n",
              "0                     2.989         0.237 28.700   \n",
              "1                     3.871         0.460 30.053   \n",
              "2                     4.777         0.427 29.298   \n",
              "3                     8.633         0.527 29.927   \n",
              "4                     1.740         0.290 26.903   \n",
              "\n",
              "            avg_additional_charges_total  lifetime  \\\n",
              "cluster_km                                           \n",
              "0                                137.061     2.987   \n",
              "1                                160.909     4.747   \n",
              "2                                144.208     3.940   \n",
              "3                                158.816     4.702   \n",
              "4                                114.387     0.978   \n",
              "\n",
              "            avg_class_frequency_current_month  churn  \n",
              "cluster_km                                            \n",
              "0                                       1.594  0.404  \n",
              "1                                       2.050  0.002  \n",
              "2                                       1.724  0.267  \n",
              "3                                       2.031  0.006  \n",
              "4                                       1.046  0.993  "
            ]
          },
          "execution_count": 39,
          "metadata": {},
          "output_type": "execute_result"
        }
      ],
      "source": [
        "df.groupby('cluster_km') \\\n",
        "  .mean()"
      ]
    },
    {
      "cell_type": "code",
      "execution_count": null,
      "metadata": {
        "id": "m8kWbeLj3GBo",
        "outputId": "9cfa7b6f-06fc-4537-ee6c-c456c9224575"
      },
      "outputs": [
        {
          "data": {
            "image/png": "[encoded data removed]",
            "text/plain": [
              "<Figure size 864x360 with 1 Axes>"
            ]
          },
          "metadata": {},
          "output_type": "display_data"
        },
        {
          "data": {
            "image/png": "[encoded data removed]",
            "text/plain": [
              "<Figure size 864x360 with 1 Axes>"
            ]
          },
          "metadata": {},
          "output_type": "display_data"
        },
        {
          "data": {
            "image/png": "[encoded data removed]",
            "text/plain": [
              "<Figure size 864x360 with 1 Axes>"
            ]
          },
          "metadata": {},
          "output_type": "display_data"
        },
        {
          "data": {
            "image/png": "[encoded data removed]",
            "text/plain": [
              "<Figure size 864x360 with 1 Axes>"
            ]
          },
          "metadata": {},
          "output_type": "display_data"
        },
        {
          "data": {
            "image/png": "[encoded data removed]",
            "text/plain": [
              "<Figure size 864x360 with 1 Axes>"
            ]
          },
          "metadata": {},
          "output_type": "display_data"
        },
        {
          "data": {
            "image/png": "[encoded data removed]",
            "text/plain": [
              "<Figure size 864x360 with 1 Axes>"
            ]
          },
          "metadata": {},
          "output_type": "display_data"
        },
        {
          "data": {
            "image/png": "[encoded data removed]",
            "text/plain": [
              "<Figure size 864x360 with 1 Axes>"
            ]
          },
          "metadata": {},
          "output_type": "display_data"
        }
      ],
      "source": [
        "for column in binary:\n",
        "    plt.figure(figsize=(12,5))\n",
        "    sns.countplot(x = df[column], hue='cluster_km', data=df)\n",
        "    plt.title(f\"Распределение значений для переменной \" + str(column))\n",
        "    plt.ylabel(\"Количество наблюдений\")\n",
        "    plt.show()"
      ]
    },
    {
      "cell_type": "code",
      "execution_count": null,
      "metadata": {
        "id": "15-8o5Ad3GBo",
        "outputId": "a8c37735-0f0c-463b-8a19-3f6a536566d7"
      },
      "outputs": [
        {
          "data": {
            "image/png": "[encoded data removed]",
            "text/plain": [
              "<Figure size 864x360 with 1 Axes>"
            ]
          },
          "metadata": {},
          "output_type": "display_data"
        },
        {
          "data": {
            "image/png": "[encoded data removed]",
            "text/plain": [
              "<Figure size 864x360 with 1 Axes>"
            ]
          },
          "metadata": {},
          "output_type": "display_data"
        },
        {
          "data": {
            "image/png": "[encoded data removed]",
            "text/plain": [
              "<Figure size 864x360 with 1 Axes>"
            ]
          },
          "metadata": {},
          "output_type": "display_data"
        },
        {
          "data": {
            "image/png": "[encoded data removed]",
            "text/plain": [
              "<Figure size 864x360 with 1 Axes>"
            ]
          },
          "metadata": {},
          "output_type": "display_data"
        }
      ],
      "source": [
        "bp_new = ['age', 'avg_additional_charges_total', 'lifetime', 'avg_class_frequency_current_month']\n",
        "for column in bp_new:\n",
        "    plt.figure(figsize=(12,5))\n",
        "    sns.boxplot(x = 'churn', y = df[column], data = df)\n",
        "    plt.title(f\"Распределение значений для переменной \" + str(column))\n",
        "    plt.show()"
      ]
    },
    {
      "cell_type": "markdown",
      "metadata": {
        "id": "79z9F7h_3GBo"
      },
      "source": [
        "**Наиболее склонны к оттоку представители кластера 4**. Их можно охарактеризовать следующим образом:\n",
        "* Все представители живут рядом с фитнес-центром\n",
        "* Большая часть из не работает в партнерских организациях\n",
        "* Пришли скорее не по приглашению друга\n",
        "* Заключают контракт на короткий срок\n",
        "* Почти не посещают групповые занятия\n",
        "* Наиболее молодой кластер\n",
        "* Их расходы на дополнительные услуги меньше, чем в остальных кластерах\n",
        "* Наиболее низкий lifetime\n",
        "* Наиболее низкая частота посещения в последний месяц\n",
        "\n",
        "**Наименее склонны к оттоку представители кластера 1**. Их можно охарактеризовать следующим образом:\n",
        "* Подавляющее большинство представителей живут рядом с фитнес-центром\n",
        "* Большая часть из не работает в партнерских организациях\n",
        "* Пришли скорее не по приглашению друга\n",
        "* Средний относительно других кластеров период контаркта\n",
        "* Многие посещает групповые занятия\n",
        "* Самые старые\n",
        "* У них наибольшие расходы на дополнительные услуги\n",
        "* Наиболее высокий среди кластеров lifetime\n",
        "* У них самая большая частота посещения\n",
        "\n",
        "**Также наименее склонен к оттоку кластер 3**. Их можно охарактеризовать следующим образом:\n",
        "* Подавляющее большинство представителей живут рядом с фитнес-центром\n",
        "* Занимаются в большинстве своем по \"партнерке\"\n",
        "* Приглашены друзьями\n",
        "* У них самый длинный период контракта\n",
        "* Они чаще остальных занимаются в группах\n",
        "* Также один из наиболее старых кластеров\n",
        "* Почти не отстают по расходам от предыдущих\n",
        "* Они на втором месте по lifetime\n",
        "* Посещают лишь чуть реже предыдущих"
      ]
    },
    {
      "cell_type": "markdown",
      "metadata": {
        "id": "DEBXQ2FT3GBp"
      },
      "source": [
        "## Выводы и рекомендации"
      ]
    },
    {
      "cell_type": "markdown",
      "metadata": {
        "id": "xrk9YbL13GBp"
      },
      "source": [
        "***Основные выводы исследования:***\n",
        "\n",
        "1. Рекомендуется сосредоточиться на увеличении следующих показателей:\n",
        "* lifetime (скидки и бонусы старым клиентам)\n",
        "* avg_class_frequency_current_month (геймификация, бонусы за регулярное и постоянное посещение)\n",
        "* age (больше таргетировать на взрослую аудиторию)\n",
        "* contract_period (больше сконцентрироваться на продвижении более длительных контрактов)\n",
        "* avg_additional_charges_total\n",
        "2. Оказывать всевозможную поддержку представителям 1 и 3 класса.\n",
        "3. Выстроить предиктивную систему аналитики, чтобы предпринимать меры по удержанию клиентов, оказавшихся в группе риска к оттоку."
      ]
    }
  ],
  "metadata": {
    "ExecuteTimeLog": [
      {
        "duration": 1295,
        "start_time": "2022-02-02T11:17:18.498Z"
      },
      {
        "duration": 9,
        "start_time": "2022-02-02T11:17:57.657Z"
      },
      {
        "duration": 23,
        "start_time": "2022-02-02T11:18:27.743Z"
      },
      {
        "duration": 15,
        "start_time": "2022-02-02T11:19:04.538Z"
      },
      {
        "duration": 380,
        "start_time": "2022-02-02T11:19:57.741Z"
      },
      {
        "duration": 9,
        "start_time": "2022-02-02T11:20:02.599Z"
      },
      {
        "duration": 8,
        "start_time": "2022-02-02T11:21:07.644Z"
      },
      {
        "duration": 362,
        "start_time": "2022-02-02T11:21:30.041Z"
      },
      {
        "duration": 4,
        "start_time": "2022-02-02T11:22:36.237Z"
      },
      {
        "duration": 258,
        "start_time": "2022-02-02T11:22:47.685Z"
      },
      {
        "duration": 5,
        "start_time": "2022-02-02T11:22:50.847Z"
      },
      {
        "duration": 94,
        "start_time": "2022-02-02T11:23:00.013Z"
      },
      {
        "duration": 314,
        "start_time": "2022-02-02T11:30:53.290Z"
      },
      {
        "duration": 8,
        "start_time": "2022-02-02T11:31:01.386Z"
      },
      {
        "duration": 15,
        "start_time": "2022-02-02T11:42:29.977Z"
      },
      {
        "duration": 8,
        "start_time": "2022-02-02T11:43:40.365Z"
      },
      {
        "duration": 85,
        "start_time": "2022-02-02T11:46:09.610Z"
      },
      {
        "duration": 47,
        "start_time": "2022-02-02T11:54:10.408Z"
      },
      {
        "duration": 12,
        "start_time": "2022-02-02T12:35:18.647Z"
      },
      {
        "duration": 13,
        "start_time": "2022-02-02T12:35:40.675Z"
      },
      {
        "duration": 93,
        "start_time": "2022-02-02T12:36:38.485Z"
      },
      {
        "duration": 116,
        "start_time": "2022-02-02T12:36:41.994Z"
      },
      {
        "duration": 14,
        "start_time": "2022-02-02T12:36:45.713Z"
      },
      {
        "duration": 286,
        "start_time": "2022-02-02T13:00:43.870Z"
      },
      {
        "duration": 3345,
        "start_time": "2022-02-02T13:01:43.282Z"
      },
      {
        "duration": 7452,
        "start_time": "2022-02-02T13:05:10.563Z"
      },
      {
        "duration": 6877,
        "start_time": "2022-02-02T13:05:29.136Z"
      },
      {
        "duration": 6693,
        "start_time": "2022-02-02T13:05:37.786Z"
      },
      {
        "duration": 3541,
        "start_time": "2022-02-02T13:05:48.618Z"
      },
      {
        "duration": 8,
        "start_time": "2022-02-02T13:07:55.632Z"
      },
      {
        "duration": 3377,
        "start_time": "2022-02-02T13:08:12.773Z"
      },
      {
        "duration": 3824,
        "start_time": "2022-02-02T13:09:30.512Z"
      },
      {
        "duration": 200,
        "start_time": "2022-02-02T13:48:00.224Z"
      },
      {
        "duration": 1214,
        "start_time": "2022-02-02T13:48:32.894Z"
      },
      {
        "duration": 1293,
        "start_time": "2022-02-02T13:49:34.770Z"
      },
      {
        "duration": 1454,
        "start_time": "2022-02-02T13:49:48.875Z"
      },
      {
        "duration": 1294,
        "start_time": "2022-02-02T13:50:02.523Z"
      },
      {
        "duration": 1385,
        "start_time": "2022-02-02T13:50:08.854Z"
      },
      {
        "duration": 4,
        "start_time": "2022-02-02T13:58:50.201Z"
      },
      {
        "duration": 4,
        "start_time": "2022-02-02T14:00:53.254Z"
      },
      {
        "duration": 254,
        "start_time": "2022-02-02T14:02:40.056Z"
      },
      {
        "duration": 135,
        "start_time": "2022-02-02T14:03:28.008Z"
      },
      {
        "duration": 6,
        "start_time": "2022-02-02T14:03:35.282Z"
      },
      {
        "duration": 8,
        "start_time": "2022-02-02T14:03:54.206Z"
      },
      {
        "duration": 18,
        "start_time": "2022-02-02T14:04:16.963Z"
      },
      {
        "duration": 16,
        "start_time": "2022-02-02T14:05:06.987Z"
      },
      {
        "duration": 5,
        "start_time": "2022-02-02T14:06:25.161Z"
      },
      {
        "duration": 15,
        "start_time": "2022-02-02T14:07:43.720Z"
      },
      {
        "duration": 277,
        "start_time": "2022-02-02T14:09:14.541Z"
      },
      {
        "duration": 740,
        "start_time": "2022-02-02T14:09:40.442Z"
      },
      {
        "duration": 30,
        "start_time": "2022-02-02T14:09:44.419Z"
      },
      {
        "duration": 48,
        "start_time": "2022-02-02T14:09:49.875Z"
      },
      {
        "duration": 46,
        "start_time": "2022-02-02T14:10:07.868Z"
      },
      {
        "duration": 10,
        "start_time": "2022-02-02T14:10:36.935Z"
      },
      {
        "duration": 12,
        "start_time": "2022-02-02T14:10:45.213Z"
      },
      {
        "duration": 283,
        "start_time": "2022-02-02T14:15:25.072Z"
      },
      {
        "duration": 6,
        "start_time": "2022-02-02T14:15:58.144Z"
      },
      {
        "duration": 18,
        "start_time": "2022-02-02T14:17:08.942Z"
      },
      {
        "duration": 4,
        "start_time": "2022-02-02T14:18:22.170Z"
      },
      {
        "duration": 3,
        "start_time": "2022-02-02T14:18:24.524Z"
      },
      {
        "duration": 1676,
        "start_time": "2022-02-02T14:18:34.435Z"
      },
      {
        "duration": 3,
        "start_time": "2022-02-02T14:18:51.730Z"
      },
      {
        "duration": 23,
        "start_time": "2022-02-02T14:18:54.654Z"
      },
      {
        "duration": 4,
        "start_time": "2022-02-02T14:22:59.468Z"
      },
      {
        "duration": 734,
        "start_time": "2022-02-02T14:25:01.771Z"
      },
      {
        "duration": 663,
        "start_time": "2022-02-02T14:25:32.028Z"
      },
      {
        "duration": 16,
        "start_time": "2022-02-02T14:31:21.166Z"
      },
      {
        "duration": 7,
        "start_time": "2022-02-02T14:33:08.811Z"
      },
      {
        "duration": 278,
        "start_time": "2022-02-02T14:34:40.017Z"
      },
      {
        "duration": 5,
        "start_time": "2022-02-02T14:35:00.668Z"
      },
      {
        "duration": 490,
        "start_time": "2022-02-02T14:35:05.285Z"
      },
      {
        "duration": 118,
        "start_time": "2022-02-02T14:36:33.577Z"
      },
      {
        "duration": 5,
        "start_time": "2022-02-02T14:37:45.966Z"
      },
      {
        "duration": 305,
        "start_time": "2022-02-02T14:38:20.843Z"
      },
      {
        "duration": 615,
        "start_time": "2022-02-02T14:38:29.045Z"
      },
      {
        "duration": 98208,
        "start_time": "2022-02-02T14:38:39.276Z"
      },
      {
        "duration": 1570,
        "start_time": "2022-02-02T14:40:38.424Z"
      },
      {
        "duration": 15,
        "start_time": "2022-02-02T14:40:39.997Z"
      },
      {
        "duration": 28,
        "start_time": "2022-02-02T14:40:40.015Z"
      },
      {
        "duration": 16,
        "start_time": "2022-02-02T14:40:40.045Z"
      },
      {
        "duration": 23,
        "start_time": "2022-02-02T14:40:40.063Z"
      },
      {
        "duration": 15781,
        "start_time": "2022-02-02T14:40:40.088Z"
      },
      {
        "duration": -47357,
        "start_time": "2022-02-02T14:41:43.230Z"
      },
      {
        "duration": -47358,
        "start_time": "2022-02-02T14:41:43.233Z"
      },
      {
        "duration": -47361,
        "start_time": "2022-02-02T14:41:43.237Z"
      },
      {
        "duration": -47365,
        "start_time": "2022-02-02T14:41:43.243Z"
      },
      {
        "duration": -47371,
        "start_time": "2022-02-02T14:41:43.251Z"
      },
      {
        "duration": -47374,
        "start_time": "2022-02-02T14:41:43.255Z"
      },
      {
        "duration": -47375,
        "start_time": "2022-02-02T14:41:43.258Z"
      },
      {
        "duration": -47381,
        "start_time": "2022-02-02T14:41:43.266Z"
      },
      {
        "duration": -47384,
        "start_time": "2022-02-02T14:41:43.270Z"
      },
      {
        "duration": -47385,
        "start_time": "2022-02-02T14:41:43.272Z"
      },
      {
        "duration": -47387,
        "start_time": "2022-02-02T14:41:43.275Z"
      },
      {
        "duration": -47394,
        "start_time": "2022-02-02T14:41:43.283Z"
      },
      {
        "duration": -47395,
        "start_time": "2022-02-02T14:41:43.286Z"
      },
      {
        "duration": -47397,
        "start_time": "2022-02-02T14:41:43.289Z"
      },
      {
        "duration": -47404,
        "start_time": "2022-02-02T14:41:43.298Z"
      },
      {
        "duration": -47406,
        "start_time": "2022-02-02T14:41:43.301Z"
      },
      {
        "duration": -47406,
        "start_time": "2022-02-02T14:41:43.303Z"
      },
      {
        "duration": -47402,
        "start_time": "2022-02-02T14:41:43.305Z"
      },
      {
        "duration": -47404,
        "start_time": "2022-02-02T14:41:43.308Z"
      },
      {
        "duration": -47405,
        "start_time": "2022-02-02T14:41:43.310Z"
      },
      {
        "duration": -47406,
        "start_time": "2022-02-02T14:41:43.312Z"
      },
      {
        "duration": -47404,
        "start_time": "2022-02-02T14:41:43.314Z"
      },
      {
        "duration": -47404,
        "start_time": "2022-02-02T14:41:43.315Z"
      },
      {
        "duration": -47404,
        "start_time": "2022-02-02T14:41:43.317Z"
      },
      {
        "duration": -47404,
        "start_time": "2022-02-02T14:41:43.318Z"
      },
      {
        "duration": -47407,
        "start_time": "2022-02-02T14:41:43.322Z"
      },
      {
        "duration": -47409,
        "start_time": "2022-02-02T14:41:43.325Z"
      },
      {
        "duration": -47409,
        "start_time": "2022-02-02T14:41:43.327Z"
      },
      {
        "duration": 1270,
        "start_time": "2022-02-02T14:42:29.071Z"
      },
      {
        "duration": 8,
        "start_time": "2022-02-02T14:42:30.343Z"
      },
      {
        "duration": 26,
        "start_time": "2022-02-02T14:42:30.353Z"
      },
      {
        "duration": 22,
        "start_time": "2022-02-02T14:42:30.381Z"
      },
      {
        "duration": 22,
        "start_time": "2022-02-02T14:42:30.405Z"
      },
      {
        "duration": 19,
        "start_time": "2022-02-02T14:42:30.429Z"
      },
      {
        "duration": 13,
        "start_time": "2022-02-02T14:42:30.450Z"
      },
      {
        "duration": 20,
        "start_time": "2022-02-02T14:42:30.465Z"
      },
      {
        "duration": 8,
        "start_time": "2022-02-02T14:42:30.489Z"
      },
      {
        "duration": 387,
        "start_time": "2022-02-02T14:42:30.502Z"
      },
      {
        "duration": 10,
        "start_time": "2022-02-02T14:42:30.891Z"
      },
      {
        "duration": 74,
        "start_time": "2022-02-02T14:42:30.904Z"
      },
      {
        "duration": 14,
        "start_time": "2022-02-02T14:42:30.980Z"
      },
      {
        "duration": 3787,
        "start_time": "2022-02-02T14:42:30.996Z"
      },
      {
        "duration": 2144,
        "start_time": "2022-02-02T14:42:34.786Z"
      },
      {
        "duration": -47490,
        "start_time": "2022-02-02T14:43:24.424Z"
      },
      {
        "duration": -47490,
        "start_time": "2022-02-02T14:43:24.426Z"
      },
      {
        "duration": -47493,
        "start_time": "2022-02-02T14:43:24.430Z"
      },
      {
        "duration": -47493,
        "start_time": "2022-02-02T14:43:24.432Z"
      },
      {
        "duration": -47494,
        "start_time": "2022-02-02T14:43:24.435Z"
      },
      {
        "duration": -47494,
        "start_time": "2022-02-02T14:43:24.437Z"
      },
      {
        "duration": -47495,
        "start_time": "2022-02-02T14:43:24.439Z"
      },
      {
        "duration": -47495,
        "start_time": "2022-02-02T14:43:24.441Z"
      },
      {
        "duration": -47495,
        "start_time": "2022-02-02T14:43:24.443Z"
      },
      {
        "duration": -47495,
        "start_time": "2022-02-02T14:43:24.444Z"
      },
      {
        "duration": -47495,
        "start_time": "2022-02-02T14:43:24.446Z"
      },
      {
        "duration": -47494,
        "start_time": "2022-02-02T14:43:24.447Z"
      },
      {
        "duration": -47494,
        "start_time": "2022-02-02T14:43:24.449Z"
      },
      {
        "duration": -47501,
        "start_time": "2022-02-02T14:43:24.458Z"
      },
      {
        "duration": -47503,
        "start_time": "2022-02-02T14:43:24.460Z"
      },
      {
        "duration": -47504,
        "start_time": "2022-02-02T14:43:24.462Z"
      },
      {
        "duration": -47505,
        "start_time": "2022-02-02T14:43:24.463Z"
      },
      {
        "duration": -47506,
        "start_time": "2022-02-02T14:43:24.465Z"
      },
      {
        "duration": -47508,
        "start_time": "2022-02-02T14:43:24.468Z"
      },
      {
        "duration": 1483,
        "start_time": "2022-02-02T14:43:40.531Z"
      },
      {
        "duration": 4,
        "start_time": "2022-02-02T14:43:51.688Z"
      },
      {
        "duration": 7,
        "start_time": "2022-02-02T14:43:52.129Z"
      },
      {
        "duration": 10,
        "start_time": "2022-02-02T14:43:52.530Z"
      },
      {
        "duration": 17,
        "start_time": "2022-02-02T14:43:53.046Z"
      },
      {
        "duration": 43,
        "start_time": "2022-02-02T14:43:53.565Z"
      },
      {
        "duration": 13,
        "start_time": "2022-02-02T14:43:54.210Z"
      },
      {
        "duration": 41,
        "start_time": "2022-02-02T14:43:54.717Z"
      },
      {
        "duration": 9,
        "start_time": "2022-02-02T14:43:55.624Z"
      },
      {
        "duration": 14,
        "start_time": "2022-02-02T14:43:56.315Z"
      },
      {
        "duration": 6,
        "start_time": "2022-02-02T14:43:57.631Z"
      },
      {
        "duration": 574,
        "start_time": "2022-02-02T14:43:58.166Z"
      },
      {
        "duration": 108088,
        "start_time": "2022-02-02T14:44:00.103Z"
      },
      {
        "duration": 8,
        "start_time": "2022-02-02T14:45:48.193Z"
      },
      {
        "duration": 1318,
        "start_time": "2022-02-02T14:45:48.203Z"
      },
      {
        "duration": 78,
        "start_time": "2022-02-02T14:45:49.524Z"
      },
      {
        "duration": 23,
        "start_time": "2022-02-02T14:47:03.281Z"
      },
      {
        "duration": 16,
        "start_time": "2022-02-02T14:47:08.017Z"
      },
      {
        "duration": 7,
        "start_time": "2022-02-02T14:47:21.314Z"
      },
      {
        "duration": 520,
        "start_time": "2022-02-02T14:47:33.047Z"
      },
      {
        "duration": 5,
        "start_time": "2022-02-02T14:54:00.931Z"
      },
      {
        "duration": 98,
        "start_time": "2022-02-02T14:55:14.981Z"
      },
      {
        "duration": 5,
        "start_time": "2022-02-02T14:55:46.040Z"
      },
      {
        "duration": 284,
        "start_time": "2022-02-02T14:56:13.273Z"
      },
      {
        "duration": 6,
        "start_time": "2022-02-02T15:09:55.304Z"
      },
      {
        "duration": 3,
        "start_time": "2022-02-02T15:12:11.953Z"
      },
      {
        "duration": 3,
        "start_time": "2022-02-02T15:14:54.715Z"
      },
      {
        "duration": 731642,
        "start_time": "2022-02-02T15:16:59.837Z"
      },
      {
        "duration": 271,
        "start_time": "2022-02-02T16:01:20.217Z"
      },
      {
        "duration": 13,
        "start_time": "2022-02-02T16:01:47.037Z"
      },
      {
        "duration": 25,
        "start_time": "2022-02-02T16:02:04.228Z"
      },
      {
        "duration": 19,
        "start_time": "2022-02-02T16:02:26.086Z"
      },
      {
        "duration": 269,
        "start_time": "2022-02-02T16:03:50.985Z"
      },
      {
        "duration": 3857,
        "start_time": "2022-02-02T16:04:25.778Z"
      },
      {
        "duration": 935,
        "start_time": "2022-02-02T16:04:50.366Z"
      },
      {
        "duration": 1065,
        "start_time": "2022-02-02T16:05:09.893Z"
      },
      {
        "duration": 273,
        "start_time": "2022-02-02T16:08:35.132Z"
      },
      {
        "duration": 291,
        "start_time": "2022-02-02T16:08:49.378Z"
      },
      {
        "duration": 1226,
        "start_time": "2022-02-03T11:57:48.694Z"
      },
      {
        "duration": 8,
        "start_time": "2022-02-03T11:57:49.922Z"
      },
      {
        "duration": 22,
        "start_time": "2022-02-03T11:57:50.467Z"
      },
      {
        "duration": 11,
        "start_time": "2022-02-03T11:58:03.597Z"
      },
      {
        "duration": 3,
        "start_time": "2022-02-03T11:59:17.988Z"
      },
      {
        "duration": 4,
        "start_time": "2022-02-03T11:59:31.252Z"
      },
      {
        "duration": 622,
        "start_time": "2022-02-03T12:03:25.963Z"
      },
      {
        "duration": 9,
        "start_time": "2022-02-03T12:03:32.231Z"
      },
      {
        "duration": 107,
        "start_time": "2022-02-03T13:56:00.518Z"
      },
      {
        "duration": 110,
        "start_time": "2022-02-03T14:00:00.540Z"
      },
      {
        "duration": 1257,
        "start_time": "2022-02-03T14:00:19.499Z"
      },
      {
        "duration": 1563,
        "start_time": "2022-02-03T14:01:09.011Z"
      },
      {
        "duration": 100,
        "start_time": "2022-02-03T14:01:23.153Z"
      },
      {
        "duration": 1268,
        "start_time": "2022-02-03T14:02:04.059Z"
      },
      {
        "duration": 1183,
        "start_time": "2022-02-03T14:02:08.449Z"
      },
      {
        "duration": 412,
        "start_time": "2022-02-03T14:04:09.491Z"
      },
      {
        "duration": 1381,
        "start_time": "2022-02-03T14:04:27.890Z"
      },
      {
        "duration": 4,
        "start_time": "2022-02-03T14:04:42.218Z"
      },
      {
        "duration": 341,
        "start_time": "2022-02-03T14:04:50.663Z"
      },
      {
        "duration": 4,
        "start_time": "2022-02-03T14:05:26.154Z"
      },
      {
        "duration": 1242,
        "start_time": "2022-02-03T14:05:35.633Z"
      },
      {
        "duration": 5,
        "start_time": "2022-02-03T14:09:11.757Z"
      },
      {
        "duration": 1120,
        "start_time": "2022-02-03T14:09:16.794Z"
      },
      {
        "duration": 7,
        "start_time": "2022-02-03T14:09:17.916Z"
      },
      {
        "duration": 25,
        "start_time": "2022-02-03T14:09:17.924Z"
      },
      {
        "duration": 12,
        "start_time": "2022-02-03T14:09:17.950Z"
      },
      {
        "duration": 4,
        "start_time": "2022-02-03T14:09:17.963Z"
      },
      {
        "duration": 6,
        "start_time": "2022-02-03T14:09:17.968Z"
      },
      {
        "duration": 9,
        "start_time": "2022-02-03T14:09:17.975Z"
      },
      {
        "duration": 525,
        "start_time": "2022-02-03T14:09:17.986Z"
      },
      {
        "duration": 8,
        "start_time": "2022-02-03T14:09:18.513Z"
      },
      {
        "duration": 37,
        "start_time": "2022-02-03T14:09:18.523Z"
      },
      {
        "duration": 8,
        "start_time": "2022-02-03T14:09:18.562Z"
      },
      {
        "duration": 1257,
        "start_time": "2022-02-03T14:09:18.571Z"
      },
      {
        "duration": 758,
        "start_time": "2022-02-03T14:09:19.830Z"
      },
      {
        "duration": 1285,
        "start_time": "2022-02-03T14:09:20.589Z"
      },
      {
        "duration": 3,
        "start_time": "2022-02-03T14:09:21.876Z"
      },
      {
        "duration": 7,
        "start_time": "2022-02-03T14:09:21.880Z"
      },
      {
        "duration": 6,
        "start_time": "2022-02-03T14:09:21.889Z"
      },
      {
        "duration": 32,
        "start_time": "2022-02-03T14:09:21.896Z"
      },
      {
        "duration": 4,
        "start_time": "2022-02-03T14:09:21.929Z"
      },
      {
        "duration": 192,
        "start_time": "2022-02-03T14:09:21.935Z"
      },
      {
        "duration": 33,
        "start_time": "2022-02-03T14:09:22.129Z"
      },
      {
        "duration": 6,
        "start_time": "2022-02-03T14:09:22.163Z"
      },
      {
        "duration": 9,
        "start_time": "2022-02-03T14:09:22.172Z"
      },
      {
        "duration": 4,
        "start_time": "2022-02-03T14:09:22.183Z"
      },
      {
        "duration": 501,
        "start_time": "2022-02-03T14:09:22.189Z"
      },
      {
        "duration": 78585,
        "start_time": "2022-02-03T14:09:22.692Z"
      },
      {
        "duration": 2,
        "start_time": "2022-02-03T14:10:41.278Z"
      },
      {
        "duration": 1149,
        "start_time": "2022-02-03T14:10:41.282Z"
      },
      {
        "duration": 94,
        "start_time": "2022-02-03T14:10:42.433Z"
      },
      {
        "duration": 15,
        "start_time": "2022-02-03T14:10:42.529Z"
      },
      {
        "duration": 5,
        "start_time": "2022-02-03T14:10:42.546Z"
      },
      {
        "duration": 11,
        "start_time": "2022-02-03T14:10:42.552Z"
      },
      {
        "duration": 602,
        "start_time": "2022-02-03T14:10:42.565Z"
      },
      {
        "duration": 430,
        "start_time": "2022-02-03T14:10:43.169Z"
      },
      {
        "duration": -48811,
        "start_time": "2022-02-03T14:11:32.413Z"
      },
      {
        "duration": 986,
        "start_time": "2022-02-03T14:11:24.196Z"
      },
      {
        "duration": -48808,
        "start_time": "2022-02-03T14:21:13.338Z"
      },
      {
        "duration": 1200,
        "start_time": "2022-02-03T14:20:32.426Z"
      },
      {
        "duration": 6,
        "start_time": "2022-02-03T14:20:33.628Z"
      },
      {
        "duration": 21,
        "start_time": "2022-02-03T14:20:33.636Z"
      },
      {
        "duration": 15,
        "start_time": "2022-02-03T14:20:33.659Z"
      },
      {
        "duration": 2,
        "start_time": "2022-02-03T14:20:33.676Z"
      },
      {
        "duration": 5,
        "start_time": "2022-02-03T14:20:33.679Z"
      },
      {
        "duration": 7,
        "start_time": "2022-02-03T14:20:33.686Z"
      },
      {
        "duration": 565,
        "start_time": "2022-02-03T14:20:33.695Z"
      },
      {
        "duration": 8,
        "start_time": "2022-02-03T14:20:34.263Z"
      },
      {
        "duration": 58,
        "start_time": "2022-02-03T14:20:34.273Z"
      },
      {
        "duration": 9,
        "start_time": "2022-02-03T14:20:34.332Z"
      },
      {
        "duration": 1378,
        "start_time": "2022-02-03T14:20:34.343Z"
      },
      {
        "duration": 993,
        "start_time": "2022-02-03T14:20:35.727Z"
      },
      {
        "duration": 1190,
        "start_time": "2022-02-03T14:20:36.721Z"
      },
      {
        "duration": 123,
        "start_time": "2022-02-03T14:20:37.913Z"
      },
      {
        "duration": -48795,
        "start_time": "2022-02-03T14:21:26.833Z"
      },
      {
        "duration": -48797,
        "start_time": "2022-02-03T14:21:26.836Z"
      },
      {
        "duration": -48800,
        "start_time": "2022-02-03T14:21:26.839Z"
      },
      {
        "duration": -48801,
        "start_time": "2022-02-03T14:21:26.841Z"
      },
      {
        "duration": -48802,
        "start_time": "2022-02-03T14:21:26.843Z"
      },
      {
        "duration": -48803,
        "start_time": "2022-02-03T14:21:26.845Z"
      },
      {
        "duration": -48803,
        "start_time": "2022-02-03T14:21:26.847Z"
      },
      {
        "duration": -48807,
        "start_time": "2022-02-03T14:21:26.852Z"
      },
      {
        "duration": -48808,
        "start_time": "2022-02-03T14:21:26.854Z"
      },
      {
        "duration": -48808,
        "start_time": "2022-02-03T14:21:26.856Z"
      },
      {
        "duration": -48809,
        "start_time": "2022-02-03T14:21:26.858Z"
      },
      {
        "duration": -48809,
        "start_time": "2022-02-03T14:21:26.859Z"
      },
      {
        "duration": -48817,
        "start_time": "2022-02-03T14:21:26.869Z"
      },
      {
        "duration": -48819,
        "start_time": "2022-02-03T14:21:26.872Z"
      },
      {
        "duration": -48819,
        "start_time": "2022-02-03T14:21:26.873Z"
      },
      {
        "duration": -48819,
        "start_time": "2022-02-03T14:21:26.875Z"
      },
      {
        "duration": -48819,
        "start_time": "2022-02-03T14:21:26.876Z"
      },
      {
        "duration": -48820,
        "start_time": "2022-02-03T14:21:26.878Z"
      },
      {
        "duration": -48821,
        "start_time": "2022-02-03T14:21:26.880Z"
      },
      {
        "duration": -48823,
        "start_time": "2022-02-03T14:21:26.884Z"
      },
      {
        "duration": -48824,
        "start_time": "2022-02-03T14:21:26.886Z"
      },
      {
        "duration": 997,
        "start_time": "2022-02-03T14:21:09.469Z"
      },
      {
        "duration": 1063,
        "start_time": "2022-02-03T14:21:23.864Z"
      },
      {
        "duration": 1212,
        "start_time": "2022-02-03T14:21:39.979Z"
      },
      {
        "duration": 1207,
        "start_time": "2022-02-03T14:21:58.603Z"
      },
      {
        "duration": 1307,
        "start_time": "2022-02-03T14:22:19.845Z"
      },
      {
        "duration": 1117,
        "start_time": "2022-02-03T14:22:42.289Z"
      },
      {
        "duration": 1215,
        "start_time": "2022-02-03T14:22:59.983Z"
      },
      {
        "duration": 1098,
        "start_time": "2022-02-03T14:23:08.815Z"
      },
      {
        "duration": 1071,
        "start_time": "2022-02-03T14:23:19.547Z"
      },
      {
        "duration": 1059,
        "start_time": "2022-02-03T14:23:26.161Z"
      },
      {
        "duration": 1301,
        "start_time": "2022-02-03T14:23:55.548Z"
      },
      {
        "duration": 1110,
        "start_time": "2022-02-03T14:24:04.131Z"
      },
      {
        "duration": 1093,
        "start_time": "2022-02-03T14:24:11.747Z"
      },
      {
        "duration": 1128,
        "start_time": "2022-02-03T14:24:18.125Z"
      },
      {
        "duration": 1180,
        "start_time": "2022-02-03T14:24:26.530Z"
      },
      {
        "duration": 1111,
        "start_time": "2022-02-03T14:24:36.230Z"
      },
      {
        "duration": 1102,
        "start_time": "2022-02-03T14:24:43.054Z"
      },
      {
        "duration": 1282,
        "start_time": "2022-02-03T14:24:56.997Z"
      },
      {
        "duration": 4,
        "start_time": "2022-02-03T14:41:34.592Z"
      },
      {
        "duration": 13,
        "start_time": "2022-02-03T14:41:37.558Z"
      },
      {
        "duration": 4,
        "start_time": "2022-02-03T14:41:59.712Z"
      },
      {
        "duration": 6,
        "start_time": "2022-02-03T14:42:01.147Z"
      },
      {
        "duration": 486,
        "start_time": "2022-02-03T14:43:46.275Z"
      },
      {
        "duration": 7,
        "start_time": "2022-02-03T14:43:56.336Z"
      },
      {
        "duration": 13,
        "start_time": "2022-02-03T14:44:07.707Z"
      },
      {
        "duration": 3,
        "start_time": "2022-02-03T14:51:36.646Z"
      },
      {
        "duration": 11,
        "start_time": "2022-02-03T14:51:37.378Z"
      },
      {
        "duration": 32,
        "start_time": "2022-02-03T14:52:46.269Z"
      },
      {
        "duration": 33,
        "start_time": "2022-02-03T14:54:44.437Z"
      },
      {
        "duration": 6,
        "start_time": "2022-02-03T14:54:54.000Z"
      },
      {
        "duration": 12,
        "start_time": "2022-02-03T14:54:55.144Z"
      },
      {
        "duration": 8,
        "start_time": "2022-02-03T14:56:01.024Z"
      },
      {
        "duration": 11,
        "start_time": "2022-02-03T14:56:01.584Z"
      },
      {
        "duration": 163,
        "start_time": "2022-02-03T15:08:15.791Z"
      },
      {
        "duration": 6,
        "start_time": "2022-02-03T15:09:08.638Z"
      },
      {
        "duration": 374,
        "start_time": "2022-02-03T15:09:26.652Z"
      },
      {
        "duration": 760,
        "start_time": "2022-02-03T15:09:37.278Z"
      },
      {
        "duration": 7,
        "start_time": "2022-02-03T15:10:59.606Z"
      },
      {
        "duration": 740,
        "start_time": "2022-02-03T15:11:00.666Z"
      },
      {
        "duration": 7,
        "start_time": "2022-02-03T15:12:01.724Z"
      },
      {
        "duration": 34767,
        "start_time": "2022-02-03T15:12:02.751Z"
      },
      {
        "duration": 117,
        "start_time": "2022-02-03T15:14:04.018Z"
      },
      {
        "duration": 15,
        "start_time": "2022-02-03T15:14:20.521Z"
      },
      {
        "duration": 10,
        "start_time": "2022-02-03T15:14:33.094Z"
      },
      {
        "duration": 7,
        "start_time": "2022-02-03T15:16:37.448Z"
      },
      {
        "duration": 759,
        "start_time": "2022-02-03T15:16:38.553Z"
      },
      {
        "duration": 6,
        "start_time": "2022-02-03T15:17:03.937Z"
      },
      {
        "duration": 34543,
        "start_time": "2022-02-03T15:17:04.945Z"
      },
      {
        "duration": 93,
        "start_time": "2022-02-03T15:17:58.520Z"
      },
      {
        "duration": 15,
        "start_time": "2022-02-03T15:18:01.084Z"
      },
      {
        "duration": 10,
        "start_time": "2022-02-03T15:18:02.040Z"
      },
      {
        "duration": 5,
        "start_time": "2022-02-03T15:21:14.204Z"
      },
      {
        "duration": 447,
        "start_time": "2022-02-03T15:21:47.030Z"
      },
      {
        "duration": 74974,
        "start_time": "2022-02-03T15:21:54.247Z"
      },
      {
        "duration": 3,
        "start_time": "2022-02-03T15:24:12.932Z"
      },
      {
        "duration": 1286,
        "start_time": "2022-02-03T15:24:15.444Z"
      },
      {
        "duration": 3,
        "start_time": "2022-02-03T15:24:16.732Z"
      },
      {
        "duration": 15,
        "start_time": "2022-02-03T15:24:21.037Z"
      },
      {
        "duration": 7,
        "start_time": "2022-02-03T15:24:34.622Z"
      },
      {
        "duration": 457,
        "start_time": "2022-02-03T15:25:17.506Z"
      },
      {
        "duration": 6,
        "start_time": "2022-02-03T15:26:57.704Z"
      },
      {
        "duration": 2,
        "start_time": "2022-02-03T15:27:25.097Z"
      },
      {
        "duration": 1111,
        "start_time": "2022-02-03T15:27:25.621Z"
      },
      {
        "duration": 3,
        "start_time": "2022-02-03T15:27:26.734Z"
      },
      {
        "duration": 12,
        "start_time": "2022-02-03T15:27:26.739Z"
      },
      {
        "duration": 478,
        "start_time": "2022-02-03T15:27:31.675Z"
      },
      {
        "duration": 6,
        "start_time": "2022-02-03T15:27:35.721Z"
      },
      {
        "duration": 100,
        "start_time": "2022-02-03T15:28:24.535Z"
      },
      {
        "duration": 12,
        "start_time": "2022-02-03T15:28:31.523Z"
      },
      {
        "duration": 216,
        "start_time": "2022-02-04T11:21:11.247Z"
      },
      {
        "duration": 1150,
        "start_time": "2022-02-04T11:21:18.319Z"
      },
      {
        "duration": 7,
        "start_time": "2022-02-04T11:21:19.471Z"
      },
      {
        "duration": 23,
        "start_time": "2022-02-04T11:21:19.480Z"
      },
      {
        "duration": 13,
        "start_time": "2022-02-04T11:21:19.849Z"
      },
      {
        "duration": 3,
        "start_time": "2022-02-04T11:21:20.691Z"
      },
      {
        "duration": 4,
        "start_time": "2022-02-04T11:21:20.880Z"
      },
      {
        "duration": 7,
        "start_time": "2022-02-04T11:21:21.213Z"
      },
      {
        "duration": 288,
        "start_time": "2022-02-04T11:21:21.537Z"
      },
      {
        "duration": 9,
        "start_time": "2022-02-04T11:21:21.861Z"
      },
      {
        "duration": 40,
        "start_time": "2022-02-04T11:21:23.346Z"
      },
      {
        "duration": 10,
        "start_time": "2022-02-04T11:21:24.021Z"
      },
      {
        "duration": 1417,
        "start_time": "2022-02-04T11:21:24.504Z"
      },
      {
        "duration": 1117,
        "start_time": "2022-02-04T11:21:25.923Z"
      },
      {
        "duration": 1419,
        "start_time": "2022-02-04T11:21:27.042Z"
      },
      {
        "duration": 4,
        "start_time": "2022-02-04T11:21:28.462Z"
      },
      {
        "duration": 6,
        "start_time": "2022-02-04T11:21:28.467Z"
      },
      {
        "duration": 7,
        "start_time": "2022-02-04T11:21:28.475Z"
      },
      {
        "duration": 8,
        "start_time": "2022-02-04T11:21:28.483Z"
      },
      {
        "duration": 13,
        "start_time": "2022-02-04T11:21:28.614Z"
      },
      {
        "duration": 4,
        "start_time": "2022-02-04T11:21:28.929Z"
      },
      {
        "duration": 12,
        "start_time": "2022-02-04T11:21:29.477Z"
      },
      {
        "duration": 37,
        "start_time": "2022-02-04T11:21:30.368Z"
      },
      {
        "duration": 9,
        "start_time": "2022-02-04T11:21:30.803Z"
      },
      {
        "duration": 12,
        "start_time": "2022-02-04T11:21:31.295Z"
      },
      {
        "duration": 8,
        "start_time": "2022-02-04T11:21:32.269Z"
      },
      {
        "duration": 35242,
        "start_time": "2022-02-04T11:21:32.744Z"
      },
      {
        "duration": 102,
        "start_time": "2022-02-04T11:22:07.988Z"
      },
      {
        "duration": 15,
        "start_time": "2022-02-04T11:22:08.092Z"
      },
      {
        "duration": 11,
        "start_time": "2022-02-04T11:22:08.108Z"
      },
      {
        "duration": 232,
        "start_time": "2022-02-04T11:22:08.120Z"
      },
      {
        "duration": 12,
        "start_time": "2022-02-04T11:22:14.848Z"
      },
      {
        "duration": 82,
        "start_time": "2022-02-04T17:04:23.713Z"
      },
      {
        "duration": 1117,
        "start_time": "2022-02-04T17:04:58.007Z"
      },
      {
        "duration": 7,
        "start_time": "2022-02-04T17:04:59.126Z"
      },
      {
        "duration": 23,
        "start_time": "2022-02-04T17:04:59.135Z"
      },
      {
        "duration": 12,
        "start_time": "2022-02-04T17:04:59.161Z"
      },
      {
        "duration": 3,
        "start_time": "2022-02-04T17:04:59.175Z"
      },
      {
        "duration": 5,
        "start_time": "2022-02-04T17:04:59.180Z"
      },
      {
        "duration": 9,
        "start_time": "2022-02-04T17:04:59.187Z"
      },
      {
        "duration": 486,
        "start_time": "2022-02-04T17:04:59.199Z"
      },
      {
        "duration": 9,
        "start_time": "2022-02-04T17:04:59.687Z"
      },
      {
        "duration": 50,
        "start_time": "2022-02-04T17:04:59.697Z"
      },
      {
        "duration": 8,
        "start_time": "2022-02-04T17:04:59.748Z"
      },
      {
        "duration": 1270,
        "start_time": "2022-02-04T17:04:59.758Z"
      },
      {
        "duration": 1007,
        "start_time": "2022-02-04T17:05:01.030Z"
      },
      {
        "duration": 1243,
        "start_time": "2022-02-04T17:05:02.039Z"
      },
      {
        "duration": 4,
        "start_time": "2022-02-04T17:05:03.284Z"
      },
      {
        "duration": 6,
        "start_time": "2022-02-04T17:05:03.290Z"
      },
      {
        "duration": 7,
        "start_time": "2022-02-04T17:05:03.298Z"
      },
      {
        "duration": 23,
        "start_time": "2022-02-04T17:05:03.307Z"
      },
      {
        "duration": 13,
        "start_time": "2022-02-04T17:05:03.331Z"
      },
      {
        "duration": 4,
        "start_time": "2022-02-04T17:05:03.345Z"
      },
      {
        "duration": 12,
        "start_time": "2022-02-04T17:05:03.350Z"
      },
      {
        "duration": 32,
        "start_time": "2022-02-04T17:05:03.364Z"
      },
      {
        "duration": 9,
        "start_time": "2022-02-04T17:05:03.428Z"
      },
      {
        "duration": 10,
        "start_time": "2022-02-04T17:05:03.439Z"
      },
      {
        "duration": 7,
        "start_time": "2022-02-04T17:05:03.451Z"
      },
      {
        "duration": 34148,
        "start_time": "2022-02-04T17:05:03.460Z"
      },
      {
        "duration": 98,
        "start_time": "2022-02-04T17:05:37.609Z"
      },
      {
        "duration": 21,
        "start_time": "2022-02-04T17:05:37.709Z"
      },
      {
        "duration": 10,
        "start_time": "2022-02-04T17:05:37.731Z"
      },
      {
        "duration": 12,
        "start_time": "2022-02-04T17:05:37.743Z"
      },
      {
        "duration": 5,
        "start_time": "2022-02-04T17:05:37.756Z"
      },
      {
        "duration": 518,
        "start_time": "2022-02-04T17:05:37.762Z"
      },
      {
        "duration": 82206,
        "start_time": "2022-02-04T17:05:38.281Z"
      },
      {
        "duration": 3,
        "start_time": "2022-02-04T17:07:00.489Z"
      },
      {
        "duration": 1134,
        "start_time": "2022-02-04T17:07:00.493Z"
      },
      {
        "duration": 3,
        "start_time": "2022-02-04T17:07:01.629Z"
      },
      {
        "duration": 483,
        "start_time": "2022-02-04T17:07:01.634Z"
      },
      {
        "duration": 11,
        "start_time": "2022-02-04T17:07:02.119Z"
      },
      {
        "duration": 12,
        "start_time": "2022-02-04T17:07:02.132Z"
      },
      {
        "duration": 78,
        "start_time": "2022-02-04T18:24:22.343Z"
      },
      {
        "duration": 97,
        "start_time": "2022-02-04T18:47:39.443Z"
      },
      {
        "duration": 19,
        "start_time": "2022-02-04T19:11:04.738Z"
      },
      {
        "duration": 1114,
        "start_time": "2022-02-04T19:43:42.693Z"
      },
      {
        "duration": 7,
        "start_time": "2022-02-04T19:43:43.809Z"
      },
      {
        "duration": 22,
        "start_time": "2022-02-04T19:43:43.817Z"
      },
      {
        "duration": 10,
        "start_time": "2022-02-04T19:43:43.841Z"
      },
      {
        "duration": 3,
        "start_time": "2022-02-04T19:43:43.853Z"
      },
      {
        "duration": 7,
        "start_time": "2022-02-04T19:43:43.858Z"
      },
      {
        "duration": 7,
        "start_time": "2022-02-04T19:43:43.866Z"
      },
      {
        "duration": 513,
        "start_time": "2022-02-04T19:43:43.876Z"
      },
      {
        "duration": 7,
        "start_time": "2022-02-04T19:43:44.391Z"
      },
      {
        "duration": 42,
        "start_time": "2022-02-04T19:43:44.400Z"
      },
      {
        "duration": 8,
        "start_time": "2022-02-04T19:43:44.444Z"
      },
      {
        "duration": 1450,
        "start_time": "2022-02-04T19:43:44.453Z"
      },
      {
        "duration": 974,
        "start_time": "2022-02-04T19:43:45.904Z"
      },
      {
        "duration": 1305,
        "start_time": "2022-02-04T19:43:46.880Z"
      },
      {
        "duration": 4,
        "start_time": "2022-02-04T19:43:48.186Z"
      },
      {
        "duration": 8,
        "start_time": "2022-02-04T19:43:48.192Z"
      },
      {
        "duration": 7,
        "start_time": "2022-02-04T19:43:48.201Z"
      },
      {
        "duration": 5,
        "start_time": "2022-02-04T19:43:48.209Z"
      },
      {
        "duration": 21,
        "start_time": "2022-02-04T19:43:48.216Z"
      },
      {
        "duration": 3,
        "start_time": "2022-02-04T19:43:48.239Z"
      },
      {
        "duration": 15,
        "start_time": "2022-02-04T19:43:48.244Z"
      },
      {
        "duration": 69,
        "start_time": "2022-02-04T19:43:48.261Z"
      },
      {
        "duration": 8,
        "start_time": "2022-02-04T19:43:48.335Z"
      },
      {
        "duration": 9,
        "start_time": "2022-02-04T19:43:48.345Z"
      },
      {
        "duration": 6,
        "start_time": "2022-02-04T19:43:48.356Z"
      },
      {
        "duration": 33730,
        "start_time": "2022-02-04T19:43:48.363Z"
      },
      {
        "duration": 95,
        "start_time": "2022-02-04T19:44:22.094Z"
      },
      {
        "duration": 14,
        "start_time": "2022-02-04T19:44:22.190Z"
      },
      {
        "duration": 9,
        "start_time": "2022-02-04T19:44:22.205Z"
      },
      {
        "duration": 20,
        "start_time": "2022-02-04T19:44:22.215Z"
      },
      {
        "duration": 4,
        "start_time": "2022-02-04T19:44:22.236Z"
      },
      {
        "duration": 489,
        "start_time": "2022-02-04T19:44:22.242Z"
      },
      {
        "duration": 73408,
        "start_time": "2022-02-04T19:44:22.732Z"
      },
      {
        "duration": 2,
        "start_time": "2022-02-04T19:45:36.141Z"
      },
      {
        "duration": 887,
        "start_time": "2022-02-04T19:45:36.145Z"
      },
      {
        "duration": 93,
        "start_time": "2022-02-04T19:45:37.034Z"
      },
      {
        "duration": 442,
        "start_time": "2022-02-04T19:45:37.129Z"
      },
      {
        "duration": 5,
        "start_time": "2022-02-04T19:45:37.573Z"
      },
      {
        "duration": 12,
        "start_time": "2022-02-04T19:45:37.580Z"
      },
      {
        "duration": 10,
        "start_time": "2022-02-04T19:47:16.908Z"
      },
      {
        "duration": 3,
        "start_time": "2022-02-04T19:48:19.550Z"
      },
      {
        "duration": 4,
        "start_time": "2022-02-04T19:48:20.320Z"
      },
      {
        "duration": 7,
        "start_time": "2022-02-04T19:49:20.634Z"
      },
      {
        "duration": 1162,
        "start_time": "2022-02-04T19:50:27.874Z"
      },
      {
        "duration": 8885,
        "start_time": "2022-02-04T19:50:48.569Z"
      },
      {
        "duration": 15,
        "start_time": "2022-02-04T19:50:57.884Z"
      },
      {
        "duration": 1545,
        "start_time": "2022-02-04T19:51:32.477Z"
      },
      {
        "duration": 8691,
        "start_time": "2022-02-04T19:51:34.026Z"
      },
      {
        "duration": 9631,
        "start_time": "2022-02-04T19:52:49.960Z"
      },
      {
        "duration": 1182,
        "start_time": "2022-02-04T19:54:43.408Z"
      },
      {
        "duration": 7,
        "start_time": "2022-02-04T19:54:44.591Z"
      },
      {
        "duration": 24,
        "start_time": "2022-02-04T19:54:44.599Z"
      },
      {
        "duration": 11,
        "start_time": "2022-02-04T19:54:44.624Z"
      },
      {
        "duration": 4,
        "start_time": "2022-02-04T19:54:44.636Z"
      },
      {
        "duration": 6,
        "start_time": "2022-02-04T19:54:44.641Z"
      },
      {
        "duration": 7,
        "start_time": "2022-02-04T19:54:44.648Z"
      },
      {
        "duration": 502,
        "start_time": "2022-02-04T19:54:44.658Z"
      },
      {
        "duration": 8,
        "start_time": "2022-02-04T19:54:45.162Z"
      },
      {
        "duration": 35,
        "start_time": "2022-02-04T19:54:45.172Z"
      },
      {
        "duration": 24,
        "start_time": "2022-02-04T19:54:45.209Z"
      },
      {
        "duration": 1263,
        "start_time": "2022-02-04T19:54:45.235Z"
      },
      {
        "duration": 996,
        "start_time": "2022-02-04T19:54:46.500Z"
      },
      {
        "duration": 1313,
        "start_time": "2022-02-04T19:54:47.497Z"
      },
      {
        "duration": 4,
        "start_time": "2022-02-04T19:54:48.811Z"
      },
      {
        "duration": 5,
        "start_time": "2022-02-04T19:54:48.816Z"
      },
      {
        "duration": 8,
        "start_time": "2022-02-04T19:54:48.822Z"
      },
      {
        "duration": 5,
        "start_time": "2022-02-04T19:54:48.831Z"
      },
      {
        "duration": 10,
        "start_time": "2022-02-04T19:54:48.838Z"
      },
      {
        "duration": 3,
        "start_time": "2022-02-04T19:54:48.849Z"
      },
      {
        "duration": 16,
        "start_time": "2022-02-04T19:54:48.853Z"
      },
      {
        "duration": 31,
        "start_time": "2022-02-04T19:54:48.870Z"
      },
      {
        "duration": 7,
        "start_time": "2022-02-04T19:54:48.904Z"
      },
      {
        "duration": 9,
        "start_time": "2022-02-04T19:54:48.913Z"
      },
      {
        "duration": 9,
        "start_time": "2022-02-04T19:54:48.923Z"
      },
      {
        "duration": 180205,
        "start_time": "2022-02-04T19:54:48.933Z"
      },
      {
        "duration": 97,
        "start_time": "2022-02-04T19:57:49.140Z"
      },
      {
        "duration": 14,
        "start_time": "2022-02-04T19:57:49.239Z"
      },
      {
        "duration": 9,
        "start_time": "2022-02-04T19:57:49.255Z"
      },
      {
        "duration": 10,
        "start_time": "2022-02-04T19:57:49.266Z"
      },
      {
        "duration": 4,
        "start_time": "2022-02-04T19:57:49.278Z"
      },
      {
        "duration": 538,
        "start_time": "2022-02-04T19:57:49.284Z"
      },
      {
        "duration": 73898,
        "start_time": "2022-02-04T19:57:49.824Z"
      },
      {
        "duration": 2,
        "start_time": "2022-02-04T19:59:03.727Z"
      },
      {
        "duration": 1004,
        "start_time": "2022-02-04T19:59:03.731Z"
      },
      {
        "duration": 91,
        "start_time": "2022-02-04T19:59:04.737Z"
      },
      {
        "duration": 468,
        "start_time": "2022-02-04T19:59:04.830Z"
      },
      {
        "duration": 6,
        "start_time": "2022-02-04T19:59:05.299Z"
      },
      {
        "duration": 24,
        "start_time": "2022-02-04T19:59:05.306Z"
      },
      {
        "duration": 1350,
        "start_time": "2022-02-04T19:59:05.331Z"
      },
      {
        "duration": 9099,
        "start_time": "2022-02-04T19:59:06.683Z"
      },
      {
        "duration": -51316,
        "start_time": "2022-02-04T20:00:07.100Z"
      },
      {
        "duration": 15,
        "start_time": "2022-02-04T19:59:19.292Z"
      },
      {
        "duration": 10,
        "start_time": "2022-02-04T19:59:21.255Z"
      },
      {
        "duration": 1215,
        "start_time": "2022-02-04T20:00:53.296Z"
      },
      {
        "duration": 15,
        "start_time": "2022-02-04T20:00:54.513Z"
      },
      {
        "duration": 22,
        "start_time": "2022-02-04T20:00:54.533Z"
      },
      {
        "duration": 11,
        "start_time": "2022-02-04T20:00:54.556Z"
      },
      {
        "duration": 2,
        "start_time": "2022-02-04T20:00:54.568Z"
      },
      {
        "duration": 5,
        "start_time": "2022-02-04T20:00:54.572Z"
      },
      {
        "duration": 6,
        "start_time": "2022-02-04T20:00:54.580Z"
      },
      {
        "duration": 567,
        "start_time": "2022-02-04T20:00:54.587Z"
      },
      {
        "duration": 8,
        "start_time": "2022-02-04T20:00:55.155Z"
      },
      {
        "duration": 36,
        "start_time": "2022-02-04T20:00:55.165Z"
      },
      {
        "duration": 26,
        "start_time": "2022-02-04T20:00:55.202Z"
      },
      {
        "duration": 1323,
        "start_time": "2022-02-04T20:00:55.229Z"
      },
      {
        "duration": 1018,
        "start_time": "2022-02-04T20:00:56.553Z"
      },
      {
        "duration": 1282,
        "start_time": "2022-02-04T20:00:57.573Z"
      },
      {
        "duration": 4,
        "start_time": "2022-02-04T20:00:58.857Z"
      },
      {
        "duration": 6,
        "start_time": "2022-02-04T20:00:58.863Z"
      },
      {
        "duration": 8,
        "start_time": "2022-02-04T20:00:58.871Z"
      },
      {
        "duration": 5,
        "start_time": "2022-02-04T20:00:58.880Z"
      },
      {
        "duration": 11,
        "start_time": "2022-02-04T20:00:58.886Z"
      },
      {
        "duration": 29,
        "start_time": "2022-02-04T20:00:58.898Z"
      },
      {
        "duration": 11,
        "start_time": "2022-02-04T20:00:58.929Z"
      },
      {
        "duration": 31,
        "start_time": "2022-02-04T20:00:58.943Z"
      },
      {
        "duration": 7,
        "start_time": "2022-02-04T20:00:58.975Z"
      },
      {
        "duration": 9,
        "start_time": "2022-02-04T20:00:58.984Z"
      },
      {
        "duration": 6,
        "start_time": "2022-02-04T20:00:58.994Z"
      },
      {
        "duration": 186417,
        "start_time": "2022-02-04T20:00:59.027Z"
      },
      {
        "duration": 389,
        "start_time": "2022-02-04T20:04:05.445Z"
      },
      {
        "duration": 48,
        "start_time": "2022-02-04T20:04:05.835Z"
      },
      {
        "duration": 10,
        "start_time": "2022-02-04T20:04:05.884Z"
      },
      {
        "duration": 36,
        "start_time": "2022-02-04T20:04:05.896Z"
      },
      {
        "duration": 5,
        "start_time": "2022-02-04T20:04:05.934Z"
      },
      {
        "duration": 602,
        "start_time": "2022-02-04T20:04:05.941Z"
      },
      {
        "duration": 74895,
        "start_time": "2022-02-04T20:04:06.545Z"
      },
      {
        "duration": 2,
        "start_time": "2022-02-04T20:05:21.442Z"
      },
      {
        "duration": 1182,
        "start_time": "2022-02-04T20:05:21.446Z"
      },
      {
        "duration": 4,
        "start_time": "2022-02-04T20:05:22.629Z"
      },
      {
        "duration": 515,
        "start_time": "2022-02-04T20:05:22.635Z"
      },
      {
        "duration": 5,
        "start_time": "2022-02-04T20:05:23.152Z"
      },
      {
        "duration": 15,
        "start_time": "2022-02-04T20:05:23.159Z"
      },
      {
        "duration": 1609,
        "start_time": "2022-02-04T20:05:23.175Z"
      },
      {
        "duration": 9275,
        "start_time": "2022-02-04T20:05:24.785Z"
      },
      {
        "duration": 1621,
        "start_time": "2022-02-05T05:42:05.699Z"
      },
      {
        "duration": 11,
        "start_time": "2022-02-05T05:42:07.324Z"
      },
      {
        "duration": 26,
        "start_time": "2022-02-05T05:42:07.339Z"
      },
      {
        "duration": 23,
        "start_time": "2022-02-05T05:42:07.368Z"
      },
      {
        "duration": 36,
        "start_time": "2022-02-05T05:42:07.394Z"
      },
      {
        "duration": 11,
        "start_time": "2022-02-05T05:42:07.433Z"
      },
      {
        "duration": 21,
        "start_time": "2022-02-05T05:42:07.447Z"
      },
      {
        "duration": 749,
        "start_time": "2022-02-05T05:42:07.472Z"
      },
      {
        "duration": 16,
        "start_time": "2022-02-05T05:42:08.225Z"
      },
      {
        "duration": 104,
        "start_time": "2022-02-05T05:42:08.244Z"
      },
      {
        "duration": 15,
        "start_time": "2022-02-05T05:42:08.351Z"
      },
      {
        "duration": 2313,
        "start_time": "2022-02-05T05:42:08.368Z"
      },
      {
        "duration": 1770,
        "start_time": "2022-02-05T05:42:10.684Z"
      },
      {
        "duration": 2019,
        "start_time": "2022-02-05T05:42:12.457Z"
      },
      {
        "duration": 5,
        "start_time": "2022-02-05T05:42:14.479Z"
      },
      {
        "duration": 14,
        "start_time": "2022-02-05T05:42:14.486Z"
      },
      {
        "duration": 25,
        "start_time": "2022-02-05T05:42:14.503Z"
      },
      {
        "duration": 10,
        "start_time": "2022-02-05T05:42:14.530Z"
      },
      {
        "duration": 22,
        "start_time": "2022-02-05T05:42:14.542Z"
      },
      {
        "duration": 4,
        "start_time": "2022-02-05T05:42:14.566Z"
      },
      {
        "duration": 56,
        "start_time": "2022-02-05T05:42:14.573Z"
      },
      {
        "duration": 51,
        "start_time": "2022-02-05T05:42:14.631Z"
      },
      {
        "duration": 12,
        "start_time": "2022-02-05T05:42:14.687Z"
      },
      {
        "duration": 16,
        "start_time": "2022-02-05T05:42:14.725Z"
      },
      {
        "duration": 12,
        "start_time": "2022-02-05T05:42:14.743Z"
      },
      {
        "duration": 290182,
        "start_time": "2022-02-05T05:42:14.758Z"
      },
      {
        "duration": 789,
        "start_time": "2022-02-05T05:47:04.943Z"
      },
      {
        "duration": 94,
        "start_time": "2022-02-05T05:47:05.735Z"
      },
      {
        "duration": 17,
        "start_time": "2022-02-05T05:47:05.832Z"
      },
      {
        "duration": 30,
        "start_time": "2022-02-05T05:47:05.852Z"
      },
      {
        "duration": 38,
        "start_time": "2022-02-05T05:47:05.885Z"
      },
      {
        "duration": 775,
        "start_time": "2022-02-05T05:47:05.925Z"
      },
      {
        "duration": 131905,
        "start_time": "2022-02-05T05:47:06.702Z"
      },
      {
        "duration": 13,
        "start_time": "2022-02-05T05:49:18.610Z"
      },
      {
        "duration": 1616,
        "start_time": "2022-02-05T05:49:18.627Z"
      },
      {
        "duration": 77,
        "start_time": "2022-02-05T05:49:20.246Z"
      },
      {
        "duration": 668,
        "start_time": "2022-02-05T05:49:20.326Z"
      },
      {
        "duration": 8,
        "start_time": "2022-02-05T05:49:20.997Z"
      },
      {
        "duration": 30,
        "start_time": "2022-02-05T05:49:21.007Z"
      },
      {
        "duration": 2600,
        "start_time": "2022-02-05T05:49:21.039Z"
      },
      {
        "duration": 11188,
        "start_time": "2022-02-05T05:49:23.641Z"
      },
      {
        "duration": 1506,
        "start_time": "2022-02-05T05:56:59.660Z"
      },
      {
        "duration": 12,
        "start_time": "2022-02-05T05:57:01.169Z"
      },
      {
        "duration": 36,
        "start_time": "2022-02-05T05:57:01.184Z"
      },
      {
        "duration": 21,
        "start_time": "2022-02-05T05:57:01.223Z"
      },
      {
        "duration": 4,
        "start_time": "2022-02-05T05:57:01.246Z"
      },
      {
        "duration": 16,
        "start_time": "2022-02-05T05:57:01.253Z"
      },
      {
        "duration": 18,
        "start_time": "2022-02-05T05:57:01.271Z"
      },
      {
        "duration": 718,
        "start_time": "2022-02-05T05:57:01.292Z"
      },
      {
        "duration": 14,
        "start_time": "2022-02-05T05:57:02.022Z"
      },
      {
        "duration": 84,
        "start_time": "2022-02-05T05:57:02.039Z"
      },
      {
        "duration": 14,
        "start_time": "2022-02-05T05:57:02.126Z"
      },
      {
        "duration": 2215,
        "start_time": "2022-02-05T05:57:02.142Z"
      },
      {
        "duration": 1768,
        "start_time": "2022-02-05T05:57:04.361Z"
      },
      {
        "duration": 1986,
        "start_time": "2022-02-05T05:57:06.132Z"
      },
      {
        "duration": 5,
        "start_time": "2022-02-05T05:57:08.120Z"
      },
      {
        "duration": 8,
        "start_time": "2022-02-05T05:57:08.127Z"
      },
      {
        "duration": 11,
        "start_time": "2022-02-05T05:57:08.137Z"
      },
      {
        "duration": 9,
        "start_time": "2022-02-05T05:57:08.151Z"
      },
      {
        "duration": 67,
        "start_time": "2022-02-05T05:57:08.163Z"
      },
      {
        "duration": 4,
        "start_time": "2022-02-05T05:57:08.232Z"
      },
      {
        "duration": 17,
        "start_time": "2022-02-05T05:57:08.239Z"
      },
      {
        "duration": 88,
        "start_time": "2022-02-05T05:57:08.259Z"
      },
      {
        "duration": 13,
        "start_time": "2022-02-05T05:57:08.349Z"
      },
      {
        "duration": 17,
        "start_time": "2022-02-05T05:57:08.364Z"
      },
      {
        "duration": 11,
        "start_time": "2022-02-05T05:57:08.383Z"
      },
      {
        "duration": 292906,
        "start_time": "2022-02-05T05:57:08.396Z"
      },
      {
        "duration": 657,
        "start_time": "2022-02-05T06:02:01.309Z"
      },
      {
        "duration": 97,
        "start_time": "2022-02-05T06:02:01.969Z"
      },
      {
        "duration": 16,
        "start_time": "2022-02-05T06:02:02.068Z"
      },
      {
        "duration": 51,
        "start_time": "2022-02-05T06:02:02.086Z"
      },
      {
        "duration": 7,
        "start_time": "2022-02-05T06:02:02.139Z"
      },
      {
        "duration": 789,
        "start_time": "2022-02-05T06:02:02.149Z"
      },
      {
        "duration": 133195,
        "start_time": "2022-02-05T06:02:02.940Z"
      },
      {
        "duration": 4,
        "start_time": "2022-02-05T06:04:16.139Z"
      },
      {
        "duration": 1583,
        "start_time": "2022-02-05T06:04:16.146Z"
      },
      {
        "duration": 6,
        "start_time": "2022-02-05T06:04:17.731Z"
      },
      {
        "duration": 668,
        "start_time": "2022-02-05T06:04:17.740Z"
      },
      {
        "duration": 17,
        "start_time": "2022-02-05T06:04:18.410Z"
      },
      {
        "duration": 20,
        "start_time": "2022-02-05T06:04:18.429Z"
      },
      {
        "duration": 2487,
        "start_time": "2022-02-05T06:04:18.451Z"
      },
      {
        "duration": 1383,
        "start_time": "2022-02-05T06:04:20.940Z"
      }
    ],
    "kernelspec": {
      "display_name": "Python 3 (ipykernel)",
      "language": "python",
      "name": "python3"
    },
    "language_info": {
      "codemirror_mode": {
        "name": "ipython",
        "version": 3
      },
      "file_extension": ".py",
      "mimetype": "text/x-python",
      "name": "python",
      "nbconvert_exporter": "python",
      "pygments_lexer": "ipython3",
      "version": "3.9.7"
    },
    "toc": {
      "base_numbering": 1,
      "nav_menu": {},
      "number_sections": true,
      "sideBar": true,
      "skip_h1_title": true,
      "title_cell": "Table of Contents",
      "title_sidebar": "Contents",
      "toc_cell": false,
      "toc_position": {},
      "toc_section_display": true,
      "toc_window_display": false
    },
    "colab": {
      "name": "ml_customer_churn.ipynb",
      "provenance": [],
      "include_colab_link": true
    }
  },
  "nbformat": 4,
  "nbformat_minor": 0
}