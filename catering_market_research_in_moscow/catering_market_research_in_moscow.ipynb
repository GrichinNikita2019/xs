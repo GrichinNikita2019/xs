{
  "cells": [
    {
      "cell_type": "markdown",
      "metadata": {
        "id": "view-in-github",
        "colab_type": "text"
      },
      "source": [
        "<a href=\"https://colab.research.google.com/github/GrichinNikita2019/yandex_praktikum_da/blob/main/catering_market_research_in_moscow/catering_market_research_in_moscow.ipynb\" target=\"_parent\"><img src=\"https://colab.research.google.com/assets/colab-badge.svg\" alt=\"Open In Colab\"/></a>"
      ]
    },
    {
      "cell_type": "markdown",
      "metadata": {
        "id": "nVr1PuuhxOEz"
      },
      "source": [
        "# Анализ рынка заведений общественного питания Москвы\n",
        "\n",
        "**Описание проекта:**\n",
        "\n",
        "Вы решили открыть небольшое кафе в Москве. Оно оригинальное — гостей должны обслуживать роботы. Проект многообещающий, но дорогой. Вместе с партнёрами вы решились обратиться к инвесторам. Их интересует текущее положение дел на рынке — сможете ли вы снискать популярность на долгое время, когда все зеваки насмотрятся на роботов-официантов?\n",
        "Вы — гуру аналитики, и партнёры просят вас подготовить исследование рынка. У вас есть открытые данные о заведениях общественного питания в Москве.\n",
        "\n",
        "**Цель проекта:** подготовить исследование рынка заведений общественного питания Москвы\n",
        "\n",
        "\n",
        "**Задачи проекта**:\n",
        "1. Исследовать соотношение видов объектов общественного питания по количеству. Построить график.\n",
        "2. Исследовать соотношение сетевых и несетевых заведений по количеству. Построить график.\n",
        "3. Для какого вида объекта общественного питания характерно сетевое распространение?\n",
        "4. Что характерно для сетевых заведений: много заведений с небольшим числом посадочных мест в каждом или мало заведений с большим количеством посадочных мест?\n",
        "5. Для каждого вида объекта общественного питания описать среднее количество посадочных мест. Какой вид предоставляет в среднем самое большое количество посадочных мест? Построить графики.\n",
        "6. Выделить в отдельный столбец информацию об улице из столбца address .\n",
        "7. Построить график топ-10 улиц по количеству объектов общественного питания. Воспользоваться внешней информацией и ответьте на вопрос — в каких районах Москвы находятся эти улицы?\n",
        "8. Найти число улиц с одним объектом общественного питания. Воспольоваться внешней информацией и ответьте на вопрос — в каких районах Москвы находятся эти улицы?\n",
        "9. Посмотреть на распределение количества посадочных мест для улиц с большим количеством объектов общественного питания. Какие закономерности можно выявить?\n",
        "10. Сделать общий вывод и дать рекомендации о виде заведения, количестве посадочных мест, а также районе расположения. Прокомментировать возможность развития сети.\n",
        "11. Подготовить презентацию исследования для инвесторов\n",
        "\n",
        "\n",
        "**План работы:**\n",
        "1. Шаг 1. Загрузить данные и подготовить их к анализу,\n",
        "2. Шаг 2. Проанализировать данные,\n",
        "3. Шаг 3. Подготовить презентацию.\n",
        "\n",
        "**Описание данных (структура таблицы rest_data):**\n",
        "\n",
        "* id — *идентификатор объекта*\n",
        "* object_name — *название объекта общественного питания*\n",
        "* chain — *сетевой ресторан*\n",
        "* object_type — *тип объекта общественного питания*\n",
        "* address — *адрес*\n",
        "* number — *количество посадочных мест*"
      ]
    },
    {
      "cell_type": "markdown",
      "metadata": {
        "id": "4f7eVzuZxOE8"
      },
      "source": [
        "## Изучение данных из файла"
      ]
    },
    {
      "cell_type": "markdown",
      "metadata": {
        "id": "l95ttoufxOE9"
      },
      "source": [
        "### Импорт библиотек, настройка отображения данных и загрузка данных"
      ]
    },
    {
      "cell_type": "code",
      "execution_count": null,
      "metadata": {
        "id": "KEu4ANRVxOE-"
      },
      "outputs": [],
      "source": [
        "import pandas as pd\n",
        "import numpy as np\n",
        "import matplotlib.pyplot as plt\n",
        "from scipy import stats as st\n",
        "import warnings\n",
        "import pylab\n",
        "import seaborn as sns\n",
        "import math as mth\n",
        "import requests\n",
        "from pandas.io.json import json_normalize\n",
        "from pprint import pprint\n",
        "import json"
      ]
    },
    {
      "cell_type": "code",
      "execution_count": null,
      "metadata": {
        "id": "Ld2rypo5xOE_"
      },
      "outputs": [],
      "source": [
        "pd.options.display.float_format = '{:,.2f}'.format\n",
        "pd.set_option('display.float_format', lambda x: '%.3f' % x)\n",
        "%matplotlib inline\n",
        "plt.style.use('dark_background')\n",
        "warnings.filterwarnings('ignore')"
      ]
    },
    {
      "cell_type": "code",
      "execution_count": null,
      "metadata": {
        "id": "e7VcAmogxOFA"
      },
      "outputs": [],
      "source": [
        "df = pd.read_csv('/datasets/rest_data.csv')"
      ]
    },
    {
      "cell_type": "markdown",
      "metadata": {
        "id": "0lDuLc0-xOFB"
      },
      "source": [
        "### Изучение таблицы rest_data"
      ]
    },
    {
      "cell_type": "code",
      "execution_count": null,
      "metadata": {
        "scrolled": true,
        "id": "HdwpPPOWxOFB",
        "outputId": "d53809fe-b229-432e-cce0-7ea3359f662c"
      },
      "outputs": [
        {
          "data": {
            "text/html": [
              "<div>\n",
              "<style scoped>\n",
              "    .dataframe tbody tr th:only-of-type {\n",
              "        vertical-align: middle;\n",
              "    }\n",
              "\n",
              "    .dataframe tbody tr th {\n",
              "        vertical-align: top;\n",
              "    }\n",
              "\n",
              "    .dataframe thead th {\n",
              "        text-align: right;\n",
              "    }\n",
              "</style>\n",
              "<table border=\"1\" class=\"dataframe\">\n",
              "  <thead>\n",
              "    <tr style=\"text-align: right;\">\n",
              "      <th></th>\n",
              "      <th>id</th>\n",
              "      <th>object_name</th>\n",
              "      <th>chain</th>\n",
              "      <th>object_type</th>\n",
              "      <th>address</th>\n",
              "      <th>number</th>\n",
              "    </tr>\n",
              "  </thead>\n",
              "  <tbody>\n",
              "    <tr>\n",
              "      <td>0</td>\n",
              "      <td>151635</td>\n",
              "      <td>СМЕТАНА</td>\n",
              "      <td>нет</td>\n",
              "      <td>кафе</td>\n",
              "      <td>город Москва, улица Егора Абакумова, дом 9</td>\n",
              "      <td>48</td>\n",
              "    </tr>\n",
              "    <tr>\n",
              "      <td>1</td>\n",
              "      <td>77874</td>\n",
              "      <td>Родник</td>\n",
              "      <td>нет</td>\n",
              "      <td>кафе</td>\n",
              "      <td>город Москва, улица Талалихина, дом 2/1, корпус 1</td>\n",
              "      <td>35</td>\n",
              "    </tr>\n",
              "    <tr>\n",
              "      <td>2</td>\n",
              "      <td>24309</td>\n",
              "      <td>Кафе «Академия»</td>\n",
              "      <td>нет</td>\n",
              "      <td>кафе</td>\n",
              "      <td>город Москва, Абельмановская улица, дом 6</td>\n",
              "      <td>95</td>\n",
              "    </tr>\n",
              "    <tr>\n",
              "      <td>3</td>\n",
              "      <td>21894</td>\n",
              "      <td>ПИЦЦЕТОРИЯ</td>\n",
              "      <td>да</td>\n",
              "      <td>кафе</td>\n",
              "      <td>город Москва, Абрамцевская улица, дом 1</td>\n",
              "      <td>40</td>\n",
              "    </tr>\n",
              "    <tr>\n",
              "      <td>4</td>\n",
              "      <td>119365</td>\n",
              "      <td>Кафе «Вишневая метель»</td>\n",
              "      <td>нет</td>\n",
              "      <td>кафе</td>\n",
              "      <td>город Москва, Абрамцевская улица, дом 9, корпус 1</td>\n",
              "      <td>50</td>\n",
              "    </tr>\n",
              "  </tbody>\n",
              "</table>\n",
              "</div>"
            ],
            "text/plain": [
              "       id             object_name chain object_type  \\\n",
              "0  151635                 СМЕТАНА   нет        кафе   \n",
              "1   77874                  Родник   нет        кафе   \n",
              "2   24309         Кафе «Академия»   нет        кафе   \n",
              "3   21894              ПИЦЦЕТОРИЯ    да        кафе   \n",
              "4  119365  Кафе «Вишневая метель»   нет        кафе   \n",
              "\n",
              "                                             address  number  \n",
              "0         город Москва, улица Егора Абакумова, дом 9      48  \n",
              "1  город Москва, улица Талалихина, дом 2/1, корпус 1      35  \n",
              "2          город Москва, Абельмановская улица, дом 6      95  \n",
              "3            город Москва, Абрамцевская улица, дом 1      40  \n",
              "4  город Москва, Абрамцевская улица, дом 9, корпус 1      50  "
            ]
          },
          "execution_count": 4,
          "metadata": {},
          "output_type": "execute_result"
        }
      ],
      "source": [
        "df.head()"
      ]
    },
    {
      "cell_type": "markdown",
      "metadata": {
        "id": "miWOj0LpxOFG"
      },
      "source": [
        "1. Заголовки таблицы оформлены по всем правилам, поэтому не нуждаются в исправлении.\n",
        "2. Видно, что значения переменных **object_name** и **address** имеют символы, как в верхнем, так и в нижнем регистре. Это может приводить к разным проблемам, например, дублированию сущностей, поэтому необходимо привести все к нижнему регистру. \n",
        "3. Других проблем на данном этапе не обнаружено. Исправим те, что есть."
      ]
    },
    {
      "cell_type": "code",
      "execution_count": null,
      "metadata": {
        "id": "YqGAkhbExOFG"
      },
      "outputs": [],
      "source": [
        "df['object_name'] = df['object_name'].str.lower()\n",
        "df['address'] = df['address'].str.lower()"
      ]
    },
    {
      "cell_type": "code",
      "execution_count": null,
      "metadata": {
        "id": "Iay7Q2P7xOFH",
        "outputId": "71b1a108-766f-4ec0-8187-a2411695b802"
      },
      "outputs": [
        {
          "data": {
            "text/html": [
              "<div>\n",
              "<style scoped>\n",
              "    .dataframe tbody tr th:only-of-type {\n",
              "        vertical-align: middle;\n",
              "    }\n",
              "\n",
              "    .dataframe tbody tr th {\n",
              "        vertical-align: top;\n",
              "    }\n",
              "\n",
              "    .dataframe thead th {\n",
              "        text-align: right;\n",
              "    }\n",
              "</style>\n",
              "<table border=\"1\" class=\"dataframe\">\n",
              "  <thead>\n",
              "    <tr style=\"text-align: right;\">\n",
              "      <th></th>\n",
              "      <th>id</th>\n",
              "      <th>object_name</th>\n",
              "      <th>chain</th>\n",
              "      <th>object_type</th>\n",
              "      <th>address</th>\n",
              "      <th>number</th>\n",
              "    </tr>\n",
              "  </thead>\n",
              "  <tbody>\n",
              "    <tr>\n",
              "      <td>0</td>\n",
              "      <td>151635</td>\n",
              "      <td>сметана</td>\n",
              "      <td>нет</td>\n",
              "      <td>кафе</td>\n",
              "      <td>город москва, улица егора абакумова, дом 9</td>\n",
              "      <td>48</td>\n",
              "    </tr>\n",
              "    <tr>\n",
              "      <td>1</td>\n",
              "      <td>77874</td>\n",
              "      <td>родник</td>\n",
              "      <td>нет</td>\n",
              "      <td>кафе</td>\n",
              "      <td>город москва, улица талалихина, дом 2/1, корпус 1</td>\n",
              "      <td>35</td>\n",
              "    </tr>\n",
              "    <tr>\n",
              "      <td>2</td>\n",
              "      <td>24309</td>\n",
              "      <td>кафе «академия»</td>\n",
              "      <td>нет</td>\n",
              "      <td>кафе</td>\n",
              "      <td>город москва, абельмановская улица, дом 6</td>\n",
              "      <td>95</td>\n",
              "    </tr>\n",
              "    <tr>\n",
              "      <td>3</td>\n",
              "      <td>21894</td>\n",
              "      <td>пиццетория</td>\n",
              "      <td>да</td>\n",
              "      <td>кафе</td>\n",
              "      <td>город москва, абрамцевская улица, дом 1</td>\n",
              "      <td>40</td>\n",
              "    </tr>\n",
              "    <tr>\n",
              "      <td>4</td>\n",
              "      <td>119365</td>\n",
              "      <td>кафе «вишневая метель»</td>\n",
              "      <td>нет</td>\n",
              "      <td>кафе</td>\n",
              "      <td>город москва, абрамцевская улица, дом 9, корпус 1</td>\n",
              "      <td>50</td>\n",
              "    </tr>\n",
              "  </tbody>\n",
              "</table>\n",
              "</div>"
            ],
            "text/plain": [
              "       id             object_name chain object_type  \\\n",
              "0  151635                 сметана   нет        кафе   \n",
              "1   77874                  родник   нет        кафе   \n",
              "2   24309         кафе «академия»   нет        кафе   \n",
              "3   21894              пиццетория    да        кафе   \n",
              "4  119365  кафе «вишневая метель»   нет        кафе   \n",
              "\n",
              "                                             address  number  \n",
              "0         город москва, улица егора абакумова, дом 9      48  \n",
              "1  город москва, улица талалихина, дом 2/1, корпус 1      35  \n",
              "2          город москва, абельмановская улица, дом 6      95  \n",
              "3            город москва, абрамцевская улица, дом 1      40  \n",
              "4  город москва, абрамцевская улица, дом 9, корпус 1      50  "
            ]
          },
          "execution_count": 6,
          "metadata": {},
          "output_type": "execute_result"
        }
      ],
      "source": [
        "df.head()"
      ]
    },
    {
      "cell_type": "markdown",
      "metadata": {
        "id": "KnN0_AhNxOFH"
      },
      "source": [
        "Проблема с использованием разных регистров в переменных object_name и address решена.\n",
        "\n",
        "Теперь проверим адекватность используемых типов данных в наших переменных."
      ]
    },
    {
      "cell_type": "code",
      "execution_count": null,
      "metadata": {
        "scrolled": false,
        "id": "_eoGnWY0xOFI",
        "outputId": "aa65afff-6da4-4631-d109-a9daf36b6f13"
      },
      "outputs": [
        {
          "name": "stdout",
          "output_type": "stream",
          "text": [
            "<class 'pandas.core.frame.DataFrame'>\n",
            "RangeIndex: 15366 entries, 0 to 15365\n",
            "Data columns (total 6 columns):\n",
            "id             15366 non-null int64\n",
            "object_name    15366 non-null object\n",
            "chain          15366 non-null object\n",
            "object_type    15366 non-null object\n",
            "address        15366 non-null object\n",
            "number         15366 non-null int64\n",
            "dtypes: int64(2), object(4)\n",
            "memory usage: 720.4+ KB\n"
          ]
        }
      ],
      "source": [
        "df.info()"
      ]
    },
    {
      "cell_type": "markdown",
      "metadata": {
        "id": "fUhhElkWxOFI"
      },
      "source": [
        "Используемые типы данных адекватны.\n",
        "\n",
        "Теперь проверим данные на наличие дубликатов и пропусков."
      ]
    },
    {
      "cell_type": "code",
      "execution_count": null,
      "metadata": {
        "id": "tYC0pT6yxOFI",
        "outputId": "4e108608-d501-4cef-8630-71a420a3a8fa"
      },
      "outputs": [
        {
          "data": {
            "text/plain": [
              "0"
            ]
          },
          "execution_count": 8,
          "metadata": {},
          "output_type": "execute_result"
        }
      ],
      "source": [
        "df.duplicated().sum()"
      ]
    },
    {
      "cell_type": "code",
      "execution_count": null,
      "metadata": {
        "id": "hB2zPNMXxOFJ",
        "outputId": "e5f33822-74cc-4197-eab0-a3e1d69fd709"
      },
      "outputs": [
        {
          "data": {
            "text/html": [
              "<style  type=\"text/css\" >\n",
              "    #T_70de0c08_329a_11ec_92d5_02420a39c2f9row0_col0 {\n",
              "            background-color:  #3b4cc0;\n",
              "            color:  #f1f1f1;\n",
              "        }    #T_70de0c08_329a_11ec_92d5_02420a39c2f9row1_col0 {\n",
              "            background-color:  #3b4cc0;\n",
              "            color:  #f1f1f1;\n",
              "        }    #T_70de0c08_329a_11ec_92d5_02420a39c2f9row2_col0 {\n",
              "            background-color:  #3b4cc0;\n",
              "            color:  #f1f1f1;\n",
              "        }    #T_70de0c08_329a_11ec_92d5_02420a39c2f9row3_col0 {\n",
              "            background-color:  #3b4cc0;\n",
              "            color:  #f1f1f1;\n",
              "        }    #T_70de0c08_329a_11ec_92d5_02420a39c2f9row4_col0 {\n",
              "            background-color:  #3b4cc0;\n",
              "            color:  #f1f1f1;\n",
              "        }    #T_70de0c08_329a_11ec_92d5_02420a39c2f9row5_col0 {\n",
              "            background-color:  #3b4cc0;\n",
              "            color:  #f1f1f1;\n",
              "        }</style><table id=\"T_70de0c08_329a_11ec_92d5_02420a39c2f9\" ><thead>    <tr>        <th class=\"blank level0\" ></th>        <th class=\"col_heading level0 col0\" >share_of_missing_values</th>    </tr></thead><tbody>\n",
              "                <tr>\n",
              "                        <th id=\"T_70de0c08_329a_11ec_92d5_02420a39c2f9level0_row0\" class=\"row_heading level0 row0\" >id</th>\n",
              "                        <td id=\"T_70de0c08_329a_11ec_92d5_02420a39c2f9row0_col0\" class=\"data row0 col0\" >0</td>\n",
              "            </tr>\n",
              "            <tr>\n",
              "                        <th id=\"T_70de0c08_329a_11ec_92d5_02420a39c2f9level0_row1\" class=\"row_heading level0 row1\" >object_name</th>\n",
              "                        <td id=\"T_70de0c08_329a_11ec_92d5_02420a39c2f9row1_col0\" class=\"data row1 col0\" >0</td>\n",
              "            </tr>\n",
              "            <tr>\n",
              "                        <th id=\"T_70de0c08_329a_11ec_92d5_02420a39c2f9level0_row2\" class=\"row_heading level0 row2\" >chain</th>\n",
              "                        <td id=\"T_70de0c08_329a_11ec_92d5_02420a39c2f9row2_col0\" class=\"data row2 col0\" >0</td>\n",
              "            </tr>\n",
              "            <tr>\n",
              "                        <th id=\"T_70de0c08_329a_11ec_92d5_02420a39c2f9level0_row3\" class=\"row_heading level0 row3\" >object_type</th>\n",
              "                        <td id=\"T_70de0c08_329a_11ec_92d5_02420a39c2f9row3_col0\" class=\"data row3 col0\" >0</td>\n",
              "            </tr>\n",
              "            <tr>\n",
              "                        <th id=\"T_70de0c08_329a_11ec_92d5_02420a39c2f9level0_row4\" class=\"row_heading level0 row4\" >address</th>\n",
              "                        <td id=\"T_70de0c08_329a_11ec_92d5_02420a39c2f9row4_col0\" class=\"data row4 col0\" >0</td>\n",
              "            </tr>\n",
              "            <tr>\n",
              "                        <th id=\"T_70de0c08_329a_11ec_92d5_02420a39c2f9level0_row5\" class=\"row_heading level0 row5\" >number</th>\n",
              "                        <td id=\"T_70de0c08_329a_11ec_92d5_02420a39c2f9row5_col0\" class=\"data row5 col0\" >0</td>\n",
              "            </tr>\n",
              "    </tbody></table>"
            ],
            "text/plain": [
              "<pandas.io.formats.style.Styler at 0x7f8b2f8859d0>"
            ]
          },
          "execution_count": 9,
          "metadata": {},
          "output_type": "execute_result"
        }
      ],
      "source": [
        "pd.DataFrame(round((df.isna().mean()*100),2),\n",
        "             columns = ['share_of_missing_values']) \\\n",
        "            .style.background_gradient('coolwarm')"
      ]
    },
    {
      "cell_type": "markdown",
      "metadata": {
        "id": "FJvNLNG0xOFJ"
      },
      "source": [
        "В данном наборе данных нет существенных недостатков: отсутствуют пропущенные значения и дубликаты."
      ]
    },
    {
      "cell_type": "code",
      "execution_count": null,
      "metadata": {
        "id": "DCT3UkclxOFK",
        "outputId": "493008a6-4077-4668-c646-8a1902605586"
      },
      "outputs": [
        {
          "data": {
            "text/plain": [
              "нет    12398\n",
              "да      2968\n",
              "Name: chain, dtype: int64"
            ]
          },
          "execution_count": 10,
          "metadata": {},
          "output_type": "execute_result"
        }
      ],
      "source": [
        "df['chain'].value_counts()"
      ]
    },
    {
      "cell_type": "markdown",
      "metadata": {
        "id": "g-VIOQcMxOFK"
      },
      "source": [
        "Переменная **chain** содержит информацию о том, является ли заведение общественного питания сетевым рестораном или нет. Однако значения \"да\" и \"нет\" немного сложны для восприятия, поэтому рекомендуем заменить их на \"сетевое\" \"несетевое\", соответственно."
      ]
    },
    {
      "cell_type": "code",
      "execution_count": null,
      "metadata": {
        "id": "lPExjdMsxOFK"
      },
      "outputs": [],
      "source": [
        "df['chain'] = df['chain'].map({'нет':'несетевое','да':'сетевое'})"
      ]
    },
    {
      "cell_type": "markdown",
      "metadata": {
        "id": "djx3rm8hxOFL"
      },
      "source": [
        "**Общие выводы по разделу:**\n",
        "\n",
        "1. На этапе предобработки был обнаружен ряд недостатков, которые были исправлены:\n",
        "- Значения переменных **object_name** и **address** содержали одновременно символы верхнего и нижнего регистра;\n",
        "- Использовались неинтуитивно понятные значения в переменной **chain**. Они были заменены на более понятные.\n",
        "2. В остальном в предоставленных данных не наблюдается заметных недостатков: пропуски данных и дубликаты отсутствуют.\n",
        "3. Данные достаточно чистые, поэтому можно переходить к рассчетам и анализу."
      ]
    },
    {
      "cell_type": "markdown",
      "metadata": {
        "id": "G3JjI8gOxOFL"
      },
      "source": [
        "## Анализ данных"
      ]
    },
    {
      "cell_type": "markdown",
      "metadata": {
        "id": "TOhxizFpxOFL"
      },
      "source": [
        "### Соотношение видов объектов общественного питания по количеству"
      ]
    },
    {
      "cell_type": "markdown",
      "metadata": {
        "id": "FpuZ6bP5xOFL"
      },
      "source": [
        "**Задача:**\n",
        "\n",
        "Исследовать соотношение видов объектов общественного питания по количеству. Построить график."
      ]
    },
    {
      "cell_type": "code",
      "execution_count": null,
      "metadata": {
        "scrolled": true,
        "id": "OWEars0gxOFM",
        "outputId": "c34e1eb0-56e1-45e7-d6db-dcd26a1cb317"
      },
      "outputs": [
        {
          "data": {
            "text/plain": [
              "object_type\n",
              "кафе                                 6099\n",
              "столовая                             2587\n",
              "ресторан                             2285\n",
              "предприятие быстрого обслуживания    1923\n",
              "бар                                   856\n",
              "буфет                                 585\n",
              "кафетерий                             398\n",
              "закусочная                            360\n",
              "магазин (отдел кулинарии)             273\n",
              "Name: object_name, dtype: int64"
            ]
          },
          "execution_count": 12,
          "metadata": {},
          "output_type": "execute_result"
        }
      ],
      "source": [
        "df.groupby('object_type')['object_name'] \\\n",
        "  .count() \\\n",
        "  .sort_values(ascending=False)"
      ]
    },
    {
      "cell_type": "code",
      "execution_count": null,
      "metadata": {
        "id": "XUDtZugWxOFM",
        "outputId": "06d16f1d-da58-4d38-bd0f-1f97678c24ea"
      },
      "outputs": [
        {
          "data": {
            "image/png": "[encoded data removed]",
            "text/plain": [
              "<Figure size 864x360 with 1 Axes>"
            ]
          },
          "metadata": {},
          "output_type": "display_data"
        }
      ],
      "source": [
        "ax = df.groupby('object_type') \\\n",
        "       .count().reset_index()[['object_type', 'object_name']] \\\n",
        "       .set_index('object_type') \\\n",
        "       .sort_values('object_name', ascending=True) \\\n",
        "       .plot(kind='barh', figsize=(12,5))\n",
        "\n",
        "ax.set_xlabel('Количество объектов общественного питания (шт)')\n",
        "ax.set_ylabel('Тип объекта общественного питания')\n",
        "ax.set_title('Количество объектов общественного питания в Москве')\n",
        "plt.show()"
      ]
    },
    {
      "cell_type": "markdown",
      "metadata": {
        "id": "eM7SP71pxOFM"
      },
      "source": [
        "**Основые выводы:**\n",
        "\n",
        "1. Среди различных типов заведений общесвенного питания наиболее распространенным (с отрывом от второй по распространенности позиции почти в 3 раза) является кафе: таких заведений 6099.\n",
        "2. Также широко распространены такие типы заведений общественного питания, как столовая (2587 заведений), ресторан (2285 заведений) и предприятия быстрого обслуживания (1923 заведений).\n",
        "3. К группе слабо распространенных типов заведений в Москве можно отнести бар (856 заведений), буфет (585 заведений), кафетерий (398 заведений), закусочная (360 заведений) и отдел кулинарии в магазине (наименее распространенный тип - насчитывает всего 273 заведений). "
      ]
    },
    {
      "cell_type": "markdown",
      "metadata": {
        "id": "Y25Z0MWcxOFN"
      },
      "source": [
        "### Cоотношение сетевых и несетевых заведений по количеству"
      ]
    },
    {
      "cell_type": "markdown",
      "metadata": {
        "id": "BGF_7DhAxOFN"
      },
      "source": [
        "**Задача:**\n",
        "\n",
        "Исследовать соотношение сетевых и несетевых заведений по количеству. Построить график"
      ]
    },
    {
      "cell_type": "code",
      "execution_count": null,
      "metadata": {
        "id": "dafqxkP2xOFN",
        "outputId": "7dcfb1af-9d0b-491a-bb3e-845494967e67"
      },
      "outputs": [
        {
          "data": {
            "text/plain": [
              "chain\n",
              "несетевое    12398\n",
              "сетевое       2968\n",
              "Name: object_name, dtype: int64"
            ]
          },
          "execution_count": 14,
          "metadata": {},
          "output_type": "execute_result"
        }
      ],
      "source": [
        "df.groupby('chain')['object_name'] \\\n",
        "  .count() \\\n",
        "  .sort_values(ascending=False)"
      ]
    },
    {
      "cell_type": "code",
      "execution_count": null,
      "metadata": {
        "id": "5QtK3842xOFN",
        "outputId": "64c768d3-bbf2-4b6e-b952-313458b8b35d"
      },
      "outputs": [
        {
          "data": {
            "image/png": "[encoded data removed]",
            "text/plain": [
              "<Figure size 864x360 with 1 Axes>"
            ]
          },
          "metadata": {},
          "output_type": "display_data"
        }
      ],
      "source": [
        "ax = df.groupby('chain')['object_name'] \\\n",
        "       .count() \\\n",
        "       .sort_values(ascending=False) \\\n",
        "       .plot(kind='bar', figsize=(12,5))\n",
        "\n",
        "ax.set_xlabel('Тип объекта общественного питания (сетевой/несетевой)')\n",
        "ax.set_ylabel('Количество объектов общественного питания (шт)')\n",
        "ax.set_title('Количество сетевых и несетевых объектов общественного питания в Москве')\n",
        "plt.xticks(rotation=45)\n",
        "plt.show()"
      ]
    },
    {
      "cell_type": "markdown",
      "metadata": {
        "id": "gJef2Ai5xOFO"
      },
      "source": [
        "**Основной вывод:**\n",
        "\n",
        "В Москве преобладает несетевой тип заведений общественного питания: доля несетевых заведений в 4.2 раза больше доли сетевых заведений."
      ]
    },
    {
      "cell_type": "markdown",
      "metadata": {
        "id": "qpPS4I_oxOFO"
      },
      "source": [
        "### Сетевое распространение для разных видов объектов общественного питания"
      ]
    },
    {
      "cell_type": "markdown",
      "metadata": {
        "id": "GOSBvx2exOFO"
      },
      "source": [
        "**Задача:**\n",
        "\n",
        "Ответить на вопрос \"Для какого вида объекта общественного питания характерно сетевое распространение?\""
      ]
    },
    {
      "cell_type": "code",
      "execution_count": null,
      "metadata": {
        "id": "CrhZO8cQxOFO"
      },
      "outputs": [],
      "source": [
        "df_net = df.query('chain == \"сетевое\"') \\\n",
        "           .groupby('object_type')['object_name'] \\\n",
        "           .count() \\\n",
        "           .sort_values(ascending=False)"
      ]
    },
    {
      "cell_type": "code",
      "execution_count": null,
      "metadata": {
        "id": "iH7l3uYwxOFO"
      },
      "outputs": [],
      "source": [
        "df_not_net = df.query('chain == \"несетевое\"') \\\n",
        "               .groupby('object_type')['object_name'] \\\n",
        "               .count() \\\n",
        "               .sort_values(ascending=False)"
      ]
    },
    {
      "cell_type": "code",
      "execution_count": null,
      "metadata": {
        "id": "J_8EfRPSxOFP"
      },
      "outputs": [],
      "source": [
        "df_share_of_net = pd.DataFrame()\n",
        "df_share_of_net['net'] = df_net\n",
        "df_share_of_net['not_net'] = df_not_net"
      ]
    },
    {
      "cell_type": "code",
      "execution_count": null,
      "metadata": {
        "id": "jlPkkqnCxOFP"
      },
      "outputs": [],
      "source": [
        "df_share_of_net['share_of_net'] = (df_share_of_net['net'] / (df_share_of_net['not_net'] + df_share_of_net['net']))*100"
      ]
    },
    {
      "cell_type": "code",
      "execution_count": null,
      "metadata": {
        "id": "e8eIBekXxOFP",
        "outputId": "604a11f1-3798-4b4f-fef3-20c9408c3ae1"
      },
      "outputs": [
        {
          "data": {
            "text/html": [
              "<div>\n",
              "<style scoped>\n",
              "    .dataframe tbody tr th:only-of-type {\n",
              "        vertical-align: middle;\n",
              "    }\n",
              "\n",
              "    .dataframe tbody tr th {\n",
              "        vertical-align: top;\n",
              "    }\n",
              "\n",
              "    .dataframe thead th {\n",
              "        text-align: right;\n",
              "    }\n",
              "</style>\n",
              "<table border=\"1\" class=\"dataframe\">\n",
              "  <thead>\n",
              "    <tr style=\"text-align: right;\">\n",
              "      <th></th>\n",
              "      <th>net</th>\n",
              "      <th>not_net</th>\n",
              "      <th>share_of_net</th>\n",
              "    </tr>\n",
              "    <tr>\n",
              "      <th>object_type</th>\n",
              "      <th></th>\n",
              "      <th></th>\n",
              "      <th></th>\n",
              "    </tr>\n",
              "  </thead>\n",
              "  <tbody>\n",
              "    <tr>\n",
              "      <td>предприятие быстрого обслуживания</td>\n",
              "      <td>791</td>\n",
              "      <td>1132</td>\n",
              "      <td>41.134</td>\n",
              "    </tr>\n",
              "    <tr>\n",
              "      <td>магазин (отдел кулинарии)</td>\n",
              "      <td>78</td>\n",
              "      <td>195</td>\n",
              "      <td>28.571</td>\n",
              "    </tr>\n",
              "    <tr>\n",
              "      <td>ресторан</td>\n",
              "      <td>544</td>\n",
              "      <td>1741</td>\n",
              "      <td>23.807</td>\n",
              "    </tr>\n",
              "    <tr>\n",
              "      <td>кафе</td>\n",
              "      <td>1396</td>\n",
              "      <td>4703</td>\n",
              "      <td>22.889</td>\n",
              "    </tr>\n",
              "    <tr>\n",
              "      <td>закусочная</td>\n",
              "      <td>56</td>\n",
              "      <td>304</td>\n",
              "      <td>15.556</td>\n",
              "    </tr>\n",
              "    <tr>\n",
              "      <td>кафетерий</td>\n",
              "      <td>52</td>\n",
              "      <td>346</td>\n",
              "      <td>13.065</td>\n",
              "    </tr>\n",
              "    <tr>\n",
              "      <td>бар</td>\n",
              "      <td>37</td>\n",
              "      <td>819</td>\n",
              "      <td>4.322</td>\n",
              "    </tr>\n",
              "    <tr>\n",
              "      <td>буфет</td>\n",
              "      <td>11</td>\n",
              "      <td>574</td>\n",
              "      <td>1.880</td>\n",
              "    </tr>\n",
              "    <tr>\n",
              "      <td>столовая</td>\n",
              "      <td>3</td>\n",
              "      <td>2584</td>\n",
              "      <td>0.116</td>\n",
              "    </tr>\n",
              "  </tbody>\n",
              "</table>\n",
              "</div>"
            ],
            "text/plain": [
              "                                    net  not_net  share_of_net\n",
              "object_type                                                   \n",
              "предприятие быстрого обслуживания   791     1132        41.134\n",
              "магазин (отдел кулинарии)            78      195        28.571\n",
              "ресторан                            544     1741        23.807\n",
              "кафе                               1396     4703        22.889\n",
              "закусочная                           56      304        15.556\n",
              "кафетерий                            52      346        13.065\n",
              "бар                                  37      819         4.322\n",
              "буфет                                11      574         1.880\n",
              "столовая                              3     2584         0.116"
            ]
          },
          "execution_count": 21,
          "metadata": {},
          "output_type": "execute_result"
        }
      ],
      "source": [
        "df_share_of_net.sort_values(by='share_of_net', ascending=False)"
      ]
    },
    {
      "cell_type": "markdown",
      "metadata": {
        "id": "lLdKHbEDxOFP"
      },
      "source": [
        "**Основные выводы:**\n",
        "\n",
        "1. Для всех типов заведений общественного питания в Москве доля заведений с сетевым видом распространения составляет менее половины. То есть можно сказать, что несетевой тип распространения более распространен для всех типов заведений общественного питания.\n",
        "2. Наибольшая доля заведений с сетевым типом распространения наблюдается для предприятий быстрого обслуживания (41%).\n",
        "3. Также высока доля заведений с сетевым типом распространения для отделов кулинарии магазинов (29%), ресторанов (24%) и кафе (23%).\n",
        "4. Чуть меньшая доля - в закусочных (16%) и кафетериях (13%).\n",
        "5. Практически отсутствуют сетевые заведения среди таких типов заведений общественного питания, как бары (4%), буфеты (2%) и столовые (менее 1%)."
      ]
    },
    {
      "cell_type": "markdown",
      "metadata": {
        "id": "i7XeuK0uxOFQ"
      },
      "source": [
        "### Характеристики сетевых заведений (соотношения числа заведений и числа мест в них)"
      ]
    },
    {
      "cell_type": "markdown",
      "metadata": {
        "id": "VIdxj7zcxOFQ"
      },
      "source": [
        "**Задача:**\n",
        "\n",
        "Ответить на вопрос \"Что характерно для сетевых заведений: много заведений с небольшим числом посадочных мест в каждом или мало заведений с большим количеством посадочных мест?\""
      ]
    },
    {
      "cell_type": "code",
      "execution_count": null,
      "metadata": {
        "id": "qpuTCBb8xOFQ",
        "outputId": "991a933c-8f2c-4126-bfb8-2d881be3719e"
      },
      "outputs": [
        {
          "data": {
            "image/png": "[encoded data removed]",
            "text/plain": [
              "<Figure size 864x360 with 1 Axes>"
            ]
          },
          "metadata": {},
          "output_type": "display_data"
        }
      ],
      "source": [
        "ax = df.query('chain == \"сетевое\"')['number'] \\\n",
        "       .plot(bins=20, kind='hist', figsize=(12,5))\n",
        "\n",
        "ax.set_xlabel('Количество посадочных мест (шт)')\n",
        "ax.set_ylabel('Количество объектов общественного питания (шт)')\n",
        "ax.set_title('Количество посадочных мест в заведениях Москвы')\n",
        "plt.show()"
      ]
    },
    {
      "cell_type": "code",
      "execution_count": null,
      "metadata": {
        "id": "VhgBeBfexOFQ",
        "outputId": "b25780bd-f45d-4b29-9686-b2331a9e09c8"
      },
      "outputs": [
        {
          "data": {
            "image/png": "[encoded data removed]",
            "text/plain": [
              "<Figure size 864x360 with 1 Axes>"
            ]
          },
          "metadata": {},
          "output_type": "display_data"
        }
      ],
      "source": [
        "plt.figure(figsize=(12,5))\n",
        "\n",
        "ax = sns.boxplot(x=df.query('chain == \"сетевое\"')['number'])\n",
        "\n",
        "ax.set_xlabel('Количество посадочных мест (шт)')\n",
        "ax.set_title('Количество посадочных мест в заведениях Москвы')\n",
        "\n",
        "plt.show()"
      ]
    },
    {
      "cell_type": "code",
      "execution_count": null,
      "metadata": {
        "id": "uRvuLljhxOFQ",
        "outputId": "535caf9d-f65c-4352-df0e-c44b04e34e48"
      },
      "outputs": [
        {
          "data": {
            "text/plain": [
              "count   2968.000\n",
              "mean      52.920\n",
              "std       57.141\n",
              "min        0.000\n",
              "25%       15.000\n",
              "50%       40.000\n",
              "75%       72.000\n",
              "max      580.000\n",
              "Name: number, dtype: float64"
            ]
          },
          "execution_count": 24,
          "metadata": {},
          "output_type": "execute_result"
        }
      ],
      "source": [
        "df.query('chain == \"сетевое\"')['number'].describe()"
      ]
    },
    {
      "cell_type": "code",
      "execution_count": null,
      "metadata": {
        "id": "Q7iE0YJLxOFR",
        "outputId": "10addd11-a618-4142-e857-b7da6aa0b7d7"
      },
      "outputs": [
        {
          "data": {
            "text/html": [
              "<div>\n",
              "<style scoped>\n",
              "    .dataframe tbody tr th:only-of-type {\n",
              "        vertical-align: middle;\n",
              "    }\n",
              "\n",
              "    .dataframe tbody tr th {\n",
              "        vertical-align: top;\n",
              "    }\n",
              "\n",
              "    .dataframe thead th {\n",
              "        text-align: right;\n",
              "    }\n",
              "</style>\n",
              "<table border=\"1\" class=\"dataframe\">\n",
              "  <thead>\n",
              "    <tr style=\"text-align: right;\">\n",
              "      <th></th>\n",
              "      <th>count_of_places</th>\n",
              "      <th>count_of_seats</th>\n",
              "    </tr>\n",
              "    <tr>\n",
              "      <th>object_type</th>\n",
              "      <th></th>\n",
              "      <th></th>\n",
              "    </tr>\n",
              "  </thead>\n",
              "  <tbody>\n",
              "    <tr>\n",
              "      <td>кафе</td>\n",
              "      <td>1396</td>\n",
              "      <td>47.000</td>\n",
              "    </tr>\n",
              "    <tr>\n",
              "      <td>предприятие быстрого обслуживания</td>\n",
              "      <td>791</td>\n",
              "      <td>40.000</td>\n",
              "    </tr>\n",
              "    <tr>\n",
              "      <td>ресторан</td>\n",
              "      <td>544</td>\n",
              "      <td>100.000</td>\n",
              "    </tr>\n",
              "    <tr>\n",
              "      <td>магазин (отдел кулинарии)</td>\n",
              "      <td>78</td>\n",
              "      <td>9.000</td>\n",
              "    </tr>\n",
              "    <tr>\n",
              "      <td>закусочная</td>\n",
              "      <td>56</td>\n",
              "      <td>14.000</td>\n",
              "    </tr>\n",
              "    <tr>\n",
              "      <td>кафетерий</td>\n",
              "      <td>52</td>\n",
              "      <td>12.000</td>\n",
              "    </tr>\n",
              "    <tr>\n",
              "      <td>бар</td>\n",
              "      <td>37</td>\n",
              "      <td>53.000</td>\n",
              "    </tr>\n",
              "    <tr>\n",
              "      <td>буфет</td>\n",
              "      <td>11</td>\n",
              "      <td>13.000</td>\n",
              "    </tr>\n",
              "    <tr>\n",
              "      <td>столовая</td>\n",
              "      <td>3</td>\n",
              "      <td>112.000</td>\n",
              "    </tr>\n",
              "  </tbody>\n",
              "</table>\n",
              "</div>"
            ],
            "text/plain": [
              "                                   count_of_places  count_of_seats\n",
              "object_type                                                       \n",
              "кафе                                          1396          47.000\n",
              "предприятие быстрого обслуживания              791          40.000\n",
              "ресторан                                       544         100.000\n",
              "магазин (отдел кулинарии)                       78           9.000\n",
              "закусочная                                      56          14.000\n",
              "кафетерий                                       52          12.000\n",
              "бар                                             37          53.000\n",
              "буфет                                           11          13.000\n",
              "столовая                                         3         112.000"
            ]
          },
          "execution_count": 44,
          "metadata": {},
          "output_type": "execute_result"
        }
      ],
      "source": [
        "place_and_seat = df.query('chain == \"сетевое\"') \\\n",
        "                   .groupby('object_type') \\\n",
        "                   .agg({'id':'count', 'number':'mean'}) \\\n",
        "                   .round(0) \\\n",
        "                   .rename(columns={\"id\": \"count_of_places\", \"number\": \"count_of_seats\"}) \\\n",
        "                   .sort_values('count_of_places', ascending = False)\n",
        "place_and_seat"
      ]
    },
    {
      "cell_type": "code",
      "execution_count": null,
      "metadata": {
        "id": "gGNz4H_YxOFR",
        "outputId": "c7fa4f5e-b6c8-498d-d280-fcb1381e4c7a"
      },
      "outputs": [
        {
          "data": {
            "text/plain": [
              "count      9.000\n",
              "mean     329.778\n",
              "std      487.990\n",
              "min        3.000\n",
              "25%       37.000\n",
              "50%       56.000\n",
              "75%      544.000\n",
              "max     1396.000\n",
              "Name: count_of_places, dtype: float64"
            ]
          },
          "execution_count": 46,
          "metadata": {},
          "output_type": "execute_result"
        }
      ],
      "source": [
        "place_and_seat['count_of_places'].describe()"
      ]
    },
    {
      "cell_type": "markdown",
      "metadata": {
        "id": "-OsG7c5-xOFR"
      },
      "source": [
        "Будем считать, что \"много\" посадочных мест - это больше среднего, то есть больше 53.\n",
        "\n",
        "Будем также считать, что \"много\" заведений - это больше (или равно) медианной, то есть больше 56.\n",
        "\n",
        "Таким образом, к типам сетевых заведений, где много заведений и много мест, относятся только рестораны. В остальных типах, где много заведений, мест обычно мало: кафе, предприятие быстрого обслуживания, магазин (отдел кулинарии) и закусочная.\n",
        "\n",
        "С другой стороны, к типам сетевых заведений, где мало заведений, но много мест, относится только столовая. Однако этот вывод основан на 3 наблюдениях, так что адекватнее будет заключить, что столовые в целом редко относятся к сетевому типу заведений. Остальные типы заведений с небольшим числом заведений также отличаются малым числом посадочных мест.\n",
        "\n",
        "\n",
        "**Дальше посмотрим на конкретные сети!**"
      ]
    },
    {
      "cell_type": "code",
      "execution_count": null,
      "metadata": {
        "id": "Frk79RNfxOFR",
        "outputId": "970c109c-0152-4b44-ef13-4c0bb37089fe"
      },
      "outputs": [
        {
          "data": {
            "text/html": [
              "<div>\n",
              "<style scoped>\n",
              "    .dataframe tbody tr th:only-of-type {\n",
              "        vertical-align: middle;\n",
              "    }\n",
              "\n",
              "    .dataframe tbody tr th {\n",
              "        vertical-align: top;\n",
              "    }\n",
              "\n",
              "    .dataframe thead th {\n",
              "        text-align: right;\n",
              "    }\n",
              "</style>\n",
              "<table border=\"1\" class=\"dataframe\">\n",
              "  <thead>\n",
              "    <tr style=\"text-align: right;\">\n",
              "      <th></th>\n",
              "      <th>object_name</th>\n",
              "      <th>count_of_places</th>\n",
              "      <th>count_of_seats</th>\n",
              "    </tr>\n",
              "  </thead>\n",
              "  <tbody>\n",
              "    <tr>\n",
              "      <td>0</td>\n",
              "      <td>шоколадница</td>\n",
              "      <td>157</td>\n",
              "      <td>57.000</td>\n",
              "    </tr>\n",
              "    <tr>\n",
              "      <td>1</td>\n",
              "      <td>kfc</td>\n",
              "      <td>155</td>\n",
              "      <td>55.000</td>\n",
              "    </tr>\n",
              "    <tr>\n",
              "      <td>2</td>\n",
              "      <td>макдоналдс</td>\n",
              "      <td>151</td>\n",
              "      <td>87.000</td>\n",
              "    </tr>\n",
              "    <tr>\n",
              "      <td>3</td>\n",
              "      <td>бургер кинг</td>\n",
              "      <td>137</td>\n",
              "      <td>47.000</td>\n",
              "    </tr>\n",
              "    <tr>\n",
              "      <td>4</td>\n",
              "      <td>теремок</td>\n",
              "      <td>94</td>\n",
              "      <td>26.000</td>\n",
              "    </tr>\n",
              "    <tr>\n",
              "      <td>...</td>\n",
              "      <td>...</td>\n",
              "      <td>...</td>\n",
              "      <td>...</td>\n",
              "    </tr>\n",
              "    <tr>\n",
              "      <td>241</td>\n",
              "      <td>кафе «costa coffee»</td>\n",
              "      <td>2</td>\n",
              "      <td>20.000</td>\n",
              "    </tr>\n",
              "    <tr>\n",
              "      <td>242</td>\n",
              "      <td>изба</td>\n",
              "      <td>2</td>\n",
              "      <td>18.000</td>\n",
              "    </tr>\n",
              "    <tr>\n",
              "      <td>243</td>\n",
              "      <td>зодиак</td>\n",
              "      <td>2</td>\n",
              "      <td>72.000</td>\n",
              "    </tr>\n",
              "    <tr>\n",
              "      <td>244</td>\n",
              "      <td>закусочная «бургер кинг»</td>\n",
              "      <td>2</td>\n",
              "      <td>20.000</td>\n",
              "    </tr>\n",
              "    <tr>\n",
              "      <td>245</td>\n",
              "      <td>илья муромец</td>\n",
              "      <td>2</td>\n",
              "      <td>94.000</td>\n",
              "    </tr>\n",
              "  </tbody>\n",
              "</table>\n",
              "<p>246 rows × 3 columns</p>\n",
              "</div>"
            ],
            "text/plain": [
              "                  object_name  count_of_places  count_of_seats\n",
              "0                 шоколадница              157          57.000\n",
              "1                         kfc              155          55.000\n",
              "2                  макдоналдс              151          87.000\n",
              "3                 бургер кинг              137          47.000\n",
              "4                     теремок               94          26.000\n",
              "..                        ...              ...             ...\n",
              "241       кафе «costa coffee»                2          20.000\n",
              "242                      изба                2          18.000\n",
              "243                    зодиак                2          72.000\n",
              "244  закусочная «бургер кинг»                2          20.000\n",
              "245              илья муромец                2          94.000\n",
              "\n",
              "[246 rows x 3 columns]"
            ]
          },
          "execution_count": 50,
          "metadata": {},
          "output_type": "execute_result"
        }
      ],
      "source": [
        "places_and_seats = df.query('chain == \"сетевое\"') \\\n",
        "                     .groupby('object_name') \\\n",
        "                     .agg({'id':'count', 'number':'mean'}) \\\n",
        "                     .round(0) \\\n",
        "                     .sort_values('id', ascending=False) \\\n",
        "                     .rename(columns={\"id\": \"count_of_places\", \"number\": \"count_of_seats\"}) \\\n",
        "                     .query('count_of_places > 1') \\\n",
        "                     .reset_index()\n",
        "places_and_seats"
      ]
    },
    {
      "cell_type": "markdown",
      "metadata": {
        "id": "3lsiLAIGxOFR"
      },
      "source": [
        "По таблице сложно что-то понять, так что построим график."
      ]
    },
    {
      "cell_type": "code",
      "execution_count": null,
      "metadata": {
        "id": "HKZ3Ke1xxOFS",
        "outputId": "920616e4-453a-4b39-c83e-183dcccbdb57"
      },
      "outputs": [
        {
          "data": {
            "image/png": "[encoded data removed]",
            "text/plain": [
              "<Figure size 864x720 with 1 Axes>"
            ]
          },
          "metadata": {},
          "output_type": "display_data"
        }
      ],
      "source": [
        "plt.figure(figsize=(12,10))\n",
        "\n",
        "ax = sns.scatterplot(data=places_and_seats, x=\"count_of_places\", y=\"count_of_seats\", hue=\"object_name\", legend = False)\n",
        "\n",
        "ax.set_ylabel('Количество посадочных мест (шт)')\n",
        "ax.set_xlabel('Количество заведений (шт)')\n",
        "ax.set_title('Соотношение кличества заведений и количества посадочных мест')\n",
        "\n",
        "plt.show()"
      ]
    },
    {
      "cell_type": "markdown",
      "metadata": {
        "id": "vrY7vWmexOFS"
      },
      "source": [
        "Судя по тому, что основное скопление точек расположено в левом нижнем углу, напрашивается вывод, что в основном для сетевых заведений характерно небольшое число заведений с небольшим числом посадочных мест в каждом."
      ]
    },
    {
      "cell_type": "code",
      "execution_count": null,
      "metadata": {
        "id": "MOX6YG_7xOFS"
      },
      "outputs": [],
      "source": [
        "plt.figure(figsize=(12,5))\n",
        "\n",
        "ax = sns.boxplot(x=df.query('chain == \"сетевое\"')['number'])\n",
        "\n",
        "ax.set_xlabel('Количество посадочных мест (шт)')\n",
        "ax.set_title('Количество посадочных мест в заведениях Москвы')\n",
        "\n",
        "plt.show()"
      ]
    },
    {
      "cell_type": "markdown",
      "metadata": {
        "id": "quEHDR0qxOFS"
      },
      "source": [
        "Основные выводы:\n",
        "\n",
        "1. Среднее число посадочных мест в заведениях общественного питания с сетевым типом распространения составляет 53, медианное - 40. \n",
        "2. 50% исследуемых заведений общественного питания имеют от 15 до 72 посадочных мест.\n",
        "3. К типам сетевых заведений, где много заведений и много мест, относятся только рестораны. В остальных типах, где много заведений, мест обычно мало: кафе, предприятие быстрого обслуживания, магазин (отдел кулинарии) и закусочная.\n",
        "4. С другой стороны, к типам сетевых заведений, где мало заведений, но много мест, относится только столовая. Однако этот вывод основан на 3 наблюдениях, так что адекватнее будет заключить, что столовые в целом редко относятся к сетевому типу заведений. Остальные типы заведений с небольшим числом заведений также отличаются малым числом посадочных мест.\n",
        "5. **Для сетевых заведений характерно небольшое заведений с небольшим числом посадочных мест в каждом**. "
      ]
    },
    {
      "cell_type": "markdown",
      "metadata": {
        "id": "44UDklgaxOFS"
      },
      "source": [
        "### Среднее количество посадочных мест для различных видов объектов общественного питания"
      ]
    },
    {
      "cell_type": "markdown",
      "metadata": {
        "id": "FszYJrLbxOFS"
      },
      "source": [
        "**Задача:**\n",
        "\n",
        "Для каждого вида объекта общественного питания описать среднее количество посадочных мест. Какой вид предоставляет в среднем самое большое количество посадочных мест? Построить графики"
      ]
    },
    {
      "cell_type": "code",
      "execution_count": null,
      "metadata": {
        "id": "BmBGNwtPxOFT",
        "outputId": "06111578-f8b6-4622-a08d-006cc97c131b"
      },
      "outputs": [
        {
          "data": {
            "image/png": "[encoded data removed]",
            "text/plain": [
              "<Figure size 864x720 with 1 Axes>"
            ]
          },
          "metadata": {},
          "output_type": "display_data"
        }
      ],
      "source": [
        "plt.figure(figsize=(12,10))\n",
        "\n",
        "ax = sns.boxplot(x='number', y='object_type', data=df)\n",
        "ax.set_xlabel('Количество посадочных мест (шт)')\n",
        "ax.set_ylabel('Тип объекта общественного питания')\n",
        "ax.set_title('Количество посадочных мест в заведениях Москвы')\n",
        "ax.set_xlim(-10,300)\n",
        "plt.show()"
      ]
    },
    {
      "cell_type": "code",
      "execution_count": null,
      "metadata": {
        "id": "QtHxvO7kxOFT",
        "outputId": "73788918-7e7a-4e1c-ae96-cf18a74eb01f"
      },
      "outputs": [
        {
          "data": {
            "text/html": [
              "<div>\n",
              "<style scoped>\n",
              "    .dataframe tbody tr th:only-of-type {\n",
              "        vertical-align: middle;\n",
              "    }\n",
              "\n",
              "    .dataframe tbody tr th {\n",
              "        vertical-align: top;\n",
              "    }\n",
              "\n",
              "    .dataframe thead th {\n",
              "        text-align: right;\n",
              "    }\n",
              "</style>\n",
              "<table border=\"1\" class=\"dataframe\">\n",
              "  <thead>\n",
              "    <tr style=\"text-align: right;\">\n",
              "      <th></th>\n",
              "      <th>count</th>\n",
              "      <th>mean</th>\n",
              "      <th>std</th>\n",
              "      <th>min</th>\n",
              "      <th>25%</th>\n",
              "      <th>50%</th>\n",
              "      <th>75%</th>\n",
              "      <th>max</th>\n",
              "    </tr>\n",
              "    <tr>\n",
              "      <th>object_type</th>\n",
              "      <th></th>\n",
              "      <th></th>\n",
              "      <th></th>\n",
              "      <th></th>\n",
              "      <th></th>\n",
              "      <th></th>\n",
              "      <th></th>\n",
              "      <th></th>\n",
              "    </tr>\n",
              "  </thead>\n",
              "  <tbody>\n",
              "    <tr>\n",
              "      <td>столовая</td>\n",
              "      <td>2587.000</td>\n",
              "      <td>130.247</td>\n",
              "      <td>95.179</td>\n",
              "      <td>0.000</td>\n",
              "      <td>50.000</td>\n",
              "      <td>103.000</td>\n",
              "      <td>200.000</td>\n",
              "      <td>1400.000</td>\n",
              "    </tr>\n",
              "    <tr>\n",
              "      <td>ресторан</td>\n",
              "      <td>2285.000</td>\n",
              "      <td>96.834</td>\n",
              "      <td>94.757</td>\n",
              "      <td>0.000</td>\n",
              "      <td>46.000</td>\n",
              "      <td>80.000</td>\n",
              "      <td>114.000</td>\n",
              "      <td>1500.000</td>\n",
              "    </tr>\n",
              "    <tr>\n",
              "      <td>буфет</td>\n",
              "      <td>585.000</td>\n",
              "      <td>51.130</td>\n",
              "      <td>56.332</td>\n",
              "      <td>0.000</td>\n",
              "      <td>14.000</td>\n",
              "      <td>32.000</td>\n",
              "      <td>80.000</td>\n",
              "      <td>320.000</td>\n",
              "    </tr>\n",
              "    <tr>\n",
              "      <td>бар</td>\n",
              "      <td>856.000</td>\n",
              "      <td>43.494</td>\n",
              "      <td>67.083</td>\n",
              "      <td>0.000</td>\n",
              "      <td>20.000</td>\n",
              "      <td>35.000</td>\n",
              "      <td>50.000</td>\n",
              "      <td>1700.000</td>\n",
              "    </tr>\n",
              "    <tr>\n",
              "      <td>кафе</td>\n",
              "      <td>6099.000</td>\n",
              "      <td>39.716</td>\n",
              "      <td>37.721</td>\n",
              "      <td>0.000</td>\n",
              "      <td>15.000</td>\n",
              "      <td>30.000</td>\n",
              "      <td>50.000</td>\n",
              "      <td>533.000</td>\n",
              "    </tr>\n",
              "    <tr>\n",
              "      <td>предприятие быстрого обслуживания</td>\n",
              "      <td>1923.000</td>\n",
              "      <td>20.552</td>\n",
              "      <td>38.367</td>\n",
              "      <td>0.000</td>\n",
              "      <td>0.000</td>\n",
              "      <td>5.000</td>\n",
              "      <td>25.000</td>\n",
              "      <td>580.000</td>\n",
              "    </tr>\n",
              "    <tr>\n",
              "      <td>кафетерий</td>\n",
              "      <td>398.000</td>\n",
              "      <td>9.123</td>\n",
              "      <td>14.639</td>\n",
              "      <td>0.000</td>\n",
              "      <td>0.000</td>\n",
              "      <td>6.000</td>\n",
              "      <td>12.000</td>\n",
              "      <td>200.000</td>\n",
              "    </tr>\n",
              "    <tr>\n",
              "      <td>закусочная</td>\n",
              "      <td>360.000</td>\n",
              "      <td>7.608</td>\n",
              "      <td>16.651</td>\n",
              "      <td>0.000</td>\n",
              "      <td>0.000</td>\n",
              "      <td>0.000</td>\n",
              "      <td>10.000</td>\n",
              "      <td>216.000</td>\n",
              "    </tr>\n",
              "    <tr>\n",
              "      <td>магазин (отдел кулинарии)</td>\n",
              "      <td>273.000</td>\n",
              "      <td>5.590</td>\n",
              "      <td>9.873</td>\n",
              "      <td>0.000</td>\n",
              "      <td>0.000</td>\n",
              "      <td>0.000</td>\n",
              "      <td>8.000</td>\n",
              "      <td>50.000</td>\n",
              "    </tr>\n",
              "  </tbody>\n",
              "</table>\n",
              "</div>"
            ],
            "text/plain": [
              "                                     count    mean    std   min    25%  \\\n",
              "object_type                                                              \n",
              "столовая                          2587.000 130.247 95.179 0.000 50.000   \n",
              "ресторан                          2285.000  96.834 94.757 0.000 46.000   \n",
              "буфет                              585.000  51.130 56.332 0.000 14.000   \n",
              "бар                                856.000  43.494 67.083 0.000 20.000   \n",
              "кафе                              6099.000  39.716 37.721 0.000 15.000   \n",
              "предприятие быстрого обслуживания 1923.000  20.552 38.367 0.000  0.000   \n",
              "кафетерий                          398.000   9.123 14.639 0.000  0.000   \n",
              "закусочная                         360.000   7.608 16.651 0.000  0.000   \n",
              "магазин (отдел кулинарии)          273.000   5.590  9.873 0.000  0.000   \n",
              "\n",
              "                                      50%     75%      max  \n",
              "object_type                                                 \n",
              "столовая                          103.000 200.000 1400.000  \n",
              "ресторан                           80.000 114.000 1500.000  \n",
              "буфет                              32.000  80.000  320.000  \n",
              "бар                                35.000  50.000 1700.000  \n",
              "кафе                               30.000  50.000  533.000  \n",
              "предприятие быстрого обслуживания   5.000  25.000  580.000  \n",
              "кафетерий                           6.000  12.000  200.000  \n",
              "закусочная                          0.000  10.000  216.000  \n",
              "магазин (отдел кулинарии)           0.000   8.000   50.000  "
            ]
          },
          "execution_count": 26,
          "metadata": {},
          "output_type": "execute_result"
        }
      ],
      "source": [
        "df.groupby('object_type')['number'] \\\n",
        "  .describe() \\\n",
        "  .sort_values(by='mean', ascending=False)"
      ]
    },
    {
      "cell_type": "code",
      "execution_count": null,
      "metadata": {
        "id": "dD1VuL1GxOFT"
      },
      "outputs": [],
      "source": [
        "grp_order = df.groupby('object_type')['number'] \\\n",
        "              .mean() \\\n",
        "              .sort_values(ascending=False) \\\n",
        "              .index"
      ]
    },
    {
      "cell_type": "code",
      "execution_count": null,
      "metadata": {
        "id": "kLsxYv3mxOFT",
        "outputId": "d20b4bf2-83d1-4496-f265-836a20900a0d"
      },
      "outputs": [
        {
          "data": {
            "image/png": "[encoded data removed]",
            "text/plain": [
              "<Figure size 864x360 with 1 Axes>"
            ]
          },
          "metadata": {},
          "output_type": "display_data"
        }
      ],
      "source": [
        "plt.figure(figsize=(12,5))\n",
        "\n",
        "ax = sns.barplot(x='number', y='object_type', data=df, order=grp_order)\n",
        "\n",
        "ax.set_xlabel('Количество мест (шт)')\n",
        "ax.set_ylabel('Тип объекта')\n",
        "ax.set_title('Количество посадочных мест на объектах общественного питания в Москве')\n",
        "plt.xticks(rotation=45)\n",
        "plt.show()"
      ]
    },
    {
      "cell_type": "markdown",
      "metadata": {
        "id": "eYf_bEhYxOFU"
      },
      "source": [
        "**Основные выводы:**\n",
        "\n",
        "1. Наибольшее количество посадочных мест в среднем предоставляют столовые (130 мест в среднем) и рестораны (97 мест в среднем).\n",
        "2. Во вторую группу по среднему числу посадочных мест можно отнести буфеты (51 место в среднем), бары (44 места в среднем) и кафе (40 мест в среднем).\n",
        "3. К аутсайдерам по количеству посадочных мест относятся предприятия быстрого обслуживания (21 место в среднем), кафетерии (9 мест в среднем), закусочные (8 мест в среднем) и отделы кулинарии в магазинах (6 мест в среднем). Медианные значения для последних двух - 0, то есть обычно данные типы заведений обходятся совсем без посадочных мест."
      ]
    },
    {
      "cell_type": "markdown",
      "metadata": {
        "id": "Q7bR8CsExOFU"
      },
      "source": [
        "### Определение улицы"
      ]
    },
    {
      "cell_type": "markdown",
      "metadata": {
        "id": "vYWL2KFgxOFU"
      },
      "source": [
        "**Задача:**\n",
        "\n",
        "Выделить в отдельный столбец информацию об улице из столбца address"
      ]
    },
    {
      "cell_type": "code",
      "execution_count": null,
      "metadata": {
        "id": "5kgoFcH3xOFU"
      },
      "outputs": [],
      "source": [
        "symbols = [',', '«', '»', '(', ')', '\"', '  ']\n",
        "\n",
        "for s in symbols:\n",
        "    df['object_name'] = df['object_name'].str.replace(s, ' ')\n",
        "    df['address'] = df['address'].str.replace(s, ' ')"
      ]
    },
    {
      "cell_type": "code",
      "execution_count": null,
      "metadata": {
        "id": "R9xDNDLixOFU"
      },
      "outputs": [],
      "source": [
        "street = df['address'].to_list()"
      ]
    },
    {
      "cell_type": "code",
      "execution_count": null,
      "metadata": {
        "id": "ITxShl5NxOFU"
      },
      "outputs": [],
      "source": [
        "streets_only = []\n",
        "for street in street:  \n",
        "    start = street.find('город москва')\n",
        "    end = street.find('дом')\n",
        "    streets_only.append(street[start+12:end-1])"
      ]
    },
    {
      "cell_type": "code",
      "execution_count": null,
      "metadata": {
        "id": "csvM1B9-xOFV"
      },
      "outputs": [],
      "source": [
        "df['street_name'] = streets_only"
      ]
    },
    {
      "cell_type": "code",
      "execution_count": null,
      "metadata": {
        "id": "6GeD_BBmxOFV",
        "outputId": "d5fc452d-3975-422e-e140-294764391b46"
      },
      "outputs": [
        {
          "data": {
            "text/plain": [
              "0                                    улица егора абакумова\n",
              "1                                         улица талалихина\n",
              "2                                     абельмановская улица\n",
              "3                                       абрамцевская улица\n",
              "4                                       абрамцевская улица\n",
              "                               ...                        \n",
              "15361                               3-й крутицкий переулок\n",
              "15362                                   улица земляной вал\n",
              "15363                                   улица земляной вал\n",
              "15364     поселение московский киевское шоссе 22-й кило...\n",
              "15365                                    ходынский бульвар\n",
              "Name: street_name, Length: 15366, dtype: object"
            ]
          },
          "execution_count": 33,
          "metadata": {},
          "output_type": "execute_result"
        }
      ],
      "source": [
        "df['street_name']"
      ]
    },
    {
      "cell_type": "code",
      "execution_count": null,
      "metadata": {
        "id": "KvHF9wiqxOFV",
        "outputId": "d97956c9-dc4a-4ce3-a83c-904a375dbc5c"
      },
      "outputs": [
        {
          "data": {
            "text/html": [
              "<div>\n",
              "<style scoped>\n",
              "    .dataframe tbody tr th:only-of-type {\n",
              "        vertical-align: middle;\n",
              "    }\n",
              "\n",
              "    .dataframe tbody tr th {\n",
              "        vertical-align: top;\n",
              "    }\n",
              "\n",
              "    .dataframe thead th {\n",
              "        text-align: right;\n",
              "    }\n",
              "</style>\n",
              "<table border=\"1\" class=\"dataframe\">\n",
              "  <thead>\n",
              "    <tr style=\"text-align: right;\">\n",
              "      <th></th>\n",
              "      <th>id</th>\n",
              "      <th>object_name</th>\n",
              "      <th>chain</th>\n",
              "      <th>object_type</th>\n",
              "      <th>address</th>\n",
              "      <th>number</th>\n",
              "      <th>street_name</th>\n",
              "    </tr>\n",
              "  </thead>\n",
              "  <tbody>\n",
              "    <tr>\n",
              "      <td>0</td>\n",
              "      <td>151635</td>\n",
              "      <td>сметана</td>\n",
              "      <td>несетевое</td>\n",
              "      <td>кафе</td>\n",
              "      <td>город москва улица егора абакумова дом 9</td>\n",
              "      <td>48</td>\n",
              "      <td>улица егора абакумова</td>\n",
              "    </tr>\n",
              "    <tr>\n",
              "      <td>1</td>\n",
              "      <td>77874</td>\n",
              "      <td>родник</td>\n",
              "      <td>несетевое</td>\n",
              "      <td>кафе</td>\n",
              "      <td>город москва улица талалихина дом 2/1 корпус 1</td>\n",
              "      <td>35</td>\n",
              "      <td>улица талалихина</td>\n",
              "    </tr>\n",
              "    <tr>\n",
              "      <td>2</td>\n",
              "      <td>24309</td>\n",
              "      <td>кафе академия</td>\n",
              "      <td>несетевое</td>\n",
              "      <td>кафе</td>\n",
              "      <td>город москва абельмановская улица дом 6</td>\n",
              "      <td>95</td>\n",
              "      <td>абельмановская улица</td>\n",
              "    </tr>\n",
              "    <tr>\n",
              "      <td>3</td>\n",
              "      <td>21894</td>\n",
              "      <td>пиццетория</td>\n",
              "      <td>сетевое</td>\n",
              "      <td>кафе</td>\n",
              "      <td>город москва абрамцевская улица дом 1</td>\n",
              "      <td>40</td>\n",
              "      <td>абрамцевская улица</td>\n",
              "    </tr>\n",
              "    <tr>\n",
              "      <td>4</td>\n",
              "      <td>119365</td>\n",
              "      <td>кафе вишневая метель</td>\n",
              "      <td>несетевое</td>\n",
              "      <td>кафе</td>\n",
              "      <td>город москва абрамцевская улица дом 9 корпус 1</td>\n",
              "      <td>50</td>\n",
              "      <td>абрамцевская улица</td>\n",
              "    </tr>\n",
              "  </tbody>\n",
              "</table>\n",
              "</div>"
            ],
            "text/plain": [
              "       id            object_name      chain object_type  \\\n",
              "0  151635                сметана  несетевое        кафе   \n",
              "1   77874                 родник  несетевое        кафе   \n",
              "2   24309         кафе академия   несетевое        кафе   \n",
              "3   21894             пиццетория    сетевое        кафе   \n",
              "4  119365  кафе вишневая метель   несетевое        кафе   \n",
              "\n",
              "                                          address  number  \\\n",
              "0        город москва улица егора абакумова дом 9      48   \n",
              "1  город москва улица талалихина дом 2/1 корпус 1      35   \n",
              "2         город москва абельмановская улица дом 6      95   \n",
              "3           город москва абрамцевская улица дом 1      40   \n",
              "4  город москва абрамцевская улица дом 9 корпус 1      50   \n",
              "\n",
              "              street_name  \n",
              "0   улица егора абакумова  \n",
              "1        улица талалихина  \n",
              "2    абельмановская улица  \n",
              "3      абрамцевская улица  \n",
              "4      абрамцевская улица  "
            ]
          },
          "execution_count": 34,
          "metadata": {},
          "output_type": "execute_result"
        }
      ],
      "source": [
        "df.head()"
      ]
    },
    {
      "cell_type": "code",
      "execution_count": null,
      "metadata": {
        "id": "5eqZy_t5xOFV",
        "outputId": "17e18bba-3f35-4c80-e052-df4340385b17"
      },
      "outputs": [
        {
          "data": {
            "text/plain": [
              "10"
            ]
          },
          "execution_count": 35,
          "metadata": {},
          "output_type": "execute_result"
        }
      ],
      "source": [
        "df[df['street_name'] == '']['street_name'].count()"
      ]
    },
    {
      "cell_type": "code",
      "execution_count": null,
      "metadata": {
        "id": "ykqhbxAoxOFV",
        "outputId": "32e91aa4-2dd8-479a-d313-dc24c9db7120"
      },
      "outputs": [
        {
          "data": {
            "text/html": [
              "<div>\n",
              "<style scoped>\n",
              "    .dataframe tbody tr th:only-of-type {\n",
              "        vertical-align: middle;\n",
              "    }\n",
              "\n",
              "    .dataframe tbody tr th {\n",
              "        vertical-align: top;\n",
              "    }\n",
              "\n",
              "    .dataframe thead th {\n",
              "        text-align: right;\n",
              "    }\n",
              "</style>\n",
              "<table border=\"1\" class=\"dataframe\">\n",
              "  <thead>\n",
              "    <tr style=\"text-align: right;\">\n",
              "      <th></th>\n",
              "      <th>id</th>\n",
              "      <th>object_name</th>\n",
              "      <th>chain</th>\n",
              "      <th>object_type</th>\n",
              "      <th>address</th>\n",
              "      <th>number</th>\n",
              "      <th>street_name</th>\n",
              "    </tr>\n",
              "  </thead>\n",
              "  <tbody>\n",
              "    <tr>\n",
              "      <td>335</td>\n",
              "      <td>21268</td>\n",
              "      <td>центр социального обеспечения</td>\n",
              "      <td>несетевое</td>\n",
              "      <td>столовая</td>\n",
              "      <td>город москва домодедовская улица дом 24 корпус 4</td>\n",
              "      <td>35</td>\n",
              "      <td></td>\n",
              "    </tr>\n",
              "    <tr>\n",
              "      <td>3654</td>\n",
              "      <td>72236</td>\n",
              "      <td>пончики</td>\n",
              "      <td>несетевое</td>\n",
              "      <td>предприятие быстрого обслуживания</td>\n",
              "      <td>город москва домостроительная улица дом 1 корп...</td>\n",
              "      <td>4</td>\n",
              "      <td></td>\n",
              "    </tr>\n",
              "    <tr>\n",
              "      <td>3693</td>\n",
              "      <td>29030</td>\n",
              "      <td>гбоу школа 548 кдп</td>\n",
              "      <td>несетевое</td>\n",
              "      <td>столовая</td>\n",
              "      <td>город москва домодедовская улица дом 35 корпус 2</td>\n",
              "      <td>150</td>\n",
              "      <td></td>\n",
              "    </tr>\n",
              "    <tr>\n",
              "      <td>4040</td>\n",
              "      <td>29023</td>\n",
              "      <td>гбоу школа 1207 кдп</td>\n",
              "      <td>несетевое</td>\n",
              "      <td>столовая</td>\n",
              "      <td>город москва домодедовская улица дом 24 корпус 7</td>\n",
              "      <td>200</td>\n",
              "      <td></td>\n",
              "    </tr>\n",
              "    <tr>\n",
              "      <td>4068</td>\n",
              "      <td>157787</td>\n",
              "      <td>донеретто</td>\n",
              "      <td>несетевое</td>\n",
              "      <td>предприятие быстрого обслуживания</td>\n",
              "      <td>город москва домодедовская улица дом 25 корпус 1</td>\n",
              "      <td>0</td>\n",
              "      <td></td>\n",
              "    </tr>\n",
              "    <tr>\n",
              "      <td>4082</td>\n",
              "      <td>153147</td>\n",
              "      <td>пекарня пепела</td>\n",
              "      <td>несетевое</td>\n",
              "      <td>предприятие быстрого обслуживания</td>\n",
              "      <td>город москва домодедовская улица дом 28</td>\n",
              "      <td>0</td>\n",
              "      <td></td>\n",
              "    </tr>\n",
              "    <tr>\n",
              "      <td>9542</td>\n",
              "      <td>164788</td>\n",
              "      <td>пиццерия</td>\n",
              "      <td>несетевое</td>\n",
              "      <td>предприятие быстрого обслуживания</td>\n",
              "      <td>город москва домодедовская улица дом 28</td>\n",
              "      <td>0</td>\n",
              "      <td></td>\n",
              "    </tr>\n",
              "    <tr>\n",
              "      <td>10069</td>\n",
              "      <td>171720</td>\n",
              "      <td>django lounge кальян-бар</td>\n",
              "      <td>несетевое</td>\n",
              "      <td>бар</td>\n",
              "      <td>город москва домостроительная улица дом 1 корп...</td>\n",
              "      <td>70</td>\n",
              "      <td></td>\n",
              "    </tr>\n",
              "    <tr>\n",
              "      <td>12106</td>\n",
              "      <td>177805</td>\n",
              "      <td>додо пицца</td>\n",
              "      <td>сетевое</td>\n",
              "      <td>кафе</td>\n",
              "      <td>город москва домодедовская улица дом 42а</td>\n",
              "      <td>9</td>\n",
              "      <td></td>\n",
              "    </tr>\n",
              "    <tr>\n",
              "      <td>12298</td>\n",
              "      <td>201629</td>\n",
              "      <td>шаурма</td>\n",
              "      <td>несетевое</td>\n",
              "      <td>предприятие быстрого обслуживания</td>\n",
              "      <td>город москва домодедовская улица дом 42</td>\n",
              "      <td>0</td>\n",
              "      <td></td>\n",
              "    </tr>\n",
              "  </tbody>\n",
              "</table>\n",
              "</div>"
            ],
            "text/plain": [
              "           id                    object_name      chain  \\\n",
              "335     21268  центр социального обеспечения  несетевое   \n",
              "3654    72236                        пончики  несетевое   \n",
              "3693    29030            гбоу школа 548 кдп   несетевое   \n",
              "4040    29023           гбоу школа 1207 кдп   несетевое   \n",
              "4068   157787                      донеретто  несетевое   \n",
              "4082   153147                 пекарня пепела  несетевое   \n",
              "9542   164788                       пиццерия  несетевое   \n",
              "10069  171720       django lounge кальян-бар  несетевое   \n",
              "12106  177805                     додо пицца    сетевое   \n",
              "12298  201629                         шаурма  несетевое   \n",
              "\n",
              "                             object_type  \\\n",
              "335                             столовая   \n",
              "3654   предприятие быстрого обслуживания   \n",
              "3693                            столовая   \n",
              "4040                            столовая   \n",
              "4068   предприятие быстрого обслуживания   \n",
              "4082   предприятие быстрого обслуживания   \n",
              "9542   предприятие быстрого обслуживания   \n",
              "10069                                бар   \n",
              "12106                               кафе   \n",
              "12298  предприятие быстрого обслуживания   \n",
              "\n",
              "                                                 address  number street_name  \n",
              "335     город москва домодедовская улица дом 24 корпус 4      35              \n",
              "3654   город москва домостроительная улица дом 1 корп...       4              \n",
              "3693    город москва домодедовская улица дом 35 корпус 2     150              \n",
              "4040    город москва домодедовская улица дом 24 корпус 7     200              \n",
              "4068    город москва домодедовская улица дом 25 корпус 1       0              \n",
              "4082             город москва домодедовская улица дом 28       0              \n",
              "9542             город москва домодедовская улица дом 28       0              \n",
              "10069  город москва домостроительная улица дом 1 корп...      70              \n",
              "12106           город москва домодедовская улица дом 42а       9              \n",
              "12298            город москва домодедовская улица дом 42       0              "
            ]
          },
          "execution_count": 36,
          "metadata": {},
          "output_type": "execute_result"
        }
      ],
      "source": [
        "df[df['street_name'] == '']"
      ]
    },
    {
      "cell_type": "markdown",
      "metadata": {
        "id": "bhcKbBJ5xOFV"
      },
      "source": [
        "10 улиц потерялось из-за того, что они начинаются на \"дом\", то есть немного ломают паттерн работы нашей функции. Но их не много, так что можно заменить вручную. "
      ]
    },
    {
      "cell_type": "code",
      "execution_count": null,
      "metadata": {
        "id": "4TJ0h9mNxOFW"
      },
      "outputs": [],
      "source": [
        "df.loc[df['id'] == 72236, 'street_name'] = 'домостроительная улица' \n",
        "df.loc[df['id'] == 171720, 'street_name'] = 'домостроительная улица' \n",
        "df['street_name'][df['street_name'] == ''] = 'домодедовская улица'"
      ]
    },
    {
      "cell_type": "code",
      "execution_count": null,
      "metadata": {
        "id": "nORWPLRYxOFW",
        "outputId": "ac667c09-49a0-4613-9207-72edcab5d209"
      },
      "outputs": [
        {
          "data": {
            "text/plain": [
              "0"
            ]
          },
          "execution_count": 38,
          "metadata": {},
          "output_type": "execute_result"
        }
      ],
      "source": [
        "df[df['street_name'] == '']['street_name'].count()"
      ]
    },
    {
      "cell_type": "markdown",
      "metadata": {
        "id": "_Mc8ulYAxOFW"
      },
      "source": [
        "Больше в переменной street_name нет пропущенных значений."
      ]
    },
    {
      "cell_type": "markdown",
      "metadata": {
        "id": "voDdQie8xOFW"
      },
      "source": [
        "**Основной результат:**\n",
        "\n",
        "Теперь информация об улице из столбца address выделена в отдельный столбец street_name."
      ]
    },
    {
      "cell_type": "markdown",
      "metadata": {
        "id": "JGMaEcsOxOFW"
      },
      "source": [
        "### Топ-10 улиц по количеству объектов общественного питания"
      ]
    },
    {
      "cell_type": "markdown",
      "metadata": {
        "id": "ofUbZa3CxOFW"
      },
      "source": [
        "**Задача:**\n",
        "\n",
        "Построить график топ-10 улиц по количеству объектов общественного питания. Воспользоваться внешней информацией и ответьте на вопрос — в каких районах Москвы находятся эти улицы?"
      ]
    },
    {
      "cell_type": "code",
      "execution_count": null,
      "metadata": {
        "id": "FE0GRMnDxOFW",
        "outputId": "6f6624b2-df36-402b-98b7-b0d4ecd9d8e2"
      },
      "outputs": [
        {
          "data": {
            "text/html": [
              "<div>\n",
              "<style scoped>\n",
              "    .dataframe tbody tr th:only-of-type {\n",
              "        vertical-align: middle;\n",
              "    }\n",
              "\n",
              "    .dataframe tbody tr th {\n",
              "        vertical-align: top;\n",
              "    }\n",
              "\n",
              "    .dataframe thead th {\n",
              "        text-align: right;\n",
              "    }\n",
              "</style>\n",
              "<table border=\"1\" class=\"dataframe\">\n",
              "  <thead>\n",
              "    <tr style=\"text-align: right;\">\n",
              "      <th></th>\n",
              "      <th>street_name</th>\n",
              "      <th>count_of_objects</th>\n",
              "    </tr>\n",
              "  </thead>\n",
              "  <tbody>\n",
              "    <tr>\n",
              "      <td>0</td>\n",
              "      <td>проспект мира</td>\n",
              "      <td>204</td>\n",
              "    </tr>\n",
              "    <tr>\n",
              "      <td>1</td>\n",
              "      <td>профсоюзная улица</td>\n",
              "      <td>182</td>\n",
              "    </tr>\n",
              "    <tr>\n",
              "      <td>2</td>\n",
              "      <td>ленинградский проспект</td>\n",
              "      <td>170</td>\n",
              "    </tr>\n",
              "    <tr>\n",
              "      <td>3</td>\n",
              "      <td>пресненская набережная</td>\n",
              "      <td>167</td>\n",
              "    </tr>\n",
              "    <tr>\n",
              "      <td>4</td>\n",
              "      <td>варшавское шоссе</td>\n",
              "      <td>155</td>\n",
              "    </tr>\n",
              "    <tr>\n",
              "      <td>5</td>\n",
              "      <td>ленинский проспект</td>\n",
              "      <td>147</td>\n",
              "    </tr>\n",
              "    <tr>\n",
              "      <td>6</td>\n",
              "      <td>проспект вернадского</td>\n",
              "      <td>131</td>\n",
              "    </tr>\n",
              "    <tr>\n",
              "      <td>7</td>\n",
              "      <td>кутузовский проспект</td>\n",
              "      <td>114</td>\n",
              "    </tr>\n",
              "    <tr>\n",
              "      <td>8</td>\n",
              "      <td>каширское шоссе</td>\n",
              "      <td>103</td>\n",
              "    </tr>\n",
              "    <tr>\n",
              "      <td>9</td>\n",
              "      <td>кировоградская улица</td>\n",
              "      <td>102</td>\n",
              "    </tr>\n",
              "  </tbody>\n",
              "</table>\n",
              "</div>"
            ],
            "text/plain": [
              "               street_name  count_of_objects\n",
              "0            проспект мира               204\n",
              "1        профсоюзная улица               182\n",
              "2   ленинградский проспект               170\n",
              "3   пресненская набережная               167\n",
              "4         варшавское шоссе               155\n",
              "5       ленинский проспект               147\n",
              "6     проспект вернадского               131\n",
              "7     кутузовский проспект               114\n",
              "8          каширское шоссе               103\n",
              "9     кировоградская улица               102"
            ]
          },
          "execution_count": 39,
          "metadata": {},
          "output_type": "execute_result"
        }
      ],
      "source": [
        "top_10 = df.groupby('street_name') \\\n",
        "           .count() \\\n",
        "           .sort_values(by='object_type', ascending=False) \\\n",
        "           .head(10) \\\n",
        "           .reset_index()[['street_name', 'object_type']] \\\n",
        "           .rename(columns={\"street_name\": \"street_name\", \"object_type\": \"count_of_objects\"})\n",
        "top_10"
      ]
    },
    {
      "cell_type": "code",
      "execution_count": null,
      "metadata": {
        "id": "iDx5GkLFxOFX",
        "outputId": "edcbdaae-05c2-46c9-eca3-978cf350c0d9"
      },
      "outputs": [
        {
          "data": {
            "image/png": "[encoded data removed]",
            "text/plain": [
              "<Figure size 864x360 with 1 Axes>"
            ]
          },
          "metadata": {},
          "output_type": "display_data"
        }
      ],
      "source": [
        "plt.figure(figsize=(12,5))\n",
        "ax = sns.barplot(x='count_of_objects', y='street_name', data=top_10, palette=\"Set3\")\n",
        "ax.set_xlabel('Количество объектов')\n",
        "ax.set_ylabel('Название улицы')\n",
        "ax.set_title('Топ-10 улиц по количеству объектов общественного питания')\n",
        "plt.show()"
      ]
    },
    {
      "cell_type": "markdown",
      "metadata": {
        "id": "U_fyQOyYxOFX"
      },
      "source": [
        "**Топ-10 улиц по количеству объектов общественного питания с указанием района (согласно данным из ВИКИ):**\n",
        "\n",
        "1. **Проспект Мира:** Мещанский, Марьина Роща, Алексеевский, Останкинский, Свиблово, Ростокино\n",
        "\n",
        "2. **Профсоюзная улица:** Академический, Коньково, Обручевский, Тёплый Стан, Черёмушки, Ясенево\n",
        "\n",
        "3. **Ленинградский проспект:** Беговой, Аэропорт, Сокол, Хорошёвский\n",
        "\n",
        "4. **Пресненская набережная:** Пресненский\n",
        "\n",
        "5. **Варшавское шоссе:** Донской, Нагатино-Садовники, Нагорный\n",
        "\n",
        "6. **Ленинский проспект:** Гагаринский и Донской\n",
        "\n",
        "7. **Проспект Вернадского:** Проспект Вернадского\n",
        "\n",
        "8. **Кутузовский проспект:** Дорогомилово, Фили-Давыдково\n",
        "\n",
        "9. **Каширское шоссе:** Нагатино-Садовники и Нагорный\n",
        "\n",
        "10. **Кировоградская улица:** Чертаново Северное, Чертаново Центральное, Чертаново Южное"
      ]
    },
    {
      "cell_type": "markdown",
      "metadata": {
        "id": "8hOV-cN2xOFX"
      },
      "source": [
        "### Число улиц с одним объектом общественного питания"
      ]
    },
    {
      "cell_type": "markdown",
      "metadata": {
        "id": "isvPv224xOFX"
      },
      "source": [
        "**Задача:**\n",
        "\n",
        "Найти число улиц с одним объектом общественного питания. Воспользоваться внешней информацией и ответьте на вопрос — в каких районах Москвы находятся эти улицы?"
      ]
    },
    {
      "cell_type": "code",
      "execution_count": null,
      "metadata": {
        "id": "OGxEU9UnxOFX",
        "outputId": "b8f9d4fa-05f2-4e1a-ce3c-088e2edace1f"
      },
      "outputs": [
        {
          "data": {
            "text/plain": [
              "813"
            ]
          },
          "execution_count": 41,
          "metadata": {},
          "output_type": "execute_result"
        }
      ],
      "source": [
        "len(df.groupby('street_name').count().query('number == 1'))"
      ]
    },
    {
      "cell_type": "code",
      "execution_count": null,
      "metadata": {
        "id": "6G-Zz8gOxOFX"
      },
      "outputs": [],
      "source": [
        "number_equal_1 = df.groupby('street_name').count().query('number == 1')\n",
        "number_equal_1 = number_equal_1.reset_index()"
      ]
    },
    {
      "cell_type": "code",
      "execution_count": null,
      "metadata": {
        "id": "Qi9CVY3axOFY"
      },
      "outputs": [],
      "source": [
        "street_name_number_equal_1_list = list(number_equal_1['street_name'])"
      ]
    },
    {
      "cell_type": "code",
      "execution_count": null,
      "metadata": {
        "id": "f7UTxuryxOFY"
      },
      "outputs": [],
      "source": [
        "street_name_number_equal_1_list = df[df['street_name'].isin(street_name_number_equal_1_list)]"
      ]
    },
    {
      "cell_type": "code",
      "execution_count": null,
      "metadata": {
        "id": "BoXx1QJyxOFY"
      },
      "outputs": [],
      "source": [
        "address_list = street_name_number_equal_1_list['address'].tolist()"
      ]
    },
    {
      "cell_type": "code",
      "execution_count": null,
      "metadata": {
        "id": "ISUvDzyMxOFY"
      },
      "outputs": [],
      "source": [
        "key = 'a9088ca2-3fd9-460f-bf9b-3a1cb8ed84d1'\n",
        "url = 'https://geocode-maps.yandex.ru/1.x/?apikey='\n",
        "coords = []\n",
        "for address in address_list:\n",
        "    r = requests.get(str(url) + str(key) + '&format=json&geocode=' + str(address) + '&kind=metro&results=1').json()\n",
        "    try:\n",
        "        r = str(r)\n",
        "        start = r.find('Point')\n",
        "        r = r[start:]\n",
        "        coords.append(r)\n",
        "    except Exception:\n",
        "        coords.append('Что-то пошло не так')"
      ]
    },
    {
      "cell_type": "code",
      "execution_count": null,
      "metadata": {
        "id": "T3i1WMFCxOFY"
      },
      "outputs": [],
      "source": [
        "test_coords = coords[:]"
      ]
    },
    {
      "cell_type": "code",
      "execution_count": null,
      "metadata": {
        "id": "3iI9xM4txOFY"
      },
      "outputs": [],
      "source": [
        "beta = []"
      ]
    },
    {
      "cell_type": "code",
      "execution_count": null,
      "metadata": {
        "id": "8_HpgLnHxOFY"
      },
      "outputs": [],
      "source": [
        "for i in range(len(test_coords)):\n",
        "    result = test_coords[i][17:]\n",
        "    beta.append(result)"
      ]
    },
    {
      "cell_type": "code",
      "execution_count": null,
      "metadata": {
        "id": "wEiBgW09xOFZ"
      },
      "outputs": [],
      "source": [
        "gamma = []"
      ]
    },
    {
      "cell_type": "code",
      "execution_count": null,
      "metadata": {
        "id": "fswwmzUpxOFZ"
      },
      "outputs": [],
      "source": [
        "for i in range(len(beta)):\n",
        "    stop = beta[i].find('\\'')\n",
        "    gamma.append(beta[i][:stop])"
      ]
    },
    {
      "cell_type": "code",
      "execution_count": null,
      "metadata": {
        "id": "Ne32jw6OxOFZ"
      },
      "outputs": [],
      "source": [
        "omega = []"
      ]
    },
    {
      "cell_type": "code",
      "execution_count": null,
      "metadata": {
        "id": "2YdtCK8GxOFZ"
      },
      "outputs": [],
      "source": [
        "for i in range(len(gamma)):\n",
        "    gamma[i] = gamma[i].replace(' ', ',')\n",
        "    omega.append(gamma[i])"
      ]
    },
    {
      "cell_type": "code",
      "execution_count": null,
      "metadata": {
        "id": "IRiFfhdCxOFZ"
      },
      "outputs": [],
      "source": [
        "street_name_number_equal_1_list['coords'] = omega"
      ]
    },
    {
      "cell_type": "code",
      "execution_count": null,
      "metadata": {
        "id": "5faKRaDuxOFZ"
      },
      "outputs": [],
      "source": [
        "key = 'a9088ca2-3fd9-460f-bf9b-3a1cb8ed84d1'\n",
        "url = 'https://geocode-maps.yandex.ru/1.x/?apikey='\n",
        "station = []\n",
        "for o in omega:\n",
        "    r = requests.get(url + key + '&format=json&geocode=' + o + '&kind=metro&results=1').json()\n",
        "    try:\n",
        "        res = json_normalize(r['response']['GeoObjectCollection']['featureMember'])['GeoObject.name'][0]    \n",
        "        station.append(res)\n",
        "    except Exception:\n",
        "        station.append('Что-то пошло не так')"
      ]
    },
    {
      "cell_type": "code",
      "execution_count": null,
      "metadata": {
        "id": "9F-nuDqaxOFZ"
      },
      "outputs": [],
      "source": [
        "street_name_number_equal_1_list['station'] = station"
      ]
    },
    {
      "cell_type": "code",
      "execution_count": null,
      "metadata": {
        "id": "xHhit8g1xOFa",
        "outputId": "967dc3a0-4c61-49d3-9f3e-48680bdb9ca2"
      },
      "outputs": [
        {
          "data": {
            "text/plain": [
              "station\n",
              "метро Коммунарка      24\n",
              "метро Рассказовка     23\n",
              "станция Нахабино      18\n",
              "метро Бабушкинская    15\n",
              "метро Смоленская      13\n",
              "метро Марьина Роща    12\n",
              "метро Сокольники      12\n",
              "станция Подольск      11\n",
              "метро Таганская       11\n",
              "метро Медведково      10\n",
              "Name: number, dtype: int64"
            ]
          },
          "execution_count": 72,
          "metadata": {},
          "output_type": "execute_result"
        }
      ],
      "source": [
        "street_name_number_equal_1_list.query('station != \"Что-то пошло не так\"') \\\n",
        "                               .groupby('station') \\\n",
        "                               .count() \\\n",
        "                               .sort_values('id', ascending=False) \\\n",
        "                               .head(10)['number']"
      ]
    },
    {
      "cell_type": "markdown",
      "metadata": {
        "id": "K7O_wkWOxOFa"
      },
      "source": [
        "**Основной вывод:**\n",
        "\n",
        "Наибольшее число заведений с одним местом размещения расположены возле станций метро Коммунарка (24 заведения), Рассказовка (23 заведения) и Нахабино (18 заведений). "
      ]
    },
    {
      "cell_type": "markdown",
      "metadata": {
        "id": "3MJgeHIQxOFa"
      },
      "source": [
        "### Распределение количества посадочных мест для улиц с большим количеством объектов общественного питания"
      ]
    },
    {
      "cell_type": "markdown",
      "metadata": {
        "id": "zrLCWi9pxOFa"
      },
      "source": [
        "**Задача:**\n",
        "\n",
        "Посмотреть на распределение количества посадочных мест для улиц с большим количеством объектов общественного питания. Какие закономерности можно выявить?"
      ]
    },
    {
      "cell_type": "code",
      "execution_count": null,
      "metadata": {
        "scrolled": true,
        "id": "9dUExaeOxOFa",
        "outputId": "8dcdabaf-7968-4c5b-d852-17b603f4e0a2"
      },
      "outputs": [
        {
          "data": {
            "image/png": "[encoded data removed]",
            "text/plain": [
              "<Figure size 864x360 with 1 Axes>"
            ]
          },
          "metadata": {},
          "output_type": "display_data"
        }
      ],
      "source": [
        "ax = df[df['street_name'].isin(top_10['street_name'])]['number'].plot(bins=50, kind='hist', figsize=(12,5))\n",
        "\n",
        "ax.set_xlabel('Количество посадочных мест (шт)')\n",
        "ax.set_ylabel('Количество объектов общественного питания (шт)')\n",
        "ax.set_title('Количество посадочных мест в заведениях Москвы для улиц с большим количеством объектов общественного питания')\n",
        "\n",
        "plt.show()"
      ]
    },
    {
      "cell_type": "code",
      "execution_count": null,
      "metadata": {
        "id": "vRBvcG3kxOFa",
        "outputId": "839c0ba7-f2c4-4d49-8301-55cc9f75e6e1"
      },
      "outputs": [
        {
          "data": {
            "image/png": "[encoded data removed]",
            "text/plain": [
              "<Figure size 864x360 with 1 Axes>"
            ]
          },
          "metadata": {},
          "output_type": "display_data"
        }
      ],
      "source": [
        "plt.figure(figsize=(12,5))\n",
        "\n",
        "ax = sns.boxplot(x=df[df['street_name'].isin(top_10['street_name'])]['number'])\n",
        "ax.set_xlabel('Количество посадочных мест (шт)')\n",
        "ax.set_title('Количество посадочных мест в заведениях Москвы для улиц с большим количеством объектов общественного питания')\n",
        "ax.set_xlim(-10,200)\n",
        "plt.show()"
      ]
    },
    {
      "cell_type": "code",
      "execution_count": null,
      "metadata": {
        "id": "EWFVtYMwxOFb"
      },
      "outputs": [],
      "source": [
        "df_top_10 = df[df['street_name'].isin(top_10['street_name'])]"
      ]
    },
    {
      "cell_type": "code",
      "execution_count": null,
      "metadata": {
        "id": "6Kkx457yxOFb",
        "outputId": "592c3f84-9b47-4c8f-86a9-aa7539eccd41"
      },
      "outputs": [
        {
          "data": {
            "image/png": "[encoded data removed]",
            "text/plain": [
              "<Figure size 864x360 with 1 Axes>"
            ]
          },
          "metadata": {},
          "output_type": "display_data"
        }
      ],
      "source": [
        "plt.figure(figsize=(12,5))\n",
        "\n",
        "ax = sns.boxplot(x=\"street_name\", y=\"number\", data=df_top_10, orient='v')\n",
        "ax.set_xlabel('Тип объекта общественного питания')\n",
        "ax.set_ylabel('Количество посадочных мест (шт)')\n",
        "ax.set_title('Количество посадочных мест в заведениях Москвы для улиц с большим количеством объектов общественного питания')\n",
        "plt.xticks(rotation=60)\n",
        "ax.set_ylim(-10,250)\n",
        "plt.show()"
      ]
    },
    {
      "cell_type": "code",
      "execution_count": null,
      "metadata": {
        "id": "4JkZHh65xOFb",
        "outputId": "ca9de51e-2f6a-486f-c047-d75c74159756"
      },
      "outputs": [
        {
          "data": {
            "text/plain": [
              "count   1475.000\n",
              "mean      58.532\n",
              "std       90.521\n",
              "min        0.000\n",
              "25%       13.000\n",
              "50%       40.000\n",
              "75%       75.500\n",
              "max     1700.000\n",
              "Name: number, dtype: float64"
            ]
          },
          "execution_count": 106,
          "metadata": {},
          "output_type": "execute_result"
        }
      ],
      "source": [
        "df_top_10['number'].describe()"
      ]
    },
    {
      "cell_type": "markdown",
      "metadata": {
        "id": "iLC5vE5ExOFb"
      },
      "source": [
        "**Основные выводы:**\n",
        "\n",
        "1. Среднее число посадочных мест для улиц с большим количеством объектов общественного питания составлет 59, медианное - 40.\n",
        "2. 50% исследуемых заведений общественного питания имеют от 13 до 75 посадочных мест.\n",
        "3. Из вышесказанного следует вывод, что для заведений, которые расположены на улицах с большим количеством объектов общественного питания, характерно много заведений с небольшим числом посадочных мест в каждом.\n",
        "4. Среди топ-10 по среднему числу посадочных мест лидирует Кутузовский проспект и Проспект мира."
      ]
    },
    {
      "cell_type": "markdown",
      "metadata": {
        "id": "BsMGZpBZxOFb"
      },
      "source": [
        "**Рекомендации:**\n",
        "\n",
        "1. **Рекомендуется открывать кафе на улице, входящей в топ-10 заведений по количеству заведений общественного питания**. Раз конкуренты предпочитают открываться на них, значит там явно есть спрос. Однако рекомендуется размещаться не в первой пятерке, а во второй, чтобы с большей вероятностью выдерживать конкуренцию. Подойдут следующие улицы: ленинский проспект, проспект Вернадского, кутузовский проспект, каширское шоссе и кировоградская улица.\n",
        "2. **Тип заведения рекомендуется выбрать среди наиболее знакомых москвичам, то есть наиболее распространенных**. Такая логика продиктована тем, что для посетителей уже будет одна абсолютно незнакомая характеристика заведения – роботы-служащие. Если остальные характеристики также будут в новинку для аудитории, можно столкнуться с полным непониманием/неприятием. \n",
        "3. **Таким образом тип заведения рекомендуется выбирать из следующего списка: кафе, столовая, ресторан и предприятие быстрого обслуживания**. При выборе из них можно руководствоваться, например, тем типом обслуживания, с которым лучше справятся используемые роботы.\n",
        "4. По той же логике привычности для москвичей **рекомендуется выбрать несетевой тип заведения общественного питания**."
      ]
    },
    {
      "cell_type": "markdown",
      "metadata": {
        "id": "gx7Vlp2hxOFc"
      },
      "source": [
        "## Подготовка презентации"
      ]
    },
    {
      "cell_type": "markdown",
      "metadata": {
        "id": "aJyaWKZTxOFc"
      },
      "source": [
        "**Задача:**\n",
        "\n",
        "Подготовить презентацию исследования для инвесторов. Для создания презентации используйте любой удобный инструмент, но отправить презентацию нужно обязательно в формате pdf. Приложите ссылку на презентацию в markdown-ячейке в формате:"
      ]
    },
    {
      "cell_type": "markdown",
      "metadata": {
        "id": "DXE1kmWExOFc"
      },
      "source": [
        "Презентация: <https://disk.yandex.ru/i/bqpTxvwaq8_kug>"
      ]
    }
  ],
  "metadata": {
    "ExecuteTimeLog": [
      {
        "duration": 1170,
        "start_time": "2021-10-19T18:12:47.223Z"
      },
      {
        "duration": 3,
        "start_time": "2021-10-19T18:13:02.791Z"
      },
      {
        "duration": 45,
        "start_time": "2021-10-19T18:13:17.367Z"
      },
      {
        "duration": 6,
        "start_time": "2021-10-19T18:13:37.655Z"
      },
      {
        "duration": 28,
        "start_time": "2021-10-19T18:14:31.828Z"
      },
      {
        "duration": 3,
        "start_time": "2021-10-19T18:14:47.518Z"
      },
      {
        "duration": 92,
        "start_time": "2021-10-19T18:14:58.401Z"
      },
      {
        "duration": 29,
        "start_time": "2021-10-19T18:15:09.972Z"
      },
      {
        "duration": 22,
        "start_time": "2021-10-19T18:15:16.880Z"
      },
      {
        "duration": 60,
        "start_time": "2021-10-19T18:15:36.016Z"
      },
      {
        "duration": 306,
        "start_time": "2021-10-19T18:16:18.219Z"
      },
      {
        "duration": 10,
        "start_time": "2021-10-19T18:16:31.009Z"
      },
      {
        "duration": 289,
        "start_time": "2021-10-19T18:17:03.867Z"
      },
      {
        "duration": 8,
        "start_time": "2021-10-19T18:17:22.611Z"
      },
      {
        "duration": 8,
        "start_time": "2021-10-19T18:18:01.658Z"
      },
      {
        "duration": 207,
        "start_time": "2021-10-19T18:18:12.436Z"
      },
      {
        "duration": 3,
        "start_time": "2021-10-19T18:18:57.102Z"
      },
      {
        "duration": 7,
        "start_time": "2021-10-19T18:19:03.235Z"
      },
      {
        "duration": 5,
        "start_time": "2021-10-19T18:19:13.743Z"
      },
      {
        "duration": 8,
        "start_time": "2021-10-19T18:19:22.239Z"
      },
      {
        "duration": 81,
        "start_time": "2021-10-19T18:19:33.848Z"
      },
      {
        "duration": 319,
        "start_time": "2021-10-19T18:20:01.916Z"
      },
      {
        "duration": 312,
        "start_time": "2021-10-19T18:20:14.559Z"
      },
      {
        "duration": 9,
        "start_time": "2021-10-19T18:20:32.793Z"
      },
      {
        "duration": 401,
        "start_time": "2021-10-19T18:21:12.283Z"
      },
      {
        "duration": 29,
        "start_time": "2021-10-19T18:21:38.435Z"
      },
      {
        "duration": 29,
        "start_time": "2021-10-19T18:21:42.079Z"
      },
      {
        "duration": 661,
        "start_time": "2021-10-19T18:21:54.307Z"
      },
      {
        "duration": 4,
        "start_time": "2021-10-19T18:22:42.752Z"
      },
      {
        "duration": 13,
        "start_time": "2021-10-19T18:23:20.212Z"
      },
      {
        "duration": 5,
        "start_time": "2021-10-19T18:23:29.325Z"
      },
      {
        "duration": 12,
        "start_time": "2021-10-19T18:23:40.433Z"
      },
      {
        "duration": 10,
        "start_time": "2021-10-19T18:24:32.111Z"
      },
      {
        "duration": 11,
        "start_time": "2021-10-19T18:24:57.039Z"
      },
      {
        "duration": 21,
        "start_time": "2021-10-19T18:26:03.137Z"
      },
      {
        "duration": 383,
        "start_time": "2021-10-19T18:26:14.380Z"
      },
      {
        "duration": 16,
        "start_time": "2021-10-19T18:27:26.391Z"
      },
      {
        "duration": 6,
        "start_time": "2021-10-19T18:27:35.920Z"
      },
      {
        "duration": 3,
        "start_time": "2021-10-19T18:27:43.451Z"
      },
      {
        "duration": 7,
        "start_time": "2021-10-19T18:27:50.361Z"
      },
      {
        "duration": 15,
        "start_time": "2021-10-19T18:27:57.711Z"
      },
      {
        "duration": 4,
        "start_time": "2021-10-19T18:28:29.365Z"
      },
      {
        "duration": 65399,
        "start_time": "2021-10-19T18:29:26.851Z"
      },
      {
        "duration": 11,
        "start_time": "2021-10-19T18:31:04.791Z"
      },
      {
        "duration": 73262,
        "start_time": "2021-10-19T18:35:24.894Z"
      },
      {
        "duration": 12,
        "start_time": "2021-10-19T18:36:45.672Z"
      },
      {
        "duration": 12,
        "start_time": "2021-10-19T18:37:43.565Z"
      },
      {
        "duration": 2,
        "start_time": "2021-10-19T18:38:39.568Z"
      },
      {
        "duration": 11,
        "start_time": "2021-10-19T18:38:45.269Z"
      },
      {
        "duration": 3,
        "start_time": "2021-10-19T18:39:43.404Z"
      },
      {
        "duration": 3,
        "start_time": "2021-10-19T18:39:50.360Z"
      },
      {
        "duration": 2,
        "start_time": "2021-10-19T18:40:01.482Z"
      },
      {
        "duration": 4,
        "start_time": "2021-10-19T18:40:07.872Z"
      },
      {
        "duration": 12,
        "start_time": "2021-10-19T18:40:15.196Z"
      },
      {
        "duration": 2,
        "start_time": "2021-10-19T18:40:44.721Z"
      },
      {
        "duration": 3,
        "start_time": "2021-10-19T18:40:51.283Z"
      },
      {
        "duration": 13,
        "start_time": "2021-10-19T18:41:11.115Z"
      },
      {
        "duration": 5,
        "start_time": "2021-10-19T18:41:39.627Z"
      },
      {
        "duration": 14,
        "start_time": "2021-10-19T18:41:53.622Z"
      },
      {
        "duration": 70804,
        "start_time": "2021-10-19T18:42:54.695Z"
      },
      {
        "duration": 4,
        "start_time": "2021-10-19T18:44:12.190Z"
      },
      {
        "duration": 13,
        "start_time": "2021-10-19T18:44:25.632Z"
      },
      {
        "duration": 281,
        "start_time": "2021-10-19T18:47:16.456Z"
      },
      {
        "duration": 389,
        "start_time": "2021-10-19T18:47:24.569Z"
      },
      {
        "duration": 472,
        "start_time": "2021-10-19T18:47:32.616Z"
      },
      {
        "duration": 8,
        "start_time": "2021-10-19T18:47:50.259Z"
      },
      {
        "duration": 3,
        "start_time": "2021-10-19T19:02:53.119Z"
      },
      {
        "duration": 8,
        "start_time": "2021-10-19T19:06:18.246Z"
      },
      {
        "duration": 7,
        "start_time": "2021-10-19T19:06:30.561Z"
      },
      {
        "duration": 43,
        "start_time": "2021-10-19T19:06:44.767Z"
      },
      {
        "duration": 12,
        "start_time": "2021-10-19T19:07:04.987Z"
      },
      {
        "duration": 1072,
        "start_time": "2021-10-19T19:07:32.638Z"
      },
      {
        "duration": 6,
        "start_time": "2021-10-19T19:07:33.712Z"
      },
      {
        "duration": 46,
        "start_time": "2021-10-19T19:07:33.720Z"
      },
      {
        "duration": 14,
        "start_time": "2021-10-19T19:07:33.768Z"
      },
      {
        "duration": 11,
        "start_time": "2021-10-19T19:07:33.784Z"
      },
      {
        "duration": 27,
        "start_time": "2021-10-19T19:07:33.796Z"
      },
      {
        "duration": 3,
        "start_time": "2021-10-19T19:07:33.824Z"
      },
      {
        "duration": 112,
        "start_time": "2021-10-19T19:07:33.829Z"
      },
      {
        "duration": 27,
        "start_time": "2021-10-19T19:07:33.943Z"
      },
      {
        "duration": 32,
        "start_time": "2021-10-19T19:07:33.971Z"
      },
      {
        "duration": 214,
        "start_time": "2021-10-19T19:07:34.005Z"
      },
      {
        "duration": 8,
        "start_time": "2021-10-19T19:07:34.221Z"
      },
      {
        "duration": 211,
        "start_time": "2021-10-19T19:07:34.230Z"
      },
      {
        "duration": 8,
        "start_time": "2021-10-19T19:07:34.442Z"
      },
      {
        "duration": 9,
        "start_time": "2021-10-19T19:07:34.451Z"
      },
      {
        "duration": 164,
        "start_time": "2021-10-19T19:07:34.462Z"
      },
      {
        "duration": 2,
        "start_time": "2021-10-19T19:07:34.628Z"
      },
      {
        "duration": 14,
        "start_time": "2021-10-19T19:07:34.632Z"
      },
      {
        "duration": 8,
        "start_time": "2021-10-19T19:07:34.647Z"
      },
      {
        "duration": 15,
        "start_time": "2021-10-19T19:07:34.657Z"
      },
      {
        "duration": 246,
        "start_time": "2021-10-19T19:07:34.674Z"
      },
      {
        "duration": 157,
        "start_time": "2021-10-19T19:07:34.922Z"
      },
      {
        "duration": 9,
        "start_time": "2021-10-19T19:07:35.083Z"
      },
      {
        "duration": 314,
        "start_time": "2021-10-19T19:07:35.095Z"
      },
      {
        "duration": 29,
        "start_time": "2021-10-19T19:07:35.410Z"
      },
      {
        "duration": 636,
        "start_time": "2021-10-19T19:07:35.440Z"
      },
      {
        "duration": 3,
        "start_time": "2021-10-19T19:07:36.077Z"
      },
      {
        "duration": 23,
        "start_time": "2021-10-19T19:07:36.082Z"
      },
      {
        "duration": 22,
        "start_time": "2021-10-19T19:07:36.106Z"
      },
      {
        "duration": 31,
        "start_time": "2021-10-19T19:07:36.129Z"
      },
      {
        "duration": 22,
        "start_time": "2021-10-19T19:07:36.162Z"
      },
      {
        "duration": 13,
        "start_time": "2021-10-19T19:07:36.186Z"
      },
      {
        "duration": 30,
        "start_time": "2021-10-19T19:07:36.201Z"
      },
      {
        "duration": 241,
        "start_time": "2021-10-19T19:07:36.233Z"
      },
      {
        "duration": 26,
        "start_time": "2021-10-19T19:07:36.476Z"
      },
      {
        "duration": 5,
        "start_time": "2021-10-19T19:07:36.504Z"
      },
      {
        "duration": 10,
        "start_time": "2021-10-19T19:07:36.510Z"
      },
      {
        "duration": 17,
        "start_time": "2021-10-19T19:07:36.521Z"
      },
      {
        "duration": 18,
        "start_time": "2021-10-19T19:07:36.539Z"
      },
      {
        "duration": 6,
        "start_time": "2021-10-19T19:07:36.558Z"
      },
      {
        "duration": 1093,
        "start_time": "2021-10-19T19:09:18.049Z"
      },
      {
        "duration": 5,
        "start_time": "2021-10-19T19:09:19.144Z"
      },
      {
        "duration": 47,
        "start_time": "2021-10-19T19:09:19.151Z"
      },
      {
        "duration": 11,
        "start_time": "2021-10-19T19:09:19.200Z"
      },
      {
        "duration": 27,
        "start_time": "2021-10-19T19:09:19.212Z"
      },
      {
        "duration": 3,
        "start_time": "2021-10-19T19:09:19.240Z"
      },
      {
        "duration": 118,
        "start_time": "2021-10-19T19:09:19.244Z"
      },
      {
        "duration": 29,
        "start_time": "2021-10-19T19:09:19.364Z"
      },
      {
        "duration": 20,
        "start_time": "2021-10-19T19:09:19.395Z"
      },
      {
        "duration": 295,
        "start_time": "2021-10-19T19:09:19.417Z"
      },
      {
        "duration": -33879,
        "start_time": "2021-10-19T19:09:53.594Z"
      },
      {
        "duration": -33880,
        "start_time": "2021-10-19T19:09:53.596Z"
      },
      {
        "duration": -33882,
        "start_time": "2021-10-19T19:09:53.599Z"
      },
      {
        "duration": -33882,
        "start_time": "2021-10-19T19:09:53.600Z"
      },
      {
        "duration": -33883,
        "start_time": "2021-10-19T19:09:53.602Z"
      },
      {
        "duration": -33884,
        "start_time": "2021-10-19T19:09:53.604Z"
      },
      {
        "duration": -33887,
        "start_time": "2021-10-19T19:09:53.608Z"
      },
      {
        "duration": -33888,
        "start_time": "2021-10-19T19:09:53.610Z"
      },
      {
        "duration": -33889,
        "start_time": "2021-10-19T19:09:53.612Z"
      },
      {
        "duration": -33908,
        "start_time": "2021-10-19T19:09:53.632Z"
      },
      {
        "duration": -33916,
        "start_time": "2021-10-19T19:09:53.641Z"
      },
      {
        "duration": -33925,
        "start_time": "2021-10-19T19:09:53.651Z"
      },
      {
        "duration": -33926,
        "start_time": "2021-10-19T19:09:53.653Z"
      },
      {
        "duration": -33928,
        "start_time": "2021-10-19T19:09:53.655Z"
      },
      {
        "duration": -33939,
        "start_time": "2021-10-19T19:09:53.667Z"
      },
      {
        "duration": -33940,
        "start_time": "2021-10-19T19:09:53.669Z"
      },
      {
        "duration": -33941,
        "start_time": "2021-10-19T19:09:53.671Z"
      },
      {
        "duration": -33944,
        "start_time": "2021-10-19T19:09:53.675Z"
      },
      {
        "duration": -33954,
        "start_time": "2021-10-19T19:09:53.686Z"
      },
      {
        "duration": -33956,
        "start_time": "2021-10-19T19:09:53.689Z"
      },
      {
        "duration": -33969,
        "start_time": "2021-10-19T19:09:53.703Z"
      },
      {
        "duration": -33970,
        "start_time": "2021-10-19T19:09:53.705Z"
      },
      {
        "duration": -33972,
        "start_time": "2021-10-19T19:09:53.708Z"
      },
      {
        "duration": -33981,
        "start_time": "2021-10-19T19:09:53.718Z"
      },
      {
        "duration": -33983,
        "start_time": "2021-10-19T19:09:53.721Z"
      },
      {
        "duration": -33986,
        "start_time": "2021-10-19T19:09:53.725Z"
      },
      {
        "duration": -33995,
        "start_time": "2021-10-19T19:09:53.735Z"
      },
      {
        "duration": -33996,
        "start_time": "2021-10-19T19:09:53.737Z"
      },
      {
        "duration": -33997,
        "start_time": "2021-10-19T19:09:53.739Z"
      },
      {
        "duration": -34008,
        "start_time": "2021-10-19T19:09:53.750Z"
      },
      {
        "duration": -34010,
        "start_time": "2021-10-19T19:09:53.753Z"
      },
      {
        "duration": -34011,
        "start_time": "2021-10-19T19:09:53.755Z"
      },
      {
        "duration": -34022,
        "start_time": "2021-10-19T19:09:53.767Z"
      },
      {
        "duration": -34022,
        "start_time": "2021-10-19T19:09:53.768Z"
      },
      {
        "duration": -34023,
        "start_time": "2021-10-19T19:09:53.770Z"
      },
      {
        "duration": -34024,
        "start_time": "2021-10-19T19:09:53.772Z"
      },
      {
        "duration": -34034,
        "start_time": "2021-10-19T19:09:53.783Z"
      },
      {
        "duration": -34037,
        "start_time": "2021-10-19T19:09:53.786Z"
      },
      {
        "duration": -34038,
        "start_time": "2021-10-19T19:09:53.788Z"
      },
      {
        "duration": -34000,
        "start_time": "2021-10-19T19:09:53.792Z"
      },
      {
        "duration": -34002,
        "start_time": "2021-10-19T19:09:53.795Z"
      },
      {
        "duration": -34003,
        "start_time": "2021-10-19T19:09:53.797Z"
      },
      {
        "duration": -34005,
        "start_time": "2021-10-19T19:09:53.799Z"
      },
      {
        "duration": -34005,
        "start_time": "2021-10-19T19:09:53.801Z"
      },
      {
        "duration": -34005,
        "start_time": "2021-10-19T19:09:53.802Z"
      },
      {
        "duration": -34006,
        "start_time": "2021-10-19T19:09:53.804Z"
      },
      {
        "duration": -34007,
        "start_time": "2021-10-19T19:09:53.806Z"
      },
      {
        "duration": -34009,
        "start_time": "2021-10-19T19:09:53.809Z"
      },
      {
        "duration": -34010,
        "start_time": "2021-10-19T19:09:53.811Z"
      },
      {
        "duration": -34024,
        "start_time": "2021-10-19T19:09:53.826Z"
      },
      {
        "duration": 9,
        "start_time": "2021-10-19T19:09:57.790Z"
      },
      {
        "duration": 9,
        "start_time": "2021-10-19T19:15:07.535Z"
      },
      {
        "duration": 21,
        "start_time": "2021-10-19T19:16:03.124Z"
      },
      {
        "duration": 9,
        "start_time": "2021-10-19T19:16:11.276Z"
      },
      {
        "duration": 1172,
        "start_time": "2021-10-19T19:16:51.185Z"
      },
      {
        "duration": 7,
        "start_time": "2021-10-19T19:16:52.359Z"
      },
      {
        "duration": 61,
        "start_time": "2021-10-19T19:16:52.370Z"
      },
      {
        "duration": 13,
        "start_time": "2021-10-19T19:16:52.433Z"
      },
      {
        "duration": 23,
        "start_time": "2021-10-19T19:16:52.448Z"
      },
      {
        "duration": 25,
        "start_time": "2021-10-19T19:16:52.473Z"
      },
      {
        "duration": 10,
        "start_time": "2021-10-19T19:16:52.501Z"
      },
      {
        "duration": 3,
        "start_time": "2021-10-19T19:16:52.513Z"
      },
      {
        "duration": 286,
        "start_time": "2021-10-19T19:16:52.517Z"
      },
      {
        "duration": -33854,
        "start_time": "2021-10-19T19:17:26.660Z"
      },
      {
        "duration": -33855,
        "start_time": "2021-10-19T19:17:26.662Z"
      },
      {
        "duration": -33858,
        "start_time": "2021-10-19T19:17:26.666Z"
      },
      {
        "duration": -33874,
        "start_time": "2021-10-19T19:17:26.683Z"
      },
      {
        "duration": -33886,
        "start_time": "2021-10-19T19:17:26.696Z"
      },
      {
        "duration": -33888,
        "start_time": "2021-10-19T19:17:26.699Z"
      },
      {
        "duration": -33901,
        "start_time": "2021-10-19T19:17:26.713Z"
      },
      {
        "duration": -33902,
        "start_time": "2021-10-19T19:17:26.715Z"
      },
      {
        "duration": -33905,
        "start_time": "2021-10-19T19:17:26.719Z"
      },
      {
        "duration": -33914,
        "start_time": "2021-10-19T19:17:26.729Z"
      },
      {
        "duration": -33915,
        "start_time": "2021-10-19T19:17:26.731Z"
      },
      {
        "duration": -33917,
        "start_time": "2021-10-19T19:17:26.734Z"
      },
      {
        "duration": -33926,
        "start_time": "2021-10-19T19:17:26.745Z"
      },
      {
        "duration": -33928,
        "start_time": "2021-10-19T19:17:26.748Z"
      },
      {
        "duration": -33929,
        "start_time": "2021-10-19T19:17:26.750Z"
      },
      {
        "duration": -33940,
        "start_time": "2021-10-19T19:17:26.762Z"
      },
      {
        "duration": -33942,
        "start_time": "2021-10-19T19:17:26.765Z"
      },
      {
        "duration": -33944,
        "start_time": "2021-10-19T19:17:26.768Z"
      },
      {
        "duration": -33954,
        "start_time": "2021-10-19T19:17:26.780Z"
      },
      {
        "duration": -33955,
        "start_time": "2021-10-19T19:17:26.782Z"
      },
      {
        "duration": -33959,
        "start_time": "2021-10-19T19:17:26.787Z"
      },
      {
        "duration": -33968,
        "start_time": "2021-10-19T19:17:26.797Z"
      },
      {
        "duration": -33969,
        "start_time": "2021-10-19T19:17:26.799Z"
      },
      {
        "duration": -33973,
        "start_time": "2021-10-19T19:17:26.804Z"
      },
      {
        "duration": -33975,
        "start_time": "2021-10-19T19:17:26.807Z"
      },
      {
        "duration": -33977,
        "start_time": "2021-10-19T19:17:26.810Z"
      },
      {
        "duration": -33978,
        "start_time": "2021-10-19T19:17:26.812Z"
      },
      {
        "duration": -33979,
        "start_time": "2021-10-19T19:17:26.814Z"
      },
      {
        "duration": -33984,
        "start_time": "2021-10-19T19:17:26.819Z"
      },
      {
        "duration": -33988,
        "start_time": "2021-10-19T19:17:26.824Z"
      },
      {
        "duration": -33991,
        "start_time": "2021-10-19T19:17:26.828Z"
      },
      {
        "duration": -33994,
        "start_time": "2021-10-19T19:17:26.832Z"
      },
      {
        "duration": -33996,
        "start_time": "2021-10-19T19:17:26.835Z"
      },
      {
        "duration": -33999,
        "start_time": "2021-10-19T19:17:26.839Z"
      },
      {
        "duration": -34000,
        "start_time": "2021-10-19T19:17:26.841Z"
      },
      {
        "duration": -34002,
        "start_time": "2021-10-19T19:17:26.844Z"
      },
      {
        "duration": -34004,
        "start_time": "2021-10-19T19:17:26.847Z"
      },
      {
        "duration": -34005,
        "start_time": "2021-10-19T19:17:26.849Z"
      },
      {
        "duration": -34008,
        "start_time": "2021-10-19T19:17:26.853Z"
      },
      {
        "duration": -34011,
        "start_time": "2021-10-19T19:17:26.856Z"
      },
      {
        "duration": -34012,
        "start_time": "2021-10-19T19:17:26.858Z"
      },
      {
        "duration": -34014,
        "start_time": "2021-10-19T19:17:26.860Z"
      },
      {
        "duration": -33986,
        "start_time": "2021-10-19T19:17:26.877Z"
      },
      {
        "duration": -33989,
        "start_time": "2021-10-19T19:17:26.881Z"
      },
      {
        "duration": -33993,
        "start_time": "2021-10-19T19:17:26.886Z"
      },
      {
        "duration": -33995,
        "start_time": "2021-10-19T19:17:26.889Z"
      },
      {
        "duration": -33997,
        "start_time": "2021-10-19T19:17:26.892Z"
      },
      {
        "duration": -33999,
        "start_time": "2021-10-19T19:17:26.895Z"
      },
      {
        "duration": -34011,
        "start_time": "2021-10-19T19:17:26.908Z"
      },
      {
        "duration": -34013,
        "start_time": "2021-10-19T19:17:26.911Z"
      },
      {
        "duration": -34017,
        "start_time": "2021-10-19T19:17:26.916Z"
      },
      {
        "duration": -34025,
        "start_time": "2021-10-19T19:17:26.925Z"
      },
      {
        "duration": -34027,
        "start_time": "2021-10-19T19:17:26.928Z"
      },
      {
        "duration": 9,
        "start_time": "2021-10-19T19:19:07.250Z"
      },
      {
        "duration": 20,
        "start_time": "2021-10-19T19:21:04.334Z"
      },
      {
        "duration": 283,
        "start_time": "2021-10-19T19:21:57.861Z"
      },
      {
        "duration": 8,
        "start_time": "2021-10-19T19:24:40.085Z"
      },
      {
        "duration": 8,
        "start_time": "2021-10-19T19:25:07.962Z"
      },
      {
        "duration": 14,
        "start_time": "2021-10-19T19:25:44.834Z"
      },
      {
        "duration": 6,
        "start_time": "2021-10-19T19:29:42.214Z"
      },
      {
        "duration": 13,
        "start_time": "2021-10-19T19:29:47.885Z"
      },
      {
        "duration": 7,
        "start_time": "2021-10-19T19:30:03.196Z"
      },
      {
        "duration": 244,
        "start_time": "2021-10-19T19:40:04.209Z"
      },
      {
        "duration": 325,
        "start_time": "2021-10-19T19:40:35.639Z"
      },
      {
        "duration": 218,
        "start_time": "2021-10-19T19:40:45.301Z"
      },
      {
        "duration": 229,
        "start_time": "2021-10-19T19:41:33.549Z"
      },
      {
        "duration": 221,
        "start_time": "2021-10-19T19:41:42.553Z"
      },
      {
        "duration": 264,
        "start_time": "2021-10-19T19:42:21.635Z"
      },
      {
        "duration": 263,
        "start_time": "2021-10-19T19:42:37.664Z"
      },
      {
        "duration": 256,
        "start_time": "2021-10-19T19:42:51.583Z"
      },
      {
        "duration": 263,
        "start_time": "2021-10-19T19:43:05.191Z"
      },
      {
        "duration": 260,
        "start_time": "2021-10-19T19:43:11.272Z"
      },
      {
        "duration": 283,
        "start_time": "2021-10-19T19:43:23.489Z"
      },
      {
        "duration": 478,
        "start_time": "2021-10-19T19:43:29.491Z"
      },
      {
        "duration": 353,
        "start_time": "2021-10-19T19:43:32.151Z"
      },
      {
        "duration": 258,
        "start_time": "2021-10-19T19:43:37.733Z"
      },
      {
        "duration": 262,
        "start_time": "2021-10-19T19:43:46.857Z"
      },
      {
        "duration": 257,
        "start_time": "2021-10-19T19:45:02.671Z"
      },
      {
        "duration": 259,
        "start_time": "2021-10-19T19:45:34.769Z"
      },
      {
        "duration": 253,
        "start_time": "2021-10-19T19:45:41.943Z"
      },
      {
        "duration": 258,
        "start_time": "2021-10-19T19:46:01.239Z"
      },
      {
        "duration": 259,
        "start_time": "2021-10-19T19:46:09.920Z"
      },
      {
        "duration": 264,
        "start_time": "2021-10-19T19:46:16.946Z"
      },
      {
        "duration": 268,
        "start_time": "2021-10-19T19:46:26.813Z"
      },
      {
        "duration": 251,
        "start_time": "2021-10-19T19:48:09.565Z"
      },
      {
        "duration": 354,
        "start_time": "2021-10-19T19:48:30.723Z"
      },
      {
        "duration": 184,
        "start_time": "2021-10-19T19:50:00.306Z"
      },
      {
        "duration": 14,
        "start_time": "2021-10-19T19:50:15.265Z"
      },
      {
        "duration": 15,
        "start_time": "2021-10-19T19:50:42.550Z"
      },
      {
        "duration": 188,
        "start_time": "2021-10-19T19:51:23.975Z"
      },
      {
        "duration": 214,
        "start_time": "2021-10-19T19:52:26.022Z"
      },
      {
        "duration": 14,
        "start_time": "2021-10-19T19:52:40.901Z"
      },
      {
        "duration": 224,
        "start_time": "2021-10-19T19:53:41.681Z"
      },
      {
        "duration": 219,
        "start_time": "2021-10-19T19:54:11.705Z"
      },
      {
        "duration": 263,
        "start_time": "2021-10-19T19:55:16.106Z"
      },
      {
        "duration": 274,
        "start_time": "2021-10-19T19:55:56.868Z"
      },
      {
        "duration": 260,
        "start_time": "2021-10-19T19:57:04.043Z"
      },
      {
        "duration": 284,
        "start_time": "2021-10-19T19:57:34.964Z"
      },
      {
        "duration": 262,
        "start_time": "2021-10-19T19:57:49.778Z"
      },
      {
        "duration": 4,
        "start_time": "2021-10-19T19:59:14.636Z"
      },
      {
        "duration": 264,
        "start_time": "2021-10-19T19:59:20.362Z"
      },
      {
        "duration": 4,
        "start_time": "2021-10-19T19:59:37.616Z"
      },
      {
        "duration": 285,
        "start_time": "2021-10-19T19:59:42.840Z"
      },
      {
        "duration": 5,
        "start_time": "2021-10-19T20:00:03.802Z"
      },
      {
        "duration": 282,
        "start_time": "2021-10-19T20:00:08.741Z"
      },
      {
        "duration": 4,
        "start_time": "2021-10-19T20:00:36.744Z"
      },
      {
        "duration": 356,
        "start_time": "2021-10-19T20:00:41.097Z"
      },
      {
        "duration": 4,
        "start_time": "2021-10-19T20:01:02.454Z"
      },
      {
        "duration": 293,
        "start_time": "2021-10-19T20:01:06.747Z"
      },
      {
        "duration": 4,
        "start_time": "2021-10-19T20:01:32.684Z"
      },
      {
        "duration": 279,
        "start_time": "2021-10-19T20:01:37.194Z"
      },
      {
        "duration": 4,
        "start_time": "2021-10-19T20:01:55.928Z"
      },
      {
        "duration": 277,
        "start_time": "2021-10-19T20:02:01.219Z"
      },
      {
        "duration": 4,
        "start_time": "2021-10-19T20:02:18.733Z"
      },
      {
        "duration": 286,
        "start_time": "2021-10-19T20:02:23.340Z"
      },
      {
        "duration": 4,
        "start_time": "2021-10-19T20:02:54.056Z"
      },
      {
        "duration": 288,
        "start_time": "2021-10-19T20:02:58.973Z"
      },
      {
        "duration": 4,
        "start_time": "2021-10-19T20:03:12.976Z"
      },
      {
        "duration": 267,
        "start_time": "2021-10-19T20:03:18.609Z"
      },
      {
        "duration": 7,
        "start_time": "2021-10-19T20:03:40.251Z"
      },
      {
        "duration": 259,
        "start_time": "2021-10-19T20:03:47.677Z"
      },
      {
        "duration": 5,
        "start_time": "2021-10-19T20:04:16.096Z"
      },
      {
        "duration": 263,
        "start_time": "2021-10-19T20:04:22.090Z"
      },
      {
        "duration": 1152,
        "start_time": "2021-10-19T20:04:35.769Z"
      },
      {
        "duration": 7,
        "start_time": "2021-10-19T20:04:36.922Z"
      },
      {
        "duration": 52,
        "start_time": "2021-10-19T20:04:36.931Z"
      },
      {
        "duration": 17,
        "start_time": "2021-10-19T20:04:36.985Z"
      },
      {
        "duration": 32,
        "start_time": "2021-10-19T20:04:37.004Z"
      },
      {
        "duration": 13,
        "start_time": "2021-10-19T20:04:37.037Z"
      },
      {
        "duration": 10,
        "start_time": "2021-10-19T20:04:37.052Z"
      },
      {
        "duration": 45,
        "start_time": "2021-10-19T20:04:37.064Z"
      },
      {
        "duration": 301,
        "start_time": "2021-10-19T20:04:37.111Z"
      },
      {
        "duration": 3,
        "start_time": "2021-10-19T20:04:37.414Z"
      },
      {
        "duration": 8,
        "start_time": "2021-10-19T20:04:37.419Z"
      },
      {
        "duration": 19,
        "start_time": "2021-10-19T20:04:37.429Z"
      },
      {
        "duration": 9,
        "start_time": "2021-10-19T20:04:37.450Z"
      },
      {
        "duration": 284,
        "start_time": "2021-10-19T20:04:37.461Z"
      },
      {
        "duration": 7,
        "start_time": "2021-10-19T20:04:37.747Z"
      },
      {
        "duration": 6,
        "start_time": "2021-10-19T20:04:37.756Z"
      },
      {
        "duration": 245,
        "start_time": "2021-10-19T20:04:37.764Z"
      },
      {
        "duration": 3,
        "start_time": "2021-10-19T20:04:38.011Z"
      },
      {
        "duration": 16,
        "start_time": "2021-10-19T20:04:38.016Z"
      },
      {
        "duration": 7,
        "start_time": "2021-10-19T20:04:38.033Z"
      },
      {
        "duration": 10,
        "start_time": "2021-10-19T20:04:38.041Z"
      },
      {
        "duration": 5325,
        "start_time": "2021-10-19T20:04:38.053Z"
      },
      {
        "duration": -33864,
        "start_time": "2021-10-19T20:05:17.245Z"
      },
      {
        "duration": -33868,
        "start_time": "2021-10-19T20:05:17.250Z"
      },
      {
        "duration": -33871,
        "start_time": "2021-10-19T20:05:17.254Z"
      },
      {
        "duration": -33873,
        "start_time": "2021-10-19T20:05:17.257Z"
      },
      {
        "duration": -33877,
        "start_time": "2021-10-19T20:05:17.262Z"
      },
      {
        "duration": -33882,
        "start_time": "2021-10-19T20:05:17.268Z"
      },
      {
        "duration": -33884,
        "start_time": "2021-10-19T20:05:17.271Z"
      },
      {
        "duration": -33887,
        "start_time": "2021-10-19T20:05:17.275Z"
      },
      {
        "duration": -33890,
        "start_time": "2021-10-19T20:05:17.279Z"
      },
      {
        "duration": -33892,
        "start_time": "2021-10-19T20:05:17.282Z"
      },
      {
        "duration": -33894,
        "start_time": "2021-10-19T20:05:17.285Z"
      },
      {
        "duration": -33906,
        "start_time": "2021-10-19T20:05:17.298Z"
      },
      {
        "duration": -33907,
        "start_time": "2021-10-19T20:05:17.301Z"
      },
      {
        "duration": -33910,
        "start_time": "2021-10-19T20:05:17.305Z"
      },
      {
        "duration": -33912,
        "start_time": "2021-10-19T20:05:17.308Z"
      },
      {
        "duration": -33914,
        "start_time": "2021-10-19T20:05:17.311Z"
      },
      {
        "duration": -33916,
        "start_time": "2021-10-19T20:05:17.315Z"
      },
      {
        "duration": -33919,
        "start_time": "2021-10-19T20:05:17.319Z"
      },
      {
        "duration": -33920,
        "start_time": "2021-10-19T20:05:17.322Z"
      },
      {
        "duration": -33922,
        "start_time": "2021-10-19T20:05:17.326Z"
      },
      {
        "duration": -33924,
        "start_time": "2021-10-19T20:05:17.329Z"
      },
      {
        "duration": -33928,
        "start_time": "2021-10-19T20:05:17.333Z"
      },
      {
        "duration": -33931,
        "start_time": "2021-10-19T20:05:17.337Z"
      },
      {
        "duration": -33934,
        "start_time": "2021-10-19T20:05:17.341Z"
      },
      {
        "duration": -33934,
        "start_time": "2021-10-19T20:05:17.344Z"
      },
      {
        "duration": -33937,
        "start_time": "2021-10-19T20:05:17.348Z"
      },
      {
        "duration": -33960,
        "start_time": "2021-10-19T20:05:17.372Z"
      },
      {
        "duration": -33963,
        "start_time": "2021-10-19T20:05:17.376Z"
      },
      {
        "duration": -33965,
        "start_time": "2021-10-19T20:05:17.379Z"
      },
      {
        "duration": -33978,
        "start_time": "2021-10-19T20:05:17.393Z"
      },
      {
        "duration": -33981,
        "start_time": "2021-10-19T20:05:17.397Z"
      },
      {
        "duration": -33993,
        "start_time": "2021-10-19T20:05:17.411Z"
      },
      {
        "duration": -33999,
        "start_time": "2021-10-19T20:05:17.418Z"
      },
      {
        "duration": -34009,
        "start_time": "2021-10-19T20:05:17.429Z"
      },
      {
        "duration": -34021,
        "start_time": "2021-10-19T20:05:17.442Z"
      },
      {
        "duration": -34025,
        "start_time": "2021-10-19T20:05:17.447Z"
      },
      {
        "duration": -34038,
        "start_time": "2021-10-19T20:05:17.461Z"
      },
      {
        "duration": -34042,
        "start_time": "2021-10-19T20:05:17.466Z"
      },
      {
        "duration": -34052,
        "start_time": "2021-10-19T20:05:17.477Z"
      },
      {
        "duration": -34056,
        "start_time": "2021-10-19T20:05:17.482Z"
      },
      {
        "duration": 8,
        "start_time": "2021-10-19T20:05:34.678Z"
      },
      {
        "duration": 8,
        "start_time": "2021-10-19T20:06:23.146Z"
      },
      {
        "duration": 10,
        "start_time": "2021-10-19T20:06:41.594Z"
      },
      {
        "duration": 189,
        "start_time": "2021-10-19T20:17:22.853Z"
      },
      {
        "duration": 206,
        "start_time": "2021-10-19T20:18:08.045Z"
      },
      {
        "duration": 185,
        "start_time": "2021-10-19T20:18:38.381Z"
      },
      {
        "duration": 8,
        "start_time": "2021-10-19T20:18:57.253Z"
      },
      {
        "duration": 857,
        "start_time": "2021-10-19T20:19:12.890Z"
      },
      {
        "duration": 62,
        "start_time": "2021-10-19T20:19:30.933Z"
      },
      {
        "duration": 61,
        "start_time": "2021-10-19T20:19:55.669Z"
      },
      {
        "duration": 203,
        "start_time": "2021-10-19T20:20:04.284Z"
      },
      {
        "duration": 256,
        "start_time": "2021-10-19T20:20:45.284Z"
      },
      {
        "duration": 230,
        "start_time": "2021-10-19T20:21:01.333Z"
      },
      {
        "duration": 248,
        "start_time": "2021-10-19T20:21:11.524Z"
      },
      {
        "duration": 194,
        "start_time": "2021-10-19T20:21:19.073Z"
      },
      {
        "duration": 233,
        "start_time": "2021-10-19T20:22:08.015Z"
      },
      {
        "duration": 240,
        "start_time": "2021-10-19T20:22:39.912Z"
      },
      {
        "duration": 241,
        "start_time": "2021-10-19T20:23:02.674Z"
      },
      {
        "duration": 235,
        "start_time": "2021-10-19T20:23:20.137Z"
      },
      {
        "duration": 245,
        "start_time": "2021-10-19T20:24:25.473Z"
      },
      {
        "duration": 240,
        "start_time": "2021-10-19T20:24:31.309Z"
      },
      {
        "duration": 8,
        "start_time": "2021-10-19T20:26:44.930Z"
      },
      {
        "duration": 8,
        "start_time": "2021-10-19T20:26:52.071Z"
      },
      {
        "duration": 154,
        "start_time": "2021-10-19T20:27:50.040Z"
      },
      {
        "duration": 175,
        "start_time": "2021-10-19T20:28:25.878Z"
      },
      {
        "duration": 185,
        "start_time": "2021-10-19T20:29:20.481Z"
      },
      {
        "duration": 3,
        "start_time": "2021-10-19T20:30:21.534Z"
      },
      {
        "duration": 3,
        "start_time": "2021-10-19T20:31:08.204Z"
      },
      {
        "duration": 6,
        "start_time": "2021-10-19T20:41:23.736Z"
      },
      {
        "duration": 16,
        "start_time": "2021-10-19T20:42:19.092Z"
      },
      {
        "duration": 8,
        "start_time": "2021-10-19T20:45:29.417Z"
      },
      {
        "duration": 5,
        "start_time": "2021-10-19T20:45:38.398Z"
      },
      {
        "duration": 8,
        "start_time": "2021-10-19T20:46:00.752Z"
      },
      {
        "duration": 10,
        "start_time": "2021-10-19T20:46:26.323Z"
      },
      {
        "duration": 5,
        "start_time": "2021-10-19T20:46:34.715Z"
      },
      {
        "duration": 5,
        "start_time": "2021-10-19T20:48:07.554Z"
      },
      {
        "duration": 6,
        "start_time": "2021-10-19T20:48:12.745Z"
      },
      {
        "duration": 4,
        "start_time": "2021-10-19T20:49:45.235Z"
      },
      {
        "duration": 5,
        "start_time": "2021-10-19T20:49:52.550Z"
      },
      {
        "duration": 7,
        "start_time": "2021-10-19T20:50:06.499Z"
      },
      {
        "duration": 5,
        "start_time": "2021-10-19T20:50:19.325Z"
      },
      {
        "duration": 7,
        "start_time": "2021-10-19T20:50:20.968Z"
      },
      {
        "duration": 322,
        "start_time": "2021-10-19T20:51:10.793Z"
      },
      {
        "duration": 4,
        "start_time": "2021-10-19T20:55:39.563Z"
      },
      {
        "duration": 8,
        "start_time": "2021-10-19T20:55:40.230Z"
      },
      {
        "duration": 192,
        "start_time": "2021-10-19T21:10:06.380Z"
      },
      {
        "duration": 137,
        "start_time": "2021-10-19T21:10:54.301Z"
      },
      {
        "duration": 10,
        "start_time": "2021-10-19T21:11:14.488Z"
      },
      {
        "duration": 277,
        "start_time": "2021-10-19T21:16:11.915Z"
      },
      {
        "duration": 30,
        "start_time": "2021-10-19T21:16:30.736Z"
      },
      {
        "duration": 30,
        "start_time": "2021-10-19T21:17:08.055Z"
      },
      {
        "duration": 619,
        "start_time": "2021-10-19T21:17:43.813Z"
      },
      {
        "duration": 651,
        "start_time": "2021-10-19T21:18:09.665Z"
      },
      {
        "duration": 174,
        "start_time": "2021-10-19T21:18:23.275Z"
      },
      {
        "duration": 649,
        "start_time": "2021-10-19T21:19:29.631Z"
      },
      {
        "duration": 643,
        "start_time": "2021-10-19T21:20:53.287Z"
      },
      {
        "duration": 1348,
        "start_time": "2021-10-19T21:25:14.264Z"
      },
      {
        "duration": 7,
        "start_time": "2021-10-19T21:25:15.614Z"
      },
      {
        "duration": 45,
        "start_time": "2021-10-19T21:25:15.623Z"
      },
      {
        "duration": 11,
        "start_time": "2021-10-19T21:25:15.670Z"
      },
      {
        "duration": 21,
        "start_time": "2021-10-19T21:25:15.691Z"
      },
      {
        "duration": 10,
        "start_time": "2021-10-19T21:25:15.714Z"
      },
      {
        "duration": 10,
        "start_time": "2021-10-19T21:25:15.726Z"
      },
      {
        "duration": 20,
        "start_time": "2021-10-19T21:25:15.740Z"
      },
      {
        "duration": 303,
        "start_time": "2021-10-19T21:25:15.762Z"
      },
      {
        "duration": 3,
        "start_time": "2021-10-19T21:25:16.068Z"
      },
      {
        "duration": 11,
        "start_time": "2021-10-19T21:25:16.073Z"
      },
      {
        "duration": 9,
        "start_time": "2021-10-19T21:25:16.086Z"
      },
      {
        "duration": 10,
        "start_time": "2021-10-19T21:25:16.097Z"
      },
      {
        "duration": 272,
        "start_time": "2021-10-19T21:25:16.108Z"
      },
      {
        "duration": 13,
        "start_time": "2021-10-19T21:25:16.382Z"
      },
      {
        "duration": 272,
        "start_time": "2021-10-19T21:25:16.397Z"
      },
      {
        "duration": 2,
        "start_time": "2021-10-19T21:25:16.671Z"
      },
      {
        "duration": 18,
        "start_time": "2021-10-19T21:25:16.676Z"
      },
      {
        "duration": 10,
        "start_time": "2021-10-19T21:25:16.695Z"
      },
      {
        "duration": 5,
        "start_time": "2021-10-19T21:25:16.707Z"
      },
      {
        "duration": 7,
        "start_time": "2021-10-19T21:25:16.714Z"
      },
      {
        "duration": 9,
        "start_time": "2021-10-19T21:25:16.723Z"
      },
      {
        "duration": 215,
        "start_time": "2021-10-19T21:25:16.737Z"
      },
      {
        "duration": 146,
        "start_time": "2021-10-19T21:25:16.954Z"
      },
      {
        "duration": 10,
        "start_time": "2021-10-19T21:25:17.102Z"
      },
      {
        "duration": 299,
        "start_time": "2021-10-19T21:25:17.114Z"
      },
      {
        "duration": 27,
        "start_time": "2021-10-19T21:25:17.415Z"
      },
      {
        "duration": 277,
        "start_time": "2021-10-19T21:25:17.444Z"
      },
      {
        "duration": -33850,
        "start_time": "2021-10-19T21:25:51.573Z"
      },
      {
        "duration": -33853,
        "start_time": "2021-10-19T21:25:51.577Z"
      },
      {
        "duration": -33856,
        "start_time": "2021-10-19T21:25:51.581Z"
      },
      {
        "duration": -33857,
        "start_time": "2021-10-19T21:25:51.583Z"
      },
      {
        "duration": -33859,
        "start_time": "2021-10-19T21:25:51.586Z"
      },
      {
        "duration": -33867,
        "start_time": "2021-10-19T21:25:51.595Z"
      },
      {
        "duration": -33880,
        "start_time": "2021-10-19T21:25:51.608Z"
      },
      {
        "duration": -33881,
        "start_time": "2021-10-19T21:25:51.610Z"
      },
      {
        "duration": -33894,
        "start_time": "2021-10-19T21:25:51.624Z"
      },
      {
        "duration": -33896,
        "start_time": "2021-10-19T21:25:51.627Z"
      },
      {
        "duration": -33900,
        "start_time": "2021-10-19T21:25:51.632Z"
      },
      {
        "duration": -33909,
        "start_time": "2021-10-19T21:25:51.642Z"
      },
      {
        "duration": -33913,
        "start_time": "2021-10-19T21:25:51.647Z"
      },
      {
        "duration": -33924,
        "start_time": "2021-10-19T21:25:51.658Z"
      },
      {
        "duration": -33926,
        "start_time": "2021-10-19T21:25:51.661Z"
      },
      {
        "duration": -33931,
        "start_time": "2021-10-19T21:25:51.667Z"
      },
      {
        "duration": -33940,
        "start_time": "2021-10-19T21:25:51.677Z"
      },
      {
        "duration": -33947,
        "start_time": "2021-10-19T21:25:51.685Z"
      },
      {
        "duration": -33957,
        "start_time": "2021-10-19T21:25:51.695Z"
      },
      {
        "duration": -33969,
        "start_time": "2021-10-19T21:25:51.708Z"
      },
      {
        "duration": -33970,
        "start_time": "2021-10-19T21:25:51.710Z"
      },
      {
        "duration": -33976,
        "start_time": "2021-10-19T21:25:51.717Z"
      },
      {
        "duration": -33984,
        "start_time": "2021-10-19T21:25:51.726Z"
      },
      {
        "duration": -33988,
        "start_time": "2021-10-19T21:25:51.731Z"
      },
      {
        "duration": -33991,
        "start_time": "2021-10-19T21:25:51.734Z"
      },
      {
        "duration": -33993,
        "start_time": "2021-10-19T21:25:51.737Z"
      },
      {
        "duration": -33994,
        "start_time": "2021-10-19T21:25:51.739Z"
      },
      {
        "duration": -33995,
        "start_time": "2021-10-19T21:25:51.741Z"
      },
      {
        "duration": -33996,
        "start_time": "2021-10-19T21:25:51.743Z"
      },
      {
        "duration": -34001,
        "start_time": "2021-10-19T21:25:51.749Z"
      },
      {
        "duration": -34002,
        "start_time": "2021-10-19T21:25:51.751Z"
      },
      {
        "duration": -34003,
        "start_time": "2021-10-19T21:25:51.753Z"
      },
      {
        "duration": -34004,
        "start_time": "2021-10-19T21:25:51.755Z"
      },
      {
        "duration": -34006,
        "start_time": "2021-10-19T21:25:51.758Z"
      },
      {
        "duration": -34007,
        "start_time": "2021-10-19T21:25:51.760Z"
      },
      {
        "duration": 198,
        "start_time": "2021-10-19T21:25:41.400Z"
      },
      {
        "duration": 191,
        "start_time": "2021-10-19T21:25:54.944Z"
      },
      {
        "duration": 1104,
        "start_time": "2021-10-19T21:26:21.100Z"
      },
      {
        "duration": 7,
        "start_time": "2021-10-19T21:26:22.206Z"
      },
      {
        "duration": 45,
        "start_time": "2021-10-19T21:26:22.217Z"
      },
      {
        "duration": 10,
        "start_time": "2021-10-19T21:26:22.264Z"
      },
      {
        "duration": 32,
        "start_time": "2021-10-19T21:26:22.276Z"
      },
      {
        "duration": 8,
        "start_time": "2021-10-19T21:26:22.309Z"
      },
      {
        "duration": 10,
        "start_time": "2021-10-19T21:26:22.318Z"
      },
      {
        "duration": 17,
        "start_time": "2021-10-19T21:26:22.330Z"
      },
      {
        "duration": 331,
        "start_time": "2021-10-19T21:26:22.349Z"
      },
      {
        "duration": 2,
        "start_time": "2021-10-19T21:26:22.682Z"
      },
      {
        "duration": 10,
        "start_time": "2021-10-19T21:26:22.685Z"
      },
      {
        "duration": 8,
        "start_time": "2021-10-19T21:26:22.696Z"
      },
      {
        "duration": 9,
        "start_time": "2021-10-19T21:26:22.706Z"
      },
      {
        "duration": 250,
        "start_time": "2021-10-19T21:26:22.717Z"
      },
      {
        "duration": 7,
        "start_time": "2021-10-19T21:26:22.968Z"
      },
      {
        "duration": 275,
        "start_time": "2021-10-19T21:26:22.977Z"
      },
      {
        "duration": 2,
        "start_time": "2021-10-19T21:26:23.254Z"
      },
      {
        "duration": 10,
        "start_time": "2021-10-19T21:26:23.257Z"
      },
      {
        "duration": 8,
        "start_time": "2021-10-19T21:26:23.268Z"
      },
      {
        "duration": 16,
        "start_time": "2021-10-19T21:26:23.278Z"
      },
      {
        "duration": 6,
        "start_time": "2021-10-19T21:26:23.295Z"
      },
      {
        "duration": 10,
        "start_time": "2021-10-19T21:26:23.302Z"
      },
      {
        "duration": 197,
        "start_time": "2021-10-19T21:26:23.313Z"
      },
      {
        "duration": 166,
        "start_time": "2021-10-19T21:26:23.512Z"
      },
      {
        "duration": 20,
        "start_time": "2021-10-19T21:26:23.681Z"
      },
      {
        "duration": 341,
        "start_time": "2021-10-19T21:26:23.707Z"
      },
      {
        "duration": 31,
        "start_time": "2021-10-19T21:26:24.050Z"
      },
      {
        "duration": 28421,
        "start_time": "2021-10-19T21:26:24.082Z"
      },
      {
        "duration": -33859,
        "start_time": "2021-10-19T21:27:26.364Z"
      },
      {
        "duration": -33862,
        "start_time": "2021-10-19T21:27:26.368Z"
      },
      {
        "duration": -33864,
        "start_time": "2021-10-19T21:27:26.371Z"
      },
      {
        "duration": -33865,
        "start_time": "2021-10-19T21:27:26.373Z"
      },
      {
        "duration": -33866,
        "start_time": "2021-10-19T21:27:26.375Z"
      },
      {
        "duration": -33867,
        "start_time": "2021-10-19T21:27:26.377Z"
      },
      {
        "duration": -33868,
        "start_time": "2021-10-19T21:27:26.379Z"
      },
      {
        "duration": -33885,
        "start_time": "2021-10-19T21:27:26.397Z"
      },
      {
        "duration": -33886,
        "start_time": "2021-10-19T21:27:26.399Z"
      },
      {
        "duration": -33887,
        "start_time": "2021-10-19T21:27:26.401Z"
      },
      {
        "duration": -33888,
        "start_time": "2021-10-19T21:27:26.403Z"
      },
      {
        "duration": -33889,
        "start_time": "2021-10-19T21:27:26.405Z"
      },
      {
        "duration": -33890,
        "start_time": "2021-10-19T21:27:26.407Z"
      },
      {
        "duration": -33891,
        "start_time": "2021-10-19T21:27:26.409Z"
      },
      {
        "duration": -33892,
        "start_time": "2021-10-19T21:27:26.411Z"
      },
      {
        "duration": -33893,
        "start_time": "2021-10-19T21:27:26.413Z"
      },
      {
        "duration": -33894,
        "start_time": "2021-10-19T21:27:26.416Z"
      },
      {
        "duration": -33896,
        "start_time": "2021-10-19T21:27:26.419Z"
      },
      {
        "duration": -33897,
        "start_time": "2021-10-19T21:27:26.421Z"
      },
      {
        "duration": -33898,
        "start_time": "2021-10-19T21:27:26.423Z"
      },
      {
        "duration": -33899,
        "start_time": "2021-10-19T21:27:26.425Z"
      },
      {
        "duration": -33900,
        "start_time": "2021-10-19T21:27:26.427Z"
      },
      {
        "duration": -33901,
        "start_time": "2021-10-19T21:27:26.429Z"
      },
      {
        "duration": -33903,
        "start_time": "2021-10-19T21:27:26.432Z"
      },
      {
        "duration": -33904,
        "start_time": "2021-10-19T21:27:26.434Z"
      },
      {
        "duration": -33905,
        "start_time": "2021-10-19T21:27:26.436Z"
      },
      {
        "duration": -33906,
        "start_time": "2021-10-19T21:27:26.438Z"
      },
      {
        "duration": -33907,
        "start_time": "2021-10-19T21:27:26.440Z"
      },
      {
        "duration": -33908,
        "start_time": "2021-10-19T21:27:26.442Z"
      },
      {
        "duration": -33909,
        "start_time": "2021-10-19T21:27:26.444Z"
      },
      {
        "duration": -33911,
        "start_time": "2021-10-19T21:27:26.447Z"
      },
      {
        "duration": -33910,
        "start_time": "2021-10-19T21:27:26.448Z"
      },
      {
        "duration": -33912,
        "start_time": "2021-10-19T21:27:26.451Z"
      },
      {
        "duration": -33862,
        "start_time": "2021-10-19T21:27:26.453Z"
      },
      {
        "duration": -33864,
        "start_time": "2021-10-19T21:27:26.456Z"
      },
      {
        "duration": 6,
        "start_time": "2021-10-19T21:29:08.955Z"
      },
      {
        "duration": 632,
        "start_time": "2021-10-19T21:29:18.169Z"
      },
      {
        "duration": 6,
        "start_time": "2021-10-19T21:29:59.681Z"
      },
      {
        "duration": 639,
        "start_time": "2021-10-19T21:30:00.590Z"
      },
      {
        "duration": 7,
        "start_time": "2021-10-19T21:30:27.867Z"
      },
      {
        "duration": 653,
        "start_time": "2021-10-19T21:30:28.338Z"
      },
      {
        "duration": 7,
        "start_time": "2021-10-19T21:30:35.391Z"
      },
      {
        "duration": 641,
        "start_time": "2021-10-19T21:30:36.166Z"
      },
      {
        "duration": 1477,
        "start_time": "2021-10-19T21:31:52.020Z"
      },
      {
        "duration": 2,
        "start_time": "2021-10-19T21:33:21.954Z"
      },
      {
        "duration": 3,
        "start_time": "2021-10-19T21:34:44.157Z"
      },
      {
        "duration": 16,
        "start_time": "2021-10-19T21:34:59.407Z"
      },
      {
        "duration": 163,
        "start_time": "2021-10-19T21:36:15.930Z"
      },
      {
        "duration": 11,
        "start_time": "2021-10-19T21:36:33.445Z"
      },
      {
        "duration": 5,
        "start_time": "2021-10-19T21:36:36.610Z"
      },
      {
        "duration": 6,
        "start_time": "2021-10-19T21:36:44.014Z"
      },
      {
        "duration": 194,
        "start_time": "2021-10-19T21:37:28.394Z"
      },
      {
        "duration": 3,
        "start_time": "2021-10-19T21:37:37.624Z"
      },
      {
        "duration": 175,
        "start_time": "2021-10-19T21:37:38.705Z"
      },
      {
        "duration": 170,
        "start_time": "2021-10-19T21:37:44.959Z"
      },
      {
        "duration": 5,
        "start_time": "2021-10-19T21:37:52.125Z"
      },
      {
        "duration": 10,
        "start_time": "2021-10-19T21:38:07.156Z"
      },
      {
        "duration": 18,
        "start_time": "2021-10-19T21:38:20.103Z"
      },
      {
        "duration": 1077,
        "start_time": "2021-10-19T21:39:46.133Z"
      },
      {
        "duration": 6,
        "start_time": "2021-10-19T21:39:47.212Z"
      },
      {
        "duration": 48,
        "start_time": "2021-10-19T21:39:47.220Z"
      },
      {
        "duration": 12,
        "start_time": "2021-10-19T21:39:47.270Z"
      },
      {
        "duration": 24,
        "start_time": "2021-10-19T21:39:47.292Z"
      },
      {
        "duration": 9,
        "start_time": "2021-10-19T21:39:47.318Z"
      },
      {
        "duration": 10,
        "start_time": "2021-10-19T21:39:47.329Z"
      },
      {
        "duration": 19,
        "start_time": "2021-10-19T21:39:47.342Z"
      },
      {
        "duration": 269,
        "start_time": "2021-10-19T21:39:47.392Z"
      },
      {
        "duration": 7,
        "start_time": "2021-10-19T21:39:47.663Z"
      },
      {
        "duration": 7,
        "start_time": "2021-10-19T21:39:47.672Z"
      },
      {
        "duration": 14,
        "start_time": "2021-10-19T21:39:47.680Z"
      },
      {
        "duration": 258,
        "start_time": "2021-10-19T21:39:47.696Z"
      },
      {
        "duration": 9,
        "start_time": "2021-10-19T21:39:47.956Z"
      },
      {
        "duration": 277,
        "start_time": "2021-10-19T21:39:47.967Z"
      },
      {
        "duration": 2,
        "start_time": "2021-10-19T21:39:48.246Z"
      },
      {
        "duration": 10,
        "start_time": "2021-10-19T21:39:48.250Z"
      },
      {
        "duration": 29,
        "start_time": "2021-10-19T21:39:48.262Z"
      },
      {
        "duration": 5,
        "start_time": "2021-10-19T21:39:48.293Z"
      },
      {
        "duration": 6,
        "start_time": "2021-10-19T21:39:48.300Z"
      },
      {
        "duration": 9,
        "start_time": "2021-10-19T21:39:48.307Z"
      },
      {
        "duration": 200,
        "start_time": "2021-10-19T21:39:48.318Z"
      },
      {
        "duration": 147,
        "start_time": "2021-10-19T21:39:48.522Z"
      },
      {
        "duration": 9,
        "start_time": "2021-10-19T21:39:48.672Z"
      },
      {
        "duration": 279,
        "start_time": "2021-10-19T21:39:48.692Z"
      },
      {
        "duration": 32,
        "start_time": "2021-10-19T21:39:48.973Z"
      },
      {
        "duration": 5,
        "start_time": "2021-10-19T21:39:49.006Z"
      },
      {
        "duration": 646,
        "start_time": "2021-10-19T21:39:49.013Z"
      },
      {
        "duration": 4,
        "start_time": "2021-10-19T21:39:49.660Z"
      },
      {
        "duration": 18,
        "start_time": "2021-10-19T21:39:49.665Z"
      },
      {
        "duration": 106,
        "start_time": "2021-10-19T21:39:49.692Z"
      },
      {
        "duration": 262,
        "start_time": "2021-10-19T21:39:49.800Z"
      },
      {
        "duration": -33821,
        "start_time": "2021-10-19T21:40:23.885Z"
      },
      {
        "duration": -33823,
        "start_time": "2021-10-19T21:40:23.889Z"
      },
      {
        "duration": -33825,
        "start_time": "2021-10-19T21:40:23.892Z"
      },
      {
        "duration": -33826,
        "start_time": "2021-10-19T21:40:23.894Z"
      },
      {
        "duration": -33827,
        "start_time": "2021-10-19T21:40:23.896Z"
      },
      {
        "duration": -33830,
        "start_time": "2021-10-19T21:40:23.901Z"
      },
      {
        "duration": -33838,
        "start_time": "2021-10-19T21:40:23.910Z"
      },
      {
        "duration": -33840,
        "start_time": "2021-10-19T21:40:23.913Z"
      },
      {
        "duration": -33843,
        "start_time": "2021-10-19T21:40:23.917Z"
      },
      {
        "duration": -33847,
        "start_time": "2021-10-19T21:40:23.922Z"
      },
      {
        "duration": -33848,
        "start_time": "2021-10-19T21:40:23.925Z"
      },
      {
        "duration": -33852,
        "start_time": "2021-10-19T21:40:23.930Z"
      },
      {
        "duration": -33857,
        "start_time": "2021-10-19T21:40:23.936Z"
      },
      {
        "duration": -33860,
        "start_time": "2021-10-19T21:40:23.940Z"
      },
      {
        "duration": -33861,
        "start_time": "2021-10-19T21:40:23.942Z"
      },
      {
        "duration": -33863,
        "start_time": "2021-10-19T21:40:23.945Z"
      },
      {
        "duration": -33867,
        "start_time": "2021-10-19T21:40:23.950Z"
      },
      {
        "duration": -33870,
        "start_time": "2021-10-19T21:40:23.954Z"
      },
      {
        "duration": -33871,
        "start_time": "2021-10-19T21:40:23.956Z"
      },
      {
        "duration": -33873,
        "start_time": "2021-10-19T21:40:23.959Z"
      },
      {
        "duration": -33874,
        "start_time": "2021-10-19T21:40:23.961Z"
      },
      {
        "duration": -33887,
        "start_time": "2021-10-19T21:40:23.975Z"
      },
      {
        "duration": -33888,
        "start_time": "2021-10-19T21:40:23.977Z"
      },
      {
        "duration": -33890,
        "start_time": "2021-10-19T21:40:23.980Z"
      },
      {
        "duration": -33892,
        "start_time": "2021-10-19T21:40:23.983Z"
      },
      {
        "duration": -33896,
        "start_time": "2021-10-19T21:40:23.987Z"
      },
      {
        "duration": -33897,
        "start_time": "2021-10-19T21:40:23.989Z"
      },
      {
        "duration": -33899,
        "start_time": "2021-10-19T21:40:23.992Z"
      },
      {
        "duration": -33900,
        "start_time": "2021-10-19T21:40:23.994Z"
      },
      {
        "duration": -33901,
        "start_time": "2021-10-19T21:40:23.996Z"
      },
      {
        "duration": -33904,
        "start_time": "2021-10-19T21:40:24.001Z"
      },
      {
        "duration": -33906,
        "start_time": "2021-10-19T21:40:24.004Z"
      },
      {
        "duration": -33907,
        "start_time": "2021-10-19T21:40:24.006Z"
      },
      {
        "duration": -33909,
        "start_time": "2021-10-19T21:40:24.009Z"
      },
      {
        "duration": 14,
        "start_time": "2021-10-19T21:40:17.345Z"
      },
      {
        "duration": 5,
        "start_time": "2021-10-19T21:40:35.499Z"
      },
      {
        "duration": 25,
        "start_time": "2021-10-19T21:40:37.107Z"
      },
      {
        "duration": 1070,
        "start_time": "2021-10-19T21:41:01.651Z"
      },
      {
        "duration": 12,
        "start_time": "2021-10-19T21:41:37.137Z"
      },
      {
        "duration": 5,
        "start_time": "2021-10-19T21:41:40.607Z"
      },
      {
        "duration": 6,
        "start_time": "2021-10-19T21:41:42.000Z"
      },
      {
        "duration": 11,
        "start_time": "2021-10-19T21:41:48.682Z"
      },
      {
        "duration": 10,
        "start_time": "2021-10-19T21:41:55.277Z"
      },
      {
        "duration": 11,
        "start_time": "2021-10-19T21:41:59.286Z"
      },
      {
        "duration": 4,
        "start_time": "2021-10-19T21:42:12.963Z"
      },
      {
        "duration": 160,
        "start_time": "2021-10-19T21:42:13.914Z"
      },
      {
        "duration": 3,
        "start_time": "2021-10-19T21:42:22.436Z"
      },
      {
        "duration": 172,
        "start_time": "2021-10-19T21:42:23.192Z"
      },
      {
        "duration": 4,
        "start_time": "2021-10-19T21:42:28.922Z"
      },
      {
        "duration": 172,
        "start_time": "2021-10-19T21:42:29.477Z"
      },
      {
        "duration": 3,
        "start_time": "2021-10-19T21:42:38.948Z"
      },
      {
        "duration": 180,
        "start_time": "2021-10-19T21:42:39.708Z"
      },
      {
        "duration": 3,
        "start_time": "2021-10-19T21:42:54.139Z"
      },
      {
        "duration": 172,
        "start_time": "2021-10-19T21:42:54.691Z"
      },
      {
        "duration": 4,
        "start_time": "2021-10-19T21:43:33.737Z"
      },
      {
        "duration": 172,
        "start_time": "2021-10-19T21:43:43.355Z"
      },
      {
        "duration": 3,
        "start_time": "2021-10-19T21:43:46.487Z"
      },
      {
        "duration": 183,
        "start_time": "2021-10-19T21:43:47.377Z"
      },
      {
        "duration": 1065,
        "start_time": "2021-10-19T21:43:59.551Z"
      },
      {
        "duration": 8,
        "start_time": "2021-10-19T21:44:00.618Z"
      },
      {
        "duration": 50,
        "start_time": "2021-10-19T21:44:00.629Z"
      },
      {
        "duration": 12,
        "start_time": "2021-10-19T21:44:00.681Z"
      },
      {
        "duration": 21,
        "start_time": "2021-10-19T21:44:00.695Z"
      },
      {
        "duration": 8,
        "start_time": "2021-10-19T21:44:00.718Z"
      },
      {
        "duration": 16,
        "start_time": "2021-10-19T21:44:00.727Z"
      },
      {
        "duration": 18,
        "start_time": "2021-10-19T21:44:00.745Z"
      },
      {
        "duration": 293,
        "start_time": "2021-10-19T21:44:00.765Z"
      },
      {
        "duration": 7,
        "start_time": "2021-10-19T21:44:01.060Z"
      },
      {
        "duration": 21,
        "start_time": "2021-10-19T21:44:01.068Z"
      },
      {
        "duration": 21,
        "start_time": "2021-10-19T21:44:01.090Z"
      },
      {
        "duration": 245,
        "start_time": "2021-10-19T21:44:01.112Z"
      },
      {
        "duration": 7,
        "start_time": "2021-10-19T21:44:01.359Z"
      },
      {
        "duration": 273,
        "start_time": "2021-10-19T21:44:01.368Z"
      },
      {
        "duration": 2,
        "start_time": "2021-10-19T21:44:01.642Z"
      },
      {
        "duration": 11,
        "start_time": "2021-10-19T21:44:01.646Z"
      },
      {
        "duration": 9,
        "start_time": "2021-10-19T21:44:01.658Z"
      },
      {
        "duration": 7,
        "start_time": "2021-10-19T21:44:01.668Z"
      },
      {
        "duration": 17,
        "start_time": "2021-10-19T21:44:01.676Z"
      },
      {
        "duration": 16,
        "start_time": "2021-10-19T21:44:01.695Z"
      },
      {
        "duration": 195,
        "start_time": "2021-10-19T21:44:01.712Z"
      },
      {
        "duration": 138,
        "start_time": "2021-10-19T21:44:01.911Z"
      },
      {
        "duration": 9,
        "start_time": "2021-10-19T21:44:02.052Z"
      },
      {
        "duration": 286,
        "start_time": "2021-10-19T21:44:02.063Z"
      },
      {
        "duration": 41,
        "start_time": "2021-10-19T21:44:02.351Z"
      },
      {
        "duration": 5,
        "start_time": "2021-10-19T21:44:02.394Z"
      },
      {
        "duration": 635,
        "start_time": "2021-10-19T21:44:02.400Z"
      },
      {
        "duration": 3,
        "start_time": "2021-10-19T21:44:03.037Z"
      },
      {
        "duration": 20,
        "start_time": "2021-10-19T21:44:03.041Z"
      },
      {
        "duration": 111,
        "start_time": "2021-10-19T21:44:03.063Z"
      },
      {
        "duration": 3,
        "start_time": "2021-10-19T21:44:03.176Z"
      },
      {
        "duration": 23,
        "start_time": "2021-10-19T21:44:03.181Z"
      },
      {
        "duration": 14,
        "start_time": "2021-10-19T21:44:03.206Z"
      },
      {
        "duration": 9,
        "start_time": "2021-10-19T21:44:03.221Z"
      },
      {
        "duration": 8,
        "start_time": "2021-10-19T21:44:03.231Z"
      },
      {
        "duration": 17,
        "start_time": "2021-10-19T21:44:03.241Z"
      },
      {
        "duration": 32,
        "start_time": "2021-10-19T21:44:03.260Z"
      },
      {
        "duration": 11,
        "start_time": "2021-10-19T21:44:03.294Z"
      },
      {
        "duration": 22,
        "start_time": "2021-10-19T21:44:03.306Z"
      },
      {
        "duration": 239,
        "start_time": "2021-10-19T21:44:03.330Z"
      },
      {
        "duration": 26,
        "start_time": "2021-10-19T21:44:03.570Z"
      },
      {
        "duration": 5,
        "start_time": "2021-10-19T21:44:03.597Z"
      },
      {
        "duration": 5,
        "start_time": "2021-10-19T21:44:03.604Z"
      },
      {
        "duration": 10,
        "start_time": "2021-10-19T21:44:03.611Z"
      },
      {
        "duration": 14,
        "start_time": "2021-10-19T21:44:03.623Z"
      },
      {
        "duration": 5,
        "start_time": "2021-10-19T21:44:03.639Z"
      },
      {
        "duration": 82902,
        "start_time": "2021-10-19T21:44:03.646Z"
      },
      {
        "duration": -33877,
        "start_time": "2021-10-19T21:46:00.427Z"
      },
      {
        "duration": -33885,
        "start_time": "2021-10-19T21:46:00.436Z"
      },
      {
        "duration": -33889,
        "start_time": "2021-10-19T21:46:00.441Z"
      },
      {
        "duration": -33893,
        "start_time": "2021-10-19T21:46:00.446Z"
      },
      {
        "duration": -33896,
        "start_time": "2021-10-19T21:46:00.450Z"
      },
      {
        "duration": -33900,
        "start_time": "2021-10-19T21:46:00.454Z"
      },
      {
        "duration": -33902,
        "start_time": "2021-10-19T21:46:00.457Z"
      },
      {
        "duration": -33904,
        "start_time": "2021-10-19T21:46:00.460Z"
      },
      {
        "duration": -33907,
        "start_time": "2021-10-19T21:46:00.464Z"
      },
      {
        "duration": -33909,
        "start_time": "2021-10-19T21:46:00.467Z"
      },
      {
        "duration": -33912,
        "start_time": "2021-10-19T21:46:00.471Z"
      },
      {
        "duration": -33923,
        "start_time": "2021-10-19T21:46:00.483Z"
      },
      {
        "duration": -33925,
        "start_time": "2021-10-19T21:46:00.486Z"
      },
      {
        "duration": -33926,
        "start_time": "2021-10-19T21:46:00.488Z"
      },
      {
        "duration": -33928,
        "start_time": "2021-10-19T21:46:00.491Z"
      },
      {
        "duration": -33930,
        "start_time": "2021-10-19T21:46:00.494Z"
      },
      {
        "duration": -33932,
        "start_time": "2021-10-19T21:46:00.497Z"
      },
      {
        "duration": -33934,
        "start_time": "2021-10-19T21:46:00.499Z"
      },
      {
        "duration": -33935,
        "start_time": "2021-10-19T21:46:00.501Z"
      },
      {
        "duration": -33936,
        "start_time": "2021-10-19T21:46:00.503Z"
      },
      {
        "duration": -33941,
        "start_time": "2021-10-19T21:46:00.509Z"
      },
      {
        "duration": 1143,
        "start_time": "2021-10-19T21:45:30.363Z"
      },
      {
        "duration": 6,
        "start_time": "2021-10-19T21:45:31.508Z"
      },
      {
        "duration": 45,
        "start_time": "2021-10-19T21:45:31.516Z"
      },
      {
        "duration": 11,
        "start_time": "2021-10-19T21:45:31.563Z"
      },
      {
        "duration": 30,
        "start_time": "2021-10-19T21:45:31.575Z"
      },
      {
        "duration": 7,
        "start_time": "2021-10-19T21:45:31.607Z"
      },
      {
        "duration": 11,
        "start_time": "2021-10-19T21:45:31.615Z"
      },
      {
        "duration": 18,
        "start_time": "2021-10-19T21:45:31.629Z"
      },
      {
        "duration": 294,
        "start_time": "2021-10-19T21:45:31.649Z"
      },
      {
        "duration": 7,
        "start_time": "2021-10-19T21:45:31.945Z"
      },
      {
        "duration": 12,
        "start_time": "2021-10-19T21:45:31.953Z"
      },
      {
        "duration": 19,
        "start_time": "2021-10-19T21:45:31.966Z"
      },
      {
        "duration": 247,
        "start_time": "2021-10-19T21:45:31.986Z"
      },
      {
        "duration": 7,
        "start_time": "2021-10-19T21:45:32.235Z"
      },
      {
        "duration": 270,
        "start_time": "2021-10-19T21:45:32.243Z"
      },
      {
        "duration": 2,
        "start_time": "2021-10-19T21:45:32.515Z"
      },
      {
        "duration": 10,
        "start_time": "2021-10-19T21:45:32.518Z"
      },
      {
        "duration": 8,
        "start_time": "2021-10-19T21:45:32.529Z"
      },
      {
        "duration": 4,
        "start_time": "2021-10-19T21:45:32.539Z"
      },
      {
        "duration": 6,
        "start_time": "2021-10-19T21:45:32.544Z"
      },
      {
        "duration": 9,
        "start_time": "2021-10-19T21:45:32.552Z"
      },
      {
        "duration": 211,
        "start_time": "2021-10-19T21:45:32.562Z"
      },
      {
        "duration": 139,
        "start_time": "2021-10-19T21:45:32.776Z"
      },
      {
        "duration": 9,
        "start_time": "2021-10-19T21:45:32.918Z"
      },
      {
        "duration": 287,
        "start_time": "2021-10-19T21:45:32.929Z"
      },
      {
        "duration": 27,
        "start_time": "2021-10-19T21:45:33.217Z"
      },
      {
        "duration": 4,
        "start_time": "2021-10-19T21:45:33.246Z"
      },
      {
        "duration": 655,
        "start_time": "2021-10-19T21:45:33.251Z"
      },
      {
        "duration": 3,
        "start_time": "2021-10-19T21:45:33.907Z"
      },
      {
        "duration": 18,
        "start_time": "2021-10-19T21:45:33.912Z"
      },
      {
        "duration": 105,
        "start_time": "2021-10-19T21:45:33.932Z"
      },
      {
        "duration": 3,
        "start_time": "2021-10-19T21:45:34.039Z"
      },
      {
        "duration": 17,
        "start_time": "2021-10-19T21:45:34.043Z"
      },
      {
        "duration": 30,
        "start_time": "2021-10-19T21:45:34.061Z"
      },
      {
        "duration": 4,
        "start_time": "2021-10-19T21:45:34.093Z"
      },
      {
        "duration": 7,
        "start_time": "2021-10-19T21:45:34.099Z"
      },
      {
        "duration": 12,
        "start_time": "2021-10-19T21:45:34.107Z"
      },
      {
        "duration": 10,
        "start_time": "2021-10-19T21:45:34.121Z"
      },
      {
        "duration": 10,
        "start_time": "2021-10-19T21:45:34.132Z"
      },
      {
        "duration": 48,
        "start_time": "2021-10-19T21:45:34.144Z"
      },
      {
        "duration": 228,
        "start_time": "2021-10-19T21:45:34.194Z"
      },
      {
        "duration": 16,
        "start_time": "2021-10-19T21:45:34.423Z"
      },
      {
        "duration": 4,
        "start_time": "2021-10-19T21:45:34.441Z"
      },
      {
        "duration": 5,
        "start_time": "2021-10-19T21:45:34.447Z"
      },
      {
        "duration": 6,
        "start_time": "2021-10-19T21:45:34.453Z"
      },
      {
        "duration": 32,
        "start_time": "2021-10-19T21:45:34.461Z"
      },
      {
        "duration": 3,
        "start_time": "2021-10-19T21:45:34.495Z"
      },
      {
        "duration": 22282,
        "start_time": "2021-10-19T21:45:34.500Z"
      },
      {
        "duration": -33846,
        "start_time": "2021-10-19T21:46:30.631Z"
      },
      {
        "duration": -33848,
        "start_time": "2021-10-19T21:46:30.634Z"
      },
      {
        "duration": -33848,
        "start_time": "2021-10-19T21:46:30.636Z"
      },
      {
        "duration": -33849,
        "start_time": "2021-10-19T21:46:30.638Z"
      },
      {
        "duration": -33853,
        "start_time": "2021-10-19T21:46:30.643Z"
      },
      {
        "duration": -33854,
        "start_time": "2021-10-19T21:46:30.646Z"
      },
      {
        "duration": -33855,
        "start_time": "2021-10-19T21:46:30.648Z"
      },
      {
        "duration": -33857,
        "start_time": "2021-10-19T21:46:30.651Z"
      },
      {
        "duration": -33857,
        "start_time": "2021-10-19T21:46:30.653Z"
      },
      {
        "duration": -33859,
        "start_time": "2021-10-19T21:46:30.656Z"
      },
      {
        "duration": -33861,
        "start_time": "2021-10-19T21:46:30.659Z"
      },
      {
        "duration": -33861,
        "start_time": "2021-10-19T21:46:30.661Z"
      },
      {
        "duration": -33863,
        "start_time": "2021-10-19T21:46:30.664Z"
      },
      {
        "duration": -33863,
        "start_time": "2021-10-19T21:46:30.666Z"
      },
      {
        "duration": -33865,
        "start_time": "2021-10-19T21:46:30.669Z"
      },
      {
        "duration": -33865,
        "start_time": "2021-10-19T21:46:30.671Z"
      },
      {
        "duration": -33866,
        "start_time": "2021-10-19T21:46:30.674Z"
      },
      {
        "duration": -33867,
        "start_time": "2021-10-19T21:46:30.677Z"
      },
      {
        "duration": -33869,
        "start_time": "2021-10-19T21:46:30.680Z"
      },
      {
        "duration": -33889,
        "start_time": "2021-10-19T21:46:30.701Z"
      },
      {
        "duration": -33893,
        "start_time": "2021-10-19T21:46:30.706Z"
      },
      {
        "duration": 2502,
        "start_time": "2021-10-19T21:45:59.709Z"
      },
      {
        "duration": 6,
        "start_time": "2021-10-19T21:46:02.213Z"
      },
      {
        "duration": 44,
        "start_time": "2021-10-19T21:46:02.223Z"
      },
      {
        "duration": 11,
        "start_time": "2021-10-19T21:46:02.269Z"
      },
      {
        "duration": 20,
        "start_time": "2021-10-19T21:46:02.291Z"
      },
      {
        "duration": 20,
        "start_time": "2021-10-19T21:46:02.313Z"
      },
      {
        "duration": 15,
        "start_time": "2021-10-19T21:46:02.334Z"
      },
      {
        "duration": 19,
        "start_time": "2021-10-19T21:46:02.352Z"
      },
      {
        "duration": 279,
        "start_time": "2021-10-19T21:46:02.373Z"
      },
      {
        "duration": 7,
        "start_time": "2021-10-19T21:46:02.654Z"
      },
      {
        "duration": 8,
        "start_time": "2021-10-19T21:46:02.662Z"
      },
      {
        "duration": 24,
        "start_time": "2021-10-19T21:46:02.671Z"
      },
      {
        "duration": 255,
        "start_time": "2021-10-19T21:46:02.697Z"
      },
      {
        "duration": 8,
        "start_time": "2021-10-19T21:46:02.953Z"
      },
      {
        "duration": 267,
        "start_time": "2021-10-19T21:46:02.962Z"
      },
      {
        "duration": 2,
        "start_time": "2021-10-19T21:46:03.230Z"
      },
      {
        "duration": 28,
        "start_time": "2021-10-19T21:46:03.233Z"
      },
      {
        "duration": 20,
        "start_time": "2021-10-19T21:46:03.263Z"
      },
      {
        "duration": 23,
        "start_time": "2021-10-19T21:46:03.284Z"
      },
      {
        "duration": 17,
        "start_time": "2021-10-19T21:46:03.309Z"
      },
      {
        "duration": 20,
        "start_time": "2021-10-19T21:46:03.328Z"
      },
      {
        "duration": 196,
        "start_time": "2021-10-19T21:46:03.349Z"
      },
      {
        "duration": 148,
        "start_time": "2021-10-19T21:46:03.546Z"
      },
      {
        "duration": 12,
        "start_time": "2021-10-19T21:46:03.695Z"
      },
      {
        "duration": 292,
        "start_time": "2021-10-19T21:46:03.709Z"
      },
      {
        "duration": 27,
        "start_time": "2021-10-19T21:46:04.005Z"
      },
      {
        "duration": 5,
        "start_time": "2021-10-19T21:46:04.035Z"
      },
      {
        "duration": 641,
        "start_time": "2021-10-19T21:46:04.041Z"
      },
      {
        "duration": 9,
        "start_time": "2021-10-19T21:46:04.683Z"
      },
      {
        "duration": 17,
        "start_time": "2021-10-19T21:46:04.693Z"
      },
      {
        "duration": 111,
        "start_time": "2021-10-19T21:46:04.712Z"
      },
      {
        "duration": 3,
        "start_time": "2021-10-19T21:46:04.825Z"
      },
      {
        "duration": 15,
        "start_time": "2021-10-19T21:46:04.830Z"
      },
      {
        "duration": 12,
        "start_time": "2021-10-19T21:46:04.847Z"
      },
      {
        "duration": 6,
        "start_time": "2021-10-19T21:46:04.861Z"
      },
      {
        "duration": 28,
        "start_time": "2021-10-19T21:46:04.869Z"
      },
      {
        "duration": 13,
        "start_time": "2021-10-19T21:46:04.898Z"
      },
      {
        "duration": 10,
        "start_time": "2021-10-19T21:46:04.912Z"
      },
      {
        "duration": 10,
        "start_time": "2021-10-19T21:46:04.924Z"
      },
      {
        "duration": 11,
        "start_time": "2021-10-19T21:46:04.935Z"
      },
      {
        "duration": 48,
        "start_time": "2021-10-19T21:46:04.947Z"
      },
      {
        "duration": 249,
        "start_time": "2021-10-19T21:46:04.997Z"
      },
      {
        "duration": 15,
        "start_time": "2021-10-19T21:46:05.248Z"
      },
      {
        "duration": 5,
        "start_time": "2021-10-19T21:46:05.264Z"
      },
      {
        "duration": 20,
        "start_time": "2021-10-19T21:46:05.271Z"
      },
      {
        "duration": 8,
        "start_time": "2021-10-19T21:46:05.293Z"
      },
      {
        "duration": 13,
        "start_time": "2021-10-19T21:46:05.303Z"
      },
      {
        "duration": 4,
        "start_time": "2021-10-19T21:46:05.318Z"
      },
      {
        "duration": 1126,
        "start_time": "2021-10-19T21:46:48.383Z"
      },
      {
        "duration": 8,
        "start_time": "2021-10-19T21:46:49.511Z"
      },
      {
        "duration": 44,
        "start_time": "2021-10-19T21:46:49.524Z"
      },
      {
        "duration": 24,
        "start_time": "2021-10-19T21:46:49.569Z"
      },
      {
        "duration": 22,
        "start_time": "2021-10-19T21:46:49.595Z"
      },
      {
        "duration": 9,
        "start_time": "2021-10-19T21:46:49.619Z"
      },
      {
        "duration": 10,
        "start_time": "2021-10-19T21:46:49.631Z"
      },
      {
        "duration": 19,
        "start_time": "2021-10-19T21:46:49.643Z"
      },
      {
        "duration": 295,
        "start_time": "2021-10-19T21:46:49.663Z"
      },
      {
        "duration": 7,
        "start_time": "2021-10-19T21:46:49.960Z"
      },
      {
        "duration": 6,
        "start_time": "2021-10-19T21:46:49.969Z"
      },
      {
        "duration": 17,
        "start_time": "2021-10-19T21:46:49.977Z"
      },
      {
        "duration": 285,
        "start_time": "2021-10-19T21:46:49.996Z"
      },
      {
        "duration": 11,
        "start_time": "2021-10-19T21:46:50.282Z"
      },
      {
        "duration": 266,
        "start_time": "2021-10-19T21:46:50.294Z"
      },
      {
        "duration": 3,
        "start_time": "2021-10-19T21:46:50.561Z"
      },
      {
        "duration": 11,
        "start_time": "2021-10-19T21:46:50.565Z"
      },
      {
        "duration": 19,
        "start_time": "2021-10-19T21:46:50.577Z"
      },
      {
        "duration": 4,
        "start_time": "2021-10-19T21:46:50.597Z"
      },
      {
        "duration": 6,
        "start_time": "2021-10-19T21:46:50.603Z"
      },
      {
        "duration": 9,
        "start_time": "2021-10-19T21:46:50.610Z"
      },
      {
        "duration": 195,
        "start_time": "2021-10-19T21:46:50.623Z"
      },
      {
        "duration": 140,
        "start_time": "2021-10-19T21:46:50.821Z"
      },
      {
        "duration": 10,
        "start_time": "2021-10-19T21:46:50.962Z"
      },
      {
        "duration": 284,
        "start_time": "2021-10-19T21:46:50.974Z"
      },
      {
        "duration": 34,
        "start_time": "2021-10-19T21:46:51.260Z"
      },
      {
        "duration": 4,
        "start_time": "2021-10-19T21:46:51.296Z"
      },
      {
        "duration": 633,
        "start_time": "2021-10-19T21:46:51.302Z"
      },
      {
        "duration": 3,
        "start_time": "2021-10-19T21:46:51.937Z"
      },
      {
        "duration": 17,
        "start_time": "2021-10-19T21:46:51.942Z"
      },
      {
        "duration": 117,
        "start_time": "2021-10-19T21:46:51.960Z"
      },
      {
        "duration": 4,
        "start_time": "2021-10-19T21:46:52.078Z"
      },
      {
        "duration": 15,
        "start_time": "2021-10-19T21:46:52.091Z"
      },
      {
        "duration": 14,
        "start_time": "2021-10-19T21:46:52.108Z"
      },
      {
        "duration": 10,
        "start_time": "2021-10-19T21:46:52.124Z"
      },
      {
        "duration": 7,
        "start_time": "2021-10-19T21:46:52.136Z"
      },
      {
        "duration": 12,
        "start_time": "2021-10-19T21:46:52.145Z"
      },
      {
        "duration": 40,
        "start_time": "2021-10-19T21:46:52.158Z"
      },
      {
        "duration": 12,
        "start_time": "2021-10-19T21:46:52.200Z"
      },
      {
        "duration": 16,
        "start_time": "2021-10-19T21:46:52.213Z"
      },
      {
        "duration": 21,
        "start_time": "2021-10-19T21:46:52.231Z"
      },
      {
        "duration": 253,
        "start_time": "2021-10-19T21:46:52.254Z"
      },
      {
        "duration": 18,
        "start_time": "2021-10-19T21:46:52.509Z"
      },
      {
        "duration": 5,
        "start_time": "2021-10-19T21:46:52.529Z"
      },
      {
        "duration": 3,
        "start_time": "2021-10-19T21:46:52.536Z"
      },
      {
        "duration": 7,
        "start_time": "2021-10-19T21:46:52.541Z"
      },
      {
        "duration": 42,
        "start_time": "2021-10-19T21:46:52.549Z"
      },
      {
        "duration": 3,
        "start_time": "2021-10-19T21:46:52.593Z"
      },
      {
        "duration": 1112,
        "start_time": "2021-10-19T21:47:27.945Z"
      },
      {
        "duration": 6,
        "start_time": "2021-10-19T21:47:29.059Z"
      },
      {
        "duration": 45,
        "start_time": "2021-10-19T21:47:29.068Z"
      },
      {
        "duration": 12,
        "start_time": "2021-10-19T21:47:29.115Z"
      },
      {
        "duration": 21,
        "start_time": "2021-10-19T21:47:29.128Z"
      },
      {
        "duration": 7,
        "start_time": "2021-10-19T21:47:29.151Z"
      },
      {
        "duration": 33,
        "start_time": "2021-10-19T21:47:29.160Z"
      },
      {
        "duration": 19,
        "start_time": "2021-10-19T21:47:29.195Z"
      },
      {
        "duration": 278,
        "start_time": "2021-10-19T21:47:29.215Z"
      },
      {
        "duration": 7,
        "start_time": "2021-10-19T21:47:29.495Z"
      },
      {
        "duration": 7,
        "start_time": "2021-10-19T21:47:29.504Z"
      },
      {
        "duration": 10,
        "start_time": "2021-10-19T21:47:29.513Z"
      },
      {
        "duration": 265,
        "start_time": "2021-10-19T21:47:29.524Z"
      },
      {
        "duration": 7,
        "start_time": "2021-10-19T21:47:29.791Z"
      },
      {
        "duration": 270,
        "start_time": "2021-10-19T21:47:29.800Z"
      },
      {
        "duration": 3,
        "start_time": "2021-10-19T21:47:30.071Z"
      },
      {
        "duration": 19,
        "start_time": "2021-10-19T21:47:30.075Z"
      },
      {
        "duration": 9,
        "start_time": "2021-10-19T21:47:30.096Z"
      },
      {
        "duration": 5,
        "start_time": "2021-10-19T21:47:30.106Z"
      },
      {
        "duration": 5,
        "start_time": "2021-10-19T21:47:30.113Z"
      },
      {
        "duration": 9,
        "start_time": "2021-10-19T21:47:30.119Z"
      },
      {
        "duration": 206,
        "start_time": "2021-10-19T21:47:30.130Z"
      },
      {
        "duration": 141,
        "start_time": "2021-10-19T21:47:30.340Z"
      },
      {
        "duration": 10,
        "start_time": "2021-10-19T21:47:30.492Z"
      },
      {
        "duration": 292,
        "start_time": "2021-10-19T21:47:30.504Z"
      },
      {
        "duration": 29,
        "start_time": "2021-10-19T21:47:30.798Z"
      },
      {
        "duration": 4,
        "start_time": "2021-10-19T21:47:30.829Z"
      },
      {
        "duration": 654,
        "start_time": "2021-10-19T21:47:30.835Z"
      },
      {
        "duration": 3,
        "start_time": "2021-10-19T21:47:31.491Z"
      },
      {
        "duration": 24,
        "start_time": "2021-10-19T21:47:31.495Z"
      },
      {
        "duration": 104,
        "start_time": "2021-10-19T21:47:31.521Z"
      },
      {
        "duration": 3,
        "start_time": "2021-10-19T21:47:31.627Z"
      },
      {
        "duration": 18,
        "start_time": "2021-10-19T21:47:31.631Z"
      },
      {
        "duration": 14,
        "start_time": "2021-10-19T21:47:31.650Z"
      },
      {
        "duration": 15,
        "start_time": "2021-10-19T21:47:31.665Z"
      },
      {
        "duration": 13,
        "start_time": "2021-10-19T21:47:31.681Z"
      },
      {
        "duration": 12,
        "start_time": "2021-10-19T21:47:31.696Z"
      },
      {
        "duration": 10,
        "start_time": "2021-10-19T21:47:31.710Z"
      },
      {
        "duration": 7,
        "start_time": "2021-10-19T21:47:31.722Z"
      },
      {
        "duration": 13,
        "start_time": "2021-10-19T21:47:31.730Z"
      },
      {
        "duration": 48,
        "start_time": "2021-10-19T21:47:31.745Z"
      },
      {
        "duration": 244,
        "start_time": "2021-10-19T21:47:31.795Z"
      },
      {
        "duration": 17,
        "start_time": "2021-10-19T21:47:32.041Z"
      },
      {
        "duration": 5,
        "start_time": "2021-10-19T21:47:32.059Z"
      },
      {
        "duration": 4,
        "start_time": "2021-10-19T21:47:32.066Z"
      },
      {
        "duration": 20,
        "start_time": "2021-10-19T21:47:32.072Z"
      },
      {
        "duration": 16,
        "start_time": "2021-10-19T21:47:32.093Z"
      },
      {
        "duration": 3,
        "start_time": "2021-10-19T21:47:32.111Z"
      },
      {
        "duration": 1124,
        "start_time": "2021-10-19T21:49:03.887Z"
      },
      {
        "duration": 6,
        "start_time": "2021-10-19T21:49:05.013Z"
      },
      {
        "duration": 55,
        "start_time": "2021-10-19T21:49:05.021Z"
      },
      {
        "duration": 15,
        "start_time": "2021-10-19T21:49:05.079Z"
      },
      {
        "duration": 32,
        "start_time": "2021-10-19T21:49:05.096Z"
      },
      {
        "duration": 10,
        "start_time": "2021-10-19T21:49:05.130Z"
      },
      {
        "duration": 15,
        "start_time": "2021-10-19T21:49:05.142Z"
      },
      {
        "duration": 40,
        "start_time": "2021-10-19T21:49:05.159Z"
      },
      {
        "duration": 267,
        "start_time": "2021-10-19T21:49:05.201Z"
      },
      {
        "duration": 8,
        "start_time": "2021-10-19T21:49:05.470Z"
      },
      {
        "duration": 8,
        "start_time": "2021-10-19T21:49:05.479Z"
      },
      {
        "duration": 13,
        "start_time": "2021-10-19T21:49:05.488Z"
      },
      {
        "duration": 249,
        "start_time": "2021-10-19T21:49:05.503Z"
      },
      {
        "duration": 7,
        "start_time": "2021-10-19T21:49:05.754Z"
      },
      {
        "duration": 271,
        "start_time": "2021-10-19T21:49:05.763Z"
      },
      {
        "duration": 2,
        "start_time": "2021-10-19T21:49:06.035Z"
      },
      {
        "duration": 15,
        "start_time": "2021-10-19T21:49:06.038Z"
      },
      {
        "duration": 9,
        "start_time": "2021-10-19T21:49:06.054Z"
      },
      {
        "duration": 10,
        "start_time": "2021-10-19T21:49:06.064Z"
      },
      {
        "duration": 6,
        "start_time": "2021-10-19T21:49:06.075Z"
      },
      {
        "duration": 17,
        "start_time": "2021-10-19T21:49:06.082Z"
      },
      {
        "duration": 190,
        "start_time": "2021-10-19T21:49:06.101Z"
      },
      {
        "duration": 137,
        "start_time": "2021-10-19T21:49:06.295Z"
      },
      {
        "duration": 11,
        "start_time": "2021-10-19T21:49:06.434Z"
      },
      {
        "duration": 288,
        "start_time": "2021-10-19T21:49:06.446Z"
      },
      {
        "duration": 27,
        "start_time": "2021-10-19T21:49:06.735Z"
      },
      {
        "duration": 4,
        "start_time": "2021-10-19T21:49:06.764Z"
      },
      {
        "duration": 644,
        "start_time": "2021-10-19T21:49:06.769Z"
      },
      {
        "duration": 3,
        "start_time": "2021-10-19T21:49:07.415Z"
      },
      {
        "duration": 18,
        "start_time": "2021-10-19T21:49:07.419Z"
      },
      {
        "duration": 113,
        "start_time": "2021-10-19T21:49:07.438Z"
      },
      {
        "duration": 3,
        "start_time": "2021-10-19T21:49:07.553Z"
      },
      {
        "duration": 15,
        "start_time": "2021-10-19T21:49:07.558Z"
      },
      {
        "duration": 25,
        "start_time": "2021-10-19T21:49:07.574Z"
      },
      {
        "duration": 4,
        "start_time": "2021-10-19T21:49:07.601Z"
      },
      {
        "duration": 8,
        "start_time": "2021-10-19T21:49:07.607Z"
      },
      {
        "duration": 12,
        "start_time": "2021-10-19T21:49:07.616Z"
      },
      {
        "duration": 10,
        "start_time": "2021-10-19T21:49:07.630Z"
      },
      {
        "duration": 408,
        "start_time": "2021-10-19T21:49:07.642Z"
      },
      {
        "duration": -33806,
        "start_time": "2021-10-19T21:49:41.858Z"
      },
      {
        "duration": -33809,
        "start_time": "2021-10-19T21:49:41.862Z"
      },
      {
        "duration": -33813,
        "start_time": "2021-10-19T21:49:41.866Z"
      },
      {
        "duration": -33815,
        "start_time": "2021-10-19T21:49:41.869Z"
      },
      {
        "duration": -33816,
        "start_time": "2021-10-19T21:49:41.871Z"
      },
      {
        "duration": -33818,
        "start_time": "2021-10-19T21:49:41.874Z"
      },
      {
        "duration": -33819,
        "start_time": "2021-10-19T21:49:41.876Z"
      },
      {
        "duration": -33820,
        "start_time": "2021-10-19T21:49:41.878Z"
      },
      {
        "duration": -33822,
        "start_time": "2021-10-19T21:49:41.881Z"
      },
      {
        "duration": -33823,
        "start_time": "2021-10-19T21:49:41.883Z"
      },
      {
        "duration": -33825,
        "start_time": "2021-10-19T21:49:41.886Z"
      },
      {
        "duration": -33826,
        "start_time": "2021-10-19T21:49:41.888Z"
      },
      {
        "duration": -33833,
        "start_time": "2021-10-19T21:49:41.896Z"
      },
      {
        "duration": -33837,
        "start_time": "2021-10-19T21:49:41.900Z"
      },
      {
        "duration": -33838,
        "start_time": "2021-10-19T21:49:41.902Z"
      },
      {
        "duration": -33839,
        "start_time": "2021-10-19T21:49:41.904Z"
      },
      {
        "duration": -33841,
        "start_time": "2021-10-19T21:49:41.907Z"
      },
      {
        "duration": -33841,
        "start_time": "2021-10-19T21:49:41.909Z"
      },
      {
        "duration": -33842,
        "start_time": "2021-10-19T21:49:41.911Z"
      },
      {
        "duration": -33843,
        "start_time": "2021-10-19T21:49:41.913Z"
      },
      {
        "duration": -33847,
        "start_time": "2021-10-19T21:49:41.918Z"
      },
      {
        "duration": -33850,
        "start_time": "2021-10-19T21:49:41.922Z"
      },
      {
        "duration": -33852,
        "start_time": "2021-10-19T21:49:41.926Z"
      },
      {
        "duration": -33855,
        "start_time": "2021-10-19T21:49:41.930Z"
      },
      {
        "duration": -33857,
        "start_time": "2021-10-19T21:49:41.933Z"
      },
      {
        "duration": -33857,
        "start_time": "2021-10-19T21:49:41.935Z"
      },
      {
        "duration": -33859,
        "start_time": "2021-10-19T21:49:41.938Z"
      },
      {
        "duration": -33860,
        "start_time": "2021-10-19T21:49:41.940Z"
      },
      {
        "duration": -33862,
        "start_time": "2021-10-19T21:49:41.943Z"
      },
      {
        "duration": -33863,
        "start_time": "2021-10-19T21:49:41.945Z"
      },
      {
        "duration": 7,
        "start_time": "2021-10-19T21:50:20.271Z"
      },
      {
        "duration": 9,
        "start_time": "2021-10-19T21:50:23.815Z"
      },
      {
        "duration": 1148,
        "start_time": "2021-10-19T21:50:40.877Z"
      },
      {
        "duration": 7,
        "start_time": "2021-10-19T21:50:42.027Z"
      },
      {
        "duration": 45,
        "start_time": "2021-10-19T21:50:42.036Z"
      },
      {
        "duration": 12,
        "start_time": "2021-10-19T21:50:42.083Z"
      },
      {
        "duration": 21,
        "start_time": "2021-10-19T21:50:42.097Z"
      },
      {
        "duration": 7,
        "start_time": "2021-10-19T21:50:42.120Z"
      },
      {
        "duration": 9,
        "start_time": "2021-10-19T21:50:42.129Z"
      },
      {
        "duration": 18,
        "start_time": "2021-10-19T21:50:42.141Z"
      },
      {
        "duration": 290,
        "start_time": "2021-10-19T21:50:42.160Z"
      },
      {
        "duration": 7,
        "start_time": "2021-10-19T21:50:42.452Z"
      },
      {
        "duration": 7,
        "start_time": "2021-10-19T21:50:42.461Z"
      },
      {
        "duration": 23,
        "start_time": "2021-10-19T21:50:42.469Z"
      },
      {
        "duration": 258,
        "start_time": "2021-10-19T21:50:42.494Z"
      },
      {
        "duration": 7,
        "start_time": "2021-10-19T21:50:42.753Z"
      },
      {
        "duration": 266,
        "start_time": "2021-10-19T21:50:42.762Z"
      },
      {
        "duration": 2,
        "start_time": "2021-10-19T21:50:43.029Z"
      },
      {
        "duration": 11,
        "start_time": "2021-10-19T21:50:43.033Z"
      },
      {
        "duration": 11,
        "start_time": "2021-10-19T21:50:43.045Z"
      },
      {
        "duration": 4,
        "start_time": "2021-10-19T21:50:43.058Z"
      },
      {
        "duration": 6,
        "start_time": "2021-10-19T21:50:43.063Z"
      },
      {
        "duration": 25,
        "start_time": "2021-10-19T21:50:43.071Z"
      },
      {
        "duration": 200,
        "start_time": "2021-10-19T21:50:43.097Z"
      },
      {
        "duration": 137,
        "start_time": "2021-10-19T21:50:43.300Z"
      },
      {
        "duration": 10,
        "start_time": "2021-10-19T21:50:43.440Z"
      },
      {
        "duration": 304,
        "start_time": "2021-10-19T21:50:43.451Z"
      },
      {
        "duration": 36,
        "start_time": "2021-10-19T21:50:43.757Z"
      },
      {
        "duration": 6,
        "start_time": "2021-10-19T21:50:43.795Z"
      },
      {
        "duration": 639,
        "start_time": "2021-10-19T21:50:43.803Z"
      },
      {
        "duration": 3,
        "start_time": "2021-10-19T21:50:44.445Z"
      },
      {
        "duration": 18,
        "start_time": "2021-10-19T21:50:44.450Z"
      },
      {
        "duration": 116,
        "start_time": "2021-10-19T21:50:44.470Z"
      },
      {
        "duration": 5,
        "start_time": "2021-10-19T21:50:44.588Z"
      },
      {
        "duration": 17,
        "start_time": "2021-10-19T21:50:44.595Z"
      },
      {
        "duration": 19,
        "start_time": "2021-10-19T21:50:44.613Z"
      },
      {
        "duration": 7,
        "start_time": "2021-10-19T21:50:44.634Z"
      },
      {
        "duration": 8,
        "start_time": "2021-10-19T21:50:44.642Z"
      },
      {
        "duration": 43,
        "start_time": "2021-10-19T21:50:44.651Z"
      },
      {
        "duration": 12,
        "start_time": "2021-10-19T21:50:44.696Z"
      },
      {
        "duration": 6,
        "start_time": "2021-10-19T21:50:44.710Z"
      },
      {
        "duration": 9,
        "start_time": "2021-10-19T21:50:44.718Z"
      },
      {
        "duration": 24,
        "start_time": "2021-10-19T21:50:44.729Z"
      },
      {
        "duration": 262,
        "start_time": "2021-10-19T21:50:44.755Z"
      },
      {
        "duration": 19,
        "start_time": "2021-10-19T21:50:45.019Z"
      },
      {
        "duration": 6,
        "start_time": "2021-10-19T21:50:45.040Z"
      },
      {
        "duration": 5,
        "start_time": "2021-10-19T21:50:45.048Z"
      },
      {
        "duration": 9,
        "start_time": "2021-10-19T21:50:45.055Z"
      },
      {
        "duration": 14,
        "start_time": "2021-10-19T21:50:45.091Z"
      },
      {
        "duration": 4,
        "start_time": "2021-10-19T21:50:45.107Z"
      },
      {
        "duration": 1148,
        "start_time": "2021-10-19T21:51:14.291Z"
      },
      {
        "duration": 7,
        "start_time": "2021-10-19T21:51:15.441Z"
      },
      {
        "duration": 44,
        "start_time": "2021-10-19T21:51:15.450Z"
      },
      {
        "duration": 12,
        "start_time": "2021-10-19T21:51:15.496Z"
      },
      {
        "duration": 20,
        "start_time": "2021-10-19T21:51:15.509Z"
      },
      {
        "duration": 16,
        "start_time": "2021-10-19T21:51:15.530Z"
      },
      {
        "duration": 10,
        "start_time": "2021-10-19T21:51:15.547Z"
      },
      {
        "duration": 38,
        "start_time": "2021-10-19T21:51:15.560Z"
      },
      {
        "duration": 262,
        "start_time": "2021-10-19T21:51:15.600Z"
      },
      {
        "duration": 7,
        "start_time": "2021-10-19T21:51:15.863Z"
      },
      {
        "duration": 6,
        "start_time": "2021-10-19T21:51:15.872Z"
      },
      {
        "duration": 13,
        "start_time": "2021-10-19T21:51:15.879Z"
      },
      {
        "duration": 254,
        "start_time": "2021-10-19T21:51:15.894Z"
      },
      {
        "duration": 7,
        "start_time": "2021-10-19T21:51:16.150Z"
      },
      {
        "duration": 269,
        "start_time": "2021-10-19T21:51:16.159Z"
      },
      {
        "duration": 2,
        "start_time": "2021-10-19T21:51:16.430Z"
      },
      {
        "duration": 10,
        "start_time": "2021-10-19T21:51:16.434Z"
      },
      {
        "duration": 9,
        "start_time": "2021-10-19T21:51:16.445Z"
      },
      {
        "duration": 5,
        "start_time": "2021-10-19T21:51:16.456Z"
      },
      {
        "duration": 6,
        "start_time": "2021-10-19T21:51:16.462Z"
      },
      {
        "duration": 7,
        "start_time": "2021-10-19T21:51:16.492Z"
      },
      {
        "duration": 196,
        "start_time": "2021-10-19T21:51:16.501Z"
      },
      {
        "duration": 145,
        "start_time": "2021-10-19T21:51:16.701Z"
      },
      {
        "duration": 10,
        "start_time": "2021-10-19T21:51:16.848Z"
      },
      {
        "duration": 301,
        "start_time": "2021-10-19T21:51:16.860Z"
      },
      {
        "duration": 36,
        "start_time": "2021-10-19T21:51:17.163Z"
      },
      {
        "duration": 5,
        "start_time": "2021-10-19T21:51:17.200Z"
      },
      {
        "duration": 629,
        "start_time": "2021-10-19T21:51:17.207Z"
      },
      {
        "duration": 3,
        "start_time": "2021-10-19T21:51:17.838Z"
      },
      {
        "duration": 18,
        "start_time": "2021-10-19T21:51:17.843Z"
      },
      {
        "duration": 109,
        "start_time": "2021-10-19T21:51:17.862Z"
      },
      {
        "duration": 2,
        "start_time": "2021-10-19T21:51:17.973Z"
      },
      {
        "duration": 24,
        "start_time": "2021-10-19T21:51:17.977Z"
      },
      {
        "duration": 13,
        "start_time": "2021-10-19T21:51:18.002Z"
      },
      {
        "duration": 5,
        "start_time": "2021-10-19T21:51:18.017Z"
      },
      {
        "duration": 7,
        "start_time": "2021-10-19T21:51:18.024Z"
      },
      {
        "duration": 13,
        "start_time": "2021-10-19T21:51:18.032Z"
      },
      {
        "duration": 12,
        "start_time": "2021-10-19T21:51:18.046Z"
      },
      {
        "duration": 5,
        "start_time": "2021-10-19T21:51:18.059Z"
      },
      {
        "duration": 35,
        "start_time": "2021-10-19T21:51:18.066Z"
      },
      {
        "duration": 24,
        "start_time": "2021-10-19T21:51:18.102Z"
      },
      {
        "duration": 242,
        "start_time": "2021-10-19T21:51:18.128Z"
      },
      {
        "duration": 23,
        "start_time": "2021-10-19T21:51:18.372Z"
      },
      {
        "duration": 6,
        "start_time": "2021-10-19T21:51:18.396Z"
      },
      {
        "duration": 5,
        "start_time": "2021-10-19T21:51:18.403Z"
      },
      {
        "duration": 9,
        "start_time": "2021-10-19T21:51:18.409Z"
      },
      {
        "duration": 14,
        "start_time": "2021-10-19T21:51:18.420Z"
      },
      {
        "duration": 11,
        "start_time": "2021-10-19T21:51:18.435Z"
      },
      {
        "duration": 1172,
        "start_time": "2021-10-19T21:52:08.762Z"
      },
      {
        "duration": 7,
        "start_time": "2021-10-19T21:52:09.935Z"
      },
      {
        "duration": 47,
        "start_time": "2021-10-19T21:52:09.944Z"
      },
      {
        "duration": 11,
        "start_time": "2021-10-19T21:52:09.993Z"
      },
      {
        "duration": 24,
        "start_time": "2021-10-19T21:52:10.006Z"
      },
      {
        "duration": 8,
        "start_time": "2021-10-19T21:52:10.032Z"
      },
      {
        "duration": 11,
        "start_time": "2021-10-19T21:52:10.041Z"
      },
      {
        "duration": 42,
        "start_time": "2021-10-19T21:52:10.055Z"
      },
      {
        "duration": 455,
        "start_time": "2021-10-19T21:52:10.099Z"
      },
      {
        "duration": 7,
        "start_time": "2021-10-19T21:52:10.556Z"
      },
      {
        "duration": 10,
        "start_time": "2021-10-19T21:52:10.564Z"
      },
      {
        "duration": 17,
        "start_time": "2021-10-19T21:52:10.576Z"
      },
      {
        "duration": 269,
        "start_time": "2021-10-19T21:52:10.594Z"
      },
      {
        "duration": 7,
        "start_time": "2021-10-19T21:52:10.865Z"
      },
      {
        "duration": 274,
        "start_time": "2021-10-19T21:52:10.874Z"
      },
      {
        "duration": 2,
        "start_time": "2021-10-19T21:52:11.150Z"
      },
      {
        "duration": 12,
        "start_time": "2021-10-19T21:52:11.153Z"
      },
      {
        "duration": 8,
        "start_time": "2021-10-19T21:52:11.167Z"
      },
      {
        "duration": 16,
        "start_time": "2021-10-19T21:52:11.176Z"
      },
      {
        "duration": 7,
        "start_time": "2021-10-19T21:52:11.194Z"
      },
      {
        "duration": 9,
        "start_time": "2021-10-19T21:52:11.203Z"
      },
      {
        "duration": 194,
        "start_time": "2021-10-19T21:52:11.214Z"
      },
      {
        "duration": 143,
        "start_time": "2021-10-19T21:52:11.411Z"
      },
      {
        "duration": 9,
        "start_time": "2021-10-19T21:52:11.556Z"
      },
      {
        "duration": 287,
        "start_time": "2021-10-19T21:52:11.566Z"
      },
      {
        "duration": 37,
        "start_time": "2021-10-19T21:52:11.855Z"
      },
      {
        "duration": 4,
        "start_time": "2021-10-19T21:52:11.894Z"
      },
      {
        "duration": 624,
        "start_time": "2021-10-19T21:52:11.900Z"
      },
      {
        "duration": 3,
        "start_time": "2021-10-19T21:52:12.526Z"
      },
      {
        "duration": 18,
        "start_time": "2021-10-19T21:52:12.530Z"
      },
      {
        "duration": 117,
        "start_time": "2021-10-19T21:52:12.549Z"
      },
      {
        "duration": 3,
        "start_time": "2021-10-19T21:52:12.668Z"
      },
      {
        "duration": 25,
        "start_time": "2021-10-19T21:52:12.672Z"
      },
      {
        "duration": 13,
        "start_time": "2021-10-19T21:52:12.699Z"
      },
      {
        "duration": 7,
        "start_time": "2021-10-19T21:52:12.714Z"
      },
      {
        "duration": 8,
        "start_time": "2021-10-19T21:52:12.722Z"
      },
      {
        "duration": 13,
        "start_time": "2021-10-19T21:52:12.731Z"
      },
      {
        "duration": 14,
        "start_time": "2021-10-19T21:52:12.746Z"
      },
      {
        "duration": 31,
        "start_time": "2021-10-19T21:52:12.761Z"
      },
      {
        "duration": 12,
        "start_time": "2021-10-19T21:52:12.793Z"
      },
      {
        "duration": 20,
        "start_time": "2021-10-19T21:52:12.807Z"
      },
      {
        "duration": 240,
        "start_time": "2021-10-19T21:52:12.829Z"
      },
      {
        "duration": 25,
        "start_time": "2021-10-19T21:52:13.071Z"
      },
      {
        "duration": 5,
        "start_time": "2021-10-19T21:52:13.098Z"
      },
      {
        "duration": 5,
        "start_time": "2021-10-19T21:52:13.105Z"
      },
      {
        "duration": 7,
        "start_time": "2021-10-19T21:52:13.112Z"
      },
      {
        "duration": 16,
        "start_time": "2021-10-19T21:52:13.120Z"
      },
      {
        "duration": 4,
        "start_time": "2021-10-19T21:52:13.137Z"
      },
      {
        "duration": 133497,
        "start_time": "2021-10-19T21:52:13.143Z"
      },
      {
        "duration": 12,
        "start_time": "2021-10-19T21:54:26.642Z"
      },
      {
        "duration": 5,
        "start_time": "2021-10-19T21:54:26.655Z"
      },
      {
        "duration": 15,
        "start_time": "2021-10-19T21:54:26.661Z"
      },
      {
        "duration": 4,
        "start_time": "2021-10-19T21:54:26.678Z"
      },
      {
        "duration": 6,
        "start_time": "2021-10-19T21:54:26.683Z"
      },
      {
        "duration": 5,
        "start_time": "2021-10-19T21:54:26.690Z"
      },
      {
        "duration": 5,
        "start_time": "2021-10-19T21:54:26.697Z"
      },
      {
        "duration": 14,
        "start_time": "2021-10-19T21:54:26.703Z"
      },
      {
        "duration": 4,
        "start_time": "2021-10-19T21:54:26.719Z"
      },
      {
        "duration": 5,
        "start_time": "2021-10-19T21:54:26.724Z"
      },
      {
        "duration": 14,
        "start_time": "2021-10-19T21:54:26.730Z"
      },
      {
        "duration": 4,
        "start_time": "2021-10-19T21:54:26.746Z"
      },
      {
        "duration": 16,
        "start_time": "2021-10-19T21:54:26.752Z"
      },
      {
        "duration": 1093,
        "start_time": "2021-10-19T21:55:24.725Z"
      },
      {
        "duration": 6,
        "start_time": "2021-10-19T21:55:25.820Z"
      },
      {
        "duration": 46,
        "start_time": "2021-10-19T21:55:25.828Z"
      },
      {
        "duration": 11,
        "start_time": "2021-10-19T21:55:25.876Z"
      },
      {
        "duration": 20,
        "start_time": "2021-10-19T21:55:25.892Z"
      },
      {
        "duration": 10,
        "start_time": "2021-10-19T21:55:25.914Z"
      },
      {
        "duration": 9,
        "start_time": "2021-10-19T21:55:25.926Z"
      },
      {
        "duration": 19,
        "start_time": "2021-10-19T21:55:25.938Z"
      },
      {
        "duration": 292,
        "start_time": "2021-10-19T21:55:25.959Z"
      },
      {
        "duration": 7,
        "start_time": "2021-10-19T21:55:26.253Z"
      },
      {
        "duration": 7,
        "start_time": "2021-10-19T21:55:26.262Z"
      },
      {
        "duration": 26,
        "start_time": "2021-10-19T21:55:26.270Z"
      },
      {
        "duration": 259,
        "start_time": "2021-10-19T21:55:26.298Z"
      },
      {
        "duration": 7,
        "start_time": "2021-10-19T21:55:26.559Z"
      },
      {
        "duration": 273,
        "start_time": "2021-10-19T21:55:26.568Z"
      },
      {
        "duration": 2,
        "start_time": "2021-10-19T21:55:26.842Z"
      },
      {
        "duration": 10,
        "start_time": "2021-10-19T21:55:26.846Z"
      },
      {
        "duration": 8,
        "start_time": "2021-10-19T21:55:26.858Z"
      },
      {
        "duration": 4,
        "start_time": "2021-10-19T21:55:26.868Z"
      },
      {
        "duration": 21,
        "start_time": "2021-10-19T21:55:26.873Z"
      },
      {
        "duration": 9,
        "start_time": "2021-10-19T21:55:26.896Z"
      },
      {
        "duration": 203,
        "start_time": "2021-10-19T21:55:26.907Z"
      },
      {
        "duration": 139,
        "start_time": "2021-10-19T21:55:27.114Z"
      },
      {
        "duration": 10,
        "start_time": "2021-10-19T21:55:27.256Z"
      },
      {
        "duration": 306,
        "start_time": "2021-10-19T21:55:27.267Z"
      },
      {
        "duration": 37,
        "start_time": "2021-10-19T21:55:27.574Z"
      },
      {
        "duration": 6,
        "start_time": "2021-10-19T21:55:27.612Z"
      },
      {
        "duration": 642,
        "start_time": "2021-10-19T21:55:27.620Z"
      },
      {
        "duration": 3,
        "start_time": "2021-10-19T21:55:28.264Z"
      },
      {
        "duration": 25,
        "start_time": "2021-10-19T21:55:28.269Z"
      },
      {
        "duration": 104,
        "start_time": "2021-10-19T21:55:28.296Z"
      },
      {
        "duration": 3,
        "start_time": "2021-10-19T21:55:28.402Z"
      },
      {
        "duration": 23,
        "start_time": "2021-10-19T21:55:28.406Z"
      },
      {
        "duration": 16,
        "start_time": "2021-10-19T21:55:28.430Z"
      },
      {
        "duration": 12,
        "start_time": "2021-10-19T21:55:28.447Z"
      },
      {
        "duration": 16,
        "start_time": "2021-10-19T21:55:28.461Z"
      },
      {
        "duration": 19,
        "start_time": "2021-10-19T21:55:28.479Z"
      },
      {
        "duration": 14,
        "start_time": "2021-10-19T21:55:28.500Z"
      },
      {
        "duration": 10,
        "start_time": "2021-10-19T21:55:28.516Z"
      },
      {
        "duration": 12,
        "start_time": "2021-10-19T21:55:28.528Z"
      },
      {
        "duration": 30,
        "start_time": "2021-10-19T21:55:28.541Z"
      },
      {
        "duration": 228,
        "start_time": "2021-10-19T21:55:28.573Z"
      },
      {
        "duration": 16,
        "start_time": "2021-10-19T21:55:28.803Z"
      },
      {
        "duration": 6,
        "start_time": "2021-10-19T21:55:28.820Z"
      },
      {
        "duration": 5,
        "start_time": "2021-10-19T21:55:28.828Z"
      },
      {
        "duration": 8,
        "start_time": "2021-10-19T21:55:28.834Z"
      },
      {
        "duration": 18,
        "start_time": "2021-10-19T21:55:28.843Z"
      },
      {
        "duration": 5,
        "start_time": "2021-10-19T21:55:28.862Z"
      },
      {
        "duration": 133169,
        "start_time": "2021-10-19T21:55:28.868Z"
      },
      {
        "duration": 12,
        "start_time": "2021-10-19T21:57:42.038Z"
      },
      {
        "duration": 5,
        "start_time": "2021-10-19T21:57:42.051Z"
      },
      {
        "duration": 14,
        "start_time": "2021-10-19T21:57:42.057Z"
      },
      {
        "duration": 3,
        "start_time": "2021-10-19T21:57:42.073Z"
      },
      {
        "duration": 5,
        "start_time": "2021-10-19T21:57:42.077Z"
      },
      {
        "duration": 5,
        "start_time": "2021-10-19T21:57:42.084Z"
      },
      {
        "duration": 5,
        "start_time": "2021-10-19T21:57:42.091Z"
      },
      {
        "duration": 14,
        "start_time": "2021-10-19T21:57:42.097Z"
      },
      {
        "duration": 5,
        "start_time": "2021-10-19T21:57:42.112Z"
      },
      {
        "duration": 8,
        "start_time": "2021-10-19T21:57:42.118Z"
      },
      {
        "duration": 15,
        "start_time": "2021-10-19T21:57:42.128Z"
      },
      {
        "duration": 5,
        "start_time": "2021-10-19T21:57:42.144Z"
      },
      {
        "duration": 16,
        "start_time": "2021-10-19T21:57:42.150Z"
      },
      {
        "duration": 87043,
        "start_time": "2021-10-19T21:57:42.168Z"
      },
      {
        "duration": 4,
        "start_time": "2021-10-19T21:59:09.212Z"
      },
      {
        "duration": 15,
        "start_time": "2021-10-19T21:59:09.217Z"
      },
      {
        "duration": 4614,
        "start_time": "2021-10-19T21:59:09.233Z"
      },
      {
        "duration": -33902,
        "start_time": "2021-10-19T21:59:47.751Z"
      },
      {
        "duration": -33904,
        "start_time": "2021-10-19T21:59:47.754Z"
      },
      {
        "duration": -33906,
        "start_time": "2021-10-19T21:59:47.757Z"
      },
      {
        "duration": -33907,
        "start_time": "2021-10-19T21:59:47.759Z"
      },
      {
        "duration": 16,
        "start_time": "2021-10-19T22:08:24.360Z"
      },
      {
        "duration": 15,
        "start_time": "2021-10-19T22:09:22.322Z"
      },
      {
        "duration": 19,
        "start_time": "2021-10-19T22:09:30.064Z"
      },
      {
        "duration": 1097,
        "start_time": "2021-10-19T22:11:19.190Z"
      },
      {
        "duration": 17,
        "start_time": "2021-10-19T22:11:47.508Z"
      },
      {
        "duration": 2014,
        "start_time": "2021-10-19T22:11:57.200Z"
      },
      {
        "duration": 4860,
        "start_time": "2021-10-19T22:12:14.833Z"
      },
      {
        "duration": 19,
        "start_time": "2021-10-19T22:13:59.061Z"
      },
      {
        "duration": 19,
        "start_time": "2021-10-19T22:14:08.126Z"
      },
      {
        "duration": 20,
        "start_time": "2021-10-19T22:15:38.636Z"
      },
      {
        "duration": 156,
        "start_time": "2021-10-19T22:16:20.837Z"
      },
      {
        "duration": 164,
        "start_time": "2021-10-19T22:16:32.669Z"
      },
      {
        "duration": 161,
        "start_time": "2021-10-19T22:16:57.878Z"
      },
      {
        "duration": 19,
        "start_time": "2021-10-19T22:17:11.745Z"
      },
      {
        "duration": 163,
        "start_time": "2021-10-19T22:17:14.619Z"
      },
      {
        "duration": 18,
        "start_time": "2021-10-19T22:17:32.153Z"
      },
      {
        "duration": 214,
        "start_time": "2021-10-19T22:17:34.097Z"
      },
      {
        "duration": 20,
        "start_time": "2021-10-19T22:18:25.154Z"
      },
      {
        "duration": 286,
        "start_time": "2021-10-19T22:18:27.437Z"
      },
      {
        "duration": 242,
        "start_time": "2021-10-19T22:19:41.816Z"
      },
      {
        "duration": 1182,
        "start_time": "2021-10-20T09:59:17.681Z"
      },
      {
        "duration": 9,
        "start_time": "2021-10-20T09:59:18.865Z"
      },
      {
        "duration": 46,
        "start_time": "2021-10-20T09:59:18.879Z"
      },
      {
        "duration": 20,
        "start_time": "2021-10-20T09:59:18.927Z"
      },
      {
        "duration": 24,
        "start_time": "2021-10-20T09:59:18.948Z"
      },
      {
        "duration": 27,
        "start_time": "2021-10-20T09:59:18.974Z"
      },
      {
        "duration": 16,
        "start_time": "2021-10-20T09:59:19.004Z"
      },
      {
        "duration": 27,
        "start_time": "2021-10-20T09:59:19.022Z"
      },
      {
        "duration": 538,
        "start_time": "2021-10-20T09:59:19.050Z"
      },
      {
        "duration": 8,
        "start_time": "2021-10-20T09:59:19.590Z"
      },
      {
        "duration": 20,
        "start_time": "2021-10-20T09:59:19.599Z"
      },
      {
        "duration": 13,
        "start_time": "2021-10-20T09:59:19.621Z"
      },
      {
        "duration": 241,
        "start_time": "2021-10-20T09:59:19.637Z"
      },
      {
        "duration": 10,
        "start_time": "2021-10-20T09:59:19.880Z"
      },
      {
        "duration": 272,
        "start_time": "2021-10-20T09:59:19.891Z"
      },
      {
        "duration": 2,
        "start_time": "2021-10-20T09:59:20.164Z"
      },
      {
        "duration": 18,
        "start_time": "2021-10-20T09:59:20.168Z"
      },
      {
        "duration": 28,
        "start_time": "2021-10-20T09:59:20.188Z"
      },
      {
        "duration": 12,
        "start_time": "2021-10-20T09:59:20.218Z"
      },
      {
        "duration": 8,
        "start_time": "2021-10-20T09:59:20.232Z"
      },
      {
        "duration": 22,
        "start_time": "2021-10-20T09:59:20.242Z"
      },
      {
        "duration": 187,
        "start_time": "2021-10-20T09:59:20.267Z"
      },
      {
        "duration": 133,
        "start_time": "2021-10-20T09:59:20.456Z"
      },
      {
        "duration": 10,
        "start_time": "2021-10-20T09:59:20.590Z"
      },
      {
        "duration": 284,
        "start_time": "2021-10-20T09:59:20.601Z"
      },
      {
        "duration": 28,
        "start_time": "2021-10-20T09:59:20.886Z"
      },
      {
        "duration": 5,
        "start_time": "2021-10-20T09:59:20.915Z"
      },
      {
        "duration": 654,
        "start_time": "2021-10-20T09:59:20.921Z"
      },
      {
        "duration": 110,
        "start_time": "2021-10-20T09:59:21.577Z"
      },
      {
        "duration": 2,
        "start_time": "2021-10-20T09:59:21.689Z"
      },
      {
        "duration": 29,
        "start_time": "2021-10-20T09:59:21.693Z"
      },
      {
        "duration": 20,
        "start_time": "2021-10-20T09:59:21.724Z"
      },
      {
        "duration": 16,
        "start_time": "2021-10-20T09:59:21.746Z"
      },
      {
        "duration": 35,
        "start_time": "2021-10-20T09:59:21.764Z"
      },
      {
        "duration": 13,
        "start_time": "2021-10-20T09:59:21.801Z"
      },
      {
        "duration": 23,
        "start_time": "2021-10-20T09:59:21.815Z"
      },
      {
        "duration": 31,
        "start_time": "2021-10-20T09:59:21.839Z"
      },
      {
        "duration": 32,
        "start_time": "2021-10-20T09:59:21.872Z"
      },
      {
        "duration": 41,
        "start_time": "2021-10-20T09:59:21.906Z"
      },
      {
        "duration": 256,
        "start_time": "2021-10-20T09:59:21.949Z"
      },
      {
        "duration": 17,
        "start_time": "2021-10-20T09:59:22.208Z"
      },
      {
        "duration": 19,
        "start_time": "2021-10-20T09:59:22.227Z"
      },
      {
        "duration": 8,
        "start_time": "2021-10-20T09:59:22.248Z"
      },
      {
        "duration": 30,
        "start_time": "2021-10-20T09:59:22.258Z"
      },
      {
        "duration": 42,
        "start_time": "2021-10-20T09:59:22.290Z"
      },
      {
        "duration": 13,
        "start_time": "2021-10-20T09:59:22.334Z"
      },
      {
        "duration": 65933,
        "start_time": "2021-10-20T09:59:22.349Z"
      },
      {
        "duration": 11,
        "start_time": "2021-10-20T10:00:28.284Z"
      },
      {
        "duration": 10,
        "start_time": "2021-10-20T10:00:28.297Z"
      },
      {
        "duration": 23,
        "start_time": "2021-10-20T10:00:28.309Z"
      },
      {
        "duration": 19,
        "start_time": "2021-10-20T10:00:28.333Z"
      },
      {
        "duration": 19,
        "start_time": "2021-10-20T10:00:28.354Z"
      },
      {
        "duration": 12,
        "start_time": "2021-10-20T10:00:28.375Z"
      },
      {
        "duration": 12,
        "start_time": "2021-10-20T10:00:28.389Z"
      },
      {
        "duration": 22,
        "start_time": "2021-10-20T10:00:28.403Z"
      },
      {
        "duration": 8,
        "start_time": "2021-10-20T10:00:28.427Z"
      },
      {
        "duration": 20,
        "start_time": "2021-10-20T10:00:28.437Z"
      },
      {
        "duration": 29,
        "start_time": "2021-10-20T10:00:28.459Z"
      },
      {
        "duration": 13,
        "start_time": "2021-10-20T10:00:28.490Z"
      },
      {
        "duration": 33,
        "start_time": "2021-10-20T10:00:28.504Z"
      },
      {
        "duration": 1206,
        "start_time": "2021-10-20T10:01:09.959Z"
      },
      {
        "duration": 6,
        "start_time": "2021-10-20T10:01:11.167Z"
      },
      {
        "duration": 45,
        "start_time": "2021-10-20T10:01:11.177Z"
      },
      {
        "duration": 11,
        "start_time": "2021-10-20T10:01:11.223Z"
      },
      {
        "duration": 28,
        "start_time": "2021-10-20T10:01:11.236Z"
      },
      {
        "duration": 10,
        "start_time": "2021-10-20T10:01:11.265Z"
      },
      {
        "duration": 17,
        "start_time": "2021-10-20T10:01:11.278Z"
      },
      {
        "duration": 20,
        "start_time": "2021-10-20T10:01:11.298Z"
      },
      {
        "duration": 539,
        "start_time": "2021-10-20T10:01:11.320Z"
      },
      {
        "duration": 8,
        "start_time": "2021-10-20T10:01:11.861Z"
      },
      {
        "duration": 14,
        "start_time": "2021-10-20T10:01:11.871Z"
      },
      {
        "duration": 23,
        "start_time": "2021-10-20T10:01:11.886Z"
      },
      {
        "duration": 266,
        "start_time": "2021-10-20T10:01:11.912Z"
      },
      {
        "duration": 9,
        "start_time": "2021-10-20T10:01:12.180Z"
      },
      {
        "duration": 272,
        "start_time": "2021-10-20T10:01:12.191Z"
      },
      {
        "duration": 3,
        "start_time": "2021-10-20T10:01:12.465Z"
      },
      {
        "duration": 25,
        "start_time": "2021-10-20T10:01:12.470Z"
      },
      {
        "duration": 18,
        "start_time": "2021-10-20T10:01:12.497Z"
      },
      {
        "duration": 17,
        "start_time": "2021-10-20T10:01:12.517Z"
      },
      {
        "duration": 23,
        "start_time": "2021-10-20T10:01:12.536Z"
      },
      {
        "duration": 17,
        "start_time": "2021-10-20T10:01:12.561Z"
      },
      {
        "duration": 188,
        "start_time": "2021-10-20T10:01:12.582Z"
      },
      {
        "duration": 143,
        "start_time": "2021-10-20T10:01:12.774Z"
      },
      {
        "duration": 11,
        "start_time": "2021-10-20T10:01:12.920Z"
      },
      {
        "duration": 279,
        "start_time": "2021-10-20T10:01:12.933Z"
      },
      {
        "duration": 36,
        "start_time": "2021-10-20T10:01:13.214Z"
      },
      {
        "duration": 6,
        "start_time": "2021-10-20T10:01:13.252Z"
      },
      {
        "duration": 662,
        "start_time": "2021-10-20T10:01:13.260Z"
      },
      {
        "duration": 106,
        "start_time": "2021-10-20T10:01:13.924Z"
      },
      {
        "duration": 3,
        "start_time": "2021-10-20T10:01:14.032Z"
      },
      {
        "duration": 39,
        "start_time": "2021-10-20T10:01:14.037Z"
      },
      {
        "duration": 10,
        "start_time": "2021-10-20T10:01:14.078Z"
      },
      {
        "duration": 16,
        "start_time": "2021-10-20T10:01:14.090Z"
      },
      {
        "duration": 16,
        "start_time": "2021-10-20T10:01:14.108Z"
      },
      {
        "duration": 27,
        "start_time": "2021-10-20T10:01:14.126Z"
      },
      {
        "duration": 35,
        "start_time": "2021-10-20T10:01:14.155Z"
      },
      {
        "duration": 20,
        "start_time": "2021-10-20T10:01:14.191Z"
      },
      {
        "duration": 25,
        "start_time": "2021-10-20T10:01:14.213Z"
      },
      {
        "duration": 33,
        "start_time": "2021-10-20T10:01:14.240Z"
      },
      {
        "duration": 37,
        "start_time": "2021-10-20T10:01:14.275Z"
      },
      {
        "duration": 348,
        "start_time": "2021-10-20T10:01:14.313Z"
      },
      {
        "duration": 24,
        "start_time": "2021-10-20T10:01:14.664Z"
      },
      {
        "duration": 8,
        "start_time": "2021-10-20T10:01:14.690Z"
      },
      {
        "duration": 7,
        "start_time": "2021-10-20T10:01:14.699Z"
      },
      {
        "duration": 14,
        "start_time": "2021-10-20T10:01:14.708Z"
      },
      {
        "duration": 36,
        "start_time": "2021-10-20T10:01:14.724Z"
      },
      {
        "duration": 5,
        "start_time": "2021-10-20T10:01:14.762Z"
      },
      {
        "duration": 67130,
        "start_time": "2021-10-20T10:01:14.769Z"
      },
      {
        "duration": 12,
        "start_time": "2021-10-20T10:02:21.901Z"
      },
      {
        "duration": 11,
        "start_time": "2021-10-20T10:02:21.915Z"
      },
      {
        "duration": 28,
        "start_time": "2021-10-20T10:02:21.928Z"
      },
      {
        "duration": 10,
        "start_time": "2021-10-20T10:02:21.958Z"
      },
      {
        "duration": 14,
        "start_time": "2021-10-20T10:02:21.970Z"
      },
      {
        "duration": 18,
        "start_time": "2021-10-20T10:02:21.986Z"
      },
      {
        "duration": 16,
        "start_time": "2021-10-20T10:02:22.006Z"
      },
      {
        "duration": 24,
        "start_time": "2021-10-20T10:02:22.024Z"
      },
      {
        "duration": 20,
        "start_time": "2021-10-20T10:02:22.050Z"
      },
      {
        "duration": 25,
        "start_time": "2021-10-20T10:02:22.071Z"
      },
      {
        "duration": 27,
        "start_time": "2021-10-20T10:02:22.098Z"
      },
      {
        "duration": 21,
        "start_time": "2021-10-20T10:02:22.126Z"
      },
      {
        "duration": 39,
        "start_time": "2021-10-20T10:02:22.149Z"
      },
      {
        "duration": 67667,
        "start_time": "2021-10-20T10:02:22.190Z"
      },
      {
        "duration": 3,
        "start_time": "2021-10-20T10:03:29.859Z"
      },
      {
        "duration": 20,
        "start_time": "2021-10-20T10:03:29.864Z"
      },
      {
        "duration": 8171,
        "start_time": "2021-10-20T10:03:29.886Z"
      },
      {
        "duration": -35382,
        "start_time": "2021-10-20T10:04:13.441Z"
      },
      {
        "duration": -35386,
        "start_time": "2021-10-20T10:04:13.446Z"
      },
      {
        "duration": -35389,
        "start_time": "2021-10-20T10:04:13.450Z"
      },
      {
        "duration": 6658,
        "start_time": "2021-10-20T10:04:55.127Z"
      },
      {
        "duration": 7,
        "start_time": "2021-10-20T10:05:09.879Z"
      },
      {
        "duration": 6,
        "start_time": "2021-10-20T10:05:19.104Z"
      },
      {
        "duration": 6,
        "start_time": "2021-10-20T10:05:23.244Z"
      },
      {
        "duration": 7953,
        "start_time": "2021-10-20T10:05:50.933Z"
      },
      {
        "duration": 1209,
        "start_time": "2021-10-20T10:06:00.775Z"
      },
      {
        "duration": 7,
        "start_time": "2021-10-20T10:06:01.986Z"
      },
      {
        "duration": 92,
        "start_time": "2021-10-20T10:06:01.995Z"
      },
      {
        "duration": 13,
        "start_time": "2021-10-20T10:06:02.088Z"
      },
      {
        "duration": 49,
        "start_time": "2021-10-20T10:06:02.103Z"
      },
      {
        "duration": 11,
        "start_time": "2021-10-20T10:06:02.154Z"
      },
      {
        "duration": 49,
        "start_time": "2021-10-20T10:06:02.167Z"
      },
      {
        "duration": 44,
        "start_time": "2021-10-20T10:06:02.220Z"
      },
      {
        "duration": 547,
        "start_time": "2021-10-20T10:06:02.267Z"
      },
      {
        "duration": 8,
        "start_time": "2021-10-20T10:06:02.817Z"
      },
      {
        "duration": 23,
        "start_time": "2021-10-20T10:06:02.827Z"
      },
      {
        "duration": 106,
        "start_time": "2021-10-20T10:06:02.852Z"
      },
      {
        "duration": 269,
        "start_time": "2021-10-20T10:06:02.961Z"
      },
      {
        "duration": 18,
        "start_time": "2021-10-20T10:06:03.233Z"
      },
      {
        "duration": 281,
        "start_time": "2021-10-20T10:06:03.253Z"
      },
      {
        "duration": 3,
        "start_time": "2021-10-20T10:06:03.535Z"
      },
      {
        "duration": 31,
        "start_time": "2021-10-20T10:06:03.539Z"
      },
      {
        "duration": 36,
        "start_time": "2021-10-20T10:06:03.572Z"
      },
      {
        "duration": 25,
        "start_time": "2021-10-20T10:06:03.610Z"
      },
      {
        "duration": 27,
        "start_time": "2021-10-20T10:06:03.637Z"
      },
      {
        "duration": 48,
        "start_time": "2021-10-20T10:06:03.665Z"
      },
      {
        "duration": 217,
        "start_time": "2021-10-20T10:06:03.715Z"
      },
      {
        "duration": 136,
        "start_time": "2021-10-20T10:06:03.936Z"
      },
      {
        "duration": 10,
        "start_time": "2021-10-20T10:06:04.074Z"
      },
      {
        "duration": 307,
        "start_time": "2021-10-20T10:06:04.086Z"
      },
      {
        "duration": 29,
        "start_time": "2021-10-20T10:06:04.395Z"
      },
      {
        "duration": 18,
        "start_time": "2021-10-20T10:06:04.426Z"
      },
      {
        "duration": 672,
        "start_time": "2021-10-20T10:06:04.446Z"
      },
      {
        "duration": 115,
        "start_time": "2021-10-20T10:06:05.120Z"
      },
      {
        "duration": 4,
        "start_time": "2021-10-20T10:06:05.245Z"
      },
      {
        "duration": 50,
        "start_time": "2021-10-20T10:06:05.250Z"
      },
      {
        "duration": 34,
        "start_time": "2021-10-20T10:06:05.302Z"
      },
      {
        "duration": 30,
        "start_time": "2021-10-20T10:06:05.338Z"
      },
      {
        "duration": 35,
        "start_time": "2021-10-20T10:06:05.369Z"
      },
      {
        "duration": 20,
        "start_time": "2021-10-20T10:06:05.405Z"
      },
      {
        "duration": 12,
        "start_time": "2021-10-20T10:06:05.426Z"
      },
      {
        "duration": 34,
        "start_time": "2021-10-20T10:06:05.440Z"
      },
      {
        "duration": 23,
        "start_time": "2021-10-20T10:06:05.475Z"
      },
      {
        "duration": 31,
        "start_time": "2021-10-20T10:06:05.500Z"
      },
      {
        "duration": 40,
        "start_time": "2021-10-20T10:06:05.533Z"
      },
      {
        "duration": 271,
        "start_time": "2021-10-20T10:06:05.575Z"
      },
      {
        "duration": 23,
        "start_time": "2021-10-20T10:06:05.849Z"
      },
      {
        "duration": 13,
        "start_time": "2021-10-20T10:06:05.874Z"
      },
      {
        "duration": 36,
        "start_time": "2021-10-20T10:06:05.889Z"
      },
      {
        "duration": 33,
        "start_time": "2021-10-20T10:06:05.928Z"
      },
      {
        "duration": 38,
        "start_time": "2021-10-20T10:06:05.963Z"
      },
      {
        "duration": 24,
        "start_time": "2021-10-20T10:06:06.003Z"
      },
      {
        "duration": 1249,
        "start_time": "2021-10-20T10:06:46.319Z"
      },
      {
        "duration": 7,
        "start_time": "2021-10-20T10:06:47.569Z"
      },
      {
        "duration": 52,
        "start_time": "2021-10-20T10:06:47.580Z"
      },
      {
        "duration": 12,
        "start_time": "2021-10-20T10:06:47.633Z"
      },
      {
        "duration": 37,
        "start_time": "2021-10-20T10:06:47.646Z"
      },
      {
        "duration": 14,
        "start_time": "2021-10-20T10:06:47.685Z"
      },
      {
        "duration": 12,
        "start_time": "2021-10-20T10:06:47.701Z"
      },
      {
        "duration": 20,
        "start_time": "2021-10-20T10:06:47.715Z"
      },
      {
        "duration": 526,
        "start_time": "2021-10-20T10:06:47.737Z"
      },
      {
        "duration": 8,
        "start_time": "2021-10-20T10:06:48.265Z"
      },
      {
        "duration": 8,
        "start_time": "2021-10-20T10:06:48.275Z"
      },
      {
        "duration": 17,
        "start_time": "2021-10-20T10:06:48.284Z"
      },
      {
        "duration": 254,
        "start_time": "2021-10-20T10:06:48.303Z"
      },
      {
        "duration": 10,
        "start_time": "2021-10-20T10:06:48.559Z"
      },
      {
        "duration": 271,
        "start_time": "2021-10-20T10:06:48.571Z"
      },
      {
        "duration": 3,
        "start_time": "2021-10-20T10:06:48.844Z"
      },
      {
        "duration": 13,
        "start_time": "2021-10-20T10:06:48.849Z"
      },
      {
        "duration": 11,
        "start_time": "2021-10-20T10:06:48.863Z"
      },
      {
        "duration": 21,
        "start_time": "2021-10-20T10:06:48.875Z"
      },
      {
        "duration": 7,
        "start_time": "2021-10-20T10:06:48.898Z"
      },
      {
        "duration": 18,
        "start_time": "2021-10-20T10:06:48.907Z"
      },
      {
        "duration": 179,
        "start_time": "2021-10-20T10:06:48.929Z"
      },
      {
        "duration": 145,
        "start_time": "2021-10-20T10:06:49.111Z"
      },
      {
        "duration": 13,
        "start_time": "2021-10-20T10:06:49.258Z"
      },
      {
        "duration": 291,
        "start_time": "2021-10-20T10:06:49.272Z"
      },
      {
        "duration": 27,
        "start_time": "2021-10-20T10:06:49.565Z"
      },
      {
        "duration": 4,
        "start_time": "2021-10-20T10:06:49.594Z"
      },
      {
        "duration": 674,
        "start_time": "2021-10-20T10:06:49.600Z"
      },
      {
        "duration": 119,
        "start_time": "2021-10-20T10:06:50.276Z"
      },
      {
        "duration": 3,
        "start_time": "2021-10-20T10:06:50.396Z"
      },
      {
        "duration": 29,
        "start_time": "2021-10-20T10:06:50.401Z"
      },
      {
        "duration": 25,
        "start_time": "2021-10-20T10:06:50.432Z"
      },
      {
        "duration": 18,
        "start_time": "2021-10-20T10:06:50.459Z"
      },
      {
        "duration": 24,
        "start_time": "2021-10-20T10:06:50.478Z"
      },
      {
        "duration": 45,
        "start_time": "2021-10-20T10:06:50.504Z"
      },
      {
        "duration": 21,
        "start_time": "2021-10-20T10:06:50.551Z"
      },
      {
        "duration": 20,
        "start_time": "2021-10-20T10:06:50.574Z"
      },
      {
        "duration": 18,
        "start_time": "2021-10-20T10:06:50.596Z"
      },
      {
        "duration": 17,
        "start_time": "2021-10-20T10:06:50.616Z"
      },
      {
        "duration": 22,
        "start_time": "2021-10-20T10:06:50.635Z"
      },
      {
        "duration": 39,
        "start_time": "2021-10-20T10:06:50.659Z"
      },
      {
        "duration": 269,
        "start_time": "2021-10-20T10:06:50.700Z"
      },
      {
        "duration": 17,
        "start_time": "2021-10-20T10:06:50.970Z"
      },
      {
        "duration": 17,
        "start_time": "2021-10-20T10:06:50.989Z"
      },
      {
        "duration": 9,
        "start_time": "2021-10-20T10:06:51.008Z"
      },
      {
        "duration": 16,
        "start_time": "2021-10-20T10:06:51.018Z"
      },
      {
        "duration": 36,
        "start_time": "2021-10-20T10:06:51.036Z"
      },
      {
        "duration": 11,
        "start_time": "2021-10-20T10:06:51.074Z"
      },
      {
        "duration": 66064,
        "start_time": "2021-10-20T10:06:51.087Z"
      },
      {
        "duration": 13,
        "start_time": "2021-10-20T10:07:57.152Z"
      },
      {
        "duration": 20,
        "start_time": "2021-10-20T10:07:57.166Z"
      },
      {
        "duration": 20,
        "start_time": "2021-10-20T10:07:57.188Z"
      },
      {
        "duration": 8,
        "start_time": "2021-10-20T10:07:57.210Z"
      },
      {
        "duration": 5,
        "start_time": "2021-10-20T10:07:57.220Z"
      },
      {
        "duration": 6,
        "start_time": "2021-10-20T10:07:57.226Z"
      },
      {
        "duration": 4,
        "start_time": "2021-10-20T10:07:57.234Z"
      },
      {
        "duration": 14,
        "start_time": "2021-10-20T10:07:57.240Z"
      },
      {
        "duration": 7,
        "start_time": "2021-10-20T10:07:57.257Z"
      },
      {
        "duration": 6,
        "start_time": "2021-10-20T10:07:57.266Z"
      },
      {
        "duration": 24,
        "start_time": "2021-10-20T10:07:57.274Z"
      },
      {
        "duration": 9,
        "start_time": "2021-10-20T10:07:57.300Z"
      },
      {
        "duration": 21,
        "start_time": "2021-10-20T10:07:57.311Z"
      },
      {
        "duration": 65022,
        "start_time": "2021-10-20T10:07:57.335Z"
      },
      {
        "duration": 4,
        "start_time": "2021-10-20T10:09:02.359Z"
      },
      {
        "duration": 34,
        "start_time": "2021-10-20T10:09:02.364Z"
      },
      {
        "duration": 7711,
        "start_time": "2021-10-20T10:09:02.400Z"
      },
      {
        "duration": -35384,
        "start_time": "2021-10-20T10:09:45.497Z"
      },
      {
        "duration": -35384,
        "start_time": "2021-10-20T10:09:45.499Z"
      },
      {
        "duration": -35388,
        "start_time": "2021-10-20T10:09:45.504Z"
      },
      {
        "duration": 1588,
        "start_time": "2021-10-20T10:13:02.103Z"
      },
      {
        "duration": 9,
        "start_time": "2021-10-20T10:13:03.694Z"
      },
      {
        "duration": 63,
        "start_time": "2021-10-20T10:13:03.706Z"
      },
      {
        "duration": 16,
        "start_time": "2021-10-20T10:13:03.772Z"
      },
      {
        "duration": 30,
        "start_time": "2021-10-20T10:13:03.790Z"
      },
      {
        "duration": 28,
        "start_time": "2021-10-20T10:13:03.822Z"
      },
      {
        "duration": 11,
        "start_time": "2021-10-20T10:13:03.851Z"
      },
      {
        "duration": 19,
        "start_time": "2021-10-20T10:13:03.864Z"
      },
      {
        "duration": 543,
        "start_time": "2021-10-20T10:13:03.885Z"
      },
      {
        "duration": 8,
        "start_time": "2021-10-20T10:13:04.430Z"
      },
      {
        "duration": 22,
        "start_time": "2021-10-20T10:13:04.439Z"
      },
      {
        "duration": 29,
        "start_time": "2021-10-20T10:13:04.463Z"
      },
      {
        "duration": 252,
        "start_time": "2021-10-20T10:13:04.494Z"
      },
      {
        "duration": 8,
        "start_time": "2021-10-20T10:13:04.747Z"
      },
      {
        "duration": 257,
        "start_time": "2021-10-20T10:13:04.757Z"
      },
      {
        "duration": 3,
        "start_time": "2021-10-20T10:13:05.016Z"
      },
      {
        "duration": 23,
        "start_time": "2021-10-20T10:13:05.021Z"
      },
      {
        "duration": 10,
        "start_time": "2021-10-20T10:13:05.046Z"
      },
      {
        "duration": 6,
        "start_time": "2021-10-20T10:13:05.058Z"
      },
      {
        "duration": 6,
        "start_time": "2021-10-20T10:13:05.066Z"
      },
      {
        "duration": 14,
        "start_time": "2021-10-20T10:13:05.074Z"
      },
      {
        "duration": 200,
        "start_time": "2021-10-20T10:13:05.090Z"
      },
      {
        "duration": 143,
        "start_time": "2021-10-20T10:13:05.294Z"
      },
      {
        "duration": 10,
        "start_time": "2021-10-20T10:13:05.444Z"
      },
      {
        "duration": 282,
        "start_time": "2021-10-20T10:13:05.456Z"
      },
      {
        "duration": 29,
        "start_time": "2021-10-20T10:13:05.744Z"
      },
      {
        "duration": 5,
        "start_time": "2021-10-20T10:13:05.775Z"
      },
      {
        "duration": 662,
        "start_time": "2021-10-20T10:13:05.782Z"
      },
      {
        "duration": 108,
        "start_time": "2021-10-20T10:13:06.446Z"
      },
      {
        "duration": 3,
        "start_time": "2021-10-20T10:13:06.555Z"
      },
      {
        "duration": 21,
        "start_time": "2021-10-20T10:13:06.561Z"
      },
      {
        "duration": 6,
        "start_time": "2021-10-20T10:13:06.584Z"
      },
      {
        "duration": 8,
        "start_time": "2021-10-20T10:13:06.592Z"
      },
      {
        "duration": 17,
        "start_time": "2021-10-20T10:13:06.602Z"
      },
      {
        "duration": 35,
        "start_time": "2021-10-20T10:13:06.621Z"
      },
      {
        "duration": 16,
        "start_time": "2021-10-20T10:13:06.658Z"
      },
      {
        "duration": 493,
        "start_time": "2021-10-20T10:13:06.676Z"
      },
      {
        "duration": -35402,
        "start_time": "2021-10-20T10:13:42.573Z"
      },
      {
        "duration": -35404,
        "start_time": "2021-10-20T10:13:42.577Z"
      },
      {
        "duration": -35405,
        "start_time": "2021-10-20T10:13:42.579Z"
      },
      {
        "duration": -35408,
        "start_time": "2021-10-20T10:13:42.583Z"
      },
      {
        "duration": -35409,
        "start_time": "2021-10-20T10:13:42.585Z"
      },
      {
        "duration": -35411,
        "start_time": "2021-10-20T10:13:42.588Z"
      },
      {
        "duration": -35412,
        "start_time": "2021-10-20T10:13:42.590Z"
      },
      {
        "duration": -35413,
        "start_time": "2021-10-20T10:13:42.592Z"
      },
      {
        "duration": -35414,
        "start_time": "2021-10-20T10:13:42.594Z"
      },
      {
        "duration": -35415,
        "start_time": "2021-10-20T10:13:42.596Z"
      },
      {
        "duration": -35417,
        "start_time": "2021-10-20T10:13:42.599Z"
      },
      {
        "duration": -35419,
        "start_time": "2021-10-20T10:13:42.602Z"
      },
      {
        "duration": -35420,
        "start_time": "2021-10-20T10:13:42.604Z"
      },
      {
        "duration": -35422,
        "start_time": "2021-10-20T10:13:42.607Z"
      },
      {
        "duration": -35424,
        "start_time": "2021-10-20T10:13:42.609Z"
      },
      {
        "duration": -35425,
        "start_time": "2021-10-20T10:13:42.611Z"
      },
      {
        "duration": -35427,
        "start_time": "2021-10-20T10:13:42.614Z"
      },
      {
        "duration": -35429,
        "start_time": "2021-10-20T10:13:42.617Z"
      },
      {
        "duration": -35430,
        "start_time": "2021-10-20T10:13:42.619Z"
      },
      {
        "duration": -35431,
        "start_time": "2021-10-20T10:13:42.621Z"
      },
      {
        "duration": -35433,
        "start_time": "2021-10-20T10:13:42.624Z"
      },
      {
        "duration": -35433,
        "start_time": "2021-10-20T10:13:42.626Z"
      },
      {
        "duration": -35434,
        "start_time": "2021-10-20T10:13:42.628Z"
      },
      {
        "duration": -35435,
        "start_time": "2021-10-20T10:13:42.631Z"
      },
      {
        "duration": -35436,
        "start_time": "2021-10-20T10:13:42.633Z"
      },
      {
        "duration": -35438,
        "start_time": "2021-10-20T10:13:42.636Z"
      },
      {
        "duration": -35446,
        "start_time": "2021-10-20T10:13:42.646Z"
      },
      {
        "duration": -35450,
        "start_time": "2021-10-20T10:13:42.651Z"
      },
      {
        "duration": -35450,
        "start_time": "2021-10-20T10:13:42.653Z"
      },
      {
        "duration": -35451,
        "start_time": "2021-10-20T10:13:42.655Z"
      },
      {
        "duration": -35453,
        "start_time": "2021-10-20T10:13:42.658Z"
      },
      {
        "duration": -35455,
        "start_time": "2021-10-20T10:13:42.661Z"
      },
      {
        "duration": 1273,
        "start_time": "2021-10-20T10:20:45.115Z"
      },
      {
        "duration": 8,
        "start_time": "2021-10-20T10:20:46.390Z"
      },
      {
        "duration": 48,
        "start_time": "2021-10-20T10:20:46.400Z"
      },
      {
        "duration": 11,
        "start_time": "2021-10-20T10:20:46.450Z"
      },
      {
        "duration": 23,
        "start_time": "2021-10-20T10:20:46.462Z"
      },
      {
        "duration": 12,
        "start_time": "2021-10-20T10:20:46.487Z"
      },
      {
        "duration": 11,
        "start_time": "2021-10-20T10:20:46.500Z"
      },
      {
        "duration": 37,
        "start_time": "2021-10-20T10:20:46.513Z"
      },
      {
        "duration": 503,
        "start_time": "2021-10-20T10:20:46.551Z"
      },
      {
        "duration": 7,
        "start_time": "2021-10-20T10:20:47.056Z"
      },
      {
        "duration": 8,
        "start_time": "2021-10-20T10:20:47.065Z"
      },
      {
        "duration": 11,
        "start_time": "2021-10-20T10:20:47.075Z"
      },
      {
        "duration": 273,
        "start_time": "2021-10-20T10:20:47.088Z"
      },
      {
        "duration": 7,
        "start_time": "2021-10-20T10:20:47.363Z"
      },
      {
        "duration": 263,
        "start_time": "2021-10-20T10:20:47.371Z"
      },
      {
        "duration": 2,
        "start_time": "2021-10-20T10:20:47.636Z"
      },
      {
        "duration": 12,
        "start_time": "2021-10-20T10:20:47.639Z"
      },
      {
        "duration": 8,
        "start_time": "2021-10-20T10:20:47.652Z"
      },
      {
        "duration": 4,
        "start_time": "2021-10-20T10:20:47.662Z"
      },
      {
        "duration": 8,
        "start_time": "2021-10-20T10:20:47.668Z"
      },
      {
        "duration": 11,
        "start_time": "2021-10-20T10:20:47.677Z"
      },
      {
        "duration": 205,
        "start_time": "2021-10-20T10:20:47.689Z"
      },
      {
        "duration": 145,
        "start_time": "2021-10-20T10:20:47.899Z"
      },
      {
        "duration": 10,
        "start_time": "2021-10-20T10:20:48.047Z"
      },
      {
        "duration": 282,
        "start_time": "2021-10-20T10:20:48.059Z"
      },
      {
        "duration": 28,
        "start_time": "2021-10-20T10:20:48.344Z"
      },
      {
        "duration": 5,
        "start_time": "2021-10-20T10:20:48.373Z"
      },
      {
        "duration": 689,
        "start_time": "2021-10-20T10:20:48.380Z"
      },
      {
        "duration": 113,
        "start_time": "2021-10-20T10:20:49.071Z"
      },
      {
        "duration": 3,
        "start_time": "2021-10-20T10:20:49.186Z"
      },
      {
        "duration": 16,
        "start_time": "2021-10-20T10:20:49.191Z"
      },
      {
        "duration": 9,
        "start_time": "2021-10-20T10:20:49.209Z"
      },
      {
        "duration": 9,
        "start_time": "2021-10-20T10:20:49.219Z"
      },
      {
        "duration": 22,
        "start_time": "2021-10-20T10:20:49.229Z"
      },
      {
        "duration": 12,
        "start_time": "2021-10-20T10:20:49.252Z"
      },
      {
        "duration": 12,
        "start_time": "2021-10-20T10:20:49.265Z"
      },
      {
        "duration": 16,
        "start_time": "2021-10-20T10:20:49.278Z"
      },
      {
        "duration": 5,
        "start_time": "2021-10-20T10:20:49.296Z"
      },
      {
        "duration": 8,
        "start_time": "2021-10-20T10:20:49.303Z"
      },
      {
        "duration": 39,
        "start_time": "2021-10-20T10:20:49.312Z"
      },
      {
        "duration": 22,
        "start_time": "2021-10-20T10:20:49.353Z"
      },
      {
        "duration": 318,
        "start_time": "2021-10-20T10:20:49.377Z"
      },
      {
        "duration": 15,
        "start_time": "2021-10-20T10:20:49.697Z"
      },
      {
        "duration": 5,
        "start_time": "2021-10-20T10:20:49.714Z"
      },
      {
        "duration": 23,
        "start_time": "2021-10-20T10:20:49.721Z"
      },
      {
        "duration": 10,
        "start_time": "2021-10-20T10:20:49.746Z"
      },
      {
        "duration": 16,
        "start_time": "2021-10-20T10:20:49.757Z"
      },
      {
        "duration": 7,
        "start_time": "2021-10-20T10:20:49.775Z"
      },
      {
        "duration": 46133,
        "start_time": "2021-10-20T10:20:49.783Z"
      },
      {
        "duration": 11,
        "start_time": "2021-10-20T10:21:35.917Z"
      },
      {
        "duration": 22,
        "start_time": "2021-10-20T10:21:35.929Z"
      },
      {
        "duration": 19,
        "start_time": "2021-10-20T10:21:35.953Z"
      },
      {
        "duration": 16,
        "start_time": "2021-10-20T10:21:35.973Z"
      },
      {
        "duration": 20,
        "start_time": "2021-10-20T10:21:35.990Z"
      },
      {
        "duration": 31,
        "start_time": "2021-10-20T10:21:36.012Z"
      },
      {
        "duration": 23,
        "start_time": "2021-10-20T10:21:36.044Z"
      },
      {
        "duration": 21,
        "start_time": "2021-10-20T10:21:36.069Z"
      },
      {
        "duration": 9,
        "start_time": "2021-10-20T10:21:36.091Z"
      },
      {
        "duration": 16,
        "start_time": "2021-10-20T10:21:36.102Z"
      },
      {
        "duration": 18,
        "start_time": "2021-10-20T10:21:36.120Z"
      },
      {
        "duration": 17,
        "start_time": "2021-10-20T10:21:36.140Z"
      },
      {
        "duration": 29,
        "start_time": "2021-10-20T10:21:36.159Z"
      },
      {
        "duration": 1199,
        "start_time": "2021-10-20T10:22:00.172Z"
      },
      {
        "duration": 8,
        "start_time": "2021-10-20T10:22:01.374Z"
      },
      {
        "duration": 59,
        "start_time": "2021-10-20T10:22:01.384Z"
      },
      {
        "duration": 13,
        "start_time": "2021-10-20T10:22:01.446Z"
      },
      {
        "duration": 40,
        "start_time": "2021-10-20T10:22:01.461Z"
      },
      {
        "duration": 32,
        "start_time": "2021-10-20T10:22:01.503Z"
      },
      {
        "duration": 33,
        "start_time": "2021-10-20T10:22:01.537Z"
      },
      {
        "duration": 33,
        "start_time": "2021-10-20T10:22:01.574Z"
      },
      {
        "duration": 520,
        "start_time": "2021-10-20T10:22:01.610Z"
      },
      {
        "duration": 7,
        "start_time": "2021-10-20T10:22:02.132Z"
      },
      {
        "duration": 54,
        "start_time": "2021-10-20T10:22:02.141Z"
      },
      {
        "duration": 36,
        "start_time": "2021-10-20T10:22:02.197Z"
      },
      {
        "duration": 244,
        "start_time": "2021-10-20T10:22:02.234Z"
      },
      {
        "duration": 8,
        "start_time": "2021-10-20T10:22:02.480Z"
      },
      {
        "duration": 261,
        "start_time": "2021-10-20T10:22:02.490Z"
      },
      {
        "duration": 3,
        "start_time": "2021-10-20T10:22:02.753Z"
      },
      {
        "duration": 63,
        "start_time": "2021-10-20T10:22:02.758Z"
      },
      {
        "duration": 15,
        "start_time": "2021-10-20T10:22:02.823Z"
      },
      {
        "duration": 19,
        "start_time": "2021-10-20T10:22:02.839Z"
      },
      {
        "duration": 10,
        "start_time": "2021-10-20T10:22:02.860Z"
      },
      {
        "duration": 10,
        "start_time": "2021-10-20T10:22:02.872Z"
      },
      {
        "duration": 178,
        "start_time": "2021-10-20T10:22:02.883Z"
      },
      {
        "duration": 144,
        "start_time": "2021-10-20T10:22:03.065Z"
      },
      {
        "duration": 10,
        "start_time": "2021-10-20T10:22:03.212Z"
      },
      {
        "duration": 277,
        "start_time": "2021-10-20T10:22:03.224Z"
      },
      {
        "duration": 27,
        "start_time": "2021-10-20T10:22:03.503Z"
      },
      {
        "duration": 14,
        "start_time": "2021-10-20T10:22:03.532Z"
      },
      {
        "duration": 635,
        "start_time": "2021-10-20T10:22:03.548Z"
      },
      {
        "duration": 113,
        "start_time": "2021-10-20T10:22:04.184Z"
      },
      {
        "duration": 4,
        "start_time": "2021-10-20T10:22:04.299Z"
      },
      {
        "duration": 24,
        "start_time": "2021-10-20T10:22:04.304Z"
      },
      {
        "duration": 12,
        "start_time": "2021-10-20T10:22:04.330Z"
      },
      {
        "duration": 11,
        "start_time": "2021-10-20T10:22:04.344Z"
      },
      {
        "duration": 13,
        "start_time": "2021-10-20T10:22:04.357Z"
      },
      {
        "duration": 12,
        "start_time": "2021-10-20T10:22:04.372Z"
      },
      {
        "duration": 11,
        "start_time": "2021-10-20T10:22:04.386Z"
      },
      {
        "duration": 18,
        "start_time": "2021-10-20T10:22:04.399Z"
      },
      {
        "duration": 28,
        "start_time": "2021-10-20T10:22:04.419Z"
      },
      {
        "duration": 8,
        "start_time": "2021-10-20T10:22:04.449Z"
      },
      {
        "duration": 13,
        "start_time": "2021-10-20T10:22:04.458Z"
      },
      {
        "duration": 23,
        "start_time": "2021-10-20T10:22:04.473Z"
      },
      {
        "duration": 271,
        "start_time": "2021-10-20T10:22:04.498Z"
      },
      {
        "duration": 15,
        "start_time": "2021-10-20T10:22:04.771Z"
      },
      {
        "duration": 5,
        "start_time": "2021-10-20T10:22:04.788Z"
      },
      {
        "duration": 8,
        "start_time": "2021-10-20T10:22:04.795Z"
      },
      {
        "duration": 8,
        "start_time": "2021-10-20T10:22:04.805Z"
      },
      {
        "duration": 32,
        "start_time": "2021-10-20T10:22:04.815Z"
      },
      {
        "duration": 8,
        "start_time": "2021-10-20T10:22:04.849Z"
      },
      {
        "duration": 1207,
        "start_time": "2021-10-20T10:22:46.188Z"
      },
      {
        "duration": 6,
        "start_time": "2021-10-20T10:22:47.397Z"
      },
      {
        "duration": 50,
        "start_time": "2021-10-20T10:22:47.405Z"
      },
      {
        "duration": 10,
        "start_time": "2021-10-20T10:22:47.457Z"
      },
      {
        "duration": 42,
        "start_time": "2021-10-20T10:22:47.469Z"
      },
      {
        "duration": 23,
        "start_time": "2021-10-20T10:22:47.513Z"
      },
      {
        "duration": 26,
        "start_time": "2021-10-20T10:22:47.537Z"
      },
      {
        "duration": 30,
        "start_time": "2021-10-20T10:22:47.565Z"
      },
      {
        "duration": 529,
        "start_time": "2021-10-20T10:22:47.597Z"
      },
      {
        "duration": 8,
        "start_time": "2021-10-20T10:22:48.128Z"
      },
      {
        "duration": 14,
        "start_time": "2021-10-20T10:22:48.138Z"
      },
      {
        "duration": 22,
        "start_time": "2021-10-20T10:22:48.154Z"
      },
      {
        "duration": 236,
        "start_time": "2021-10-20T10:22:48.179Z"
      },
      {
        "duration": 7,
        "start_time": "2021-10-20T10:22:48.416Z"
      },
      {
        "duration": 253,
        "start_time": "2021-10-20T10:22:48.424Z"
      },
      {
        "duration": 2,
        "start_time": "2021-10-20T10:22:48.678Z"
      },
      {
        "duration": 18,
        "start_time": "2021-10-20T10:22:48.681Z"
      },
      {
        "duration": 28,
        "start_time": "2021-10-20T10:22:48.701Z"
      },
      {
        "duration": 19,
        "start_time": "2021-10-20T10:22:48.730Z"
      },
      {
        "duration": 17,
        "start_time": "2021-10-20T10:22:48.750Z"
      },
      {
        "duration": 21,
        "start_time": "2021-10-20T10:22:48.769Z"
      },
      {
        "duration": 182,
        "start_time": "2021-10-20T10:22:48.791Z"
      },
      {
        "duration": 130,
        "start_time": "2021-10-20T10:22:48.977Z"
      },
      {
        "duration": 9,
        "start_time": "2021-10-20T10:22:49.109Z"
      },
      {
        "duration": 278,
        "start_time": "2021-10-20T10:22:49.119Z"
      },
      {
        "duration": 26,
        "start_time": "2021-10-20T10:22:49.399Z"
      },
      {
        "duration": 18,
        "start_time": "2021-10-20T10:22:49.426Z"
      },
      {
        "duration": 627,
        "start_time": "2021-10-20T10:22:49.446Z"
      },
      {
        "duration": 102,
        "start_time": "2021-10-20T10:22:50.075Z"
      },
      {
        "duration": 2,
        "start_time": "2021-10-20T10:22:50.179Z"
      },
      {
        "duration": 26,
        "start_time": "2021-10-20T10:22:50.183Z"
      },
      {
        "duration": 10,
        "start_time": "2021-10-20T10:22:50.210Z"
      },
      {
        "duration": 21,
        "start_time": "2021-10-20T10:22:50.222Z"
      },
      {
        "duration": 19,
        "start_time": "2021-10-20T10:22:50.244Z"
      },
      {
        "duration": 18,
        "start_time": "2021-10-20T10:22:50.264Z"
      },
      {
        "duration": 10,
        "start_time": "2021-10-20T10:22:50.284Z"
      },
      {
        "duration": 24,
        "start_time": "2021-10-20T10:22:50.296Z"
      },
      {
        "duration": 30,
        "start_time": "2021-10-20T10:22:50.322Z"
      },
      {
        "duration": 19,
        "start_time": "2021-10-20T10:22:50.354Z"
      },
      {
        "duration": 25,
        "start_time": "2021-10-20T10:22:50.375Z"
      },
      {
        "duration": 239,
        "start_time": "2021-10-20T10:22:50.401Z"
      },
      {
        "duration": 15,
        "start_time": "2021-10-20T10:22:50.644Z"
      },
      {
        "duration": 6,
        "start_time": "2021-10-20T10:22:50.660Z"
      },
      {
        "duration": 12,
        "start_time": "2021-10-20T10:22:50.667Z"
      },
      {
        "duration": 11,
        "start_time": "2021-10-20T10:22:50.681Z"
      },
      {
        "duration": 21,
        "start_time": "2021-10-20T10:22:50.694Z"
      },
      {
        "duration": 16,
        "start_time": "2021-10-20T10:22:50.717Z"
      },
      {
        "duration": 49542,
        "start_time": "2021-10-20T10:22:50.734Z"
      },
      {
        "duration": 12,
        "start_time": "2021-10-20T10:23:40.278Z"
      },
      {
        "duration": 21,
        "start_time": "2021-10-20T10:23:40.292Z"
      },
      {
        "duration": 36,
        "start_time": "2021-10-20T10:23:40.314Z"
      },
      {
        "duration": 14,
        "start_time": "2021-10-20T10:23:40.351Z"
      },
      {
        "duration": 9,
        "start_time": "2021-10-20T10:23:40.367Z"
      },
      {
        "duration": 6,
        "start_time": "2021-10-20T10:23:40.377Z"
      },
      {
        "duration": 7,
        "start_time": "2021-10-20T10:23:40.385Z"
      },
      {
        "duration": 19,
        "start_time": "2021-10-20T10:23:40.394Z"
      },
      {
        "duration": 8,
        "start_time": "2021-10-20T10:23:40.415Z"
      },
      {
        "duration": 10,
        "start_time": "2021-10-20T10:23:40.424Z"
      },
      {
        "duration": 29,
        "start_time": "2021-10-20T10:23:40.435Z"
      },
      {
        "duration": 6,
        "start_time": "2021-10-20T10:23:40.466Z"
      },
      {
        "duration": 20,
        "start_time": "2021-10-20T10:23:40.473Z"
      },
      {
        "duration": 1444,
        "start_time": "2021-10-20T10:23:48.212Z"
      },
      {
        "duration": 7,
        "start_time": "2021-10-20T10:23:49.658Z"
      },
      {
        "duration": 56,
        "start_time": "2021-10-20T10:23:49.670Z"
      },
      {
        "duration": 22,
        "start_time": "2021-10-20T10:23:49.728Z"
      },
      {
        "duration": 35,
        "start_time": "2021-10-20T10:23:49.751Z"
      },
      {
        "duration": 13,
        "start_time": "2021-10-20T10:23:49.788Z"
      },
      {
        "duration": 24,
        "start_time": "2021-10-20T10:23:49.804Z"
      },
      {
        "duration": 26,
        "start_time": "2021-10-20T10:23:49.830Z"
      },
      {
        "duration": 1512,
        "start_time": "2021-10-20T10:23:49.858Z"
      },
      {
        "duration": 7,
        "start_time": "2021-10-20T10:23:51.372Z"
      },
      {
        "duration": 13,
        "start_time": "2021-10-20T10:23:51.381Z"
      },
      {
        "duration": 15,
        "start_time": "2021-10-20T10:23:51.395Z"
      },
      {
        "duration": 290,
        "start_time": "2021-10-20T10:23:51.413Z"
      },
      {
        "duration": 10,
        "start_time": "2021-10-20T10:23:51.705Z"
      },
      {
        "duration": 283,
        "start_time": "2021-10-20T10:23:51.717Z"
      },
      {
        "duration": 2,
        "start_time": "2021-10-20T10:23:52.002Z"
      },
      {
        "duration": 16,
        "start_time": "2021-10-20T10:23:52.006Z"
      },
      {
        "duration": 30,
        "start_time": "2021-10-20T10:23:52.024Z"
      },
      {
        "duration": 4,
        "start_time": "2021-10-20T10:23:52.056Z"
      },
      {
        "duration": 7,
        "start_time": "2021-10-20T10:23:52.063Z"
      },
      {
        "duration": 11,
        "start_time": "2021-10-20T10:23:52.071Z"
      },
      {
        "duration": 213,
        "start_time": "2021-10-20T10:23:52.086Z"
      },
      {
        "duration": 157,
        "start_time": "2021-10-20T10:23:52.301Z"
      },
      {
        "duration": 14,
        "start_time": "2021-10-20T10:23:52.460Z"
      },
      {
        "duration": 312,
        "start_time": "2021-10-20T10:23:52.476Z"
      },
      {
        "duration": 37,
        "start_time": "2021-10-20T10:23:52.790Z"
      },
      {
        "duration": 7,
        "start_time": "2021-10-20T10:23:52.829Z"
      },
      {
        "duration": 1081,
        "start_time": "2021-10-20T10:23:52.838Z"
      },
      {
        "duration": 191,
        "start_time": "2021-10-20T10:23:53.921Z"
      },
      {
        "duration": 3,
        "start_time": "2021-10-20T10:23:54.115Z"
      },
      {
        "duration": 15,
        "start_time": "2021-10-20T10:23:54.120Z"
      },
      {
        "duration": 7,
        "start_time": "2021-10-20T10:23:54.137Z"
      },
      {
        "duration": 7,
        "start_time": "2021-10-20T10:23:54.146Z"
      },
      {
        "duration": 12,
        "start_time": "2021-10-20T10:23:54.154Z"
      },
      {
        "duration": 11,
        "start_time": "2021-10-20T10:23:54.168Z"
      },
      {
        "duration": 12,
        "start_time": "2021-10-20T10:23:54.181Z"
      },
      {
        "duration": 11,
        "start_time": "2021-10-20T10:23:54.195Z"
      },
      {
        "duration": 41,
        "start_time": "2021-10-20T10:23:54.208Z"
      },
      {
        "duration": 12,
        "start_time": "2021-10-20T10:23:54.251Z"
      },
      {
        "duration": 23,
        "start_time": "2021-10-20T10:23:54.265Z"
      },
      {
        "duration": 269,
        "start_time": "2021-10-20T10:23:54.290Z"
      },
      {
        "duration": 18,
        "start_time": "2021-10-20T10:23:54.561Z"
      },
      {
        "duration": 7,
        "start_time": "2021-10-20T10:23:54.581Z"
      },
      {
        "duration": 5,
        "start_time": "2021-10-20T10:23:54.590Z"
      },
      {
        "duration": 8,
        "start_time": "2021-10-20T10:23:54.597Z"
      },
      {
        "duration": 46,
        "start_time": "2021-10-20T10:23:54.606Z"
      },
      {
        "duration": 5,
        "start_time": "2021-10-20T10:23:54.654Z"
      },
      {
        "duration": 1295,
        "start_time": "2021-10-20T10:24:34.892Z"
      },
      {
        "duration": 7,
        "start_time": "2021-10-20T10:24:36.189Z"
      },
      {
        "duration": 52,
        "start_time": "2021-10-20T10:24:36.198Z"
      },
      {
        "duration": 11,
        "start_time": "2021-10-20T10:24:36.252Z"
      },
      {
        "duration": 32,
        "start_time": "2021-10-20T10:24:36.265Z"
      },
      {
        "duration": 25,
        "start_time": "2021-10-20T10:24:36.299Z"
      },
      {
        "duration": 17,
        "start_time": "2021-10-20T10:24:36.325Z"
      },
      {
        "duration": 32,
        "start_time": "2021-10-20T10:24:36.345Z"
      },
      {
        "duration": 526,
        "start_time": "2021-10-20T10:24:36.379Z"
      },
      {
        "duration": 8,
        "start_time": "2021-10-20T10:24:36.907Z"
      },
      {
        "duration": 32,
        "start_time": "2021-10-20T10:24:36.916Z"
      },
      {
        "duration": 34,
        "start_time": "2021-10-20T10:24:36.950Z"
      },
      {
        "duration": 263,
        "start_time": "2021-10-20T10:24:36.986Z"
      },
      {
        "duration": 8,
        "start_time": "2021-10-20T10:24:37.251Z"
      },
      {
        "duration": 270,
        "start_time": "2021-10-20T10:24:37.260Z"
      },
      {
        "duration": 13,
        "start_time": "2021-10-20T10:24:37.531Z"
      },
      {
        "duration": 23,
        "start_time": "2021-10-20T10:24:37.546Z"
      },
      {
        "duration": 28,
        "start_time": "2021-10-20T10:24:37.571Z"
      },
      {
        "duration": 19,
        "start_time": "2021-10-20T10:24:37.601Z"
      },
      {
        "duration": 21,
        "start_time": "2021-10-20T10:24:37.621Z"
      },
      {
        "duration": 26,
        "start_time": "2021-10-20T10:24:37.644Z"
      },
      {
        "duration": 215,
        "start_time": "2021-10-20T10:24:37.672Z"
      },
      {
        "duration": 142,
        "start_time": "2021-10-20T10:24:37.891Z"
      },
      {
        "duration": 16,
        "start_time": "2021-10-20T10:24:38.036Z"
      },
      {
        "duration": 308,
        "start_time": "2021-10-20T10:24:38.054Z"
      },
      {
        "duration": 28,
        "start_time": "2021-10-20T10:24:38.364Z"
      },
      {
        "duration": 24,
        "start_time": "2021-10-20T10:24:38.394Z"
      },
      {
        "duration": 675,
        "start_time": "2021-10-20T10:24:38.420Z"
      },
      {
        "duration": 114,
        "start_time": "2021-10-20T10:24:39.096Z"
      },
      {
        "duration": 3,
        "start_time": "2021-10-20T10:24:39.212Z"
      },
      {
        "duration": 36,
        "start_time": "2021-10-20T10:24:39.217Z"
      },
      {
        "duration": 30,
        "start_time": "2021-10-20T10:24:39.255Z"
      },
      {
        "duration": 35,
        "start_time": "2021-10-20T10:24:39.286Z"
      },
      {
        "duration": 28,
        "start_time": "2021-10-20T10:24:39.323Z"
      },
      {
        "duration": 26,
        "start_time": "2021-10-20T10:24:39.352Z"
      },
      {
        "duration": 30,
        "start_time": "2021-10-20T10:24:39.379Z"
      },
      {
        "duration": 34,
        "start_time": "2021-10-20T10:24:39.411Z"
      },
      {
        "duration": 33,
        "start_time": "2021-10-20T10:24:39.447Z"
      },
      {
        "duration": 14,
        "start_time": "2021-10-20T10:24:39.482Z"
      },
      {
        "duration": 43,
        "start_time": "2021-10-20T10:24:39.498Z"
      },
      {
        "duration": 266,
        "start_time": "2021-10-20T10:24:39.543Z"
      },
      {
        "duration": 17,
        "start_time": "2021-10-20T10:24:39.810Z"
      },
      {
        "duration": 29,
        "start_time": "2021-10-20T10:24:39.829Z"
      },
      {
        "duration": 24,
        "start_time": "2021-10-20T10:24:39.860Z"
      },
      {
        "duration": 32,
        "start_time": "2021-10-20T10:24:39.885Z"
      },
      {
        "duration": 45,
        "start_time": "2021-10-20T10:24:39.919Z"
      },
      {
        "duration": 35,
        "start_time": "2021-10-20T10:24:39.966Z"
      },
      {
        "duration": 65924,
        "start_time": "2021-10-20T10:24:40.003Z"
      },
      {
        "duration": 11,
        "start_time": "2021-10-20T10:25:45.929Z"
      },
      {
        "duration": 8,
        "start_time": "2021-10-20T10:25:45.942Z"
      },
      {
        "duration": 21,
        "start_time": "2021-10-20T10:25:45.951Z"
      },
      {
        "duration": 3,
        "start_time": "2021-10-20T10:25:45.974Z"
      },
      {
        "duration": 6,
        "start_time": "2021-10-20T10:25:45.978Z"
      },
      {
        "duration": 5,
        "start_time": "2021-10-20T10:25:45.986Z"
      },
      {
        "duration": 16,
        "start_time": "2021-10-20T10:25:45.993Z"
      },
      {
        "duration": 17,
        "start_time": "2021-10-20T10:25:46.010Z"
      },
      {
        "duration": 7,
        "start_time": "2021-10-20T10:25:46.029Z"
      },
      {
        "duration": 9,
        "start_time": "2021-10-20T10:25:46.037Z"
      },
      {
        "duration": 23,
        "start_time": "2021-10-20T10:25:46.048Z"
      },
      {
        "duration": 12,
        "start_time": "2021-10-20T10:25:46.073Z"
      },
      {
        "duration": 25,
        "start_time": "2021-10-20T10:25:46.087Z"
      },
      {
        "duration": 1256,
        "start_time": "2021-10-20T10:26:56.016Z"
      },
      {
        "duration": 7,
        "start_time": "2021-10-20T10:26:57.274Z"
      },
      {
        "duration": 48,
        "start_time": "2021-10-20T10:26:57.283Z"
      },
      {
        "duration": 12,
        "start_time": "2021-10-20T10:26:57.333Z"
      },
      {
        "duration": 32,
        "start_time": "2021-10-20T10:26:57.347Z"
      },
      {
        "duration": 9,
        "start_time": "2021-10-20T10:26:57.381Z"
      },
      {
        "duration": 13,
        "start_time": "2021-10-20T10:26:57.391Z"
      },
      {
        "duration": 23,
        "start_time": "2021-10-20T10:26:57.406Z"
      },
      {
        "duration": 503,
        "start_time": "2021-10-20T10:26:57.444Z"
      },
      {
        "duration": 6,
        "start_time": "2021-10-20T10:26:57.949Z"
      },
      {
        "duration": 11,
        "start_time": "2021-10-20T10:26:57.957Z"
      },
      {
        "duration": 17,
        "start_time": "2021-10-20T10:26:57.970Z"
      },
      {
        "duration": 240,
        "start_time": "2021-10-20T10:26:57.988Z"
      },
      {
        "duration": 16,
        "start_time": "2021-10-20T10:26:58.229Z"
      },
      {
        "duration": 249,
        "start_time": "2021-10-20T10:26:58.246Z"
      },
      {
        "duration": 2,
        "start_time": "2021-10-20T10:26:58.497Z"
      },
      {
        "duration": 10,
        "start_time": "2021-10-20T10:26:58.502Z"
      },
      {
        "duration": 9,
        "start_time": "2021-10-20T10:26:58.513Z"
      },
      {
        "duration": 22,
        "start_time": "2021-10-20T10:26:58.524Z"
      },
      {
        "duration": 18,
        "start_time": "2021-10-20T10:26:58.548Z"
      },
      {
        "duration": 16,
        "start_time": "2021-10-20T10:26:58.568Z"
      },
      {
        "duration": 189,
        "start_time": "2021-10-20T10:26:58.586Z"
      },
      {
        "duration": 132,
        "start_time": "2021-10-20T10:26:58.779Z"
      },
      {
        "duration": 10,
        "start_time": "2021-10-20T10:26:58.913Z"
      },
      {
        "duration": 273,
        "start_time": "2021-10-20T10:26:58.924Z"
      },
      {
        "duration": 26,
        "start_time": "2021-10-20T10:26:59.199Z"
      },
      {
        "duration": 5,
        "start_time": "2021-10-20T10:26:59.227Z"
      },
      {
        "duration": 651,
        "start_time": "2021-10-20T10:26:59.233Z"
      },
      {
        "duration": 112,
        "start_time": "2021-10-20T10:26:59.886Z"
      },
      {
        "duration": 3,
        "start_time": "2021-10-20T10:27:00.000Z"
      },
      {
        "duration": 17,
        "start_time": "2021-10-20T10:27:00.004Z"
      },
      {
        "duration": 23,
        "start_time": "2021-10-20T10:27:00.023Z"
      },
      {
        "duration": 6,
        "start_time": "2021-10-20T10:27:00.048Z"
      },
      {
        "duration": 31,
        "start_time": "2021-10-20T10:27:00.056Z"
      },
      {
        "duration": 17,
        "start_time": "2021-10-20T10:27:00.089Z"
      },
      {
        "duration": 13,
        "start_time": "2021-10-20T10:27:00.107Z"
      },
      {
        "duration": 24,
        "start_time": "2021-10-20T10:27:00.121Z"
      },
      {
        "duration": 11,
        "start_time": "2021-10-20T10:27:00.147Z"
      },
      {
        "duration": 16,
        "start_time": "2021-10-20T10:27:00.159Z"
      },
      {
        "duration": 23,
        "start_time": "2021-10-20T10:27:00.177Z"
      },
      {
        "duration": 258,
        "start_time": "2021-10-20T10:27:00.202Z"
      },
      {
        "duration": 16,
        "start_time": "2021-10-20T10:27:00.462Z"
      },
      {
        "duration": 8,
        "start_time": "2021-10-20T10:27:00.480Z"
      },
      {
        "duration": 12,
        "start_time": "2021-10-20T10:27:00.490Z"
      },
      {
        "duration": 14,
        "start_time": "2021-10-20T10:27:00.504Z"
      },
      {
        "duration": 29,
        "start_time": "2021-10-20T10:27:00.520Z"
      },
      {
        "duration": 10,
        "start_time": "2021-10-20T10:27:00.551Z"
      },
      {
        "duration": 1267,
        "start_time": "2021-10-20T10:27:44.251Z"
      },
      {
        "duration": 6,
        "start_time": "2021-10-20T10:27:45.520Z"
      },
      {
        "duration": 58,
        "start_time": "2021-10-20T10:27:45.528Z"
      },
      {
        "duration": 10,
        "start_time": "2021-10-20T10:27:45.588Z"
      },
      {
        "duration": 28,
        "start_time": "2021-10-20T10:27:45.600Z"
      },
      {
        "duration": 28,
        "start_time": "2021-10-20T10:27:45.630Z"
      },
      {
        "duration": 17,
        "start_time": "2021-10-20T10:27:45.660Z"
      },
      {
        "duration": 31,
        "start_time": "2021-10-20T10:27:45.679Z"
      },
      {
        "duration": 660,
        "start_time": "2021-10-20T10:27:45.712Z"
      },
      {
        "duration": 10,
        "start_time": "2021-10-20T10:27:46.375Z"
      },
      {
        "duration": 23,
        "start_time": "2021-10-20T10:27:46.386Z"
      },
      {
        "duration": 20,
        "start_time": "2021-10-20T10:27:46.411Z"
      },
      {
        "duration": 248,
        "start_time": "2021-10-20T10:27:46.432Z"
      },
      {
        "duration": 8,
        "start_time": "2021-10-20T10:27:46.681Z"
      },
      {
        "duration": 254,
        "start_time": "2021-10-20T10:27:46.690Z"
      },
      {
        "duration": 2,
        "start_time": "2021-10-20T10:27:46.946Z"
      },
      {
        "duration": 21,
        "start_time": "2021-10-20T10:27:46.949Z"
      },
      {
        "duration": 12,
        "start_time": "2021-10-20T10:27:46.972Z"
      },
      {
        "duration": 21,
        "start_time": "2021-10-20T10:27:46.986Z"
      },
      {
        "duration": 13,
        "start_time": "2021-10-20T10:27:47.009Z"
      },
      {
        "duration": 19,
        "start_time": "2021-10-20T10:27:47.023Z"
      },
      {
        "duration": 214,
        "start_time": "2021-10-20T10:27:47.043Z"
      },
      {
        "duration": 144,
        "start_time": "2021-10-20T10:27:47.262Z"
      },
      {
        "duration": 9,
        "start_time": "2021-10-20T10:27:47.408Z"
      },
      {
        "duration": 289,
        "start_time": "2021-10-20T10:27:47.419Z"
      },
      {
        "duration": 36,
        "start_time": "2021-10-20T10:27:47.710Z"
      },
      {
        "duration": 4,
        "start_time": "2021-10-20T10:27:47.748Z"
      },
      {
        "duration": 649,
        "start_time": "2021-10-20T10:27:47.754Z"
      },
      {
        "duration": 104,
        "start_time": "2021-10-20T10:27:48.405Z"
      },
      {
        "duration": 3,
        "start_time": "2021-10-20T10:27:48.510Z"
      },
      {
        "duration": 32,
        "start_time": "2021-10-20T10:27:48.514Z"
      },
      {
        "duration": 30,
        "start_time": "2021-10-20T10:27:48.548Z"
      },
      {
        "duration": 20,
        "start_time": "2021-10-20T10:27:48.580Z"
      },
      {
        "duration": 30,
        "start_time": "2021-10-20T10:27:48.601Z"
      },
      {
        "duration": 30,
        "start_time": "2021-10-20T10:27:48.632Z"
      },
      {
        "duration": 28,
        "start_time": "2021-10-20T10:27:48.664Z"
      },
      {
        "duration": 27,
        "start_time": "2021-10-20T10:27:48.694Z"
      },
      {
        "duration": 22,
        "start_time": "2021-10-20T10:27:48.722Z"
      },
      {
        "duration": 35,
        "start_time": "2021-10-20T10:27:48.745Z"
      },
      {
        "duration": 23,
        "start_time": "2021-10-20T10:27:48.781Z"
      },
      {
        "duration": 16,
        "start_time": "2021-10-20T10:27:48.806Z"
      },
      {
        "duration": 39,
        "start_time": "2021-10-20T10:27:48.824Z"
      },
      {
        "duration": 256,
        "start_time": "2021-10-20T10:27:48.865Z"
      },
      {
        "duration": 24,
        "start_time": "2021-10-20T10:27:49.123Z"
      },
      {
        "duration": 8,
        "start_time": "2021-10-20T10:27:49.148Z"
      },
      {
        "duration": 30,
        "start_time": "2021-10-20T10:27:49.158Z"
      },
      {
        "duration": 25,
        "start_time": "2021-10-20T10:27:49.190Z"
      },
      {
        "duration": 26,
        "start_time": "2021-10-20T10:27:49.217Z"
      },
      {
        "duration": 18,
        "start_time": "2021-10-20T10:27:49.245Z"
      },
      {
        "duration": 1191,
        "start_time": "2021-10-20T10:28:20.072Z"
      },
      {
        "duration": 7,
        "start_time": "2021-10-20T10:28:21.265Z"
      },
      {
        "duration": 70,
        "start_time": "2021-10-20T10:28:21.275Z"
      },
      {
        "duration": 12,
        "start_time": "2021-10-20T10:28:21.347Z"
      },
      {
        "duration": 49,
        "start_time": "2021-10-20T10:28:21.360Z"
      },
      {
        "duration": 27,
        "start_time": "2021-10-20T10:28:21.411Z"
      },
      {
        "duration": 32,
        "start_time": "2021-10-20T10:28:21.440Z"
      },
      {
        "duration": 33,
        "start_time": "2021-10-20T10:28:21.474Z"
      },
      {
        "duration": 625,
        "start_time": "2021-10-20T10:28:21.508Z"
      },
      {
        "duration": 7,
        "start_time": "2021-10-20T10:28:22.135Z"
      },
      {
        "duration": 34,
        "start_time": "2021-10-20T10:28:22.144Z"
      },
      {
        "duration": 30,
        "start_time": "2021-10-20T10:28:22.180Z"
      },
      {
        "duration": 261,
        "start_time": "2021-10-20T10:28:22.212Z"
      },
      {
        "duration": 7,
        "start_time": "2021-10-20T10:28:22.475Z"
      },
      {
        "duration": 274,
        "start_time": "2021-10-20T10:28:22.484Z"
      },
      {
        "duration": 2,
        "start_time": "2021-10-20T10:28:22.760Z"
      },
      {
        "duration": 24,
        "start_time": "2021-10-20T10:28:22.763Z"
      },
      {
        "duration": 14,
        "start_time": "2021-10-20T10:28:22.789Z"
      },
      {
        "duration": 17,
        "start_time": "2021-10-20T10:28:22.804Z"
      },
      {
        "duration": 21,
        "start_time": "2021-10-20T10:28:22.823Z"
      },
      {
        "duration": 27,
        "start_time": "2021-10-20T10:28:22.846Z"
      },
      {
        "duration": 178,
        "start_time": "2021-10-20T10:28:22.877Z"
      },
      {
        "duration": 131,
        "start_time": "2021-10-20T10:28:23.057Z"
      },
      {
        "duration": 10,
        "start_time": "2021-10-20T10:28:23.190Z"
      },
      {
        "duration": 271,
        "start_time": "2021-10-20T10:28:23.201Z"
      },
      {
        "duration": 32,
        "start_time": "2021-10-20T10:28:23.473Z"
      },
      {
        "duration": 7,
        "start_time": "2021-10-20T10:28:23.507Z"
      },
      {
        "duration": 654,
        "start_time": "2021-10-20T10:28:23.515Z"
      },
      {
        "duration": 118,
        "start_time": "2021-10-20T10:28:24.170Z"
      },
      {
        "duration": 3,
        "start_time": "2021-10-20T10:28:24.289Z"
      },
      {
        "duration": 28,
        "start_time": "2021-10-20T10:28:24.294Z"
      },
      {
        "duration": 25,
        "start_time": "2021-10-20T10:28:24.323Z"
      },
      {
        "duration": 22,
        "start_time": "2021-10-20T10:28:24.350Z"
      },
      {
        "duration": 34,
        "start_time": "2021-10-20T10:28:24.374Z"
      },
      {
        "duration": 19,
        "start_time": "2021-10-20T10:28:24.409Z"
      },
      {
        "duration": 20,
        "start_time": "2021-10-20T10:28:24.429Z"
      },
      {
        "duration": 1149,
        "start_time": "2021-10-20T10:28:24.451Z"
      },
      {
        "duration": -35390,
        "start_time": "2021-10-20T10:29:00.992Z"
      },
      {
        "duration": -35395,
        "start_time": "2021-10-20T10:29:00.998Z"
      },
      {
        "duration": -35398,
        "start_time": "2021-10-20T10:29:01.002Z"
      },
      {
        "duration": -35400,
        "start_time": "2021-10-20T10:29:01.005Z"
      },
      {
        "duration": -35402,
        "start_time": "2021-10-20T10:29:01.008Z"
      },
      {
        "duration": -35404,
        "start_time": "2021-10-20T10:29:01.011Z"
      },
      {
        "duration": -35406,
        "start_time": "2021-10-20T10:29:01.014Z"
      },
      {
        "duration": -35409,
        "start_time": "2021-10-20T10:29:01.018Z"
      },
      {
        "duration": -35412,
        "start_time": "2021-10-20T10:29:01.022Z"
      },
      {
        "duration": -35415,
        "start_time": "2021-10-20T10:29:01.026Z"
      },
      {
        "duration": -35417,
        "start_time": "2021-10-20T10:29:01.029Z"
      },
      {
        "duration": -35419,
        "start_time": "2021-10-20T10:29:01.032Z"
      },
      {
        "duration": -35420,
        "start_time": "2021-10-20T10:29:01.034Z"
      },
      {
        "duration": -35422,
        "start_time": "2021-10-20T10:29:01.037Z"
      },
      {
        "duration": -35423,
        "start_time": "2021-10-20T10:29:01.039Z"
      },
      {
        "duration": -35425,
        "start_time": "2021-10-20T10:29:01.042Z"
      },
      {
        "duration": -35426,
        "start_time": "2021-10-20T10:29:01.044Z"
      },
      {
        "duration": -35428,
        "start_time": "2021-10-20T10:29:01.047Z"
      },
      {
        "duration": -35430,
        "start_time": "2021-10-20T10:29:01.050Z"
      },
      {
        "duration": -35433,
        "start_time": "2021-10-20T10:29:01.054Z"
      },
      {
        "duration": -35436,
        "start_time": "2021-10-20T10:29:01.058Z"
      },
      {
        "duration": -35438,
        "start_time": "2021-10-20T10:29:01.061Z"
      },
      {
        "duration": -35441,
        "start_time": "2021-10-20T10:29:01.065Z"
      },
      {
        "duration": -35442,
        "start_time": "2021-10-20T10:29:01.067Z"
      },
      {
        "duration": -35444,
        "start_time": "2021-10-20T10:29:01.070Z"
      },
      {
        "duration": -35453,
        "start_time": "2021-10-20T10:29:01.080Z"
      },
      {
        "duration": -35454,
        "start_time": "2021-10-20T10:29:01.083Z"
      },
      {
        "duration": -35456,
        "start_time": "2021-10-20T10:29:01.085Z"
      },
      {
        "duration": -35457,
        "start_time": "2021-10-20T10:29:01.088Z"
      },
      {
        "duration": -35458,
        "start_time": "2021-10-20T10:29:01.090Z"
      },
      {
        "duration": -35459,
        "start_time": "2021-10-20T10:29:01.092Z"
      },
      {
        "duration": -35461,
        "start_time": "2021-10-20T10:29:01.094Z"
      },
      {
        "duration": -35463,
        "start_time": "2021-10-20T10:29:01.097Z"
      },
      {
        "duration": 1255,
        "start_time": "2021-10-20T10:29:00.219Z"
      },
      {
        "duration": 7,
        "start_time": "2021-10-20T10:29:01.476Z"
      },
      {
        "duration": 62,
        "start_time": "2021-10-20T10:29:01.488Z"
      },
      {
        "duration": 12,
        "start_time": "2021-10-20T10:29:01.552Z"
      },
      {
        "duration": 43,
        "start_time": "2021-10-20T10:29:01.565Z"
      },
      {
        "duration": 28,
        "start_time": "2021-10-20T10:29:01.610Z"
      },
      {
        "duration": 34,
        "start_time": "2021-10-20T10:29:01.641Z"
      },
      {
        "duration": 26,
        "start_time": "2021-10-20T10:29:01.677Z"
      },
      {
        "duration": 550,
        "start_time": "2021-10-20T10:29:01.705Z"
      },
      {
        "duration": 9,
        "start_time": "2021-10-20T10:29:02.258Z"
      },
      {
        "duration": 12,
        "start_time": "2021-10-20T10:29:02.269Z"
      },
      {
        "duration": 11,
        "start_time": "2021-10-20T10:29:02.283Z"
      },
      {
        "duration": 256,
        "start_time": "2021-10-20T10:29:02.296Z"
      },
      {
        "duration": 7,
        "start_time": "2021-10-20T10:29:02.555Z"
      },
      {
        "duration": 296,
        "start_time": "2021-10-20T10:29:02.564Z"
      },
      {
        "duration": 2,
        "start_time": "2021-10-20T10:29:02.862Z"
      },
      {
        "duration": 19,
        "start_time": "2021-10-20T10:29:02.866Z"
      },
      {
        "duration": 12,
        "start_time": "2021-10-20T10:29:02.887Z"
      },
      {
        "duration": 11,
        "start_time": "2021-10-20T10:29:02.900Z"
      },
      {
        "duration": 21,
        "start_time": "2021-10-20T10:29:02.912Z"
      },
      {
        "duration": 27,
        "start_time": "2021-10-20T10:29:02.934Z"
      },
      {
        "duration": 173,
        "start_time": "2021-10-20T10:29:02.965Z"
      },
      {
        "duration": 133,
        "start_time": "2021-10-20T10:29:03.146Z"
      },
      {
        "duration": 9,
        "start_time": "2021-10-20T10:29:03.281Z"
      },
      {
        "duration": 276,
        "start_time": "2021-10-20T10:29:03.292Z"
      },
      {
        "duration": 27,
        "start_time": "2021-10-20T10:29:03.570Z"
      },
      {
        "duration": 5,
        "start_time": "2021-10-20T10:29:03.598Z"
      },
      {
        "duration": 666,
        "start_time": "2021-10-20T10:29:03.605Z"
      },
      {
        "duration": 121,
        "start_time": "2021-10-20T10:29:04.273Z"
      },
      {
        "duration": 3,
        "start_time": "2021-10-20T10:29:04.395Z"
      },
      {
        "duration": 16,
        "start_time": "2021-10-20T10:29:04.400Z"
      },
      {
        "duration": 8,
        "start_time": "2021-10-20T10:29:04.418Z"
      },
      {
        "duration": 17,
        "start_time": "2021-10-20T10:29:04.428Z"
      },
      {
        "duration": 14,
        "start_time": "2021-10-20T10:29:04.447Z"
      },
      {
        "duration": 17,
        "start_time": "2021-10-20T10:29:04.463Z"
      },
      {
        "duration": 13,
        "start_time": "2021-10-20T10:29:04.482Z"
      },
      {
        "duration": 16,
        "start_time": "2021-10-20T10:29:04.497Z"
      },
      {
        "duration": 34,
        "start_time": "2021-10-20T10:29:04.514Z"
      },
      {
        "duration": 14,
        "start_time": "2021-10-20T10:29:04.550Z"
      },
      {
        "duration": 16,
        "start_time": "2021-10-20T10:29:04.565Z"
      },
      {
        "duration": 15,
        "start_time": "2021-10-20T10:29:04.583Z"
      },
      {
        "duration": 28,
        "start_time": "2021-10-20T10:29:04.599Z"
      },
      {
        "duration": 241,
        "start_time": "2021-10-20T10:29:04.629Z"
      },
      {
        "duration": 16,
        "start_time": "2021-10-20T10:29:04.872Z"
      },
      {
        "duration": 6,
        "start_time": "2021-10-20T10:29:04.889Z"
      },
      {
        "duration": 8,
        "start_time": "2021-10-20T10:29:04.896Z"
      },
      {
        "duration": 9,
        "start_time": "2021-10-20T10:29:04.906Z"
      },
      {
        "duration": 29,
        "start_time": "2021-10-20T10:29:04.916Z"
      },
      {
        "duration": 5,
        "start_time": "2021-10-20T10:29:04.947Z"
      },
      {
        "duration": 1246,
        "start_time": "2021-10-20T10:29:59.340Z"
      },
      {
        "duration": 8,
        "start_time": "2021-10-20T10:30:00.588Z"
      },
      {
        "duration": 71,
        "start_time": "2021-10-20T10:30:00.601Z"
      },
      {
        "duration": 13,
        "start_time": "2021-10-20T10:30:00.674Z"
      },
      {
        "duration": 36,
        "start_time": "2021-10-20T10:30:00.689Z"
      },
      {
        "duration": 36,
        "start_time": "2021-10-20T10:30:00.727Z"
      },
      {
        "duration": 23,
        "start_time": "2021-10-20T10:30:00.767Z"
      },
      {
        "duration": 31,
        "start_time": "2021-10-20T10:30:00.793Z"
      },
      {
        "duration": 942,
        "start_time": "2021-10-20T10:30:00.826Z"
      },
      {
        "duration": 8,
        "start_time": "2021-10-20T10:30:01.770Z"
      },
      {
        "duration": 34,
        "start_time": "2021-10-20T10:30:01.779Z"
      },
      {
        "duration": 45,
        "start_time": "2021-10-20T10:30:01.814Z"
      },
      {
        "duration": 286,
        "start_time": "2021-10-20T10:30:01.861Z"
      },
      {
        "duration": 8,
        "start_time": "2021-10-20T10:30:02.149Z"
      },
      {
        "duration": 309,
        "start_time": "2021-10-20T10:30:02.159Z"
      },
      {
        "duration": 2,
        "start_time": "2021-10-20T10:30:02.470Z"
      },
      {
        "duration": 55,
        "start_time": "2021-10-20T10:30:02.474Z"
      },
      {
        "duration": 34,
        "start_time": "2021-10-20T10:30:02.531Z"
      },
      {
        "duration": 44,
        "start_time": "2021-10-20T10:30:02.567Z"
      },
      {
        "duration": 26,
        "start_time": "2021-10-20T10:30:02.613Z"
      },
      {
        "duration": 20,
        "start_time": "2021-10-20T10:30:02.641Z"
      },
      {
        "duration": 201,
        "start_time": "2021-10-20T10:30:02.666Z"
      },
      {
        "duration": 139,
        "start_time": "2021-10-20T10:30:02.870Z"
      },
      {
        "duration": 14,
        "start_time": "2021-10-20T10:30:03.011Z"
      },
      {
        "duration": 304,
        "start_time": "2021-10-20T10:30:03.027Z"
      },
      {
        "duration": 36,
        "start_time": "2021-10-20T10:30:03.334Z"
      },
      {
        "duration": 6,
        "start_time": "2021-10-20T10:30:03.373Z"
      },
      {
        "duration": 766,
        "start_time": "2021-10-20T10:30:03.381Z"
      },
      {
        "duration": 121,
        "start_time": "2021-10-20T10:30:04.150Z"
      },
      {
        "duration": 3,
        "start_time": "2021-10-20T10:30:04.273Z"
      },
      {
        "duration": 25,
        "start_time": "2021-10-20T10:30:04.278Z"
      },
      {
        "duration": 11,
        "start_time": "2021-10-20T10:30:04.305Z"
      },
      {
        "duration": 11,
        "start_time": "2021-10-20T10:30:04.317Z"
      },
      {
        "duration": 25,
        "start_time": "2021-10-20T10:30:04.330Z"
      },
      {
        "duration": 20,
        "start_time": "2021-10-20T10:30:04.358Z"
      },
      {
        "duration": 20,
        "start_time": "2021-10-20T10:30:04.380Z"
      },
      {
        "duration": 23,
        "start_time": "2021-10-20T10:30:04.403Z"
      },
      {
        "duration": 23,
        "start_time": "2021-10-20T10:30:04.428Z"
      },
      {
        "duration": 28,
        "start_time": "2021-10-20T10:30:04.453Z"
      },
      {
        "duration": 38,
        "start_time": "2021-10-20T10:30:04.484Z"
      },
      {
        "duration": 29,
        "start_time": "2021-10-20T10:30:04.524Z"
      },
      {
        "duration": 41,
        "start_time": "2021-10-20T10:30:04.555Z"
      },
      {
        "duration": 263,
        "start_time": "2021-10-20T10:30:04.598Z"
      },
      {
        "duration": 18,
        "start_time": "2021-10-20T10:30:04.863Z"
      },
      {
        "duration": 14,
        "start_time": "2021-10-20T10:30:04.883Z"
      },
      {
        "duration": 22,
        "start_time": "2021-10-20T10:30:04.899Z"
      },
      {
        "duration": 37,
        "start_time": "2021-10-20T10:30:04.923Z"
      },
      {
        "duration": 36,
        "start_time": "2021-10-20T10:30:04.962Z"
      },
      {
        "duration": 20,
        "start_time": "2021-10-20T10:30:05.000Z"
      },
      {
        "duration": 1240,
        "start_time": "2021-10-20T10:30:45.330Z"
      },
      {
        "duration": 11,
        "start_time": "2021-10-20T10:30:46.572Z"
      },
      {
        "duration": 65,
        "start_time": "2021-10-20T10:30:46.585Z"
      },
      {
        "duration": 13,
        "start_time": "2021-10-20T10:30:46.651Z"
      },
      {
        "duration": 44,
        "start_time": "2021-10-20T10:30:46.666Z"
      },
      {
        "duration": 33,
        "start_time": "2021-10-20T10:30:46.712Z"
      },
      {
        "duration": 27,
        "start_time": "2021-10-20T10:30:46.746Z"
      },
      {
        "duration": 37,
        "start_time": "2021-10-20T10:30:46.775Z"
      },
      {
        "duration": 511,
        "start_time": "2021-10-20T10:30:46.814Z"
      },
      {
        "duration": 8,
        "start_time": "2021-10-20T10:30:47.326Z"
      },
      {
        "duration": 28,
        "start_time": "2021-10-20T10:30:47.336Z"
      },
      {
        "duration": 28,
        "start_time": "2021-10-20T10:30:47.365Z"
      },
      {
        "duration": 252,
        "start_time": "2021-10-20T10:30:47.394Z"
      },
      {
        "duration": 7,
        "start_time": "2021-10-20T10:30:47.648Z"
      },
      {
        "duration": 263,
        "start_time": "2021-10-20T10:30:47.656Z"
      },
      {
        "duration": 1,
        "start_time": "2021-10-20T10:30:47.921Z"
      },
      {
        "duration": 30,
        "start_time": "2021-10-20T10:30:47.924Z"
      },
      {
        "duration": 22,
        "start_time": "2021-10-20T10:30:47.956Z"
      },
      {
        "duration": 20,
        "start_time": "2021-10-20T10:30:47.980Z"
      },
      {
        "duration": 18,
        "start_time": "2021-10-20T10:30:48.001Z"
      },
      {
        "duration": 20,
        "start_time": "2021-10-20T10:30:48.020Z"
      },
      {
        "duration": 203,
        "start_time": "2021-10-20T10:30:48.041Z"
      },
      {
        "duration": 143,
        "start_time": "2021-10-20T10:30:48.248Z"
      },
      {
        "duration": 10,
        "start_time": "2021-10-20T10:30:48.393Z"
      },
      {
        "duration": 293,
        "start_time": "2021-10-20T10:30:48.404Z"
      },
      {
        "duration": 27,
        "start_time": "2021-10-20T10:30:48.699Z"
      },
      {
        "duration": 17,
        "start_time": "2021-10-20T10:30:48.728Z"
      },
      {
        "duration": 649,
        "start_time": "2021-10-20T10:30:48.747Z"
      },
      {
        "duration": 119,
        "start_time": "2021-10-20T10:30:49.398Z"
      },
      {
        "duration": 4,
        "start_time": "2021-10-20T10:30:49.519Z"
      },
      {
        "duration": 28,
        "start_time": "2021-10-20T10:30:49.525Z"
      },
      {
        "duration": 26,
        "start_time": "2021-10-20T10:30:49.555Z"
      },
      {
        "duration": 36,
        "start_time": "2021-10-20T10:30:49.583Z"
      },
      {
        "duration": 36,
        "start_time": "2021-10-20T10:30:49.620Z"
      },
      {
        "duration": 23,
        "start_time": "2021-10-20T10:30:49.658Z"
      },
      {
        "duration": 18,
        "start_time": "2021-10-20T10:30:49.683Z"
      },
      {
        "duration": 27,
        "start_time": "2021-10-20T10:30:49.703Z"
      },
      {
        "duration": 25,
        "start_time": "2021-10-20T10:30:49.732Z"
      },
      {
        "duration": 20,
        "start_time": "2021-10-20T10:30:49.759Z"
      },
      {
        "duration": 25,
        "start_time": "2021-10-20T10:30:49.781Z"
      },
      {
        "duration": 27,
        "start_time": "2021-10-20T10:30:49.808Z"
      },
      {
        "duration": 40,
        "start_time": "2021-10-20T10:30:49.837Z"
      },
      {
        "duration": 267,
        "start_time": "2021-10-20T10:30:49.879Z"
      },
      {
        "duration": 16,
        "start_time": "2021-10-20T10:30:50.148Z"
      },
      {
        "duration": 18,
        "start_time": "2021-10-20T10:30:50.166Z"
      },
      {
        "duration": 29,
        "start_time": "2021-10-20T10:30:50.186Z"
      },
      {
        "duration": 27,
        "start_time": "2021-10-20T10:30:50.216Z"
      },
      {
        "duration": 37,
        "start_time": "2021-10-20T10:30:50.245Z"
      },
      {
        "duration": 25,
        "start_time": "2021-10-20T10:30:50.284Z"
      },
      {
        "duration": 71310,
        "start_time": "2021-10-20T10:30:50.310Z"
      },
      {
        "duration": 12,
        "start_time": "2021-10-20T10:32:01.622Z"
      },
      {
        "duration": 35,
        "start_time": "2021-10-20T10:32:01.636Z"
      },
      {
        "duration": 22,
        "start_time": "2021-10-20T10:32:01.673Z"
      },
      {
        "duration": 24,
        "start_time": "2021-10-20T10:32:01.696Z"
      },
      {
        "duration": 36,
        "start_time": "2021-10-20T10:32:01.722Z"
      },
      {
        "duration": 30,
        "start_time": "2021-10-20T10:32:01.759Z"
      },
      {
        "duration": 28,
        "start_time": "2021-10-20T10:32:01.790Z"
      },
      {
        "duration": 35,
        "start_time": "2021-10-20T10:32:01.820Z"
      },
      {
        "duration": 18,
        "start_time": "2021-10-20T10:32:01.857Z"
      },
      {
        "duration": 17,
        "start_time": "2021-10-20T10:32:01.877Z"
      },
      {
        "duration": 29,
        "start_time": "2021-10-20T10:32:01.895Z"
      },
      {
        "duration": 40,
        "start_time": "2021-10-20T10:32:01.925Z"
      },
      {
        "duration": 29,
        "start_time": "2021-10-20T10:32:01.967Z"
      },
      {
        "duration": 73044,
        "start_time": "2021-10-20T10:32:01.998Z"
      },
      {
        "duration": 4,
        "start_time": "2021-10-20T10:33:15.044Z"
      },
      {
        "duration": 24,
        "start_time": "2021-10-20T10:33:15.049Z"
      },
      {
        "duration": 7477,
        "start_time": "2021-10-20T10:33:15.075Z"
      },
      {
        "duration": -35393,
        "start_time": "2021-10-20T10:33:57.947Z"
      },
      {
        "duration": -35402,
        "start_time": "2021-10-20T10:33:57.958Z"
      },
      {
        "duration": -35407,
        "start_time": "2021-10-20T10:33:57.964Z"
      },
      {
        "duration": 1261,
        "start_time": "2021-10-20T10:34:13.723Z"
      },
      {
        "duration": 7,
        "start_time": "2021-10-20T10:34:14.986Z"
      },
      {
        "duration": 60,
        "start_time": "2021-10-20T10:34:14.995Z"
      },
      {
        "duration": 11,
        "start_time": "2021-10-20T10:34:15.057Z"
      },
      {
        "duration": 23,
        "start_time": "2021-10-20T10:34:15.070Z"
      },
      {
        "duration": 9,
        "start_time": "2021-10-20T10:34:15.095Z"
      },
      {
        "duration": 11,
        "start_time": "2021-10-20T10:34:15.105Z"
      },
      {
        "duration": 33,
        "start_time": "2021-10-20T10:34:15.119Z"
      },
      {
        "duration": 1419,
        "start_time": "2021-10-20T10:34:15.154Z"
      },
      {
        "duration": 7,
        "start_time": "2021-10-20T10:34:16.574Z"
      },
      {
        "duration": 9,
        "start_time": "2021-10-20T10:34:16.583Z"
      },
      {
        "duration": 13,
        "start_time": "2021-10-20T10:34:16.593Z"
      },
      {
        "duration": 254,
        "start_time": "2021-10-20T10:34:16.607Z"
      },
      {
        "duration": 7,
        "start_time": "2021-10-20T10:34:16.863Z"
      },
      {
        "duration": 272,
        "start_time": "2021-10-20T10:34:16.872Z"
      },
      {
        "duration": 2,
        "start_time": "2021-10-20T10:34:17.146Z"
      },
      {
        "duration": 12,
        "start_time": "2021-10-20T10:34:17.150Z"
      },
      {
        "duration": 9,
        "start_time": "2021-10-20T10:34:17.164Z"
      },
      {
        "duration": 5,
        "start_time": "2021-10-20T10:34:17.174Z"
      },
      {
        "duration": 8,
        "start_time": "2021-10-20T10:34:17.181Z"
      },
      {
        "duration": 14,
        "start_time": "2021-10-20T10:34:17.190Z"
      },
      {
        "duration": 221,
        "start_time": "2021-10-20T10:34:17.206Z"
      },
      {
        "duration": 152,
        "start_time": "2021-10-20T10:34:17.431Z"
      },
      {
        "duration": 10,
        "start_time": "2021-10-20T10:34:17.585Z"
      },
      {
        "duration": 285,
        "start_time": "2021-10-20T10:34:17.596Z"
      },
      {
        "duration": 28,
        "start_time": "2021-10-20T10:34:17.882Z"
      },
      {
        "duration": 4,
        "start_time": "2021-10-20T10:34:17.912Z"
      },
      {
        "duration": 669,
        "start_time": "2021-10-20T10:34:17.918Z"
      },
      {
        "duration": 106,
        "start_time": "2021-10-20T10:34:18.589Z"
      },
      {
        "duration": 3,
        "start_time": "2021-10-20T10:34:18.697Z"
      },
      {
        "duration": 18,
        "start_time": "2021-10-20T10:34:18.701Z"
      },
      {
        "duration": 6,
        "start_time": "2021-10-20T10:34:18.721Z"
      },
      {
        "duration": 16,
        "start_time": "2021-10-20T10:34:18.729Z"
      },
      {
        "duration": 12,
        "start_time": "2021-10-20T10:34:18.747Z"
      },
      {
        "duration": 12,
        "start_time": "2021-10-20T10:34:18.760Z"
      },
      {
        "duration": 12,
        "start_time": "2021-10-20T10:34:18.773Z"
      },
      {
        "duration": 7,
        "start_time": "2021-10-20T10:34:18.787Z"
      },
      {
        "duration": 12,
        "start_time": "2021-10-20T10:34:18.796Z"
      },
      {
        "duration": 10,
        "start_time": "2021-10-20T10:34:18.810Z"
      },
      {
        "duration": 32,
        "start_time": "2021-10-20T10:34:18.822Z"
      },
      {
        "duration": 12,
        "start_time": "2021-10-20T10:34:18.855Z"
      },
      {
        "duration": 24,
        "start_time": "2021-10-20T10:34:18.869Z"
      },
      {
        "duration": 260,
        "start_time": "2021-10-20T10:34:18.895Z"
      },
      {
        "duration": 15,
        "start_time": "2021-10-20T10:34:19.157Z"
      },
      {
        "duration": 5,
        "start_time": "2021-10-20T10:34:19.174Z"
      },
      {
        "duration": 9,
        "start_time": "2021-10-20T10:34:19.181Z"
      },
      {
        "duration": 13,
        "start_time": "2021-10-20T10:34:19.191Z"
      },
      {
        "duration": 26,
        "start_time": "2021-10-20T10:34:19.205Z"
      },
      {
        "duration": 13,
        "start_time": "2021-10-20T10:34:19.232Z"
      },
      {
        "duration": 71614,
        "start_time": "2021-10-20T10:34:19.247Z"
      },
      {
        "duration": 12,
        "start_time": "2021-10-20T10:35:30.863Z"
      },
      {
        "duration": 28,
        "start_time": "2021-10-20T10:35:30.877Z"
      },
      {
        "duration": 50,
        "start_time": "2021-10-20T10:35:30.907Z"
      },
      {
        "duration": 21,
        "start_time": "2021-10-20T10:35:30.958Z"
      },
      {
        "duration": 25,
        "start_time": "2021-10-20T10:35:30.982Z"
      },
      {
        "duration": 16,
        "start_time": "2021-10-20T10:35:31.008Z"
      },
      {
        "duration": 16,
        "start_time": "2021-10-20T10:35:31.026Z"
      },
      {
        "duration": 27,
        "start_time": "2021-10-20T10:35:31.044Z"
      },
      {
        "duration": 22,
        "start_time": "2021-10-20T10:35:31.073Z"
      },
      {
        "duration": 50,
        "start_time": "2021-10-20T10:35:31.097Z"
      },
      {
        "duration": 27,
        "start_time": "2021-10-20T10:35:31.148Z"
      },
      {
        "duration": 15,
        "start_time": "2021-10-20T10:35:31.177Z"
      },
      {
        "duration": 41,
        "start_time": "2021-10-20T10:35:31.194Z"
      },
      {
        "duration": 71600,
        "start_time": "2021-10-20T10:35:31.237Z"
      },
      {
        "duration": 4,
        "start_time": "2021-10-20T10:36:42.839Z"
      },
      {
        "duration": 21,
        "start_time": "2021-10-20T10:36:42.845Z"
      },
      {
        "duration": 7490,
        "start_time": "2021-10-20T10:36:42.868Z"
      },
      {
        "duration": -35390,
        "start_time": "2021-10-20T10:37:25.750Z"
      },
      {
        "duration": -35392,
        "start_time": "2021-10-20T10:37:25.753Z"
      },
      {
        "duration": -35393,
        "start_time": "2021-10-20T10:37:25.755Z"
      },
      {
        "duration": 6,
        "start_time": "2021-10-20T10:36:55.290Z"
      },
      {
        "duration": 1421,
        "start_time": "2021-10-20T10:37:01.338Z"
      },
      {
        "duration": 8,
        "start_time": "2021-10-20T10:37:02.762Z"
      },
      {
        "duration": 50,
        "start_time": "2021-10-20T10:37:02.776Z"
      },
      {
        "duration": 26,
        "start_time": "2021-10-20T10:37:02.828Z"
      },
      {
        "duration": 53,
        "start_time": "2021-10-20T10:37:02.856Z"
      },
      {
        "duration": 24,
        "start_time": "2021-10-20T10:37:02.911Z"
      },
      {
        "duration": 43,
        "start_time": "2021-10-20T10:37:02.938Z"
      },
      {
        "duration": 38,
        "start_time": "2021-10-20T10:37:02.984Z"
      },
      {
        "duration": 705,
        "start_time": "2021-10-20T10:37:03.024Z"
      },
      {
        "duration": 7,
        "start_time": "2021-10-20T10:37:03.732Z"
      },
      {
        "duration": 39,
        "start_time": "2021-10-20T10:37:03.741Z"
      },
      {
        "duration": 45,
        "start_time": "2021-10-20T10:37:03.781Z"
      },
      {
        "duration": 301,
        "start_time": "2021-10-20T10:37:03.828Z"
      },
      {
        "duration": 19,
        "start_time": "2021-10-20T10:37:04.131Z"
      },
      {
        "duration": 291,
        "start_time": "2021-10-20T10:37:04.152Z"
      },
      {
        "duration": 2,
        "start_time": "2021-10-20T10:37:04.445Z"
      },
      {
        "duration": 55,
        "start_time": "2021-10-20T10:37:04.448Z"
      },
      {
        "duration": 63,
        "start_time": "2021-10-20T10:37:04.505Z"
      },
      {
        "duration": 39,
        "start_time": "2021-10-20T10:37:04.571Z"
      },
      {
        "duration": 55,
        "start_time": "2021-10-20T10:37:04.611Z"
      },
      {
        "duration": 34,
        "start_time": "2021-10-20T10:37:04.667Z"
      },
      {
        "duration": 224,
        "start_time": "2021-10-20T10:37:04.707Z"
      },
      {
        "duration": 145,
        "start_time": "2021-10-20T10:37:04.935Z"
      },
      {
        "duration": 11,
        "start_time": "2021-10-20T10:37:05.082Z"
      },
      {
        "duration": 305,
        "start_time": "2021-10-20T10:37:05.095Z"
      },
      {
        "duration": 29,
        "start_time": "2021-10-20T10:37:05.402Z"
      },
      {
        "duration": 14,
        "start_time": "2021-10-20T10:37:05.432Z"
      },
      {
        "duration": 676,
        "start_time": "2021-10-20T10:37:05.448Z"
      },
      {
        "duration": 105,
        "start_time": "2021-10-20T10:37:06.126Z"
      },
      {
        "duration": 12,
        "start_time": "2021-10-20T10:37:06.233Z"
      },
      {
        "duration": 35,
        "start_time": "2021-10-20T10:37:06.246Z"
      },
      {
        "duration": 22,
        "start_time": "2021-10-20T10:37:06.282Z"
      },
      {
        "duration": 16,
        "start_time": "2021-10-20T10:37:06.306Z"
      },
      {
        "duration": 26,
        "start_time": "2021-10-20T10:37:06.324Z"
      },
      {
        "duration": 26,
        "start_time": "2021-10-20T10:37:06.351Z"
      },
      {
        "duration": 32,
        "start_time": "2021-10-20T10:37:06.379Z"
      },
      {
        "duration": 19,
        "start_time": "2021-10-20T10:37:06.413Z"
      },
      {
        "duration": 25,
        "start_time": "2021-10-20T10:37:06.434Z"
      },
      {
        "duration": 22,
        "start_time": "2021-10-20T10:37:06.461Z"
      },
      {
        "duration": 36,
        "start_time": "2021-10-20T10:37:06.484Z"
      },
      {
        "duration": 267,
        "start_time": "2021-10-20T10:37:06.521Z"
      },
      {
        "duration": 16,
        "start_time": "2021-10-20T10:37:06.790Z"
      },
      {
        "duration": 12,
        "start_time": "2021-10-20T10:37:06.807Z"
      },
      {
        "duration": 32,
        "start_time": "2021-10-20T10:37:06.820Z"
      },
      {
        "duration": 11,
        "start_time": "2021-10-20T10:37:06.854Z"
      },
      {
        "duration": 32,
        "start_time": "2021-10-20T10:37:06.867Z"
      },
      {
        "duration": 12,
        "start_time": "2021-10-20T10:37:06.901Z"
      },
      {
        "duration": 78413,
        "start_time": "2021-10-20T10:37:06.915Z"
      },
      {
        "duration": 13,
        "start_time": "2021-10-20T10:38:25.329Z"
      },
      {
        "duration": 13,
        "start_time": "2021-10-20T10:38:25.344Z"
      },
      {
        "duration": 17,
        "start_time": "2021-10-20T10:38:25.359Z"
      },
      {
        "duration": 7,
        "start_time": "2021-10-20T10:38:25.378Z"
      },
      {
        "duration": 5,
        "start_time": "2021-10-20T10:38:25.387Z"
      },
      {
        "duration": 5,
        "start_time": "2021-10-20T10:38:25.394Z"
      },
      {
        "duration": 6,
        "start_time": "2021-10-20T10:38:25.401Z"
      },
      {
        "duration": 16,
        "start_time": "2021-10-20T10:38:25.408Z"
      },
      {
        "duration": 8,
        "start_time": "2021-10-20T10:38:25.425Z"
      },
      {
        "duration": 9,
        "start_time": "2021-10-20T10:38:25.435Z"
      },
      {
        "duration": 16,
        "start_time": "2021-10-20T10:38:25.446Z"
      },
      {
        "duration": 7,
        "start_time": "2021-10-20T10:38:25.463Z"
      },
      {
        "duration": 19,
        "start_time": "2021-10-20T10:38:25.472Z"
      },
      {
        "duration": 1213,
        "start_time": "2021-10-20T10:39:24.881Z"
      },
      {
        "duration": 8,
        "start_time": "2021-10-20T10:39:26.097Z"
      },
      {
        "duration": 58,
        "start_time": "2021-10-20T10:39:26.107Z"
      },
      {
        "duration": 12,
        "start_time": "2021-10-20T10:39:26.167Z"
      },
      {
        "duration": 22,
        "start_time": "2021-10-20T10:39:26.181Z"
      },
      {
        "duration": 18,
        "start_time": "2021-10-20T10:39:26.205Z"
      },
      {
        "duration": 23,
        "start_time": "2021-10-20T10:39:26.225Z"
      },
      {
        "duration": 29,
        "start_time": "2021-10-20T10:39:26.251Z"
      },
      {
        "duration": 558,
        "start_time": "2021-10-20T10:39:26.283Z"
      },
      {
        "duration": 8,
        "start_time": "2021-10-20T10:39:26.844Z"
      },
      {
        "duration": 22,
        "start_time": "2021-10-20T10:39:26.854Z"
      },
      {
        "duration": 28,
        "start_time": "2021-10-20T10:39:26.878Z"
      },
      {
        "duration": 264,
        "start_time": "2021-10-20T10:39:26.908Z"
      },
      {
        "duration": 8,
        "start_time": "2021-10-20T10:39:27.175Z"
      },
      {
        "duration": 282,
        "start_time": "2021-10-20T10:39:27.184Z"
      },
      {
        "duration": 3,
        "start_time": "2021-10-20T10:39:27.467Z"
      },
      {
        "duration": 15,
        "start_time": "2021-10-20T10:39:27.471Z"
      },
      {
        "duration": 18,
        "start_time": "2021-10-20T10:39:27.488Z"
      },
      {
        "duration": 4,
        "start_time": "2021-10-20T10:39:27.508Z"
      },
      {
        "duration": 13,
        "start_time": "2021-10-20T10:39:27.514Z"
      },
      {
        "duration": 16,
        "start_time": "2021-10-20T10:39:27.529Z"
      },
      {
        "duration": 202,
        "start_time": "2021-10-20T10:39:27.547Z"
      },
      {
        "duration": 136,
        "start_time": "2021-10-20T10:39:27.753Z"
      },
      {
        "duration": 10,
        "start_time": "2021-10-20T10:39:27.892Z"
      },
      {
        "duration": 285,
        "start_time": "2021-10-20T10:39:27.904Z"
      },
      {
        "duration": 28,
        "start_time": "2021-10-20T10:39:28.191Z"
      },
      {
        "duration": 5,
        "start_time": "2021-10-20T10:39:28.221Z"
      },
      {
        "duration": 657,
        "start_time": "2021-10-20T10:39:28.245Z"
      },
      {
        "duration": 113,
        "start_time": "2021-10-20T10:39:28.904Z"
      },
      {
        "duration": 3,
        "start_time": "2021-10-20T10:39:29.019Z"
      },
      {
        "duration": 21,
        "start_time": "2021-10-20T10:39:29.023Z"
      },
      {
        "duration": 4,
        "start_time": "2021-10-20T10:39:29.046Z"
      },
      {
        "duration": 7,
        "start_time": "2021-10-20T10:39:29.051Z"
      },
      {
        "duration": 11,
        "start_time": "2021-10-20T10:39:29.060Z"
      },
      {
        "duration": 11,
        "start_time": "2021-10-20T10:39:29.073Z"
      },
      {
        "duration": 11,
        "start_time": "2021-10-20T10:39:29.085Z"
      },
      {
        "duration": 17,
        "start_time": "2021-10-20T10:39:29.098Z"
      },
      {
        "duration": 31,
        "start_time": "2021-10-20T10:39:29.117Z"
      },
      {
        "duration": 23,
        "start_time": "2021-10-20T10:39:29.150Z"
      },
      {
        "duration": 280,
        "start_time": "2021-10-20T10:39:29.174Z"
      },
      {
        "duration": 17,
        "start_time": "2021-10-20T10:39:29.455Z"
      },
      {
        "duration": 6,
        "start_time": "2021-10-20T10:39:29.474Z"
      },
      {
        "duration": 6,
        "start_time": "2021-10-20T10:39:29.481Z"
      },
      {
        "duration": 10,
        "start_time": "2021-10-20T10:39:29.489Z"
      },
      {
        "duration": 21,
        "start_time": "2021-10-20T10:39:29.500Z"
      },
      {
        "duration": 21,
        "start_time": "2021-10-20T10:39:29.523Z"
      },
      {
        "duration": 69227,
        "start_time": "2021-10-20T10:39:29.546Z"
      },
      {
        "duration": 11,
        "start_time": "2021-10-20T10:40:38.775Z"
      },
      {
        "duration": 11,
        "start_time": "2021-10-20T10:40:38.788Z"
      },
      {
        "duration": 22,
        "start_time": "2021-10-20T10:40:38.800Z"
      },
      {
        "duration": 11,
        "start_time": "2021-10-20T10:40:38.823Z"
      },
      {
        "duration": 13,
        "start_time": "2021-10-20T10:40:38.836Z"
      },
      {
        "duration": 9,
        "start_time": "2021-10-20T10:40:38.850Z"
      },
      {
        "duration": 6,
        "start_time": "2021-10-20T10:40:38.860Z"
      },
      {
        "duration": 39,
        "start_time": "2021-10-20T10:40:38.868Z"
      },
      {
        "duration": 11,
        "start_time": "2021-10-20T10:40:38.910Z"
      },
      {
        "duration": 13,
        "start_time": "2021-10-20T10:40:38.923Z"
      },
      {
        "duration": 21,
        "start_time": "2021-10-20T10:40:38.938Z"
      },
      {
        "duration": 15,
        "start_time": "2021-10-20T10:40:38.961Z"
      },
      {
        "duration": 27,
        "start_time": "2021-10-20T10:40:38.977Z"
      },
      {
        "duration": 70395,
        "start_time": "2021-10-20T10:40:39.006Z"
      },
      {
        "duration": 4,
        "start_time": "2021-10-20T10:41:49.403Z"
      },
      {
        "duration": 18,
        "start_time": "2021-10-20T10:41:49.408Z"
      },
      {
        "duration": 7932,
        "start_time": "2021-10-20T10:41:49.428Z"
      },
      {
        "duration": -35430,
        "start_time": "2021-10-20T10:42:32.792Z"
      },
      {
        "duration": -35434,
        "start_time": "2021-10-20T10:42:32.798Z"
      },
      {
        "duration": -35443,
        "start_time": "2021-10-20T10:42:32.808Z"
      },
      {
        "duration": 93,
        "start_time": "2021-10-20T10:43:10.647Z"
      },
      {
        "duration": 201,
        "start_time": "2021-10-20T10:50:48.043Z"
      },
      {
        "duration": 1198,
        "start_time": "2021-10-20T10:51:00.282Z"
      },
      {
        "duration": 7,
        "start_time": "2021-10-20T10:51:01.482Z"
      },
      {
        "duration": 55,
        "start_time": "2021-10-20T10:51:01.493Z"
      },
      {
        "duration": 17,
        "start_time": "2021-10-20T10:51:01.550Z"
      },
      {
        "duration": 43,
        "start_time": "2021-10-20T10:51:01.569Z"
      },
      {
        "duration": 47,
        "start_time": "2021-10-20T10:51:01.613Z"
      },
      {
        "duration": 43,
        "start_time": "2021-10-20T10:51:01.662Z"
      },
      {
        "duration": 60,
        "start_time": "2021-10-20T10:51:01.707Z"
      },
      {
        "duration": 584,
        "start_time": "2021-10-20T10:51:01.769Z"
      },
      {
        "duration": 6,
        "start_time": "2021-10-20T10:51:02.355Z"
      },
      {
        "duration": 12,
        "start_time": "2021-10-20T10:51:02.363Z"
      },
      {
        "duration": 31,
        "start_time": "2021-10-20T10:51:02.377Z"
      },
      {
        "duration": 306,
        "start_time": "2021-10-20T10:51:02.409Z"
      },
      {
        "duration": 6,
        "start_time": "2021-10-20T10:51:02.717Z"
      },
      {
        "duration": 260,
        "start_time": "2021-10-20T10:51:02.725Z"
      },
      {
        "duration": 2,
        "start_time": "2021-10-20T10:51:02.986Z"
      },
      {
        "duration": 24,
        "start_time": "2021-10-20T10:51:02.990Z"
      },
      {
        "duration": 19,
        "start_time": "2021-10-20T10:51:03.016Z"
      },
      {
        "duration": 28,
        "start_time": "2021-10-20T10:51:03.037Z"
      },
      {
        "duration": 23,
        "start_time": "2021-10-20T10:51:03.067Z"
      },
      {
        "duration": 19,
        "start_time": "2021-10-20T10:51:03.092Z"
      },
      {
        "duration": 191,
        "start_time": "2021-10-20T10:51:03.115Z"
      },
      {
        "duration": 129,
        "start_time": "2021-10-20T10:51:03.309Z"
      },
      {
        "duration": 9,
        "start_time": "2021-10-20T10:51:03.444Z"
      },
      {
        "duration": 276,
        "start_time": "2021-10-20T10:51:03.455Z"
      },
      {
        "duration": 32,
        "start_time": "2021-10-20T10:51:03.733Z"
      },
      {
        "duration": 5,
        "start_time": "2021-10-20T10:51:03.766Z"
      },
      {
        "duration": 649,
        "start_time": "2021-10-20T10:51:03.773Z"
      },
      {
        "duration": 104,
        "start_time": "2021-10-20T10:51:04.424Z"
      },
      {
        "duration": 3,
        "start_time": "2021-10-20T10:51:04.530Z"
      },
      {
        "duration": 30,
        "start_time": "2021-10-20T10:51:04.534Z"
      },
      {
        "duration": 29,
        "start_time": "2021-10-20T10:51:04.565Z"
      },
      {
        "duration": 18,
        "start_time": "2021-10-20T10:51:04.596Z"
      },
      {
        "duration": 30,
        "start_time": "2021-10-20T10:51:04.616Z"
      },
      {
        "duration": 19,
        "start_time": "2021-10-20T10:51:04.648Z"
      },
      {
        "duration": 21,
        "start_time": "2021-10-20T10:51:04.669Z"
      },
      {
        "duration": 14,
        "start_time": "2021-10-20T10:51:04.691Z"
      },
      {
        "duration": 7,
        "start_time": "2021-10-20T10:51:04.706Z"
      },
      {
        "duration": 33,
        "start_time": "2021-10-20T10:51:04.714Z"
      },
      {
        "duration": 241,
        "start_time": "2021-10-20T10:51:04.749Z"
      },
      {
        "duration": 15,
        "start_time": "2021-10-20T10:51:04.992Z"
      },
      {
        "duration": 13,
        "start_time": "2021-10-20T10:51:05.008Z"
      },
      {
        "duration": 27,
        "start_time": "2021-10-20T10:51:05.022Z"
      },
      {
        "duration": 29,
        "start_time": "2021-10-20T10:51:05.051Z"
      },
      {
        "duration": 32,
        "start_time": "2021-10-20T10:51:05.082Z"
      },
      {
        "duration": 29,
        "start_time": "2021-10-20T10:51:05.116Z"
      },
      {
        "duration": 1318,
        "start_time": "2021-10-20T10:52:00.521Z"
      },
      {
        "duration": 8,
        "start_time": "2021-10-20T10:52:01.841Z"
      },
      {
        "duration": 55,
        "start_time": "2021-10-20T10:52:01.851Z"
      },
      {
        "duration": 15,
        "start_time": "2021-10-20T10:52:01.911Z"
      },
      {
        "duration": 26,
        "start_time": "2021-10-20T10:52:01.927Z"
      },
      {
        "duration": 41,
        "start_time": "2021-10-20T10:52:01.955Z"
      },
      {
        "duration": 53,
        "start_time": "2021-10-20T10:52:01.997Z"
      },
      {
        "duration": 23,
        "start_time": "2021-10-20T10:52:02.054Z"
      },
      {
        "duration": 1053,
        "start_time": "2021-10-20T10:52:02.079Z"
      },
      {
        "duration": 8,
        "start_time": "2021-10-20T10:52:03.134Z"
      },
      {
        "duration": 15,
        "start_time": "2021-10-20T10:52:03.144Z"
      },
      {
        "duration": 11,
        "start_time": "2021-10-20T10:52:03.161Z"
      },
      {
        "duration": 246,
        "start_time": "2021-10-20T10:52:03.174Z"
      },
      {
        "duration": 8,
        "start_time": "2021-10-20T10:52:03.422Z"
      },
      {
        "duration": 270,
        "start_time": "2021-10-20T10:52:03.432Z"
      },
      {
        "duration": 2,
        "start_time": "2021-10-20T10:52:03.704Z"
      },
      {
        "duration": 12,
        "start_time": "2021-10-20T10:52:03.708Z"
      },
      {
        "duration": 25,
        "start_time": "2021-10-20T10:52:03.722Z"
      },
      {
        "duration": 12,
        "start_time": "2021-10-20T10:52:03.749Z"
      },
      {
        "duration": 27,
        "start_time": "2021-10-20T10:52:03.763Z"
      },
      {
        "duration": 29,
        "start_time": "2021-10-20T10:52:03.791Z"
      },
      {
        "duration": 209,
        "start_time": "2021-10-20T10:52:03.822Z"
      },
      {
        "duration": 136,
        "start_time": "2021-10-20T10:52:04.045Z"
      },
      {
        "duration": 10,
        "start_time": "2021-10-20T10:52:04.184Z"
      },
      {
        "duration": 299,
        "start_time": "2021-10-20T10:52:04.195Z"
      },
      {
        "duration": 28,
        "start_time": "2021-10-20T10:52:04.496Z"
      },
      {
        "duration": 19,
        "start_time": "2021-10-20T10:52:04.526Z"
      },
      {
        "duration": 686,
        "start_time": "2021-10-20T10:52:04.547Z"
      },
      {
        "duration": 117,
        "start_time": "2021-10-20T10:52:05.235Z"
      },
      {
        "duration": 4,
        "start_time": "2021-10-20T10:52:05.353Z"
      },
      {
        "duration": 29,
        "start_time": "2021-10-20T10:52:05.359Z"
      },
      {
        "duration": 27,
        "start_time": "2021-10-20T10:52:05.389Z"
      },
      {
        "duration": 35,
        "start_time": "2021-10-20T10:52:05.418Z"
      },
      {
        "duration": 38,
        "start_time": "2021-10-20T10:52:05.455Z"
      },
      {
        "duration": 16,
        "start_time": "2021-10-20T10:52:05.495Z"
      },
      {
        "duration": 42,
        "start_time": "2021-10-20T10:52:05.512Z"
      },
      {
        "duration": 27,
        "start_time": "2021-10-20T10:52:05.556Z"
      },
      {
        "duration": 9,
        "start_time": "2021-10-20T10:52:05.584Z"
      },
      {
        "duration": 44,
        "start_time": "2021-10-20T10:52:05.595Z"
      },
      {
        "duration": 255,
        "start_time": "2021-10-20T10:52:05.641Z"
      },
      {
        "duration": 17,
        "start_time": "2021-10-20T10:52:05.898Z"
      },
      {
        "duration": 7,
        "start_time": "2021-10-20T10:52:05.917Z"
      },
      {
        "duration": 23,
        "start_time": "2021-10-20T10:52:05.925Z"
      },
      {
        "duration": 23,
        "start_time": "2021-10-20T10:52:05.950Z"
      },
      {
        "duration": 44,
        "start_time": "2021-10-20T10:52:05.975Z"
      },
      {
        "duration": 29,
        "start_time": "2021-10-20T10:52:06.021Z"
      },
      {
        "duration": 1212,
        "start_time": "2021-10-20T10:52:52.655Z"
      },
      {
        "duration": 6,
        "start_time": "2021-10-20T10:52:53.869Z"
      },
      {
        "duration": 45,
        "start_time": "2021-10-20T10:52:53.877Z"
      },
      {
        "duration": 10,
        "start_time": "2021-10-20T10:52:53.924Z"
      },
      {
        "duration": 20,
        "start_time": "2021-10-20T10:52:53.944Z"
      },
      {
        "duration": 12,
        "start_time": "2021-10-20T10:52:53.965Z"
      },
      {
        "duration": 13,
        "start_time": "2021-10-20T10:52:53.978Z"
      },
      {
        "duration": 19,
        "start_time": "2021-10-20T10:52:53.994Z"
      },
      {
        "duration": 545,
        "start_time": "2021-10-20T10:52:54.015Z"
      },
      {
        "duration": 7,
        "start_time": "2021-10-20T10:52:54.562Z"
      },
      {
        "duration": 15,
        "start_time": "2021-10-20T10:52:54.571Z"
      },
      {
        "duration": 11,
        "start_time": "2021-10-20T10:52:54.588Z"
      },
      {
        "duration": 246,
        "start_time": "2021-10-20T10:52:54.601Z"
      },
      {
        "duration": 7,
        "start_time": "2021-10-20T10:52:54.848Z"
      },
      {
        "duration": 254,
        "start_time": "2021-10-20T10:52:54.857Z"
      },
      {
        "duration": 2,
        "start_time": "2021-10-20T10:52:55.113Z"
      },
      {
        "duration": 10,
        "start_time": "2021-10-20T10:52:55.116Z"
      },
      {
        "duration": 16,
        "start_time": "2021-10-20T10:52:55.128Z"
      },
      {
        "duration": 4,
        "start_time": "2021-10-20T10:52:55.145Z"
      },
      {
        "duration": 11,
        "start_time": "2021-10-20T10:52:55.151Z"
      },
      {
        "duration": 10,
        "start_time": "2021-10-20T10:52:55.164Z"
      },
      {
        "duration": 216,
        "start_time": "2021-10-20T10:52:55.176Z"
      },
      {
        "duration": 137,
        "start_time": "2021-10-20T10:52:55.396Z"
      },
      {
        "duration": 15,
        "start_time": "2021-10-20T10:52:55.535Z"
      },
      {
        "duration": 275,
        "start_time": "2021-10-20T10:52:55.551Z"
      },
      {
        "duration": 40,
        "start_time": "2021-10-20T10:52:55.828Z"
      },
      {
        "duration": 5,
        "start_time": "2021-10-20T10:52:55.869Z"
      },
      {
        "duration": 635,
        "start_time": "2021-10-20T10:52:55.876Z"
      },
      {
        "duration": 102,
        "start_time": "2021-10-20T10:52:56.513Z"
      },
      {
        "duration": 2,
        "start_time": "2021-10-20T10:52:56.617Z"
      },
      {
        "duration": 24,
        "start_time": "2021-10-20T10:52:56.621Z"
      },
      {
        "duration": 9,
        "start_time": "2021-10-20T10:52:56.647Z"
      },
      {
        "duration": 8,
        "start_time": "2021-10-20T10:52:56.657Z"
      },
      {
        "duration": 10,
        "start_time": "2021-10-20T10:52:56.666Z"
      },
      {
        "duration": 11,
        "start_time": "2021-10-20T10:52:56.677Z"
      },
      {
        "duration": 25,
        "start_time": "2021-10-20T10:52:56.690Z"
      },
      {
        "duration": 10,
        "start_time": "2021-10-20T10:52:56.717Z"
      },
      {
        "duration": 5,
        "start_time": "2021-10-20T10:52:56.729Z"
      },
      {
        "duration": 28,
        "start_time": "2021-10-20T10:52:56.736Z"
      },
      {
        "duration": 263,
        "start_time": "2021-10-20T10:52:56.766Z"
      },
      {
        "duration": 20,
        "start_time": "2021-10-20T10:52:57.031Z"
      },
      {
        "duration": 6,
        "start_time": "2021-10-20T10:52:57.053Z"
      },
      {
        "duration": 11,
        "start_time": "2021-10-20T10:52:57.061Z"
      },
      {
        "duration": 10,
        "start_time": "2021-10-20T10:52:57.074Z"
      },
      {
        "duration": 19,
        "start_time": "2021-10-20T10:52:57.086Z"
      },
      {
        "duration": 8,
        "start_time": "2021-10-20T10:52:57.107Z"
      },
      {
        "duration": 65866,
        "start_time": "2021-10-20T10:52:57.117Z"
      },
      {
        "duration": 12,
        "start_time": "2021-10-20T10:54:02.984Z"
      },
      {
        "duration": 12,
        "start_time": "2021-10-20T10:54:02.997Z"
      },
      {
        "duration": 17,
        "start_time": "2021-10-20T10:54:03.010Z"
      },
      {
        "duration": 10,
        "start_time": "2021-10-20T10:54:03.029Z"
      },
      {
        "duration": 20,
        "start_time": "2021-10-20T10:54:03.041Z"
      },
      {
        "duration": 25,
        "start_time": "2021-10-20T10:54:03.063Z"
      },
      {
        "duration": 8,
        "start_time": "2021-10-20T10:54:03.090Z"
      },
      {
        "duration": 23,
        "start_time": "2021-10-20T10:54:03.100Z"
      },
      {
        "duration": 24,
        "start_time": "2021-10-20T10:54:03.125Z"
      },
      {
        "duration": 23,
        "start_time": "2021-10-20T10:54:03.151Z"
      },
      {
        "duration": 35,
        "start_time": "2021-10-20T10:54:03.176Z"
      },
      {
        "duration": 18,
        "start_time": "2021-10-20T10:54:03.212Z"
      },
      {
        "duration": 37,
        "start_time": "2021-10-20T10:54:03.231Z"
      },
      {
        "duration": 1186,
        "start_time": "2021-10-20T10:54:27.677Z"
      },
      {
        "duration": 7,
        "start_time": "2021-10-20T10:54:28.865Z"
      },
      {
        "duration": 57,
        "start_time": "2021-10-20T10:54:28.875Z"
      },
      {
        "duration": 11,
        "start_time": "2021-10-20T10:54:28.934Z"
      },
      {
        "duration": 42,
        "start_time": "2021-10-20T10:54:28.946Z"
      },
      {
        "duration": 25,
        "start_time": "2021-10-20T10:54:28.989Z"
      },
      {
        "duration": 28,
        "start_time": "2021-10-20T10:54:29.017Z"
      },
      {
        "duration": 31,
        "start_time": "2021-10-20T10:54:29.047Z"
      },
      {
        "duration": 514,
        "start_time": "2021-10-20T10:54:29.080Z"
      },
      {
        "duration": 8,
        "start_time": "2021-10-20T10:54:29.597Z"
      },
      {
        "duration": 23,
        "start_time": "2021-10-20T10:54:29.607Z"
      },
      {
        "duration": 23,
        "start_time": "2021-10-20T10:54:29.631Z"
      },
      {
        "duration": 242,
        "start_time": "2021-10-20T10:54:29.657Z"
      },
      {
        "duration": 9,
        "start_time": "2021-10-20T10:54:29.901Z"
      },
      {
        "duration": 371,
        "start_time": "2021-10-20T10:54:29.912Z"
      },
      {
        "duration": 2,
        "start_time": "2021-10-20T10:54:30.286Z"
      },
      {
        "duration": 35,
        "start_time": "2021-10-20T10:54:30.290Z"
      },
      {
        "duration": 38,
        "start_time": "2021-10-20T10:54:30.327Z"
      },
      {
        "duration": 28,
        "start_time": "2021-10-20T10:54:30.367Z"
      },
      {
        "duration": 46,
        "start_time": "2021-10-20T10:54:30.397Z"
      },
      {
        "duration": 32,
        "start_time": "2021-10-20T10:54:30.444Z"
      },
      {
        "duration": 250,
        "start_time": "2021-10-20T10:54:30.480Z"
      },
      {
        "duration": 133,
        "start_time": "2021-10-20T10:54:30.733Z"
      },
      {
        "duration": 10,
        "start_time": "2021-10-20T10:54:30.868Z"
      },
      {
        "duration": 281,
        "start_time": "2021-10-20T10:54:30.879Z"
      },
      {
        "duration": 27,
        "start_time": "2021-10-20T10:54:31.162Z"
      },
      {
        "duration": 8,
        "start_time": "2021-10-20T10:54:31.191Z"
      },
      {
        "duration": 650,
        "start_time": "2021-10-20T10:54:31.201Z"
      },
      {
        "duration": 105,
        "start_time": "2021-10-20T10:54:31.852Z"
      },
      {
        "duration": 3,
        "start_time": "2021-10-20T10:54:31.959Z"
      },
      {
        "duration": 29,
        "start_time": "2021-10-20T10:54:31.963Z"
      },
      {
        "duration": 20,
        "start_time": "2021-10-20T10:54:31.993Z"
      },
      {
        "duration": 28,
        "start_time": "2021-10-20T10:54:32.014Z"
      },
      {
        "duration": 25,
        "start_time": "2021-10-20T10:54:32.044Z"
      },
      {
        "duration": 35,
        "start_time": "2021-10-20T10:54:32.070Z"
      },
      {
        "duration": 26,
        "start_time": "2021-10-20T10:54:32.107Z"
      },
      {
        "duration": 20,
        "start_time": "2021-10-20T10:54:32.135Z"
      },
      {
        "duration": 6,
        "start_time": "2021-10-20T10:54:32.157Z"
      },
      {
        "duration": 30,
        "start_time": "2021-10-20T10:54:32.165Z"
      },
      {
        "duration": 280,
        "start_time": "2021-10-20T10:54:32.197Z"
      },
      {
        "duration": 15,
        "start_time": "2021-10-20T10:54:32.478Z"
      },
      {
        "duration": 13,
        "start_time": "2021-10-20T10:54:32.495Z"
      },
      {
        "duration": 20,
        "start_time": "2021-10-20T10:54:32.509Z"
      },
      {
        "duration": 22,
        "start_time": "2021-10-20T10:54:32.530Z"
      },
      {
        "duration": 29,
        "start_time": "2021-10-20T10:54:32.553Z"
      },
      {
        "duration": 7,
        "start_time": "2021-10-20T10:54:32.584Z"
      },
      {
        "duration": 65434,
        "start_time": "2021-10-20T10:54:32.593Z"
      },
      {
        "duration": 11,
        "start_time": "2021-10-20T10:55:38.029Z"
      },
      {
        "duration": 16,
        "start_time": "2021-10-20T10:55:38.041Z"
      },
      {
        "duration": 22,
        "start_time": "2021-10-20T10:55:38.058Z"
      },
      {
        "duration": 7,
        "start_time": "2021-10-20T10:55:38.081Z"
      },
      {
        "duration": 13,
        "start_time": "2021-10-20T10:55:38.089Z"
      },
      {
        "duration": 12,
        "start_time": "2021-10-20T10:55:38.103Z"
      },
      {
        "duration": 7,
        "start_time": "2021-10-20T10:55:38.118Z"
      },
      {
        "duration": 21,
        "start_time": "2021-10-20T10:55:38.127Z"
      },
      {
        "duration": 8,
        "start_time": "2021-10-20T10:55:38.150Z"
      },
      {
        "duration": 6,
        "start_time": "2021-10-20T10:55:38.159Z"
      },
      {
        "duration": 13,
        "start_time": "2021-10-20T10:55:38.167Z"
      },
      {
        "duration": 7,
        "start_time": "2021-10-20T10:55:38.182Z"
      },
      {
        "duration": 18,
        "start_time": "2021-10-20T10:55:38.190Z"
      },
      {
        "duration": 1217,
        "start_time": "2021-10-20T10:55:59.250Z"
      },
      {
        "duration": 7,
        "start_time": "2021-10-20T10:56:00.469Z"
      },
      {
        "duration": 62,
        "start_time": "2021-10-20T10:56:00.478Z"
      },
      {
        "duration": 11,
        "start_time": "2021-10-20T10:56:00.541Z"
      },
      {
        "duration": 37,
        "start_time": "2021-10-20T10:56:00.554Z"
      },
      {
        "duration": 27,
        "start_time": "2021-10-20T10:56:00.592Z"
      },
      {
        "duration": 32,
        "start_time": "2021-10-20T10:56:00.621Z"
      },
      {
        "duration": 28,
        "start_time": "2021-10-20T10:56:00.656Z"
      },
      {
        "duration": 507,
        "start_time": "2021-10-20T10:56:00.686Z"
      },
      {
        "duration": 7,
        "start_time": "2021-10-20T10:56:01.195Z"
      },
      {
        "duration": 37,
        "start_time": "2021-10-20T10:56:01.204Z"
      },
      {
        "duration": 33,
        "start_time": "2021-10-20T10:56:01.243Z"
      },
      {
        "duration": 259,
        "start_time": "2021-10-20T10:56:01.278Z"
      },
      {
        "duration": 7,
        "start_time": "2021-10-20T10:56:01.544Z"
      },
      {
        "duration": 270,
        "start_time": "2021-10-20T10:56:01.553Z"
      },
      {
        "duration": 2,
        "start_time": "2021-10-20T10:56:01.825Z"
      },
      {
        "duration": 47,
        "start_time": "2021-10-20T10:56:01.829Z"
      },
      {
        "duration": 33,
        "start_time": "2021-10-20T10:56:01.878Z"
      },
      {
        "duration": 30,
        "start_time": "2021-10-20T10:56:01.913Z"
      },
      {
        "duration": 40,
        "start_time": "2021-10-20T10:56:01.945Z"
      },
      {
        "duration": 52,
        "start_time": "2021-10-20T10:56:01.987Z"
      },
      {
        "duration": 344,
        "start_time": "2021-10-20T10:56:02.041Z"
      },
      {
        "duration": 133,
        "start_time": "2021-10-20T10:56:02.389Z"
      },
      {
        "duration": 20,
        "start_time": "2021-10-20T10:56:02.525Z"
      },
      {
        "duration": 282,
        "start_time": "2021-10-20T10:56:02.547Z"
      },
      {
        "duration": 33,
        "start_time": "2021-10-20T10:56:02.830Z"
      },
      {
        "duration": 5,
        "start_time": "2021-10-20T10:56:02.865Z"
      },
      {
        "duration": 633,
        "start_time": "2021-10-20T10:56:02.872Z"
      },
      {
        "duration": 108,
        "start_time": "2021-10-20T10:56:03.507Z"
      },
      {
        "duration": 4,
        "start_time": "2021-10-20T10:56:03.616Z"
      },
      {
        "duration": 23,
        "start_time": "2021-10-20T10:56:03.621Z"
      },
      {
        "duration": 12,
        "start_time": "2021-10-20T10:56:03.646Z"
      },
      {
        "duration": 24,
        "start_time": "2021-10-20T10:56:03.660Z"
      },
      {
        "duration": 19,
        "start_time": "2021-10-20T10:56:03.686Z"
      },
      {
        "duration": 18,
        "start_time": "2021-10-20T10:56:03.707Z"
      },
      {
        "duration": 19,
        "start_time": "2021-10-20T10:56:03.727Z"
      },
      {
        "duration": 18,
        "start_time": "2021-10-20T10:56:03.748Z"
      },
      {
        "duration": 15,
        "start_time": "2021-10-20T10:56:03.767Z"
      },
      {
        "duration": 31,
        "start_time": "2021-10-20T10:56:03.784Z"
      },
      {
        "duration": 242,
        "start_time": "2021-10-20T10:56:03.817Z"
      },
      {
        "duration": 17,
        "start_time": "2021-10-20T10:56:04.061Z"
      },
      {
        "duration": 6,
        "start_time": "2021-10-20T10:56:04.080Z"
      },
      {
        "duration": 20,
        "start_time": "2021-10-20T10:56:04.088Z"
      },
      {
        "duration": 15,
        "start_time": "2021-10-20T10:56:04.109Z"
      },
      {
        "duration": 26,
        "start_time": "2021-10-20T10:56:04.125Z"
      },
      {
        "duration": 17,
        "start_time": "2021-10-20T10:56:04.152Z"
      },
      {
        "duration": 68483,
        "start_time": "2021-10-20T10:56:04.171Z"
      },
      {
        "duration": 11,
        "start_time": "2021-10-20T10:57:12.656Z"
      },
      {
        "duration": 7,
        "start_time": "2021-10-20T10:57:12.669Z"
      },
      {
        "duration": 22,
        "start_time": "2021-10-20T10:57:12.677Z"
      },
      {
        "duration": 5,
        "start_time": "2021-10-20T10:57:12.700Z"
      },
      {
        "duration": 6,
        "start_time": "2021-10-20T10:57:12.706Z"
      },
      {
        "duration": 6,
        "start_time": "2021-10-20T10:57:12.713Z"
      },
      {
        "duration": 10,
        "start_time": "2021-10-20T10:57:12.720Z"
      },
      {
        "duration": 15,
        "start_time": "2021-10-20T10:57:12.732Z"
      },
      {
        "duration": 14,
        "start_time": "2021-10-20T10:57:12.749Z"
      },
      {
        "duration": 10,
        "start_time": "2021-10-20T10:57:12.765Z"
      },
      {
        "duration": 18,
        "start_time": "2021-10-20T10:57:12.777Z"
      },
      {
        "duration": 12,
        "start_time": "2021-10-20T10:57:12.796Z"
      },
      {
        "duration": 20,
        "start_time": "2021-10-20T10:57:12.810Z"
      },
      {
        "duration": 1246,
        "start_time": "2021-10-20T10:57:20.019Z"
      },
      {
        "duration": 6,
        "start_time": "2021-10-20T10:57:21.267Z"
      },
      {
        "duration": 49,
        "start_time": "2021-10-20T10:57:21.275Z"
      },
      {
        "duration": 12,
        "start_time": "2021-10-20T10:57:21.325Z"
      },
      {
        "duration": 25,
        "start_time": "2021-10-20T10:57:21.338Z"
      },
      {
        "duration": 11,
        "start_time": "2021-10-20T10:57:21.365Z"
      },
      {
        "duration": 14,
        "start_time": "2021-10-20T10:57:21.377Z"
      },
      {
        "duration": 22,
        "start_time": "2021-10-20T10:57:21.392Z"
      },
      {
        "duration": 873,
        "start_time": "2021-10-20T10:57:21.417Z"
      },
      {
        "duration": 7,
        "start_time": "2021-10-20T10:57:22.293Z"
      },
      {
        "duration": 19,
        "start_time": "2021-10-20T10:57:22.303Z"
      },
      {
        "duration": 28,
        "start_time": "2021-10-20T10:57:22.323Z"
      },
      {
        "duration": 259,
        "start_time": "2021-10-20T10:57:22.353Z"
      },
      {
        "duration": 8,
        "start_time": "2021-10-20T10:57:22.613Z"
      },
      {
        "duration": 257,
        "start_time": "2021-10-20T10:57:22.623Z"
      },
      {
        "duration": 2,
        "start_time": "2021-10-20T10:57:22.882Z"
      },
      {
        "duration": 15,
        "start_time": "2021-10-20T10:57:22.885Z"
      },
      {
        "duration": 10,
        "start_time": "2021-10-20T10:57:22.902Z"
      },
      {
        "duration": 4,
        "start_time": "2021-10-20T10:57:22.914Z"
      },
      {
        "duration": 6,
        "start_time": "2021-10-20T10:57:22.920Z"
      },
      {
        "duration": 17,
        "start_time": "2021-10-20T10:57:22.928Z"
      },
      {
        "duration": 231,
        "start_time": "2021-10-20T10:57:22.947Z"
      },
      {
        "duration": 165,
        "start_time": "2021-10-20T10:57:23.180Z"
      },
      {
        "duration": 10,
        "start_time": "2021-10-20T10:57:23.346Z"
      },
      {
        "duration": 357,
        "start_time": "2021-10-20T10:57:23.357Z"
      },
      {
        "duration": 31,
        "start_time": "2021-10-20T10:57:23.716Z"
      },
      {
        "duration": 4,
        "start_time": "2021-10-20T10:57:23.752Z"
      },
      {
        "duration": 639,
        "start_time": "2021-10-20T10:57:23.758Z"
      },
      {
        "duration": 113,
        "start_time": "2021-10-20T10:57:24.398Z"
      },
      {
        "duration": 3,
        "start_time": "2021-10-20T10:57:24.513Z"
      },
      {
        "duration": 24,
        "start_time": "2021-10-20T10:57:24.518Z"
      },
      {
        "duration": 14,
        "start_time": "2021-10-20T10:57:24.544Z"
      },
      {
        "duration": 23,
        "start_time": "2021-10-20T10:57:24.560Z"
      },
      {
        "duration": 14,
        "start_time": "2021-10-20T10:57:24.585Z"
      },
      {
        "duration": 13,
        "start_time": "2021-10-20T10:57:24.601Z"
      },
      {
        "duration": 31,
        "start_time": "2021-10-20T10:57:24.616Z"
      },
      {
        "duration": 33,
        "start_time": "2021-10-20T10:57:24.649Z"
      },
      {
        "duration": 36,
        "start_time": "2021-10-20T10:57:24.683Z"
      },
      {
        "duration": 33,
        "start_time": "2021-10-20T10:57:24.720Z"
      },
      {
        "duration": 246,
        "start_time": "2021-10-20T10:57:24.755Z"
      },
      {
        "duration": 15,
        "start_time": "2021-10-20T10:57:25.003Z"
      },
      {
        "duration": 14,
        "start_time": "2021-10-20T10:57:25.019Z"
      },
      {
        "duration": 11,
        "start_time": "2021-10-20T10:57:25.044Z"
      },
      {
        "duration": 20,
        "start_time": "2021-10-20T10:57:25.057Z"
      },
      {
        "duration": 24,
        "start_time": "2021-10-20T10:57:25.079Z"
      },
      {
        "duration": 23,
        "start_time": "2021-10-20T10:57:25.105Z"
      },
      {
        "duration": 63809,
        "start_time": "2021-10-20T10:57:25.130Z"
      },
      {
        "duration": 13,
        "start_time": "2021-10-20T10:58:28.941Z"
      },
      {
        "duration": 11,
        "start_time": "2021-10-20T10:58:28.955Z"
      },
      {
        "duration": 25,
        "start_time": "2021-10-20T10:58:28.968Z"
      },
      {
        "duration": 21,
        "start_time": "2021-10-20T10:58:28.995Z"
      },
      {
        "duration": 30,
        "start_time": "2021-10-20T10:58:29.017Z"
      },
      {
        "duration": 20,
        "start_time": "2021-10-20T10:58:29.048Z"
      },
      {
        "duration": 24,
        "start_time": "2021-10-20T10:58:29.070Z"
      },
      {
        "duration": 25,
        "start_time": "2021-10-20T10:58:29.096Z"
      },
      {
        "duration": 4,
        "start_time": "2021-10-20T10:58:29.122Z"
      },
      {
        "duration": 16,
        "start_time": "2021-10-20T10:58:29.127Z"
      },
      {
        "duration": 47,
        "start_time": "2021-10-20T10:58:29.145Z"
      },
      {
        "duration": 25,
        "start_time": "2021-10-20T10:58:29.193Z"
      },
      {
        "duration": 39,
        "start_time": "2021-10-20T10:58:29.220Z"
      },
      {
        "duration": 64041,
        "start_time": "2021-10-20T10:58:29.260Z"
      },
      {
        "duration": 4,
        "start_time": "2021-10-20T10:59:33.303Z"
      },
      {
        "duration": 23,
        "start_time": "2021-10-20T10:59:33.309Z"
      },
      {
        "duration": 7620,
        "start_time": "2021-10-20T10:59:33.334Z"
      },
      {
        "duration": -35363,
        "start_time": "2021-10-20T11:00:16.319Z"
      },
      {
        "duration": -35364,
        "start_time": "2021-10-20T11:00:16.321Z"
      },
      {
        "duration": -35366,
        "start_time": "2021-10-20T11:00:16.324Z"
      },
      {
        "duration": 310,
        "start_time": "2021-10-20T11:07:18.926Z"
      },
      {
        "duration": 1239,
        "start_time": "2021-10-20T11:09:10.245Z"
      },
      {
        "duration": 8,
        "start_time": "2021-10-20T11:09:11.486Z"
      },
      {
        "duration": 47,
        "start_time": "2021-10-20T11:09:11.498Z"
      },
      {
        "duration": 14,
        "start_time": "2021-10-20T11:09:11.547Z"
      },
      {
        "duration": 25,
        "start_time": "2021-10-20T11:09:11.563Z"
      },
      {
        "duration": 11,
        "start_time": "2021-10-20T11:09:11.589Z"
      },
      {
        "duration": 11,
        "start_time": "2021-10-20T11:09:11.602Z"
      },
      {
        "duration": 40,
        "start_time": "2021-10-20T11:09:11.615Z"
      },
      {
        "duration": 502,
        "start_time": "2021-10-20T11:09:11.657Z"
      },
      {
        "duration": 7,
        "start_time": "2021-10-20T11:09:12.160Z"
      },
      {
        "duration": 8,
        "start_time": "2021-10-20T11:09:12.169Z"
      },
      {
        "duration": 17,
        "start_time": "2021-10-20T11:09:12.179Z"
      },
      {
        "duration": 275,
        "start_time": "2021-10-20T11:09:12.198Z"
      },
      {
        "duration": 7,
        "start_time": "2021-10-20T11:09:12.474Z"
      },
      {
        "duration": 273,
        "start_time": "2021-10-20T11:09:12.483Z"
      },
      {
        "duration": 2,
        "start_time": "2021-10-20T11:09:12.758Z"
      },
      {
        "duration": 20,
        "start_time": "2021-10-20T11:09:12.761Z"
      },
      {
        "duration": 25,
        "start_time": "2021-10-20T11:09:12.783Z"
      },
      {
        "duration": 17,
        "start_time": "2021-10-20T11:09:12.809Z"
      },
      {
        "duration": 15,
        "start_time": "2021-10-20T11:09:12.828Z"
      },
      {
        "duration": 13,
        "start_time": "2021-10-20T11:09:12.844Z"
      },
      {
        "duration": 248,
        "start_time": "2021-10-20T11:09:12.861Z"
      },
      {
        "duration": 175,
        "start_time": "2021-10-20T11:09:13.111Z"
      },
      {
        "duration": 10,
        "start_time": "2021-10-20T11:09:13.288Z"
      },
      {
        "duration": 390,
        "start_time": "2021-10-20T11:09:13.300Z"
      },
      {
        "duration": 28,
        "start_time": "2021-10-20T11:09:13.692Z"
      },
      {
        "duration": 5,
        "start_time": "2021-10-20T11:09:13.721Z"
      },
      {
        "duration": 652,
        "start_time": "2021-10-20T11:09:13.744Z"
      },
      {
        "duration": 110,
        "start_time": "2021-10-20T11:09:14.398Z"
      },
      {
        "duration": 3,
        "start_time": "2021-10-20T11:09:14.510Z"
      },
      {
        "duration": 17,
        "start_time": "2021-10-20T11:09:14.514Z"
      },
      {
        "duration": 5,
        "start_time": "2021-10-20T11:09:14.544Z"
      },
      {
        "duration": 10,
        "start_time": "2021-10-20T11:09:14.551Z"
      },
      {
        "duration": 11,
        "start_time": "2021-10-20T11:09:14.563Z"
      },
      {
        "duration": 18,
        "start_time": "2021-10-20T11:09:14.576Z"
      },
      {
        "duration": 17,
        "start_time": "2021-10-20T11:09:14.596Z"
      },
      {
        "duration": 29,
        "start_time": "2021-10-20T11:09:14.615Z"
      },
      {
        "duration": 8,
        "start_time": "2021-10-20T11:09:14.647Z"
      },
      {
        "duration": 24,
        "start_time": "2021-10-20T11:09:14.657Z"
      },
      {
        "duration": 276,
        "start_time": "2021-10-20T11:09:14.683Z"
      },
      {
        "duration": 18,
        "start_time": "2021-10-20T11:09:14.961Z"
      },
      {
        "duration": 8,
        "start_time": "2021-10-20T11:09:14.981Z"
      },
      {
        "duration": 6,
        "start_time": "2021-10-20T11:09:14.991Z"
      },
      {
        "duration": 23,
        "start_time": "2021-10-20T11:09:14.999Z"
      },
      {
        "duration": 29,
        "start_time": "2021-10-20T11:09:15.024Z"
      },
      {
        "duration": 8,
        "start_time": "2021-10-20T11:09:15.055Z"
      },
      {
        "duration": 66952,
        "start_time": "2021-10-20T11:09:15.065Z"
      },
      {
        "duration": 13,
        "start_time": "2021-10-20T11:10:22.019Z"
      },
      {
        "duration": 5,
        "start_time": "2021-10-20T11:10:22.034Z"
      },
      {
        "duration": 28,
        "start_time": "2021-10-20T11:10:22.041Z"
      },
      {
        "duration": 13,
        "start_time": "2021-10-20T11:10:22.071Z"
      },
      {
        "duration": 16,
        "start_time": "2021-10-20T11:10:22.086Z"
      },
      {
        "duration": 9,
        "start_time": "2021-10-20T11:10:22.104Z"
      },
      {
        "duration": 10,
        "start_time": "2021-10-20T11:10:22.115Z"
      },
      {
        "duration": 21,
        "start_time": "2021-10-20T11:10:22.127Z"
      },
      {
        "duration": 15,
        "start_time": "2021-10-20T11:10:22.150Z"
      },
      {
        "duration": 18,
        "start_time": "2021-10-20T11:10:22.166Z"
      },
      {
        "duration": 29,
        "start_time": "2021-10-20T11:10:22.186Z"
      },
      {
        "duration": 18,
        "start_time": "2021-10-20T11:10:22.218Z"
      },
      {
        "duration": 28,
        "start_time": "2021-10-20T11:10:22.238Z"
      },
      {
        "duration": 67500,
        "start_time": "2021-10-20T11:10:22.268Z"
      },
      {
        "duration": 4,
        "start_time": "2021-10-20T11:11:29.769Z"
      },
      {
        "duration": 20,
        "start_time": "2021-10-20T11:11:29.774Z"
      },
      {
        "duration": 6803,
        "start_time": "2021-10-20T11:11:29.796Z"
      },
      {
        "duration": -35424,
        "start_time": "2021-10-20T11:12:12.025Z"
      },
      {
        "duration": -35428,
        "start_time": "2021-10-20T11:12:12.030Z"
      },
      {
        "duration": -35430,
        "start_time": "2021-10-20T11:12:12.033Z"
      },
      {
        "duration": 1183,
        "start_time": "2021-10-20T11:22:49.303Z"
      },
      {
        "duration": 11,
        "start_time": "2021-10-20T11:22:50.488Z"
      },
      {
        "duration": 55,
        "start_time": "2021-10-20T11:22:50.501Z"
      },
      {
        "duration": 12,
        "start_time": "2021-10-20T11:22:50.558Z"
      },
      {
        "duration": 50,
        "start_time": "2021-10-20T11:22:50.572Z"
      },
      {
        "duration": 18,
        "start_time": "2021-10-20T11:22:50.623Z"
      },
      {
        "duration": 20,
        "start_time": "2021-10-20T11:22:50.643Z"
      },
      {
        "duration": 26,
        "start_time": "2021-10-20T11:22:50.666Z"
      },
      {
        "duration": 967,
        "start_time": "2021-10-20T11:22:50.695Z"
      },
      {
        "duration": 7,
        "start_time": "2021-10-20T11:22:51.664Z"
      },
      {
        "duration": 7,
        "start_time": "2021-10-20T11:22:51.673Z"
      },
      {
        "duration": 11,
        "start_time": "2021-10-20T11:22:51.681Z"
      },
      {
        "duration": 273,
        "start_time": "2021-10-20T11:22:51.693Z"
      },
      {
        "duration": 8,
        "start_time": "2021-10-20T11:22:51.968Z"
      },
      {
        "duration": 300,
        "start_time": "2021-10-20T11:22:51.978Z"
      },
      {
        "duration": 2,
        "start_time": "2021-10-20T11:22:52.280Z"
      },
      {
        "duration": 16,
        "start_time": "2021-10-20T11:22:52.283Z"
      },
      {
        "duration": 9,
        "start_time": "2021-10-20T11:22:52.301Z"
      },
      {
        "duration": 12,
        "start_time": "2021-10-20T11:22:52.312Z"
      },
      {
        "duration": 9,
        "start_time": "2021-10-20T11:22:52.326Z"
      },
      {
        "duration": 15,
        "start_time": "2021-10-20T11:22:52.337Z"
      },
      {
        "duration": 242,
        "start_time": "2021-10-20T11:22:52.354Z"
      },
      {
        "duration": 177,
        "start_time": "2021-10-20T11:22:52.600Z"
      },
      {
        "duration": 10,
        "start_time": "2021-10-20T11:22:52.779Z"
      },
      {
        "duration": 493,
        "start_time": "2021-10-20T11:22:52.791Z"
      },
      {
        "duration": 28,
        "start_time": "2021-10-20T11:22:53.285Z"
      },
      {
        "duration": 5,
        "start_time": "2021-10-20T11:22:53.315Z"
      },
      {
        "duration": 661,
        "start_time": "2021-10-20T11:22:53.321Z"
      },
      {
        "duration": 111,
        "start_time": "2021-10-20T11:22:53.984Z"
      },
      {
        "duration": 3,
        "start_time": "2021-10-20T11:22:54.096Z"
      },
      {
        "duration": 14,
        "start_time": "2021-10-20T11:22:54.101Z"
      },
      {
        "duration": 11,
        "start_time": "2021-10-20T11:22:54.116Z"
      },
      {
        "duration": 15,
        "start_time": "2021-10-20T11:22:54.129Z"
      },
      {
        "duration": 8,
        "start_time": "2021-10-20T11:22:54.146Z"
      },
      {
        "duration": 10,
        "start_time": "2021-10-20T11:22:54.156Z"
      },
      {
        "duration": 13,
        "start_time": "2021-10-20T11:22:54.167Z"
      },
      {
        "duration": 13,
        "start_time": "2021-10-20T11:22:54.181Z"
      },
      {
        "duration": 5,
        "start_time": "2021-10-20T11:22:54.196Z"
      },
      {
        "duration": 46,
        "start_time": "2021-10-20T11:22:54.202Z"
      },
      {
        "duration": 256,
        "start_time": "2021-10-20T11:22:54.250Z"
      },
      {
        "duration": 15,
        "start_time": "2021-10-20T11:22:54.507Z"
      },
      {
        "duration": 10,
        "start_time": "2021-10-20T11:22:54.524Z"
      },
      {
        "duration": 22,
        "start_time": "2021-10-20T11:22:54.535Z"
      },
      {
        "duration": 17,
        "start_time": "2021-10-20T11:22:54.559Z"
      },
      {
        "duration": 27,
        "start_time": "2021-10-20T11:22:54.578Z"
      },
      {
        "duration": 17,
        "start_time": "2021-10-20T11:22:54.607Z"
      },
      {
        "duration": 64928,
        "start_time": "2021-10-20T11:22:54.626Z"
      },
      {
        "duration": 12,
        "start_time": "2021-10-20T11:23:59.556Z"
      },
      {
        "duration": 6,
        "start_time": "2021-10-20T11:23:59.570Z"
      },
      {
        "duration": 15,
        "start_time": "2021-10-20T11:23:59.577Z"
      },
      {
        "duration": 4,
        "start_time": "2021-10-20T11:23:59.594Z"
      },
      {
        "duration": 5,
        "start_time": "2021-10-20T11:23:59.600Z"
      },
      {
        "duration": 6,
        "start_time": "2021-10-20T11:23:59.607Z"
      },
      {
        "duration": 6,
        "start_time": "2021-10-20T11:23:59.614Z"
      },
      {
        "duration": 24,
        "start_time": "2021-10-20T11:23:59.621Z"
      },
      {
        "duration": 3,
        "start_time": "2021-10-20T11:23:59.647Z"
      },
      {
        "duration": 8,
        "start_time": "2021-10-20T11:23:59.651Z"
      },
      {
        "duration": 15,
        "start_time": "2021-10-20T11:23:59.661Z"
      },
      {
        "duration": 9,
        "start_time": "2021-10-20T11:23:59.678Z"
      },
      {
        "duration": 17,
        "start_time": "2021-10-20T11:23:59.689Z"
      },
      {
        "duration": 67486,
        "start_time": "2021-10-20T11:23:59.708Z"
      },
      {
        "duration": 3,
        "start_time": "2021-10-20T11:25:07.195Z"
      },
      {
        "duration": 30,
        "start_time": "2021-10-20T11:25:07.200Z"
      },
      {
        "duration": 10611,
        "start_time": "2021-10-20T11:25:07.232Z"
      },
      {
        "duration": -35390,
        "start_time": "2021-10-20T11:25:53.235Z"
      },
      {
        "duration": -35393,
        "start_time": "2021-10-20T11:25:53.239Z"
      },
      {
        "duration": -35396,
        "start_time": "2021-10-20T11:25:53.243Z"
      },
      {
        "duration": 18,
        "start_time": "2021-10-20T11:35:15.207Z"
      },
      {
        "duration": 1222,
        "start_time": "2021-10-20T11:35:37.858Z"
      },
      {
        "duration": 11,
        "start_time": "2021-10-20T11:35:39.082Z"
      },
      {
        "duration": 49,
        "start_time": "2021-10-20T11:35:39.098Z"
      },
      {
        "duration": 12,
        "start_time": "2021-10-20T11:35:39.149Z"
      },
      {
        "duration": 41,
        "start_time": "2021-10-20T11:35:39.162Z"
      },
      {
        "duration": 36,
        "start_time": "2021-10-20T11:35:39.205Z"
      },
      {
        "duration": 28,
        "start_time": "2021-10-20T11:35:39.243Z"
      },
      {
        "duration": 39,
        "start_time": "2021-10-20T11:35:39.273Z"
      },
      {
        "duration": 525,
        "start_time": "2021-10-20T11:35:39.314Z"
      },
      {
        "duration": 7,
        "start_time": "2021-10-20T11:35:39.841Z"
      },
      {
        "duration": 24,
        "start_time": "2021-10-20T11:35:39.850Z"
      },
      {
        "duration": 22,
        "start_time": "2021-10-20T11:35:39.876Z"
      },
      {
        "duration": 262,
        "start_time": "2021-10-20T11:35:39.899Z"
      },
      {
        "duration": 7,
        "start_time": "2021-10-20T11:35:40.163Z"
      },
      {
        "duration": 263,
        "start_time": "2021-10-20T11:35:40.172Z"
      },
      {
        "duration": 2,
        "start_time": "2021-10-20T11:35:40.436Z"
      },
      {
        "duration": 27,
        "start_time": "2021-10-20T11:35:40.444Z"
      },
      {
        "duration": 27,
        "start_time": "2021-10-20T11:35:40.473Z"
      },
      {
        "duration": 22,
        "start_time": "2021-10-20T11:35:40.502Z"
      },
      {
        "duration": 18,
        "start_time": "2021-10-20T11:35:40.525Z"
      },
      {
        "duration": 24,
        "start_time": "2021-10-20T11:35:40.544Z"
      },
      {
        "duration": 252,
        "start_time": "2021-10-20T11:35:40.572Z"
      },
      {
        "duration": 177,
        "start_time": "2021-10-20T11:35:40.827Z"
      },
      {
        "duration": 9,
        "start_time": "2021-10-20T11:35:41.005Z"
      },
      {
        "duration": 411,
        "start_time": "2021-10-20T11:35:41.016Z"
      },
      {
        "duration": 38,
        "start_time": "2021-10-20T11:35:41.428Z"
      },
      {
        "duration": 5,
        "start_time": "2021-10-20T11:35:41.467Z"
      },
      {
        "duration": 664,
        "start_time": "2021-10-20T11:35:41.474Z"
      },
      {
        "duration": 110,
        "start_time": "2021-10-20T11:35:42.140Z"
      },
      {
        "duration": 3,
        "start_time": "2021-10-20T11:35:42.252Z"
      },
      {
        "duration": 18,
        "start_time": "2021-10-20T11:35:42.257Z"
      },
      {
        "duration": 10,
        "start_time": "2021-10-20T11:35:42.277Z"
      },
      {
        "duration": 10,
        "start_time": "2021-10-20T11:35:42.289Z"
      },
      {
        "duration": 17,
        "start_time": "2021-10-20T11:35:42.300Z"
      },
      {
        "duration": 11,
        "start_time": "2021-10-20T11:35:42.319Z"
      },
      {
        "duration": 21,
        "start_time": "2021-10-20T11:35:42.332Z"
      },
      {
        "duration": 13,
        "start_time": "2021-10-20T11:35:42.355Z"
      },
      {
        "duration": 6,
        "start_time": "2021-10-20T11:35:42.370Z"
      },
      {
        "duration": 24,
        "start_time": "2021-10-20T11:35:42.378Z"
      },
      {
        "duration": 372,
        "start_time": "2021-10-20T11:35:42.404Z"
      },
      {
        "duration": 15,
        "start_time": "2021-10-20T11:35:42.778Z"
      },
      {
        "duration": 363,
        "start_time": "2021-10-20T11:35:42.795Z"
      },
      {
        "duration": -35360,
        "start_time": "2021-10-20T11:36:18.520Z"
      },
      {
        "duration": -35366,
        "start_time": "2021-10-20T11:36:18.527Z"
      },
      {
        "duration": -35368,
        "start_time": "2021-10-20T11:36:18.530Z"
      },
      {
        "duration": -35369,
        "start_time": "2021-10-20T11:36:18.532Z"
      },
      {
        "duration": -35370,
        "start_time": "2021-10-20T11:36:18.534Z"
      },
      {
        "duration": -35374,
        "start_time": "2021-10-20T11:36:18.539Z"
      },
      {
        "duration": -35376,
        "start_time": "2021-10-20T11:36:18.542Z"
      },
      {
        "duration": -35377,
        "start_time": "2021-10-20T11:36:18.544Z"
      },
      {
        "duration": -35378,
        "start_time": "2021-10-20T11:36:18.546Z"
      },
      {
        "duration": -35380,
        "start_time": "2021-10-20T11:36:18.549Z"
      },
      {
        "duration": -35381,
        "start_time": "2021-10-20T11:36:18.551Z"
      },
      {
        "duration": -35385,
        "start_time": "2021-10-20T11:36:18.556Z"
      },
      {
        "duration": -35386,
        "start_time": "2021-10-20T11:36:18.558Z"
      },
      {
        "duration": -35387,
        "start_time": "2021-10-20T11:36:18.560Z"
      },
      {
        "duration": -35389,
        "start_time": "2021-10-20T11:36:18.563Z"
      },
      {
        "duration": -35390,
        "start_time": "2021-10-20T11:36:18.565Z"
      },
      {
        "duration": -35391,
        "start_time": "2021-10-20T11:36:18.567Z"
      },
      {
        "duration": -35392,
        "start_time": "2021-10-20T11:36:18.569Z"
      },
      {
        "duration": -35393,
        "start_time": "2021-10-20T11:36:18.571Z"
      },
      {
        "duration": -35394,
        "start_time": "2021-10-20T11:36:18.574Z"
      },
      {
        "duration": -35395,
        "start_time": "2021-10-20T11:36:18.576Z"
      },
      {
        "duration": -35397,
        "start_time": "2021-10-20T11:36:18.579Z"
      },
      {
        "duration": -35398,
        "start_time": "2021-10-20T11:36:18.581Z"
      },
      {
        "duration": -35399,
        "start_time": "2021-10-20T11:36:18.584Z"
      },
      {
        "duration": -35401,
        "start_time": "2021-10-20T11:36:18.587Z"
      },
      {
        "duration": 1265,
        "start_time": "2021-10-20T11:37:24.829Z"
      },
      {
        "duration": 7,
        "start_time": "2021-10-20T11:37:26.096Z"
      },
      {
        "duration": 55,
        "start_time": "2021-10-20T11:37:26.105Z"
      },
      {
        "duration": 12,
        "start_time": "2021-10-20T11:37:26.162Z"
      },
      {
        "duration": 30,
        "start_time": "2021-10-20T11:37:26.175Z"
      },
      {
        "duration": 23,
        "start_time": "2021-10-20T11:37:26.207Z"
      },
      {
        "duration": 19,
        "start_time": "2021-10-20T11:37:26.232Z"
      },
      {
        "duration": 20,
        "start_time": "2021-10-20T11:37:26.254Z"
      },
      {
        "duration": 674,
        "start_time": "2021-10-20T11:37:26.276Z"
      },
      {
        "duration": 7,
        "start_time": "2021-10-20T11:37:26.952Z"
      },
      {
        "duration": 9,
        "start_time": "2021-10-20T11:37:26.961Z"
      },
      {
        "duration": 12,
        "start_time": "2021-10-20T11:37:26.972Z"
      },
      {
        "duration": 271,
        "start_time": "2021-10-20T11:37:26.986Z"
      },
      {
        "duration": 9,
        "start_time": "2021-10-20T11:37:27.260Z"
      },
      {
        "duration": 273,
        "start_time": "2021-10-20T11:37:27.271Z"
      },
      {
        "duration": 3,
        "start_time": "2021-10-20T11:37:27.546Z"
      },
      {
        "duration": 30,
        "start_time": "2021-10-20T11:37:27.551Z"
      },
      {
        "duration": 16,
        "start_time": "2021-10-20T11:37:27.582Z"
      },
      {
        "duration": 34,
        "start_time": "2021-10-20T11:37:27.599Z"
      },
      {
        "duration": 20,
        "start_time": "2021-10-20T11:37:27.635Z"
      },
      {
        "duration": 39,
        "start_time": "2021-10-20T11:37:27.656Z"
      },
      {
        "duration": 263,
        "start_time": "2021-10-20T11:37:27.697Z"
      },
      {
        "duration": 179,
        "start_time": "2021-10-20T11:37:27.965Z"
      },
      {
        "duration": 10,
        "start_time": "2021-10-20T11:37:28.146Z"
      },
      {
        "duration": 404,
        "start_time": "2021-10-20T11:37:28.158Z"
      },
      {
        "duration": 30,
        "start_time": "2021-10-20T11:37:28.563Z"
      },
      {
        "duration": 5,
        "start_time": "2021-10-20T11:37:28.595Z"
      },
      {
        "duration": 675,
        "start_time": "2021-10-20T11:37:28.602Z"
      },
      {
        "duration": 114,
        "start_time": "2021-10-20T11:37:29.279Z"
      },
      {
        "duration": 4,
        "start_time": "2021-10-20T11:37:29.395Z"
      },
      {
        "duration": 16,
        "start_time": "2021-10-20T11:37:29.401Z"
      },
      {
        "duration": 25,
        "start_time": "2021-10-20T11:37:29.419Z"
      },
      {
        "duration": 6,
        "start_time": "2021-10-20T11:37:29.446Z"
      },
      {
        "duration": 13,
        "start_time": "2021-10-20T11:37:29.453Z"
      },
      {
        "duration": 15,
        "start_time": "2021-10-20T11:37:29.468Z"
      },
      {
        "duration": 13,
        "start_time": "2021-10-20T11:37:29.485Z"
      },
      {
        "duration": 13,
        "start_time": "2021-10-20T11:37:29.500Z"
      },
      {
        "duration": 32,
        "start_time": "2021-10-20T11:37:29.515Z"
      },
      {
        "duration": 28,
        "start_time": "2021-10-20T11:37:29.549Z"
      },
      {
        "duration": 265,
        "start_time": "2021-10-20T11:37:29.579Z"
      },
      {
        "duration": 15,
        "start_time": "2021-10-20T11:37:29.846Z"
      },
      {
        "duration": 15,
        "start_time": "2021-10-20T11:37:29.863Z"
      },
      {
        "duration": 10,
        "start_time": "2021-10-20T11:37:29.879Z"
      },
      {
        "duration": 366,
        "start_time": "2021-10-20T11:37:29.891Z"
      },
      {
        "duration": -35378,
        "start_time": "2021-10-20T11:38:05.637Z"
      },
      {
        "duration": -35380,
        "start_time": "2021-10-20T11:38:05.640Z"
      },
      {
        "duration": -35382,
        "start_time": "2021-10-20T11:38:05.642Z"
      },
      {
        "duration": -35384,
        "start_time": "2021-10-20T11:38:05.645Z"
      },
      {
        "duration": -35385,
        "start_time": "2021-10-20T11:38:05.647Z"
      },
      {
        "duration": -35387,
        "start_time": "2021-10-20T11:38:05.650Z"
      },
      {
        "duration": -35388,
        "start_time": "2021-10-20T11:38:05.652Z"
      },
      {
        "duration": -35390,
        "start_time": "2021-10-20T11:38:05.655Z"
      },
      {
        "duration": -35392,
        "start_time": "2021-10-20T11:38:05.658Z"
      },
      {
        "duration": -35393,
        "start_time": "2021-10-20T11:38:05.660Z"
      },
      {
        "duration": -35394,
        "start_time": "2021-10-20T11:38:05.662Z"
      },
      {
        "duration": -35395,
        "start_time": "2021-10-20T11:38:05.664Z"
      },
      {
        "duration": -35396,
        "start_time": "2021-10-20T11:38:05.666Z"
      },
      {
        "duration": -35399,
        "start_time": "2021-10-20T11:38:05.669Z"
      },
      {
        "duration": -35400,
        "start_time": "2021-10-20T11:38:05.671Z"
      },
      {
        "duration": -35401,
        "start_time": "2021-10-20T11:38:05.673Z"
      },
      {
        "duration": -35403,
        "start_time": "2021-10-20T11:38:05.676Z"
      },
      {
        "duration": -35405,
        "start_time": "2021-10-20T11:38:05.679Z"
      },
      {
        "duration": -35406,
        "start_time": "2021-10-20T11:38:05.681Z"
      },
      {
        "duration": -35408,
        "start_time": "2021-10-20T11:38:05.684Z"
      },
      {
        "duration": -35409,
        "start_time": "2021-10-20T11:38:05.686Z"
      },
      {
        "duration": -35411,
        "start_time": "2021-10-20T11:38:05.689Z"
      },
      {
        "duration": -35412,
        "start_time": "2021-10-20T11:38:05.691Z"
      },
      {
        "duration": -35414,
        "start_time": "2021-10-20T11:38:05.693Z"
      },
      {
        "duration": 4,
        "start_time": "2021-10-20T11:38:36.497Z"
      },
      {
        "duration": 15,
        "start_time": "2021-10-20T11:38:46.134Z"
      },
      {
        "duration": 7,
        "start_time": "2021-10-20T11:40:11.155Z"
      },
      {
        "duration": 15,
        "start_time": "2021-10-20T11:40:17.655Z"
      },
      {
        "duration": 3,
        "start_time": "2021-10-20T11:41:29.643Z"
      },
      {
        "duration": 16,
        "start_time": "2021-10-20T11:41:33.800Z"
      },
      {
        "duration": 67631,
        "start_time": "2021-10-20T11:49:43.133Z"
      },
      {
        "duration": 13,
        "start_time": "2021-10-20T11:50:54.887Z"
      },
      {
        "duration": 12,
        "start_time": "2021-10-20T11:53:03.496Z"
      },
      {
        "duration": 1201,
        "start_time": "2021-10-20T11:53:11.188Z"
      },
      {
        "duration": 7,
        "start_time": "2021-10-20T11:53:12.391Z"
      },
      {
        "duration": 45,
        "start_time": "2021-10-20T11:53:12.400Z"
      },
      {
        "duration": 10,
        "start_time": "2021-10-20T11:53:12.447Z"
      },
      {
        "duration": 25,
        "start_time": "2021-10-20T11:53:12.459Z"
      },
      {
        "duration": 7,
        "start_time": "2021-10-20T11:53:12.486Z"
      },
      {
        "duration": 13,
        "start_time": "2021-10-20T11:53:12.495Z"
      },
      {
        "duration": 39,
        "start_time": "2021-10-20T11:53:12.510Z"
      },
      {
        "duration": 755,
        "start_time": "2021-10-20T11:53:12.552Z"
      },
      {
        "duration": 8,
        "start_time": "2021-10-20T11:53:13.309Z"
      },
      {
        "duration": 25,
        "start_time": "2021-10-20T11:53:13.319Z"
      },
      {
        "duration": 9,
        "start_time": "2021-10-20T11:53:13.346Z"
      },
      {
        "duration": 253,
        "start_time": "2021-10-20T11:53:13.356Z"
      },
      {
        "duration": 9,
        "start_time": "2021-10-20T11:53:13.611Z"
      },
      {
        "duration": 269,
        "start_time": "2021-10-20T11:53:13.622Z"
      },
      {
        "duration": 3,
        "start_time": "2021-10-20T11:53:13.893Z"
      },
      {
        "duration": 11,
        "start_time": "2021-10-20T11:53:13.898Z"
      },
      {
        "duration": 9,
        "start_time": "2021-10-20T11:53:13.910Z"
      },
      {
        "duration": 4,
        "start_time": "2021-10-20T11:53:13.921Z"
      },
      {
        "duration": 5,
        "start_time": "2021-10-20T11:53:13.944Z"
      },
      {
        "duration": 14,
        "start_time": "2021-10-20T11:53:13.950Z"
      },
      {
        "duration": 232,
        "start_time": "2021-10-20T11:53:13.965Z"
      },
      {
        "duration": 178,
        "start_time": "2021-10-20T11:53:14.201Z"
      },
      {
        "duration": 10,
        "start_time": "2021-10-20T11:53:14.381Z"
      },
      {
        "duration": 404,
        "start_time": "2021-10-20T11:53:14.393Z"
      },
      {
        "duration": 28,
        "start_time": "2021-10-20T11:53:14.799Z"
      },
      {
        "duration": 17,
        "start_time": "2021-10-20T11:53:14.829Z"
      },
      {
        "duration": 632,
        "start_time": "2021-10-20T11:53:14.848Z"
      },
      {
        "duration": 113,
        "start_time": "2021-10-20T11:53:15.482Z"
      },
      {
        "duration": 3,
        "start_time": "2021-10-20T11:53:15.597Z"
      },
      {
        "duration": 20,
        "start_time": "2021-10-20T11:53:15.602Z"
      },
      {
        "duration": 22,
        "start_time": "2021-10-20T11:53:15.624Z"
      },
      {
        "duration": 22,
        "start_time": "2021-10-20T11:53:15.648Z"
      },
      {
        "duration": 25,
        "start_time": "2021-10-20T11:53:15.671Z"
      },
      {
        "duration": 19,
        "start_time": "2021-10-20T11:53:15.698Z"
      },
      {
        "duration": 22,
        "start_time": "2021-10-20T11:53:15.719Z"
      },
      {
        "duration": 27,
        "start_time": "2021-10-20T11:53:15.742Z"
      },
      {
        "duration": 11,
        "start_time": "2021-10-20T11:53:15.771Z"
      },
      {
        "duration": 30,
        "start_time": "2021-10-20T11:53:15.783Z"
      },
      {
        "duration": 243,
        "start_time": "2021-10-20T11:53:15.814Z"
      },
      {
        "duration": 16,
        "start_time": "2021-10-20T11:53:16.059Z"
      },
      {
        "duration": 14,
        "start_time": "2021-10-20T11:53:16.077Z"
      },
      {
        "duration": 19,
        "start_time": "2021-10-20T11:53:16.092Z"
      },
      {
        "duration": 19,
        "start_time": "2021-10-20T11:53:16.112Z"
      },
      {
        "duration": 16,
        "start_time": "2021-10-20T11:53:16.133Z"
      },
      {
        "duration": 68945,
        "start_time": "2021-10-20T11:53:16.151Z"
      },
      {
        "duration": 11,
        "start_time": "2021-10-20T11:54:25.098Z"
      },
      {
        "duration": 13,
        "start_time": "2021-10-20T11:54:25.111Z"
      },
      {
        "duration": 18,
        "start_time": "2021-10-20T11:54:25.126Z"
      },
      {
        "duration": 8,
        "start_time": "2021-10-20T11:54:25.146Z"
      },
      {
        "duration": 8,
        "start_time": "2021-10-20T11:54:25.155Z"
      },
      {
        "duration": 8,
        "start_time": "2021-10-20T11:54:25.165Z"
      },
      {
        "duration": 13,
        "start_time": "2021-10-20T11:54:25.174Z"
      },
      {
        "duration": 13,
        "start_time": "2021-10-20T11:54:25.189Z"
      },
      {
        "duration": 7,
        "start_time": "2021-10-20T11:54:25.203Z"
      },
      {
        "duration": 12,
        "start_time": "2021-10-20T11:54:25.212Z"
      },
      {
        "duration": 30,
        "start_time": "2021-10-20T11:54:25.226Z"
      },
      {
        "duration": 10,
        "start_time": "2021-10-20T11:54:25.258Z"
      },
      {
        "duration": 29,
        "start_time": "2021-10-20T11:54:25.269Z"
      },
      {
        "duration": 68594,
        "start_time": "2021-10-20T11:54:25.300Z"
      },
      {
        "duration": 4,
        "start_time": "2021-10-20T11:55:33.895Z"
      },
      {
        "duration": 21,
        "start_time": "2021-10-20T11:55:33.900Z"
      },
      {
        "duration": 7112,
        "start_time": "2021-10-20T11:55:33.923Z"
      },
      {
        "duration": -35354,
        "start_time": "2021-10-20T11:56:16.391Z"
      },
      {
        "duration": -35356,
        "start_time": "2021-10-20T11:56:16.394Z"
      },
      {
        "duration": -35358,
        "start_time": "2021-10-20T11:56:16.397Z"
      },
      {
        "duration": 4,
        "start_time": "2021-10-20T11:56:50.112Z"
      },
      {
        "duration": 1179,
        "start_time": "2021-10-20T11:57:19.288Z"
      },
      {
        "duration": 8,
        "start_time": "2021-10-20T11:57:20.469Z"
      },
      {
        "duration": 46,
        "start_time": "2021-10-20T11:57:20.480Z"
      },
      {
        "duration": 17,
        "start_time": "2021-10-20T11:57:20.527Z"
      },
      {
        "duration": 22,
        "start_time": "2021-10-20T11:57:20.546Z"
      },
      {
        "duration": 13,
        "start_time": "2021-10-20T11:57:20.570Z"
      },
      {
        "duration": 11,
        "start_time": "2021-10-20T11:57:20.585Z"
      },
      {
        "duration": 19,
        "start_time": "2021-10-20T11:57:20.598Z"
      },
      {
        "duration": 565,
        "start_time": "2021-10-20T11:57:20.619Z"
      },
      {
        "duration": 7,
        "start_time": "2021-10-20T11:57:21.186Z"
      },
      {
        "duration": 9,
        "start_time": "2021-10-20T11:57:21.195Z"
      },
      {
        "duration": 12,
        "start_time": "2021-10-20T11:57:21.205Z"
      },
      {
        "duration": 259,
        "start_time": "2021-10-20T11:57:21.218Z"
      },
      {
        "duration": 8,
        "start_time": "2021-10-20T11:57:21.478Z"
      },
      {
        "duration": 363,
        "start_time": "2021-10-20T11:57:21.488Z"
      },
      {
        "duration": 2,
        "start_time": "2021-10-20T11:57:21.853Z"
      },
      {
        "duration": 13,
        "start_time": "2021-10-20T11:57:21.857Z"
      },
      {
        "duration": 9,
        "start_time": "2021-10-20T11:57:21.871Z"
      },
      {
        "duration": 4,
        "start_time": "2021-10-20T11:57:21.882Z"
      },
      {
        "duration": 8,
        "start_time": "2021-10-20T11:57:21.888Z"
      },
      {
        "duration": 12,
        "start_time": "2021-10-20T11:57:21.897Z"
      },
      {
        "duration": 256,
        "start_time": "2021-10-20T11:57:21.911Z"
      },
      {
        "duration": 176,
        "start_time": "2021-10-20T11:57:22.171Z"
      },
      {
        "duration": 9,
        "start_time": "2021-10-20T11:57:22.350Z"
      },
      {
        "duration": 408,
        "start_time": "2021-10-20T11:57:22.361Z"
      },
      {
        "duration": 28,
        "start_time": "2021-10-20T11:57:22.771Z"
      },
      {
        "duration": 5,
        "start_time": "2021-10-20T11:57:22.801Z"
      },
      {
        "duration": 647,
        "start_time": "2021-10-20T11:57:22.807Z"
      },
      {
        "duration": 108,
        "start_time": "2021-10-20T11:57:23.455Z"
      },
      {
        "duration": 3,
        "start_time": "2021-10-20T11:57:23.564Z"
      },
      {
        "duration": 25,
        "start_time": "2021-10-20T11:57:23.569Z"
      },
      {
        "duration": 21,
        "start_time": "2021-10-20T11:57:23.595Z"
      },
      {
        "duration": 14,
        "start_time": "2021-10-20T11:57:23.618Z"
      },
      {
        "duration": 26,
        "start_time": "2021-10-20T11:57:23.634Z"
      },
      {
        "duration": 16,
        "start_time": "2021-10-20T11:57:23.661Z"
      },
      {
        "duration": 32,
        "start_time": "2021-10-20T11:57:23.678Z"
      },
      {
        "duration": 38,
        "start_time": "2021-10-20T11:57:23.711Z"
      },
      {
        "duration": 22,
        "start_time": "2021-10-20T11:57:23.751Z"
      },
      {
        "duration": 25,
        "start_time": "2021-10-20T11:57:23.775Z"
      },
      {
        "duration": 252,
        "start_time": "2021-10-20T11:57:23.803Z"
      },
      {
        "duration": 17,
        "start_time": "2021-10-20T11:57:24.058Z"
      },
      {
        "duration": 23,
        "start_time": "2021-10-20T11:57:24.077Z"
      },
      {
        "duration": 15,
        "start_time": "2021-10-20T11:57:24.101Z"
      },
      {
        "duration": 28,
        "start_time": "2021-10-20T11:57:24.117Z"
      },
      {
        "duration": 23,
        "start_time": "2021-10-20T11:57:24.147Z"
      },
      {
        "duration": 138419,
        "start_time": "2021-10-20T11:57:24.172Z"
      },
      {
        "duration": 3,
        "start_time": "2021-10-20T11:59:42.593Z"
      },
      {
        "duration": 141866,
        "start_time": "2021-10-20T11:59:42.597Z"
      },
      {
        "duration": 12,
        "start_time": "2021-10-20T12:02:04.465Z"
      },
      {
        "duration": 8,
        "start_time": "2021-10-20T12:02:04.479Z"
      },
      {
        "duration": 19,
        "start_time": "2021-10-20T12:02:04.489Z"
      },
      {
        "duration": 5,
        "start_time": "2021-10-20T12:02:04.510Z"
      },
      {
        "duration": 10,
        "start_time": "2021-10-20T12:02:04.517Z"
      },
      {
        "duration": 13,
        "start_time": "2021-10-20T12:02:04.528Z"
      },
      {
        "duration": 21,
        "start_time": "2021-10-20T12:02:04.542Z"
      },
      {
        "duration": 31,
        "start_time": "2021-10-20T12:02:04.565Z"
      },
      {
        "duration": 28,
        "start_time": "2021-10-20T12:02:04.599Z"
      },
      {
        "duration": 24,
        "start_time": "2021-10-20T12:02:04.629Z"
      },
      {
        "duration": 36,
        "start_time": "2021-10-20T12:02:04.655Z"
      },
      {
        "duration": 19,
        "start_time": "2021-10-20T12:02:04.693Z"
      },
      {
        "duration": 32,
        "start_time": "2021-10-20T12:02:04.713Z"
      },
      {
        "duration": 93933,
        "start_time": "2021-10-20T12:02:04.747Z"
      },
      {
        "duration": 3,
        "start_time": "2021-10-20T12:03:38.682Z"
      },
      {
        "duration": 19,
        "start_time": "2021-10-20T12:03:38.687Z"
      },
      {
        "duration": 7758,
        "start_time": "2021-10-20T12:03:38.708Z"
      },
      {
        "duration": -35343,
        "start_time": "2021-10-20T12:04:21.812Z"
      },
      {
        "duration": -35346,
        "start_time": "2021-10-20T12:04:21.816Z"
      },
      {
        "duration": -35348,
        "start_time": "2021-10-20T12:04:21.819Z"
      },
      {
        "duration": 13,
        "start_time": "2021-10-20T12:04:08.344Z"
      },
      {
        "duration": 12,
        "start_time": "2021-10-20T12:04:23.880Z"
      },
      {
        "duration": 10,
        "start_time": "2021-10-20T12:04:45.947Z"
      },
      {
        "duration": 12,
        "start_time": "2021-10-20T12:06:06.765Z"
      },
      {
        "duration": 12,
        "start_time": "2021-10-20T12:06:24.941Z"
      },
      {
        "duration": 10,
        "start_time": "2021-10-20T12:07:31.208Z"
      },
      {
        "duration": 12,
        "start_time": "2021-10-20T12:08:28.334Z"
      },
      {
        "duration": 125,
        "start_time": "2021-10-20T12:12:28.139Z"
      },
      {
        "duration": 117,
        "start_time": "2021-10-20T12:13:10.306Z"
      },
      {
        "duration": -35330,
        "start_time": "2021-10-20T12:14:05.987Z"
      },
      {
        "duration": 297,
        "start_time": "2021-10-20T12:13:33.513Z"
      },
      {
        "duration": 279,
        "start_time": "2021-10-20T12:13:42.303Z"
      },
      {
        "duration": 7285,
        "start_time": "2021-10-20T12:13:51.005Z"
      },
      {
        "duration": 116,
        "start_time": "2021-10-20T12:14:17.851Z"
      },
      {
        "duration": 102,
        "start_time": "2021-10-20T12:14:24.492Z"
      },
      {
        "duration": 9,
        "start_time": "2021-10-20T12:14:41.755Z"
      },
      {
        "duration": 7,
        "start_time": "2021-10-20T12:14:56.615Z"
      },
      {
        "duration": 15,
        "start_time": "2021-10-20T12:15:16.917Z"
      },
      {
        "duration": 8,
        "start_time": "2021-10-20T12:15:36.145Z"
      },
      {
        "duration": 168,
        "start_time": "2021-10-20T12:15:49.377Z"
      },
      {
        "duration": 241,
        "start_time": "2021-10-20T12:16:14.897Z"
      },
      {
        "duration": 283,
        "start_time": "2021-10-20T12:16:47.281Z"
      },
      {
        "duration": 6,
        "start_time": "2021-10-20T12:17:38.335Z"
      },
      {
        "duration": 527,
        "start_time": "2021-10-20T12:17:45.548Z"
      },
      {
        "duration": 3547,
        "start_time": "2021-10-20T12:18:07.437Z"
      },
      {
        "duration": 5,
        "start_time": "2021-10-20T12:18:29.913Z"
      },
      {
        "duration": 7,
        "start_time": "2021-10-20T12:18:36.710Z"
      },
      {
        "duration": 6,
        "start_time": "2021-10-20T12:29:15.967Z"
      },
      {
        "duration": 293,
        "start_time": "2021-10-20T12:29:16.911Z"
      },
      {
        "duration": 18,
        "start_time": "2021-10-20T12:29:25.129Z"
      },
      {
        "duration": 8,
        "start_time": "2021-10-20T12:29:41.750Z"
      },
      {
        "duration": 234,
        "start_time": "2021-10-20T12:30:15.451Z"
      },
      {
        "duration": 125,
        "start_time": "2021-10-20T12:30:18.299Z"
      },
      {
        "duration": 5,
        "start_time": "2021-10-20T12:30:21.638Z"
      },
      {
        "duration": 294,
        "start_time": "2021-10-20T12:30:22.069Z"
      },
      {
        "duration": 7,
        "start_time": "2021-10-20T12:30:25.402Z"
      },
      {
        "duration": 796,
        "start_time": "2021-10-20T12:30:34.292Z"
      },
      {
        "duration": 648,
        "start_time": "2021-10-20T12:30:45.160Z"
      },
      {
        "duration": 671,
        "start_time": "2021-10-20T12:31:03.913Z"
      },
      {
        "duration": 290,
        "start_time": "2021-10-20T12:31:09.139Z"
      },
      {
        "duration": 7,
        "start_time": "2021-10-20T12:31:13.070Z"
      },
      {
        "duration": 294,
        "start_time": "2021-10-20T12:41:04.834Z"
      },
      {
        "duration": 288,
        "start_time": "2021-10-20T12:42:00.845Z"
      },
      {
        "duration": 238,
        "start_time": "2021-10-20T12:43:13.458Z"
      },
      {
        "duration": 181,
        "start_time": "2021-10-20T12:43:19.814Z"
      },
      {
        "duration": 180,
        "start_time": "2021-10-20T12:43:56.302Z"
      },
      {
        "duration": 517,
        "start_time": "2021-10-20T12:45:17.927Z"
      },
      {
        "duration": 417,
        "start_time": "2021-10-20T12:45:30.023Z"
      },
      {
        "duration": 334,
        "start_time": "2021-10-20T12:45:43.063Z"
      },
      {
        "duration": 381,
        "start_time": "2021-10-20T12:46:02.477Z"
      },
      {
        "duration": 362,
        "start_time": "2021-10-20T12:46:20.868Z"
      },
      {
        "duration": 15,
        "start_time": "2021-10-20T12:50:52.692Z"
      },
      {
        "duration": 7,
        "start_time": "2021-10-20T12:51:43.801Z"
      },
      {
        "duration": 339,
        "start_time": "2021-10-20T12:52:15.008Z"
      },
      {
        "duration": 121,
        "start_time": "2021-10-21T15:22:17.746Z"
      },
      {
        "duration": 90,
        "start_time": "2021-10-21T15:41:42.995Z"
      },
      {
        "duration": 1237,
        "start_time": "2021-10-21T18:12:20.207Z"
      },
      {
        "duration": 7,
        "start_time": "2021-10-21T18:12:21.446Z"
      },
      {
        "duration": 52,
        "start_time": "2021-10-21T18:12:21.455Z"
      },
      {
        "duration": 12,
        "start_time": "2021-10-21T18:12:21.576Z"
      },
      {
        "duration": 23,
        "start_time": "2021-10-21T18:12:21.963Z"
      },
      {
        "duration": 9,
        "start_time": "2021-10-21T18:12:22.164Z"
      },
      {
        "duration": 10,
        "start_time": "2021-10-21T18:12:22.546Z"
      },
      {
        "duration": 21,
        "start_time": "2021-10-21T18:12:23.225Z"
      },
      {
        "duration": 669,
        "start_time": "2021-10-21T18:12:23.496Z"
      },
      {
        "duration": 8,
        "start_time": "2021-10-21T18:12:24.256Z"
      },
      {
        "duration": 6,
        "start_time": "2021-10-21T18:12:25.038Z"
      },
      {
        "duration": 10,
        "start_time": "2021-10-21T18:12:27.391Z"
      },
      {
        "duration": 253,
        "start_time": "2021-10-21T18:12:27.639Z"
      },
      {
        "duration": 9,
        "start_time": "2021-10-21T18:12:29.095Z"
      },
      {
        "duration": 270,
        "start_time": "2021-10-21T18:12:29.408Z"
      },
      {
        "duration": 2,
        "start_time": "2021-10-21T18:12:30.761Z"
      },
      {
        "duration": 9,
        "start_time": "2021-10-21T18:12:30.949Z"
      },
      {
        "duration": 11,
        "start_time": "2021-10-21T18:12:31.465Z"
      },
      {
        "duration": 5,
        "start_time": "2021-10-21T18:12:31.715Z"
      },
      {
        "duration": 5,
        "start_time": "2021-10-21T18:12:32.161Z"
      },
      {
        "duration": 9,
        "start_time": "2021-10-21T18:12:32.841Z"
      },
      {
        "duration": 240,
        "start_time": "2021-10-21T18:12:34.715Z"
      },
      {
        "duration": 174,
        "start_time": "2021-10-21T18:12:35.196Z"
      },
      {
        "duration": 11,
        "start_time": "2021-10-21T18:12:35.765Z"
      },
      {
        "duration": 114,
        "start_time": "2021-10-21T18:12:36.337Z"
      },
      {
        "duration": 14,
        "start_time": "2021-10-21T18:12:43.587Z"
      },
      {
        "duration": 20,
        "start_time": "2021-10-21T18:13:50.307Z"
      },
      {
        "duration": 493,
        "start_time": "2021-10-21T18:14:33.649Z"
      },
      {
        "duration": 19,
        "start_time": "2021-10-21T18:14:40.384Z"
      },
      {
        "duration": 18,
        "start_time": "2021-10-21T18:15:25.260Z"
      },
      {
        "duration": 125,
        "start_time": "2021-10-21T18:16:57.521Z"
      },
      {
        "duration": 15,
        "start_time": "2021-10-21T18:17:10.696Z"
      },
      {
        "duration": 15,
        "start_time": "2021-10-21T18:17:54.056Z"
      },
      {
        "duration": 17,
        "start_time": "2021-10-21T18:18:53.904Z"
      },
      {
        "duration": 14,
        "start_time": "2021-10-21T18:24:31.143Z"
      },
      {
        "duration": 16,
        "start_time": "2021-10-21T18:24:46.903Z"
      },
      {
        "duration": 20,
        "start_time": "2021-10-21T18:35:29.947Z"
      },
      {
        "duration": 21,
        "start_time": "2021-10-21T18:35:37.813Z"
      },
      {
        "duration": 19,
        "start_time": "2021-10-21T18:36:05.091Z"
      },
      {
        "duration": 20,
        "start_time": "2021-10-21T18:36:32.636Z"
      },
      {
        "duration": 133,
        "start_time": "2021-10-21T18:37:23.250Z"
      },
      {
        "duration": 21,
        "start_time": "2021-10-21T18:37:49.151Z"
      },
      {
        "duration": 22,
        "start_time": "2021-10-21T18:40:45.973Z"
      },
      {
        "duration": 16,
        "start_time": "2021-10-21T18:41:44.477Z"
      },
      {
        "duration": 14,
        "start_time": "2021-10-21T18:41:54.010Z"
      },
      {
        "duration": 9,
        "start_time": "2021-10-21T18:42:06.882Z"
      },
      {
        "duration": 394,
        "start_time": "2021-10-21T18:43:01.554Z"
      },
      {
        "duration": 394,
        "start_time": "2021-10-21T18:43:43.930Z"
      },
      {
        "duration": 126,
        "start_time": "2021-10-21T18:44:22.135Z"
      },
      {
        "duration": 22,
        "start_time": "2021-10-21T18:44:26.502Z"
      },
      {
        "duration": 4633,
        "start_time": "2021-10-21T18:44:35.683Z"
      },
      {
        "duration": 468,
        "start_time": "2021-10-21T18:45:14.773Z"
      },
      {
        "duration": 4775,
        "start_time": "2021-10-21T18:46:56.213Z"
      },
      {
        "duration": 4607,
        "start_time": "2021-10-21T18:47:17.598Z"
      },
      {
        "duration": 4882,
        "start_time": "2021-10-21T18:48:26.537Z"
      },
      {
        "duration": 5101,
        "start_time": "2021-10-21T18:48:43.439Z"
      },
      {
        "duration": 4754,
        "start_time": "2021-10-21T18:49:17.889Z"
      },
      {
        "duration": 3888,
        "start_time": "2021-10-21T18:50:04.321Z"
      },
      {
        "duration": 3925,
        "start_time": "2021-10-21T18:51:29.042Z"
      },
      {
        "duration": 331,
        "start_time": "2021-10-21T18:52:32.299Z"
      },
      {
        "duration": 373,
        "start_time": "2021-10-21T18:53:27.053Z"
      },
      {
        "duration": 353,
        "start_time": "2021-10-21T18:54:13.827Z"
      },
      {
        "duration": 365,
        "start_time": "2021-10-21T18:54:26.164Z"
      },
      {
        "duration": 402,
        "start_time": "2021-10-21T18:54:33.788Z"
      },
      {
        "duration": 115,
        "start_time": "2021-10-21T18:59:49.051Z"
      }
    ],
    "kernelspec": {
      "display_name": "Python 3 (ipykernel)",
      "language": "python",
      "name": "python3"
    },
    "language_info": {
      "codemirror_mode": {
        "name": "ipython",
        "version": 3
      },
      "file_extension": ".py",
      "mimetype": "text/x-python",
      "name": "python",
      "nbconvert_exporter": "python",
      "pygments_lexer": "ipython3",
      "version": "3.9.7"
    },
    "toc": {
      "base_numbering": 1,
      "nav_menu": {},
      "number_sections": true,
      "sideBar": true,
      "skip_h1_title": true,
      "title_cell": "Table of Contents",
      "title_sidebar": "Contents",
      "toc_cell": false,
      "toc_position": {},
      "toc_section_display": true,
      "toc_window_display": false
    },
    "colab": {
      "name": "catering_market_research_in_moscow.ipynb",
      "provenance": [],
      "include_colab_link": true
    }
  },
  "nbformat": 4,
  "nbformat_minor": 0
}