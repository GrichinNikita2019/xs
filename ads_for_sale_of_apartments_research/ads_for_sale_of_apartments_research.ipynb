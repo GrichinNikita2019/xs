{
  "cells": [
    {
      "cell_type": "markdown",
      "metadata": {
        "id": "view-in-github",
        "colab_type": "text"
      },
      "source": [
        "<a href=\"https://colab.research.google.com/github/GrichinNikita2019/yandex_praktikum_da/blob/main/ads_for_sale_of_apartments_research/ads_for_sale_of_apartments_research.ipynb\" target=\"_parent\"><img src=\"https://colab.research.google.com/assets/colab-badge.svg\" alt=\"Open In Colab\"/></a>"
      ]
    },
    {
      "cell_type": "markdown",
      "metadata": {
        "toc": true,
        "id": "ImLQanS3e--0"
      },
      "source": [
        "<h1>Содержание<span class=\"tocSkip\"></span></h1>\n",
        "<div class=\"toc\"><ul class=\"toc-item\"><li><span><a href=\"#Изучение-данных-из-файла\" data-toc-modified-id=\"Изучение-данных-из-файла-1\"><span class=\"toc-item-num\">1&nbsp;&nbsp;</span>Изучение данных из файла</a></span></li><li><span><a href=\"#Предобработка-данных\" data-toc-modified-id=\"Предобработка-данных-2\"><span class=\"toc-item-num\">2&nbsp;&nbsp;</span>Предобработка данных</a></span><ul class=\"toc-item\"><li><span><a href=\"#Вывод\" data-toc-modified-id=\"Вывод-2.1\"><span class=\"toc-item-num\">2.1&nbsp;&nbsp;</span>Вывод</a></span></li></ul></li><li><span><a href=\"#Расчёты-и-добавление-результатов-в-таблицу\" data-toc-modified-id=\"Расчёты-и-добавление-результатов-в-таблицу-3\"><span class=\"toc-item-num\">3&nbsp;&nbsp;</span>Расчёты и добавление результатов в таблицу</a></span><ul class=\"toc-item\"><li><span><a href=\"#Расчет-цены-квадратного-метра\" data-toc-modified-id=\"Расчет-цены-квадратного-метра-3.1\"><span class=\"toc-item-num\">3.1&nbsp;&nbsp;</span>Расчет цены квадратного метра</a></span></li><li><span><a href=\"#Расчет-дня-недели,-месяца-и-года-публикации-объявления\" data-toc-modified-id=\"Расчет-дня-недели,-месяца-и-года-публикации-объявления-3.2\"><span class=\"toc-item-num\">3.2&nbsp;&nbsp;</span>Расчет дня недели, месяца и года публикации объявления</a></span></li><li><span><a href=\"#Расчет-этажа-квартиры;-варианты-—-первый,-последний,-другой\" data-toc-modified-id=\"Расчет-этажа-квартиры;-варианты-—-первый,-последний,-другой-3.3\"><span class=\"toc-item-num\">3.3&nbsp;&nbsp;</span>Расчет этажа квартиры; варианты — первый, последний, другой</a></span></li><li><span><a href=\"#Расчет-соотношения-жилой-и-общей-площади,-а-также-отношения-площади-кухни-к-общей.\" data-toc-modified-id=\"Расчет-соотношения-жилой-и-общей-площади,-а-также-отношения-площади-кухни-к-общей.-3.4\"><span class=\"toc-item-num\">3.4&nbsp;&nbsp;</span>Расчет соотношения жилой и общей площади, а также отношения площади кухни к общей.</a></span></li></ul></li><li><span><a href=\"#Исследовательский-анализ-данных\" data-toc-modified-id=\"Исследовательский-анализ-данных-4\"><span class=\"toc-item-num\">4&nbsp;&nbsp;</span>Исследовательский анализ данных</a></span><ul class=\"toc-item\"><li><span><a href=\"#Изучение-параметров:-площадь,-цена,-число-комнат,-высота-потолков\" data-toc-modified-id=\"Изучение-параметров:-площадь,-цена,-число-комнат,-высота-потолков-4.1\"><span class=\"toc-item-num\">4.1&nbsp;&nbsp;</span>Изучение параметров: площадь, цена, число комнат, высота потолков</a></span><ul class=\"toc-item\"><li><span><a href=\"#Площадь\" data-toc-modified-id=\"Площадь-4.1.1\"><span class=\"toc-item-num\">4.1.1&nbsp;&nbsp;</span>Площадь</a></span></li><li><span><a href=\"#Цена\" data-toc-modified-id=\"Цена-4.1.2\"><span class=\"toc-item-num\">4.1.2&nbsp;&nbsp;</span>Цена</a></span></li><li><span><a href=\"#Комнаты\" data-toc-modified-id=\"Комнаты-4.1.3\"><span class=\"toc-item-num\">4.1.3&nbsp;&nbsp;</span>Комнаты</a></span></li><li><span><a href=\"#Высота-потолков\" data-toc-modified-id=\"Высота-потолков-4.1.4\"><span class=\"toc-item-num\">4.1.4&nbsp;&nbsp;</span>Высота потолков</a></span></li></ul></li><li><span><a href=\"#Изучение-времени-продажи-квартиры\" data-toc-modified-id=\"Изучение-времени-продажи-квартиры-4.2\"><span class=\"toc-item-num\">4.2&nbsp;&nbsp;</span>Изучение времени продажи квартиры</a></span></li><li><span><a href=\"#Удаление-редких-и-выбивающихся-значений\" data-toc-modified-id=\"Удаление-редких-и-выбивающихся-значений-4.3\"><span class=\"toc-item-num\">4.3&nbsp;&nbsp;</span>Удаление редких и выбивающихся значений</a></span></li><li><span><a href=\"#Факторы,-влияющие-на-стоимость-квартиры\" data-toc-modified-id=\"Факторы,-влияющие-на-стоимость-квартиры-4.4\"><span class=\"toc-item-num\">4.4&nbsp;&nbsp;</span>Факторы, влияющие на стоимость квартиры</a></span><ul class=\"toc-item\"><li><span><a href=\"#Площадь\" data-toc-modified-id=\"Площадь-4.4.1\"><span class=\"toc-item-num\">4.4.1&nbsp;&nbsp;</span>Площадь</a></span></li><li><span><a href=\"#Количество-комнат\" data-toc-modified-id=\"Количество-комнат-4.4.2\"><span class=\"toc-item-num\">4.4.2&nbsp;&nbsp;</span>Количество комнат</a></span></li><li><span><a href=\"#Близость-к-центру\" data-toc-modified-id=\"Близость-к-центру-4.4.3\"><span class=\"toc-item-num\">4.4.3&nbsp;&nbsp;</span>Близость к центру</a></span></li><li><span><a href=\"#Первый/последний-этаж\" data-toc-modified-id=\"Первый/последний-этаж-4.4.4\"><span class=\"toc-item-num\">4.4.4&nbsp;&nbsp;</span>Первый/последний этаж</a></span></li><li><span><a href=\"#День-недели\" data-toc-modified-id=\"День-недели-4.4.5\"><span class=\"toc-item-num\">4.4.5&nbsp;&nbsp;</span>День недели</a></span></li><li><span><a href=\"#Месяц\" data-toc-modified-id=\"Месяц-4.4.6\"><span class=\"toc-item-num\">4.4.6&nbsp;&nbsp;</span>Месяц</a></span></li><li><span><a href=\"#Месяц\" data-toc-modified-id=\"Месяц-4.4.7\"><span class=\"toc-item-num\">4.4.7&nbsp;&nbsp;</span>Месяц</a></span></li></ul></li><li><span><a href=\"#10-населенных-пунктов\" data-toc-modified-id=\"10-населенных-пунктов-4.5\"><span class=\"toc-item-num\">4.5&nbsp;&nbsp;</span>10 населенных пунктов</a></span></li><li><span><a href=\"#Квартиры-в-Санкт-Петербурге\" data-toc-modified-id=\"Квартиры-в-Санкт-Петербурге-4.6\"><span class=\"toc-item-num\">4.6&nbsp;&nbsp;</span>Квартиры в Санкт-Петербурге</a></span></li><li><span><a href=\"#Квартиры-в-Центре\" data-toc-modified-id=\"Квартиры-в-Центре-4.7\"><span class=\"toc-item-num\">4.7&nbsp;&nbsp;</span>Квартиры в Центре</a></span><ul class=\"toc-item\"><li><span><a href=\"#Площадь\" data-toc-modified-id=\"Площадь-4.7.1\"><span class=\"toc-item-num\">4.7.1&nbsp;&nbsp;</span>Площадь</a></span></li><li><span><a href=\"#Цена\" data-toc-modified-id=\"Цена-4.7.2\"><span class=\"toc-item-num\">4.7.2&nbsp;&nbsp;</span>Цена</a></span></li><li><span><a href=\"#Комнаты\" data-toc-modified-id=\"Комнаты-4.7.3\"><span class=\"toc-item-num\">4.7.3&nbsp;&nbsp;</span>Комнаты</a></span></li><li><span><a href=\"#Высота-потолков\" data-toc-modified-id=\"Высота-потолков-4.7.4\"><span class=\"toc-item-num\">4.7.4&nbsp;&nbsp;</span>Высота потолков</a></span></li></ul></li><li><span><a href=\"#Факторы,-влияющие-на-стоимость-квартиры\" data-toc-modified-id=\"Факторы,-влияющие-на-стоимость-квартиры-4.8\"><span class=\"toc-item-num\">4.8&nbsp;&nbsp;</span>Факторы, влияющие на стоимость квартиры</a></span><ul class=\"toc-item\"><li><span><a href=\"#Площадь\" data-toc-modified-id=\"Площадь-4.8.1\"><span class=\"toc-item-num\">4.8.1&nbsp;&nbsp;</span>Площадь</a></span></li><li><span><a href=\"#Количество-комнат\" data-toc-modified-id=\"Количество-комнат-4.8.2\"><span class=\"toc-item-num\">4.8.2&nbsp;&nbsp;</span>Количество комнат</a></span></li><li><span><a href=\"#Близость-к-центру\" data-toc-modified-id=\"Близость-к-центру-4.8.3\"><span class=\"toc-item-num\">4.8.3&nbsp;&nbsp;</span>Близость к центру</a></span></li><li><span><a href=\"#Первый/последний-этаж\" data-toc-modified-id=\"Первый/последний-этаж-4.8.4\"><span class=\"toc-item-num\">4.8.4&nbsp;&nbsp;</span>Первый/последний этаж</a></span></li><li><span><a href=\"#День-недели\" data-toc-modified-id=\"День-недели-4.8.5\"><span class=\"toc-item-num\">4.8.5&nbsp;&nbsp;</span>День недели</a></span></li><li><span><a href=\"#Месяц\" data-toc-modified-id=\"Месяц-4.8.6\"><span class=\"toc-item-num\">4.8.6&nbsp;&nbsp;</span>Месяц</a></span></li><li><span><a href=\"#Год\" data-toc-modified-id=\"Год-4.8.7\"><span class=\"toc-item-num\">4.8.7&nbsp;&nbsp;</span>Год</a></span></li></ul></li></ul></li><li><span><a href=\"#Общий-вывод\" data-toc-modified-id=\"Общий-вывод-5\"><span class=\"toc-item-num\">5&nbsp;&nbsp;</span>Общий вывод</a></span></li><li><span><a href=\"#Чек-лист-готовности-проекта\" data-toc-modified-id=\"Чек-лист-готовности-проекта-6\"><span class=\"toc-item-num\">6&nbsp;&nbsp;</span>Чек-лист готовности проекта</a></span></li></ul></div>"
      ]
    },
    {
      "cell_type": "markdown",
      "metadata": {
        "id": "kQdexk9re--7"
      },
      "source": [
        "# Исследование объявлений о продаже квартир\n",
        "\n",
        "В вашем распоряжении данные сервиса Яндекс.Недвижимость — архив объявлений о продаже квартир в Санкт-Петербурге и соседних населённых пунктах за несколько лет. Нужно научиться определять рыночную стоимость объектов недвижимости. Ваша задача — установить параметры. Это позволит построить автоматизированную систему: она отследит аномалии и мошенническую деятельность. \n",
        "\n",
        "По каждой квартире на продажу доступны два вида данных. Первые вписаны пользователем, вторые получены автоматически на основе картографических данных. Например, расстояние до центра, аэропорта, ближайшего парка и водоёма. \n",
        "\n",
        "**Задачей проекта является поиск ответов на следующие вопросы:**\n",
        "1. Какие факторы больше всего влияют на стоимость квартиры?\n",
        "2. Какие населённые пункты отличаются самой высокой и самой низкой стоимостью жилья?\n",
        "3. Как цена недвижимости зависит от удалённости от центра?\n",
        "5. Какие факторы больше всего влияют на стоимость квартиры в центре города?\n",
        "\n",
        "**План работы:**\n",
        "1. Шаг 1. Открыть файл с данными и изучить общую информацию\n",
        "2. Шаг 2. Осуществить предобработку данных (обработать пропуски, заменить типы данных)\n",
        "3. Шаг 3. Ответить на вопросы, поставленные в задачах\n",
        "4. Шаг 4. Сформулировать общий вывод\n",
        "\n",
        "**Описание данных:**\n",
        "\n",
        "* airports_nearest — *расстояние до ближайшего аэропорта в метрах (м)*\n",
        "* balcony — *число балконов*\n",
        "* ceiling_height — *высота потолков (м)*\n",
        "* cityCenters_nearest — *расстояние до центра города (м)*\n",
        "* days_exposition — *сколько дней было размещено объявление (от публикации до снятия)*\n",
        "* first_day_exposition — *дата публикации*\n",
        "* floor — *этаж*\n",
        "* floors_total — *всего этажей в доме*\n",
        "* is_apartment — *апартаменты (булев тип)*\n",
        "* kitchen_area — *площадь кухни в квадратных метрах (м²)*\n",
        "* last_price — *цена на момент снятия с публикации*\n",
        "* living_area — *жилая площадь в квадратных метрах(м²)*\n",
        "* locality_name — *название населённого пункта*\n",
        "* open_plan — *свободная планировка (булев тип)*\n",
        "* parks_around3000 — *число парков в радиусе 3 км*\n",
        "* parks_nearest — *расстояние до ближайшего парка (м)*\n",
        "* ponds_around3000 — *число водоёмов в радиусе 3 км*\n",
        "* ponds_nearest — *расстояние до ближайшего водоёма (м)*\n",
        "* rooms — *число комнат*\n",
        "* studio — *квартира-студия (булев тип)*\n",
        "* total_area — *площадь квартиры в квадратных метрах (м²)*\n",
        "* total_images — *число фотографий квартиры в объявлении*"
      ]
    },
    {
      "cell_type": "markdown",
      "metadata": {
        "id": "h0I4MRGxe--8"
      },
      "source": [
        "## Изучение данных из файла"
      ]
    },
    {
      "cell_type": "code",
      "execution_count": null,
      "metadata": {
        "id": "iw41uROte--9"
      },
      "outputs": [],
      "source": [
        "import pandas as pd\n",
        "import numpy as np\n",
        "import matplotlib.pyplot as plt\n",
        "import warnings"
      ]
    },
    {
      "cell_type": "code",
      "execution_count": null,
      "metadata": {
        "id": "oQlfcfl6e---"
      },
      "outputs": [],
      "source": [
        "pd.options.display.float_format = '{:,.2f}'.format\n",
        "pd.set_option('display.float_format', lambda x: '%.3f' % x)\n",
        "%matplotlib inline\n",
        "plt.style.use('dark_background')\n",
        "warnings.filterwarnings('ignore')"
      ]
    },
    {
      "cell_type": "code",
      "execution_count": null,
      "metadata": {
        "id": "vuwH6Dj3e---"
      },
      "outputs": [],
      "source": [
        "df = pd.read_csv('/datasets/real_estate_data.csv', sep='\\t')"
      ]
    },
    {
      "cell_type": "code",
      "execution_count": null,
      "metadata": {
        "id": "Lh6LXthCe---",
        "outputId": "1109d7d4-59ce-4902-d62e-1043b38495e2"
      },
      "outputs": [
        {
          "data": {
            "text/html": [
              "<div>\n",
              "<style scoped>\n",
              "    .dataframe tbody tr th:only-of-type {\n",
              "        vertical-align: middle;\n",
              "    }\n",
              "\n",
              "    .dataframe tbody tr th {\n",
              "        vertical-align: top;\n",
              "    }\n",
              "\n",
              "    .dataframe thead th {\n",
              "        text-align: right;\n",
              "    }\n",
              "</style>\n",
              "<table border=\"1\" class=\"dataframe\">\n",
              "  <thead>\n",
              "    <tr style=\"text-align: right;\">\n",
              "      <th></th>\n",
              "      <th>total_images</th>\n",
              "      <th>last_price</th>\n",
              "      <th>total_area</th>\n",
              "      <th>first_day_exposition</th>\n",
              "      <th>rooms</th>\n",
              "      <th>ceiling_height</th>\n",
              "      <th>floors_total</th>\n",
              "      <th>living_area</th>\n",
              "      <th>floor</th>\n",
              "      <th>is_apartment</th>\n",
              "      <th>...</th>\n",
              "      <th>kitchen_area</th>\n",
              "      <th>balcony</th>\n",
              "      <th>locality_name</th>\n",
              "      <th>airports_nearest</th>\n",
              "      <th>cityCenters_nearest</th>\n",
              "      <th>parks_around3000</th>\n",
              "      <th>parks_nearest</th>\n",
              "      <th>ponds_around3000</th>\n",
              "      <th>ponds_nearest</th>\n",
              "      <th>days_exposition</th>\n",
              "    </tr>\n",
              "  </thead>\n",
              "  <tbody>\n",
              "    <tr>\n",
              "      <th>13875</th>\n",
              "      <td>10</td>\n",
              "      <td>2000000.000</td>\n",
              "      <td>34.500</td>\n",
              "      <td>2017-06-13T00:00:00</td>\n",
              "      <td>1</td>\n",
              "      <td>NaN</td>\n",
              "      <td>3.000</td>\n",
              "      <td>13.900</td>\n",
              "      <td>3</td>\n",
              "      <td>NaN</td>\n",
              "      <td>...</td>\n",
              "      <td>9.800</td>\n",
              "      <td>0.000</td>\n",
              "      <td>деревня Лесколово</td>\n",
              "      <td>NaN</td>\n",
              "      <td>NaN</td>\n",
              "      <td>NaN</td>\n",
              "      <td>NaN</td>\n",
              "      <td>NaN</td>\n",
              "      <td>NaN</td>\n",
              "      <td>125.000</td>\n",
              "    </tr>\n",
              "    <tr>\n",
              "      <th>19361</th>\n",
              "      <td>16</td>\n",
              "      <td>4300000.000</td>\n",
              "      <td>43.900</td>\n",
              "      <td>2016-04-11T00:00:00</td>\n",
              "      <td>2</td>\n",
              "      <td>2.550</td>\n",
              "      <td>9.000</td>\n",
              "      <td>27.400</td>\n",
              "      <td>2</td>\n",
              "      <td>NaN</td>\n",
              "      <td>...</td>\n",
              "      <td>6.700</td>\n",
              "      <td>0.000</td>\n",
              "      <td>Санкт-Петербург</td>\n",
              "      <td>19166.000</td>\n",
              "      <td>12730.000</td>\n",
              "      <td>0.000</td>\n",
              "      <td>NaN</td>\n",
              "      <td>0.000</td>\n",
              "      <td>NaN</td>\n",
              "      <td>154.000</td>\n",
              "    </tr>\n",
              "    <tr>\n",
              "      <th>13101</th>\n",
              "      <td>12</td>\n",
              "      <td>8490000.000</td>\n",
              "      <td>104.000</td>\n",
              "      <td>2019-03-13T00:00:00</td>\n",
              "      <td>4</td>\n",
              "      <td>3.900</td>\n",
              "      <td>4.000</td>\n",
              "      <td>47.000</td>\n",
              "      <td>1</td>\n",
              "      <td>NaN</td>\n",
              "      <td>...</td>\n",
              "      <td>19.000</td>\n",
              "      <td>NaN</td>\n",
              "      <td>Санкт-Петербург</td>\n",
              "      <td>26991.000</td>\n",
              "      <td>5512.000</td>\n",
              "      <td>1.000</td>\n",
              "      <td>453.000</td>\n",
              "      <td>1.000</td>\n",
              "      <td>873.000</td>\n",
              "      <td>NaN</td>\n",
              "    </tr>\n",
              "    <tr>\n",
              "      <th>20291</th>\n",
              "      <td>3</td>\n",
              "      <td>4630000.000</td>\n",
              "      <td>35.000</td>\n",
              "      <td>2018-01-11T00:00:00</td>\n",
              "      <td>1</td>\n",
              "      <td>NaN</td>\n",
              "      <td>25.000</td>\n",
              "      <td>NaN</td>\n",
              "      <td>7</td>\n",
              "      <td>NaN</td>\n",
              "      <td>...</td>\n",
              "      <td>NaN</td>\n",
              "      <td>NaN</td>\n",
              "      <td>Санкт-Петербург</td>\n",
              "      <td>35715.000</td>\n",
              "      <td>9238.000</td>\n",
              "      <td>0.000</td>\n",
              "      <td>NaN</td>\n",
              "      <td>1.000</td>\n",
              "      <td>293.000</td>\n",
              "      <td>60.000</td>\n",
              "    </tr>\n",
              "    <tr>\n",
              "      <th>17493</th>\n",
              "      <td>1</td>\n",
              "      <td>4700000.000</td>\n",
              "      <td>35.000</td>\n",
              "      <td>2018-09-20T00:00:00</td>\n",
              "      <td>1</td>\n",
              "      <td>2.700</td>\n",
              "      <td>16.000</td>\n",
              "      <td>11.000</td>\n",
              "      <td>10</td>\n",
              "      <td>NaN</td>\n",
              "      <td>...</td>\n",
              "      <td>16.000</td>\n",
              "      <td>NaN</td>\n",
              "      <td>Санкт-Петербург</td>\n",
              "      <td>10031.000</td>\n",
              "      <td>13330.000</td>\n",
              "      <td>1.000</td>\n",
              "      <td>915.000</td>\n",
              "      <td>0.000</td>\n",
              "      <td>NaN</td>\n",
              "      <td>180.000</td>\n",
              "    </tr>\n",
              "  </tbody>\n",
              "</table>\n",
              "<p>5 rows × 22 columns</p>\n",
              "</div>"
            ],
            "text/plain": [
              "       total_images  last_price  total_area first_day_exposition  rooms  \\\n",
              "13875            10 2000000.000      34.500  2017-06-13T00:00:00      1   \n",
              "19361            16 4300000.000      43.900  2016-04-11T00:00:00      2   \n",
              "13101            12 8490000.000     104.000  2019-03-13T00:00:00      4   \n",
              "20291             3 4630000.000      35.000  2018-01-11T00:00:00      1   \n",
              "17493             1 4700000.000      35.000  2018-09-20T00:00:00      1   \n",
              "\n",
              "       ceiling_height  floors_total  living_area  floor is_apartment  ...  \\\n",
              "13875             NaN         3.000       13.900      3          NaN  ...   \n",
              "19361           2.550         9.000       27.400      2          NaN  ...   \n",
              "13101           3.900         4.000       47.000      1          NaN  ...   \n",
              "20291             NaN        25.000          NaN      7          NaN  ...   \n",
              "17493           2.700        16.000       11.000     10          NaN  ...   \n",
              "\n",
              "       kitchen_area  balcony      locality_name  airports_nearest  \\\n",
              "13875         9.800    0.000  деревня Лесколово               NaN   \n",
              "19361         6.700    0.000    Санкт-Петербург         19166.000   \n",
              "13101        19.000      NaN    Санкт-Петербург         26991.000   \n",
              "20291           NaN      NaN    Санкт-Петербург         35715.000   \n",
              "17493        16.000      NaN    Санкт-Петербург         10031.000   \n",
              "\n",
              "      cityCenters_nearest  parks_around3000  parks_nearest  ponds_around3000  \\\n",
              "13875                 NaN               NaN            NaN               NaN   \n",
              "19361           12730.000             0.000            NaN             0.000   \n",
              "13101            5512.000             1.000        453.000             1.000   \n",
              "20291            9238.000             0.000            NaN             1.000   \n",
              "17493           13330.000             1.000        915.000             0.000   \n",
              "\n",
              "       ponds_nearest  days_exposition  \n",
              "13875            NaN          125.000  \n",
              "19361            NaN          154.000  \n",
              "13101        873.000              NaN  \n",
              "20291        293.000           60.000  \n",
              "17493            NaN          180.000  \n",
              "\n",
              "[5 rows x 22 columns]"
            ]
          },
          "execution_count": 4,
          "metadata": {},
          "output_type": "execute_result"
        }
      ],
      "source": [
        "df.sample(5)"
      ]
    },
    {
      "cell_type": "code",
      "execution_count": null,
      "metadata": {
        "id": "X6SOxBGve--_",
        "outputId": "141f0a28-d6f2-440b-d027-43c3e98919e9"
      },
      "outputs": [
        {
          "data": {
            "text/html": [
              "<div>\n",
              "<style scoped>\n",
              "    .dataframe tbody tr th:only-of-type {\n",
              "        vertical-align: middle;\n",
              "    }\n",
              "\n",
              "    .dataframe tbody tr th {\n",
              "        vertical-align: top;\n",
              "    }\n",
              "\n",
              "    .dataframe thead th {\n",
              "        text-align: right;\n",
              "    }\n",
              "</style>\n",
              "<table border=\"1\" class=\"dataframe\">\n",
              "  <thead>\n",
              "    <tr style=\"text-align: right;\">\n",
              "      <th></th>\n",
              "      <th>total_images</th>\n",
              "      <th>last_price</th>\n",
              "      <th>total_area</th>\n",
              "      <th>rooms</th>\n",
              "      <th>ceiling_height</th>\n",
              "      <th>floors_total</th>\n",
              "      <th>living_area</th>\n",
              "      <th>floor</th>\n",
              "      <th>kitchen_area</th>\n",
              "      <th>balcony</th>\n",
              "      <th>airports_nearest</th>\n",
              "      <th>cityCenters_nearest</th>\n",
              "      <th>parks_around3000</th>\n",
              "      <th>parks_nearest</th>\n",
              "      <th>ponds_around3000</th>\n",
              "      <th>ponds_nearest</th>\n",
              "      <th>days_exposition</th>\n",
              "    </tr>\n",
              "  </thead>\n",
              "  <tbody>\n",
              "    <tr>\n",
              "      <th>count</th>\n",
              "      <td>23699.000</td>\n",
              "      <td>23699.000</td>\n",
              "      <td>23699.000</td>\n",
              "      <td>23699.000</td>\n",
              "      <td>14504.000</td>\n",
              "      <td>23613.000</td>\n",
              "      <td>21796.000</td>\n",
              "      <td>23699.000</td>\n",
              "      <td>21421.000</td>\n",
              "      <td>12180.000</td>\n",
              "      <td>18157.000</td>\n",
              "      <td>18180.000</td>\n",
              "      <td>18181.000</td>\n",
              "      <td>8079.000</td>\n",
              "      <td>18181.000</td>\n",
              "      <td>9110.000</td>\n",
              "      <td>20518.000</td>\n",
              "    </tr>\n",
              "    <tr>\n",
              "      <th>mean</th>\n",
              "      <td>9.858</td>\n",
              "      <td>6541548.772</td>\n",
              "      <td>60.349</td>\n",
              "      <td>2.071</td>\n",
              "      <td>2.771</td>\n",
              "      <td>10.674</td>\n",
              "      <td>34.458</td>\n",
              "      <td>5.892</td>\n",
              "      <td>10.570</td>\n",
              "      <td>1.150</td>\n",
              "      <td>28793.672</td>\n",
              "      <td>14191.278</td>\n",
              "      <td>0.611</td>\n",
              "      <td>490.805</td>\n",
              "      <td>0.770</td>\n",
              "      <td>517.981</td>\n",
              "      <td>180.889</td>\n",
              "    </tr>\n",
              "    <tr>\n",
              "      <th>std</th>\n",
              "      <td>5.683</td>\n",
              "      <td>10887013.268</td>\n",
              "      <td>35.654</td>\n",
              "      <td>1.078</td>\n",
              "      <td>1.261</td>\n",
              "      <td>6.597</td>\n",
              "      <td>22.030</td>\n",
              "      <td>4.885</td>\n",
              "      <td>5.905</td>\n",
              "      <td>1.071</td>\n",
              "      <td>12630.881</td>\n",
              "      <td>8608.386</td>\n",
              "      <td>0.802</td>\n",
              "      <td>342.318</td>\n",
              "      <td>0.938</td>\n",
              "      <td>277.721</td>\n",
              "      <td>219.728</td>\n",
              "    </tr>\n",
              "    <tr>\n",
              "      <th>min</th>\n",
              "      <td>0.000</td>\n",
              "      <td>12190.000</td>\n",
              "      <td>12.000</td>\n",
              "      <td>0.000</td>\n",
              "      <td>1.000</td>\n",
              "      <td>1.000</td>\n",
              "      <td>2.000</td>\n",
              "      <td>1.000</td>\n",
              "      <td>1.300</td>\n",
              "      <td>0.000</td>\n",
              "      <td>0.000</td>\n",
              "      <td>181.000</td>\n",
              "      <td>0.000</td>\n",
              "      <td>1.000</td>\n",
              "      <td>0.000</td>\n",
              "      <td>13.000</td>\n",
              "      <td>1.000</td>\n",
              "    </tr>\n",
              "    <tr>\n",
              "      <th>25%</th>\n",
              "      <td>6.000</td>\n",
              "      <td>3400000.000</td>\n",
              "      <td>40.000</td>\n",
              "      <td>1.000</td>\n",
              "      <td>2.520</td>\n",
              "      <td>5.000</td>\n",
              "      <td>18.600</td>\n",
              "      <td>2.000</td>\n",
              "      <td>7.000</td>\n",
              "      <td>0.000</td>\n",
              "      <td>18585.000</td>\n",
              "      <td>9238.000</td>\n",
              "      <td>0.000</td>\n",
              "      <td>288.000</td>\n",
              "      <td>0.000</td>\n",
              "      <td>294.000</td>\n",
              "      <td>45.000</td>\n",
              "    </tr>\n",
              "    <tr>\n",
              "      <th>50%</th>\n",
              "      <td>9.000</td>\n",
              "      <td>4650000.000</td>\n",
              "      <td>52.000</td>\n",
              "      <td>2.000</td>\n",
              "      <td>2.650</td>\n",
              "      <td>9.000</td>\n",
              "      <td>30.000</td>\n",
              "      <td>4.000</td>\n",
              "      <td>9.100</td>\n",
              "      <td>1.000</td>\n",
              "      <td>26726.000</td>\n",
              "      <td>13098.500</td>\n",
              "      <td>0.000</td>\n",
              "      <td>455.000</td>\n",
              "      <td>1.000</td>\n",
              "      <td>502.000</td>\n",
              "      <td>95.000</td>\n",
              "    </tr>\n",
              "    <tr>\n",
              "      <th>75%</th>\n",
              "      <td>14.000</td>\n",
              "      <td>6800000.000</td>\n",
              "      <td>69.900</td>\n",
              "      <td>3.000</td>\n",
              "      <td>2.800</td>\n",
              "      <td>16.000</td>\n",
              "      <td>42.300</td>\n",
              "      <td>8.000</td>\n",
              "      <td>12.000</td>\n",
              "      <td>2.000</td>\n",
              "      <td>37273.000</td>\n",
              "      <td>16293.000</td>\n",
              "      <td>1.000</td>\n",
              "      <td>612.000</td>\n",
              "      <td>1.000</td>\n",
              "      <td>729.000</td>\n",
              "      <td>232.000</td>\n",
              "    </tr>\n",
              "    <tr>\n",
              "      <th>max</th>\n",
              "      <td>50.000</td>\n",
              "      <td>763000000.000</td>\n",
              "      <td>900.000</td>\n",
              "      <td>19.000</td>\n",
              "      <td>100.000</td>\n",
              "      <td>60.000</td>\n",
              "      <td>409.700</td>\n",
              "      <td>33.000</td>\n",
              "      <td>112.000</td>\n",
              "      <td>5.000</td>\n",
              "      <td>84869.000</td>\n",
              "      <td>65968.000</td>\n",
              "      <td>3.000</td>\n",
              "      <td>3190.000</td>\n",
              "      <td>3.000</td>\n",
              "      <td>1344.000</td>\n",
              "      <td>1580.000</td>\n",
              "    </tr>\n",
              "  </tbody>\n",
              "</table>\n",
              "</div>"
            ],
            "text/plain": [
              "       total_images    last_price  total_area     rooms  ceiling_height  \\\n",
              "count     23699.000     23699.000   23699.000 23699.000       14504.000   \n",
              "mean          9.858   6541548.772      60.349     2.071           2.771   \n",
              "std           5.683  10887013.268      35.654     1.078           1.261   \n",
              "min           0.000     12190.000      12.000     0.000           1.000   \n",
              "25%           6.000   3400000.000      40.000     1.000           2.520   \n",
              "50%           9.000   4650000.000      52.000     2.000           2.650   \n",
              "75%          14.000   6800000.000      69.900     3.000           2.800   \n",
              "max          50.000 763000000.000     900.000    19.000         100.000   \n",
              "\n",
              "       floors_total  living_area     floor  kitchen_area   balcony  \\\n",
              "count     23613.000    21796.000 23699.000     21421.000 12180.000   \n",
              "mean         10.674       34.458     5.892        10.570     1.150   \n",
              "std           6.597       22.030     4.885         5.905     1.071   \n",
              "min           1.000        2.000     1.000         1.300     0.000   \n",
              "25%           5.000       18.600     2.000         7.000     0.000   \n",
              "50%           9.000       30.000     4.000         9.100     1.000   \n",
              "75%          16.000       42.300     8.000        12.000     2.000   \n",
              "max          60.000      409.700    33.000       112.000     5.000   \n",
              "\n",
              "       airports_nearest  cityCenters_nearest  parks_around3000  parks_nearest  \\\n",
              "count         18157.000            18180.000         18181.000       8079.000   \n",
              "mean          28793.672            14191.278             0.611        490.805   \n",
              "std           12630.881             8608.386             0.802        342.318   \n",
              "min               0.000              181.000             0.000          1.000   \n",
              "25%           18585.000             9238.000             0.000        288.000   \n",
              "50%           26726.000            13098.500             0.000        455.000   \n",
              "75%           37273.000            16293.000             1.000        612.000   \n",
              "max           84869.000            65968.000             3.000       3190.000   \n",
              "\n",
              "       ponds_around3000  ponds_nearest  days_exposition  \n",
              "count         18181.000       9110.000        20518.000  \n",
              "mean              0.770        517.981          180.889  \n",
              "std               0.938        277.721          219.728  \n",
              "min               0.000         13.000            1.000  \n",
              "25%               0.000        294.000           45.000  \n",
              "50%               1.000        502.000           95.000  \n",
              "75%               1.000        729.000          232.000  \n",
              "max               3.000       1344.000         1580.000  "
            ]
          },
          "execution_count": 5,
          "metadata": {},
          "output_type": "execute_result"
        }
      ],
      "source": [
        "df.describe()"
      ]
    },
    {
      "cell_type": "code",
      "execution_count": null,
      "metadata": {
        "id": "zVpOOGKTe-_A",
        "outputId": "104ae3c0-3eb6-4a9e-ac0e-92a943097e1a"
      },
      "outputs": [
        {
          "name": "stdout",
          "output_type": "stream",
          "text": [
            "<class 'pandas.core.frame.DataFrame'>\n",
            "RangeIndex: 23699 entries, 0 to 23698\n",
            "Data columns (total 22 columns):\n",
            " #   Column                Non-Null Count  Dtype  \n",
            "---  ------                --------------  -----  \n",
            " 0   total_images          23699 non-null  int64  \n",
            " 1   last_price            23699 non-null  float64\n",
            " 2   total_area            23699 non-null  float64\n",
            " 3   first_day_exposition  23699 non-null  object \n",
            " 4   rooms                 23699 non-null  int64  \n",
            " 5   ceiling_height        14504 non-null  float64\n",
            " 6   floors_total          23613 non-null  float64\n",
            " 7   living_area           21796 non-null  float64\n",
            " 8   floor                 23699 non-null  int64  \n",
            " 9   is_apartment          2775 non-null   object \n",
            " 10  studio                23699 non-null  bool   \n",
            " 11  open_plan             23699 non-null  bool   \n",
            " 12  kitchen_area          21421 non-null  float64\n",
            " 13  balcony               12180 non-null  float64\n",
            " 14  locality_name         23650 non-null  object \n",
            " 15  airports_nearest      18157 non-null  float64\n",
            " 16  cityCenters_nearest   18180 non-null  float64\n",
            " 17  parks_around3000      18181 non-null  float64\n",
            " 18  parks_nearest         8079 non-null   float64\n",
            " 19  ponds_around3000      18181 non-null  float64\n",
            " 20  ponds_nearest         9110 non-null   float64\n",
            " 21  days_exposition       20518 non-null  float64\n",
            "dtypes: bool(2), float64(14), int64(3), object(3)\n",
            "memory usage: 3.7+ MB\n"
          ]
        }
      ],
      "source": [
        "df.info()"
      ]
    },
    {
      "cell_type": "code",
      "execution_count": null,
      "metadata": {
        "scrolled": true,
        "id": "xrX8n_U3e-_A",
        "outputId": "58419984-f847-4e97-a8c3-8ef91ec3653e"
      },
      "outputs": [
        {
          "data": {
            "text/html": [
              "<style  type=\"text/css\" >\n",
              "#T_2694d_row0_col0,#T_2694d_row1_col0,#T_2694d_row2_col0,#T_2694d_row3_col0,#T_2694d_row4_col0,#T_2694d_row8_col0,#T_2694d_row10_col0,#T_2694d_row11_col0,#T_2694d_row14_col0{\n",
              "            background-color:  #3b4cc0;\n",
              "            color:  #f1f1f1;\n",
              "        }#T_2694d_row5_col0{\n",
              "            background-color:  #ccd9ed;\n",
              "            color:  #000000;\n",
              "        }#T_2694d_row6_col0{\n",
              "            background-color:  #3c4ec2;\n",
              "            color:  #f1f1f1;\n",
              "        }#T_2694d_row7_col0{\n",
              "            background-color:  #5673e0;\n",
              "            color:  #000000;\n",
              "        }#T_2694d_row9_col0{\n",
              "            background-color:  #b40426;\n",
              "            color:  #f1f1f1;\n",
              "        }#T_2694d_row12_col0{\n",
              "            background-color:  #5b7ae5;\n",
              "            color:  #000000;\n",
              "        }#T_2694d_row13_col0{\n",
              "            background-color:  #e9d5cb;\n",
              "            color:  #000000;\n",
              "        }#T_2694d_row15_col0,#T_2694d_row16_col0,#T_2694d_row17_col0,#T_2694d_row19_col0{\n",
              "            background-color:  #92b4fe;\n",
              "            color:  #000000;\n",
              "        }#T_2694d_row18_col0{\n",
              "            background-color:  #f49a7b;\n",
              "            color:  #000000;\n",
              "        }#T_2694d_row20_col0{\n",
              "            background-color:  #f7ad90;\n",
              "            color:  #000000;\n",
              "        }#T_2694d_row21_col0{\n",
              "            background-color:  #6a8bef;\n",
              "            color:  #000000;\n",
              "        }</style><table id=\"T_2694d_\" ><thead>    <tr>        <th class=\"blank level0\" ></th>        <th class=\"col_heading level0 col0\" >0</th>    </tr></thead><tbody>\n",
              "                <tr>\n",
              "                        <th id=\"T_2694d_level0_row0\" class=\"row_heading level0 row0\" >total_images</th>\n",
              "                        <td id=\"T_2694d_row0_col0\" class=\"data row0 col0\" >0.000000</td>\n",
              "            </tr>\n",
              "            <tr>\n",
              "                        <th id=\"T_2694d_level0_row1\" class=\"row_heading level0 row1\" >last_price</th>\n",
              "                        <td id=\"T_2694d_row1_col0\" class=\"data row1 col0\" >0.000000</td>\n",
              "            </tr>\n",
              "            <tr>\n",
              "                        <th id=\"T_2694d_level0_row2\" class=\"row_heading level0 row2\" >total_area</th>\n",
              "                        <td id=\"T_2694d_row2_col0\" class=\"data row2 col0\" >0.000000</td>\n",
              "            </tr>\n",
              "            <tr>\n",
              "                        <th id=\"T_2694d_level0_row3\" class=\"row_heading level0 row3\" >first_day_exposition</th>\n",
              "                        <td id=\"T_2694d_row3_col0\" class=\"data row3 col0\" >0.000000</td>\n",
              "            </tr>\n",
              "            <tr>\n",
              "                        <th id=\"T_2694d_level0_row4\" class=\"row_heading level0 row4\" >rooms</th>\n",
              "                        <td id=\"T_2694d_row4_col0\" class=\"data row4 col0\" >0.000000</td>\n",
              "            </tr>\n",
              "            <tr>\n",
              "                        <th id=\"T_2694d_level0_row5\" class=\"row_heading level0 row5\" >ceiling_height</th>\n",
              "                        <td id=\"T_2694d_row5_col0\" class=\"data row5 col0\" >38.800000</td>\n",
              "            </tr>\n",
              "            <tr>\n",
              "                        <th id=\"T_2694d_level0_row6\" class=\"row_heading level0 row6\" >floors_total</th>\n",
              "                        <td id=\"T_2694d_row6_col0\" class=\"data row6 col0\" >0.360000</td>\n",
              "            </tr>\n",
              "            <tr>\n",
              "                        <th id=\"T_2694d_level0_row7\" class=\"row_heading level0 row7\" >living_area</th>\n",
              "                        <td id=\"T_2694d_row7_col0\" class=\"data row7 col0\" >8.030000</td>\n",
              "            </tr>\n",
              "            <tr>\n",
              "                        <th id=\"T_2694d_level0_row8\" class=\"row_heading level0 row8\" >floor</th>\n",
              "                        <td id=\"T_2694d_row8_col0\" class=\"data row8 col0\" >0.000000</td>\n",
              "            </tr>\n",
              "            <tr>\n",
              "                        <th id=\"T_2694d_level0_row9\" class=\"row_heading level0 row9\" >is_apartment</th>\n",
              "                        <td id=\"T_2694d_row9_col0\" class=\"data row9 col0\" >88.290000</td>\n",
              "            </tr>\n",
              "            <tr>\n",
              "                        <th id=\"T_2694d_level0_row10\" class=\"row_heading level0 row10\" >studio</th>\n",
              "                        <td id=\"T_2694d_row10_col0\" class=\"data row10 col0\" >0.000000</td>\n",
              "            </tr>\n",
              "            <tr>\n",
              "                        <th id=\"T_2694d_level0_row11\" class=\"row_heading level0 row11\" >open_plan</th>\n",
              "                        <td id=\"T_2694d_row11_col0\" class=\"data row11 col0\" >0.000000</td>\n",
              "            </tr>\n",
              "            <tr>\n",
              "                        <th id=\"T_2694d_level0_row12\" class=\"row_heading level0 row12\" >kitchen_area</th>\n",
              "                        <td id=\"T_2694d_row12_col0\" class=\"data row12 col0\" >9.610000</td>\n",
              "            </tr>\n",
              "            <tr>\n",
              "                        <th id=\"T_2694d_level0_row13\" class=\"row_heading level0 row13\" >balcony</th>\n",
              "                        <td id=\"T_2694d_row13_col0\" class=\"data row13 col0\" >48.610000</td>\n",
              "            </tr>\n",
              "            <tr>\n",
              "                        <th id=\"T_2694d_level0_row14\" class=\"row_heading level0 row14\" >locality_name</th>\n",
              "                        <td id=\"T_2694d_row14_col0\" class=\"data row14 col0\" >0.210000</td>\n",
              "            </tr>\n",
              "            <tr>\n",
              "                        <th id=\"T_2694d_level0_row15\" class=\"row_heading level0 row15\" >airports_nearest</th>\n",
              "                        <td id=\"T_2694d_row15_col0\" class=\"data row15 col0\" >23.380000</td>\n",
              "            </tr>\n",
              "            <tr>\n",
              "                        <th id=\"T_2694d_level0_row16\" class=\"row_heading level0 row16\" >cityCenters_nearest</th>\n",
              "                        <td id=\"T_2694d_row16_col0\" class=\"data row16 col0\" >23.290000</td>\n",
              "            </tr>\n",
              "            <tr>\n",
              "                        <th id=\"T_2694d_level0_row17\" class=\"row_heading level0 row17\" >parks_around3000</th>\n",
              "                        <td id=\"T_2694d_row17_col0\" class=\"data row17 col0\" >23.280000</td>\n",
              "            </tr>\n",
              "            <tr>\n",
              "                        <th id=\"T_2694d_level0_row18\" class=\"row_heading level0 row18\" >parks_nearest</th>\n",
              "                        <td id=\"T_2694d_row18_col0\" class=\"data row18 col0\" >65.910000</td>\n",
              "            </tr>\n",
              "            <tr>\n",
              "                        <th id=\"T_2694d_level0_row19\" class=\"row_heading level0 row19\" >ponds_around3000</th>\n",
              "                        <td id=\"T_2694d_row19_col0\" class=\"data row19 col0\" >23.280000</td>\n",
              "            </tr>\n",
              "            <tr>\n",
              "                        <th id=\"T_2694d_level0_row20\" class=\"row_heading level0 row20\" >ponds_nearest</th>\n",
              "                        <td id=\"T_2694d_row20_col0\" class=\"data row20 col0\" >61.560000</td>\n",
              "            </tr>\n",
              "            <tr>\n",
              "                        <th id=\"T_2694d_level0_row21\" class=\"row_heading level0 row21\" >days_exposition</th>\n",
              "                        <td id=\"T_2694d_row21_col0\" class=\"data row21 col0\" >13.420000</td>\n",
              "            </tr>\n",
              "    </tbody></table>"
            ],
            "text/plain": [
              "<pandas.io.formats.style.Styler at 0x7f92121ea160>"
            ]
          },
          "execution_count": 7,
          "metadata": {},
          "output_type": "execute_result"
        }
      ],
      "source": [
        "pd.DataFrame(round((df.isna().mean()*100),2)).style.background_gradient('coolwarm')"
      ]
    },
    {
      "cell_type": "markdown",
      "metadata": {
        "id": "RsPF8byse-_B"
      },
      "source": [
        "Наибольшая доля пропущенных значений наблюдается по следующим переменным:\n",
        "1. is_apartment (88.29)\n",
        "2. parks_nearest (65.91)\n",
        "3. ponds_nearest (61.56)\n",
        "4. balcony (48.61)\n",
        "5. ceiling_height (38.8)\n",
        "\n",
        "Также пропущенные значения есть в переменных: floors_total, living_area, kitchen_area, locality_name, airports_nearest, cityCenters_nearest, parks_around3000, ponds_around3000, days_exposition.  "
      ]
    },
    {
      "cell_type": "markdown",
      "metadata": {
        "id": "IgxqFxKie-_B"
      },
      "source": [
        "## Предобработка данных"
      ]
    },
    {
      "cell_type": "markdown",
      "metadata": {
        "id": "fMpe3rZ9e-_B"
      },
      "source": [
        "Переменная \"is_apartment\" принимает значения True, если недвижимость является апартаментами, в противном случае - False. Логично предполоить, что пустые значения в данном случае также должны принимать значение False. Это в целом соотносится с невысокой долей апартаментов на рынке недвижимости."
      ]
    },
    {
      "cell_type": "code",
      "execution_count": null,
      "metadata": {
        "id": "6ETFkHfFe-_B"
      },
      "outputs": [],
      "source": [
        "df['is_apartment'] = df['is_apartment'].fillna(False)"
      ]
    },
    {
      "cell_type": "markdown",
      "metadata": {
        "id": "8F4TZQ2pe-_C"
      },
      "source": [
        "Переменные \"parks_nearest\" и \"ponds_nearest\" также имеют большое число пропусков, происхождение которых предположительно носит технический характер, например, ошибки при автоматическом определении геолокации. К сожалению, в датасете отсутствуют переменные, по которым можно было бы косвенно определить значения рассматриваемых переменных. Поэтому столбцы \"parks_nearest\" и \"ponds_nearest\", а также \"airports_nearest\" и \"cityCenters_nearest\" предлагается оставить с пропущенными значениями.\n",
        "\n",
        "В свою очередь, для близких по значению переменных 'parks_around3000' и 'ponds_around3000' пропущенные значения наверняка связаны с отсутствием парков и озер рядом, соответственно пропущенные значения могут быть заменены на 0."
      ]
    },
    {
      "cell_type": "code",
      "execution_count": null,
      "metadata": {
        "id": "B-8czHgDe-_C"
      },
      "outputs": [],
      "source": [
        "df['parks_around3000'] = df['parks_around3000'].fillna(0)"
      ]
    },
    {
      "cell_type": "code",
      "execution_count": null,
      "metadata": {
        "id": "04TJlIAle-_C"
      },
      "outputs": [],
      "source": [
        "df['ponds_around3000'] = df['ponds_around3000'].fillna(0)"
      ]
    },
    {
      "cell_type": "markdown",
      "metadata": {
        "id": "ojTGSnghe-_D"
      },
      "source": [
        "Следующая переменная, для которой необходимо найти возможность адекватной замены пропущенных значений - \"balcony\". Она подчиняется той же логике, то есть отсутствие значения скорее всего связано с отсутствием самих балконов, то есть в очередной раз пустые знаения могут быть заменены на 0."
      ]
    },
    {
      "cell_type": "code",
      "execution_count": null,
      "metadata": {
        "id": "5cxqzOLde-_D"
      },
      "outputs": [],
      "source": [
        "df['balcony'] = df['balcony'].fillna(0)"
      ]
    },
    {
      "cell_type": "markdown",
      "metadata": {
        "id": "bc2EpDKze-_D"
      },
      "source": [
        "Пропущенные значения в переменной 'ceiling_height' лучше заменять медианным значением."
      ]
    },
    {
      "cell_type": "code",
      "execution_count": null,
      "metadata": {
        "id": "TLiKIF4oe-_E"
      },
      "outputs": [],
      "source": [
        "median_ceiling_height = df['ceiling_height'].median()"
      ]
    },
    {
      "cell_type": "code",
      "execution_count": null,
      "metadata": {
        "id": "OWvhk040e-_E"
      },
      "outputs": [],
      "source": [
        "df['ceiling_height'] = df['ceiling_height'].fillna(median_ceiling_height)"
      ]
    },
    {
      "cell_type": "markdown",
      "metadata": {
        "id": "D38gFjmde-_E"
      },
      "source": [
        "Значения переменных 'total_area', 'kitchen_area' и 'living_area' непосредственно взаимосвязаны, поэтому можно использовать их для того, чтобы высчитывать пропущенные значения. И выглядело бы это как-то так:\n",
        "\n",
        "df['living_area'] = df['living_area'].fillna(df['total_area'] - df['kitchen_area'])\n",
        "\n",
        "df['kitchen_area'] = df['kitchen_area'].fillna(df['total_area'] - df['living_area'])\n",
        "\n",
        "Однако здесь не учтены ванная и туалет, а может и еще что-то, поэтому это некорректно."
      ]
    },
    {
      "cell_type": "markdown",
      "metadata": {
        "id": "Y-KoqkbOe-_E"
      },
      "source": [
        "Поэтому для заполнения пропущенных значений можно воспользоваться средними значениями в группах, выделенных по размеру площади недавижимости. Для этого создадим категориальную переменную \"total_area_group\", рассчитанную по переменной 'total_area'."
      ]
    },
    {
      "cell_type": "code",
      "execution_count": null,
      "metadata": {
        "id": "Ime_HzMNe-_F",
        "outputId": "054f6cb2-18c8-49b3-9bc2-29def64e3d55"
      },
      "outputs": [
        {
          "data": {
            "text/plain": [
              "(37.6, 46.0]      4971\n",
              "(58.0, 75.0]      4783\n",
              "(11.999, 37.6]    4758\n",
              "(75.0, 900.0]     4613\n",
              "(46.0, 58.0]      4574\n",
              "Name: total_area, dtype: int64"
            ]
          },
          "execution_count": 14,
          "metadata": {},
          "output_type": "execute_result"
        }
      ],
      "source": [
        "pd.qcut(df['total_area'],5).value_counts()"
      ]
    },
    {
      "cell_type": "code",
      "execution_count": null,
      "metadata": {
        "id": "1KLCEBP0e-_F"
      },
      "outputs": [],
      "source": [
        "def total_area_group(metres):\n",
        "        if metres <= 37.6:\n",
        "                return 'маленькая площадь'\n",
        "        if metres <= 46.0:\n",
        "                return 'площадь ниже среднего'\n",
        "        if metres <= 58.0:\n",
        "                return 'средняя площадь'\n",
        "        if metres <= 75.0:\n",
        "                return 'площадь выше среднего'    \n",
        "        return 'большая площадь'"
      ]
    },
    {
      "cell_type": "code",
      "execution_count": null,
      "metadata": {
        "id": "eLyihS1ge-_F"
      },
      "outputs": [],
      "source": [
        "df['total_area_group'] = df['total_area'].apply(total_area_group)"
      ]
    },
    {
      "cell_type": "code",
      "execution_count": null,
      "metadata": {
        "id": "ViFcrrVWe-_F",
        "outputId": "06f9d7f3-0498-4924-d08d-b7a6cd78505f"
      },
      "outputs": [
        {
          "data": {
            "text/plain": [
              "площадь ниже среднего    4971\n",
              "площадь выше среднего    4783\n",
              "маленькая площадь        4758\n",
              "большая площадь          4613\n",
              "средняя площадь          4574\n",
              "Name: total_area_group, dtype: int64"
            ]
          },
          "execution_count": 17,
          "metadata": {},
          "output_type": "execute_result"
        }
      ],
      "source": [
        "df['total_area_group'].value_counts()"
      ]
    },
    {
      "cell_type": "code",
      "execution_count": null,
      "metadata": {
        "id": "dOqRaLC7e-_G",
        "outputId": "36fbe1b8-4020-47f8-a341-8e1349d50ca6"
      },
      "outputs": [
        {
          "name": "stdout",
          "output_type": "stream",
          "text": [
            "17.047406987295826\n",
            "22.6230320318122\n",
            "30.50749619162104\n",
            "39.430319295289856\n",
            "64.20515547163541\n"
          ]
        }
      ],
      "source": [
        "mean_little_area = df['living_area'][df['total_area_group'] == 'маленькая площадь'].mean()\n",
        "mean_under_mean_area = df['living_area'][df['total_area_group'] == 'площадь ниже среднего'].mean()\n",
        "mean_mean_area = df['living_area'][df['total_area_group'] == 'средняя площадь'].mean()\n",
        "mean_above_mean_area = df['living_area'][df['total_area_group'] == 'площадь выше среднего'].mean()\n",
        "mean_big_area = df['living_area'][df['total_area_group'] == 'большая площадь'].mean()\n",
        "\n",
        "print(mean_little_area)\n",
        "print(mean_under_mean_area)\n",
        "print(mean_mean_area)\n",
        "print(mean_above_mean_area)\n",
        "print(mean_big_area)"
      ]
    },
    {
      "cell_type": "code",
      "execution_count": null,
      "metadata": {
        "id": "IjG1IxmKe-_G",
        "outputId": "a67c829b-e148-4bde-dd52-de49f19e154c"
      },
      "outputs": [
        {
          "data": {
            "text/plain": [
              "count   21796.000\n",
              "mean       34.458\n",
              "std        22.030\n",
              "min         2.000\n",
              "25%        18.600\n",
              "50%        30.000\n",
              "75%        42.300\n",
              "max       409.700\n",
              "Name: living_area, dtype: float64"
            ]
          },
          "execution_count": 19,
          "metadata": {},
          "output_type": "execute_result"
        }
      ],
      "source": [
        "df['living_area'].describe()"
      ]
    },
    {
      "cell_type": "code",
      "execution_count": null,
      "metadata": {
        "id": "l5ReZsmbe-_G"
      },
      "outputs": [],
      "source": [
        "def segment_living_area(row):\n",
        "    segment = row['total_area_group']\n",
        "    if segment == 'маленькая площадь':\n",
        "        return mean_little_area\n",
        "    if segment == 'площадь ниже среднего':\n",
        "        return mean_under_mean_area\n",
        "    if segment == 'средняя площадь':\n",
        "        return mean_mean_area\n",
        "    if segment == 'площадь выше среднего':\n",
        "        return mean_above_mean_area    \n",
        "    return mean_big_area"
      ]
    },
    {
      "cell_type": "code",
      "execution_count": null,
      "metadata": {
        "id": "QfK7zAcLe-_H"
      },
      "outputs": [],
      "source": [
        "df['living_area'] = df['living_area'].fillna(df.apply(segment_living_area,axis=1))"
      ]
    },
    {
      "cell_type": "code",
      "execution_count": null,
      "metadata": {
        "id": "NRZd9nHfe-_H",
        "outputId": "a3108406-cdda-4e1f-b106-113af76663a8"
      },
      "outputs": [
        {
          "data": {
            "text/plain": [
              "count   23699.000\n",
              "mean       34.511\n",
              "std        21.653\n",
              "min         2.000\n",
              "25%        18.800\n",
              "50%        30.160\n",
              "75%        42.100\n",
              "max       409.700\n",
              "Name: living_area, dtype: float64"
            ]
          },
          "execution_count": 22,
          "metadata": {},
          "output_type": "execute_result"
        }
      ],
      "source": [
        "df['living_area'].describe()"
      ]
    },
    {
      "cell_type": "markdown",
      "metadata": {
        "id": "3W1o5deee-_H"
      },
      "source": [
        "Теперь то же самое осуществим с переменной \"kitchen_area\"!"
      ]
    },
    {
      "cell_type": "code",
      "execution_count": null,
      "metadata": {
        "id": "GzRRCXUAe-_I",
        "outputId": "9573d234-1128-4e15-8fe6-eff81f1cf207"
      },
      "outputs": [
        {
          "name": "stdout",
          "output_type": "stream",
          "text": [
            "7.8658498023715415\n",
            "8.96704234671372\n",
            "9.104630776560267\n",
            "10.38445351473923\n",
            "16.521302292602222\n"
          ]
        }
      ],
      "source": [
        "mean_little_kitchen_area = df['kitchen_area'][df['total_area_group'] == 'маленькая площадь'].mean()\n",
        "mean_under_mean_kitchen_area = df['kitchen_area'][df['total_area_group'] == 'площадь ниже среднего'].mean()\n",
        "mean_mean_kitchen_area = df['kitchen_area'][df['total_area_group'] == 'средняя площадь'].mean()\n",
        "mean_above_mean_kitchen_area = df['kitchen_area'][df['total_area_group'] == 'площадь выше среднего'].mean()\n",
        "mean_big_kitchen_area = df['kitchen_area'][df['total_area_group'] == 'большая площадь'].mean()\n",
        "\n",
        "print(mean_little_kitchen_area)\n",
        "print(mean_under_mean_kitchen_area)\n",
        "print(mean_mean_kitchen_area)\n",
        "print(mean_above_mean_kitchen_area)\n",
        "print(mean_big_kitchen_area)"
      ]
    },
    {
      "cell_type": "code",
      "execution_count": null,
      "metadata": {
        "id": "9rIYM66ee-_I",
        "outputId": "9cfd6d56-768c-422a-e392-a9294df2f8c5"
      },
      "outputs": [
        {
          "data": {
            "text/plain": [
              "count   21421.000\n",
              "mean       10.570\n",
              "std         5.905\n",
              "min         1.300\n",
              "25%         7.000\n",
              "50%         9.100\n",
              "75%        12.000\n",
              "max       112.000\n",
              "Name: kitchen_area, dtype: float64"
            ]
          },
          "execution_count": 24,
          "metadata": {},
          "output_type": "execute_result"
        }
      ],
      "source": [
        "df['kitchen_area'].describe()"
      ]
    },
    {
      "cell_type": "code",
      "execution_count": null,
      "metadata": {
        "id": "2MpDUSCHe-_I"
      },
      "outputs": [],
      "source": [
        "def segment_kitchen_area(row):\n",
        "    segment = row['total_area_group']\n",
        "    if segment == 'маленькая площадь':\n",
        "        return mean_little_kitchen_area\n",
        "    if segment == 'площадь ниже среднего':\n",
        "        return mean_under_mean_kitchen_area\n",
        "    if segment == 'средняя площадь':\n",
        "        return mean_mean_kitchen_area\n",
        "    if segment == 'площадь выше среднего':\n",
        "        return mean_above_mean_kitchen_area    \n",
        "    return mean_big_kitchen_area"
      ]
    },
    {
      "cell_type": "code",
      "execution_count": null,
      "metadata": {
        "id": "yaQvPpzPe-_J"
      },
      "outputs": [],
      "source": [
        "df['kitchen_area'] = df['kitchen_area'].fillna(df.apply(segment_kitchen_area,axis=1))"
      ]
    },
    {
      "cell_type": "code",
      "execution_count": null,
      "metadata": {
        "id": "ntuoOOvfe-_J",
        "outputId": "4c0f082f-483b-4344-8a3d-7f32614a4ffb"
      },
      "outputs": [
        {
          "data": {
            "text/plain": [
              "count   23699.000\n",
              "mean       10.529\n",
              "std         5.691\n",
              "min         1.300\n",
              "25%         7.400\n",
              "50%         9.100\n",
              "75%        11.900\n",
              "max       112.000\n",
              "Name: kitchen_area, dtype: float64"
            ]
          },
          "execution_count": 27,
          "metadata": {},
          "output_type": "execute_result"
        }
      ],
      "source": [
        "df['kitchen_area'].describe()"
      ]
    },
    {
      "cell_type": "markdown",
      "metadata": {
        "id": "3x1rj3Bpe-_J"
      },
      "source": [
        "В переменной 'locality_name' содержаться названия населенных пунктов, в которых расположены объекты недвижимости. По косвенным признакам мы не можем определить, в каком населенном пункте находится объект недвижимости. Поэтому в нашем случае пропуски лучше заменить на значения вроде \"неизвестно\" или \"другое\"."
      ]
    },
    {
      "cell_type": "code",
      "execution_count": null,
      "metadata": {
        "id": "Jur4_3-_e-_J",
        "outputId": "f21c902f-e5ec-4f6e-a90d-47e5e623be4a"
      },
      "outputs": [
        {
          "data": {
            "text/plain": [
              "Санкт-Петербург           15721\n",
              "посёлок Мурино              522\n",
              "посёлок Шушары              440\n",
              "Всеволожск                  398\n",
              "Пушкин                      369\n",
              "                          ...  \n",
              "посёлок Петро-Славянка        1\n",
              "деревня Пустынка              1\n",
              "деревня Щеглово               1\n",
              "поселок Коммунары             1\n",
              "деревня Пчева                 1\n",
              "Name: locality_name, Length: 364, dtype: int64"
            ]
          },
          "execution_count": 28,
          "metadata": {},
          "output_type": "execute_result"
        }
      ],
      "source": [
        "df['locality_name'].value_counts()"
      ]
    },
    {
      "cell_type": "code",
      "execution_count": null,
      "metadata": {
        "id": "dRjAbOGVe-_K"
      },
      "outputs": [],
      "source": [
        "df['locality_name'] = df['locality_name'].str.lower()"
      ]
    },
    {
      "cell_type": "code",
      "execution_count": null,
      "metadata": {
        "id": "JFJDUJSte-_K"
      },
      "outputs": [],
      "source": [
        "df['locality_name'].fillna('другой',inplace=True)"
      ]
    },
    {
      "cell_type": "markdown",
      "metadata": {
        "id": "m792cSAIe-_K"
      },
      "source": [
        "Пропущенные значения наблюдаются также в переменной \"days_exposition\" (сколько дней было размещено объявление). Восстановить пропущенные значения по данной переменной не представляется возможным.\n",
        "\n",
        "Также пропущенные значения есть в столбце \"floors_total\".Можно предположить, что значения не были указаны в ситуации, когда наш объект недвижимости занимал последний этаж. Подобную логику можно также развивать в том ключе, что, если наш этаж 16, то в здании есть как-минимум 16 этажей. Поэтому предлагаем заменить пропущенные значения в переменной \"floors_total\" значениями из переменной \"floor\". В любом случае, даже если наше предположение в корне неверно, сильно данным мы не навредим, так как доля пропущенных значений крайне мала."
      ]
    },
    {
      "cell_type": "code",
      "execution_count": null,
      "metadata": {
        "id": "zsxAA-Hwe-_K"
      },
      "outputs": [],
      "source": [
        "df['floors_total'].fillna(df['floor'],inplace=True)"
      ]
    },
    {
      "cell_type": "markdown",
      "metadata": {
        "id": "UpLLEuNqe-_K"
      },
      "source": [
        "А теперь полюбуемся, как мы исправили ситуацию с пропусками данных!"
      ]
    },
    {
      "cell_type": "code",
      "execution_count": null,
      "metadata": {
        "id": "yF78gGSWe-_L",
        "outputId": "a1eedd94-9497-4316-fb4c-469ef640af14"
      },
      "outputs": [
        {
          "data": {
            "text/html": [
              "<style  type=\"text/css\" >\n",
              "#T_d8552_row0_col0,#T_d8552_row1_col0,#T_d8552_row2_col0,#T_d8552_row3_col0,#T_d8552_row4_col0,#T_d8552_row5_col0,#T_d8552_row6_col0,#T_d8552_row7_col0,#T_d8552_row8_col0,#T_d8552_row9_col0,#T_d8552_row10_col0,#T_d8552_row11_col0,#T_d8552_row12_col0,#T_d8552_row13_col0,#T_d8552_row14_col0,#T_d8552_row17_col0,#T_d8552_row19_col0,#T_d8552_row22_col0{\n",
              "            background-color:  #3b4cc0;\n",
              "            color:  #f1f1f1;\n",
              "        }#T_d8552_row15_col0,#T_d8552_row16_col0{\n",
              "            background-color:  #b1cbfc;\n",
              "            color:  #000000;\n",
              "        }#T_d8552_row18_col0{\n",
              "            background-color:  #b40426;\n",
              "            color:  #f1f1f1;\n",
              "        }#T_d8552_row20_col0{\n",
              "            background-color:  #cb3e38;\n",
              "            color:  #f1f1f1;\n",
              "        }#T_d8552_row21_col0{\n",
              "            background-color:  #7da0f9;\n",
              "            color:  #000000;\n",
              "        }</style><table id=\"T_d8552_\" ><thead>    <tr>        <th class=\"blank level0\" ></th>        <th class=\"col_heading level0 col0\" >0</th>    </tr></thead><tbody>\n",
              "                <tr>\n",
              "                        <th id=\"T_d8552_level0_row0\" class=\"row_heading level0 row0\" >total_images</th>\n",
              "                        <td id=\"T_d8552_row0_col0\" class=\"data row0 col0\" >0.000000</td>\n",
              "            </tr>\n",
              "            <tr>\n",
              "                        <th id=\"T_d8552_level0_row1\" class=\"row_heading level0 row1\" >last_price</th>\n",
              "                        <td id=\"T_d8552_row1_col0\" class=\"data row1 col0\" >0.000000</td>\n",
              "            </tr>\n",
              "            <tr>\n",
              "                        <th id=\"T_d8552_level0_row2\" class=\"row_heading level0 row2\" >total_area</th>\n",
              "                        <td id=\"T_d8552_row2_col0\" class=\"data row2 col0\" >0.000000</td>\n",
              "            </tr>\n",
              "            <tr>\n",
              "                        <th id=\"T_d8552_level0_row3\" class=\"row_heading level0 row3\" >first_day_exposition</th>\n",
              "                        <td id=\"T_d8552_row3_col0\" class=\"data row3 col0\" >0.000000</td>\n",
              "            </tr>\n",
              "            <tr>\n",
              "                        <th id=\"T_d8552_level0_row4\" class=\"row_heading level0 row4\" >rooms</th>\n",
              "                        <td id=\"T_d8552_row4_col0\" class=\"data row4 col0\" >0.000000</td>\n",
              "            </tr>\n",
              "            <tr>\n",
              "                        <th id=\"T_d8552_level0_row5\" class=\"row_heading level0 row5\" >ceiling_height</th>\n",
              "                        <td id=\"T_d8552_row5_col0\" class=\"data row5 col0\" >0.000000</td>\n",
              "            </tr>\n",
              "            <tr>\n",
              "                        <th id=\"T_d8552_level0_row6\" class=\"row_heading level0 row6\" >floors_total</th>\n",
              "                        <td id=\"T_d8552_row6_col0\" class=\"data row6 col0\" >0.000000</td>\n",
              "            </tr>\n",
              "            <tr>\n",
              "                        <th id=\"T_d8552_level0_row7\" class=\"row_heading level0 row7\" >living_area</th>\n",
              "                        <td id=\"T_d8552_row7_col0\" class=\"data row7 col0\" >0.000000</td>\n",
              "            </tr>\n",
              "            <tr>\n",
              "                        <th id=\"T_d8552_level0_row8\" class=\"row_heading level0 row8\" >floor</th>\n",
              "                        <td id=\"T_d8552_row8_col0\" class=\"data row8 col0\" >0.000000</td>\n",
              "            </tr>\n",
              "            <tr>\n",
              "                        <th id=\"T_d8552_level0_row9\" class=\"row_heading level0 row9\" >is_apartment</th>\n",
              "                        <td id=\"T_d8552_row9_col0\" class=\"data row9 col0\" >0.000000</td>\n",
              "            </tr>\n",
              "            <tr>\n",
              "                        <th id=\"T_d8552_level0_row10\" class=\"row_heading level0 row10\" >studio</th>\n",
              "                        <td id=\"T_d8552_row10_col0\" class=\"data row10 col0\" >0.000000</td>\n",
              "            </tr>\n",
              "            <tr>\n",
              "                        <th id=\"T_d8552_level0_row11\" class=\"row_heading level0 row11\" >open_plan</th>\n",
              "                        <td id=\"T_d8552_row11_col0\" class=\"data row11 col0\" >0.000000</td>\n",
              "            </tr>\n",
              "            <tr>\n",
              "                        <th id=\"T_d8552_level0_row12\" class=\"row_heading level0 row12\" >kitchen_area</th>\n",
              "                        <td id=\"T_d8552_row12_col0\" class=\"data row12 col0\" >0.000000</td>\n",
              "            </tr>\n",
              "            <tr>\n",
              "                        <th id=\"T_d8552_level0_row13\" class=\"row_heading level0 row13\" >balcony</th>\n",
              "                        <td id=\"T_d8552_row13_col0\" class=\"data row13 col0\" >0.000000</td>\n",
              "            </tr>\n",
              "            <tr>\n",
              "                        <th id=\"T_d8552_level0_row14\" class=\"row_heading level0 row14\" >locality_name</th>\n",
              "                        <td id=\"T_d8552_row14_col0\" class=\"data row14 col0\" >0.000000</td>\n",
              "            </tr>\n",
              "            <tr>\n",
              "                        <th id=\"T_d8552_level0_row15\" class=\"row_heading level0 row15\" >airports_nearest</th>\n",
              "                        <td id=\"T_d8552_row15_col0\" class=\"data row15 col0\" >23.380000</td>\n",
              "            </tr>\n",
              "            <tr>\n",
              "                        <th id=\"T_d8552_level0_row16\" class=\"row_heading level0 row16\" >cityCenters_nearest</th>\n",
              "                        <td id=\"T_d8552_row16_col0\" class=\"data row16 col0\" >23.290000</td>\n",
              "            </tr>\n",
              "            <tr>\n",
              "                        <th id=\"T_d8552_level0_row17\" class=\"row_heading level0 row17\" >parks_around3000</th>\n",
              "                        <td id=\"T_d8552_row17_col0\" class=\"data row17 col0\" >0.000000</td>\n",
              "            </tr>\n",
              "            <tr>\n",
              "                        <th id=\"T_d8552_level0_row18\" class=\"row_heading level0 row18\" >parks_nearest</th>\n",
              "                        <td id=\"T_d8552_row18_col0\" class=\"data row18 col0\" >65.910000</td>\n",
              "            </tr>\n",
              "            <tr>\n",
              "                        <th id=\"T_d8552_level0_row19\" class=\"row_heading level0 row19\" >ponds_around3000</th>\n",
              "                        <td id=\"T_d8552_row19_col0\" class=\"data row19 col0\" >0.000000</td>\n",
              "            </tr>\n",
              "            <tr>\n",
              "                        <th id=\"T_d8552_level0_row20\" class=\"row_heading level0 row20\" >ponds_nearest</th>\n",
              "                        <td id=\"T_d8552_row20_col0\" class=\"data row20 col0\" >61.560000</td>\n",
              "            </tr>\n",
              "            <tr>\n",
              "                        <th id=\"T_d8552_level0_row21\" class=\"row_heading level0 row21\" >days_exposition</th>\n",
              "                        <td id=\"T_d8552_row21_col0\" class=\"data row21 col0\" >13.420000</td>\n",
              "            </tr>\n",
              "            <tr>\n",
              "                        <th id=\"T_d8552_level0_row22\" class=\"row_heading level0 row22\" >total_area_group</th>\n",
              "                        <td id=\"T_d8552_row22_col0\" class=\"data row22 col0\" >0.000000</td>\n",
              "            </tr>\n",
              "    </tbody></table>"
            ],
            "text/plain": [
              "<pandas.io.formats.style.Styler at 0x7f9211e750a0>"
            ]
          },
          "execution_count": 32,
          "metadata": {},
          "output_type": "execute_result"
        }
      ],
      "source": [
        "pd.DataFrame(round((df.isna().mean()*100),2)).style.background_gradient('coolwarm')"
      ]
    },
    {
      "cell_type": "markdown",
      "metadata": {
        "id": "pNZ_3LtVe-_L"
      },
      "source": [
        "Нам удалось заполнить пропуски для большинства переменных. Для переменных airports_nearest, cityCenters_nearest, parks_nearest, ponds_nearest, days_exposition нет адекватного и обоснованного способа заполнить пропущенные значения, поэтому с ними придется жить дальше!\n",
        "\n",
        "Теперь оптимизируем скорость работы с датафреймом - подберем подходящие типы данных для наших переменных!"
      ]
    },
    {
      "cell_type": "code",
      "execution_count": null,
      "metadata": {
        "id": "XwibV6Nve-_L",
        "outputId": "5218b5ca-b86f-4642-b739-82a3d3678fe6"
      },
      "outputs": [
        {
          "name": "stdout",
          "output_type": "stream",
          "text": [
            "<class 'pandas.core.frame.DataFrame'>\n",
            "RangeIndex: 23699 entries, 0 to 23698\n",
            "Data columns (total 23 columns):\n",
            " #   Column                Non-Null Count  Dtype  \n",
            "---  ------                --------------  -----  \n",
            " 0   total_images          23699 non-null  int64  \n",
            " 1   last_price            23699 non-null  float64\n",
            " 2   total_area            23699 non-null  float64\n",
            " 3   first_day_exposition  23699 non-null  object \n",
            " 4   rooms                 23699 non-null  int64  \n",
            " 5   ceiling_height        23699 non-null  float64\n",
            " 6   floors_total          23699 non-null  float64\n",
            " 7   living_area           23699 non-null  float64\n",
            " 8   floor                 23699 non-null  int64  \n",
            " 9   is_apartment          23699 non-null  bool   \n",
            " 10  studio                23699 non-null  bool   \n",
            " 11  open_plan             23699 non-null  bool   \n",
            " 12  kitchen_area          23699 non-null  float64\n",
            " 13  balcony               23699 non-null  float64\n",
            " 14  locality_name         23699 non-null  object \n",
            " 15  airports_nearest      18157 non-null  float64\n",
            " 16  cityCenters_nearest   18180 non-null  float64\n",
            " 17  parks_around3000      23699 non-null  float64\n",
            " 18  parks_nearest         8079 non-null   float64\n",
            " 19  ponds_around3000      23699 non-null  float64\n",
            " 20  ponds_nearest         9110 non-null   float64\n",
            " 21  days_exposition       20518 non-null  float64\n",
            " 22  total_area_group      23699 non-null  object \n",
            "dtypes: bool(3), float64(14), int64(3), object(3)\n",
            "memory usage: 10.0 MB\n"
          ]
        }
      ],
      "source": [
        "df.info(memory_usage='deep')"
      ]
    },
    {
      "cell_type": "code",
      "execution_count": null,
      "metadata": {
        "id": "YZKqHhZte-_L"
      },
      "outputs": [],
      "source": [
        "df['total_images'] = df['total_images'].astype('int8')\n",
        "df['total_area'] = df['total_area'].astype('float32')\n",
        "df['rooms'] = df['rooms'].astype('int8')\n",
        "df['ceiling_height'] = df['ceiling_height'].astype('float16')\n",
        "df['floors_total'] = df['floors_total'].astype('int8')\n",
        "df['living_area'] = df['living_area'].astype('float32')\n",
        "df['kitchen_area'] = df['kitchen_area'].astype('float32')\n",
        "df['floor'] = df['floor'].astype('int8')\n",
        "df['is_apartment'] = df['is_apartment'].astype('bool')\n",
        "df['studio'] = df['studio'].astype('bool')\n",
        "df['open_plan'] = df['open_plan'].astype('bool')\n",
        "df['balcony'] = df['balcony'].astype('int8')\n",
        "df['airports_nearest'] = df['airports_nearest'].astype('float32')\n",
        "df['cityCenters_nearest'] = df['cityCenters_nearest'].astype('float32')\n",
        "df['parks_nearest'] = df['parks_nearest'].astype('float32')\n",
        "df['ponds_nearest'] = df['ponds_nearest'].astype('float32')\n",
        "df['parks_around3000'] = df['parks_around3000'].astype('int8')\n",
        "df['ponds_around3000'] = df['ponds_around3000'].astype('int8')\n",
        "df['last_price'] = df['last_price'].astype('float32')"
      ]
    },
    {
      "cell_type": "code",
      "execution_count": null,
      "metadata": {
        "id": "5bg57SaWe-_L"
      },
      "outputs": [],
      "source": [
        "df['days_exposition'] = pd.to_numeric(df['days_exposition'], errors='ignore', downcast='integer')"
      ]
    },
    {
      "cell_type": "code",
      "execution_count": null,
      "metadata": {
        "id": "fZhBc8JVe-_M"
      },
      "outputs": [],
      "source": [
        "df = df.drop('total_area_group', axis=1)"
      ]
    },
    {
      "cell_type": "code",
      "execution_count": null,
      "metadata": {
        "id": "pG5kfniCe-_M"
      },
      "outputs": [],
      "source": [
        " df['first_day_exposition'] = pd.to_datetime(df['first_day_exposition'], format='%Y-%m-%dT%H:%M:%S')"
      ]
    },
    {
      "cell_type": "code",
      "execution_count": null,
      "metadata": {
        "id": "5z0SGN1Be-_M",
        "outputId": "9e9e0c53-96ed-4b21-adec-ae8fef00372e"
      },
      "outputs": [
        {
          "name": "stdout",
          "output_type": "stream",
          "text": [
            "<class 'pandas.core.frame.DataFrame'>\n",
            "RangeIndex: 23699 entries, 0 to 23698\n",
            "Data columns (total 22 columns):\n",
            " #   Column                Non-Null Count  Dtype         \n",
            "---  ------                --------------  -----         \n",
            " 0   total_images          23699 non-null  int8          \n",
            " 1   last_price            23699 non-null  float32       \n",
            " 2   total_area            23699 non-null  float32       \n",
            " 3   first_day_exposition  23699 non-null  datetime64[ns]\n",
            " 4   rooms                 23699 non-null  int8          \n",
            " 5   ceiling_height        23699 non-null  float16       \n",
            " 6   floors_total          23699 non-null  int8          \n",
            " 7   living_area           23699 non-null  float32       \n",
            " 8   floor                 23699 non-null  int8          \n",
            " 9   is_apartment          23699 non-null  bool          \n",
            " 10  studio                23699 non-null  bool          \n",
            " 11  open_plan             23699 non-null  bool          \n",
            " 12  kitchen_area          23699 non-null  float32       \n",
            " 13  balcony               23699 non-null  int8          \n",
            " 14  locality_name         23699 non-null  object        \n",
            " 15  airports_nearest      18157 non-null  float32       \n",
            " 16  cityCenters_nearest   18180 non-null  float32       \n",
            " 17  parks_around3000      23699 non-null  int8          \n",
            " 18  parks_nearest         8079 non-null   float32       \n",
            " 19  ponds_around3000      23699 non-null  int8          \n",
            " 20  ponds_nearest         9110 non-null   float32       \n",
            " 21  days_exposition       20518 non-null  float64       \n",
            "dtypes: bool(3), datetime64[ns](1), float16(1), float32(8), float64(1), int8(7), object(1)\n",
            "memory usage: 3.9 MB\n"
          ]
        }
      ],
      "source": [
        "df.info(memory_usage='deep')"
      ]
    },
    {
      "cell_type": "markdown",
      "metadata": {
        "id": "EHxnS2nEe-_M"
      },
      "source": [
        "Ура, было:\n",
        "\n",
        "memory usage: 10.0 MB\n",
        "\n",
        "Стало:\n",
        "\n",
        "memory usage: 3.9 MB"
      ]
    },
    {
      "cell_type": "markdown",
      "metadata": {
        "id": "GV6zUPMqe-_M"
      },
      "source": [
        "### Вывод"
      ]
    },
    {
      "cell_type": "markdown",
      "metadata": {
        "id": "15hAXui9e-_M"
      },
      "source": [
        "Мы заполнили все возможные пропуски в нашем датафрейме и оптимизировали его для экономии памяти."
      ]
    },
    {
      "cell_type": "markdown",
      "metadata": {
        "id": "9wV1m3TYe-_N"
      },
      "source": [
        "## Расчёты и добавление результатов в таблицу"
      ]
    },
    {
      "cell_type": "markdown",
      "metadata": {
        "id": "qblf5GzSe-_N"
      },
      "source": [
        "### Расчет цены квадратного метра"
      ]
    },
    {
      "cell_type": "code",
      "execution_count": null,
      "metadata": {
        "id": "zHWkleiwe-_N"
      },
      "outputs": [],
      "source": [
        "df['price_per_square_meter'] = df['last_price'] / df['total_area']"
      ]
    },
    {
      "cell_type": "markdown",
      "metadata": {
        "id": "3LrIn05xe-_N"
      },
      "source": [
        "### Расчет дня недели, месяца и года публикации объявления"
      ]
    },
    {
      "cell_type": "code",
      "execution_count": null,
      "metadata": {
        "id": "FdSxeDmpe-_N"
      },
      "outputs": [],
      "source": [
        "df['day_of_the_week_exposition'] = df['first_day_exposition'].dt.weekday"
      ]
    },
    {
      "cell_type": "code",
      "execution_count": null,
      "metadata": {
        "id": "-7WleaQie-_O"
      },
      "outputs": [],
      "source": [
        "df['month_exposition'] = df['first_day_exposition'].dt.month"
      ]
    },
    {
      "cell_type": "code",
      "execution_count": null,
      "metadata": {
        "id": "IH2LK1Y0e-_O"
      },
      "outputs": [],
      "source": [
        "df['year_exposition'] = df['first_day_exposition'].dt.year"
      ]
    },
    {
      "cell_type": "markdown",
      "metadata": {
        "id": "i751VZsUe-_O"
      },
      "source": [
        "### Расчет этажа квартиры; варианты — первый, последний, другой"
      ]
    },
    {
      "cell_type": "code",
      "execution_count": null,
      "metadata": {
        "id": "DB55loCke-_O"
      },
      "outputs": [],
      "source": [
        "def floor_flat(row):\n",
        "    floor = row['floor']\n",
        "    floors_total = row['floors_total']\n",
        "    if floor == 1:\n",
        "        return 'первый'\n",
        "    if floor == floors_total:\n",
        "        return 'последний'   \n",
        "    return 'другой'"
      ]
    },
    {
      "cell_type": "code",
      "execution_count": null,
      "metadata": {
        "id": "gfLpe-5Je-_O"
      },
      "outputs": [],
      "source": [
        "df['floor_flat'] = df.apply(floor_flat,axis=1)"
      ]
    },
    {
      "cell_type": "code",
      "execution_count": null,
      "metadata": {
        "scrolled": true,
        "id": "IpZ3AKSpe-_O",
        "outputId": "89eda195-155f-4e68-ef05-3b7540f52950"
      },
      "outputs": [
        {
          "data": {
            "text/html": [
              "<div>\n",
              "<style scoped>\n",
              "    .dataframe tbody tr th:only-of-type {\n",
              "        vertical-align: middle;\n",
              "    }\n",
              "\n",
              "    .dataframe tbody tr th {\n",
              "        vertical-align: top;\n",
              "    }\n",
              "\n",
              "    .dataframe thead th {\n",
              "        text-align: right;\n",
              "    }\n",
              "</style>\n",
              "<table border=\"1\" class=\"dataframe\">\n",
              "  <thead>\n",
              "    <tr style=\"text-align: right;\">\n",
              "      <th></th>\n",
              "      <th>floor</th>\n",
              "      <th>floors_total</th>\n",
              "      <th>floor_flat</th>\n",
              "    </tr>\n",
              "  </thead>\n",
              "  <tbody>\n",
              "    <tr>\n",
              "      <th>8633</th>\n",
              "      <td>9</td>\n",
              "      <td>9</td>\n",
              "      <td>последний</td>\n",
              "    </tr>\n",
              "    <tr>\n",
              "      <th>10729</th>\n",
              "      <td>14</td>\n",
              "      <td>20</td>\n",
              "      <td>другой</td>\n",
              "    </tr>\n",
              "    <tr>\n",
              "      <th>16079</th>\n",
              "      <td>3</td>\n",
              "      <td>5</td>\n",
              "      <td>другой</td>\n",
              "    </tr>\n",
              "    <tr>\n",
              "      <th>6017</th>\n",
              "      <td>9</td>\n",
              "      <td>16</td>\n",
              "      <td>другой</td>\n",
              "    </tr>\n",
              "    <tr>\n",
              "      <th>7837</th>\n",
              "      <td>2</td>\n",
              "      <td>23</td>\n",
              "      <td>другой</td>\n",
              "    </tr>\n",
              "    <tr>\n",
              "      <th>10550</th>\n",
              "      <td>1</td>\n",
              "      <td>5</td>\n",
              "      <td>первый</td>\n",
              "    </tr>\n",
              "    <tr>\n",
              "      <th>18760</th>\n",
              "      <td>2</td>\n",
              "      <td>4</td>\n",
              "      <td>другой</td>\n",
              "    </tr>\n",
              "    <tr>\n",
              "      <th>18317</th>\n",
              "      <td>13</td>\n",
              "      <td>27</td>\n",
              "      <td>другой</td>\n",
              "    </tr>\n",
              "    <tr>\n",
              "      <th>6154</th>\n",
              "      <td>16</td>\n",
              "      <td>17</td>\n",
              "      <td>другой</td>\n",
              "    </tr>\n",
              "    <tr>\n",
              "      <th>17051</th>\n",
              "      <td>2</td>\n",
              "      <td>22</td>\n",
              "      <td>другой</td>\n",
              "    </tr>\n",
              "    <tr>\n",
              "      <th>13807</th>\n",
              "      <td>7</td>\n",
              "      <td>12</td>\n",
              "      <td>другой</td>\n",
              "    </tr>\n",
              "    <tr>\n",
              "      <th>10421</th>\n",
              "      <td>5</td>\n",
              "      <td>5</td>\n",
              "      <td>последний</td>\n",
              "    </tr>\n",
              "    <tr>\n",
              "      <th>20404</th>\n",
              "      <td>1</td>\n",
              "      <td>4</td>\n",
              "      <td>первый</td>\n",
              "    </tr>\n",
              "    <tr>\n",
              "      <th>9992</th>\n",
              "      <td>3</td>\n",
              "      <td>5</td>\n",
              "      <td>другой</td>\n",
              "    </tr>\n",
              "    <tr>\n",
              "      <th>16472</th>\n",
              "      <td>5</td>\n",
              "      <td>12</td>\n",
              "      <td>другой</td>\n",
              "    </tr>\n",
              "    <tr>\n",
              "      <th>20783</th>\n",
              "      <td>3</td>\n",
              "      <td>16</td>\n",
              "      <td>другой</td>\n",
              "    </tr>\n",
              "    <tr>\n",
              "      <th>17456</th>\n",
              "      <td>1</td>\n",
              "      <td>2</td>\n",
              "      <td>первый</td>\n",
              "    </tr>\n",
              "    <tr>\n",
              "      <th>704</th>\n",
              "      <td>3</td>\n",
              "      <td>5</td>\n",
              "      <td>другой</td>\n",
              "    </tr>\n",
              "    <tr>\n",
              "      <th>7167</th>\n",
              "      <td>4</td>\n",
              "      <td>5</td>\n",
              "      <td>другой</td>\n",
              "    </tr>\n",
              "    <tr>\n",
              "      <th>19065</th>\n",
              "      <td>15</td>\n",
              "      <td>24</td>\n",
              "      <td>другой</td>\n",
              "    </tr>\n",
              "    <tr>\n",
              "      <th>8070</th>\n",
              "      <td>3</td>\n",
              "      <td>5</td>\n",
              "      <td>другой</td>\n",
              "    </tr>\n",
              "    <tr>\n",
              "      <th>452</th>\n",
              "      <td>3</td>\n",
              "      <td>5</td>\n",
              "      <td>другой</td>\n",
              "    </tr>\n",
              "    <tr>\n",
              "      <th>397</th>\n",
              "      <td>28</td>\n",
              "      <td>36</td>\n",
              "      <td>другой</td>\n",
              "    </tr>\n",
              "    <tr>\n",
              "      <th>1678</th>\n",
              "      <td>19</td>\n",
              "      <td>23</td>\n",
              "      <td>другой</td>\n",
              "    </tr>\n",
              "    <tr>\n",
              "      <th>2290</th>\n",
              "      <td>2</td>\n",
              "      <td>9</td>\n",
              "      <td>другой</td>\n",
              "    </tr>\n",
              "    <tr>\n",
              "      <th>14012</th>\n",
              "      <td>3</td>\n",
              "      <td>6</td>\n",
              "      <td>другой</td>\n",
              "    </tr>\n",
              "    <tr>\n",
              "      <th>12237</th>\n",
              "      <td>5</td>\n",
              "      <td>16</td>\n",
              "      <td>другой</td>\n",
              "    </tr>\n",
              "    <tr>\n",
              "      <th>8143</th>\n",
              "      <td>1</td>\n",
              "      <td>5</td>\n",
              "      <td>первый</td>\n",
              "    </tr>\n",
              "    <tr>\n",
              "      <th>17267</th>\n",
              "      <td>5</td>\n",
              "      <td>5</td>\n",
              "      <td>последний</td>\n",
              "    </tr>\n",
              "    <tr>\n",
              "      <th>23696</th>\n",
              "      <td>1</td>\n",
              "      <td>3</td>\n",
              "      <td>первый</td>\n",
              "    </tr>\n",
              "  </tbody>\n",
              "</table>\n",
              "</div>"
            ],
            "text/plain": [
              "       floor  floors_total floor_flat\n",
              "8633       9             9  последний\n",
              "10729     14            20     другой\n",
              "16079      3             5     другой\n",
              "6017       9            16     другой\n",
              "7837       2            23     другой\n",
              "10550      1             5     первый\n",
              "18760      2             4     другой\n",
              "18317     13            27     другой\n",
              "6154      16            17     другой\n",
              "17051      2            22     другой\n",
              "13807      7            12     другой\n",
              "10421      5             5  последний\n",
              "20404      1             4     первый\n",
              "9992       3             5     другой\n",
              "16472      5            12     другой\n",
              "20783      3            16     другой\n",
              "17456      1             2     первый\n",
              "704        3             5     другой\n",
              "7167       4             5     другой\n",
              "19065     15            24     другой\n",
              "8070       3             5     другой\n",
              "452        3             5     другой\n",
              "397       28            36     другой\n",
              "1678      19            23     другой\n",
              "2290       2             9     другой\n",
              "14012      3             6     другой\n",
              "12237      5            16     другой\n",
              "8143       1             5     первый\n",
              "17267      5             5  последний\n",
              "23696      1             3     первый"
            ]
          },
          "execution_count": 45,
          "metadata": {},
          "output_type": "execute_result"
        }
      ],
      "source": [
        "df[['floor','floors_total', 'floor_flat']].sample(30)"
      ]
    },
    {
      "cell_type": "code",
      "execution_count": null,
      "metadata": {
        "id": "rLCRjYPme-_P",
        "outputId": "57024bbc-b68b-4473-b3d7-da76d3326d22"
      },
      "outputs": [
        {
          "data": {
            "text/plain": [
              "другой       17363\n",
              "последний     3419\n",
              "первый        2917\n",
              "Name: floor_flat, dtype: int64"
            ]
          },
          "execution_count": 46,
          "metadata": {},
          "output_type": "execute_result"
        }
      ],
      "source": [
        "df['floor_flat'].value_counts()"
      ]
    },
    {
      "cell_type": "markdown",
      "metadata": {
        "id": "2bG_ihs8e-_P"
      },
      "source": [
        "Вроде нормально работает!"
      ]
    },
    {
      "cell_type": "markdown",
      "metadata": {
        "id": "ZOZGj4d8e-_P"
      },
      "source": [
        "### Расчет соотношения жилой и общей площади, а также отношения площади кухни к общей."
      ]
    },
    {
      "cell_type": "code",
      "execution_count": null,
      "metadata": {
        "id": "DOxUPlr1e-_P"
      },
      "outputs": [],
      "source": [
        "df['ratio_living_to_total_area'] = df['living_area'] / df['total_area']"
      ]
    },
    {
      "cell_type": "code",
      "execution_count": null,
      "metadata": {
        "id": "sd4gGBXMe-_P"
      },
      "outputs": [],
      "source": [
        "df['ratio_kitchen_area_to_total_area'] = df['kitchen_area'] / df['total_area']"
      ]
    },
    {
      "cell_type": "markdown",
      "metadata": {
        "id": "yqNeke4ue-_Q"
      },
      "source": [
        "## Исследовательский анализ данных"
      ]
    },
    {
      "cell_type": "markdown",
      "metadata": {
        "id": "f66etooGe-_Q"
      },
      "source": [
        "### Изучение параметров: площадь, цена, число комнат, высота потолков"
      ]
    },
    {
      "cell_type": "markdown",
      "metadata": {
        "id": "puwYta1Ve-_Q"
      },
      "source": [
        "#### Площадь"
      ]
    },
    {
      "cell_type": "code",
      "execution_count": null,
      "metadata": {
        "scrolled": false,
        "id": "DfA-iaJie-_Q",
        "outputId": "e1ac4965-6e45-47ec-92c3-f7176b3d396e"
      },
      "outputs": [
        {
          "data": {
            "text/plain": [
              "count   23699.000\n",
              "mean       60.349\n",
              "std        35.654\n",
              "min        12.000\n",
              "25%        40.000\n",
              "50%        52.000\n",
              "75%        69.900\n",
              "max       900.000\n",
              "Name: total_area, dtype: float64"
            ]
          },
          "execution_count": 49,
          "metadata": {},
          "output_type": "execute_result"
        }
      ],
      "source": [
        "df['total_area'].describe()"
      ]
    },
    {
      "cell_type": "code",
      "execution_count": null,
      "metadata": {
        "id": "tEf5ncz3e-_Q",
        "outputId": "ea4eccfc-bbbb-41db-9a2c-730b5e3817a9"
      },
      "outputs": [
        {
          "data": {
            "image/png": "[encoded data removed]",
            "text/plain": [
              "<Figure size 936x360 with 1 Axes>"
            ]
          },
          "metadata": {},
          "output_type": "display_data"
        }
      ],
      "source": [
        "plt.figure(figsize=(13, 5))\n",
        "plt.hist(df['total_area'], bins='auto', range=(12,300))\n",
        "plt.title('Распределение площади объектов недвижимости (м**2)')\n",
        "plt.xlabel('Количество квадратных метров (м**2)')\n",
        "plt.ylabel('Количество объектов недвижимости (шт)')\n",
        "plt.grid()\n",
        "plt.show();"
      ]
    },
    {
      "cell_type": "markdown",
      "metadata": {
        "id": "exgeVuIHe-_Q"
      },
      "source": [
        "Средний размер квартир составляет 52 квадртаных метров. Половина всех объектов недвижимости имеет площадь от 40 до 70 квадратных метров. Среднее выше медианы, из-за чего наша гистограмма имеет длинный хвост с правой стороны. Некоторые объекты недвижимости имеют по настоящему большие площади (есть даже объекты 900 квадратных метров). Проверим, насколько эти \"квартиры\" искажают общую картину."
      ]
    },
    {
      "cell_type": "markdown",
      "metadata": {
        "id": "EpyXwgS9e-_R"
      },
      "source": [
        "#### Цена"
      ]
    },
    {
      "cell_type": "code",
      "execution_count": null,
      "metadata": {
        "id": "90qyW7_fe-_R",
        "outputId": "15735489-631d-441d-f1d7-0aef51172096"
      },
      "outputs": [
        {
          "data": {
            "text/plain": [
              "count       23699.000\n",
              "mean      6541548.500\n",
              "std      10887013.000\n",
              "min         12190.000\n",
              "25%       3400000.000\n",
              "50%       4650000.000\n",
              "75%       6800000.000\n",
              "max     763000000.000\n",
              "Name: last_price, dtype: float64"
            ]
          },
          "execution_count": 51,
          "metadata": {},
          "output_type": "execute_result"
        }
      ],
      "source": [
        "df['last_price'].describe()"
      ]
    },
    {
      "cell_type": "code",
      "execution_count": null,
      "metadata": {
        "scrolled": true,
        "id": "rxKnjMtMe-_R",
        "outputId": "b54abe03-b7e2-4428-9386-24e6ca4b7280"
      },
      "outputs": [
        {
          "data": {
            "image/png": "[encoded data removed]",
            "text/plain": [
              "<Figure size 936x360 with 1 Axes>"
            ]
          },
          "metadata": {},
          "output_type": "display_data"
        }
      ],
      "source": [
        "plt.figure(figsize=(13, 5))\n",
        "plt.hist(df['last_price'], bins='auto', range=(430000.00,39990000.00))\n",
        "plt.title('Распределение цен объектов недвижимости (р)')\n",
        "plt.xlabel('Цена (р)')\n",
        "plt.ylabel('Количество объектов недвижимости (шт)')\n",
        "plt.grid()\n",
        "plt.show();"
      ]
    },
    {
      "cell_type": "markdown",
      "metadata": {
        "id": "gLGOddlFe-_R"
      },
      "source": [
        "Средняя цена недвижимости около 4.5 млн. Половина всех объектов недвижимости находится в ценовом диапозоне от 3400000 до 6800000 рублей. Среднее также несколько выше медианы, из-за чего наша гистограмма имеет длинный хвост с правой стороны. Отдельные объекты нежвижимости стоят по-настоящему дорого (есть даже объекты ценой в 763000000). Также проверим, насколько эти \"квартиры\" искажают общую картину."
      ]
    },
    {
      "cell_type": "markdown",
      "metadata": {
        "id": "pL6M7v80e-_R"
      },
      "source": [
        "#### Комнаты"
      ]
    },
    {
      "cell_type": "code",
      "execution_count": null,
      "metadata": {
        "id": "IO0sRIWTe-_S",
        "outputId": "5b97981f-717d-4bcf-cae7-bc88007a6187"
      },
      "outputs": [
        {
          "data": {
            "text/plain": [
              "count   23699.000\n",
              "mean        2.071\n",
              "std         1.078\n",
              "min         0.000\n",
              "25%         1.000\n",
              "50%         2.000\n",
              "75%         3.000\n",
              "max        19.000\n",
              "Name: rooms, dtype: float64"
            ]
          },
          "execution_count": 53,
          "metadata": {},
          "output_type": "execute_result"
        }
      ],
      "source": [
        "df['rooms'].describe()"
      ]
    },
    {
      "cell_type": "code",
      "execution_count": null,
      "metadata": {
        "id": "jBv3xCBie-_S",
        "outputId": "0fc69617-e0d1-49f4-8949-da0ef7533acb"
      },
      "outputs": [
        {
          "data": {
            "image/png": "[encoded data removed]",
            "text/plain": [
              "<Figure size 936x360 with 1 Axes>"
            ]
          },
          "metadata": {},
          "output_type": "display_data"
        }
      ],
      "source": [
        "plt.figure(figsize=(13, 5))\n",
        "plt.hist(df['rooms'], bins=19, range=(0,19), histtype='bar')\n",
        "plt.title('Распределение количества комнат объектов недвижимости (шт)')\n",
        "plt.xlabel('Количество комнат (шт)')\n",
        "plt.ylabel('Количество объектов недвижимости (шт)')\n",
        "plt.grid()\n",
        "plt.show();"
      ]
    },
    {
      "cell_type": "code",
      "execution_count": null,
      "metadata": {
        "id": "YzjUs_m9e-_S",
        "outputId": "7192211b-a425-41af-8c93-b9fe5ebb6612"
      },
      "outputs": [
        {
          "data": {
            "text/plain": [
              "1     8047\n",
              "2     7940\n",
              "3     5814\n",
              "4     1180\n",
              "5      326\n",
              "0      197\n",
              "6      105\n",
              "7       59\n",
              "8       12\n",
              "9        8\n",
              "10       3\n",
              "11       2\n",
              "14       2\n",
              "19       1\n",
              "16       1\n",
              "12       1\n",
              "15       1\n",
              "Name: rooms, dtype: int64"
            ]
          },
          "execution_count": 55,
          "metadata": {},
          "output_type": "execute_result"
        }
      ],
      "source": [
        "df['rooms'].value_counts()"
      ]
    },
    {
      "cell_type": "markdown",
      "metadata": {
        "id": "kh8VAANWe-_S"
      },
      "source": [
        "Большинство комнат однушки и двушки. Также распространены квартиры с 3 комнатами. Остальное встречается реже."
      ]
    },
    {
      "cell_type": "markdown",
      "metadata": {
        "id": "V3k6-6DYe-_S"
      },
      "source": [
        "#### Высота потолков"
      ]
    },
    {
      "cell_type": "code",
      "execution_count": null,
      "metadata": {
        "scrolled": false,
        "id": "QajiKwBre-_T",
        "outputId": "5ff0a552-8b2a-4543-8b59-7fd4630b8680"
      },
      "outputs": [
        {
          "data": {
            "text/plain": [
              "count   23699.000\n",
              "mean        2.725\n",
              "std         0.988\n",
              "min         1.000\n",
              "25%         2.600\n",
              "50%         2.650\n",
              "75%         2.699\n",
              "max       100.000\n",
              "Name: ceiling_height, dtype: float64"
            ]
          },
          "execution_count": 56,
          "metadata": {},
          "output_type": "execute_result"
        }
      ],
      "source": [
        "df['ceiling_height'].describe()"
      ]
    },
    {
      "cell_type": "code",
      "execution_count": null,
      "metadata": {
        "id": "o85QyLZye-_T",
        "outputId": "435bd0fd-0c52-4be1-9382-77ad8785cfcf"
      },
      "outputs": [
        {
          "data": {
            "image/png": "[encoded data removed]",
            "text/plain": [
              "<Figure size 936x360 with 1 Axes>"
            ]
          },
          "metadata": {},
          "output_type": "display_data"
        }
      ],
      "source": [
        "plt.figure(figsize=(13, 5))\n",
        "plt.hist(df['ceiling_height'], bins=20, range=(1,4))\n",
        "plt.title('Распределение высоты потоклов объектов недвижимости (м**2)')\n",
        "plt.xlabel('Восота потолков (м)')\n",
        "plt.ylabel('Количество объектов недвижимости (шт)')\n",
        "plt.grid()\n",
        "plt.show();"
      ]
    },
    {
      "cell_type": "markdown",
      "metadata": {
        "id": "rtWpyxsge-_T"
      },
      "source": [
        "Средняя высота потолка около 2.5 метров. Половина всех потолков находится на высоте от 2.599609 до 2.650391 метров. Среднее также несколько выше медианы, из-за чего наша гистограмма имеет длинный хвост с правой стороны. Также имеются поразительно высокие потолки, самый большой из них - 32 метра, что выше многих зданий. От всех выбросов также предлагаю избавиться."
      ]
    },
    {
      "cell_type": "markdown",
      "metadata": {
        "id": "BQn_PFere-_T"
      },
      "source": [
        "### Изучение времени продажи квартиры"
      ]
    },
    {
      "cell_type": "code",
      "execution_count": null,
      "metadata": {
        "id": "XSeE89ZGe-_T",
        "outputId": "f7b1be6c-93d4-49ac-9f32-a80b171a4d00"
      },
      "outputs": [
        {
          "data": {
            "image/png": "[encoded data removed]",
            "text/plain": [
              "<Figure size 936x360 with 1 Axes>"
            ]
          },
          "metadata": {},
          "output_type": "display_data"
        }
      ],
      "source": [
        "plt.figure(figsize=(13, 5))\n",
        "plt.hist(df['days_exposition'], bins='auto', range=(1,400))\n",
        "plt.title('Распределение времени продажи объектов недвижимости (дни)')\n",
        "plt.xlabel('Время продажи объектов недвижимости (дни)')\n",
        "plt.ylabel('Количество объектов недвижимости (шт)')\n",
        "plt.grid()\n",
        "plt.show();"
      ]
    },
    {
      "cell_type": "code",
      "execution_count": null,
      "metadata": {
        "scrolled": false,
        "id": "0whmLMhCe-_U",
        "outputId": "cca8c47f-9d4f-4ac0-9da3-d1c56fabe418"
      },
      "outputs": [
        {
          "data": {
            "text/plain": [
              "count   20518.000\n",
              "mean      180.889\n",
              "std       219.728\n",
              "min         1.000\n",
              "25%        45.000\n",
              "50%        95.000\n",
              "75%       232.000\n",
              "max      1580.000\n",
              "Name: days_exposition, dtype: float64"
            ]
          },
          "execution_count": 59,
          "metadata": {},
          "output_type": "execute_result"
        }
      ],
      "source": [
        "df['days_exposition'].describe()"
      ]
    },
    {
      "cell_type": "markdown",
      "metadata": {
        "id": "pnH1fvgLe-_U"
      },
      "source": [
        "Средний срок продажи квартиры составляет 95 дней (медиана). Большинство квартир продают от 45 до 232 дней. Тут среднее значительно выше медианы, что говорит о большом количестве экстримально высоких значений. Лучше использовать медиану, а еще лучше избавиться от выбросов."
      ]
    },
    {
      "cell_type": "markdown",
      "metadata": {
        "id": "NwRoDmX-e-_U"
      },
      "source": [
        "### Удаление редких и выбивающихся значений"
      ]
    },
    {
      "cell_type": "code",
      "execution_count": null,
      "metadata": {
        "id": "7PLHj4Uye-_U",
        "outputId": "76a0787d-3733-4e2a-955e-ed55532dd5b1"
      },
      "outputs": [
        {
          "name": "stdout",
          "output_type": "stream",
          "text": [
            "512.5\n"
          ]
        }
      ],
      "source": [
        "print(232 + ((232 - 45)*1.5))"
      ]
    },
    {
      "cell_type": "code",
      "execution_count": null,
      "metadata": {
        "scrolled": true,
        "id": "cOz71B6fe-_U",
        "outputId": "1032e605-4abc-4340-cfc5-1d654b650071"
      },
      "outputs": [
        {
          "data": {
            "image/png": "[encoded data removed]",
            "text/plain": [
              "<Figure size 936x360 with 1 Axes>"
            ]
          },
          "metadata": {},
          "output_type": "display_data"
        }
      ],
      "source": [
        "df.boxplot(column='days_exposition',figsize=(13, 5));"
      ]
    },
    {
      "cell_type": "markdown",
      "metadata": {
        "id": "3229kyqYe-_V"
      },
      "source": [
        "Судя по графику, выбросы начинаются где-то от 500 дней. Посмотрим, сколько у нас выбросов"
      ]
    },
    {
      "cell_type": "code",
      "execution_count": null,
      "metadata": {
        "scrolled": true,
        "id": "g3Rqvb79e-_V",
        "outputId": "f7785364-703a-4de7-dfb5-7556b4009548"
      },
      "outputs": [
        {
          "data": {
            "text/plain": [
              "1669"
            ]
          },
          "execution_count": 62,
          "metadata": {},
          "output_type": "execute_result"
        }
      ],
      "source": [
        "df['days_exposition'][df['days_exposition'] > 512.5].count()"
      ]
    },
    {
      "cell_type": "code",
      "execution_count": null,
      "metadata": {
        "id": "NrkjeFv-e-_V"
      },
      "outputs": [],
      "source": [
        "df = df.drop(df[df['days_exposition'] > 512.5].index)"
      ]
    },
    {
      "cell_type": "code",
      "execution_count": null,
      "metadata": {
        "id": "BIyubXMme-_V",
        "outputId": "e37b56f7-56cb-40ea-8b74-040b1c0a0909"
      },
      "outputs": [
        {
          "data": {
            "text/plain": [
              "0"
            ]
          },
          "execution_count": 64,
          "metadata": {},
          "output_type": "execute_result"
        }
      ],
      "source": [
        "df['days_exposition'][df['days_exposition'] > 512.5].count()"
      ]
    },
    {
      "cell_type": "code",
      "execution_count": null,
      "metadata": {
        "id": "NWJOaU9Qe-_V",
        "outputId": "24081c5e-e89f-44a6-a263-a4be2de91c76"
      },
      "outputs": [
        {
          "data": {
            "image/png": "[encoded data removed]",
            "text/plain": [
              "<Figure size 936x360 with 1 Axes>"
            ]
          },
          "metadata": {},
          "output_type": "display_data"
        }
      ],
      "source": [
        "df.boxplot(column='days_exposition',figsize=(13, 5));"
      ]
    },
    {
      "cell_type": "code",
      "execution_count": null,
      "metadata": {
        "id": "Vc-4n0MXe-_W",
        "outputId": "714dd2a2-61c5-41e6-cfb4-6a1a7401806a"
      },
      "outputs": [
        {
          "data": {
            "text/plain": [
              "count   18849.000\n",
              "mean      128.754\n",
              "std       121.531\n",
              "min         1.000\n",
              "25%        41.000\n",
              "50%        85.000\n",
              "75%       183.000\n",
              "max       512.000\n",
              "Name: days_exposition, dtype: float64"
            ]
          },
          "execution_count": 66,
          "metadata": {},
          "output_type": "execute_result"
        }
      ],
      "source": [
        "df['days_exposition'].describe()"
      ]
    },
    {
      "cell_type": "markdown",
      "metadata": {
        "id": "vanoTloBe-_W"
      },
      "source": [
        "Среднее и медиана стали ближе друг к другу, что говорит о том, что выбросов стало меньше! Однако все еще наблюдаются экстримальные значения. Но еще резать выборку представляется неразумным. Не нужно быть, как тот парикмахер, который хотел виски подровнять."
      ]
    },
    {
      "cell_type": "markdown",
      "metadata": {
        "id": "Pyrh_43Je-_W"
      },
      "source": [
        "### Факторы, влияющие на стоимость квартиры"
      ]
    },
    {
      "cell_type": "markdown",
      "metadata": {
        "id": "YhBEbYbIe-_W"
      },
      "source": [
        "#### Площадь"
      ]
    },
    {
      "cell_type": "code",
      "execution_count": null,
      "metadata": {
        "scrolled": true,
        "id": "TMrTmd6pe-_W",
        "outputId": "f20ebbeb-f001-4d18-f5b5-cf06c0b6a84a"
      },
      "outputs": [
        {
          "data": {
            "image/png": "[encoded data removed]",
            "text/plain": [
              "<Figure size 936x360 with 1 Axes>"
            ]
          },
          "metadata": {},
          "output_type": "display_data"
        }
      ],
      "source": [
        "df.plot(x='total_area', y='last_price', kind='scatter', alpha=0.05,figsize=(13, 5));"
      ]
    },
    {
      "cell_type": "code",
      "execution_count": null,
      "metadata": {
        "id": "r5NsTIbge-_X",
        "outputId": "27a9ee8d-8015-4635-d7c2-95d557b0337e"
      },
      "outputs": [
        {
          "data": {
            "text/plain": [
              "0.643728718244121"
            ]
          },
          "execution_count": 68,
          "metadata": {},
          "output_type": "execute_result"
        }
      ],
      "source": [
        "df['last_price'].corr(df['total_area'])"
      ]
    },
    {
      "cell_type": "markdown",
      "metadata": {
        "id": "y_fU_Oybe-_X"
      },
      "source": [
        "Видно, что есть сильная положительная связь: с увеличением жилплощади увеличивается цена, что довольно очевидно."
      ]
    },
    {
      "cell_type": "markdown",
      "metadata": {
        "id": "DdVOkkT3e-_X"
      },
      "source": [
        "#### Количество комнат"
      ]
    },
    {
      "cell_type": "code",
      "execution_count": null,
      "metadata": {
        "scrolled": true,
        "id": "Of5guI0qe-_X",
        "outputId": "94483385-08bc-40da-dbc4-1fa0282f8701"
      },
      "outputs": [
        {
          "data": {
            "text/html": [
              "<div>\n",
              "<style scoped>\n",
              "    .dataframe tbody tr th:only-of-type {\n",
              "        vertical-align: middle;\n",
              "    }\n",
              "\n",
              "    .dataframe tbody tr th {\n",
              "        vertical-align: top;\n",
              "    }\n",
              "\n",
              "    .dataframe thead th {\n",
              "        text-align: right;\n",
              "    }\n",
              "</style>\n",
              "<table border=\"1\" class=\"dataframe\">\n",
              "  <thead>\n",
              "    <tr style=\"text-align: right;\">\n",
              "      <th></th>\n",
              "      <th>count</th>\n",
              "      <th>mean</th>\n",
              "    </tr>\n",
              "    <tr>\n",
              "      <th>rooms</th>\n",
              "      <th></th>\n",
              "      <th></th>\n",
              "    </tr>\n",
              "  </thead>\n",
              "  <tbody>\n",
              "    <tr>\n",
              "      <th>0</th>\n",
              "      <td>189</td>\n",
              "      <td>3287151.500</td>\n",
              "    </tr>\n",
              "    <tr>\n",
              "      <th>1</th>\n",
              "      <td>7573</td>\n",
              "      <td>3825388.250</td>\n",
              "    </tr>\n",
              "    <tr>\n",
              "      <th>2</th>\n",
              "      <td>7440</td>\n",
              "      <td>5552187.500</td>\n",
              "    </tr>\n",
              "    <tr>\n",
              "      <th>3</th>\n",
              "      <td>5339</td>\n",
              "      <td>8069086.000</td>\n",
              "    </tr>\n",
              "    <tr>\n",
              "      <th>4</th>\n",
              "      <td>1045</td>\n",
              "      <td>13154733.000</td>\n",
              "    </tr>\n",
              "    <tr>\n",
              "      <th>5</th>\n",
              "      <td>271</td>\n",
              "      <td>23077112.000</td>\n",
              "    </tr>\n",
              "    <tr>\n",
              "      <th>6</th>\n",
              "      <td>93</td>\n",
              "      <td>32527676.000</td>\n",
              "    </tr>\n",
              "    <tr>\n",
              "      <th>7</th>\n",
              "      <td>56</td>\n",
              "      <td>53002396.000</td>\n",
              "    </tr>\n",
              "    <tr>\n",
              "      <th>8</th>\n",
              "      <td>8</td>\n",
              "      <td>45798752.000</td>\n",
              "    </tr>\n",
              "    <tr>\n",
              "      <th>9</th>\n",
              "      <td>7</td>\n",
              "      <td>34888416.000</td>\n",
              "    </tr>\n",
              "    <tr>\n",
              "      <th>10</th>\n",
              "      <td>3</td>\n",
              "      <td>26166666.000</td>\n",
              "    </tr>\n",
              "    <tr>\n",
              "      <th>11</th>\n",
              "      <td>1</td>\n",
              "      <td>17500000.000</td>\n",
              "    </tr>\n",
              "    <tr>\n",
              "      <th>12</th>\n",
              "      <td>1</td>\n",
              "      <td>420000000.000</td>\n",
              "    </tr>\n",
              "    <tr>\n",
              "      <th>14</th>\n",
              "      <td>2</td>\n",
              "      <td>26829500.000</td>\n",
              "    </tr>\n",
              "    <tr>\n",
              "      <th>15</th>\n",
              "      <td>1</td>\n",
              "      <td>65000000.000</td>\n",
              "    </tr>\n",
              "    <tr>\n",
              "      <th>19</th>\n",
              "      <td>1</td>\n",
              "      <td>32250000.000</td>\n",
              "    </tr>\n",
              "  </tbody>\n",
              "</table>\n",
              "</div>"
            ],
            "text/plain": [
              "       count          mean\n",
              "rooms                     \n",
              "0        189   3287151.500\n",
              "1       7573   3825388.250\n",
              "2       7440   5552187.500\n",
              "3       5339   8069086.000\n",
              "4       1045  13154733.000\n",
              "5        271  23077112.000\n",
              "6         93  32527676.000\n",
              "7         56  53002396.000\n",
              "8          8  45798752.000\n",
              "9          7  34888416.000\n",
              "10         3  26166666.000\n",
              "11         1  17500000.000\n",
              "12         1 420000000.000\n",
              "14         2  26829500.000\n",
              "15         1  65000000.000\n",
              "19         1  32250000.000"
            ]
          },
          "execution_count": 132,
          "metadata": {},
          "output_type": "execute_result"
        }
      ],
      "source": [
        "(\n",
        "    df.groupby('rooms')['last_price']\n",
        "      .agg(['count','mean'])\n",
        ")"
      ]
    },
    {
      "cell_type": "code",
      "execution_count": null,
      "metadata": {
        "id": "sReIcALte-_Y",
        "outputId": "a3e93b09-8729-49b6-ea72-34d057d48197"
      },
      "outputs": [
        {
          "data": {
            "text/plain": [
              "0.35501209235917613"
            ]
          },
          "execution_count": 70,
          "metadata": {},
          "output_type": "execute_result"
        }
      ],
      "source": [
        "df['last_price'].corr(df['rooms'])"
      ]
    },
    {
      "cell_type": "markdown",
      "metadata": {
        "id": "PT4KR5b9e-_Y"
      },
      "source": [
        "Та же положительная связь, отражающая примерно то же самое: чем больше комнат, тем больше площадь, чем больше площадь, тем больше цена."
      ]
    },
    {
      "cell_type": "markdown",
      "metadata": {
        "id": "6FMZewWIe-_Y"
      },
      "source": [
        "#### Близость к центру"
      ]
    },
    {
      "cell_type": "code",
      "execution_count": null,
      "metadata": {
        "id": "I5MYXwdVe-_Y",
        "outputId": "b2a628b6-0907-425d-a04b-1f2c9f30d00e"
      },
      "outputs": [
        {
          "data": {
            "image/png": "[encoded data removed]",
            "text/plain": [
              "<Figure size 936x360 with 1 Axes>"
            ]
          },
          "metadata": {},
          "output_type": "display_data"
        }
      ],
      "source": [
        "df.plot(x='cityCenters_nearest', y='last_price', kind='scatter', alpha=0.03,figsize=(13, 5));"
      ]
    },
    {
      "cell_type": "code",
      "execution_count": null,
      "metadata": {
        "id": "NEKlFSV4e-_Y",
        "outputId": "3f4dae45-b4e1-4bf7-f5a3-ac51a87b9ef8"
      },
      "outputs": [
        {
          "data": {
            "text/plain": [
              "-0.2001968600562965"
            ]
          },
          "execution_count": 72,
          "metadata": {},
          "output_type": "execute_result"
        }
      ],
      "source": [
        "df['last_price'].corr(df['cityCenters_nearest'])"
      ]
    },
    {
      "cell_type": "markdown",
      "metadata": {
        "id": "q3_7AysTe-_Z"
      },
      "source": [
        "Есть небольшая отрицательная связь: чем дальше от центра, тем меньше стоимость! Тоже логично."
      ]
    },
    {
      "cell_type": "markdown",
      "metadata": {
        "id": "gTau8uj0e-_Z"
      },
      "source": [
        "#### Первый/последний этаж"
      ]
    },
    {
      "cell_type": "code",
      "execution_count": null,
      "metadata": {
        "id": "0NPaISFje-_Z"
      },
      "outputs": [],
      "source": [
        "def floor_flat_numeric(row):\n",
        "    floor = row['floor']\n",
        "    floors_total = row['floors_total']\n",
        "    if floor == 1:\n",
        "        return 1\n",
        "    if floor == floors_total:\n",
        "        return 3   \n",
        "    return 2"
      ]
    },
    {
      "cell_type": "code",
      "execution_count": null,
      "metadata": {
        "id": "6wmFEH8ye-_Z"
      },
      "outputs": [],
      "source": [
        "df['floor_flat_numeric'] = df.apply(floor_flat_numeric,axis=1)"
      ]
    },
    {
      "cell_type": "code",
      "execution_count": null,
      "metadata": {
        "id": "YNh8XHJKe-_Z",
        "outputId": "27c82a5f-6ad9-4bd7-cccc-915877561455"
      },
      "outputs": [
        {
          "data": {
            "text/html": [
              "<div>\n",
              "<style scoped>\n",
              "    .dataframe tbody tr th:only-of-type {\n",
              "        vertical-align: middle;\n",
              "    }\n",
              "\n",
              "    .dataframe tbody tr th {\n",
              "        vertical-align: top;\n",
              "    }\n",
              "\n",
              "    .dataframe thead th {\n",
              "        text-align: right;\n",
              "    }\n",
              "</style>\n",
              "<table border=\"1\" class=\"dataframe\">\n",
              "  <thead>\n",
              "    <tr style=\"text-align: right;\">\n",
              "      <th></th>\n",
              "      <th>count</th>\n",
              "      <th>mean</th>\n",
              "    </tr>\n",
              "    <tr>\n",
              "      <th>floor_flat_numeric</th>\n",
              "      <th></th>\n",
              "      <th></th>\n",
              "    </tr>\n",
              "  </thead>\n",
              "  <tbody>\n",
              "    <tr>\n",
              "      <th>1</th>\n",
              "      <td>2691</td>\n",
              "      <td>4781739.500</td>\n",
              "    </tr>\n",
              "    <tr>\n",
              "      <th>2</th>\n",
              "      <td>16189</td>\n",
              "      <td>6515892.000</td>\n",
              "    </tr>\n",
              "    <tr>\n",
              "      <th>3</th>\n",
              "      <td>3150</td>\n",
              "      <td>7269190.000</td>\n",
              "    </tr>\n",
              "  </tbody>\n",
              "</table>\n",
              "</div>"
            ],
            "text/plain": [
              "                    count        mean\n",
              "floor_flat_numeric                   \n",
              "1                    2691 4781739.500\n",
              "2                   16189 6515892.000\n",
              "3                    3150 7269190.000"
            ]
          },
          "execution_count": 133,
          "metadata": {},
          "output_type": "execute_result"
        }
      ],
      "source": [
        "(\n",
        "    df.groupby('floor_flat_numeric')['last_price']\n",
        "      .agg(['count','mean'])\n",
        ")"
      ]
    },
    {
      "cell_type": "code",
      "execution_count": null,
      "metadata": {
        "id": "Ez1OdZoye-_Z",
        "outputId": "09347259-8ebd-41c5-ddf0-cbaaa7b67b25"
      },
      "outputs": [
        {
          "data": {
            "text/plain": [
              "0.05791939999388719"
            ]
          },
          "execution_count": 76,
          "metadata": {},
          "output_type": "execute_result"
        }
      ],
      "source": [
        "df['last_price'].corr(df['floor_flat_numeric'])"
      ]
    },
    {
      "cell_type": "markdown",
      "metadata": {
        "id": "sbCfLlxke-_a"
      },
      "source": [
        "В зависимости от этажа наблюдается слабая положительная связь. Квартиры на первом этаже самые дешевые, что неудивительно так как больше шума, люди в окно заглядывают, да и вообще в окно залезть легче. Чуть дороже квартиры на последнем этаже, но все равно намного дешевле, чем промежуточные варианты. Это обычно связано с возможностью того, что крыша будет протекать тебе в квартиру после дождей или маргинальные элементы будут собираться прямо над тобой на чердаке. Обе причины особенно актуальны для Питера. Варианты посередине - дороже крайностей."
      ]
    },
    {
      "cell_type": "markdown",
      "metadata": {
        "id": "0cbBp6Qhe-_a"
      },
      "source": [
        "#### День недели"
      ]
    },
    {
      "cell_type": "code",
      "execution_count": null,
      "metadata": {
        "id": "AXbfXG9-e-_a",
        "outputId": "669a7a89-9f23-4e1c-b0ea-e6ed6f76b0cf"
      },
      "outputs": [
        {
          "data": {
            "text/html": [
              "<div>\n",
              "<style scoped>\n",
              "    .dataframe tbody tr th:only-of-type {\n",
              "        vertical-align: middle;\n",
              "    }\n",
              "\n",
              "    .dataframe tbody tr th {\n",
              "        vertical-align: top;\n",
              "    }\n",
              "\n",
              "    .dataframe thead th {\n",
              "        text-align: right;\n",
              "    }\n",
              "</style>\n",
              "<table border=\"1\" class=\"dataframe\">\n",
              "  <thead>\n",
              "    <tr style=\"text-align: right;\">\n",
              "      <th></th>\n",
              "      <th>count</th>\n",
              "      <th>mean</th>\n",
              "    </tr>\n",
              "    <tr>\n",
              "      <th>day_of_the_week_exposition</th>\n",
              "      <th></th>\n",
              "      <th></th>\n",
              "    </tr>\n",
              "  </thead>\n",
              "  <tbody>\n",
              "    <tr>\n",
              "      <th>0</th>\n",
              "      <td>3369</td>\n",
              "      <td>6474936.500</td>\n",
              "    </tr>\n",
              "    <tr>\n",
              "      <th>1</th>\n",
              "      <td>3876</td>\n",
              "      <td>6274528.500</td>\n",
              "    </tr>\n",
              "    <tr>\n",
              "      <th>2</th>\n",
              "      <td>3674</td>\n",
              "      <td>6442515.500</td>\n",
              "    </tr>\n",
              "    <tr>\n",
              "      <th>3</th>\n",
              "      <td>3953</td>\n",
              "      <td>6501254.500</td>\n",
              "    </tr>\n",
              "    <tr>\n",
              "      <th>4</th>\n",
              "      <td>3754</td>\n",
              "      <td>6204721.000</td>\n",
              "    </tr>\n",
              "    <tr>\n",
              "      <th>5</th>\n",
              "      <td>1813</td>\n",
              "      <td>6985783.500</td>\n",
              "    </tr>\n",
              "    <tr>\n",
              "      <th>6</th>\n",
              "      <td>1591</td>\n",
              "      <td>6153513.000</td>\n",
              "    </tr>\n",
              "  </tbody>\n",
              "</table>\n",
              "</div>"
            ],
            "text/plain": [
              "                            count        mean\n",
              "day_of_the_week_exposition                   \n",
              "0                            3369 6474936.500\n",
              "1                            3876 6274528.500\n",
              "2                            3674 6442515.500\n",
              "3                            3953 6501254.500\n",
              "4                            3754 6204721.000\n",
              "5                            1813 6985783.500\n",
              "6                            1591 6153513.000"
            ]
          },
          "execution_count": 134,
          "metadata": {},
          "output_type": "execute_result"
        }
      ],
      "source": [
        "(\n",
        "    df.groupby('day_of_the_week_exposition')['last_price']\n",
        "      .agg(['count','mean'])\n",
        ")"
      ]
    },
    {
      "cell_type": "code",
      "execution_count": null,
      "metadata": {
        "id": "jJhDSYLOe-_a",
        "outputId": "417ed909-f8cb-4a79-c240-1f90d53da1ac"
      },
      "outputs": [
        {
          "data": {
            "text/plain": [
              "0.0009004429144851572"
            ]
          },
          "execution_count": 78,
          "metadata": {},
          "output_type": "execute_result"
        }
      ],
      "source": [
        "df['last_price'].corr(df['day_of_the_week_exposition'])"
      ]
    },
    {
      "cell_type": "markdown",
      "metadata": {
        "id": "bCTP4gAle-_b"
      },
      "source": [
        "Никакой связи!"
      ]
    },
    {
      "cell_type": "markdown",
      "metadata": {
        "id": "b4-uoJkLe-_b"
      },
      "source": [
        "#### Месяц"
      ]
    },
    {
      "cell_type": "code",
      "execution_count": null,
      "metadata": {
        "id": "bfHDrL_6e-_b",
        "outputId": "2dffb0df-1d11-4475-b2b8-f56422aff942"
      },
      "outputs": [
        {
          "data": {
            "text/html": [
              "<div>\n",
              "<style scoped>\n",
              "    .dataframe tbody tr th:only-of-type {\n",
              "        vertical-align: middle;\n",
              "    }\n",
              "\n",
              "    .dataframe tbody tr th {\n",
              "        vertical-align: top;\n",
              "    }\n",
              "\n",
              "    .dataframe thead th {\n",
              "        text-align: right;\n",
              "    }\n",
              "</style>\n",
              "<table border=\"1\" class=\"dataframe\">\n",
              "  <thead>\n",
              "    <tr style=\"text-align: right;\">\n",
              "      <th></th>\n",
              "      <th>count</th>\n",
              "      <th>mean</th>\n",
              "    </tr>\n",
              "    <tr>\n",
              "      <th>month_exposition</th>\n",
              "      <th></th>\n",
              "      <th></th>\n",
              "    </tr>\n",
              "  </thead>\n",
              "  <tbody>\n",
              "    <tr>\n",
              "      <th>1</th>\n",
              "      <td>1386</td>\n",
              "      <td>6317949.000</td>\n",
              "    </tr>\n",
              "    <tr>\n",
              "      <th>2</th>\n",
              "      <td>2488</td>\n",
              "      <td>6396559.000</td>\n",
              "    </tr>\n",
              "    <tr>\n",
              "      <th>3</th>\n",
              "      <td>2383</td>\n",
              "      <td>6333475.500</td>\n",
              "    </tr>\n",
              "    <tr>\n",
              "      <th>4</th>\n",
              "      <td>2241</td>\n",
              "      <td>6680171.000</td>\n",
              "    </tr>\n",
              "    <tr>\n",
              "      <th>5</th>\n",
              "      <td>1139</td>\n",
              "      <td>6445662.500</td>\n",
              "    </tr>\n",
              "    <tr>\n",
              "      <th>6</th>\n",
              "      <td>1601</td>\n",
              "      <td>6176588.500</td>\n",
              "    </tr>\n",
              "    <tr>\n",
              "      <th>7</th>\n",
              "      <td>1583</td>\n",
              "      <td>6522874.500</td>\n",
              "    </tr>\n",
              "    <tr>\n",
              "      <th>8</th>\n",
              "      <td>1649</td>\n",
              "      <td>6298196.000</td>\n",
              "    </tr>\n",
              "    <tr>\n",
              "      <th>9</th>\n",
              "      <td>1854</td>\n",
              "      <td>6708602.000</td>\n",
              "    </tr>\n",
              "    <tr>\n",
              "      <th>10</th>\n",
              "      <td>2008</td>\n",
              "      <td>6093989.000</td>\n",
              "    </tr>\n",
              "    <tr>\n",
              "      <th>11</th>\n",
              "      <td>2238</td>\n",
              "      <td>6402455.000</td>\n",
              "    </tr>\n",
              "    <tr>\n",
              "      <th>12</th>\n",
              "      <td>1460</td>\n",
              "      <td>6556296.000</td>\n",
              "    </tr>\n",
              "  </tbody>\n",
              "</table>\n",
              "</div>"
            ],
            "text/plain": [
              "                  count        mean\n",
              "month_exposition                   \n",
              "1                  1386 6317949.000\n",
              "2                  2488 6396559.000\n",
              "3                  2383 6333475.500\n",
              "4                  2241 6680171.000\n",
              "5                  1139 6445662.500\n",
              "6                  1601 6176588.500\n",
              "7                  1583 6522874.500\n",
              "8                  1649 6298196.000\n",
              "9                  1854 6708602.000\n",
              "10                 2008 6093989.000\n",
              "11                 2238 6402455.000\n",
              "12                 1460 6556296.000"
            ]
          },
          "execution_count": 135,
          "metadata": {},
          "output_type": "execute_result"
        }
      ],
      "source": [
        "(\n",
        "    df.groupby('month_exposition')['last_price']\n",
        "      .agg(['count','mean'])\n",
        ")"
      ]
    },
    {
      "cell_type": "code",
      "execution_count": null,
      "metadata": {
        "id": "ExhHcqP5e-_c",
        "outputId": "f7c92935-6708-471b-d927-974c7f22961d"
      },
      "outputs": [
        {
          "data": {
            "text/plain": [
              "0.0002186200118234052"
            ]
          },
          "execution_count": 80,
          "metadata": {},
          "output_type": "execute_result"
        }
      ],
      "source": [
        "df['last_price'].corr(df['month_exposition'])"
      ]
    },
    {
      "cell_type": "markdown",
      "metadata": {
        "id": "yPGvzHnRe-_c"
      },
      "source": [
        "Тоже не наблюдается никакой тенденции."
      ]
    },
    {
      "cell_type": "markdown",
      "metadata": {
        "id": "YUfotcV8e-_c"
      },
      "source": [
        "#### Месяц"
      ]
    },
    {
      "cell_type": "code",
      "execution_count": null,
      "metadata": {
        "id": "FYnD89kye-_c",
        "outputId": "cdc9442d-69a4-4f4a-b0e5-5f292af48819"
      },
      "outputs": [
        {
          "data": {
            "text/html": [
              "<div>\n",
              "<style scoped>\n",
              "    .dataframe tbody tr th:only-of-type {\n",
              "        vertical-align: middle;\n",
              "    }\n",
              "\n",
              "    .dataframe tbody tr th {\n",
              "        vertical-align: top;\n",
              "    }\n",
              "\n",
              "    .dataframe thead th {\n",
              "        text-align: right;\n",
              "    }\n",
              "</style>\n",
              "<table border=\"1\" class=\"dataframe\">\n",
              "  <thead>\n",
              "    <tr style=\"text-align: right;\">\n",
              "      <th></th>\n",
              "      <th>count</th>\n",
              "      <th>mean</th>\n",
              "    </tr>\n",
              "    <tr>\n",
              "      <th>year_exposition</th>\n",
              "      <th></th>\n",
              "      <th></th>\n",
              "    </tr>\n",
              "  </thead>\n",
              "  <tbody>\n",
              "    <tr>\n",
              "      <th>2014</th>\n",
              "      <td>18</td>\n",
              "      <td>16915222.000</td>\n",
              "    </tr>\n",
              "    <tr>\n",
              "      <th>2015</th>\n",
              "      <td>552</td>\n",
              "      <td>8490816.000</td>\n",
              "    </tr>\n",
              "    <tr>\n",
              "      <th>2016</th>\n",
              "      <td>2181</td>\n",
              "      <td>6693241.000</td>\n",
              "    </tr>\n",
              "    <tr>\n",
              "      <th>2017</th>\n",
              "      <td>7881</td>\n",
              "      <td>6526994.000</td>\n",
              "    </tr>\n",
              "    <tr>\n",
              "      <th>2018</th>\n",
              "      <td>8519</td>\n",
              "      <td>5950966.500</td>\n",
              "    </tr>\n",
              "    <tr>\n",
              "      <th>2019</th>\n",
              "      <td>2879</td>\n",
              "      <td>6782388.500</td>\n",
              "    </tr>\n",
              "  </tbody>\n",
              "</table>\n",
              "</div>"
            ],
            "text/plain": [
              "                 count         mean\n",
              "year_exposition                    \n",
              "2014                18 16915222.000\n",
              "2015               552  8490816.000\n",
              "2016              2181  6693241.000\n",
              "2017              7881  6526994.000\n",
              "2018              8519  5950966.500\n",
              "2019              2879  6782388.500"
            ]
          },
          "execution_count": 136,
          "metadata": {},
          "output_type": "execute_result"
        }
      ],
      "source": [
        "(\n",
        "    df.groupby('year_exposition')['last_price']\n",
        "      .agg(['count','mean'])\n",
        ")"
      ]
    },
    {
      "cell_type": "code",
      "execution_count": null,
      "metadata": {
        "id": "l5PuuVqle-_d",
        "outputId": "de54e49a-3598-4f9c-94db-7b0a77becb93"
      },
      "outputs": [
        {
          "data": {
            "text/plain": [
              "-0.023753629414722664"
            ]
          },
          "execution_count": 82,
          "metadata": {},
          "output_type": "execute_result"
        }
      ],
      "source": [
        "df['last_price'].corr(df['year_exposition'])"
      ]
    },
    {
      "cell_type": "markdown",
      "metadata": {
        "id": "x0maeK_Qe-_d"
      },
      "source": [
        "Тоже нет особой тенденции. Может показаться, что цена после 2015 года резко упало, но скорее всего это связано с малым количеством наблюдений за 2014-2015 годы."
      ]
    },
    {
      "cell_type": "markdown",
      "metadata": {
        "id": "C50EzciGe-_d"
      },
      "source": [
        "### 10 населенных пунктов"
      ]
    },
    {
      "cell_type": "markdown",
      "metadata": {
        "id": "_MGN5Nmke-_d"
      },
      "source": [
        "Сначала найдем 10 городов, из которых больше всего объявлений."
      ]
    },
    {
      "cell_type": "code",
      "execution_count": null,
      "metadata": {
        "id": "1dW8EWcie-_d",
        "outputId": "3ad5cd7f-2c47-47fe-afd1-0e9b87c14fb8"
      },
      "outputs": [
        {
          "data": {
            "text/plain": [
              "санкт-петербург                                            14562\n",
              "посёлок мурино                                               491\n",
              "посёлок шушары                                               420\n",
              "всеволожск                                                   367\n",
              "пушкин                                                       340\n",
              "колпино                                                      324\n",
              "посёлок парголово                                            313\n",
              "гатчина                                                      283\n",
              "деревня кудрово                                              268\n",
              "выборг                                                       222\n",
              "петергоф                                                     182\n",
              "кудрово                                                      170\n",
              "сестрорецк                                                   169\n",
              "красное село                                                 168\n",
              "деревня новое девяткино                                      134\n",
              "сертолово                                                    131\n",
              "кириши                                                       121\n",
              "ломоносов                                                    115\n",
              "волхов                                                       108\n",
              "сланцы                                                       104\n",
              "кингисепп                                                     99\n",
              "тосно                                                         98\n",
              "кронштадт                                                     90\n",
              "сосновый бор                                                  85\n",
              "коммунар                                                      78\n",
              "кировск                                                       78\n",
              "никольское                                                    78\n",
              "отрадное                                                      76\n",
              "посёлок бугры                                                 68\n",
              "посёлок металлострой                                          62\n",
              "приозерск                                                     62\n",
              "деревня старая                                                61\n",
              "городской посёлок янино-1                                     59\n",
              "луга                                                          54\n",
              "шлиссельбург                                                  52\n",
              "тихвин                                                        49\n",
              "другой                                                        44\n",
              "поселок бугры                                                 43\n",
              "посёлок стрельна                                              41\n",
              "посёлок тельмана                                              37\n",
              "павловск                                                      35\n",
              "поселок романовка                                             35\n",
              "мурино                                                        34\n",
              "поселок мурино                                                33\n",
              "волосово                                                      28\n",
              "городской посёлок новоселье                                   28\n",
              "ивангород                                                     28\n",
              "посёлок городского типа сиверский                             26\n",
              "городской посёлок мга                                         25\n",
              "поселок городского типа имени свердлова                       25\n",
              "сясьстрой                                                     24\n",
              "зеленогорск                                                   24\n",
              "посёлок щеглово                                               23\n",
              "посёлок городского типа кузьмоловский                         22\n",
              "посёлок новогорелово                                          20\n",
              "посёлок понтонный                                             20\n",
              "поселок городского типа синявино                              19\n",
              "деревня лесколово                                             19\n",
              "поселок городского типа рощино                                18\n",
              "деревня вартемяги                                             18\n",
              "посёлок сосново                                               18\n",
              "лодейное поле                                                 18\n",
              "подпорожье                                                    18\n",
              "посёлок городского типа имени морозова                        17\n",
              "пикалёво                                                      17\n",
              "посёлок новый свет                                            17\n",
              "деревня бегуницы                                              16\n",
              "бокситогорск                                                  16\n",
              "деревня большие колпаны                                       16\n",
              "городской поселок большая ижора                               16\n",
              "посёлок городского типа токсово                               15\n",
              "деревня горбунки                                              15\n",
              "посёлок городского типа рощино                                15\n",
              "городской посёлок назия                                       14\n",
              "поселок городского типа дубровка                              14\n",
              "новая ладога                                                  14\n",
              "поселок городского типа рахья                                 14\n",
              "посёлок городского типа кузнечное                             13\n",
              "деревня гарболово                                             12\n",
              "посёлок городского типа ульяновка                             12\n",
              "каменногорск                                                  12\n",
              "посёлок городского типа имени свердлова                       11\n",
              "деревня мистолово                                             11\n",
              "поселок елизаветино                                           11\n",
              "поселок городского типа кузьмоловский                         11\n",
              "деревня гостилицы                                             11\n",
              "деревня малое верево                                          11\n",
              "деревня нурма                                                 10\n",
              "посёлок городского типа вырица                                10\n",
              "посёлок городского типа лебяжье                               10\n",
              "деревня колтуши                                               10\n",
              "посёлок аннино                                                10\n",
              "поселок городского типа вырица                                10\n",
              "светогорск                                                    10\n",
              "деревня лаголово                                              10\n",
              "городской посёлок павлово                                      9\n",
              "поселок городского типа приладожский                           9\n",
              "посёлок пудость                                                9\n",
              "деревня батово                                                 9\n",
              "деревня сяськелево                                             9\n",
              "поселок городского типа советский                              9\n",
              "деревня белогорка                                              8\n",
              "деревня низино                                                 8\n",
              "деревня малое карлино                                          8\n",
              "деревня оржицы                                                 8\n",
              "село русско-высоцкое                                           8\n",
              "поселок войсковицы                                             8\n",
              "любань                                                         8\n",
              "поселок молодцово                                              8\n",
              "приморск                                                       8\n",
              "поселок запорожское                                            8\n",
              "поселок сельцо                                                 8\n",
              "поселок суходолье                                              7\n",
              "городской посёлок фёдоровское                                  7\n",
              "деревня куттузи                                                7\n",
              "городской поселок янино-1                                      7\n",
              "поселок углово                                                 7\n",
              "поселок ушаки                                                  6\n",
              "деревня извара                                                 6\n",
              "деревня калитино                                               6\n",
              "деревня кипень                                                 6\n",
              "деревня кальтино                                               6\n",
              "деревня малые колпаны                                          6\n",
              "деревня кузьмолово                                             6\n",
              "поселок городского типа никольский                             6\n",
              "деревня яльгелево                                              6\n",
              "посёлок мичуринское                                            6\n",
              "посёлок городского типа тайцы                                  6\n",
              "поселок новый учхоз                                            6\n",
              "село павлово                                                   6\n",
              "деревня лампово                                                6\n",
              "посёлок ильичёво                                               6\n",
              "поселок кобринское                                             6\n",
              "деревня лопухинка                                              6\n",
              "посёлок городского типа важины                                 6\n",
              "посёлок городского типа мга                                    6\n",
              "поселок первомайское                                           6\n",
              "село копорье                                                   5\n",
              "поселок селезнёво                                              5\n",
              "посёлок сапёрный                                               5\n",
              "деревня пудомяги                                               5\n",
              "поселок новый свет                                             5\n",
              "деревня фёдоровское                                            5\n",
              "поселок семрино                                                5\n",
              "городской посёлок рощино                                       5\n",
              "посёлок войскорово                                             5\n",
              "деревня пеники                                                 5\n",
              "деревня заневка                                                5\n",
              "посёлок кобралово                                              5\n",
              "поселок мичуринское                                            5\n",
              "поселок городского типа дружная горка                          4\n",
              "деревня юкки                                                   4\n",
              "посёлок торфяное                                               4\n",
              "поселок станции вещево                                         4\n",
              "деревня парицы                                                 4\n",
              "посёлок плодовое                                               4\n",
              "городской посёлок будогощь                                     4\n",
              "посёлок усть-луга                                              4\n",
              "посёлок стеклянный                                             4\n",
              "деревня разметелево                                            4\n",
              "поселок глажево                                                4\n",
              "посёлок гаврилово                                              4\n",
              "посёлок поляны                                                 4\n",
              "посёлок городского типа форносово                              4\n",
              "деревня келози                                                 4\n",
              "деревня разбегаево                                             4\n",
              "посёлок песочный                                               4\n",
              "посёлок кикерино                                               4\n",
              "поселок цвелодубово                                            4\n",
              "деревня большая вруда                                          4\n",
              "городской посёлок виллози                                      3\n",
              "село рождествено                                               3\n",
              "посёлок молодёжное                                             3\n",
              "поселок стеклянный                                             3\n",
              "поселок кобралово                                              3\n",
              "посёлок победа                                                 3\n",
              "посёлок городского типа красный бор                            3\n",
              "поселок аннино                                                 3\n",
              "деревня старополье                                             3\n",
              "деревня торошковичи                                            3\n",
              "поселок городского типа красный бор                            3\n",
              "посёлок станции громово                                        3\n",
              "поселок городского типа лебяжье                                3\n",
              "поселок городского типа лесогорский                            3\n",
              "поселок торковичи                                              3\n",
              "поселок заводской                                              3\n",
              "посёлок петровское                                             3\n",
              "поселок мельниково                                             3\n",
              "поселок лукаши                                                 3\n",
              "деревня аро                                                    3\n",
              "поселок котельский                                             3\n",
              "поселок городского типа ефимовский                             3\n",
              "деревня агалатово                                              3\n",
              "посёлок репино                                                 3\n",
              "поселок городского типа токсово                                3\n",
              "посёлок терволово                                              3\n",
              "посёлок пригородный                                            3\n",
              "деревня торосово                                               3\n",
              "деревня заклинье                                               3\n",
              "поселок оредеж                                                 3\n",
              "поселок глебычево                                              3\n",
              "поселок громово                                                3\n",
              "посёлок перово                                                 3\n",
              "поселок победа                                                 3\n",
              "поселок гарболово                                              3\n",
              "поселок зимитицы                                               3\n",
              "деревня старосиверская                                         3\n",
              "поселок красная долина                                         2\n",
              "поселок житково                                                2\n",
              "деревня ненимяки                                               2\n",
              "деревня старая пустошь                                         2\n",
              "поселок серебрянский                                           2\n",
              "поселок поляны                                                 2\n",
              "деревня выскатка                                               2\n",
              "деревня коркино                                                2\n",
              "поселок пушное                                                 2\n",
              "посёлок мельниково                                             2\n",
              "деревня ям-тесово                                              2\n",
              "село путилово                                                  2\n",
              "посёлок ленинское                                              2\n",
              "поселок лесное                                                 2\n",
              "деревня тарасово                                               2\n",
              "деревня суоранда                                               2\n",
              "поселок петровское                                             2\n",
              "посёлок усть-ижора                                             2\n",
              "посёлок городского типа вознесенье                             2\n",
              "поселок барышево                                               2\n",
              "село паша                                                      2\n",
              "деревня бор                                                    2\n",
              "посёлок суйда                                                  2\n",
              "деревня ваганово                                               2\n",
              "высоцк                                                         2\n",
              "поселок кингисеппский                                          2\n",
              "село старая ладога                                             2\n",
              "деревня старые бегуницы                                        2\n",
              "посёлок жилгородок                                             2\n",
              "посёлок станции свирь                                          2\n",
              "посёлок возрождение                                            2\n",
              "поселок терволово                                              2\n",
              "деревня камышовка                                              2\n",
              "деревня глинка                                                 2\n",
              "поселок починок                                                2\n",
              "городской посёлок советский                                    2\n",
              "деревня фалилеево                                              2\n",
              "городской посёлок лесогорский                                  2\n",
              "поселок ильичёво                                               2\n",
              "посёлок старая малукса                                         2\n",
              "поселок совхозный                                              2\n",
              "посёлок городского типа павлово                                2\n",
              "посёлок сапёрное                                               2\n",
              "поселок старая малукса                                         2\n",
              "поселок городского типа форносово                              2\n",
              "поселок тельмана                                               2\n",
              "поселок станции приветнинское                                  2\n",
              "поселок городского типа назия                                  2\n",
              "посёлок александровская                                        2\n",
              "поселок рябово                                                 1\n",
              "деревня хапо-ое                                                1\n",
              "деревня малая романовка                                        1\n",
              "посёлок белоостров                                             1\n",
              "поселок володарское                                            1\n",
              "деревня раздолье                                               1\n",
              "посёлок дзержинского                                           1\n",
              "поселок жилпосёлок                                             1\n",
              "посёлок ропша                                                  1\n",
              "деревня куровицы                                               1\n",
              "поселок почап                                                  1\n",
              "село никольское                                                1\n",
              "деревня снегирёвка                                             1\n",
              "деревня русско                                                 1\n",
              "посёлок лисий нос                                              1\n",
              "деревня котлы                                                  1\n",
              "деревня каськово                                               1\n",
              "деревня сижно                                                  1\n",
              "деревня кисельня                                               1\n",
              "садовое товарищество рахья                                     1\n",
              "деревня борисова грива                                         1\n",
              "посёлок пансионат зелёный бор                                  1\n",
              "деревня новолисино                                             1\n",
              "деревня лаврики                                                1\n",
              "деревня терпилицы                                              1\n",
              "деревня иссад                                                  1\n",
              "посёлок плоское                                                1\n",
              "поселок жилгородок                                             1\n",
              "поселок сумино                                                 1\n",
              "деревня нижняя                                                 1\n",
              "деревня старое хинколово                                       1\n",
              "садоводческое некоммерческое товарищество лесная поляна        1\n",
              "посёлок высокоключевой                                         1\n",
              "садовое товарищество приладожский                              1\n",
              "городской посёлок свирьстрой                                   1\n",
              "деревня трубников бор                                          1\n",
              "деревня пустынка                                               1\n",
              "поселок гладкое                                                1\n",
              "поселок городского типа рябово                                 1\n",
              "деревня пельгора                                               1\n",
              "поселок пансионат зелёный бор                                  1\n",
              "деревня меньково                                               1\n",
              "поселок ромашки                                                1\n",
              "поселок тёсово-4                                               1\n",
              "деревня тойворово                                              1\n",
              "посёлок петро-славянка                                         1\n",
              "деревня реброво                                                1\n",
              "поселок калитино                                               1\n",
              "деревня мины                                                   1\n",
              "поселок кирпичное                                              1\n",
              "деревня пижма                                                  1\n",
              "село шум                                                       1\n",
              "деревня мануйлово                                              1\n",
              "коттеджный поселок кивеннапа север                             1\n",
              "посёлок шугозеро                                               1\n",
              "посёлок платформа 69-й километр                                1\n",
              "деревня шпаньково                                              1\n",
              "поселок гончарово                                              1\n",
              "деревня лупполово                                              1\n",
              "коттеджный поселок счастье                                     1\n",
              "деревня нижние осельки                                         1\n",
              "посёлок коробицыно                                             1\n",
              "посёлок сумино                                                 1\n",
              "поселок каложицы                                               1\n",
              "коттеджный посёлок лесное                                      1\n",
              "поселок цвылёво                                                1\n",
              "поселок любань                                                 1\n",
              "деревня вахнова кара                                           1\n",
              "деревня большое рейзино                                        1\n",
              "деревня хязельки                                               1\n",
              "поселок дружноселье                                            1\n",
              "деревня пчева                                                  1\n",
              "поселок рабитицы                                               1\n",
              "посёлок алексеевка                                             1\n",
              "деревня тихковицы                                              1\n",
              "поселок станции лужайка                                        1\n",
              "поселок семиозерье                                             1\n",
              "деревня курковицы                                              1\n",
              "деревня кривко                                                 1\n",
              "садовое товарищество новая ропша                               1\n",
              "деревня чудской бор                                            1\n",
              "поселок усть-луга                                              1\n",
              "поселок гаврилово                                              1\n",
              "посёлок форт красная горка                                     1\n",
              "поселок красносельское                                         1\n",
              "посёлок левашово                                               1\n",
              "поселок коммунары                                              1\n",
              "деревня рабитицы                                               1\n",
              "посёлок при железнодорожной станции приветнинское              1\n",
              "поселок станции корнево                                        1\n",
              "деревня рапполово                                              1\n",
              "поселок пчевжа                                                 1\n",
              "посёлок мыза-ивановка                                          1\n",
              "деревня щеглово                                                1\n",
              "поселок городского типа кондратьево                            1\n",
              "поселок лисий нос                                              1\n",
              "поселок возрождение                                            1\n",
              "поселок перово                                                 1\n",
              "деревня большой сабск                                          1\n",
              "деревня ялгино                                                 1\n",
              "поселок городского типа большая ижора                          1\n",
              "деревня пикколово                                              1\n",
              "садовое товарищество садко                                     1\n",
              "посёлок при железнодорожной станции вещево                     1\n",
              "Name: locality_name, dtype: int64"
            ]
          },
          "execution_count": 83,
          "metadata": {},
          "output_type": "execute_result"
        }
      ],
      "source": [
        "pd.options.display.max_rows = 1000\n",
        "df['locality_name'].value_counts()"
      ]
    },
    {
      "cell_type": "markdown",
      "metadata": {
        "id": "OrMfqoZOe-_e"
      },
      "source": [
        "В топ 10 городов по числу объявлений входят:\n",
        "\n",
        "1. санкт-петербург\n",
        "2. посёлок мурино\n",
        "3. посёлок шушары\n",
        "4. всеволожск\n",
        "5. пушкин \n",
        "6. колпино\n",
        "7. посёлок парголово\n",
        "8. гатчина\n",
        "9. деревня кудрово\n",
        "10. выборг "
      ]
    },
    {
      "cell_type": "code",
      "execution_count": null,
      "metadata": {
        "id": "qFPwxsNye-_e"
      },
      "outputs": [],
      "source": [
        "top10 = ['санкт-петербург','посёлок мурино','посёлок шушары','всеволожск','пушкин',\n",
        "         'колпино','посёлок парголово','гатчина','деревня кудрово','выборг']"
      ]
    },
    {
      "cell_type": "code",
      "execution_count": null,
      "metadata": {
        "id": "DmsUZsvBe-_e",
        "outputId": "cd0a0dd4-35ae-4044-a940-5f9946a1a2b4"
      },
      "outputs": [
        {
          "data": {
            "text/html": [
              "<div>\n",
              "<style scoped>\n",
              "    .dataframe tbody tr th:only-of-type {\n",
              "        vertical-align: middle;\n",
              "    }\n",
              "\n",
              "    .dataframe tbody tr th {\n",
              "        vertical-align: top;\n",
              "    }\n",
              "\n",
              "    .dataframe thead th {\n",
              "        text-align: right;\n",
              "    }\n",
              "</style>\n",
              "<table border=\"1\" class=\"dataframe\">\n",
              "  <thead>\n",
              "    <tr style=\"text-align: right;\">\n",
              "      <th></th>\n",
              "      <th>count</th>\n",
              "      <th>mean</th>\n",
              "    </tr>\n",
              "    <tr>\n",
              "      <th>locality_name</th>\n",
              "      <th></th>\n",
              "      <th></th>\n",
              "    </tr>\n",
              "  </thead>\n",
              "  <tbody>\n",
              "    <tr>\n",
              "      <th>санкт-петербург</th>\n",
              "      <td>14562</td>\n",
              "      <td>114465.648</td>\n",
              "    </tr>\n",
              "    <tr>\n",
              "      <th>пушкин</th>\n",
              "      <td>340</td>\n",
              "      <td>103068.289</td>\n",
              "    </tr>\n",
              "    <tr>\n",
              "      <th>деревня кудрово</th>\n",
              "      <td>268</td>\n",
              "      <td>92670.930</td>\n",
              "    </tr>\n",
              "    <tr>\n",
              "      <th>посёлок парголово</th>\n",
              "      <td>313</td>\n",
              "      <td>89891.094</td>\n",
              "    </tr>\n",
              "    <tr>\n",
              "      <th>посёлок мурино</th>\n",
              "      <td>491</td>\n",
              "      <td>85974.898</td>\n",
              "    </tr>\n",
              "    <tr>\n",
              "      <th>посёлок шушары</th>\n",
              "      <td>420</td>\n",
              "      <td>78620.781</td>\n",
              "    </tr>\n",
              "    <tr>\n",
              "      <th>колпино</th>\n",
              "      <td>324</td>\n",
              "      <td>75342.859</td>\n",
              "    </tr>\n",
              "    <tr>\n",
              "      <th>гатчина</th>\n",
              "      <td>283</td>\n",
              "      <td>68933.492</td>\n",
              "    </tr>\n",
              "    <tr>\n",
              "      <th>всеволожск</th>\n",
              "      <td>367</td>\n",
              "      <td>68690.938</td>\n",
              "    </tr>\n",
              "    <tr>\n",
              "      <th>выборг</th>\n",
              "      <td>222</td>\n",
              "      <td>58149.609</td>\n",
              "    </tr>\n",
              "  </tbody>\n",
              "</table>\n",
              "</div>"
            ],
            "text/plain": [
              "                   count       mean\n",
              "locality_name                      \n",
              "санкт-петербург    14562 114465.648\n",
              "пушкин               340 103068.289\n",
              "деревня кудрово      268  92670.930\n",
              "посёлок парголово    313  89891.094\n",
              "посёлок мурино       491  85974.898\n",
              "посёлок шушары       420  78620.781\n",
              "колпино              324  75342.859\n",
              "гатчина              283  68933.492\n",
              "всеволожск           367  68690.938\n",
              "выборг               222  58149.609"
            ]
          },
          "execution_count": 85,
          "metadata": {},
          "output_type": "execute_result"
        }
      ],
      "source": [
        "df.query('locality_name in @top10').groupby('locality_name')['price_per_square_meter'].agg(['count','mean']).sort_values(by=['mean'], ascending=False)"
      ]
    },
    {
      "cell_type": "markdown",
      "metadata": {
        "id": "sHUq41OXe-_e"
      },
      "source": [
        "Наиболее дорогое жилье в Питере: 114465.648438 рублей за квадратный метр, самое дешевое в выборге: 58149.609375 рублей за квадратный метр."
      ]
    },
    {
      "cell_type": "markdown",
      "metadata": {
        "id": "FznyAHJ_e-_e"
      },
      "source": [
        "### Квартиры в Санкт-Петербурге"
      ]
    },
    {
      "cell_type": "markdown",
      "metadata": {
        "id": "8T7FnfWEe-_f"
      },
      "source": [
        "Для начала посчитаем переменную 'cityCenters_nearest_km', в которой будет отражено количество километров от центра."
      ]
    },
    {
      "cell_type": "code",
      "execution_count": null,
      "metadata": {
        "id": "F6kvdxCwe-_f"
      },
      "outputs": [],
      "source": [
        "df['cityCenters_nearest_km'] = round(df['cityCenters_nearest'] / 1000)"
      ]
    },
    {
      "cell_type": "code",
      "execution_count": null,
      "metadata": {
        "id": "-YgG2CoHe-_f",
        "outputId": "5a7e4395-9ade-412d-e928-d1e6b55be301"
      },
      "outputs": [
        {
          "data": {
            "text/html": [
              "<div>\n",
              "<style scoped>\n",
              "    .dataframe tbody tr th:only-of-type {\n",
              "        vertical-align: middle;\n",
              "    }\n",
              "\n",
              "    .dataframe tbody tr th {\n",
              "        vertical-align: top;\n",
              "    }\n",
              "\n",
              "    .dataframe thead th {\n",
              "        text-align: right;\n",
              "    }\n",
              "</style>\n",
              "<table border=\"1\" class=\"dataframe\">\n",
              "  <thead>\n",
              "    <tr style=\"text-align: right;\">\n",
              "      <th></th>\n",
              "      <th>count</th>\n",
              "      <th>mean</th>\n",
              "    </tr>\n",
              "    <tr>\n",
              "      <th>cityCenters_nearest_km</th>\n",
              "      <th></th>\n",
              "      <th></th>\n",
              "    </tr>\n",
              "  </thead>\n",
              "  <tbody>\n",
              "    <tr>\n",
              "      <th>0.000</th>\n",
              "      <td>24</td>\n",
              "      <td>30638480.000</td>\n",
              "    </tr>\n",
              "    <tr>\n",
              "      <th>1.000</th>\n",
              "      <td>159</td>\n",
              "      <td>22797360.000</td>\n",
              "    </tr>\n",
              "    <tr>\n",
              "      <th>2.000</th>\n",
              "      <td>276</td>\n",
              "      <td>17916356.000</td>\n",
              "    </tr>\n",
              "    <tr>\n",
              "      <th>3.000</th>\n",
              "      <td>315</td>\n",
              "      <td>10941598.000</td>\n",
              "    </tr>\n",
              "    <tr>\n",
              "      <th>4.000</th>\n",
              "      <td>589</td>\n",
              "      <td>13260480.000</td>\n",
              "    </tr>\n",
              "    <tr>\n",
              "      <th>5.000</th>\n",
              "      <td>797</td>\n",
              "      <td>14204629.000</td>\n",
              "    </tr>\n",
              "    <tr>\n",
              "      <th>6.000</th>\n",
              "      <td>553</td>\n",
              "      <td>14964610.000</td>\n",
              "    </tr>\n",
              "    <tr>\n",
              "      <th>7.000</th>\n",
              "      <td>390</td>\n",
              "      <td>13689664.000</td>\n",
              "    </tr>\n",
              "    <tr>\n",
              "      <th>8.000</th>\n",
              "      <td>541</td>\n",
              "      <td>9960208.000</td>\n",
              "    </tr>\n",
              "    <tr>\n",
              "      <th>9.000</th>\n",
              "      <td>544</td>\n",
              "      <td>6942723.500</td>\n",
              "    </tr>\n",
              "    <tr>\n",
              "      <th>10.000</th>\n",
              "      <td>678</td>\n",
              "      <td>6392871.500</td>\n",
              "    </tr>\n",
              "    <tr>\n",
              "      <th>11.000</th>\n",
              "      <td>1089</td>\n",
              "      <td>6163297.000</td>\n",
              "    </tr>\n",
              "    <tr>\n",
              "      <th>12.000</th>\n",
              "      <td>1515</td>\n",
              "      <td>5805115.500</td>\n",
              "    </tr>\n",
              "    <tr>\n",
              "      <th>13.000</th>\n",
              "      <td>1377</td>\n",
              "      <td>6070601.000</td>\n",
              "    </tr>\n",
              "    <tr>\n",
              "      <th>14.000</th>\n",
              "      <td>1206</td>\n",
              "      <td>5614715.500</td>\n",
              "    </tr>\n",
              "    <tr>\n",
              "      <th>15.000</th>\n",
              "      <td>1493</td>\n",
              "      <td>5872408.000</td>\n",
              "    </tr>\n",
              "    <tr>\n",
              "      <th>16.000</th>\n",
              "      <td>1205</td>\n",
              "      <td>5384179.500</td>\n",
              "    </tr>\n",
              "    <tr>\n",
              "      <th>17.000</th>\n",
              "      <td>809</td>\n",
              "      <td>5256568.000</td>\n",
              "    </tr>\n",
              "    <tr>\n",
              "      <th>18.000</th>\n",
              "      <td>244</td>\n",
              "      <td>5100753.000</td>\n",
              "    </tr>\n",
              "    <tr>\n",
              "      <th>19.000</th>\n",
              "      <td>149</td>\n",
              "      <td>5003194.500</td>\n",
              "    </tr>\n",
              "    <tr>\n",
              "      <th>20.000</th>\n",
              "      <td>47</td>\n",
              "      <td>5962165.500</td>\n",
              "    </tr>\n",
              "    <tr>\n",
              "      <th>21.000</th>\n",
              "      <td>110</td>\n",
              "      <td>5464380.000</td>\n",
              "    </tr>\n",
              "    <tr>\n",
              "      <th>22.000</th>\n",
              "      <td>192</td>\n",
              "      <td>5449723.500</td>\n",
              "    </tr>\n",
              "    <tr>\n",
              "      <th>23.000</th>\n",
              "      <td>83</td>\n",
              "      <td>5001650.500</td>\n",
              "    </tr>\n",
              "    <tr>\n",
              "      <th>24.000</th>\n",
              "      <td>25</td>\n",
              "      <td>3835886.750</td>\n",
              "    </tr>\n",
              "    <tr>\n",
              "      <th>25.000</th>\n",
              "      <td>26</td>\n",
              "      <td>4052840.000</td>\n",
              "    </tr>\n",
              "    <tr>\n",
              "      <th>26.000</th>\n",
              "      <td>53</td>\n",
              "      <td>3973012.500</td>\n",
              "    </tr>\n",
              "    <tr>\n",
              "      <th>27.000</th>\n",
              "      <td>2</td>\n",
              "      <td>8300000.000</td>\n",
              "    </tr>\n",
              "    <tr>\n",
              "      <th>28.000</th>\n",
              "      <td>7</td>\n",
              "      <td>5026428.500</td>\n",
              "    </tr>\n",
              "    <tr>\n",
              "      <th>29.000</th>\n",
              "      <td>4</td>\n",
              "      <td>4087500.000</td>\n",
              "    </tr>\n",
              "  </tbody>\n",
              "</table>\n",
              "</div>"
            ],
            "text/plain": [
              "                        count         mean\n",
              "cityCenters_nearest_km                    \n",
              "0.000                      24 30638480.000\n",
              "1.000                     159 22797360.000\n",
              "2.000                     276 17916356.000\n",
              "3.000                     315 10941598.000\n",
              "4.000                     589 13260480.000\n",
              "5.000                     797 14204629.000\n",
              "6.000                     553 14964610.000\n",
              "7.000                     390 13689664.000\n",
              "8.000                     541  9960208.000\n",
              "9.000                     544  6942723.500\n",
              "10.000                    678  6392871.500\n",
              "11.000                   1089  6163297.000\n",
              "12.000                   1515  5805115.500\n",
              "13.000                   1377  6070601.000\n",
              "14.000                   1206  5614715.500\n",
              "15.000                   1493  5872408.000\n",
              "16.000                   1205  5384179.500\n",
              "17.000                    809  5256568.000\n",
              "18.000                    244  5100753.000\n",
              "19.000                    149  5003194.500\n",
              "20.000                     47  5962165.500\n",
              "21.000                    110  5464380.000\n",
              "22.000                    192  5449723.500\n",
              "23.000                     83  5001650.500\n",
              "24.000                     25  3835886.750\n",
              "25.000                     26  4052840.000\n",
              "26.000                     53  3973012.500\n",
              "27.000                      2  8300000.000\n",
              "28.000                      7  5026428.500\n",
              "29.000                      4  4087500.000"
            ]
          },
          "execution_count": 126,
          "metadata": {},
          "output_type": "execute_result"
        }
      ],
      "source": [
        "(\n",
        "    df.query('locality_name == \"санкт-петербург\"')\n",
        "      .groupby('cityCenters_nearest_km')['last_price']\n",
        "      .agg(['count','mean'])\n",
        "      .sort_values(by=['cityCenters_nearest_km'])\n",
        ")"
      ]
    },
    {
      "cell_type": "code",
      "execution_count": null,
      "metadata": {
        "scrolled": true,
        "id": "BGs1putXe-_f",
        "outputId": "777d9af6-c419-45da-bf2d-b358158cb4c7"
      },
      "outputs": [
        {
          "data": {
            "image/png": "[encoded data removed]",
            "text/plain": [
              "<Figure size 936x360 with 1 Axes>"
            ]
          },
          "metadata": {},
          "output_type": "display_data"
        }
      ],
      "source": [
        "(\n",
        "    df.query('locality_name == \"санкт-петербург\"')\n",
        "      .groupby('cityCenters_nearest_km')['last_price']\n",
        "      .agg(['count','mean'])\n",
        "      .sort_values(by=['cityCenters_nearest_km'])\n",
        "      .plot(figsize=(13, 5))\n",
        ");"
      ]
    },
    {
      "cell_type": "markdown",
      "metadata": {
        "id": "Ios4JwUse-_f"
      },
      "source": [
        "С 7 километра начинается сильное проседание по цене недвижимости. Видимо на 7 колометре проходит граница центра!"
      ]
    },
    {
      "cell_type": "markdown",
      "metadata": {
        "id": "9CTAGgTFe-_g"
      },
      "source": [
        "### Квартиры в Центре"
      ]
    },
    {
      "cell_type": "code",
      "execution_count": null,
      "metadata": {
        "id": "lKCwgCkHe-_g"
      },
      "outputs": [],
      "source": [
        "df_center = df.query('cityCenters_nearest_km <= 7')"
      ]
    },
    {
      "cell_type": "markdown",
      "metadata": {
        "id": "aHAQArCze-_g"
      },
      "source": [
        "#### Площадь"
      ]
    },
    {
      "cell_type": "code",
      "execution_count": null,
      "metadata": {
        "id": "7KJR05O7e-_g",
        "outputId": "2d17a60d-7b4c-42d3-9c80-448caa50ed14"
      },
      "outputs": [
        {
          "data": {
            "text/plain": [
              "count   3114.000\n",
              "mean      91.660\n",
              "std       58.962\n",
              "min       12.000\n",
              "25%       56.000\n",
              "50%       77.730\n",
              "75%      108.400\n",
              "max      631.200\n",
              "Name: total_area, dtype: float64"
            ]
          },
          "execution_count": 90,
          "metadata": {},
          "output_type": "execute_result"
        }
      ],
      "source": [
        "df_center['total_area'].describe()"
      ]
    },
    {
      "cell_type": "code",
      "execution_count": null,
      "metadata": {
        "id": "y-MtM-Fce-_h",
        "outputId": "4544f6a8-0a09-49b1-a0aa-01f201af8d3a"
      },
      "outputs": [
        {
          "data": {
            "image/png": "[encoded data removed]",
            "text/plain": [
              "<Figure size 936x360 with 1 Axes>"
            ]
          },
          "metadata": {},
          "output_type": "display_data"
        }
      ],
      "source": [
        "plt.figure(figsize=(13, 5))\n",
        "plt.hist(df['total_area'], bins='auto', range=(12,81))\n",
        "plt.title('Распределение площади объектов недвижимости (м**2)')\n",
        "plt.xlabel('Количество квадратных метров (м**2)')\n",
        "plt.ylabel('Количество объектов недвижимости (шт)')\n",
        "plt.grid()\n",
        "plt.show();"
      ]
    },
    {
      "cell_type": "markdown",
      "metadata": {
        "id": "U1mM49MPe-_h"
      },
      "source": [
        "Средний размер квартир в центре составляет 78 квадртаных метров, что почти на 20 метров больше, чем в целом по городу. То есть можно сделать вывод, что квартиры в центре в среднем больше. Половина всех объектов недвижимости в центре имеет площадь от 56 до 108 квадратных метров."
      ]
    },
    {
      "cell_type": "markdown",
      "metadata": {
        "id": "FY7Ny8s_e-_h"
      },
      "source": [
        "#### Цена"
      ]
    },
    {
      "cell_type": "code",
      "execution_count": null,
      "metadata": {
        "id": "c3ykWrpTe-_h",
        "outputId": "7d27a047-f920-4e8f-86cf-1ecaacff229c"
      },
      "outputs": [
        {
          "data": {
            "text/plain": [
              "count        3114.000\n",
              "mean     14646475.000\n",
              "std      24745834.000\n",
              "min       1600000.000\n",
              "25%       6550000.000\n",
              "50%       9000000.000\n",
              "75%      14200000.000\n",
              "max     763000000.000\n",
              "Name: last_price, dtype: float64"
            ]
          },
          "execution_count": 92,
          "metadata": {},
          "output_type": "execute_result"
        }
      ],
      "source": [
        "df_center['last_price'].describe()"
      ]
    },
    {
      "cell_type": "code",
      "execution_count": null,
      "metadata": {
        "id": "s_LZnsOze-_h",
        "outputId": "1c0b2a88-b56f-4480-9044-d2d90b1b983d"
      },
      "outputs": [
        {
          "data": {
            "image/png": "[encoded data removed]",
            "text/plain": [
              "<Figure size 936x360 with 1 Axes>"
            ]
          },
          "metadata": {},
          "output_type": "display_data"
        }
      ],
      "source": [
        "plt.figure(figsize=(13, 5))\n",
        "plt.hist(df_center['last_price'], bins='auto', range=(1686000.00,100150000.00))\n",
        "plt.title('Распределение цен объектов недвижимости (р)')\n",
        "plt.xlabel('Цена (р)')\n",
        "plt.ylabel('Количество объектов недвижимости (шт)')\n",
        "plt.grid()\n",
        "plt.show();"
      ]
    },
    {
      "cell_type": "markdown",
      "metadata": {
        "id": "aPNPoYz0e-_i"
      },
      "source": [
        "Средняя цена недвижимости около 9 млн., что в 2 раза выше, чем в целом по городу. Вывод: недвижимость в центре города существенно дороже. Половина всех объектов недвижимости находится в ценовом диапозоне от 6550000 до 14200000 рублей."
      ]
    },
    {
      "cell_type": "markdown",
      "metadata": {
        "id": "kWXEYzT7e-_i"
      },
      "source": [
        "#### Комнаты"
      ]
    },
    {
      "cell_type": "code",
      "execution_count": null,
      "metadata": {
        "id": "ppyc0uIhe-_i",
        "outputId": "043deebf-62e7-4c3d-d806-3fc810ee8455"
      },
      "outputs": [
        {
          "data": {
            "text/plain": [
              "count   3114.000\n",
              "mean       2.799\n",
              "std        1.423\n",
              "min        0.000\n",
              "25%        2.000\n",
              "50%        3.000\n",
              "75%        3.000\n",
              "max       19.000\n",
              "Name: rooms, dtype: float64"
            ]
          },
          "execution_count": 94,
          "metadata": {},
          "output_type": "execute_result"
        }
      ],
      "source": [
        "df_center['rooms'].describe()"
      ]
    },
    {
      "cell_type": "code",
      "execution_count": null,
      "metadata": {
        "id": "4d2uiJGWe-_i",
        "outputId": "7fa36728-5666-417b-ab19-ca1a361fe3ae"
      },
      "outputs": [
        {
          "data": {
            "image/png": "[encoded data removed]",
            "text/plain": [
              "<Figure size 936x360 with 1 Axes>"
            ]
          },
          "metadata": {},
          "output_type": "display_data"
        }
      ],
      "source": [
        "plt.figure(figsize=(13, 5))\n",
        "plt.hist(df_center['rooms'], bins=19, range=(0,19), histtype='bar')\n",
        "plt.title('Распределение количества комнат объектов недвижимости (шт)')\n",
        "plt.xlabel('Количество комнат (шт)')\n",
        "plt.ylabel('Количество объектов недвижимости (шт)')\n",
        "plt.grid()\n",
        "plt.show();"
      ]
    },
    {
      "cell_type": "markdown",
      "metadata": {
        "id": "tD_M0DTke-_i"
      },
      "source": [
        "Большинство комнат двухкомнатные и трехкомнатные."
      ]
    },
    {
      "cell_type": "markdown",
      "metadata": {
        "id": "jmTexMcPe-_j"
      },
      "source": [
        "#### Высота потолков"
      ]
    },
    {
      "cell_type": "code",
      "execution_count": null,
      "metadata": {
        "id": "qEcOLCP7e-_j",
        "outputId": "b2f73ccc-19b1-438e-e919-f4d3372d64e6"
      },
      "outputs": [
        {
          "data": {
            "text/plain": [
              "count   3114.000\n",
              "mean       2.949\n",
              "std        0.770\n",
              "min        2.400\n",
              "25%        2.650\n",
              "50%        2.801\n",
              "75%        3.119\n",
              "max       32.000\n",
              "Name: ceiling_height, dtype: float64"
            ]
          },
          "execution_count": 96,
          "metadata": {},
          "output_type": "execute_result"
        }
      ],
      "source": [
        "df_center['ceiling_height'].describe()"
      ]
    },
    {
      "cell_type": "code",
      "execution_count": null,
      "metadata": {
        "id": "m_6vJsoPe-_j",
        "outputId": "d794e4b2-f91e-4483-b316-19dde0952e3f"
      },
      "outputs": [
        {
          "data": {
            "image/png": "[encoded data removed]",
            "text/plain": [
              "<Figure size 936x360 with 1 Axes>"
            ]
          },
          "metadata": {},
          "output_type": "display_data"
        }
      ],
      "source": [
        "plt.figure(figsize=(13, 5))\n",
        "plt.hist(df_center['ceiling_height'], bins=32, range=(2,5))\n",
        "plt.title('Распределение высоты потоклов объектов недвижимости (м**2)')\n",
        "plt.xlabel('Восота потолков (м)')\n",
        "plt.ylabel('Количество объектов недвижимости (шт)')\n",
        "plt.grid()\n",
        "plt.show();"
      ]
    },
    {
      "cell_type": "markdown",
      "metadata": {
        "id": "B0wfPpk0e-_j"
      },
      "source": [
        "Средняя высота потолка около 3 метров, что на 0.5 метра больше, чем в целом по городу. Это в частности может объясняться тем, что в центре обычно отличающаяся архитектура. Например, Питер с его доходными домами, где потолки обычно выше, чем в советских постройках."
      ]
    },
    {
      "cell_type": "markdown",
      "metadata": {
        "id": "0N0cEyp3e-_j"
      },
      "source": [
        "### Факторы, влияющие на стоимость квартиры"
      ]
    },
    {
      "cell_type": "markdown",
      "metadata": {
        "id": "cmM05ZmYe-_k"
      },
      "source": [
        "#### Площадь"
      ]
    },
    {
      "cell_type": "code",
      "execution_count": null,
      "metadata": {
        "id": "iBpDqZ3ze-_k",
        "outputId": "f6044e38-ec8c-4562-f0f8-06587a5bf1d1"
      },
      "outputs": [
        {
          "data": {
            "image/png": "[encoded data removed]",
            "text/plain": [
              "<Figure size 936x360 with 1 Axes>"
            ]
          },
          "metadata": {},
          "output_type": "display_data"
        }
      ],
      "source": [
        "df_center.plot(x='total_area', y='last_price', kind='scatter', alpha=0.3,figsize=(13, 5));"
      ]
    },
    {
      "cell_type": "code",
      "execution_count": null,
      "metadata": {
        "id": "Ga4oXZUUe-_k",
        "outputId": "2bc93e59-1a38-412f-9ba4-ef2dabdb26b4"
      },
      "outputs": [
        {
          "data": {
            "text/plain": [
              "0.6030816912597843"
            ]
          },
          "execution_count": 99,
          "metadata": {},
          "output_type": "execute_result"
        }
      ],
      "source": [
        "df_center['last_price'].corr(df_center['total_area'])"
      ]
    },
    {
      "cell_type": "markdown",
      "metadata": {
        "id": "RuMBHHjze-_k"
      },
      "source": [
        "Связь между площадью и стоимостью квартир в центре симметрична ситуации по городу в целом: с увеличением жилплощади увеличивается цена."
      ]
    },
    {
      "cell_type": "markdown",
      "metadata": {
        "id": "UAyX5tQ5e-_k"
      },
      "source": [
        "#### Количество комнат"
      ]
    },
    {
      "cell_type": "code",
      "execution_count": null,
      "metadata": {
        "id": "FuK1rMcde-_k",
        "outputId": "35235403-f09d-48ba-e241-f4cd5e6b9e94"
      },
      "outputs": [
        {
          "data": {
            "text/html": [
              "<div>\n",
              "<style scoped>\n",
              "    .dataframe tbody tr th:only-of-type {\n",
              "        vertical-align: middle;\n",
              "    }\n",
              "\n",
              "    .dataframe tbody tr th {\n",
              "        vertical-align: top;\n",
              "    }\n",
              "\n",
              "    .dataframe thead th {\n",
              "        text-align: right;\n",
              "    }\n",
              "</style>\n",
              "<table border=\"1\" class=\"dataframe\">\n",
              "  <thead>\n",
              "    <tr style=\"text-align: right;\">\n",
              "      <th></th>\n",
              "      <th>count</th>\n",
              "      <th>mean</th>\n",
              "    </tr>\n",
              "    <tr>\n",
              "      <th>rooms</th>\n",
              "      <th></th>\n",
              "      <th></th>\n",
              "    </tr>\n",
              "  </thead>\n",
              "  <tbody>\n",
              "    <tr>\n",
              "      <th>0</th>\n",
              "      <td>16</td>\n",
              "      <td>8569062.000</td>\n",
              "    </tr>\n",
              "    <tr>\n",
              "      <th>1</th>\n",
              "      <td>466</td>\n",
              "      <td>6835468.000</td>\n",
              "    </tr>\n",
              "    <tr>\n",
              "      <th>2</th>\n",
              "      <td>935</td>\n",
              "      <td>9769291.000</td>\n",
              "    </tr>\n",
              "    <tr>\n",
              "      <th>3</th>\n",
              "      <td>969</td>\n",
              "      <td>14623777.000</td>\n",
              "    </tr>\n",
              "    <tr>\n",
              "      <th>4</th>\n",
              "      <td>417</td>\n",
              "      <td>19513488.000</td>\n",
              "    </tr>\n",
              "    <tr>\n",
              "      <th>5</th>\n",
              "      <td>173</td>\n",
              "      <td>28277354.000</td>\n",
              "    </tr>\n",
              "    <tr>\n",
              "      <th>6</th>\n",
              "      <td>73</td>\n",
              "      <td>36278988.000</td>\n",
              "    </tr>\n",
              "    <tr>\n",
              "      <th>7</th>\n",
              "      <td>51</td>\n",
              "      <td>53707648.000</td>\n",
              "    </tr>\n",
              "    <tr>\n",
              "      <th>8</th>\n",
              "      <td>6</td>\n",
              "      <td>43581668.000</td>\n",
              "    </tr>\n",
              "    <tr>\n",
              "      <th>9</th>\n",
              "      <td>2</td>\n",
              "      <td>52500000.000</td>\n",
              "    </tr>\n",
              "    <tr>\n",
              "      <th>10</th>\n",
              "      <td>2</td>\n",
              "      <td>27750000.000</td>\n",
              "    </tr>\n",
              "    <tr>\n",
              "      <th>11</th>\n",
              "      <td>1</td>\n",
              "      <td>17500000.000</td>\n",
              "    </tr>\n",
              "    <tr>\n",
              "      <th>14</th>\n",
              "      <td>1</td>\n",
              "      <td>28659000.000</td>\n",
              "    </tr>\n",
              "    <tr>\n",
              "      <th>15</th>\n",
              "      <td>1</td>\n",
              "      <td>65000000.000</td>\n",
              "    </tr>\n",
              "    <tr>\n",
              "      <th>19</th>\n",
              "      <td>1</td>\n",
              "      <td>32250000.000</td>\n",
              "    </tr>\n",
              "  </tbody>\n",
              "</table>\n",
              "</div>"
            ],
            "text/plain": [
              "       count         mean\n",
              "rooms                    \n",
              "0         16  8569062.000\n",
              "1        466  6835468.000\n",
              "2        935  9769291.000\n",
              "3        969 14623777.000\n",
              "4        417 19513488.000\n",
              "5        173 28277354.000\n",
              "6         73 36278988.000\n",
              "7         51 53707648.000\n",
              "8          6 43581668.000\n",
              "9          2 52500000.000\n",
              "10         2 27750000.000\n",
              "11         1 17500000.000\n",
              "14         1 28659000.000\n",
              "15         1 65000000.000\n",
              "19         1 32250000.000"
            ]
          },
          "execution_count": 137,
          "metadata": {},
          "output_type": "execute_result"
        }
      ],
      "source": [
        "(\n",
        "    df_center.groupby('rooms')['last_price']\n",
        "             .agg(['count','mean'])\n",
        ")"
      ]
    },
    {
      "cell_type": "code",
      "execution_count": null,
      "metadata": {
        "id": "zM5GdIaEe-_l",
        "outputId": "40ed2ae1-cc40-46f3-84fa-d77176d08c14"
      },
      "outputs": [
        {
          "data": {
            "text/plain": [
              "0.31153963685193387"
            ]
          },
          "execution_count": 101,
          "metadata": {},
          "output_type": "execute_result"
        }
      ],
      "source": [
        "df_center['last_price'].corr(df_center['rooms'])"
      ]
    },
    {
      "cell_type": "markdown",
      "metadata": {
        "id": "ghdy6v4Ae-_l"
      },
      "source": [
        "Также не наблюдается существенных отличий по ситуации в центре от ситуации в целом."
      ]
    },
    {
      "cell_type": "markdown",
      "metadata": {
        "id": "lt3VlicSe-_l"
      },
      "source": [
        "#### Близость к центру"
      ]
    },
    {
      "cell_type": "code",
      "execution_count": null,
      "metadata": {
        "id": "e7EE8bVne-_l",
        "outputId": "f501c9a4-65d9-45b3-9d9c-c55cb05c3da8"
      },
      "outputs": [
        {
          "data": {
            "image/png": "[encoded data removed]",
            "text/plain": [
              "<Figure size 936x360 with 1 Axes>"
            ]
          },
          "metadata": {},
          "output_type": "display_data"
        }
      ],
      "source": [
        "df_center.plot(x='cityCenters_nearest', y='last_price', kind='scatter', alpha=0.3,figsize=(13, 5));"
      ]
    },
    {
      "cell_type": "code",
      "execution_count": null,
      "metadata": {
        "id": "b-e9cbZLe-_l",
        "outputId": "a69f6a21-6e6b-43f5-c442-4a15fc922716"
      },
      "outputs": [
        {
          "data": {
            "text/plain": [
              "-0.05500762501873638"
            ]
          },
          "execution_count": 103,
          "metadata": {},
          "output_type": "execute_result"
        }
      ],
      "source": [
        "df_center['last_price'].corr(df_center['cityCenters_nearest'])"
      ]
    },
    {
      "cell_type": "markdown",
      "metadata": {
        "id": "ilJ1_nOMe-_m"
      },
      "source": [
        "Также как и для общей ситуации небольшая отрицательная связь: чем дальше от центра, тем меньше стоимость."
      ]
    },
    {
      "cell_type": "markdown",
      "metadata": {
        "id": "tZr5dLvze-_m"
      },
      "source": [
        "#### Первый/последний этаж"
      ]
    },
    {
      "cell_type": "code",
      "execution_count": null,
      "metadata": {
        "id": "JN9L2Zqme-_m",
        "outputId": "b773344b-09c9-4451-efe8-521b50d58cdb"
      },
      "outputs": [
        {
          "data": {
            "text/html": [
              "<div>\n",
              "<style scoped>\n",
              "    .dataframe tbody tr th:only-of-type {\n",
              "        vertical-align: middle;\n",
              "    }\n",
              "\n",
              "    .dataframe tbody tr th {\n",
              "        vertical-align: top;\n",
              "    }\n",
              "\n",
              "    .dataframe thead th {\n",
              "        text-align: right;\n",
              "    }\n",
              "</style>\n",
              "<table border=\"1\" class=\"dataframe\">\n",
              "  <thead>\n",
              "    <tr style=\"text-align: right;\">\n",
              "      <th></th>\n",
              "      <th>count</th>\n",
              "      <th>mean</th>\n",
              "    </tr>\n",
              "    <tr>\n",
              "      <th>floor_flat_numeric</th>\n",
              "      <th></th>\n",
              "      <th></th>\n",
              "    </tr>\n",
              "  </thead>\n",
              "  <tbody>\n",
              "    <tr>\n",
              "      <th>1</th>\n",
              "      <td>356</td>\n",
              "      <td>9337066.000</td>\n",
              "    </tr>\n",
              "    <tr>\n",
              "      <th>2</th>\n",
              "      <td>2200</td>\n",
              "      <td>14499510.000</td>\n",
              "    </tr>\n",
              "    <tr>\n",
              "      <th>3</th>\n",
              "      <td>558</td>\n",
              "      <td>18613268.000</td>\n",
              "    </tr>\n",
              "  </tbody>\n",
              "</table>\n",
              "</div>"
            ],
            "text/plain": [
              "                    count         mean\n",
              "floor_flat_numeric                    \n",
              "1                     356  9337066.000\n",
              "2                    2200 14499510.000\n",
              "3                     558 18613268.000"
            ]
          },
          "execution_count": 138,
          "metadata": {},
          "output_type": "execute_result"
        }
      ],
      "source": [
        "(\n",
        "    df_center.groupby('floor_flat_numeric')['last_price']\n",
        "             .agg(['count','mean'])\n",
        ")"
      ]
    },
    {
      "cell_type": "code",
      "execution_count": null,
      "metadata": {
        "id": "SvXiW4iye-_m",
        "outputId": "236bc6d8-30fa-41fb-c6bf-d6a66a74c946"
      },
      "outputs": [
        {
          "data": {
            "text/plain": [
              "0.09902345934714844"
            ]
          },
          "execution_count": 105,
          "metadata": {},
          "output_type": "execute_result"
        }
      ],
      "source": [
        "df_center['last_price'].corr(df_center['floor_flat_numeric'])"
      ]
    },
    {
      "cell_type": "markdown",
      "metadata": {
        "id": "Xs6MQY3ce-_m"
      },
      "source": [
        "Также аналогичная картина."
      ]
    },
    {
      "cell_type": "markdown",
      "metadata": {
        "id": "FHCeUsp2e-_m"
      },
      "source": [
        "#### День недели"
      ]
    },
    {
      "cell_type": "code",
      "execution_count": null,
      "metadata": {
        "id": "aGrDQL-He-_n",
        "outputId": "5ece0023-7ba0-4453-ef76-f61d0e6e0332"
      },
      "outputs": [
        {
          "data": {
            "text/html": [
              "<div>\n",
              "<style scoped>\n",
              "    .dataframe tbody tr th:only-of-type {\n",
              "        vertical-align: middle;\n",
              "    }\n",
              "\n",
              "    .dataframe tbody tr th {\n",
              "        vertical-align: top;\n",
              "    }\n",
              "\n",
              "    .dataframe thead th {\n",
              "        text-align: right;\n",
              "    }\n",
              "</style>\n",
              "<table border=\"1\" class=\"dataframe\">\n",
              "  <thead>\n",
              "    <tr style=\"text-align: right;\">\n",
              "      <th></th>\n",
              "      <th>count</th>\n",
              "      <th>mean</th>\n",
              "    </tr>\n",
              "    <tr>\n",
              "      <th>day_of_the_week_exposition</th>\n",
              "      <th></th>\n",
              "      <th></th>\n",
              "    </tr>\n",
              "  </thead>\n",
              "  <tbody>\n",
              "    <tr>\n",
              "      <th>0</th>\n",
              "      <td>481</td>\n",
              "      <td>14835638.000</td>\n",
              "    </tr>\n",
              "    <tr>\n",
              "      <th>1</th>\n",
              "      <td>531</td>\n",
              "      <td>13955444.000</td>\n",
              "    </tr>\n",
              "    <tr>\n",
              "      <th>2</th>\n",
              "      <td>525</td>\n",
              "      <td>13986469.000</td>\n",
              "    </tr>\n",
              "    <tr>\n",
              "      <th>3</th>\n",
              "      <td>612</td>\n",
              "      <td>14256488.000</td>\n",
              "    </tr>\n",
              "    <tr>\n",
              "      <th>4</th>\n",
              "      <td>537</td>\n",
              "      <td>13926544.000</td>\n",
              "    </tr>\n",
              "    <tr>\n",
              "      <th>5</th>\n",
              "      <td>254</td>\n",
              "      <td>19063148.000</td>\n",
              "    </tr>\n",
              "    <tr>\n",
              "      <th>6</th>\n",
              "      <td>174</td>\n",
              "      <td>15369988.000</td>\n",
              "    </tr>\n",
              "  </tbody>\n",
              "</table>\n",
              "</div>"
            ],
            "text/plain": [
              "                            count         mean\n",
              "day_of_the_week_exposition                    \n",
              "0                             481 14835638.000\n",
              "1                             531 13955444.000\n",
              "2                             525 13986469.000\n",
              "3                             612 14256488.000\n",
              "4                             537 13926544.000\n",
              "5                             254 19063148.000\n",
              "6                             174 15369988.000"
            ]
          },
          "execution_count": 139,
          "metadata": {},
          "output_type": "execute_result"
        }
      ],
      "source": [
        "(\n",
        "    df_center.groupby('day_of_the_week_exposition')['last_price']\n",
        "             .agg(['count','mean'])\n",
        ")"
      ]
    },
    {
      "cell_type": "code",
      "execution_count": null,
      "metadata": {
        "id": "TQyQ5uqbe-_n",
        "outputId": "d666766f-0c93-44de-99b0-0ac8cb914aa8"
      },
      "outputs": [
        {
          "data": {
            "text/plain": [
              "0.02271448328982665"
            ]
          },
          "execution_count": 107,
          "metadata": {},
          "output_type": "execute_result"
        }
      ],
      "source": [
        "df_center['last_price'].corr(df['day_of_the_week_exposition'])"
      ]
    },
    {
      "cell_type": "markdown",
      "metadata": {
        "id": "Zf3XFqSse-_n"
      },
      "source": [
        "Также никакой связи!"
      ]
    },
    {
      "cell_type": "markdown",
      "metadata": {
        "id": "y6g1zBUZe-_n"
      },
      "source": [
        "#### Месяц"
      ]
    },
    {
      "cell_type": "code",
      "execution_count": null,
      "metadata": {
        "id": "3U2VZto3e-_o",
        "outputId": "c965c703-6cd3-484a-df01-d338a98290a4"
      },
      "outputs": [
        {
          "data": {
            "text/html": [
              "<div>\n",
              "<style scoped>\n",
              "    .dataframe tbody tr th:only-of-type {\n",
              "        vertical-align: middle;\n",
              "    }\n",
              "\n",
              "    .dataframe tbody tr th {\n",
              "        vertical-align: top;\n",
              "    }\n",
              "\n",
              "    .dataframe thead th {\n",
              "        text-align: right;\n",
              "    }\n",
              "</style>\n",
              "<table border=\"1\" class=\"dataframe\">\n",
              "  <thead>\n",
              "    <tr style=\"text-align: right;\">\n",
              "      <th></th>\n",
              "      <th>count</th>\n",
              "      <th>mean</th>\n",
              "    </tr>\n",
              "    <tr>\n",
              "      <th>month_exposition</th>\n",
              "      <th></th>\n",
              "      <th></th>\n",
              "    </tr>\n",
              "  </thead>\n",
              "  <tbody>\n",
              "    <tr>\n",
              "      <th>1</th>\n",
              "      <td>171</td>\n",
              "      <td>15024961.000</td>\n",
              "    </tr>\n",
              "    <tr>\n",
              "      <th>2</th>\n",
              "      <td>344</td>\n",
              "      <td>15055666.000</td>\n",
              "    </tr>\n",
              "    <tr>\n",
              "      <th>3</th>\n",
              "      <td>338</td>\n",
              "      <td>14478197.000</td>\n",
              "    </tr>\n",
              "    <tr>\n",
              "      <th>4</th>\n",
              "      <td>304</td>\n",
              "      <td>16397824.000</td>\n",
              "    </tr>\n",
              "    <tr>\n",
              "      <th>5</th>\n",
              "      <td>172</td>\n",
              "      <td>14230110.000</td>\n",
              "    </tr>\n",
              "    <tr>\n",
              "      <th>6</th>\n",
              "      <td>251</td>\n",
              "      <td>14101954.000</td>\n",
              "    </tr>\n",
              "    <tr>\n",
              "      <th>7</th>\n",
              "      <td>247</td>\n",
              "      <td>14870656.000</td>\n",
              "    </tr>\n",
              "    <tr>\n",
              "      <th>8</th>\n",
              "      <td>244</td>\n",
              "      <td>13904072.000</td>\n",
              "    </tr>\n",
              "    <tr>\n",
              "      <th>9</th>\n",
              "      <td>267</td>\n",
              "      <td>15918953.000</td>\n",
              "    </tr>\n",
              "    <tr>\n",
              "      <th>10</th>\n",
              "      <td>250</td>\n",
              "      <td>13248190.000</td>\n",
              "    </tr>\n",
              "    <tr>\n",
              "      <th>11</th>\n",
              "      <td>326</td>\n",
              "      <td>14159666.000</td>\n",
              "    </tr>\n",
              "    <tr>\n",
              "      <th>12</th>\n",
              "      <td>200</td>\n",
              "      <td>13754302.000</td>\n",
              "    </tr>\n",
              "  </tbody>\n",
              "</table>\n",
              "</div>"
            ],
            "text/plain": [
              "                  count         mean\n",
              "month_exposition                    \n",
              "1                   171 15024961.000\n",
              "2                   344 15055666.000\n",
              "3                   338 14478197.000\n",
              "4                   304 16397824.000\n",
              "5                   172 14230110.000\n",
              "6                   251 14101954.000\n",
              "7                   247 14870656.000\n",
              "8                   244 13904072.000\n",
              "9                   267 15918953.000\n",
              "10                  250 13248190.000\n",
              "11                  326 14159666.000\n",
              "12                  200 13754302.000"
            ]
          },
          "execution_count": 140,
          "metadata": {},
          "output_type": "execute_result"
        }
      ],
      "source": [
        "(\n",
        "    df_center.groupby('month_exposition')['last_price']\n",
        "             .agg(['count','mean'])\n",
        ")"
      ]
    },
    {
      "cell_type": "code",
      "execution_count": null,
      "metadata": {
        "id": "P0BviZsie-_o",
        "outputId": "b62a1f03-589f-43a2-f507-4a09db0c2ff7"
      },
      "outputs": [
        {
          "data": {
            "text/plain": [
              "-0.016123496407954036"
            ]
          },
          "execution_count": 109,
          "metadata": {},
          "output_type": "execute_result"
        }
      ],
      "source": [
        "df_center['last_price'].corr(df_center['month_exposition'])"
      ]
    },
    {
      "cell_type": "markdown",
      "metadata": {
        "id": "vI4w2QzMe-_o"
      },
      "source": [
        "Тоже особо никакой разницы."
      ]
    },
    {
      "cell_type": "markdown",
      "metadata": {
        "id": "tOlRcR2Me-_o"
      },
      "source": [
        "#### Год"
      ]
    },
    {
      "cell_type": "code",
      "execution_count": null,
      "metadata": {
        "id": "7BxXCbFme-_o",
        "outputId": "9245ea6c-6a41-446e-e56b-100405651089"
      },
      "outputs": [
        {
          "data": {
            "text/html": [
              "<div>\n",
              "<style scoped>\n",
              "    .dataframe tbody tr th:only-of-type {\n",
              "        vertical-align: middle;\n",
              "    }\n",
              "\n",
              "    .dataframe tbody tr th {\n",
              "        vertical-align: top;\n",
              "    }\n",
              "\n",
              "    .dataframe thead th {\n",
              "        text-align: right;\n",
              "    }\n",
              "</style>\n",
              "<table border=\"1\" class=\"dataframe\">\n",
              "  <thead>\n",
              "    <tr style=\"text-align: right;\">\n",
              "      <th></th>\n",
              "      <th>count</th>\n",
              "      <th>mean</th>\n",
              "    </tr>\n",
              "    <tr>\n",
              "      <th>year_exposition</th>\n",
              "      <th></th>\n",
              "      <th></th>\n",
              "    </tr>\n",
              "  </thead>\n",
              "  <tbody>\n",
              "    <tr>\n",
              "      <th>2014</th>\n",
              "      <td>1</td>\n",
              "      <td>45900000.000</td>\n",
              "    </tr>\n",
              "    <tr>\n",
              "      <th>2015</th>\n",
              "      <td>125</td>\n",
              "      <td>19378946.000</td>\n",
              "    </tr>\n",
              "    <tr>\n",
              "      <th>2016</th>\n",
              "      <td>376</td>\n",
              "      <td>15193431.000</td>\n",
              "    </tr>\n",
              "    <tr>\n",
              "      <th>2017</th>\n",
              "      <td>1186</td>\n",
              "      <td>15278491.000</td>\n",
              "    </tr>\n",
              "    <tr>\n",
              "      <th>2018</th>\n",
              "      <td>1044</td>\n",
              "      <td>12872474.000</td>\n",
              "    </tr>\n",
              "    <tr>\n",
              "      <th>2019</th>\n",
              "      <td>382</td>\n",
              "      <td>15363795.000</td>\n",
              "    </tr>\n",
              "  </tbody>\n",
              "</table>\n",
              "</div>"
            ],
            "text/plain": [
              "                 count         mean\n",
              "year_exposition                    \n",
              "2014                 1 45900000.000\n",
              "2015               125 19378946.000\n",
              "2016               376 15193431.000\n",
              "2017              1186 15278491.000\n",
              "2018              1044 12872474.000\n",
              "2019               382 15363795.000"
            ]
          },
          "execution_count": 141,
          "metadata": {},
          "output_type": "execute_result"
        }
      ],
      "source": [
        "(\n",
        "    df_center.groupby('year_exposition')['last_price']\n",
        "             .agg(['count','mean'])\n",
        ")"
      ]
    },
    {
      "cell_type": "code",
      "execution_count": null,
      "metadata": {
        "id": "Lwe_eMxJe-_p",
        "outputId": "8ea0c927-cadb-487a-daee-1d532dab25ad"
      },
      "outputs": [
        {
          "data": {
            "text/plain": [
              "-0.03678313071137225"
            ]
          },
          "execution_count": 111,
          "metadata": {},
          "output_type": "execute_result"
        }
      ],
      "source": [
        "df_center['last_price'].corr(df['year_exposition'])"
      ]
    },
    {
      "cell_type": "markdown",
      "metadata": {
        "id": "TzY5JLlXe-_p"
      },
      "source": [
        "И тут особой разницы нет."
      ]
    },
    {
      "cell_type": "markdown",
      "metadata": {
        "id": "m2_r2RQLe-_p"
      },
      "source": [
        "## Общий вывод"
      ]
    },
    {
      "cell_type": "markdown",
      "metadata": {
        "id": "kJODOEDhe-_p"
      },
      "source": [
        "**Недвижимость в СПб и ЛО отличается следующими особенностями:**\n",
        "1. Средний размер квартир составляет 52 квадртаных метров. Половина всех объектов недвижимости имеет площадь от 40 до 70 квадратных метров.\n",
        "2. Средняя цена недвижимости около 4.5 млн. Половина всех объектов недвижимости находится в ценовом диапозоне от 3400000 до 6800000 рублей.\n",
        "3. Большинство комнат однокомнатные и двухкомнатные. Также распространены квартиры с 3 комнатами. Остальное встречается реже.\n",
        "4. Средняя высота потолка около 2.5 метров. Половина всех потолков находится на высоте от 2.599609 до 2.650391 метров.\n",
        "5. Средний срок продажи квартиры составляет 95 дней (медиана). Большинство квартир продают от 45 до 232 дней.\n",
        "\n",
        "\n",
        "**На цену недвижимости влияет множество показателей:**\n",
        "1. Общая площадь: с увеличением жилплощади увеличивается цена (коэффициент корреляции: 0.6437287182441207);\n",
        "2. Количество комнат: чем больше комнат, тем больше цена (коэффициент корреляции: 0.35501209235917613);\n",
        "3. Близость к центру: чем дальше от центра, тем меньше стоимость (коэффициент корреляции: -0.20019686005629653);\n",
        "4. Этаж: квартиры на первом этаже самые дешевые. Чуть дороже квартиры на последнем этаже. Варианты посередине - дороже крайностей.\n",
        "\n",
        "**Отличительные черты недвижимости в центре города:**\n",
        "1. Средний размер квартир в центре составляет 78 квадртаных метров, что почти на 30 метров больше, чем в целом по городу. То есть можно сделать вывод, что квартиры в центре в среднем больше;\n",
        "2. Средняя цена недвижимости около 9 млн., что в 2 раза выше, чем в целом по городу. Вывод: недвижимость в центре города существенно дороже;\n",
        "3. Большинство комнат двухкомнатные и трехкомнатные - в центре меньшая доля однушек;\n",
        "4. редняя высота потолка около 3 метров, что на 0.5 метра больше, чем в целом по городу.\n",
        "\n",
        "***На стоимость недвижимости в центре города оказывают влияние те же факторы, что и на недвижимость СПб и ЛО в целом: общая площадь, количество комнат, близость к центру, этаж***\n",
        "\n",
        "***Наиболее дорогое жилье в Питере: 114465.648438 рублей за квадратный метр, самое дешевое в выборге: 58149.609375 рублей за квадратный метр***"
      ]
    }
  ],
  "metadata": {
    "ExecuteTimeLog": [
      {
        "duration": 67,
        "start_time": "2022-06-06T14:30:25.472Z"
      },
      {
        "duration": 742,
        "start_time": "2022-06-06T14:30:29.509Z"
      },
      {
        "duration": 52,
        "start_time": "2022-06-06T14:30:30.253Z"
      },
      {
        "duration": 13,
        "start_time": "2022-06-06T14:30:40.722Z"
      },
      {
        "duration": 3,
        "start_time": "2022-06-06T14:30:56.785Z"
      },
      {
        "duration": 5,
        "start_time": "2022-06-06T14:30:57.766Z"
      },
      {
        "duration": 160,
        "start_time": "2022-06-06T14:30:59.242Z"
      },
      {
        "duration": 28,
        "start_time": "2022-06-06T14:30:59.698Z"
      },
      {
        "duration": 83,
        "start_time": "2022-06-06T14:31:00.965Z"
      },
      {
        "duration": 17,
        "start_time": "2022-06-06T14:31:01.172Z"
      },
      {
        "duration": 64,
        "start_time": "2022-06-06T14:31:01.365Z"
      },
      {
        "duration": 9,
        "start_time": "2022-06-06T14:31:02.106Z"
      },
      {
        "duration": 3,
        "start_time": "2022-06-06T14:31:02.458Z"
      },
      {
        "duration": 4,
        "start_time": "2022-06-06T14:31:02.648Z"
      },
      {
        "duration": 3,
        "start_time": "2022-06-06T14:31:02.968Z"
      },
      {
        "duration": 4,
        "start_time": "2022-06-06T14:31:03.331Z"
      },
      {
        "duration": 5,
        "start_time": "2022-06-06T14:31:03.494Z"
      },
      {
        "duration": 14,
        "start_time": "2022-06-06T14:31:04.029Z"
      },
      {
        "duration": 4,
        "start_time": "2022-06-06T14:31:04.557Z"
      },
      {
        "duration": 10,
        "start_time": "2022-06-06T14:31:04.731Z"
      },
      {
        "duration": 10,
        "start_time": "2022-06-06T14:31:04.917Z"
      },
      {
        "duration": 24,
        "start_time": "2022-06-06T14:31:05.097Z"
      },
      {
        "duration": 12,
        "start_time": "2022-06-06T14:31:05.653Z"
      },
      {
        "duration": 3,
        "start_time": "2022-06-06T14:31:05.916Z"
      },
      {
        "duration": 179,
        "start_time": "2022-06-06T14:31:06.115Z"
      },
      {
        "duration": 10,
        "start_time": "2022-06-06T14:31:06.330Z"
      },
      {
        "duration": 21,
        "start_time": "2022-06-06T14:31:06.739Z"
      },
      {
        "duration": 10,
        "start_time": "2022-06-06T14:31:06.948Z"
      },
      {
        "duration": 5,
        "start_time": "2022-06-06T14:31:07.162Z"
      },
      {
        "duration": 211,
        "start_time": "2022-06-06T14:31:07.348Z"
      },
      {
        "duration": 9,
        "start_time": "2022-06-06T14:31:07.561Z"
      },
      {
        "duration": 7,
        "start_time": "2022-06-06T14:31:07.955Z"
      },
      {
        "duration": 13,
        "start_time": "2022-06-06T14:31:08.146Z"
      },
      {
        "duration": 4,
        "start_time": "2022-06-06T14:31:08.519Z"
      },
      {
        "duration": 3,
        "start_time": "2022-06-06T14:31:08.928Z"
      },
      {
        "duration": 17,
        "start_time": "2022-06-06T14:31:09.311Z"
      },
      {
        "duration": 20,
        "start_time": "2022-06-06T14:31:09.719Z"
      },
      {
        "duration": 19,
        "start_time": "2022-06-06T14:31:09.956Z"
      },
      {
        "duration": 4,
        "start_time": "2022-06-06T14:31:10.166Z"
      },
      {
        "duration": 7,
        "start_time": "2022-06-06T14:31:10.376Z"
      },
      {
        "duration": 14,
        "start_time": "2022-06-06T14:31:10.605Z"
      },
      {
        "duration": 14,
        "start_time": "2022-06-06T14:31:10.821Z"
      },
      {
        "duration": 5,
        "start_time": "2022-06-06T14:31:12.066Z"
      },
      {
        "duration": 7,
        "start_time": "2022-06-06T14:31:12.459Z"
      },
      {
        "duration": 6,
        "start_time": "2022-06-06T14:31:12.683Z"
      },
      {
        "duration": 6,
        "start_time": "2022-06-06T14:31:12.857Z"
      },
      {
        "duration": 3,
        "start_time": "2022-06-06T14:31:13.267Z"
      },
      {
        "duration": 303,
        "start_time": "2022-06-06T14:31:13.476Z"
      },
      {
        "duration": 11,
        "start_time": "2022-06-06T14:31:13.781Z"
      },
      {
        "duration": 12,
        "start_time": "2022-06-06T14:31:13.898Z"
      },
      {
        "duration": 4,
        "start_time": "2022-06-06T14:31:14.477Z"
      },
      {
        "duration": 9,
        "start_time": "2022-06-06T14:31:14.698Z"
      },
      {
        "duration": 13,
        "start_time": "2022-06-06T14:31:15.496Z"
      },
      {
        "duration": 425,
        "start_time": "2022-06-06T14:31:15.712Z"
      },
      {
        "duration": 844,
        "start_time": "2022-06-06T14:31:37.335Z"
      },
      {
        "duration": 5,
        "start_time": "2022-06-06T14:31:38.181Z"
      },
      {
        "duration": 110,
        "start_time": "2022-06-06T14:31:38.188Z"
      },
      {
        "duration": 30,
        "start_time": "2022-06-06T14:31:38.300Z"
      },
      {
        "duration": 92,
        "start_time": "2022-06-06T14:31:38.332Z"
      },
      {
        "duration": 17,
        "start_time": "2022-06-06T14:31:38.426Z"
      },
      {
        "duration": 83,
        "start_time": "2022-06-06T14:31:38.444Z"
      },
      {
        "duration": 6,
        "start_time": "2022-06-06T14:31:38.528Z"
      },
      {
        "duration": 8,
        "start_time": "2022-06-06T14:31:38.536Z"
      },
      {
        "duration": 8,
        "start_time": "2022-06-06T14:31:38.547Z"
      },
      {
        "duration": 5,
        "start_time": "2022-06-06T14:31:38.557Z"
      },
      {
        "duration": 11,
        "start_time": "2022-06-06T14:31:38.564Z"
      },
      {
        "duration": 7,
        "start_time": "2022-06-06T14:31:38.576Z"
      },
      {
        "duration": 32,
        "start_time": "2022-06-06T14:31:38.584Z"
      },
      {
        "duration": 3,
        "start_time": "2022-06-06T14:31:38.618Z"
      },
      {
        "duration": 13,
        "start_time": "2022-06-06T14:31:38.623Z"
      },
      {
        "duration": 8,
        "start_time": "2022-06-06T14:31:38.638Z"
      },
      {
        "duration": 24,
        "start_time": "2022-06-06T14:31:38.648Z"
      },
      {
        "duration": 36,
        "start_time": "2022-06-06T14:31:38.673Z"
      },
      {
        "duration": 4,
        "start_time": "2022-06-06T14:31:38.717Z"
      },
      {
        "duration": 209,
        "start_time": "2022-06-06T14:31:38.722Z"
      },
      {
        "duration": 9,
        "start_time": "2022-06-06T14:31:38.933Z"
      },
      {
        "duration": 17,
        "start_time": "2022-06-06T14:31:38.944Z"
      },
      {
        "duration": 9,
        "start_time": "2022-06-06T14:31:38.963Z"
      },
      {
        "duration": 3,
        "start_time": "2022-06-06T14:31:38.974Z"
      },
      {
        "duration": 184,
        "start_time": "2022-06-06T14:31:39.008Z"
      },
      {
        "duration": 25,
        "start_time": "2022-06-06T14:31:39.193Z"
      },
      {
        "duration": 8,
        "start_time": "2022-06-06T14:31:39.223Z"
      },
      {
        "duration": 16,
        "start_time": "2022-06-06T14:31:39.232Z"
      },
      {
        "duration": 8,
        "start_time": "2022-06-06T14:31:39.250Z"
      },
      {
        "duration": 6,
        "start_time": "2022-06-06T14:31:39.260Z"
      },
      {
        "duration": 19,
        "start_time": "2022-06-06T14:31:39.268Z"
      },
      {
        "duration": 42,
        "start_time": "2022-06-06T14:31:39.289Z"
      },
      {
        "duration": 18,
        "start_time": "2022-06-06T14:31:39.332Z"
      },
      {
        "duration": 4,
        "start_time": "2022-06-06T14:31:39.351Z"
      },
      {
        "duration": 9,
        "start_time": "2022-06-06T14:31:39.356Z"
      },
      {
        "duration": 9,
        "start_time": "2022-06-06T14:31:39.367Z"
      },
      {
        "duration": 39,
        "start_time": "2022-06-06T14:31:39.377Z"
      },
      {
        "duration": 5,
        "start_time": "2022-06-06T14:31:39.418Z"
      },
      {
        "duration": 14,
        "start_time": "2022-06-06T14:31:39.424Z"
      },
      {
        "duration": 8,
        "start_time": "2022-06-06T14:31:39.440Z"
      },
      {
        "duration": 10,
        "start_time": "2022-06-06T14:31:39.451Z"
      },
      {
        "duration": 3,
        "start_time": "2022-06-06T14:31:39.463Z"
      },
      {
        "duration": 325,
        "start_time": "2022-06-06T14:31:39.468Z"
      },
      {
        "duration": 19,
        "start_time": "2022-06-06T14:31:39.794Z"
      },
      {
        "duration": 18,
        "start_time": "2022-06-06T14:31:39.816Z"
      },
      {
        "duration": 7,
        "start_time": "2022-06-06T14:31:39.836Z"
      },
      {
        "duration": 14,
        "start_time": "2022-06-06T14:31:39.845Z"
      },
      {
        "duration": 13,
        "start_time": "2022-06-06T14:31:39.860Z"
      },
      {
        "duration": 377,
        "start_time": "2022-06-06T14:31:39.874Z"
      },
      {
        "duration": 10,
        "start_time": "2022-06-06T14:31:40.252Z"
      },
      {
        "duration": 487,
        "start_time": "2022-06-06T14:31:40.263Z"
      },
      {
        "duration": 8,
        "start_time": "2022-06-06T14:31:40.752Z"
      },
      {
        "duration": 255,
        "start_time": "2022-06-06T14:31:40.762Z"
      },
      {
        "duration": 7,
        "start_time": "2022-06-06T14:31:41.019Z"
      },
      {
        "duration": 13,
        "start_time": "2022-06-06T14:31:41.027Z"
      },
      {
        "duration": 224,
        "start_time": "2022-06-06T14:31:41.041Z"
      },
      {
        "duration": 264,
        "start_time": "2022-06-06T14:31:41.267Z"
      },
      {
        "duration": 9,
        "start_time": "2022-06-06T14:31:41.533Z"
      },
      {
        "duration": 3,
        "start_time": "2022-06-06T14:31:41.544Z"
      },
      {
        "duration": 179,
        "start_time": "2022-06-06T14:31:41.549Z"
      },
      {
        "duration": 5,
        "start_time": "2022-06-06T14:31:41.730Z"
      },
      {
        "duration": 21,
        "start_time": "2022-06-06T14:31:41.737Z"
      },
      {
        "duration": 6,
        "start_time": "2022-06-06T14:31:41.760Z"
      },
      {
        "duration": 145,
        "start_time": "2022-06-06T14:31:41.768Z"
      },
      {
        "duration": 9,
        "start_time": "2022-06-06T14:31:41.916Z"
      },
      {
        "duration": 197,
        "start_time": "2022-06-06T14:31:41.927Z"
      },
      {
        "duration": 6,
        "start_time": "2022-06-06T14:31:42.126Z"
      },
      {
        "duration": 14,
        "start_time": "2022-06-06T14:31:42.133Z"
      },
      {
        "duration": 6,
        "start_time": "2022-06-06T14:31:42.149Z"
      },
      {
        "duration": 235,
        "start_time": "2022-06-06T14:31:42.156Z"
      },
      {
        "duration": 25,
        "start_time": "2022-06-06T14:31:42.393Z"
      },
      {
        "duration": 4,
        "start_time": "2022-06-06T14:31:42.419Z"
      },
      {
        "duration": 402,
        "start_time": "2022-06-06T14:31:42.424Z"
      },
      {
        "duration": 10,
        "start_time": "2022-06-06T14:31:42.827Z"
      },
      {
        "duration": 5,
        "start_time": "2022-06-06T14:31:42.839Z"
      },
      {
        "duration": 11,
        "start_time": "2022-06-06T14:31:42.845Z"
      },
      {
        "duration": 11,
        "start_time": "2022-06-06T14:31:42.858Z"
      },
      {
        "duration": 43,
        "start_time": "2022-06-06T14:31:42.871Z"
      },
      {
        "duration": 5,
        "start_time": "2022-06-06T14:31:42.916Z"
      },
      {
        "duration": 11,
        "start_time": "2022-06-06T14:31:42.922Z"
      },
      {
        "duration": 5,
        "start_time": "2022-06-06T14:31:42.939Z"
      },
      {
        "duration": 14,
        "start_time": "2022-06-06T14:31:42.946Z"
      },
      {
        "duration": 15,
        "start_time": "2022-06-06T14:31:42.962Z"
      },
      {
        "duration": 41,
        "start_time": "2022-06-06T14:31:42.978Z"
      },
      {
        "duration": 5,
        "start_time": "2022-06-06T14:31:43.020Z"
      },
      {
        "duration": 20,
        "start_time": "2022-06-06T14:31:43.027Z"
      },
      {
        "duration": 185,
        "start_time": "2022-06-06T14:31:43.049Z"
      },
      {
        "duration": 7,
        "start_time": "2022-06-06T14:31:43.236Z"
      },
      {
        "duration": 15,
        "start_time": "2022-06-06T14:31:43.245Z"
      },
      {
        "duration": 245,
        "start_time": "2022-06-06T14:31:43.263Z"
      },
      {
        "duration": 10,
        "start_time": "2022-06-06T14:31:43.510Z"
      },
      {
        "duration": 305,
        "start_time": "2022-06-06T14:31:43.522Z"
      },
      {
        "duration": 8,
        "start_time": "2022-06-06T14:31:43.828Z"
      },
      {
        "duration": 209,
        "start_time": "2022-06-06T14:31:43.837Z"
      },
      {
        "duration": 9,
        "start_time": "2022-06-06T14:31:44.047Z"
      },
      {
        "duration": 226,
        "start_time": "2022-06-06T14:31:44.057Z"
      },
      {
        "duration": 186,
        "start_time": "2022-06-06T14:31:44.284Z"
      },
      {
        "duration": 5,
        "start_time": "2022-06-06T14:31:44.471Z"
      },
      {
        "duration": 27,
        "start_time": "2022-06-06T14:31:44.478Z"
      },
      {
        "duration": 8,
        "start_time": "2022-06-06T14:31:44.507Z"
      },
      {
        "duration": 169,
        "start_time": "2022-06-06T14:31:44.516Z"
      },
      {
        "duration": 5,
        "start_time": "2022-06-06T14:31:44.687Z"
      },
      {
        "duration": 19,
        "start_time": "2022-06-06T14:31:44.700Z"
      },
      {
        "duration": 10,
        "start_time": "2022-06-06T14:31:44.720Z"
      },
      {
        "duration": 11,
        "start_time": "2022-06-06T14:31:44.732Z"
      },
      {
        "duration": 6,
        "start_time": "2022-06-06T14:31:44.745Z"
      },
      {
        "duration": 10,
        "start_time": "2022-06-06T14:31:44.753Z"
      },
      {
        "duration": 7,
        "start_time": "2022-06-06T14:31:44.764Z"
      },
      {
        "duration": 36,
        "start_time": "2022-06-06T14:31:44.773Z"
      },
      {
        "duration": 6,
        "start_time": "2022-06-06T14:31:44.811Z"
      },
      {
        "duration": 807,
        "start_time": "2022-06-06T14:32:26.472Z"
      },
      {
        "duration": 6,
        "start_time": "2022-06-06T14:32:27.282Z"
      },
      {
        "duration": 144,
        "start_time": "2022-06-06T14:32:27.290Z"
      },
      {
        "duration": 37,
        "start_time": "2022-06-06T14:32:27.437Z"
      },
      {
        "duration": 96,
        "start_time": "2022-06-06T14:32:27.476Z"
      },
      {
        "duration": 28,
        "start_time": "2022-06-06T14:32:27.574Z"
      },
      {
        "duration": 58,
        "start_time": "2022-06-06T14:32:27.604Z"
      },
      {
        "duration": 6,
        "start_time": "2022-06-06T14:32:27.664Z"
      },
      {
        "duration": 8,
        "start_time": "2022-06-06T14:32:27.672Z"
      },
      {
        "duration": 20,
        "start_time": "2022-06-06T14:32:27.682Z"
      },
      {
        "duration": 5,
        "start_time": "2022-06-06T14:32:27.704Z"
      },
      {
        "duration": 8,
        "start_time": "2022-06-06T14:32:27.713Z"
      },
      {
        "duration": 5,
        "start_time": "2022-06-06T14:32:27.723Z"
      },
      {
        "duration": 17,
        "start_time": "2022-06-06T14:32:27.729Z"
      },
      {
        "duration": 8,
        "start_time": "2022-06-06T14:32:27.748Z"
      },
      {
        "duration": 11,
        "start_time": "2022-06-06T14:32:27.758Z"
      },
      {
        "duration": 7,
        "start_time": "2022-06-06T14:32:27.771Z"
      },
      {
        "duration": 39,
        "start_time": "2022-06-06T14:32:27.780Z"
      },
      {
        "duration": 9,
        "start_time": "2022-06-06T14:32:27.821Z"
      },
      {
        "duration": 3,
        "start_time": "2022-06-06T14:32:27.832Z"
      },
      {
        "duration": 205,
        "start_time": "2022-06-06T14:32:27.837Z"
      },
      {
        "duration": 8,
        "start_time": "2022-06-06T14:32:28.044Z"
      },
      {
        "duration": 29,
        "start_time": "2022-06-06T14:32:28.054Z"
      },
      {
        "duration": 28,
        "start_time": "2022-06-06T14:32:28.085Z"
      },
      {
        "duration": 4,
        "start_time": "2022-06-06T14:32:28.115Z"
      },
      {
        "duration": 196,
        "start_time": "2022-06-06T14:32:28.120Z"
      },
      {
        "duration": 10,
        "start_time": "2022-06-06T14:32:28.318Z"
      },
      {
        "duration": 9,
        "start_time": "2022-06-06T14:32:28.332Z"
      },
      {
        "duration": 24,
        "start_time": "2022-06-06T14:32:28.342Z"
      },
      {
        "duration": 10,
        "start_time": "2022-06-06T14:32:28.368Z"
      },
      {
        "duration": 7,
        "start_time": "2022-06-06T14:32:28.380Z"
      },
      {
        "duration": 42,
        "start_time": "2022-06-06T14:32:28.388Z"
      },
      {
        "duration": 20,
        "start_time": "2022-06-06T14:32:28.431Z"
      },
      {
        "duration": 19,
        "start_time": "2022-06-06T14:32:28.453Z"
      },
      {
        "duration": 4,
        "start_time": "2022-06-06T14:32:28.474Z"
      },
      {
        "duration": 22,
        "start_time": "2022-06-06T14:32:28.480Z"
      },
      {
        "duration": 13,
        "start_time": "2022-06-06T14:32:28.509Z"
      },
      {
        "duration": 17,
        "start_time": "2022-06-06T14:32:28.524Z"
      },
      {
        "duration": 4,
        "start_time": "2022-06-06T14:32:28.543Z"
      },
      {
        "duration": 11,
        "start_time": "2022-06-06T14:32:28.548Z"
      },
      {
        "duration": 7,
        "start_time": "2022-06-06T14:32:28.561Z"
      },
      {
        "duration": 5,
        "start_time": "2022-06-06T14:32:28.569Z"
      },
      {
        "duration": 3,
        "start_time": "2022-06-06T14:32:28.576Z"
      },
      {
        "duration": 320,
        "start_time": "2022-06-06T14:32:28.603Z"
      },
      {
        "duration": 13,
        "start_time": "2022-06-06T14:32:28.924Z"
      },
      {
        "duration": 11,
        "start_time": "2022-06-06T14:32:28.938Z"
      },
      {
        "duration": 8,
        "start_time": "2022-06-06T14:32:28.951Z"
      },
      {
        "duration": 6,
        "start_time": "2022-06-06T14:32:28.960Z"
      },
      {
        "duration": 16,
        "start_time": "2022-06-06T14:32:28.968Z"
      },
      {
        "duration": 375,
        "start_time": "2022-06-06T14:32:28.985Z"
      },
      {
        "duration": 10,
        "start_time": "2022-06-06T14:32:29.362Z"
      },
      {
        "duration": 501,
        "start_time": "2022-06-06T14:32:29.373Z"
      },
      {
        "duration": 8,
        "start_time": "2022-06-06T14:32:29.876Z"
      },
      {
        "duration": 251,
        "start_time": "2022-06-06T14:32:29.886Z"
      },
      {
        "duration": 5,
        "start_time": "2022-06-06T14:32:30.139Z"
      },
      {
        "duration": 17,
        "start_time": "2022-06-06T14:32:30.146Z"
      },
      {
        "duration": 274,
        "start_time": "2022-06-06T14:32:30.165Z"
      },
      {
        "duration": 285,
        "start_time": "2022-06-06T14:32:30.441Z"
      },
      {
        "duration": 11,
        "start_time": "2022-06-06T14:32:30.728Z"
      },
      {
        "duration": 12,
        "start_time": "2022-06-06T14:32:30.741Z"
      },
      {
        "duration": 176,
        "start_time": "2022-06-06T14:32:30.755Z"
      },
      {
        "duration": 6,
        "start_time": "2022-06-06T14:32:30.933Z"
      },
      {
        "duration": 38,
        "start_time": "2022-06-06T14:32:30.940Z"
      },
      {
        "duration": 7,
        "start_time": "2022-06-06T14:32:30.981Z"
      },
      {
        "duration": 137,
        "start_time": "2022-06-06T14:32:30.990Z"
      },
      {
        "duration": 13,
        "start_time": "2022-06-06T14:32:31.130Z"
      },
      {
        "duration": 218,
        "start_time": "2022-06-06T14:32:31.145Z"
      },
      {
        "duration": 6,
        "start_time": "2022-06-06T14:32:31.364Z"
      },
      {
        "duration": 29,
        "start_time": "2022-06-06T14:32:31.372Z"
      },
      {
        "duration": 14,
        "start_time": "2022-06-06T14:32:31.402Z"
      },
      {
        "duration": 216,
        "start_time": "2022-06-06T14:32:31.420Z"
      },
      {
        "duration": 5,
        "start_time": "2022-06-06T14:32:31.638Z"
      },
      {
        "duration": 10,
        "start_time": "2022-06-06T14:32:31.645Z"
      },
      {
        "duration": 428,
        "start_time": "2022-06-06T14:32:31.656Z"
      },
      {
        "duration": 22,
        "start_time": "2022-06-06T14:32:32.086Z"
      },
      {
        "duration": 69,
        "start_time": "2022-06-06T14:32:32.110Z"
      },
      {
        "duration": 24,
        "start_time": "2022-06-06T14:32:32.181Z"
      },
      {
        "duration": 27,
        "start_time": "2022-06-06T14:32:32.207Z"
      },
      {
        "duration": 32,
        "start_time": "2022-06-06T14:32:32.235Z"
      },
      {
        "duration": 18,
        "start_time": "2022-06-06T14:32:32.270Z"
      },
      {
        "duration": 31,
        "start_time": "2022-06-06T14:32:32.291Z"
      },
      {
        "duration": 8,
        "start_time": "2022-06-06T14:32:32.328Z"
      },
      {
        "duration": 20,
        "start_time": "2022-06-06T14:32:32.338Z"
      },
      {
        "duration": 8,
        "start_time": "2022-06-06T14:32:32.361Z"
      },
      {
        "duration": 42,
        "start_time": "2022-06-06T14:32:32.372Z"
      },
      {
        "duration": 5,
        "start_time": "2022-06-06T14:32:32.417Z"
      },
      {
        "duration": 31,
        "start_time": "2022-06-06T14:32:32.423Z"
      },
      {
        "duration": 205,
        "start_time": "2022-06-06T14:32:32.456Z"
      },
      {
        "duration": 7,
        "start_time": "2022-06-06T14:32:32.663Z"
      },
      {
        "duration": 15,
        "start_time": "2022-06-06T14:32:32.672Z"
      },
      {
        "duration": 257,
        "start_time": "2022-06-06T14:32:32.689Z"
      },
      {
        "duration": 9,
        "start_time": "2022-06-06T14:32:32.948Z"
      },
      {
        "duration": 361,
        "start_time": "2022-06-06T14:32:32.959Z"
      },
      {
        "duration": 9,
        "start_time": "2022-06-06T14:32:33.321Z"
      },
      {
        "duration": 215,
        "start_time": "2022-06-06T14:32:33.332Z"
      },
      {
        "duration": 9,
        "start_time": "2022-06-06T14:32:33.548Z"
      },
      {
        "duration": 227,
        "start_time": "2022-06-06T14:32:33.560Z"
      },
      {
        "duration": 177,
        "start_time": "2022-06-06T14:32:33.790Z"
      },
      {
        "duration": 7,
        "start_time": "2022-06-06T14:32:33.969Z"
      },
      {
        "duration": 31,
        "start_time": "2022-06-06T14:32:33.977Z"
      },
      {
        "duration": 7,
        "start_time": "2022-06-06T14:32:34.015Z"
      },
      {
        "duration": 190,
        "start_time": "2022-06-06T14:32:34.024Z"
      },
      {
        "duration": 6,
        "start_time": "2022-06-06T14:32:34.216Z"
      },
      {
        "duration": 21,
        "start_time": "2022-06-06T14:32:34.224Z"
      },
      {
        "duration": 7,
        "start_time": "2022-06-06T14:32:34.247Z"
      },
      {
        "duration": 15,
        "start_time": "2022-06-06T14:32:34.256Z"
      },
      {
        "duration": 6,
        "start_time": "2022-06-06T14:32:34.273Z"
      },
      {
        "duration": 28,
        "start_time": "2022-06-06T14:32:34.280Z"
      },
      {
        "duration": 10,
        "start_time": "2022-06-06T14:32:34.309Z"
      },
      {
        "duration": 22,
        "start_time": "2022-06-06T14:32:34.321Z"
      },
      {
        "duration": 18,
        "start_time": "2022-06-06T14:32:34.345Z"
      },
      {
        "duration": 195,
        "start_time": "2022-06-06T14:33:04.743Z"
      },
      {
        "duration": 451,
        "start_time": "2022-06-06T14:33:13.898Z"
      },
      {
        "duration": 218,
        "start_time": "2022-06-06T14:33:20.461Z"
      },
      {
        "duration": 841,
        "start_time": "2022-06-06T14:33:45.523Z"
      },
      {
        "duration": 7,
        "start_time": "2022-06-06T14:33:46.366Z"
      },
      {
        "duration": 116,
        "start_time": "2022-06-06T14:33:46.375Z"
      },
      {
        "duration": 35,
        "start_time": "2022-06-06T14:33:46.493Z"
      },
      {
        "duration": 90,
        "start_time": "2022-06-06T14:33:46.531Z"
      },
      {
        "duration": 26,
        "start_time": "2022-06-06T14:33:46.623Z"
      },
      {
        "duration": 78,
        "start_time": "2022-06-06T14:33:46.651Z"
      },
      {
        "duration": 9,
        "start_time": "2022-06-06T14:33:46.731Z"
      },
      {
        "duration": 11,
        "start_time": "2022-06-06T14:33:46.743Z"
      },
      {
        "duration": 11,
        "start_time": "2022-06-06T14:33:46.756Z"
      },
      {
        "duration": 6,
        "start_time": "2022-06-06T14:33:46.769Z"
      },
      {
        "duration": 10,
        "start_time": "2022-06-06T14:33:46.776Z"
      },
      {
        "duration": 6,
        "start_time": "2022-06-06T14:33:46.805Z"
      },
      {
        "duration": 28,
        "start_time": "2022-06-06T14:33:46.815Z"
      },
      {
        "duration": 5,
        "start_time": "2022-06-06T14:33:46.845Z"
      },
      {
        "duration": 12,
        "start_time": "2022-06-06T14:33:46.852Z"
      },
      {
        "duration": 14,
        "start_time": "2022-06-06T14:33:46.865Z"
      },
      {
        "duration": 43,
        "start_time": "2022-06-06T14:33:46.881Z"
      },
      {
        "duration": 23,
        "start_time": "2022-06-06T14:33:46.925Z"
      },
      {
        "duration": 6,
        "start_time": "2022-06-06T14:33:46.950Z"
      },
      {
        "duration": 254,
        "start_time": "2022-06-06T14:33:46.958Z"
      },
      {
        "duration": 12,
        "start_time": "2022-06-06T14:33:47.218Z"
      },
      {
        "duration": 38,
        "start_time": "2022-06-06T14:33:47.233Z"
      },
      {
        "duration": 19,
        "start_time": "2022-06-06T14:33:47.274Z"
      },
      {
        "duration": 39,
        "start_time": "2022-06-06T14:33:47.295Z"
      },
      {
        "duration": 303,
        "start_time": "2022-06-06T14:33:47.337Z"
      },
      {
        "duration": 14,
        "start_time": "2022-06-06T14:33:47.644Z"
      },
      {
        "duration": 20,
        "start_time": "2022-06-06T14:33:47.661Z"
      },
      {
        "duration": 38,
        "start_time": "2022-06-06T14:33:47.684Z"
      },
      {
        "duration": 14,
        "start_time": "2022-06-06T14:33:47.729Z"
      },
      {
        "duration": 8,
        "start_time": "2022-06-06T14:33:47.745Z"
      },
      {
        "duration": 30,
        "start_time": "2022-06-06T14:33:47.755Z"
      },
      {
        "duration": 49,
        "start_time": "2022-06-06T14:33:47.788Z"
      },
      {
        "duration": 28,
        "start_time": "2022-06-06T14:33:47.839Z"
      },
      {
        "duration": 5,
        "start_time": "2022-06-06T14:33:47.869Z"
      },
      {
        "duration": 34,
        "start_time": "2022-06-06T14:33:47.876Z"
      },
      {
        "duration": 36,
        "start_time": "2022-06-06T14:33:47.913Z"
      },
      {
        "duration": 27,
        "start_time": "2022-06-06T14:33:47.952Z"
      },
      {
        "duration": 5,
        "start_time": "2022-06-06T14:33:47.982Z"
      },
      {
        "duration": 69,
        "start_time": "2022-06-06T14:33:47.989Z"
      },
      {
        "duration": 17,
        "start_time": "2022-06-06T14:33:48.066Z"
      },
      {
        "duration": 8,
        "start_time": "2022-06-06T14:33:48.086Z"
      },
      {
        "duration": 26,
        "start_time": "2022-06-06T14:33:48.097Z"
      },
      {
        "duration": 367,
        "start_time": "2022-06-06T14:33:48.125Z"
      },
      {
        "duration": 25,
        "start_time": "2022-06-06T14:33:48.494Z"
      },
      {
        "duration": 22,
        "start_time": "2022-06-06T14:33:48.522Z"
      },
      {
        "duration": 8,
        "start_time": "2022-06-06T14:33:48.546Z"
      },
      {
        "duration": 9,
        "start_time": "2022-06-06T14:33:48.556Z"
      },
      {
        "duration": 12,
        "start_time": "2022-06-06T14:33:48.567Z"
      },
      {
        "duration": 563,
        "start_time": "2022-06-06T14:33:48.581Z"
      },
      {
        "duration": 16,
        "start_time": "2022-06-06T14:33:49.146Z"
      },
      {
        "duration": 608,
        "start_time": "2022-06-06T14:33:49.164Z"
      },
      {
        "duration": 12,
        "start_time": "2022-06-06T14:33:49.774Z"
      },
      {
        "duration": 272,
        "start_time": "2022-06-06T14:33:49.789Z"
      },
      {
        "duration": 6,
        "start_time": "2022-06-06T14:33:50.068Z"
      },
      {
        "duration": 21,
        "start_time": "2022-06-06T14:33:50.076Z"
      },
      {
        "duration": 269,
        "start_time": "2022-06-06T14:33:50.099Z"
      },
      {
        "duration": 317,
        "start_time": "2022-06-06T14:33:50.370Z"
      },
      {
        "duration": 14,
        "start_time": "2022-06-06T14:33:50.690Z"
      },
      {
        "duration": 39,
        "start_time": "2022-06-06T14:33:50.706Z"
      },
      {
        "duration": 215,
        "start_time": "2022-06-06T14:33:50.747Z"
      },
      {
        "duration": 7,
        "start_time": "2022-06-06T14:33:50.965Z"
      },
      {
        "duration": 36,
        "start_time": "2022-06-06T14:33:50.974Z"
      },
      {
        "duration": 13,
        "start_time": "2022-06-06T14:33:51.016Z"
      },
      {
        "duration": 191,
        "start_time": "2022-06-06T14:33:51.031Z"
      },
      {
        "duration": 17,
        "start_time": "2022-06-06T14:33:51.225Z"
      },
      {
        "duration": 220,
        "start_time": "2022-06-06T14:33:51.244Z"
      },
      {
        "duration": 7,
        "start_time": "2022-06-06T14:33:51.466Z"
      },
      {
        "duration": 43,
        "start_time": "2022-06-06T14:33:51.475Z"
      },
      {
        "duration": 14,
        "start_time": "2022-06-06T14:33:51.519Z"
      },
      {
        "duration": 215,
        "start_time": "2022-06-06T14:33:51.535Z"
      },
      {
        "duration": 8,
        "start_time": "2022-06-06T14:33:51.752Z"
      },
      {
        "duration": 6,
        "start_time": "2022-06-06T14:33:51.762Z"
      },
      {
        "duration": 443,
        "start_time": "2022-06-06T14:33:51.769Z"
      },
      {
        "duration": 14,
        "start_time": "2022-06-06T14:33:52.216Z"
      },
      {
        "duration": 13,
        "start_time": "2022-06-06T14:33:52.232Z"
      },
      {
        "duration": 23,
        "start_time": "2022-06-06T14:33:52.247Z"
      },
      {
        "duration": 6,
        "start_time": "2022-06-06T14:33:52.272Z"
      },
      {
        "duration": 21,
        "start_time": "2022-06-06T14:33:52.280Z"
      },
      {
        "duration": 43,
        "start_time": "2022-06-06T14:33:52.305Z"
      },
      {
        "duration": 34,
        "start_time": "2022-06-06T14:33:52.350Z"
      },
      {
        "duration": 8,
        "start_time": "2022-06-06T14:33:52.387Z"
      },
      {
        "duration": 38,
        "start_time": "2022-06-06T14:33:52.397Z"
      },
      {
        "duration": 37,
        "start_time": "2022-06-06T14:33:52.437Z"
      },
      {
        "duration": 75,
        "start_time": "2022-06-06T14:33:52.476Z"
      },
      {
        "duration": 21,
        "start_time": "2022-06-06T14:33:52.553Z"
      },
      {
        "duration": 34,
        "start_time": "2022-06-06T14:33:52.577Z"
      },
      {
        "duration": 293,
        "start_time": "2022-06-06T14:33:52.613Z"
      },
      {
        "duration": 7,
        "start_time": "2022-06-06T14:33:52.908Z"
      },
      {
        "duration": 40,
        "start_time": "2022-06-06T14:33:52.917Z"
      },
      {
        "duration": 360,
        "start_time": "2022-06-06T14:33:52.960Z"
      },
      {
        "duration": 14,
        "start_time": "2022-06-06T14:33:53.325Z"
      },
      {
        "duration": 458,
        "start_time": "2022-06-06T14:33:53.340Z"
      },
      {
        "duration": 24,
        "start_time": "2022-06-06T14:33:53.801Z"
      },
      {
        "duration": 235,
        "start_time": "2022-06-06T14:33:53.828Z"
      },
      {
        "duration": 13,
        "start_time": "2022-06-06T14:33:54.065Z"
      },
      {
        "duration": 392,
        "start_time": "2022-06-06T14:33:54.080Z"
      },
      {
        "duration": 234,
        "start_time": "2022-06-06T14:33:54.475Z"
      },
      {
        "duration": 8,
        "start_time": "2022-06-06T14:33:54.712Z"
      },
      {
        "duration": 47,
        "start_time": "2022-06-06T14:33:54.722Z"
      },
      {
        "duration": 12,
        "start_time": "2022-06-06T14:33:54.771Z"
      },
      {
        "duration": 251,
        "start_time": "2022-06-06T14:33:54.785Z"
      },
      {
        "duration": 14,
        "start_time": "2022-06-06T14:33:55.038Z"
      },
      {
        "duration": 21,
        "start_time": "2022-06-06T14:33:55.054Z"
      },
      {
        "duration": 10,
        "start_time": "2022-06-06T14:33:55.080Z"
      },
      {
        "duration": 48,
        "start_time": "2022-06-06T14:33:55.101Z"
      },
      {
        "duration": 7,
        "start_time": "2022-06-06T14:33:55.151Z"
      },
      {
        "duration": 23,
        "start_time": "2022-06-06T14:33:55.160Z"
      },
      {
        "duration": 6,
        "start_time": "2022-06-06T14:33:55.186Z"
      },
      {
        "duration": 23,
        "start_time": "2022-06-06T14:33:55.194Z"
      },
      {
        "duration": 25,
        "start_time": "2022-06-06T14:33:55.224Z"
      },
      {
        "duration": 405,
        "start_time": "2022-06-06T14:34:18.134Z"
      },
      {
        "duration": 533,
        "start_time": "2022-06-06T14:34:24.252Z"
      },
      {
        "duration": 239,
        "start_time": "2022-06-06T14:34:31.685Z"
      },
      {
        "duration": 224,
        "start_time": "2022-06-06T14:34:37.928Z"
      },
      {
        "duration": 268,
        "start_time": "2022-06-06T14:34:43.822Z"
      },
      {
        "duration": 253,
        "start_time": "2022-06-06T14:35:03.321Z"
      },
      {
        "duration": 173,
        "start_time": "2022-06-06T14:35:18.953Z"
      },
      {
        "duration": 177,
        "start_time": "2022-06-06T14:35:43.832Z"
      },
      {
        "duration": 195,
        "start_time": "2022-06-06T14:36:17.637Z"
      },
      {
        "duration": 199,
        "start_time": "2022-06-06T14:36:24.942Z"
      },
      {
        "duration": 320,
        "start_time": "2022-06-06T14:36:42.924Z"
      },
      {
        "duration": 235,
        "start_time": "2022-06-06T14:37:01.917Z"
      },
      {
        "duration": 282,
        "start_time": "2022-06-06T14:37:07.286Z"
      },
      {
        "duration": 208,
        "start_time": "2022-06-06T14:37:41.365Z"
      },
      {
        "duration": 25,
        "start_time": "2022-06-06T14:39:52.851Z"
      },
      {
        "duration": 288,
        "start_time": "2022-06-06T14:40:32.366Z"
      },
      {
        "duration": 245,
        "start_time": "2022-06-06T14:40:36.462Z"
      },
      {
        "duration": 224,
        "start_time": "2022-06-06T14:40:44.051Z"
      },
      {
        "duration": 183,
        "start_time": "2022-06-06T14:40:49.579Z"
      },
      {
        "duration": 142,
        "start_time": "2022-06-06T14:41:00.430Z"
      },
      {
        "duration": 11,
        "start_time": "2022-06-06T14:42:02.957Z"
      },
      {
        "duration": 11,
        "start_time": "2022-06-06T14:42:19.831Z"
      },
      {
        "duration": 15,
        "start_time": "2022-06-06T14:42:34.662Z"
      },
      {
        "duration": 13,
        "start_time": "2022-06-06T14:42:46.560Z"
      },
      {
        "duration": 12,
        "start_time": "2022-06-06T14:43:00.590Z"
      },
      {
        "duration": 11,
        "start_time": "2022-06-06T14:43:30.930Z"
      },
      {
        "duration": 11,
        "start_time": "2022-06-06T14:43:50.363Z"
      },
      {
        "duration": 19,
        "start_time": "2022-06-06T14:44:07.391Z"
      },
      {
        "duration": 11,
        "start_time": "2022-06-06T14:44:28.055Z"
      },
      {
        "duration": 9,
        "start_time": "2022-06-06T14:44:45.964Z"
      }
    ],
    "kernelspec": {
      "display_name": "Python 3 (ipykernel)",
      "language": "python",
      "name": "python3"
    },
    "language_info": {
      "codemirror_mode": {
        "name": "ipython",
        "version": 3
      },
      "file_extension": ".py",
      "mimetype": "text/x-python",
      "name": "python",
      "nbconvert_exporter": "python",
      "pygments_lexer": "ipython3",
      "version": "3.9.7"
    },
    "toc": {
      "base_numbering": 1,
      "nav_menu": {},
      "number_sections": true,
      "sideBar": true,
      "skip_h1_title": true,
      "title_cell": "Содержание",
      "title_sidebar": "Contents",
      "toc_cell": true,
      "toc_position": {
        "height": "calc(100% - 180px)",
        "left": "10px",
        "top": "150px",
        "width": "336px"
      },
      "toc_section_display": true,
      "toc_window_display": false
    },
    "colab": {
      "name": "ads_for_sale_of_apartments_research.ipynb",
      "provenance": [],
      "include_colab_link": true
    }
  },
  "nbformat": 4,
  "nbformat_minor": 0
}