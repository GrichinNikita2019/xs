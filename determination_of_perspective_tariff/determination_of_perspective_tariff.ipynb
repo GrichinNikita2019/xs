{
  "cells": [
    {
      "cell_type": "markdown",
      "metadata": {
        "id": "view-in-github",
        "colab_type": "text"
      },
      "source": [
        "<a href=\"https://colab.research.google.com/github/GrichinNikita2019/yandex_praktikum_da/blob/main/determination_of_perspective_tariff/determination_of_perspective_tariff.ipynb\" target=\"_parent\"><img src=\"https://colab.research.google.com/assets/colab-badge.svg\" alt=\"Open In Colab\"/></a>"
      ]
    },
    {
      "cell_type": "markdown",
      "metadata": {
        "id": "75JT7ZwIiSnA"
      },
      "source": [
        "# Определение перспективного тарифа для телеком компании\n",
        "\n",
        "Вы аналитик компании «Мегалайн» — федерального оператора сотовой связи. Клиентам предлагают два тарифных плана: «Смарт» и «Ультра». Чтобы скорректировать рекламный бюджет, коммерческий департамент хочет понять, какой тариф приносит больше денег.\n",
        "Вам предстоит сделать предварительный анализ тарифов на небольшой выборке клиентов. В вашем распоряжении данные 500 пользователей «Мегалайна»: кто они, откуда, каким тарифом пользуются, сколько звонков и сообщений каждый отправил за 2018 год. Нужно проанализировать поведение клиентов и сделать вывод — какой тариф лучше.\n",
        "\n",
        "**Описание тарифов:**\n",
        "\n",
        "**Тариф «Смарт»**\n",
        "\n",
        "Ежемесячная плата: 550 рублей\n",
        "\n",
        "Включено 500 минут разговора, 50 сообщений и 15 Гб интернет-трафика\n",
        "\n",
        "Стоимость услуг сверх тарифного пакета:\n",
        "\n",
        "минута разговора: 3 рубля\n",
        "\n",
        "сообщение: 3 рубля\n",
        "\n",
        "1 Гб интернет-трафика: 200 рублей\n",
        "\n",
        "**Тариф «Ультра»**\n",
        "\n",
        "Ежемесячная плата: 1950 рублей\n",
        "\n",
        "Включено 3000 минут разговора, 1000 сообщений и 30 Гб интернет-трафика\n",
        "\n",
        "Стоимость услуг сверх тарифного пакета:\n",
        "\n",
        "минута разговора: 1 рубль\n",
        "\n",
        "сообщение: 1 рубль\n",
        "\n",
        "1 Гб интернет-трафика: 150 рублей\n",
        "\n",
        "\n",
        "**Задачей проекта является поиск ответов на следующие вопросы:**\n",
        "1. Сколько минут разговора, сколько сообщений и какой объём интернет-трафика требуется пользователям каждого тарифа в месяц?\n",
        "2. Различаются ли средняя выручка пользователей тарифов «Ультра» и «Смарт»?\n",
        "3. Различаются ли средняя выручка пользователей из Москвы от выручки пользователей из других регионов?\n",
        "\n",
        "**План работы:**\n",
        "1. Шаг 1. Открыть файлы с данными и изучить общую информацию\n",
        "2. Шаг 2. Осуществить предобработку данных (обработать пропуски, заменить типы данных)\n",
        "3. Шаг 3. Ответить на вопросы, поставленные в задачах\n",
        "4. Шаг 4. Сформулировать общий вывод\n",
        "\n",
        "**Описание данных в таблице users:**\n",
        "\n",
        "* user_id — *уникальный идентификатор пользователя*\n",
        "* first_name — *имя пользователя*\n",
        "* last_name — *фамилия пользователя*\n",
        "* age — *возраст пользователя (годы)*\n",
        "* reg_date — *дата подключения тарифа (день, месяц, год)*\n",
        "* churn_date — *дата прекращения пользования тарифом (если значение пропущено, то тариф ещё действовал на момент выгрузки данных)*\n",
        "* city — *город проживания пользователя*\n",
        "* tariff — *название тарифного плана*\n",
        "\n",
        "**Описание данных в таблице calls:**\n",
        "\n",
        "* id — *уникальный номер звонка*\n",
        "* call_date — *дата звонка*\n",
        "* duration — *длительность звонка в минутах*\n",
        "* user_id — *идентификатор пользователя, сделавшего звонок*\n",
        "\n",
        "**Описание данных в таблице messages:**\n",
        "\n",
        "* id — *уникальный номер сообщения*\n",
        "* message_date — *дата сообщения*\n",
        "* user_id — *идентификатор пользователя, отправившего сообщение*\n",
        "\n",
        "**Описание данных в таблице internet:**\n",
        "\n",
        "* id — *уникальный номер сессии*\n",
        "* mb_used — *объём потраченного за сессию интернет-трафика (в мегабайтах)*\n",
        "* session_date — *дата интернет-сессии*\n",
        "* user_id — *идентификатор пользователя*\n",
        "\n",
        "**Описание данных в таблице tariffs:**\n",
        "\n",
        "* tariff_name — *название тарифа*\n",
        "* rub_monthly_fee — *ежемесячная абонентская плата в рублях*\n",
        "* minutes_included — *количество минут разговора в месяц, включённых в абонентскую плату*\n",
        "* messages_included — *количество сообщений в месяц, включённых в абонентскую плату*\n",
        "* mb_per_month_included — *объём интернет-трафика, включённого в абонентскую плату (в мегабайтах)*\n",
        "* rub_per_minute — *стоимость минуты разговора сверх тарифного пакета (например, если в тарифе 100 минут разговора в месяц, то со 101 минуты будет взиматься плата)*\n",
        "* rub_per_message — *стоимость отправки сообщения сверх тарифного пакета*\n",
        "* rub_per_gb — *стоимость дополнительного гигабайта интернет-трафика сверх тарифного пакета (1 гигабайт = 1024 мегабайта)*"
      ]
    },
    {
      "cell_type": "markdown",
      "metadata": {
        "id": "anL7iM1ziSnH"
      },
      "source": [
        "## Изучение данных из файла"
      ]
    },
    {
      "cell_type": "code",
      "execution_count": null,
      "metadata": {
        "id": "dFflES0TiSnI"
      },
      "outputs": [],
      "source": [
        "import pandas as pd\n",
        "import numpy as np\n",
        "import matplotlib.pyplot as plt\n",
        "from functools import reduce\n",
        "from datetime import datetime\n",
        "from scipy import stats as st\n",
        "import warnings"
      ]
    },
    {
      "cell_type": "code",
      "execution_count": null,
      "metadata": {
        "id": "sxF_MTaWiSnK"
      },
      "outputs": [],
      "source": [
        "pd.options.display.float_format = '{:,.2f}'.format\n",
        "pd.set_option('display.float_format', lambda x: '%.3f' % x)\n",
        "%matplotlib inline\n",
        "plt.style.use('dark_background')\n",
        "warnings.filterwarnings('ignore')"
      ]
    },
    {
      "cell_type": "code",
      "execution_count": null,
      "metadata": {
        "id": "R5GzASSGiSnL"
      },
      "outputs": [],
      "source": [
        "users = pd.read_csv('/datasets/users.csv')\n",
        "calls = pd.read_csv('/datasets/calls.csv')\n",
        "messages = pd.read_csv('/datasets/messages.csv')\n",
        "internet = pd.read_csv('/datasets/internet.csv', index_col=0)\n",
        "tariffs = pd.read_csv('/datasets/tariffs.csv')"
      ]
    },
    {
      "cell_type": "markdown",
      "metadata": {
        "id": "P8nbcvB_iSnL"
      },
      "source": [
        "### Изучение таблицы users"
      ]
    },
    {
      "cell_type": "code",
      "execution_count": null,
      "metadata": {
        "scrolled": true,
        "id": "VNHG-xqkiSnM",
        "outputId": "2d004536-d960-4214-8338-05bd8be182f8"
      },
      "outputs": [
        {
          "data": {
            "text/html": [
              "<div>\n",
              "<style scoped>\n",
              "    .dataframe tbody tr th:only-of-type {\n",
              "        vertical-align: middle;\n",
              "    }\n",
              "\n",
              "    .dataframe tbody tr th {\n",
              "        vertical-align: top;\n",
              "    }\n",
              "\n",
              "    .dataframe thead th {\n",
              "        text-align: right;\n",
              "    }\n",
              "</style>\n",
              "<table border=\"1\" class=\"dataframe\">\n",
              "  <thead>\n",
              "    <tr style=\"text-align: right;\">\n",
              "      <th></th>\n",
              "      <th>user_id</th>\n",
              "      <th>age</th>\n",
              "      <th>churn_date</th>\n",
              "      <th>city</th>\n",
              "      <th>first_name</th>\n",
              "      <th>last_name</th>\n",
              "      <th>reg_date</th>\n",
              "      <th>tariff</th>\n",
              "    </tr>\n",
              "  </thead>\n",
              "  <tbody>\n",
              "    <tr>\n",
              "      <td>333</td>\n",
              "      <td>1333</td>\n",
              "      <td>58</td>\n",
              "      <td>NaN</td>\n",
              "      <td>Москва</td>\n",
              "      <td>Вера</td>\n",
              "      <td>Антонова</td>\n",
              "      <td>2018-09-28</td>\n",
              "      <td>ultra</td>\n",
              "    </tr>\n",
              "    <tr>\n",
              "      <td>65</td>\n",
              "      <td>1065</td>\n",
              "      <td>53</td>\n",
              "      <td>2018-12-09</td>\n",
              "      <td>Москва</td>\n",
              "      <td>Роза</td>\n",
              "      <td>Игнатова</td>\n",
              "      <td>2018-03-08</td>\n",
              "      <td>smart</td>\n",
              "    </tr>\n",
              "    <tr>\n",
              "      <td>224</td>\n",
              "      <td>1224</td>\n",
              "      <td>58</td>\n",
              "      <td>NaN</td>\n",
              "      <td>Магнитогорск</td>\n",
              "      <td>Ахмет</td>\n",
              "      <td>Тарасов</td>\n",
              "      <td>2018-04-24</td>\n",
              "      <td>smart</td>\n",
              "    </tr>\n",
              "    <tr>\n",
              "      <td>412</td>\n",
              "      <td>1412</td>\n",
              "      <td>63</td>\n",
              "      <td>NaN</td>\n",
              "      <td>Волгоград</td>\n",
              "      <td>Геодар</td>\n",
              "      <td>Афонин</td>\n",
              "      <td>2018-06-05</td>\n",
              "      <td>ultra</td>\n",
              "    </tr>\n",
              "    <tr>\n",
              "      <td>20</td>\n",
              "      <td>1020</td>\n",
              "      <td>59</td>\n",
              "      <td>2018-12-18</td>\n",
              "      <td>Чита</td>\n",
              "      <td>Тала</td>\n",
              "      <td>Костина</td>\n",
              "      <td>2018-10-22</td>\n",
              "      <td>smart</td>\n",
              "    </tr>\n",
              "    <tr>\n",
              "      <td>248</td>\n",
              "      <td>1248</td>\n",
              "      <td>51</td>\n",
              "      <td>NaN</td>\n",
              "      <td>Москва</td>\n",
              "      <td>Анатолий</td>\n",
              "      <td>Минаев</td>\n",
              "      <td>2018-05-28</td>\n",
              "      <td>smart</td>\n",
              "    </tr>\n",
              "    <tr>\n",
              "      <td>87</td>\n",
              "      <td>1087</td>\n",
              "      <td>50</td>\n",
              "      <td>NaN</td>\n",
              "      <td>Санкт-Петербург</td>\n",
              "      <td>Гелена</td>\n",
              "      <td>Абалакова</td>\n",
              "      <td>2018-10-03</td>\n",
              "      <td>smart</td>\n",
              "    </tr>\n",
              "    <tr>\n",
              "      <td>336</td>\n",
              "      <td>1336</td>\n",
              "      <td>27</td>\n",
              "      <td>NaN</td>\n",
              "      <td>Уфа</td>\n",
              "      <td>Авксентий</td>\n",
              "      <td>Алексеичев</td>\n",
              "      <td>2018-12-31</td>\n",
              "      <td>ultra</td>\n",
              "    </tr>\n",
              "    <tr>\n",
              "      <td>478</td>\n",
              "      <td>1478</td>\n",
              "      <td>75</td>\n",
              "      <td>NaN</td>\n",
              "      <td>Грозный</td>\n",
              "      <td>Таира</td>\n",
              "      <td>Константинова</td>\n",
              "      <td>2018-07-16</td>\n",
              "      <td>smart</td>\n",
              "    </tr>\n",
              "    <tr>\n",
              "      <td>296</td>\n",
              "      <td>1296</td>\n",
              "      <td>60</td>\n",
              "      <td>NaN</td>\n",
              "      <td>Москва</td>\n",
              "      <td>Альфред</td>\n",
              "      <td>Черный</td>\n",
              "      <td>2018-06-05</td>\n",
              "      <td>smart</td>\n",
              "    </tr>\n",
              "  </tbody>\n",
              "</table>\n",
              "</div>"
            ],
            "text/plain": [
              "     user_id  age  churn_date             city first_name      last_name  \\\n",
              "333     1333   58         NaN           Москва       Вера       Антонова   \n",
              "65      1065   53  2018-12-09           Москва       Роза       Игнатова   \n",
              "224     1224   58         NaN     Магнитогорск      Ахмет        Тарасов   \n",
              "412     1412   63         NaN        Волгоград     Геодар         Афонин   \n",
              "20      1020   59  2018-12-18             Чита       Тала        Костина   \n",
              "248     1248   51         NaN           Москва   Анатолий         Минаев   \n",
              "87      1087   50         NaN  Санкт-Петербург     Гелена      Абалакова   \n",
              "336     1336   27         NaN              Уфа  Авксентий     Алексеичев   \n",
              "478     1478   75         NaN          Грозный      Таира  Константинова   \n",
              "296     1296   60         NaN           Москва    Альфред         Черный   \n",
              "\n",
              "       reg_date tariff  \n",
              "333  2018-09-28  ultra  \n",
              "65   2018-03-08  smart  \n",
              "224  2018-04-24  smart  \n",
              "412  2018-06-05  ultra  \n",
              "20   2018-10-22  smart  \n",
              "248  2018-05-28  smart  \n",
              "87   2018-10-03  smart  \n",
              "336  2018-12-31  ultra  \n",
              "478  2018-07-16  smart  \n",
              "296  2018-06-05  smart  "
            ]
          },
          "execution_count": 4,
          "metadata": {},
          "output_type": "execute_result"
        }
      ],
      "source": [
        "users.sample(10)"
      ]
    },
    {
      "cell_type": "code",
      "execution_count": null,
      "metadata": {
        "id": "bZRH1l2hiSnN",
        "outputId": "7d550f8d-af30-47d6-9b8b-bd61810ab034"
      },
      "outputs": [
        {
          "name": "stdout",
          "output_type": "stream",
          "text": [
            "<class 'pandas.core.frame.DataFrame'>\n",
            "RangeIndex: 500 entries, 0 to 499\n",
            "Data columns (total 8 columns):\n",
            "user_id       500 non-null int64\n",
            "age           500 non-null int64\n",
            "churn_date    38 non-null object\n",
            "city          500 non-null object\n",
            "first_name    500 non-null object\n",
            "last_name     500 non-null object\n",
            "reg_date      500 non-null object\n",
            "tariff        500 non-null object\n",
            "dtypes: int64(2), object(6)\n",
            "memory usage: 31.4+ KB\n"
          ]
        }
      ],
      "source": [
        "users.info()"
      ]
    },
    {
      "cell_type": "markdown",
      "metadata": {
        "id": "Llhq0YzZiSnO"
      },
      "source": [
        "Пропуски есть только в переменной churn_date (38 пропусков). В нашем случае пропуски по этой переменной это адекватно - если значение пропущено, то тариф ещё действовал на момент выгрузки данных. Необходимо только заменить типы данных для переменных 'churn_date' и 'reg_date' на datetime."
      ]
    },
    {
      "cell_type": "code",
      "execution_count": null,
      "metadata": {
        "id": "cMRwcRkZiSnP"
      },
      "outputs": [],
      "source": [
        "users['churn_date'] = pd.to_datetime(users['churn_date'], format=\"%Y-%m-%d\")\n",
        "users['reg_date'] = pd.to_datetime(users['reg_date'], format=\"%Y-%m-%d\")"
      ]
    },
    {
      "cell_type": "code",
      "execution_count": null,
      "metadata": {
        "id": "oAocUFQriSnQ",
        "outputId": "f916ad58-a23e-4bdc-9a3e-5975ae029f83"
      },
      "outputs": [
        {
          "name": "stdout",
          "output_type": "stream",
          "text": [
            "<class 'pandas.core.frame.DataFrame'>\n",
            "RangeIndex: 500 entries, 0 to 499\n",
            "Data columns (total 8 columns):\n",
            "user_id       500 non-null int64\n",
            "age           500 non-null int64\n",
            "churn_date    38 non-null datetime64[ns]\n",
            "city          500 non-null object\n",
            "first_name    500 non-null object\n",
            "last_name     500 non-null object\n",
            "reg_date      500 non-null datetime64[ns]\n",
            "tariff        500 non-null object\n",
            "dtypes: datetime64[ns](2), int64(2), object(4)\n",
            "memory usage: 31.4+ KB\n"
          ]
        }
      ],
      "source": [
        "users.info()"
      ]
    },
    {
      "cell_type": "code",
      "execution_count": null,
      "metadata": {
        "id": "OjRjkQWbiSnQ",
        "outputId": "2c4b9a7f-5372-4d74-b64b-d0f3dd45ce5d"
      },
      "outputs": [
        {
          "data": {
            "text/plain": [
              "0"
            ]
          },
          "execution_count": 8,
          "metadata": {},
          "output_type": "execute_result"
        }
      ],
      "source": [
        "users.duplicated().sum()"
      ]
    },
    {
      "cell_type": "markdown",
      "metadata": {
        "id": "8GUL1kYyiSnR"
      },
      "source": [
        "Дубликатов в таблице нет!"
      ]
    },
    {
      "cell_type": "markdown",
      "metadata": {
        "id": "gENe5riBiSnS"
      },
      "source": [
        "Готово!"
      ]
    },
    {
      "cell_type": "markdown",
      "metadata": {
        "id": "LVU-5JpQiSnS"
      },
      "source": [
        "### Изучение таблицы calls"
      ]
    },
    {
      "cell_type": "code",
      "execution_count": null,
      "metadata": {
        "id": "g30p8OufiSnS",
        "outputId": "0dda748a-77d2-4b94-bde8-10b93757ec05"
      },
      "outputs": [
        {
          "data": {
            "text/html": [
              "<div>\n",
              "<style scoped>\n",
              "    .dataframe tbody tr th:only-of-type {\n",
              "        vertical-align: middle;\n",
              "    }\n",
              "\n",
              "    .dataframe tbody tr th {\n",
              "        vertical-align: top;\n",
              "    }\n",
              "\n",
              "    .dataframe thead th {\n",
              "        text-align: right;\n",
              "    }\n",
              "</style>\n",
              "<table border=\"1\" class=\"dataframe\">\n",
              "  <thead>\n",
              "    <tr style=\"text-align: right;\">\n",
              "      <th></th>\n",
              "      <th>id</th>\n",
              "      <th>call_date</th>\n",
              "      <th>duration</th>\n",
              "      <th>user_id</th>\n",
              "    </tr>\n",
              "  </thead>\n",
              "  <tbody>\n",
              "    <tr>\n",
              "      <td>132951</td>\n",
              "      <td>1341_181</td>\n",
              "      <td>2018-08-29</td>\n",
              "      <td>4.710</td>\n",
              "      <td>1341</td>\n",
              "    </tr>\n",
              "    <tr>\n",
              "      <td>148121</td>\n",
              "      <td>1375_952</td>\n",
              "      <td>2018-10-18</td>\n",
              "      <td>11.350</td>\n",
              "      <td>1375</td>\n",
              "    </tr>\n",
              "    <tr>\n",
              "      <td>171365</td>\n",
              "      <td>1424_12</td>\n",
              "      <td>2018-11-13</td>\n",
              "      <td>6.220</td>\n",
              "      <td>1424</td>\n",
              "    </tr>\n",
              "    <tr>\n",
              "      <td>198558</td>\n",
              "      <td>1488_20</td>\n",
              "      <td>2018-12-12</td>\n",
              "      <td>12.400</td>\n",
              "      <td>1488</td>\n",
              "    </tr>\n",
              "    <tr>\n",
              "      <td>192974</td>\n",
              "      <td>1472_787</td>\n",
              "      <td>2018-09-22</td>\n",
              "      <td>3.290</td>\n",
              "      <td>1472</td>\n",
              "    </tr>\n",
              "    <tr>\n",
              "      <td>142222</td>\n",
              "      <td>1360_665</td>\n",
              "      <td>2018-03-20</td>\n",
              "      <td>2.900</td>\n",
              "      <td>1360</td>\n",
              "    </tr>\n",
              "    <tr>\n",
              "      <td>6120</td>\n",
              "      <td>1017_316</td>\n",
              "      <td>2018-07-16</td>\n",
              "      <td>5.270</td>\n",
              "      <td>1017</td>\n",
              "    </tr>\n",
              "    <tr>\n",
              "      <td>170578</td>\n",
              "      <td>1421_141</td>\n",
              "      <td>2018-06-06</td>\n",
              "      <td>2.450</td>\n",
              "      <td>1421</td>\n",
              "    </tr>\n",
              "    <tr>\n",
              "      <td>129275</td>\n",
              "      <td>1331_171</td>\n",
              "      <td>2018-05-21</td>\n",
              "      <td>0.000</td>\n",
              "      <td>1331</td>\n",
              "    </tr>\n",
              "    <tr>\n",
              "      <td>176537</td>\n",
              "      <td>1435_455</td>\n",
              "      <td>2018-12-26</td>\n",
              "      <td>0.000</td>\n",
              "      <td>1435</td>\n",
              "    </tr>\n",
              "  </tbody>\n",
              "</table>\n",
              "</div>"
            ],
            "text/plain": [
              "              id   call_date  duration  user_id\n",
              "132951  1341_181  2018-08-29     4.710     1341\n",
              "148121  1375_952  2018-10-18    11.350     1375\n",
              "171365   1424_12  2018-11-13     6.220     1424\n",
              "198558   1488_20  2018-12-12    12.400     1488\n",
              "192974  1472_787  2018-09-22     3.290     1472\n",
              "142222  1360_665  2018-03-20     2.900     1360\n",
              "6120    1017_316  2018-07-16     5.270     1017\n",
              "170578  1421_141  2018-06-06     2.450     1421\n",
              "129275  1331_171  2018-05-21     0.000     1331\n",
              "176537  1435_455  2018-12-26     0.000     1435"
            ]
          },
          "execution_count": 9,
          "metadata": {},
          "output_type": "execute_result"
        }
      ],
      "source": [
        "calls.sample(10)"
      ]
    },
    {
      "cell_type": "code",
      "execution_count": null,
      "metadata": {
        "id": "osg70RuDiSnT",
        "outputId": "1097ddde-5625-4c4f-85f8-71341c29db61"
      },
      "outputs": [
        {
          "data": {
            "text/html": [
              "<div>\n",
              "<style scoped>\n",
              "    .dataframe tbody tr th:only-of-type {\n",
              "        vertical-align: middle;\n",
              "    }\n",
              "\n",
              "    .dataframe tbody tr th {\n",
              "        vertical-align: top;\n",
              "    }\n",
              "\n",
              "    .dataframe thead th {\n",
              "        text-align: right;\n",
              "    }\n",
              "</style>\n",
              "<table border=\"1\" class=\"dataframe\">\n",
              "  <thead>\n",
              "    <tr style=\"text-align: right;\">\n",
              "      <th></th>\n",
              "      <th>duration</th>\n",
              "      <th>user_id</th>\n",
              "    </tr>\n",
              "  </thead>\n",
              "  <tbody>\n",
              "    <tr>\n",
              "      <td>count</td>\n",
              "      <td>202607.000</td>\n",
              "      <td>202607.000</td>\n",
              "    </tr>\n",
              "    <tr>\n",
              "      <td>mean</td>\n",
              "      <td>6.756</td>\n",
              "      <td>1253.941</td>\n",
              "    </tr>\n",
              "    <tr>\n",
              "      <td>std</td>\n",
              "      <td>5.843</td>\n",
              "      <td>144.723</td>\n",
              "    </tr>\n",
              "    <tr>\n",
              "      <td>min</td>\n",
              "      <td>0.000</td>\n",
              "      <td>1000.000</td>\n",
              "    </tr>\n",
              "    <tr>\n",
              "      <td>25%</td>\n",
              "      <td>1.300</td>\n",
              "      <td>1126.000</td>\n",
              "    </tr>\n",
              "    <tr>\n",
              "      <td>50%</td>\n",
              "      <td>6.000</td>\n",
              "      <td>1260.000</td>\n",
              "    </tr>\n",
              "    <tr>\n",
              "      <td>75%</td>\n",
              "      <td>10.700</td>\n",
              "      <td>1379.000</td>\n",
              "    </tr>\n",
              "    <tr>\n",
              "      <td>max</td>\n",
              "      <td>38.000</td>\n",
              "      <td>1499.000</td>\n",
              "    </tr>\n",
              "  </tbody>\n",
              "</table>\n",
              "</div>"
            ],
            "text/plain": [
              "        duration    user_id\n",
              "count 202607.000 202607.000\n",
              "mean       6.756   1253.941\n",
              "std        5.843    144.723\n",
              "min        0.000   1000.000\n",
              "25%        1.300   1126.000\n",
              "50%        6.000   1260.000\n",
              "75%       10.700   1379.000\n",
              "max       38.000   1499.000"
            ]
          },
          "execution_count": 10,
          "metadata": {},
          "output_type": "execute_result"
        }
      ],
      "source": [
        "calls.describe()"
      ]
    },
    {
      "cell_type": "code",
      "execution_count": null,
      "metadata": {
        "id": "TB15-BtLiSnT",
        "outputId": "321018f2-1c54-4d3c-eb07-538aa73a93dd"
      },
      "outputs": [
        {
          "name": "stdout",
          "output_type": "stream",
          "text": [
            "<class 'pandas.core.frame.DataFrame'>\n",
            "RangeIndex: 202607 entries, 0 to 202606\n",
            "Data columns (total 4 columns):\n",
            "id           202607 non-null object\n",
            "call_date    202607 non-null object\n",
            "duration     202607 non-null float64\n",
            "user_id      202607 non-null int64\n",
            "dtypes: float64(1), int64(1), object(2)\n",
            "memory usage: 6.2+ MB\n"
          ]
        }
      ],
      "source": [
        "calls.info()"
      ]
    },
    {
      "cell_type": "markdown",
      "metadata": {
        "id": "jlbUCAWUiSnT"
      },
      "source": [
        "Пропусков в данных нет! Необходимо только изменить тип данных на datetime для переменной 'call_date' и на int для переменной 'id' для однообразия (другие переменные с id у нас принадлежат к типу данных int).\n",
        "\n",
        "**Обратите внимание:** «Мегалайн» всегда округляет вверх значения минут и мегабайтов. Если пользователь проговорил всего 1 секунду, в тарифе засчитывается целая минута. Поэтому переменную \"duration\" (длительность звонка в минутах) следуют округлить вверх."
      ]
    },
    {
      "cell_type": "code",
      "execution_count": null,
      "metadata": {
        "id": "DdipGOAsiSnU"
      },
      "outputs": [],
      "source": [
        "calls['call_date'] = pd.to_datetime(calls['call_date'], format=\"%Y-%m-%d\")"
      ]
    },
    {
      "cell_type": "code",
      "execution_count": null,
      "metadata": {
        "id": "mY1Jnk3uiSnU"
      },
      "outputs": [],
      "source": [
        "calls['id'] = calls['id'].astype('int')"
      ]
    },
    {
      "cell_type": "code",
      "execution_count": null,
      "metadata": {
        "id": "xcMlpUvliSnU"
      },
      "outputs": [],
      "source": [
        "calls['duration'] = np.ceil(calls['duration']).astype('int')"
      ]
    },
    {
      "cell_type": "code",
      "execution_count": null,
      "metadata": {
        "id": "f0R6RSe_iSnV",
        "outputId": "cd797552-02d2-4b74-fd52-e35e01bf5ac5"
      },
      "outputs": [
        {
          "data": {
            "text/html": [
              "<div>\n",
              "<style scoped>\n",
              "    .dataframe tbody tr th:only-of-type {\n",
              "        vertical-align: middle;\n",
              "    }\n",
              "\n",
              "    .dataframe tbody tr th {\n",
              "        vertical-align: top;\n",
              "    }\n",
              "\n",
              "    .dataframe thead th {\n",
              "        text-align: right;\n",
              "    }\n",
              "</style>\n",
              "<table border=\"1\" class=\"dataframe\">\n",
              "  <thead>\n",
              "    <tr style=\"text-align: right;\">\n",
              "      <th></th>\n",
              "      <th>id</th>\n",
              "      <th>call_date</th>\n",
              "      <th>duration</th>\n",
              "      <th>user_id</th>\n",
              "    </tr>\n",
              "  </thead>\n",
              "  <tbody>\n",
              "    <tr>\n",
              "      <td>0</td>\n",
              "      <td>10000</td>\n",
              "      <td>2018-07-25</td>\n",
              "      <td>0</td>\n",
              "      <td>1000</td>\n",
              "    </tr>\n",
              "    <tr>\n",
              "      <td>1</td>\n",
              "      <td>10001</td>\n",
              "      <td>2018-08-17</td>\n",
              "      <td>0</td>\n",
              "      <td>1000</td>\n",
              "    </tr>\n",
              "    <tr>\n",
              "      <td>2</td>\n",
              "      <td>10002</td>\n",
              "      <td>2018-06-11</td>\n",
              "      <td>3</td>\n",
              "      <td>1000</td>\n",
              "    </tr>\n",
              "    <tr>\n",
              "      <td>3</td>\n",
              "      <td>10003</td>\n",
              "      <td>2018-09-21</td>\n",
              "      <td>14</td>\n",
              "      <td>1000</td>\n",
              "    </tr>\n",
              "    <tr>\n",
              "      <td>4</td>\n",
              "      <td>10004</td>\n",
              "      <td>2018-12-15</td>\n",
              "      <td>6</td>\n",
              "      <td>1000</td>\n",
              "    </tr>\n",
              "  </tbody>\n",
              "</table>\n",
              "</div>"
            ],
            "text/plain": [
              "      id  call_date  duration  user_id\n",
              "0  10000 2018-07-25         0     1000\n",
              "1  10001 2018-08-17         0     1000\n",
              "2  10002 2018-06-11         3     1000\n",
              "3  10003 2018-09-21        14     1000\n",
              "4  10004 2018-12-15         6     1000"
            ]
          },
          "execution_count": 16,
          "metadata": {},
          "output_type": "execute_result"
        }
      ],
      "source": [
        "calls.head()"
      ]
    },
    {
      "cell_type": "code",
      "execution_count": null,
      "metadata": {
        "id": "dMhUWz6AiSnV",
        "outputId": "d9d7641f-cf1a-42ca-fdfd-5cadff8ab128"
      },
      "outputs": [
        {
          "data": {
            "text/plain": [
              "0     39613\n",
              "7     11510\n",
              "6     11457\n",
              "5     11411\n",
              "8     11272\n",
              "9     10973\n",
              "4     10918\n",
              "3     10362\n",
              "10    10186\n",
              "11     9385\n",
              "2      9194\n",
              "12     8448\n",
              "1      8402\n",
              "13     7486\n",
              "14     6554\n",
              "15     5505\n",
              "16     4551\n",
              "17     3671\n",
              "18     2984\n",
              "19     2411\n",
              "20     1806\n",
              "21     1304\n",
              "22      975\n",
              "23      720\n",
              "24      468\n",
              "25      363\n",
              "26      257\n",
              "27      151\n",
              "28      104\n",
              "29       56\n",
              "30       39\n",
              "31       30\n",
              "32       17\n",
              "33       10\n",
              "35        5\n",
              "34        3\n",
              "36        2\n",
              "37        2\n",
              "38        2\n",
              "Name: duration, dtype: int64"
            ]
          },
          "execution_count": 17,
          "metadata": {},
          "output_type": "execute_result"
        }
      ],
      "source": [
        "calls['duration'].value_counts()"
      ]
    },
    {
      "cell_type": "markdown",
      "metadata": {
        "id": "_BJnQqw_iSnW"
      },
      "source": [
        "Обратите внимание, что длительность многих звонков (39613)— 0.0 минут. Это могут быть пропущенные звонки. Предлагаем от них избавиться."
      ]
    },
    {
      "cell_type": "code",
      "execution_count": null,
      "metadata": {
        "id": "YQhcnkpPiSnW"
      },
      "outputs": [],
      "source": [
        "calls = calls.drop(calls[calls['duration'] == 0].index)"
      ]
    },
    {
      "cell_type": "code",
      "execution_count": null,
      "metadata": {
        "id": "XSZipMNViSnW",
        "outputId": "c0514e5c-547e-4dfc-f8a5-a9e90ae5b6f2"
      },
      "outputs": [
        {
          "data": {
            "text/html": [
              "<div>\n",
              "<style scoped>\n",
              "    .dataframe tbody tr th:only-of-type {\n",
              "        vertical-align: middle;\n",
              "    }\n",
              "\n",
              "    .dataframe tbody tr th {\n",
              "        vertical-align: top;\n",
              "    }\n",
              "\n",
              "    .dataframe thead th {\n",
              "        text-align: right;\n",
              "    }\n",
              "</style>\n",
              "<table border=\"1\" class=\"dataframe\">\n",
              "  <thead>\n",
              "    <tr style=\"text-align: right;\">\n",
              "      <th></th>\n",
              "      <th>id</th>\n",
              "      <th>duration</th>\n",
              "      <th>user_id</th>\n",
              "    </tr>\n",
              "  </thead>\n",
              "  <tbody>\n",
              "    <tr>\n",
              "      <td>count</td>\n",
              "      <td>162994.000</td>\n",
              "      <td>162994.000</td>\n",
              "      <td>162994.000</td>\n",
              "    </tr>\n",
              "    <tr>\n",
              "      <td>mean</td>\n",
              "      <td>1212659.511</td>\n",
              "      <td>8.898</td>\n",
              "      <td>1254.150</td>\n",
              "    </tr>\n",
              "    <tr>\n",
              "      <td>std</td>\n",
              "      <td>1728140.932</td>\n",
              "      <td>5.354</td>\n",
              "      <td>144.751</td>\n",
              "    </tr>\n",
              "    <tr>\n",
              "      <td>min</td>\n",
              "      <td>10002.000</td>\n",
              "      <td>1.000</td>\n",
              "      <td>1000.000</td>\n",
              "    </tr>\n",
              "    <tr>\n",
              "      <td>25%</td>\n",
              "      <td>1012247.250</td>\n",
              "      <td>5.000</td>\n",
              "      <td>1126.000</td>\n",
              "    </tr>\n",
              "    <tr>\n",
              "      <td>50%</td>\n",
              "      <td>1179350.500</td>\n",
              "      <td>8.000</td>\n",
              "      <td>1261.000</td>\n",
              "    </tr>\n",
              "    <tr>\n",
              "      <td>75%</td>\n",
              "      <td>1358214.750</td>\n",
              "      <td>12.000</td>\n",
              "      <td>1379.000</td>\n",
              "    </tr>\n",
              "    <tr>\n",
              "      <td>max</td>\n",
              "      <td>14581154.000</td>\n",
              "      <td>38.000</td>\n",
              "      <td>1499.000</td>\n",
              "    </tr>\n",
              "  </tbody>\n",
              "</table>\n",
              "</div>"
            ],
            "text/plain": [
              "                id   duration    user_id\n",
              "count   162994.000 162994.000 162994.000\n",
              "mean   1212659.511      8.898   1254.150\n",
              "std    1728140.932      5.354    144.751\n",
              "min      10002.000      1.000   1000.000\n",
              "25%    1012247.250      5.000   1126.000\n",
              "50%    1179350.500      8.000   1261.000\n",
              "75%    1358214.750     12.000   1379.000\n",
              "max   14581154.000     38.000   1499.000"
            ]
          },
          "execution_count": 19,
          "metadata": {},
          "output_type": "execute_result"
        }
      ],
      "source": [
        "calls.describe()"
      ]
    },
    {
      "cell_type": "code",
      "execution_count": null,
      "metadata": {
        "id": "9zdN44kgiSnW",
        "outputId": "760db642-7990-4395-d6c3-3783e7cee98e"
      },
      "outputs": [
        {
          "name": "stdout",
          "output_type": "stream",
          "text": [
            "<class 'pandas.core.frame.DataFrame'>\n",
            "Int64Index: 162994 entries, 2 to 202606\n",
            "Data columns (total 4 columns):\n",
            "id           162994 non-null int64\n",
            "call_date    162994 non-null datetime64[ns]\n",
            "duration     162994 non-null int64\n",
            "user_id      162994 non-null int64\n",
            "dtypes: datetime64[ns](1), int64(3)\n",
            "memory usage: 6.2 MB\n"
          ]
        }
      ],
      "source": [
        "calls.info()"
      ]
    },
    {
      "cell_type": "code",
      "execution_count": null,
      "metadata": {
        "id": "O7K9JxFyiSnX",
        "outputId": "350b99e5-58c3-4081-a323-81059d843dd2"
      },
      "outputs": [
        {
          "data": {
            "text/plain": [
              "7     11510\n",
              "6     11457\n",
              "5     11411\n",
              "8     11272\n",
              "9     10973\n",
              "4     10918\n",
              "3     10362\n",
              "10    10186\n",
              "11     9385\n",
              "2      9194\n",
              "12     8448\n",
              "1      8402\n",
              "13     7486\n",
              "14     6554\n",
              "15     5505\n",
              "16     4551\n",
              "17     3671\n",
              "18     2984\n",
              "19     2411\n",
              "20     1806\n",
              "21     1304\n",
              "22      975\n",
              "23      720\n",
              "24      468\n",
              "25      363\n",
              "26      257\n",
              "27      151\n",
              "28      104\n",
              "29       56\n",
              "30       39\n",
              "31       30\n",
              "32       17\n",
              "33       10\n",
              "35        5\n",
              "34        3\n",
              "36        2\n",
              "37        2\n",
              "38        2\n",
              "Name: duration, dtype: int64"
            ]
          },
          "execution_count": 21,
          "metadata": {},
          "output_type": "execute_result"
        }
      ],
      "source": [
        "calls['duration'].value_counts()"
      ]
    },
    {
      "cell_type": "code",
      "execution_count": null,
      "metadata": {
        "id": "TP_nBYm9iSnX",
        "outputId": "c8f5e948-10f1-49de-ac36-bf113a1e19df"
      },
      "outputs": [
        {
          "data": {
            "text/plain": [
              "0"
            ]
          },
          "execution_count": 22,
          "metadata": {},
          "output_type": "execute_result"
        }
      ],
      "source": [
        "calls.duplicated().sum()"
      ]
    },
    {
      "cell_type": "markdown",
      "metadata": {
        "id": "EJTF-ifdiSnX"
      },
      "source": [
        "Дубликатов в таблицах нет!"
      ]
    },
    {
      "cell_type": "markdown",
      "metadata": {
        "id": "jKjdLruDiSnX"
      },
      "source": [
        "Типы данных поправили, удалили из датафрейма пропущенные звонки. Идем дальше!"
      ]
    },
    {
      "cell_type": "markdown",
      "metadata": {
        "id": "8EPr2LQ5iSnY"
      },
      "source": [
        "### Изучение таблицы messages"
      ]
    },
    {
      "cell_type": "code",
      "execution_count": null,
      "metadata": {
        "id": "XqvI4sTFiSnY",
        "outputId": "6709de13-e915-4345-b43b-f4f213d1d3c6"
      },
      "outputs": [
        {
          "data": {
            "text/html": [
              "<div>\n",
              "<style scoped>\n",
              "    .dataframe tbody tr th:only-of-type {\n",
              "        vertical-align: middle;\n",
              "    }\n",
              "\n",
              "    .dataframe tbody tr th {\n",
              "        vertical-align: top;\n",
              "    }\n",
              "\n",
              "    .dataframe thead th {\n",
              "        text-align: right;\n",
              "    }\n",
              "</style>\n",
              "<table border=\"1\" class=\"dataframe\">\n",
              "  <thead>\n",
              "    <tr style=\"text-align: right;\">\n",
              "      <th></th>\n",
              "      <th>id</th>\n",
              "      <th>message_date</th>\n",
              "      <th>user_id</th>\n",
              "    </tr>\n",
              "  </thead>\n",
              "  <tbody>\n",
              "    <tr>\n",
              "      <td>57883</td>\n",
              "      <td>1253_392</td>\n",
              "      <td>2018-08-19</td>\n",
              "      <td>1253</td>\n",
              "    </tr>\n",
              "    <tr>\n",
              "      <td>89601</td>\n",
              "      <td>1374_49</td>\n",
              "      <td>2018-10-16</td>\n",
              "      <td>1374</td>\n",
              "    </tr>\n",
              "    <tr>\n",
              "      <td>50054</td>\n",
              "      <td>1222_258</td>\n",
              "      <td>2018-09-13</td>\n",
              "      <td>1222</td>\n",
              "    </tr>\n",
              "    <tr>\n",
              "      <td>92435</td>\n",
              "      <td>1381_388</td>\n",
              "      <td>2018-12-02</td>\n",
              "      <td>1381</td>\n",
              "    </tr>\n",
              "    <tr>\n",
              "      <td>104375</td>\n",
              "      <td>1424_228</td>\n",
              "      <td>2018-09-28</td>\n",
              "      <td>1424</td>\n",
              "    </tr>\n",
              "    <tr>\n",
              "      <td>68310</td>\n",
              "      <td>1289_69</td>\n",
              "      <td>2018-09-06</td>\n",
              "      <td>1289</td>\n",
              "    </tr>\n",
              "    <tr>\n",
              "      <td>80654</td>\n",
              "      <td>1335_566</td>\n",
              "      <td>2018-09-04</td>\n",
              "      <td>1335</td>\n",
              "    </tr>\n",
              "    <tr>\n",
              "      <td>79256</td>\n",
              "      <td>1331_479</td>\n",
              "      <td>2018-12-30</td>\n",
              "      <td>1331</td>\n",
              "    </tr>\n",
              "    <tr>\n",
              "      <td>27822</td>\n",
              "      <td>1119_345</td>\n",
              "      <td>2018-07-14</td>\n",
              "      <td>1119</td>\n",
              "    </tr>\n",
              "    <tr>\n",
              "      <td>56569</td>\n",
              "      <td>1251_33</td>\n",
              "      <td>2018-06-05</td>\n",
              "      <td>1251</td>\n",
              "    </tr>\n",
              "  </tbody>\n",
              "</table>\n",
              "</div>"
            ],
            "text/plain": [
              "              id message_date  user_id\n",
              "57883   1253_392   2018-08-19     1253\n",
              "89601    1374_49   2018-10-16     1374\n",
              "50054   1222_258   2018-09-13     1222\n",
              "92435   1381_388   2018-12-02     1381\n",
              "104375  1424_228   2018-09-28     1424\n",
              "68310    1289_69   2018-09-06     1289\n",
              "80654   1335_566   2018-09-04     1335\n",
              "79256   1331_479   2018-12-30     1331\n",
              "27822   1119_345   2018-07-14     1119\n",
              "56569    1251_33   2018-06-05     1251"
            ]
          },
          "execution_count": 23,
          "metadata": {},
          "output_type": "execute_result"
        }
      ],
      "source": [
        "messages.sample(10)"
      ]
    },
    {
      "cell_type": "code",
      "execution_count": null,
      "metadata": {
        "id": "qf8gLBb3iSnY",
        "outputId": "0d9c8b7b-3f37-43d0-c252-f5cc1ddeb8b0"
      },
      "outputs": [
        {
          "name": "stdout",
          "output_type": "stream",
          "text": [
            "<class 'pandas.core.frame.DataFrame'>\n",
            "RangeIndex: 123036 entries, 0 to 123035\n",
            "Data columns (total 3 columns):\n",
            "id              123036 non-null object\n",
            "message_date    123036 non-null object\n",
            "user_id         123036 non-null int64\n",
            "dtypes: int64(1), object(2)\n",
            "memory usage: 2.8+ MB\n"
          ]
        }
      ],
      "source": [
        "messages.info()"
      ]
    },
    {
      "cell_type": "markdown",
      "metadata": {
        "id": "zs3GIWeAiSnY"
      },
      "source": [
        "Аналогичным образом заменяем типы данных: на int в переменной 'id' и на datetime в 'message_date'."
      ]
    },
    {
      "cell_type": "code",
      "execution_count": null,
      "metadata": {
        "id": "ecThXzz8iSnZ"
      },
      "outputs": [],
      "source": [
        "messages['id'] = messages['id'].astype('int')"
      ]
    },
    {
      "cell_type": "code",
      "execution_count": null,
      "metadata": {
        "id": "ZxCkZPRfiSnZ"
      },
      "outputs": [],
      "source": [
        "messages['message_date'] = pd.to_datetime(messages['message_date'], format=\"%Y-%m-%d\")"
      ]
    },
    {
      "cell_type": "code",
      "execution_count": null,
      "metadata": {
        "id": "irJafK49iSnZ",
        "outputId": "c7c8d92f-68e7-412c-9bab-b502a80199d0"
      },
      "outputs": [
        {
          "name": "stdout",
          "output_type": "stream",
          "text": [
            "<class 'pandas.core.frame.DataFrame'>\n",
            "RangeIndex: 123036 entries, 0 to 123035\n",
            "Data columns (total 3 columns):\n",
            "id              123036 non-null int64\n",
            "message_date    123036 non-null datetime64[ns]\n",
            "user_id         123036 non-null int64\n",
            "dtypes: datetime64[ns](1), int64(2)\n",
            "memory usage: 2.8 MB\n"
          ]
        }
      ],
      "source": [
        "messages.info()"
      ]
    },
    {
      "cell_type": "code",
      "execution_count": null,
      "metadata": {
        "id": "xfnOWRzkiSnZ",
        "outputId": "65fa3697-3d02-4812-a830-7b80dddde09e"
      },
      "outputs": [
        {
          "data": {
            "text/plain": [
              "0"
            ]
          },
          "execution_count": 28,
          "metadata": {},
          "output_type": "execute_result"
        }
      ],
      "source": [
        "messages.duplicated().sum()"
      ]
    },
    {
      "cell_type": "markdown",
      "metadata": {
        "id": "vd2nYbN_iSna"
      },
      "source": [
        "Дубликатов в таблицах нет!"
      ]
    },
    {
      "cell_type": "markdown",
      "metadata": {
        "id": "DSu_BwWmiSna"
      },
      "source": [
        "Готово!"
      ]
    },
    {
      "cell_type": "markdown",
      "metadata": {
        "id": "nMw_R4lLiSna"
      },
      "source": [
        "### Изучение таблицы internet"
      ]
    },
    {
      "cell_type": "code",
      "execution_count": null,
      "metadata": {
        "id": "AfiSMAaTiSna",
        "outputId": "959992b9-82e3-482a-c1cb-79bca043740f"
      },
      "outputs": [
        {
          "data": {
            "text/html": [
              "<div>\n",
              "<style scoped>\n",
              "    .dataframe tbody tr th:only-of-type {\n",
              "        vertical-align: middle;\n",
              "    }\n",
              "\n",
              "    .dataframe tbody tr th {\n",
              "        vertical-align: top;\n",
              "    }\n",
              "\n",
              "    .dataframe thead th {\n",
              "        text-align: right;\n",
              "    }\n",
              "</style>\n",
              "<table border=\"1\" class=\"dataframe\">\n",
              "  <thead>\n",
              "    <tr style=\"text-align: right;\">\n",
              "      <th></th>\n",
              "      <th>id</th>\n",
              "      <th>mb_used</th>\n",
              "      <th>session_date</th>\n",
              "      <th>user_id</th>\n",
              "    </tr>\n",
              "  </thead>\n",
              "  <tbody>\n",
              "    <tr>\n",
              "      <td>0</td>\n",
              "      <td>1000_0</td>\n",
              "      <td>112.950</td>\n",
              "      <td>2018-11-25</td>\n",
              "      <td>1000</td>\n",
              "    </tr>\n",
              "    <tr>\n",
              "      <td>1</td>\n",
              "      <td>1000_1</td>\n",
              "      <td>1052.810</td>\n",
              "      <td>2018-09-07</td>\n",
              "      <td>1000</td>\n",
              "    </tr>\n",
              "    <tr>\n",
              "      <td>2</td>\n",
              "      <td>1000_2</td>\n",
              "      <td>1197.260</td>\n",
              "      <td>2018-06-25</td>\n",
              "      <td>1000</td>\n",
              "    </tr>\n",
              "    <tr>\n",
              "      <td>3</td>\n",
              "      <td>1000_3</td>\n",
              "      <td>550.270</td>\n",
              "      <td>2018-08-22</td>\n",
              "      <td>1000</td>\n",
              "    </tr>\n",
              "    <tr>\n",
              "      <td>4</td>\n",
              "      <td>1000_4</td>\n",
              "      <td>302.560</td>\n",
              "      <td>2018-09-24</td>\n",
              "      <td>1000</td>\n",
              "    </tr>\n",
              "  </tbody>\n",
              "</table>\n",
              "</div>"
            ],
            "text/plain": [
              "       id  mb_used session_date  user_id\n",
              "0  1000_0  112.950   2018-11-25     1000\n",
              "1  1000_1 1052.810   2018-09-07     1000\n",
              "2  1000_2 1197.260   2018-06-25     1000\n",
              "3  1000_3  550.270   2018-08-22     1000\n",
              "4  1000_4  302.560   2018-09-24     1000"
            ]
          },
          "execution_count": 29,
          "metadata": {},
          "output_type": "execute_result"
        }
      ],
      "source": [
        "internet.head()"
      ]
    },
    {
      "cell_type": "code",
      "execution_count": null,
      "metadata": {
        "id": "CJvgcop-iSna",
        "outputId": "396866c9-7baa-4419-8e1d-b6019464b810"
      },
      "outputs": [
        {
          "data": {
            "text/html": [
              "<div>\n",
              "<style scoped>\n",
              "    .dataframe tbody tr th:only-of-type {\n",
              "        vertical-align: middle;\n",
              "    }\n",
              "\n",
              "    .dataframe tbody tr th {\n",
              "        vertical-align: top;\n",
              "    }\n",
              "\n",
              "    .dataframe thead th {\n",
              "        text-align: right;\n",
              "    }\n",
              "</style>\n",
              "<table border=\"1\" class=\"dataframe\">\n",
              "  <thead>\n",
              "    <tr style=\"text-align: right;\">\n",
              "      <th></th>\n",
              "      <th>mb_used</th>\n",
              "      <th>user_id</th>\n",
              "    </tr>\n",
              "  </thead>\n",
              "  <tbody>\n",
              "    <tr>\n",
              "      <td>count</td>\n",
              "      <td>149396.000</td>\n",
              "      <td>149396.000</td>\n",
              "    </tr>\n",
              "    <tr>\n",
              "      <td>mean</td>\n",
              "      <td>370.192</td>\n",
              "      <td>1252.100</td>\n",
              "    </tr>\n",
              "    <tr>\n",
              "      <td>std</td>\n",
              "      <td>278.301</td>\n",
              "      <td>144.051</td>\n",
              "    </tr>\n",
              "    <tr>\n",
              "      <td>min</td>\n",
              "      <td>0.000</td>\n",
              "      <td>1000.000</td>\n",
              "    </tr>\n",
              "    <tr>\n",
              "      <td>25%</td>\n",
              "      <td>138.188</td>\n",
              "      <td>1130.000</td>\n",
              "    </tr>\n",
              "    <tr>\n",
              "      <td>50%</td>\n",
              "      <td>348.015</td>\n",
              "      <td>1251.000</td>\n",
              "    </tr>\n",
              "    <tr>\n",
              "      <td>75%</td>\n",
              "      <td>559.553</td>\n",
              "      <td>1380.000</td>\n",
              "    </tr>\n",
              "    <tr>\n",
              "      <td>max</td>\n",
              "      <td>1724.830</td>\n",
              "      <td>1499.000</td>\n",
              "    </tr>\n",
              "  </tbody>\n",
              "</table>\n",
              "</div>"
            ],
            "text/plain": [
              "         mb_used    user_id\n",
              "count 149396.000 149396.000\n",
              "mean     370.192   1252.100\n",
              "std      278.301    144.051\n",
              "min        0.000   1000.000\n",
              "25%      138.188   1130.000\n",
              "50%      348.015   1251.000\n",
              "75%      559.553   1380.000\n",
              "max     1724.830   1499.000"
            ]
          },
          "execution_count": 30,
          "metadata": {},
          "output_type": "execute_result"
        }
      ],
      "source": [
        "internet.describe()"
      ]
    },
    {
      "cell_type": "code",
      "execution_count": null,
      "metadata": {
        "id": "pOkUf_gXiSna",
        "outputId": "147e0e32-7891-4d2b-ac00-6ea919e4722d"
      },
      "outputs": [
        {
          "name": "stdout",
          "output_type": "stream",
          "text": [
            "<class 'pandas.core.frame.DataFrame'>\n",
            "Int64Index: 149396 entries, 0 to 149395\n",
            "Data columns (total 4 columns):\n",
            "id              149396 non-null object\n",
            "mb_used         149396 non-null float64\n",
            "session_date    149396 non-null object\n",
            "user_id         149396 non-null int64\n",
            "dtypes: float64(1), int64(1), object(2)\n",
            "memory usage: 5.7+ MB\n"
          ]
        }
      ],
      "source": [
        "internet.info()"
      ]
    },
    {
      "cell_type": "markdown",
      "metadata": {
        "id": "H3A_4dw1iSnb"
      },
      "source": [
        "Пропусков в данных нет.\n",
        "\n",
        "Заменим типы данных в переменных: на int для переменной 'id', на datetime для переменной 'session_date' и округлим значения в переменной \"mb_used\"."
      ]
    },
    {
      "cell_type": "code",
      "execution_count": null,
      "metadata": {
        "id": "0mMzhbNgiSnb"
      },
      "outputs": [],
      "source": [
        "internet['id'] = internet['id'].astype('int')"
      ]
    },
    {
      "cell_type": "code",
      "execution_count": null,
      "metadata": {
        "id": "ixwQ3BxFiSnb"
      },
      "outputs": [],
      "source": [
        "internet['mb_used'] = np.ceil(internet['mb_used']).astype('int')"
      ]
    },
    {
      "cell_type": "code",
      "execution_count": null,
      "metadata": {
        "id": "GRIWl-p0iSnb"
      },
      "outputs": [],
      "source": [
        "internet['session_date'] = pd.to_datetime(internet['session_date'], format=\"%Y-%m-%d\")"
      ]
    },
    {
      "cell_type": "code",
      "execution_count": null,
      "metadata": {
        "id": "3spWLEeWiSnb",
        "outputId": "e557665d-b979-4306-a60b-68d44074026a"
      },
      "outputs": [
        {
          "name": "stdout",
          "output_type": "stream",
          "text": [
            "<class 'pandas.core.frame.DataFrame'>\n",
            "Int64Index: 149396 entries, 0 to 149395\n",
            "Data columns (total 4 columns):\n",
            "id              149396 non-null int64\n",
            "mb_used         149396 non-null int64\n",
            "session_date    149396 non-null datetime64[ns]\n",
            "user_id         149396 non-null int64\n",
            "dtypes: datetime64[ns](1), int64(3)\n",
            "memory usage: 5.7 MB\n"
          ]
        }
      ],
      "source": [
        "internet.info()"
      ]
    },
    {
      "cell_type": "code",
      "execution_count": null,
      "metadata": {
        "id": "8GtEFntHiSnc",
        "outputId": "74808843-6864-4305-cb86-3a5e018c28c2"
      },
      "outputs": [
        {
          "data": {
            "text/plain": [
              "0       19598\n",
              "333       231\n",
              "382       228\n",
              "377       224\n",
              "334       222\n",
              "        ...  \n",
              "1495        1\n",
              "1624        1\n",
              "1371        1\n",
              "1423        1\n",
              "1279        1\n",
              "Name: mb_used, Length: 1424, dtype: int64"
            ]
          },
          "execution_count": 37,
          "metadata": {},
          "output_type": "execute_result"
        }
      ],
      "source": [
        "internet['mb_used'].value_counts()"
      ]
    },
    {
      "cell_type": "code",
      "execution_count": null,
      "metadata": {
        "id": "LRpMjDmTiSnc",
        "outputId": "f07a6706-b200-42b1-83dd-da7feb9cbf7e"
      },
      "outputs": [
        {
          "data": {
            "image/png": "[encoded data removed]",
            "text/plain": [
              "<Figure size 432x288 with 1 Axes>"
            ]
          },
          "metadata": {
            "needs_background": "light"
          },
          "output_type": "display_data"
        }
      ],
      "source": [
        "internet['mb_used'].hist(bins=100)\n",
        "plt.show()"
      ]
    },
    {
      "cell_type": "markdown",
      "metadata": {
        "id": "csbBtIgFiSnc"
      },
      "source": [
        "Также как со звонками, по количеству использованных МБ также наблюдается большая доля нулевых значений. Однако в отличие от звонков, где нулевые значения могли означать пропущенные звонки, нулевые МБ, мне кажется, это нормально. Не все люди используют мобильный интернет, например, некоторые представители старшего поколения, которым телефон нужен только для звонков (надеюсь, не слишком кидаюсь стереотипами). Или люди, которые работают из дома, могут пользоваться вайфаем, а не расходовать мобильный интернет. В общем, на самом деле, мне кажется, естественных причин, по которым могут быть нулевые МБ, множество. Однако, судя по гистограмме, нулевых значений как-то аномально много, поэтому лучше такую аномалию удалить также как мы удалили нулевые звонки. "
      ]
    },
    {
      "cell_type": "code",
      "execution_count": null,
      "metadata": {
        "id": "d9dPCAxWiSnc"
      },
      "outputs": [],
      "source": [
        "internet = internet.drop(internet[internet['mb_used'] == 0].index)"
      ]
    },
    {
      "cell_type": "code",
      "execution_count": null,
      "metadata": {
        "id": "AX_g1ANeiSnc",
        "outputId": "267f3a8c-4676-4531-be46-5ec3b46d453a"
      },
      "outputs": [
        {
          "data": {
            "text/plain": [
              "333     231\n",
              "382     228\n",
              "377     224\n",
              "253     222\n",
              "334     222\n",
              "       ... \n",
              "1324      1\n",
              "1230      1\n",
              "1624      1\n",
              "1222      1\n",
              "1279      1\n",
              "Name: mb_used, Length: 1423, dtype: int64"
            ]
          },
          "execution_count": 40,
          "metadata": {},
          "output_type": "execute_result"
        }
      ],
      "source": [
        "internet['mb_used'].value_counts()"
      ]
    },
    {
      "cell_type": "code",
      "execution_count": null,
      "metadata": {
        "id": "2HYMH0QEiSnd",
        "outputId": "f61377fb-19e2-453d-c226-ccb07797cb42"
      },
      "outputs": [
        {
          "data": {
            "image/png": "[encoded data removed]",
            "text/plain": [
              "<Figure size 432x288 with 1 Axes>"
            ]
          },
          "metadata": {
            "needs_background": "light"
          },
          "output_type": "display_data"
        }
      ],
      "source": [
        "internet['mb_used'].hist(bins=100)\n",
        "plt.show()"
      ]
    },
    {
      "cell_type": "markdown",
      "metadata": {
        "id": "sAPuiutRiSnd"
      },
      "source": [
        "Готово! Распределение стало красивее)"
      ]
    },
    {
      "cell_type": "code",
      "execution_count": null,
      "metadata": {
        "id": "YNsIjEbriSnd",
        "outputId": "7de87c73-7429-4f20-f23e-43aeabfc0616"
      },
      "outputs": [
        {
          "data": {
            "text/plain": [
              "0"
            ]
          },
          "execution_count": 42,
          "metadata": {},
          "output_type": "execute_result"
        }
      ],
      "source": [
        "internet.duplicated().sum()"
      ]
    },
    {
      "cell_type": "markdown",
      "metadata": {
        "id": "HRuw4LIjiSnd"
      },
      "source": [
        "Дубликатов в таблице нет!"
      ]
    },
    {
      "cell_type": "markdown",
      "metadata": {
        "id": "pRmRs87DiSne"
      },
      "source": [
        "### Изучение таблицы tariffs"
      ]
    },
    {
      "cell_type": "code",
      "execution_count": null,
      "metadata": {
        "id": "fhjZeFaZiSne",
        "outputId": "5a01ac91-be13-40f5-a25e-e8de806e2367"
      },
      "outputs": [
        {
          "data": {
            "text/html": [
              "<div>\n",
              "<style scoped>\n",
              "    .dataframe tbody tr th:only-of-type {\n",
              "        vertical-align: middle;\n",
              "    }\n",
              "\n",
              "    .dataframe tbody tr th {\n",
              "        vertical-align: top;\n",
              "    }\n",
              "\n",
              "    .dataframe thead th {\n",
              "        text-align: right;\n",
              "    }\n",
              "</style>\n",
              "<table border=\"1\" class=\"dataframe\">\n",
              "  <thead>\n",
              "    <tr style=\"text-align: right;\">\n",
              "      <th></th>\n",
              "      <th>messages_included</th>\n",
              "      <th>mb_per_month_included</th>\n",
              "      <th>minutes_included</th>\n",
              "      <th>rub_monthly_fee</th>\n",
              "      <th>rub_per_gb</th>\n",
              "      <th>rub_per_message</th>\n",
              "      <th>rub_per_minute</th>\n",
              "      <th>tariff_name</th>\n",
              "    </tr>\n",
              "  </thead>\n",
              "  <tbody>\n",
              "    <tr>\n",
              "      <td>0</td>\n",
              "      <td>50</td>\n",
              "      <td>15360</td>\n",
              "      <td>500</td>\n",
              "      <td>550</td>\n",
              "      <td>200</td>\n",
              "      <td>3</td>\n",
              "      <td>3</td>\n",
              "      <td>smart</td>\n",
              "    </tr>\n",
              "    <tr>\n",
              "      <td>1</td>\n",
              "      <td>1000</td>\n",
              "      <td>30720</td>\n",
              "      <td>3000</td>\n",
              "      <td>1950</td>\n",
              "      <td>150</td>\n",
              "      <td>1</td>\n",
              "      <td>1</td>\n",
              "      <td>ultra</td>\n",
              "    </tr>\n",
              "  </tbody>\n",
              "</table>\n",
              "</div>"
            ],
            "text/plain": [
              "   messages_included  mb_per_month_included  minutes_included  \\\n",
              "0                 50                  15360               500   \n",
              "1               1000                  30720              3000   \n",
              "\n",
              "   rub_monthly_fee  rub_per_gb  rub_per_message  rub_per_minute tariff_name  \n",
              "0              550         200                3               3       smart  \n",
              "1             1950         150                1               1       ultra  "
            ]
          },
          "execution_count": 43,
          "metadata": {},
          "output_type": "execute_result"
        }
      ],
      "source": [
        "tariffs.head()"
      ]
    },
    {
      "cell_type": "code",
      "execution_count": null,
      "metadata": {
        "id": "aA3QupKSiSne"
      },
      "outputs": [],
      "source": [
        "tariffs = tariffs.rename(columns={'tariff_name':'tariff'})"
      ]
    },
    {
      "cell_type": "code",
      "execution_count": null,
      "metadata": {
        "id": "sGK9bGaiiSne",
        "outputId": "04441594-f355-451d-8b97-4aeb32e27d12"
      },
      "outputs": [
        {
          "name": "stdout",
          "output_type": "stream",
          "text": [
            "<class 'pandas.core.frame.DataFrame'>\n",
            "RangeIndex: 2 entries, 0 to 1\n",
            "Data columns (total 8 columns):\n",
            "messages_included        2 non-null int64\n",
            "mb_per_month_included    2 non-null int64\n",
            "minutes_included         2 non-null int64\n",
            "rub_monthly_fee          2 non-null int64\n",
            "rub_per_gb               2 non-null int64\n",
            "rub_per_message          2 non-null int64\n",
            "rub_per_minute           2 non-null int64\n",
            "tariff                   2 non-null object\n",
            "dtypes: int64(7), object(1)\n",
            "memory usage: 256.0+ bytes\n"
          ]
        }
      ],
      "source": [
        "tariffs.info()"
      ]
    },
    {
      "cell_type": "markdown",
      "metadata": {
        "id": "udm5mo94iSne"
      },
      "source": [
        "С таблицей все в порядке!"
      ]
    },
    {
      "cell_type": "markdown",
      "metadata": {
        "id": "BTvc7ms2iSne"
      },
      "source": [
        "## Подготовка данных (объединение таблиц)"
      ]
    },
    {
      "cell_type": "markdown",
      "metadata": {
        "id": "FahQpaSfiSnf"
      },
      "source": [
        "### Количество сделанных звонков и израсходованных минут разговора по месяцам"
      ]
    },
    {
      "cell_type": "markdown",
      "metadata": {
        "id": "EJfOEQrYiSnf"
      },
      "source": [
        "Необходимо посчитать **количество сделанных звонков и израсходованных минут разговора по месяцам**. Для этого для начала вычленим из переменной 'call_date' новую переменную с месяцем."
      ]
    },
    {
      "cell_type": "code",
      "execution_count": null,
      "metadata": {
        "id": "BKsKnGEaiSnf"
      },
      "outputs": [],
      "source": [
        "calls['month'] = calls['call_date'].dt.month"
      ]
    },
    {
      "cell_type": "code",
      "execution_count": null,
      "metadata": {
        "id": "_ThvkWJQiSnf",
        "outputId": "46aae835-ad0e-4000-b07e-90e673a93859"
      },
      "outputs": [
        {
          "data": {
            "text/html": [
              "<div>\n",
              "<style scoped>\n",
              "    .dataframe tbody tr th:only-of-type {\n",
              "        vertical-align: middle;\n",
              "    }\n",
              "\n",
              "    .dataframe tbody tr th {\n",
              "        vertical-align: top;\n",
              "    }\n",
              "\n",
              "    .dataframe thead th {\n",
              "        text-align: right;\n",
              "    }\n",
              "</style>\n",
              "<table border=\"1\" class=\"dataframe\">\n",
              "  <thead>\n",
              "    <tr style=\"text-align: right;\">\n",
              "      <th></th>\n",
              "      <th>id</th>\n",
              "      <th>call_date</th>\n",
              "      <th>duration</th>\n",
              "      <th>user_id</th>\n",
              "      <th>month</th>\n",
              "    </tr>\n",
              "  </thead>\n",
              "  <tbody>\n",
              "    <tr>\n",
              "      <td>2</td>\n",
              "      <td>10002</td>\n",
              "      <td>2018-06-11</td>\n",
              "      <td>3</td>\n",
              "      <td>1000</td>\n",
              "      <td>6</td>\n",
              "    </tr>\n",
              "    <tr>\n",
              "      <td>3</td>\n",
              "      <td>10003</td>\n",
              "      <td>2018-09-21</td>\n",
              "      <td>14</td>\n",
              "      <td>1000</td>\n",
              "      <td>9</td>\n",
              "    </tr>\n",
              "    <tr>\n",
              "      <td>4</td>\n",
              "      <td>10004</td>\n",
              "      <td>2018-12-15</td>\n",
              "      <td>6</td>\n",
              "      <td>1000</td>\n",
              "      <td>12</td>\n",
              "    </tr>\n",
              "    <tr>\n",
              "      <td>7</td>\n",
              "      <td>10007</td>\n",
              "      <td>2018-08-22</td>\n",
              "      <td>19</td>\n",
              "      <td>1000</td>\n",
              "      <td>8</td>\n",
              "    </tr>\n",
              "    <tr>\n",
              "      <td>8</td>\n",
              "      <td>10008</td>\n",
              "      <td>2018-09-15</td>\n",
              "      <td>19</td>\n",
              "      <td>1000</td>\n",
              "      <td>9</td>\n",
              "    </tr>\n",
              "  </tbody>\n",
              "</table>\n",
              "</div>"
            ],
            "text/plain": [
              "      id  call_date  duration  user_id  month\n",
              "2  10002 2018-06-11         3     1000      6\n",
              "3  10003 2018-09-21        14     1000      9\n",
              "4  10004 2018-12-15         6     1000     12\n",
              "7  10007 2018-08-22        19     1000      8\n",
              "8  10008 2018-09-15        19     1000      9"
            ]
          },
          "execution_count": 47,
          "metadata": {},
          "output_type": "execute_result"
        }
      ],
      "source": [
        "calls.head()"
      ]
    },
    {
      "cell_type": "code",
      "execution_count": null,
      "metadata": {
        "id": "dZwB7C1uiSnf"
      },
      "outputs": [],
      "source": [
        "user_calls = calls.groupby(['user_id', 'month'])\\\n",
        "                  .agg({'duration':'sum', 'id':'count'})\\\n",
        "                  .reset_index()\\\n",
        "                  .rename(columns={'duration':'month_calls_duration','id':'calls_total_in_month'})\\"
      ]
    },
    {
      "cell_type": "code",
      "execution_count": null,
      "metadata": {
        "id": "-uwWCtYriSnf",
        "outputId": "baff4811-2dbf-4c10-9c6e-9d8e10268bdf"
      },
      "outputs": [
        {
          "data": {
            "text/html": [
              "<div>\n",
              "<style scoped>\n",
              "    .dataframe tbody tr th:only-of-type {\n",
              "        vertical-align: middle;\n",
              "    }\n",
              "\n",
              "    .dataframe tbody tr th {\n",
              "        vertical-align: top;\n",
              "    }\n",
              "\n",
              "    .dataframe thead th {\n",
              "        text-align: right;\n",
              "    }\n",
              "</style>\n",
              "<table border=\"1\" class=\"dataframe\">\n",
              "  <thead>\n",
              "    <tr style=\"text-align: right;\">\n",
              "      <th></th>\n",
              "      <th>user_id</th>\n",
              "      <th>month</th>\n",
              "      <th>month_calls_duration</th>\n",
              "      <th>calls_total_in_month</th>\n",
              "    </tr>\n",
              "  </thead>\n",
              "  <tbody>\n",
              "    <tr>\n",
              "      <td>0</td>\n",
              "      <td>1000</td>\n",
              "      <td>5</td>\n",
              "      <td>159</td>\n",
              "      <td>17</td>\n",
              "    </tr>\n",
              "    <tr>\n",
              "      <td>1</td>\n",
              "      <td>1000</td>\n",
              "      <td>6</td>\n",
              "      <td>172</td>\n",
              "      <td>28</td>\n",
              "    </tr>\n",
              "    <tr>\n",
              "      <td>2</td>\n",
              "      <td>1000</td>\n",
              "      <td>7</td>\n",
              "      <td>340</td>\n",
              "      <td>41</td>\n",
              "    </tr>\n",
              "    <tr>\n",
              "      <td>3</td>\n",
              "      <td>1000</td>\n",
              "      <td>8</td>\n",
              "      <td>408</td>\n",
              "      <td>42</td>\n",
              "    </tr>\n",
              "    <tr>\n",
              "      <td>4</td>\n",
              "      <td>1000</td>\n",
              "      <td>9</td>\n",
              "      <td>466</td>\n",
              "      <td>46</td>\n",
              "    </tr>\n",
              "  </tbody>\n",
              "</table>\n",
              "</div>"
            ],
            "text/plain": [
              "   user_id  month  month_calls_duration  calls_total_in_month\n",
              "0     1000      5                   159                    17\n",
              "1     1000      6                   172                    28\n",
              "2     1000      7                   340                    41\n",
              "3     1000      8                   408                    42\n",
              "4     1000      9                   466                    46"
            ]
          },
          "execution_count": 49,
          "metadata": {},
          "output_type": "execute_result"
        }
      ],
      "source": [
        "user_calls.head()"
      ]
    },
    {
      "cell_type": "markdown",
      "metadata": {
        "id": "8_D7W5uNiSng"
      },
      "source": [
        "### Количество отправленных сообщений по месяцам"
      ]
    },
    {
      "cell_type": "markdown",
      "metadata": {
        "id": "ICFULupViSng"
      },
      "source": [
        "Для подсчета количества отправленных сообщений по месяцам произведем аналогичные действия."
      ]
    },
    {
      "cell_type": "code",
      "execution_count": null,
      "metadata": {
        "id": "zKe5UF-aiSng"
      },
      "outputs": [],
      "source": [
        "messages['month'] = messages['message_date'].dt.month"
      ]
    },
    {
      "cell_type": "code",
      "execution_count": null,
      "metadata": {
        "id": "sE3UpMLEiSng",
        "outputId": "cc1120fb-6883-4f6e-917b-ad593fd094c6"
      },
      "outputs": [
        {
          "data": {
            "text/html": [
              "<div>\n",
              "<style scoped>\n",
              "    .dataframe tbody tr th:only-of-type {\n",
              "        vertical-align: middle;\n",
              "    }\n",
              "\n",
              "    .dataframe tbody tr th {\n",
              "        vertical-align: top;\n",
              "    }\n",
              "\n",
              "    .dataframe thead th {\n",
              "        text-align: right;\n",
              "    }\n",
              "</style>\n",
              "<table border=\"1\" class=\"dataframe\">\n",
              "  <thead>\n",
              "    <tr style=\"text-align: right;\">\n",
              "      <th></th>\n",
              "      <th>id</th>\n",
              "      <th>message_date</th>\n",
              "      <th>user_id</th>\n",
              "      <th>month</th>\n",
              "    </tr>\n",
              "  </thead>\n",
              "  <tbody>\n",
              "    <tr>\n",
              "      <td>0</td>\n",
              "      <td>10000</td>\n",
              "      <td>2018-06-27</td>\n",
              "      <td>1000</td>\n",
              "      <td>6</td>\n",
              "    </tr>\n",
              "    <tr>\n",
              "      <td>1</td>\n",
              "      <td>10001</td>\n",
              "      <td>2018-10-08</td>\n",
              "      <td>1000</td>\n",
              "      <td>10</td>\n",
              "    </tr>\n",
              "    <tr>\n",
              "      <td>2</td>\n",
              "      <td>10002</td>\n",
              "      <td>2018-08-04</td>\n",
              "      <td>1000</td>\n",
              "      <td>8</td>\n",
              "    </tr>\n",
              "    <tr>\n",
              "      <td>3</td>\n",
              "      <td>10003</td>\n",
              "      <td>2018-06-16</td>\n",
              "      <td>1000</td>\n",
              "      <td>6</td>\n",
              "    </tr>\n",
              "    <tr>\n",
              "      <td>4</td>\n",
              "      <td>10004</td>\n",
              "      <td>2018-12-05</td>\n",
              "      <td>1000</td>\n",
              "      <td>12</td>\n",
              "    </tr>\n",
              "  </tbody>\n",
              "</table>\n",
              "</div>"
            ],
            "text/plain": [
              "      id message_date  user_id  month\n",
              "0  10000   2018-06-27     1000      6\n",
              "1  10001   2018-10-08     1000     10\n",
              "2  10002   2018-08-04     1000      8\n",
              "3  10003   2018-06-16     1000      6\n",
              "4  10004   2018-12-05     1000     12"
            ]
          },
          "execution_count": 51,
          "metadata": {},
          "output_type": "execute_result"
        }
      ],
      "source": [
        "messages.head()"
      ]
    },
    {
      "cell_type": "code",
      "execution_count": null,
      "metadata": {
        "id": "oxUf4D--iSng"
      },
      "outputs": [],
      "source": [
        "user_messages = messages.groupby(['user_id', 'month'])\\\n",
        "                        .agg({'id':'count'})\\\n",
        "                        .reset_index()\\\n",
        "                        .rename(columns={'id':'sms_total_in_month'})"
      ]
    },
    {
      "cell_type": "code",
      "execution_count": null,
      "metadata": {
        "id": "W2hcolxfiSnh",
        "outputId": "b0123de0-0256-487c-ab01-8eee616756c9"
      },
      "outputs": [
        {
          "data": {
            "text/html": [
              "<div>\n",
              "<style scoped>\n",
              "    .dataframe tbody tr th:only-of-type {\n",
              "        vertical-align: middle;\n",
              "    }\n",
              "\n",
              "    .dataframe tbody tr th {\n",
              "        vertical-align: top;\n",
              "    }\n",
              "\n",
              "    .dataframe thead th {\n",
              "        text-align: right;\n",
              "    }\n",
              "</style>\n",
              "<table border=\"1\" class=\"dataframe\">\n",
              "  <thead>\n",
              "    <tr style=\"text-align: right;\">\n",
              "      <th></th>\n",
              "      <th>user_id</th>\n",
              "      <th>month</th>\n",
              "      <th>sms_total_in_month</th>\n",
              "    </tr>\n",
              "  </thead>\n",
              "  <tbody>\n",
              "    <tr>\n",
              "      <td>0</td>\n",
              "      <td>1000</td>\n",
              "      <td>5</td>\n",
              "      <td>22</td>\n",
              "    </tr>\n",
              "    <tr>\n",
              "      <td>1</td>\n",
              "      <td>1000</td>\n",
              "      <td>6</td>\n",
              "      <td>60</td>\n",
              "    </tr>\n",
              "    <tr>\n",
              "      <td>2</td>\n",
              "      <td>1000</td>\n",
              "      <td>7</td>\n",
              "      <td>75</td>\n",
              "    </tr>\n",
              "    <tr>\n",
              "      <td>3</td>\n",
              "      <td>1000</td>\n",
              "      <td>8</td>\n",
              "      <td>81</td>\n",
              "    </tr>\n",
              "    <tr>\n",
              "      <td>4</td>\n",
              "      <td>1000</td>\n",
              "      <td>9</td>\n",
              "      <td>57</td>\n",
              "    </tr>\n",
              "  </tbody>\n",
              "</table>\n",
              "</div>"
            ],
            "text/plain": [
              "   user_id  month  sms_total_in_month\n",
              "0     1000      5                  22\n",
              "1     1000      6                  60\n",
              "2     1000      7                  75\n",
              "3     1000      8                  81\n",
              "4     1000      9                  57"
            ]
          },
          "execution_count": 53,
          "metadata": {},
          "output_type": "execute_result"
        }
      ],
      "source": [
        "user_messages.head()"
      ]
    },
    {
      "cell_type": "markdown",
      "metadata": {
        "id": "XSB08nlviSnh"
      },
      "source": [
        "### Объем израсходованного интернет-трафика по месяцам"
      ]
    },
    {
      "cell_type": "markdown",
      "metadata": {
        "id": "psq9dMiciSnh"
      },
      "source": [
        "Здесь также необходимо провести подобные манипуляции!"
      ]
    },
    {
      "cell_type": "code",
      "execution_count": null,
      "metadata": {
        "id": "4nyfAr9ciSnh"
      },
      "outputs": [],
      "source": [
        "internet['month'] = internet['session_date'].dt.month"
      ]
    },
    {
      "cell_type": "code",
      "execution_count": null,
      "metadata": {
        "id": "KDl9q-zViSnh",
        "outputId": "d364178a-56a4-439d-9fe9-b06cfbfc0761"
      },
      "outputs": [
        {
          "data": {
            "text/html": [
              "<div>\n",
              "<style scoped>\n",
              "    .dataframe tbody tr th:only-of-type {\n",
              "        vertical-align: middle;\n",
              "    }\n",
              "\n",
              "    .dataframe tbody tr th {\n",
              "        vertical-align: top;\n",
              "    }\n",
              "\n",
              "    .dataframe thead th {\n",
              "        text-align: right;\n",
              "    }\n",
              "</style>\n",
              "<table border=\"1\" class=\"dataframe\">\n",
              "  <thead>\n",
              "    <tr style=\"text-align: right;\">\n",
              "      <th></th>\n",
              "      <th>id</th>\n",
              "      <th>mb_used</th>\n",
              "      <th>session_date</th>\n",
              "      <th>user_id</th>\n",
              "      <th>month</th>\n",
              "    </tr>\n",
              "  </thead>\n",
              "  <tbody>\n",
              "    <tr>\n",
              "      <td>0</td>\n",
              "      <td>10000</td>\n",
              "      <td>113</td>\n",
              "      <td>2018-11-25</td>\n",
              "      <td>1000</td>\n",
              "      <td>11</td>\n",
              "    </tr>\n",
              "    <tr>\n",
              "      <td>1</td>\n",
              "      <td>10001</td>\n",
              "      <td>1053</td>\n",
              "      <td>2018-09-07</td>\n",
              "      <td>1000</td>\n",
              "      <td>9</td>\n",
              "    </tr>\n",
              "    <tr>\n",
              "      <td>2</td>\n",
              "      <td>10002</td>\n",
              "      <td>1198</td>\n",
              "      <td>2018-06-25</td>\n",
              "      <td>1000</td>\n",
              "      <td>6</td>\n",
              "    </tr>\n",
              "    <tr>\n",
              "      <td>3</td>\n",
              "      <td>10003</td>\n",
              "      <td>551</td>\n",
              "      <td>2018-08-22</td>\n",
              "      <td>1000</td>\n",
              "      <td>8</td>\n",
              "    </tr>\n",
              "    <tr>\n",
              "      <td>4</td>\n",
              "      <td>10004</td>\n",
              "      <td>303</td>\n",
              "      <td>2018-09-24</td>\n",
              "      <td>1000</td>\n",
              "      <td>9</td>\n",
              "    </tr>\n",
              "  </tbody>\n",
              "</table>\n",
              "</div>"
            ],
            "text/plain": [
              "      id  mb_used session_date  user_id  month\n",
              "0  10000      113   2018-11-25     1000     11\n",
              "1  10001     1053   2018-09-07     1000      9\n",
              "2  10002     1198   2018-06-25     1000      6\n",
              "3  10003      551   2018-08-22     1000      8\n",
              "4  10004      303   2018-09-24     1000      9"
            ]
          },
          "execution_count": 55,
          "metadata": {},
          "output_type": "execute_result"
        }
      ],
      "source": [
        "internet.head()"
      ]
    },
    {
      "cell_type": "code",
      "execution_count": null,
      "metadata": {
        "id": "w3FYLU86iSnh"
      },
      "outputs": [],
      "source": [
        "user_internet = internet.groupby(['user_id', 'month'])\\\n",
        "                        .agg({'mb_used':'sum'})\\\n",
        "                        .reset_index()\\\n",
        "                        .rename(columns={'mb_used':'mb_total_in_month'})"
      ]
    },
    {
      "cell_type": "code",
      "execution_count": null,
      "metadata": {
        "id": "Qj6f-TgdiSni",
        "outputId": "b09a8713-b1ea-440e-c936-18f25019e5ea"
      },
      "outputs": [
        {
          "data": {
            "text/html": [
              "<div>\n",
              "<style scoped>\n",
              "    .dataframe tbody tr th:only-of-type {\n",
              "        vertical-align: middle;\n",
              "    }\n",
              "\n",
              "    .dataframe tbody tr th {\n",
              "        vertical-align: top;\n",
              "    }\n",
              "\n",
              "    .dataframe thead th {\n",
              "        text-align: right;\n",
              "    }\n",
              "</style>\n",
              "<table border=\"1\" class=\"dataframe\">\n",
              "  <thead>\n",
              "    <tr style=\"text-align: right;\">\n",
              "      <th></th>\n",
              "      <th>user_id</th>\n",
              "      <th>month</th>\n",
              "      <th>mb_total_in_month</th>\n",
              "    </tr>\n",
              "  </thead>\n",
              "  <tbody>\n",
              "    <tr>\n",
              "      <td>0</td>\n",
              "      <td>1000</td>\n",
              "      <td>5</td>\n",
              "      <td>2256</td>\n",
              "    </tr>\n",
              "    <tr>\n",
              "      <td>1</td>\n",
              "      <td>1000</td>\n",
              "      <td>6</td>\n",
              "      <td>23257</td>\n",
              "    </tr>\n",
              "    <tr>\n",
              "      <td>2</td>\n",
              "      <td>1000</td>\n",
              "      <td>7</td>\n",
              "      <td>14016</td>\n",
              "    </tr>\n",
              "    <tr>\n",
              "      <td>3</td>\n",
              "      <td>1000</td>\n",
              "      <td>8</td>\n",
              "      <td>14070</td>\n",
              "    </tr>\n",
              "    <tr>\n",
              "      <td>4</td>\n",
              "      <td>1000</td>\n",
              "      <td>9</td>\n",
              "      <td>14581</td>\n",
              "    </tr>\n",
              "  </tbody>\n",
              "</table>\n",
              "</div>"
            ],
            "text/plain": [
              "   user_id  month  mb_total_in_month\n",
              "0     1000      5               2256\n",
              "1     1000      6              23257\n",
              "2     1000      7              14016\n",
              "3     1000      8              14070\n",
              "4     1000      9              14581"
            ]
          },
          "execution_count": 57,
          "metadata": {},
          "output_type": "execute_result"
        }
      ],
      "source": [
        "user_internet.head()"
      ]
    },
    {
      "cell_type": "code",
      "execution_count": null,
      "metadata": {
        "id": "Me_2MeDaiSni",
        "outputId": "8a78a29f-5fb6-467b-c9bd-19f5e125c9ac"
      },
      "outputs": [
        {
          "data": {
            "text/plain": [
              "2018    129798\n",
              "Name: session_date, dtype: int64"
            ]
          },
          "execution_count": 58,
          "metadata": {},
          "output_type": "execute_result"
        }
      ],
      "source": [
        "internet['session_date'].dt.year.value_counts()"
      ]
    },
    {
      "cell_type": "markdown",
      "metadata": {
        "id": "THnVR5EgiSni"
      },
      "source": [
        "### Помесячная выручка с каждого пользователя"
      ]
    },
    {
      "cell_type": "markdown",
      "metadata": {
        "id": "SHiyieY_iSni"
      },
      "source": [
        "Помесячная выручка с каждого пользователя (вычтите бесплатный лимит из суммарного количества звонков, сообщений и интернет-трафика; остаток умножьте на значение из тарифного плана; прибавьте абонентскую плату, соответствующую тарифному плану).\n",
        "\n",
        "Для того, чтобы посчитать помесячную выручку с каждого пользовател для начала необходимо объединить все таблицы в одну большую."
      ]
    },
    {
      "cell_type": "code",
      "execution_count": null,
      "metadata": {
        "id": "XLeuzz0NiSni"
      },
      "outputs": [],
      "source": [
        "df = user_calls.merge(user_messages, on=['user_id','month'], how='outer')"
      ]
    },
    {
      "cell_type": "code",
      "execution_count": null,
      "metadata": {
        "id": "oVZvFl9JiSni",
        "outputId": "8d6dcfec-0ee0-4b99-ba2c-ca7d2b453457"
      },
      "outputs": [
        {
          "data": {
            "text/html": [
              "<div>\n",
              "<style scoped>\n",
              "    .dataframe tbody tr th:only-of-type {\n",
              "        vertical-align: middle;\n",
              "    }\n",
              "\n",
              "    .dataframe tbody tr th {\n",
              "        vertical-align: top;\n",
              "    }\n",
              "\n",
              "    .dataframe thead th {\n",
              "        text-align: right;\n",
              "    }\n",
              "</style>\n",
              "<table border=\"1\" class=\"dataframe\">\n",
              "  <thead>\n",
              "    <tr style=\"text-align: right;\">\n",
              "      <th></th>\n",
              "      <th>user_id</th>\n",
              "      <th>month</th>\n",
              "      <th>month_calls_duration</th>\n",
              "      <th>calls_total_in_month</th>\n",
              "      <th>sms_total_in_month</th>\n",
              "    </tr>\n",
              "  </thead>\n",
              "  <tbody>\n",
              "    <tr>\n",
              "      <td>0</td>\n",
              "      <td>1000</td>\n",
              "      <td>5</td>\n",
              "      <td>159.000</td>\n",
              "      <td>17.000</td>\n",
              "      <td>22.000</td>\n",
              "    </tr>\n",
              "    <tr>\n",
              "      <td>1</td>\n",
              "      <td>1000</td>\n",
              "      <td>6</td>\n",
              "      <td>172.000</td>\n",
              "      <td>28.000</td>\n",
              "      <td>60.000</td>\n",
              "    </tr>\n",
              "    <tr>\n",
              "      <td>2</td>\n",
              "      <td>1000</td>\n",
              "      <td>7</td>\n",
              "      <td>340.000</td>\n",
              "      <td>41.000</td>\n",
              "      <td>75.000</td>\n",
              "    </tr>\n",
              "    <tr>\n",
              "      <td>3</td>\n",
              "      <td>1000</td>\n",
              "      <td>8</td>\n",
              "      <td>408.000</td>\n",
              "      <td>42.000</td>\n",
              "      <td>81.000</td>\n",
              "    </tr>\n",
              "    <tr>\n",
              "      <td>4</td>\n",
              "      <td>1000</td>\n",
              "      <td>9</td>\n",
              "      <td>466.000</td>\n",
              "      <td>46.000</td>\n",
              "      <td>57.000</td>\n",
              "    </tr>\n",
              "  </tbody>\n",
              "</table>\n",
              "</div>"
            ],
            "text/plain": [
              "   user_id  month  month_calls_duration  calls_total_in_month  \\\n",
              "0     1000      5               159.000                17.000   \n",
              "1     1000      6               172.000                28.000   \n",
              "2     1000      7               340.000                41.000   \n",
              "3     1000      8               408.000                42.000   \n",
              "4     1000      9               466.000                46.000   \n",
              "\n",
              "   sms_total_in_month  \n",
              "0              22.000  \n",
              "1              60.000  \n",
              "2              75.000  \n",
              "3              81.000  \n",
              "4              57.000  "
            ]
          },
          "execution_count": 60,
          "metadata": {},
          "output_type": "execute_result"
        }
      ],
      "source": [
        "df.head()"
      ]
    },
    {
      "cell_type": "code",
      "execution_count": null,
      "metadata": {
        "id": "TtSn0K9tiSnj",
        "outputId": "ff74c611-0480-469b-eac1-3874b870fc61"
      },
      "outputs": [
        {
          "data": {
            "text/html": [
              "<div>\n",
              "<style scoped>\n",
              "    .dataframe tbody tr th:only-of-type {\n",
              "        vertical-align: middle;\n",
              "    }\n",
              "\n",
              "    .dataframe tbody tr th {\n",
              "        vertical-align: top;\n",
              "    }\n",
              "\n",
              "    .dataframe thead th {\n",
              "        text-align: right;\n",
              "    }\n",
              "</style>\n",
              "<table border=\"1\" class=\"dataframe\">\n",
              "  <thead>\n",
              "    <tr style=\"text-align: right;\">\n",
              "      <th></th>\n",
              "      <th>user_id</th>\n",
              "      <th>month</th>\n",
              "      <th>month_calls_duration</th>\n",
              "      <th>calls_total_in_month</th>\n",
              "      <th>sms_total_in_month</th>\n",
              "      <th>mb_total_in_month</th>\n",
              "    </tr>\n",
              "  </thead>\n",
              "  <tbody>\n",
              "    <tr>\n",
              "      <td>0</td>\n",
              "      <td>1000</td>\n",
              "      <td>5</td>\n",
              "      <td>159.000</td>\n",
              "      <td>17.000</td>\n",
              "      <td>22.000</td>\n",
              "      <td>2256.000</td>\n",
              "    </tr>\n",
              "    <tr>\n",
              "      <td>1</td>\n",
              "      <td>1000</td>\n",
              "      <td>6</td>\n",
              "      <td>172.000</td>\n",
              "      <td>28.000</td>\n",
              "      <td>60.000</td>\n",
              "      <td>23257.000</td>\n",
              "    </tr>\n",
              "    <tr>\n",
              "      <td>2</td>\n",
              "      <td>1000</td>\n",
              "      <td>7</td>\n",
              "      <td>340.000</td>\n",
              "      <td>41.000</td>\n",
              "      <td>75.000</td>\n",
              "      <td>14016.000</td>\n",
              "    </tr>\n",
              "    <tr>\n",
              "      <td>3</td>\n",
              "      <td>1000</td>\n",
              "      <td>8</td>\n",
              "      <td>408.000</td>\n",
              "      <td>42.000</td>\n",
              "      <td>81.000</td>\n",
              "      <td>14070.000</td>\n",
              "    </tr>\n",
              "    <tr>\n",
              "      <td>4</td>\n",
              "      <td>1000</td>\n",
              "      <td>9</td>\n",
              "      <td>466.000</td>\n",
              "      <td>46.000</td>\n",
              "      <td>57.000</td>\n",
              "      <td>14581.000</td>\n",
              "    </tr>\n",
              "    <tr>\n",
              "      <td>5</td>\n",
              "      <td>1000</td>\n",
              "      <td>10</td>\n",
              "      <td>350.000</td>\n",
              "      <td>44.000</td>\n",
              "      <td>73.000</td>\n",
              "      <td>14717.000</td>\n",
              "    </tr>\n",
              "    <tr>\n",
              "      <td>6</td>\n",
              "      <td>1000</td>\n",
              "      <td>11</td>\n",
              "      <td>338.000</td>\n",
              "      <td>37.000</td>\n",
              "      <td>58.000</td>\n",
              "      <td>14768.000</td>\n",
              "    </tr>\n",
              "    <tr>\n",
              "      <td>7</td>\n",
              "      <td>1000</td>\n",
              "      <td>12</td>\n",
              "      <td>333.000</td>\n",
              "      <td>38.000</td>\n",
              "      <td>70.000</td>\n",
              "      <td>9827.000</td>\n",
              "    </tr>\n",
              "    <tr>\n",
              "      <td>8</td>\n",
              "      <td>1001</td>\n",
              "      <td>11</td>\n",
              "      <td>430.000</td>\n",
              "      <td>45.000</td>\n",
              "      <td>nan</td>\n",
              "      <td>18452.000</td>\n",
              "    </tr>\n",
              "    <tr>\n",
              "      <td>9</td>\n",
              "      <td>1001</td>\n",
              "      <td>12</td>\n",
              "      <td>414.000</td>\n",
              "      <td>47.000</td>\n",
              "      <td>nan</td>\n",
              "      <td>14053.000</td>\n",
              "    </tr>\n",
              "  </tbody>\n",
              "</table>\n",
              "</div>"
            ],
            "text/plain": [
              "   user_id  month  month_calls_duration  calls_total_in_month  \\\n",
              "0     1000      5               159.000                17.000   \n",
              "1     1000      6               172.000                28.000   \n",
              "2     1000      7               340.000                41.000   \n",
              "3     1000      8               408.000                42.000   \n",
              "4     1000      9               466.000                46.000   \n",
              "5     1000     10               350.000                44.000   \n",
              "6     1000     11               338.000                37.000   \n",
              "7     1000     12               333.000                38.000   \n",
              "8     1001     11               430.000                45.000   \n",
              "9     1001     12               414.000                47.000   \n",
              "\n",
              "   sms_total_in_month  mb_total_in_month  \n",
              "0              22.000           2256.000  \n",
              "1              60.000          23257.000  \n",
              "2              75.000          14016.000  \n",
              "3              81.000          14070.000  \n",
              "4              57.000          14581.000  \n",
              "5              73.000          14717.000  \n",
              "6              58.000          14768.000  \n",
              "7              70.000           9827.000  \n",
              "8                 nan          18452.000  \n",
              "9                 nan          14053.000  "
            ]
          },
          "execution_count": 61,
          "metadata": {},
          "output_type": "execute_result"
        }
      ],
      "source": [
        "df = df.merge(user_internet, on=['user_id','month'], how = 'outer')\n",
        "df.head(10)"
      ]
    },
    {
      "cell_type": "code",
      "execution_count": null,
      "metadata": {
        "id": "ciB1rcXXiSnj"
      },
      "outputs": [],
      "source": [
        "data_frames = [user_calls, user_messages, user_internet]"
      ]
    },
    {
      "cell_type": "code",
      "execution_count": null,
      "metadata": {
        "id": "88BxiuJ1iSnj"
      },
      "outputs": [],
      "source": [
        "df_merged = reduce(lambda  left,right: pd.merge(left,right,on=['user_id','month'],\n",
        "                                            how='outer'), data_frames)"
      ]
    },
    {
      "cell_type": "code",
      "execution_count": null,
      "metadata": {
        "id": "vsBXx1h1iSnj",
        "outputId": "34684ef0-4029-419e-a28a-d5e8cdf8493b"
      },
      "outputs": [
        {
          "name": "stdout",
          "output_type": "stream",
          "text": [
            "<class 'pandas.core.frame.DataFrame'>\n",
            "Int64Index: 3214 entries, 0 to 3213\n",
            "Data columns (total 6 columns):\n",
            "user_id                 3214 non-null int64\n",
            "month                   3214 non-null int64\n",
            "month_calls_duration    3168 non-null float64\n",
            "calls_total_in_month    3168 non-null float64\n",
            "sms_total_in_month      2717 non-null float64\n",
            "mb_total_in_month       3201 non-null float64\n",
            "dtypes: float64(4), int64(2)\n",
            "memory usage: 175.8 KB\n"
          ]
        }
      ],
      "source": [
        "df.info()"
      ]
    },
    {
      "cell_type": "code",
      "execution_count": null,
      "metadata": {
        "id": "evoiQazYiSnj",
        "outputId": "ec5830b9-baaa-479c-e187-e74175015e65"
      },
      "outputs": [
        {
          "name": "stdout",
          "output_type": "stream",
          "text": [
            "<class 'pandas.core.frame.DataFrame'>\n",
            "Int64Index: 3214 entries, 0 to 3213\n",
            "Data columns (total 6 columns):\n",
            "user_id                 3214 non-null int64\n",
            "month                   3214 non-null int64\n",
            "month_calls_duration    3168 non-null float64\n",
            "calls_total_in_month    3168 non-null float64\n",
            "sms_total_in_month      2717 non-null float64\n",
            "mb_total_in_month       3201 non-null float64\n",
            "dtypes: float64(4), int64(2)\n",
            "memory usage: 175.8 KB\n"
          ]
        }
      ],
      "source": [
        "df_merged.info()"
      ]
    },
    {
      "cell_type": "code",
      "execution_count": null,
      "metadata": {
        "scrolled": true,
        "id": "pvV9FgB3iSnk",
        "outputId": "357a410f-0a04-4706-ae73-99458cba2c51"
      },
      "outputs": [
        {
          "data": {
            "text/html": [
              "<div>\n",
              "<style scoped>\n",
              "    .dataframe tbody tr th:only-of-type {\n",
              "        vertical-align: middle;\n",
              "    }\n",
              "\n",
              "    .dataframe tbody tr th {\n",
              "        vertical-align: top;\n",
              "    }\n",
              "\n",
              "    .dataframe thead th {\n",
              "        text-align: right;\n",
              "    }\n",
              "</style>\n",
              "<table border=\"1\" class=\"dataframe\">\n",
              "  <thead>\n",
              "    <tr style=\"text-align: right;\">\n",
              "      <th></th>\n",
              "      <th>user_id</th>\n",
              "      <th>month</th>\n",
              "      <th>month_calls_duration</th>\n",
              "      <th>calls_total_in_month</th>\n",
              "      <th>sms_total_in_month</th>\n",
              "      <th>mb_total_in_month</th>\n",
              "    </tr>\n",
              "  </thead>\n",
              "  <tbody>\n",
              "    <tr>\n",
              "      <td>0</td>\n",
              "      <td>1000</td>\n",
              "      <td>5</td>\n",
              "      <td>159.000</td>\n",
              "      <td>17.000</td>\n",
              "      <td>22.000</td>\n",
              "      <td>2256.000</td>\n",
              "    </tr>\n",
              "    <tr>\n",
              "      <td>1</td>\n",
              "      <td>1000</td>\n",
              "      <td>6</td>\n",
              "      <td>172.000</td>\n",
              "      <td>28.000</td>\n",
              "      <td>60.000</td>\n",
              "      <td>23257.000</td>\n",
              "    </tr>\n",
              "    <tr>\n",
              "      <td>2</td>\n",
              "      <td>1000</td>\n",
              "      <td>7</td>\n",
              "      <td>340.000</td>\n",
              "      <td>41.000</td>\n",
              "      <td>75.000</td>\n",
              "      <td>14016.000</td>\n",
              "    </tr>\n",
              "    <tr>\n",
              "      <td>3</td>\n",
              "      <td>1000</td>\n",
              "      <td>8</td>\n",
              "      <td>408.000</td>\n",
              "      <td>42.000</td>\n",
              "      <td>81.000</td>\n",
              "      <td>14070.000</td>\n",
              "    </tr>\n",
              "    <tr>\n",
              "      <td>4</td>\n",
              "      <td>1000</td>\n",
              "      <td>9</td>\n",
              "      <td>466.000</td>\n",
              "      <td>46.000</td>\n",
              "      <td>57.000</td>\n",
              "      <td>14581.000</td>\n",
              "    </tr>\n",
              "    <tr>\n",
              "      <td>5</td>\n",
              "      <td>1000</td>\n",
              "      <td>10</td>\n",
              "      <td>350.000</td>\n",
              "      <td>44.000</td>\n",
              "      <td>73.000</td>\n",
              "      <td>14717.000</td>\n",
              "    </tr>\n",
              "    <tr>\n",
              "      <td>6</td>\n",
              "      <td>1000</td>\n",
              "      <td>11</td>\n",
              "      <td>338.000</td>\n",
              "      <td>37.000</td>\n",
              "      <td>58.000</td>\n",
              "      <td>14768.000</td>\n",
              "    </tr>\n",
              "    <tr>\n",
              "      <td>7</td>\n",
              "      <td>1000</td>\n",
              "      <td>12</td>\n",
              "      <td>333.000</td>\n",
              "      <td>38.000</td>\n",
              "      <td>70.000</td>\n",
              "      <td>9827.000</td>\n",
              "    </tr>\n",
              "    <tr>\n",
              "      <td>8</td>\n",
              "      <td>1001</td>\n",
              "      <td>11</td>\n",
              "      <td>430.000</td>\n",
              "      <td>45.000</td>\n",
              "      <td>nan</td>\n",
              "      <td>18452.000</td>\n",
              "    </tr>\n",
              "    <tr>\n",
              "      <td>9</td>\n",
              "      <td>1001</td>\n",
              "      <td>12</td>\n",
              "      <td>414.000</td>\n",
              "      <td>47.000</td>\n",
              "      <td>nan</td>\n",
              "      <td>14053.000</td>\n",
              "    </tr>\n",
              "  </tbody>\n",
              "</table>\n",
              "</div>"
            ],
            "text/plain": [
              "   user_id  month  month_calls_duration  calls_total_in_month  \\\n",
              "0     1000      5               159.000                17.000   \n",
              "1     1000      6               172.000                28.000   \n",
              "2     1000      7               340.000                41.000   \n",
              "3     1000      8               408.000                42.000   \n",
              "4     1000      9               466.000                46.000   \n",
              "5     1000     10               350.000                44.000   \n",
              "6     1000     11               338.000                37.000   \n",
              "7     1000     12               333.000                38.000   \n",
              "8     1001     11               430.000                45.000   \n",
              "9     1001     12               414.000                47.000   \n",
              "\n",
              "   sms_total_in_month  mb_total_in_month  \n",
              "0              22.000           2256.000  \n",
              "1              60.000          23257.000  \n",
              "2              75.000          14016.000  \n",
              "3              81.000          14070.000  \n",
              "4              57.000          14581.000  \n",
              "5              73.000          14717.000  \n",
              "6              58.000          14768.000  \n",
              "7              70.000           9827.000  \n",
              "8                 nan          18452.000  \n",
              "9                 nan          14053.000  "
            ]
          },
          "execution_count": 66,
          "metadata": {},
          "output_type": "execute_result"
        }
      ],
      "source": [
        "df_merged.head(10)"
      ]
    },
    {
      "cell_type": "code",
      "execution_count": null,
      "metadata": {
        "id": "zrkcUvYiiSnk",
        "outputId": "9fa3b2d2-ca86-4ec0-95e6-abc390e20353"
      },
      "outputs": [
        {
          "data": {
            "text/html": [
              "<div>\n",
              "<style scoped>\n",
              "    .dataframe tbody tr th:only-of-type {\n",
              "        vertical-align: middle;\n",
              "    }\n",
              "\n",
              "    .dataframe tbody tr th {\n",
              "        vertical-align: top;\n",
              "    }\n",
              "\n",
              "    .dataframe thead th {\n",
              "        text-align: right;\n",
              "    }\n",
              "</style>\n",
              "<table border=\"1\" class=\"dataframe\">\n",
              "  <thead>\n",
              "    <tr style=\"text-align: right;\">\n",
              "      <th></th>\n",
              "      <th>user_id</th>\n",
              "      <th>month</th>\n",
              "      <th>month_calls_duration</th>\n",
              "      <th>calls_total_in_month</th>\n",
              "      <th>sms_total_in_month</th>\n",
              "      <th>mb_total_in_month</th>\n",
              "      <th>age</th>\n",
              "      <th>churn_date</th>\n",
              "      <th>city</th>\n",
              "      <th>first_name</th>\n",
              "      <th>last_name</th>\n",
              "      <th>reg_date</th>\n",
              "      <th>tariff</th>\n",
              "    </tr>\n",
              "  </thead>\n",
              "  <tbody>\n",
              "    <tr>\n",
              "      <td>0</td>\n",
              "      <td>1000</td>\n",
              "      <td>5</td>\n",
              "      <td>159.000</td>\n",
              "      <td>17.000</td>\n",
              "      <td>22.000</td>\n",
              "      <td>2256.000</td>\n",
              "      <td>52</td>\n",
              "      <td>NaT</td>\n",
              "      <td>Краснодар</td>\n",
              "      <td>Рафаил</td>\n",
              "      <td>Верещагин</td>\n",
              "      <td>2018-05-25</td>\n",
              "      <td>ultra</td>\n",
              "    </tr>\n",
              "    <tr>\n",
              "      <td>1</td>\n",
              "      <td>1000</td>\n",
              "      <td>6</td>\n",
              "      <td>172.000</td>\n",
              "      <td>28.000</td>\n",
              "      <td>60.000</td>\n",
              "      <td>23257.000</td>\n",
              "      <td>52</td>\n",
              "      <td>NaT</td>\n",
              "      <td>Краснодар</td>\n",
              "      <td>Рафаил</td>\n",
              "      <td>Верещагин</td>\n",
              "      <td>2018-05-25</td>\n",
              "      <td>ultra</td>\n",
              "    </tr>\n",
              "    <tr>\n",
              "      <td>2</td>\n",
              "      <td>1000</td>\n",
              "      <td>7</td>\n",
              "      <td>340.000</td>\n",
              "      <td>41.000</td>\n",
              "      <td>75.000</td>\n",
              "      <td>14016.000</td>\n",
              "      <td>52</td>\n",
              "      <td>NaT</td>\n",
              "      <td>Краснодар</td>\n",
              "      <td>Рафаил</td>\n",
              "      <td>Верещагин</td>\n",
              "      <td>2018-05-25</td>\n",
              "      <td>ultra</td>\n",
              "    </tr>\n",
              "    <tr>\n",
              "      <td>3</td>\n",
              "      <td>1000</td>\n",
              "      <td>8</td>\n",
              "      <td>408.000</td>\n",
              "      <td>42.000</td>\n",
              "      <td>81.000</td>\n",
              "      <td>14070.000</td>\n",
              "      <td>52</td>\n",
              "      <td>NaT</td>\n",
              "      <td>Краснодар</td>\n",
              "      <td>Рафаил</td>\n",
              "      <td>Верещагин</td>\n",
              "      <td>2018-05-25</td>\n",
              "      <td>ultra</td>\n",
              "    </tr>\n",
              "    <tr>\n",
              "      <td>4</td>\n",
              "      <td>1000</td>\n",
              "      <td>9</td>\n",
              "      <td>466.000</td>\n",
              "      <td>46.000</td>\n",
              "      <td>57.000</td>\n",
              "      <td>14581.000</td>\n",
              "      <td>52</td>\n",
              "      <td>NaT</td>\n",
              "      <td>Краснодар</td>\n",
              "      <td>Рафаил</td>\n",
              "      <td>Верещагин</td>\n",
              "      <td>2018-05-25</td>\n",
              "      <td>ultra</td>\n",
              "    </tr>\n",
              "  </tbody>\n",
              "</table>\n",
              "</div>"
            ],
            "text/plain": [
              "   user_id  month  month_calls_duration  calls_total_in_month  \\\n",
              "0     1000      5               159.000                17.000   \n",
              "1     1000      6               172.000                28.000   \n",
              "2     1000      7               340.000                41.000   \n",
              "3     1000      8               408.000                42.000   \n",
              "4     1000      9               466.000                46.000   \n",
              "\n",
              "   sms_total_in_month  mb_total_in_month  age churn_date       city  \\\n",
              "0              22.000           2256.000   52        NaT  Краснодар   \n",
              "1              60.000          23257.000   52        NaT  Краснодар   \n",
              "2              75.000          14016.000   52        NaT  Краснодар   \n",
              "3              81.000          14070.000   52        NaT  Краснодар   \n",
              "4              57.000          14581.000   52        NaT  Краснодар   \n",
              "\n",
              "  first_name  last_name   reg_date tariff  \n",
              "0     Рафаил  Верещагин 2018-05-25  ultra  \n",
              "1     Рафаил  Верещагин 2018-05-25  ultra  \n",
              "2     Рафаил  Верещагин 2018-05-25  ultra  \n",
              "3     Рафаил  Верещагин 2018-05-25  ultra  \n",
              "4     Рафаил  Верещагин 2018-05-25  ultra  "
            ]
          },
          "execution_count": 67,
          "metadata": {},
          "output_type": "execute_result"
        }
      ],
      "source": [
        "df = df.merge(users, on='user_id', how='left')\n",
        "df.head()"
      ]
    },
    {
      "cell_type": "code",
      "execution_count": null,
      "metadata": {
        "id": "zXmC3JgniSnk",
        "outputId": "c735e749-a8e7-4799-e5f8-668e2ac727ce"
      },
      "outputs": [
        {
          "name": "stdout",
          "output_type": "stream",
          "text": [
            "<class 'pandas.core.frame.DataFrame'>\n",
            "Int64Index: 3214 entries, 0 to 3213\n",
            "Data columns (total 13 columns):\n",
            "user_id                 3214 non-null int64\n",
            "month                   3214 non-null int64\n",
            "month_calls_duration    3168 non-null float64\n",
            "calls_total_in_month    3168 non-null float64\n",
            "sms_total_in_month      2717 non-null float64\n",
            "mb_total_in_month       3201 non-null float64\n",
            "age                     3214 non-null int64\n",
            "churn_date              187 non-null datetime64[ns]\n",
            "city                    3214 non-null object\n",
            "first_name              3214 non-null object\n",
            "last_name               3214 non-null object\n",
            "reg_date                3214 non-null datetime64[ns]\n",
            "tariff                  3214 non-null object\n",
            "dtypes: datetime64[ns](2), float64(4), int64(3), object(4)\n",
            "memory usage: 351.5+ KB\n"
          ]
        }
      ],
      "source": [
        "df.info()"
      ]
    },
    {
      "cell_type": "code",
      "execution_count": null,
      "metadata": {
        "id": "0iv86iIciSnk",
        "outputId": "52b26f8c-996e-4eb6-9289-7fe518873c01"
      },
      "outputs": [
        {
          "name": "stdout",
          "output_type": "stream",
          "text": [
            "<class 'pandas.core.frame.DataFrame'>\n",
            "Int64Index: 3214 entries, 0 to 3213\n",
            "Data columns (total 6 columns):\n",
            "user_id                 3214 non-null int64\n",
            "month                   3214 non-null int64\n",
            "month_calls_duration    3168 non-null float64\n",
            "calls_total_in_month    3168 non-null float64\n",
            "sms_total_in_month      2717 non-null float64\n",
            "mb_total_in_month       3201 non-null float64\n",
            "dtypes: float64(4), int64(2)\n",
            "memory usage: 175.8 KB\n"
          ]
        }
      ],
      "source": [
        "df_merged.info()"
      ]
    },
    {
      "cell_type": "code",
      "execution_count": null,
      "metadata": {
        "id": "Fayv524FiSnk",
        "outputId": "0a2e2cbf-1b0c-4575-8068-807291d8639b"
      },
      "outputs": [
        {
          "data": {
            "text/html": [
              "<div>\n",
              "<style scoped>\n",
              "    .dataframe tbody tr th:only-of-type {\n",
              "        vertical-align: middle;\n",
              "    }\n",
              "\n",
              "    .dataframe tbody tr th {\n",
              "        vertical-align: top;\n",
              "    }\n",
              "\n",
              "    .dataframe thead th {\n",
              "        text-align: right;\n",
              "    }\n",
              "</style>\n",
              "<table border=\"1\" class=\"dataframe\">\n",
              "  <thead>\n",
              "    <tr style=\"text-align: right;\">\n",
              "      <th></th>\n",
              "      <th>user_id</th>\n",
              "      <th>month</th>\n",
              "      <th>month_calls_duration</th>\n",
              "      <th>calls_total_in_month</th>\n",
              "      <th>sms_total_in_month</th>\n",
              "      <th>mb_total_in_month</th>\n",
              "      <th>age</th>\n",
              "      <th>churn_date</th>\n",
              "      <th>city</th>\n",
              "      <th>first_name</th>\n",
              "      <th>last_name</th>\n",
              "      <th>reg_date</th>\n",
              "      <th>tariff</th>\n",
              "      <th>messages_included</th>\n",
              "      <th>mb_per_month_included</th>\n",
              "      <th>minutes_included</th>\n",
              "      <th>rub_monthly_fee</th>\n",
              "      <th>rub_per_gb</th>\n",
              "      <th>rub_per_message</th>\n",
              "      <th>rub_per_minute</th>\n",
              "    </tr>\n",
              "  </thead>\n",
              "  <tbody>\n",
              "    <tr>\n",
              "      <td>0</td>\n",
              "      <td>1000</td>\n",
              "      <td>5</td>\n",
              "      <td>159.000</td>\n",
              "      <td>17.000</td>\n",
              "      <td>22.000</td>\n",
              "      <td>2256.000</td>\n",
              "      <td>52</td>\n",
              "      <td>NaT</td>\n",
              "      <td>Краснодар</td>\n",
              "      <td>Рафаил</td>\n",
              "      <td>Верещагин</td>\n",
              "      <td>2018-05-25</td>\n",
              "      <td>ultra</td>\n",
              "      <td>1000</td>\n",
              "      <td>30720</td>\n",
              "      <td>3000</td>\n",
              "      <td>1950</td>\n",
              "      <td>150</td>\n",
              "      <td>1</td>\n",
              "      <td>1</td>\n",
              "    </tr>\n",
              "    <tr>\n",
              "      <td>1</td>\n",
              "      <td>1000</td>\n",
              "      <td>6</td>\n",
              "      <td>172.000</td>\n",
              "      <td>28.000</td>\n",
              "      <td>60.000</td>\n",
              "      <td>23257.000</td>\n",
              "      <td>52</td>\n",
              "      <td>NaT</td>\n",
              "      <td>Краснодар</td>\n",
              "      <td>Рафаил</td>\n",
              "      <td>Верещагин</td>\n",
              "      <td>2018-05-25</td>\n",
              "      <td>ultra</td>\n",
              "      <td>1000</td>\n",
              "      <td>30720</td>\n",
              "      <td>3000</td>\n",
              "      <td>1950</td>\n",
              "      <td>150</td>\n",
              "      <td>1</td>\n",
              "      <td>1</td>\n",
              "    </tr>\n",
              "    <tr>\n",
              "      <td>2</td>\n",
              "      <td>1000</td>\n",
              "      <td>7</td>\n",
              "      <td>340.000</td>\n",
              "      <td>41.000</td>\n",
              "      <td>75.000</td>\n",
              "      <td>14016.000</td>\n",
              "      <td>52</td>\n",
              "      <td>NaT</td>\n",
              "      <td>Краснодар</td>\n",
              "      <td>Рафаил</td>\n",
              "      <td>Верещагин</td>\n",
              "      <td>2018-05-25</td>\n",
              "      <td>ultra</td>\n",
              "      <td>1000</td>\n",
              "      <td>30720</td>\n",
              "      <td>3000</td>\n",
              "      <td>1950</td>\n",
              "      <td>150</td>\n",
              "      <td>1</td>\n",
              "      <td>1</td>\n",
              "    </tr>\n",
              "    <tr>\n",
              "      <td>3</td>\n",
              "      <td>1000</td>\n",
              "      <td>8</td>\n",
              "      <td>408.000</td>\n",
              "      <td>42.000</td>\n",
              "      <td>81.000</td>\n",
              "      <td>14070.000</td>\n",
              "      <td>52</td>\n",
              "      <td>NaT</td>\n",
              "      <td>Краснодар</td>\n",
              "      <td>Рафаил</td>\n",
              "      <td>Верещагин</td>\n",
              "      <td>2018-05-25</td>\n",
              "      <td>ultra</td>\n",
              "      <td>1000</td>\n",
              "      <td>30720</td>\n",
              "      <td>3000</td>\n",
              "      <td>1950</td>\n",
              "      <td>150</td>\n",
              "      <td>1</td>\n",
              "      <td>1</td>\n",
              "    </tr>\n",
              "    <tr>\n",
              "      <td>4</td>\n",
              "      <td>1000</td>\n",
              "      <td>9</td>\n",
              "      <td>466.000</td>\n",
              "      <td>46.000</td>\n",
              "      <td>57.000</td>\n",
              "      <td>14581.000</td>\n",
              "      <td>52</td>\n",
              "      <td>NaT</td>\n",
              "      <td>Краснодар</td>\n",
              "      <td>Рафаил</td>\n",
              "      <td>Верещагин</td>\n",
              "      <td>2018-05-25</td>\n",
              "      <td>ultra</td>\n",
              "      <td>1000</td>\n",
              "      <td>30720</td>\n",
              "      <td>3000</td>\n",
              "      <td>1950</td>\n",
              "      <td>150</td>\n",
              "      <td>1</td>\n",
              "      <td>1</td>\n",
              "    </tr>\n",
              "  </tbody>\n",
              "</table>\n",
              "</div>"
            ],
            "text/plain": [
              "   user_id  month  month_calls_duration  calls_total_in_month  \\\n",
              "0     1000      5               159.000                17.000   \n",
              "1     1000      6               172.000                28.000   \n",
              "2     1000      7               340.000                41.000   \n",
              "3     1000      8               408.000                42.000   \n",
              "4     1000      9               466.000                46.000   \n",
              "\n",
              "   sms_total_in_month  mb_total_in_month  age churn_date       city  \\\n",
              "0              22.000           2256.000   52        NaT  Краснодар   \n",
              "1              60.000          23257.000   52        NaT  Краснодар   \n",
              "2              75.000          14016.000   52        NaT  Краснодар   \n",
              "3              81.000          14070.000   52        NaT  Краснодар   \n",
              "4              57.000          14581.000   52        NaT  Краснодар   \n",
              "\n",
              "  first_name  last_name   reg_date tariff  messages_included  \\\n",
              "0     Рафаил  Верещагин 2018-05-25  ultra               1000   \n",
              "1     Рафаил  Верещагин 2018-05-25  ultra               1000   \n",
              "2     Рафаил  Верещагин 2018-05-25  ultra               1000   \n",
              "3     Рафаил  Верещагин 2018-05-25  ultra               1000   \n",
              "4     Рафаил  Верещагин 2018-05-25  ultra               1000   \n",
              "\n",
              "   mb_per_month_included  minutes_included  rub_monthly_fee  rub_per_gb  \\\n",
              "0                  30720              3000             1950         150   \n",
              "1                  30720              3000             1950         150   \n",
              "2                  30720              3000             1950         150   \n",
              "3                  30720              3000             1950         150   \n",
              "4                  30720              3000             1950         150   \n",
              "\n",
              "   rub_per_message  rub_per_minute  \n",
              "0                1               1  \n",
              "1                1               1  \n",
              "2                1               1  \n",
              "3                1               1  \n",
              "4                1               1  "
            ]
          },
          "execution_count": 70,
          "metadata": {},
          "output_type": "execute_result"
        }
      ],
      "source": [
        "df = df.merge(tariffs, on='tariff', how='left')\n",
        "df.head()"
      ]
    },
    {
      "cell_type": "code",
      "execution_count": null,
      "metadata": {
        "id": "Mfq2MVEFiSnl",
        "outputId": "359aa518-643e-4e5d-ebfd-e204425c413a"
      },
      "outputs": [
        {
          "data": {
            "text/html": [
              "<style  type=\"text/css\" >\n",
              "    #T_aa379272_b571_11eb_8135_02420a3947derow0_col0 {\n",
              "            background-color:  #3b4cc0;\n",
              "            color:  #f1f1f1;\n",
              "        }    #T_aa379272_b571_11eb_8135_02420a3947derow1_col0 {\n",
              "            background-color:  #3b4cc0;\n",
              "            color:  #f1f1f1;\n",
              "        }    #T_aa379272_b571_11eb_8135_02420a3947derow2_col0 {\n",
              "            background-color:  #3e51c5;\n",
              "            color:  #f1f1f1;\n",
              "        }    #T_aa379272_b571_11eb_8135_02420a3947derow3_col0 {\n",
              "            background-color:  #3e51c5;\n",
              "            color:  #f1f1f1;\n",
              "        }    #T_aa379272_b571_11eb_8135_02420a3947derow4_col0 {\n",
              "            background-color:  #6f92f3;\n",
              "            color:  #000000;\n",
              "        }    #T_aa379272_b571_11eb_8135_02420a3947derow5_col0 {\n",
              "            background-color:  #3c4ec2;\n",
              "            color:  #f1f1f1;\n",
              "        }    #T_aa379272_b571_11eb_8135_02420a3947derow6_col0 {\n",
              "            background-color:  #3b4cc0;\n",
              "            color:  #f1f1f1;\n",
              "        }    #T_aa379272_b571_11eb_8135_02420a3947derow7_col0 {\n",
              "            background-color:  #b40426;\n",
              "            color:  #f1f1f1;\n",
              "        }    #T_aa379272_b571_11eb_8135_02420a3947derow8_col0 {\n",
              "            background-color:  #3b4cc0;\n",
              "            color:  #f1f1f1;\n",
              "        }    #T_aa379272_b571_11eb_8135_02420a3947derow9_col0 {\n",
              "            background-color:  #3b4cc0;\n",
              "            color:  #f1f1f1;\n",
              "        }    #T_aa379272_b571_11eb_8135_02420a3947derow10_col0 {\n",
              "            background-color:  #3b4cc0;\n",
              "            color:  #f1f1f1;\n",
              "        }    #T_aa379272_b571_11eb_8135_02420a3947derow11_col0 {\n",
              "            background-color:  #3b4cc0;\n",
              "            color:  #f1f1f1;\n",
              "        }    #T_aa379272_b571_11eb_8135_02420a3947derow12_col0 {\n",
              "            background-color:  #3b4cc0;\n",
              "            color:  #f1f1f1;\n",
              "        }    #T_aa379272_b571_11eb_8135_02420a3947derow13_col0 {\n",
              "            background-color:  #3b4cc0;\n",
              "            color:  #f1f1f1;\n",
              "        }    #T_aa379272_b571_11eb_8135_02420a3947derow14_col0 {\n",
              "            background-color:  #3b4cc0;\n",
              "            color:  #f1f1f1;\n",
              "        }    #T_aa379272_b571_11eb_8135_02420a3947derow15_col0 {\n",
              "            background-color:  #3b4cc0;\n",
              "            color:  #f1f1f1;\n",
              "        }    #T_aa379272_b571_11eb_8135_02420a3947derow16_col0 {\n",
              "            background-color:  #3b4cc0;\n",
              "            color:  #f1f1f1;\n",
              "        }    #T_aa379272_b571_11eb_8135_02420a3947derow17_col0 {\n",
              "            background-color:  #3b4cc0;\n",
              "            color:  #f1f1f1;\n",
              "        }    #T_aa379272_b571_11eb_8135_02420a3947derow18_col0 {\n",
              "            background-color:  #3b4cc0;\n",
              "            color:  #f1f1f1;\n",
              "        }    #T_aa379272_b571_11eb_8135_02420a3947derow19_col0 {\n",
              "            background-color:  #3b4cc0;\n",
              "            color:  #f1f1f1;\n",
              "        }</style><table id=\"T_aa379272_b571_11eb_8135_02420a3947de\" ><thead>    <tr>        <th class=\"blank level0\" ></th>        <th class=\"col_heading level0 col0\" >0</th>    </tr></thead><tbody>\n",
              "                <tr>\n",
              "                        <th id=\"T_aa379272_b571_11eb_8135_02420a3947delevel0_row0\" class=\"row_heading level0 row0\" >user_id</th>\n",
              "                        <td id=\"T_aa379272_b571_11eb_8135_02420a3947derow0_col0\" class=\"data row0 col0\" >0</td>\n",
              "            </tr>\n",
              "            <tr>\n",
              "                        <th id=\"T_aa379272_b571_11eb_8135_02420a3947delevel0_row1\" class=\"row_heading level0 row1\" >month</th>\n",
              "                        <td id=\"T_aa379272_b571_11eb_8135_02420a3947derow1_col0\" class=\"data row1 col0\" >0</td>\n",
              "            </tr>\n",
              "            <tr>\n",
              "                        <th id=\"T_aa379272_b571_11eb_8135_02420a3947delevel0_row2\" class=\"row_heading level0 row2\" >month_calls_duration</th>\n",
              "                        <td id=\"T_aa379272_b571_11eb_8135_02420a3947derow2_col0\" class=\"data row2 col0\" >1.43</td>\n",
              "            </tr>\n",
              "            <tr>\n",
              "                        <th id=\"T_aa379272_b571_11eb_8135_02420a3947delevel0_row3\" class=\"row_heading level0 row3\" >calls_total_in_month</th>\n",
              "                        <td id=\"T_aa379272_b571_11eb_8135_02420a3947derow3_col0\" class=\"data row3 col0\" >1.43</td>\n",
              "            </tr>\n",
              "            <tr>\n",
              "                        <th id=\"T_aa379272_b571_11eb_8135_02420a3947delevel0_row4\" class=\"row_heading level0 row4\" >sms_total_in_month</th>\n",
              "                        <td id=\"T_aa379272_b571_11eb_8135_02420a3947derow4_col0\" class=\"data row4 col0\" >15.46</td>\n",
              "            </tr>\n",
              "            <tr>\n",
              "                        <th id=\"T_aa379272_b571_11eb_8135_02420a3947delevel0_row5\" class=\"row_heading level0 row5\" >mb_total_in_month</th>\n",
              "                        <td id=\"T_aa379272_b571_11eb_8135_02420a3947derow5_col0\" class=\"data row5 col0\" >0.4</td>\n",
              "            </tr>\n",
              "            <tr>\n",
              "                        <th id=\"T_aa379272_b571_11eb_8135_02420a3947delevel0_row6\" class=\"row_heading level0 row6\" >age</th>\n",
              "                        <td id=\"T_aa379272_b571_11eb_8135_02420a3947derow6_col0\" class=\"data row6 col0\" >0</td>\n",
              "            </tr>\n",
              "            <tr>\n",
              "                        <th id=\"T_aa379272_b571_11eb_8135_02420a3947delevel0_row7\" class=\"row_heading level0 row7\" >churn_date</th>\n",
              "                        <td id=\"T_aa379272_b571_11eb_8135_02420a3947derow7_col0\" class=\"data row7 col0\" >94.18</td>\n",
              "            </tr>\n",
              "            <tr>\n",
              "                        <th id=\"T_aa379272_b571_11eb_8135_02420a3947delevel0_row8\" class=\"row_heading level0 row8\" >city</th>\n",
              "                        <td id=\"T_aa379272_b571_11eb_8135_02420a3947derow8_col0\" class=\"data row8 col0\" >0</td>\n",
              "            </tr>\n",
              "            <tr>\n",
              "                        <th id=\"T_aa379272_b571_11eb_8135_02420a3947delevel0_row9\" class=\"row_heading level0 row9\" >first_name</th>\n",
              "                        <td id=\"T_aa379272_b571_11eb_8135_02420a3947derow9_col0\" class=\"data row9 col0\" >0</td>\n",
              "            </tr>\n",
              "            <tr>\n",
              "                        <th id=\"T_aa379272_b571_11eb_8135_02420a3947delevel0_row10\" class=\"row_heading level0 row10\" >last_name</th>\n",
              "                        <td id=\"T_aa379272_b571_11eb_8135_02420a3947derow10_col0\" class=\"data row10 col0\" >0</td>\n",
              "            </tr>\n",
              "            <tr>\n",
              "                        <th id=\"T_aa379272_b571_11eb_8135_02420a3947delevel0_row11\" class=\"row_heading level0 row11\" >reg_date</th>\n",
              "                        <td id=\"T_aa379272_b571_11eb_8135_02420a3947derow11_col0\" class=\"data row11 col0\" >0</td>\n",
              "            </tr>\n",
              "            <tr>\n",
              "                        <th id=\"T_aa379272_b571_11eb_8135_02420a3947delevel0_row12\" class=\"row_heading level0 row12\" >tariff</th>\n",
              "                        <td id=\"T_aa379272_b571_11eb_8135_02420a3947derow12_col0\" class=\"data row12 col0\" >0</td>\n",
              "            </tr>\n",
              "            <tr>\n",
              "                        <th id=\"T_aa379272_b571_11eb_8135_02420a3947delevel0_row13\" class=\"row_heading level0 row13\" >messages_included</th>\n",
              "                        <td id=\"T_aa379272_b571_11eb_8135_02420a3947derow13_col0\" class=\"data row13 col0\" >0</td>\n",
              "            </tr>\n",
              "            <tr>\n",
              "                        <th id=\"T_aa379272_b571_11eb_8135_02420a3947delevel0_row14\" class=\"row_heading level0 row14\" >mb_per_month_included</th>\n",
              "                        <td id=\"T_aa379272_b571_11eb_8135_02420a3947derow14_col0\" class=\"data row14 col0\" >0</td>\n",
              "            </tr>\n",
              "            <tr>\n",
              "                        <th id=\"T_aa379272_b571_11eb_8135_02420a3947delevel0_row15\" class=\"row_heading level0 row15\" >minutes_included</th>\n",
              "                        <td id=\"T_aa379272_b571_11eb_8135_02420a3947derow15_col0\" class=\"data row15 col0\" >0</td>\n",
              "            </tr>\n",
              "            <tr>\n",
              "                        <th id=\"T_aa379272_b571_11eb_8135_02420a3947delevel0_row16\" class=\"row_heading level0 row16\" >rub_monthly_fee</th>\n",
              "                        <td id=\"T_aa379272_b571_11eb_8135_02420a3947derow16_col0\" class=\"data row16 col0\" >0</td>\n",
              "            </tr>\n",
              "            <tr>\n",
              "                        <th id=\"T_aa379272_b571_11eb_8135_02420a3947delevel0_row17\" class=\"row_heading level0 row17\" >rub_per_gb</th>\n",
              "                        <td id=\"T_aa379272_b571_11eb_8135_02420a3947derow17_col0\" class=\"data row17 col0\" >0</td>\n",
              "            </tr>\n",
              "            <tr>\n",
              "                        <th id=\"T_aa379272_b571_11eb_8135_02420a3947delevel0_row18\" class=\"row_heading level0 row18\" >rub_per_message</th>\n",
              "                        <td id=\"T_aa379272_b571_11eb_8135_02420a3947derow18_col0\" class=\"data row18 col0\" >0</td>\n",
              "            </tr>\n",
              "            <tr>\n",
              "                        <th id=\"T_aa379272_b571_11eb_8135_02420a3947delevel0_row19\" class=\"row_heading level0 row19\" >rub_per_minute</th>\n",
              "                        <td id=\"T_aa379272_b571_11eb_8135_02420a3947derow19_col0\" class=\"data row19 col0\" >0</td>\n",
              "            </tr>\n",
              "    </tbody></table>"
            ],
            "text/plain": [
              "<pandas.io.formats.style.Styler at 0x7f8052e7e0d0>"
            ]
          },
          "execution_count": 71,
          "metadata": {},
          "output_type": "execute_result"
        }
      ],
      "source": [
        "pd.DataFrame(round((df.isna().mean()*100),2)).style.background_gradient('coolwarm')"
      ]
    },
    {
      "cell_type": "markdown",
      "metadata": {
        "id": "Uz8dpyNziSnl"
      },
      "source": [
        "После объединения таблиц у нас появились пропуски в следующих переменных:\n",
        "\n",
        "1. month_calls_duration (1.43%)\n",
        "2. calls_total_in_month\t(1.43%)\n",
        "3. sms_total_in_month (15.46)\n",
        "4. mb_total_in_month (0.34%)\n",
        "\n",
        "Пропущенные значения появились в резултате слияния, потому что для строк одной таблицы не находились значения из другой. То есть, например, если определенный пользователь не совершал звонков или не отправлял смс. Поэтому логично предположить, что пустые значения этих переменных можно заполнить нулями."
      ]
    },
    {
      "cell_type": "code",
      "execution_count": null,
      "metadata": {
        "id": "ybMWkdKTiSnl"
      },
      "outputs": [],
      "source": [
        "df['sms_total_in_month'] = df['sms_total_in_month'].fillna(0)\n",
        "df['mb_total_in_month'] = df['mb_total_in_month'].fillna(0)\n",
        "df['month_calls_duration'] = df['month_calls_duration'].fillna(0)\n",
        "df['calls_total_in_month'] = df['calls_total_in_month'].fillna(0)"
      ]
    },
    {
      "cell_type": "code",
      "execution_count": null,
      "metadata": {
        "id": "TUKjWy9TiSnl",
        "outputId": "fe4375d7-b7fd-492e-f7e5-d13005c1e9d5"
      },
      "outputs": [
        {
          "data": {
            "text/html": [
              "<style  type=\"text/css\" >\n",
              "    #T_aa41e2ea_b571_11eb_8135_02420a3947derow0_col0 {\n",
              "            background-color:  #3b4cc0;\n",
              "            color:  #f1f1f1;\n",
              "        }    #T_aa41e2ea_b571_11eb_8135_02420a3947derow1_col0 {\n",
              "            background-color:  #3b4cc0;\n",
              "            color:  #f1f1f1;\n",
              "        }    #T_aa41e2ea_b571_11eb_8135_02420a3947derow2_col0 {\n",
              "            background-color:  #3b4cc0;\n",
              "            color:  #f1f1f1;\n",
              "        }    #T_aa41e2ea_b571_11eb_8135_02420a3947derow3_col0 {\n",
              "            background-color:  #3b4cc0;\n",
              "            color:  #f1f1f1;\n",
              "        }    #T_aa41e2ea_b571_11eb_8135_02420a3947derow4_col0 {\n",
              "            background-color:  #3b4cc0;\n",
              "            color:  #f1f1f1;\n",
              "        }    #T_aa41e2ea_b571_11eb_8135_02420a3947derow5_col0 {\n",
              "            background-color:  #3b4cc0;\n",
              "            color:  #f1f1f1;\n",
              "        }    #T_aa41e2ea_b571_11eb_8135_02420a3947derow6_col0 {\n",
              "            background-color:  #3b4cc0;\n",
              "            color:  #f1f1f1;\n",
              "        }    #T_aa41e2ea_b571_11eb_8135_02420a3947derow7_col0 {\n",
              "            background-color:  #b40426;\n",
              "            color:  #f1f1f1;\n",
              "        }    #T_aa41e2ea_b571_11eb_8135_02420a3947derow8_col0 {\n",
              "            background-color:  #3b4cc0;\n",
              "            color:  #f1f1f1;\n",
              "        }    #T_aa41e2ea_b571_11eb_8135_02420a3947derow9_col0 {\n",
              "            background-color:  #3b4cc0;\n",
              "            color:  #f1f1f1;\n",
              "        }    #T_aa41e2ea_b571_11eb_8135_02420a3947derow10_col0 {\n",
              "            background-color:  #3b4cc0;\n",
              "            color:  #f1f1f1;\n",
              "        }    #T_aa41e2ea_b571_11eb_8135_02420a3947derow11_col0 {\n",
              "            background-color:  #3b4cc0;\n",
              "            color:  #f1f1f1;\n",
              "        }    #T_aa41e2ea_b571_11eb_8135_02420a3947derow12_col0 {\n",
              "            background-color:  #3b4cc0;\n",
              "            color:  #f1f1f1;\n",
              "        }    #T_aa41e2ea_b571_11eb_8135_02420a3947derow13_col0 {\n",
              "            background-color:  #3b4cc0;\n",
              "            color:  #f1f1f1;\n",
              "        }    #T_aa41e2ea_b571_11eb_8135_02420a3947derow14_col0 {\n",
              "            background-color:  #3b4cc0;\n",
              "            color:  #f1f1f1;\n",
              "        }    #T_aa41e2ea_b571_11eb_8135_02420a3947derow15_col0 {\n",
              "            background-color:  #3b4cc0;\n",
              "            color:  #f1f1f1;\n",
              "        }    #T_aa41e2ea_b571_11eb_8135_02420a3947derow16_col0 {\n",
              "            background-color:  #3b4cc0;\n",
              "            color:  #f1f1f1;\n",
              "        }    #T_aa41e2ea_b571_11eb_8135_02420a3947derow17_col0 {\n",
              "            background-color:  #3b4cc0;\n",
              "            color:  #f1f1f1;\n",
              "        }    #T_aa41e2ea_b571_11eb_8135_02420a3947derow18_col0 {\n",
              "            background-color:  #3b4cc0;\n",
              "            color:  #f1f1f1;\n",
              "        }    #T_aa41e2ea_b571_11eb_8135_02420a3947derow19_col0 {\n",
              "            background-color:  #3b4cc0;\n",
              "            color:  #f1f1f1;\n",
              "        }</style><table id=\"T_aa41e2ea_b571_11eb_8135_02420a3947de\" ><thead>    <tr>        <th class=\"blank level0\" ></th>        <th class=\"col_heading level0 col0\" >0</th>    </tr></thead><tbody>\n",
              "                <tr>\n",
              "                        <th id=\"T_aa41e2ea_b571_11eb_8135_02420a3947delevel0_row0\" class=\"row_heading level0 row0\" >user_id</th>\n",
              "                        <td id=\"T_aa41e2ea_b571_11eb_8135_02420a3947derow0_col0\" class=\"data row0 col0\" >0</td>\n",
              "            </tr>\n",
              "            <tr>\n",
              "                        <th id=\"T_aa41e2ea_b571_11eb_8135_02420a3947delevel0_row1\" class=\"row_heading level0 row1\" >month</th>\n",
              "                        <td id=\"T_aa41e2ea_b571_11eb_8135_02420a3947derow1_col0\" class=\"data row1 col0\" >0</td>\n",
              "            </tr>\n",
              "            <tr>\n",
              "                        <th id=\"T_aa41e2ea_b571_11eb_8135_02420a3947delevel0_row2\" class=\"row_heading level0 row2\" >month_calls_duration</th>\n",
              "                        <td id=\"T_aa41e2ea_b571_11eb_8135_02420a3947derow2_col0\" class=\"data row2 col0\" >0</td>\n",
              "            </tr>\n",
              "            <tr>\n",
              "                        <th id=\"T_aa41e2ea_b571_11eb_8135_02420a3947delevel0_row3\" class=\"row_heading level0 row3\" >calls_total_in_month</th>\n",
              "                        <td id=\"T_aa41e2ea_b571_11eb_8135_02420a3947derow3_col0\" class=\"data row3 col0\" >0</td>\n",
              "            </tr>\n",
              "            <tr>\n",
              "                        <th id=\"T_aa41e2ea_b571_11eb_8135_02420a3947delevel0_row4\" class=\"row_heading level0 row4\" >sms_total_in_month</th>\n",
              "                        <td id=\"T_aa41e2ea_b571_11eb_8135_02420a3947derow4_col0\" class=\"data row4 col0\" >0</td>\n",
              "            </tr>\n",
              "            <tr>\n",
              "                        <th id=\"T_aa41e2ea_b571_11eb_8135_02420a3947delevel0_row5\" class=\"row_heading level0 row5\" >mb_total_in_month</th>\n",
              "                        <td id=\"T_aa41e2ea_b571_11eb_8135_02420a3947derow5_col0\" class=\"data row5 col0\" >0</td>\n",
              "            </tr>\n",
              "            <tr>\n",
              "                        <th id=\"T_aa41e2ea_b571_11eb_8135_02420a3947delevel0_row6\" class=\"row_heading level0 row6\" >age</th>\n",
              "                        <td id=\"T_aa41e2ea_b571_11eb_8135_02420a3947derow6_col0\" class=\"data row6 col0\" >0</td>\n",
              "            </tr>\n",
              "            <tr>\n",
              "                        <th id=\"T_aa41e2ea_b571_11eb_8135_02420a3947delevel0_row7\" class=\"row_heading level0 row7\" >churn_date</th>\n",
              "                        <td id=\"T_aa41e2ea_b571_11eb_8135_02420a3947derow7_col0\" class=\"data row7 col0\" >94.18</td>\n",
              "            </tr>\n",
              "            <tr>\n",
              "                        <th id=\"T_aa41e2ea_b571_11eb_8135_02420a3947delevel0_row8\" class=\"row_heading level0 row8\" >city</th>\n",
              "                        <td id=\"T_aa41e2ea_b571_11eb_8135_02420a3947derow8_col0\" class=\"data row8 col0\" >0</td>\n",
              "            </tr>\n",
              "            <tr>\n",
              "                        <th id=\"T_aa41e2ea_b571_11eb_8135_02420a3947delevel0_row9\" class=\"row_heading level0 row9\" >first_name</th>\n",
              "                        <td id=\"T_aa41e2ea_b571_11eb_8135_02420a3947derow9_col0\" class=\"data row9 col0\" >0</td>\n",
              "            </tr>\n",
              "            <tr>\n",
              "                        <th id=\"T_aa41e2ea_b571_11eb_8135_02420a3947delevel0_row10\" class=\"row_heading level0 row10\" >last_name</th>\n",
              "                        <td id=\"T_aa41e2ea_b571_11eb_8135_02420a3947derow10_col0\" class=\"data row10 col0\" >0</td>\n",
              "            </tr>\n",
              "            <tr>\n",
              "                        <th id=\"T_aa41e2ea_b571_11eb_8135_02420a3947delevel0_row11\" class=\"row_heading level0 row11\" >reg_date</th>\n",
              "                        <td id=\"T_aa41e2ea_b571_11eb_8135_02420a3947derow11_col0\" class=\"data row11 col0\" >0</td>\n",
              "            </tr>\n",
              "            <tr>\n",
              "                        <th id=\"T_aa41e2ea_b571_11eb_8135_02420a3947delevel0_row12\" class=\"row_heading level0 row12\" >tariff</th>\n",
              "                        <td id=\"T_aa41e2ea_b571_11eb_8135_02420a3947derow12_col0\" class=\"data row12 col0\" >0</td>\n",
              "            </tr>\n",
              "            <tr>\n",
              "                        <th id=\"T_aa41e2ea_b571_11eb_8135_02420a3947delevel0_row13\" class=\"row_heading level0 row13\" >messages_included</th>\n",
              "                        <td id=\"T_aa41e2ea_b571_11eb_8135_02420a3947derow13_col0\" class=\"data row13 col0\" >0</td>\n",
              "            </tr>\n",
              "            <tr>\n",
              "                        <th id=\"T_aa41e2ea_b571_11eb_8135_02420a3947delevel0_row14\" class=\"row_heading level0 row14\" >mb_per_month_included</th>\n",
              "                        <td id=\"T_aa41e2ea_b571_11eb_8135_02420a3947derow14_col0\" class=\"data row14 col0\" >0</td>\n",
              "            </tr>\n",
              "            <tr>\n",
              "                        <th id=\"T_aa41e2ea_b571_11eb_8135_02420a3947delevel0_row15\" class=\"row_heading level0 row15\" >minutes_included</th>\n",
              "                        <td id=\"T_aa41e2ea_b571_11eb_8135_02420a3947derow15_col0\" class=\"data row15 col0\" >0</td>\n",
              "            </tr>\n",
              "            <tr>\n",
              "                        <th id=\"T_aa41e2ea_b571_11eb_8135_02420a3947delevel0_row16\" class=\"row_heading level0 row16\" >rub_monthly_fee</th>\n",
              "                        <td id=\"T_aa41e2ea_b571_11eb_8135_02420a3947derow16_col0\" class=\"data row16 col0\" >0</td>\n",
              "            </tr>\n",
              "            <tr>\n",
              "                        <th id=\"T_aa41e2ea_b571_11eb_8135_02420a3947delevel0_row17\" class=\"row_heading level0 row17\" >rub_per_gb</th>\n",
              "                        <td id=\"T_aa41e2ea_b571_11eb_8135_02420a3947derow17_col0\" class=\"data row17 col0\" >0</td>\n",
              "            </tr>\n",
              "            <tr>\n",
              "                        <th id=\"T_aa41e2ea_b571_11eb_8135_02420a3947delevel0_row18\" class=\"row_heading level0 row18\" >rub_per_message</th>\n",
              "                        <td id=\"T_aa41e2ea_b571_11eb_8135_02420a3947derow18_col0\" class=\"data row18 col0\" >0</td>\n",
              "            </tr>\n",
              "            <tr>\n",
              "                        <th id=\"T_aa41e2ea_b571_11eb_8135_02420a3947delevel0_row19\" class=\"row_heading level0 row19\" >rub_per_minute</th>\n",
              "                        <td id=\"T_aa41e2ea_b571_11eb_8135_02420a3947derow19_col0\" class=\"data row19 col0\" >0</td>\n",
              "            </tr>\n",
              "    </tbody></table>"
            ],
            "text/plain": [
              "<pandas.io.formats.style.Styler at 0x7f8052873b90>"
            ]
          },
          "execution_count": 73,
          "metadata": {},
          "output_type": "execute_result"
        }
      ],
      "source": [
        "pd.DataFrame(round((df.isna().mean()*100),2)).style.background_gradient('coolwarm')"
      ]
    },
    {
      "cell_type": "markdown",
      "metadata": {
        "id": "6LVnw__XiSnm"
      },
      "source": [
        "Все шикарно, с пустыми значениями покончено."
      ]
    },
    {
      "cell_type": "markdown",
      "metadata": {
        "id": "d7l4gAdhiSnm"
      },
      "source": [
        "А теперь приступим к тому, ради чего сливали таблицы - посчитаем помесячную выручку с каждого пользователя.\n",
        "\n",
        "***Вычтите бесплатный лимит из суммарного количества звонков, сообщений и интернет-трафика; остаток умножьте на значение из тарифного плана; прибавьте абонентскую плату, соответствующую тарифному плану***"
      ]
    },
    {
      "cell_type": "code",
      "execution_count": null,
      "metadata": {
        "id": "yZqyg23PiSnm"
      },
      "outputs": [],
      "source": [
        "def above_the_tariff(row):\n",
        "    sms = (row['sms_total_in_month'] - row['messages_included']) * row['rub_per_message']\n",
        "    mins = (row['month_calls_duration'] - row['minutes_included']) * row['rub_per_minute']\n",
        "    mbs = np.ceil(((row['mb_total_in_month'] - row['mb_per_month_included']) / 1024)) * row['rub_per_gb']\n",
        "    total = 0\n",
        "    for i in [sms, mins, mbs]:\n",
        "        if i > 0:\n",
        "            total += i\n",
        "    return total"
      ]
    },
    {
      "cell_type": "code",
      "execution_count": null,
      "metadata": {
        "id": "QcQZL3bqiSnm",
        "outputId": "e0762c7a-de97-4bf7-8824-46cbdc95d7c3"
      },
      "outputs": [
        {
          "data": {
            "text/html": [
              "<div>\n",
              "<style scoped>\n",
              "    .dataframe tbody tr th:only-of-type {\n",
              "        vertical-align: middle;\n",
              "    }\n",
              "\n",
              "    .dataframe tbody tr th {\n",
              "        vertical-align: top;\n",
              "    }\n",
              "\n",
              "    .dataframe thead th {\n",
              "        text-align: right;\n",
              "    }\n",
              "</style>\n",
              "<table border=\"1\" class=\"dataframe\">\n",
              "  <thead>\n",
              "    <tr style=\"text-align: right;\">\n",
              "      <th></th>\n",
              "      <th>user_id</th>\n",
              "      <th>month</th>\n",
              "      <th>month_calls_duration</th>\n",
              "      <th>calls_total_in_month</th>\n",
              "      <th>sms_total_in_month</th>\n",
              "      <th>mb_total_in_month</th>\n",
              "      <th>age</th>\n",
              "      <th>churn_date</th>\n",
              "      <th>city</th>\n",
              "      <th>first_name</th>\n",
              "      <th>last_name</th>\n",
              "      <th>reg_date</th>\n",
              "      <th>tariff</th>\n",
              "      <th>messages_included</th>\n",
              "      <th>mb_per_month_included</th>\n",
              "      <th>minutes_included</th>\n",
              "      <th>rub_monthly_fee</th>\n",
              "      <th>rub_per_gb</th>\n",
              "      <th>rub_per_message</th>\n",
              "      <th>rub_per_minute</th>\n",
              "    </tr>\n",
              "  </thead>\n",
              "  <tbody>\n",
              "    <tr>\n",
              "      <td>0</td>\n",
              "      <td>1000</td>\n",
              "      <td>5</td>\n",
              "      <td>159.000</td>\n",
              "      <td>17.000</td>\n",
              "      <td>22.000</td>\n",
              "      <td>2256.000</td>\n",
              "      <td>52</td>\n",
              "      <td>NaT</td>\n",
              "      <td>Краснодар</td>\n",
              "      <td>Рафаил</td>\n",
              "      <td>Верещагин</td>\n",
              "      <td>2018-05-25</td>\n",
              "      <td>ultra</td>\n",
              "      <td>1000</td>\n",
              "      <td>30720</td>\n",
              "      <td>3000</td>\n",
              "      <td>1950</td>\n",
              "      <td>150</td>\n",
              "      <td>1</td>\n",
              "      <td>1</td>\n",
              "    </tr>\n",
              "    <tr>\n",
              "      <td>1</td>\n",
              "      <td>1000</td>\n",
              "      <td>6</td>\n",
              "      <td>172.000</td>\n",
              "      <td>28.000</td>\n",
              "      <td>60.000</td>\n",
              "      <td>23257.000</td>\n",
              "      <td>52</td>\n",
              "      <td>NaT</td>\n",
              "      <td>Краснодар</td>\n",
              "      <td>Рафаил</td>\n",
              "      <td>Верещагин</td>\n",
              "      <td>2018-05-25</td>\n",
              "      <td>ultra</td>\n",
              "      <td>1000</td>\n",
              "      <td>30720</td>\n",
              "      <td>3000</td>\n",
              "      <td>1950</td>\n",
              "      <td>150</td>\n",
              "      <td>1</td>\n",
              "      <td>1</td>\n",
              "    </tr>\n",
              "    <tr>\n",
              "      <td>2</td>\n",
              "      <td>1000</td>\n",
              "      <td>7</td>\n",
              "      <td>340.000</td>\n",
              "      <td>41.000</td>\n",
              "      <td>75.000</td>\n",
              "      <td>14016.000</td>\n",
              "      <td>52</td>\n",
              "      <td>NaT</td>\n",
              "      <td>Краснодар</td>\n",
              "      <td>Рафаил</td>\n",
              "      <td>Верещагин</td>\n",
              "      <td>2018-05-25</td>\n",
              "      <td>ultra</td>\n",
              "      <td>1000</td>\n",
              "      <td>30720</td>\n",
              "      <td>3000</td>\n",
              "      <td>1950</td>\n",
              "      <td>150</td>\n",
              "      <td>1</td>\n",
              "      <td>1</td>\n",
              "    </tr>\n",
              "    <tr>\n",
              "      <td>3</td>\n",
              "      <td>1000</td>\n",
              "      <td>8</td>\n",
              "      <td>408.000</td>\n",
              "      <td>42.000</td>\n",
              "      <td>81.000</td>\n",
              "      <td>14070.000</td>\n",
              "      <td>52</td>\n",
              "      <td>NaT</td>\n",
              "      <td>Краснодар</td>\n",
              "      <td>Рафаил</td>\n",
              "      <td>Верещагин</td>\n",
              "      <td>2018-05-25</td>\n",
              "      <td>ultra</td>\n",
              "      <td>1000</td>\n",
              "      <td>30720</td>\n",
              "      <td>3000</td>\n",
              "      <td>1950</td>\n",
              "      <td>150</td>\n",
              "      <td>1</td>\n",
              "      <td>1</td>\n",
              "    </tr>\n",
              "    <tr>\n",
              "      <td>4</td>\n",
              "      <td>1000</td>\n",
              "      <td>9</td>\n",
              "      <td>466.000</td>\n",
              "      <td>46.000</td>\n",
              "      <td>57.000</td>\n",
              "      <td>14581.000</td>\n",
              "      <td>52</td>\n",
              "      <td>NaT</td>\n",
              "      <td>Краснодар</td>\n",
              "      <td>Рафаил</td>\n",
              "      <td>Верещагин</td>\n",
              "      <td>2018-05-25</td>\n",
              "      <td>ultra</td>\n",
              "      <td>1000</td>\n",
              "      <td>30720</td>\n",
              "      <td>3000</td>\n",
              "      <td>1950</td>\n",
              "      <td>150</td>\n",
              "      <td>1</td>\n",
              "      <td>1</td>\n",
              "    </tr>\n",
              "  </tbody>\n",
              "</table>\n",
              "</div>"
            ],
            "text/plain": [
              "   user_id  month  month_calls_duration  calls_total_in_month  \\\n",
              "0     1000      5               159.000                17.000   \n",
              "1     1000      6               172.000                28.000   \n",
              "2     1000      7               340.000                41.000   \n",
              "3     1000      8               408.000                42.000   \n",
              "4     1000      9               466.000                46.000   \n",
              "\n",
              "   sms_total_in_month  mb_total_in_month  age churn_date       city  \\\n",
              "0              22.000           2256.000   52        NaT  Краснодар   \n",
              "1              60.000          23257.000   52        NaT  Краснодар   \n",
              "2              75.000          14016.000   52        NaT  Краснодар   \n",
              "3              81.000          14070.000   52        NaT  Краснодар   \n",
              "4              57.000          14581.000   52        NaT  Краснодар   \n",
              "\n",
              "  first_name  last_name   reg_date tariff  messages_included  \\\n",
              "0     Рафаил  Верещагин 2018-05-25  ultra               1000   \n",
              "1     Рафаил  Верещагин 2018-05-25  ultra               1000   \n",
              "2     Рафаил  Верещагин 2018-05-25  ultra               1000   \n",
              "3     Рафаил  Верещагин 2018-05-25  ultra               1000   \n",
              "4     Рафаил  Верещагин 2018-05-25  ultra               1000   \n",
              "\n",
              "   mb_per_month_included  minutes_included  rub_monthly_fee  rub_per_gb  \\\n",
              "0                  30720              3000             1950         150   \n",
              "1                  30720              3000             1950         150   \n",
              "2                  30720              3000             1950         150   \n",
              "3                  30720              3000             1950         150   \n",
              "4                  30720              3000             1950         150   \n",
              "\n",
              "   rub_per_message  rub_per_minute  \n",
              "0                1               1  \n",
              "1                1               1  \n",
              "2                1               1  \n",
              "3                1               1  \n",
              "4                1               1  "
            ]
          },
          "execution_count": 76,
          "metadata": {},
          "output_type": "execute_result"
        }
      ],
      "source": [
        "df.head()"
      ]
    },
    {
      "cell_type": "code",
      "execution_count": null,
      "metadata": {
        "id": "BnyVMqRfiSnm"
      },
      "outputs": [],
      "source": [
        "df['above_the_tariff'] = df.apply(lambda x: above_the_tariff(x), axis=1)"
      ]
    },
    {
      "cell_type": "code",
      "execution_count": null,
      "metadata": {
        "id": "15bgSbQTiSnm"
      },
      "outputs": [],
      "source": [
        "df['total_paid'] = df['rub_monthly_fee'] + df['above_the_tariff']"
      ]
    },
    {
      "cell_type": "code",
      "execution_count": null,
      "metadata": {
        "id": "EjaOQ-4JiSnn",
        "outputId": "eff74e84-41e6-4870-aa09-18ab840b667f"
      },
      "outputs": [
        {
          "data": {
            "text/html": [
              "<div>\n",
              "<style scoped>\n",
              "    .dataframe tbody tr th:only-of-type {\n",
              "        vertical-align: middle;\n",
              "    }\n",
              "\n",
              "    .dataframe tbody tr th {\n",
              "        vertical-align: top;\n",
              "    }\n",
              "\n",
              "    .dataframe thead th {\n",
              "        text-align: right;\n",
              "    }\n",
              "</style>\n",
              "<table border=\"1\" class=\"dataframe\">\n",
              "  <thead>\n",
              "    <tr style=\"text-align: right;\">\n",
              "      <th></th>\n",
              "      <th>above_the_tariff</th>\n",
              "      <th>total_paid</th>\n",
              "    </tr>\n",
              "  </thead>\n",
              "  <tbody>\n",
              "    <tr>\n",
              "      <td>count</td>\n",
              "      <td>3214.000</td>\n",
              "      <td>3214.000</td>\n",
              "    </tr>\n",
              "    <tr>\n",
              "      <td>mean</td>\n",
              "      <td>553.532</td>\n",
              "      <td>1532.592</td>\n",
              "    </tr>\n",
              "    <tr>\n",
              "      <td>std</td>\n",
              "      <td>770.678</td>\n",
              "      <td>799.651</td>\n",
              "    </tr>\n",
              "    <tr>\n",
              "      <td>min</td>\n",
              "      <td>0.000</td>\n",
              "      <td>550.000</td>\n",
              "    </tr>\n",
              "    <tr>\n",
              "      <td>25%</td>\n",
              "      <td>0.000</td>\n",
              "      <td>750.000</td>\n",
              "    </tr>\n",
              "    <tr>\n",
              "      <td>50%</td>\n",
              "      <td>168.000</td>\n",
              "      <td>1667.500</td>\n",
              "    </tr>\n",
              "    <tr>\n",
              "      <td>75%</td>\n",
              "      <td>953.000</td>\n",
              "      <td>1950.000</td>\n",
              "    </tr>\n",
              "    <tr>\n",
              "      <td>max</td>\n",
              "      <td>6220.000</td>\n",
              "      <td>6770.000</td>\n",
              "    </tr>\n",
              "  </tbody>\n",
              "</table>\n",
              "</div>"
            ],
            "text/plain": [
              "       above_the_tariff  total_paid\n",
              "count          3214.000    3214.000\n",
              "mean            553.532    1532.592\n",
              "std             770.678     799.651\n",
              "min               0.000     550.000\n",
              "25%               0.000     750.000\n",
              "50%             168.000    1667.500\n",
              "75%             953.000    1950.000\n",
              "max            6220.000    6770.000"
            ]
          },
          "execution_count": 79,
          "metadata": {},
          "output_type": "execute_result"
        }
      ],
      "source": [
        "df[['above_the_tariff', 'total_paid']].describe()"
      ]
    },
    {
      "cell_type": "markdown",
      "metadata": {
        "id": "sDswuWoSiSnn"
      },
      "source": [
        "Данные выглядят реалистично. Большая доля людей не выходит за границы лимитов своего тарифа, более половины респондентов превышает лимиты трафика не более, чем на 168 рублей."
      ]
    },
    {
      "cell_type": "markdown",
      "metadata": {
        "id": "S45LwH_ZiSnn"
      },
      "source": [
        "## Анализ данных"
      ]
    },
    {
      "cell_type": "markdown",
      "metadata": {
        "id": "W7SUdjPQiSnn"
      },
      "source": [
        "### Длительность звонков"
      ]
    },
    {
      "cell_type": "markdown",
      "metadata": {
        "id": "o8E9MVBhiSnn"
      },
      "source": [
        "Опишите поведение клиентов оператора, исходя из выборки. Сколько минут разговора, сколько сообщений и какой объём интернет-трафика требуется пользователям каждого тарифа в месяц? Посчитайте среднее количество, дисперсию и стандартное отклонение. Постройте гистограммы. Опишите распределения."
      ]
    },
    {
      "cell_type": "code",
      "execution_count": null,
      "metadata": {
        "id": "W9X0FV0wiSno",
        "outputId": "3daf5ace-537c-431f-90a6-cf322171f578"
      },
      "outputs": [
        {
          "data": {
            "text/plain": [
              "count   2229.000\n",
              "mean     417.935\n",
              "std      190.314\n",
              "min        0.000\n",
              "25%      282.000\n",
              "50%      422.000\n",
              "75%      545.000\n",
              "max     1435.000\n",
              "Name: month_calls_duration, dtype: float64"
            ]
          },
          "execution_count": 80,
          "metadata": {},
          "output_type": "execute_result"
        }
      ],
      "source": [
        "df[df['tariff'] == 'smart']['month_calls_duration'].describe()"
      ]
    },
    {
      "cell_type": "code",
      "execution_count": null,
      "metadata": {
        "scrolled": true,
        "id": "A-mNENfYiSno",
        "outputId": "577c4dee-cead-4f9f-862d-1b2d6305e324"
      },
      "outputs": [
        {
          "data": {
            "text/plain": [
              "count    985.000\n",
              "mean     526.623\n",
              "std      317.606\n",
              "min        0.000\n",
              "25%      284.000\n",
              "50%      518.000\n",
              "75%      752.000\n",
              "max     1673.000\n",
              "Name: month_calls_duration, dtype: float64"
            ]
          },
          "execution_count": 81,
          "metadata": {},
          "output_type": "execute_result"
        }
      ],
      "source": [
        "df[df['tariff'] == 'ultra']['month_calls_duration'].describe()"
      ]
    },
    {
      "cell_type": "code",
      "execution_count": null,
      "metadata": {
        "id": "R04efTO7iSno",
        "outputId": "1c3291c9-68e8-470e-b57d-dedb239f246c"
      },
      "outputs": [
        {
          "data": {
            "text/html": [
              "<style  type=\"text/css\" >\n",
              "</style><table id=\"T_aac94f1e_b571_11eb_8135_02420a3947de\" ><thead>    <tr>        <th class=\"blank level0\" ></th>        <th class=\"col_heading level0 col0\" colspan=4>month_calls_duration</th>    </tr>    <tr>        <th class=\"blank level1\" ></th>        <th class=\"col_heading level1 col0\" >median</th>        <th class=\"col_heading level1 col1\" >mean</th>        <th class=\"col_heading level1 col2\" >var</th>        <th class=\"col_heading level1 col3\" >std</th>    </tr>    <tr>        <th class=\"index_name level0\" >tariff</th>        <th class=\"blank\" ></th>        <th class=\"blank\" ></th>        <th class=\"blank\" ></th>        <th class=\"blank\" ></th>    </tr></thead><tbody>\n",
              "                <tr>\n",
              "                        <th id=\"T_aac94f1e_b571_11eb_8135_02420a3947delevel0_row0\" class=\"row_heading level0 row0\" >smart</th>\n",
              "                        <td id=\"T_aac94f1e_b571_11eb_8135_02420a3947derow0_col0\" class=\"data row0 col0\" >422.00</td>\n",
              "                        <td id=\"T_aac94f1e_b571_11eb_8135_02420a3947derow0_col1\" class=\"data row0 col1\" >417.93</td>\n",
              "                        <td id=\"T_aac94f1e_b571_11eb_8135_02420a3947derow0_col2\" class=\"data row0 col2\" >36219.32</td>\n",
              "                        <td id=\"T_aac94f1e_b571_11eb_8135_02420a3947derow0_col3\" class=\"data row0 col3\" >190.31</td>\n",
              "            </tr>\n",
              "            <tr>\n",
              "                        <th id=\"T_aac94f1e_b571_11eb_8135_02420a3947delevel0_row1\" class=\"row_heading level0 row1\" >ultra</th>\n",
              "                        <td id=\"T_aac94f1e_b571_11eb_8135_02420a3947derow1_col0\" class=\"data row1 col0\" >518.00</td>\n",
              "                        <td id=\"T_aac94f1e_b571_11eb_8135_02420a3947derow1_col1\" class=\"data row1 col1\" >526.62</td>\n",
              "                        <td id=\"T_aac94f1e_b571_11eb_8135_02420a3947derow1_col2\" class=\"data row1 col2\" >100873.63</td>\n",
              "                        <td id=\"T_aac94f1e_b571_11eb_8135_02420a3947derow1_col3\" class=\"data row1 col3\" >317.61</td>\n",
              "            </tr>\n",
              "    </tbody></table>"
            ],
            "text/plain": [
              "<pandas.io.formats.style.Styler at 0x7f80549f10d0>"
            ]
          },
          "execution_count": 82,
          "metadata": {},
          "output_type": "execute_result"
        }
      ],
      "source": [
        "df.groupby('tariff')\\\n",
        "  .agg({'month_calls_duration':['median','mean','var','std']})\\\n",
        "  .style.format(\"{:.2f}\")"
      ]
    },
    {
      "cell_type": "markdown",
      "metadata": {
        "id": "pt7Cms_WiSno"
      },
      "source": [
        "Половина всех звонков в месяц по тарифу \"smart\" длится от 282 до 545 минут.\n",
        "Половина всех звонков в месяц по тарифу \"ultra\" длится от 284 до 752 минут. \n",
        "\n",
        "Средняя длительност звонка по тарифу \"smart\" равна 417.93 минут.\n",
        "Средняя длительност звонка по тарифу \"ultra\" равна 526.62 минут.\n",
        "\n",
        "В среднем абоненты тарифа \"ultra\" звонят приблизительно на 100 минут больше абонентов тарифа \"smart\" (медиана для \"smart\": 422 минуты, медиана для \"ultra\": 518 минут).\n",
        "\n",
        "Дисперсия и стандартное отклонение на порядок выше по тарифу ultra, что свидетельствует о большем разбросе количества проговоренных минут среди абонентов тарифа ultra по сравнению с абонентами тарифа smart."
      ]
    },
    {
      "cell_type": "code",
      "execution_count": null,
      "metadata": {
        "id": "ovtbbjfeiSnp",
        "outputId": "9e936929-b38a-466c-aa13-6178e530f89f"
      },
      "outputs": [
        {
          "data": {
            "image/png": "[encoded data removed]",
            "text/plain": [
              "<Figure size 936x648 with 4 Axes>"
            ]
          },
          "metadata": {
            "needs_background": "light"
          },
          "output_type": "display_data"
        }
      ],
      "source": [
        "fig = plt.figure(figsize=(13,9))\n",
        "ax1 = fig.add_subplot(2,2,1)\n",
        "ax2 = fig.add_subplot(2,2,2)\n",
        "ax3 = fig.add_subplot(2,2,3)\n",
        "ax4 = fig.add_subplot(2,2,4)\n",
        "\n",
        "ax1.title.set_text('Смарт — Звонки в минутах в месяц (мин)')\n",
        "ax2.title.set_text('Ультра — Звонки в минутах в месяц (мин)')\n",
        "ax3.title.set_text('Смарт — Звонки в минутах в месяц (мин)')\n",
        "ax4.title.set_text('Ультра — Звонки в минутах в месяц (мин)')\n",
        "\n",
        "ax1.title.set_color('black')\n",
        "ax2.title.set_color('black')\n",
        "ax3.title.set_color('black')\n",
        "ax4.title.set_color('black')\n",
        "\n",
        "ax1.title.set_size(13)\n",
        "ax2.title.set_size(13)\n",
        "ax3.title.set_size(13)\n",
        "ax4.title.set_size(13)\n",
        "\n",
        "\n",
        "ax1.set_xlabel('Длительность (мин)')\n",
        "\n",
        "ax2.set_xlabel('Длительность (мин)')\n",
        "\n",
        "ax3.set_xlabel('Длительность (мин)')\n",
        "ax3.set_ylabel('Частота')\n",
        "\n",
        "ax4.set_xlabel('Длительность (мин)')\n",
        "ax4.set_ylabel('Частота')\n",
        "\n",
        "fig.tight_layout()\n",
        "\n",
        "ax1.boxplot(df[df['tariff'] == 'smart']['month_calls_duration'], notch=True, sym=\"o\",vert=False, widths = 0.1, patch_artist = True);\n",
        "ax2.boxplot(df[df['tariff'] == 'ultra']['month_calls_duration'], notch=True, sym=\"o\",vert=False, widths = 0.1, patch_artist = True);\n",
        "ax3.hist(df[df['tariff'] == 'smart']['month_calls_duration'], bins=100,color='blue');\n",
        "ax4.hist(df[df['tariff'] == 'ultra']['month_calls_duration'], bins=100,color='green');\n"
      ]
    },
    {
      "cell_type": "markdown",
      "metadata": {
        "id": "8WvXypr5iSnp"
      },
      "source": [
        "Распределение по звонкам в минутах в месяц для тарифа \"smart\" ближе к нормальному распределению. Графики отлично демонстрируют, почему у тарифа 'ultra' большая дисперсия: наблюдается большое количество значений сильно отклоняющихся от среднего (526.62), как в меньшую сторону (большое число звонков дляшихся не больше одной минуты, так и в большую - более длинный хвост справа. \n",
        "\n",
        "Экстримально высоких значений при этом больше в тарифе smart."
      ]
    },
    {
      "cell_type": "markdown",
      "metadata": {
        "id": "3Zxva4BTiSnq"
      },
      "source": [
        "### Объём интернет-трафика"
      ]
    },
    {
      "cell_type": "code",
      "execution_count": null,
      "metadata": {
        "id": "iC0TRKvFiSnq",
        "outputId": "304ac272-d9c1-4b4c-88b4-4630f820f575"
      },
      "outputs": [
        {
          "data": {
            "text/plain": [
              "count    2229.000\n",
              "mean    16229.188\n",
              "std      5877.577\n",
              "min         0.000\n",
              "25%     12658.000\n",
              "50%     16531.000\n",
              "75%     20068.000\n",
              "max     38610.000\n",
              "Name: mb_total_in_month, dtype: float64"
            ]
          },
          "execution_count": 84,
          "metadata": {},
          "output_type": "execute_result"
        }
      ],
      "source": [
        "df[df['tariff'] == 'smart']['mb_total_in_month'].describe()"
      ]
    },
    {
      "cell_type": "code",
      "execution_count": null,
      "metadata": {
        "id": "6qEzzHqMiSnq",
        "outputId": "4c25111a-ebcd-4cbd-a33e-5d80e324f461"
      },
      "outputs": [
        {
          "data": {
            "text/plain": [
              "count     985.000\n",
              "mean    19486.902\n",
              "std     10096.317\n",
              "min         0.000\n",
              "25%     11785.000\n",
              "50%     19324.000\n",
              "75%     26863.000\n",
              "max     49789.000\n",
              "Name: mb_total_in_month, dtype: float64"
            ]
          },
          "execution_count": 85,
          "metadata": {},
          "output_type": "execute_result"
        }
      ],
      "source": [
        "df[df['tariff'] == 'ultra']['mb_total_in_month'].describe()"
      ]
    },
    {
      "cell_type": "code",
      "execution_count": null,
      "metadata": {
        "id": "ff6OqdYGiSnq",
        "outputId": "fcbc717f-f1ff-43fe-efed-ed4f4941cb1f"
      },
      "outputs": [
        {
          "data": {
            "text/html": [
              "<style  type=\"text/css\" >\n",
              "</style><table id=\"T_ac23680e_b571_11eb_8135_02420a3947de\" ><thead>    <tr>        <th class=\"blank level0\" ></th>        <th class=\"col_heading level0 col0\" colspan=4>mb_total_in_month</th>    </tr>    <tr>        <th class=\"blank level1\" ></th>        <th class=\"col_heading level1 col0\" >median</th>        <th class=\"col_heading level1 col1\" >mean</th>        <th class=\"col_heading level1 col2\" >var</th>        <th class=\"col_heading level1 col3\" >std</th>    </tr>    <tr>        <th class=\"index_name level0\" >tariff</th>        <th class=\"blank\" ></th>        <th class=\"blank\" ></th>        <th class=\"blank\" ></th>        <th class=\"blank\" ></th>    </tr></thead><tbody>\n",
              "                <tr>\n",
              "                        <th id=\"T_ac23680e_b571_11eb_8135_02420a3947delevel0_row0\" class=\"row_heading level0 row0\" >smart</th>\n",
              "                        <td id=\"T_ac23680e_b571_11eb_8135_02420a3947derow0_col0\" class=\"data row0 col0\" >16531.00</td>\n",
              "                        <td id=\"T_ac23680e_b571_11eb_8135_02420a3947derow0_col1\" class=\"data row0 col1\" >16229.19</td>\n",
              "                        <td id=\"T_ac23680e_b571_11eb_8135_02420a3947derow0_col2\" class=\"data row0 col2\" >34545911.13</td>\n",
              "                        <td id=\"T_ac23680e_b571_11eb_8135_02420a3947derow0_col3\" class=\"data row0 col3\" >5877.58</td>\n",
              "            </tr>\n",
              "            <tr>\n",
              "                        <th id=\"T_ac23680e_b571_11eb_8135_02420a3947delevel0_row1\" class=\"row_heading level0 row1\" >ultra</th>\n",
              "                        <td id=\"T_ac23680e_b571_11eb_8135_02420a3947derow1_col0\" class=\"data row1 col0\" >19324.00</td>\n",
              "                        <td id=\"T_ac23680e_b571_11eb_8135_02420a3947derow1_col1\" class=\"data row1 col1\" >19486.90</td>\n",
              "                        <td id=\"T_ac23680e_b571_11eb_8135_02420a3947derow1_col2\" class=\"data row1 col2\" >101935621.05</td>\n",
              "                        <td id=\"T_ac23680e_b571_11eb_8135_02420a3947derow1_col3\" class=\"data row1 col3\" >10096.32</td>\n",
              "            </tr>\n",
              "    </tbody></table>"
            ],
            "text/plain": [
              "<pandas.io.formats.style.Styler at 0x7f8054a0a710>"
            ]
          },
          "execution_count": 86,
          "metadata": {},
          "output_type": "execute_result"
        }
      ],
      "source": [
        "df.groupby('tariff')\\\n",
        "  .agg({'mb_total_in_month':['median','mean','var','std']})\\\n",
        "  .style.format(\"{:.2f}\")"
      ]
    },
    {
      "cell_type": "markdown",
      "metadata": {
        "id": "Rk5nE5FCiSnr"
      },
      "source": [
        "Половина абонентов расходуют в месяц по тарифу \"smart\" от 12658 до 20068 мб.\n",
        "Половина абонентов расходуют в месяц по тарифу \"ultra\" от 11785 до 26863 мб.\n",
        "\n",
        "Средний расход интернета в МБ по тарифу \"smart\" составлет 16229.188 МБ.\n",
        "Средний расход интернета в МБ по тарифу \"ultra\" составлет 19486.902 МБ.\n",
        "\n",
        "В среднем абоненты тарифа \"ultra\" расходуют приблизительно на 3000 мб больше абонентов тарифа \"smart\" (медиана для \"smart\": 16531 мб, медиана для \"ultra\": 19324 мб).\n",
        "\n",
        "Дисперсия и стандартное отклонение также на порядок выше по тарифу ultra, что свидетельствует о большем разбросе количества израсходованного интернета среди абонентов тарифа ultra по сравнению с абонентами тарифа smart."
      ]
    },
    {
      "cell_type": "code",
      "execution_count": null,
      "metadata": {
        "id": "GOitr4hviSnr",
        "outputId": "2be84d9b-114e-4bad-d2a6-ddd7733a2015"
      },
      "outputs": [
        {
          "data": {
            "image/png": "[encoded data removed]",
            "text/plain": [
              "<Figure size 936x648 with 4 Axes>"
            ]
          },
          "metadata": {
            "needs_background": "light"
          },
          "output_type": "display_data"
        }
      ],
      "source": [
        "fig = plt.figure(figsize=(13,9))\n",
        "ax1 = fig.add_subplot(2,2,1)\n",
        "ax2 = fig.add_subplot(2,2,2)\n",
        "ax3 = fig.add_subplot(2,2,3)\n",
        "ax4 = fig.add_subplot(2,2,4)\n",
        "\n",
        "ax1.title.set_text('Смарт — Интернет в МБ в месяц (мб)')\n",
        "ax2.title.set_text('Ультра — Интернет в МБ в месяц (мб)')\n",
        "ax3.title.set_text('Смарт — Интернет в МБ в месяц (мб)')\n",
        "ax4.title.set_text('Ультра — Интернет в МБ в месяц (мб)')\n",
        "\n",
        "\n",
        "ax1.title.set_color('black')\n",
        "ax2.title.set_color('black')\n",
        "ax3.title.set_color('black')\n",
        "ax4.title.set_color('black')\n",
        "\n",
        "\n",
        "ax1.title.set_size(13)\n",
        "ax2.title.set_size(13)\n",
        "ax3.title.set_size(13)\n",
        "ax4.title.set_size(13)\n",
        "\n",
        "\n",
        "ax1.set_xlabel('Количество мегабайт (мб)')\n",
        "\n",
        "ax2.set_xlabel('Количество мегабайт (мб)')\n",
        "\n",
        "ax3.set_xlabel('Количество мегабайт (мб)')\n",
        "ax3.set_ylabel('Частота')\n",
        "\n",
        "ax4.set_xlabel('Количество мегабайт (мб)')\n",
        "ax4.set_ylabel('Частота')\n",
        "\n",
        "\n",
        "fig.tight_layout()\n",
        "\n",
        "ax1.boxplot(df[df['tariff'] == 'smart']['mb_total_in_month'], notch=True, sym=\"o\",vert=False, widths = 0.1, patch_artist = True);\n",
        "ax2.boxplot(df[df['tariff'] == 'ultra']['mb_total_in_month'], notch=True, sym=\"o\",vert=False, widths = 0.1, patch_artist = True);\n",
        "ax3.hist(df[df['tariff'] == 'smart']['mb_total_in_month'], bins=100,color='yellow');\n",
        "ax4.hist(df[df['tariff'] == 'ultra']['mb_total_in_month'], bins=100,color='brown');"
      ]
    },
    {
      "cell_type": "markdown",
      "metadata": {
        "id": "q8YQsa1ViSnr"
      },
      "source": [
        "Распределение по мегабайтам в месяц для тарифа \"smart\" также ближе к нормальному распределению. Графики отлично демонстрируют, почему у тарифа 'ultra' большая дисперсия: наблюдается большое количество значений сильно отклоняющихся от среднего (19468.81) в меньшую сторону (большое количество практически неизрасходованного трафика)\n",
        "\n",
        "В тарифе смарт опять большее количество экстримально высоких и экстримально низких значений!"
      ]
    },
    {
      "cell_type": "markdown",
      "metadata": {
        "id": "9uDqUdL3iSns"
      },
      "source": [
        "### Количество сообщений"
      ]
    },
    {
      "cell_type": "code",
      "execution_count": null,
      "metadata": {
        "id": "PkuiREMJiSns",
        "outputId": "a443a31a-bb71-4045-f506-47d0d47ff87e"
      },
      "outputs": [
        {
          "data": {
            "text/plain": [
              "count   2229.000\n",
              "mean      33.384\n",
              "std       28.228\n",
              "min        0.000\n",
              "25%       10.000\n",
              "50%       28.000\n",
              "75%       51.000\n",
              "max      143.000\n",
              "Name: sms_total_in_month, dtype: float64"
            ]
          },
          "execution_count": 88,
          "metadata": {},
          "output_type": "execute_result"
        }
      ],
      "source": [
        "df[df['tariff'] == 'smart']['sms_total_in_month'].describe()"
      ]
    },
    {
      "cell_type": "code",
      "execution_count": null,
      "metadata": {
        "id": "XQdTsINOiSns",
        "outputId": "080ae51d-9cd0-4dcb-a691-5c0e55ba5e79"
      },
      "outputs": [
        {
          "data": {
            "text/plain": [
              "count   985.000\n",
              "mean     49.363\n",
              "std      47.804\n",
              "min       0.000\n",
              "25%       6.000\n",
              "50%      38.000\n",
              "75%      79.000\n",
              "max     224.000\n",
              "Name: sms_total_in_month, dtype: float64"
            ]
          },
          "execution_count": 89,
          "metadata": {},
          "output_type": "execute_result"
        }
      ],
      "source": [
        "df[df['tariff'] == 'ultra']['sms_total_in_month'].describe()"
      ]
    },
    {
      "cell_type": "code",
      "execution_count": null,
      "metadata": {
        "id": "lR6KT0zaiSns",
        "outputId": "047738cd-982e-4406-cb03-9b1fff8f2429"
      },
      "outputs": [
        {
          "data": {
            "text/html": [
              "<style  type=\"text/css\" >\n",
              "</style><table id=\"T_ad686a98_b571_11eb_8135_02420a3947de\" ><thead>    <tr>        <th class=\"blank level0\" ></th>        <th class=\"col_heading level0 col0\" colspan=4>sms_total_in_month</th>    </tr>    <tr>        <th class=\"blank level1\" ></th>        <th class=\"col_heading level1 col0\" >median</th>        <th class=\"col_heading level1 col1\" >mean</th>        <th class=\"col_heading level1 col2\" >var</th>        <th class=\"col_heading level1 col3\" >std</th>    </tr>    <tr>        <th class=\"index_name level0\" >tariff</th>        <th class=\"blank\" ></th>        <th class=\"blank\" ></th>        <th class=\"blank\" ></th>        <th class=\"blank\" ></th>    </tr></thead><tbody>\n",
              "                <tr>\n",
              "                        <th id=\"T_ad686a98_b571_11eb_8135_02420a3947delevel0_row0\" class=\"row_heading level0 row0\" >smart</th>\n",
              "                        <td id=\"T_ad686a98_b571_11eb_8135_02420a3947derow0_col0\" class=\"data row0 col0\" >28.00</td>\n",
              "                        <td id=\"T_ad686a98_b571_11eb_8135_02420a3947derow0_col1\" class=\"data row0 col1\" >33.38</td>\n",
              "                        <td id=\"T_ad686a98_b571_11eb_8135_02420a3947derow0_col2\" class=\"data row0 col2\" >796.81</td>\n",
              "                        <td id=\"T_ad686a98_b571_11eb_8135_02420a3947derow0_col3\" class=\"data row0 col3\" >28.23</td>\n",
              "            </tr>\n",
              "            <tr>\n",
              "                        <th id=\"T_ad686a98_b571_11eb_8135_02420a3947delevel0_row1\" class=\"row_heading level0 row1\" >ultra</th>\n",
              "                        <td id=\"T_ad686a98_b571_11eb_8135_02420a3947derow1_col0\" class=\"data row1 col0\" >38.00</td>\n",
              "                        <td id=\"T_ad686a98_b571_11eb_8135_02420a3947derow1_col1\" class=\"data row1 col1\" >49.36</td>\n",
              "                        <td id=\"T_ad686a98_b571_11eb_8135_02420a3947derow1_col2\" class=\"data row1 col2\" >2285.27</td>\n",
              "                        <td id=\"T_ad686a98_b571_11eb_8135_02420a3947derow1_col3\" class=\"data row1 col3\" >47.80</td>\n",
              "            </tr>\n",
              "    </tbody></table>"
            ],
            "text/plain": [
              "<pandas.io.formats.style.Styler at 0x7f80bab5f150>"
            ]
          },
          "execution_count": 90,
          "metadata": {},
          "output_type": "execute_result"
        }
      ],
      "source": [
        "df.groupby('tariff')\\\n",
        "  .agg({'sms_total_in_month':['median','mean','var','std']})\\\n",
        "  .style.format(\"{:.2f}\")"
      ]
    },
    {
      "cell_type": "markdown",
      "metadata": {
        "id": "A9u5bJLJiSnt"
      },
      "source": [
        "Половина абонентов отправляют в месяц по тарифу \"smart\" от 10 до 51 сообщения.\n",
        "Половина абонентов отправляют в месяц по тарифу \"ultra\" от 6 до 79 сообщения.\n",
        "\n",
        "Среднее количество сообщений в месяц для абонентов тарифа smart\" составлет 28 (медиана).\n",
        "Среднее количество сообщений в месяц для абонентов тарифа smart\" составлет 38 (медиана).\n",
        "\n",
        "В среднем абоненты тарифа \"ultra\" отправляют на 10 сообщений больше абонентов тарифа \"smart\" (медиана для \"smart\": 28 сообщений, медиана для \"ultra\": 38 сообщений).\n",
        "\n",
        "Дисперсия и стандартное отклонение также на порядок выше по тарифу ultra, что свидетельствует о большем разбросе количества отправленных сообщений среди абонентов тарифа ultra по сравнению с абонентами тарифа smart."
      ]
    },
    {
      "cell_type": "code",
      "execution_count": null,
      "metadata": {
        "id": "Q-jKBHQviSnt",
        "outputId": "b6e55d73-235a-4a2e-ddc9-c06c66b59133"
      },
      "outputs": [
        {
          "data": {
            "image/png": "[encoded data removed]",
            "text/plain": [
              "<Figure size 936x648 with 4 Axes>"
            ]
          },
          "metadata": {
            "needs_background": "light"
          },
          "output_type": "display_data"
        }
      ],
      "source": [
        "fig = plt.figure(figsize=(13,9))\n",
        "ax1 = fig.add_subplot(2,2,1)\n",
        "ax2 = fig.add_subplot(2,2,2)\n",
        "ax3 = fig.add_subplot(2,2,3)\n",
        "ax4 = fig.add_subplot(2,2,4)\n",
        "\n",
        "ax1.title.set_text('Смарт — СМС в месяц (шт)')\n",
        "ax2.title.set_text('Ультра — СМС в месяц (шт)')\n",
        "ax3.title.set_text('Смарт — СМС в месяц (шт)')\n",
        "ax4.title.set_text('Ультра — СМС в месяц (шт)')\n",
        "\n",
        "ax1.title.set_color('black')\n",
        "ax2.title.set_color('black')\n",
        "ax3.title.set_color('black')\n",
        "ax4.title.set_color('black')\n",
        "\n",
        "\n",
        "ax1.title.set_size(13)\n",
        "ax2.title.set_size(13)\n",
        "ax3.title.set_size(13)\n",
        "ax4.title.set_size(13)\n",
        "\n",
        "\n",
        "ax1.set_xlabel('Количество СМС (шт)')\n",
        "\n",
        "ax2.set_xlabel('Количество СМС (шт)')\n",
        "\n",
        "ax3.set_xlabel('Количество СМС (шт)')\n",
        "ax3.set_ylabel('Частота')\n",
        "\n",
        "ax4.set_xlabel('Количество СМС (шт)')\n",
        "ax4.set_ylabel('Частота')\n",
        "\n",
        "fig.tight_layout()\n",
        "\n",
        "ax1.boxplot(df[df['tariff'] == 'smart']['sms_total_in_month'], notch=True, sym=\"o\",vert=False, widths = 0.1, patch_artist = True);\n",
        "ax2.boxplot(df[df['tariff'] == 'ultra']['sms_total_in_month'], notch=True, sym=\"o\",vert=False, widths = 0.1, patch_artist = True);\n",
        "ax3.hist(df[df['tariff'] == 'smart']['sms_total_in_month'], bins=10,color='purple');\n",
        "ax4.hist(df[df['tariff'] == 'ultra']['sms_total_in_month'], bins=10,color='grey');"
      ]
    },
    {
      "cell_type": "markdown",
      "metadata": {
        "id": "95sRtJNliSnu"
      },
      "source": [
        "Распределения по количеству СМС очень похожи по структуре."
      ]
    },
    {
      "cell_type": "markdown",
      "metadata": {
        "id": "9ciMjjy8iSnu"
      },
      "source": [
        "Довольно интересный и для меня неожиданный результат. Тариф smart с более \"демократичными\" ценами привлекает большее количество "
      ]
    },
    {
      "cell_type": "code",
      "execution_count": null,
      "metadata": {
        "id": "jhJDBRKPiSnu",
        "outputId": "2cc1833d-da35-4dbc-8608-ae77550ca536"
      },
      "outputs": [
        {
          "data": {
            "text/html": [
              "<style  type=\"text/css\" >\n",
              "</style><table id=\"T_ae4a6114_b571_11eb_8135_02420a3947de\" ><thead>    <tr>        <th class=\"blank\" ></th>        <th class=\"blank level0\" ></th>        <th class=\"col_heading level0 col0\" colspan=5>month_calls_duration</th>    </tr>    <tr>        <th class=\"blank\" ></th>        <th class=\"blank level1\" ></th>        <th class=\"col_heading level1 col0\" >count</th>        <th class=\"col_heading level1 col1\" >median</th>        <th class=\"col_heading level1 col2\" >mean</th>        <th class=\"col_heading level1 col3\" >var</th>        <th class=\"col_heading level1 col4\" >std</th>    </tr>    <tr>        <th class=\"index_name level0\" >tariff</th>        <th class=\"index_name level1\" >month</th>        <th class=\"blank\" ></th>        <th class=\"blank\" ></th>        <th class=\"blank\" ></th>        <th class=\"blank\" ></th>        <th class=\"blank\" ></th>    </tr></thead><tbody>\n",
              "                <tr>\n",
              "                        <th id=\"T_ae4a6114_b571_11eb_8135_02420a3947delevel0_row0\" class=\"row_heading level0 row0\" rowspan=12>smart</th>\n",
              "                        <th id=\"T_ae4a6114_b571_11eb_8135_02420a3947delevel1_row0\" class=\"row_heading level1 row0\" >1</th>\n",
              "                        <td id=\"T_ae4a6114_b571_11eb_8135_02420a3947derow0_col0\" class=\"data row0 col0\" >34.00</td>\n",
              "                        <td id=\"T_ae4a6114_b571_11eb_8135_02420a3947derow0_col1\" class=\"data row0 col1\" >162.50</td>\n",
              "                        <td id=\"T_ae4a6114_b571_11eb_8135_02420a3947derow0_col2\" class=\"data row0 col2\" >203.85</td>\n",
              "                        <td id=\"T_ae4a6114_b571_11eb_8135_02420a3947derow0_col3\" class=\"data row0 col3\" >23787.34</td>\n",
              "                        <td id=\"T_ae4a6114_b571_11eb_8135_02420a3947derow0_col4\" class=\"data row0 col4\" >154.23</td>\n",
              "            </tr>\n",
              "            <tr>\n",
              "                                <th id=\"T_ae4a6114_b571_11eb_8135_02420a3947delevel1_row1\" class=\"row_heading level1 row1\" >2</th>\n",
              "                        <td id=\"T_ae4a6114_b571_11eb_8135_02420a3947derow1_col0\" class=\"data row1 col0\" >58.00</td>\n",
              "                        <td id=\"T_ae4a6114_b571_11eb_8135_02420a3947derow1_col1\" class=\"data row1 col1\" >258.00</td>\n",
              "                        <td id=\"T_ae4a6114_b571_11eb_8135_02420a3947derow1_col2\" class=\"data row1 col2\" >298.69</td>\n",
              "                        <td id=\"T_ae4a6114_b571_11eb_8135_02420a3947derow1_col3\" class=\"data row1 col3\" >36412.29</td>\n",
              "                        <td id=\"T_ae4a6114_b571_11eb_8135_02420a3947derow1_col4\" class=\"data row1 col4\" >190.82</td>\n",
              "            </tr>\n",
              "            <tr>\n",
              "                                <th id=\"T_ae4a6114_b571_11eb_8135_02420a3947delevel1_row2\" class=\"row_heading level1 row2\" >3</th>\n",
              "                        <td id=\"T_ae4a6114_b571_11eb_8135_02420a3947derow2_col0\" class=\"data row2 col0\" >77.00</td>\n",
              "                        <td id=\"T_ae4a6114_b571_11eb_8135_02420a3947derow2_col1\" class=\"data row2 col1\" >409.00</td>\n",
              "                        <td id=\"T_ae4a6114_b571_11eb_8135_02420a3947derow2_col2\" class=\"data row2 col2\" >390.05</td>\n",
              "                        <td id=\"T_ae4a6114_b571_11eb_8135_02420a3947derow2_col3\" class=\"data row2 col3\" >36823.16</td>\n",
              "                        <td id=\"T_ae4a6114_b571_11eb_8135_02420a3947derow2_col4\" class=\"data row2 col4\" >191.89</td>\n",
              "            </tr>\n",
              "            <tr>\n",
              "                                <th id=\"T_ae4a6114_b571_11eb_8135_02420a3947delevel1_row3\" class=\"row_heading level1 row3\" >4</th>\n",
              "                        <td id=\"T_ae4a6114_b571_11eb_8135_02420a3947derow3_col0\" class=\"data row3 col0\" >112.00</td>\n",
              "                        <td id=\"T_ae4a6114_b571_11eb_8135_02420a3947derow3_col1\" class=\"data row3 col1\" >368.50</td>\n",
              "                        <td id=\"T_ae4a6114_b571_11eb_8135_02420a3947derow3_col2\" class=\"data row3 col2\" >367.13</td>\n",
              "                        <td id=\"T_ae4a6114_b571_11eb_8135_02420a3947derow3_col3\" class=\"data row3 col3\" >34778.21</td>\n",
              "                        <td id=\"T_ae4a6114_b571_11eb_8135_02420a3947derow3_col4\" class=\"data row3 col4\" >186.49</td>\n",
              "            </tr>\n",
              "            <tr>\n",
              "                                <th id=\"T_ae4a6114_b571_11eb_8135_02420a3947delevel1_row4\" class=\"row_heading level1 row4\" >5</th>\n",
              "                        <td id=\"T_ae4a6114_b571_11eb_8135_02420a3947derow4_col0\" class=\"data row4 col0\" >141.00</td>\n",
              "                        <td id=\"T_ae4a6114_b571_11eb_8135_02420a3947derow4_col1\" class=\"data row4 col1\" >433.00</td>\n",
              "                        <td id=\"T_ae4a6114_b571_11eb_8135_02420a3947derow4_col2\" class=\"data row4 col2\" >387.36</td>\n",
              "                        <td id=\"T_ae4a6114_b571_11eb_8135_02420a3947derow4_col3\" class=\"data row4 col3\" >34820.06</td>\n",
              "                        <td id=\"T_ae4a6114_b571_11eb_8135_02420a3947derow4_col4\" class=\"data row4 col4\" >186.60</td>\n",
              "            </tr>\n",
              "            <tr>\n",
              "                                <th id=\"T_ae4a6114_b571_11eb_8135_02420a3947delevel1_row5\" class=\"row_heading level1 row5\" >6</th>\n",
              "                        <td id=\"T_ae4a6114_b571_11eb_8135_02420a3947derow5_col0\" class=\"data row5 col0\" >164.00</td>\n",
              "                        <td id=\"T_ae4a6114_b571_11eb_8135_02420a3947derow5_col1\" class=\"data row5 col1\" >400.00</td>\n",
              "                        <td id=\"T_ae4a6114_b571_11eb_8135_02420a3947derow5_col2\" class=\"data row5 col2\" >395.64</td>\n",
              "                        <td id=\"T_ae4a6114_b571_11eb_8135_02420a3947derow5_col3\" class=\"data row5 col3\" >30742.92</td>\n",
              "                        <td id=\"T_ae4a6114_b571_11eb_8135_02420a3947derow5_col4\" class=\"data row5 col4\" >175.34</td>\n",
              "            </tr>\n",
              "            <tr>\n",
              "                                <th id=\"T_ae4a6114_b571_11eb_8135_02420a3947delevel1_row6\" class=\"row_heading level1 row6\" >7</th>\n",
              "                        <td id=\"T_ae4a6114_b571_11eb_8135_02420a3947derow6_col0\" class=\"data row6 col0\" >201.00</td>\n",
              "                        <td id=\"T_ae4a6114_b571_11eb_8135_02420a3947derow6_col1\" class=\"data row6 col1\" >414.00</td>\n",
              "                        <td id=\"T_ae4a6114_b571_11eb_8135_02420a3947derow6_col2\" class=\"data row6 col2\" >408.35</td>\n",
              "                        <td id=\"T_ae4a6114_b571_11eb_8135_02420a3947derow6_col3\" class=\"data row6 col3\" >32250.27</td>\n",
              "                        <td id=\"T_ae4a6114_b571_11eb_8135_02420a3947derow6_col4\" class=\"data row6 col4\" >179.58</td>\n",
              "            </tr>\n",
              "            <tr>\n",
              "                                <th id=\"T_ae4a6114_b571_11eb_8135_02420a3947delevel1_row7\" class=\"row_heading level1 row7\" >8</th>\n",
              "                        <td id=\"T_ae4a6114_b571_11eb_8135_02420a3947derow7_col0\" class=\"data row7 col0\" >235.00</td>\n",
              "                        <td id=\"T_ae4a6114_b571_11eb_8135_02420a3947derow7_col1\" class=\"data row7 col1\" >432.00</td>\n",
              "                        <td id=\"T_ae4a6114_b571_11eb_8135_02420a3947derow7_col2\" class=\"data row7 col2\" >421.47</td>\n",
              "                        <td id=\"T_ae4a6114_b571_11eb_8135_02420a3947derow7_col3\" class=\"data row7 col3\" >34793.58</td>\n",
              "                        <td id=\"T_ae4a6114_b571_11eb_8135_02420a3947derow7_col4\" class=\"data row7 col4\" >186.53</td>\n",
              "            </tr>\n",
              "            <tr>\n",
              "                                <th id=\"T_ae4a6114_b571_11eb_8135_02420a3947delevel1_row8\" class=\"row_heading level1 row8\" >9</th>\n",
              "                        <td id=\"T_ae4a6114_b571_11eb_8135_02420a3947derow8_col0\" class=\"data row8 col0\" >260.00</td>\n",
              "                        <td id=\"T_ae4a6114_b571_11eb_8135_02420a3947derow8_col1\" class=\"data row8 col1\" >435.00</td>\n",
              "                        <td id=\"T_ae4a6114_b571_11eb_8135_02420a3947derow8_col2\" class=\"data row8 col2\" >428.61</td>\n",
              "                        <td id=\"T_ae4a6114_b571_11eb_8135_02420a3947derow8_col3\" class=\"data row8 col3\" >33535.34</td>\n",
              "                        <td id=\"T_ae4a6114_b571_11eb_8135_02420a3947derow8_col4\" class=\"data row8 col4\" >183.13</td>\n",
              "            </tr>\n",
              "            <tr>\n",
              "                                <th id=\"T_ae4a6114_b571_11eb_8135_02420a3947delevel1_row9\" class=\"row_heading level1 row9\" >10</th>\n",
              "                        <td id=\"T_ae4a6114_b571_11eb_8135_02420a3947derow9_col0\" class=\"data row9 col0\" >294.00</td>\n",
              "                        <td id=\"T_ae4a6114_b571_11eb_8135_02420a3947derow9_col1\" class=\"data row9 col1\" >427.50</td>\n",
              "                        <td id=\"T_ae4a6114_b571_11eb_8135_02420a3947derow9_col2\" class=\"data row9 col2\" >426.14</td>\n",
              "                        <td id=\"T_ae4a6114_b571_11eb_8135_02420a3947derow9_col3\" class=\"data row9 col3\" >35392.34</td>\n",
              "                        <td id=\"T_ae4a6114_b571_11eb_8135_02420a3947derow9_col4\" class=\"data row9 col4\" >188.13</td>\n",
              "            </tr>\n",
              "            <tr>\n",
              "                                <th id=\"T_ae4a6114_b571_11eb_8135_02420a3947delevel1_row10\" class=\"row_heading level1 row10\" >11</th>\n",
              "                        <td id=\"T_ae4a6114_b571_11eb_8135_02420a3947derow10_col0\" class=\"data row10 col0\" >316.00</td>\n",
              "                        <td id=\"T_ae4a6114_b571_11eb_8135_02420a3947derow10_col1\" class=\"data row10 col1\" >428.50</td>\n",
              "                        <td id=\"T_ae4a6114_b571_11eb_8135_02420a3947derow10_col2\" class=\"data row10 col2\" >435.27</td>\n",
              "                        <td id=\"T_ae4a6114_b571_11eb_8135_02420a3947derow10_col3\" class=\"data row10 col3\" >31605.24</td>\n",
              "                        <td id=\"T_ae4a6114_b571_11eb_8135_02420a3947derow10_col4\" class=\"data row10 col4\" >177.78</td>\n",
              "            </tr>\n",
              "            <tr>\n",
              "                                <th id=\"T_ae4a6114_b571_11eb_8135_02420a3947delevel1_row11\" class=\"row_heading level1 row11\" >12</th>\n",
              "                        <td id=\"T_ae4a6114_b571_11eb_8135_02420a3947derow11_col0\" class=\"data row11 col0\" >337.00</td>\n",
              "                        <td id=\"T_ae4a6114_b571_11eb_8135_02420a3947derow11_col1\" class=\"data row11 col1\" >471.00</td>\n",
              "                        <td id=\"T_ae4a6114_b571_11eb_8135_02420a3947derow11_col2\" class=\"data row11 col2\" >478.56</td>\n",
              "                        <td id=\"T_ae4a6114_b571_11eb_8135_02420a3947derow11_col3\" class=\"data row11 col3\" >39698.62</td>\n",
              "                        <td id=\"T_ae4a6114_b571_11eb_8135_02420a3947derow11_col4\" class=\"data row11 col4\" >199.25</td>\n",
              "            </tr>\n",
              "    </tbody></table>"
            ],
            "text/plain": [
              "<pandas.io.formats.style.Styler at 0x7f80baa2dd10>"
            ]
          },
          "execution_count": 92,
          "metadata": {},
          "output_type": "execute_result"
        }
      ],
      "source": [
        "df[df['tariff'] == 'smart'].groupby(['tariff','month'] )\\\n",
        "  .agg({'month_calls_duration':['count','median','mean','var','std']})\\\n",
        "  .style.format(\"{:.2f}\")"
      ]
    },
    {
      "cell_type": "markdown",
      "metadata": {
        "id": "4ZycpfZAiSnu"
      },
      "source": [
        "## Проверка гипотез"
      ]
    },
    {
      "cell_type": "markdown",
      "metadata": {
        "id": "h8ag3CfKiSnu"
      },
      "source": [
        "### Удаление выбросов"
      ]
    },
    {
      "cell_type": "markdown",
      "metadata": {
        "id": "1KDzFj1ciSnv"
      },
      "source": [
        "Напишем функцию, которая будет удалять экстримальные изначения из нашей выборки. Это нужно для того, чтобы выбросы не смазывали результаты применения тестов."
      ]
    },
    {
      "cell_type": "code",
      "execution_count": null,
      "metadata": {
        "id": "hW_8Rmt7iSnv"
      },
      "outputs": [],
      "source": [
        "def delete_outliers(df, column):\n",
        "    q1 = df[column].quantile(0.25)                 \n",
        "    q3 = df[column].quantile(0.75)\n",
        "    iqr = q3 - q1\n",
        "    iqr_test = (df[column] >= (q1 - 1.5 * iqr)) & (df[column] <= (q3 + 1.5 * iqr))\n",
        "    return df.loc[iqr_test]"
      ]
    },
    {
      "cell_type": "markdown",
      "metadata": {
        "id": "7MeSvzoeiSnv"
      },
      "source": [
        "### Средняя выручка пользователей тарифов «Ультра» и «Смарт» различается?"
      ]
    },
    {
      "cell_type": "code",
      "execution_count": null,
      "metadata": {
        "id": "bfiPiFvSiSnv"
      },
      "outputs": [],
      "source": [
        "alpha = 0.05"
      ]
    },
    {
      "cell_type": "code",
      "execution_count": null,
      "metadata": {
        "id": "wuh2U0MBiSnv"
      },
      "outputs": [],
      "source": [
        "ultra = df[df['tariff'] == 'ultra']\n",
        "smart = df[df['tariff'] == 'smart']"
      ]
    },
    {
      "cell_type": "code",
      "execution_count": null,
      "metadata": {
        "id": "11o_Gd9XiSnw"
      },
      "outputs": [],
      "source": [
        "ultra = delete_outliers(ultra, 'total_paid')\n",
        "ultra = ultra['total_paid']"
      ]
    },
    {
      "cell_type": "code",
      "execution_count": null,
      "metadata": {
        "id": "5TXSQfPWiSnw"
      },
      "outputs": [],
      "source": [
        "smart = delete_outliers(smart, 'total_paid')\n",
        "smart = smart['total_paid']"
      ]
    },
    {
      "cell_type": "markdown",
      "metadata": {
        "id": "DVAk3KQniSnw"
      },
      "source": [
        "Одно из условий применения теста Стьюдента: дисперсии подгрупп долны быть однородными. Для этого применяется критерий Левена."
      ]
    },
    {
      "cell_type": "markdown",
      "metadata": {
        "id": "sOvpY1EpiSnw"
      },
      "source": [
        "Если **(p Levene) > 0.05**, то дисперсии подгрупп гомогенны"
      ]
    },
    {
      "cell_type": "code",
      "execution_count": null,
      "metadata": {
        "id": "0z3USYFgiSnw"
      },
      "outputs": [],
      "source": [
        "tariff_levene = st.levene(ultra, smart)"
      ]
    },
    {
      "cell_type": "code",
      "execution_count": null,
      "metadata": {
        "scrolled": true,
        "id": "cJnAXsmGiSnx",
        "outputId": "aafd258c-8ee4-49b3-af79-fc2051bcbb90"
      },
      "outputs": [
        {
          "name": "stdout",
          "output_type": "stream",
          "text": [
            "p-значение: 8.737148565673266e-220\n",
            "Отвергаем нулевую гипотезу о равенстве дисперсий: дисперсии не равны\n"
          ]
        }
      ],
      "source": [
        "print('p-значение:', tariff_levene.pvalue)\n",
        "\n",
        "if (tariff_levene.pvalue < alpha):\n",
        "    print(\"Отвергаем нулевую гипотезу о равенстве дисперсий: дисперсии не равны\")\n",
        "else:\n",
        "    print(\"Не получилось отвергнуть нулевую гипотезу: дисперсии возможно равны\")"
      ]
    },
    {
      "cell_type": "markdown",
      "metadata": {
        "id": "Lobep5bBiSnx"
      },
      "source": [
        "**Гипотеза о равенстве средних двух генеральных совокупностей (для независимых выборок):**\n",
        "\n",
        "H0 = средние по выручке для пользователей тарифов \"Ультра\" и \"Смарт\" равны (нет связи)\n",
        "\n",
        "Так как мы показали, что дисперсии неоднородны, установим параметр equal_var=False"
      ]
    },
    {
      "cell_type": "code",
      "execution_count": null,
      "metadata": {
        "id": "zfZsQxnQiSnx"
      },
      "outputs": [],
      "source": [
        "results = st.ttest_ind(ultra, smart, equal_var=False)"
      ]
    },
    {
      "cell_type": "code",
      "execution_count": null,
      "metadata": {
        "id": "8whkqjk0iSnx",
        "outputId": "ff8d3f1e-eab5-45cd-bf89-36538f1b7b6d"
      },
      "outputs": [
        {
          "name": "stdout",
          "output_type": "stream",
          "text": [
            "p-значение: 9.16596218444e-313\n",
            "Отвергаем нулевую гипотезу: есть разница между тарифами\n"
          ]
        }
      ],
      "source": [
        "print('p-значение:', results.pvalue)\n",
        "\n",
        "if (results.pvalue < alpha):\n",
        "    print(\"Отвергаем нулевую гипотезу: есть разница между тарифами\")\n",
        "else:\n",
        "    print(\"Не получилось отвергнуть нулевую гипотезу: возможно нет разницы между тарифами\")"
      ]
    },
    {
      "cell_type": "markdown",
      "metadata": {
        "id": "SuFLyzsIiSny"
      },
      "source": [
        "Разница не случайна, есть значимые различия между выборками, посмотрим на них подробнее!"
      ]
    },
    {
      "cell_type": "code",
      "execution_count": null,
      "metadata": {
        "id": "gXtiD0m1iSny",
        "outputId": "3fa401bb-1a47-4b31-c0e5-34d576390925"
      },
      "outputs": [
        {
          "data": {
            "text/html": [
              "<style  type=\"text/css\" >\n",
              "</style><table id=\"T_ae6cb390_b571_11eb_8135_02420a3947de\" ><thead>    <tr>        <th class=\"blank level0\" ></th>        <th class=\"col_heading level0 col0\" colspan=6>total_paid</th>    </tr>    <tr>        <th class=\"blank level1\" ></th>        <th class=\"col_heading level1 col0\" >count</th>        <th class=\"col_heading level1 col1\" >sum</th>        <th class=\"col_heading level1 col2\" >median</th>        <th class=\"col_heading level1 col3\" >mean</th>        <th class=\"col_heading level1 col4\" >var</th>        <th class=\"col_heading level1 col5\" >std</th>    </tr>    <tr>        <th class=\"index_name level0\" >tariff</th>        <th class=\"blank\" ></th>        <th class=\"blank\" ></th>        <th class=\"blank\" ></th>        <th class=\"blank\" ></th>        <th class=\"blank\" ></th>        <th class=\"blank\" ></th>    </tr></thead><tbody>\n",
              "                <tr>\n",
              "                        <th id=\"T_ae6cb390_b571_11eb_8135_02420a3947delevel0_row0\" class=\"row_heading level0 row0\" >smart</th>\n",
              "                        <td id=\"T_ae6cb390_b571_11eb_8135_02420a3947derow0_col0\" class=\"data row0 col0\" >2229.00</td>\n",
              "                        <td id=\"T_ae6cb390_b571_11eb_8135_02420a3947derow0_col1\" class=\"data row0 col1\" >2885751.00</td>\n",
              "                        <td id=\"T_ae6cb390_b571_11eb_8135_02420a3947derow0_col2\" class=\"data row0 col2\" >1038.00</td>\n",
              "                        <td id=\"T_ae6cb390_b571_11eb_8135_02420a3947derow0_col3\" class=\"data row0 col3\" >1294.64</td>\n",
              "                        <td id=\"T_ae6cb390_b571_11eb_8135_02420a3947derow0_col4\" class=\"data row0 col4\" >673931.32</td>\n",
              "                        <td id=\"T_ae6cb390_b571_11eb_8135_02420a3947derow0_col5\" class=\"data row0 col5\" >820.93</td>\n",
              "            </tr>\n",
              "            <tr>\n",
              "                        <th id=\"T_ae6cb390_b571_11eb_8135_02420a3947delevel0_row1\" class=\"row_heading level0 row1\" >ultra</th>\n",
              "                        <td id=\"T_ae6cb390_b571_11eb_8135_02420a3947derow1_col0\" class=\"data row1 col0\" >985.00</td>\n",
              "                        <td id=\"T_ae6cb390_b571_11eb_8135_02420a3947derow1_col1\" class=\"data row1 col1\" >2040000.00</td>\n",
              "                        <td id=\"T_ae6cb390_b571_11eb_8135_02420a3947derow1_col2\" class=\"data row1 col2\" >1950.00</td>\n",
              "                        <td id=\"T_ae6cb390_b571_11eb_8135_02420a3947derow1_col3\" class=\"data row1 col3\" >2071.07</td>\n",
              "                        <td id=\"T_ae6cb390_b571_11eb_8135_02420a3947derow1_col4\" class=\"data row1 col4\" >143491.24</td>\n",
              "                        <td id=\"T_ae6cb390_b571_11eb_8135_02420a3947derow1_col5\" class=\"data row1 col5\" >378.80</td>\n",
              "            </tr>\n",
              "    </tbody></table>"
            ],
            "text/plain": [
              "<pandas.io.formats.style.Styler at 0x7f80ba943490>"
            ]
          },
          "execution_count": 102,
          "metadata": {},
          "output_type": "execute_result"
        }
      ],
      "source": [
        "df.groupby('tariff')\\\n",
        "  .agg({'total_paid':['count','sum','median','mean','var','std']})\\\n",
        "  .style.format(\"{:.2f}\")"
      ]
    },
    {
      "cell_type": "markdown",
      "metadata": {
        "id": "LyjJSDbRiSny"
      },
      "source": [
        "- Тариф smart привлекает большее количество пользователей, возможно из-за более демократичных цен. Из-за большего количества абонентов общая выручка с тарифа smart на 41% больше, чем выручка с тарифа ultra.\n",
        "\n",
        "- Несмотря на то, что пользователей тарифа \"smart\" в 2.3 раза больше, чем пользователей тарифа \"ultra\", они приносят на 60% больше выручки в среднем. Это статистически значимое отличие."
      ]
    },
    {
      "cell_type": "markdown",
      "metadata": {
        "id": "i4rhEe2RiSnz"
      },
      "source": [
        "### Средняя выручка пользователей из Москвы отличается от выручки пользователей из других регионов?"
      ]
    },
    {
      "cell_type": "markdown",
      "metadata": {
        "id": "eyxbUKvhiSnz"
      },
      "source": [
        "Сначала нам необходимо создать новую переменную, которая бы принимала 2 значения: \"Москва\", \"Другой регион\""
      ]
    },
    {
      "cell_type": "code",
      "execution_count": null,
      "metadata": {
        "id": "Ber6Q6vziSnz",
        "outputId": "156ee5d1-98d8-45b8-ba26-15663e1191a9"
      },
      "outputs": [
        {
          "data": {
            "text/plain": [
              "array(['Краснодар', 'Москва', 'Стерлитамак', 'Новокузнецк',\n",
              "       'Набережные Челны', 'Ульяновск', 'Челябинск', 'Пермь', 'Тюмень',\n",
              "       'Самара', 'Санкт-Петербург', 'Иваново', 'Чебоксары', 'Омск', 'Уфа',\n",
              "       'Томск', 'Чита', 'Мурманск', 'Петрозаводск', 'Тверь',\n",
              "       'Екатеринбург', 'Махачкала', 'Вологда', 'Череповец', 'Ярославль',\n",
              "       'Сочи', 'Хабаровск', 'Ставрополь', 'Рязань', 'Улан-Удэ', 'Тула',\n",
              "       'Саратов', 'Ростов-на-Дону', 'Казань', 'Иркутск', 'Курск',\n",
              "       'Калуга', 'Якутск', 'Астрахань', 'Химки', 'Владикавказ',\n",
              "       'Волгоград', 'Саранск', 'Ижевск', 'Новосибирск', 'Брянск',\n",
              "       'Тольятти', 'Нижний Тагил', 'Орёл', 'Белгород', 'Воронеж',\n",
              "       'Курган', 'Барнаул', 'Красноярск', 'Архангельск', 'Липецк',\n",
              "       'Кемерово', 'Киров', 'Сургут', 'Пенза', 'Волжский', 'Магнитогорск',\n",
              "       'Нижний Новгород', 'Кострома', 'Владивосток', 'Тамбов', 'Балашиха',\n",
              "       'Севастополь', 'Калининград', 'Оренбург', 'Смоленск',\n",
              "       'Нижневартовск', 'Владимир', 'Новороссийск', 'Грозный', 'Подольск'],\n",
              "      dtype=object)"
            ]
          },
          "execution_count": 103,
          "metadata": {},
          "output_type": "execute_result"
        }
      ],
      "source": [
        "df['city'].unique()"
      ]
    },
    {
      "cell_type": "code",
      "execution_count": null,
      "metadata": {
        "id": "gxo4q3N8iSnz"
      },
      "outputs": [],
      "source": [
        "df['region'] = np.where(df['city'] == 'Москва', 'Москва', 'Другой регион')"
      ]
    },
    {
      "cell_type": "code",
      "execution_count": null,
      "metadata": {
        "id": "v9Ii0VLpiSn0",
        "outputId": "17133674-4f5e-47ea-d40f-38d493d2562e"
      },
      "outputs": [
        {
          "data": {
            "text/plain": [
              "Москва             611\n",
              "Санкт-Петербург    270\n",
              "Новосибирск         98\n",
              "Уфа                 95\n",
              "Краснодар           86\n",
              "                  ... \n",
              "Сургут               6\n",
              "Нижневартовск        6\n",
              "Химки                5\n",
              "Кемерово             5\n",
              "Иваново              2\n",
              "Name: city, Length: 76, dtype: int64"
            ]
          },
          "execution_count": 105,
          "metadata": {},
          "output_type": "execute_result"
        }
      ],
      "source": [
        "df['city'].value_counts()"
      ]
    },
    {
      "cell_type": "code",
      "execution_count": null,
      "metadata": {
        "id": "FfOHBEQ7iSn0",
        "outputId": "dc2daa54-9537-4886-a34b-57b28c7ebbaa"
      },
      "outputs": [
        {
          "data": {
            "text/plain": [
              "Другой регион    2603\n",
              "Москва            611\n",
              "Name: region, dtype: int64"
            ]
          },
          "execution_count": 106,
          "metadata": {},
          "output_type": "execute_result"
        }
      ],
      "source": [
        "df['region'].value_counts()"
      ]
    },
    {
      "cell_type": "markdown",
      "metadata": {
        "id": "7kUBWryuiSn0"
      },
      "source": [
        "Функция все правильно распределила!\n",
        "\n",
        "**Гипотеза о равенстве средних двух генеральных совокупностей (для независимых выборок):**\n",
        "\n",
        "H0 = средние по выручке для Москвы и других регионов равны (нет связи)"
      ]
    },
    {
      "cell_type": "code",
      "execution_count": null,
      "metadata": {
        "id": "dpV8Usy3iSn0"
      },
      "outputs": [],
      "source": [
        "moscow = df[df['region'] == 'Москва']\n",
        "other_region = df[df['region'] == 'Другой регион']"
      ]
    },
    {
      "cell_type": "code",
      "execution_count": null,
      "metadata": {
        "id": "EiOQwWyniSn1"
      },
      "outputs": [],
      "source": [
        "moscow = delete_outliers(moscow, 'total_paid')\n",
        "moscow = moscow['total_paid']"
      ]
    },
    {
      "cell_type": "code",
      "execution_count": null,
      "metadata": {
        "id": "xRtdRK11iSn1"
      },
      "outputs": [],
      "source": [
        "other_region = delete_outliers(other_region, 'total_paid')\n",
        "other_region = other_region['total_paid']"
      ]
    },
    {
      "cell_type": "code",
      "execution_count": null,
      "metadata": {
        "id": "ZdKxSjMviSn1"
      },
      "outputs": [],
      "source": [
        "region_levene = st.levene(moscow, other_region)"
      ]
    },
    {
      "cell_type": "code",
      "execution_count": null,
      "metadata": {
        "id": "NX4Jrz6yiSn1",
        "outputId": "51849dcf-6fa0-426c-eb9b-b9df31830080"
      },
      "outputs": [
        {
          "name": "stdout",
          "output_type": "stream",
          "text": [
            "p-значение: 0.017379989468225967\n",
            "Отвергаем нулевую гипотезу о равенстве дисперсий: дисперсии не равны\n"
          ]
        }
      ],
      "source": [
        "print('p-значение:', region_levene.pvalue)\n",
        "\n",
        "if (tariff_levene.pvalue < alpha):\n",
        "    print(\"Отвергаем нулевую гипотезу о равенстве дисперсий: дисперсии не равны\")\n",
        "else:\n",
        "    print(\"Не получилось отвергнуть нулевую гипотезу: дисперсии возможно равны\")"
      ]
    },
    {
      "cell_type": "markdown",
      "metadata": {
        "id": "izHcWnuqiSn2"
      },
      "source": [
        "Так как мы показали, что дисперсии неоднородны, установим параметр equal_var=False"
      ]
    },
    {
      "cell_type": "code",
      "execution_count": null,
      "metadata": {
        "id": "euJntZHriSn2"
      },
      "outputs": [],
      "source": [
        "results = st.ttest_ind(moscow, other_region, equal_var=False)"
      ]
    },
    {
      "cell_type": "code",
      "execution_count": null,
      "metadata": {
        "id": "FX7uZK31iSn2",
        "outputId": "2a075dec-fb0e-41a3-e5a6-2cff0c326f89"
      },
      "outputs": [
        {
          "name": "stdout",
          "output_type": "stream",
          "text": [
            "p-значение: 0.25928546010201803\n",
            "Не получилось отвергнуть нулевую гипотезу\n"
          ]
        }
      ],
      "source": [
        "print('p-значение:', results.pvalue)\n",
        "\n",
        "if (results.pvalue < alpha):\n",
        "    print(\"Отвергаем нулевую гипотезу\")\n",
        "else:\n",
        "    print(\"Не получилось отвергнуть нулевую гипотезу\")"
      ]
    },
    {
      "cell_type": "markdown",
      "metadata": {
        "id": "fL8MhNojiSn2"
      },
      "source": [
        "Не получилось отвергнуть гипотезу о равенстве двух средних. Значимых различий нет. Но просто для любопытства предлагаю взглянуть на данные поближе. Средняя выручка в зависимости от региона значимо не отличаются!"
      ]
    },
    {
      "cell_type": "code",
      "execution_count": null,
      "metadata": {
        "id": "VNKPREQViSn3",
        "outputId": "b2d89ce6-6ecd-41b5-b49e-d621c7555995"
      },
      "outputs": [
        {
          "data": {
            "text/html": [
              "<style  type=\"text/css\" >\n",
              "</style><table id=\"T_ae97047e_b571_11eb_8135_02420a3947de\" ><thead>    <tr>        <th class=\"blank level0\" ></th>        <th class=\"col_heading level0 col0\" colspan=2>total_paid</th>    </tr>    <tr>        <th class=\"blank level1\" ></th>        <th class=\"col_heading level1 col0\" >count</th>        <th class=\"col_heading level1 col1\" >mean</th>    </tr>    <tr>        <th class=\"index_name level0\" >region</th>        <th class=\"blank\" ></th>        <th class=\"blank\" ></th>    </tr></thead><tbody>\n",
              "                <tr>\n",
              "                        <th id=\"T_ae97047e_b571_11eb_8135_02420a3947delevel0_row0\" class=\"row_heading level0 row0\" >Другой регион</th>\n",
              "                        <td id=\"T_ae97047e_b571_11eb_8135_02420a3947derow0_col0\" class=\"data row0 col0\" >2603.00</td>\n",
              "                        <td id=\"T_ae97047e_b571_11eb_8135_02420a3947derow0_col1\" class=\"data row0 col1\" >1528.32</td>\n",
              "            </tr>\n",
              "            <tr>\n",
              "                        <th id=\"T_ae97047e_b571_11eb_8135_02420a3947delevel0_row1\" class=\"row_heading level0 row1\" >Москва</th>\n",
              "                        <td id=\"T_ae97047e_b571_11eb_8135_02420a3947derow1_col0\" class=\"data row1 col0\" >611.00</td>\n",
              "                        <td id=\"T_ae97047e_b571_11eb_8135_02420a3947derow1_col1\" class=\"data row1 col1\" >1550.81</td>\n",
              "            </tr>\n",
              "    </tbody></table>"
            ],
            "text/plain": [
              "<pandas.io.formats.style.Styler at 0x7f8053269550>"
            ]
          },
          "execution_count": 114,
          "metadata": {},
          "output_type": "execute_result"
        }
      ],
      "source": [
        "df.groupby('region')\\\n",
        "  .agg({'total_paid':['count','mean']})\\\n",
        "  .style.format(\"{:.2f}\")"
      ]
    },
    {
      "cell_type": "markdown",
      "metadata": {
        "id": "6NeO9BFbiSn3"
      },
      "source": [
        "Да, тут и без теста Стьюдента видно, что средняя выручка в зависимости от региона почти не отличается!"
      ]
    },
    {
      "cell_type": "markdown",
      "metadata": {
        "id": "6t8xScKPiSn3"
      },
      "source": [
        "## Общий вывод"
      ]
    },
    {
      "cell_type": "markdown",
      "metadata": {
        "id": "1iCxKQxxiSn3"
      },
      "source": [
        "**Тарифы \"smart\" и \"ultra\" отличается следующими особенностями:**\n",
        "1. Половина всех звонков в месяц по тарифу \"smart\" длится от 282 до 545 минут.\n",
        "2. Половина всех звонков в месяц по тарифу \"ultra\" длится от 284 до 752 минут.\n",
        "3. Средняя длительност звонка по тарифу \"smart\" равна 417.93 минут.\n",
        "4. Средняя длительност звонка по тарифу \"ultra\" равна 526.62 минут.\n",
        "5. В среднем абоненты тарифа \"ultra\" звонят приблизительно на 100 минут больше абонентов тарифа \"smart\" (медиана для \"smart\": 422 минуты, медиана для \"ultra\": 518 минут).\n",
        "6. Половина абонентов расходуют в месяц по тарифу \"smart\" от 12,643.01 до 20,042.93 мб.\n",
        "7. Половина абонентов расходуют в месяц по тарифу \"ultra\" от 11,770.26 до 26,837.69 мб.\n",
        "8. Средний расход интернета в МБ по тарифу \"smart\" составлет 16208.39 МБ.\n",
        "9. Средний расход интернета в МБ по тарифу \"ultra\" составлет 19468.81 МБ.\n",
        "10. В среднем абоненты тарифа \"ultra\" расходуют приблизительно на 3000 мб больше абонентов тарифа \"smart\" (медиана для \"smart\": 16506.84 мб, медиана для \"ultra\": 19468.81 мб).\n",
        "11. Половина абонентов отправляют в месяц по тарифу \"smart\" от 10 до 51 сообщения.\n",
        "12. Половина абонентов отправляют в месяц по тарифу \"ultra\" от 10 до 51 сообщения.\n",
        "13. Среднее количество сообщений в месяц для абонентов тарифа smart\" составлет 28 (медиана).\n",
        "14. Среднее количество сообщений в месяц для абонентов тарифа smart\" составлет 38 (медиана).\n",
        "15. В среднем абоненты тарифа \"ultra\" отправляют на 10 сообщений больше абонентов тарифа \"smart\" (медиана для \"smart\": 28.00 сообщений, медиана для \"ultra\": 38.00 сообщений).\n",
        "\n",
        "\n",
        "- Тариф smart привлекает большее количество пользователей, возможно из-за более демократичных цен. Из-за большего количества абонентов общая выручка с тарифа smart на 41% больше, чем выручка с тарифа ultra.\n",
        "\n",
        "- Несмотря на то, что пользователей тарифа \"smart\" в 2.3 раза больше, чем пользователей тарифа \"ultra\", они приносят на 60% больше выручки в среднем. Это статистически значимое отличие.\n",
        "\n",
        "***Рекомендуется больше вкладываться в рекламу тарифа ultra, так как при наличии достаточного объема целевой аудитории, с точки зрения роста выручки, тариф имеет больший потенциал.*** Так, увеличение количества абонентов тарифа ultra менее чем на 50% обеспечит тот же объем выручки, что и тариф smart. \n",
        "\n",
        "\n",
        "***Средняя выручка в зависимости от региона значимо не отличаются!***"
      ]
    }
  ],
  "metadata": {
    "ExecuteTimeLog": [
      {
        "duration": 1154,
        "start_time": "2022-06-06T14:51:49.460Z"
      },
      {
        "duration": 5,
        "start_time": "2022-06-06T14:51:50.616Z"
      },
      {
        "duration": 1182,
        "start_time": "2022-06-06T14:51:52.777Z"
      }
    ],
    "kernelspec": {
      "display_name": "Python 3 (ipykernel)",
      "language": "python",
      "name": "python3"
    },
    "language_info": {
      "codemirror_mode": {
        "name": "ipython",
        "version": 3
      },
      "file_extension": ".py",
      "mimetype": "text/x-python",
      "name": "python",
      "nbconvert_exporter": "python",
      "pygments_lexer": "ipython3",
      "version": "3.9.7"
    },
    "toc": {
      "base_numbering": 1,
      "nav_menu": {},
      "number_sections": true,
      "sideBar": true,
      "skip_h1_title": true,
      "title_cell": "Table of Contents",
      "title_sidebar": "Contents",
      "toc_cell": false,
      "toc_position": {},
      "toc_section_display": true,
      "toc_window_display": false
    },
    "colab": {
      "name": "determination_of_perspective_tariff.ipynb",
      "provenance": [],
      "include_colab_link": true
    }
  },
  "nbformat": 4,
  "nbformat_minor": 0
}