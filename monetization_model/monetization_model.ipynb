{
  "cells": [
    {
      "cell_type": "markdown",
      "metadata": {
        "id": "view-in-github",
        "colab_type": "text"
      },
      "source": [
        "<a href=\"https://colab.research.google.com/github/GrichinNikita2019/yandex_praktikum_da/blob/main/monetization_model/monetization_model.ipynb\" target=\"_parent\"><img src=\"https://colab.research.google.com/assets/colab-badge.svg\" alt=\"Open In Colab\"/></a>"
      ]
    },
    {
      "cell_type": "markdown",
      "metadata": {
        "id": "lzaVfni-5nUW"
      },
      "source": [
        "# Анализ поведения игроков в зависимости от рекламного источника\n",
        "\n",
        "**Цель проекта**:\n",
        "* Проанализировать поведение игроков в зависимости от источника перехода.\n",
        "\n",
        "**Задачи проекта**:\n",
        "* Проведение исследовательского анализа данных,\n",
        "* Проанализировать влияние источника перехода в игру на поведение пользователя,\n",
        "* Проверить статистические гипотезы:\n",
        "    1. Время завершения уровня различается в зависимости способа прохождения (через реализацию проекта, через победу над первым игроком);\n",
        "    2. Среднее число конверсий (постройка здания) / стоимость конверсии (постройка здания) различается в зависимости способа прохождения (через реализацию проекта, через победу над первым игроком):\n",
        "\n",
        "**План работы:**\n",
        "1. **Шаг 1. Произвести предобработку данных**:\n",
        "    - Исследовать пропущенные значения;\n",
        "    - Заменить пропущенные значения;\n",
        "    - Исследовать соответствие типов;\n",
        "    - Привести типы;\n",
        "    - Исследовать дубликаты;\n",
        "    - Удалить дубликаты;\n",
        "    - Проверить корректность наименований колонок;\n",
        "    - Переименовать колонки.\n",
        "\n",
        "2. **Шаг 2. Провести исследовательский анализ данных:**;\n",
        "    - Посмотреть на распределения переменных:\n",
        "    \n",
        "        - *event_datetime*: (1) посмотреть, какой временной интервал представлен, (2) посмотреть на частоту событий по времени (день недели, час и т.д.), чтобы обнаружить, в какое время люди более интенсивно играют;\n",
        "        - *event*: посмотреть, какие типы событий более распространены, то есть определить более популярную стратегию (через реализацию проекта (project) или через победу над игроком (finished_stage_1 за исключением project));\n",
        "        - *building_type*: (1) посмотреть, какие типы построек наиболее распространены, (2) посмотреть, какие типы построек наиболее распространены для разных стратегий прохождения (через реализацию проекта (project) или через победу над игроком (finished_stage_1 за исключением project))\n",
        "        - *source*: посмотреть, достаточно ли представлены все источники в выборке (все ли достаточно наполнены наблюдениями для сравнения).\n",
        "\n",
        "     \n",
        "3. **Шаг 3. Проанализировать влияние источника перехода в игру на поведение пользователя**:\n",
        "    - Посмотреть, отличается ли среднее количество построенных зданий в зависимости от источника (так как предполагается, что в приложении будет происходить показ рекламы на экране с выбором типа объекта для постройки, то количество построенных зданий то действие, которое можно считать \n",
        "    - Посмотреть, отличается ли время на прохождение уровня;\n",
        "    - Посмотреть, какой тип стратегии преобладает в зависимости от источника (через реализацию проекта (project) или через победу над игроком (finished_stage_1 за исключением project)).\n",
        "\n",
        "4. **Шаг 4. Проверить статистические гипотезы**:\n",
        "    - Проверить гипотезу: время завершения уровня различается в зависимости способа прохождения:\n",
        "        - через реализацию проекта;\n",
        "        - через победу над первым игроком.\n",
        "5. **Шаг 5. Сформулировать собственную статистическую гипотезу**:\n",
        "    - Проверить гипотезу: среднее число построенных зданий различается в зависимости способа прохождения:\n",
        "        - через реализацию проекта;\n",
        "        - через победу над первым игроком.\n",
        "\n",
        "**Описание данных:**\n",
        "\n",
        "Основной датасет содержит данные о событиях, совершенных в мобильной игре «Космические братья». В ней пользователи строят свою космическую программу и пытаются преуспеть в нелёгком деле колонизации галактики.\n",
        "\n",
        "Основная монетизация игры — только планируется. Но предполагается, что в приложении будет происходить показ рекламы на экране с выбором типа объекта для постройки.\n",
        "\n",
        "В датасете представлены данные по игре пользователей на первом уровне. Завершение первого уровня требует от игрока выполнения одного из двух условий:\n",
        "\n",
        "- Победа над первым врагом\n",
        "- Реализация проекта - разработка орбитальной сборки спутников\n",
        "\n",
        "В датасете содержатся данные первых пользователей приложения — когорты пользователей, которые начали пользоваться приложением в период с 4 по 10 мая включительно.\n",
        "\n",
        "**Структура данных game_actions:**\n",
        "\n",
        "* event_datetime — *время события*\n",
        "* event — *одно из трёх событий*:\n",
        "  * building — *объект построен*\n",
        "  * finished_stage_1 — *первый уровень завершён*\n",
        "  * project — *проект завершён*\n",
        "* building_type — *один из трёх типов здания*:\n",
        "  * assembly_shop — *сборочный цех*\n",
        "  * spaceport — *космопорт*\n",
        "  * research_center — *исследовательский центр*  \n",
        "* user_id — *идентификатор пользователя*\n",
        "* project_type — *тип реализованного проекта*\n",
        "\n",
        "Помимо основного датасета есть два датасета с информацией о рекламных активностях. Они также помогут в решении задачи.\n",
        "\n",
        "**Структура данных ad_cost:**\n",
        "\n",
        "* day — *день, в который был совершен клик по объявлению*\n",
        "* source — *источник трафика*\n",
        "* cost — *стоимость кликов*\n",
        "\n",
        "**Структура данных user_source:**\n",
        "\n",
        "* user_id — *идентификатор пользователя*\n",
        "* source — *источников, с которого пришёл пользователь, установивший приложение*"
      ]
    },
    {
      "cell_type": "markdown",
      "metadata": {
        "id": "Vg5hDLMJ5nUf"
      },
      "source": [
        "## Изучение данных из файла"
      ]
    },
    {
      "cell_type": "markdown",
      "metadata": {
        "id": "aR8ufAU45nUg"
      },
      "source": [
        "### Импорт библиотек, настройка отображения данных и загрузка данных"
      ]
    },
    {
      "cell_type": "code",
      "execution_count": null,
      "metadata": {
        "id": "EmbAOzIF5nUh"
      },
      "outputs": [],
      "source": [
        "import pandas as pd\n",
        "import numpy as np\n",
        "import math as mth\n",
        "import seaborn as sns\n",
        "import matplotlib.pyplot as plt\n",
        "import warnings\n",
        "from scipy import stats as st"
      ]
    },
    {
      "cell_type": "code",
      "execution_count": null,
      "metadata": {
        "id": "QcWsusx15nUj"
      },
      "outputs": [],
      "source": [
        "pd.options.display.float_format = '{:,.2f}'.format\n",
        "pd.set_option('display.float_format', lambda x: '%.3f' % x)\n",
        "%matplotlib inline\n",
        "plt.style.use('dark_background')\n",
        "warnings.filterwarnings('ignore')"
      ]
    },
    {
      "cell_type": "code",
      "execution_count": null,
      "metadata": {
        "id": "RF6ipCMV5nUk"
      },
      "outputs": [],
      "source": [
        "game_actions = pd.read_csv(\"https://docs.google.com/spreadsheets/d/e/2PACX-1vTmFEcma_nmg06f0kKcC7oJ2WDZ8EZ-KRGBbSK1xgioJc47T_gW2nmAv6n0JZuK-P4zJ6MhwGVOmTkP/pub?output=csv\")\n",
        "user_source = pd.read_csv(\"https://docs.google.com/spreadsheets/d/e/2PACX-1vQM7d57ksdO-RupCUnoI1qc-fZ_c_A-PLH3GqgnIvODE9_3JKfa3PSdcgg6Kg_7yxTzlkiDGXpO6i1h/pub?output=csv\")\n",
        "ad_cost = pd.read_csv(\"https://docs.google.com/spreadsheets/d/e/2PACX-1vRHgz5-6daMQQV8mzEqpvKCdeQpwYV9zpl68XMl-L0_hfvzgtLnDbNZ1EzpjBdmQtFNqqyQu__H8med/pub?output=csv\")"
      ]
    },
    {
      "cell_type": "markdown",
      "metadata": {
        "id": "UdYPZfla5nUk"
      },
      "source": [
        "### Изучение таблицы game_actions"
      ]
    },
    {
      "cell_type": "markdown",
      "metadata": {
        "id": "69xpLGij5nUl"
      },
      "source": [
        "#### Названия столбцов"
      ]
    },
    {
      "cell_type": "code",
      "execution_count": null,
      "metadata": {
        "id": "ACvcXsTp5nUm",
        "outputId": "5a0cdbed-1b48-454b-8208-572fd399b50c"
      },
      "outputs": [
        {
          "data": {
            "text/plain": [
              "Index(['event_datetime', 'event', 'building_type', 'user_id', 'project_type'], dtype='object')"
            ]
          },
          "execution_count": 4,
          "metadata": {},
          "output_type": "execute_result"
        }
      ],
      "source": [
        "game_actions.columns"
      ]
    },
    {
      "cell_type": "markdown",
      "metadata": {
        "id": "TeKoKRRR5nUo"
      },
      "source": [
        "С названием переменных все в порядке."
      ]
    },
    {
      "cell_type": "markdown",
      "metadata": {
        "id": "4fjj_0MJ5nUo"
      },
      "source": [
        "#### Пропуски, дубликаты и типы данных"
      ]
    },
    {
      "cell_type": "code",
      "execution_count": null,
      "metadata": {
        "id": "GPjrC-wn5nUp",
        "outputId": "0b4c0b16-9943-4ca2-ed81-f39ea607da60"
      },
      "outputs": [
        {
          "name": "stdout",
          "output_type": "stream",
          "text": [
            "<class 'pandas.core.frame.DataFrame'>\n",
            "RangeIndex: 135640 entries, 0 to 135639\n",
            "Data columns (total 5 columns):\n",
            "event_datetime    135640 non-null object\n",
            "event             135640 non-null object\n",
            "building_type     127957 non-null object\n",
            "user_id           135640 non-null object\n",
            "project_type      1866 non-null object\n",
            "dtypes: object(5)\n",
            "memory usage: 5.2+ MB\n"
          ]
        }
      ],
      "source": [
        "game_actions.info()"
      ]
    },
    {
      "cell_type": "markdown",
      "metadata": {
        "id": "bLqvOGww5nUp"
      },
      "source": [
        "Тип переменной *event_datetime* необходимо заменить на datetime."
      ]
    },
    {
      "cell_type": "code",
      "execution_count": null,
      "metadata": {
        "id": "vhDJBeSJ5nUq"
      },
      "outputs": [],
      "source": [
        "game_actions['event_datetime'] = game_actions['event_datetime'].astype('datetime64')"
      ]
    },
    {
      "cell_type": "code",
      "execution_count": null,
      "metadata": {
        "id": "IVsDdWgm5nUq",
        "outputId": "dcf7a488-9ceb-443d-c8e9-0f9cfa609330"
      },
      "outputs": [
        {
          "name": "stdout",
          "output_type": "stream",
          "text": [
            "<class 'pandas.core.frame.DataFrame'>\n",
            "RangeIndex: 135640 entries, 0 to 135639\n",
            "Data columns (total 5 columns):\n",
            "event_datetime    135640 non-null datetime64[ns]\n",
            "event             135640 non-null object\n",
            "building_type     127957 non-null object\n",
            "user_id           135640 non-null object\n",
            "project_type      1866 non-null object\n",
            "dtypes: datetime64[ns](1), object(4)\n",
            "memory usage: 5.2+ MB\n"
          ]
        }
      ],
      "source": [
        "game_actions.info()"
      ]
    },
    {
      "cell_type": "markdown",
      "metadata": {
        "id": "jAgc_2b45nUr"
      },
      "source": [
        "Теперь используемые типы данных адекватны данным, хранящимся в наших переменных.\n",
        "\n",
        "Далее проверим данные на наличие дубликатов и пропусков."
      ]
    },
    {
      "cell_type": "code",
      "execution_count": null,
      "metadata": {
        "id": "jxQdhbld5nUr",
        "outputId": "c61f7540-2a19-479b-fb34-a6fd60a26ce3"
      },
      "outputs": [
        {
          "data": {
            "text/plain": [
              "1"
            ]
          },
          "execution_count": 8,
          "metadata": {},
          "output_type": "execute_result"
        }
      ],
      "source": [
        "(\n",
        "game_actions.duplicated()\n",
        "            .sum()\n",
        ")"
      ]
    },
    {
      "cell_type": "markdown",
      "metadata": {
        "id": "b59rUWiO5nUr"
      },
      "source": [
        "В нашем датафрейме 1 дубликат. Избавимся от него."
      ]
    },
    {
      "cell_type": "code",
      "execution_count": null,
      "metadata": {
        "id": "lXApNWu_5nUs"
      },
      "outputs": [],
      "source": [
        "game_actions = (\n",
        "game_actions.drop_duplicates()\n",
        "            .reset_index(drop=True)\n",
        ")"
      ]
    },
    {
      "cell_type": "code",
      "execution_count": null,
      "metadata": {
        "id": "p1nKIVtX5nUs",
        "outputId": "92f0c35a-3645-4122-8066-f5a630d375c9"
      },
      "outputs": [
        {
          "data": {
            "text/plain": [
              "0"
            ]
          },
          "execution_count": 10,
          "metadata": {},
          "output_type": "execute_result"
        }
      ],
      "source": [
        "(\n",
        "game_actions.duplicated()\n",
        "            .sum()\n",
        ")"
      ]
    },
    {
      "cell_type": "markdown",
      "metadata": {
        "id": "DcXPyhA35nUs"
      },
      "source": [
        "Больше дубликатов не осталось.\n",
        "\n",
        "Теперь очередь пропусков."
      ]
    },
    {
      "cell_type": "code",
      "execution_count": null,
      "metadata": {
        "id": "m5Ia4aO85nUt",
        "outputId": "c298c5e2-7241-4dd0-dd4b-20585c15a9c6"
      },
      "outputs": [
        {
          "data": {
            "text/html": [
              "<style  type=\"text/css\" >\n",
              "    #T_8aebf38e_9e2f_11ec_a5cb_02420a392e50row0_col0 {\n",
              "            background-color:  #3b4cc0;\n",
              "            color:  #f1f1f1;\n",
              "        }    #T_8aebf38e_9e2f_11ec_a5cb_02420a392e50row1_col0 {\n",
              "            background-color:  #3b4cc0;\n",
              "            color:  #f1f1f1;\n",
              "        }    #T_8aebf38e_9e2f_11ec_a5cb_02420a392e50row2_col0 {\n",
              "            background-color:  #4b64d5;\n",
              "            color:  #f1f1f1;\n",
              "        }    #T_8aebf38e_9e2f_11ec_a5cb_02420a392e50row3_col0 {\n",
              "            background-color:  #3b4cc0;\n",
              "            color:  #f1f1f1;\n",
              "        }    #T_8aebf38e_9e2f_11ec_a5cb_02420a392e50row4_col0 {\n",
              "            background-color:  #b40426;\n",
              "            color:  #f1f1f1;\n",
              "        }</style><table id=\"T_8aebf38e_9e2f_11ec_a5cb_02420a392e50\" ><thead>    <tr>        <th class=\"blank level0\" ></th>        <th class=\"col_heading level0 col0\" >share_of_missing_values</th>    </tr></thead><tbody>\n",
              "                <tr>\n",
              "                        <th id=\"T_8aebf38e_9e2f_11ec_a5cb_02420a392e50level0_row0\" class=\"row_heading level0 row0\" >event_datetime</th>\n",
              "                        <td id=\"T_8aebf38e_9e2f_11ec_a5cb_02420a392e50row0_col0\" class=\"data row0 col0\" >0</td>\n",
              "            </tr>\n",
              "            <tr>\n",
              "                        <th id=\"T_8aebf38e_9e2f_11ec_a5cb_02420a392e50level0_row1\" class=\"row_heading level0 row1\" >event</th>\n",
              "                        <td id=\"T_8aebf38e_9e2f_11ec_a5cb_02420a392e50row1_col0\" class=\"data row1 col0\" >0</td>\n",
              "            </tr>\n",
              "            <tr>\n",
              "                        <th id=\"T_8aebf38e_9e2f_11ec_a5cb_02420a392e50level0_row2\" class=\"row_heading level0 row2\" >building_type</th>\n",
              "                        <td id=\"T_8aebf38e_9e2f_11ec_a5cb_02420a392e50row2_col0\" class=\"data row2 col0\" >5.66</td>\n",
              "            </tr>\n",
              "            <tr>\n",
              "                        <th id=\"T_8aebf38e_9e2f_11ec_a5cb_02420a392e50level0_row3\" class=\"row_heading level0 row3\" >user_id</th>\n",
              "                        <td id=\"T_8aebf38e_9e2f_11ec_a5cb_02420a392e50row3_col0\" class=\"data row3 col0\" >0</td>\n",
              "            </tr>\n",
              "            <tr>\n",
              "                        <th id=\"T_8aebf38e_9e2f_11ec_a5cb_02420a392e50level0_row4\" class=\"row_heading level0 row4\" >project_type</th>\n",
              "                        <td id=\"T_8aebf38e_9e2f_11ec_a5cb_02420a392e50row4_col0\" class=\"data row4 col0\" >98.62</td>\n",
              "            </tr>\n",
              "    </tbody></table>"
            ],
            "text/plain": [
              "<pandas.io.formats.style.Styler at 0x7f18c35d44d0>"
            ]
          },
          "execution_count": 11,
          "metadata": {},
          "output_type": "execute_result"
        }
      ],
      "source": [
        "(\n",
        "pd.DataFrame(round((game_actions.isna().mean()*100),2),\n",
        "             columns = ['share_of_missing_values'])\n",
        "            .style.background_gradient('coolwarm')\n",
        ")"
      ]
    },
    {
      "cell_type": "markdown",
      "metadata": {
        "id": "mfHJ0s6K5nUt"
      },
      "source": [
        "Видно, что есть небольшой процент (5.66%) пропусков по переменной *building_type*, а переменная project_type так вообще на 98.62% состоит из пропусков. Однако есть предположение, что эти пропуски и должны быть, так как:\n",
        "1. Не все действия в игре ограничиваются постройкой здания, следовательно не у всех записей в датафрейме будет характеристика \"тип постройки\";\n",
        "2. Не все дейсвия игроков сводятся к реализации проекта, поэтому не у всех записей будет характеристика \"тип проекта\".\n",
        "\n",
        "Проверим это.\n",
        "\n",
        "Для начала определим долю игроков, которые не осуществляли действие с именем *building*."
      ]
    },
    {
      "cell_type": "code",
      "execution_count": null,
      "metadata": {
        "id": "wyYMiHpI5nUt",
        "outputId": "e9620d17-40b6-4fc2-ebae-72c009f4d623"
      },
      "outputs": [
        {
          "data": {
            "text/plain": [
              "5.66"
            ]
          },
          "execution_count": 12,
          "metadata": {},
          "output_type": "execute_result"
        }
      ],
      "source": [
        "round(100 - (len(game_actions['event'][game_actions['event'] == 'building']) / len(game_actions) * 100),2)"
      ]
    },
    {
      "cell_type": "markdown",
      "metadata": {
        "id": "1bYRPQIt5nUu"
      },
      "source": [
        "Доля совпадает с долей пропусков по переменной *building_type*, то есть пропуски в данном случае это адекватно, из чего следует, что их не нужно заполнять. Теперь к *project_type*."
      ]
    },
    {
      "cell_type": "code",
      "execution_count": null,
      "metadata": {
        "id": "rWQFc0kH5nUu",
        "outputId": "6078ea08-8302-4d47-e152-f4660ea0f999"
      },
      "outputs": [
        {
          "data": {
            "text/plain": [
              "98.62"
            ]
          },
          "execution_count": 13,
          "metadata": {},
          "output_type": "execute_result"
        }
      ],
      "source": [
        "round(100 - (len(game_actions['event'][game_actions['event'] == 'project']) / len(game_actions) * 100),2)"
      ]
    },
    {
      "cell_type": "markdown",
      "metadata": {
        "id": "JZX30K-c5nUu"
      },
      "source": [
        "Та же история: доля совпадает с долей пропусков по переменной *project_type*, поэтому заполнять их не нужно."
      ]
    },
    {
      "cell_type": "markdown",
      "metadata": {
        "id": "go4WkoVX5nUv"
      },
      "source": [
        "### Изучение таблицы user_source"
      ]
    },
    {
      "cell_type": "markdown",
      "metadata": {
        "id": "2LhCUajg5nUv"
      },
      "source": [
        "#### Названия столбцов"
      ]
    },
    {
      "cell_type": "code",
      "execution_count": null,
      "metadata": {
        "id": "m3Pfx-4S5nUv",
        "outputId": "01c96d69-f540-4f85-ff7a-2f4ab2e1fc28"
      },
      "outputs": [
        {
          "data": {
            "text/plain": [
              "Index(['user_id', 'source'], dtype='object')"
            ]
          },
          "execution_count": 14,
          "metadata": {},
          "output_type": "execute_result"
        }
      ],
      "source": [
        "user_source.columns"
      ]
    },
    {
      "cell_type": "markdown",
      "metadata": {
        "id": "UAG_QqtJ5nUv"
      },
      "source": [
        "С названием переменных все также в порядке."
      ]
    },
    {
      "cell_type": "markdown",
      "metadata": {
        "id": "Q0G7BBjz5nUv"
      },
      "source": [
        "#### Пропуски, дубликаты и типы данных"
      ]
    },
    {
      "cell_type": "code",
      "execution_count": null,
      "metadata": {
        "id": "GJrr11uR5nUw",
        "outputId": "8b1dc954-8a47-4188-9e2b-fd83071c334a"
      },
      "outputs": [
        {
          "name": "stdout",
          "output_type": "stream",
          "text": [
            "<class 'pandas.core.frame.DataFrame'>\n",
            "RangeIndex: 13576 entries, 0 to 13575\n",
            "Data columns (total 2 columns):\n",
            "user_id    13576 non-null object\n",
            "source     13576 non-null object\n",
            "dtypes: object(2)\n",
            "memory usage: 212.2+ KB\n"
          ]
        }
      ],
      "source": [
        "user_source.info()"
      ]
    },
    {
      "cell_type": "markdown",
      "metadata": {
        "id": "DGDHPk7F5nUw"
      },
      "source": [
        "Используются подходящие типы данных."
      ]
    },
    {
      "cell_type": "code",
      "execution_count": null,
      "metadata": {
        "id": "zYulxs295nUw",
        "outputId": "2722ec45-b730-4832-e63c-ceb6ffe27f42"
      },
      "outputs": [
        {
          "data": {
            "text/plain": [
              "0"
            ]
          },
          "execution_count": 16,
          "metadata": {},
          "output_type": "execute_result"
        }
      ],
      "source": [
        "(\n",
        "user_source.duplicated()\n",
        "           .sum()\n",
        ")"
      ]
    },
    {
      "cell_type": "markdown",
      "metadata": {
        "id": "4-ob-jAb5nUw"
      },
      "source": [
        "Дубликаты отсутствуют."
      ]
    },
    {
      "cell_type": "code",
      "execution_count": null,
      "metadata": {
        "id": "SuCQV6ry5nUx",
        "outputId": "65fdb6d5-0bd1-49d4-8b41-f639ce799dc2"
      },
      "outputs": [
        {
          "data": {
            "text/html": [
              "<style  type=\"text/css\" >\n",
              "    #T_8b0874a0_9e2f_11ec_a5cb_02420a392e50row0_col0 {\n",
              "            background-color:  #3b4cc0;\n",
              "            color:  #f1f1f1;\n",
              "        }    #T_8b0874a0_9e2f_11ec_a5cb_02420a392e50row1_col0 {\n",
              "            background-color:  #3b4cc0;\n",
              "            color:  #f1f1f1;\n",
              "        }</style><table id=\"T_8b0874a0_9e2f_11ec_a5cb_02420a392e50\" ><thead>    <tr>        <th class=\"blank level0\" ></th>        <th class=\"col_heading level0 col0\" >share_of_missing_values</th>    </tr></thead><tbody>\n",
              "                <tr>\n",
              "                        <th id=\"T_8b0874a0_9e2f_11ec_a5cb_02420a392e50level0_row0\" class=\"row_heading level0 row0\" >user_id</th>\n",
              "                        <td id=\"T_8b0874a0_9e2f_11ec_a5cb_02420a392e50row0_col0\" class=\"data row0 col0\" >0</td>\n",
              "            </tr>\n",
              "            <tr>\n",
              "                        <th id=\"T_8b0874a0_9e2f_11ec_a5cb_02420a392e50level0_row1\" class=\"row_heading level0 row1\" >source</th>\n",
              "                        <td id=\"T_8b0874a0_9e2f_11ec_a5cb_02420a392e50row1_col0\" class=\"data row1 col0\" >0</td>\n",
              "            </tr>\n",
              "    </tbody></table>"
            ],
            "text/plain": [
              "<pandas.io.formats.style.Styler at 0x7f18c3266990>"
            ]
          },
          "execution_count": 17,
          "metadata": {},
          "output_type": "execute_result"
        }
      ],
      "source": [
        "(\n",
        "pd.DataFrame(round((user_source.isna().mean()*100),2),\n",
        "             columns = ['share_of_missing_values'])\n",
        "            .style.background_gradient('coolwarm')\n",
        ")"
      ]
    },
    {
      "cell_type": "markdown",
      "metadata": {
        "id": "sCq5B6ej5nUx"
      },
      "source": [
        "Пропуски отсутствуют."
      ]
    },
    {
      "cell_type": "markdown",
      "metadata": {
        "id": "N8wxqJJa5nUx"
      },
      "source": [
        "### Изучение таблицы ad_cost"
      ]
    },
    {
      "cell_type": "markdown",
      "metadata": {
        "id": "AdL1UNp55nUx"
      },
      "source": [
        "#### Названия столбцов"
      ]
    },
    {
      "cell_type": "code",
      "execution_count": null,
      "metadata": {
        "id": "MoQ6Dg3y5nUy",
        "outputId": "4ea0f08e-d9aa-408d-e0b4-2f9460724bab"
      },
      "outputs": [
        {
          "data": {
            "text/plain": [
              "Index(['source', 'day', 'cost'], dtype='object')"
            ]
          },
          "execution_count": 18,
          "metadata": {},
          "output_type": "execute_result"
        }
      ],
      "source": [
        "ad_cost.columns"
      ]
    },
    {
      "cell_type": "markdown",
      "metadata": {
        "id": "psr_E_Ge5nUy"
      },
      "source": [
        "С названием переменных все в порядке."
      ]
    },
    {
      "cell_type": "code",
      "execution_count": null,
      "metadata": {
        "id": "5W_CVH8G5nUy",
        "outputId": "948ca339-f82d-444b-e3b2-a0adf0412463"
      },
      "outputs": [
        {
          "name": "stdout",
          "output_type": "stream",
          "text": [
            "<class 'pandas.core.frame.DataFrame'>\n",
            "RangeIndex: 28 entries, 0 to 27\n",
            "Data columns (total 3 columns):\n",
            "source    28 non-null object\n",
            "day       28 non-null object\n",
            "cost      28 non-null float64\n",
            "dtypes: float64(1), object(2)\n",
            "memory usage: 800.0+ bytes\n"
          ]
        }
      ],
      "source": [
        "ad_cost.info()"
      ]
    },
    {
      "cell_type": "markdown",
      "metadata": {
        "id": "DnIMdp6I5nUy"
      },
      "source": [
        "Тип переменной *day* необходимо заменить на datetime."
      ]
    },
    {
      "cell_type": "code",
      "execution_count": null,
      "metadata": {
        "id": "wDCvcanX5nUy"
      },
      "outputs": [],
      "source": [
        "ad_cost['day'] = ad_cost['day'].astype('datetime64')"
      ]
    },
    {
      "cell_type": "code",
      "execution_count": null,
      "metadata": {
        "id": "8HdybXf95nUy",
        "outputId": "f0e8712c-78f8-4836-a788-9e632f5d25ea"
      },
      "outputs": [
        {
          "name": "stdout",
          "output_type": "stream",
          "text": [
            "<class 'pandas.core.frame.DataFrame'>\n",
            "RangeIndex: 28 entries, 0 to 27\n",
            "Data columns (total 3 columns):\n",
            "source    28 non-null object\n",
            "day       28 non-null datetime64[ns]\n",
            "cost      28 non-null float64\n",
            "dtypes: datetime64[ns](1), float64(1), object(1)\n",
            "memory usage: 800.0+ bytes\n"
          ]
        }
      ],
      "source": [
        "ad_cost.info()"
      ]
    },
    {
      "cell_type": "markdown",
      "metadata": {
        "id": "38audvMP5nUz"
      },
      "source": [
        "Теперь используемые типы данных адекватны данным, хранящимся в наших переменных."
      ]
    },
    {
      "cell_type": "code",
      "execution_count": null,
      "metadata": {
        "id": "CpHlgP3z5nUz",
        "outputId": "b4fffe5b-f9fd-4071-bdbe-35408e9e0ff3"
      },
      "outputs": [
        {
          "data": {
            "text/plain": [
              "0"
            ]
          },
          "execution_count": 22,
          "metadata": {},
          "output_type": "execute_result"
        }
      ],
      "source": [
        "(\n",
        "ad_cost.duplicated()\n",
        "       .sum()\n",
        ")"
      ]
    },
    {
      "cell_type": "markdown",
      "metadata": {
        "id": "BI4uLyMz5nUz"
      },
      "source": [
        "Дубликаты отсутствуют."
      ]
    },
    {
      "cell_type": "code",
      "execution_count": null,
      "metadata": {
        "id": "Qw4zPUHA5nUz",
        "outputId": "ef7a91a3-e544-4ac2-e6d8-82235dbebfee"
      },
      "outputs": [
        {
          "data": {
            "text/html": [
              "<style  type=\"text/css\" >\n",
              "    #T_8b24ccf4_9e2f_11ec_a5cb_02420a392e50row0_col0 {\n",
              "            background-color:  #3b4cc0;\n",
              "            color:  #f1f1f1;\n",
              "        }    #T_8b24ccf4_9e2f_11ec_a5cb_02420a392e50row1_col0 {\n",
              "            background-color:  #3b4cc0;\n",
              "            color:  #f1f1f1;\n",
              "        }    #T_8b24ccf4_9e2f_11ec_a5cb_02420a392e50row2_col0 {\n",
              "            background-color:  #3b4cc0;\n",
              "            color:  #f1f1f1;\n",
              "        }</style><table id=\"T_8b24ccf4_9e2f_11ec_a5cb_02420a392e50\" ><thead>    <tr>        <th class=\"blank level0\" ></th>        <th class=\"col_heading level0 col0\" >share_of_missing_values</th>    </tr></thead><tbody>\n",
              "                <tr>\n",
              "                        <th id=\"T_8b24ccf4_9e2f_11ec_a5cb_02420a392e50level0_row0\" class=\"row_heading level0 row0\" >source</th>\n",
              "                        <td id=\"T_8b24ccf4_9e2f_11ec_a5cb_02420a392e50row0_col0\" class=\"data row0 col0\" >0</td>\n",
              "            </tr>\n",
              "            <tr>\n",
              "                        <th id=\"T_8b24ccf4_9e2f_11ec_a5cb_02420a392e50level0_row1\" class=\"row_heading level0 row1\" >day</th>\n",
              "                        <td id=\"T_8b24ccf4_9e2f_11ec_a5cb_02420a392e50row1_col0\" class=\"data row1 col0\" >0</td>\n",
              "            </tr>\n",
              "            <tr>\n",
              "                        <th id=\"T_8b24ccf4_9e2f_11ec_a5cb_02420a392e50level0_row2\" class=\"row_heading level0 row2\" >cost</th>\n",
              "                        <td id=\"T_8b24ccf4_9e2f_11ec_a5cb_02420a392e50row2_col0\" class=\"data row2 col0\" >0</td>\n",
              "            </tr>\n",
              "    </tbody></table>"
            ],
            "text/plain": [
              "<pandas.io.formats.style.Styler at 0x7f18c3254210>"
            ]
          },
          "execution_count": 23,
          "metadata": {},
          "output_type": "execute_result"
        }
      ],
      "source": [
        "(\n",
        "pd.DataFrame(round((ad_cost.isna().mean()*100),2),\n",
        "             columns = ['share_of_missing_values'])\n",
        "            .style.background_gradient('coolwarm')\n",
        ")"
      ]
    },
    {
      "cell_type": "markdown",
      "metadata": {
        "id": "hs4udNYK5nUz"
      },
      "source": [
        "Пропуски отсутствуют."
      ]
    },
    {
      "cell_type": "markdown",
      "metadata": {
        "id": "Ywk5Cd-55nU0"
      },
      "source": [
        "**Общие выводы по разделу:**\n",
        "\n",
        "1. На этапе предобработки был обнаружен ряд недостатков, которые были исправлены:\n",
        "- Переменные*event_datetime* таблицы *game_actions* и *day* таблицы *ad_cost* были приведены к типу *datetime*;\n",
        "- В таблице *game_actions* присутствовал 1 дубликат\n",
        "2. В остальном в предоставленных данных не наблюдается заметных недостатков: пропуски данных отсутствуют, заголовки имеют адекватные имена."
      ]
    },
    {
      "cell_type": "markdown",
      "metadata": {
        "id": "GqPWJN5j5nU0"
      },
      "source": [
        "## Исследовательский анализ данных"
      ]
    },
    {
      "cell_type": "markdown",
      "metadata": {
        "id": "SZ1KFpyX5nU0"
      },
      "source": [
        "### Изучение распределения пользователей и событий по дням"
      ]
    },
    {
      "cell_type": "markdown",
      "metadata": {
        "id": "SbM-T1Px5nU0"
      },
      "source": [
        "**Задача**:\n",
        "посмотреть, какой временной интервал представлен, (2) посмотреть на частоту событий по времени (день недели, час и т.д.), чтобы обнаружить, в какое время люди более интенсивно играют."
      ]
    },
    {
      "cell_type": "markdown",
      "metadata": {
        "id": "vAsou58V5nU0"
      },
      "source": [
        "Для начала посмотрим на динамику числа пользователей по дням."
      ]
    },
    {
      "cell_type": "code",
      "execution_count": null,
      "metadata": {
        "id": "HxtJamaZ5nU0"
      },
      "outputs": [],
      "source": [
        "game_actions['session_day'] = game_actions['event_datetime'].astype(\"datetime64[D]\")"
      ]
    },
    {
      "cell_type": "code",
      "execution_count": null,
      "metadata": {
        "id": "EeVLWwoI5nU1",
        "outputId": "38b0fbaa-5006-484a-8041-84119452073b"
      },
      "outputs": [
        {
          "data": {
            "text/plain": [
              "count                  135639\n",
              "unique                     33\n",
              "top       2020-05-10 00:00:00\n",
              "freq                    15207\n",
              "first     2020-05-04 00:00:00\n",
              "last      2020-06-05 00:00:00\n",
              "Name: session_day, dtype: object"
            ]
          },
          "execution_count": 25,
          "metadata": {},
          "output_type": "execute_result"
        }
      ],
      "source": [
        "game_actions['session_day'].describe()"
      ]
    },
    {
      "cell_type": "markdown",
      "metadata": {
        "id": "mQvllhMy5nU1"
      },
      "source": [
        "В нашем датасете представлены данные за месяц: с 2020-05-04 по 2020-06-05. За такой короткий срок нет большого смысла смотреть на динамику по неделям, остановимся на динамике по дням. Другими словами, посчитаем DAU."
      ]
    },
    {
      "cell_type": "code",
      "execution_count": null,
      "metadata": {
        "id": "xHvJ73aV5nU1"
      },
      "outputs": [],
      "source": [
        "dau = (\n",
        "    game_actions.groupby('session_day')\n",
        "                .agg({'user_id': 'nunique'})\n",
        "                .reset_index()\n",
        ")"
      ]
    },
    {
      "cell_type": "code",
      "execution_count": null,
      "metadata": {
        "scrolled": true,
        "id": "AvuGFCPw5nU1",
        "outputId": "03e9c8f9-a405-42b1-d83e-7e6126905c98"
      },
      "outputs": [
        {
          "data": {
            "text/html": [
              "<div>\n",
              "<style scoped>\n",
              "    .dataframe tbody tr th:only-of-type {\n",
              "        vertical-align: middle;\n",
              "    }\n",
              "\n",
              "    .dataframe tbody tr th {\n",
              "        vertical-align: top;\n",
              "    }\n",
              "\n",
              "    .dataframe thead th {\n",
              "        text-align: right;\n",
              "    }\n",
              "</style>\n",
              "<table border=\"1\" class=\"dataframe\">\n",
              "  <thead>\n",
              "    <tr style=\"text-align: right;\">\n",
              "      <th></th>\n",
              "      <th>user_id</th>\n",
              "    </tr>\n",
              "  </thead>\n",
              "  <tbody>\n",
              "    <tr>\n",
              "      <td>count</td>\n",
              "      <td>33.000</td>\n",
              "    </tr>\n",
              "    <tr>\n",
              "      <td>mean</td>\n",
              "      <td>2884.879</td>\n",
              "    </tr>\n",
              "    <tr>\n",
              "      <td>std</td>\n",
              "      <td>3083.784</td>\n",
              "    </tr>\n",
              "    <tr>\n",
              "      <td>min</td>\n",
              "      <td>4.000</td>\n",
              "    </tr>\n",
              "    <tr>\n",
              "      <td>25%</td>\n",
              "      <td>91.000</td>\n",
              "    </tr>\n",
              "    <tr>\n",
              "      <td>50%</td>\n",
              "      <td>1480.000</td>\n",
              "    </tr>\n",
              "    <tr>\n",
              "      <td>75%</td>\n",
              "      <td>5776.000</td>\n",
              "    </tr>\n",
              "    <tr>\n",
              "      <td>max</td>\n",
              "      <td>9219.000</td>\n",
              "    </tr>\n",
              "  </tbody>\n",
              "</table>\n",
              "</div>"
            ],
            "text/plain": [
              "       user_id\n",
              "count   33.000\n",
              "mean  2884.879\n",
              "std   3083.784\n",
              "min      4.000\n",
              "25%     91.000\n",
              "50%   1480.000\n",
              "75%   5776.000\n",
              "max   9219.000"
            ]
          },
          "execution_count": 27,
          "metadata": {},
          "output_type": "execute_result"
        }
      ],
      "source": [
        "dau.describe()"
      ]
    },
    {
      "cell_type": "markdown",
      "metadata": {
        "id": "GXOk-nl75nU2"
      },
      "source": [
        "Среднее число пользователей в приложении в рассматриваемый период составлет 2884.879. Однако медианное значение существенно ниже - 1480, что говорит о наличии дней с аномально высокой активностью. Вероятнее всего, на эти дни приходились рекламные пики. Посмотрим на них внимательнее."
      ]
    },
    {
      "cell_type": "code",
      "execution_count": null,
      "metadata": {
        "id": "CeQ2w8xh5nU2",
        "outputId": "43c9e9ec-8553-47b5-af07-8dea56dc2f6b"
      },
      "outputs": [
        {
          "data": {
            "text/html": [
              "<div>\n",
              "<style scoped>\n",
              "    .dataframe tbody tr th:only-of-type {\n",
              "        vertical-align: middle;\n",
              "    }\n",
              "\n",
              "    .dataframe tbody tr th {\n",
              "        vertical-align: top;\n",
              "    }\n",
              "\n",
              "    .dataframe thead th {\n",
              "        text-align: right;\n",
              "    }\n",
              "</style>\n",
              "<table border=\"1\" class=\"dataframe\">\n",
              "  <thead>\n",
              "    <tr style=\"text-align: right;\">\n",
              "      <th></th>\n",
              "      <th>session_day</th>\n",
              "      <th>user_id</th>\n",
              "    </tr>\n",
              "  </thead>\n",
              "  <tbody>\n",
              "    <tr>\n",
              "      <td>6</td>\n",
              "      <td>2020-05-10</td>\n",
              "      <td>9219</td>\n",
              "    </tr>\n",
              "    <tr>\n",
              "      <td>5</td>\n",
              "      <td>2020-05-09</td>\n",
              "      <td>8394</td>\n",
              "    </tr>\n",
              "    <tr>\n",
              "      <td>4</td>\n",
              "      <td>2020-05-08</td>\n",
              "      <td>7891</td>\n",
              "    </tr>\n",
              "    <tr>\n",
              "      <td>3</td>\n",
              "      <td>2020-05-07</td>\n",
              "      <td>7384</td>\n",
              "    </tr>\n",
              "    <tr>\n",
              "      <td>2</td>\n",
              "      <td>2020-05-06</td>\n",
              "      <td>6854</td>\n",
              "    </tr>\n",
              "  </tbody>\n",
              "</table>\n",
              "</div>"
            ],
            "text/plain": [
              "  session_day  user_id\n",
              "6  2020-05-10     9219\n",
              "5  2020-05-09     8394\n",
              "4  2020-05-08     7891\n",
              "3  2020-05-07     7384\n",
              "2  2020-05-06     6854"
            ]
          },
          "execution_count": 28,
          "metadata": {},
          "output_type": "execute_result"
        }
      ],
      "source": [
        "dau.sort_values('user_id',ascending = False).head()"
      ]
    },
    {
      "cell_type": "markdown",
      "metadata": {
        "id": "pIAM7DXc5nU2"
      },
      "source": [
        "Наибольшее число пользователей зафиксировано в период с 2020-05-06 по 2020-05-10."
      ]
    },
    {
      "cell_type": "code",
      "execution_count": null,
      "metadata": {
        "id": "GzvZ1TjO5nU2",
        "outputId": "1db4eca0-4135-44b8-e7df-ecbe7d018d71"
      },
      "outputs": [
        {
          "data": {
            "text/html": [
              "<div>\n",
              "<style scoped>\n",
              "    .dataframe tbody tr th:only-of-type {\n",
              "        vertical-align: middle;\n",
              "    }\n",
              "\n",
              "    .dataframe tbody tr th {\n",
              "        vertical-align: top;\n",
              "    }\n",
              "\n",
              "    .dataframe thead th {\n",
              "        text-align: right;\n",
              "    }\n",
              "</style>\n",
              "<table border=\"1\" class=\"dataframe\">\n",
              "  <thead>\n",
              "    <tr style=\"text-align: right;\">\n",
              "      <th></th>\n",
              "      <th>session_day</th>\n",
              "      <th>user_id</th>\n",
              "    </tr>\n",
              "  </thead>\n",
              "  <tbody>\n",
              "    <tr>\n",
              "      <td>32</td>\n",
              "      <td>2020-06-05</td>\n",
              "      <td>4</td>\n",
              "    </tr>\n",
              "    <tr>\n",
              "      <td>31</td>\n",
              "      <td>2020-06-04</td>\n",
              "      <td>7</td>\n",
              "    </tr>\n",
              "    <tr>\n",
              "      <td>30</td>\n",
              "      <td>2020-06-03</td>\n",
              "      <td>9</td>\n",
              "    </tr>\n",
              "    <tr>\n",
              "      <td>29</td>\n",
              "      <td>2020-06-02</td>\n",
              "      <td>11</td>\n",
              "    </tr>\n",
              "    <tr>\n",
              "      <td>28</td>\n",
              "      <td>2020-06-01</td>\n",
              "      <td>16</td>\n",
              "    </tr>\n",
              "  </tbody>\n",
              "</table>\n",
              "</div>"
            ],
            "text/plain": [
              "   session_day  user_id\n",
              "32  2020-06-05        4\n",
              "31  2020-06-04        7\n",
              "30  2020-06-03        9\n",
              "29  2020-06-02       11\n",
              "28  2020-06-01       16"
            ]
          },
          "execution_count": 29,
          "metadata": {},
          "output_type": "execute_result"
        }
      ],
      "source": [
        "dau.sort_values('user_id',ascending = True).head()"
      ]
    },
    {
      "cell_type": "markdown",
      "metadata": {
        "id": "O_S_X2LO5nU2"
      },
      "source": [
        "Наименьшее число пользователей наблюдается с 2020-06-01 по 2020-06-05. Посмотрим на более общую картину."
      ]
    },
    {
      "cell_type": "code",
      "execution_count": null,
      "metadata": {
        "id": "hxvpGMWy5nU2",
        "outputId": "2289f7c7-81d2-4dde-bf62-f247404a9dfe"
      },
      "outputs": [
        {
          "data": {
            "image/png": "[encoded data removed]",
            "text/plain": [
              "<Figure size 864x360 with 1 Axes>"
            ]
          },
          "metadata": {},
          "output_type": "display_data"
        }
      ],
      "source": [
        "plt.figure(figsize=(12,5))\n",
        "\n",
        "plt.plot(dau['session_day'], dau['user_id'])\n",
        "                                                                      \n",
        "plt.title('График распределения количества пользователей по дням (DAU)')\n",
        "plt.ylabel(\"Количество пользователей в день\")\n",
        "plt.xlabel(\"Дата\")\n",
        "plt.xticks(rotation=45)\n",
        "plt.grid()\n",
        "plt.show()"
      ]
    },
    {
      "cell_type": "markdown",
      "metadata": {
        "id": "mnmOF_Aa5nU3"
      },
      "source": [
        "Из графика видим,что с начала рассматриваемого периода до 2020-05-10 наблюдался равномерный рост количества пользователей, после которого началось резкое снижение, которое с разной скоростью продолжалось вплоть до окончания периода: 2020-06-05 количество игроков достигло 4. Падение числа пользователей с 2020-05-10 связано с окончанием рекламной кампании. Это можно проверить посмотрев на данные в датафрейме *ad_cost*."
      ]
    },
    {
      "cell_type": "code",
      "execution_count": null,
      "metadata": {
        "id": "QpIuHv6H5nU3",
        "outputId": "fd5adf17-5c90-4d36-e1ac-b15af9a6adf8"
      },
      "outputs": [
        {
          "name": "stdout",
          "output_type": "stream",
          "text": [
            "Начало рекламной кампании: 03.05.2020\n",
            "Окончание рекламной кампании 09.05.2020\n"
          ]
        }
      ],
      "source": [
        "print('''Начало рекламной кампании: {:%d.%m.%Y}\n",
        "Окончание рекламной кампании {:%d.%m.%Y}'''.format(ad_cost['day'].min(),\n",
        "                                                         ad_cost['day'].max()))"
      ]
    },
    {
      "cell_type": "markdown",
      "metadata": {
        "id": "RYkkKDZ75nU3"
      },
      "source": [
        "Теперь более детально посмотрим на распределение событий в этот период."
      ]
    },
    {
      "cell_type": "code",
      "execution_count": null,
      "metadata": {
        "id": "1ICrig1l5nU3"
      },
      "outputs": [],
      "source": [
        "events_count = (\n",
        "    game_actions.groupby('session_day')\n",
        "    .agg({'event': 'count'})\n",
        "    .reset_index()\n",
        ")"
      ]
    },
    {
      "cell_type": "code",
      "execution_count": null,
      "metadata": {
        "id": "yNV2vfY25nU3",
        "outputId": "c3139e88-4435-4093-a960-71bb7618679e"
      },
      "outputs": [
        {
          "data": {
            "text/html": [
              "<div>\n",
              "<style scoped>\n",
              "    .dataframe tbody tr th:only-of-type {\n",
              "        vertical-align: middle;\n",
              "    }\n",
              "\n",
              "    .dataframe tbody tr th {\n",
              "        vertical-align: top;\n",
              "    }\n",
              "\n",
              "    .dataframe thead th {\n",
              "        text-align: right;\n",
              "    }\n",
              "</style>\n",
              "<table border=\"1\" class=\"dataframe\">\n",
              "  <thead>\n",
              "    <tr style=\"text-align: right;\">\n",
              "      <th></th>\n",
              "      <th>event</th>\n",
              "    </tr>\n",
              "  </thead>\n",
              "  <tbody>\n",
              "    <tr>\n",
              "      <td>count</td>\n",
              "      <td>33.000</td>\n",
              "    </tr>\n",
              "    <tr>\n",
              "      <td>mean</td>\n",
              "      <td>4110.273</td>\n",
              "    </tr>\n",
              "    <tr>\n",
              "      <td>std</td>\n",
              "      <td>4639.714</td>\n",
              "    </tr>\n",
              "    <tr>\n",
              "      <td>min</td>\n",
              "      <td>5.000</td>\n",
              "    </tr>\n",
              "    <tr>\n",
              "      <td>25%</td>\n",
              "      <td>118.000</td>\n",
              "    </tr>\n",
              "    <tr>\n",
              "      <td>50%</td>\n",
              "      <td>1837.000</td>\n",
              "    </tr>\n",
              "    <tr>\n",
              "      <td>75%</td>\n",
              "      <td>7918.000</td>\n",
              "    </tr>\n",
              "    <tr>\n",
              "      <td>max</td>\n",
              "      <td>15207.000</td>\n",
              "    </tr>\n",
              "  </tbody>\n",
              "</table>\n",
              "</div>"
            ],
            "text/plain": [
              "          event\n",
              "count    33.000\n",
              "mean   4110.273\n",
              "std    4639.714\n",
              "min       5.000\n",
              "25%     118.000\n",
              "50%    1837.000\n",
              "75%    7918.000\n",
              "max   15207.000"
            ]
          },
          "execution_count": 33,
          "metadata": {},
          "output_type": "execute_result"
        }
      ],
      "source": [
        "events_count.describe()"
      ]
    },
    {
      "cell_type": "markdown",
      "metadata": {
        "id": "VcoPdcyG5nU4"
      },
      "source": [
        "Среднее число событий за день: 4110.273\n",
        "\n",
        "Медианное: 1837"
      ]
    },
    {
      "cell_type": "code",
      "execution_count": null,
      "metadata": {
        "id": "iP8eIj4-5nU4",
        "outputId": "5f98815a-b5fd-41eb-8703-dec846cf7e83"
      },
      "outputs": [
        {
          "data": {
            "image/png": "[encoded data removed]",
            "text/plain": [
              "<Figure size 864x360 with 1 Axes>"
            ]
          },
          "metadata": {},
          "output_type": "display_data"
        }
      ],
      "source": [
        "plt.figure(figsize=(12,5))\n",
        "\n",
        "plt.plot(events_count['session_day'], events_count['event'])\n",
        "                                                                      \n",
        "plt.title('График распределения количества событий по дням')\n",
        "plt.ylabel(\"Количество событий в день\")\n",
        "plt.xlabel(\"Дата\")\n",
        "plt.xticks(rotation=45)\n",
        "plt.grid()\n",
        "plt.show()"
      ]
    },
    {
      "cell_type": "markdown",
      "metadata": {
        "id": "InS9xvpT5nU4"
      },
      "source": [
        "Динамика распределения количества событий по дням в целом совпадает с распределением числа пользователей: с начала рассматриваемого периода до 2020-05-10 наблюдался равномерный рост количества пользователей, после которого началось резкое снижение, которое с разной скоростью продолжалось вплоть до окончания периода."
      ]
    },
    {
      "cell_type": "markdown",
      "metadata": {
        "id": "4MYrLwVV5nU4"
      },
      "source": [
        "### Количество событий на пользователя"
      ]
    },
    {
      "cell_type": "markdown",
      "metadata": {
        "id": "BaXQvp1f5nU4"
      },
      "source": [
        "Далее посмотрим на динамику количества событий на пользователя."
      ]
    },
    {
      "cell_type": "code",
      "execution_count": null,
      "metadata": {
        "id": "vo0ZfuxB5nU5"
      },
      "outputs": [],
      "source": [
        "events_per_user=(\n",
        "    game_actions.groupby('user_id')\n",
        "                .agg({'event': 'count'})\n",
        "                .reset_index()\n",
        ")"
      ]
    },
    {
      "cell_type": "code",
      "execution_count": null,
      "metadata": {
        "id": "dEHih9lj5nU5",
        "outputId": "8ef69063-d762-432f-d56b-57f1c2e3cfd8"
      },
      "outputs": [
        {
          "data": {
            "text/html": [
              "<div>\n",
              "<style scoped>\n",
              "    .dataframe tbody tr th:only-of-type {\n",
              "        vertical-align: middle;\n",
              "    }\n",
              "\n",
              "    .dataframe tbody tr th {\n",
              "        vertical-align: top;\n",
              "    }\n",
              "\n",
              "    .dataframe thead th {\n",
              "        text-align: right;\n",
              "    }\n",
              "</style>\n",
              "<table border=\"1\" class=\"dataframe\">\n",
              "  <thead>\n",
              "    <tr style=\"text-align: right;\">\n",
              "      <th></th>\n",
              "      <th>event</th>\n",
              "    </tr>\n",
              "  </thead>\n",
              "  <tbody>\n",
              "    <tr>\n",
              "      <td>count</td>\n",
              "      <td>13576.000</td>\n",
              "    </tr>\n",
              "    <tr>\n",
              "      <td>mean</td>\n",
              "      <td>9.991</td>\n",
              "    </tr>\n",
              "    <tr>\n",
              "      <td>std</td>\n",
              "      <td>4.146</td>\n",
              "    </tr>\n",
              "    <tr>\n",
              "      <td>min</td>\n",
              "      <td>1.000</td>\n",
              "    </tr>\n",
              "    <tr>\n",
              "      <td>25%</td>\n",
              "      <td>6.000</td>\n",
              "    </tr>\n",
              "    <tr>\n",
              "      <td>50%</td>\n",
              "      <td>10.000</td>\n",
              "    </tr>\n",
              "    <tr>\n",
              "      <td>75%</td>\n",
              "      <td>13.000</td>\n",
              "    </tr>\n",
              "    <tr>\n",
              "      <td>max</td>\n",
              "      <td>22.000</td>\n",
              "    </tr>\n",
              "  </tbody>\n",
              "</table>\n",
              "</div>"
            ],
            "text/plain": [
              "          event\n",
              "count 13576.000\n",
              "mean      9.991\n",
              "std       4.146\n",
              "min       1.000\n",
              "25%       6.000\n",
              "50%      10.000\n",
              "75%      13.000\n",
              "max      22.000"
            ]
          },
          "execution_count": 36,
          "metadata": {},
          "output_type": "execute_result"
        }
      ],
      "source": [
        "events_per_user.describe()"
      ]
    },
    {
      "cell_type": "markdown",
      "metadata": {
        "id": "WUGpzM815nU5"
      },
      "source": [
        "Среднее количество событий на пользователя составляет 10."
      ]
    },
    {
      "cell_type": "markdown",
      "metadata": {
        "id": "bz5vLDVM5nU5"
      },
      "source": [
        "### Анализ типов событий"
      ]
    },
    {
      "cell_type": "markdown",
      "metadata": {
        "id": "_tSFZIPR5nU5"
      },
      "source": [
        "**Задача**:\n",
        "\n",
        "Посмотреть, какие типы событий более распространены, то есть определить более популярную стратегию (*через реализацию проекта (project) или через победу над игроком (finished_stage_1 за исключением project)*)"
      ]
    },
    {
      "cell_type": "code",
      "execution_count": null,
      "metadata": {
        "id": "-mTQLwLf5nU5",
        "outputId": "5221741e-76cd-45f8-dd64-1409b0a042e4"
      },
      "outputs": [
        {
          "data": {
            "text/plain": [
              "building            127956\n",
              "finished_stage_1      5817\n",
              "project               1866\n",
              "Name: event, dtype: int64"
            ]
          },
          "execution_count": 37,
          "metadata": {},
          "output_type": "execute_result"
        }
      ],
      "source": [
        "game_actions['event'].value_counts()"
      ]
    },
    {
      "cell_type": "markdown",
      "metadata": {
        "id": "UC5IJWSG5nU6"
      },
      "source": [
        "Наиболее популярный тип события - *building*. Что не удивительно, так как без постройки зданий невозможно пройти уровень."
      ]
    },
    {
      "cell_type": "code",
      "execution_count": null,
      "metadata": {
        "id": "hFv8Ck255nU6",
        "outputId": "a115f9fe-05e7-44ea-db22-85cf44cb200a"
      },
      "outputs": [
        {
          "data": {
            "text/plain": [
              "spaceport          59325\n",
              "assembly_shop      54494\n",
              "research_center    14137\n",
              "Name: building_type, dtype: int64"
            ]
          },
          "execution_count": 38,
          "metadata": {},
          "output_type": "execute_result"
        }
      ],
      "source": [
        "game_actions['building_type'].value_counts()"
      ]
    },
    {
      "cell_type": "markdown",
      "metadata": {
        "id": "Jh84Ab2w5nU6"
      },
      "source": [
        "Наиболее часто игроки строят *spaceport*, с небольшим отставанием идет *assembly_shop*. Значительно реже пользователи строят *research_center*."
      ]
    },
    {
      "cell_type": "markdown",
      "metadata": {
        "id": "CNt4093h5nU6"
      },
      "source": [
        "Так как предполагается, что реклама будет показываться в окне выбора постройки, от количества построенных зданий будет зависить объем выручки от рекламы. Соответственно, одна стратегия может быть прибыльнее другой.\n",
        "\n",
        "Посмотрим на средние количество построенных зданий в зависимости от стратегии.\n",
        "Начнем с завершивших проект."
      ]
    },
    {
      "cell_type": "code",
      "execution_count": null,
      "metadata": {
        "id": "VP0DUHpj5nU6"
      },
      "outputs": [],
      "source": [
        "finish_by_project = (\n",
        "    game_actions.query('event==\"project\"')['user_id']\n",
        "                .unique()\n",
        ")"
      ]
    },
    {
      "cell_type": "code",
      "execution_count": null,
      "metadata": {
        "id": "CL3ff14x5nU6",
        "outputId": "dade86f4-25cd-4982-f114-1910c54e8491"
      },
      "outputs": [
        {
          "name": "stdout",
          "output_type": "stream",
          "text": [
            "Среднее число построенных зданий для прошедших уровень через проект: 12 штук\n"
          ]
        }
      ],
      "source": [
        "print('Среднее число построенных зданий для прошедших уровень через проект: {} штук'.format(int(round(game_actions[game_actions['user_id'].isin(finish_by_project)].groupby('user_id').agg({'building_type': 'count'}).mean(),3))))"
      ]
    },
    {
      "cell_type": "markdown",
      "metadata": {
        "id": "uoo9kNR75nU7"
      },
      "source": [
        "Теперь то же самое для игроков, прошедших игру через победу над врагом."
      ]
    },
    {
      "cell_type": "code",
      "execution_count": null,
      "metadata": {
        "id": "oi1A6XyV5nU7"
      },
      "outputs": [],
      "source": [
        "finish_by_fight = (\n",
        "    game_actions.query('project_type != \"satellite_orbital_assembly\" and event==\"finished_stage_1\"')['user_id']\n",
        "                .unique()\n",
        ")"
      ]
    },
    {
      "cell_type": "code",
      "execution_count": null,
      "metadata": {
        "id": "QaU0XEe05nU7",
        "outputId": "e1e4e9d0-ee7b-47d6-8916-57784dd68c1c"
      },
      "outputs": [
        {
          "name": "stdout",
          "output_type": "stream",
          "text": [
            "Среднее число построенных зданий для прошедших уровень через победу над врагом: 10 штук\n"
          ]
        }
      ],
      "source": [
        "print('Среднее число построенных зданий для прошедших уровень через победу над врагом: {} штук'.format(int(round(game_actions[game_actions['user_id'].isin(finish_by_fight)].groupby('user_id').agg({'building_type': 'count'}).mean(),2))))"
      ]
    },
    {
      "cell_type": "markdown",
      "metadata": {
        "id": "tyEiYpUJ5nU7"
      },
      "source": [
        "Как видно, среди игроков, использовавших для прохождения уровня стратегию реализации проекта, среднее количество построенных зданий выше на 2, чем среди использующих стратегию победы над врагом. Поэтому вторая стратегию потенциально менее прибыльная с точки зрения доходов с размещения рекламы. Поэтому стоит подумать о двух вещах:\n",
        "1. Добавление дополнительного рекламного места, например, в окне принятия решения о нападении.\n",
        "2. Коррективровании баланса таким образом, чтобы мотивировать PVP-игроков строить больше зданий."
      ]
    },
    {
      "cell_type": "markdown",
      "metadata": {
        "id": "K9a_AssY5nU7"
      },
      "source": [
        "## Анализ эффективности рекламных источников"
      ]
    },
    {
      "cell_type": "markdown",
      "metadata": {
        "id": "3muotkBJ5nU8"
      },
      "source": [
        "### Объемы рекламного трафика по источникам"
      ]
    },
    {
      "cell_type": "markdown",
      "metadata": {
        "id": "SmSFJ1mQ5nU8"
      },
      "source": [
        "**Задача**:\n",
        "Проанализировать влияние источника перехода в игру на поведение пользователя"
      ]
    },
    {
      "cell_type": "markdown",
      "metadata": {
        "id": "7vT4fIEK5nU8"
      },
      "source": [
        "Для начала посмотрим на распределение количества пользователей в зависимости от рекламного источника."
      ]
    },
    {
      "cell_type": "code",
      "execution_count": null,
      "metadata": {
        "id": "BwdzkG2z5nU8"
      },
      "outputs": [],
      "source": [
        "game_actions_source = game_actions.merge(user_source, on='user_id')"
      ]
    },
    {
      "cell_type": "code",
      "execution_count": null,
      "metadata": {
        "id": "S7Dlxbz_5nU8"
      },
      "outputs": [],
      "source": [
        "users_per_source=(\n",
        "    game_actions_source.groupby(['source'])\n",
        "                       .agg({'user_id':'nunique'})\n",
        "                       .reset_index()\n",
        ")"
      ]
    },
    {
      "cell_type": "code",
      "execution_count": null,
      "metadata": {
        "id": "WSl_fmV05nU8",
        "outputId": "17e70f23-f8bf-4ed9-8bdc-ea70950d9d49"
      },
      "outputs": [
        {
          "data": {
            "text/html": [
              "<div>\n",
              "<style scoped>\n",
              "    .dataframe tbody tr th:only-of-type {\n",
              "        vertical-align: middle;\n",
              "    }\n",
              "\n",
              "    .dataframe tbody tr th {\n",
              "        vertical-align: top;\n",
              "    }\n",
              "\n",
              "    .dataframe thead th {\n",
              "        text-align: right;\n",
              "    }\n",
              "</style>\n",
              "<table border=\"1\" class=\"dataframe\">\n",
              "  <thead>\n",
              "    <tr style=\"text-align: right;\">\n",
              "      <th></th>\n",
              "      <th>source</th>\n",
              "      <th>user_id</th>\n",
              "    </tr>\n",
              "  </thead>\n",
              "  <tbody>\n",
              "    <tr>\n",
              "      <td>2</td>\n",
              "      <td>yandex_direct</td>\n",
              "      <td>4817</td>\n",
              "    </tr>\n",
              "    <tr>\n",
              "      <td>1</td>\n",
              "      <td>instagram_new_adverts</td>\n",
              "      <td>3347</td>\n",
              "    </tr>\n",
              "    <tr>\n",
              "      <td>0</td>\n",
              "      <td>facebook_ads</td>\n",
              "      <td>2726</td>\n",
              "    </tr>\n",
              "    <tr>\n",
              "      <td>3</td>\n",
              "      <td>youtube_channel_reklama</td>\n",
              "      <td>2686</td>\n",
              "    </tr>\n",
              "  </tbody>\n",
              "</table>\n",
              "</div>"
            ],
            "text/plain": [
              "                    source  user_id\n",
              "2            yandex_direct     4817\n",
              "1    instagram_new_adverts     3347\n",
              "0             facebook_ads     2726\n",
              "3  youtube_channel_reklama     2686"
            ]
          },
          "execution_count": 45,
          "metadata": {},
          "output_type": "execute_result"
        }
      ],
      "source": [
        "users_per_source.sort_values('user_id',ascending=False)"
      ]
    },
    {
      "cell_type": "code",
      "execution_count": null,
      "metadata": {
        "id": "E7x1plHi5nU9",
        "outputId": "c2ac9cf8-bfd5-4b7a-8894-d360031dedaa"
      },
      "outputs": [
        {
          "data": {
            "image/png": "[encoded data removed]",
            "text/plain": [
              "<Figure size 864x360 with 1 Axes>"
            ]
          },
          "metadata": {},
          "output_type": "display_data"
        }
      ],
      "source": [
        "plt.figure(figsize=(12,5))\n",
        "\n",
        "plt.bar(users_per_source['source'], users_per_source['user_id'])\n",
        "                                                                      \n",
        "plt.title('График распределения количества пользоватей по рекламным источникам')\n",
        "plt.ylabel(\"Количество игроков\")\n",
        "plt.xlabel(\"Дата\")\n",
        "plt.xticks(rotation=45)\n",
        "plt.grid()\n",
        "plt.show()"
      ]
    },
    {
      "cell_type": "markdown",
      "metadata": {
        "id": "qpNKYTUi5nU9"
      },
      "source": [
        "Наибольший объем привлеченных пользователей приходится на инструмент контекстной рекламы - Яндекс.Директ. Наименьший у ОЛВ - YouTube."
      ]
    },
    {
      "cell_type": "markdown",
      "metadata": {
        "id": "EKRG3etH5nU9"
      },
      "source": [
        "### Затраты на рекламу"
      ]
    },
    {
      "cell_type": "markdown",
      "metadata": {
        "id": "1cShchPy5nU9"
      },
      "source": [
        "Теперь посмотрим на общие затраты по рекламным источникам."
      ]
    },
    {
      "cell_type": "code",
      "execution_count": null,
      "metadata": {
        "id": "-nmHS2D95nU9",
        "outputId": "6b3a3117-1dbd-40ae-ece5-18c054521bb6"
      },
      "outputs": [
        {
          "name": "stdout",
          "output_type": "stream",
          "text": [
            "Общее количество затрат: 7603.58\n"
          ]
        }
      ],
      "source": [
        "print('Общее количество затрат:', round(ad_cost['cost'].sum(),2))"
      ]
    },
    {
      "cell_type": "markdown",
      "metadata": {
        "id": "uPAsRRym5nU-"
      },
      "source": [
        "### Стоимость привлечения пользователя"
      ]
    },
    {
      "cell_type": "markdown",
      "metadata": {
        "id": "9DQ7DVHD5nU-"
      },
      "source": [
        "Далее посмотрим сколько стоило привлечение одного покупателя в зависимости от рекламного источника: посчитаем CAC."
      ]
    },
    {
      "cell_type": "markdown",
      "metadata": {
        "id": "5M8pfa-B5nU-"
      },
      "source": [
        "Подсчитаем количество пользователей по дате первого входа в игру и источнику рекламы:"
      ]
    },
    {
      "cell_type": "code",
      "execution_count": null,
      "metadata": {
        "id": "NFPJ1vid5nU-"
      },
      "outputs": [],
      "source": [
        "first_visit = (\n",
        "    game_actions.groupby('user_id')\n",
        "                .agg({'session_day':'min'})\n",
        "                .reset_index()\n",
        "                .rename(columns={'session_day':'first_session_day'})\n",
        ")"
      ]
    },
    {
      "cell_type": "code",
      "execution_count": null,
      "metadata": {
        "id": "LkgWOjUq5nU-"
      },
      "outputs": [],
      "source": [
        "events = game_actions.merge(first_visit,on='user_id')"
      ]
    },
    {
      "cell_type": "code",
      "execution_count": null,
      "metadata": {
        "id": "a59YO8Mh5nU-"
      },
      "outputs": [],
      "source": [
        "events_actions_source = events.merge(user_source, on='user_id')"
      ]
    },
    {
      "cell_type": "code",
      "execution_count": null,
      "metadata": {
        "id": "TXXVn0Gu5nU_"
      },
      "outputs": [],
      "source": [
        "users_date_source=(\n",
        "    events_actions_source.groupby(['first_session_day', 'source'])\n",
        "                       .agg({'user_id': 'nunique'})\n",
        "                       .reset_index()\n",
        ")"
      ]
    },
    {
      "cell_type": "markdown",
      "metadata": {
        "id": "1Vcqamnk5nU_"
      },
      "source": [
        "Поскольку дата рекламных затрат предшествует дате первого входа в игру, необходимо создать дополнительную переменную для выравнивания дат:"
      ]
    },
    {
      "cell_type": "code",
      "execution_count": null,
      "metadata": {
        "id": "19KZF67P5nU_"
      },
      "outputs": [],
      "source": [
        "users_date_source['ad_show_day'] = users_date_source['first_session_day'] - pd.Timedelta(days=1)"
      ]
    },
    {
      "cell_type": "code",
      "execution_count": null,
      "metadata": {
        "id": "PCgULL7K5nU_"
      },
      "outputs": [],
      "source": [
        "costs = pd.merge(ad_cost,\n",
        "                 users_date_source, \n",
        "                 how='left',\n",
        "                 left_on=['day','source'],\n",
        "                 right_on = ['ad_show_day','source'])"
      ]
    },
    {
      "cell_type": "code",
      "execution_count": null,
      "metadata": {
        "id": "chKtLwAV5nU_"
      },
      "outputs": [],
      "source": [
        "costs_source=(\n",
        "    costs.groupby('source')\n",
        "         .agg({'cost':'sum', 'user_id':'sum'})\n",
        "         .reset_index()\n",
        ")"
      ]
    },
    {
      "cell_type": "markdown",
      "metadata": {
        "id": "WHGpMQtz5nU_"
      },
      "source": [
        "Теперь рассчитаем CAC по рекламному источнику:"
      ]
    },
    {
      "cell_type": "code",
      "execution_count": null,
      "metadata": {
        "id": "cU6XC2-45nVA",
        "outputId": "5db094cf-d3ab-4f30-e272-b277727a4b27"
      },
      "outputs": [
        {
          "data": {
            "text/html": [
              "<div>\n",
              "<style scoped>\n",
              "    .dataframe tbody tr th:only-of-type {\n",
              "        vertical-align: middle;\n",
              "    }\n",
              "\n",
              "    .dataframe tbody tr th {\n",
              "        vertical-align: top;\n",
              "    }\n",
              "\n",
              "    .dataframe thead th {\n",
              "        text-align: right;\n",
              "    }\n",
              "</style>\n",
              "<table border=\"1\" class=\"dataframe\">\n",
              "  <thead>\n",
              "    <tr style=\"text-align: right;\">\n",
              "      <th></th>\n",
              "      <th>source</th>\n",
              "      <th>cost</th>\n",
              "      <th>user_id</th>\n",
              "      <th>cac</th>\n",
              "    </tr>\n",
              "  </thead>\n",
              "  <tbody>\n",
              "    <tr>\n",
              "      <td>0</td>\n",
              "      <td>facebook_ads</td>\n",
              "      <td>2140.905</td>\n",
              "      <td>2726</td>\n",
              "      <td>0.785</td>\n",
              "    </tr>\n",
              "    <tr>\n",
              "      <td>1</td>\n",
              "      <td>instagram_new_adverts</td>\n",
              "      <td>2161.442</td>\n",
              "      <td>3347</td>\n",
              "      <td>0.646</td>\n",
              "    </tr>\n",
              "    <tr>\n",
              "      <td>2</td>\n",
              "      <td>yandex_direct</td>\n",
              "      <td>2233.111</td>\n",
              "      <td>4817</td>\n",
              "      <td>0.464</td>\n",
              "    </tr>\n",
              "    <tr>\n",
              "      <td>3</td>\n",
              "      <td>youtube_channel_reklama</td>\n",
              "      <td>1068.119</td>\n",
              "      <td>2686</td>\n",
              "      <td>0.398</td>\n",
              "    </tr>\n",
              "  </tbody>\n",
              "</table>\n",
              "</div>"
            ],
            "text/plain": [
              "                    source     cost  user_id   cac\n",
              "0             facebook_ads 2140.905     2726 0.785\n",
              "1    instagram_new_adverts 2161.442     3347 0.646\n",
              "2            yandex_direct 2233.111     4817 0.464\n",
              "3  youtube_channel_reklama 1068.119     2686 0.398"
            ]
          },
          "execution_count": 55,
          "metadata": {},
          "output_type": "execute_result"
        }
      ],
      "source": [
        "costs_source['cac'] = costs_source['cost'] / costs_source['user_id']\n",
        "costs_source"
      ]
    },
    {
      "cell_type": "markdown",
      "metadata": {
        "id": "1rfpwRf85nVA"
      },
      "source": [
        "Наименее эффективный с точки зрения кост-эффективности рекламный источник: facebook. Наиболее - YouTube."
      ]
    },
    {
      "cell_type": "markdown",
      "metadata": {
        "id": "flbHjdfw5nVA"
      },
      "source": [
        "**Задача**:\n",
        "Посмотреть, отличается ли среднее количество построенных зданий в зависимости от источника (так как предполагается, что в приложении будет происходить показ рекламы на экране с выбором типа объекта для постройки, то количество построенных зданий то действие, которое можно считать"
      ]
    },
    {
      "cell_type": "markdown",
      "metadata": {
        "id": "CJgA3Qqm5nVA"
      },
      "source": [
        "### Количество построенных зданий по источникам"
      ]
    },
    {
      "cell_type": "markdown",
      "metadata": {
        "id": "fGk3Kevs5nVA"
      },
      "source": [
        "Далее посмотрим, отличается ли среднее количество построенных зданий в зависимости от рекламной площадки."
      ]
    },
    {
      "cell_type": "code",
      "execution_count": null,
      "metadata": {
        "id": "dLZmxyE15nVB"
      },
      "outputs": [],
      "source": [
        "users_count_events_source=(\n",
        "    game_actions_source.groupby(['source','user_id'])\n",
        "                       .agg({'event': 'count'})\n",
        "                       .reset_index()\n",
        ")"
      ]
    },
    {
      "cell_type": "code",
      "execution_count": null,
      "metadata": {
        "id": "V10BEJa15nVB"
      },
      "outputs": [],
      "source": [
        "users_count_events_source_mean=(\n",
        "    users_count_events_source.groupby('source')\n",
        "                             .agg({'event': 'mean'})\n",
        "                             .reset_index()\n",
        ")"
      ]
    },
    {
      "cell_type": "code",
      "execution_count": null,
      "metadata": {
        "id": "rdC5qcFB5nVB",
        "outputId": "f4ae0c34-e723-46bf-c290-7e8a21350367"
      },
      "outputs": [
        {
          "data": {
            "text/html": [
              "<div>\n",
              "<style scoped>\n",
              "    .dataframe tbody tr th:only-of-type {\n",
              "        vertical-align: middle;\n",
              "    }\n",
              "\n",
              "    .dataframe tbody tr th {\n",
              "        vertical-align: top;\n",
              "    }\n",
              "\n",
              "    .dataframe thead th {\n",
              "        text-align: right;\n",
              "    }\n",
              "</style>\n",
              "<table border=\"1\" class=\"dataframe\">\n",
              "  <thead>\n",
              "    <tr style=\"text-align: right;\">\n",
              "      <th></th>\n",
              "      <th>source</th>\n",
              "      <th>event</th>\n",
              "    </tr>\n",
              "  </thead>\n",
              "  <tbody>\n",
              "    <tr>\n",
              "      <td>0</td>\n",
              "      <td>facebook_ads</td>\n",
              "      <td>10.151</td>\n",
              "    </tr>\n",
              "    <tr>\n",
              "      <td>1</td>\n",
              "      <td>instagram_new_adverts</td>\n",
              "      <td>10.086</td>\n",
              "    </tr>\n",
              "    <tr>\n",
              "      <td>2</td>\n",
              "      <td>yandex_direct</td>\n",
              "      <td>9.901</td>\n",
              "    </tr>\n",
              "    <tr>\n",
              "      <td>3</td>\n",
              "      <td>youtube_channel_reklama</td>\n",
              "      <td>9.872</td>\n",
              "    </tr>\n",
              "  </tbody>\n",
              "</table>\n",
              "</div>"
            ],
            "text/plain": [
              "                    source  event\n",
              "0             facebook_ads 10.151\n",
              "1    instagram_new_adverts 10.086\n",
              "2            yandex_direct  9.901\n",
              "3  youtube_channel_reklama  9.872"
            ]
          },
          "execution_count": 58,
          "metadata": {},
          "output_type": "execute_result"
        }
      ],
      "source": [
        "users_count_events_source_mean"
      ]
    },
    {
      "cell_type": "markdown",
      "metadata": {
        "id": "8K1YXj2O5nVB"
      },
      "source": [
        "Среднее число построенных зданий выше по источнику facebook_ads. Наименьший результат у YouTube. Однако различия составляют менее 1 здания."
      ]
    },
    {
      "cell_type": "markdown",
      "metadata": {
        "id": "XdeCF3F25nVB"
      },
      "source": [
        "### Распределение типов стратегии по источникам"
      ]
    },
    {
      "cell_type": "markdown",
      "metadata": {
        "id": "K9-vWCLA5nVB"
      },
      "source": [
        "**Задача**:\n",
        "Посмотреть, какой тип стратегии преобладает в зависимости от источника (через реализацию проекта (project) или через победу над игроком (finished_stage_1 за исключением project)).    "
      ]
    },
    {
      "cell_type": "markdown",
      "metadata": {
        "id": "d_sS1eEn5nVC"
      },
      "source": [
        "Далее посмотрим, отличается ли распространенность стратегии в зависимости от источника."
      ]
    },
    {
      "cell_type": "code",
      "execution_count": null,
      "metadata": {
        "id": "dSu3NgsF5nVC"
      },
      "outputs": [],
      "source": [
        "facebook_ads = (\n",
        "    game_actions_source.query('source == \"facebook_ads\" and event != \"building\"')\n",
        "                       .groupby(['source','event'])\n",
        "                       .agg({'user_id': 'nunique'})\n",
        "                       .reset_index()\n",
        ")\n",
        "\n",
        "yandex_direct = (\n",
        "    game_actions_source.query('source == \"yandex_direct\" and event != \"building\"')\n",
        "                       .groupby(['source','event'])\n",
        "                       .agg({'user_id': 'nunique'})\n",
        "                       .reset_index()\n",
        ")\n",
        "\n",
        "instagram_new_adverts = (\n",
        "    game_actions_source.query('source == \"instagram_new_adverts\" and event != \"building\"')\n",
        "                       .groupby(['source','event'])\n",
        "                       .agg({'user_id': 'nunique'})\n",
        "                       .reset_index()\n",
        ")\n",
        "\n",
        "youtube_channel_reklama = (\n",
        "    game_actions_source.query('source == \"youtube_channel_reklama\" and event != \"building\"')\n",
        "                       .groupby(['source','event'])\n",
        "                       .agg({'user_id': 'nunique'})\n",
        "                       .reset_index()\n",
        ")"
      ]
    },
    {
      "cell_type": "code",
      "execution_count": null,
      "metadata": {
        "id": "ecq4aqtl5nVC"
      },
      "outputs": [],
      "source": [
        "yandex_direct['%'] = yandex_direct['user_id'] / yandex_direct['user_id'].sum() * 100\n",
        "instagram_new_adverts['%'] = instagram_new_adverts['user_id'] / instagram_new_adverts['user_id'].sum() * 100\n",
        "facebook_ads['%'] = facebook_ads['user_id'] / facebook_ads['user_id'].sum() * 100\n",
        "youtube_channel_reklama['%'] = youtube_channel_reklama['user_id'] / youtube_channel_reklama['user_id'].sum() * 100"
      ]
    },
    {
      "cell_type": "code",
      "execution_count": null,
      "metadata": {
        "scrolled": true,
        "id": "OrF8nx0c5nVC",
        "outputId": "e27aaed7-d5e4-4f0f-daa5-5ef3ab4b8e11"
      },
      "outputs": [
        {
          "data": {
            "text/html": [
              "<div>\n",
              "<style scoped>\n",
              "    .dataframe tbody tr th:only-of-type {\n",
              "        vertical-align: middle;\n",
              "    }\n",
              "\n",
              "    .dataframe tbody tr th {\n",
              "        vertical-align: top;\n",
              "    }\n",
              "\n",
              "    .dataframe thead th {\n",
              "        text-align: right;\n",
              "    }\n",
              "</style>\n",
              "<table border=\"1\" class=\"dataframe\">\n",
              "  <thead>\n",
              "    <tr style=\"text-align: right;\">\n",
              "      <th></th>\n",
              "      <th>source</th>\n",
              "      <th>event</th>\n",
              "      <th>user_id</th>\n",
              "      <th>%</th>\n",
              "    </tr>\n",
              "  </thead>\n",
              "  <tbody>\n",
              "    <tr>\n",
              "      <td>0</td>\n",
              "      <td>facebook_ads</td>\n",
              "      <td>finished_stage_1</td>\n",
              "      <td>1150</td>\n",
              "      <td>74.627</td>\n",
              "    </tr>\n",
              "    <tr>\n",
              "      <td>1</td>\n",
              "      <td>facebook_ads</td>\n",
              "      <td>project</td>\n",
              "      <td>391</td>\n",
              "      <td>25.373</td>\n",
              "    </tr>\n",
              "  </tbody>\n",
              "</table>\n",
              "</div>"
            ],
            "text/plain": [
              "         source             event  user_id      %\n",
              "0  facebook_ads  finished_stage_1     1150 74.627\n",
              "1  facebook_ads           project      391 25.373"
            ]
          },
          "metadata": {},
          "output_type": "display_data"
        },
        {
          "data": {
            "text/html": [
              "<div>\n",
              "<style scoped>\n",
              "    .dataframe tbody tr th:only-of-type {\n",
              "        vertical-align: middle;\n",
              "    }\n",
              "\n",
              "    .dataframe tbody tr th {\n",
              "        vertical-align: top;\n",
              "    }\n",
              "\n",
              "    .dataframe thead th {\n",
              "        text-align: right;\n",
              "    }\n",
              "</style>\n",
              "<table border=\"1\" class=\"dataframe\">\n",
              "  <thead>\n",
              "    <tr style=\"text-align: right;\">\n",
              "      <th></th>\n",
              "      <th>source</th>\n",
              "      <th>event</th>\n",
              "      <th>user_id</th>\n",
              "      <th>%</th>\n",
              "    </tr>\n",
              "  </thead>\n",
              "  <tbody>\n",
              "    <tr>\n",
              "      <td>0</td>\n",
              "      <td>yandex_direct</td>\n",
              "      <td>finished_stage_1</td>\n",
              "      <td>2042</td>\n",
              "      <td>76.709</td>\n",
              "    </tr>\n",
              "    <tr>\n",
              "      <td>1</td>\n",
              "      <td>yandex_direct</td>\n",
              "      <td>project</td>\n",
              "      <td>620</td>\n",
              "      <td>23.291</td>\n",
              "    </tr>\n",
              "  </tbody>\n",
              "</table>\n",
              "</div>"
            ],
            "text/plain": [
              "          source             event  user_id      %\n",
              "0  yandex_direct  finished_stage_1     2042 76.709\n",
              "1  yandex_direct           project      620 23.291"
            ]
          },
          "metadata": {},
          "output_type": "display_data"
        },
        {
          "data": {
            "text/html": [
              "<div>\n",
              "<style scoped>\n",
              "    .dataframe tbody tr th:only-of-type {\n",
              "        vertical-align: middle;\n",
              "    }\n",
              "\n",
              "    .dataframe tbody tr th {\n",
              "        vertical-align: top;\n",
              "    }\n",
              "\n",
              "    .dataframe thead th {\n",
              "        text-align: right;\n",
              "    }\n",
              "</style>\n",
              "<table border=\"1\" class=\"dataframe\">\n",
              "  <thead>\n",
              "    <tr style=\"text-align: right;\">\n",
              "      <th></th>\n",
              "      <th>source</th>\n",
              "      <th>event</th>\n",
              "      <th>user_id</th>\n",
              "      <th>%</th>\n",
              "    </tr>\n",
              "  </thead>\n",
              "  <tbody>\n",
              "    <tr>\n",
              "      <td>0</td>\n",
              "      <td>instagram_new_adverts</td>\n",
              "      <td>finished_stage_1</td>\n",
              "      <td>1466</td>\n",
              "      <td>75.489</td>\n",
              "    </tr>\n",
              "    <tr>\n",
              "      <td>1</td>\n",
              "      <td>instagram_new_adverts</td>\n",
              "      <td>project</td>\n",
              "      <td>476</td>\n",
              "      <td>24.511</td>\n",
              "    </tr>\n",
              "  </tbody>\n",
              "</table>\n",
              "</div>"
            ],
            "text/plain": [
              "                  source             event  user_id      %\n",
              "0  instagram_new_adverts  finished_stage_1     1466 75.489\n",
              "1  instagram_new_adverts           project      476 24.511"
            ]
          },
          "metadata": {},
          "output_type": "display_data"
        },
        {
          "data": {
            "text/html": [
              "<div>\n",
              "<style scoped>\n",
              "    .dataframe tbody tr th:only-of-type {\n",
              "        vertical-align: middle;\n",
              "    }\n",
              "\n",
              "    .dataframe tbody tr th {\n",
              "        vertical-align: top;\n",
              "    }\n",
              "\n",
              "    .dataframe thead th {\n",
              "        text-align: right;\n",
              "    }\n",
              "</style>\n",
              "<table border=\"1\" class=\"dataframe\">\n",
              "  <thead>\n",
              "    <tr style=\"text-align: right;\">\n",
              "      <th></th>\n",
              "      <th>source</th>\n",
              "      <th>event</th>\n",
              "      <th>user_id</th>\n",
              "      <th>%</th>\n",
              "    </tr>\n",
              "  </thead>\n",
              "  <tbody>\n",
              "    <tr>\n",
              "      <td>0</td>\n",
              "      <td>youtube_channel_reklama</td>\n",
              "      <td>finished_stage_1</td>\n",
              "      <td>1159</td>\n",
              "      <td>75.358</td>\n",
              "    </tr>\n",
              "    <tr>\n",
              "      <td>1</td>\n",
              "      <td>youtube_channel_reklama</td>\n",
              "      <td>project</td>\n",
              "      <td>379</td>\n",
              "      <td>24.642</td>\n",
              "    </tr>\n",
              "  </tbody>\n",
              "</table>\n",
              "</div>"
            ],
            "text/plain": [
              "                    source             event  user_id      %\n",
              "0  youtube_channel_reklama  finished_stage_1     1159 75.358\n",
              "1  youtube_channel_reklama           project      379 24.642"
            ]
          },
          "metadata": {},
          "output_type": "display_data"
        }
      ],
      "source": [
        "display(facebook_ads)\n",
        "display(yandex_direct)\n",
        "display(instagram_new_adverts)\n",
        "display(youtube_channel_reklama)"
      ]
    },
    {
      "cell_type": "markdown",
      "metadata": {
        "id": "vi3E5C3x5nVD"
      },
      "source": [
        "Нельзя сказать, что в зависимости от источника сильно варьируется доля игроков, избравших разную стратегию: стратегию через победу над другим игроком избирают от 74.627 (facebook_ads) до 76.709 (yandex_direct) игроков."
      ]
    },
    {
      "cell_type": "markdown",
      "metadata": {
        "id": "lgFo-OBd5nVD"
      },
      "source": [
        "### Распределение типов построек по источникам"
      ]
    },
    {
      "cell_type": "markdown",
      "metadata": {
        "id": "wUOH7iMR5nVD"
      },
      "source": [
        "Далее посмотрим, отличаются ли доли типов построек в зависимости от источника."
      ]
    },
    {
      "cell_type": "code",
      "execution_count": null,
      "metadata": {
        "id": "b0c1ThRR5nVD",
        "outputId": "468064d1-9f15-456a-8817-84e96060910a"
      },
      "outputs": [
        {
          "data": {
            "text/plain": [
              "yandex_direct              47694\n",
              "instagram_new_adverts      33757\n",
              "facebook_ads               27672\n",
              "youtube_channel_reklama    26516\n",
              "Name: source, dtype: int64"
            ]
          },
          "execution_count": 62,
          "metadata": {},
          "output_type": "execute_result"
        }
      ],
      "source": [
        "game_actions_source['source'].value_counts()"
      ]
    },
    {
      "cell_type": "code",
      "execution_count": null,
      "metadata": {
        "id": "TWmZNl6y5nVE"
      },
      "outputs": [],
      "source": [
        "facebook_ads_building_type = (\n",
        "    game_actions_source.query('source == \"facebook_ads\" and event == \"building\"')\n",
        "                       .groupby(['source','building_type'])\n",
        "                       .agg({'user_id': 'nunique'})\n",
        "                       .reset_index()\n",
        ")\n",
        "\n",
        "yandex_direct_building_type = (\n",
        "    game_actions_source.query('source == \"yandex_direct\" and event == \"building\"')\n",
        "                       .groupby(['source','building_type'])\n",
        "                       .agg({'user_id': 'nunique'})\n",
        "                       .reset_index()\n",
        ")\n",
        "\n",
        "instagram_new_adverts_building_type = (\n",
        "    game_actions_source.query('source == \"instagram_new_adverts\" and event == \"building\"')\n",
        "                       .groupby(['source','building_type'])\n",
        "                       .agg({'user_id': 'nunique'})\n",
        "                       .reset_index()\n",
        ")\n",
        "\n",
        "youtube_channel_reklama_building_type = (\n",
        "    game_actions_source.query('source == \"youtube_channel_reklama\" and event == \"building\"')\n",
        "                       .groupby(['source','building_type'])\n",
        "                       .agg({'user_id': 'nunique'})\n",
        "                       .reset_index()\n",
        ")"
      ]
    },
    {
      "cell_type": "code",
      "execution_count": null,
      "metadata": {
        "id": "9LLdfNE45nVE"
      },
      "outputs": [],
      "source": [
        "yandex_direct_building_type['%'] = yandex_direct_building_type['user_id'] / yandex_direct_building_type['user_id'].sum() * 100\n",
        "instagram_new_adverts_building_type['%'] = instagram_new_adverts_building_type['user_id'] / instagram_new_adverts_building_type['user_id'].sum() * 100\n",
        "facebook_ads_building_type['%'] = facebook_ads_building_type['user_id'] / facebook_ads_building_type['user_id'].sum() * 100\n",
        "youtube_channel_reklama_building_type['%'] = youtube_channel_reklama_building_type['user_id'] / youtube_channel_reklama_building_type['user_id'].sum() * 100"
      ]
    },
    {
      "cell_type": "code",
      "execution_count": null,
      "metadata": {
        "id": "zzJejCGN5nVE",
        "outputId": "c734a2bd-c3b0-4435-fe73-a1345a45a9d4"
      },
      "outputs": [
        {
          "data": {
            "text/html": [
              "<div>\n",
              "<style scoped>\n",
              "    .dataframe tbody tr th:only-of-type {\n",
              "        vertical-align: middle;\n",
              "    }\n",
              "\n",
              "    .dataframe tbody tr th {\n",
              "        vertical-align: top;\n",
              "    }\n",
              "\n",
              "    .dataframe thead th {\n",
              "        text-align: right;\n",
              "    }\n",
              "</style>\n",
              "<table border=\"1\" class=\"dataframe\">\n",
              "  <thead>\n",
              "    <tr style=\"text-align: right;\">\n",
              "      <th></th>\n",
              "      <th>source</th>\n",
              "      <th>building_type</th>\n",
              "      <th>user_id</th>\n",
              "      <th>%</th>\n",
              "    </tr>\n",
              "  </thead>\n",
              "  <tbody>\n",
              "    <tr>\n",
              "      <td>0</td>\n",
              "      <td>facebook_ads</td>\n",
              "      <td>assembly_shop</td>\n",
              "      <td>2726</td>\n",
              "      <td>39.127</td>\n",
              "    </tr>\n",
              "    <tr>\n",
              "      <td>1</td>\n",
              "      <td>facebook_ads</td>\n",
              "      <td>research_center</td>\n",
              "      <td>1577</td>\n",
              "      <td>22.635</td>\n",
              "    </tr>\n",
              "    <tr>\n",
              "      <td>2</td>\n",
              "      <td>facebook_ads</td>\n",
              "      <td>spaceport</td>\n",
              "      <td>2664</td>\n",
              "      <td>38.237</td>\n",
              "    </tr>\n",
              "  </tbody>\n",
              "</table>\n",
              "</div>"
            ],
            "text/plain": [
              "         source    building_type  user_id      %\n",
              "0  facebook_ads    assembly_shop     2726 39.127\n",
              "1  facebook_ads  research_center     1577 22.635\n",
              "2  facebook_ads        spaceport     2664 38.237"
            ]
          },
          "metadata": {},
          "output_type": "display_data"
        },
        {
          "data": {
            "text/html": [
              "<div>\n",
              "<style scoped>\n",
              "    .dataframe tbody tr th:only-of-type {\n",
              "        vertical-align: middle;\n",
              "    }\n",
              "\n",
              "    .dataframe tbody tr th {\n",
              "        vertical-align: top;\n",
              "    }\n",
              "\n",
              "    .dataframe thead th {\n",
              "        text-align: right;\n",
              "    }\n",
              "</style>\n",
              "<table border=\"1\" class=\"dataframe\">\n",
              "  <thead>\n",
              "    <tr style=\"text-align: right;\">\n",
              "      <th></th>\n",
              "      <th>source</th>\n",
              "      <th>building_type</th>\n",
              "      <th>user_id</th>\n",
              "      <th>%</th>\n",
              "    </tr>\n",
              "  </thead>\n",
              "  <tbody>\n",
              "    <tr>\n",
              "      <td>0</td>\n",
              "      <td>yandex_direct</td>\n",
              "      <td>assembly_shop</td>\n",
              "      <td>4817</td>\n",
              "      <td>39.396</td>\n",
              "    </tr>\n",
              "    <tr>\n",
              "      <td>1</td>\n",
              "      <td>yandex_direct</td>\n",
              "      <td>research_center</td>\n",
              "      <td>2710</td>\n",
              "      <td>22.164</td>\n",
              "    </tr>\n",
              "    <tr>\n",
              "      <td>2</td>\n",
              "      <td>yandex_direct</td>\n",
              "      <td>spaceport</td>\n",
              "      <td>4700</td>\n",
              "      <td>38.440</td>\n",
              "    </tr>\n",
              "  </tbody>\n",
              "</table>\n",
              "</div>"
            ],
            "text/plain": [
              "          source    building_type  user_id      %\n",
              "0  yandex_direct    assembly_shop     4817 39.396\n",
              "1  yandex_direct  research_center     2710 22.164\n",
              "2  yandex_direct        spaceport     4700 38.440"
            ]
          },
          "metadata": {},
          "output_type": "display_data"
        },
        {
          "data": {
            "text/html": [
              "<div>\n",
              "<style scoped>\n",
              "    .dataframe tbody tr th:only-of-type {\n",
              "        vertical-align: middle;\n",
              "    }\n",
              "\n",
              "    .dataframe tbody tr th {\n",
              "        vertical-align: top;\n",
              "    }\n",
              "\n",
              "    .dataframe thead th {\n",
              "        text-align: right;\n",
              "    }\n",
              "</style>\n",
              "<table border=\"1\" class=\"dataframe\">\n",
              "  <thead>\n",
              "    <tr style=\"text-align: right;\">\n",
              "      <th></th>\n",
              "      <th>source</th>\n",
              "      <th>building_type</th>\n",
              "      <th>user_id</th>\n",
              "      <th>%</th>\n",
              "    </tr>\n",
              "  </thead>\n",
              "  <tbody>\n",
              "    <tr>\n",
              "      <td>0</td>\n",
              "      <td>instagram_new_adverts</td>\n",
              "      <td>assembly_shop</td>\n",
              "      <td>3347</td>\n",
              "      <td>39.279</td>\n",
              "    </tr>\n",
              "    <tr>\n",
              "      <td>1</td>\n",
              "      <td>instagram_new_adverts</td>\n",
              "      <td>research_center</td>\n",
              "      <td>1906</td>\n",
              "      <td>22.368</td>\n",
              "    </tr>\n",
              "    <tr>\n",
              "      <td>2</td>\n",
              "      <td>instagram_new_adverts</td>\n",
              "      <td>spaceport</td>\n",
              "      <td>3268</td>\n",
              "      <td>38.352</td>\n",
              "    </tr>\n",
              "  </tbody>\n",
              "</table>\n",
              "</div>"
            ],
            "text/plain": [
              "                  source    building_type  user_id      %\n",
              "0  instagram_new_adverts    assembly_shop     3347 39.279\n",
              "1  instagram_new_adverts  research_center     1906 22.368\n",
              "2  instagram_new_adverts        spaceport     3268 38.352"
            ]
          },
          "metadata": {},
          "output_type": "display_data"
        },
        {
          "data": {
            "text/html": [
              "<div>\n",
              "<style scoped>\n",
              "    .dataframe tbody tr th:only-of-type {\n",
              "        vertical-align: middle;\n",
              "    }\n",
              "\n",
              "    .dataframe tbody tr th {\n",
              "        vertical-align: top;\n",
              "    }\n",
              "\n",
              "    .dataframe thead th {\n",
              "        text-align: right;\n",
              "    }\n",
              "</style>\n",
              "<table border=\"1\" class=\"dataframe\">\n",
              "  <thead>\n",
              "    <tr style=\"text-align: right;\">\n",
              "      <th></th>\n",
              "      <th>source</th>\n",
              "      <th>building_type</th>\n",
              "      <th>user_id</th>\n",
              "      <th>%</th>\n",
              "    </tr>\n",
              "  </thead>\n",
              "  <tbody>\n",
              "    <tr>\n",
              "      <td>0</td>\n",
              "      <td>youtube_channel_reklama</td>\n",
              "      <td>assembly_shop</td>\n",
              "      <td>2686</td>\n",
              "      <td>39.716</td>\n",
              "    </tr>\n",
              "    <tr>\n",
              "      <td>1</td>\n",
              "      <td>youtube_channel_reklama</td>\n",
              "      <td>research_center</td>\n",
              "      <td>1478</td>\n",
              "      <td>21.854</td>\n",
              "    </tr>\n",
              "    <tr>\n",
              "      <td>2</td>\n",
              "      <td>youtube_channel_reklama</td>\n",
              "      <td>spaceport</td>\n",
              "      <td>2599</td>\n",
              "      <td>38.430</td>\n",
              "    </tr>\n",
              "  </tbody>\n",
              "</table>\n",
              "</div>"
            ],
            "text/plain": [
              "                    source    building_type  user_id      %\n",
              "0  youtube_channel_reklama    assembly_shop     2686 39.716\n",
              "1  youtube_channel_reklama  research_center     1478 21.854\n",
              "2  youtube_channel_reklama        spaceport     2599 38.430"
            ]
          },
          "metadata": {},
          "output_type": "display_data"
        }
      ],
      "source": [
        "display(facebook_ads_building_type)\n",
        "display(yandex_direct_building_type)\n",
        "display(instagram_new_adverts_building_type)\n",
        "display(youtube_channel_reklama_building_type)"
      ]
    },
    {
      "cell_type": "markdown",
      "metadata": {
        "id": "B4fY5eCo5nVF"
      },
      "source": [
        "В зависимости от источника доли типов построек также сильно не различаются."
      ]
    },
    {
      "cell_type": "markdown",
      "metadata": {
        "id": "UFN_brzl5nVF"
      },
      "source": [
        "## Проверка статистических гипотез"
      ]
    },
    {
      "cell_type": "markdown",
      "metadata": {
        "id": "Ho5NAUhW5nVF"
      },
      "source": [
        "### Гипотеза о времени завершения уровня в зависимости от способа прохождения"
      ]
    },
    {
      "cell_type": "markdown",
      "metadata": {
        "id": "TsXPdwn45nVF"
      },
      "source": [
        "**Задача**:\n",
        "- Проверить гипотезу: время завершения уровня различается в зависимости способа прохождения:\n",
        "        - через реализацию проекта;\n",
        "        - через победу над первым игроком."
      ]
    },
    {
      "cell_type": "code",
      "execution_count": null,
      "metadata": {
        "id": "mmn5H8kA5nVG"
      },
      "outputs": [],
      "source": [
        "win_events = events.drop(events[events['event'] == 'building'].index)\n",
        "win_events['win_time'] = win_events['event_datetime']-win_events['first_session_day']\n",
        "win_events['win_time_sec'] = win_events['win_time'].dt.total_seconds()"
      ]
    },
    {
      "cell_type": "code",
      "execution_count": null,
      "metadata": {
        "id": "8mepy9115nVG",
        "outputId": "046c2aac-0e66-4afb-c311-e112e20ac4d4"
      },
      "outputs": [
        {
          "data": {
            "text/plain": [
              "count      1866.000\n",
              "mean    1065203.471\n",
              "std      314565.773\n",
              "min      377368.000\n",
              "25%      844058.750\n",
              "50%     1010376.000\n",
              "75%     1235265.250\n",
              "max     2511760.000\n",
              "Name: win_time_sec, dtype: float64"
            ]
          },
          "execution_count": 67,
          "metadata": {},
          "output_type": "execute_result"
        }
      ],
      "source": [
        "win_events.query('event==\"project\"')['win_time_sec'].describe()"
      ]
    },
    {
      "cell_type": "code",
      "execution_count": null,
      "metadata": {
        "id": "BjP4M6td5nVG",
        "outputId": "d523cc65-0a9f-4096-d7b9-95c98bf9fca1"
      },
      "outputs": [
        {
          "data": {
            "text/plain": [
              "count      5817.000\n",
              "mean    1063437.197\n",
              "std      351555.002\n",
              "min       71249.000\n",
              "25%      831181.000\n",
              "50%     1037891.000\n",
              "75%     1266975.000\n",
              "max     2735438.000\n",
              "Name: win_time_sec, dtype: float64"
            ]
          },
          "execution_count": 68,
          "metadata": {},
          "output_type": "execute_result"
        }
      ],
      "source": [
        "win_events.query('event==\"finished_stage_1\"')['win_time_sec'].describe()"
      ]
    },
    {
      "cell_type": "markdown",
      "metadata": {
        "id": "DFP3Ums65nVH"
      },
      "source": [
        "Средние показатели для различных стратегий \"на глаз\" отличаются не существенно. Посмотрим, как это выглядит на графике."
      ]
    },
    {
      "cell_type": "code",
      "execution_count": null,
      "metadata": {
        "id": "IArGIvCc5nVH",
        "outputId": "102e76aa-4a93-4f15-abb4-53c28bbd2f70"
      },
      "outputs": [
        {
          "data": {
            "image/png": "[encoded data removed]",
            "text/plain": [
              "<Figure size 864x360 with 1 Axes>"
            ]
          },
          "metadata": {},
          "output_type": "display_data"
        }
      ],
      "source": [
        "plt.figure(figsize=(12,5))\n",
        "\n",
        "plt.hist(win_events.query('event==\"finished_stage_1\"')['win_time_sec'], color=\"red\", bins = 100, alpha=0.7)\n",
        "plt.hist(win_events.query('event==\"project\"')['win_time_sec'], color=\"skyblue\", bins = 100)\n",
        "\n",
        "                                                                      \n",
        "plt.title('График распределения секунд, затраченных для победы')\n",
        "plt.ylabel(\"Количество наблюдений\")\n",
        "plt.xlabel(\"Дата\")\n",
        "plt.xticks(rotation=45)\n",
        "plt.grid()\n",
        "plt.show()"
      ]
    },
    {
      "cell_type": "markdown",
      "metadata": {
        "id": "nDC4LOx35nVI"
      },
      "source": [
        "Одно из условий применения теста Стьюдента: дисперсии подгрупп долны быть однородными. Для этого применяется критерий Левена.\n",
        "\n",
        "Если **(p Levene) > 0.05**, то дисперсии подгрупп гомогенн"
      ]
    },
    {
      "cell_type": "code",
      "execution_count": null,
      "metadata": {
        "id": "oBMuc9kE5nVI",
        "outputId": "39d35e75-a59e-45c0-e9e9-332c6e1e27d2"
      },
      "outputs": [
        {
          "name": "stdout",
          "output_type": "stream",
          "text": [
            "p-значение: 2.6042268340291133e-07\n",
            "Отвергаем нулевую гипотезу о равенстве дисперсий: дисперсии не равны\n"
          ]
        }
      ],
      "source": [
        "alpha = 0.05\n",
        "\n",
        "tariff_levene = st.levene(\n",
        "    win_events.query('event==\"project\"')['win_time_sec'],\n",
        "    win_events.query('event==\"finished_stage_1\"')['win_time_sec'])\n",
        "\n",
        "print('p-значение:', tariff_levene.pvalue)\n",
        "\n",
        "if (tariff_levene.pvalue < alpha):\n",
        "    print(\"Отвергаем нулевую гипотезу о равенстве дисперсий: дисперсии не равны\")\n",
        "else:\n",
        "    print(\"Не получилось отвергнуть нулевую гипотезу: дисперсии возможно равны\")"
      ]
    },
    {
      "cell_type": "markdown",
      "metadata": {
        "id": "j64x-8CC5nVI"
      },
      "source": [
        "**Гипотеза о равенстве средних двух генеральных совокупностей (для независимых выборок):**\n",
        "\n",
        "H0 = время на прохождение уровня одинаково для представителей разных стратегий равны (нет разница)\n",
        "H0 = время на прохождение уровня различно для представителей разных стратегий равны (есть разница)\n",
        "\n",
        "Так как мы показали, что дисперсии неоднородны, установим параметр equal_var=False"
      ]
    },
    {
      "cell_type": "code",
      "execution_count": null,
      "metadata": {
        "id": "2Qw1Nx4S5nVJ",
        "outputId": "9f472753-9633-4b16-9a80-fa705a3c5882"
      },
      "outputs": [
        {
          "name": "stdout",
          "output_type": "stream",
          "text": [
            "p-значение: 0.8376275550237213\n",
            "Не получилось отвергнуть нулевую гипотезу (возможно нет разницы)\n"
          ]
        }
      ],
      "source": [
        "alpha = 0.05\n",
        "\n",
        "results = st.ttest_ind(\n",
        "    win_events.query('event==\"project\"')['win_time_sec'],\n",
        "    win_events.query('event==\"finished_stage_1\"')['win_time_sec'],\n",
        "    equal_var=False)\n",
        "\n",
        "print('p-значение:', results.pvalue)\n",
        "\n",
        "if (results.pvalue < alpha):\n",
        "    print(\"Отвергаем нулевую гипотезу (есть разница)\")\n",
        "else:\n",
        "    print(\"Не получилось отвергнуть нулевую гипотезу (возможно нет разницы)\")"
      ]
    },
    {
      "cell_type": "markdown",
      "metadata": {
        "id": "xGQMglkI5nVJ"
      },
      "source": [
        "Отсутствуют статистически значимые различия средних значений времени прохождения уровня между пользователями, которые заканчивают уровень через реализацию проекта, и пользователями, которые заканчивают уровень победой над другим игроком."
      ]
    },
    {
      "cell_type": "markdown",
      "metadata": {
        "id": "dtlH3Ff-5nVJ"
      },
      "source": [
        "### Гипотеза о среднем количестве построенных зданий в зависимости от способа прохождения"
      ]
    },
    {
      "cell_type": "markdown",
      "metadata": {
        "id": "8tAvI68r5nVK"
      },
      "source": [
        "**Задача**:\n",
        "  - Проверить гипотезу: среднее число построенных зданий различается в зависимости способа прохождения:\n",
        "        - через реализацию проекта;\n",
        "        - через победу над первым игроком.\n"
      ]
    },
    {
      "cell_type": "code",
      "execution_count": null,
      "metadata": {
        "id": "DgeND86X5nVK"
      },
      "outputs": [],
      "source": [
        "last_visit = (\n",
        "    game_actions.groupby(['user_id','event'])\n",
        "                .agg({'session_day':'max'})\n",
        "                .reset_index()\n",
        "                .rename(columns={'session_day':'last_session_day','event':'last_event'})\n",
        ")"
      ]
    },
    {
      "cell_type": "code",
      "execution_count": null,
      "metadata": {
        "id": "eb_m6I2_5nVK"
      },
      "outputs": [],
      "source": [
        "last_events = game_actions.merge(last_visit,on='user_id')"
      ]
    },
    {
      "cell_type": "markdown",
      "metadata": {
        "id": "qtlhhjTH5nVL"
      },
      "source": [
        "Удалим нерелевантные данные:"
      ]
    },
    {
      "cell_type": "code",
      "execution_count": null,
      "metadata": {
        "id": "iq4flt7c5nVL"
      },
      "outputs": [],
      "source": [
        "buildings_events = last_events.drop(last_events[last_events['event'] != 'building'].index)"
      ]
    },
    {
      "cell_type": "code",
      "execution_count": null,
      "metadata": {
        "id": "FASZt2iM5nVL"
      },
      "outputs": [],
      "source": [
        "buildings_events_final = (\n",
        "    buildings_events.groupby(['user_id','last_event'])\n",
        "                    .agg({'event':'count'})\n",
        "                    .reset_index()\n",
        "                    #.rename(columns={'session_day':'last_session_day','event':'last_event'})\n",
        ")"
      ]
    },
    {
      "cell_type": "code",
      "execution_count": null,
      "metadata": {
        "id": "jUT-HFuV5nVL",
        "outputId": "478fe63d-b2fd-40c6-ae28-67420e750ecf"
      },
      "outputs": [
        {
          "data": {
            "text/plain": [
              "count   1866.000\n",
              "mean      12.648\n",
              "std        2.163\n",
              "min       10.000\n",
              "25%       11.000\n",
              "50%       12.000\n",
              "75%       14.000\n",
              "max       20.000\n",
              "Name: event, dtype: float64"
            ]
          },
          "execution_count": 76,
          "metadata": {},
          "output_type": "execute_result"
        }
      ],
      "source": [
        "buildings_events_final.query('last_event == \"project\"')['event'].describe()"
      ]
    },
    {
      "cell_type": "code",
      "execution_count": null,
      "metadata": {
        "id": "yTphkxvZ5nVM",
        "outputId": "faec8280-72f6-4f03-b943-26c31ecd399a"
      },
      "outputs": [
        {
          "data": {
            "text/plain": [
              "count   5817.000\n",
              "mean      10.450\n",
              "std        3.184\n",
              "min        2.000\n",
              "25%        9.000\n",
              "50%       11.000\n",
              "75%       12.000\n",
              "max       20.000\n",
              "Name: event, dtype: float64"
            ]
          },
          "execution_count": 77,
          "metadata": {},
          "output_type": "execute_result"
        }
      ],
      "source": [
        "buildings_events_final.query('last_event == \"finished_stage_1\"')['event'].describe()"
      ]
    },
    {
      "cell_type": "markdown",
      "metadata": {
        "id": "EhzSbd2r5nVM"
      },
      "source": [
        "Судя по данным, средние отличаются. Проверим значимо ли статистически это отличие. Посмотрим на графике."
      ]
    },
    {
      "cell_type": "code",
      "execution_count": null,
      "metadata": {
        "id": "uLioxCCl5nVM",
        "outputId": "7fb70a6c-b6b1-4387-ced6-6ca7b48dfeb6"
      },
      "outputs": [
        {
          "data": {
            "image/png": "[encoded data removed]",
            "text/plain": [
              "<Figure size 864x360 with 1 Axes>"
            ]
          },
          "metadata": {},
          "output_type": "display_data"
        }
      ],
      "source": [
        "plt.figure(figsize=(12,5))\n",
        "\n",
        "plt.hist(buildings_events_final.query('last_event==\"finished_stage_1\"')['event'], color=\"red\", bins = 20, alpha=0.7)\n",
        "plt.hist(buildings_events_final.query('last_event==\"project\"')['event'], color=\"skyblue\", bins = 20)\n",
        "\n",
        "                                                                      \n",
        "plt.title('График распределения количества событий по дням')\n",
        "plt.ylabel(\"Количество событий в день\")\n",
        "plt.xlabel(\"Дата\")\n",
        "plt.xticks(rotation=45)\n",
        "plt.grid()\n",
        "plt.show()"
      ]
    },
    {
      "cell_type": "markdown",
      "metadata": {
        "id": "IMByfPrH5nVN"
      },
      "source": [
        "Распределения выглядят сильно по-разному. Скорее всего будет значимое отличие."
      ]
    },
    {
      "cell_type": "code",
      "execution_count": null,
      "metadata": {
        "id": "EuWY1TOd5nVN",
        "outputId": "419a010e-0814-447d-8abd-0b5d0dd168b1"
      },
      "outputs": [
        {
          "name": "stdout",
          "output_type": "stream",
          "text": [
            "p-значение: 6.451599275528656e-41\n",
            "Отвергаем нулевую гипотезу о равенстве дисперсий: дисперсии не равны\n"
          ]
        }
      ],
      "source": [
        "tariff_levene = st.levene(\n",
        "    buildings_events_final.query('last_event == \"project\"')['event'],\n",
        "    buildings_events_final.query('last_event == \"finished_stage_1\"')['event'])\n",
        "\n",
        "print('p-значение:', tariff_levene.pvalue)\n",
        "\n",
        "if (tariff_levene.pvalue < alpha):\n",
        "    print(\"Отвергаем нулевую гипотезу о равенстве дисперсий: дисперсии не равны\")\n",
        "else:\n",
        "    print(\"Не получилось отвергнуть нулевую гипотезу: дисперсии возможно равны\")"
      ]
    },
    {
      "cell_type": "markdown",
      "metadata": {
        "id": "lhtMBMjf5nVO"
      },
      "source": [
        "**Гипотеза о равенстве средних двух генеральных совокупностей (для независимых выборок):**\n",
        "\n",
        "H0 = среднее число построенных зданий одинаково для представителей разных стратегий равны (нет разница)\n",
        "H0 = среднее число построенных зданий различно для представителей разных стратегий равны (есть разница)\n",
        "\n",
        "Так как мы показали, что дисперсии неоднородны, установим параметр equal_var=False"
      ]
    },
    {
      "cell_type": "code",
      "execution_count": null,
      "metadata": {
        "id": "aDe_rGDD5nVO",
        "outputId": "b18aa377-fcdd-4efb-d4c4-406be6f28e70"
      },
      "outputs": [
        {
          "name": "stdout",
          "output_type": "stream",
          "text": [
            "p-значение: 3.624754689119661e-223\n",
            "Отвергаем нулевую гипотезу\n"
          ]
        }
      ],
      "source": [
        "alpha = .05 # критический уровень статистической значимости\n",
        "            # если p-value окажется меньше него - отвергнем гипотезу\n",
        "\n",
        "results = st.ttest_ind(\n",
        "    buildings_events_final.query('last_event == \"project\"')['event'],\n",
        "    buildings_events_final.query('last_event == \"finished_stage_1\"')['event'],\n",
        "    equal_var=False)\n",
        "\n",
        "print('p-значение:', results.pvalue)\n",
        "\n",
        "if (results.pvalue < alpha):\n",
        "    print(\"Отвергаем нулевую гипотезу\")\n",
        "else:\n",
        "    print(\"Не получилось отвергнуть нулевую гипотезу\")"
      ]
    },
    {
      "cell_type": "markdown",
      "metadata": {
        "id": "GV-NT6ah5nVO"
      },
      "source": [
        "Имеются статистически значимые различия по среднему количеству построенных зданий между пользователями, которые заканчивают уровень через реализацию проекта, и пользователями, которые заканчивают уровень победой над другим игроком."
      ]
    },
    {
      "cell_type": "markdown",
      "metadata": {
        "id": "RL4mvwOF5nVP"
      },
      "source": [
        "## Выводы и рекомендации"
      ]
    },
    {
      "cell_type": "markdown",
      "metadata": {
        "id": "OiraBGuZ5nVP"
      },
      "source": [
        "***Основные выводы исследования:***\n",
        "1. Имеются статистически значимые различия по среднему количеству построенных зданий между пользователями, которые заканчивают уровень через реализацию проекта, и пользователями, которые заканчивают уровень победой над другим игроком:\n",
        "    - Среднее число построенных зданий для прошедших уровень через проект составляет 12 штук, \n",
        "    - Для прошедших уровень через победу над врагом - 10 штук. \n",
        "    - То есть среди игроков, использовавших для прохождения уровня стратегию реализации проекта, среднее количество построенных зданий выше на 2, чем среди использующих стратегию победы над врагом. Поэтому **вторая стратегию потенциально менее прибыльная с точки зрения доходов с размещения рекламы**. Отсюда следует **рекомендация**:\n",
        "    - Добавление дополнительного рекламного места, например, в окне принятия решения о нападении, чтобы сбалансировать рекламную нагрузку между игроками, придерживающимися разных стратегий (PVP и PVE).\n",
        "    - Коррективровании баланса таким образом, чтобы мотивировать PVP-игроков строить больше зданий.\n",
        "2. Наиболее эффективный рекламный источник с точки зрения кост-эффективности (CAC) это YouTube. Наименее эффективный - Facebook. Исходя из этого **рекомендуется**:\n",
        "    - В последующих рекламных кампаниях перераспределить бюджет между истчниками, снизив долю Facebook.\n",
        "    - В случае единства форматов рекламы (видеоролик) и, если в Facebook и YouTube были задействованы разные креативы, протестировать креатив из YouTube на Facebook.\n",
        "3. Среди предствленных типов построек наиболее часто игроки строят spaceport, с небольшим отставанием идет assembly_shop. Значительно реже пользователи строят research_center. Что свидетельствует о **большей популярности среди игроков PVP-стратегии**. Отсюда **рекомендация**:\n",
        "    - Повышать привлекательность PVE-стратегии в игре, например, за счет дополнительных очков за мирный/дипломатический стиль прохождения. \n",
        "\n",
        "\n",
        "***Другие выводы и наблюдения для справочного ознакомления:***\n",
        "1. Среднее число пользователей в приложении в рассматриваемый период составлет 2884.879. Медианное значение существенно ниже - 1480.\n",
        "2. Наибольшее число пользователей зафиксировано в период с 2020-05-06 по 2020-05-10.\n",
        "3. Наименьшее число пользователей наблюдается с 2020-06-01 по 2020-06-05.\n",
        "4. С начала рассматриваемого периода до 2020-05-10 наблюдался равномерный рост количества пользователей, после которого началось резкое снижение, которое с разной скоростью продолжалось вплоть до окончания периода: 2020-06-05 количество игроков достигло 4. Падение числа пользователей с 2020-05-10 связано с окончанием рекламной кампании.\n",
        "5. Среднее число событий за день составляет 4110.273. Медианное - 1837.\n",
        "6. Динамика распределения количества событий по дням в целом совпадает с распределением числа пользователей: с начала рассматриваемого периода до 2020-05-10 наблюдался равномерный рост количества пользователей, после которого началось резкое снижение, которое с разной скоростью продолжалось вплоть до окончания периода.\n",
        "7. Среднее количество событий на пользователя составляет 10.\n",
        "8. Наиболее популярный тип события - building. Что не удивительно, так как без постройки зданий невозможно пройти уровень.\n",
        "\n",
        "10. Наибольший объем привлеченных пользователей приходится на инструмент контекстной рекламы - Яндекс.Директ. Наименьший у ОЛВ - YouTube.\n",
        "11. Среднее число построенных зданий выше по источнику facebook_ads. Наименьший результат у YouTube. Однако различия составляют менее 1 здания.\n",
        "12. Нельзя сказать, что в зависимости от источника сильно варьируется доля игроков, избравших разную стратегию: стратегию через победу над другим игроком избирают от 74.627 (facebook_ads) до 76.709 (yandex_direct) игроков.\n",
        "13. В зависимости от источника доли типов построек также сильно не различаются.\n",
        "13. Отсутствуют статистически значимые различия средних значений времени прохождения уровня между пользователями, которые заканчивают уровень через реализацию проекта, и пользователями, которые заканчивают уровень победой над другим игроком."
      ]
    },
    {
      "cell_type": "markdown",
      "metadata": {
        "id": "kVSXy1Z45nVP"
      },
      "source": [
        "[ПРЕЗЕНТАЦИЯ](https://disk.yandex.ru/i/X5OXDVh4lqcvXg)"
      ]
    },
    {
      "cell_type": "markdown",
      "metadata": {
        "id": "8Yp64eRP5nVQ"
      },
      "source": [
        "[ДАШБОРД](https://public.tableau.com/app/profile/nikita3057/viz/_16466686572790/Dashboard1?publish=yes)"
      ]
    }
  ],
  "metadata": {
    "ExecuteTimeLog": [
      {
        "duration": 633,
        "start_time": "2022-03-03T13:57:43.185Z"
      },
      {
        "duration": 903,
        "start_time": "2022-03-03T14:08:11.277Z"
      },
      {
        "duration": 10,
        "start_time": "2022-03-03T14:08:26.137Z"
      },
      {
        "duration": 1808,
        "start_time": "2022-03-03T14:09:28.423Z"
      },
      {
        "duration": 1991,
        "start_time": "2022-03-03T14:19:16.345Z"
      },
      {
        "duration": 4048,
        "start_time": "2022-03-03T14:27:35.867Z"
      },
      {
        "duration": 4122,
        "start_time": "2022-03-03T14:29:34.395Z"
      },
      {
        "duration": 4128,
        "start_time": "2022-03-03T14:30:57.201Z"
      },
      {
        "duration": 219,
        "start_time": "2022-03-03T14:35:39.296Z"
      },
      {
        "duration": 8436,
        "start_time": "2022-03-03T14:35:59.970Z"
      },
      {
        "duration": 340,
        "start_time": "2022-03-03T14:36:15.295Z"
      },
      {
        "duration": 3,
        "start_time": "2022-03-03T14:37:53.119Z"
      },
      {
        "duration": 6,
        "start_time": "2022-03-03T14:37:57.043Z"
      },
      {
        "duration": 2370,
        "start_time": "2022-03-03T14:40:16.253Z"
      },
      {
        "duration": 3812,
        "start_time": "2022-03-03T14:42:13.448Z"
      },
      {
        "duration": 731,
        "start_time": "2022-03-03T14:42:48.497Z"
      },
      {
        "duration": 11,
        "start_time": "2022-03-03T14:42:53.687Z"
      },
      {
        "duration": 1861,
        "start_time": "2022-03-03T14:43:51.887Z"
      },
      {
        "duration": 10,
        "start_time": "2022-03-03T14:44:01.586Z"
      },
      {
        "duration": 7882,
        "start_time": "2022-03-03T14:47:34.192Z"
      },
      {
        "duration": 13,
        "start_time": "2022-03-03T14:47:47.878Z"
      },
      {
        "duration": 5,
        "start_time": "2022-03-03T15:00:20.937Z"
      },
      {
        "duration": 30,
        "start_time": "2022-03-03T15:01:33.964Z"
      },
      {
        "duration": 76,
        "start_time": "2022-03-03T15:02:20.819Z"
      },
      {
        "duration": 36,
        "start_time": "2022-03-03T15:03:34.682Z"
      },
      {
        "duration": 26,
        "start_time": "2022-03-03T15:03:41.221Z"
      },
      {
        "duration": 5558,
        "start_time": "2022-03-03T15:03:50.608Z"
      },
      {
        "duration": 11,
        "start_time": "2022-03-03T15:04:00.073Z"
      },
      {
        "duration": 4,
        "start_time": "2022-03-03T15:33:30.028Z"
      },
      {
        "duration": 8,
        "start_time": "2022-03-03T15:33:30.198Z"
      },
      {
        "duration": 5982,
        "start_time": "2022-03-03T15:33:30.362Z"
      },
      {
        "duration": 5,
        "start_time": "2022-03-03T15:33:36.346Z"
      },
      {
        "duration": 41,
        "start_time": "2022-03-03T15:33:36.353Z"
      },
      {
        "duration": 37,
        "start_time": "2022-03-03T15:33:36.396Z"
      },
      {
        "duration": 26,
        "start_time": "2022-03-03T15:33:36.435Z"
      },
      {
        "duration": 53,
        "start_time": "2022-03-03T15:39:33.210Z"
      },
      {
        "duration": 88,
        "start_time": "2022-03-03T15:40:39.675Z"
      },
      {
        "duration": 231,
        "start_time": "2022-03-03T15:41:04.605Z"
      },
      {
        "duration": 72,
        "start_time": "2022-03-03T15:41:28.847Z"
      },
      {
        "duration": 62,
        "start_time": "2022-03-03T15:41:45.843Z"
      },
      {
        "duration": 52,
        "start_time": "2022-03-03T15:42:08.625Z"
      },
      {
        "duration": 220,
        "start_time": "2022-03-03T15:44:19.946Z"
      },
      {
        "duration": 589,
        "start_time": "2022-03-03T15:44:46.014Z"
      },
      {
        "duration": 17,
        "start_time": "2022-03-03T16:03:58.253Z"
      },
      {
        "duration": 17,
        "start_time": "2022-03-03T16:04:23.884Z"
      },
      {
        "duration": 28,
        "start_time": "2022-03-03T16:05:11.740Z"
      },
      {
        "duration": 17,
        "start_time": "2022-03-03T16:05:53.540Z"
      },
      {
        "duration": 4,
        "start_time": "2022-03-03T16:06:07.356Z"
      },
      {
        "duration": 2818,
        "start_time": "2022-03-03T16:06:32.085Z"
      },
      {
        "duration": 17,
        "start_time": "2022-03-03T16:07:11.499Z"
      },
      {
        "duration": 15,
        "start_time": "2022-03-03T16:07:19.202Z"
      },
      {
        "duration": 15,
        "start_time": "2022-03-03T16:07:35.128Z"
      },
      {
        "duration": 15,
        "start_time": "2022-03-03T16:07:43.977Z"
      },
      {
        "duration": 16,
        "start_time": "2022-03-03T16:08:02.014Z"
      },
      {
        "duration": 14,
        "start_time": "2022-03-03T16:08:18.552Z"
      },
      {
        "duration": 14,
        "start_time": "2022-03-03T16:08:49.461Z"
      },
      {
        "duration": 15,
        "start_time": "2022-03-03T16:08:52.774Z"
      },
      {
        "duration": 1453,
        "start_time": "2022-03-03T17:40:14.666Z"
      },
      {
        "duration": 6,
        "start_time": "2022-03-03T17:40:16.121Z"
      },
      {
        "duration": 10320,
        "start_time": "2022-03-03T17:40:16.129Z"
      },
      {
        "duration": 6,
        "start_time": "2022-03-03T17:40:26.451Z"
      },
      {
        "duration": 31,
        "start_time": "2022-03-03T17:40:26.458Z"
      },
      {
        "duration": 34,
        "start_time": "2022-03-03T17:40:26.491Z"
      },
      {
        "duration": 38,
        "start_time": "2022-03-03T17:40:26.527Z"
      },
      {
        "duration": 48,
        "start_time": "2022-03-03T17:40:26.567Z"
      },
      {
        "duration": 73,
        "start_time": "2022-03-03T17:40:26.616Z"
      },
      {
        "duration": 44,
        "start_time": "2022-03-03T17:40:26.690Z"
      },
      {
        "duration": 406,
        "start_time": "2022-03-03T17:40:26.736Z"
      },
      {
        "duration": 16,
        "start_time": "2022-03-03T17:40:27.144Z"
      },
      {
        "duration": 5,
        "start_time": "2022-03-03T17:40:44.666Z"
      },
      {
        "duration": 14,
        "start_time": "2022-03-03T17:40:56.302Z"
      },
      {
        "duration": 12,
        "start_time": "2022-03-03T17:41:24.706Z"
      },
      {
        "duration": 11,
        "start_time": "2022-03-03T17:41:33.951Z"
      },
      {
        "duration": 12,
        "start_time": "2022-03-03T17:41:53.579Z"
      },
      {
        "duration": 5,
        "start_time": "2022-03-03T17:50:01.089Z"
      },
      {
        "duration": 7,
        "start_time": "2022-03-03T17:52:42.390Z"
      },
      {
        "duration": 10,
        "start_time": "2022-03-03T17:53:30.225Z"
      },
      {
        "duration": 13,
        "start_time": "2022-03-03T17:54:11.925Z"
      },
      {
        "duration": 4,
        "start_time": "2022-03-03T17:57:19.765Z"
      },
      {
        "duration": 68,
        "start_time": "2022-03-03T17:57:55.687Z"
      },
      {
        "duration": 6,
        "start_time": "2022-03-03T17:59:11.381Z"
      },
      {
        "duration": 4,
        "start_time": "2022-03-03T18:00:19.022Z"
      },
      {
        "duration": 7,
        "start_time": "2022-03-03T18:00:25.221Z"
      },
      {
        "duration": 76,
        "start_time": "2022-03-03T18:03:40.004Z"
      },
      {
        "duration": 5,
        "start_time": "2022-03-03T18:04:16.216Z"
      },
      {
        "duration": 13,
        "start_time": "2022-03-03T18:05:05.112Z"
      },
      {
        "duration": 18,
        "start_time": "2022-03-03T18:47:45.984Z"
      },
      {
        "duration": 310,
        "start_time": "2022-03-03T18:49:39.611Z"
      },
      {
        "duration": 219,
        "start_time": "2022-03-03T18:50:01.053Z"
      },
      {
        "duration": 210,
        "start_time": "2022-03-03T18:50:19.040Z"
      },
      {
        "duration": 214,
        "start_time": "2022-03-03T18:50:24.225Z"
      },
      {
        "duration": 207,
        "start_time": "2022-03-03T18:51:12.501Z"
      },
      {
        "duration": 203,
        "start_time": "2022-03-03T18:52:22.690Z"
      },
      {
        "duration": 496,
        "start_time": "2022-03-03T18:55:26.933Z"
      },
      {
        "duration": 250,
        "start_time": "2022-03-03T18:56:10.086Z"
      },
      {
        "duration": 341,
        "start_time": "2022-03-03T18:57:14.399Z"
      },
      {
        "duration": 232,
        "start_time": "2022-03-03T18:57:27.698Z"
      },
      {
        "duration": 216,
        "start_time": "2022-03-03T18:57:50.790Z"
      },
      {
        "duration": 322,
        "start_time": "2022-03-03T18:57:58.580Z"
      },
      {
        "duration": 355,
        "start_time": "2022-03-03T18:59:17.742Z"
      },
      {
        "duration": 1232,
        "start_time": "2022-03-03T19:01:00.428Z"
      },
      {
        "duration": 422,
        "start_time": "2022-03-03T19:01:16.401Z"
      },
      {
        "duration": 220,
        "start_time": "2022-03-03T19:01:22.039Z"
      },
      {
        "duration": 14,
        "start_time": "2022-03-03T19:01:55.559Z"
      },
      {
        "duration": 198,
        "start_time": "2022-03-03T19:02:03.008Z"
      },
      {
        "duration": 259,
        "start_time": "2022-03-03T19:02:09.324Z"
      },
      {
        "duration": 17,
        "start_time": "2022-03-03T19:05:19.137Z"
      },
      {
        "duration": 12,
        "start_time": "2022-03-03T19:12:57.198Z"
      },
      {
        "duration": 134,
        "start_time": "2022-03-03T19:13:41.302Z"
      },
      {
        "duration": 194,
        "start_time": "2022-03-03T19:13:51.357Z"
      },
      {
        "duration": 526,
        "start_time": "2022-03-03T19:14:02.526Z"
      },
      {
        "duration": 636,
        "start_time": "2022-03-03T19:14:33.956Z"
      },
      {
        "duration": 545,
        "start_time": "2022-03-03T19:14:53.804Z"
      },
      {
        "duration": 201,
        "start_time": "2022-03-03T19:15:05.784Z"
      },
      {
        "duration": 520,
        "start_time": "2022-03-03T19:15:42.430Z"
      },
      {
        "duration": 47,
        "start_time": "2022-03-03T19:16:19.890Z"
      },
      {
        "duration": 127,
        "start_time": "2022-03-03T19:16:20.631Z"
      },
      {
        "duration": 502,
        "start_time": "2022-03-03T19:16:21.512Z"
      },
      {
        "duration": 41,
        "start_time": "2022-03-03T19:16:36.284Z"
      },
      {
        "duration": 115,
        "start_time": "2022-03-03T19:16:36.795Z"
      },
      {
        "duration": 256,
        "start_time": "2022-03-03T19:16:37.393Z"
      },
      {
        "duration": 68,
        "start_time": "2022-03-03T19:17:11.205Z"
      },
      {
        "duration": 204,
        "start_time": "2022-03-03T19:23:13.519Z"
      },
      {
        "duration": 251,
        "start_time": "2022-03-03T19:23:33.648Z"
      },
      {
        "duration": 14,
        "start_time": "2022-03-03T19:24:12.479Z"
      },
      {
        "duration": 248,
        "start_time": "2022-03-03T19:24:18.198Z"
      },
      {
        "duration": 5,
        "start_time": "2022-03-03T19:24:34.481Z"
      },
      {
        "duration": 4943,
        "start_time": "2022-03-03T19:24:46.228Z"
      },
      {
        "duration": 16,
        "start_time": "2022-03-03T19:25:15.321Z"
      },
      {
        "duration": 5,
        "start_time": "2022-03-03T19:25:20.655Z"
      },
      {
        "duration": 16,
        "start_time": "2022-03-03T19:25:35.769Z"
      },
      {
        "duration": 6,
        "start_time": "2022-03-03T19:25:36.885Z"
      },
      {
        "duration": 198,
        "start_time": "2022-03-03T19:26:26.995Z"
      },
      {
        "duration": 246,
        "start_time": "2022-03-03T19:26:41.847Z"
      },
      {
        "duration": 201,
        "start_time": "2022-03-03T19:26:50.682Z"
      },
      {
        "duration": 208,
        "start_time": "2022-03-03T19:26:55.803Z"
      },
      {
        "duration": 210,
        "start_time": "2022-03-03T19:26:59.622Z"
      },
      {
        "duration": 4,
        "start_time": "2022-03-03T19:27:36.951Z"
      },
      {
        "duration": 30499,
        "start_time": "2022-03-03T19:27:40.595Z"
      },
      {
        "duration": 16,
        "start_time": "2022-03-03T19:29:20.442Z"
      },
      {
        "duration": 4,
        "start_time": "2022-03-03T19:29:25.106Z"
      },
      {
        "duration": 239,
        "start_time": "2022-03-03T19:30:07.587Z"
      },
      {
        "duration": 237,
        "start_time": "2022-03-03T19:30:47.552Z"
      },
      {
        "duration": 266,
        "start_time": "2022-03-03T19:33:23.047Z"
      },
      {
        "duration": 227,
        "start_time": "2022-03-03T19:34:04.469Z"
      },
      {
        "duration": 15,
        "start_time": "2022-03-03T19:34:30.390Z"
      },
      {
        "duration": 11,
        "start_time": "2022-03-03T19:36:38.017Z"
      },
      {
        "duration": 217,
        "start_time": "2022-03-03T19:37:21.577Z"
      },
      {
        "duration": 4,
        "start_time": "2022-03-03T19:37:49.071Z"
      },
      {
        "duration": 227,
        "start_time": "2022-03-03T19:45:00.281Z"
      },
      {
        "duration": 18,
        "start_time": "2022-03-03T19:45:14.841Z"
      },
      {
        "duration": 295,
        "start_time": "2022-03-03T19:45:23.062Z"
      },
      {
        "duration": 11,
        "start_time": "2022-03-03T19:45:32.669Z"
      },
      {
        "duration": 39,
        "start_time": "2022-03-03T19:59:24.526Z"
      },
      {
        "duration": 171,
        "start_time": "2022-03-03T20:00:35.270Z"
      },
      {
        "duration": 7,
        "start_time": "2022-03-03T20:02:08.200Z"
      },
      {
        "duration": 3,
        "start_time": "2022-03-03T20:02:15.907Z"
      },
      {
        "duration": 206,
        "start_time": "2022-03-03T20:02:26.595Z"
      },
      {
        "duration": 22,
        "start_time": "2022-03-03T20:02:48.400Z"
      },
      {
        "duration": 8,
        "start_time": "2022-03-03T20:03:59.821Z"
      },
      {
        "duration": 4,
        "start_time": "2022-03-03T20:04:08.326Z"
      },
      {
        "duration": 38,
        "start_time": "2022-03-03T20:04:36.043Z"
      },
      {
        "duration": 48,
        "start_time": "2022-03-03T20:05:40.608Z"
      },
      {
        "duration": 9,
        "start_time": "2022-03-03T20:05:58.325Z"
      },
      {
        "duration": 51,
        "start_time": "2022-03-03T20:06:24.048Z"
      },
      {
        "duration": 1348,
        "start_time": "2022-03-03T20:11:58.774Z"
      },
      {
        "duration": 1034,
        "start_time": "2022-03-03T20:12:50.475Z"
      },
      {
        "duration": 11,
        "start_time": "2022-03-03T20:13:15.097Z"
      },
      {
        "duration": 195,
        "start_time": "2022-03-03T20:13:24.527Z"
      },
      {
        "duration": 199,
        "start_time": "2022-03-03T20:14:04.469Z"
      },
      {
        "duration": 236,
        "start_time": "2022-03-03T20:14:12.436Z"
      },
      {
        "duration": 4,
        "start_time": "2022-03-03T20:14:35.764Z"
      },
      {
        "duration": 14,
        "start_time": "2022-03-03T20:15:10.340Z"
      },
      {
        "duration": 4,
        "start_time": "2022-03-03T20:15:32.128Z"
      },
      {
        "duration": 5,
        "start_time": "2022-03-03T20:15:53.637Z"
      },
      {
        "duration": 198,
        "start_time": "2022-03-03T20:16:12.784Z"
      },
      {
        "duration": 8,
        "start_time": "2022-03-03T20:16:29.572Z"
      },
      {
        "duration": 7,
        "start_time": "2022-03-03T20:16:49.796Z"
      },
      {
        "duration": 8,
        "start_time": "2022-03-03T20:17:21.350Z"
      },
      {
        "duration": 44,
        "start_time": "2022-03-03T20:20:09.931Z"
      },
      {
        "duration": 47,
        "start_time": "2022-03-03T20:22:45.825Z"
      },
      {
        "duration": 5056,
        "start_time": "2022-03-03T20:23:05.671Z"
      },
      {
        "duration": 11,
        "start_time": "2022-03-03T20:23:35.650Z"
      },
      {
        "duration": 32,
        "start_time": "2022-03-03T20:24:55.686Z"
      },
      {
        "duration": 44,
        "start_time": "2022-03-03T20:24:58.370Z"
      },
      {
        "duration": 13,
        "start_time": "2022-03-03T20:25:00.974Z"
      },
      {
        "duration": 7,
        "start_time": "2022-03-03T20:25:19.761Z"
      },
      {
        "duration": 14,
        "start_time": "2022-03-03T20:25:47.720Z"
      },
      {
        "duration": 62,
        "start_time": "2022-03-03T20:26:12.896Z"
      },
      {
        "duration": 10,
        "start_time": "2022-03-03T20:26:26.460Z"
      },
      {
        "duration": 6,
        "start_time": "2022-03-03T20:27:37.253Z"
      },
      {
        "duration": 4,
        "start_time": "2022-03-03T20:27:58.065Z"
      },
      {
        "duration": 210,
        "start_time": "2022-03-03T20:28:30.184Z"
      },
      {
        "duration": 208,
        "start_time": "2022-03-03T20:28:54.996Z"
      },
      {
        "duration": 2,
        "start_time": "2022-03-03T20:29:07.537Z"
      },
      {
        "duration": 13,
        "start_time": "2022-03-03T20:29:31.016Z"
      },
      {
        "duration": 1328,
        "start_time": "2022-03-05T15:09:56.890Z"
      },
      {
        "duration": 8,
        "start_time": "2022-03-05T15:09:58.220Z"
      },
      {
        "duration": 8066,
        "start_time": "2022-03-05T15:09:58.230Z"
      },
      {
        "duration": 6,
        "start_time": "2022-03-05T15:10:06.298Z"
      },
      {
        "duration": 31,
        "start_time": "2022-03-05T15:10:06.306Z"
      },
      {
        "duration": 35,
        "start_time": "2022-03-05T15:10:06.339Z"
      },
      {
        "duration": 23,
        "start_time": "2022-03-05T15:10:06.376Z"
      },
      {
        "duration": 62,
        "start_time": "2022-03-05T15:10:06.400Z"
      },
      {
        "duration": 53,
        "start_time": "2022-03-05T15:10:06.464Z"
      },
      {
        "duration": 81,
        "start_time": "2022-03-05T15:10:06.519Z"
      },
      {
        "duration": 395,
        "start_time": "2022-03-05T15:10:06.602Z"
      },
      {
        "duration": 34,
        "start_time": "2022-03-05T15:10:06.999Z"
      },
      {
        "duration": 17,
        "start_time": "2022-03-05T15:10:07.035Z"
      },
      {
        "duration": 5,
        "start_time": "2022-03-05T15:10:09.212Z"
      },
      {
        "duration": 9,
        "start_time": "2022-03-05T15:10:09.966Z"
      },
      {
        "duration": 10,
        "start_time": "2022-03-05T15:10:10.895Z"
      },
      {
        "duration": 13,
        "start_time": "2022-03-05T15:10:12.071Z"
      },
      {
        "duration": 5,
        "start_time": "2022-03-05T15:10:18.561Z"
      },
      {
        "duration": 6,
        "start_time": "2022-03-05T15:10:19.975Z"
      },
      {
        "duration": 4,
        "start_time": "2022-03-05T15:10:23.790Z"
      },
      {
        "duration": 6,
        "start_time": "2022-03-05T15:10:24.000Z"
      },
      {
        "duration": 6,
        "start_time": "2022-03-05T15:10:24.742Z"
      },
      {
        "duration": 11,
        "start_time": "2022-03-05T15:10:25.929Z"
      },
      {
        "duration": 296,
        "start_time": "2022-03-05T15:13:18.747Z"
      },
      {
        "duration": 169,
        "start_time": "2022-03-05T15:13:33.283Z"
      },
      {
        "duration": 11,
        "start_time": "2022-03-05T15:14:04.277Z"
      },
      {
        "duration": 16,
        "start_time": "2022-03-05T15:14:13.862Z"
      },
      {
        "duration": 115,
        "start_time": "2022-03-05T15:15:21.325Z"
      },
      {
        "duration": 9,
        "start_time": "2022-03-05T15:15:27.391Z"
      },
      {
        "duration": 10,
        "start_time": "2022-03-05T15:16:17.295Z"
      },
      {
        "duration": 109,
        "start_time": "2022-03-05T15:19:50.893Z"
      },
      {
        "duration": 8,
        "start_time": "2022-03-05T15:19:51.489Z"
      },
      {
        "duration": 8,
        "start_time": "2022-03-05T15:20:38.437Z"
      },
      {
        "duration": 8,
        "start_time": "2022-03-05T15:21:02.941Z"
      },
      {
        "duration": 7,
        "start_time": "2022-03-05T15:21:13.170Z"
      },
      {
        "duration": 6,
        "start_time": "2022-03-05T15:22:49.172Z"
      },
      {
        "duration": 4156,
        "start_time": "2022-03-05T15:32:09.047Z"
      },
      {
        "duration": 4,
        "start_time": "2022-03-05T15:32:26.781Z"
      },
      {
        "duration": 4905,
        "start_time": "2022-03-05T15:32:51.191Z"
      },
      {
        "duration": 211,
        "start_time": "2022-03-05T15:33:36.845Z"
      },
      {
        "duration": 110,
        "start_time": "2022-03-05T15:33:53.095Z"
      },
      {
        "duration": 8,
        "start_time": "2022-03-05T15:33:58.748Z"
      },
      {
        "duration": 11,
        "start_time": "2022-03-05T15:34:03.610Z"
      },
      {
        "duration": 8,
        "start_time": "2022-03-05T15:34:12.684Z"
      },
      {
        "duration": 8,
        "start_time": "2022-03-05T15:34:16.716Z"
      },
      {
        "duration": 8,
        "start_time": "2022-03-05T15:34:27.982Z"
      },
      {
        "duration": 218,
        "start_time": "2022-03-05T15:34:34.919Z"
      },
      {
        "duration": 56,
        "start_time": "2022-03-05T15:34:49.662Z"
      },
      {
        "duration": 216,
        "start_time": "2022-03-05T15:35:00.890Z"
      },
      {
        "duration": 392,
        "start_time": "2022-03-05T15:35:14.260Z"
      },
      {
        "duration": 61,
        "start_time": "2022-03-05T15:35:43.577Z"
      },
      {
        "duration": 64,
        "start_time": "2022-03-05T15:35:54.256Z"
      },
      {
        "duration": 220,
        "start_time": "2022-03-05T15:36:03.327Z"
      },
      {
        "duration": 303,
        "start_time": "2022-03-05T15:36:13.396Z"
      },
      {
        "duration": 194,
        "start_time": "2022-03-05T15:36:22.701Z"
      },
      {
        "duration": 202,
        "start_time": "2022-03-05T15:37:34.791Z"
      },
      {
        "duration": 213,
        "start_time": "2022-03-05T15:37:44.853Z"
      },
      {
        "duration": 208,
        "start_time": "2022-03-05T15:38:41.793Z"
      },
      {
        "duration": 4,
        "start_time": "2022-03-05T15:46:59.486Z"
      },
      {
        "duration": 5,
        "start_time": "2022-03-05T15:47:06.638Z"
      },
      {
        "duration": 4,
        "start_time": "2022-03-05T15:49:38.490Z"
      },
      {
        "duration": 4,
        "start_time": "2022-03-05T15:49:47.575Z"
      },
      {
        "duration": 4,
        "start_time": "2022-03-05T15:50:02.169Z"
      },
      {
        "duration": 196,
        "start_time": "2022-03-05T15:52:04.199Z"
      },
      {
        "duration": 14,
        "start_time": "2022-03-05T15:52:11.206Z"
      },
      {
        "duration": 10,
        "start_time": "2022-03-05T15:52:57.078Z"
      },
      {
        "duration": 8,
        "start_time": "2022-03-05T15:58:49.243Z"
      },
      {
        "duration": 51,
        "start_time": "2022-03-05T15:59:21.778Z"
      },
      {
        "duration": 53,
        "start_time": "2022-03-05T15:59:32.296Z"
      },
      {
        "duration": 14,
        "start_time": "2022-03-05T16:00:18.361Z"
      },
      {
        "duration": 11,
        "start_time": "2022-03-05T16:00:20.686Z"
      },
      {
        "duration": 9,
        "start_time": "2022-03-05T16:00:24.394Z"
      },
      {
        "duration": 222,
        "start_time": "2022-03-05T16:19:01.161Z"
      },
      {
        "duration": 212,
        "start_time": "2022-03-05T16:19:35.560Z"
      },
      {
        "duration": 35,
        "start_time": "2022-03-05T16:22:38.792Z"
      },
      {
        "duration": 9,
        "start_time": "2022-03-05T16:22:47.056Z"
      },
      {
        "duration": 13,
        "start_time": "2022-03-05T16:22:55.096Z"
      },
      {
        "duration": 59,
        "start_time": "2022-03-05T16:28:32.174Z"
      },
      {
        "duration": 15,
        "start_time": "2022-03-05T16:34:28.938Z"
      },
      {
        "duration": 7,
        "start_time": "2022-03-05T17:01:38.796Z"
      },
      {
        "duration": 7,
        "start_time": "2022-03-05T17:01:50.977Z"
      },
      {
        "duration": 13,
        "start_time": "2022-03-05T17:01:56.526Z"
      },
      {
        "duration": 7,
        "start_time": "2022-03-05T17:02:26.038Z"
      },
      {
        "duration": 5,
        "start_time": "2022-03-05T17:02:31.871Z"
      },
      {
        "duration": 8,
        "start_time": "2022-03-05T17:02:49.268Z"
      },
      {
        "duration": 4,
        "start_time": "2022-03-05T17:02:55.434Z"
      },
      {
        "duration": 3,
        "start_time": "2022-03-05T17:03:08.593Z"
      },
      {
        "duration": 8,
        "start_time": "2022-03-05T17:03:13.790Z"
      },
      {
        "duration": 4,
        "start_time": "2022-03-05T17:03:14.434Z"
      },
      {
        "duration": 21,
        "start_time": "2022-03-05T17:19:47.045Z"
      },
      {
        "duration": 8,
        "start_time": "2022-03-05T17:22:59.198Z"
      },
      {
        "duration": 4,
        "start_time": "2022-03-05T17:23:06.628Z"
      },
      {
        "duration": 194,
        "start_time": "2022-03-05T17:25:22.870Z"
      },
      {
        "duration": 189,
        "start_time": "2022-03-05T17:25:36.133Z"
      },
      {
        "duration": 63,
        "start_time": "2022-03-05T17:26:02.386Z"
      },
      {
        "duration": 4,
        "start_time": "2022-03-05T17:28:59.912Z"
      },
      {
        "duration": 20,
        "start_time": "2022-03-05T17:29:21.000Z"
      },
      {
        "duration": 189,
        "start_time": "2022-03-05T17:30:39.987Z"
      },
      {
        "duration": 60,
        "start_time": "2022-03-05T17:30:52.717Z"
      },
      {
        "duration": 54,
        "start_time": "2022-03-05T17:31:46.239Z"
      },
      {
        "duration": 63,
        "start_time": "2022-03-05T17:31:50.778Z"
      },
      {
        "duration": 21,
        "start_time": "2022-03-05T17:31:54.687Z"
      },
      {
        "duration": 20,
        "start_time": "2022-03-05T17:32:11.039Z"
      },
      {
        "duration": 20,
        "start_time": "2022-03-05T17:41:22.326Z"
      },
      {
        "duration": 11,
        "start_time": "2022-03-05T17:45:00.390Z"
      },
      {
        "duration": 4,
        "start_time": "2022-03-05T17:45:06.568Z"
      },
      {
        "duration": 4,
        "start_time": "2022-03-05T17:45:17.148Z"
      },
      {
        "duration": 14,
        "start_time": "2022-03-05T17:47:59.187Z"
      },
      {
        "duration": 11,
        "start_time": "2022-03-05T17:48:18.190Z"
      },
      {
        "duration": 4,
        "start_time": "2022-03-05T17:50:11.105Z"
      },
      {
        "duration": 14,
        "start_time": "2022-03-05T17:50:52.453Z"
      },
      {
        "duration": 4,
        "start_time": "2022-03-05T17:50:55.245Z"
      },
      {
        "duration": 59,
        "start_time": "2022-03-05T17:51:10.387Z"
      },
      {
        "duration": 13,
        "start_time": "2022-03-05T17:51:26.573Z"
      },
      {
        "duration": 4,
        "start_time": "2022-03-05T17:51:32.504Z"
      },
      {
        "duration": 15,
        "start_time": "2022-03-05T17:51:54.591Z"
      },
      {
        "duration": 4,
        "start_time": "2022-03-05T17:51:55.255Z"
      },
      {
        "duration": 209,
        "start_time": "2022-03-05T17:52:21.456Z"
      },
      {
        "duration": 13,
        "start_time": "2022-03-05T17:52:26.634Z"
      },
      {
        "duration": 3,
        "start_time": "2022-03-05T17:52:27.803Z"
      },
      {
        "duration": 10,
        "start_time": "2022-03-05T17:52:33.823Z"
      },
      {
        "duration": 4,
        "start_time": "2022-03-05T17:52:34.437Z"
      },
      {
        "duration": 10,
        "start_time": "2022-03-05T17:52:49.187Z"
      },
      {
        "duration": 3,
        "start_time": "2022-03-05T17:52:49.582Z"
      },
      {
        "duration": 11,
        "start_time": "2022-03-05T17:53:00.309Z"
      },
      {
        "duration": 4,
        "start_time": "2022-03-05T17:53:00.756Z"
      },
      {
        "duration": 5,
        "start_time": "2022-03-05T17:53:18.543Z"
      },
      {
        "duration": 13,
        "start_time": "2022-03-05T17:53:31.086Z"
      },
      {
        "duration": 4,
        "start_time": "2022-03-05T17:53:31.741Z"
      },
      {
        "duration": 191,
        "start_time": "2022-03-05T17:53:45.391Z"
      },
      {
        "duration": 207,
        "start_time": "2022-03-05T17:54:05.035Z"
      },
      {
        "duration": 17,
        "start_time": "2022-03-05T17:54:45.631Z"
      },
      {
        "duration": 10,
        "start_time": "2022-03-05T17:55:00.019Z"
      },
      {
        "duration": 3,
        "start_time": "2022-03-05T17:55:01.693Z"
      },
      {
        "duration": 29,
        "start_time": "2022-03-05T17:55:22.217Z"
      },
      {
        "duration": 4,
        "start_time": "2022-03-05T17:55:22.831Z"
      },
      {
        "duration": 14,
        "start_time": "2022-03-05T17:57:29.506Z"
      },
      {
        "duration": 4,
        "start_time": "2022-03-05T17:57:30.213Z"
      },
      {
        "duration": 14,
        "start_time": "2022-03-05T17:58:11.098Z"
      },
      {
        "duration": 4,
        "start_time": "2022-03-05T17:58:11.522Z"
      },
      {
        "duration": 13,
        "start_time": "2022-03-05T17:58:28.847Z"
      },
      {
        "duration": 5,
        "start_time": "2022-03-05T17:58:29.944Z"
      },
      {
        "duration": 21,
        "start_time": "2022-03-05T17:59:14.772Z"
      },
      {
        "duration": 179,
        "start_time": "2022-03-05T17:59:36.059Z"
      },
      {
        "duration": 22,
        "start_time": "2022-03-05T17:59:50.598Z"
      },
      {
        "duration": 9,
        "start_time": "2022-03-05T17:59:58.499Z"
      },
      {
        "duration": 22,
        "start_time": "2022-03-05T18:00:42.354Z"
      },
      {
        "duration": 24,
        "start_time": "2022-03-05T18:01:26.759Z"
      },
      {
        "duration": 16,
        "start_time": "2022-03-05T18:03:13.575Z"
      },
      {
        "duration": 16,
        "start_time": "2022-03-05T18:04:01.478Z"
      },
      {
        "duration": 4,
        "start_time": "2022-03-05T18:04:02.224Z"
      },
      {
        "duration": 37,
        "start_time": "2022-03-05T18:04:40.735Z"
      },
      {
        "duration": 34,
        "start_time": "2022-03-05T18:55:29.273Z"
      },
      {
        "duration": 33,
        "start_time": "2022-03-05T18:58:00.913Z"
      },
      {
        "duration": 18,
        "start_time": "2022-03-05T18:58:33.295Z"
      },
      {
        "duration": 44,
        "start_time": "2022-03-05T18:58:45.177Z"
      },
      {
        "duration": 20,
        "start_time": "2022-03-05T19:03:01.626Z"
      },
      {
        "duration": 2,
        "start_time": "2022-03-05T19:17:56.044Z"
      },
      {
        "duration": 174,
        "start_time": "2022-03-05T19:22:08.446Z"
      },
      {
        "duration": 32,
        "start_time": "2022-03-05T19:22:23.269Z"
      },
      {
        "duration": 12,
        "start_time": "2022-03-05T19:22:41.227Z"
      },
      {
        "duration": 40,
        "start_time": "2022-03-05T19:25:02.021Z"
      },
      {
        "duration": 23,
        "start_time": "2022-03-05T19:27:51.924Z"
      },
      {
        "duration": 16,
        "start_time": "2022-03-05T19:28:18.610Z"
      },
      {
        "duration": 107,
        "start_time": "2022-03-05T19:32:31.276Z"
      },
      {
        "duration": 6,
        "start_time": "2022-03-05T19:32:37.389Z"
      },
      {
        "duration": 345,
        "start_time": "2022-03-05T19:35:46.338Z"
      },
      {
        "duration": 345,
        "start_time": "2022-03-05T19:36:16.087Z"
      },
      {
        "duration": 174,
        "start_time": "2022-03-05T19:36:32.452Z"
      },
      {
        "duration": 189,
        "start_time": "2022-03-05T19:36:48.095Z"
      },
      {
        "duration": 84,
        "start_time": "2022-03-05T19:40:29.097Z"
      },
      {
        "duration": 6,
        "start_time": "2022-03-05T19:40:31.789Z"
      },
      {
        "duration": 182,
        "start_time": "2022-03-05T19:40:34.759Z"
      },
      {
        "duration": 8,
        "start_time": "2022-03-05T19:46:00.731Z"
      },
      {
        "duration": 4,
        "start_time": "2022-03-05T20:08:28.247Z"
      },
      {
        "duration": 4,
        "start_time": "2022-03-05T20:08:32.643Z"
      },
      {
        "duration": 193,
        "start_time": "2022-03-05T20:24:55.295Z"
      },
      {
        "duration": 97,
        "start_time": "2022-03-05T20:25:19.643Z"
      },
      {
        "duration": 11,
        "start_time": "2022-03-05T20:25:39.388Z"
      },
      {
        "duration": 4,
        "start_time": "2022-03-05T20:27:11.555Z"
      },
      {
        "duration": 12,
        "start_time": "2022-03-05T20:27:28.843Z"
      },
      {
        "duration": 98,
        "start_time": "2022-03-05T20:28:14.489Z"
      },
      {
        "duration": 5,
        "start_time": "2022-03-05T20:28:17.043Z"
      },
      {
        "duration": 8,
        "start_time": "2022-03-05T20:28:50.973Z"
      },
      {
        "duration": 12,
        "start_time": "2022-03-05T20:29:06.179Z"
      },
      {
        "duration": 4384,
        "start_time": "2022-03-05T20:30:07.559Z"
      },
      {
        "duration": 13,
        "start_time": "2022-03-05T20:30:29.745Z"
      },
      {
        "duration": 7,
        "start_time": "2022-03-05T20:31:01.214Z"
      },
      {
        "duration": 6,
        "start_time": "2022-03-05T20:31:09.194Z"
      },
      {
        "duration": 8,
        "start_time": "2022-03-05T20:31:26.039Z"
      },
      {
        "duration": 6,
        "start_time": "2022-03-05T20:34:08.819Z"
      },
      {
        "duration": 7,
        "start_time": "2022-03-05T20:34:09.329Z"
      },
      {
        "duration": 8,
        "start_time": "2022-03-05T20:34:11.724Z"
      },
      {
        "duration": 7,
        "start_time": "2022-03-05T20:34:17.671Z"
      },
      {
        "duration": 7,
        "start_time": "2022-03-05T20:34:17.953Z"
      },
      {
        "duration": 8,
        "start_time": "2022-03-05T20:34:19.687Z"
      },
      {
        "duration": 54,
        "start_time": "2022-03-05T20:35:07.020Z"
      },
      {
        "duration": 8,
        "start_time": "2022-03-05T20:35:20.445Z"
      },
      {
        "duration": 9,
        "start_time": "2022-03-05T20:35:26.576Z"
      },
      {
        "duration": 7,
        "start_time": "2022-03-05T20:35:27.171Z"
      },
      {
        "duration": 8,
        "start_time": "2022-03-05T20:35:37.110Z"
      },
      {
        "duration": 1373,
        "start_time": "2022-03-05T20:36:32.521Z"
      },
      {
        "duration": 7,
        "start_time": "2022-03-05T20:36:33.896Z"
      },
      {
        "duration": 10252,
        "start_time": "2022-03-05T20:36:33.905Z"
      },
      {
        "duration": 5,
        "start_time": "2022-03-05T20:36:44.159Z"
      },
      {
        "duration": 28,
        "start_time": "2022-03-05T20:36:44.166Z"
      },
      {
        "duration": 32,
        "start_time": "2022-03-05T20:36:44.195Z"
      },
      {
        "duration": 23,
        "start_time": "2022-03-05T20:36:44.228Z"
      },
      {
        "duration": 45,
        "start_time": "2022-03-05T20:36:44.253Z"
      },
      {
        "duration": 67,
        "start_time": "2022-03-05T20:36:44.301Z"
      },
      {
        "duration": 43,
        "start_time": "2022-03-05T20:36:44.369Z"
      },
      {
        "duration": 317,
        "start_time": "2022-03-05T20:36:44.413Z"
      },
      {
        "duration": 14,
        "start_time": "2022-03-05T20:36:44.732Z"
      },
      {
        "duration": 10,
        "start_time": "2022-03-05T20:36:44.748Z"
      },
      {
        "duration": 5,
        "start_time": "2022-03-05T20:36:44.759Z"
      },
      {
        "duration": 16,
        "start_time": "2022-03-05T20:36:44.765Z"
      },
      {
        "duration": 13,
        "start_time": "2022-03-05T20:36:44.783Z"
      },
      {
        "duration": 12,
        "start_time": "2022-03-05T20:36:44.797Z"
      },
      {
        "duration": 28,
        "start_time": "2022-03-05T20:36:44.810Z"
      },
      {
        "duration": 6,
        "start_time": "2022-03-05T20:36:44.839Z"
      },
      {
        "duration": 7,
        "start_time": "2022-03-05T20:36:44.846Z"
      },
      {
        "duration": 7,
        "start_time": "2022-03-05T20:36:44.854Z"
      },
      {
        "duration": 6,
        "start_time": "2022-03-05T20:36:44.862Z"
      },
      {
        "duration": 12,
        "start_time": "2022-03-05T20:36:44.872Z"
      },
      {
        "duration": 13,
        "start_time": "2022-03-05T20:36:44.886Z"
      },
      {
        "duration": 34,
        "start_time": "2022-03-05T20:36:44.900Z"
      },
      {
        "duration": 130,
        "start_time": "2022-03-05T20:36:44.935Z"
      },
      {
        "duration": 13,
        "start_time": "2022-03-05T20:36:45.066Z"
      },
      {
        "duration": 11,
        "start_time": "2022-03-05T20:36:45.080Z"
      },
      {
        "duration": 10,
        "start_time": "2022-03-05T20:36:45.093Z"
      },
      {
        "duration": 238,
        "start_time": "2022-03-05T20:36:45.105Z"
      },
      {
        "duration": 3,
        "start_time": "2022-03-05T20:36:45.345Z"
      },
      {
        "duration": 21,
        "start_time": "2022-03-05T20:36:45.350Z"
      },
      {
        "duration": 9,
        "start_time": "2022-03-05T20:36:45.373Z"
      },
      {
        "duration": 234,
        "start_time": "2022-03-05T20:36:45.384Z"
      },
      {
        "duration": 37,
        "start_time": "2022-03-05T20:36:45.619Z"
      },
      {
        "duration": 10,
        "start_time": "2022-03-05T20:36:45.658Z"
      },
      {
        "duration": 14,
        "start_time": "2022-03-05T20:36:45.670Z"
      },
      {
        "duration": 15,
        "start_time": "2022-03-05T20:36:45.685Z"
      },
      {
        "duration": 32,
        "start_time": "2022-03-05T20:36:45.702Z"
      },
      {
        "duration": 19,
        "start_time": "2022-03-05T20:36:45.736Z"
      },
      {
        "duration": 11,
        "start_time": "2022-03-05T20:36:45.757Z"
      },
      {
        "duration": 30,
        "start_time": "2022-03-05T20:36:45.769Z"
      },
      {
        "duration": 65,
        "start_time": "2022-03-05T20:36:45.801Z"
      },
      {
        "duration": 113,
        "start_time": "2022-03-05T20:36:45.868Z"
      },
      {
        "duration": 8,
        "start_time": "2022-03-05T20:36:45.982Z"
      },
      {
        "duration": 201,
        "start_time": "2022-03-05T20:36:45.991Z"
      },
      {
        "duration": 4,
        "start_time": "2022-03-05T20:36:46.194Z"
      },
      {
        "duration": 106,
        "start_time": "2022-03-05T20:36:46.199Z"
      },
      {
        "duration": 4,
        "start_time": "2022-03-05T20:36:46.307Z"
      },
      {
        "duration": 20,
        "start_time": "2022-03-05T20:36:46.313Z"
      },
      {
        "duration": 10,
        "start_time": "2022-03-05T20:36:46.335Z"
      },
      {
        "duration": 11,
        "start_time": "2022-03-05T20:36:46.346Z"
      },
      {
        "duration": 9,
        "start_time": "2022-03-05T20:36:46.358Z"
      },
      {
        "duration": 291,
        "start_time": "2022-03-05T20:36:46.368Z"
      },
      {
        "duration": -107463,
        "start_time": "2022-03-05T20:38:34.124Z"
      },
      {
        "duration": -107465,
        "start_time": "2022-03-05T20:38:34.127Z"
      },
      {
        "duration": -107470,
        "start_time": "2022-03-05T20:38:34.133Z"
      },
      {
        "duration": -107472,
        "start_time": "2022-03-05T20:38:34.136Z"
      },
      {
        "duration": -107474,
        "start_time": "2022-03-05T20:38:34.139Z"
      },
      {
        "duration": -107476,
        "start_time": "2022-03-05T20:38:34.142Z"
      },
      {
        "duration": -107478,
        "start_time": "2022-03-05T20:38:34.145Z"
      },
      {
        "duration": 3,
        "start_time": "2022-03-05T20:39:00.549Z"
      },
      {
        "duration": 5,
        "start_time": "2022-03-05T20:39:01.325Z"
      },
      {
        "duration": 7,
        "start_time": "2022-03-05T20:39:02.376Z"
      },
      {
        "duration": 7,
        "start_time": "2022-03-05T20:39:03.884Z"
      },
      {
        "duration": 7,
        "start_time": "2022-03-05T20:39:04.548Z"
      },
      {
        "duration": 9,
        "start_time": "2022-03-05T20:39:09.103Z"
      },
      {
        "duration": 1364,
        "start_time": "2022-03-05T20:39:19.633Z"
      },
      {
        "duration": 7,
        "start_time": "2022-03-05T20:39:20.998Z"
      },
      {
        "duration": 8684,
        "start_time": "2022-03-05T20:39:21.007Z"
      },
      {
        "duration": 5,
        "start_time": "2022-03-05T20:39:29.693Z"
      },
      {
        "duration": 29,
        "start_time": "2022-03-05T20:39:29.700Z"
      },
      {
        "duration": 35,
        "start_time": "2022-03-05T20:39:29.731Z"
      },
      {
        "duration": 23,
        "start_time": "2022-03-05T20:39:29.767Z"
      },
      {
        "duration": 65,
        "start_time": "2022-03-05T20:39:29.794Z"
      },
      {
        "duration": 51,
        "start_time": "2022-03-05T20:39:29.862Z"
      },
      {
        "duration": 58,
        "start_time": "2022-03-05T20:39:29.915Z"
      },
      {
        "duration": 327,
        "start_time": "2022-03-05T20:39:29.975Z"
      },
      {
        "duration": 16,
        "start_time": "2022-03-05T20:39:30.304Z"
      },
      {
        "duration": 20,
        "start_time": "2022-03-05T20:39:30.321Z"
      },
      {
        "duration": 7,
        "start_time": "2022-03-05T20:39:30.342Z"
      },
      {
        "duration": 12,
        "start_time": "2022-03-05T20:39:30.351Z"
      },
      {
        "duration": 24,
        "start_time": "2022-03-05T20:39:30.365Z"
      },
      {
        "duration": 13,
        "start_time": "2022-03-05T20:39:30.390Z"
      },
      {
        "duration": 8,
        "start_time": "2022-03-05T20:39:30.404Z"
      },
      {
        "duration": 22,
        "start_time": "2022-03-05T20:39:30.413Z"
      },
      {
        "duration": 11,
        "start_time": "2022-03-05T20:39:30.437Z"
      },
      {
        "duration": 9,
        "start_time": "2022-03-05T20:39:30.450Z"
      },
      {
        "duration": 9,
        "start_time": "2022-03-05T20:39:30.461Z"
      },
      {
        "duration": 18,
        "start_time": "2022-03-05T20:39:30.474Z"
      },
      {
        "duration": 12,
        "start_time": "2022-03-05T20:39:30.494Z"
      },
      {
        "duration": 9,
        "start_time": "2022-03-05T20:39:30.508Z"
      },
      {
        "duration": 133,
        "start_time": "2022-03-05T20:39:30.518Z"
      },
      {
        "duration": 12,
        "start_time": "2022-03-05T20:39:30.652Z"
      },
      {
        "duration": 15,
        "start_time": "2022-03-05T20:39:30.665Z"
      },
      {
        "duration": 23,
        "start_time": "2022-03-05T20:39:30.682Z"
      },
      {
        "duration": 222,
        "start_time": "2022-03-05T20:39:30.707Z"
      },
      {
        "duration": 4,
        "start_time": "2022-03-05T20:39:30.933Z"
      },
      {
        "duration": 30,
        "start_time": "2022-03-05T20:39:30.939Z"
      },
      {
        "duration": 12,
        "start_time": "2022-03-05T20:39:30.970Z"
      },
      {
        "duration": 228,
        "start_time": "2022-03-05T20:39:30.984Z"
      },
      {
        "duration": 43,
        "start_time": "2022-03-05T20:39:31.214Z"
      },
      {
        "duration": 10,
        "start_time": "2022-03-05T20:39:31.258Z"
      },
      {
        "duration": 16,
        "start_time": "2022-03-05T20:39:31.270Z"
      },
      {
        "duration": 21,
        "start_time": "2022-03-05T20:39:31.287Z"
      },
      {
        "duration": 27,
        "start_time": "2022-03-05T20:39:31.309Z"
      },
      {
        "duration": 20,
        "start_time": "2022-03-05T20:39:31.338Z"
      },
      {
        "duration": 14,
        "start_time": "2022-03-05T20:39:31.359Z"
      },
      {
        "duration": 33,
        "start_time": "2022-03-05T20:39:31.375Z"
      },
      {
        "duration": 59,
        "start_time": "2022-03-05T20:39:31.410Z"
      },
      {
        "duration": 118,
        "start_time": "2022-03-05T20:39:31.470Z"
      },
      {
        "duration": 6,
        "start_time": "2022-03-05T20:39:31.590Z"
      },
      {
        "duration": 194,
        "start_time": "2022-03-05T20:39:31.598Z"
      },
      {
        "duration": 3,
        "start_time": "2022-03-05T20:39:31.793Z"
      },
      {
        "duration": 102,
        "start_time": "2022-03-05T20:39:31.798Z"
      },
      {
        "duration": 3,
        "start_time": "2022-03-05T20:39:31.902Z"
      },
      {
        "duration": 8,
        "start_time": "2022-03-05T20:39:31.906Z"
      },
      {
        "duration": 20,
        "start_time": "2022-03-05T20:39:31.915Z"
      },
      {
        "duration": 7,
        "start_time": "2022-03-05T20:39:31.937Z"
      },
      {
        "duration": 9,
        "start_time": "2022-03-05T20:39:31.945Z"
      },
      {
        "duration": 7,
        "start_time": "2022-03-05T20:39:31.956Z"
      },
      {
        "duration": 308,
        "start_time": "2022-03-05T20:39:31.965Z"
      },
      {
        "duration": -107480,
        "start_time": "2022-03-05T20:41:19.755Z"
      },
      {
        "duration": -107484,
        "start_time": "2022-03-05T20:41:19.761Z"
      },
      {
        "duration": -107487,
        "start_time": "2022-03-05T20:41:19.765Z"
      },
      {
        "duration": -107492,
        "start_time": "2022-03-05T20:41:19.771Z"
      },
      {
        "duration": -107493,
        "start_time": "2022-03-05T20:41:19.774Z"
      },
      {
        "duration": -107495,
        "start_time": "2022-03-05T20:41:19.777Z"
      },
      {
        "duration": -107497,
        "start_time": "2022-03-05T20:41:19.780Z"
      },
      {
        "duration": 174,
        "start_time": "2022-03-05T20:41:39.761Z"
      },
      {
        "duration": 14,
        "start_time": "2022-03-05T20:42:30.994Z"
      },
      {
        "duration": 31,
        "start_time": "2022-03-05T20:44:22.316Z"
      },
      {
        "duration": 9,
        "start_time": "2022-03-05T20:44:32.325Z"
      },
      {
        "duration": 34,
        "start_time": "2022-03-05T20:45:16.645Z"
      },
      {
        "duration": 9,
        "start_time": "2022-03-05T20:45:17.404Z"
      },
      {
        "duration": 38,
        "start_time": "2022-03-05T20:45:27.149Z"
      },
      {
        "duration": 9,
        "start_time": "2022-03-05T20:45:28.062Z"
      },
      {
        "duration": 208,
        "start_time": "2022-03-05T20:45:42.999Z"
      },
      {
        "duration": 232,
        "start_time": "2022-03-05T20:45:54.720Z"
      },
      {
        "duration": 29,
        "start_time": "2022-03-05T20:46:39.847Z"
      },
      {
        "duration": 10,
        "start_time": "2022-03-05T20:46:40.555Z"
      },
      {
        "duration": 195,
        "start_time": "2022-03-05T20:47:05.746Z"
      },
      {
        "duration": 8,
        "start_time": "2022-03-05T20:47:39.857Z"
      },
      {
        "duration": 25,
        "start_time": "2022-03-05T20:47:59.748Z"
      },
      {
        "duration": 32,
        "start_time": "2022-03-05T20:48:52.445Z"
      },
      {
        "duration": 17,
        "start_time": "2022-03-05T20:48:59.316Z"
      },
      {
        "duration": 49,
        "start_time": "2022-03-05T21:04:16.146Z"
      },
      {
        "duration": 175,
        "start_time": "2022-03-05T21:04:40.546Z"
      },
      {
        "duration": 14,
        "start_time": "2022-03-05T21:04:56.752Z"
      },
      {
        "duration": 174,
        "start_time": "2022-03-05T21:05:34.312Z"
      },
      {
        "duration": 4463,
        "start_time": "2022-03-05T21:05:43.788Z"
      },
      {
        "duration": 15,
        "start_time": "2022-03-05T21:06:21.016Z"
      },
      {
        "duration": 5,
        "start_time": "2022-03-05T21:06:42.677Z"
      },
      {
        "duration": 17,
        "start_time": "2022-03-05T21:06:49.224Z"
      },
      {
        "duration": 4,
        "start_time": "2022-03-05T21:07:38.438Z"
      },
      {
        "duration": 189,
        "start_time": "2022-03-05T21:08:37.016Z"
      },
      {
        "duration": 220,
        "start_time": "2022-03-05T21:12:08.070Z"
      },
      {
        "duration": 298,
        "start_time": "2022-03-05T21:12:41.116Z"
      },
      {
        "duration": 246,
        "start_time": "2022-03-05T21:13:30.245Z"
      },
      {
        "duration": 244,
        "start_time": "2022-03-05T21:14:09.688Z"
      },
      {
        "duration": 357,
        "start_time": "2022-03-05T21:14:38.517Z"
      },
      {
        "duration": 493,
        "start_time": "2022-03-05T21:14:55.963Z"
      },
      {
        "duration": 527,
        "start_time": "2022-03-05T21:15:10.176Z"
      },
      {
        "duration": 622,
        "start_time": "2022-03-05T21:16:32.513Z"
      },
      {
        "duration": 504,
        "start_time": "2022-03-05T21:16:51.537Z"
      },
      {
        "duration": 508,
        "start_time": "2022-03-05T21:17:11.024Z"
      },
      {
        "duration": 8,
        "start_time": "2022-03-05T21:19:19.430Z"
      },
      {
        "duration": 10,
        "start_time": "2022-03-05T21:19:52.245Z"
      },
      {
        "duration": 12,
        "start_time": "2022-03-05T21:20:11.045Z"
      },
      {
        "duration": 11,
        "start_time": "2022-03-05T21:20:29.454Z"
      },
      {
        "duration": 9,
        "start_time": "2022-03-05T21:20:34.864Z"
      },
      {
        "duration": 11,
        "start_time": "2022-03-05T21:21:07.293Z"
      },
      {
        "duration": 10,
        "start_time": "2022-03-05T21:21:08.334Z"
      },
      {
        "duration": 4177,
        "start_time": "2022-03-05T21:25:17.642Z"
      },
      {
        "duration": 11,
        "start_time": "2022-03-05T21:25:37.587Z"
      },
      {
        "duration": 13,
        "start_time": "2022-03-05T21:49:50.794Z"
      },
      {
        "duration": 13,
        "start_time": "2022-03-05T21:52:04.799Z"
      },
      {
        "duration": 16,
        "start_time": "2022-03-05T21:53:03.617Z"
      },
      {
        "duration": 15,
        "start_time": "2022-03-05T21:54:19.010Z"
      },
      {
        "duration": 186,
        "start_time": "2022-03-05T22:01:43.579Z"
      },
      {
        "duration": 44,
        "start_time": "2022-03-05T22:01:50.517Z"
      },
      {
        "duration": 12,
        "start_time": "2022-03-05T22:01:57.175Z"
      },
      {
        "duration": 46,
        "start_time": "2022-03-05T22:02:28.102Z"
      },
      {
        "duration": 53,
        "start_time": "2022-03-05T22:03:17.166Z"
      },
      {
        "duration": 18,
        "start_time": "2022-03-05T22:03:23.385Z"
      },
      {
        "duration": 50,
        "start_time": "2022-03-05T22:04:07.873Z"
      },
      {
        "duration": 11,
        "start_time": "2022-03-05T22:04:08.467Z"
      },
      {
        "duration": 67,
        "start_time": "2022-03-05T22:04:12.221Z"
      },
      {
        "duration": 24,
        "start_time": "2022-03-05T22:04:13.035Z"
      },
      {
        "duration": 36,
        "start_time": "2022-03-05T22:05:29.656Z"
      },
      {
        "duration": 7,
        "start_time": "2022-03-05T22:06:25.087Z"
      },
      {
        "duration": 36,
        "start_time": "2022-03-05T22:06:33.263Z"
      },
      {
        "duration": 185,
        "start_time": "2022-03-05T22:07:04.296Z"
      },
      {
        "duration": 84,
        "start_time": "2022-03-05T22:07:14.763Z"
      },
      {
        "duration": 66,
        "start_time": "2022-03-05T22:10:04.713Z"
      },
      {
        "duration": 23,
        "start_time": "2022-03-05T22:10:09.535Z"
      },
      {
        "duration": 34,
        "start_time": "2022-03-05T22:10:30.820Z"
      },
      {
        "duration": 25,
        "start_time": "2022-03-05T22:13:23.967Z"
      },
      {
        "duration": 4457,
        "start_time": "2022-03-05T22:13:28.190Z"
      },
      {
        "duration": 10,
        "start_time": "2022-03-05T22:13:33.202Z"
      },
      {
        "duration": 10,
        "start_time": "2022-03-05T22:13:38.984Z"
      },
      {
        "duration": 55,
        "start_time": "2022-03-05T22:25:26.836Z"
      },
      {
        "duration": 15,
        "start_time": "2022-03-05T22:25:35.933Z"
      },
      {
        "duration": 14,
        "start_time": "2022-03-05T22:29:24.205Z"
      },
      {
        "duration": 13,
        "start_time": "2022-03-05T22:29:43.518Z"
      },
      {
        "duration": 70,
        "start_time": "2022-03-05T22:31:50.885Z"
      },
      {
        "duration": 504,
        "start_time": "2022-03-05T22:49:06.397Z"
      },
      {
        "duration": 253,
        "start_time": "2022-03-05T22:49:27.593Z"
      },
      {
        "duration": 403,
        "start_time": "2022-03-05T22:49:49.174Z"
      },
      {
        "duration": 11,
        "start_time": "2022-03-05T22:51:59.423Z"
      },
      {
        "duration": 13,
        "start_time": "2022-03-05T22:52:09.430Z"
      },
      {
        "duration": 52,
        "start_time": "2022-03-05T22:53:50.332Z"
      },
      {
        "duration": 55,
        "start_time": "2022-03-05T22:54:41.350Z"
      },
      {
        "duration": 12,
        "start_time": "2022-03-05T23:11:47.658Z"
      },
      {
        "duration": 16,
        "start_time": "2022-03-05T23:23:57.496Z"
      },
      {
        "duration": 6,
        "start_time": "2022-03-05T23:24:04.631Z"
      },
      {
        "duration": 184,
        "start_time": "2022-03-05T23:26:06.408Z"
      },
      {
        "duration": 17,
        "start_time": "2022-03-05T23:26:12.871Z"
      },
      {
        "duration": 6,
        "start_time": "2022-03-05T23:26:13.621Z"
      },
      {
        "duration": 177,
        "start_time": "2022-03-05T23:26:51.117Z"
      },
      {
        "duration": 40,
        "start_time": "2022-03-05T23:26:58.276Z"
      },
      {
        "duration": 11,
        "start_time": "2022-03-05T23:26:59.587Z"
      },
      {
        "duration": 8,
        "start_time": "2022-03-05T23:28:09.308Z"
      },
      {
        "duration": 6,
        "start_time": "2022-03-05T23:28:18.917Z"
      },
      {
        "duration": 9,
        "start_time": "2022-03-05T23:41:26.761Z"
      },
      {
        "duration": 10,
        "start_time": "2022-03-05T23:42:33.380Z"
      },
      {
        "duration": 16,
        "start_time": "2022-03-05T23:45:17.029Z"
      },
      {
        "duration": 7,
        "start_time": "2022-03-05T23:45:25.534Z"
      },
      {
        "duration": 67,
        "start_time": "2022-03-05T23:46:38.335Z"
      },
      {
        "duration": 92,
        "start_time": "2022-03-05T23:46:46.674Z"
      },
      {
        "duration": 7,
        "start_time": "2022-03-05T23:46:47.776Z"
      },
      {
        "duration": 19,
        "start_time": "2022-03-05T23:48:21.943Z"
      },
      {
        "duration": 6,
        "start_time": "2022-03-05T23:48:23.803Z"
      },
      {
        "duration": 15,
        "start_time": "2022-03-05T23:49:29.964Z"
      },
      {
        "duration": 14,
        "start_time": "2022-03-05T23:49:47.776Z"
      },
      {
        "duration": 17,
        "start_time": "2022-03-05T23:51:42.543Z"
      },
      {
        "duration": 164,
        "start_time": "2022-03-05T23:51:57.277Z"
      },
      {
        "duration": 179,
        "start_time": "2022-03-05T23:52:34.062Z"
      },
      {
        "duration": 18,
        "start_time": "2022-03-05T23:52:37.970Z"
      },
      {
        "duration": 19,
        "start_time": "2022-03-05T23:52:38.641Z"
      },
      {
        "duration": 18,
        "start_time": "2022-03-05T23:52:39.165Z"
      },
      {
        "duration": 18,
        "start_time": "2022-03-05T23:52:39.777Z"
      },
      {
        "duration": 16,
        "start_time": "2022-03-05T23:52:40.760Z"
      },
      {
        "duration": 7,
        "start_time": "2022-03-05T23:52:43.546Z"
      },
      {
        "duration": 11,
        "start_time": "2022-03-05T23:52:55.816Z"
      },
      {
        "duration": 18,
        "start_time": "2022-03-05T23:53:22.798Z"
      },
      {
        "duration": 5,
        "start_time": "2022-03-05T23:55:08.814Z"
      },
      {
        "duration": 10,
        "start_time": "2022-03-05T23:55:17.474Z"
      },
      {
        "duration": 8,
        "start_time": "2022-03-05T23:56:48.484Z"
      },
      {
        "duration": 19,
        "start_time": "2022-03-05T23:56:56.064Z"
      },
      {
        "duration": 1476,
        "start_time": "2022-03-06T08:07:05.220Z"
      },
      {
        "duration": 13,
        "start_time": "2022-03-06T08:07:07.547Z"
      },
      {
        "duration": 10579,
        "start_time": "2022-03-06T08:07:08.512Z"
      },
      {
        "duration": 7,
        "start_time": "2022-03-06T08:07:23.910Z"
      },
      {
        "duration": 39,
        "start_time": "2022-03-06T08:07:25.610Z"
      },
      {
        "duration": 47,
        "start_time": "2022-03-06T08:07:26.346Z"
      },
      {
        "duration": 31,
        "start_time": "2022-03-06T08:07:26.784Z"
      },
      {
        "duration": 70,
        "start_time": "2022-03-06T08:07:27.630Z"
      },
      {
        "duration": 84,
        "start_time": "2022-03-06T08:07:28.749Z"
      },
      {
        "duration": 67,
        "start_time": "2022-03-06T08:07:29.168Z"
      },
      {
        "duration": 670,
        "start_time": "2022-03-06T08:07:30.035Z"
      },
      {
        "duration": 19,
        "start_time": "2022-03-06T08:07:31.896Z"
      },
      {
        "duration": 15,
        "start_time": "2022-03-06T08:07:32.745Z"
      },
      {
        "duration": 6,
        "start_time": "2022-03-06T08:07:34.513Z"
      },
      {
        "duration": 10,
        "start_time": "2022-03-06T08:07:35.428Z"
      },
      {
        "duration": 14,
        "start_time": "2022-03-06T08:07:36.580Z"
      },
      {
        "duration": 20,
        "start_time": "2022-03-06T08:07:37.384Z"
      },
      {
        "duration": 6,
        "start_time": "2022-03-06T08:07:39.764Z"
      },
      {
        "duration": 9,
        "start_time": "2022-03-06T08:07:40.370Z"
      },
      {
        "duration": 6,
        "start_time": "2022-03-06T08:07:41.305Z"
      },
      {
        "duration": 9,
        "start_time": "2022-03-06T08:07:42.539Z"
      },
      {
        "duration": 7,
        "start_time": "2022-03-06T08:07:45.698Z"
      },
      {
        "duration": 18,
        "start_time": "2022-03-06T08:07:46.643Z"
      },
      {
        "duration": 14,
        "start_time": "2022-03-06T08:09:17.996Z"
      },
      {
        "duration": 15,
        "start_time": "2022-03-06T08:09:19.095Z"
      },
      {
        "duration": 162,
        "start_time": "2022-03-06T08:09:24.747Z"
      },
      {
        "duration": 17,
        "start_time": "2022-03-06T08:09:26.882Z"
      },
      {
        "duration": 12,
        "start_time": "2022-03-06T08:09:53.336Z"
      },
      {
        "duration": 11,
        "start_time": "2022-03-06T08:09:55.764Z"
      },
      {
        "duration": 382,
        "start_time": "2022-03-06T08:10:03.557Z"
      },
      {
        "duration": 488,
        "start_time": "2022-03-06T08:11:09.658Z"
      },
      {
        "duration": 4,
        "start_time": "2022-03-06T08:11:21.755Z"
      },
      {
        "duration": 6,
        "start_time": "2022-03-06T08:11:22.887Z"
      },
      {
        "duration": 357,
        "start_time": "2022-03-06T08:11:29.473Z"
      },
      {
        "duration": 6,
        "start_time": "2022-03-06T08:11:36.893Z"
      },
      {
        "duration": 19,
        "start_time": "2022-03-06T08:11:38.441Z"
      },
      {
        "duration": 16,
        "start_time": "2022-03-06T08:11:40.381Z"
      },
      {
        "duration": 443,
        "start_time": "2022-03-06T08:11:44.750Z"
      },
      {
        "duration": 49,
        "start_time": "2022-03-06T08:12:02.732Z"
      },
      {
        "duration": 16,
        "start_time": "2022-03-06T08:12:03.393Z"
      },
      {
        "duration": 19,
        "start_time": "2022-03-06T08:12:07.808Z"
      },
      {
        "duration": 20,
        "start_time": "2022-03-06T08:12:13.401Z"
      },
      {
        "duration": 11,
        "start_time": "2022-03-06T08:12:18.096Z"
      },
      {
        "duration": 29,
        "start_time": "2022-03-06T08:12:18.407Z"
      },
      {
        "duration": 19,
        "start_time": "2022-03-06T08:12:20.374Z"
      },
      {
        "duration": 49,
        "start_time": "2022-03-06T08:12:24.518Z"
      },
      {
        "duration": 122,
        "start_time": "2022-03-06T08:14:50.195Z"
      },
      {
        "duration": 64,
        "start_time": "2022-03-06T08:15:14.760Z"
      },
      {
        "duration": 146,
        "start_time": "2022-03-06T08:15:15.325Z"
      },
      {
        "duration": 10,
        "start_time": "2022-03-06T08:15:15.887Z"
      },
      {
        "duration": 305,
        "start_time": "2022-03-06T08:15:17.924Z"
      },
      {
        "duration": 5,
        "start_time": "2022-03-06T08:15:25.200Z"
      },
      {
        "duration": 134,
        "start_time": "2022-03-06T08:15:29.616Z"
      },
      {
        "duration": 22,
        "start_time": "2022-03-06T08:40:48.529Z"
      },
      {
        "duration": 43,
        "start_time": "2022-03-06T08:43:22.306Z"
      },
      {
        "duration": 44,
        "start_time": "2022-03-06T08:44:30.715Z"
      },
      {
        "duration": 77,
        "start_time": "2022-03-06T08:45:11.334Z"
      },
      {
        "duration": 33,
        "start_time": "2022-03-06T08:45:16.025Z"
      },
      {
        "duration": 358,
        "start_time": "2022-03-06T08:45:44.281Z"
      },
      {
        "duration": 49,
        "start_time": "2022-03-06T08:47:22.421Z"
      },
      {
        "duration": 157,
        "start_time": "2022-03-06T08:47:32.481Z"
      },
      {
        "duration": 13,
        "start_time": "2022-03-06T08:47:46.874Z"
      },
      {
        "duration": 6,
        "start_time": "2022-03-06T08:48:37.077Z"
      },
      {
        "duration": 10,
        "start_time": "2022-03-06T08:48:39.580Z"
      },
      {
        "duration": 10,
        "start_time": "2022-03-06T08:48:42.597Z"
      },
      {
        "duration": 11,
        "start_time": "2022-03-06T08:48:44.470Z"
      },
      {
        "duration": 2137,
        "start_time": "2022-03-06T08:49:36.096Z"
      },
      {
        "duration": 17,
        "start_time": "2022-03-06T08:49:38.236Z"
      },
      {
        "duration": 8132,
        "start_time": "2022-03-06T08:49:38.257Z"
      },
      {
        "duration": 8,
        "start_time": "2022-03-06T08:49:46.391Z"
      },
      {
        "duration": 40,
        "start_time": "2022-03-06T08:49:46.402Z"
      },
      {
        "duration": 50,
        "start_time": "2022-03-06T08:49:46.444Z"
      },
      {
        "duration": 47,
        "start_time": "2022-03-06T08:49:46.496Z"
      },
      {
        "duration": 88,
        "start_time": "2022-03-06T08:49:46.546Z"
      },
      {
        "duration": 101,
        "start_time": "2022-03-06T08:49:46.637Z"
      },
      {
        "duration": 93,
        "start_time": "2022-03-06T08:49:46.741Z"
      },
      {
        "duration": 733,
        "start_time": "2022-03-06T08:49:46.837Z"
      },
      {
        "duration": 20,
        "start_time": "2022-03-06T08:49:47.573Z"
      },
      {
        "duration": 38,
        "start_time": "2022-03-06T08:49:47.596Z"
      },
      {
        "duration": 5,
        "start_time": "2022-03-06T08:49:47.637Z"
      },
      {
        "duration": 10,
        "start_time": "2022-03-06T08:49:47.645Z"
      },
      {
        "duration": 18,
        "start_time": "2022-03-06T08:49:47.657Z"
      },
      {
        "duration": 58,
        "start_time": "2022-03-06T08:49:47.677Z"
      },
      {
        "duration": 7,
        "start_time": "2022-03-06T08:49:47.738Z"
      },
      {
        "duration": 9,
        "start_time": "2022-03-06T08:49:47.748Z"
      },
      {
        "duration": 8,
        "start_time": "2022-03-06T08:49:47.759Z"
      },
      {
        "duration": 10,
        "start_time": "2022-03-06T08:49:47.769Z"
      },
      {
        "duration": 9,
        "start_time": "2022-03-06T08:49:47.833Z"
      },
      {
        "duration": 18,
        "start_time": "2022-03-06T08:49:47.849Z"
      },
      {
        "duration": 14,
        "start_time": "2022-03-06T08:49:47.871Z"
      },
      {
        "duration": 47,
        "start_time": "2022-03-06T08:49:47.887Z"
      },
      {
        "duration": 183,
        "start_time": "2022-03-06T08:49:47.936Z"
      },
      {
        "duration": 22,
        "start_time": "2022-03-06T08:49:48.121Z"
      },
      {
        "duration": 12,
        "start_time": "2022-03-06T08:49:48.146Z"
      },
      {
        "duration": 10,
        "start_time": "2022-03-06T08:49:48.160Z"
      },
      {
        "duration": 393,
        "start_time": "2022-03-06T08:49:48.172Z"
      },
      {
        "duration": 6,
        "start_time": "2022-03-06T08:49:48.568Z"
      },
      {
        "duration": 22,
        "start_time": "2022-03-06T08:49:48.577Z"
      },
      {
        "duration": 41,
        "start_time": "2022-03-06T08:49:48.602Z"
      },
      {
        "duration": 399,
        "start_time": "2022-03-06T08:49:48.645Z"
      },
      {
        "duration": 47,
        "start_time": "2022-03-06T08:49:49.046Z"
      },
      {
        "duration": 38,
        "start_time": "2022-03-06T08:49:49.096Z"
      },
      {
        "duration": 19,
        "start_time": "2022-03-06T08:49:49.136Z"
      },
      {
        "duration": 21,
        "start_time": "2022-03-06T08:49:49.157Z"
      },
      {
        "duration": 11,
        "start_time": "2022-03-06T08:49:49.180Z"
      },
      {
        "duration": 63,
        "start_time": "2022-03-06T08:49:49.193Z"
      },
      {
        "duration": 19,
        "start_time": "2022-03-06T08:49:49.259Z"
      },
      {
        "duration": 70,
        "start_time": "2022-03-06T08:49:49.281Z"
      },
      {
        "duration": 63,
        "start_time": "2022-03-06T08:49:49.353Z"
      },
      {
        "duration": 157,
        "start_time": "2022-03-06T08:49:49.433Z"
      },
      {
        "duration": 11,
        "start_time": "2022-03-06T08:49:49.592Z"
      },
      {
        "duration": 330,
        "start_time": "2022-03-06T08:49:49.605Z"
      },
      {
        "duration": 5,
        "start_time": "2022-03-06T08:49:49.938Z"
      },
      {
        "duration": 51,
        "start_time": "2022-03-06T08:49:49.945Z"
      },
      {
        "duration": 72,
        "start_time": "2022-03-06T08:49:49.998Z"
      },
      {
        "duration": 73,
        "start_time": "2022-03-06T08:49:50.073Z"
      },
      {
        "duration": 262,
        "start_time": "2022-03-06T08:49:50.149Z"
      },
      {
        "duration": 106,
        "start_time": "2022-03-06T08:49:50.414Z"
      },
      {
        "duration": 15,
        "start_time": "2022-03-06T08:49:50.533Z"
      },
      {
        "duration": 13,
        "start_time": "2022-03-06T08:49:50.551Z"
      },
      {
        "duration": 15,
        "start_time": "2022-03-06T08:49:50.566Z"
      },
      {
        "duration": 121,
        "start_time": "2022-03-06T08:49:50.584Z"
      },
      {
        "duration": 24,
        "start_time": "2022-03-06T08:49:50.708Z"
      },
      {
        "duration": 11,
        "start_time": "2022-03-06T08:49:50.735Z"
      },
      {
        "duration": 21,
        "start_time": "2022-03-06T08:49:50.748Z"
      },
      {
        "duration": 25,
        "start_time": "2022-03-06T08:49:50.771Z"
      },
      {
        "duration": 54,
        "start_time": "2022-03-06T08:49:50.799Z"
      },
      {
        "duration": 24,
        "start_time": "2022-03-06T08:49:50.856Z"
      },
      {
        "duration": 56,
        "start_time": "2022-03-06T08:49:50.882Z"
      },
      {
        "duration": 18,
        "start_time": "2022-03-06T08:49:50.941Z"
      },
      {
        "duration": 12,
        "start_time": "2022-03-06T08:49:50.961Z"
      },
      {
        "duration": 61,
        "start_time": "2022-03-06T08:49:50.975Z"
      },
      {
        "duration": 116,
        "start_time": "2022-03-06T08:49:51.038Z"
      },
      {
        "duration": -111041,
        "start_time": "2022-03-06T08:51:42.198Z"
      },
      {
        "duration": -111043,
        "start_time": "2022-03-06T08:51:42.202Z"
      },
      {
        "duration": -111046,
        "start_time": "2022-03-06T08:51:42.206Z"
      },
      {
        "duration": -111048,
        "start_time": "2022-03-06T08:51:42.210Z"
      },
      {
        "duration": -111059,
        "start_time": "2022-03-06T08:51:42.222Z"
      },
      {
        "duration": -111060,
        "start_time": "2022-03-06T08:51:42.225Z"
      },
      {
        "duration": -111063,
        "start_time": "2022-03-06T08:51:42.229Z"
      },
      {
        "duration": -111065,
        "start_time": "2022-03-06T08:51:42.233Z"
      },
      {
        "duration": -111069,
        "start_time": "2022-03-06T08:51:42.238Z"
      },
      {
        "duration": -111073,
        "start_time": "2022-03-06T08:51:42.244Z"
      },
      {
        "duration": -111078,
        "start_time": "2022-03-06T08:51:42.250Z"
      },
      {
        "duration": -111082,
        "start_time": "2022-03-06T08:51:42.256Z"
      },
      {
        "duration": -111085,
        "start_time": "2022-03-06T08:51:42.260Z"
      },
      {
        "duration": -111087,
        "start_time": "2022-03-06T08:51:42.264Z"
      },
      {
        "duration": -111089,
        "start_time": "2022-03-06T08:51:42.267Z"
      },
      {
        "duration": -111090,
        "start_time": "2022-03-06T08:51:42.270Z"
      },
      {
        "duration": 31,
        "start_time": "2022-03-06T08:58:35.266Z"
      },
      {
        "duration": 52,
        "start_time": "2022-03-06T08:58:59.800Z"
      },
      {
        "duration": 58,
        "start_time": "2022-03-06T08:59:14.916Z"
      },
      {
        "duration": 55,
        "start_time": "2022-03-06T08:59:22.666Z"
      },
      {
        "duration": 90,
        "start_time": "2022-03-06T09:00:30.917Z"
      },
      {
        "duration": 11,
        "start_time": "2022-03-06T09:00:37.321Z"
      },
      {
        "duration": 27,
        "start_time": "2022-03-06T09:00:38.653Z"
      },
      {
        "duration": 117,
        "start_time": "2022-03-06T09:05:49.125Z"
      },
      {
        "duration": 1999,
        "start_time": "2022-03-06T09:06:23.817Z"
      },
      {
        "duration": 16,
        "start_time": "2022-03-06T09:06:25.819Z"
      },
      {
        "duration": 10989,
        "start_time": "2022-03-06T09:06:25.839Z"
      },
      {
        "duration": 8,
        "start_time": "2022-03-06T09:06:36.831Z"
      },
      {
        "duration": 43,
        "start_time": "2022-03-06T09:06:36.842Z"
      },
      {
        "duration": 107,
        "start_time": "2022-03-06T09:06:36.887Z"
      },
      {
        "duration": 55,
        "start_time": "2022-03-06T09:06:36.998Z"
      },
      {
        "duration": 86,
        "start_time": "2022-03-06T09:06:37.057Z"
      },
      {
        "duration": 96,
        "start_time": "2022-03-06T09:06:37.146Z"
      },
      {
        "duration": 67,
        "start_time": "2022-03-06T09:06:37.244Z"
      },
      {
        "duration": 689,
        "start_time": "2022-03-06T09:06:37.313Z"
      },
      {
        "duration": 34,
        "start_time": "2022-03-06T09:06:38.005Z"
      },
      {
        "duration": 22,
        "start_time": "2022-03-06T09:06:38.042Z"
      },
      {
        "duration": 9,
        "start_time": "2022-03-06T09:06:38.067Z"
      },
      {
        "duration": 12,
        "start_time": "2022-03-06T09:06:38.079Z"
      },
      {
        "duration": 49,
        "start_time": "2022-03-06T09:06:38.094Z"
      },
      {
        "duration": 17,
        "start_time": "2022-03-06T09:06:38.146Z"
      },
      {
        "duration": 6,
        "start_time": "2022-03-06T09:06:38.166Z"
      },
      {
        "duration": 9,
        "start_time": "2022-03-06T09:06:38.174Z"
      },
      {
        "duration": 49,
        "start_time": "2022-03-06T09:06:38.185Z"
      },
      {
        "duration": 10,
        "start_time": "2022-03-06T09:06:38.237Z"
      },
      {
        "duration": 11,
        "start_time": "2022-03-06T09:06:38.250Z"
      },
      {
        "duration": 19,
        "start_time": "2022-03-06T09:06:38.268Z"
      },
      {
        "duration": 46,
        "start_time": "2022-03-06T09:06:38.290Z"
      },
      {
        "duration": 13,
        "start_time": "2022-03-06T09:06:38.339Z"
      },
      {
        "duration": 182,
        "start_time": "2022-03-06T09:06:38.354Z"
      },
      {
        "duration": 21,
        "start_time": "2022-03-06T09:06:38.538Z"
      },
      {
        "duration": 13,
        "start_time": "2022-03-06T09:06:38.562Z"
      },
      {
        "duration": 54,
        "start_time": "2022-03-06T09:06:38.578Z"
      },
      {
        "duration": 378,
        "start_time": "2022-03-06T09:06:38.636Z"
      },
      {
        "duration": 16,
        "start_time": "2022-03-06T09:06:39.018Z"
      },
      {
        "duration": 20,
        "start_time": "2022-03-06T09:06:39.036Z"
      },
      {
        "duration": 15,
        "start_time": "2022-03-06T09:06:39.059Z"
      },
      {
        "duration": 417,
        "start_time": "2022-03-06T09:06:39.076Z"
      },
      {
        "duration": 58,
        "start_time": "2022-03-06T09:06:39.495Z"
      },
      {
        "duration": 15,
        "start_time": "2022-03-06T09:06:39.556Z"
      },
      {
        "duration": 19,
        "start_time": "2022-03-06T09:06:39.574Z"
      },
      {
        "duration": 42,
        "start_time": "2022-03-06T09:06:39.595Z"
      },
      {
        "duration": 11,
        "start_time": "2022-03-06T09:06:39.640Z"
      },
      {
        "duration": 46,
        "start_time": "2022-03-06T09:06:39.653Z"
      },
      {
        "duration": 33,
        "start_time": "2022-03-06T09:06:39.701Z"
      },
      {
        "duration": 48,
        "start_time": "2022-03-06T09:06:39.737Z"
      },
      {
        "duration": 78,
        "start_time": "2022-03-06T09:06:39.788Z"
      },
      {
        "duration": 156,
        "start_time": "2022-03-06T09:06:39.869Z"
      },
      {
        "duration": 11,
        "start_time": "2022-03-06T09:06:40.028Z"
      },
      {
        "duration": 321,
        "start_time": "2022-03-06T09:06:40.041Z"
      },
      {
        "duration": 5,
        "start_time": "2022-03-06T09:06:40.365Z"
      },
      {
        "duration": 61,
        "start_time": "2022-03-06T09:06:40.373Z"
      },
      {
        "duration": 55,
        "start_time": "2022-03-06T09:06:40.437Z"
      },
      {
        "duration": 60,
        "start_time": "2022-03-06T09:06:40.494Z"
      },
      {
        "duration": 171,
        "start_time": "2022-03-06T09:06:40.557Z"
      },
      {
        "duration": 78,
        "start_time": "2022-03-06T09:06:40.731Z"
      },
      {
        "duration": 21,
        "start_time": "2022-03-06T09:06:40.811Z"
      },
      {
        "duration": 12,
        "start_time": "2022-03-06T09:06:40.835Z"
      },
      {
        "duration": 13,
        "start_time": "2022-03-06T09:06:40.850Z"
      },
      {
        "duration": 88,
        "start_time": "2022-03-06T09:06:40.866Z"
      },
      {
        "duration": 12,
        "start_time": "2022-03-06T09:06:40.957Z"
      },
      {
        "duration": 10,
        "start_time": "2022-03-06T09:06:40.971Z"
      },
      {
        "duration": 121,
        "start_time": "2022-03-06T09:06:40.983Z"
      },
      {
        "duration": 11,
        "start_time": "2022-03-06T09:06:41.107Z"
      },
      {
        "duration": 40,
        "start_time": "2022-03-06T09:06:41.120Z"
      },
      {
        "duration": 3,
        "start_time": "2022-03-06T09:06:41.163Z"
      },
      {
        "duration": 4,
        "start_time": "2022-03-06T09:06:41.169Z"
      },
      {
        "duration": 108,
        "start_time": "2022-03-06T09:06:41.176Z"
      },
      {
        "duration": 8,
        "start_time": "2022-03-06T09:06:41.286Z"
      },
      {
        "duration": 17,
        "start_time": "2022-03-06T09:06:41.297Z"
      },
      {
        "duration": 32,
        "start_time": "2022-03-06T09:06:41.316Z"
      },
      {
        "duration": 20,
        "start_time": "2022-03-06T09:06:41.355Z"
      },
      {
        "duration": 906,
        "start_time": "2022-03-06T09:06:41.379Z"
      },
      {
        "duration": 466,
        "start_time": "2022-03-06T09:06:42.288Z"
      },
      {
        "duration": -111027,
        "start_time": "2022-03-06T09:08:33.783Z"
      },
      {
        "duration": -111040,
        "start_time": "2022-03-06T09:08:33.797Z"
      },
      {
        "duration": -111042,
        "start_time": "2022-03-06T09:08:33.801Z"
      },
      {
        "duration": -111044,
        "start_time": "2022-03-06T09:08:33.805Z"
      },
      {
        "duration": -111048,
        "start_time": "2022-03-06T09:08:33.811Z"
      },
      {
        "duration": -111052,
        "start_time": "2022-03-06T09:08:33.816Z"
      },
      {
        "duration": -111056,
        "start_time": "2022-03-06T09:08:33.821Z"
      },
      {
        "duration": -111057,
        "start_time": "2022-03-06T09:08:33.824Z"
      },
      {
        "duration": 4,
        "start_time": "2022-03-06T09:07:44.788Z"
      },
      {
        "duration": 1527,
        "start_time": "2022-03-06T09:07:48.626Z"
      },
      {
        "duration": 10,
        "start_time": "2022-03-06T09:07:50.156Z"
      },
      {
        "duration": 6510,
        "start_time": "2022-03-06T09:07:50.170Z"
      },
      {
        "duration": 7,
        "start_time": "2022-03-06T09:07:56.683Z"
      },
      {
        "duration": 39,
        "start_time": "2022-03-06T09:07:56.692Z"
      },
      {
        "duration": 48,
        "start_time": "2022-03-06T09:07:56.734Z"
      },
      {
        "duration": 50,
        "start_time": "2022-03-06T09:07:56.784Z"
      },
      {
        "duration": 69,
        "start_time": "2022-03-06T09:07:56.838Z"
      },
      {
        "duration": 109,
        "start_time": "2022-03-06T09:07:56.910Z"
      },
      {
        "duration": 75,
        "start_time": "2022-03-06T09:07:57.021Z"
      },
      {
        "duration": 654,
        "start_time": "2022-03-06T09:07:57.099Z"
      },
      {
        "duration": 19,
        "start_time": "2022-03-06T09:07:57.756Z"
      },
      {
        "duration": 15,
        "start_time": "2022-03-06T09:07:57.778Z"
      },
      {
        "duration": 38,
        "start_time": "2022-03-06T09:07:57.795Z"
      },
      {
        "duration": 11,
        "start_time": "2022-03-06T09:07:57.836Z"
      },
      {
        "duration": 17,
        "start_time": "2022-03-06T09:07:57.850Z"
      },
      {
        "duration": 19,
        "start_time": "2022-03-06T09:07:57.870Z"
      },
      {
        "duration": 7,
        "start_time": "2022-03-06T09:07:57.934Z"
      },
      {
        "duration": 10,
        "start_time": "2022-03-06T09:07:57.944Z"
      },
      {
        "duration": 7,
        "start_time": "2022-03-06T09:07:57.957Z"
      },
      {
        "duration": 12,
        "start_time": "2022-03-06T09:07:57.967Z"
      },
      {
        "duration": 51,
        "start_time": "2022-03-06T09:07:57.983Z"
      },
      {
        "duration": 17,
        "start_time": "2022-03-06T09:07:58.041Z"
      },
      {
        "duration": 14,
        "start_time": "2022-03-06T09:07:58.064Z"
      },
      {
        "duration": 54,
        "start_time": "2022-03-06T09:07:58.080Z"
      },
      {
        "duration": 278,
        "start_time": "2022-03-06T09:07:58.137Z"
      },
      {
        "duration": 28,
        "start_time": "2022-03-06T09:07:58.418Z"
      },
      {
        "duration": 17,
        "start_time": "2022-03-06T09:07:58.449Z"
      },
      {
        "duration": 14,
        "start_time": "2022-03-06T09:07:58.469Z"
      },
      {
        "duration": 552,
        "start_time": "2022-03-06T09:07:58.486Z"
      },
      {
        "duration": 7,
        "start_time": "2022-03-06T09:07:59.040Z"
      },
      {
        "duration": 29,
        "start_time": "2022-03-06T09:07:59.050Z"
      },
      {
        "duration": 15,
        "start_time": "2022-03-06T09:07:59.082Z"
      },
      {
        "duration": 407,
        "start_time": "2022-03-06T09:07:59.100Z"
      },
      {
        "duration": 58,
        "start_time": "2022-03-06T09:07:59.510Z"
      },
      {
        "duration": 18,
        "start_time": "2022-03-06T09:07:59.570Z"
      },
      {
        "duration": 44,
        "start_time": "2022-03-06T09:07:59.590Z"
      },
      {
        "duration": 19,
        "start_time": "2022-03-06T09:07:59.636Z"
      },
      {
        "duration": 16,
        "start_time": "2022-03-06T09:07:59.658Z"
      },
      {
        "duration": 63,
        "start_time": "2022-03-06T09:07:59.676Z"
      },
      {
        "duration": 23,
        "start_time": "2022-03-06T09:07:59.742Z"
      },
      {
        "duration": 95,
        "start_time": "2022-03-06T09:07:59.769Z"
      },
      {
        "duration": 89,
        "start_time": "2022-03-06T09:07:59.867Z"
      },
      {
        "duration": 223,
        "start_time": "2022-03-06T09:07:59.958Z"
      },
      {
        "duration": 10,
        "start_time": "2022-03-06T09:08:00.183Z"
      },
      {
        "duration": 336,
        "start_time": "2022-03-06T09:08:00.196Z"
      },
      {
        "duration": 6,
        "start_time": "2022-03-06T09:08:00.535Z"
      },
      {
        "duration": 61,
        "start_time": "2022-03-06T09:08:00.543Z"
      },
      {
        "duration": 67,
        "start_time": "2022-03-06T09:08:00.606Z"
      },
      {
        "duration": 62,
        "start_time": "2022-03-06T09:08:00.675Z"
      },
      {
        "duration": 175,
        "start_time": "2022-03-06T09:08:00.740Z"
      },
      {
        "duration": 89,
        "start_time": "2022-03-06T09:08:00.918Z"
      },
      {
        "duration": 26,
        "start_time": "2022-03-06T09:08:01.009Z"
      },
      {
        "duration": 13,
        "start_time": "2022-03-06T09:08:01.038Z"
      },
      {
        "duration": 14,
        "start_time": "2022-03-06T09:08:01.053Z"
      },
      {
        "duration": 80,
        "start_time": "2022-03-06T09:08:01.069Z"
      },
      {
        "duration": 11,
        "start_time": "2022-03-06T09:08:01.152Z"
      },
      {
        "duration": 22,
        "start_time": "2022-03-06T09:08:01.165Z"
      },
      {
        "duration": 107,
        "start_time": "2022-03-06T09:08:01.190Z"
      },
      {
        "duration": 12,
        "start_time": "2022-03-06T09:08:01.299Z"
      },
      {
        "duration": 45,
        "start_time": "2022-03-06T09:08:01.313Z"
      },
      {
        "duration": 3,
        "start_time": "2022-03-06T09:08:01.361Z"
      },
      {
        "duration": 10,
        "start_time": "2022-03-06T09:08:01.366Z"
      },
      {
        "duration": 107,
        "start_time": "2022-03-06T09:08:01.378Z"
      },
      {
        "duration": 6,
        "start_time": "2022-03-06T09:08:01.487Z"
      },
      {
        "duration": 20,
        "start_time": "2022-03-06T09:08:01.496Z"
      },
      {
        "duration": 24,
        "start_time": "2022-03-06T09:08:01.518Z"
      },
      {
        "duration": 14,
        "start_time": "2022-03-06T09:08:01.550Z"
      },
      {
        "duration": 1008,
        "start_time": "2022-03-06T09:08:01.567Z"
      },
      {
        "duration": 15,
        "start_time": "2022-03-06T09:08:02.578Z"
      },
      {
        "duration": 83,
        "start_time": "2022-03-06T09:08:02.595Z"
      },
      {
        "duration": 83,
        "start_time": "2022-03-06T09:08:02.680Z"
      },
      {
        "duration": 121,
        "start_time": "2022-03-06T09:08:02.765Z"
      },
      {
        "duration": 83,
        "start_time": "2022-03-06T09:08:02.889Z"
      },
      {
        "duration": 17,
        "start_time": "2022-03-06T09:08:02.974Z"
      },
      {
        "duration": 15,
        "start_time": "2022-03-06T09:08:02.994Z"
      },
      {
        "duration": 583,
        "start_time": "2022-03-06T09:08:03.033Z"
      },
      {
        "duration": 27,
        "start_time": "2022-03-06T09:08:03.620Z"
      },
      {
        "duration": 1511,
        "start_time": "2022-03-06T09:13:02.422Z"
      },
      {
        "duration": 12,
        "start_time": "2022-03-06T09:13:03.936Z"
      },
      {
        "duration": 6191,
        "start_time": "2022-03-06T09:13:03.952Z"
      },
      {
        "duration": 8,
        "start_time": "2022-03-06T09:13:10.146Z"
      },
      {
        "duration": 40,
        "start_time": "2022-03-06T09:13:10.156Z"
      },
      {
        "duration": 59,
        "start_time": "2022-03-06T09:13:10.199Z"
      },
      {
        "duration": 33,
        "start_time": "2022-03-06T09:13:10.260Z"
      },
      {
        "duration": 90,
        "start_time": "2022-03-06T09:13:10.297Z"
      },
      {
        "duration": 90,
        "start_time": "2022-03-06T09:13:10.390Z"
      },
      {
        "duration": 70,
        "start_time": "2022-03-06T09:13:10.482Z"
      },
      {
        "duration": 634,
        "start_time": "2022-03-06T09:13:10.555Z"
      },
      {
        "duration": 18,
        "start_time": "2022-03-06T09:13:11.192Z"
      },
      {
        "duration": 33,
        "start_time": "2022-03-06T09:13:11.213Z"
      },
      {
        "duration": 7,
        "start_time": "2022-03-06T09:13:11.249Z"
      },
      {
        "duration": 13,
        "start_time": "2022-03-06T09:13:11.259Z"
      },
      {
        "duration": 18,
        "start_time": "2022-03-06T09:13:11.275Z"
      },
      {
        "duration": 19,
        "start_time": "2022-03-06T09:13:11.333Z"
      },
      {
        "duration": 7,
        "start_time": "2022-03-06T09:13:11.355Z"
      },
      {
        "duration": 16,
        "start_time": "2022-03-06T09:13:11.365Z"
      },
      {
        "duration": 9,
        "start_time": "2022-03-06T09:13:11.383Z"
      },
      {
        "duration": 45,
        "start_time": "2022-03-06T09:13:11.394Z"
      },
      {
        "duration": 8,
        "start_time": "2022-03-06T09:13:11.441Z"
      },
      {
        "duration": 18,
        "start_time": "2022-03-06T09:13:11.455Z"
      },
      {
        "duration": 14,
        "start_time": "2022-03-06T09:13:11.477Z"
      },
      {
        "duration": 14,
        "start_time": "2022-03-06T09:13:11.532Z"
      },
      {
        "duration": 179,
        "start_time": "2022-03-06T09:13:11.549Z"
      },
      {
        "duration": 18,
        "start_time": "2022-03-06T09:13:11.732Z"
      },
      {
        "duration": 12,
        "start_time": "2022-03-06T09:13:11.753Z"
      },
      {
        "duration": 14,
        "start_time": "2022-03-06T09:13:11.768Z"
      },
      {
        "duration": 400,
        "start_time": "2022-03-06T09:13:11.784Z"
      },
      {
        "duration": 6,
        "start_time": "2022-03-06T09:13:12.186Z"
      },
      {
        "duration": 38,
        "start_time": "2022-03-06T09:13:12.194Z"
      },
      {
        "duration": 15,
        "start_time": "2022-03-06T09:13:12.235Z"
      },
      {
        "duration": 392,
        "start_time": "2022-03-06T09:13:12.252Z"
      },
      {
        "duration": 45,
        "start_time": "2022-03-06T09:13:12.647Z"
      },
      {
        "duration": 16,
        "start_time": "2022-03-06T09:13:12.694Z"
      },
      {
        "duration": 19,
        "start_time": "2022-03-06T09:13:12.733Z"
      },
      {
        "duration": 20,
        "start_time": "2022-03-06T09:13:12.755Z"
      },
      {
        "duration": 14,
        "start_time": "2022-03-06T09:13:12.778Z"
      },
      {
        "duration": 62,
        "start_time": "2022-03-06T09:13:12.795Z"
      },
      {
        "duration": 21,
        "start_time": "2022-03-06T09:13:12.860Z"
      },
      {
        "duration": 79,
        "start_time": "2022-03-06T09:13:12.884Z"
      },
      {
        "duration": 84,
        "start_time": "2022-03-06T09:13:12.966Z"
      },
      {
        "duration": 156,
        "start_time": "2022-03-06T09:13:13.053Z"
      },
      {
        "duration": 10,
        "start_time": "2022-03-06T09:13:13.212Z"
      },
      {
        "duration": 325,
        "start_time": "2022-03-06T09:13:13.232Z"
      },
      {
        "duration": 5,
        "start_time": "2022-03-06T09:13:13.559Z"
      },
      {
        "duration": 42,
        "start_time": "2022-03-06T09:13:13.567Z"
      },
      {
        "duration": 56,
        "start_time": "2022-03-06T09:13:13.633Z"
      },
      {
        "duration": 59,
        "start_time": "2022-03-06T09:13:13.692Z"
      },
      {
        "duration": 158,
        "start_time": "2022-03-06T09:13:13.754Z"
      },
      {
        "duration": 84,
        "start_time": "2022-03-06T09:13:13.915Z"
      },
      {
        "duration": 11,
        "start_time": "2022-03-06T09:13:14.001Z"
      },
      {
        "duration": 24,
        "start_time": "2022-03-06T09:13:14.015Z"
      },
      {
        "duration": 12,
        "start_time": "2022-03-06T09:13:14.041Z"
      },
      {
        "duration": 77,
        "start_time": "2022-03-06T09:13:14.055Z"
      },
      {
        "duration": 10,
        "start_time": "2022-03-06T09:13:14.135Z"
      },
      {
        "duration": 8,
        "start_time": "2022-03-06T09:13:14.147Z"
      },
      {
        "duration": 107,
        "start_time": "2022-03-06T09:13:14.157Z"
      },
      {
        "duration": 10,
        "start_time": "2022-03-06T09:13:14.267Z"
      },
      {
        "duration": 53,
        "start_time": "2022-03-06T09:13:14.280Z"
      },
      {
        "duration": 69,
        "start_time": "2022-03-06T09:13:14.335Z"
      },
      {
        "duration": 34,
        "start_time": "2022-03-06T09:13:14.407Z"
      },
      {
        "duration": 14,
        "start_time": "2022-03-06T09:13:14.443Z"
      },
      {
        "duration": 910,
        "start_time": "2022-03-06T09:13:14.459Z"
      },
      {
        "duration": 16,
        "start_time": "2022-03-06T09:13:15.372Z"
      },
      {
        "duration": 83,
        "start_time": "2022-03-06T09:13:15.390Z"
      },
      {
        "duration": 86,
        "start_time": "2022-03-06T09:13:15.480Z"
      },
      {
        "duration": 119,
        "start_time": "2022-03-06T09:13:15.569Z"
      },
      {
        "duration": 84,
        "start_time": "2022-03-06T09:13:15.691Z"
      },
      {
        "duration": 17,
        "start_time": "2022-03-06T09:13:15.778Z"
      },
      {
        "duration": 41,
        "start_time": "2022-03-06T09:13:15.798Z"
      },
      {
        "duration": 514,
        "start_time": "2022-03-06T09:13:15.842Z"
      },
      {
        "duration": 17,
        "start_time": "2022-03-06T09:13:16.360Z"
      },
      {
        "duration": 889,
        "start_time": "2022-03-06T09:15:16.402Z"
      },
      {
        "duration": 16,
        "start_time": "2022-03-06T09:21:36.589Z"
      },
      {
        "duration": 17,
        "start_time": "2022-03-06T09:24:14.531Z"
      },
      {
        "duration": 17,
        "start_time": "2022-03-06T09:24:28.294Z"
      },
      {
        "duration": 121,
        "start_time": "2022-03-06T09:26:50.289Z"
      },
      {
        "duration": 15,
        "start_time": "2022-03-06T10:31:24.808Z"
      },
      {
        "duration": 16,
        "start_time": "2022-03-06T10:32:32.096Z"
      },
      {
        "duration": 124,
        "start_time": "2022-03-06T10:33:42.594Z"
      },
      {
        "duration": 16,
        "start_time": "2022-03-06T10:34:25.150Z"
      },
      {
        "duration": 3,
        "start_time": "2022-03-06T11:10:35.422Z"
      },
      {
        "duration": 466,
        "start_time": "2022-03-06T12:00:11.285Z"
      },
      {
        "duration": 242,
        "start_time": "2022-03-06T12:34:34.591Z"
      },
      {
        "duration": 294,
        "start_time": "2022-03-07T14:05:28.171Z"
      },
      {
        "duration": 1406,
        "start_time": "2022-03-07T14:05:39.405Z"
      },
      {
        "duration": 9,
        "start_time": "2022-03-07T14:05:40.814Z"
      },
      {
        "duration": 6943,
        "start_time": "2022-03-07T14:05:40.826Z"
      },
      {
        "duration": 9,
        "start_time": "2022-03-07T14:05:47.772Z"
      },
      {
        "duration": 41,
        "start_time": "2022-03-07T14:05:47.784Z"
      },
      {
        "duration": 77,
        "start_time": "2022-03-07T14:05:47.828Z"
      },
      {
        "duration": 46,
        "start_time": "2022-03-07T14:05:47.907Z"
      },
      {
        "duration": 71,
        "start_time": "2022-03-07T14:05:47.957Z"
      },
      {
        "duration": 101,
        "start_time": "2022-03-07T14:05:48.051Z"
      },
      {
        "duration": 71,
        "start_time": "2022-03-07T14:05:48.155Z"
      },
      {
        "duration": 599,
        "start_time": "2022-03-07T14:05:48.228Z"
      },
      {
        "duration": 29,
        "start_time": "2022-03-07T14:05:48.830Z"
      },
      {
        "duration": 18,
        "start_time": "2022-03-07T14:05:48.862Z"
      },
      {
        "duration": 6,
        "start_time": "2022-03-07T14:05:48.882Z"
      },
      {
        "duration": 12,
        "start_time": "2022-03-07T14:05:48.890Z"
      },
      {
        "duration": 53,
        "start_time": "2022-03-07T14:05:48.904Z"
      },
      {
        "duration": 20,
        "start_time": "2022-03-07T14:05:48.960Z"
      },
      {
        "duration": 7,
        "start_time": "2022-03-07T14:05:48.982Z"
      },
      {
        "duration": 11,
        "start_time": "2022-03-07T14:05:48.991Z"
      },
      {
        "duration": 5,
        "start_time": "2022-03-07T14:05:49.004Z"
      },
      {
        "duration": 44,
        "start_time": "2022-03-07T14:05:49.011Z"
      },
      {
        "duration": 11,
        "start_time": "2022-03-07T14:05:49.057Z"
      },
      {
        "duration": 18,
        "start_time": "2022-03-07T14:05:49.074Z"
      },
      {
        "duration": 17,
        "start_time": "2022-03-07T14:05:49.096Z"
      },
      {
        "duration": 47,
        "start_time": "2022-03-07T14:05:49.115Z"
      },
      {
        "duration": 186,
        "start_time": "2022-03-07T14:05:49.165Z"
      },
      {
        "duration": 22,
        "start_time": "2022-03-07T14:05:49.354Z"
      },
      {
        "duration": 12,
        "start_time": "2022-03-07T14:05:49.379Z"
      },
      {
        "duration": 10,
        "start_time": "2022-03-07T14:05:49.393Z"
      },
      {
        "duration": 401,
        "start_time": "2022-03-07T14:05:49.406Z"
      },
      {
        "duration": 6,
        "start_time": "2022-03-07T14:05:49.810Z"
      },
      {
        "duration": 45,
        "start_time": "2022-03-07T14:05:49.818Z"
      },
      {
        "duration": 15,
        "start_time": "2022-03-07T14:05:49.865Z"
      },
      {
        "duration": 405,
        "start_time": "2022-03-07T14:05:49.882Z"
      },
      {
        "duration": 62,
        "start_time": "2022-03-07T14:05:50.289Z"
      },
      {
        "duration": 18,
        "start_time": "2022-03-07T14:05:50.354Z"
      },
      {
        "duration": 31,
        "start_time": "2022-03-07T14:05:50.375Z"
      },
      {
        "duration": 23,
        "start_time": "2022-03-07T14:05:50.409Z"
      },
      {
        "duration": 11,
        "start_time": "2022-03-07T14:05:50.452Z"
      },
      {
        "duration": 35,
        "start_time": "2022-03-07T14:05:50.465Z"
      },
      {
        "duration": 19,
        "start_time": "2022-03-07T14:05:50.503Z"
      },
      {
        "duration": 98,
        "start_time": "2022-03-07T14:05:50.525Z"
      },
      {
        "duration": 104,
        "start_time": "2022-03-07T14:05:50.627Z"
      },
      {
        "duration": 178,
        "start_time": "2022-03-07T14:05:50.734Z"
      },
      {
        "duration": 10,
        "start_time": "2022-03-07T14:05:50.914Z"
      },
      {
        "duration": 314,
        "start_time": "2022-03-07T14:05:50.927Z"
      },
      {
        "duration": 10,
        "start_time": "2022-03-07T14:05:51.243Z"
      },
      {
        "duration": 45,
        "start_time": "2022-03-07T14:05:51.256Z"
      },
      {
        "duration": 76,
        "start_time": "2022-03-07T14:05:51.303Z"
      },
      {
        "duration": 42,
        "start_time": "2022-03-07T14:05:51.382Z"
      },
      {
        "duration": 172,
        "start_time": "2022-03-07T14:05:51.426Z"
      },
      {
        "duration": 81,
        "start_time": "2022-03-07T14:05:51.600Z"
      },
      {
        "duration": 11,
        "start_time": "2022-03-07T14:05:51.684Z"
      },
      {
        "duration": 11,
        "start_time": "2022-03-07T14:05:51.697Z"
      },
      {
        "duration": 13,
        "start_time": "2022-03-07T14:05:51.710Z"
      },
      {
        "duration": 83,
        "start_time": "2022-03-07T14:05:51.725Z"
      },
      {
        "duration": 12,
        "start_time": "2022-03-07T14:05:51.811Z"
      },
      {
        "duration": 32,
        "start_time": "2022-03-07T14:05:51.826Z"
      },
      {
        "duration": 103,
        "start_time": "2022-03-07T14:05:51.862Z"
      },
      {
        "duration": 12,
        "start_time": "2022-03-07T14:05:51.967Z"
      },
      {
        "duration": 33,
        "start_time": "2022-03-07T14:05:51.981Z"
      },
      {
        "duration": 49,
        "start_time": "2022-03-07T14:05:52.016Z"
      },
      {
        "duration": 23,
        "start_time": "2022-03-07T14:05:52.068Z"
      },
      {
        "duration": 100,
        "start_time": "2022-03-07T14:05:52.094Z"
      },
      {
        "duration": 15,
        "start_time": "2022-03-07T14:05:52.196Z"
      },
      {
        "duration": 14,
        "start_time": "2022-03-07T14:05:52.214Z"
      },
      {
        "duration": 911,
        "start_time": "2022-03-07T14:05:52.250Z"
      },
      {
        "duration": 396,
        "start_time": "2022-03-07T14:05:53.171Z"
      },
      {
        "duration": -113152,
        "start_time": "2022-03-07T14:07:46.723Z"
      },
      {
        "duration": -113153,
        "start_time": "2022-03-07T14:07:46.726Z"
      },
      {
        "duration": -113155,
        "start_time": "2022-03-07T14:07:46.731Z"
      },
      {
        "duration": -113158,
        "start_time": "2022-03-07T14:07:46.736Z"
      },
      {
        "duration": -113159,
        "start_time": "2022-03-07T14:07:46.739Z"
      },
      {
        "duration": -113159,
        "start_time": "2022-03-07T14:07:46.742Z"
      },
      {
        "duration": -113160,
        "start_time": "2022-03-07T14:07:46.745Z"
      },
      {
        "duration": -113163,
        "start_time": "2022-03-07T14:07:46.750Z"
      },
      {
        "duration": -113164,
        "start_time": "2022-03-07T14:07:46.753Z"
      },
      {
        "duration": -113164,
        "start_time": "2022-03-07T14:07:46.756Z"
      },
      {
        "duration": 15,
        "start_time": "2022-03-07T14:06:50.298Z"
      },
      {
        "duration": 18,
        "start_time": "2022-03-07T14:06:51.753Z"
      },
      {
        "duration": 65,
        "start_time": "2022-03-07T14:06:52.499Z"
      },
      {
        "duration": 75,
        "start_time": "2022-03-07T14:06:52.685Z"
      },
      {
        "duration": 112,
        "start_time": "2022-03-07T14:06:53.040Z"
      },
      {
        "duration": 72,
        "start_time": "2022-03-07T14:06:53.211Z"
      },
      {
        "duration": 16,
        "start_time": "2022-03-07T14:06:53.379Z"
      },
      {
        "duration": 14,
        "start_time": "2022-03-07T14:06:53.551Z"
      },
      {
        "duration": 753,
        "start_time": "2022-03-07T14:06:53.933Z"
      },
      {
        "duration": 20,
        "start_time": "2022-03-07T14:06:55.398Z"
      },
      {
        "duration": 18,
        "start_time": "2022-03-07T14:06:55.421Z"
      },
      {
        "duration": 24,
        "start_time": "2022-03-07T14:07:49.303Z"
      },
      {
        "duration": 7,
        "start_time": "2022-03-07T14:07:55.256Z"
      },
      {
        "duration": 45,
        "start_time": "2022-03-07T14:08:15.845Z"
      },
      {
        "duration": 10,
        "start_time": "2022-03-07T14:08:16.389Z"
      },
      {
        "duration": 30,
        "start_time": "2022-03-07T14:08:45.626Z"
      },
      {
        "duration": 200,
        "start_time": "2022-03-07T14:13:16.461Z"
      },
      {
        "duration": 11,
        "start_time": "2022-03-07T14:15:38.048Z"
      },
      {
        "duration": 84,
        "start_time": "2022-03-07T14:16:47.289Z"
      },
      {
        "duration": 34,
        "start_time": "2022-03-07T14:16:53.524Z"
      },
      {
        "duration": 5,
        "start_time": "2022-03-07T15:04:29.413Z"
      },
      {
        "duration": 7,
        "start_time": "2022-03-07T15:04:29.903Z"
      },
      {
        "duration": 7891,
        "start_time": "2022-03-07T15:04:30.299Z"
      },
      {
        "duration": 6,
        "start_time": "2022-03-07T15:04:38.192Z"
      },
      {
        "duration": 39,
        "start_time": "2022-03-07T15:04:38.201Z"
      },
      {
        "duration": 45,
        "start_time": "2022-03-07T15:04:38.243Z"
      },
      {
        "duration": 32,
        "start_time": "2022-03-07T15:04:38.291Z"
      },
      {
        "duration": 72,
        "start_time": "2022-03-07T15:04:38.350Z"
      },
      {
        "duration": 102,
        "start_time": "2022-03-07T15:04:38.425Z"
      },
      {
        "duration": 83,
        "start_time": "2022-03-07T15:04:38.530Z"
      },
      {
        "duration": 55,
        "start_time": "2022-03-07T15:04:38.615Z"
      },
      {
        "duration": 17,
        "start_time": "2022-03-07T15:04:38.672Z"
      },
      {
        "duration": 14,
        "start_time": "2022-03-07T15:04:38.691Z"
      },
      {
        "duration": 45,
        "start_time": "2022-03-07T15:04:38.708Z"
      },
      {
        "duration": 9,
        "start_time": "2022-03-07T15:04:38.756Z"
      },
      {
        "duration": 16,
        "start_time": "2022-03-07T15:04:38.768Z"
      },
      {
        "duration": 18,
        "start_time": "2022-03-07T15:04:38.787Z"
      },
      {
        "duration": 6,
        "start_time": "2022-03-07T15:04:39.896Z"
      },
      {
        "duration": 8,
        "start_time": "2022-03-07T15:04:41.381Z"
      },
      {
        "duration": 5,
        "start_time": "2022-03-07T15:04:41.759Z"
      },
      {
        "duration": 9,
        "start_time": "2022-03-07T15:04:41.947Z"
      },
      {
        "duration": 8,
        "start_time": "2022-03-07T15:04:42.819Z"
      },
      {
        "duration": 18,
        "start_time": "2022-03-07T15:04:43.585Z"
      },
      {
        "duration": 61,
        "start_time": "2022-03-07T15:05:16.529Z"
      },
      {
        "duration": 245,
        "start_time": "2022-03-07T15:05:52.204Z"
      },
      {
        "duration": 279,
        "start_time": "2022-03-07T15:06:21.702Z"
      },
      {
        "duration": 231,
        "start_time": "2022-03-07T15:06:50.905Z"
      },
      {
        "duration": 11466,
        "start_time": "2022-03-07T15:06:58.235Z"
      },
      {
        "duration": 1534,
        "start_time": "2022-03-07T15:59:05.802Z"
      },
      {
        "duration": 13,
        "start_time": "2022-03-07T15:59:07.339Z"
      },
      {
        "duration": 8966,
        "start_time": "2022-03-07T15:59:07.355Z"
      },
      {
        "duration": 7,
        "start_time": "2022-03-07T15:59:16.324Z"
      },
      {
        "duration": 42,
        "start_time": "2022-03-07T15:59:16.334Z"
      },
      {
        "duration": 49,
        "start_time": "2022-03-07T15:59:16.378Z"
      },
      {
        "duration": 55,
        "start_time": "2022-03-07T15:59:16.430Z"
      },
      {
        "duration": 84,
        "start_time": "2022-03-07T15:59:16.489Z"
      },
      {
        "duration": 95,
        "start_time": "2022-03-07T15:59:16.576Z"
      },
      {
        "duration": 79,
        "start_time": "2022-03-07T15:59:16.673Z"
      },
      {
        "duration": 553,
        "start_time": "2022-03-07T15:59:16.755Z"
      },
      {
        "duration": 44,
        "start_time": "2022-03-07T15:59:17.312Z"
      },
      {
        "duration": 17,
        "start_time": "2022-03-07T15:59:17.359Z"
      },
      {
        "duration": 8,
        "start_time": "2022-03-07T15:59:17.379Z"
      },
      {
        "duration": 62,
        "start_time": "2022-03-07T15:59:17.389Z"
      },
      {
        "duration": 17,
        "start_time": "2022-03-07T15:59:17.454Z"
      },
      {
        "duration": 19,
        "start_time": "2022-03-07T15:59:17.474Z"
      },
      {
        "duration": 6,
        "start_time": "2022-03-07T15:59:17.496Z"
      },
      {
        "duration": 11,
        "start_time": "2022-03-07T15:59:17.552Z"
      },
      {
        "duration": 7,
        "start_time": "2022-03-07T15:59:17.566Z"
      },
      {
        "duration": 11,
        "start_time": "2022-03-07T15:59:17.576Z"
      },
      {
        "duration": 65,
        "start_time": "2022-03-07T15:59:17.590Z"
      },
      {
        "duration": 17,
        "start_time": "2022-03-07T15:59:17.661Z"
      },
      {
        "duration": 14,
        "start_time": "2022-03-07T15:59:17.682Z"
      },
      {
        "duration": 58,
        "start_time": "2022-03-07T15:59:17.699Z"
      },
      {
        "duration": 192,
        "start_time": "2022-03-07T15:59:17.759Z"
      },
      {
        "duration": 18,
        "start_time": "2022-03-07T15:59:17.953Z"
      },
      {
        "duration": 12,
        "start_time": "2022-03-07T15:59:17.973Z"
      },
      {
        "duration": 11,
        "start_time": "2022-03-07T15:59:17.987Z"
      },
      {
        "duration": 401,
        "start_time": "2022-03-07T15:59:18.000Z"
      },
      {
        "duration": 6,
        "start_time": "2022-03-07T15:59:18.403Z"
      },
      {
        "duration": 46,
        "start_time": "2022-03-07T15:59:18.411Z"
      },
      {
        "duration": 16,
        "start_time": "2022-03-07T15:59:18.459Z"
      },
      {
        "duration": 392,
        "start_time": "2022-03-07T15:59:18.477Z"
      },
      {
        "duration": 49,
        "start_time": "2022-03-07T15:59:18.871Z"
      },
      {
        "duration": 42,
        "start_time": "2022-03-07T15:59:18.922Z"
      },
      {
        "duration": 22,
        "start_time": "2022-03-07T15:59:18.967Z"
      },
      {
        "duration": 65,
        "start_time": "2022-03-07T15:59:18.991Z"
      },
      {
        "duration": 15,
        "start_time": "2022-03-07T15:59:19.058Z"
      },
      {
        "duration": 29,
        "start_time": "2022-03-07T15:59:19.075Z"
      },
      {
        "duration": 51,
        "start_time": "2022-03-07T15:59:19.106Z"
      },
      {
        "duration": 51,
        "start_time": "2022-03-07T15:59:19.159Z"
      },
      {
        "duration": 85,
        "start_time": "2022-03-07T15:59:19.213Z"
      },
      {
        "duration": 153,
        "start_time": "2022-03-07T15:59:19.300Z"
      },
      {
        "duration": 10,
        "start_time": "2022-03-07T15:59:19.455Z"
      },
      {
        "duration": 347,
        "start_time": "2022-03-07T15:59:19.469Z"
      },
      {
        "duration": 7,
        "start_time": "2022-03-07T15:59:19.819Z"
      },
      {
        "duration": 45,
        "start_time": "2022-03-07T15:59:19.851Z"
      },
      {
        "duration": 88,
        "start_time": "2022-03-07T15:59:19.899Z"
      },
      {
        "duration": 65,
        "start_time": "2022-03-07T15:59:19.990Z"
      },
      {
        "duration": 170,
        "start_time": "2022-03-07T15:59:20.058Z"
      },
      {
        "duration": 84,
        "start_time": "2022-03-07T15:59:20.231Z"
      },
      {
        "duration": 11,
        "start_time": "2022-03-07T15:59:20.318Z"
      },
      {
        "duration": 28,
        "start_time": "2022-03-07T15:59:20.331Z"
      },
      {
        "duration": 11,
        "start_time": "2022-03-07T15:59:20.361Z"
      },
      {
        "duration": 89,
        "start_time": "2022-03-07T15:59:20.375Z"
      },
      {
        "duration": 10,
        "start_time": "2022-03-07T15:59:20.467Z"
      },
      {
        "duration": 9,
        "start_time": "2022-03-07T15:59:20.479Z"
      },
      {
        "duration": 116,
        "start_time": "2022-03-07T15:59:20.490Z"
      },
      {
        "duration": 11,
        "start_time": "2022-03-07T15:59:20.608Z"
      },
      {
        "duration": 53,
        "start_time": "2022-03-07T15:59:20.621Z"
      },
      {
        "duration": 19,
        "start_time": "2022-03-07T15:59:20.676Z"
      },
      {
        "duration": 222,
        "start_time": "2022-03-07T15:59:20.697Z"
      },
      {
        "duration": 10,
        "start_time": "2022-03-07T15:59:20.922Z"
      },
      {
        "duration": 42,
        "start_time": "2022-03-07T15:59:20.935Z"
      },
      {
        "duration": 104,
        "start_time": "2022-03-07T15:59:20.980Z"
      },
      {
        "duration": 18,
        "start_time": "2022-03-07T15:59:21.087Z"
      },
      {
        "duration": 40,
        "start_time": "2022-03-07T15:59:21.114Z"
      },
      {
        "duration": 927,
        "start_time": "2022-03-07T15:59:21.158Z"
      },
      {
        "duration": 20,
        "start_time": "2022-03-07T15:59:22.088Z"
      },
      {
        "duration": 49,
        "start_time": "2022-03-07T15:59:22.112Z"
      },
      {
        "duration": 62,
        "start_time": "2022-03-07T15:59:22.164Z"
      },
      {
        "duration": 97,
        "start_time": "2022-03-07T15:59:22.228Z"
      },
      {
        "duration": 127,
        "start_time": "2022-03-07T15:59:22.328Z"
      },
      {
        "duration": 75,
        "start_time": "2022-03-07T15:59:22.457Z"
      },
      {
        "duration": 30,
        "start_time": "2022-03-07T15:59:22.534Z"
      },
      {
        "duration": 14,
        "start_time": "2022-03-07T15:59:22.567Z"
      },
      {
        "duration": 525,
        "start_time": "2022-03-07T15:59:22.583Z"
      },
      {
        "duration": 16,
        "start_time": "2022-03-07T15:59:23.110Z"
      },
      {
        "duration": 36,
        "start_time": "2022-03-07T15:59:23.128Z"
      }
    ],
    "kernelspec": {
      "display_name": "Python 3 (ipykernel)",
      "language": "python",
      "name": "python3"
    },
    "language_info": {
      "codemirror_mode": {
        "name": "ipython",
        "version": 3
      },
      "file_extension": ".py",
      "mimetype": "text/x-python",
      "name": "python",
      "nbconvert_exporter": "python",
      "pygments_lexer": "ipython3",
      "version": "3.9.7"
    },
    "toc": {
      "base_numbering": 1,
      "nav_menu": {},
      "number_sections": true,
      "sideBar": true,
      "skip_h1_title": true,
      "title_cell": "Table of Contents",
      "title_sidebar": "Contents",
      "toc_cell": false,
      "toc_position": {},
      "toc_section_display": true,
      "toc_window_display": false
    },
    "colab": {
      "name": "monetization_model.ipynb",
      "provenance": [],
      "include_colab_link": true
    }
  },
  "nbformat": 4,
  "nbformat_minor": 0
}