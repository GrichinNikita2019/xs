{
  "cells": [
    {
      "cell_type": "markdown",
      "metadata": {
        "id": "view-in-github",
        "colab_type": "text"
      },
      "source": [
        "<a href=\"https://colab.research.google.com/github/GrichinNikita2019/yandex_praktikum_da/blob/main/analytics_in_airlines/analytics_in_airlines.ipynb\" target=\"_parent\"><img src=\"https://colab.research.google.com/assets/colab-badge.svg\" alt=\"Open In Colab\"/></a>"
      ]
    },
    {
      "cell_type": "markdown",
      "metadata": {
        "id": "CP8Ov1ndsFrV"
      },
      "source": [
        "# Аналитика в авиакомпании\n",
        "\n",
        "У вас есть файлы, в которых содержатся результаты запросов из предыдущих заданий.\n",
        "\n",
        "***/datasets/query_1.csv*** — результат первого запроса. В нём содержится информация о:\n",
        "* model — *модели самолета*\n",
        "* flights_amount — *количество рейсов для каждой модели самолетов model в сентябре 2018 года*\n",
        "\n",
        "\n",
        "***/datasets/query_3.csv*** — результат третьего запроса. В нём содержится информация о:\n",
        "* city — *городах*\n",
        "* average_flights — *среднем количестве рейсов, прибывающих в город city за день в августе 2018 года*\n",
        "\n",
        "**Для этих двух наборов данных нужно:**\n",
        "1. Импортировать файлы;\n",
        "2. Изучить данные в них;\n",
        "3. Проверить типы данных на корректность;\n",
        "4. Выбрать топ-10 городов по количеству рейсов;\n",
        "5. Построить графики: модели самолетов и количество рейсов, города и количество рейсов, топ-10 городов и количество рейсов;\n",
        "6. Сделать выводы по каждому из графиков, пояснить результат."
      ]
    },
    {
      "cell_type": "markdown",
      "metadata": {
        "id": "K_pLckWMsFrb"
      },
      "source": [
        "## Импортирование файлов"
      ]
    },
    {
      "cell_type": "code",
      "execution_count": null,
      "metadata": {
        "id": "TOqbH4wCsFrc"
      },
      "outputs": [],
      "source": [
        "import pandas as pd\n",
        "import numpy as np\n",
        "import matplotlib.pyplot as plt\n",
        "import seaborn as sns"
      ]
    },
    {
      "cell_type": "code",
      "execution_count": null,
      "metadata": {
        "id": "_yOK1fuEsFrd"
      },
      "outputs": [],
      "source": [
        "pd.options.display.float_format = '{:,.2f}'.format\n",
        "pd.set_option('display.float_format', lambda x: '%.3f' % x)\n",
        "%matplotlib inline"
      ]
    },
    {
      "cell_type": "code",
      "execution_count": null,
      "metadata": {
        "id": "t9IazlndsFre"
      },
      "outputs": [],
      "source": [
        "models = pd.read_csv('/datasets/query_1.csv')\n",
        "cities = pd.read_csv('/datasets/query_3.csv')"
      ]
    },
    {
      "cell_type": "markdown",
      "metadata": {
        "id": "5OwFIBt4sFre"
      },
      "source": [
        "## Подготовка данных"
      ]
    },
    {
      "cell_type": "markdown",
      "metadata": {
        "id": "HtszmpT3sFrf"
      },
      "source": [
        "Осуществим проверку типов данных на коректность."
      ]
    },
    {
      "cell_type": "code",
      "execution_count": null,
      "metadata": {
        "scrolled": true,
        "id": "vbJoQR2HsFrg",
        "outputId": "108ad439-d57f-46e3-bdeb-91149a66e9b6"
      },
      "outputs": [
        {
          "name": "stdout",
          "output_type": "stream",
          "text": [
            "<class 'pandas.core.frame.DataFrame'>\n",
            "RangeIndex: 8 entries, 0 to 7\n",
            "Data columns (total 2 columns):\n",
            "model             8 non-null object\n",
            "flights_amount    8 non-null int64\n",
            "dtypes: int64(1), object(1)\n",
            "memory usage: 256.0+ bytes\n"
          ]
        }
      ],
      "source": [
        "models.info()"
      ]
    },
    {
      "cell_type": "code",
      "execution_count": null,
      "metadata": {
        "scrolled": true,
        "id": "FOSh2mGcsFrh",
        "outputId": "85c3c3e3-59e9-42b9-9ef9-1bb52553565b"
      },
      "outputs": [
        {
          "name": "stdout",
          "output_type": "stream",
          "text": [
            "<class 'pandas.core.frame.DataFrame'>\n",
            "RangeIndex: 101 entries, 0 to 100\n",
            "Data columns (total 2 columns):\n",
            "city               101 non-null object\n",
            "average_flights    101 non-null float64\n",
            "dtypes: float64(1), object(1)\n",
            "memory usage: 1.7+ KB\n"
          ]
        }
      ],
      "source": [
        "cities.info()"
      ]
    },
    {
      "cell_type": "markdown",
      "metadata": {
        "id": "xkB7j4-tsFri"
      },
      "source": [
        "Все данные нужного типа!"
      ]
    },
    {
      "cell_type": "markdown",
      "metadata": {
        "id": "efbJFk1osFri"
      },
      "source": [
        "Проверим наши данные на наличие пропусков."
      ]
    },
    {
      "cell_type": "code",
      "execution_count": null,
      "metadata": {
        "scrolled": false,
        "id": "nbjt9bbosFri",
        "outputId": "6207f595-a290-40f8-85f1-11ae652faeec"
      },
      "outputs": [
        {
          "data": {
            "text/html": [
              "<style  type=\"text/css\" >\n",
              "    #T_c7fb0ec6_09bb_11ec_aace_02420a396167row0_col0 {\n",
              "            background-color:  #3b4cc0;\n",
              "            color:  #f1f1f1;\n",
              "        }    #T_c7fb0ec6_09bb_11ec_aace_02420a396167row1_col0 {\n",
              "            background-color:  #3b4cc0;\n",
              "            color:  #f1f1f1;\n",
              "        }</style><table id=\"T_c7fb0ec6_09bb_11ec_aace_02420a396167\" ><thead>    <tr>        <th class=\"blank level0\" ></th>        <th class=\"col_heading level0 col0\" >0</th>    </tr></thead><tbody>\n",
              "                <tr>\n",
              "                        <th id=\"T_c7fb0ec6_09bb_11ec_aace_02420a396167level0_row0\" class=\"row_heading level0 row0\" >model</th>\n",
              "                        <td id=\"T_c7fb0ec6_09bb_11ec_aace_02420a396167row0_col0\" class=\"data row0 col0\" >0</td>\n",
              "            </tr>\n",
              "            <tr>\n",
              "                        <th id=\"T_c7fb0ec6_09bb_11ec_aace_02420a396167level0_row1\" class=\"row_heading level0 row1\" >flights_amount</th>\n",
              "                        <td id=\"T_c7fb0ec6_09bb_11ec_aace_02420a396167row1_col0\" class=\"data row1 col0\" >0</td>\n",
              "            </tr>\n",
              "    </tbody></table>"
            ],
            "text/plain": [
              "<pandas.io.formats.style.Styler at 0x7fde57fb2c90>"
            ]
          },
          "execution_count": 6,
          "metadata": {},
          "output_type": "execute_result"
        }
      ],
      "source": [
        "pd.DataFrame(round((models.isna().mean()*100),2)).style.background_gradient('coolwarm')"
      ]
    },
    {
      "cell_type": "code",
      "execution_count": null,
      "metadata": {
        "scrolled": true,
        "id": "iJqmn1BxsFrj",
        "outputId": "86c8fdfa-0c95-4f49-b438-1b9da1a03f8c"
      },
      "outputs": [
        {
          "data": {
            "text/html": [
              "<style  type=\"text/css\" >\n",
              "    #T_c800372a_09bb_11ec_aace_02420a396167row0_col0 {\n",
              "            background-color:  #3b4cc0;\n",
              "            color:  #f1f1f1;\n",
              "        }    #T_c800372a_09bb_11ec_aace_02420a396167row1_col0 {\n",
              "            background-color:  #3b4cc0;\n",
              "            color:  #f1f1f1;\n",
              "        }</style><table id=\"T_c800372a_09bb_11ec_aace_02420a396167\" ><thead>    <tr>        <th class=\"blank level0\" ></th>        <th class=\"col_heading level0 col0\" >0</th>    </tr></thead><tbody>\n",
              "                <tr>\n",
              "                        <th id=\"T_c800372a_09bb_11ec_aace_02420a396167level0_row0\" class=\"row_heading level0 row0\" >city</th>\n",
              "                        <td id=\"T_c800372a_09bb_11ec_aace_02420a396167row0_col0\" class=\"data row0 col0\" >0</td>\n",
              "            </tr>\n",
              "            <tr>\n",
              "                        <th id=\"T_c800372a_09bb_11ec_aace_02420a396167level0_row1\" class=\"row_heading level0 row1\" >average_flights</th>\n",
              "                        <td id=\"T_c800372a_09bb_11ec_aace_02420a396167row1_col0\" class=\"data row1 col0\" >0</td>\n",
              "            </tr>\n",
              "    </tbody></table>"
            ],
            "text/plain": [
              "<pandas.io.formats.style.Styler at 0x7fde57b70e50>"
            ]
          },
          "execution_count": 7,
          "metadata": {},
          "output_type": "execute_result"
        }
      ],
      "source": [
        "pd.DataFrame(round((cities.isna().mean()*100),2)).style.background_gradient('coolwarm')"
      ]
    },
    {
      "cell_type": "markdown",
      "metadata": {
        "id": "HjabDz2WsFrj"
      },
      "source": [
        "Пропуски в данных отсутствуют."
      ]
    },
    {
      "cell_type": "markdown",
      "metadata": {
        "id": "X1JcvzcasFrk"
      },
      "source": [
        "Также проверим таблицы на наличие дубликатов."
      ]
    },
    {
      "cell_type": "code",
      "execution_count": null,
      "metadata": {
        "scrolled": false,
        "id": "2zei9GBusFrk",
        "outputId": "f501ce56-e929-4195-b073-a0c3f14a6abb"
      },
      "outputs": [
        {
          "data": {
            "text/plain": [
              "0"
            ]
          },
          "execution_count": 8,
          "metadata": {},
          "output_type": "execute_result"
        }
      ],
      "source": [
        "models.duplicated().sum()"
      ]
    },
    {
      "cell_type": "code",
      "execution_count": null,
      "metadata": {
        "scrolled": false,
        "id": "4SRL4ShrsFrk",
        "outputId": "423008a8-3655-43ed-b244-7c55222ef8b2"
      },
      "outputs": [
        {
          "data": {
            "text/plain": [
              "0"
            ]
          },
          "execution_count": 9,
          "metadata": {},
          "output_type": "execute_result"
        }
      ],
      "source": [
        "cities.duplicated().sum()"
      ]
    },
    {
      "cell_type": "markdown",
      "metadata": {
        "id": "Ia6ALIVvsFrl"
      },
      "source": [
        "Дубликатов нет."
      ]
    },
    {
      "cell_type": "markdown",
      "metadata": {
        "id": "putwVOw2sFrl"
      },
      "source": [
        "## Изучение данных"
      ]
    },
    {
      "cell_type": "markdown",
      "metadata": {
        "id": "olMPX1UYsFrl"
      },
      "source": [
        "### Количество рейсов по моделям самолетов"
      ]
    },
    {
      "cell_type": "code",
      "execution_count": null,
      "metadata": {
        "id": "NnJZD72csFrl",
        "outputId": "046f393d-2059-496c-b6cf-b2369b4a5795"
      },
      "outputs": [
        {
          "data": {
            "text/html": [
              "<div>\n",
              "<style scoped>\n",
              "    .dataframe tbody tr th:only-of-type {\n",
              "        vertical-align: middle;\n",
              "    }\n",
              "\n",
              "    .dataframe tbody tr th {\n",
              "        vertical-align: top;\n",
              "    }\n",
              "\n",
              "    .dataframe thead th {\n",
              "        text-align: right;\n",
              "    }\n",
              "</style>\n",
              "<table border=\"1\" class=\"dataframe\">\n",
              "  <thead>\n",
              "    <tr style=\"text-align: right;\">\n",
              "      <th></th>\n",
              "      <th>model</th>\n",
              "      <th>flights_amount</th>\n",
              "    </tr>\n",
              "  </thead>\n",
              "  <tbody>\n",
              "    <tr>\n",
              "      <td>6</td>\n",
              "      <td>Cessna 208 Caravan</td>\n",
              "      <td>4557</td>\n",
              "    </tr>\n",
              "    <tr>\n",
              "      <td>5</td>\n",
              "      <td>Bombardier CRJ-200</td>\n",
              "      <td>4446</td>\n",
              "    </tr>\n",
              "    <tr>\n",
              "      <td>7</td>\n",
              "      <td>Sukhoi SuperJet-100</td>\n",
              "      <td>4185</td>\n",
              "    </tr>\n",
              "    <tr>\n",
              "      <td>1</td>\n",
              "      <td>Airbus A321-200</td>\n",
              "      <td>960</td>\n",
              "    </tr>\n",
              "    <tr>\n",
              "      <td>2</td>\n",
              "      <td>Boeing 737-300</td>\n",
              "      <td>630</td>\n",
              "    </tr>\n",
              "    <tr>\n",
              "      <td>0</td>\n",
              "      <td>Airbus A319-100</td>\n",
              "      <td>607</td>\n",
              "    </tr>\n",
              "    <tr>\n",
              "      <td>3</td>\n",
              "      <td>Boeing 767-300</td>\n",
              "      <td>600</td>\n",
              "    </tr>\n",
              "    <tr>\n",
              "      <td>4</td>\n",
              "      <td>Boeing 777-300</td>\n",
              "      <td>300</td>\n",
              "    </tr>\n",
              "  </tbody>\n",
              "</table>\n",
              "</div>"
            ],
            "text/plain": [
              "                 model  flights_amount\n",
              "6   Cessna 208 Caravan            4557\n",
              "5   Bombardier CRJ-200            4446\n",
              "7  Sukhoi SuperJet-100            4185\n",
              "1      Airbus A321-200             960\n",
              "2       Boeing 737-300             630\n",
              "0      Airbus A319-100             607\n",
              "3       Boeing 767-300             600\n",
              "4       Boeing 777-300             300"
            ]
          },
          "execution_count": 10,
          "metadata": {},
          "output_type": "execute_result"
        }
      ],
      "source": [
        "models.sort_values('flights_amount', ascending=False)"
      ]
    },
    {
      "cell_type": "code",
      "execution_count": null,
      "metadata": {
        "scrolled": true,
        "id": "5vl9KgWrsFrm",
        "outputId": "ce3b57bf-66da-49e7-e8da-24a3e86bd20b"
      },
      "outputs": [
        {
          "data": {
            "text/html": [
              "<div>\n",
              "<style scoped>\n",
              "    .dataframe tbody tr th:only-of-type {\n",
              "        vertical-align: middle;\n",
              "    }\n",
              "\n",
              "    .dataframe tbody tr th {\n",
              "        vertical-align: top;\n",
              "    }\n",
              "\n",
              "    .dataframe thead th {\n",
              "        text-align: right;\n",
              "    }\n",
              "</style>\n",
              "<table border=\"1\" class=\"dataframe\">\n",
              "  <thead>\n",
              "    <tr style=\"text-align: right;\">\n",
              "      <th></th>\n",
              "      <th>flights_amount</th>\n",
              "    </tr>\n",
              "  </thead>\n",
              "  <tbody>\n",
              "    <tr>\n",
              "      <td>count</td>\n",
              "      <td>8.000</td>\n",
              "    </tr>\n",
              "    <tr>\n",
              "      <td>mean</td>\n",
              "      <td>2035.625</td>\n",
              "    </tr>\n",
              "    <tr>\n",
              "      <td>std</td>\n",
              "      <td>1965.204</td>\n",
              "    </tr>\n",
              "    <tr>\n",
              "      <td>min</td>\n",
              "      <td>300.000</td>\n",
              "    </tr>\n",
              "    <tr>\n",
              "      <td>25%</td>\n",
              "      <td>605.250</td>\n",
              "    </tr>\n",
              "    <tr>\n",
              "      <td>50%</td>\n",
              "      <td>795.000</td>\n",
              "    </tr>\n",
              "    <tr>\n",
              "      <td>75%</td>\n",
              "      <td>4250.250</td>\n",
              "    </tr>\n",
              "    <tr>\n",
              "      <td>max</td>\n",
              "      <td>4557.000</td>\n",
              "    </tr>\n",
              "  </tbody>\n",
              "</table>\n",
              "</div>"
            ],
            "text/plain": [
              "       flights_amount\n",
              "count           8.000\n",
              "mean         2035.625\n",
              "std          1965.204\n",
              "min           300.000\n",
              "25%           605.250\n",
              "50%           795.000\n",
              "75%          4250.250\n",
              "max          4557.000"
            ]
          },
          "execution_count": 11,
          "metadata": {},
          "output_type": "execute_result"
        }
      ],
      "source": [
        "models.describe()"
      ]
    },
    {
      "cell_type": "code",
      "execution_count": null,
      "metadata": {
        "id": "t33g-xnJsFrm",
        "outputId": "6066ee6b-3e18-4c04-c91f-e1c4e8cb738f"
      },
      "outputs": [
        {
          "data": {
            "image/png": "[encoded data removed]",
            "text/plain": [
              "<Figure size 648x288 with 1 Axes>"
            ]
          },
          "metadata": {
            "needs_background": "light"
          },
          "output_type": "display_data"
        }
      ],
      "source": [
        "fig = plt.subplots(figsize=(9, 4))\n",
        "ax = sns.barplot(x=\"flights_amount\", y=\"model\", data=models.sort_values(\"flights_amount\", ascending=False));\n",
        "ax.title.set_text('Распределение количества рейсов для каждой модели самолетов в сентябре 2018 года');\n",
        "ax.set_xlabel('Количество рейсов (шт.)');\n",
        "ax.set_ylabel('Модель самолета');"
      ]
    },
    {
      "cell_type": "markdown",
      "metadata": {
        "id": "f6gqlfvLsFrn"
      },
      "source": [
        "Всего в таблице models представлено 7 наблюдений (моделей самолетов).\n",
        "Модели самолетов по количеству рейсов в сентябре можно разделить на несколько групп:\n",
        "1. **Лидеры по числу полетов**: Cessna 208 Caravan (4 557 полетов), Bombardier CRJ-200 (4 446 полетов), Sukhoi SuperJet-100 (4 185 полетов);\n",
        "2. Следом с большим отставанием идет модель **Airbus A321-200** (960 полетов);\n",
        "3. Далее идет **группа аутсайдеров** с приблизительно равным количеством полетов: Boeing 737-300 (630 полетов), Airbus A319-100 (607 полетов), Boeing 767-300 (600 полетов);\n",
        "4. Наименьшее число рейсов зафиксировано по модели **Boeing 777-300** (300 полетов)."
      ]
    },
    {
      "cell_type": "markdown",
      "metadata": {
        "id": "EgrBXQywsFrn"
      },
      "source": [
        "### Среднее количество рейсов по городам"
      ]
    },
    {
      "cell_type": "code",
      "execution_count": null,
      "metadata": {
        "scrolled": true,
        "id": "kEj_majPsFrn",
        "outputId": "6cf1e911-db86-4a02-cb45-bd4625fe0835"
      },
      "outputs": [
        {
          "data": {
            "text/html": [
              "<div>\n",
              "<style scoped>\n",
              "    .dataframe tbody tr th:only-of-type {\n",
              "        vertical-align: middle;\n",
              "    }\n",
              "\n",
              "    .dataframe tbody tr th {\n",
              "        vertical-align: top;\n",
              "    }\n",
              "\n",
              "    .dataframe thead th {\n",
              "        text-align: right;\n",
              "    }\n",
              "</style>\n",
              "<table border=\"1\" class=\"dataframe\">\n",
              "  <thead>\n",
              "    <tr style=\"text-align: right;\">\n",
              "      <th></th>\n",
              "      <th>city</th>\n",
              "      <th>average_flights</th>\n",
              "    </tr>\n",
              "  </thead>\n",
              "  <tbody>\n",
              "    <tr>\n",
              "      <td>43</td>\n",
              "      <td>Москва</td>\n",
              "      <td>129.774</td>\n",
              "    </tr>\n",
              "    <tr>\n",
              "      <td>70</td>\n",
              "      <td>Санкт-Петербург</td>\n",
              "      <td>31.161</td>\n",
              "    </tr>\n",
              "    <tr>\n",
              "      <td>54</td>\n",
              "      <td>Новосибирск</td>\n",
              "      <td>17.323</td>\n",
              "    </tr>\n",
              "    <tr>\n",
              "      <td>33</td>\n",
              "      <td>Красноярск</td>\n",
              "      <td>11.581</td>\n",
              "    </tr>\n",
              "    <tr>\n",
              "      <td>20</td>\n",
              "      <td>Екатеринбург</td>\n",
              "      <td>11.323</td>\n",
              "    </tr>\n",
              "    <tr>\n",
              "      <td>67</td>\n",
              "      <td>Ростов-на-Дону</td>\n",
              "      <td>10.194</td>\n",
              "    </tr>\n",
              "    <tr>\n",
              "      <td>63</td>\n",
              "      <td>Пермь</td>\n",
              "      <td>10.129</td>\n",
              "    </tr>\n",
              "    <tr>\n",
              "      <td>10</td>\n",
              "      <td>Брянск</td>\n",
              "      <td>10.000</td>\n",
              "    </tr>\n",
              "    <tr>\n",
              "      <td>74</td>\n",
              "      <td>Сочи</td>\n",
              "      <td>9.613</td>\n",
              "    </tr>\n",
              "    <tr>\n",
              "      <td>84</td>\n",
              "      <td>Ульяновск</td>\n",
              "      <td>9.581</td>\n",
              "    </tr>\n",
              "    <tr>\n",
              "      <td>73</td>\n",
              "      <td>Советский</td>\n",
              "      <td>9.000</td>\n",
              "    </tr>\n",
              "  </tbody>\n",
              "</table>\n",
              "</div>"
            ],
            "text/plain": [
              "               city  average_flights\n",
              "43           Москва          129.774\n",
              "70  Санкт-Петербург           31.161\n",
              "54      Новосибирск           17.323\n",
              "33       Красноярск           11.581\n",
              "20     Екатеринбург           11.323\n",
              "67   Ростов-на-Дону           10.194\n",
              "63            Пермь           10.129\n",
              "10           Брянск           10.000\n",
              "74             Сочи            9.613\n",
              "84        Ульяновск            9.581\n",
              "73        Советский            9.000"
            ]
          },
          "execution_count": 21,
          "metadata": {},
          "output_type": "execute_result"
        }
      ],
      "source": [
        "cities.sort_values('average_flights', ascending=False).head(11)"
      ]
    },
    {
      "cell_type": "code",
      "execution_count": null,
      "metadata": {
        "id": "8zwzi5slsFrn",
        "outputId": "9401eac9-dacb-4df6-f444-fe41e395a3c0"
      },
      "outputs": [
        {
          "data": {
            "text/html": [
              "<div>\n",
              "<style scoped>\n",
              "    .dataframe tbody tr th:only-of-type {\n",
              "        vertical-align: middle;\n",
              "    }\n",
              "\n",
              "    .dataframe tbody tr th {\n",
              "        vertical-align: top;\n",
              "    }\n",
              "\n",
              "    .dataframe thead th {\n",
              "        text-align: right;\n",
              "    }\n",
              "</style>\n",
              "<table border=\"1\" class=\"dataframe\">\n",
              "  <thead>\n",
              "    <tr style=\"text-align: right;\">\n",
              "      <th></th>\n",
              "      <th>city</th>\n",
              "      <th>average_flights</th>\n",
              "    </tr>\n",
              "  </thead>\n",
              "  <tbody>\n",
              "    <tr>\n",
              "      <td>88</td>\n",
              "      <td>Усть-Кут</td>\n",
              "      <td>1.000</td>\n",
              "    </tr>\n",
              "    <tr>\n",
              "      <td>76</td>\n",
              "      <td>Стрежевой</td>\n",
              "      <td>1.000</td>\n",
              "    </tr>\n",
              "    <tr>\n",
              "      <td>1</td>\n",
              "      <td>Анадырь</td>\n",
              "      <td>1.000</td>\n",
              "    </tr>\n",
              "    <tr>\n",
              "      <td>9</td>\n",
              "      <td>Братск</td>\n",
              "      <td>1.000</td>\n",
              "    </tr>\n",
              "    <tr>\n",
              "      <td>8</td>\n",
              "      <td>Благовещенск</td>\n",
              "      <td>1.000</td>\n",
              "    </tr>\n",
              "    <tr>\n",
              "      <td>21</td>\n",
              "      <td>Иваново</td>\n",
              "      <td>1.000</td>\n",
              "    </tr>\n",
              "    <tr>\n",
              "      <td>22</td>\n",
              "      <td>Ижевск</td>\n",
              "      <td>1.000</td>\n",
              "    </tr>\n",
              "    <tr>\n",
              "      <td>65</td>\n",
              "      <td>Петропавловск-Камчатский</td>\n",
              "      <td>1.000</td>\n",
              "    </tr>\n",
              "    <tr>\n",
              "      <td>31</td>\n",
              "      <td>Комсомольск-на-Амуре</td>\n",
              "      <td>1.000</td>\n",
              "    </tr>\n",
              "    <tr>\n",
              "      <td>58</td>\n",
              "      <td>Нягань</td>\n",
              "      <td>1.000</td>\n",
              "    </tr>\n",
              "    <tr>\n",
              "      <td>49</td>\n",
              "      <td>Нефтеюганск</td>\n",
              "      <td>1.000</td>\n",
              "    </tr>\n",
              "  </tbody>\n",
              "</table>\n",
              "</div>"
            ],
            "text/plain": [
              "                        city  average_flights\n",
              "88                  Усть-Кут            1.000\n",
              "76                 Стрежевой            1.000\n",
              "1                    Анадырь            1.000\n",
              "9                     Братск            1.000\n",
              "8               Благовещенск            1.000\n",
              "21                   Иваново            1.000\n",
              "22                    Ижевск            1.000\n",
              "65  Петропавловск-Камчатский            1.000\n",
              "31      Комсомольск-на-Амуре            1.000\n",
              "58                    Нягань            1.000\n",
              "49               Нефтеюганск            1.000"
            ]
          },
          "execution_count": 25,
          "metadata": {},
          "output_type": "execute_result"
        }
      ],
      "source": [
        "cities.sort_values('average_flights', ascending=False).tail(11)"
      ]
    },
    {
      "cell_type": "code",
      "execution_count": null,
      "metadata": {
        "scrolled": false,
        "id": "jcou59YksFro",
        "outputId": "3eee1759-e3a0-4820-86cb-d8337cbddfc1"
      },
      "outputs": [
        {
          "data": {
            "text/html": [
              "<div>\n",
              "<style scoped>\n",
              "    .dataframe tbody tr th:only-of-type {\n",
              "        vertical-align: middle;\n",
              "    }\n",
              "\n",
              "    .dataframe tbody tr th {\n",
              "        vertical-align: top;\n",
              "    }\n",
              "\n",
              "    .dataframe thead th {\n",
              "        text-align: right;\n",
              "    }\n",
              "</style>\n",
              "<table border=\"1\" class=\"dataframe\">\n",
              "  <thead>\n",
              "    <tr style=\"text-align: right;\">\n",
              "      <th></th>\n",
              "      <th>average_flights</th>\n",
              "    </tr>\n",
              "  </thead>\n",
              "  <tbody>\n",
              "    <tr>\n",
              "      <td>count</td>\n",
              "      <td>101.000</td>\n",
              "    </tr>\n",
              "    <tr>\n",
              "      <td>mean</td>\n",
              "      <td>5.494</td>\n",
              "    </tr>\n",
              "    <tr>\n",
              "      <td>std</td>\n",
              "      <td>13.120</td>\n",
              "    </tr>\n",
              "    <tr>\n",
              "      <td>min</td>\n",
              "      <td>1.000</td>\n",
              "    </tr>\n",
              "    <tr>\n",
              "      <td>25%</td>\n",
              "      <td>2.000</td>\n",
              "    </tr>\n",
              "    <tr>\n",
              "      <td>50%</td>\n",
              "      <td>3.000</td>\n",
              "    </tr>\n",
              "    <tr>\n",
              "      <td>75%</td>\n",
              "      <td>5.871</td>\n",
              "    </tr>\n",
              "    <tr>\n",
              "      <td>max</td>\n",
              "      <td>129.774</td>\n",
              "    </tr>\n",
              "  </tbody>\n",
              "</table>\n",
              "</div>"
            ],
            "text/plain": [
              "       average_flights\n",
              "count          101.000\n",
              "mean             5.494\n",
              "std             13.120\n",
              "min              1.000\n",
              "25%              2.000\n",
              "50%              3.000\n",
              "75%              5.871\n",
              "max            129.774"
            ]
          },
          "execution_count": 14,
          "metadata": {},
          "output_type": "execute_result"
        }
      ],
      "source": [
        "cities.describe()"
      ]
    },
    {
      "cell_type": "code",
      "execution_count": null,
      "metadata": {
        "id": "pgDu5ju4sFro",
        "outputId": "df70b4c4-2b1d-4ad0-c545-b44b17f84eb7"
      },
      "outputs": [
        {
          "data": {
            "image/png": "[encoded data removed]",
            "text/plain": [
              "<Figure size 720x1440 with 1 Axes>"
            ]
          },
          "metadata": {
            "needs_background": "light"
          },
          "output_type": "display_data"
        }
      ],
      "source": [
        "fig = plt.subplots(figsize=(10, 20))\n",
        "ax = sns.barplot(x=\"average_flights\", y=\"city\", data=cities.sort_values(\"average_flights\", ascending=False));\n",
        "ax.title.set_text('Распределение среднего количества рейсов, прибывающих в город за день в августе 2018 года');\n",
        "ax.set_xlabel('Среднее количество рейсов (шт.)');\n",
        "ax.set_ylabel('Город');"
      ]
    },
    {
      "cell_type": "markdown",
      "metadata": {
        "id": "XmVUts5UsFrp"
      },
      "source": [
        "Лидирующую позицию по среднему количеству рейсов с большим отрывом занимает **Москва** (130 рейсов);\n",
        "\n",
        "Вторую позицию занимает **Санкт-Петербург** (31 рейс);\n",
        "\n",
        "Такой отрыв Москвы (в особенности) и Санкт-Петербурга объясняется, как большим объемом населения, так и большими туристическими потоками, а также замкнутостью транспортной системы РФ на этих городах (большая часть пересадок осуществляется в них).\n",
        "\n",
        "Третье место - **Новосибирск** (17 рейсов). Что тоже неудивительно, так как это 3 по численности населения город РФ;\n",
        "\n",
        "Начиная с Краснодара и далее по графику наблюдается постепенное снижение среднего числа рейсов;\n",
        "\n",
        "**Замыкают список города со среднем количеством рейсов равным единице**: Нефтеюганск, Нягань, Комсомольск-на-Амуре, Петропавловск-Камчатский и т.д."
      ]
    },
    {
      "cell_type": "markdown",
      "metadata": {
        "id": "ShXBwfrdsFrp"
      },
      "source": [
        "### Среднее количество рейсов по городам (топ-10)"
      ]
    },
    {
      "cell_type": "markdown",
      "metadata": {
        "id": "f3YK7IjlsFrp"
      },
      "source": [
        "Для начала необходимо составить топ-10 городов по среднему количеству рейсов, прибывающих в город за день в августе 2018 года."
      ]
    },
    {
      "cell_type": "code",
      "execution_count": null,
      "metadata": {
        "id": "VpLpETNysFrp"
      },
      "outputs": [],
      "source": [
        "cities_top_10 = cities.sort_values('average_flights',ascending=False).head(10)"
      ]
    },
    {
      "cell_type": "code",
      "execution_count": null,
      "metadata": {
        "id": "mgfYO6o4sFrp",
        "outputId": "fd63f059-119b-4bb9-fe9b-958b4c96efcc"
      },
      "outputs": [
        {
          "data": {
            "text/html": [
              "<div>\n",
              "<style scoped>\n",
              "    .dataframe tbody tr th:only-of-type {\n",
              "        vertical-align: middle;\n",
              "    }\n",
              "\n",
              "    .dataframe tbody tr th {\n",
              "        vertical-align: top;\n",
              "    }\n",
              "\n",
              "    .dataframe thead th {\n",
              "        text-align: right;\n",
              "    }\n",
              "</style>\n",
              "<table border=\"1\" class=\"dataframe\">\n",
              "  <thead>\n",
              "    <tr style=\"text-align: right;\">\n",
              "      <th></th>\n",
              "      <th>city</th>\n",
              "      <th>average_flights</th>\n",
              "    </tr>\n",
              "  </thead>\n",
              "  <tbody>\n",
              "    <tr>\n",
              "      <td>43</td>\n",
              "      <td>Москва</td>\n",
              "      <td>129.774</td>\n",
              "    </tr>\n",
              "    <tr>\n",
              "      <td>70</td>\n",
              "      <td>Санкт-Петербург</td>\n",
              "      <td>31.161</td>\n",
              "    </tr>\n",
              "    <tr>\n",
              "      <td>54</td>\n",
              "      <td>Новосибирск</td>\n",
              "      <td>17.323</td>\n",
              "    </tr>\n",
              "    <tr>\n",
              "      <td>33</td>\n",
              "      <td>Красноярск</td>\n",
              "      <td>11.581</td>\n",
              "    </tr>\n",
              "    <tr>\n",
              "      <td>20</td>\n",
              "      <td>Екатеринбург</td>\n",
              "      <td>11.323</td>\n",
              "    </tr>\n",
              "    <tr>\n",
              "      <td>67</td>\n",
              "      <td>Ростов-на-Дону</td>\n",
              "      <td>10.194</td>\n",
              "    </tr>\n",
              "    <tr>\n",
              "      <td>63</td>\n",
              "      <td>Пермь</td>\n",
              "      <td>10.129</td>\n",
              "    </tr>\n",
              "    <tr>\n",
              "      <td>10</td>\n",
              "      <td>Брянск</td>\n",
              "      <td>10.000</td>\n",
              "    </tr>\n",
              "    <tr>\n",
              "      <td>74</td>\n",
              "      <td>Сочи</td>\n",
              "      <td>9.613</td>\n",
              "    </tr>\n",
              "    <tr>\n",
              "      <td>84</td>\n",
              "      <td>Ульяновск</td>\n",
              "      <td>9.581</td>\n",
              "    </tr>\n",
              "  </tbody>\n",
              "</table>\n",
              "</div>"
            ],
            "text/plain": [
              "               city  average_flights\n",
              "43           Москва          129.774\n",
              "70  Санкт-Петербург           31.161\n",
              "54      Новосибирск           17.323\n",
              "33       Красноярск           11.581\n",
              "20     Екатеринбург           11.323\n",
              "67   Ростов-на-Дону           10.194\n",
              "63            Пермь           10.129\n",
              "10           Брянск           10.000\n",
              "74             Сочи            9.613\n",
              "84        Ульяновск            9.581"
            ]
          },
          "execution_count": 27,
          "metadata": {},
          "output_type": "execute_result"
        }
      ],
      "source": [
        "cities_top_10"
      ]
    },
    {
      "cell_type": "markdown",
      "metadata": {
        "id": "qk_ju_y_sFrq"
      },
      "source": [
        "Топ готов! Теперь можно строить график."
      ]
    },
    {
      "cell_type": "code",
      "execution_count": null,
      "metadata": {
        "id": "_YjB8Z0UsFrq",
        "outputId": "f1ebac52-02f9-4be2-9778-8bf9145e3906"
      },
      "outputs": [
        {
          "data": {
            "text/html": [
              "<div>\n",
              "<style scoped>\n",
              "    .dataframe tbody tr th:only-of-type {\n",
              "        vertical-align: middle;\n",
              "    }\n",
              "\n",
              "    .dataframe tbody tr th {\n",
              "        vertical-align: top;\n",
              "    }\n",
              "\n",
              "    .dataframe thead th {\n",
              "        text-align: right;\n",
              "    }\n",
              "</style>\n",
              "<table border=\"1\" class=\"dataframe\">\n",
              "  <thead>\n",
              "    <tr style=\"text-align: right;\">\n",
              "      <th></th>\n",
              "      <th>average_flights</th>\n",
              "    </tr>\n",
              "  </thead>\n",
              "  <tbody>\n",
              "    <tr>\n",
              "      <td>count</td>\n",
              "      <td>10.000</td>\n",
              "    </tr>\n",
              "    <tr>\n",
              "      <td>mean</td>\n",
              "      <td>25.068</td>\n",
              "    </tr>\n",
              "    <tr>\n",
              "      <td>std</td>\n",
              "      <td>37.389</td>\n",
              "    </tr>\n",
              "    <tr>\n",
              "      <td>min</td>\n",
              "      <td>9.581</td>\n",
              "    </tr>\n",
              "    <tr>\n",
              "      <td>25%</td>\n",
              "      <td>10.032</td>\n",
              "    </tr>\n",
              "    <tr>\n",
              "      <td>50%</td>\n",
              "      <td>10.758</td>\n",
              "    </tr>\n",
              "    <tr>\n",
              "      <td>75%</td>\n",
              "      <td>15.887</td>\n",
              "    </tr>\n",
              "    <tr>\n",
              "      <td>max</td>\n",
              "      <td>129.774</td>\n",
              "    </tr>\n",
              "  </tbody>\n",
              "</table>\n",
              "</div>"
            ],
            "text/plain": [
              "       average_flights\n",
              "count           10.000\n",
              "mean            25.068\n",
              "std             37.389\n",
              "min              9.581\n",
              "25%             10.032\n",
              "50%             10.758\n",
              "75%             15.887\n",
              "max            129.774"
            ]
          },
          "execution_count": 28,
          "metadata": {},
          "output_type": "execute_result"
        }
      ],
      "source": [
        "cities_top_10.describe()"
      ]
    },
    {
      "cell_type": "code",
      "execution_count": null,
      "metadata": {
        "id": "7O1yGANUsFrq",
        "outputId": "791b03dd-3623-4ed6-e63a-5c02487cf4e2"
      },
      "outputs": [
        {
          "data": {
            "image/png": "[encoded data removed]",
            "text/plain": [
              "<Figure size 648x288 with 1 Axes>"
            ]
          },
          "metadata": {
            "needs_background": "light"
          },
          "output_type": "display_data"
        }
      ],
      "source": [
        "fig = plt.subplots(figsize=(9, 4))\n",
        "ax = sns.barplot(x=\"average_flights\", y=\"city\", data=cities_top_10.sort_values(\"average_flights\", ascending=False));\n",
        "ax.title.set_text('Распределение среднего количества рейсов, прибывающих в город за день в августе 2018 года');\n",
        "ax.set_xlabel('Среднее количество рейсов (шт.)');\n",
        "ax.set_ylabel('Город');"
      ]
    },
    {
      "cell_type": "markdown",
      "metadata": {
        "id": "lSiFK0JHsFrr"
      },
      "source": [
        "**Топ-10 городов по среднему количеству рейсов составляют следующие города:**\n",
        "1. Москва (130 рейсов)\n",
        "2. Санкт-Петербург (31 рейс)\n",
        "3. Новосибирск (17 рейсов)\n",
        "4. Красноярск (12 рейсов)\n",
        "5. Екатеринбург (11 рейсов)\n",
        "6. Ростов-на-Дону (10 рейсов)\n",
        "7. Пермь (10 рейсов)\n",
        "8. Брянск (10 рейсов)\n",
        "9. Сочи (10 рейсов)\n",
        "10. Ульяновск (10 рейсов)"
      ]
    },
    {
      "cell_type": "markdown",
      "metadata": {
        "id": "FhsE1KmVsFrr"
      },
      "source": [
        "## Общий вывод"
      ]
    },
    {
      "cell_type": "markdown",
      "metadata": {
        "id": "C_aL-90GsFrr"
      },
      "source": [
        "***Основные выводы:***\n",
        "\n",
        "**Модели самолетов по количеству рейсов в сентябре можно разделить на несколько групп:**\n",
        "\n",
        "\n",
        "1. **Лидеры по числу полетов**: Cessna 208 Caravan (4 557 полетов), Bombardier CRJ-200 (4 446 полетов), Sukhoi SuperJet-100 (4 185 полетов);\n",
        "2. Следом с большим отставанием идет модель **Airbus A321-200** (960 полетов);\n",
        "3. Далее идет **группа аутсайдеров** с приблизительно равным количеством полетов: Boeing 737-300 (630 полетов), Airbus A319-100 (607 полетов), Boeing 767-300 (600 полетов);\n",
        "4. Наименьшее число рейсов зафиксировано по модели **Boeing 777-300** (300 полетов).\n",
        "\n",
        "**Города по среднему количеству рейсов в сентябре можно также разделить на несколько групп:**\n",
        "\n",
        "1. Лидирующую позицию по среднему количеству рейсов с большим отрывом занимает **Москва** (130 рейсов);\n",
        "\n",
        "2. Вторую позицию занимает **Санкт-Петербург** (31 рейс);\n",
        "\n",
        "- *Такой отрыв Москвы (в особенности) и Санкт-Петербурга объясняется, как большим объемом населения, так и большими туристическими потоками, а также замкнутостью транспортной системы РФ на этих городах (большая часть пересадок осуществляется в них).*\n",
        "\n",
        "3. Третье место - **Новосибирск** (17 рейсов). Что тоже неудивительно, так как это 3 по численности населения город РФ;\n",
        "\n",
        "4. Начиная с Краснодара и далее по графику наблюдается постепенное снижение среднего числа рейсов;\n",
        "\n",
        "5. **Замыкают список города со среднем количеством рейсов равным единице**: Нефтеюганск, Нягань, Комсомольск-на-Амуре, Петропавловск-Камчатский и т.д.\n",
        "\n",
        "**Топ-10 городов по среднему количеству рейсов составляют следующие города:**\n",
        "1. Москва (130 рейсов)\n",
        "2. Санкт-Петербург (31 рейс)\n",
        "3. Новосибирск (17 рейсов)\n",
        "4. Красноярск (12 рейсов)\n",
        "5. Екатеринбург (11 рейсов)\n",
        "6. Ростов-на-Дону (10 рейсов)\n",
        "7. Пермь (10 рейсов)\n",
        "8. Брянск (10 рейсов)\n",
        "9. Сочи (10 рейсов)\n",
        "10. Ульяновск (10 рейсов)"
      ]
    }
  ],
  "metadata": {
    "ExecuteTimeLog": [
      {
        "duration": 1079,
        "start_time": "2021-06-17T11:23:30.988Z"
      },
      {
        "duration": 1883,
        "start_time": "2021-06-17T11:24:32.447Z"
      },
      {
        "duration": 60,
        "start_time": "2021-06-17T11:26:42.077Z"
      },
      {
        "duration": 60,
        "start_time": "2021-06-17T11:26:49.286Z"
      },
      {
        "duration": 4,
        "start_time": "2021-08-30T13:20:31.938Z"
      },
      {
        "duration": 1550,
        "start_time": "2021-08-30T13:21:20.236Z"
      },
      {
        "duration": 35,
        "start_time": "2021-08-30T13:26:48.041Z"
      },
      {
        "duration": 13,
        "start_time": "2021-08-30T13:27:21.316Z"
      },
      {
        "duration": 4,
        "start_time": "2021-08-30T13:27:24.318Z"
      },
      {
        "duration": 5,
        "start_time": "2021-08-30T13:27:24.618Z"
      },
      {
        "duration": 33,
        "start_time": "2021-08-30T13:27:24.993Z"
      },
      {
        "duration": 14,
        "start_time": "2021-08-30T13:28:10.831Z"
      },
      {
        "duration": 11,
        "start_time": "2021-08-30T13:28:39.781Z"
      },
      {
        "duration": 9,
        "start_time": "2021-08-30T13:28:47.104Z"
      },
      {
        "duration": 10,
        "start_time": "2021-08-30T13:28:49.599Z"
      },
      {
        "duration": 516,
        "start_time": "2021-08-30T13:29:42.790Z"
      },
      {
        "duration": 377,
        "start_time": "2021-08-30T13:30:05.513Z"
      },
      {
        "duration": 1017,
        "start_time": "2021-08-30T13:30:37.870Z"
      },
      {
        "duration": 23,
        "start_time": "2021-08-30T13:30:55.665Z"
      },
      {
        "duration": 9,
        "start_time": "2021-08-30T13:31:16.774Z"
      },
      {
        "duration": 12,
        "start_time": "2021-08-30T13:31:57.755Z"
      },
      {
        "duration": 21,
        "start_time": "2021-08-30T13:32:31.562Z"
      },
      {
        "duration": 16,
        "start_time": "2021-08-30T13:32:57.207Z"
      },
      {
        "duration": 11,
        "start_time": "2021-08-30T13:36:27.079Z"
      },
      {
        "duration": 13,
        "start_time": "2021-08-30T13:36:35.916Z"
      },
      {
        "duration": 11,
        "start_time": "2021-08-30T13:36:41.629Z"
      },
      {
        "duration": 13,
        "start_time": "2021-08-30T13:36:48.463Z"
      },
      {
        "duration": 9,
        "start_time": "2021-08-30T13:36:54.385Z"
      },
      {
        "duration": 9,
        "start_time": "2021-08-30T13:37:04.415Z"
      },
      {
        "duration": 9,
        "start_time": "2021-08-30T13:55:50.442Z"
      },
      {
        "duration": 7,
        "start_time": "2021-08-30T13:55:59.886Z"
      },
      {
        "duration": 7,
        "start_time": "2021-08-30T13:56:06.658Z"
      },
      {
        "duration": 8,
        "start_time": "2021-08-30T13:58:56.348Z"
      },
      {
        "duration": 9,
        "start_time": "2021-08-30T13:59:10.958Z"
      },
      {
        "duration": 361,
        "start_time": "2021-08-30T14:12:57.738Z"
      },
      {
        "duration": 352,
        "start_time": "2021-08-30T14:13:27.452Z"
      },
      {
        "duration": 15,
        "start_time": "2021-08-30T14:13:47.363Z"
      },
      {
        "duration": 5,
        "start_time": "2021-08-30T14:14:07.908Z"
      },
      {
        "duration": 9,
        "start_time": "2021-08-30T14:14:12.913Z"
      },
      {
        "duration": 351,
        "start_time": "2021-08-30T14:23:46.648Z"
      },
      {
        "duration": 9,
        "start_time": "2021-08-30T14:24:38.142Z"
      },
      {
        "duration": 344,
        "start_time": "2021-08-30T14:24:46.083Z"
      },
      {
        "duration": 322,
        "start_time": "2021-08-30T14:25:01.373Z"
      },
      {
        "duration": 320,
        "start_time": "2021-08-30T14:25:56.169Z"
      },
      {
        "duration": 346,
        "start_time": "2021-08-30T14:26:19.653Z"
      },
      {
        "duration": 304,
        "start_time": "2021-08-30T14:27:04.578Z"
      },
      {
        "duration": 415,
        "start_time": "2021-08-30T14:27:17.714Z"
      },
      {
        "duration": 14,
        "start_time": "2021-08-30T14:30:03.472Z"
      },
      {
        "duration": 2816,
        "start_time": "2021-08-30T14:30:38.526Z"
      },
      {
        "duration": 2463,
        "start_time": "2021-08-30T14:31:36.399Z"
      },
      {
        "duration": 306,
        "start_time": "2021-08-30T14:32:32.398Z"
      },
      {
        "duration": 10,
        "start_time": "2021-08-30T14:32:56.559Z"
      },
      {
        "duration": 338,
        "start_time": "2021-08-30T14:33:39.911Z"
      },
      {
        "duration": 8,
        "start_time": "2021-08-30T14:34:18.043Z"
      },
      {
        "duration": 13,
        "start_time": "2021-08-30T14:42:14.010Z"
      },
      {
        "duration": 2980,
        "start_time": "2021-08-30T14:42:39.727Z"
      },
      {
        "duration": 364,
        "start_time": "2021-08-30T14:43:06.052Z"
      },
      {
        "duration": 650,
        "start_time": "2021-08-30T14:43:25.479Z"
      },
      {
        "duration": 641,
        "start_time": "2021-08-30T14:43:50.781Z"
      },
      {
        "duration": 345,
        "start_time": "2021-08-30T14:46:08.213Z"
      },
      {
        "duration": 305,
        "start_time": "2021-08-30T14:46:28.595Z"
      },
      {
        "duration": 306,
        "start_time": "2021-08-30T14:46:45.911Z"
      },
      {
        "duration": 313,
        "start_time": "2021-08-30T14:47:47.790Z"
      },
      {
        "duration": 312,
        "start_time": "2021-08-30T14:48:44.812Z"
      },
      {
        "duration": 666,
        "start_time": "2021-08-30T14:48:52.792Z"
      },
      {
        "duration": 3022,
        "start_time": "2021-08-30T14:49:06.438Z"
      },
      {
        "duration": 2792,
        "start_time": "2021-08-30T15:03:24.624Z"
      },
      {
        "duration": 2771,
        "start_time": "2021-08-30T15:03:38.951Z"
      },
      {
        "duration": 397,
        "start_time": "2021-08-30T15:04:01.167Z"
      },
      {
        "duration": 2995,
        "start_time": "2021-08-30T15:04:27.136Z"
      },
      {
        "duration": 3078,
        "start_time": "2021-08-30T15:04:38.891Z"
      },
      {
        "duration": 3041,
        "start_time": "2021-08-30T15:04:51.527Z"
      },
      {
        "duration": 423,
        "start_time": "2021-08-30T15:20:28.735Z"
      },
      {
        "duration": 308,
        "start_time": "2021-08-30T15:20:34.707Z"
      },
      {
        "duration": 318,
        "start_time": "2021-08-30T15:20:46.864Z"
      },
      {
        "duration": 337,
        "start_time": "2021-08-30T15:21:33.007Z"
      },
      {
        "duration": 659,
        "start_time": "2021-08-30T15:22:05.663Z"
      },
      {
        "duration": 333,
        "start_time": "2021-08-30T15:22:14.792Z"
      },
      {
        "duration": 389,
        "start_time": "2021-08-30T15:22:19.644Z"
      },
      {
        "duration": 372,
        "start_time": "2021-08-30T15:22:28.230Z"
      },
      {
        "duration": 392,
        "start_time": "2021-08-30T15:22:46.859Z"
      },
      {
        "duration": 531,
        "start_time": "2021-08-30T15:22:53.404Z"
      },
      {
        "duration": 362,
        "start_time": "2021-08-30T15:23:02.650Z"
      },
      {
        "duration": 342,
        "start_time": "2021-08-30T15:23:11.232Z"
      },
      {
        "duration": 366,
        "start_time": "2021-08-30T15:23:19.277Z"
      },
      {
        "duration": 10,
        "start_time": "2021-08-30T16:39:52.221Z"
      },
      {
        "duration": 114,
        "start_time": "2021-08-30T16:42:50.681Z"
      },
      {
        "duration": 461,
        "start_time": "2021-08-30T16:43:11.862Z"
      },
      {
        "duration": 445,
        "start_time": "2021-08-30T16:43:24.229Z"
      },
      {
        "duration": 372,
        "start_time": "2021-08-30T16:43:52.104Z"
      },
      {
        "duration": 360,
        "start_time": "2021-08-30T16:44:24.553Z"
      },
      {
        "duration": 363,
        "start_time": "2021-08-30T16:44:32.110Z"
      },
      {
        "duration": 6,
        "start_time": "2021-08-30T16:44:42.254Z"
      },
      {
        "duration": 8,
        "start_time": "2021-08-30T16:44:56.629Z"
      },
      {
        "duration": 486,
        "start_time": "2021-08-30T16:48:48.341Z"
      },
      {
        "duration": 365,
        "start_time": "2021-08-30T16:48:57.461Z"
      },
      {
        "duration": 10,
        "start_time": "2021-08-30T16:49:59.344Z"
      },
      {
        "duration": 360,
        "start_time": "2021-08-30T16:56:15.383Z"
      },
      {
        "duration": 932,
        "start_time": "2021-08-30T17:12:32.515Z"
      },
      {
        "duration": 1014,
        "start_time": "2021-08-30T17:13:18.643Z"
      },
      {
        "duration": 395,
        "start_time": "2021-08-30T17:14:19.963Z"
      },
      {
        "duration": 600,
        "start_time": "2021-08-30T17:15:20.749Z"
      },
      {
        "duration": 607,
        "start_time": "2021-08-30T17:15:37.371Z"
      },
      {
        "duration": 394,
        "start_time": "2021-08-30T17:16:04.984Z"
      },
      {
        "duration": 145,
        "start_time": "2021-08-30T17:23:39.882Z"
      },
      {
        "duration": 118,
        "start_time": "2021-08-30T17:23:57.361Z"
      },
      {
        "duration": 198,
        "start_time": "2021-08-30T17:24:39.602Z"
      },
      {
        "duration": 114,
        "start_time": "2021-08-30T17:25:51.422Z"
      },
      {
        "duration": 131,
        "start_time": "2021-08-30T17:25:57.525Z"
      },
      {
        "duration": 121,
        "start_time": "2021-08-30T17:26:13.959Z"
      },
      {
        "duration": 730,
        "start_time": "2021-08-30T17:26:22.407Z"
      },
      {
        "duration": 357,
        "start_time": "2021-08-30T17:26:35.618Z"
      },
      {
        "duration": 347,
        "start_time": "2021-08-30T17:27:15.892Z"
      },
      {
        "duration": 18,
        "start_time": "2021-08-30T17:28:53.236Z"
      },
      {
        "duration": 18,
        "start_time": "2021-08-30T17:29:07.511Z"
      },
      {
        "duration": 32,
        "start_time": "2021-08-30T17:29:36.440Z"
      },
      {
        "duration": 19,
        "start_time": "2021-08-30T17:30:28.871Z"
      },
      {
        "duration": 109,
        "start_time": "2021-08-30T17:31:17.828Z"
      },
      {
        "duration": 502,
        "start_time": "2021-08-30T17:31:26.310Z"
      },
      {
        "duration": 377,
        "start_time": "2021-08-30T17:31:38.253Z"
      },
      {
        "duration": 381,
        "start_time": "2021-08-30T17:31:56.182Z"
      },
      {
        "duration": 368,
        "start_time": "2021-08-30T17:32:12.941Z"
      },
      {
        "duration": 385,
        "start_time": "2021-08-30T17:33:07.927Z"
      },
      {
        "duration": 11,
        "start_time": "2021-08-30T17:33:13.497Z"
      },
      {
        "duration": 589,
        "start_time": "2021-08-30T17:34:51.883Z"
      },
      {
        "duration": 14,
        "start_time": "2021-08-30T17:55:18.250Z"
      },
      {
        "duration": 13,
        "start_time": "2021-08-30T17:56:21.269Z"
      },
      {
        "duration": 12,
        "start_time": "2021-08-30T17:56:30.319Z"
      },
      {
        "duration": 4,
        "start_time": "2021-08-30T17:57:32.902Z"
      },
      {
        "duration": 24,
        "start_time": "2021-08-30T17:57:32.909Z"
      },
      {
        "duration": 44,
        "start_time": "2021-08-30T17:57:32.936Z"
      },
      {
        "duration": 33,
        "start_time": "2021-08-30T17:57:32.983Z"
      },
      {
        "duration": 44,
        "start_time": "2021-08-30T17:57:33.019Z"
      },
      {
        "duration": 39,
        "start_time": "2021-08-30T17:57:33.066Z"
      },
      {
        "duration": 29,
        "start_time": "2021-08-30T17:57:33.107Z"
      },
      {
        "duration": 22,
        "start_time": "2021-08-30T17:57:33.141Z"
      },
      {
        "duration": 28,
        "start_time": "2021-08-30T17:57:33.167Z"
      },
      {
        "duration": 20,
        "start_time": "2021-08-30T17:57:33.197Z"
      },
      {
        "duration": 44,
        "start_time": "2021-08-30T17:57:33.219Z"
      },
      {
        "duration": 421,
        "start_time": "2021-08-30T17:57:33.266Z"
      },
      {
        "duration": 10,
        "start_time": "2021-08-30T17:57:33.690Z"
      },
      {
        "duration": 28,
        "start_time": "2021-08-30T17:57:33.702Z"
      },
      {
        "duration": 24,
        "start_time": "2021-08-30T17:57:33.733Z"
      },
      {
        "duration": 23,
        "start_time": "2021-08-30T17:57:33.760Z"
      },
      {
        "duration": 535,
        "start_time": "2021-08-30T17:57:33.786Z"
      },
      {
        "duration": 3480,
        "start_time": "2021-08-30T17:57:34.324Z"
      },
      {
        "duration": 419,
        "start_time": "2021-08-30T17:57:37.807Z"
      },
      {
        "duration": 1553,
        "start_time": "2021-08-30T17:57:43.679Z"
      },
      {
        "duration": 10,
        "start_time": "2021-08-30T17:57:45.235Z"
      },
      {
        "duration": 40,
        "start_time": "2021-08-30T17:57:45.248Z"
      },
      {
        "duration": 11,
        "start_time": "2021-08-30T17:57:45.292Z"
      },
      {
        "duration": 12,
        "start_time": "2021-08-30T17:57:45.306Z"
      },
      {
        "duration": 716,
        "start_time": "2021-08-30T17:57:45.321Z"
      },
      {
        "duration": 29,
        "start_time": "2021-08-30T17:57:46.040Z"
      },
      {
        "duration": 7,
        "start_time": "2021-08-30T17:57:46.074Z"
      },
      {
        "duration": 15,
        "start_time": "2021-08-30T17:57:46.083Z"
      },
      {
        "duration": 34,
        "start_time": "2021-08-30T17:57:46.101Z"
      },
      {
        "duration": 22,
        "start_time": "2021-08-30T17:57:46.157Z"
      },
      {
        "duration": 540,
        "start_time": "2021-08-30T17:57:46.181Z"
      },
      {
        "duration": 12,
        "start_time": "2021-08-30T17:57:46.723Z"
      },
      {
        "duration": 18,
        "start_time": "2021-08-30T17:57:46.757Z"
      },
      {
        "duration": 12,
        "start_time": "2021-08-30T17:57:46.777Z"
      },
      {
        "duration": 18,
        "start_time": "2021-08-30T17:57:46.792Z"
      },
      {
        "duration": 439,
        "start_time": "2021-08-30T17:57:46.812Z"
      },
      {
        "duration": 3476,
        "start_time": "2021-08-30T17:57:47.256Z"
      },
      {
        "duration": 389,
        "start_time": "2021-08-30T17:57:50.735Z"
      },
      {
        "duration": 20,
        "start_time": "2021-08-30T17:58:48.656Z"
      },
      {
        "duration": 13,
        "start_time": "2021-08-30T17:58:57.585Z"
      },
      {
        "duration": 3110,
        "start_time": "2021-08-30T17:59:43.146Z"
      },
      {
        "duration": 3282,
        "start_time": "2021-08-30T18:00:15.588Z"
      },
      {
        "duration": 3245,
        "start_time": "2021-08-30T18:03:16.125Z"
      },
      {
        "duration": 11,
        "start_time": "2021-08-30T18:03:49.485Z"
      },
      {
        "duration": 5,
        "start_time": "2021-08-30T18:18:48.913Z"
      },
      {
        "duration": 10,
        "start_time": "2021-08-30T18:18:49.447Z"
      },
      {
        "duration": 17,
        "start_time": "2021-08-30T18:26:44.966Z"
      },
      {
        "duration": 697,
        "start_time": "2021-08-30T18:27:16.297Z"
      },
      {
        "duration": 392,
        "start_time": "2021-08-30T18:27:23.264Z"
      },
      {
        "duration": 436,
        "start_time": "2021-08-30T18:27:43.133Z"
      },
      {
        "duration": 10,
        "start_time": "2021-08-30T18:35:39.561Z"
      },
      {
        "duration": 3704,
        "start_time": "2021-08-30T18:38:52.788Z"
      }
    ],
    "kernelspec": {
      "display_name": "Python 3 (ipykernel)",
      "language": "python",
      "name": "python3"
    },
    "language_info": {
      "codemirror_mode": {
        "name": "ipython",
        "version": 3
      },
      "file_extension": ".py",
      "mimetype": "text/x-python",
      "name": "python",
      "nbconvert_exporter": "python",
      "pygments_lexer": "ipython3",
      "version": "3.9.7"
    },
    "toc": {
      "base_numbering": 1,
      "nav_menu": {},
      "number_sections": true,
      "sideBar": true,
      "skip_h1_title": true,
      "title_cell": "Table of Contents",
      "title_sidebar": "Contents",
      "toc_cell": false,
      "toc_position": {},
      "toc_section_display": true,
      "toc_window_display": false
    },
    "colab": {
      "name": "analytics_in_airlines.ipynb",
      "provenance": [],
      "include_colab_link": true
    }
  },
  "nbformat": 4,
  "nbformat_minor": 0
}