{
  "cells": [
    {
      "cell_type": "markdown",
      "metadata": {
        "id": "view-in-github",
        "colab_type": "text"
      },
      "source": [
        "<a href=\"https://colab.research.google.com/github/GrichinNikita2019/yandex_praktikum_da/blob/main/assess_reliability_of_bank_borrowers.ipynb\" target=\"_parent\"><img src=\"https://colab.research.google.com/assets/colab-badge.svg\" alt=\"Open In Colab\"/></a>"
      ]
    },
    {
      "cell_type": "markdown",
      "metadata": {
        "id": "BxSJPYZ5xfTm"
      },
      "source": [
        "# Исследование надёжности заёмщиков\n",
        "\n",
        "Заказчик — кредитный отдел банка. Нужно разобраться, влияет ли семейное положение и количество детей клиента на факт погашения кредита в срок. Входные данные от банка — статистика о платёжеспособности клиентов.\n",
        "\n",
        "Результаты исследования будут учтены при построении модели **кредитного скоринга** — специальной системы, которая оценивает способность потенциального заёмщика вернуть кредит банку.\n",
        "\n",
        "**Задачей проекта является поиск ответов на следующие вопросы:**\n",
        "1. Есть ли зависимость между наличием детей и возвратом кредита в срок?\n",
        "2. Есть ли зависимость между семейным положением и возвратом кредита в срок?\n",
        "3. Есть ли зависимость между уровнем дохода и возвратом кредита в срок?\n",
        "5. Как разные цели кредита влияют на его возврат в срок?\n",
        "\n",
        "**План работы:**\n",
        "1. Шаг 1. Открыть файл с данными и изучить общую информацию\n",
        "2. Шаг 2. Осуществить предобработку данных (обработать пропуски, заменить типы данных, обработать дубликаты, произвести лемматизацию, осуществить категоризацию данных)\n",
        "3. Шаг 3. Ответить на вопросы, поставленные в задачах\n",
        "4. Шаг 4. Сформулировать общий вывод\n",
        "\n",
        "**Описание данных:**\n",
        "\n",
        "* children — *количество детей в семье*\n",
        "* days_employed — *общий трудовой стаж в днях*\n",
        "* dob_years — *возраст клиента в годах*\n",
        "* education — *уровень образования клиента*\n",
        "* education_id — *идентификатор уровня образования*\n",
        "* family_status — *семейное положение*\n",
        "* family_status_id — *идентификатор семейного положения*\n",
        "* gender — *пол клиента*\n",
        "* income_type — *тип занятости*\n",
        "* debt — *имел ли задолженность по возврату кредитов*\n",
        "* total_income — *ежемесячный доход*\n",
        "* purpose — *цель получения кредита*"
      ]
    },
    {
      "cell_type": "markdown",
      "metadata": {
        "id": "MDCaFiZFxfTs"
      },
      "source": [
        "## Знакомство с данными <a id=\"start\"></a>"
      ]
    },
    {
      "cell_type": "markdown",
      "metadata": {
        "id": "cfZu9AlaxfTt"
      },
      "source": [
        "### Общие сведения"
      ]
    },
    {
      "cell_type": "code",
      "execution_count": null,
      "metadata": {
        "id": "HibfARSsxfTt"
      },
      "outputs": [],
      "source": [
        "import pandas as pd\n",
        "from pymystem3 import Mystem\n",
        "m = Mystem() \n",
        "from collections import Counter\n",
        "import matplotlib.pyplot as plt\n",
        "import warnings"
      ]
    },
    {
      "cell_type": "code",
      "execution_count": null,
      "metadata": {
        "id": "LvxaOAVsxfTv"
      },
      "outputs": [],
      "source": [
        "pd.options.display.float_format = '{:,.2f}'.format\n",
        "pd.set_option('display.float_format', lambda x: '%.3f' % x)\n",
        "%matplotlib inline\n",
        "plt.style.use('dark_background')\n",
        "warnings.filterwarnings('ignore')"
      ]
    },
    {
      "cell_type": "code",
      "execution_count": null,
      "metadata": {
        "id": "0De-QnztxfTv"
      },
      "outputs": [],
      "source": [
        "df = pd.read_csv('/datasets/data.csv')"
      ]
    },
    {
      "cell_type": "code",
      "execution_count": null,
      "metadata": {
        "id": "M4spvrauxfTw",
        "outputId": "3236607a-071e-46ab-818a-854774749937"
      },
      "outputs": [
        {
          "data": {
            "text/html": [
              "<div>\n",
              "<style scoped>\n",
              "    .dataframe tbody tr th:only-of-type {\n",
              "        vertical-align: middle;\n",
              "    }\n",
              "\n",
              "    .dataframe tbody tr th {\n",
              "        vertical-align: top;\n",
              "    }\n",
              "\n",
              "    .dataframe thead th {\n",
              "        text-align: right;\n",
              "    }\n",
              "</style>\n",
              "<table border=\"1\" class=\"dataframe\">\n",
              "  <thead>\n",
              "    <tr style=\"text-align: right;\">\n",
              "      <th></th>\n",
              "      <th>children</th>\n",
              "      <th>days_employed</th>\n",
              "      <th>dob_years</th>\n",
              "      <th>education</th>\n",
              "      <th>education_id</th>\n",
              "      <th>family_status</th>\n",
              "      <th>family_status_id</th>\n",
              "      <th>gender</th>\n",
              "      <th>income_type</th>\n",
              "      <th>debt</th>\n",
              "      <th>total_income</th>\n",
              "      <th>purpose</th>\n",
              "    </tr>\n",
              "  </thead>\n",
              "  <tbody>\n",
              "    <tr>\n",
              "      <th>0</th>\n",
              "      <td>1</td>\n",
              "      <td>-8437.673</td>\n",
              "      <td>42</td>\n",
              "      <td>высшее</td>\n",
              "      <td>0</td>\n",
              "      <td>женат / замужем</td>\n",
              "      <td>0</td>\n",
              "      <td>F</td>\n",
              "      <td>сотрудник</td>\n",
              "      <td>0</td>\n",
              "      <td>253875.639</td>\n",
              "      <td>покупка жилья</td>\n",
              "    </tr>\n",
              "    <tr>\n",
              "      <th>1</th>\n",
              "      <td>1</td>\n",
              "      <td>-4024.804</td>\n",
              "      <td>36</td>\n",
              "      <td>среднее</td>\n",
              "      <td>1</td>\n",
              "      <td>женат / замужем</td>\n",
              "      <td>0</td>\n",
              "      <td>F</td>\n",
              "      <td>сотрудник</td>\n",
              "      <td>0</td>\n",
              "      <td>112080.014</td>\n",
              "      <td>приобретение автомобиля</td>\n",
              "    </tr>\n",
              "    <tr>\n",
              "      <th>2</th>\n",
              "      <td>0</td>\n",
              "      <td>-5623.423</td>\n",
              "      <td>33</td>\n",
              "      <td>Среднее</td>\n",
              "      <td>1</td>\n",
              "      <td>женат / замужем</td>\n",
              "      <td>0</td>\n",
              "      <td>M</td>\n",
              "      <td>сотрудник</td>\n",
              "      <td>0</td>\n",
              "      <td>145885.952</td>\n",
              "      <td>покупка жилья</td>\n",
              "    </tr>\n",
              "    <tr>\n",
              "      <th>3</th>\n",
              "      <td>3</td>\n",
              "      <td>-4124.747</td>\n",
              "      <td>32</td>\n",
              "      <td>среднее</td>\n",
              "      <td>1</td>\n",
              "      <td>женат / замужем</td>\n",
              "      <td>0</td>\n",
              "      <td>M</td>\n",
              "      <td>сотрудник</td>\n",
              "      <td>0</td>\n",
              "      <td>267628.550</td>\n",
              "      <td>дополнительное образование</td>\n",
              "    </tr>\n",
              "    <tr>\n",
              "      <th>4</th>\n",
              "      <td>0</td>\n",
              "      <td>340266.072</td>\n",
              "      <td>53</td>\n",
              "      <td>среднее</td>\n",
              "      <td>1</td>\n",
              "      <td>гражданский брак</td>\n",
              "      <td>1</td>\n",
              "      <td>F</td>\n",
              "      <td>пенсионер</td>\n",
              "      <td>0</td>\n",
              "      <td>158616.078</td>\n",
              "      <td>сыграть свадьбу</td>\n",
              "    </tr>\n",
              "    <tr>\n",
              "      <th>5</th>\n",
              "      <td>0</td>\n",
              "      <td>-926.186</td>\n",
              "      <td>27</td>\n",
              "      <td>высшее</td>\n",
              "      <td>0</td>\n",
              "      <td>гражданский брак</td>\n",
              "      <td>1</td>\n",
              "      <td>M</td>\n",
              "      <td>компаньон</td>\n",
              "      <td>0</td>\n",
              "      <td>255763.565</td>\n",
              "      <td>покупка жилья</td>\n",
              "    </tr>\n",
              "    <tr>\n",
              "      <th>6</th>\n",
              "      <td>0</td>\n",
              "      <td>-2879.202</td>\n",
              "      <td>43</td>\n",
              "      <td>высшее</td>\n",
              "      <td>0</td>\n",
              "      <td>женат / замужем</td>\n",
              "      <td>0</td>\n",
              "      <td>F</td>\n",
              "      <td>компаньон</td>\n",
              "      <td>0</td>\n",
              "      <td>240525.972</td>\n",
              "      <td>операции с жильем</td>\n",
              "    </tr>\n",
              "    <tr>\n",
              "      <th>7</th>\n",
              "      <td>0</td>\n",
              "      <td>-152.780</td>\n",
              "      <td>50</td>\n",
              "      <td>СРЕДНЕЕ</td>\n",
              "      <td>1</td>\n",
              "      <td>женат / замужем</td>\n",
              "      <td>0</td>\n",
              "      <td>M</td>\n",
              "      <td>сотрудник</td>\n",
              "      <td>0</td>\n",
              "      <td>135823.934</td>\n",
              "      <td>образование</td>\n",
              "    </tr>\n",
              "    <tr>\n",
              "      <th>8</th>\n",
              "      <td>2</td>\n",
              "      <td>-6929.865</td>\n",
              "      <td>35</td>\n",
              "      <td>ВЫСШЕЕ</td>\n",
              "      <td>0</td>\n",
              "      <td>гражданский брак</td>\n",
              "      <td>1</td>\n",
              "      <td>F</td>\n",
              "      <td>сотрудник</td>\n",
              "      <td>0</td>\n",
              "      <td>95856.832</td>\n",
              "      <td>на проведение свадьбы</td>\n",
              "    </tr>\n",
              "    <tr>\n",
              "      <th>9</th>\n",
              "      <td>0</td>\n",
              "      <td>-2188.756</td>\n",
              "      <td>41</td>\n",
              "      <td>среднее</td>\n",
              "      <td>1</td>\n",
              "      <td>женат / замужем</td>\n",
              "      <td>0</td>\n",
              "      <td>M</td>\n",
              "      <td>сотрудник</td>\n",
              "      <td>0</td>\n",
              "      <td>144425.938</td>\n",
              "      <td>покупка жилья для семьи</td>\n",
              "    </tr>\n",
              "  </tbody>\n",
              "</table>\n",
              "</div>"
            ],
            "text/plain": [
              "   children  days_employed  dob_years education  education_id  \\\n",
              "0         1      -8437.673         42    высшее             0   \n",
              "1         1      -4024.804         36   среднее             1   \n",
              "2         0      -5623.423         33   Среднее             1   \n",
              "3         3      -4124.747         32   среднее             1   \n",
              "4         0     340266.072         53   среднее             1   \n",
              "5         0       -926.186         27    высшее             0   \n",
              "6         0      -2879.202         43    высшее             0   \n",
              "7         0       -152.780         50   СРЕДНЕЕ             1   \n",
              "8         2      -6929.865         35    ВЫСШЕЕ             0   \n",
              "9         0      -2188.756         41   среднее             1   \n",
              "\n",
              "      family_status  family_status_id gender income_type  debt  total_income  \\\n",
              "0   женат / замужем                 0      F   сотрудник     0    253875.639   \n",
              "1   женат / замужем                 0      F   сотрудник     0    112080.014   \n",
              "2   женат / замужем                 0      M   сотрудник     0    145885.952   \n",
              "3   женат / замужем                 0      M   сотрудник     0    267628.550   \n",
              "4  гражданский брак                 1      F   пенсионер     0    158616.078   \n",
              "5  гражданский брак                 1      M   компаньон     0    255763.565   \n",
              "6   женат / замужем                 0      F   компаньон     0    240525.972   \n",
              "7   женат / замужем                 0      M   сотрудник     0    135823.934   \n",
              "8  гражданский брак                 1      F   сотрудник     0     95856.832   \n",
              "9   женат / замужем                 0      M   сотрудник     0    144425.938   \n",
              "\n",
              "                      purpose  \n",
              "0               покупка жилья  \n",
              "1     приобретение автомобиля  \n",
              "2               покупка жилья  \n",
              "3  дополнительное образование  \n",
              "4             сыграть свадьбу  \n",
              "5               покупка жилья  \n",
              "6           операции с жильем  \n",
              "7                 образование  \n",
              "8       на проведение свадьбы  \n",
              "9     покупка жилья для семьи  "
            ]
          },
          "execution_count": 131,
          "metadata": {},
          "output_type": "execute_result"
        }
      ],
      "source": [
        "df.head(10)"
      ]
    },
    {
      "cell_type": "markdown",
      "metadata": {
        "id": "z7l3X5exxfTx"
      },
      "source": [
        "При первом ознакомлении с таблицей в глаза бросаются **3 вещи**:\n",
        "1. В переменной days_employed, которая отражает общий трудовой стаж в днях, есть отрицательные значения. Я помню, как боялся перед первыми собеседованиями вопросов о стаже работы, так как мама с детства пугала тем, что без него никуда не возьмут. Но у меня до устройства на работу трудовой стаж составлял 0 дней. Боюсь представить, что испытывает перед собеседованиями, например, человек с индексом 2, у которого трудовой стаж составляет -5623.422610. ***Отрицательные значения в переменной days_employed необходимо будет заменить на положительные.***\n",
        "\n",
        "2. Также немного смущает, что в переменной days_employed используется формат числа с плавающей точкой. В этом в принципе нет ничего категорически неправильного, но сложно представить себе человека, который на вопрос о количестве отработанных дней, будет отвечать что-то вроде 369 целых 779 стотысячных. Если этот человек не Шелдон Купер, конечно. ***По переменной days_employed небоходимо будет заменить тип данных на int64.***\n",
        "\n",
        "\n",
        "3. В столбце education (уровень образования клиента) заметно, что уровень образования в разных наблюдениях написан в разных регистарх. ***Значения переменной необходимо education сделать единообразными. Все символы должны быть привеены к единому регистру.***"
      ]
    },
    {
      "cell_type": "code",
      "execution_count": null,
      "metadata": {
        "scrolled": true,
        "id": "9iwpIW1KxfTy",
        "outputId": "d15c63c9-34d1-48fc-9100-998d0766c62b"
      },
      "outputs": [
        {
          "name": "stdout",
          "output_type": "stream",
          "text": [
            "<class 'pandas.core.frame.DataFrame'>\n",
            "RangeIndex: 21525 entries, 0 to 21524\n",
            "Data columns (total 12 columns):\n",
            " #   Column            Non-Null Count  Dtype  \n",
            "---  ------            --------------  -----  \n",
            " 0   children          21525 non-null  int64  \n",
            " 1   days_employed     19351 non-null  float64\n",
            " 2   dob_years         21525 non-null  int64  \n",
            " 3   education         21525 non-null  object \n",
            " 4   education_id      21525 non-null  int64  \n",
            " 5   family_status     21525 non-null  object \n",
            " 6   family_status_id  21525 non-null  int64  \n",
            " 7   gender            21525 non-null  object \n",
            " 8   income_type       21525 non-null  object \n",
            " 9   debt              21525 non-null  int64  \n",
            " 10  total_income      19351 non-null  float64\n",
            " 11  purpose           21525 non-null  object \n",
            "dtypes: float64(2), int64(5), object(5)\n",
            "memory usage: 2.0+ MB\n"
          ]
        }
      ],
      "source": [
        "df.info()"
      ]
    },
    {
      "cell_type": "markdown",
      "metadata": {
        "id": "G3pFMMsHxfTz"
      },
      "source": [
        "Еще **2 наблюдения**:\n",
        "1. В нашем датафрейме 12 столбцов и 2152 записей. 2 переменные имеют формат float64, 5 - формат int64 и 5 - object.\n",
        "\n",
        "\n",
        "2. Тут снова отличилась наша любимая переменная days_employed: по ней есть пропущенные значения, так как их количество по стобцу меньше общего количество строк. Аналогичная ситуация с переменной total_income (ежемесячный доход). Возможно это одни и те же люди!"
      ]
    },
    {
      "cell_type": "code",
      "execution_count": null,
      "metadata": {
        "id": "w41HRboTxfTz",
        "outputId": "9a5b1cea-e5b9-41be-c3f3-b660108ccc3f"
      },
      "outputs": [
        {
          "data": {
            "text/html": [
              "<div>\n",
              "<style scoped>\n",
              "    .dataframe tbody tr th:only-of-type {\n",
              "        vertical-align: middle;\n",
              "    }\n",
              "\n",
              "    .dataframe tbody tr th {\n",
              "        vertical-align: top;\n",
              "    }\n",
              "\n",
              "    .dataframe thead th {\n",
              "        text-align: right;\n",
              "    }\n",
              "</style>\n",
              "<table border=\"1\" class=\"dataframe\">\n",
              "  <thead>\n",
              "    <tr style=\"text-align: right;\">\n",
              "      <th></th>\n",
              "      <th>children</th>\n",
              "      <th>days_employed</th>\n",
              "      <th>dob_years</th>\n",
              "      <th>education_id</th>\n",
              "      <th>family_status_id</th>\n",
              "      <th>debt</th>\n",
              "      <th>total_income</th>\n",
              "    </tr>\n",
              "  </thead>\n",
              "  <tbody>\n",
              "    <tr>\n",
              "      <th>count</th>\n",
              "      <td>21525.000</td>\n",
              "      <td>19351.000</td>\n",
              "      <td>21525.000</td>\n",
              "      <td>21525.000</td>\n",
              "      <td>21525.000</td>\n",
              "      <td>21525.000</td>\n",
              "      <td>19351.000</td>\n",
              "    </tr>\n",
              "    <tr>\n",
              "      <th>mean</th>\n",
              "      <td>0.539</td>\n",
              "      <td>63046.498</td>\n",
              "      <td>43.293</td>\n",
              "      <td>0.817</td>\n",
              "      <td>0.973</td>\n",
              "      <td>0.081</td>\n",
              "      <td>167422.302</td>\n",
              "    </tr>\n",
              "    <tr>\n",
              "      <th>std</th>\n",
              "      <td>1.382</td>\n",
              "      <td>140827.312</td>\n",
              "      <td>12.575</td>\n",
              "      <td>0.548</td>\n",
              "      <td>1.420</td>\n",
              "      <td>0.273</td>\n",
              "      <td>102971.566</td>\n",
              "    </tr>\n",
              "    <tr>\n",
              "      <th>min</th>\n",
              "      <td>-1.000</td>\n",
              "      <td>-18388.950</td>\n",
              "      <td>0.000</td>\n",
              "      <td>0.000</td>\n",
              "      <td>0.000</td>\n",
              "      <td>0.000</td>\n",
              "      <td>20667.264</td>\n",
              "    </tr>\n",
              "    <tr>\n",
              "      <th>25%</th>\n",
              "      <td>0.000</td>\n",
              "      <td>-2747.424</td>\n",
              "      <td>33.000</td>\n",
              "      <td>1.000</td>\n",
              "      <td>0.000</td>\n",
              "      <td>0.000</td>\n",
              "      <td>103053.153</td>\n",
              "    </tr>\n",
              "    <tr>\n",
              "      <th>50%</th>\n",
              "      <td>0.000</td>\n",
              "      <td>-1203.370</td>\n",
              "      <td>42.000</td>\n",
              "      <td>1.000</td>\n",
              "      <td>0.000</td>\n",
              "      <td>0.000</td>\n",
              "      <td>145017.938</td>\n",
              "    </tr>\n",
              "    <tr>\n",
              "      <th>75%</th>\n",
              "      <td>1.000</td>\n",
              "      <td>-291.096</td>\n",
              "      <td>53.000</td>\n",
              "      <td>1.000</td>\n",
              "      <td>1.000</td>\n",
              "      <td>0.000</td>\n",
              "      <td>203435.068</td>\n",
              "    </tr>\n",
              "    <tr>\n",
              "      <th>max</th>\n",
              "      <td>20.000</td>\n",
              "      <td>401755.400</td>\n",
              "      <td>75.000</td>\n",
              "      <td>4.000</td>\n",
              "      <td>4.000</td>\n",
              "      <td>1.000</td>\n",
              "      <td>2265604.029</td>\n",
              "    </tr>\n",
              "  </tbody>\n",
              "</table>\n",
              "</div>"
            ],
            "text/plain": [
              "       children  days_employed  dob_years  education_id  family_status_id  \\\n",
              "count 21525.000      19351.000  21525.000     21525.000         21525.000   \n",
              "mean      0.539      63046.498     43.293         0.817             0.973   \n",
              "std       1.382     140827.312     12.575         0.548             1.420   \n",
              "min      -1.000     -18388.950      0.000         0.000             0.000   \n",
              "25%       0.000      -2747.424     33.000         1.000             0.000   \n",
              "50%       0.000      -1203.370     42.000         1.000             0.000   \n",
              "75%       1.000       -291.096     53.000         1.000             1.000   \n",
              "max      20.000     401755.400     75.000         4.000             4.000   \n",
              "\n",
              "           debt  total_income  \n",
              "count 21525.000     19351.000  \n",
              "mean      0.081    167422.302  \n",
              "std       0.273    102971.566  \n",
              "min       0.000     20667.264  \n",
              "25%       0.000    103053.153  \n",
              "50%       0.000    145017.938  \n",
              "75%       0.000    203435.068  \n",
              "max       1.000   2265604.029  "
            ]
          },
          "execution_count": 133,
          "metadata": {},
          "output_type": "execute_result"
        }
      ],
      "source": [
        "df.describe()"
      ]
    },
    {
      "cell_type": "markdown",
      "metadata": {
        "id": "OK_wFfkMxfT0"
      },
      "source": [
        "### Поиск проблем с данными (пропуски, дубликаты и т.д.)"
      ]
    },
    {
      "cell_type": "code",
      "execution_count": null,
      "metadata": {
        "id": "mq_41S5rxfT0",
        "outputId": "5ddcc7c7-c2f5-4b79-834f-3dfd08275a54"
      },
      "outputs": [
        {
          "data": {
            "text/html": [
              "<style  type=\"text/css\" >\n",
              "#T_e12d1_row0_col0,#T_e12d1_row2_col0,#T_e12d1_row3_col0,#T_e12d1_row4_col0,#T_e12d1_row5_col0,#T_e12d1_row6_col0,#T_e12d1_row7_col0,#T_e12d1_row8_col0,#T_e12d1_row9_col0,#T_e12d1_row11_col0{\n",
              "            background-color:  #3b4cc0;\n",
              "            color:  #f1f1f1;\n",
              "        }#T_e12d1_row1_col0,#T_e12d1_row10_col0{\n",
              "            background-color:  #b40426;\n",
              "            color:  #f1f1f1;\n",
              "        }</style><table id=\"T_e12d1_\" ><thead>    <tr>        <th class=\"blank level0\" ></th>        <th class=\"col_heading level0 col0\" >share_of_missing_values</th>    </tr></thead><tbody>\n",
              "                <tr>\n",
              "                        <th id=\"T_e12d1_level0_row0\" class=\"row_heading level0 row0\" >children</th>\n",
              "                        <td id=\"T_e12d1_row0_col0\" class=\"data row0 col0\" >0.000000</td>\n",
              "            </tr>\n",
              "            <tr>\n",
              "                        <th id=\"T_e12d1_level0_row1\" class=\"row_heading level0 row1\" >days_employed</th>\n",
              "                        <td id=\"T_e12d1_row1_col0\" class=\"data row1 col0\" >10.100000</td>\n",
              "            </tr>\n",
              "            <tr>\n",
              "                        <th id=\"T_e12d1_level0_row2\" class=\"row_heading level0 row2\" >dob_years</th>\n",
              "                        <td id=\"T_e12d1_row2_col0\" class=\"data row2 col0\" >0.000000</td>\n",
              "            </tr>\n",
              "            <tr>\n",
              "                        <th id=\"T_e12d1_level0_row3\" class=\"row_heading level0 row3\" >education</th>\n",
              "                        <td id=\"T_e12d1_row3_col0\" class=\"data row3 col0\" >0.000000</td>\n",
              "            </tr>\n",
              "            <tr>\n",
              "                        <th id=\"T_e12d1_level0_row4\" class=\"row_heading level0 row4\" >education_id</th>\n",
              "                        <td id=\"T_e12d1_row4_col0\" class=\"data row4 col0\" >0.000000</td>\n",
              "            </tr>\n",
              "            <tr>\n",
              "                        <th id=\"T_e12d1_level0_row5\" class=\"row_heading level0 row5\" >family_status</th>\n",
              "                        <td id=\"T_e12d1_row5_col0\" class=\"data row5 col0\" >0.000000</td>\n",
              "            </tr>\n",
              "            <tr>\n",
              "                        <th id=\"T_e12d1_level0_row6\" class=\"row_heading level0 row6\" >family_status_id</th>\n",
              "                        <td id=\"T_e12d1_row6_col0\" class=\"data row6 col0\" >0.000000</td>\n",
              "            </tr>\n",
              "            <tr>\n",
              "                        <th id=\"T_e12d1_level0_row7\" class=\"row_heading level0 row7\" >gender</th>\n",
              "                        <td id=\"T_e12d1_row7_col0\" class=\"data row7 col0\" >0.000000</td>\n",
              "            </tr>\n",
              "            <tr>\n",
              "                        <th id=\"T_e12d1_level0_row8\" class=\"row_heading level0 row8\" >income_type</th>\n",
              "                        <td id=\"T_e12d1_row8_col0\" class=\"data row8 col0\" >0.000000</td>\n",
              "            </tr>\n",
              "            <tr>\n",
              "                        <th id=\"T_e12d1_level0_row9\" class=\"row_heading level0 row9\" >debt</th>\n",
              "                        <td id=\"T_e12d1_row9_col0\" class=\"data row9 col0\" >0.000000</td>\n",
              "            </tr>\n",
              "            <tr>\n",
              "                        <th id=\"T_e12d1_level0_row10\" class=\"row_heading level0 row10\" >total_income</th>\n",
              "                        <td id=\"T_e12d1_row10_col0\" class=\"data row10 col0\" >10.100000</td>\n",
              "            </tr>\n",
              "            <tr>\n",
              "                        <th id=\"T_e12d1_level0_row11\" class=\"row_heading level0 row11\" >purpose</th>\n",
              "                        <td id=\"T_e12d1_row11_col0\" class=\"data row11 col0\" >0.000000</td>\n",
              "            </tr>\n",
              "    </tbody></table>"
            ],
            "text/plain": [
              "<pandas.io.formats.style.Styler at 0x7f5bbdc0f550>"
            ]
          },
          "execution_count": 134,
          "metadata": {},
          "output_type": "execute_result"
        }
      ],
      "source": [
        "pd.DataFrame(round((df.isna().mean()*100),2),\n",
        "             columns = ['share_of_missing_values']) \\\n",
        "            .style.background_gradient('coolwarm')"
      ]
    },
    {
      "cell_type": "code",
      "execution_count": null,
      "metadata": {
        "scrolled": false,
        "id": "I6vO8dwjxfT1",
        "outputId": "2ecf88c0-93c4-4666-f63c-b96a72dc2ce5"
      },
      "outputs": [
        {
          "name": "stdout",
          "output_type": "stream",
          "text": [
            "<class 'pandas.core.frame.DataFrame'>\n",
            "Int64Index: 2174 entries, 12 to 21510\n",
            "Data columns (total 12 columns):\n",
            " #   Column            Non-Null Count  Dtype  \n",
            "---  ------            --------------  -----  \n",
            " 0   children          2174 non-null   int64  \n",
            " 1   days_employed     0 non-null      float64\n",
            " 2   dob_years         2174 non-null   int64  \n",
            " 3   education         2174 non-null   object \n",
            " 4   education_id      2174 non-null   int64  \n",
            " 5   family_status     2174 non-null   object \n",
            " 6   family_status_id  2174 non-null   int64  \n",
            " 7   gender            2174 non-null   object \n",
            " 8   income_type       2174 non-null   object \n",
            " 9   debt              2174 non-null   int64  \n",
            " 10  total_income      0 non-null      float64\n",
            " 11  purpose           2174 non-null   object \n",
            "dtypes: float64(2), int64(5), object(5)\n",
            "memory usage: 220.8+ KB\n"
          ]
        }
      ],
      "source": [
        "df[df['days_employed'].isna()].info()"
      ]
    },
    {
      "cell_type": "markdown",
      "metadata": {
        "id": "nMECUaO8xfT1"
      },
      "source": [
        "Гипотеза о том, что это одни и те же люди, подтвердилась. Это наводит на мысль, что значения NaN в случае с переменной days_employed означают отсутствие трудового стажа, а раз нет трудового стажа, нет и ежемесячного дохода. Эту гипотезу также подтверждают 2 последующие строки с кодом, так как по рассматриваемым переменным отсутствуют нулевые значения - так быть не может при нашем-то уровне безработицы."
      ]
    },
    {
      "cell_type": "code",
      "execution_count": null,
      "metadata": {
        "id": "bAJzp-1TxfT1",
        "outputId": "b59ad9ef-923e-428c-f98c-4a9258166510"
      },
      "outputs": [
        {
          "data": {
            "text/plain": [
              "0"
            ]
          },
          "execution_count": 136,
          "metadata": {},
          "output_type": "execute_result"
        }
      ],
      "source": [
        "df['days_employed'][df['days_employed'] == 0].count()"
      ]
    },
    {
      "cell_type": "code",
      "execution_count": null,
      "metadata": {
        "id": "UHcBNYyVxfT2",
        "outputId": "29d74937-4f0e-4b1a-f9b8-6ea5af2aabb7"
      },
      "outputs": [
        {
          "data": {
            "text/plain": [
              "0"
            ]
          },
          "execution_count": 137,
          "metadata": {},
          "output_type": "execute_result"
        }
      ],
      "source": [
        "df['total_income'][df['total_income'] == 0].count()"
      ]
    },
    {
      "cell_type": "markdown",
      "metadata": {
        "id": "GBUiSTNjxfT2"
      },
      "source": [
        "Однако посмотрим на людей с пропущенными значениями внимательнее:"
      ]
    },
    {
      "cell_type": "code",
      "execution_count": null,
      "metadata": {
        "id": "XuyE8BZaxfT2",
        "outputId": "ec45ff84-6405-4f53-f98c-d11b56ceb44f"
      },
      "outputs": [
        {
          "data": {
            "text/html": [
              "<div>\n",
              "<style scoped>\n",
              "    .dataframe tbody tr th:only-of-type {\n",
              "        vertical-align: middle;\n",
              "    }\n",
              "\n",
              "    .dataframe tbody tr th {\n",
              "        vertical-align: top;\n",
              "    }\n",
              "\n",
              "    .dataframe thead th {\n",
              "        text-align: right;\n",
              "    }\n",
              "</style>\n",
              "<table border=\"1\" class=\"dataframe\">\n",
              "  <thead>\n",
              "    <tr style=\"text-align: right;\">\n",
              "      <th></th>\n",
              "      <th>children</th>\n",
              "      <th>days_employed</th>\n",
              "      <th>dob_years</th>\n",
              "      <th>education</th>\n",
              "      <th>education_id</th>\n",
              "      <th>family_status</th>\n",
              "      <th>family_status_id</th>\n",
              "      <th>gender</th>\n",
              "      <th>income_type</th>\n",
              "      <th>debt</th>\n",
              "      <th>total_income</th>\n",
              "      <th>purpose</th>\n",
              "    </tr>\n",
              "  </thead>\n",
              "  <tbody>\n",
              "    <tr>\n",
              "      <th>12</th>\n",
              "      <td>0</td>\n",
              "      <td>NaN</td>\n",
              "      <td>65</td>\n",
              "      <td>среднее</td>\n",
              "      <td>1</td>\n",
              "      <td>гражданский брак</td>\n",
              "      <td>1</td>\n",
              "      <td>M</td>\n",
              "      <td>пенсионер</td>\n",
              "      <td>0</td>\n",
              "      <td>NaN</td>\n",
              "      <td>сыграть свадьбу</td>\n",
              "    </tr>\n",
              "    <tr>\n",
              "      <th>26</th>\n",
              "      <td>0</td>\n",
              "      <td>NaN</td>\n",
              "      <td>41</td>\n",
              "      <td>среднее</td>\n",
              "      <td>1</td>\n",
              "      <td>женат / замужем</td>\n",
              "      <td>0</td>\n",
              "      <td>M</td>\n",
              "      <td>госслужащий</td>\n",
              "      <td>0</td>\n",
              "      <td>NaN</td>\n",
              "      <td>образование</td>\n",
              "    </tr>\n",
              "    <tr>\n",
              "      <th>29</th>\n",
              "      <td>0</td>\n",
              "      <td>NaN</td>\n",
              "      <td>63</td>\n",
              "      <td>среднее</td>\n",
              "      <td>1</td>\n",
              "      <td>Не женат / не замужем</td>\n",
              "      <td>4</td>\n",
              "      <td>F</td>\n",
              "      <td>пенсионер</td>\n",
              "      <td>0</td>\n",
              "      <td>NaN</td>\n",
              "      <td>строительство жилой недвижимости</td>\n",
              "    </tr>\n",
              "    <tr>\n",
              "      <th>41</th>\n",
              "      <td>0</td>\n",
              "      <td>NaN</td>\n",
              "      <td>50</td>\n",
              "      <td>среднее</td>\n",
              "      <td>1</td>\n",
              "      <td>женат / замужем</td>\n",
              "      <td>0</td>\n",
              "      <td>F</td>\n",
              "      <td>госслужащий</td>\n",
              "      <td>0</td>\n",
              "      <td>NaN</td>\n",
              "      <td>сделка с подержанным автомобилем</td>\n",
              "    </tr>\n",
              "    <tr>\n",
              "      <th>55</th>\n",
              "      <td>0</td>\n",
              "      <td>NaN</td>\n",
              "      <td>54</td>\n",
              "      <td>среднее</td>\n",
              "      <td>1</td>\n",
              "      <td>гражданский брак</td>\n",
              "      <td>1</td>\n",
              "      <td>F</td>\n",
              "      <td>пенсионер</td>\n",
              "      <td>1</td>\n",
              "      <td>NaN</td>\n",
              "      <td>сыграть свадьбу</td>\n",
              "    </tr>\n",
              "  </tbody>\n",
              "</table>\n",
              "</div>"
            ],
            "text/plain": [
              "    children  days_employed  dob_years education  education_id  \\\n",
              "12         0            NaN         65   среднее             1   \n",
              "26         0            NaN         41   среднее             1   \n",
              "29         0            NaN         63   среднее             1   \n",
              "41         0            NaN         50   среднее             1   \n",
              "55         0            NaN         54   среднее             1   \n",
              "\n",
              "            family_status  family_status_id gender  income_type  debt  \\\n",
              "12       гражданский брак                 1      M    пенсионер     0   \n",
              "26        женат / замужем                 0      M  госслужащий     0   \n",
              "29  Не женат / не замужем                 4      F    пенсионер     0   \n",
              "41        женат / замужем                 0      F  госслужащий     0   \n",
              "55       гражданский брак                 1      F    пенсионер     1   \n",
              "\n",
              "    total_income                           purpose  \n",
              "12           NaN                   сыграть свадьбу  \n",
              "26           NaN                       образование  \n",
              "29           NaN  строительство жилой недвижимости  \n",
              "41           NaN  сделка с подержанным автомобилем  \n",
              "55           NaN                   сыграть свадьбу  "
            ]
          },
          "execution_count": 138,
          "metadata": {},
          "output_type": "execute_result"
        }
      ],
      "source": [
        "df[df['days_employed'].isna()].head()"
      ]
    },
    {
      "cell_type": "markdown",
      "metadata": {
        "id": "FtPGgmJ6xfT3"
      },
      "source": [
        "Гипотеза о том, что отсутствующие значения необходимо заменить на нули разбивается о простое наблюдение: вряд ли пенсионеры не работали ни дня в своей жизни, и вряд ли госслужащие не получают зарплат (или все еще есть такое?). Поэтому ***пустые значения в переменных days_employed и total_income необходимо будет заменить на среднее или медиану.*** Но пока мы не заменили отрицательные значения на положительные нет смысла выбирать, какой из двух статистик будем заменять пропущенные значения. Пока посмотрим на остальные переменные!"
      ]
    },
    {
      "cell_type": "code",
      "execution_count": null,
      "metadata": {
        "id": "5bbH_FLFxfT3",
        "outputId": "e5527418-f2eb-465a-aa39-cae38db0b3cd"
      },
      "outputs": [
        {
          "data": {
            "text/plain": [
              " 0     14149\n",
              " 1      4818\n",
              " 2      2055\n",
              " 3       330\n",
              " 20       76\n",
              "-1        47\n",
              " 4        41\n",
              " 5         9\n",
              "Name: children, dtype: int64"
            ]
          },
          "execution_count": 139,
          "metadata": {},
          "output_type": "execute_result"
        }
      ],
      "source": [
        "df['children'].value_counts()"
      ]
    },
    {
      "cell_type": "markdown",
      "metadata": {
        "id": "4R8rCnGxxfT3"
      },
      "source": [
        "C переменной children (количество детей в семье) тоже есть некоторые странности: что значит минус 1 ребенок в семье? Очевидно, что ***отрицательное значение переменной children (-1) необходимо заменить на положительное.*** Но не менее странно и наличие большого числа семей с 20 детьми. Подозрительно отчасти потому, что от 5 до 20 детей в семье нет промежуточных значений. Скорее всего количество детей подчинялось бы нормальному распределению, а тут прям очевидный артефакт (видно на графике ниже) - скорее всего лишний нолик после двойки. ***Заменим значение переменной children равное 20 на 2.***"
      ]
    },
    {
      "cell_type": "code",
      "execution_count": null,
      "metadata": {
        "id": "OiGxG2XAxfT4",
        "outputId": "1259ff19-e9d9-421f-a05d-1f47041ba75e"
      },
      "outputs": [
        {
          "data": {
            "image/png": "[encoded data removed]",
            "text/plain": [
              "<Figure size 864x360 with 1 Axes>"
            ]
          },
          "metadata": {},
          "output_type": "display_data"
        }
      ],
      "source": [
        "plt.figure(figsize=(12,5))\n",
        "plt.plot(df.groupby('children')['children'].count(), 'r')\n",
        "plt.title('Распределение количества детей среди заемщиков')\n",
        "plt.xlabel('Количество детей в семье')\n",
        "plt.ylabel('Количество людей (шт.)')\n",
        "plt.show();"
      ]
    },
    {
      "cell_type": "markdown",
      "metadata": {
        "id": "lOJgXuO4xfT4"
      },
      "source": [
        "Продолжаем разбираться с переменными. Теперь посмотрим на возраст:"
      ]
    },
    {
      "cell_type": "code",
      "execution_count": null,
      "metadata": {
        "scrolled": true,
        "id": "mCrfQgdFxfT4",
        "outputId": "c744ef26-a43a-4388-bc35-128d0d980677"
      },
      "outputs": [
        {
          "data": {
            "text/plain": [
              "35    617\n",
              "40    609\n",
              "41    607\n",
              "34    603\n",
              "38    598\n",
              "42    597\n",
              "33    581\n",
              "39    573\n",
              "31    560\n",
              "36    555\n",
              "44    547\n",
              "29    545\n",
              "30    540\n",
              "48    538\n",
              "37    537\n",
              "50    514\n",
              "43    513\n",
              "32    510\n",
              "49    508\n",
              "28    503\n",
              "45    497\n",
              "27    493\n",
              "56    487\n",
              "52    484\n",
              "47    480\n",
              "54    479\n",
              "46    475\n",
              "58    461\n",
              "57    460\n",
              "53    459\n",
              "51    448\n",
              "59    444\n",
              "55    443\n",
              "26    408\n",
              "60    377\n",
              "25    357\n",
              "61    355\n",
              "62    352\n",
              "63    269\n",
              "64    265\n",
              "24    264\n",
              "23    254\n",
              "65    194\n",
              "66    183\n",
              "22    183\n",
              "67    167\n",
              "21    111\n",
              "0     101\n",
              "68     99\n",
              "69     85\n",
              "70     65\n",
              "71     58\n",
              "20     51\n",
              "72     33\n",
              "19     14\n",
              "73      8\n",
              "74      6\n",
              "75      1\n",
              "Name: dob_years, dtype: int64"
            ]
          },
          "execution_count": 141,
          "metadata": {},
          "output_type": "execute_result"
        }
      ],
      "source": [
        "df['dob_years'].value_counts()"
      ]
    },
    {
      "cell_type": "markdown",
      "metadata": {
        "id": "e3SOA6nvxfT5"
      },
      "source": [
        "Кто эти люди, что в 1 год подают заявки на кредит? Посмотрим на них поближе!"
      ]
    },
    {
      "cell_type": "code",
      "execution_count": null,
      "metadata": {
        "id": "2-q_uTPdxfT5",
        "outputId": "898fd370-fea5-4005-fca8-3e4366e45e0e"
      },
      "outputs": [
        {
          "data": {
            "text/html": [
              "<div>\n",
              "<style scoped>\n",
              "    .dataframe tbody tr th:only-of-type {\n",
              "        vertical-align: middle;\n",
              "    }\n",
              "\n",
              "    .dataframe tbody tr th {\n",
              "        vertical-align: top;\n",
              "    }\n",
              "\n",
              "    .dataframe thead th {\n",
              "        text-align: right;\n",
              "    }\n",
              "</style>\n",
              "<table border=\"1\" class=\"dataframe\">\n",
              "  <thead>\n",
              "    <tr style=\"text-align: right;\">\n",
              "      <th></th>\n",
              "      <th>children</th>\n",
              "      <th>days_employed</th>\n",
              "      <th>dob_years</th>\n",
              "      <th>education</th>\n",
              "      <th>education_id</th>\n",
              "      <th>family_status</th>\n",
              "      <th>family_status_id</th>\n",
              "      <th>gender</th>\n",
              "      <th>income_type</th>\n",
              "      <th>debt</th>\n",
              "      <th>total_income</th>\n",
              "      <th>purpose</th>\n",
              "    </tr>\n",
              "  </thead>\n",
              "  <tbody>\n",
              "    <tr>\n",
              "      <th>99</th>\n",
              "      <td>0</td>\n",
              "      <td>346541.619</td>\n",
              "      <td>0</td>\n",
              "      <td>Среднее</td>\n",
              "      <td>1</td>\n",
              "      <td>женат / замужем</td>\n",
              "      <td>0</td>\n",
              "      <td>F</td>\n",
              "      <td>пенсионер</td>\n",
              "      <td>0</td>\n",
              "      <td>71291.522</td>\n",
              "      <td>автомобиль</td>\n",
              "    </tr>\n",
              "    <tr>\n",
              "      <th>149</th>\n",
              "      <td>0</td>\n",
              "      <td>-2664.273</td>\n",
              "      <td>0</td>\n",
              "      <td>среднее</td>\n",
              "      <td>1</td>\n",
              "      <td>в разводе</td>\n",
              "      <td>3</td>\n",
              "      <td>F</td>\n",
              "      <td>сотрудник</td>\n",
              "      <td>0</td>\n",
              "      <td>70176.436</td>\n",
              "      <td>операции с жильем</td>\n",
              "    </tr>\n",
              "    <tr>\n",
              "      <th>270</th>\n",
              "      <td>3</td>\n",
              "      <td>-1872.663</td>\n",
              "      <td>0</td>\n",
              "      <td>среднее</td>\n",
              "      <td>1</td>\n",
              "      <td>женат / замужем</td>\n",
              "      <td>0</td>\n",
              "      <td>F</td>\n",
              "      <td>сотрудник</td>\n",
              "      <td>0</td>\n",
              "      <td>102166.459</td>\n",
              "      <td>ремонт жилью</td>\n",
              "    </tr>\n",
              "    <tr>\n",
              "      <th>578</th>\n",
              "      <td>0</td>\n",
              "      <td>397856.565</td>\n",
              "      <td>0</td>\n",
              "      <td>среднее</td>\n",
              "      <td>1</td>\n",
              "      <td>женат / замужем</td>\n",
              "      <td>0</td>\n",
              "      <td>F</td>\n",
              "      <td>пенсионер</td>\n",
              "      <td>0</td>\n",
              "      <td>97620.687</td>\n",
              "      <td>строительство собственной недвижимости</td>\n",
              "    </tr>\n",
              "    <tr>\n",
              "      <th>1040</th>\n",
              "      <td>0</td>\n",
              "      <td>-1158.030</td>\n",
              "      <td>0</td>\n",
              "      <td>высшее</td>\n",
              "      <td>0</td>\n",
              "      <td>в разводе</td>\n",
              "      <td>3</td>\n",
              "      <td>F</td>\n",
              "      <td>компаньон</td>\n",
              "      <td>0</td>\n",
              "      <td>303994.135</td>\n",
              "      <td>свой автомобиль</td>\n",
              "    </tr>\n",
              "    <tr>\n",
              "      <th>...</th>\n",
              "      <td>...</td>\n",
              "      <td>...</td>\n",
              "      <td>...</td>\n",
              "      <td>...</td>\n",
              "      <td>...</td>\n",
              "      <td>...</td>\n",
              "      <td>...</td>\n",
              "      <td>...</td>\n",
              "      <td>...</td>\n",
              "      <td>...</td>\n",
              "      <td>...</td>\n",
              "      <td>...</td>\n",
              "    </tr>\n",
              "    <tr>\n",
              "      <th>19829</th>\n",
              "      <td>0</td>\n",
              "      <td>NaN</td>\n",
              "      <td>0</td>\n",
              "      <td>среднее</td>\n",
              "      <td>1</td>\n",
              "      <td>женат / замужем</td>\n",
              "      <td>0</td>\n",
              "      <td>F</td>\n",
              "      <td>сотрудник</td>\n",
              "      <td>0</td>\n",
              "      <td>NaN</td>\n",
              "      <td>жилье</td>\n",
              "    </tr>\n",
              "    <tr>\n",
              "      <th>20462</th>\n",
              "      <td>0</td>\n",
              "      <td>338734.869</td>\n",
              "      <td>0</td>\n",
              "      <td>среднее</td>\n",
              "      <td>1</td>\n",
              "      <td>женат / замужем</td>\n",
              "      <td>0</td>\n",
              "      <td>F</td>\n",
              "      <td>пенсионер</td>\n",
              "      <td>0</td>\n",
              "      <td>259193.920</td>\n",
              "      <td>покупка своего жилья</td>\n",
              "    </tr>\n",
              "    <tr>\n",
              "      <th>20577</th>\n",
              "      <td>0</td>\n",
              "      <td>331741.271</td>\n",
              "      <td>0</td>\n",
              "      <td>среднее</td>\n",
              "      <td>1</td>\n",
              "      <td>Не женат / не замужем</td>\n",
              "      <td>4</td>\n",
              "      <td>F</td>\n",
              "      <td>пенсионер</td>\n",
              "      <td>0</td>\n",
              "      <td>129788.763</td>\n",
              "      <td>недвижимость</td>\n",
              "    </tr>\n",
              "    <tr>\n",
              "      <th>21179</th>\n",
              "      <td>2</td>\n",
              "      <td>-108.967</td>\n",
              "      <td>0</td>\n",
              "      <td>высшее</td>\n",
              "      <td>0</td>\n",
              "      <td>женат / замужем</td>\n",
              "      <td>0</td>\n",
              "      <td>M</td>\n",
              "      <td>компаньон</td>\n",
              "      <td>0</td>\n",
              "      <td>240702.007</td>\n",
              "      <td>строительство жилой недвижимости</td>\n",
              "    </tr>\n",
              "    <tr>\n",
              "      <th>21313</th>\n",
              "      <td>0</td>\n",
              "      <td>-1268.488</td>\n",
              "      <td>0</td>\n",
              "      <td>среднее</td>\n",
              "      <td>1</td>\n",
              "      <td>Не женат / не замужем</td>\n",
              "      <td>4</td>\n",
              "      <td>M</td>\n",
              "      <td>сотрудник</td>\n",
              "      <td>0</td>\n",
              "      <td>152419.185</td>\n",
              "      <td>операции с жильем</td>\n",
              "    </tr>\n",
              "  </tbody>\n",
              "</table>\n",
              "<p>101 rows × 12 columns</p>\n",
              "</div>"
            ],
            "text/plain": [
              "       children  days_employed  dob_years education  education_id  \\\n",
              "99            0     346541.619          0   Среднее             1   \n",
              "149           0      -2664.273          0   среднее             1   \n",
              "270           3      -1872.663          0   среднее             1   \n",
              "578           0     397856.565          0   среднее             1   \n",
              "1040          0      -1158.030          0    высшее             0   \n",
              "...         ...            ...        ...       ...           ...   \n",
              "19829         0            NaN          0   среднее             1   \n",
              "20462         0     338734.869          0   среднее             1   \n",
              "20577         0     331741.271          0   среднее             1   \n",
              "21179         2       -108.967          0    высшее             0   \n",
              "21313         0      -1268.488          0   среднее             1   \n",
              "\n",
              "               family_status  family_status_id gender income_type  debt  \\\n",
              "99           женат / замужем                 0      F   пенсионер     0   \n",
              "149                в разводе                 3      F   сотрудник     0   \n",
              "270          женат / замужем                 0      F   сотрудник     0   \n",
              "578          женат / замужем                 0      F   пенсионер     0   \n",
              "1040               в разводе                 3      F   компаньон     0   \n",
              "...                      ...               ...    ...         ...   ...   \n",
              "19829        женат / замужем                 0      F   сотрудник     0   \n",
              "20462        женат / замужем                 0      F   пенсионер     0   \n",
              "20577  Не женат / не замужем                 4      F   пенсионер     0   \n",
              "21179        женат / замужем                 0      M   компаньон     0   \n",
              "21313  Не женат / не замужем                 4      M   сотрудник     0   \n",
              "\n",
              "       total_income                                 purpose  \n",
              "99        71291.522                              автомобиль  \n",
              "149       70176.436                       операции с жильем  \n",
              "270      102166.459                            ремонт жилью  \n",
              "578       97620.687  строительство собственной недвижимости  \n",
              "1040     303994.135                         свой автомобиль  \n",
              "...             ...                                     ...  \n",
              "19829           NaN                                   жилье  \n",
              "20462    259193.920                    покупка своего жилья  \n",
              "20577    129788.763                            недвижимость  \n",
              "21179    240702.007        строительство жилой недвижимости  \n",
              "21313    152419.185                       операции с жильем  \n",
              "\n",
              "[101 rows x 12 columns]"
            ]
          },
          "execution_count": 142,
          "metadata": {},
          "output_type": "execute_result"
        }
      ],
      "source": [
        "df[df['dob_years'] == 0]"
      ]
    },
    {
      "cell_type": "markdown",
      "metadata": {
        "id": "AtAznup7xfT5"
      },
      "source": [
        "Среди них пенсионеры, люди в разводе и люди с высшим образованием. Вероятно нулями заполняли пустые значения. В этом кейсе пропущенные значения можно заполнить медианными значениями, однако, как мы заметили, среди наших \"младенцев\" есть как пенсионеры, так и люди помоложе, поэтому было бы неправильно всем им ставить одинаковый возраст. Лучше ***рассчитать средний возраст для каждой категории по перемеенной income_type (тип занятости) и подставлять пропущенные значения в соответствующие категории.*** А пока продолжаем изучать переменные. Посмотрим на гендер, на все 163!"
      ]
    },
    {
      "cell_type": "code",
      "execution_count": null,
      "metadata": {
        "scrolled": false,
        "id": "gNoLtjaQxfT5",
        "outputId": "1355e586-8ded-4b99-ec12-446f101d1088"
      },
      "outputs": [
        {
          "data": {
            "text/plain": [
              "F      14236\n",
              "M       7288\n",
              "XNA        1\n",
              "Name: gender, dtype: int64"
            ]
          },
          "execution_count": 143,
          "metadata": {},
          "output_type": "execute_result"
        }
      ],
      "source": [
        "df['gender'].value_counts()"
      ]
    },
    {
      "cell_type": "code",
      "execution_count": null,
      "metadata": {
        "scrolled": true,
        "id": "l6jSj3eBxfT6",
        "outputId": "5fc12417-7f91-4fd0-f645-d9826e961284"
      },
      "outputs": [
        {
          "data": {
            "text/html": [
              "<div>\n",
              "<style scoped>\n",
              "    .dataframe tbody tr th:only-of-type {\n",
              "        vertical-align: middle;\n",
              "    }\n",
              "\n",
              "    .dataframe tbody tr th {\n",
              "        vertical-align: top;\n",
              "    }\n",
              "\n",
              "    .dataframe thead th {\n",
              "        text-align: right;\n",
              "    }\n",
              "</style>\n",
              "<table border=\"1\" class=\"dataframe\">\n",
              "  <thead>\n",
              "    <tr style=\"text-align: right;\">\n",
              "      <th></th>\n",
              "      <th>children</th>\n",
              "      <th>days_employed</th>\n",
              "      <th>dob_years</th>\n",
              "      <th>education</th>\n",
              "      <th>education_id</th>\n",
              "      <th>family_status</th>\n",
              "      <th>family_status_id</th>\n",
              "      <th>gender</th>\n",
              "      <th>income_type</th>\n",
              "      <th>debt</th>\n",
              "      <th>total_income</th>\n",
              "      <th>purpose</th>\n",
              "    </tr>\n",
              "  </thead>\n",
              "  <tbody>\n",
              "    <tr>\n",
              "      <th>10701</th>\n",
              "      <td>0</td>\n",
              "      <td>-2358.601</td>\n",
              "      <td>24</td>\n",
              "      <td>неоконченное высшее</td>\n",
              "      <td>2</td>\n",
              "      <td>гражданский брак</td>\n",
              "      <td>1</td>\n",
              "      <td>XNA</td>\n",
              "      <td>компаньон</td>\n",
              "      <td>0</td>\n",
              "      <td>203905.157</td>\n",
              "      <td>покупка недвижимости</td>\n",
              "    </tr>\n",
              "  </tbody>\n",
              "</table>\n",
              "</div>"
            ],
            "text/plain": [
              "       children  days_employed  dob_years            education  education_id  \\\n",
              "10701         0      -2358.601         24  неоконченное высшее             2   \n",
              "\n",
              "          family_status  family_status_id gender income_type  debt  \\\n",
              "10701  гражданский брак                 1    XNA   компаньон     0   \n",
              "\n",
              "       total_income               purpose  \n",
              "10701    203905.157  покупка недвижимости  "
            ]
          },
          "execution_count": 144,
          "metadata": {},
          "output_type": "execute_result"
        }
      ],
      "source": [
        "df[df['gender'] == 'XNA']"
      ]
    },
    {
      "cell_type": "markdown",
      "metadata": {
        "id": "SHccmNLtxfT6"
      },
      "source": [
        "А, нет, к сожалению, только 3. И третий здесь XNA, видимо текстовый аналог отсутствия/пропуска значения. Возможности вычислить, какой же гендер у человека с id 10701 нет, поэтому ***лучшим решением будет удалить пустую строку из переменной gender.***"
      ]
    },
    {
      "cell_type": "code",
      "execution_count": null,
      "metadata": {
        "id": "k_X-Q_-dxfT6",
        "outputId": "02d2cf38-21a7-4896-e1ed-2ebabe81155b"
      },
      "outputs": [
        {
          "data": {
            "text/plain": [
              "54"
            ]
          },
          "execution_count": 145,
          "metadata": {},
          "output_type": "execute_result"
        }
      ],
      "source": [
        "df.duplicated().sum()"
      ]
    },
    {
      "cell_type": "markdown",
      "metadata": {
        "id": "19mBHfO4xfT6"
      },
      "source": [
        "В нашем датафрейме 54 дубликата. И это мы еще не привели к единообразию значения переменной education, возможно их станет больше. ***Все дубликаты из таблицы необходимо будет удалить.***"
      ]
    },
    {
      "cell_type": "markdown",
      "metadata": {
        "id": "TqO5inSoxfT6"
      },
      "source": [
        "### Итоги знакомства с данными и промежуточные выводы"
      ]
    },
    {
      "cell_type": "markdown",
      "metadata": {
        "id": "PUcwLGbKxfT7"
      },
      "source": [
        "Подведем итоги ознакомления с данными. В нашем дата фрейме был обнаружен ряд проблем. Для их устранения были предложены меры их устранения. Соберем их в одном месте, чтобы ориентироваться на них как на список задач:\n",
        "1. Отрицательные значения в переменной days_employed необходимо будет заменить на положительные;\n",
        "2. По переменной days_employed небоходимо будет заменить тип данных на int64;\n",
        "3. Значения переменной необходимо education сделать единообразными. Все символы должны быть привеены к единому регистру;\n",
        "4. Пустые значения в переменных days_employed и total_income необходимо будет заменить на среднее или медиану;\n",
        "5. Отрицательное значение переменной children (-1) необходимо заменить на положительные, а также заменим значение переменной children равное 20 на 2;\n",
        "6. Расчитать средний возраст для каждой категории по перемеенной income_type (тип занятости) и подставлять пропущенные значения в соответствующие категории;\n",
        "7. Удалить пустую строку из переменной gender (строку со значением XNA);\n",
        "8. Все дубликаты из таблицы необходимо будет удалить."
      ]
    },
    {
      "cell_type": "markdown",
      "metadata": {
        "id": "ZawRB3aCxfT7"
      },
      "source": [
        "## Предобработка данных <a id=\"some_id\"></a>"
      ]
    },
    {
      "cell_type": "markdown",
      "metadata": {
        "id": "wT-tJkg0xfT7"
      },
      "source": [
        "### Обработка пропусков"
      ]
    },
    {
      "cell_type": "markdown",
      "metadata": {
        "id": "fvGDA90wxfT7"
      },
      "source": [
        "Сначала уберем отрицательные значения переменной days_employed. Самый простой метод: умножить эти значения на -1. Для этого напишем функцию to_positive, которая и сделает это."
      ]
    },
    {
      "cell_type": "code",
      "execution_count": null,
      "metadata": {
        "id": "xJ5EcQuExfT7"
      },
      "outputs": [],
      "source": [
        "def to_positive(row):\n",
        "    value = row['days_employed']\n",
        "    if value > 0:\n",
        "            return value\n",
        "    return value*-1"
      ]
    },
    {
      "cell_type": "code",
      "execution_count": null,
      "metadata": {
        "id": "XItm8X3zxfT8"
      },
      "outputs": [],
      "source": [
        "df['days_employed'] = df['days_employed'].abs()"
      ]
    },
    {
      "cell_type": "code",
      "execution_count": null,
      "metadata": {
        "id": "8_v5IbtsxfT8",
        "outputId": "b928d37a-8272-4ddc-f7fb-6896f63754ca"
      },
      "outputs": [
        {
          "data": {
            "text/plain": [
              "count    19351.000\n",
              "mean     66914.729\n",
              "std     139030.881\n",
              "min         24.142\n",
              "25%        927.009\n",
              "50%       2194.221\n",
              "75%       5537.882\n",
              "max     401755.400\n",
              "Name: days_employed, dtype: float64"
            ]
          },
          "execution_count": 148,
          "metadata": {},
          "output_type": "execute_result"
        }
      ],
      "source": [
        "df['days_employed'].describe()"
      ]
    },
    {
      "cell_type": "code",
      "execution_count": null,
      "metadata": {
        "id": "CkQ3A4HvxfT8",
        "outputId": "916d6cf5-1357-436e-843b-6bd2d1f754af"
      },
      "outputs": [
        {
          "data": {
            "text/html": [
              "<div>\n",
              "<style scoped>\n",
              "    .dataframe tbody tr th:only-of-type {\n",
              "        vertical-align: middle;\n",
              "    }\n",
              "\n",
              "    .dataframe tbody tr th {\n",
              "        vertical-align: top;\n",
              "    }\n",
              "\n",
              "    .dataframe thead th {\n",
              "        text-align: right;\n",
              "    }\n",
              "</style>\n",
              "<table border=\"1\" class=\"dataframe\">\n",
              "  <thead>\n",
              "    <tr style=\"text-align: right;\">\n",
              "      <th></th>\n",
              "      <th>children</th>\n",
              "      <th>days_employed</th>\n",
              "      <th>dob_years</th>\n",
              "      <th>education</th>\n",
              "      <th>education_id</th>\n",
              "      <th>family_status</th>\n",
              "      <th>family_status_id</th>\n",
              "      <th>gender</th>\n",
              "      <th>income_type</th>\n",
              "      <th>debt</th>\n",
              "      <th>total_income</th>\n",
              "      <th>purpose</th>\n",
              "    </tr>\n",
              "  </thead>\n",
              "  <tbody>\n",
              "    <tr>\n",
              "      <th>0</th>\n",
              "      <td>1</td>\n",
              "      <td>8437.673</td>\n",
              "      <td>42</td>\n",
              "      <td>высшее</td>\n",
              "      <td>0</td>\n",
              "      <td>женат / замужем</td>\n",
              "      <td>0</td>\n",
              "      <td>F</td>\n",
              "      <td>сотрудник</td>\n",
              "      <td>0</td>\n",
              "      <td>253875.639</td>\n",
              "      <td>покупка жилья</td>\n",
              "    </tr>\n",
              "    <tr>\n",
              "      <th>1</th>\n",
              "      <td>1</td>\n",
              "      <td>4024.804</td>\n",
              "      <td>36</td>\n",
              "      <td>среднее</td>\n",
              "      <td>1</td>\n",
              "      <td>женат / замужем</td>\n",
              "      <td>0</td>\n",
              "      <td>F</td>\n",
              "      <td>сотрудник</td>\n",
              "      <td>0</td>\n",
              "      <td>112080.014</td>\n",
              "      <td>приобретение автомобиля</td>\n",
              "    </tr>\n",
              "    <tr>\n",
              "      <th>2</th>\n",
              "      <td>0</td>\n",
              "      <td>5623.423</td>\n",
              "      <td>33</td>\n",
              "      <td>Среднее</td>\n",
              "      <td>1</td>\n",
              "      <td>женат / замужем</td>\n",
              "      <td>0</td>\n",
              "      <td>M</td>\n",
              "      <td>сотрудник</td>\n",
              "      <td>0</td>\n",
              "      <td>145885.952</td>\n",
              "      <td>покупка жилья</td>\n",
              "    </tr>\n",
              "    <tr>\n",
              "      <th>3</th>\n",
              "      <td>3</td>\n",
              "      <td>4124.747</td>\n",
              "      <td>32</td>\n",
              "      <td>среднее</td>\n",
              "      <td>1</td>\n",
              "      <td>женат / замужем</td>\n",
              "      <td>0</td>\n",
              "      <td>M</td>\n",
              "      <td>сотрудник</td>\n",
              "      <td>0</td>\n",
              "      <td>267628.550</td>\n",
              "      <td>дополнительное образование</td>\n",
              "    </tr>\n",
              "    <tr>\n",
              "      <th>4</th>\n",
              "      <td>0</td>\n",
              "      <td>340266.072</td>\n",
              "      <td>53</td>\n",
              "      <td>среднее</td>\n",
              "      <td>1</td>\n",
              "      <td>гражданский брак</td>\n",
              "      <td>1</td>\n",
              "      <td>F</td>\n",
              "      <td>пенсионер</td>\n",
              "      <td>0</td>\n",
              "      <td>158616.078</td>\n",
              "      <td>сыграть свадьбу</td>\n",
              "    </tr>\n",
              "  </tbody>\n",
              "</table>\n",
              "</div>"
            ],
            "text/plain": [
              "   children  days_employed  dob_years education  education_id  \\\n",
              "0         1       8437.673         42    высшее             0   \n",
              "1         1       4024.804         36   среднее             1   \n",
              "2         0       5623.423         33   Среднее             1   \n",
              "3         3       4124.747         32   среднее             1   \n",
              "4         0     340266.072         53   среднее             1   \n",
              "\n",
              "      family_status  family_status_id gender income_type  debt  total_income  \\\n",
              "0   женат / замужем                 0      F   сотрудник     0    253875.639   \n",
              "1   женат / замужем                 0      F   сотрудник     0    112080.014   \n",
              "2   женат / замужем                 0      M   сотрудник     0    145885.952   \n",
              "3   женат / замужем                 0      M   сотрудник     0    267628.550   \n",
              "4  гражданский брак                 1      F   пенсионер     0    158616.078   \n",
              "\n",
              "                      purpose  \n",
              "0               покупка жилья  \n",
              "1     приобретение автомобиля  \n",
              "2               покупка жилья  \n",
              "3  дополнительное образование  \n",
              "4             сыграть свадьбу  "
            ]
          },
          "execution_count": 149,
          "metadata": {},
          "output_type": "execute_result"
        }
      ],
      "source": [
        "df.head()"
      ]
    },
    {
      "cell_type": "markdown",
      "metadata": {
        "id": "jsRt816SxfT8"
      },
      "source": [
        "Теперь самое низкое значение по переменной равно 24.141633. Посмотрим на среднюю и медиану, чтобы понять, чем будем заполнять пропуски."
      ]
    },
    {
      "cell_type": "code",
      "execution_count": null,
      "metadata": {
        "id": "Wd36M6jBxfT8",
        "outputId": "49550024-6a4b-4f31-8a25-29f27c5086ba"
      },
      "outputs": [
        {
          "data": {
            "text/plain": [
              "count    19351.000\n",
              "mean     66914.729\n",
              "std     139030.881\n",
              "min         24.142\n",
              "25%        927.009\n",
              "50%       2194.221\n",
              "75%       5537.882\n",
              "max     401755.400\n",
              "Name: days_employed, dtype: float64"
            ]
          },
          "execution_count": 150,
          "metadata": {},
          "output_type": "execute_result"
        }
      ],
      "source": [
        "df['days_employed'].describe()"
      ]
    },
    {
      "cell_type": "code",
      "execution_count": null,
      "metadata": {
        "scrolled": false,
        "id": "n8OGdaHExfT8",
        "outputId": "37d79eb3-6579-40c9-9ac2-f563ac320298"
      },
      "outputs": [
        {
          "data": {
            "text/plain": [
              "66914.72890682236"
            ]
          },
          "execution_count": 151,
          "metadata": {},
          "output_type": "execute_result"
        }
      ],
      "source": [
        "df['days_employed'].mean()"
      ]
    },
    {
      "cell_type": "code",
      "execution_count": null,
      "metadata": {
        "id": "DldHHc1UxfT9",
        "outputId": "5772f781-07e9-48a9-f46d-816a9f5c4d7b"
      },
      "outputs": [
        {
          "data": {
            "text/plain": [
              "2194.220566878695"
            ]
          },
          "execution_count": 152,
          "metadata": {},
          "output_type": "execute_result"
        }
      ],
      "source": [
        "df['days_employed'].median()"
      ]
    },
    {
      "cell_type": "markdown",
      "metadata": {
        "id": "FwlKaeoWxfT9"
      },
      "source": [
        "Значения очень сильно отличаются, причем медиана намного ниже, что свидетельствует о том, что у нас есть экстримально высокие значения. И да, метод describe() парой строк выше показал нам, максимальный по выборке трудовой стаж - 401755 дней. Это примерно 1100 лет. Во время службы в армии я встречал полковника, у которого срок службы в армии был почти равен или превышал его возраст. Так получалось из-за того, что он служил в нескольких горячих точках, и один год службы ему засчитывался за 3. Но в этом случае заслуги полковника уже не кажутся такими великими. ***Используем в качестве заполнителя пропущенных значений по переменной days_employed медиану.***"
      ]
    },
    {
      "cell_type": "code",
      "execution_count": null,
      "metadata": {
        "id": "8nMDvixaxfT9"
      },
      "outputs": [],
      "source": [
        "days_employed_median = df['days_employed'].median()"
      ]
    },
    {
      "cell_type": "code",
      "execution_count": null,
      "metadata": {
        "id": "se4iwse6xfT9"
      },
      "outputs": [],
      "source": [
        "df['days_employed'].fillna(days_employed_median,inplace=True)"
      ]
    },
    {
      "cell_type": "code",
      "execution_count": null,
      "metadata": {
        "scrolled": true,
        "id": "AxAcZmvRxfT9",
        "outputId": "dca70e47-142b-4b07-cd97-b644d9e61e48"
      },
      "outputs": [
        {
          "name": "stdout",
          "output_type": "stream",
          "text": [
            "<class 'pandas.core.frame.DataFrame'>\n",
            "RangeIndex: 21525 entries, 0 to 21524\n",
            "Data columns (total 12 columns):\n",
            " #   Column            Non-Null Count  Dtype  \n",
            "---  ------            --------------  -----  \n",
            " 0   children          21525 non-null  int64  \n",
            " 1   days_employed     21525 non-null  float64\n",
            " 2   dob_years         21525 non-null  int64  \n",
            " 3   education         21525 non-null  object \n",
            " 4   education_id      21525 non-null  int64  \n",
            " 5   family_status     21525 non-null  object \n",
            " 6   family_status_id  21525 non-null  int64  \n",
            " 7   gender            21525 non-null  object \n",
            " 8   income_type       21525 non-null  object \n",
            " 9   debt              21525 non-null  int64  \n",
            " 10  total_income      19351 non-null  float64\n",
            " 11  purpose           21525 non-null  object \n",
            "dtypes: float64(2), int64(5), object(5)\n",
            "memory usage: 2.0+ MB\n"
          ]
        }
      ],
      "source": [
        "df.info()"
      ]
    },
    {
      "cell_type": "markdown",
      "metadata": {
        "id": "ocazX6EcxfT-"
      },
      "source": [
        "C пропусками в переменной days_employed покончено. Настала очередь total_income! Проделываем аналогичные операции."
      ]
    },
    {
      "cell_type": "code",
      "execution_count": null,
      "metadata": {
        "id": "LGxUFruXxfT-",
        "outputId": "7dfa4f52-f588-4e24-bf2c-3fd8d561104f"
      },
      "outputs": [
        {
          "data": {
            "text/plain": [
              "167422.30220817294"
            ]
          },
          "execution_count": 156,
          "metadata": {},
          "output_type": "execute_result"
        }
      ],
      "source": [
        "df['total_income'].mean()"
      ]
    },
    {
      "cell_type": "code",
      "execution_count": null,
      "metadata": {
        "id": "Y-7h2aV3xfT-",
        "outputId": "a4286a30-8e79-46b0-825f-8154c0645cb6"
      },
      "outputs": [
        {
          "data": {
            "text/plain": [
              "145017.93753253992"
            ]
          },
          "execution_count": 157,
          "metadata": {},
          "output_type": "execute_result"
        }
      ],
      "source": [
        "df['total_income'].median()"
      ]
    },
    {
      "cell_type": "code",
      "execution_count": null,
      "metadata": {
        "id": "-Ifwlq7ixfT-",
        "outputId": "7d27113e-14f2-49af-c703-0ee820ead136"
      },
      "outputs": [
        {
          "data": {
            "text/plain": [
              "2265604.028722744"
            ]
          },
          "execution_count": 158,
          "metadata": {},
          "output_type": "execute_result"
        }
      ],
      "source": [
        "df['total_income'].max()"
      ]
    },
    {
      "cell_type": "markdown",
      "metadata": {
        "id": "8AD6L7ZSxfT-"
      },
      "source": [
        "По переменной total_income нет сильных отличий между средним и медианой, но надежнее взять медиану, так как в выборке есть люди с ежемесячных доходов выше 2 млн, которые тянут среднее вверх."
      ]
    },
    {
      "cell_type": "code",
      "execution_count": null,
      "metadata": {
        "id": "3BI5-IK0xfT-"
      },
      "outputs": [],
      "source": [
        "total_income_median = df['total_income'].median()"
      ]
    },
    {
      "cell_type": "code",
      "execution_count": null,
      "metadata": {
        "id": "U3LOOjdJxfT_"
      },
      "outputs": [],
      "source": [
        "df['total_income'].fillna(total_income_median,inplace=True)"
      ]
    },
    {
      "cell_type": "code",
      "execution_count": null,
      "metadata": {
        "scrolled": true,
        "id": "Dn-21K8LxfT_",
        "outputId": "2ad1cf08-3b65-474c-96d2-99b7f75337ec"
      },
      "outputs": [
        {
          "name": "stdout",
          "output_type": "stream",
          "text": [
            "<class 'pandas.core.frame.DataFrame'>\n",
            "RangeIndex: 21525 entries, 0 to 21524\n",
            "Data columns (total 12 columns):\n",
            " #   Column            Non-Null Count  Dtype  \n",
            "---  ------            --------------  -----  \n",
            " 0   children          21525 non-null  int64  \n",
            " 1   days_employed     21525 non-null  float64\n",
            " 2   dob_years         21525 non-null  int64  \n",
            " 3   education         21525 non-null  object \n",
            " 4   education_id      21525 non-null  int64  \n",
            " 5   family_status     21525 non-null  object \n",
            " 6   family_status_id  21525 non-null  int64  \n",
            " 7   gender            21525 non-null  object \n",
            " 8   income_type       21525 non-null  object \n",
            " 9   debt              21525 non-null  int64  \n",
            " 10  total_income      21525 non-null  float64\n",
            " 11  purpose           21525 non-null  object \n",
            "dtypes: float64(2), int64(5), object(5)\n",
            "memory usage: 2.0+ MB\n"
          ]
        }
      ],
      "source": [
        "df.info()"
      ]
    },
    {
      "cell_type": "markdown",
      "metadata": {
        "id": "nx3DFVG6xfT_"
      },
      "source": [
        "C пустыми значениями в столбце total_income тоже покончено. Теперь разберемся с переменной gender."
      ]
    },
    {
      "cell_type": "code",
      "execution_count": null,
      "metadata": {
        "scrolled": true,
        "id": "flK3KS-BxfT_",
        "outputId": "794a4239-1cca-41e6-debe-9e632a30bf89"
      },
      "outputs": [
        {
          "data": {
            "text/html": [
              "<div>\n",
              "<style scoped>\n",
              "    .dataframe tbody tr th:only-of-type {\n",
              "        vertical-align: middle;\n",
              "    }\n",
              "\n",
              "    .dataframe tbody tr th {\n",
              "        vertical-align: top;\n",
              "    }\n",
              "\n",
              "    .dataframe thead th {\n",
              "        text-align: right;\n",
              "    }\n",
              "</style>\n",
              "<table border=\"1\" class=\"dataframe\">\n",
              "  <thead>\n",
              "    <tr style=\"text-align: right;\">\n",
              "      <th></th>\n",
              "      <th>children</th>\n",
              "      <th>days_employed</th>\n",
              "      <th>dob_years</th>\n",
              "      <th>education</th>\n",
              "      <th>education_id</th>\n",
              "      <th>family_status</th>\n",
              "      <th>family_status_id</th>\n",
              "      <th>gender</th>\n",
              "      <th>income_type</th>\n",
              "      <th>debt</th>\n",
              "      <th>total_income</th>\n",
              "      <th>purpose</th>\n",
              "    </tr>\n",
              "  </thead>\n",
              "  <tbody>\n",
              "    <tr>\n",
              "      <th>10701</th>\n",
              "      <td>0</td>\n",
              "      <td>2358.601</td>\n",
              "      <td>24</td>\n",
              "      <td>неоконченное высшее</td>\n",
              "      <td>2</td>\n",
              "      <td>гражданский брак</td>\n",
              "      <td>1</td>\n",
              "      <td>XNA</td>\n",
              "      <td>компаньон</td>\n",
              "      <td>0</td>\n",
              "      <td>203905.157</td>\n",
              "      <td>покупка недвижимости</td>\n",
              "    </tr>\n",
              "  </tbody>\n",
              "</table>\n",
              "</div>"
            ],
            "text/plain": [
              "       children  days_employed  dob_years            education  education_id  \\\n",
              "10701         0       2358.601         24  неоконченное высшее             2   \n",
              "\n",
              "          family_status  family_status_id gender income_type  debt  \\\n",
              "10701  гражданский брак                 1    XNA   компаньон     0   \n",
              "\n",
              "       total_income               purpose  \n",
              "10701    203905.157  покупка недвижимости  "
            ]
          },
          "execution_count": 162,
          "metadata": {},
          "output_type": "execute_result"
        }
      ],
      "source": [
        "df[df['gender'] == 'XNA']"
      ]
    },
    {
      "cell_type": "code",
      "execution_count": null,
      "metadata": {
        "id": "JfSu2VkNxfT_"
      },
      "outputs": [],
      "source": [
        "df.drop([10701, 0],inplace=True)"
      ]
    },
    {
      "cell_type": "code",
      "execution_count": null,
      "metadata": {
        "id": "QGj9yg0IxfUA",
        "outputId": "969b5aaf-1d6c-409f-d21c-4422ac0b9801"
      },
      "outputs": [
        {
          "data": {
            "text/plain": [
              "F    14235\n",
              "M     7288\n",
              "Name: gender, dtype: int64"
            ]
          },
          "execution_count": 164,
          "metadata": {},
          "output_type": "execute_result"
        }
      ],
      "source": [
        "df['gender'].value_counts()"
      ]
    },
    {
      "cell_type": "markdown",
      "metadata": {
        "id": "71pwn5zbxfUA"
      },
      "source": [
        "Теперь гендера снова 2. Дальше разберемся со странными значениями в переменной children."
      ]
    },
    {
      "cell_type": "code",
      "execution_count": null,
      "metadata": {
        "id": "OSZI_MOsxfUA",
        "outputId": "464ecbd1-2c70-4735-fdfc-bd11a0802e12"
      },
      "outputs": [
        {
          "data": {
            "text/plain": [
              " 0     14148\n",
              " 1      4817\n",
              " 2      2055\n",
              " 3       330\n",
              " 20       76\n",
              "-1        47\n",
              " 4        41\n",
              " 5         9\n",
              "Name: children, dtype: int64"
            ]
          },
          "execution_count": 165,
          "metadata": {},
          "output_type": "execute_result"
        }
      ],
      "source": [
        "df['children'].value_counts()"
      ]
    },
    {
      "cell_type": "code",
      "execution_count": null,
      "metadata": {
        "id": "-Z50_ilwxfUA"
      },
      "outputs": [],
      "source": [
        "df.loc[df['children'] == -1, 'children'] = 1 "
      ]
    },
    {
      "cell_type": "code",
      "execution_count": null,
      "metadata": {
        "id": "vxz4TY26xfUA"
      },
      "outputs": [],
      "source": [
        "df.loc[df['children'] == 20, 'children'] = 2 "
      ]
    },
    {
      "cell_type": "code",
      "execution_count": null,
      "metadata": {
        "id": "yvbVIQ7mxfUA",
        "outputId": "ca0662d5-bb84-499c-f856-b4d3fd50c3c2"
      },
      "outputs": [
        {
          "data": {
            "text/plain": [
              "0    14148\n",
              "1     4864\n",
              "2     2131\n",
              "3      330\n",
              "4       41\n",
              "5        9\n",
              "Name: children, dtype: int64"
            ]
          },
          "execution_count": 168,
          "metadata": {},
          "output_type": "execute_result"
        }
      ],
      "source": [
        "df['children'].value_counts()"
      ]
    },
    {
      "cell_type": "markdown",
      "metadata": {
        "id": "xsS700QrxfUA"
      },
      "source": [
        "Никаких больше странных семей с отрицательным и аномально большим количеством детей! Теперь осталось разобраться только с людьми, которым 0 лет."
      ]
    },
    {
      "cell_type": "code",
      "execution_count": null,
      "metadata": {
        "scrolled": true,
        "id": "2u9FNX8FxfUB",
        "outputId": "d32defcb-913e-4621-f265-54acce40e6f4"
      },
      "outputs": [
        {
          "data": {
            "text/plain": [
              "сотрудник      55\n",
              "пенсионер      20\n",
              "компаньон      20\n",
              "госслужащий     6\n",
              "Name: income_type, dtype: int64"
            ]
          },
          "execution_count": 169,
          "metadata": {},
          "output_type": "execute_result"
        }
      ],
      "source": [
        "df['income_type'][df['dob_years'] == 0].value_counts()"
      ]
    },
    {
      "cell_type": "code",
      "execution_count": null,
      "metadata": {
        "id": "npsmgtrCxfUB",
        "outputId": "1067cf27-816d-4a46-a690-533740c62fb8"
      },
      "outputs": [
        {
          "data": {
            "text/plain": [
              "сотрудник          11118\n",
              "компаньон           5084\n",
              "пенсионер           3856\n",
              "госслужащий         1459\n",
              "безработный            2\n",
              "предприниматель        2\n",
              "в декрете              1\n",
              "студент                1\n",
              "Name: income_type, dtype: int64"
            ]
          },
          "execution_count": 170,
          "metadata": {},
          "output_type": "execute_result"
        }
      ],
      "source": [
        "df['income_type'].value_counts()"
      ]
    },
    {
      "cell_type": "code",
      "execution_count": null,
      "metadata": {
        "id": "0223Xuf4xfUB",
        "outputId": "1af5738f-78e9-478a-a136-5c7c290e995e"
      },
      "outputs": [
        {
          "name": "stdout",
          "output_type": "stream",
          "text": [
            "39.820831084727466\n",
            "39.7006294256491\n",
            "59.06301867219917\n",
            "40.63673749143249\n"
          ]
        }
      ],
      "source": [
        "mean_age_employee = df['dob_years'][df['income_type'] == 'сотрудник'].mean()\n",
        "mean_age_companion = df['dob_years'][df['income_type'] == 'компаньон'].mean()\n",
        "mean_age_pensioner = df['dob_years'][df['income_type'] == 'пенсионер'].mean()\n",
        "mean_age_civil_servant = df['dob_years'][df['income_type'] == 'госслужащий'].mean()\n",
        "\n",
        "print(mean_age_employee)\n",
        "print(mean_age_companion)\n",
        "print(mean_age_pensioner)\n",
        "print(mean_age_civil_servant)"
      ]
    },
    {
      "cell_type": "code",
      "execution_count": null,
      "metadata": {
        "id": "U20UKgc2xfUB"
      },
      "outputs": [],
      "source": [
        "def segment_age(row):\n",
        "    age = row['dob_years']\n",
        "    segment = row['income_type']\n",
        "    if age == 0:\n",
        "        if segment == 'сотрудник':\n",
        "            return mean_age_employee\n",
        "    if age == 0:\n",
        "        if segment == 'компаньон':\n",
        "            return mean_age_companion\n",
        "    if age == 0:\n",
        "        if segment == 'пенсионер':\n",
        "            return mean_age_pensioner\n",
        "    if age == 0:\n",
        "        if segment == 'госслужащий':\n",
        "            return mean_age_civil_servant    \n",
        "    return age"
      ]
    },
    {
      "cell_type": "code",
      "execution_count": null,
      "metadata": {
        "id": "wWZ0X9t6xfUB"
      },
      "outputs": [],
      "source": [
        "df['dob_years'] = df.apply(segment_age,axis=1)"
      ]
    },
    {
      "cell_type": "code",
      "execution_count": null,
      "metadata": {
        "scrolled": true,
        "id": "5rYm88GPxfUC",
        "outputId": "9402ab6e-54ff-47ce-c8f7-99f03b28a72e"
      },
      "outputs": [
        {
          "data": {
            "text/plain": [
              "19.0"
            ]
          },
          "execution_count": 174,
          "metadata": {},
          "output_type": "execute_result"
        }
      ],
      "source": [
        "df['dob_years'].min()"
      ]
    },
    {
      "cell_type": "code",
      "execution_count": null,
      "metadata": {
        "scrolled": true,
        "id": "vBvGx7N4xfUC",
        "outputId": "24b82b58-3e4e-41c9-99bb-5ce7c9344a4d"
      },
      "outputs": [
        {
          "name": "stdout",
          "output_type": "stream",
          "text": [
            "<class 'pandas.core.frame.DataFrame'>\n",
            "Int64Index: 21523 entries, 1 to 21524\n",
            "Data columns (total 12 columns):\n",
            " #   Column            Non-Null Count  Dtype  \n",
            "---  ------            --------------  -----  \n",
            " 0   children          21523 non-null  int64  \n",
            " 1   days_employed     21523 non-null  float64\n",
            " 2   dob_years         21523 non-null  float64\n",
            " 3   education         21523 non-null  object \n",
            " 4   education_id      21523 non-null  int64  \n",
            " 5   family_status     21523 non-null  object \n",
            " 6   family_status_id  21523 non-null  int64  \n",
            " 7   gender            21523 non-null  object \n",
            " 8   income_type       21523 non-null  object \n",
            " 9   debt              21523 non-null  int64  \n",
            " 10  total_income      21523 non-null  float64\n",
            " 11  purpose           21523 non-null  object \n",
            "dtypes: float64(3), int64(4), object(5)\n",
            "memory usage: 2.1+ MB\n"
          ]
        }
      ],
      "source": [
        "df.info()"
      ]
    },
    {
      "cell_type": "markdown",
      "metadata": {
        "id": "FG4R5Z53xfUC"
      },
      "source": [
        "Ура, мы избавились от всех обнаруженных пропусков и аномалий! Правда в процессе всех преобразований у нас переменная dob_years изменила тип на float64. В этом случае, а также с переменной days_employed адекватнее использовать тип int64."
      ]
    },
    {
      "cell_type": "markdown",
      "metadata": {
        "id": "5_KNbgucxfUC"
      },
      "source": [
        "### Замена типа данных"
      ]
    },
    {
      "cell_type": "code",
      "execution_count": null,
      "metadata": {
        "id": "0LCwoLadxfUC",
        "outputId": "c11fd40a-0867-4f9c-d0e6-24d68c8dc04e"
      },
      "outputs": [
        {
          "name": "stdout",
          "output_type": "stream",
          "text": [
            "<class 'pandas.core.frame.DataFrame'>\n",
            "Int64Index: 21523 entries, 1 to 21524\n",
            "Data columns (total 12 columns):\n",
            " #   Column            Non-Null Count  Dtype  \n",
            "---  ------            --------------  -----  \n",
            " 0   children          21523 non-null  int64  \n",
            " 1   days_employed     21523 non-null  float64\n",
            " 2   dob_years         21523 non-null  float64\n",
            " 3   education         21523 non-null  object \n",
            " 4   education_id      21523 non-null  int64  \n",
            " 5   family_status     21523 non-null  object \n",
            " 6   family_status_id  21523 non-null  int64  \n",
            " 7   gender            21523 non-null  object \n",
            " 8   income_type       21523 non-null  object \n",
            " 9   debt              21523 non-null  int64  \n",
            " 10  total_income      21523 non-null  float64\n",
            " 11  purpose           21523 non-null  object \n",
            "dtypes: float64(3), int64(4), object(5)\n",
            "memory usage: 13.7 MB\n"
          ]
        }
      ],
      "source": [
        "df.info(memory_usage='deep')"
      ]
    },
    {
      "cell_type": "code",
      "execution_count": null,
      "metadata": {
        "id": "s00cVJGUxfUC"
      },
      "outputs": [],
      "source": [
        "df['children'] = df['children'].astype('int8')\n",
        "df['days_employed'] = df['days_employed'].astype('int32')\n",
        "df['dob_years'] = df['dob_years'].astype('int8')\n",
        "df['education_id'] = df['education_id'].astype('int8')\n",
        "df['family_status_id'] = df['family_status_id'].astype('int8')\n",
        "df['debt'] = df['debt'].astype('int8')\n",
        "df['total_income'] = df['total_income'].astype('float32')"
      ]
    },
    {
      "cell_type": "code",
      "execution_count": null,
      "metadata": {
        "id": "BJr-eEhtxfUC",
        "outputId": "942d45d0-e1a8-4291-f2df-56fb48ec0da8"
      },
      "outputs": [
        {
          "name": "stdout",
          "output_type": "stream",
          "text": [
            "<class 'pandas.core.frame.DataFrame'>\n",
            "Int64Index: 21523 entries, 1 to 21524\n",
            "Data columns (total 12 columns):\n",
            " #   Column            Non-Null Count  Dtype  \n",
            "---  ------            --------------  -----  \n",
            " 0   children          21523 non-null  int8   \n",
            " 1   days_employed     21523 non-null  int32  \n",
            " 2   dob_years         21523 non-null  int8   \n",
            " 3   education         21523 non-null  object \n",
            " 4   education_id      21523 non-null  int8   \n",
            " 5   family_status     21523 non-null  object \n",
            " 6   family_status_id  21523 non-null  int8   \n",
            " 7   gender            21523 non-null  object \n",
            " 8   income_type       21523 non-null  object \n",
            " 9   debt              21523 non-null  int8   \n",
            " 10  total_income      21523 non-null  float32\n",
            " 11  purpose           21523 non-null  object \n",
            "dtypes: float32(1), int32(1), int8(5), object(5)\n",
            "memory usage: 12.8 MB\n"
          ]
        }
      ],
      "source": [
        "df.info(memory_usage='deep')"
      ]
    },
    {
      "cell_type": "code",
      "execution_count": null,
      "metadata": {
        "id": "hq1LguZfxfUD",
        "outputId": "6816b8df-efe4-4d91-e94d-7eed2eb9ade8"
      },
      "outputs": [
        {
          "name": "stdout",
          "output_type": "stream",
          "text": [
            "<class 'pandas.core.frame.DataFrame'>\n",
            "Int64Index: 21523 entries, 1 to 21524\n",
            "Data columns (total 10 columns):\n",
            " #   Column         Non-Null Count  Dtype   \n",
            "---  ------         --------------  -----   \n",
            " 0   children       21523 non-null  int8    \n",
            " 1   days_employed  21523 non-null  int32   \n",
            " 2   dob_years      21523 non-null  int8    \n",
            " 3   education      21523 non-null  category\n",
            " 4   family_status  21523 non-null  category\n",
            " 5   gender         21523 non-null  category\n",
            " 6   income_type    21523 non-null  category\n",
            " 7   debt           21523 non-null  int8    \n",
            " 8   total_income   21523 non-null  float32 \n",
            " 9   purpose        21523 non-null  object  \n",
            "dtypes: category(4), float32(1), int32(1), int8(3), object(1)\n",
            "memory usage: 3.9 MB\n"
          ]
        }
      ],
      "source": [
        "df2 = df\n",
        "df2['family_status'] = df['family_status'].astype('category')\n",
        "df2['education'] = df['education'].astype('category')\n",
        "df2['gender'] = df['gender'].astype('category')\n",
        "df2['income_type'] = df['income_type'].astype('category')\n",
        "df2 = df2.drop(['family_status_id', 'education_id'], axis=1)\n",
        "df2.info(memory_usage='deep')"
      ]
    },
    {
      "cell_type": "markdown",
      "metadata": {
        "id": "0xjQIioDxfUD"
      },
      "source": [
        "Вещественные типы данных заменены на целочисленные для переменных days_employed и dob_years. В случае со столбцом total_income лучше оставить вещественный тип данных, так как \"копейка рубль бережет\", как говорил мой дедушка. Иначе говоря, значения после точки играют роль. Типы переменных также были оптимизированы для экономии объема используемой памяти."
      ]
    },
    {
      "cell_type": "markdown",
      "metadata": {
        "id": "bOyqGUd1xfUD"
      },
      "source": [
        "### Обработка дубликатов"
      ]
    },
    {
      "cell_type": "markdown",
      "metadata": {
        "id": "eDuVY1TPxfUD"
      },
      "source": [
        "Сначала приведем в порядок значения переменной education, потому что с приведением ее в порядок количество дубликатов может быть увеличено."
      ]
    },
    {
      "cell_type": "code",
      "execution_count": null,
      "metadata": {
        "id": "hU1ACP5oxfUD",
        "outputId": "94bd2fd2-9eb4-4fe0-9913-39c79d685c00"
      },
      "outputs": [
        {
          "data": {
            "text/plain": [
              "54"
            ]
          },
          "execution_count": 180,
          "metadata": {},
          "output_type": "execute_result"
        }
      ],
      "source": [
        "df.duplicated().sum()"
      ]
    },
    {
      "cell_type": "code",
      "execution_count": null,
      "metadata": {
        "id": "BUXrOr9OxfUE",
        "outputId": "cdf7c749-70ab-4581-a30a-065e115c3a80"
      },
      "outputs": [
        {
          "data": {
            "text/plain": [
              "среднее                13750\n",
              "высшее                  4717\n",
              "СРЕДНЕЕ                  772\n",
              "Среднее                  711\n",
              "неоконченное высшее      667\n",
              "ВЫСШЕЕ                   274\n",
              "Высшее                   268\n",
              "начальное                250\n",
              "Неоконченное высшее       47\n",
              "НЕОКОНЧЕННОЕ ВЫСШЕЕ       29\n",
              "НАЧАЛЬНОЕ                 17\n",
              "Начальное                 15\n",
              "ученая степень             4\n",
              "УЧЕНАЯ СТЕПЕНЬ             1\n",
              "Ученая степень             1\n",
              "Name: education, dtype: int64"
            ]
          },
          "execution_count": 181,
          "metadata": {},
          "output_type": "execute_result"
        }
      ],
      "source": [
        "df['education'].value_counts()"
      ]
    },
    {
      "cell_type": "code",
      "execution_count": null,
      "metadata": {
        "id": "WLFyavxMxfUE"
      },
      "outputs": [],
      "source": [
        "df['education'] = df['education'].str.lower()"
      ]
    },
    {
      "cell_type": "code",
      "execution_count": null,
      "metadata": {
        "id": "F402K1_LxfUE",
        "outputId": "b6d84863-212e-4b3c-edd7-c9a6abf0b119"
      },
      "outputs": [
        {
          "data": {
            "text/plain": [
              "среднее                15233\n",
              "высшее                  5259\n",
              "неоконченное высшее      743\n",
              "начальное                282\n",
              "ученая степень             6\n",
              "Name: education, dtype: int64"
            ]
          },
          "execution_count": 183,
          "metadata": {},
          "output_type": "execute_result"
        }
      ],
      "source": [
        "df['education'].value_counts()"
      ]
    },
    {
      "cell_type": "code",
      "execution_count": null,
      "metadata": {
        "scrolled": true,
        "id": "_-lNoKpgxfUE",
        "outputId": "8b16b0f8-4468-4410-f6a9-6bc3c9544f61"
      },
      "outputs": [
        {
          "data": {
            "text/plain": [
              "71"
            ]
          },
          "execution_count": 184,
          "metadata": {},
          "output_type": "execute_result"
        }
      ],
      "source": [
        "df.duplicated().sum()"
      ]
    },
    {
      "cell_type": "markdown",
      "metadata": {
        "id": "UQJYRJX3xfUE"
      },
      "source": [
        "Как и предсказывали, хоть и немного, но количество дубликатов увеличилось. Теперь, когда они все в сборе, удалим их!"
      ]
    },
    {
      "cell_type": "code",
      "execution_count": null,
      "metadata": {
        "id": "t3rTkwxSxfUE"
      },
      "outputs": [],
      "source": [
        "df = df.drop_duplicates().reset_index(drop=True)"
      ]
    },
    {
      "cell_type": "code",
      "execution_count": null,
      "metadata": {
        "id": "50SNP9X-xfUF",
        "outputId": "d3aafc1e-3437-4e47-c15c-2d2171e6b5d1"
      },
      "outputs": [
        {
          "data": {
            "text/plain": [
              "0"
            ]
          },
          "execution_count": 186,
          "metadata": {},
          "output_type": "execute_result"
        }
      ],
      "source": [
        "df.duplicated().sum()"
      ]
    },
    {
      "cell_type": "code",
      "execution_count": null,
      "metadata": {
        "id": "bCRyH3GCxfUF",
        "outputId": "b5dda57a-a1a7-467c-ddad-951940759769"
      },
      "outputs": [
        {
          "name": "stdout",
          "output_type": "stream",
          "text": [
            "<class 'pandas.core.frame.DataFrame'>\n",
            "RangeIndex: 21452 entries, 0 to 21451\n",
            "Data columns (total 12 columns):\n",
            " #   Column            Non-Null Count  Dtype   \n",
            "---  ------            --------------  -----   \n",
            " 0   children          21452 non-null  int8    \n",
            " 1   days_employed     21452 non-null  int32   \n",
            " 2   dob_years         21452 non-null  int8    \n",
            " 3   education         21452 non-null  object  \n",
            " 4   education_id      21452 non-null  int8    \n",
            " 5   family_status     21452 non-null  category\n",
            " 6   family_status_id  21452 non-null  int8    \n",
            " 7   gender            21452 non-null  category\n",
            " 8   income_type       21452 non-null  category\n",
            " 9   debt              21452 non-null  int8    \n",
            " 10  total_income      21452 non-null  float32 \n",
            " 11  purpose           21452 non-null  object  \n",
            "dtypes: category(3), float32(1), int32(1), int8(5), object(2)\n",
            "memory usage: 671.2+ KB\n"
          ]
        }
      ],
      "source": [
        "df.info()"
      ]
    },
    {
      "cell_type": "markdown",
      "metadata": {
        "id": "AUPn7t4pxfUF"
      },
      "source": [
        "Теперь в нашем датафрейме ни пропусков, ни повторов! Он сам правда стал меньше, но вроде не критично, зато данные чище."
      ]
    },
    {
      "cell_type": "markdown",
      "metadata": {
        "id": "VAJoqg7exfUF"
      },
      "source": [
        "### Лемматизация"
      ]
    },
    {
      "cell_type": "markdown",
      "metadata": {
        "id": "m_3HhVV6xfUF"
      },
      "source": [
        "Для начала найдем самые частовстречающиеся леммы."
      ]
    },
    {
      "cell_type": "code",
      "execution_count": null,
      "metadata": {
        "id": "mrurtU-MxfUF"
      },
      "outputs": [],
      "source": [
        "list_of_lemmas = df['purpose']\n",
        "lemmas = []\n",
        "for i in list_of_lemmas:\n",
        "    lemma = ''.join(m.lemmatize(i))\n",
        "    lemmas.append(lemma)"
      ]
    },
    {
      "cell_type": "code",
      "execution_count": null,
      "metadata": {
        "scrolled": false,
        "id": "sy7cGxF2xfUG",
        "outputId": "64672c7c-b743-40c4-deb0-a75a15ec6779"
      },
      "outputs": [
        {
          "name": "stdout",
          "output_type": "stream",
          "text": [
            "Counter({' ': 55019, 'недвижимость': 6350, 'покупка': 5895, 'жилье': 4459, 'автомобиль': 4306, 'образование': 4013, 'с': 2918, 'операция': 2604, 'свадьба': 2324, 'свой': 2230, 'на': 2222, 'строительство': 1878, 'высокий': 1374, 'получение': 1314, 'коммерческий': 1311, 'для': 1289, 'жилой': 1230, 'сделка': 941, 'дополнительный': 906, 'заниматься': 904, 'проведение': 768, 'сыграть': 765, 'сдача': 651, 'семья': 638, 'собственный': 635, 'со': 627, 'ремонт': 607, 'подержанный': 486, 'подержать': 478, 'приобретение': 461, 'профильный': 436, ' \\n': 1})\n"
          ]
        }
      ],
      "source": [
        "total_list_of_lemma = ''.join(lemmas).replace('\\n',' ')\n",
        "lemmas_lemmas = m.lemmatize(total_list_of_lemma)\n",
        "print(Counter(lemmas_lemmas))"
      ]
    },
    {
      "cell_type": "markdown",
      "metadata": {
        "id": "1_iVwWtgxfUG"
      },
      "source": [
        "Самые часто встречающиеся леммы: жилье и недвижимость (это, думаю, можно считать одиним и тем же), автомобиль, образование, свадьба). Все, что к этому не подойдет (вдруг!), можно относить к категории \"другое\"."
      ]
    },
    {
      "cell_type": "code",
      "execution_count": null,
      "metadata": {
        "id": "V8INKGotxfUG"
      },
      "outputs": [],
      "source": [
        "def to_lemma(row):\n",
        "    value = row['purpose']\n",
        "    lemmas = m.lemmatize(value)\n",
        "    return lemmas"
      ]
    },
    {
      "cell_type": "code",
      "execution_count": null,
      "metadata": {
        "scrolled": true,
        "id": "DBARBau_xfUG"
      },
      "outputs": [],
      "source": [
        "df['purpose'] = df.apply(to_lemma,axis=1)"
      ]
    },
    {
      "cell_type": "code",
      "execution_count": null,
      "metadata": {
        "id": "flWcul5hxfUG"
      },
      "outputs": [],
      "source": [
        "def to_new_category(row):\n",
        "    reason = row['purpose']\n",
        "    if 'автомобиль' in reason:    \n",
        "            return 'автомобиль'\n",
        "    if 'недвижимость' in reason:\n",
        "            return 'недвижимость'\n",
        "    if 'жилье' in reason:\n",
        "            return 'недвижимость'    \n",
        "    if 'образование' in reason:    \n",
        "            return 'образование'\n",
        "    if 'свадьба' in reason:    \n",
        "            return 'свадьба'\n",
        "    return 'другое'"
      ]
    },
    {
      "cell_type": "code",
      "execution_count": null,
      "metadata": {
        "id": "JSpTGo-6xfUG"
      },
      "outputs": [],
      "source": [
        "df['purpose'] = df.apply(to_new_category,axis=1)"
      ]
    },
    {
      "cell_type": "code",
      "execution_count": null,
      "metadata": {
        "scrolled": true,
        "id": "jboMYitlxfUH",
        "outputId": "c796382e-49fc-49aa-ec7f-67e3a1cf7624"
      },
      "outputs": [
        {
          "data": {
            "text/plain": [
              "недвижимость    10809\n",
              "автомобиль       4306\n",
              "образование      4013\n",
              "свадьба          2324\n",
              "Name: purpose, dtype: int64"
            ]
          },
          "execution_count": 194,
          "metadata": {},
          "output_type": "execute_result"
        }
      ],
      "source": [
        "df['purpose'].value_counts()"
      ]
    },
    {
      "cell_type": "markdown",
      "metadata": {
        "id": "HPrlit5-xfUH"
      },
      "source": [
        "Отлично, получается, что большинство людей в выборке подают заявку на кредит на покупку жилья. С одинаковой частотой люди подают заявки на кредит на покупку автомобиля и на получение образования. И наименее популярные кредиты - на проведение свадьбы. "
      ]
    },
    {
      "cell_type": "markdown",
      "metadata": {
        "id": "oTTaOEWqxfUH"
      },
      "source": [
        "### Категоризация данных"
      ]
    },
    {
      "cell_type": "markdown",
      "metadata": {
        "id": "v_tPBrmexfUH"
      },
      "source": [
        "В категоризации в нашем датасете нуждаются 2 переменные: days_employed и total_income. Но как определить, на какие интервалы разбить. Предлагаю по процентилям."
      ]
    },
    {
      "cell_type": "code",
      "execution_count": null,
      "metadata": {
        "id": "YN3KvlNoxfUH",
        "outputId": "dba2a175-f670-4329-a36e-a63215b86761"
      },
      "outputs": [
        {
          "data": {
            "text/plain": [
              "(2611.6, 7043.0]      4293\n",
              "(818.2, 1805.0]       4292\n",
              "(23.999, 818.2]       4291\n",
              "(1805.0, 2611.6]      4288\n",
              "(7043.0, 401755.0]    4288\n",
              "Name: days_employed, dtype: int64"
            ]
          },
          "execution_count": 195,
          "metadata": {},
          "output_type": "execute_result"
        }
      ],
      "source": [
        "pd.qcut(df['days_employed'],5).value_counts()"
      ]
    },
    {
      "cell_type": "code",
      "execution_count": null,
      "metadata": {
        "id": "uZA31qLJxfUH"
      },
      "outputs": [],
      "source": [
        "def work_experience_group(days):\n",
        "        if days < 818.2:\n",
        "                return 'короткий стаж работы'\n",
        "        if days < 1805.0:\n",
        "                return 'стаж работы ниже среднего'\n",
        "        if days < 2611.6:\n",
        "                return 'средний стаж работы'\n",
        "        if days < 7043.0:\n",
        "                return 'стаж работы выше среднего'    \n",
        "        return 'высокий стаж работы'"
      ]
    },
    {
      "cell_type": "code",
      "execution_count": null,
      "metadata": {
        "id": "136rMlozxfUH"
      },
      "outputs": [],
      "source": [
        "df['work_experience_group'] = df['days_employed'].apply(work_experience_group)"
      ]
    },
    {
      "cell_type": "code",
      "execution_count": null,
      "metadata": {
        "id": "ZkxfqXnRxfUI",
        "outputId": "8127a714-f583-4a1b-c2ef-fe624dae063f"
      },
      "outputs": [
        {
          "data": {
            "text/plain": [
              "высокий стаж работы          4292\n",
              "средний стаж работы          4292\n",
              "короткий стаж работы         4291\n",
              "стаж работы выше среднего    4289\n",
              "стаж работы ниже среднего    4288\n",
              "Name: work_experience_group, dtype: int64"
            ]
          },
          "execution_count": 198,
          "metadata": {},
          "output_type": "execute_result"
        }
      ],
      "source": [
        "df['work_experience_group'].value_counts()"
      ]
    },
    {
      "cell_type": "markdown",
      "metadata": {
        "id": "xNcKO1KlxfUI"
      },
      "source": [
        "Со стажем работы готово. Теперь перейдем к месячному доходу."
      ]
    },
    {
      "cell_type": "code",
      "execution_count": null,
      "metadata": {
        "scrolled": true,
        "id": "hpECKsYsxfUI",
        "outputId": "c2d282a1-a576-4579-df4e-69b6ccbba329"
      },
      "outputs": [
        {
          "data": {
            "text/plain": [
              "(20667.263, 98536.016]      4291\n",
              "(214598.912, 2265604.0]     4291\n",
              "(98536.016, 135445.559]     4290\n",
              "(135445.559, 156421.672]    4290\n",
              "(156421.672, 214598.912]    4290\n",
              "Name: total_income, dtype: int64"
            ]
          },
          "execution_count": 199,
          "metadata": {},
          "output_type": "execute_result"
        }
      ],
      "source": [
        "pd.qcut(df['total_income'],5).value_counts()"
      ]
    },
    {
      "cell_type": "code",
      "execution_count": null,
      "metadata": {
        "id": "LlMv4eJIxfUI"
      },
      "outputs": [],
      "source": [
        "def income_group(days):\n",
        "        if days < 98536.017:\n",
        "                return 'низкий доход'\n",
        "        if days < 135445.558:\n",
        "                return 'доход ниже среднего'\n",
        "        if days < 156421.67:\n",
        "                return 'средний доход'\n",
        "        if days < 214598.918:\n",
        "                return 'доход выше среднего'    \n",
        "        return 'высокий доход'"
      ]
    },
    {
      "cell_type": "code",
      "execution_count": null,
      "metadata": {
        "id": "BeXzxXHWxfUI"
      },
      "outputs": [],
      "source": [
        "df['income_group'] = df['total_income'].apply(income_group)"
      ]
    },
    {
      "cell_type": "code",
      "execution_count": null,
      "metadata": {
        "id": "Ql83dZKvxfUJ",
        "outputId": "b8db9db4-91f9-461e-e644-c9590774ffb7"
      },
      "outputs": [
        {
          "data": {
            "text/plain": [
              "низкий доход           4291\n",
              "высокий доход          4291\n",
              "доход ниже среднего    4290\n",
              "доход выше среднего    4290\n",
              "средний доход          4290\n",
              "Name: income_group, dtype: int64"
            ]
          },
          "execution_count": 202,
          "metadata": {},
          "output_type": "execute_result"
        }
      ],
      "source": [
        "df['income_group'].value_counts()"
      ]
    },
    {
      "cell_type": "code",
      "execution_count": null,
      "metadata": {
        "scrolled": true,
        "id": "8eDE80PBxfUJ",
        "outputId": "1c9be17e-9921-45f9-84b6-6e067c651fca"
      },
      "outputs": [
        {
          "data": {
            "text/plain": [
              "высокий стаж работы          4292\n",
              "средний стаж работы          4292\n",
              "короткий стаж работы         4291\n",
              "стаж работы выше среднего    4289\n",
              "стаж работы ниже среднего    4288\n",
              "Name: work_experience_group, dtype: int64"
            ]
          },
          "execution_count": 203,
          "metadata": {},
          "output_type": "execute_result"
        }
      ],
      "source": [
        "df['work_experience_group'].value_counts()"
      ]
    },
    {
      "cell_type": "code",
      "execution_count": null,
      "metadata": {
        "id": "FucOYIuFxfUJ"
      },
      "outputs": [],
      "source": [
        "def children_group(days):\n",
        "        if days == 0:\n",
        "                return 'нет детей'    \n",
        "        return 'есть дети'"
      ]
    },
    {
      "cell_type": "code",
      "execution_count": null,
      "metadata": {
        "id": "UDm0cggzxfUJ"
      },
      "outputs": [],
      "source": [
        "df['children_group'] = df['children'].apply(children_group)"
      ]
    },
    {
      "cell_type": "code",
      "execution_count": null,
      "metadata": {
        "id": "a78k97RoxfUJ",
        "outputId": "efead055-08ef-4a6a-852c-a487c7c6ac2a"
      },
      "outputs": [
        {
          "data": {
            "text/plain": [
              "нет детей    14090\n",
              "есть дети     7362\n",
              "Name: children_group, dtype: int64"
            ]
          },
          "execution_count": 206,
          "metadata": {},
          "output_type": "execute_result"
        }
      ],
      "source": [
        "df['children_group'].value_counts()"
      ]
    },
    {
      "cell_type": "code",
      "execution_count": null,
      "metadata": {
        "id": "K6O8osJYxfUJ",
        "outputId": "4eff037b-cd20-4a99-c1f9-365e9f84e670"
      },
      "outputs": [
        {
          "data": {
            "text/plain": [
              "0    19711\n",
              "1     1741\n",
              "Name: debt, dtype: int64"
            ]
          },
          "execution_count": 207,
          "metadata": {},
          "output_type": "execute_result"
        }
      ],
      "source": [
        "df['debt'].value_counts()"
      ]
    },
    {
      "cell_type": "markdown",
      "metadata": {
        "id": "DemE94F5xfUK"
      },
      "source": [
        "На основании количественных переменных days_employed, total_income и children были получены категориальные переменные work_experience_group, income_group и children_group. Теперь будет удобнее смотреть взаимосвязь между трудовым стажем (хотя вот сейчас понял, что это особо не понадобится), доходом, наличием детей и другими переменными!"
      ]
    },
    {
      "cell_type": "markdown",
      "metadata": {
        "id": "dOMG7sn6xfUK"
      },
      "source": [
        "## Поиск взаимосвязей между наличием кредитного долга и другими показателями"
      ]
    },
    {
      "cell_type": "markdown",
      "metadata": {
        "id": "FgIhTP4BxfUK"
      },
      "source": [
        "### Зависимость между наличием детей и возвратом кредита в срок"
      ]
    },
    {
      "cell_type": "markdown",
      "metadata": {
        "id": "xwGqnNuWxfUK"
      },
      "source": [
        "- Есть ли зависимость между наличием детей и возвратом кредита в срок?"
      ]
    },
    {
      "cell_type": "code",
      "execution_count": null,
      "metadata": {
        "id": "6Kl2qiSLxfUK",
        "outputId": "7d7bb8cb-b1c3-4721-a6df-f5a8bb0acc35"
      },
      "outputs": [
        {
          "data": {
            "text/html": [
              "<div>\n",
              "<style scoped>\n",
              "    .dataframe tbody tr th:only-of-type {\n",
              "        vertical-align: middle;\n",
              "    }\n",
              "\n",
              "    .dataframe tbody tr th {\n",
              "        vertical-align: top;\n",
              "    }\n",
              "\n",
              "    .dataframe thead th {\n",
              "        text-align: right;\n",
              "    }\n",
              "</style>\n",
              "<table border=\"1\" class=\"dataframe\">\n",
              "  <thead>\n",
              "    <tr style=\"text-align: right;\">\n",
              "      <th></th>\n",
              "      <th>count</th>\n",
              "      <th>sum</th>\n",
              "      <th>mean</th>\n",
              "    </tr>\n",
              "    <tr>\n",
              "      <th>children_group</th>\n",
              "      <th></th>\n",
              "      <th></th>\n",
              "      <th></th>\n",
              "    </tr>\n",
              "  </thead>\n",
              "  <tbody>\n",
              "    <tr>\n",
              "      <th>есть дети</th>\n",
              "      <td>7362</td>\n",
              "      <td>678.000</td>\n",
              "      <td>0.092</td>\n",
              "    </tr>\n",
              "    <tr>\n",
              "      <th>нет детей</th>\n",
              "      <td>14090</td>\n",
              "      <td>1063.000</td>\n",
              "      <td>0.075</td>\n",
              "    </tr>\n",
              "  </tbody>\n",
              "</table>\n",
              "</div>"
            ],
            "text/plain": [
              "                count      sum  mean\n",
              "children_group                      \n",
              "есть дети        7362  678.000 0.092\n",
              "нет детей       14090 1063.000 0.075"
            ]
          },
          "execution_count": 208,
          "metadata": {},
          "output_type": "execute_result"
        }
      ],
      "source": [
        "df.groupby('children_group')['debt'].agg(['count','sum','mean'])"
      ]
    },
    {
      "cell_type": "code",
      "execution_count": null,
      "metadata": {
        "id": "OAy5J-RIxfUK"
      },
      "outputs": [],
      "source": [
        "from scipy.stats import chi2_contingency"
      ]
    },
    {
      "cell_type": "code",
      "execution_count": null,
      "metadata": {
        "id": "c15vCc3hxfUK",
        "outputId": "8c82aa12-0395-445e-c20f-9520a5a9babe"
      },
      "outputs": [
        {
          "data": {
            "text/html": [
              "<div>\n",
              "<style scoped>\n",
              "    .dataframe tbody tr th:only-of-type {\n",
              "        vertical-align: middle;\n",
              "    }\n",
              "\n",
              "    .dataframe tbody tr th {\n",
              "        vertical-align: top;\n",
              "    }\n",
              "\n",
              "    .dataframe thead th {\n",
              "        text-align: right;\n",
              "    }\n",
              "</style>\n",
              "<table border=\"1\" class=\"dataframe\">\n",
              "  <thead>\n",
              "    <tr style=\"text-align: right;\">\n",
              "      <th>debt</th>\n",
              "      <th>0</th>\n",
              "      <th>1</th>\n",
              "    </tr>\n",
              "    <tr>\n",
              "      <th>children_group</th>\n",
              "      <th></th>\n",
              "      <th></th>\n",
              "    </tr>\n",
              "  </thead>\n",
              "  <tbody>\n",
              "    <tr>\n",
              "      <th>есть дети</th>\n",
              "      <td>0.908</td>\n",
              "      <td>0.092</td>\n",
              "    </tr>\n",
              "    <tr>\n",
              "      <th>нет детей</th>\n",
              "      <td>0.925</td>\n",
              "      <td>0.075</td>\n",
              "    </tr>\n",
              "  </tbody>\n",
              "</table>\n",
              "</div>"
            ],
            "text/plain": [
              "debt               0     1\n",
              "children_group            \n",
              "есть дети      0.908 0.092\n",
              "нет детей      0.925 0.075"
            ]
          },
          "execution_count": 210,
          "metadata": {},
          "output_type": "execute_result"
        }
      ],
      "source": [
        "contigency_pct = pd.crosstab(df['children_group'], df['debt'], normalize='index')\n",
        "contigency_pct"
      ]
    },
    {
      "cell_type": "code",
      "execution_count": null,
      "metadata": {
        "id": "eSVO-JSzxfUL",
        "outputId": "f8827a58-67ba-425a-c3eb-2eb1665d89e3"
      },
      "outputs": [
        {
          "data": {
            "text/html": [
              "<div>\n",
              "<style scoped>\n",
              "    .dataframe tbody tr th:only-of-type {\n",
              "        vertical-align: middle;\n",
              "    }\n",
              "\n",
              "    .dataframe tbody tr th {\n",
              "        vertical-align: top;\n",
              "    }\n",
              "\n",
              "    .dataframe thead th {\n",
              "        text-align: right;\n",
              "    }\n",
              "</style>\n",
              "<table border=\"1\" class=\"dataframe\">\n",
              "  <thead>\n",
              "    <tr style=\"text-align: right;\">\n",
              "      <th>children_group</th>\n",
              "      <th>есть дети</th>\n",
              "      <th>нет детей</th>\n",
              "    </tr>\n",
              "    <tr>\n",
              "      <th>debt</th>\n",
              "      <th></th>\n",
              "      <th></th>\n",
              "    </tr>\n",
              "  </thead>\n",
              "  <tbody>\n",
              "    <tr>\n",
              "      <th>0</th>\n",
              "      <td>6684</td>\n",
              "      <td>13027</td>\n",
              "    </tr>\n",
              "    <tr>\n",
              "      <th>1</th>\n",
              "      <td>678</td>\n",
              "      <td>1063</td>\n",
              "    </tr>\n",
              "  </tbody>\n",
              "</table>\n",
              "</div>"
            ],
            "text/plain": [
              "children_group  есть дети  нет детей\n",
              "debt                                \n",
              "0                    6684      13027\n",
              "1                     678       1063"
            ]
          },
          "execution_count": 211,
          "metadata": {},
          "output_type": "execute_result"
        }
      ],
      "source": [
        "contigency= pd.crosstab(df['debt'], df['children_group'])\n",
        "contigency"
      ]
    },
    {
      "cell_type": "markdown",
      "metadata": {
        "id": "Ckk14ApvxfUL"
      },
      "source": [
        "**H0** = *Нулевая гипотеза заключается в том, что частоты согласованы, то есть фактические данные не противоречат ожидаемым*\n",
        "\n",
        "**H1** = *Альтернативная гипотеза – отклонения в частотах выходят за рамки случайных колебаний, расхождения статистически значимы*"
      ]
    },
    {
      "cell_type": "code",
      "execution_count": null,
      "metadata": {
        "id": "t3LLkXUzxfUL",
        "outputId": "548876e4-1f8c-47e9-d982-c72827863e02"
      },
      "outputs": [
        {
          "name": "stdout",
          "output_type": "stream",
          "text": [
            "p-значение: 0.00003\n",
            "Отвергаем нулевую гипотезу, расхождения статистически значимы\n"
          ]
        }
      ],
      "source": [
        "c, p_value, dof, expected = chi2_contingency(contigency)\n",
        "alpha = 0.05\n",
        "\n",
        "print('p-значение:', \"%.5f\" % p_value)\n",
        "if (p_value < alpha):\n",
        "    print(\"Отвергаем нулевую гипотезу, расхождения статистически значимы\")\n",
        "else:\n",
        "    print(\"Не получилось отвергнуть нулевую гипотезу\")"
      ]
    },
    {
      "cell_type": "markdown",
      "metadata": {
        "id": "Sv98yjQaxfUL"
      },
      "source": [
        "**Наблюдаемая закономерность:**\n",
        "\n",
        "Люди при отсутствии детей чаще возвращают кредит в срок."
      ]
    },
    {
      "cell_type": "markdown",
      "metadata": {
        "id": "tIsGFq91xfUL"
      },
      "source": [
        "### Зависимость между семейным положением и возвратом кредита в срок"
      ]
    },
    {
      "cell_type": "markdown",
      "metadata": {
        "id": "f9LdNUN7xfUM"
      },
      "source": [
        "- Есть ли зависимость между семейным положением и возвратом кредита в срок?"
      ]
    },
    {
      "cell_type": "code",
      "execution_count": null,
      "metadata": {
        "id": "JwxlN6cDxfUM",
        "outputId": "be5b1c49-e719-4c45-fd90-c28b25413bdd"
      },
      "outputs": [
        {
          "data": {
            "text/html": [
              "<div>\n",
              "<style scoped>\n",
              "    .dataframe tbody tr th:only-of-type {\n",
              "        vertical-align: middle;\n",
              "    }\n",
              "\n",
              "    .dataframe tbody tr th {\n",
              "        vertical-align: top;\n",
              "    }\n",
              "\n",
              "    .dataframe thead th {\n",
              "        text-align: right;\n",
              "    }\n",
              "</style>\n",
              "<table border=\"1\" class=\"dataframe\">\n",
              "  <thead>\n",
              "    <tr style=\"text-align: right;\">\n",
              "      <th></th>\n",
              "      <th>count</th>\n",
              "      <th>sum</th>\n",
              "      <th>mean</th>\n",
              "    </tr>\n",
              "    <tr>\n",
              "      <th>family_status</th>\n",
              "      <th></th>\n",
              "      <th></th>\n",
              "      <th></th>\n",
              "    </tr>\n",
              "  </thead>\n",
              "  <tbody>\n",
              "    <tr>\n",
              "      <th>Не женат / не замужем</th>\n",
              "      <td>2810</td>\n",
              "      <td>274.000</td>\n",
              "      <td>0.098</td>\n",
              "    </tr>\n",
              "    <tr>\n",
              "      <th>в разводе</th>\n",
              "      <td>1195</td>\n",
              "      <td>85.000</td>\n",
              "      <td>0.071</td>\n",
              "    </tr>\n",
              "    <tr>\n",
              "      <th>вдовец / вдова</th>\n",
              "      <td>959</td>\n",
              "      <td>63.000</td>\n",
              "      <td>0.066</td>\n",
              "    </tr>\n",
              "    <tr>\n",
              "      <th>гражданский брак</th>\n",
              "      <td>4150</td>\n",
              "      <td>388.000</td>\n",
              "      <td>0.093</td>\n",
              "    </tr>\n",
              "    <tr>\n",
              "      <th>женат / замужем</th>\n",
              "      <td>12338</td>\n",
              "      <td>931.000</td>\n",
              "      <td>0.075</td>\n",
              "    </tr>\n",
              "  </tbody>\n",
              "</table>\n",
              "</div>"
            ],
            "text/plain": [
              "                       count     sum  mean\n",
              "family_status                             \n",
              "Не женат / не замужем   2810 274.000 0.098\n",
              "в разводе               1195  85.000 0.071\n",
              "вдовец / вдова           959  63.000 0.066\n",
              "гражданский брак        4150 388.000 0.093\n",
              "женат / замужем        12338 931.000 0.075"
            ]
          },
          "execution_count": 100,
          "metadata": {},
          "output_type": "execute_result"
        }
      ],
      "source": [
        "df.groupby('family_status')['debt'].agg(['count','sum','mean'])"
      ]
    },
    {
      "cell_type": "code",
      "execution_count": null,
      "metadata": {
        "id": "LnKqJCpmxfUM",
        "outputId": "b3146e6b-eb16-4a6d-fff9-a98818dda4ff"
      },
      "outputs": [
        {
          "data": {
            "image/png": "[encoded data removed]",
            "text/plain": [
              "<Figure size 864x360 with 1 Axes>"
            ]
          },
          "metadata": {},
          "output_type": "display_data"
        }
      ],
      "source": [
        "plt.figure(figsize=(12, 5))\n",
        "plt.plot(df.groupby('family_status')['debt'].mean(), 'r')\n",
        "plt.title('Распределение наличия кредитных долгов по сегментам, выделенным на основании семейного статуса')\n",
        "plt.xlabel('Семейный статус')\n",
        "plt.ylabel('Доля людей с кредитным долгом (%)')\n",
        "plt.show();"
      ]
    },
    {
      "cell_type": "markdown",
      "metadata": {
        "id": "6-W8S5wqxfUM"
      },
      "source": [
        "**Наблюдаемая тенденция:**\n",
        "Наиболее склонны закрывать кредиты в срок вдовы/вдовцы, разведенные и женатые/замужние. Не женатые и живующие в гражданском браке, напротив, чаще имеют задолженности по кредиту."
      ]
    },
    {
      "cell_type": "markdown",
      "metadata": {
        "id": "m_PUHuMvxfUM"
      },
      "source": [
        "### Зависимость между семейным положением и возвратом кредита в срок"
      ]
    },
    {
      "cell_type": "markdown",
      "metadata": {
        "id": "-TC3e3DkxfUM"
      },
      "source": [
        "- Есть ли зависимость между уровнем дохода и возвратом кредита в срок?"
      ]
    },
    {
      "cell_type": "code",
      "execution_count": null,
      "metadata": {
        "id": "wu2s94xGxfUN",
        "outputId": "4255b7e1-3cba-4c9d-82e2-888693f1f338"
      },
      "outputs": [
        {
          "data": {
            "text/html": [
              "<div>\n",
              "<style scoped>\n",
              "    .dataframe tbody tr th:only-of-type {\n",
              "        vertical-align: middle;\n",
              "    }\n",
              "\n",
              "    .dataframe tbody tr th {\n",
              "        vertical-align: top;\n",
              "    }\n",
              "\n",
              "    .dataframe thead th {\n",
              "        text-align: right;\n",
              "    }\n",
              "</style>\n",
              "<table border=\"1\" class=\"dataframe\">\n",
              "  <thead>\n",
              "    <tr style=\"text-align: right;\">\n",
              "      <th></th>\n",
              "      <th>count</th>\n",
              "      <th>sum</th>\n",
              "      <th>mean</th>\n",
              "    </tr>\n",
              "    <tr>\n",
              "      <th>income_group</th>\n",
              "      <th></th>\n",
              "      <th></th>\n",
              "      <th></th>\n",
              "    </tr>\n",
              "  </thead>\n",
              "  <tbody>\n",
              "    <tr>\n",
              "      <th>высокий доход</th>\n",
              "      <td>4291</td>\n",
              "      <td>300.000</td>\n",
              "      <td>0.070</td>\n",
              "    </tr>\n",
              "    <tr>\n",
              "      <th>доход выше среднего</th>\n",
              "      <td>4290</td>\n",
              "      <td>370.000</td>\n",
              "      <td>0.086</td>\n",
              "    </tr>\n",
              "    <tr>\n",
              "      <th>доход ниже среднего</th>\n",
              "      <td>4290</td>\n",
              "      <td>355.000</td>\n",
              "      <td>0.083</td>\n",
              "    </tr>\n",
              "    <tr>\n",
              "      <th>низкий доход</th>\n",
              "      <td>4291</td>\n",
              "      <td>344.000</td>\n",
              "      <td>0.080</td>\n",
              "    </tr>\n",
              "    <tr>\n",
              "      <th>средний доход</th>\n",
              "      <td>4290</td>\n",
              "      <td>372.000</td>\n",
              "      <td>0.087</td>\n",
              "    </tr>\n",
              "  </tbody>\n",
              "</table>\n",
              "</div>"
            ],
            "text/plain": [
              "                     count     sum  mean\n",
              "income_group                            \n",
              "высокий доход         4291 300.000 0.070\n",
              "доход выше среднего   4290 370.000 0.086\n",
              "доход ниже среднего   4290 355.000 0.083\n",
              "низкий доход          4291 344.000 0.080\n",
              "средний доход         4290 372.000 0.087"
            ]
          },
          "execution_count": 102,
          "metadata": {},
          "output_type": "execute_result"
        }
      ],
      "source": [
        "df.groupby('income_group')['debt'].agg(['count','sum','mean'])"
      ]
    },
    {
      "cell_type": "code",
      "execution_count": null,
      "metadata": {
        "id": "LQX3mQPOxfUN",
        "outputId": "90e4a6c3-0718-4d8f-e45b-7503ab55b299"
      },
      "outputs": [
        {
          "data": {
            "image/png": "[encoded data removed]",
            "text/plain": [
              "<Figure size 864x360 with 1 Axes>"
            ]
          },
          "metadata": {},
          "output_type": "display_data"
        }
      ],
      "source": [
        "plt.figure(figsize=(12, 5))\n",
        "plt.plot(df.groupby('income_group')['debt'].mean(), 'r')\n",
        "plt.title('Распределение наличия кредитных долгов по сегментам, выделенным на основании уровня ежемесячного дохода')\n",
        "plt.xlabel('Уровень ежемесячного дохода')\n",
        "plt.ylabel('Доля людей с кредитным долгом (%)')\n",
        "plt.show();"
      ]
    },
    {
      "cell_type": "markdown",
      "metadata": {
        "id": "dw2AOngfxfUN"
      },
      "source": [
        "**Наблюдаемая тенденция:**\n",
        "\n",
        "Предсказуемый резульатат - люди с наибольшим доходом реже остальных имеют долги по кредиту."
      ]
    },
    {
      "cell_type": "markdown",
      "metadata": {
        "id": "H2AoFrPBxfUN"
      },
      "source": [
        "### Зависимость между целями кредита и возвратом кредита в срок"
      ]
    },
    {
      "cell_type": "markdown",
      "metadata": {
        "id": "SMPBXuQMxfUN"
      },
      "source": [
        "- Как разные цели кредита влияют на его возврат в срок?"
      ]
    },
    {
      "cell_type": "code",
      "execution_count": null,
      "metadata": {
        "id": "SIAxFPJExfUN",
        "outputId": "00548e01-69cc-4fa4-b624-e4b548b14611"
      },
      "outputs": [
        {
          "data": {
            "text/html": [
              "<div>\n",
              "<style scoped>\n",
              "    .dataframe tbody tr th:only-of-type {\n",
              "        vertical-align: middle;\n",
              "    }\n",
              "\n",
              "    .dataframe tbody tr th {\n",
              "        vertical-align: top;\n",
              "    }\n",
              "\n",
              "    .dataframe thead th {\n",
              "        text-align: right;\n",
              "    }\n",
              "</style>\n",
              "<table border=\"1\" class=\"dataframe\">\n",
              "  <thead>\n",
              "    <tr style=\"text-align: right;\">\n",
              "      <th></th>\n",
              "      <th>count</th>\n",
              "      <th>sum</th>\n",
              "      <th>mean</th>\n",
              "    </tr>\n",
              "    <tr>\n",
              "      <th>purpose</th>\n",
              "      <th></th>\n",
              "      <th></th>\n",
              "      <th></th>\n",
              "    </tr>\n",
              "  </thead>\n",
              "  <tbody>\n",
              "    <tr>\n",
              "      <th>автомобиль</th>\n",
              "      <td>4306</td>\n",
              "      <td>403.000</td>\n",
              "      <td>0.094</td>\n",
              "    </tr>\n",
              "    <tr>\n",
              "      <th>недвижимость</th>\n",
              "      <td>10809</td>\n",
              "      <td>782.000</td>\n",
              "      <td>0.072</td>\n",
              "    </tr>\n",
              "    <tr>\n",
              "      <th>образование</th>\n",
              "      <td>4013</td>\n",
              "      <td>370.000</td>\n",
              "      <td>0.092</td>\n",
              "    </tr>\n",
              "    <tr>\n",
              "      <th>свадьба</th>\n",
              "      <td>2324</td>\n",
              "      <td>186.000</td>\n",
              "      <td>0.080</td>\n",
              "    </tr>\n",
              "  </tbody>\n",
              "</table>\n",
              "</div>"
            ],
            "text/plain": [
              "              count     sum  mean\n",
              "purpose                          \n",
              "автомобиль     4306 403.000 0.094\n",
              "недвижимость  10809 782.000 0.072\n",
              "образование    4013 370.000 0.092\n",
              "свадьба        2324 186.000 0.080"
            ]
          },
          "execution_count": 104,
          "metadata": {},
          "output_type": "execute_result"
        }
      ],
      "source": [
        "df.groupby('purpose')['debt'].agg(['count','sum','mean'])"
      ]
    },
    {
      "cell_type": "code",
      "execution_count": null,
      "metadata": {
        "id": "NIIUKtqXxfUO",
        "outputId": "617c2143-6385-4cad-d9b6-b50a0a41583a"
      },
      "outputs": [
        {
          "data": {
            "image/png": "[encoded data removed]",
            "text/plain": [
              "<Figure size 864x360 with 1 Axes>"
            ]
          },
          "metadata": {},
          "output_type": "display_data"
        }
      ],
      "source": [
        "plt.figure(figsize=(12, 5))\n",
        "plt.plot(df.groupby('purpose')['debt'].mean(), 'r')\n",
        "plt.title('Распределение наличия кредитных долгов по сегментам, выделенным на основании целей кредита')\n",
        "plt.xlabel('Цель кредита')\n",
        "plt.ylabel('Доля людей с кредитным долгом (%)')\n",
        "plt.show();"
      ]
    },
    {
      "cell_type": "markdown",
      "metadata": {
        "id": "0MXp45bLxfUO"
      },
      "source": [
        "**Наблюдаемая тенденция:**\n",
        "\n",
        "Люди, целью получения кредита которых является недвижимость или свадьба, чаще возвращают кредит в срок."
      ]
    },
    {
      "cell_type": "markdown",
      "metadata": {
        "id": "FpRUeROHxfUO"
      },
      "source": [
        "## Общий вывод"
      ]
    },
    {
      "cell_type": "markdown",
      "metadata": {
        "id": "l6smOFrfxfUO"
      },
      "source": [
        "**На возвращение кредита в срок влияет множество показателей:**\n",
        "\n",
        "**На возвращение кредита в срок влияет множество показателей:**\n",
        "1. Семьи, где отсутствуют дети, чаще возвращают кредит в срок: доля должников среди заемщиков с детьми составляет 0.092095, для заемщиков без детей - 0.075444;\n",
        "2. Вдовы/вдовцы (в скобках здесь и далее указана доля должников - 0.065693), разведенные (0.071130) и женатые/замужние (0.075458) более склонны закрывать кредиты в срок, чем не женатые (0.097509) и живующие в гражданском браке(0.093494);\n",
        "3. Люди с наибольшим ежемесячным доходом реже остальных имеют долги по кредиту (0.069914). В остальных группах доля должников находится примерно на одном уровне: доход выше среднего - 0.086247, средний доход - 0.086713, доход ниже среднего - 0.082751, низкий доход - 0.080168;\n",
        "4. Люди, целью получения кредита которых является недвижимость (0.072347) или свадьба (0.080034), чаще возвращают кредит в срок чем те, кто оставляет заявку с целью приобретения автомобиля (0.093590) или получения образования (0.092200).\n",
        "\n",
        "**Идеальный для банка заемщик обладает следующим набором характеристик:**\n",
        "Дети: отсутствуют;\n",
        "Семейный статус (одно из): вдовы/вдовцы, разведенный(ая), женатый/замужний;\n",
        "Ежемесячный доход: высокий (примерно от 214598.918);\n",
        "Цель кредита (одно из): недвижимость, свадьба\n",
        "\n",
        "***Для максимизации возврата кредитных инвестиций банку при рассмотрений заявок на кредит рекомендуется ориентироваться приемущественно на заемщиков, соответствующих описанным выше характеристикам.***"
      ]
    }
  ],
  "metadata": {
    "kernelspec": {
      "display_name": "Python 3 (ipykernel)",
      "language": "python",
      "name": "python3"
    },
    "language_info": {
      "codemirror_mode": {
        "name": "ipython",
        "version": 3
      },
      "file_extension": ".py",
      "mimetype": "text/x-python",
      "name": "python",
      "nbconvert_exporter": "python",
      "pygments_lexer": "ipython3",
      "version": "3.9.5"
    },
    "toc": {
      "base_numbering": 1,
      "nav_menu": {},
      "number_sections": true,
      "sideBar": true,
      "skip_h1_title": true,
      "title_cell": "Table of Contents",
      "title_sidebar": "Contents",
      "toc_cell": false,
      "toc_position": {},
      "toc_section_display": true,
      "toc_window_display": false
    },
    "colab": {
      "name": "assess_reliability_of_bank_borrowers.ipynb",
      "provenance": [],
      "include_colab_link": true
    }
  },
  "nbformat": 4,
  "nbformat_minor": 0
}
