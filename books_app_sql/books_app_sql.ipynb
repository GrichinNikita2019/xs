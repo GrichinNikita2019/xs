{
  "cells": [
    {
      "cell_type": "markdown",
      "metadata": {
        "id": "view-in-github",
        "colab_type": "text"
      },
      "source": [
        "<a href=\"https://colab.research.google.com/github/GrichinNikita2019/yandex_praktikum_da/blob/main/books_app_sql/books_app_sql.ipynb\" target=\"_parent\"><img src=\"https://colab.research.google.com/assets/colab-badge.svg\" alt=\"Open In Colab\"/></a>"
      ]
    },
    {
      "cell_type": "markdown",
      "metadata": {
        "id": "a-sU8ffJ8ey_"
      },
      "source": [
        "# Анализ информации о книгах, издательствах, авторах, а также о пользовательских обзоров книг\n",
        "\n",
        "**Описание проекта:**\n",
        "\n",
        "Коронавирус застал мир врасплох, изменив привычный порядок вещей. В свободное время жители городов больше не выходят на улицу, не посещают кафе и торговые центры. Зато стало больше времени для книг. Это заметили стартаперы — и бросились создавать приложения для тех, кто любит читать.\n",
        "\n",
        "Ваша компания решила быть на волне и купила крупный сервис для чтения книг по подписке. Ваша первая задача как аналитика — проанализировать базу данных.\n",
        "В ней — информация о книгах, издательствах, авторах, а также пользовательские обзоры книг. Эти данные помогут сформулировать ценностное предложение для нового продукта.\n",
        "\n",
        "**Цель проекта:** проанализировать информацию о книгах, издательствах, авторах, а также о пользовательских обзорах книг\n",
        "\n",
        "\n",
        "**Задачи проекта**:\n",
        "\n",
        "1. Посчитайте, сколько книг вышло после 1 января 2000 года.\n",
        "2. Для каждой книги посчитайте количество обзоров и среднюю оценку.\n",
        "3. Определите издательство, которое выпустило наибольшее число книг толще 50 страниц — так вы исключите из анализа брошюры.\n",
        "4. Определите автора с самой высокой средней оценкой книг — учитывайте только книги с 50 и более оценками.\n",
        "5. Посчитайте среднее количество обзоров от пользователей, которые поставили больше 50 оценок.\n",
        "\n",
        "**План работы:**\n",
        "1. Шаг 1. Исследуйте таблицы — выведите первые строки,\n",
        "2. Шаг 2. Сделайте по одному SQL-запросу для решения каждого задания,\n",
        "3. Шаг 3. Выведите результат каждого запроса в тетрадке,\n",
        "4. Шаг 4. Опишите выводы по каждой из решённых задач.\n",
        "\n",
        "**Описание данных (структура таблицы books):**\n",
        "\n",
        "* book_id — *идентификатор книги*\n",
        "* author_id — *идентификатор автора*\n",
        "* title — *название книги*\n",
        "* num_pages — *количество страниц*\n",
        "* publication_date — *дата публикации книги*\n",
        "* publisher_id — *идентификатор издателя*\n",
        "\n",
        "**Описание данных (структура таблицы authors):**\n",
        "\n",
        "* author_id — *идентификатор автора*\n",
        "* author — *имя автора*\n",
        "\n",
        "**Описание данных (структура таблицы publishers):**\n",
        "\n",
        "* publisher_id — *идентификатор издательства*\n",
        "* publisher — *название издательства*\n",
        "\n",
        "**Описание данных (структура таблицы ratings):**\n",
        "\n",
        "* rating_id — *идентификатор оценки*\n",
        "* book_id — *идентификатор книги*\n",
        "* username — *имя пользователя, оставившего оценку*\n",
        "* rating — *оценка книги*\n",
        "\n",
        "**Описание данных (структура таблицы reviews):**\n",
        "\n",
        "* review_id — *идентификатор обзора*\n",
        "* book_id — *идентификатор книги*\n",
        "* username — *имя пользователя, написавшего обзор*\n",
        "* text — *текст обзора*"
      ]
    },
    {
      "cell_type": "markdown",
      "metadata": {
        "id": "Rn-R5Ppj8ezG"
      },
      "source": [
        "## Импорт библиотек, настройка отображения данных и подключение к базе данных"
      ]
    },
    {
      "cell_type": "code",
      "execution_count": null,
      "metadata": {
        "id": "k_z-YDtO8ezH"
      },
      "outputs": [],
      "source": [
        "import pandas as pd\n",
        "from sqlalchemy import create_engine"
      ]
    },
    {
      "cell_type": "code",
      "execution_count": null,
      "metadata": {
        "id": "ridagMgt8ezJ"
      },
      "outputs": [],
      "source": [
        "pd.options.display.float_format = '{:,.2f}'.format\n",
        "pd.set_option('display.float_format', lambda x: '%.3f' % x)"
      ]
    },
    {
      "cell_type": "code",
      "execution_count": null,
      "metadata": {
        "id": "bNUkfKDT8ezK"
      },
      "outputs": [],
      "source": [
        "db_config = {'user': 'praktikum_student',\n",
        " 'pwd': 'Sdf4$2;d-d30pp',\n",
        " 'host': 'rc1b-wcoijxj3yxfsf3fs.mdb.yandexcloud.net',\n",
        " 'port': 6432,\n",
        " 'db': 'data-analyst-final-project-db'} # название базы данных\n",
        "connection_string = 'postgresql://{}:{}@{}:{}/{}'.format(db_config['user'],\n",
        " db_config['pwd'],\n",
        " db_config['host'],\n",
        " db_config['port'],\n",
        " db_config['db'])\n",
        "engine = create_engine(connection_string, connect_args={'sslmode':'require'}) "
      ]
    },
    {
      "cell_type": "code",
      "execution_count": null,
      "metadata": {
        "id": "ZVfJ-9zK8ezL"
      },
      "outputs": [],
      "source": [
        "def sql_result(query):\n",
        "  return pd.io.sql.read_sql(query, con = engine)"
      ]
    },
    {
      "cell_type": "markdown",
      "metadata": {
        "id": "Z-U6LA5D8ezM"
      },
      "source": [
        "## Проверка данных"
      ]
    },
    {
      "cell_type": "markdown",
      "metadata": {
        "id": "4hm1Cad68ezM"
      },
      "source": [
        "**Задача**:\n",
        "\n",
        "Исследуйте таблицы — выведите первые строки"
      ]
    },
    {
      "cell_type": "markdown",
      "metadata": {
        "id": "jrkIadGY8ezN"
      },
      "source": [
        "Запрос к таблице *books*:"
      ]
    },
    {
      "cell_type": "code",
      "execution_count": null,
      "metadata": {
        "id": "GCHhlaJI8ezO",
        "outputId": "91542386-99f1-43ba-fe8a-e1a616ebc075"
      },
      "outputs": [
        {
          "data": {
            "text/html": [
              "<div>\n",
              "<style scoped>\n",
              "    .dataframe tbody tr th:only-of-type {\n",
              "        vertical-align: middle;\n",
              "    }\n",
              "\n",
              "    .dataframe tbody tr th {\n",
              "        vertical-align: top;\n",
              "    }\n",
              "\n",
              "    .dataframe thead th {\n",
              "        text-align: right;\n",
              "    }\n",
              "</style>\n",
              "<table border=\"1\" class=\"dataframe\">\n",
              "  <thead>\n",
              "    <tr style=\"text-align: right;\">\n",
              "      <th></th>\n",
              "      <th>book_id</th>\n",
              "      <th>author_id</th>\n",
              "      <th>title</th>\n",
              "      <th>num_pages</th>\n",
              "      <th>publication_date</th>\n",
              "      <th>publisher_id</th>\n",
              "    </tr>\n",
              "  </thead>\n",
              "  <tbody>\n",
              "    <tr>\n",
              "      <td>0</td>\n",
              "      <td>1</td>\n",
              "      <td>546</td>\n",
              "      <td>'Salem's Lot</td>\n",
              "      <td>594</td>\n",
              "      <td>2005-11-01</td>\n",
              "      <td>93</td>\n",
              "    </tr>\n",
              "    <tr>\n",
              "      <td>1</td>\n",
              "      <td>2</td>\n",
              "      <td>465</td>\n",
              "      <td>1 000 Places to See Before You Die</td>\n",
              "      <td>992</td>\n",
              "      <td>2003-05-22</td>\n",
              "      <td>336</td>\n",
              "    </tr>\n",
              "    <tr>\n",
              "      <td>2</td>\n",
              "      <td>3</td>\n",
              "      <td>407</td>\n",
              "      <td>13 Little Blue Envelopes (Little Blue Envelope...</td>\n",
              "      <td>322</td>\n",
              "      <td>2010-12-21</td>\n",
              "      <td>135</td>\n",
              "    </tr>\n",
              "    <tr>\n",
              "      <td>3</td>\n",
              "      <td>4</td>\n",
              "      <td>82</td>\n",
              "      <td>1491: New Revelations of the Americas Before C...</td>\n",
              "      <td>541</td>\n",
              "      <td>2006-10-10</td>\n",
              "      <td>309</td>\n",
              "    </tr>\n",
              "    <tr>\n",
              "      <td>4</td>\n",
              "      <td>5</td>\n",
              "      <td>125</td>\n",
              "      <td>1776</td>\n",
              "      <td>386</td>\n",
              "      <td>2006-07-04</td>\n",
              "      <td>268</td>\n",
              "    </tr>\n",
              "  </tbody>\n",
              "</table>\n",
              "</div>"
            ],
            "text/plain": [
              "   book_id  author_id                                              title  \\\n",
              "0        1        546                                       'Salem's Lot   \n",
              "1        2        465                 1 000 Places to See Before You Die   \n",
              "2        3        407  13 Little Blue Envelopes (Little Blue Envelope...   \n",
              "3        4         82  1491: New Revelations of the Americas Before C...   \n",
              "4        5        125                                               1776   \n",
              "\n",
              "   num_pages publication_date  publisher_id  \n",
              "0        594       2005-11-01            93  \n",
              "1        992       2003-05-22           336  \n",
              "2        322       2010-12-21           135  \n",
              "3        541       2006-10-10           309  \n",
              "4        386       2006-07-04           268  "
            ]
          },
          "execution_count": 5,
          "metadata": {},
          "output_type": "execute_result"
        }
      ],
      "source": [
        "query = \\\n",
        "'''\n",
        "select * \n",
        "from books\n",
        "limit 5\n",
        "'''\n",
        "sql_result(query)"
      ]
    },
    {
      "cell_type": "markdown",
      "metadata": {
        "id": "UTUyNQIm8ezQ"
      },
      "source": [
        "Запрос работает корректно."
      ]
    },
    {
      "cell_type": "markdown",
      "metadata": {
        "id": "3_agECay8ezQ"
      },
      "source": [
        "Запрос к таблице *authors*:"
      ]
    },
    {
      "cell_type": "code",
      "execution_count": null,
      "metadata": {
        "id": "NED13ne38ezR",
        "outputId": "bbf06d35-23b8-4ec9-acce-79ac9aedf740"
      },
      "outputs": [
        {
          "data": {
            "text/html": [
              "<div>\n",
              "<style scoped>\n",
              "    .dataframe tbody tr th:only-of-type {\n",
              "        vertical-align: middle;\n",
              "    }\n",
              "\n",
              "    .dataframe tbody tr th {\n",
              "        vertical-align: top;\n",
              "    }\n",
              "\n",
              "    .dataframe thead th {\n",
              "        text-align: right;\n",
              "    }\n",
              "</style>\n",
              "<table border=\"1\" class=\"dataframe\">\n",
              "  <thead>\n",
              "    <tr style=\"text-align: right;\">\n",
              "      <th></th>\n",
              "      <th>author_id</th>\n",
              "      <th>author</th>\n",
              "    </tr>\n",
              "  </thead>\n",
              "  <tbody>\n",
              "    <tr>\n",
              "      <td>0</td>\n",
              "      <td>1</td>\n",
              "      <td>A.S. Byatt</td>\n",
              "    </tr>\n",
              "    <tr>\n",
              "      <td>1</td>\n",
              "      <td>2</td>\n",
              "      <td>Aesop/Laura Harris/Laura Gibbs</td>\n",
              "    </tr>\n",
              "    <tr>\n",
              "      <td>2</td>\n",
              "      <td>3</td>\n",
              "      <td>Agatha Christie</td>\n",
              "    </tr>\n",
              "    <tr>\n",
              "      <td>3</td>\n",
              "      <td>4</td>\n",
              "      <td>Alan Brennert</td>\n",
              "    </tr>\n",
              "    <tr>\n",
              "      <td>4</td>\n",
              "      <td>5</td>\n",
              "      <td>Alan Moore/David   Lloyd</td>\n",
              "    </tr>\n",
              "  </tbody>\n",
              "</table>\n",
              "</div>"
            ],
            "text/plain": [
              "   author_id                          author\n",
              "0          1                      A.S. Byatt\n",
              "1          2  Aesop/Laura Harris/Laura Gibbs\n",
              "2          3                 Agatha Christie\n",
              "3          4                   Alan Brennert\n",
              "4          5        Alan Moore/David   Lloyd"
            ]
          },
          "execution_count": 6,
          "metadata": {},
          "output_type": "execute_result"
        }
      ],
      "source": [
        "query = \\\n",
        "'''\n",
        "select * \n",
        "from authors\n",
        "limit 5\n",
        "'''\n",
        "sql_result(query)"
      ]
    },
    {
      "cell_type": "markdown",
      "metadata": {
        "id": "ZyzcI9SH8ezR"
      },
      "source": [
        "Запрос работает корректно."
      ]
    },
    {
      "cell_type": "markdown",
      "metadata": {
        "id": "L938p_b48ezS"
      },
      "source": [
        "Запрос к таблице *publishers*:"
      ]
    },
    {
      "cell_type": "code",
      "execution_count": null,
      "metadata": {
        "id": "YXZk-XNo8ezS",
        "outputId": "17078a17-9af6-4f21-de7d-60556b487979"
      },
      "outputs": [
        {
          "data": {
            "text/html": [
              "<div>\n",
              "<style scoped>\n",
              "    .dataframe tbody tr th:only-of-type {\n",
              "        vertical-align: middle;\n",
              "    }\n",
              "\n",
              "    .dataframe tbody tr th {\n",
              "        vertical-align: top;\n",
              "    }\n",
              "\n",
              "    .dataframe thead th {\n",
              "        text-align: right;\n",
              "    }\n",
              "</style>\n",
              "<table border=\"1\" class=\"dataframe\">\n",
              "  <thead>\n",
              "    <tr style=\"text-align: right;\">\n",
              "      <th></th>\n",
              "      <th>publisher_id</th>\n",
              "      <th>publisher</th>\n",
              "    </tr>\n",
              "  </thead>\n",
              "  <tbody>\n",
              "    <tr>\n",
              "      <td>0</td>\n",
              "      <td>1</td>\n",
              "      <td>Ace</td>\n",
              "    </tr>\n",
              "    <tr>\n",
              "      <td>1</td>\n",
              "      <td>2</td>\n",
              "      <td>Ace Book</td>\n",
              "    </tr>\n",
              "    <tr>\n",
              "      <td>2</td>\n",
              "      <td>3</td>\n",
              "      <td>Ace Books</td>\n",
              "    </tr>\n",
              "    <tr>\n",
              "      <td>3</td>\n",
              "      <td>4</td>\n",
              "      <td>Ace Hardcover</td>\n",
              "    </tr>\n",
              "    <tr>\n",
              "      <td>4</td>\n",
              "      <td>5</td>\n",
              "      <td>Addison Wesley Publishing Company</td>\n",
              "    </tr>\n",
              "  </tbody>\n",
              "</table>\n",
              "</div>"
            ],
            "text/plain": [
              "   publisher_id                          publisher\n",
              "0             1                                Ace\n",
              "1             2                           Ace Book\n",
              "2             3                          Ace Books\n",
              "3             4                      Ace Hardcover\n",
              "4             5  Addison Wesley Publishing Company"
            ]
          },
          "execution_count": 7,
          "metadata": {},
          "output_type": "execute_result"
        }
      ],
      "source": [
        "query = \\\n",
        "'''\n",
        "select * \n",
        "from publishers\n",
        "limit 5\n",
        "'''\n",
        "sql_result(query)"
      ]
    },
    {
      "cell_type": "markdown",
      "metadata": {
        "id": "7MRDT2TT8ezT"
      },
      "source": [
        "Запрос работает корректно."
      ]
    },
    {
      "cell_type": "markdown",
      "metadata": {
        "id": "DEs1YXiy8ezT"
      },
      "source": [
        "Запрос к таблице *ratings*:"
      ]
    },
    {
      "cell_type": "code",
      "execution_count": null,
      "metadata": {
        "id": "Jy6JEEHM8ezT",
        "outputId": "ef2da26f-1ab0-4cd9-d368-2ffbca6e3104"
      },
      "outputs": [
        {
          "data": {
            "text/html": [
              "<div>\n",
              "<style scoped>\n",
              "    .dataframe tbody tr th:only-of-type {\n",
              "        vertical-align: middle;\n",
              "    }\n",
              "\n",
              "    .dataframe tbody tr th {\n",
              "        vertical-align: top;\n",
              "    }\n",
              "\n",
              "    .dataframe thead th {\n",
              "        text-align: right;\n",
              "    }\n",
              "</style>\n",
              "<table border=\"1\" class=\"dataframe\">\n",
              "  <thead>\n",
              "    <tr style=\"text-align: right;\">\n",
              "      <th></th>\n",
              "      <th>rating_id</th>\n",
              "      <th>book_id</th>\n",
              "      <th>username</th>\n",
              "      <th>rating</th>\n",
              "    </tr>\n",
              "  </thead>\n",
              "  <tbody>\n",
              "    <tr>\n",
              "      <td>0</td>\n",
              "      <td>1</td>\n",
              "      <td>1</td>\n",
              "      <td>ryanfranco</td>\n",
              "      <td>4</td>\n",
              "    </tr>\n",
              "    <tr>\n",
              "      <td>1</td>\n",
              "      <td>2</td>\n",
              "      <td>1</td>\n",
              "      <td>grantpatricia</td>\n",
              "      <td>2</td>\n",
              "    </tr>\n",
              "    <tr>\n",
              "      <td>2</td>\n",
              "      <td>3</td>\n",
              "      <td>1</td>\n",
              "      <td>brandtandrea</td>\n",
              "      <td>5</td>\n",
              "    </tr>\n",
              "    <tr>\n",
              "      <td>3</td>\n",
              "      <td>4</td>\n",
              "      <td>2</td>\n",
              "      <td>lorichen</td>\n",
              "      <td>3</td>\n",
              "    </tr>\n",
              "    <tr>\n",
              "      <td>4</td>\n",
              "      <td>5</td>\n",
              "      <td>2</td>\n",
              "      <td>mariokeller</td>\n",
              "      <td>2</td>\n",
              "    </tr>\n",
              "  </tbody>\n",
              "</table>\n",
              "</div>"
            ],
            "text/plain": [
              "   rating_id  book_id       username  rating\n",
              "0          1        1     ryanfranco       4\n",
              "1          2        1  grantpatricia       2\n",
              "2          3        1   brandtandrea       5\n",
              "3          4        2       lorichen       3\n",
              "4          5        2    mariokeller       2"
            ]
          },
          "execution_count": 8,
          "metadata": {},
          "output_type": "execute_result"
        }
      ],
      "source": [
        "query = \\\n",
        "'''\n",
        "select * \n",
        "from ratings\n",
        "limit 5\n",
        "'''\n",
        "sql_result(query)"
      ]
    },
    {
      "cell_type": "markdown",
      "metadata": {
        "id": "sZnWZbhR8ezU"
      },
      "source": [
        "Запрос работает корректно."
      ]
    },
    {
      "cell_type": "markdown",
      "metadata": {
        "id": "59X0Hph88ezU"
      },
      "source": [
        "Запрос к таблице *reviews*:"
      ]
    },
    {
      "cell_type": "code",
      "execution_count": null,
      "metadata": {
        "id": "iS_8w5Gb8ezU",
        "outputId": "2bf98e69-e4df-4bbc-a2b8-368a2466f4b9"
      },
      "outputs": [
        {
          "data": {
            "text/html": [
              "<div>\n",
              "<style scoped>\n",
              "    .dataframe tbody tr th:only-of-type {\n",
              "        vertical-align: middle;\n",
              "    }\n",
              "\n",
              "    .dataframe tbody tr th {\n",
              "        vertical-align: top;\n",
              "    }\n",
              "\n",
              "    .dataframe thead th {\n",
              "        text-align: right;\n",
              "    }\n",
              "</style>\n",
              "<table border=\"1\" class=\"dataframe\">\n",
              "  <thead>\n",
              "    <tr style=\"text-align: right;\">\n",
              "      <th></th>\n",
              "      <th>review_id</th>\n",
              "      <th>book_id</th>\n",
              "      <th>username</th>\n",
              "      <th>text</th>\n",
              "    </tr>\n",
              "  </thead>\n",
              "  <tbody>\n",
              "    <tr>\n",
              "      <td>0</td>\n",
              "      <td>1</td>\n",
              "      <td>1</td>\n",
              "      <td>brandtandrea</td>\n",
              "      <td>Mention society tell send professor analysis. ...</td>\n",
              "    </tr>\n",
              "    <tr>\n",
              "      <td>1</td>\n",
              "      <td>2</td>\n",
              "      <td>1</td>\n",
              "      <td>ryanfranco</td>\n",
              "      <td>Foot glass pretty audience hit themselves. Amo...</td>\n",
              "    </tr>\n",
              "    <tr>\n",
              "      <td>2</td>\n",
              "      <td>3</td>\n",
              "      <td>2</td>\n",
              "      <td>lorichen</td>\n",
              "      <td>Listen treat keep worry. Miss husband tax but ...</td>\n",
              "    </tr>\n",
              "    <tr>\n",
              "      <td>3</td>\n",
              "      <td>4</td>\n",
              "      <td>3</td>\n",
              "      <td>johnsonamanda</td>\n",
              "      <td>Finally month interesting blue could nature cu...</td>\n",
              "    </tr>\n",
              "    <tr>\n",
              "      <td>4</td>\n",
              "      <td>5</td>\n",
              "      <td>3</td>\n",
              "      <td>scotttamara</td>\n",
              "      <td>Nation purpose heavy give wait song will. List...</td>\n",
              "    </tr>\n",
              "  </tbody>\n",
              "</table>\n",
              "</div>"
            ],
            "text/plain": [
              "   review_id  book_id       username  \\\n",
              "0          1        1   brandtandrea   \n",
              "1          2        1     ryanfranco   \n",
              "2          3        2       lorichen   \n",
              "3          4        3  johnsonamanda   \n",
              "4          5        3    scotttamara   \n",
              "\n",
              "                                                text  \n",
              "0  Mention society tell send professor analysis. ...  \n",
              "1  Foot glass pretty audience hit themselves. Amo...  \n",
              "2  Listen treat keep worry. Miss husband tax but ...  \n",
              "3  Finally month interesting blue could nature cu...  \n",
              "4  Nation purpose heavy give wait song will. List...  "
            ]
          },
          "execution_count": 9,
          "metadata": {},
          "output_type": "execute_result"
        }
      ],
      "source": [
        "query = \\\n",
        "'''\n",
        "select * \n",
        "from reviews\n",
        "limit 5\n",
        "'''\n",
        "sql_result(query)"
      ]
    },
    {
      "cell_type": "markdown",
      "metadata": {
        "id": "Y61aYa6h8ezV"
      },
      "source": [
        "Запрос работает корректно."
      ]
    },
    {
      "cell_type": "markdown",
      "metadata": {
        "id": "JBXa1kIg8ezV"
      },
      "source": [
        "## Исследовательский анализ данных"
      ]
    },
    {
      "cell_type": "markdown",
      "metadata": {
        "id": "Q0-uEAKI8ezV"
      },
      "source": [
        "**Задания**:\n",
        "\n",
        "- Посчитайте, сколько книг вышло после 1 января 2000 года;\n",
        "- Для каждой книги посчитайте количество обзоров и среднюю оценку;\n",
        "- Определите издательство, которое выпустило наибольшее число книг толще 50 страниц — так вы исключите из анализа брошюры;\n",
        "- Определите автора с самой высокой средней оценкой книг — учитывайте только книги с 50 и более оценками;\n",
        "- Посчитайте среднее количество обзоров от пользователей, которые поставили больше 50 оценок."
      ]
    },
    {
      "cell_type": "markdown",
      "metadata": {
        "id": "6VF8Gy5G8ezW"
      },
      "source": [
        "**Задача 1**:\n",
        "\n",
        "Посчитайте, сколько книг вышло после 1 января 2000 года"
      ]
    },
    {
      "cell_type": "code",
      "execution_count": null,
      "metadata": {
        "id": "YA6AdtKp8ezW",
        "outputId": "52de53e5-7b2d-4db2-c3fb-eb5b47f8a84e"
      },
      "outputs": [
        {
          "name": "stdout",
          "output_type": "stream",
          "text": [
            "С 1 января 200 года вышло 819 книг\n"
          ]
        }
      ],
      "source": [
        "query = \\\n",
        "'''\n",
        "select count (book_id) as count_of_books\n",
        "from books\n",
        "where publication_date > '2000-01-01'\n",
        "'''\n",
        "count_of_books = sql_result(query)\n",
        "print(\"С 1 января 200 года вышло {} книг\".format(int(count_of_books.iloc[0])))"
      ]
    },
    {
      "cell_type": "markdown",
      "metadata": {
        "id": "OEDjXhRo8ezW"
      },
      "source": [
        "**Задача 2**:\n",
        "\n",
        "Для каждой книги посчитайте количество обзоров и среднюю оценку"
      ]
    },
    {
      "cell_type": "code",
      "execution_count": null,
      "metadata": {
        "id": "eTjRzmlN8ezX",
        "outputId": "1c610217-6c3d-4e6e-dab6-6da9459bec01"
      },
      "outputs": [
        {
          "name": "stdout",
          "output_type": "stream",
          "text": [
            "Количество обзоров и средняя оценка представена в таблице:\n"
          ]
        },
        {
          "data": {
            "text/html": [
              "<div>\n",
              "<style scoped>\n",
              "    .dataframe tbody tr th:only-of-type {\n",
              "        vertical-align: middle;\n",
              "    }\n",
              "\n",
              "    .dataframe tbody tr th {\n",
              "        vertical-align: top;\n",
              "    }\n",
              "\n",
              "    .dataframe thead th {\n",
              "        text-align: right;\n",
              "    }\n",
              "</style>\n",
              "<table border=\"1\" class=\"dataframe\">\n",
              "  <thead>\n",
              "    <tr style=\"text-align: right;\">\n",
              "      <th></th>\n",
              "      <th>title</th>\n",
              "      <th>count_review</th>\n",
              "      <th>avg_rating</th>\n",
              "    </tr>\n",
              "  </thead>\n",
              "  <tbody>\n",
              "    <tr>\n",
              "      <td>0</td>\n",
              "      <td>Twilight (Twilight  #1)</td>\n",
              "      <td>7</td>\n",
              "      <td>3.663</td>\n",
              "    </tr>\n",
              "    <tr>\n",
              "      <td>1</td>\n",
              "      <td>The Hobbit  or There and Back Again</td>\n",
              "      <td>6</td>\n",
              "      <td>4.125</td>\n",
              "    </tr>\n",
              "    <tr>\n",
              "      <td>2</td>\n",
              "      <td>The Catcher in the Rye</td>\n",
              "      <td>6</td>\n",
              "      <td>3.826</td>\n",
              "    </tr>\n",
              "    <tr>\n",
              "      <td>3</td>\n",
              "      <td>Harry Potter and the Prisoner of Azkaban (Harr...</td>\n",
              "      <td>6</td>\n",
              "      <td>4.415</td>\n",
              "    </tr>\n",
              "    <tr>\n",
              "      <td>4</td>\n",
              "      <td>Harry Potter and the Chamber of Secrets (Harry...</td>\n",
              "      <td>6</td>\n",
              "      <td>4.287</td>\n",
              "    </tr>\n",
              "    <tr>\n",
              "      <td>...</td>\n",
              "      <td>...</td>\n",
              "      <td>...</td>\n",
              "      <td>...</td>\n",
              "    </tr>\n",
              "    <tr>\n",
              "      <td>994</td>\n",
              "      <td>Disney's Beauty and the Beast (A Little Golden...</td>\n",
              "      <td>0</td>\n",
              "      <td>4.000</td>\n",
              "    </tr>\n",
              "    <tr>\n",
              "      <td>995</td>\n",
              "      <td>Essential Tales and Poems</td>\n",
              "      <td>0</td>\n",
              "      <td>4.000</td>\n",
              "    </tr>\n",
              "    <tr>\n",
              "      <td>996</td>\n",
              "      <td>Leonardo's Notebooks</td>\n",
              "      <td>0</td>\n",
              "      <td>4.000</td>\n",
              "    </tr>\n",
              "    <tr>\n",
              "      <td>997</td>\n",
              "      <td>The Natural Way to Draw</td>\n",
              "      <td>0</td>\n",
              "      <td>3.000</td>\n",
              "    </tr>\n",
              "    <tr>\n",
              "      <td>998</td>\n",
              "      <td>The Cat in the Hat and Other Dr. Seuss Favorites</td>\n",
              "      <td>0</td>\n",
              "      <td>5.000</td>\n",
              "    </tr>\n",
              "  </tbody>\n",
              "</table>\n",
              "<p>999 rows × 3 columns</p>\n",
              "</div>"
            ],
            "text/plain": [
              "                                                 title  count_review  \\\n",
              "0                              Twilight (Twilight  #1)             7   \n",
              "1                  The Hobbit  or There and Back Again             6   \n",
              "2                               The Catcher in the Rye             6   \n",
              "3    Harry Potter and the Prisoner of Azkaban (Harr...             6   \n",
              "4    Harry Potter and the Chamber of Secrets (Harry...             6   \n",
              "..                                                 ...           ...   \n",
              "994  Disney's Beauty and the Beast (A Little Golden...             0   \n",
              "995                          Essential Tales and Poems             0   \n",
              "996                               Leonardo's Notebooks             0   \n",
              "997                            The Natural Way to Draw             0   \n",
              "998   The Cat in the Hat and Other Dr. Seuss Favorites             0   \n",
              "\n",
              "     avg_rating  \n",
              "0         3.663  \n",
              "1         4.125  \n",
              "2         3.826  \n",
              "3         4.415  \n",
              "4         4.287  \n",
              "..          ...  \n",
              "994       4.000  \n",
              "995       4.000  \n",
              "996       4.000  \n",
              "997       3.000  \n",
              "998       5.000  \n",
              "\n",
              "[999 rows x 3 columns]"
            ]
          },
          "execution_count": 11,
          "metadata": {},
          "output_type": "execute_result"
        }
      ],
      "source": [
        "query = \\\n",
        "'''\n",
        "select books.title,\n",
        "       count (distinct review_id) as count_review,\n",
        "       avg(rating) AS avg_rating\n",
        "from books\n",
        "left join reviews on reviews.book_id = books.book_id\n",
        "left join ratings on ratings.book_id = books.book_id\n",
        "group by books.title\n",
        "order by count(reviews.review_id) desc\n",
        "'''\n",
        "print(\"Количество обзоров и средняя оценка представена в таблице:\")\n",
        "sql_result(query)"
      ]
    },
    {
      "cell_type": "markdown",
      "metadata": {
        "id": "0RvFX9dC8ezX"
      },
      "source": [
        "Топ-5 позиций по количеству отзывов занимают книги:\n",
        "  - Twilight: 7 отзывов\n",
        "  - The Hobbit or There and Back Again: 6 отзывов\n",
        "  - The Catcher in the Rye: 6 отзывов\n",
        "  - Harry Potter and the Prisoner of Azkaban: 6 отзывов\n",
        "  - Harry Potter and the Chamber of Secrets: 6 отзывов"
      ]
    },
    {
      "cell_type": "markdown",
      "metadata": {
        "id": "q16D6KAt8ezX"
      },
      "source": [
        "**Задача 3**:\n",
        "\n",
        "Определите издательство, которое выпустило наибольшее число книг толще 50 страниц — так вы исключите из анализа брошюры"
      ]
    },
    {
      "cell_type": "code",
      "execution_count": null,
      "metadata": {
        "id": "3HTerY8t8ezY",
        "outputId": "25c94f0f-a259-44ff-95bb-73e99979a869"
      },
      "outputs": [
        {
          "name": "stdout",
          "output_type": "stream",
          "text": [
            "Издательство, которое выпустило наибольшее число книг толще 50 страниц: Penguin Books.\n",
            "Оно выпустило 42 книги.\n"
          ]
        }
      ],
      "source": [
        "query = \\\n",
        "'''\n",
        "select publisher,\n",
        "       count (book_id) as count_of_books\n",
        "from books\n",
        "left join publishers on publishers.publisher_id=books.publisher_id\n",
        "where num_pages > 50\n",
        "group by publisher\n",
        "order by count_of_books desc\n",
        "'''\n",
        "count_of_books = sql_result(query)\n",
        "print('''Издательство, которое выпустило наибольшее число книг толще 50 страниц: {}.\n",
        "Оно выпустило {} книги.'''.format(count_of_books['publisher'][0],\n",
        "                                  count_of_books['count_of_books'][0]))"
      ]
    },
    {
      "cell_type": "markdown",
      "metadata": {
        "id": "yre4KWxx8ezY"
      },
      "source": [
        "**Задача 4**:\n",
        "\n",
        "Определите автора с самой высокой средней оценкой книг — учитывайте только книги с 50 и более оценками"
      ]
    },
    {
      "cell_type": "code",
      "execution_count": null,
      "metadata": {
        "id": "z8VNasoq8ezY",
        "outputId": "062b919f-82b9-4c27-86ba-d2841abbe0a0"
      },
      "outputs": [
        {
          "name": "stdout",
          "output_type": "stream",
          "text": [
            "Автор с самой высокой средней оценкой книг: J.K. Rowling/Mary GrandPré.\n",
            "Его средняя оценка 4.288461538461538.\n"
          ]
        }
      ],
      "source": [
        "query = \\\n",
        "'''\n",
        "select author,\n",
        "       sub.avg_rating as avg_rating\n",
        "from\n",
        "(select author,\n",
        "        avg(rating) AS avg_rating\n",
        "from authors\n",
        "left join books on books.author_id = authors.author_id\n",
        "left join ratings on ratings.book_id = books.book_id\n",
        "group by author\n",
        "having count(rating) > 50) AS sub\n",
        "group by author,\n",
        "         avg_rating\n",
        "order by avg_rating desc\n",
        "'''\n",
        "\n",
        "author = sql_result(query)\n",
        "print('''Автор с самой высокой средней оценкой книг: {}.\n",
        "Его средняя оценка {}.'''.format(author['author'][0],\n",
        "                                 author['avg_rating'][0]))"
      ]
    },
    {
      "cell_type": "markdown",
      "metadata": {
        "id": "WL-bbz6O8ezZ"
      },
      "source": [
        "**Задача 5**:\n",
        "\n",
        "Посчитайте среднее количество обзоров от пользователей, которые поставили больше 50 оценок."
      ]
    },
    {
      "cell_type": "code",
      "execution_count": null,
      "metadata": {
        "id": "lT8ntVSx8ezZ",
        "outputId": "8a1bb7c1-c5b7-45fb-b049-48824f08cd59"
      },
      "outputs": [
        {
          "name": "stdout",
          "output_type": "stream",
          "text": [
            "Cреднее количество обзоров от пользователей, которые поставили больше 50 оценок: 24.333333333333332.\n"
          ]
        }
      ],
      "source": [
        "query = \\\n",
        "'''\n",
        "select avg(review_cnt) as avg_review_cnt\n",
        "from\n",
        "(select count(review_id) as review_cnt\n",
        "from reviews\n",
        "where username in\n",
        "(select username\n",
        "from ratings\n",
        "group by username\n",
        "having count(ratings) > 50)\n",
        "group by username) as sub_review_cnt \n",
        "'''\n",
        "avg_review_cnt = sql_result(query)\n",
        "print('''Cреднее количество обзоров от пользователей, которые поставили больше 50 оценок: {}.'''.format(avg_review_cnt['avg_review_cnt'][0]))"
      ]
    },
    {
      "cell_type": "markdown",
      "metadata": {
        "id": "h8WMsqNa8eza"
      },
      "source": [
        "## Основные выводы"
      ]
    },
    {
      "cell_type": "markdown",
      "metadata": {
        "id": "zIqJdfe_8eza"
      },
      "source": [
        "1. С 1 января 200 года вышло 819 книг\n",
        "2. Топ-5 позиций по количеству отзывов занимают книги:\n",
        "  - Twilight: 7 отзывов\n",
        "  - The Hobbit or There and Back Again: 6 отзывов\n",
        "  - The Catcher in the Rye: 6 отзывов\n",
        "  - Harry Potter and the Prisoner of Azkaban: 6 отзывов\n",
        "  - Harry Potter and the Chamber of Secrets: 6 отзывов\n",
        "3. Издательство, которое выпустило наибольшее число книг толще 50 страниц: Penguin Books. Оно выпустило 42 книги.\n",
        "4. Автор с самой высокой средней оценкой книг: J.K. Rowling/Mary GrandPré.\n",
        "Его средняя оценка 4.283844038868471.\n",
        "5. Cреднее количество обзоров от пользователей, которые поставили больше 50 оценок: 24.333333333333332."
      ]
    }
  ],
  "metadata": {
    "ExecuteTimeLog": [
      {
        "duration": 907,
        "start_time": "2022-03-10T11:13:00.380Z"
      },
      {
        "duration": 3,
        "start_time": "2022-03-10T11:13:21.116Z"
      },
      {
        "duration": 154,
        "start_time": "2022-03-10T11:13:51.489Z"
      },
      {
        "duration": 41,
        "start_time": "2022-03-10T11:14:29.689Z"
      },
      {
        "duration": 4,
        "start_time": "2022-03-10T11:15:02.197Z"
      },
      {
        "duration": 219,
        "start_time": "2022-03-10T11:15:57.564Z"
      },
      {
        "duration": 61,
        "start_time": "2022-03-10T11:16:33.341Z"
      },
      {
        "duration": 60,
        "start_time": "2022-03-10T11:17:11.334Z"
      },
      {
        "duration": 61,
        "start_time": "2022-03-10T11:17:45.999Z"
      },
      {
        "duration": 61,
        "start_time": "2022-03-10T11:18:21.667Z"
      },
      {
        "duration": 57,
        "start_time": "2022-03-10T11:19:25.311Z"
      },
      {
        "duration": 101,
        "start_time": "2022-03-10T11:19:48.023Z"
      },
      {
        "duration": 58,
        "start_time": "2022-03-10T11:20:32.537Z"
      },
      {
        "duration": 63,
        "start_time": "2022-03-10T11:21:04.244Z"
      },
      {
        "duration": 59,
        "start_time": "2022-03-10T11:21:36.793Z"
      },
      {
        "duration": 846,
        "start_time": "2022-03-10T15:49:58.059Z"
      },
      {
        "duration": 4,
        "start_time": "2022-03-10T15:50:01.055Z"
      },
      {
        "duration": 55,
        "start_time": "2022-03-10T15:50:02.748Z"
      },
      {
        "duration": 3,
        "start_time": "2022-03-10T15:50:04.731Z"
      },
      {
        "duration": 272,
        "start_time": "2022-03-10T15:50:07.451Z"
      },
      {
        "duration": 75,
        "start_time": "2022-03-10T15:50:10.692Z"
      },
      {
        "duration": 73,
        "start_time": "2022-03-10T15:50:18.720Z"
      },
      {
        "duration": 121,
        "start_time": "2022-03-10T15:51:53.885Z"
      },
      {
        "duration": 72,
        "start_time": "2022-03-10T16:00:54.326Z"
      },
      {
        "duration": 95,
        "start_time": "2022-03-10T16:01:05.990Z"
      },
      {
        "duration": 76,
        "start_time": "2022-03-10T16:01:36.352Z"
      },
      {
        "duration": 74,
        "start_time": "2022-03-10T16:02:48.638Z"
      },
      {
        "duration": 831,
        "start_time": "2022-03-10T17:27:57.976Z"
      },
      {
        "duration": 4,
        "start_time": "2022-03-10T17:27:59.178Z"
      },
      {
        "duration": 54,
        "start_time": "2022-03-10T17:27:59.955Z"
      },
      {
        "duration": 4,
        "start_time": "2022-03-10T17:28:03.213Z"
      },
      {
        "duration": 237,
        "start_time": "2022-03-10T17:28:16.415Z"
      },
      {
        "duration": 68,
        "start_time": "2022-03-10T17:28:19.105Z"
      },
      {
        "duration": 66,
        "start_time": "2022-03-10T17:28:21.288Z"
      },
      {
        "duration": 69,
        "start_time": "2022-03-10T17:28:23.101Z"
      },
      {
        "duration": 72,
        "start_time": "2022-03-10T17:28:24.970Z"
      },
      {
        "duration": 65,
        "start_time": "2022-03-10T17:28:30.298Z"
      },
      {
        "duration": 109,
        "start_time": "2022-03-10T17:28:36.534Z"
      },
      {
        "duration": 63,
        "start_time": "2022-03-10T17:28:43.785Z"
      },
      {
        "duration": 66,
        "start_time": "2022-03-10T17:28:54.782Z"
      },
      {
        "duration": 77,
        "start_time": "2022-03-10T17:30:09.956Z"
      },
      {
        "duration": 682,
        "start_time": "2022-03-10T17:31:52.650Z"
      },
      {
        "duration": 71,
        "start_time": "2022-03-10T17:32:50.208Z"
      },
      {
        "duration": 70,
        "start_time": "2022-03-10T17:33:58.333Z"
      },
      {
        "duration": 72,
        "start_time": "2022-03-10T17:34:13.701Z"
      },
      {
        "duration": 499,
        "start_time": "2022-03-10T17:35:58.687Z"
      },
      {
        "duration": 64,
        "start_time": "2022-03-10T17:36:40.008Z"
      },
      {
        "duration": 70,
        "start_time": "2022-03-10T17:36:55.573Z"
      },
      {
        "duration": 77,
        "start_time": "2022-03-10T17:37:43.948Z"
      },
      {
        "duration": 561,
        "start_time": "2022-03-10T17:40:13.389Z"
      },
      {
        "duration": 72,
        "start_time": "2022-03-10T17:40:36.255Z"
      },
      {
        "duration": 516,
        "start_time": "2022-03-10T17:41:31.828Z"
      },
      {
        "duration": 175,
        "start_time": "2022-03-10T17:42:00.835Z"
      },
      {
        "duration": 115,
        "start_time": "2022-03-10T17:43:01.702Z"
      },
      {
        "duration": 512,
        "start_time": "2022-03-10T17:43:19.088Z"
      },
      {
        "duration": 87,
        "start_time": "2022-03-10T17:43:49.122Z"
      },
      {
        "duration": 540,
        "start_time": "2022-03-10T17:44:34.452Z"
      },
      {
        "duration": 75,
        "start_time": "2022-03-10T17:44:48.617Z"
      },
      {
        "duration": 522,
        "start_time": "2022-03-10T17:45:48.930Z"
      },
      {
        "duration": 78,
        "start_time": "2022-03-10T17:46:16.737Z"
      },
      {
        "duration": 496,
        "start_time": "2022-03-10T17:47:16.556Z"
      },
      {
        "duration": 77,
        "start_time": "2022-03-10T17:47:30.434Z"
      },
      {
        "duration": 523,
        "start_time": "2022-03-10T17:48:33.723Z"
      },
      {
        "duration": 72,
        "start_time": "2022-03-10T17:48:47.245Z"
      },
      {
        "duration": 558,
        "start_time": "2022-03-10T17:50:41.167Z"
      },
      {
        "duration": 556,
        "start_time": "2022-03-10T17:51:13.145Z"
      },
      {
        "duration": 66,
        "start_time": "2022-03-10T17:51:40.952Z"
      },
      {
        "duration": 71,
        "start_time": "2022-03-10T17:51:46.963Z"
      },
      {
        "duration": 115,
        "start_time": "2022-03-10T17:54:33.749Z"
      },
      {
        "duration": 72,
        "start_time": "2022-03-10T17:55:16.545Z"
      },
      {
        "duration": 509,
        "start_time": "2022-03-10T17:55:42.461Z"
      },
      {
        "duration": 513,
        "start_time": "2022-03-10T17:55:58.549Z"
      },
      {
        "duration": 71,
        "start_time": "2022-03-10T17:56:11.226Z"
      },
      {
        "duration": 545,
        "start_time": "2022-03-10T17:57:34.230Z"
      },
      {
        "duration": 510,
        "start_time": "2022-03-10T17:57:49.927Z"
      },
      {
        "duration": 501,
        "start_time": "2022-03-10T17:58:11.718Z"
      },
      {
        "duration": 72,
        "start_time": "2022-03-10T17:58:30.140Z"
      },
      {
        "duration": 487,
        "start_time": "2022-03-10T17:59:12.680Z"
      },
      {
        "duration": 492,
        "start_time": "2022-03-10T17:59:28.146Z"
      },
      {
        "duration": 72,
        "start_time": "2022-03-10T17:59:40.472Z"
      },
      {
        "duration": 70,
        "start_time": "2022-03-10T18:00:23.267Z"
      },
      {
        "duration": 601,
        "start_time": "2022-03-10T18:01:28.403Z"
      },
      {
        "duration": 72,
        "start_time": "2022-03-10T18:01:37.377Z"
      },
      {
        "duration": 512,
        "start_time": "2022-03-10T18:01:58.432Z"
      },
      {
        "duration": 618,
        "start_time": "2022-03-10T18:02:15.623Z"
      },
      {
        "duration": 539,
        "start_time": "2022-03-10T18:02:32.993Z"
      },
      {
        "duration": 505,
        "start_time": "2022-03-10T18:02:56.812Z"
      },
      {
        "duration": 519,
        "start_time": "2022-03-10T18:03:12.494Z"
      },
      {
        "duration": 94,
        "start_time": "2022-03-10T18:03:39.429Z"
      },
      {
        "duration": 544,
        "start_time": "2022-03-10T18:04:16.836Z"
      },
      {
        "duration": 73,
        "start_time": "2022-03-10T18:04:42.236Z"
      },
      {
        "duration": 73,
        "start_time": "2022-03-10T18:05:06.772Z"
      },
      {
        "duration": 71,
        "start_time": "2022-03-10T18:05:51.619Z"
      },
      {
        "duration": 505,
        "start_time": "2022-03-10T18:06:34.448Z"
      },
      {
        "duration": 69,
        "start_time": "2022-03-10T18:07:15.419Z"
      },
      {
        "duration": 65,
        "start_time": "2022-03-10T18:12:07.909Z"
      },
      {
        "duration": 73,
        "start_time": "2022-03-10T18:12:12.677Z"
      },
      {
        "duration": 72,
        "start_time": "2022-03-10T18:16:18.967Z"
      },
      {
        "duration": 83,
        "start_time": "2022-03-10T18:16:32.554Z"
      },
      {
        "duration": 70,
        "start_time": "2022-03-10T18:17:20.759Z"
      },
      {
        "duration": 82,
        "start_time": "2022-03-10T18:17:37.070Z"
      },
      {
        "duration": 70,
        "start_time": "2022-03-10T18:17:56.588Z"
      },
      {
        "duration": 69,
        "start_time": "2022-03-10T18:19:10.768Z"
      },
      {
        "duration": 528,
        "start_time": "2022-03-10T18:21:46.974Z"
      },
      {
        "duration": 69,
        "start_time": "2022-03-10T18:22:08.493Z"
      },
      {
        "duration": 66,
        "start_time": "2022-03-10T18:23:32.839Z"
      },
      {
        "duration": 73,
        "start_time": "2022-03-10T18:24:17.230Z"
      },
      {
        "duration": 791,
        "start_time": "2022-03-10T19:06:52.408Z"
      },
      {
        "duration": 4,
        "start_time": "2022-03-10T19:06:53.955Z"
      },
      {
        "duration": 41,
        "start_time": "2022-03-10T19:06:55.422Z"
      },
      {
        "duration": 3,
        "start_time": "2022-03-10T19:06:57.196Z"
      },
      {
        "duration": 225,
        "start_time": "2022-03-10T19:07:02.810Z"
      }
    ],
    "kernelspec": {
      "display_name": "Python 3 (ipykernel)",
      "language": "python",
      "name": "python3"
    },
    "language_info": {
      "codemirror_mode": {
        "name": "ipython",
        "version": 3
      },
      "file_extension": ".py",
      "mimetype": "text/x-python",
      "name": "python",
      "nbconvert_exporter": "python",
      "pygments_lexer": "ipython3",
      "version": "3.9.7"
    },
    "toc": {
      "base_numbering": 1,
      "nav_menu": {},
      "number_sections": true,
      "sideBar": true,
      "skip_h1_title": true,
      "title_cell": "Table of Contents",
      "title_sidebar": "Contents",
      "toc_cell": false,
      "toc_position": {},
      "toc_section_display": true,
      "toc_window_display": false
    },
    "colab": {
      "name": "books_app_sql.ipynb",
      "provenance": [],
      "include_colab_link": true
    }
  },
  "nbformat": 4,
  "nbformat_minor": 0
}