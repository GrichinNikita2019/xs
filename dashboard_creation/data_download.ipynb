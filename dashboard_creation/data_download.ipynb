{
  "nbformat": 4,
  "nbformat_minor": 0,
  "metadata": {
    "colab": {
      "name": "data_download.ipynb",
      "provenance": [],
      "include_colab_link": true
    },
    "kernelspec": {
      "name": "python3",
      "display_name": "Python 3"
    },
    "language_info": {
      "name": "python"
    }
  },
  "cells": [
    {
      "cell_type": "markdown",
      "metadata": {
        "id": "view-in-github",
        "colab_type": "text"
      },
      "source": [
        "<a href=\"https://colab.research.google.com/github/GrichinNikita2019/yandex_praktikum_da/blob/main/dashboard_creation/data_download.ipynb\" target=\"_parent\"><img src=\"https://colab.research.google.com/assets/colab-badge.svg\" alt=\"Open In Colab\"/></a>"
      ]
    },
    {
      "cell_type": "code",
      "source": [
        "# импортируем библиотеки\n",
        "import pandas as pd\n",
        "from sqlalchemy import create_engine"
      ],
      "metadata": {
        "id": "M0k1mnTm1sdS"
      },
      "execution_count": null,
      "outputs": []
    },
    {
      "cell_type": "code",
      "execution_count": null,
      "metadata": {
        "colab": {
          "base_uri": "https://localhost:8080/"
        },
        "id": "8e1qrQn0aSu9",
        "outputId": "95ebba11-b60d-4cdc-bc64-d83fa1be011c"
      },
      "outputs": [
        {
          "output_type": "stream",
          "name": "stderr",
          "text": [
            "/usr/local/lib/python3.7/dist-packages/psycopg2/__init__.py:144: UserWarning: The psycopg2 wheel package will be renamed from release 2.8; in order to keep installing from binary please use \"pip install psycopg2-binary\" instead. For details see: <http://initd.org/psycopg/docs/install.html#binary-install-from-pypi>.\n",
            "  \"\"\")\n"
          ]
        }
      ],
      "source": [
        "db_config = {'user': 'praktikum_student', # имя пользователя\n",
        "            'pwd': 'Sdf4$2;d-d30pp', # пароль\n",
        "            'host': 'rc1b-wcoijxj3yxfsf3fs.mdb.yandexcloud.net',\n",
        "            'port': 6432, # порт подключения\n",
        "            'db': 'data-analyst-zen-project-db'} # название базы данных\n",
        "\n",
        "connection_string = 'postgresql://{}:{}@{}:{}/{}'.format(db_config['user'],\n",
        "                                                db_config['pwd'],\n",
        "                                                db_config['host'],\n",
        "                                                db_config['port'],\n",
        "                                                db_config['db'])\n",
        "\n",
        "engine = create_engine(connection_string) "
      ]
    },
    {
      "cell_type": "code",
      "source": [
        "query = \"\"\"\n",
        "SELECT *\n",
        "FROM dash_visits\n",
        "\"\"\""
      ],
      "metadata": {
        "id": "zKeRlYR9avrb"
      },
      "execution_count": null,
      "outputs": []
    },
    {
      "cell_type": "code",
      "source": [
        "df = pd.io.sql.read_sql(query, con = engine) "
      ],
      "metadata": {
        "id": "0UIotMqTatUH"
      },
      "execution_count": null,
      "outputs": []
    },
    {
      "cell_type": "code",
      "source": [
        "df.to_csv(\"dash_visits.csv\")"
      ],
      "metadata": {
        "id": "7FZ7JJLVaif1"
      },
      "execution_count": null,
      "outputs": []
    }
  ]
}